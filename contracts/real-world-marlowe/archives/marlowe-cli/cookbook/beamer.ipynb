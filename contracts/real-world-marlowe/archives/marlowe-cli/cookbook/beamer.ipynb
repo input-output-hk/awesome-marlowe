{
 "cells": [
  {
   "cell_type": "markdown",
   "id": "56e9aa89-031a-46f0-b79b-5354b7de4db6",
   "metadata": {},
   "source": [
    "# A Geo-Located Smart Contract Using Cardano Beam and Marlowe\n",
    "\n",
    "\n",
    "**Executive Summary**\n",
    "\n",
    "We present a novel synergy between the Cardano Beam Dapp and the Marlowe Dapp, where Cardano Beam is used to geolocate the role tokens needed for authorization of Marlowe transactions. This enables use cases such as geocaching, scavenger hunts, or token drops that are linked to Marlowe contracts: this melds the geolocation capabilities of Cardano Beam with the contract-logic capabilities of Marlowe.\n",
    "\n",
    "A video that shows this example being run is available [here](https://youtu.be/DmkYen0eaV0).\n",
    "\n",
    "\n",
    "**Tools**\n",
    "\n",
    "- The [Cardano Beam web app](https://cardanobeam.app/) allows geo-placement of Cardano native assets.\n",
    "- The [Cardano Beam Android app](https://play.google.com/store/apps/details?id=com.cardano_beam_native) allows the retrieval of geo-placed Cardano native assets.\n",
    "- The [Eternl wallet](https://eternl.io/app/mainnet/welcome) is a light wallet that has Dapp connectivity compatible with Cardano Beam.\n",
    "- [Ada Handle](https://adahandle.com/) provides an identity for the party allowed to retrieve the geo-placed Cardano native assets.\n",
    "- [Marlowe Playground](https://marlowe-playground-staging.plutus.aws.iohkdev.io/) allows one to design a Marlowe Contract.\n",
    "- [Marlowe CLI](https://github.com/input-output-hk/marlowe-cardano/blob/bwbush/mainnet/marlowe-cli/ReadMe.md) allows running Marlowe contracts on the blockchain.\n",
    "- [Cardano CLI](https://github.com/input-output-hk/cardano-node/blob/master/cardano-cli/README.md) supports querying the blockchain.\n",
    "\n",
    "\n",
    "**Parties**\n",
    "\n",
    "- The `FAUCET` party creates the Marlowe contract and funds it.\n",
    "- The `BEAMER` party collects the role tokens for the contract and use them to redeem the funds.\n",
    "\n",
    "\n",
    "**Scenario**\n",
    "\n",
    "The `FAUCET` party geographically distributes Cardano native tokens that the `BEAMER` party can redeem for Ada after they have collected the tokens using Cardano Beam and used them to redeem the Ada using a Marlowe smart contract.\n",
    "\n",
    "1. Using [Marlowe Playground](https://marlowe-playground-staging.plutus.aws.iohkdev.io/), the `FAUCET` party designs a Marlowe contract that requires three tokens (`Globe`, `Swan`, and `BearGarden`) to authorize the removal of the 75 Ada previously deposited in the contract.\n",
    "2. Using [Cardano Beam web app](https://cardanobeam.app/), the `FAUCET` party places the three tokens at different geographic locations, with the requirement that they can only be picked up by the holder of the `c.marlowe` [Ada Handle](https://adahandle.com/) token.\n",
    "3. Using [Marlowe CLI](https://github.com/input-output-hk/marlowe-cardano/blob/bwbush/mainnet/marlowe-cli/ReadMe.md), the `FAUCET` party creates the Marlowe contract and deposits the 75 Ada in it.\n",
    "4. The `FAUCET` party communicates the contract information to the `BEAMER` party. This can be an on-chain or an off-chain communication of the transaction ID that created the Marlowe contract.\n",
    "5. The `BEAMER` party travels to the three geographic locations where the tokens were placed and uses their `c.marlowe` token with the [Cardano Beam Android app](https://play.google.com/store/apps/details?id=com.cardano_beam_native) to retrieve them into their [Eternl wallet](https://eternl.io/app/mainnet/welcome).\n",
    "6. The `BEAMER` party uses their newfound tokens to authorize Marlowe transactions that deposit the 75 Ada in their wallet."
   ]
  },
  {
   "cell_type": "markdown",
   "id": "0f3b91e8-0a81-48ca-b32f-d38e36edb9df",
   "metadata": {},
   "source": [
    "## A Few Preliminaries"
   ]
  },
  {
   "cell_type": "markdown",
   "id": "07632f33-635a-4f4c-be9e-0233ba9130ac",
   "metadata": {},
   "source": [
    "Use the `marlowe-cli` compiled for `mainnet`."
   ]
  },
  {
   "cell_type": "code",
   "execution_count": 1,
   "id": "e1032df9-81f3-4124-9935-5794872eee8c",
   "metadata": {},
   "outputs": [
    {
     "name": "stdout",
     "output_type": "stream",
     "text": [
      "bwbush/mainnet\n"
     ]
    }
   ],
   "source": [
    "git symbolic-ref --short HEAD"
   ]
  },
  {
   "cell_type": "code",
   "execution_count": 2,
   "id": "91a62167-6ae4-495d-9ea8-b250df4194c1",
   "metadata": {},
   "outputs": [
    {
     "name": "stdout",
     "output_type": "stream",
     "text": [
      "marlowe-cli 0.0.9.0 «mainnet»\n"
     ]
    }
   ],
   "source": [
    "marlowe-cli --version"
   ]
  },
  {
   "cell_type": "markdown",
   "id": "325a1837-e970-43d1-9f9f-c2bf441f8b73",
   "metadata": {},
   "source": [
    "Record other versions numbers."
   ]
  },
  {
   "cell_type": "code",
   "execution_count": 3,
   "id": "bce57e26-b72e-4703-93e3-72acfb2e2c97",
   "metadata": {},
   "outputs": [
    {
     "name": "stdout",
     "output_type": "stream",
     "text": [
      "cardano-cli 1.35.3 - linux-x86_64 - ghc-8.10\n",
      "git rev 0000000000000000000000000000000000000000\n"
     ]
    }
   ],
   "source": [
    "cardano-cli --version"
   ]
  },
  {
   "cell_type": "code",
   "execution_count": 4,
   "id": "8a7555e3-853d-4a8b-9d49-8a5001c2359f",
   "metadata": {},
   "outputs": [
    {
     "name": "stdout",
     "output_type": "stream",
     "text": [
      "9a9a2c4bc54ba57f02905b9499a4339d775cf68e\n"
     ]
    }
   ],
   "source": [
    "git rev-parse HEAD"
   ]
  },
  {
   "cell_type": "markdown",
   "id": "52389899-13e7-49dd-b29d-efa7cb9cfc28",
   "metadata": {},
   "source": [
    "Select the network."
   ]
  },
  {
   "cell_type": "code",
   "execution_count": 5,
   "id": "e2769ffc-0d96-41b9-8cf9-5284b4ef1540",
   "metadata": {},
   "outputs": [],
   "source": [
    "MAGIC=(--mainnet)"
   ]
  },
  {
   "cell_type": "code",
   "execution_count": 6,
   "id": "c366f3bc-a369-4208-815a-e9f6664fee95",
   "metadata": {},
   "outputs": [],
   "source": [
    "export CARDANO_NODE_SOCKET_PATH=node.socket"
   ]
  },
  {
   "cell_type": "markdown",
   "id": "43972ed2-dbb2-4dec-a8a7-f7842108882a",
   "metadata": {},
   "source": [
    "Set the locations of signing keys."
   ]
  },
  {
   "cell_type": "code",
   "execution_count": 7,
   "id": "acd90158-de4f-42ff-a73a-60de40cb88da",
   "metadata": {},
   "outputs": [],
   "source": [
    "export TREASURY=treasury"
   ]
  },
  {
   "cell_type": "markdown",
   "id": "8110461e-b2cb-4403-86d7-1ea1958e815b",
   "metadata": {},
   "source": [
    "Select the faucet."
   ]
  },
  {
   "cell_type": "code",
   "execution_count": 8,
   "id": "2bdce3bf-91c7-4ea6-ad7f-e28e0396e1b3",
   "metadata": {},
   "outputs": [
    {
     "name": "stdout",
     "output_type": "stream",
     "text": [
      "addr1vy9prvx8ufwutkwxx9cmmuuajaqmjqwujqlp9d8pvg6gupceql82h\n"
     ]
    }
   ],
   "source": [
    "FAUCET_SKEY=\"$TREASURY/payment.skey\"\n",
    "FAUCET_ADDR=\"$(cat $TREASURY/payment.mainnet.address)\"\n",
    "echo \"$FAUCET_ADDR\""
   ]
  },
  {
   "cell_type": "markdown",
   "id": "7293376a-7fc6-4a12-91f1-eb226872b0c3",
   "metadata": {},
   "source": [
    "Set a few constant parameters."
   ]
  },
  {
   "cell_type": "code",
   "execution_count": 9,
   "id": "7d952693-300e-4cda-996d-80bfdf9e62a3",
   "metadata": {},
   "outputs": [],
   "source": [
    "ADA=1000000"
   ]
  },
  {
   "cell_type": "code",
   "execution_count": 10,
   "id": "d42ee585-cfdd-4b72-8885-45cb20f97d55",
   "metadata": {},
   "outputs": [],
   "source": [
    "SECOND=1000\n",
    "MINUTE=\"$((60 * SECOND))\"\n",
    "HOUR=\"$((60 * MINUTE))\"\n",
    "DAY=\"$((24 * HOUR))\""
   ]
  },
  {
   "cell_type": "code",
   "execution_count": 11,
   "id": "1dacf480-65e6-496e-b29e-5676a890fc70",
   "metadata": {},
   "outputs": [
    {
     "name": "stdout",
     "output_type": "stream",
     "text": [
      "1665331649000\n"
     ]
    }
   ],
   "source": [
    "NOW=$(($(date -u +%s) * SECOND))\n",
    "echo \"$NOW\""
   ]
  },
  {
   "cell_type": "markdown",
   "id": "d26b2100-c545-4c27-b236-e13105fd4189",
   "metadata": {},
   "source": [
    "## The Contract\n",
    "\n",
    "The contract will receive a deposit of 75 Ada from the `FAUCET` party and disperse 25 Ada each to the holder(s) of the `Globe`, `Swan`, and `BearGarden` role tokens, but only after the dispersement has been authorized by the holder of each role token (via their making a Marlowe `Choice`). We build the contract in [Marlowe Playground](https://marlowe-playground-staging.plutus.aws.iohkdev.io/) and using the `Send to Simulator` and `Download as JSON` buttons download the contract.\n",
    "\n",
    "![The Beamer Reward contract in Blockly.](beamer.png)"
   ]
  },
  {
   "cell_type": "markdown",
   "id": "f91e4584-aa83-4259-8292-f3ecf5c91943",
   "metadata": {},
   "source": [
    "### Create the contract"
   ]
  },
  {
   "cell_type": "markdown",
   "id": "47cd1ac2-70bb-49b5-b7eb-58c0d4782c99",
   "metadata": {},
   "source": [
    "Set the amount of Ada to be distributed."
   ]
  },
  {
   "cell_type": "code",
   "execution_count": 12,
   "id": "0b6bcbb0-d054-4f0d-89ca-e3e91a9e3b07",
   "metadata": {},
   "outputs": [],
   "source": [
    "DEPOSIT=\"$((75 * ADA))\""
   ]
  },
  {
   "cell_type": "markdown",
   "id": "fb32ac5a-03d7-4dca-b965-81a2eec06a3e",
   "metadata": {},
   "source": [
    "Set the names of the roles required to unlock the funds."
   ]
  },
  {
   "cell_type": "code",
   "execution_count": 13,
   "id": "5fff9c37-716a-41d0-a92a-aca7a9731c71",
   "metadata": {},
   "outputs": [],
   "source": [
    "TOKEN_1=Globe\n",
    "TOKEN_2=Swan\n",
    "TOKEN_3=BearGarden"
   ]
  },
  {
   "cell_type": "markdown",
   "id": "af93745f-40f7-4c2a-ad20-5182ef5452c5",
   "metadata": {},
   "source": [
    "Create the contract. This is essentialy the same as the JSON downloaded from the Playground, but it is convenient to insert variable names such as the faucet address and the current time into the contract."
   ]
  },
  {
   "cell_type": "code",
   "execution_count": 14,
   "id": "69de0f32-fd81-41a2-a2fb-fdf23e2e3693",
   "metadata": {},
   "outputs": [
    {
     "name": "stdout",
     "output_type": "stream",
     "text": [
      "{\"timeout\":1665936449000,\"timeout_continuation\":\"close\",\"when\":[{\"case\":{\"deposits\":75000000,\"into_account\":{\"address\":\"addr1vy9prvx8ufwutkwxx9cmmuuajaqmjqwujqlp9d8pvg6gupceql82h\"},\"of_token\":{\"currency_symbol\":\"\",\"token_name\":\"\"},\"party\":{\"address\":\"addr1vy9prvx8ufwutkwxx9cmmuuajaqmjqwujqlp9d8pvg6gupceql82h\"}},\"then\":{\"timeout\":1665936450000,\"timeout_continuation\":\"close\",\"when\":[{\"case\":{\"choose_between\":[{\"from\":0,\"to\":0}],\"for_choice\":{\"choice_name\":\"Found Globe Token\",\"choice_owner\":{\"role_token\":\"Globe\"}}},\"then\":{\"timeout\":1665936451000,\"timeout_continuation\":\"close\",\"when\":[{\"case\":{\"choose_between\":[{\"from\":0,\"to\":0}],\"for_choice\":{\"choice_name\":\"Found Swan Token\",\"choice_owner\":{\"role_token\":\"Swan\"}}},\"then\":{\"timeout\":1665936452000,\"timeout_continuation\":\"close\",\"when\":[{\"case\":{\"choose_between\":[{\"from\":0,\"to\":0}],\"for_choice\":{\"choice_name\":\"Found BearGarden Token\",\"choice_owner\":{\"role_token\":\"BearGarden\"}}},\"then\":{\"from_account\":{\"address\":\"addr1vy9prvx8ufwutkwxx9cmmuuajaqmjqwujqlp9d8pvg6gupceql82h\"},\"pay\":25000000,\"then\":{\"from_account\":{\"address\":\"addr1vy9prvx8ufwutkwxx9cmmuuajaqmjqwujqlp9d8pvg6gupceql82h\"},\"pay\":25000000,\"then\":{\"from_account\":{\"address\":\"addr1vy9prvx8ufwutkwxx9cmmuuajaqmjqwujqlp9d8pvg6gupceql82h\"},\"pay\":25000000,\"then\":\"close\",\"to\":{\"party\":{\"role_token\":\"BearGarden\"}},\"token\":{\"currency_symbol\":\"\",\"token_name\":\"\"}},\"to\":{\"party\":{\"role_token\":\"Swan\"}},\"token\":{\"currency_symbol\":\"\",\"token_name\":\"\"}},\"to\":{\"party\":{\"role_token\":\"Globe\"}},\"token\":{\"currency_symbol\":\"\",\"token_name\":\"\"}}}]}}]}}]}}]}\n"
     ]
    }
   ],
   "source": [
    "yaml2json << EOI > beamer-1.contract\n",
    "when:\n",
    "- case:\n",
    "    party: {\"address\" : \"$FAUCET_ADDR\"}\n",
    "    deposits: $DEPOSIT\n",
    "    of_token: {\"currency_symbol\" : \"\", \"token_name\" : \"\"}\n",
    "    into_account: {\"address\" : \"$FAUCET_ADDR\"}\n",
    "  then:\n",
    "    when:\n",
    "    - case:\n",
    "        choose_between: [{\"from\" : 0, \"to\" : 0}]\n",
    "        for_choice:\n",
    "          choice_name: Found $TOKEN_1 Token\n",
    "          choice_owner: {\"role_token\" : \"$TOKEN_1\"}\n",
    "      then:\n",
    "        when:\n",
    "        - case:\n",
    "            choose_between: [{\"from\" : 0, \"to\" : 0}]\n",
    "            for_choice:\n",
    "              choice_name: Found $TOKEN_2 Token\n",
    "              choice_owner: {\"role_token\" : \"$TOKEN_2\"}\n",
    "          then:\n",
    "            when:\n",
    "            - case:\n",
    "                choose_between: [{\"from\" : 0, \"to\" : 0}]\n",
    "                for_choice:\n",
    "                  choice_name: Found $TOKEN_3 Token\n",
    "                  choice_owner: {\"role_token\" : \"$TOKEN_3\"}\n",
    "              then:\n",
    "                pay: $((DEPOSIT / 3))\n",
    "                token: {\"currency_symbol\" : \"\", \"token_name\" : \"\"}\n",
    "                from_account: {\"address\" : \"$FAUCET_ADDR\"}\n",
    "                to: {\"party\" : {\"role_token\" : \"$TOKEN_1\"}}\n",
    "                then:\n",
    "                  pay: $((DEPOSIT / 3))\n",
    "                  token: {\"currency_symbol\" : \"\", \"token_name\" : \"\"}\n",
    "                  from_account: {\"address\" : \"$FAUCET_ADDR\"}\n",
    "                  to: {\"party\" : {\"role_token\" : \"$TOKEN_2\"}}\n",
    "                  then:\n",
    "                    pay: $((DEPOSIT / 3))\n",
    "                    token: {\"currency_symbol\" : \"\", \"token_name\" : \"\"}\n",
    "                    from_account: {\"address\" : \"$FAUCET_ADDR\"}\n",
    "                    to: {\"party\" : {\"role_token\" : \"$TOKEN_3\"}}\n",
    "                    then: close\n",
    "            timeout: $((NOW + 7 * DAY + 3 * SECOND))\n",
    "            timeout_continuation: close\n",
    "        timeout: $((NOW + 7 * DAY + 2 * SECOND))\n",
    "        timeout_continuation: close\n",
    "    timeout: $((NOW + 7 * DAY + 1 * SECOND))\n",
    "    timeout_continuation: close\n",
    "timeout: $((NOW + 7 * DAY))\n",
    "timeout_continuation: close\n",
    "EOI\n",
    "cat beamer-1.contract"
   ]
  },
  {
   "cell_type": "markdown",
   "id": "1074ca8f-2d8d-4e06-b88b-4aeb9fec3fde",
   "metadata": {},
   "source": [
    "Set the initial state so that the contract has sufficient minimum UTxO."
   ]
  },
  {
   "cell_type": "code",
   "execution_count": 15,
   "id": "3bd73736-13f0-4a79-aee9-b03795b4e291",
   "metadata": {},
   "outputs": [
    {
     "name": "stdout",
     "output_type": "stream",
     "text": [
      "{\"accounts\":[[[{\"address\":\"addr1vy9prvx8ufwutkwxx9cmmuuajaqmjqwujqlp9d8pvg6gupceql82h\"},{\"currency_symbol\":\"\",\"token_name\":\"\"}],2000000]],\"boundValues\":[],\"choices\":[],\"minTime\":1}\n"
     ]
    }
   ],
   "source": [
    "yaml2json << EOI > beamer-1.state\n",
    "accounts:\n",
    "- - - address: $FAUCET_ADDR\n",
    "    - currency_symbol: ''\n",
    "      token_name: ''\n",
    "  - 2000000\n",
    "boundValues: []\n",
    "choices: []\n",
    "minTime: 1\n",
    "EOI\n",
    "cat beamer-1.state"
   ]
  },
  {
   "cell_type": "markdown",
   "id": "79f70ab1-6d97-4073-b6e1-b67571acfbe2",
   "metadata": {},
   "source": [
    "## Select the Role Tokens\n",
    "\n",
    "The only restriction on role tokens for a Marlowe contract is that they must all have the same Policy ID (or, equivalently, the same Currency Symbol). We have previously minted the three role tokens that we'll be using in this example."
   ]
  },
  {
   "cell_type": "code",
   "execution_count": 16,
   "id": "1a8a62bc-0d08-4412-b722-ea2563080c76",
   "metadata": {},
   "outputs": [],
   "source": [
    "ROLES_CURRENCY=8bb3b343d8e404472337966a722150048c768d0a92a9813596c5338d"
   ]
  },
  {
   "cell_type": "markdown",
   "id": "24ebabc3-3d3e-49a0-ae9b-1983b869c30d",
   "metadata": {},
   "source": [
    "The tokens are in an [Eternl wallet](https://eternl.io/app/mainnet/welcome), ready for use."
   ]
  },
  {
   "cell_type": "markdown",
   "id": "60be4370-415b-4800-8aae-90ccc366cedc",
   "metadata": {},
   "source": [
    "Note that `cardano-cli query utxo` prints token names in hexadecimal. Here is the correspondence between text and hexadecimal for the three tokens."
   ]
  },
  {
   "cell_type": "code",
   "execution_count": 17,
   "id": "a3e1d243-178d-44b4-b2b2-cc5d564e6bdc",
   "metadata": {},
   "outputs": [
    {
     "name": "stdout",
     "output_type": "stream",
     "text": [
      "Globe = 476c6f6265\n",
      "Swan = 5377616e\n",
      "BearGarden = 4265617247617264656e\n"
     ]
    }
   ],
   "source": [
    "for t in \"$TOKEN_1\" \"$TOKEN_2\" \"$TOKEN_3\"\n",
    "do\n",
    "  echo \"$t = $(echo -n $t | basenc --base16 | tr '[:upper:]' '[:lower:]')\"\n",
    "done"
   ]
  },
  {
   "cell_type": "markdown",
   "id": "b52a660a-24c5-4121-9e01-b0ea3f070855",
   "metadata": {},
   "source": [
    "### `Globe` Token\n",
    "\n",
    "![`Globe` token](beamer-globe.png)"
   ]
  },
  {
   "cell_type": "markdown",
   "id": "57f5c859-2a78-43b6-ab20-dcdb1ed9717f",
   "metadata": {},
   "source": [
    "### `Swan` Token\n",
    "\n",
    "![`Swan` token](beamer-swan.png)"
   ]
  },
  {
   "cell_type": "markdown",
   "id": "e8b7dafb-b99f-4f67-9b97-51696b2bf591",
   "metadata": {},
   "source": [
    "### `BearGarden` Token\n",
    "\n",
    "![`BearGarden` token](beamer-beargarden.png)"
   ]
  },
  {
   "cell_type": "markdown",
   "id": "95fa11f7-3db2-4b11-94b2-611c55ec2cf4",
   "metadata": {},
   "source": [
    "## Select the Ada Handle Allowed to Retrieve the Role Tokens\n",
    "\n",
    "In this scenario, we require that the [`$c.marlowe` Ada Handle](https://handle.me/c.marlowe) be present in the wallet associated with the [Cardano Beam Android app](https://play.google.com/store/apps/details?id=com.cardano_beam_native) in order for the wallet to pick up the geolocated role tokens. Other scenarios differing from this example might use a different, more commonly available token to be required to retrieve the assets.\n",
    "\n",
    "![`$c.marlowe` Ada Handle](beamer-marlowe.png)"
   ]
  },
  {
   "cell_type": "markdown",
   "id": "964c33d1-3fb6-4914-9995-2e52c434ca96",
   "metadata": {},
   "source": [
    "Currently, all [Ada Handle](https://adahandle.com/) tokens use the same policy ID."
   ]
  },
  {
   "cell_type": "code",
   "execution_count": 18,
   "id": "1bd3e05b-d869-4b01-b3d8-37e44f0293b8",
   "metadata": {},
   "outputs": [],
   "source": [
    "HANDLE_POLICY=f0ff48bbb7bbe9d59a40f1ce90e9e9d0ff5002ec48f232b49ca0fb9a"
   ]
  },
  {
   "cell_type": "markdown",
   "id": "0bd356d3-65e3-4bce-bbf5-f38ae2280720",
   "metadata": {},
   "source": [
    "The token name for the [`$c.marlowe` Ada Handle](https://handle.me/c.marlowe) handle is simply `c.marlowe`."
   ]
  },
  {
   "cell_type": "code",
   "execution_count": 19,
   "id": "53f332b7-fec8-425c-8fd1-4b9d58d44c76",
   "metadata": {},
   "outputs": [],
   "source": [
    "HANDLE_NAME=c.marlowe"
   ]
  },
  {
   "cell_type": "markdown",
   "id": "0f2b6ea7-a128-4bc0-94b7-d3c25138626c",
   "metadata": {},
   "source": [
    "Recall that `cardano-cli query utxo` prints token names in hexadecimal."
   ]
  },
  {
   "cell_type": "code",
   "execution_count": 20,
   "id": "ea53797b-0804-40da-8057-9f2f2b5e6a31",
   "metadata": {},
   "outputs": [
    {
     "name": "stdout",
     "output_type": "stream",
     "text": [
      "c.marlowe = 632e6d61726c6f7765\n"
     ]
    }
   ],
   "source": [
    "echo \"$HANDLE_NAME = $(echo -n $HANDLE_NAME | basenc --base16 | tr '[:upper:]' '[:lower:]')\""
   ]
  },
  {
   "cell_type": "markdown",
   "id": "59aaab20-a932-4ab7-8dab-6936221901bf",
   "metadata": {},
   "source": [
    "## Geographically Place the Role Tokens\n",
    "\n",
    "We use the [Cardano Beam web app](https://cardanobeam.app/) to place the three role tokens so that only the `$c.marlowe` Ada handle can retrieve them. This involves entering the policy ID `HANDLE_POLICY` in \"Token PolicyID\" field of the \"2a. Required Token\" section and `HANDLE_NAME` in the \"Token Name\" field there. In the \"3. Rewards\" section, select the role token to be deposited in the \"Asset from wallet\" field. Pressing \"Submit\" will open [Eternl wallet](https://eternl.io/app/mainnet/welcome) for signing the transaction that deposits the role token."
   ]
  },
  {
   "cell_type": "markdown",
   "id": "1c6e8472-4714-4ca3-90e2-becc3d212074",
   "metadata": {},
   "source": [
    "### Place the `Globe` Role Token in Boulder\n",
    "\n",
    "![Token placement in Boulder](beamer-map.png)\n",
    "![`Globe` role token in Boulder](beamer-boulder.png)"
   ]
  },
  {
   "cell_type": "code",
   "execution_count": 21,
   "id": "16f057b9-50d3-46eb-aaf9-5a52eeef9b24",
   "metadata": {},
   "outputs": [],
   "source": [
    "TOKEN_1_ADDR=addr1wxsh083ywy3mag59ex7klhgzadcznqk4mymmcacap5zd03q752jy3\n",
    "TOKEN_1_COORD=(regard assume lively)"
   ]
  },
  {
   "cell_type": "markdown",
   "id": "73310685-9fac-47a7-ae9c-64d255882957",
   "metadata": {},
   "source": [
    "See that the token does indeed reside at the Cardano Beam contract address."
   ]
  },
  {
   "cell_type": "code",
   "execution_count": 22,
   "id": "74a14658-aa12-4827-801f-d1f1b9790ef3",
   "metadata": {},
   "outputs": [
    {
     "name": "stdout",
     "output_type": "stream",
     "text": [
      "                           TxHash                                 TxIx        Amount\n",
      "--------------------------------------------------------------------------------------\n",
      "b5dbc440a57134bf2f54af733d73b37eefd30254c4cd400f688fccf655a7e744     0        5000000 lovelace + 1 8bb3b343d8e404472337966a722150048c768d0a92a9813596c5338d.476c6f6265 + TxOutDatumHash ScriptDataInBabbageEra \"b68f588e7eefa288509de240b38b66d1265e4f2aa5282c9141d954070751b939\"\n"
     ]
    }
   ],
   "source": [
    "cardano-cli query utxo \"${MAGIC[@]}\" --address \"$TOKEN_1_ADDR\""
   ]
  },
  {
   "cell_type": "markdown",
   "id": "ab754819-c347-4dcb-9ce7-8fb6d1504d91",
   "metadata": {},
   "source": [
    "### Place the `Swan` Role Token in Arvada\n",
    "\n",
    "![`Swan` role token in Arvada](beamer-arvada.png)"
   ]
  },
  {
   "cell_type": "code",
   "execution_count": 23,
   "id": "45557763-05e1-4fe2-9822-895136858331",
   "metadata": {},
   "outputs": [],
   "source": [
    "TOKEN_2_ADDR=addr1w9nys0k6zj2lq259wq3fnak726sur6jce9gfpmc67gr8qngpuu2js\n",
    "TOKEN_2_COORD=(wake union gladiators)"
   ]
  },
  {
   "cell_type": "markdown",
   "id": "d1fb9cbc-6a1e-4b11-b63e-5aa7a919e964",
   "metadata": {},
   "source": [
    "See that the token does indeed reside at the Cardano Beam contract address."
   ]
  },
  {
   "cell_type": "code",
   "execution_count": 24,
   "id": "8469e72f-4acd-4fba-9808-f6a5bb6543e2",
   "metadata": {},
   "outputs": [
    {
     "name": "stdout",
     "output_type": "stream",
     "text": [
      "                           TxHash                                 TxIx        Amount\n",
      "--------------------------------------------------------------------------------------\n",
      "7128d1ce9828728c3515ee4cd1c20702b8db7da61546ef5f644231f423921f0b     0        5000000 lovelace + 1 8bb3b343d8e404472337966a722150048c768d0a92a9813596c5338d.5377616e + TxOutDatumHash ScriptDataInBabbageEra \"8fc63dca90904e66dc92f26c9ebdfca26249956b32ed632d260b4048221b06dd\"\n"
     ]
    }
   ],
   "source": [
    "cardano-cli query utxo \"${MAGIC[@]}\" --address \"$TOKEN_2_ADDR\""
   ]
  },
  {
   "cell_type": "markdown",
   "id": "0fe79a59-aa3b-40cb-ae83-d336b5736e2a",
   "metadata": {},
   "source": [
    "### Place the `BearGarden` Role Token in Longmont\n",
    "\n",
    "![`BearGarden` role token in Longmont](beamer-longmont.png)"
   ]
  },
  {
   "cell_type": "code",
   "execution_count": 25,
   "id": "7dda0062-d68b-41c0-89fe-8674f8d68983",
   "metadata": {},
   "outputs": [],
   "source": [
    "TOKEN_3_ADDR=addr1w8cw66gmzkwngck8scrknx3r5e2zm0h89k8g7wyncnmj60gp0dgm3\n",
    "TOKEN_3_COORD=(belong rising humid)"
   ]
  },
  {
   "cell_type": "markdown",
   "id": "f314d9f4-16ff-4f13-97a2-cddca1f76400",
   "metadata": {},
   "source": [
    "See that the token does indeed reside at the Cardano Beam contract address."
   ]
  },
  {
   "cell_type": "code",
   "execution_count": 26,
   "id": "d7ffc031-fc15-4c74-9032-a68059df5a4f",
   "metadata": {},
   "outputs": [
    {
     "name": "stdout",
     "output_type": "stream",
     "text": [
      "                           TxHash                                 TxIx        Amount\n",
      "--------------------------------------------------------------------------------------\n",
      "ebdcd3a1eb5511a05807547c830ad93eeb026949678b28763943ec58a260fd50     0        5000000 lovelace + 1 8bb3b343d8e404472337966a722150048c768d0a92a9813596c5338d.4265617247617264656e + TxOutDatumHash ScriptDataInBabbageEra \"89b01c5bc0b3871b68ccaf1cef99b4059b9049632102000a75d9a64f6f81de8b\"\n"
     ]
    }
   ],
   "source": [
    "cardano-cli query utxo \"${MAGIC[@]}\" --address \"$TOKEN_3_ADDR\""
   ]
  },
  {
   "cell_type": "markdown",
   "id": "0bb94a96-f3e6-4266-a14d-f37cd0e6b0de",
   "metadata": {},
   "source": [
    "## Transaction 1. Create the Marlowe Contract"
   ]
  },
  {
   "cell_type": "markdown",
   "id": "72bfb560-2ede-4ee2-afbb-0757a73bd2bf",
   "metadata": {},
   "source": [
    "The `FAUCET` party creates the contract."
   ]
  },
  {
   "cell_type": "code",
   "execution_count": 27,
   "id": "b678ff70-1127-4974-8709-aa1cbe0396b9",
   "metadata": {},
   "outputs": [
    {
     "name": "stdout",
     "output_type": "stream",
     "text": [
      "\n",
      "Validator size: 12505\n",
      "Base-validator cost: ExBudget {exBudgetCPU = ExCPU 18515100, exBudgetMemory = ExMemory 80600}\n"
     ]
    }
   ],
   "source": [
    "marlowe-cli run initialize \"${MAGIC[@]}\" \\\n",
    "                           --roles-currency \"$ROLES_CURRENCY\" \\\n",
    "                           --contract-file beamer-1.contract \\\n",
    "                           --state-file    beamer-1.state    \\\n",
    "                           --out-file      beamer-1.marlowe  \\\n",
    "                           --print-stats"
   ]
  },
  {
   "cell_type": "markdown",
   "id": "afa8a770-0d21-4b5d-b855-8c94577c1f6c",
   "metadata": {},
   "source": [
    "Submit the transaction."
   ]
  },
  {
   "cell_type": "code",
   "execution_count": 28,
   "id": "396d5ff5-a6b6-4283-9e84-f19e04fbec18",
   "metadata": {},
   "outputs": [
    {
     "name": "stdout",
     "output_type": "stream",
     "text": [
      "\n",
      "Fee: Lovelace 213549\n",
      "Size: 976 / 16384 = 5%\n",
      "Execution units:\n",
      "  Memory: 0 / 14000000 = 0%\n",
      "  Steps: 0 / 10000000000 = 0%\n",
      "TX_1 = 7dbacd750b478f74ce08e57e36c411913d613f8f45e8366690fe4b4911e61ada\n"
     ]
    }
   ],
   "source": [
    "TX_1=$(\n",
    "marlowe-cli run auto-execute \"${MAGIC[@]}\" \\\n",
    "                             --marlowe-out-file beamer-1.marlowe \\\n",
    "                             --required-signer \"$FAUCET_SKEY\" \\\n",
    "                             --change-address \"$FAUCET_ADDR\" \\\n",
    "                             --out-file /dev/null \\\n",
    "                             --submit 600 \\\n",
    "                             --print-stats \\\n",
    ")\n",
    "echo \"TX_1 = $TX_1\""
   ]
  },
  {
   "cell_type": "markdown",
   "id": "59c93b8f-6345-4ac4-b16e-121c718d01c9",
   "metadata": {},
   "source": [
    "View the UTxO at the Marlowe semantics validator address."
   ]
  },
  {
   "cell_type": "code",
   "execution_count": 29,
   "id": "8f405ffa-6e47-4ed5-8f3b-e445f2143b10",
   "metadata": {},
   "outputs": [
    {
     "name": "stdout",
     "output_type": "stream",
     "text": [
      "addr1w94f8ywk4fg672xasahtk4t9k6w3aql943uxz5rt62d4dvq8evxaf\n"
     ]
    }
   ],
   "source": [
    "MARLOWE_ADDR=$(jq -r '.tx.marloweValidator.address' beamer-1.marlowe)\n",
    "echo \"$MARLOWE_ADDR\""
   ]
  },
  {
   "cell_type": "code",
   "execution_count": 30,
   "id": "a2b220dd-26b3-4add-80cd-6398ce6e2d6b",
   "metadata": {},
   "outputs": [
    {
     "name": "stdout",
     "output_type": "stream",
     "text": [
      "                           TxHash                                 TxIx        Amount\n",
      "--------------------------------------------------------------------------------------\n",
      "7dbacd750b478f74ce08e57e36c411913d613f8f45e8366690fe4b4911e61ada     1        2000000 lovelace + TxOutDatumHash ScriptDataInBabbageEra \"67d28c9d40cefbc7f35577c8b4d4f14bd040f9b65e28412666693bbc4761cb6d\"\n"
     ]
    }
   ],
   "source": [
    "cardano-cli query utxo \"${MAGIC[@]}\" --address \"$MARLOWE_ADDR\" | sed -n -e \"1,2p;/^$TX_1/p\""
   ]
  },
  {
   "cell_type": "markdown",
   "id": "72ebeb1c-2e7c-499c-9f3c-435ed96c6db7",
   "metadata": {},
   "source": [
    "## Transaction 2. Deposit the Funds"
   ]
  },
  {
   "cell_type": "markdown",
   "id": "28c5e449-d788-4305-add5-297b4c01bc78",
   "metadata": {},
   "source": [
    "The `FAUCET` party deposits the 75 Ada into the contract."
   ]
  },
  {
   "cell_type": "code",
   "execution_count": 31,
   "id": "bf68ebd0-a5db-4377-9094-7a0554fb26ba",
   "metadata": {},
   "outputs": [
    {
     "name": "stdout",
     "output_type": "stream",
     "text": [
      "\n",
      "Datum size: 575\n"
     ]
    }
   ],
   "source": [
    "marlowe-cli run prepare --marlowe-file beamer-1.marlowe \\\n",
    "                        --out-file     beamer-2.marlowe \\\n",
    "                        --deposit-account \"$FAUCET_ADDR\" \\\n",
    "                        --deposit-party \"$FAUCET_ADDR\" \\\n",
    "                        --deposit-amount \"$DEPOSIT\" \\\n",
    "                        --invalid-before \"$((NOW - 5 * MINUTE))\" \\\n",
    "                        --invalid-hereafter \"$((NOW + 20 * MINUTE))\" \\\n",
    "                        --print-stats"
   ]
  },
  {
   "cell_type": "markdown",
   "id": "7cd8489d-6b0f-414c-8b40-997067d3d286",
   "metadata": {},
   "source": [
    "Submit the transaction."
   ]
  },
  {
   "cell_type": "code",
   "execution_count": 32,
   "id": "fd9c6e19-af38-4b51-b2c3-3730e23db863",
   "metadata": {},
   "outputs": [
    {
     "name": "stdout",
     "output_type": "stream",
     "text": [
      "\n",
      "Fee: Lovelace 1163551\n",
      "Size: 14238 / 16384 = 86%\n",
      "Execution units:\n",
      "  Memory: 4712588 / 14000000 = 33%\n",
      "  Steps: 1310258360 / 10000000000 = 13%\n",
      "TX_2 = 5e2f47ac5b2911b5e260b7dabba9975c4b6b585ee9a28269518fcc840f6db3a3\n"
     ]
    }
   ],
   "source": [
    "TX_2=$(\n",
    "marlowe-cli run auto-execute \"${MAGIC[@]}\" \\\n",
    "                             --tx-in-marlowe \"$TX_1#1\" \\\n",
    "                             --marlowe-in-file  beamer-1.marlowe \\\n",
    "                             --marlowe-out-file beamer-2.marlowe \\\n",
    "                             --required-signer \"$FAUCET_SKEY\" \\\n",
    "                             --change-address \"$FAUCET_ADDR\" \\\n",
    "                             --out-file /dev/null \\\n",
    "                             --submit 600 \\\n",
    "                             --print-stats \\\n",
    ")\n",
    "echo \"TX_2 = $TX_2\""
   ]
  },
  {
   "cell_type": "markdown",
   "id": "2b23b675-9492-4b65-b0af-21ffef898417",
   "metadata": {},
   "source": [
    "View the UTxO with the deposit at the Marlowe semantics validator address."
   ]
  },
  {
   "cell_type": "code",
   "execution_count": 33,
   "id": "3495f423-7142-43ff-a42b-2b9ce1501d2f",
   "metadata": {},
   "outputs": [
    {
     "name": "stdout",
     "output_type": "stream",
     "text": [
      "                           TxHash                                 TxIx        Amount\n",
      "--------------------------------------------------------------------------------------\n",
      "5e2f47ac5b2911b5e260b7dabba9975c4b6b585ee9a28269518fcc840f6db3a3     1        77000000 lovelace + TxOutDatumHash ScriptDataInBabbageEra \"3d20e9633986cc087129a00856cfc8cb8ada0bff78192e3edc9c98aa9f3f56a5\"\n"
     ]
    }
   ],
   "source": [
    "cardano-cli query utxo \"${MAGIC[@]}\" --address \"$MARLOWE_ADDR\" | sed -n -e \"1,2p;/^$TX_2/p\""
   ]
  },
  {
   "cell_type": "markdown",
   "id": "b9301505-032e-4bbe-b64e-5af1950347dc",
   "metadata": {},
   "source": [
    "## The `BEAMER` Party Travels to Retrieve the Role Tokens"
   ]
  },
  {
   "cell_type": "markdown",
   "id": "6d723d47-a4d7-48e5-aab8-f7f2df4aa26e",
   "metadata": {},
   "source": [
    "The `BEAMER` party uses the [Cardano Beam Android app](https://play.google.com/store/apps/details?id=com.cardano_beam_native) to navigate to and retrieve each role token.\n",
    "\n",
    "|   |   |\n",
    "|---|---|\n",
    "| ![Map on Beamer Android app](beamer-android.jpg) | ![Retrieval dialog box on Beamer Android app](beamer-retrieve.jpg) |"
   ]
  },
  {
   "cell_type": "markdown",
   "id": "67ce9447-5826-4af0-9756-17e08e89b1fd",
   "metadata": {},
   "source": [
    "In this example, the `BEAMER` party is using the following wallet address."
   ]
  },
  {
   "cell_type": "code",
   "execution_count": 34,
   "id": "762e67e6-5d74-4f35-8c10-2b04e79c290a",
   "metadata": {},
   "outputs": [
    {
     "name": "stdout",
     "output_type": "stream",
     "text": [
      "addr1q95e9feu4hkp4qwvgqasq02na05z3eg33zzjquf2d86e6qzznwng4gtlladnxm7d486psa003jy6dv230t82rvv3pflqeuzzt2\n"
     ]
    }
   ],
   "source": [
    "BEAMER_SKEY=\"$TREASURY/nami.payment-0.skey\"\n",
    "BEAMER_ADDR=\"$(cat $TREASURY/nami.payment-0.mainnet.address)\"\n",
    "echo \"$BEAMER_ADDR\""
   ]
  },
  {
   "cell_type": "markdown",
   "id": "1877e303-9795-448c-9584-a1961ca6bf64",
   "metadata": {},
   "source": [
    "Note that they have the `$c.marlowe` handle in their wallet."
   ]
  },
  {
   "cell_type": "code",
   "execution_count": 35,
   "id": "9fdccb26-37af-43bb-9dc1-2a9aa5957f83",
   "metadata": {},
   "outputs": [
    {
     "name": "stdout",
     "output_type": "stream",
     "text": [
      "                           TxHash                                 TxIx        Amount\n",
      "--------------------------------------------------------------------------------------\n",
      "ca61162250045d526f9c0bbcbe0d6311e0bab4bf08b782eba16b5844e33ab555     0        1481480 lovelace + 1 f0ff48bbb7bbe9d59a40f1ce90e9e9d0ff5002ec48f232b49ca0fb9a.632e6d61726c6f7765 + TxOutDatumNone\n"
     ]
    }
   ],
   "source": [
    "cardano-cli query utxo \"${MAGIC[@]}\" --address \"$BEAMER_ADDR\" | sed -n -e \"1,2p;/$HANDLE_POLICY/p\""
   ]
  },
  {
   "cell_type": "markdown",
   "id": "baaaeaeb-f348-4665-a1b9-8596a1717edd",
   "metadata": {},
   "source": [
    "### Retrieve the Tokens by Visiting Each Location\n",
    "\n",
    "|   |   |   |\n",
    "|---|---|---|\n",
    "| ![Retrieved first token](beamer-token-1.jpg) | ![Retrieved third token](beamer-token-3.jpg) | ![Retrieved second token](beamer-token-2.jpg) |"
   ]
  },
  {
   "cell_type": "markdown",
   "id": "09356711-c5b3-42fb-9d64-12dd94b2934d",
   "metadata": {},
   "source": [
    "After retrieving the tokens, the `BEAMER` party also has them in their wallet, of course."
   ]
  },
  {
   "cell_type": "code",
   "execution_count": 36,
   "id": "1291465d-d111-46ba-9461-f9eaab0f22cf",
   "metadata": {},
   "outputs": [
    {
     "name": "stdout",
     "output_type": "stream",
     "text": [
      "                           TxHash                                 TxIx        Amount\n",
      "--------------------------------------------------------------------------------------\n",
      "8f0e18e05c53f02c1a0d69e5825a7b9a6f8d6c2df09a6cf52e01b562224c866f     1        1344720 lovelace + 1 8bb3b343d8e404472337966a722150048c768d0a92a9813596c5338d.476c6f6265 + TxOutDatumNone\n",
      "ec2403cff13f8e6cabfa3e96f8dd0384d948dbc1c7239e413eb7aaa22b2ba11a     0        1379200 lovelace + 1 8bb3b343d8e404472337966a722150048c768d0a92a9813596c5338d.4265617247617264656e + TxOutDatumNone\n",
      "f5c946388e3c8523fe707cfff7e962f7fac5cdc2a946ee3534f2dc4d8a797ca1     0        1344720 lovelace + 1 8bb3b343d8e404472337966a722150048c768d0a92a9813596c5338d.5377616e + TxOutDatumNone\n",
      "f5c946388e3c8523fe707cfff7e962f7fac5cdc2a946ee3534f2dc4d8a797ca1     1        1379200 lovelace + 1 f0ff48bbb7bbe9d59a40f1ce90e9e9d0ff5002ec48f232b49ca0fb9a.632e6d61726c6f7765 + TxOutDatumNone\n"
     ]
    }
   ],
   "source": [
    "cardano-cli query utxo \"${MAGIC[@]}\" --address \"$BEAMER_ADDR\" | sed -n -e \"1,2p;/$HANDLE_POLICY/p;/$ROLES_CURRENCY/p\""
   ]
  },
  {
   "cell_type": "markdown",
   "id": "35bdaa0e-b00d-4bb3-878e-8bee6c0602b0",
   "metadata": {},
   "source": [
    "![Role tokens in wallet](beamer-wallet.png)"
   ]
  },
  {
   "cell_type": "markdown",
   "id": "86eb873d-49a5-45ec-9132-cea2488b5bcd",
   "metadata": {},
   "source": [
    "## Transaction 3. Prove Ownership of the First Two Role Tokens\n",
    "\n",
    "In order to avoid exceeding the execution-cost constraints of the Cardano protocol limits, we split our authorization of retrieving funds into two transactions."
   ]
  },
  {
   "cell_type": "code",
   "execution_count": 37,
   "id": "9b8c3f0d-ec50-4577-8fae-5dd0f949cb63",
   "metadata": {},
   "outputs": [
    {
     "name": "stdout",
     "output_type": "stream",
     "text": [
      "1665362546000\n"
     ]
    }
   ],
   "source": [
    "LATER=\"$(($(date -u +%s) * SECOND))\"\n",
    "echo \"$LATER\""
   ]
  },
  {
   "cell_type": "code",
   "execution_count": 38,
   "id": "1f18070d-962f-45f9-944d-e29e9e4faae3",
   "metadata": {},
   "outputs": [
    {
     "name": "stdout",
     "output_type": "stream",
     "text": [
      "\n",
      "Datum size: 509\n"
     ]
    }
   ],
   "source": [
    "marlowe-cli run prepare --marlowe-file beamer-2.marlowe \\\n",
    "                        --out-file     beamer-3.marlowe \\\n",
    "                        --choice-name \"Found $TOKEN_1 Token\" \\\n",
    "                        --choice-number 0 \\\n",
    "                        --choice-party \"$TOKEN_1\" \\\n",
    "                        --choice-name \"Found $TOKEN_2 Token\" \\\n",
    "                        --choice-number 0 \\\n",
    "                        --choice-party \"$TOKEN_2\" \\\n",
    "                        --invalid-before \"$((LATER - 5 * MINUTE))\" \\\n",
    "                        --invalid-hereafter \"$((LATER + 10 * MINUTE))\" \\\n",
    "                        --print-stats"
   ]
  },
  {
   "cell_type": "markdown",
   "id": "41496379-63c9-43c7-a04b-83081ca8a37e",
   "metadata": {},
   "source": [
    "Submit the transaction."
   ]
  },
  {
   "cell_type": "code",
   "execution_count": 39,
   "id": "251e9640-415b-4dde-acdd-29173e82cc12",
   "metadata": {},
   "outputs": [
    {
     "name": "stdout",
     "output_type": "stream",
     "text": [
      "\n",
      "Fee: Lovelace 1568504\n",
      "Size: 14357 / 16384 = 87%\n",
      "Execution units:\n",
      "  Memory: 9831832 / 14000000 = 70%\n",
      "  Steps: 2555369637 / 10000000000 = 25%\n",
      "TX_3 = 036888161252f9324872366d9cf200659c807c7ecbd9c6ce4fdb06df77d2c97e\n"
     ]
    }
   ],
   "source": [
    "TX_3=$(\n",
    "marlowe-cli run auto-execute \"${MAGIC[@]}\" \\\n",
    "                             --tx-in-marlowe \"$TX_2#1\" \\\n",
    "                             --marlowe-in-file  beamer-2.marlowe \\\n",
    "                             --marlowe-out-file beamer-3.marlowe \\\n",
    "                             --required-signer \"$BEAMER_SKEY\" \\\n",
    "                             --change-address \"$BEAMER_ADDR\" \\\n",
    "                             --out-file /dev/null \\\n",
    "                             --submit 600 \\\n",
    "                             --print-stats \\\n",
    ")\n",
    "echo \"TX_3 = $TX_3\""
   ]
  },
  {
   "cell_type": "markdown",
   "id": "30e0b341-5b8c-44a8-b5ae-aa9c2f7ab5c8",
   "metadata": {},
   "source": [
    "The contract state records that the two authorizations have been received."
   ]
  },
  {
   "cell_type": "code",
   "execution_count": 40,
   "id": "225d8984-7036-4a98-a309-1e8c30fe7487",
   "metadata": {},
   "outputs": [
    {
     "name": "stdout",
     "output_type": "stream",
     "text": [
      "accounts:\n",
      "- - - address: addr1vy9prvx8ufwutkwxx9cmmuuajaqmjqwujqlp9d8pvg6gupceql82h\n",
      "    - currency_symbol: ''\n",
      "      token_name: ''\n",
      "  - 77000000\n",
      "boundValues: []\n",
      "choices:\n",
      "- - choice_name: Found Globe Token\n",
      "    choice_owner:\n",
      "      role_token: Globe\n",
      "  - 0\n",
      "- - choice_name: Found Swan Token\n",
      "    choice_owner:\n",
      "      role_token: Swan\n",
      "  - 0\n",
      "minTime: 1665362246000\n"
     ]
    }
   ],
   "source": [
    "jq '.tx.state' beamer-3.marlowe | json2yaml"
   ]
  },
  {
   "cell_type": "markdown",
   "id": "532936d3-5988-4b6d-9c83-8de9ed62e450",
   "metadata": {},
   "source": [
    "## Transaction 4. Prove Ownership of the Third Role Token\n",
    "\n",
    "The authorization with the third role token triggers the payments from the contract and its closure."
   ]
  },
  {
   "cell_type": "code",
   "execution_count": 41,
   "id": "245c962a-7b44-4fe7-bcc6-e0f2a6e6a3df",
   "metadata": {},
   "outputs": [
    {
     "name": "stdout",
     "output_type": "stream",
     "text": [
      "1665362624000\n"
     ]
    }
   ],
   "source": [
    "LATER=\"$(($(date -u +%s) * SECOND))\"\n",
    "echo \"$LATER\""
   ]
  },
  {
   "cell_type": "code",
   "execution_count": 42,
   "id": "d5d1bd99-5645-4632-9419-810c4653390f",
   "metadata": {},
   "outputs": [
    {
     "name": "stdout",
     "output_type": "stream",
     "text": [
      "\n",
      "Datum size: 166\n",
      "Payment 1\n",
      "  Acccount: \"\\\"addr1vy9prvx8ufwutkwxx9cmmuuajaqmjqwujqlp9d8pvg6gupceql82h\\\"\"\n",
      "  Payee: Party \"Globe\"\n",
      "  Ada: Lovelace {getLovelace = 25000000}\n",
      "Payment 2\n",
      "  Acccount: \"\\\"addr1vy9prvx8ufwutkwxx9cmmuuajaqmjqwujqlp9d8pvg6gupceql82h\\\"\"\n",
      "  Payee: Party \"Swan\"\n",
      "  Ada: Lovelace {getLovelace = 25000000}\n",
      "Payment 3\n",
      "  Acccount: \"\\\"addr1vy9prvx8ufwutkwxx9cmmuuajaqmjqwujqlp9d8pvg6gupceql82h\\\"\"\n",
      "  Payee: Party \"BearGarden\"\n",
      "  Ada: Lovelace {getLovelace = 25000000}\n",
      "Payment 4\n",
      "  Acccount: \"\\\"addr1vy9prvx8ufwutkwxx9cmmuuajaqmjqwujqlp9d8pvg6gupceql82h\\\"\"\n",
      "  Payee: Party \"\\\"addr1vy9prvx8ufwutkwxx9cmmuuajaqmjqwujqlp9d8pvg6gupceql82h\\\"\"\n",
      "  Ada: Lovelace {getLovelace = 2000000}\n"
     ]
    }
   ],
   "source": [
    "marlowe-cli run prepare --marlowe-file beamer-3.marlowe \\\n",
    "                        --out-file     beamer-4.marlowe \\\n",
    "                        --choice-name \"Found $TOKEN_3 Token\" \\\n",
    "                        --choice-number 0 \\\n",
    "                        --choice-party \"$TOKEN_3\" \\\n",
    "                        --invalid-before \"$((LATER - 5 * MINUTE))\" \\\n",
    "                        --invalid-hereafter \"$((LATER + 10 * MINUTE))\" \\\n",
    "                        --print-stats"
   ]
  },
  {
   "cell_type": "code",
   "execution_count": 43,
   "id": "45f157f1-00f4-4925-b03b-5be556bb0f73",
   "metadata": {},
   "outputs": [
    {
     "name": "stdout",
     "output_type": "stream",
     "text": [
      "\u001b[0;32m\"close\"\u001b[0m\n"
     ]
    }
   ],
   "source": [
    "jq '.tx.contract' beamer-4.marlowe"
   ]
  },
  {
   "cell_type": "markdown",
   "id": "7189715d-9915-48b0-af66-c0e4cdf2ddf1",
   "metadata": {},
   "source": [
    "Submit the transaction."
   ]
  },
  {
   "cell_type": "code",
   "execution_count": 44,
   "id": "b4b4b273-8b06-4de8-bdd4-4ad7404ef19f",
   "metadata": {},
   "outputs": [
    {
     "name": "stdout",
     "output_type": "stream",
     "text": [
      "\n",
      "Fee: Lovelace 1585628\n",
      "Size: 13897 / 16384 = 84%\n",
      "Execution units:\n",
      "  Memory: 10436882 / 14000000 = 74%\n",
      "  Steps: 2712660004 / 10000000000 = 27%\n",
      "TX_4 = 00a0bc7fe3f6e2a11713119efb7dfff9f7aea9c5e7b37ee2c85e41c4618d68c3\n"
     ]
    }
   ],
   "source": [
    "TX_4=$(\n",
    "marlowe-cli run auto-execute \"${MAGIC[@]}\" \\\n",
    "                             --tx-in-marlowe \"$TX_3#1\" \\\n",
    "                             --marlowe-in-file  beamer-3.marlowe \\\n",
    "                             --marlowe-out-file beamer-4.marlowe \\\n",
    "                             --required-signer \"$BEAMER_SKEY\" \\\n",
    "                             --change-address \"$BEAMER_ADDR\" \\\n",
    "                             --out-file /dev/null \\\n",
    "                             --submit 600 \\\n",
    "                             --print-stats \\\n",
    ")\n",
    "echo \"TX_4 = $TX_4\""
   ]
  },
  {
   "cell_type": "markdown",
   "id": "1d8e47ec-bd12-4e25-8af9-bd3f7e2e2581",
   "metadata": {},
   "source": [
    "The Marlowe semantics validator address no longer has a UTxO for the contract."
   ]
  },
  {
   "cell_type": "code",
   "execution_count": 45,
   "id": "675da5f2-56d5-4933-8f69-f1077a0192ff",
   "metadata": {},
   "outputs": [
    {
     "name": "stdout",
     "output_type": "stream",
     "text": [
      "                           TxHash                                 TxIx        Amount\n",
      "--------------------------------------------------------------------------------------\n"
     ]
    }
   ],
   "source": [
    "cardano-cli query utxo \"${MAGIC[@]}\" --address \"$MARLOWE_ADDR\" | sed -n -e \"1,2p;/^$TX_4/p\""
   ]
  },
  {
   "cell_type": "markdown",
   "id": "89464972-f54f-4e44-bf1f-993378e567f8",
   "metadata": {},
   "source": [
    "The Marlowe payout validator address now holds the funds, waiting for them to be withdrawn."
   ]
  },
  {
   "cell_type": "code",
   "execution_count": 46,
   "id": "e5b9ecc0-cd14-4d97-971c-340d9ab50ea4",
   "metadata": {},
   "outputs": [
    {
     "name": "stdout",
     "output_type": "stream",
     "text": [
      "addr1w9yswm4tyqjrmj2xy5glhx9fe7m3n7rwj6fz3qfekly3mucd3rynq\n"
     ]
    }
   ],
   "source": [
    "PAYOUT_ADDR=\"$(jq -r '.tx.rolesValidator.address' beamer-4.marlowe)\"\n",
    "echo \"$PAYOUT_ADDR\""
   ]
  },
  {
   "cell_type": "code",
   "execution_count": 47,
   "id": "ed13f4b4-0bf6-4ed8-8636-34671802a338",
   "metadata": {},
   "outputs": [
    {
     "name": "stdout",
     "output_type": "stream",
     "text": [
      "                           TxHash                                 TxIx        Amount\n",
      "--------------------------------------------------------------------------------------\n",
      "00a0bc7fe3f6e2a11713119efb7dfff9f7aea9c5e7b37ee2c85e41c4618d68c3     2        25000000 lovelace + TxOutDatumHash ScriptDataInBabbageEra \"89b9a9b5ca08f7f10bdc16d8c8744dd6f7fa60e98bf11cc53eefa5560b440909\"\n",
      "00a0bc7fe3f6e2a11713119efb7dfff9f7aea9c5e7b37ee2c85e41c4618d68c3     3        25000000 lovelace + TxOutDatumHash ScriptDataInBabbageEra \"ebcfe2e8dfff3b71e921c4ca2ba1ab26445a901b1fe1967a5e34531cc282143e\"\n",
      "00a0bc7fe3f6e2a11713119efb7dfff9f7aea9c5e7b37ee2c85e41c4618d68c3     4        25000000 lovelace + TxOutDatumHash ScriptDataInBabbageEra \"1645d37b3c5e795995618259b8dc0a357ac92ca047d0913ac3e6cacbb7172ab3\"\n"
     ]
    }
   ],
   "source": [
    "cardano-cli query utxo \"${MAGIC[@]}\" --address \"$PAYOUT_ADDR\" | sed -n -e \"1,2p;/$TX_4/p\""
   ]
  },
  {
   "cell_type": "markdown",
   "id": "854ee6d1-ad9a-4319-9a97-9894c532dc3d",
   "metadata": {},
   "source": [
    "The `BEAMER` party still has the role tokens in their wallet."
   ]
  },
  {
   "cell_type": "code",
   "execution_count": 48,
   "id": "b214feb9-7070-4b63-beab-cc8fe753624c",
   "metadata": {},
   "outputs": [
    {
     "name": "stdout",
     "output_type": "stream",
     "text": [
      "                           TxHash                                 TxIx        Amount\n",
      "--------------------------------------------------------------------------------------\n",
      "00a0bc7fe3f6e2a11713119efb7dfff9f7aea9c5e7b37ee2c85e41c4618d68c3     5        1172320 lovelace + 1 8bb3b343d8e404472337966a722150048c768d0a92a9813596c5338d.4265617247617264656e + TxOutDatumNone\n",
      "036888161252f9324872366d9cf200659c807c7ecbd9c6ce4fdb06df77d2c97e     2        1150770 lovelace + 1 8bb3b343d8e404472337966a722150048c768d0a92a9813596c5338d.476c6f6265 + TxOutDatumNone\n",
      "036888161252f9324872366d9cf200659c807c7ecbd9c6ce4fdb06df77d2c97e     3        1146460 lovelace + 1 8bb3b343d8e404472337966a722150048c768d0a92a9813596c5338d.5377616e + TxOutDatumNone\n"
     ]
    }
   ],
   "source": [
    "cardano-cli query utxo \"${MAGIC[@]}\" --address \"$BEAMER_ADDR\" | sed -n -e \"1,2p;/$ROLES_CURRENCY/p\""
   ]
  },
  {
   "cell_type": "markdown",
   "id": "e42c7a2c-b60c-4983-a414-df1a6ac88a3a",
   "metadata": {},
   "source": [
    "## Transactions 5-7. Withdraw the Ada from the Payout Address"
   ]
  },
  {
   "cell_type": "markdown",
   "id": "dce4d174-bfa9-4861-8551-1216e04f169f",
   "metadata": {},
   "source": [
    "Now the `BEAMER` party uses their role tokens to withdraw the three payments of 25 Ada from the payout validator."
   ]
  },
  {
   "cell_type": "code",
   "execution_count": 49,
   "id": "a7187829-fdd0-496a-b12c-93fbba8d22bd",
   "metadata": {},
   "outputs": [
    {
     "name": "stdout",
     "output_type": "stream",
     "text": [
      "\n",
      "Fee: Lovelace 457628\n",
      "Size: 3142 / 16384 = 19%\n",
      "Execution units:\n",
      "  Memory: 1841380 / 14000000 = 13%\n",
      "  Steps: 509893779 / 10000000000 = 5%\n",
      "badb8ea25b1183c2710e990e846016e194318e9c26ea8f5b69a0f8925292aa4f\n",
      "\n",
      "Fee: Lovelace 453478\n",
      "Size: 3140 / 16384 = 19%\n",
      "Execution units:\n",
      "  Memory: 1786580 / 14000000 = 12%\n",
      "  Steps: 497408858 / 10000000000 = 4%\n",
      "45f1510d0f395e5661178664f403a8f0b97e65a5b30523f80b341cb42c0ffd1d\n",
      "\n",
      "Fee: Lovelace 454006\n",
      "Size: 3152 / 16384 = 19%\n",
      "Execution units:\n",
      "  Memory: 1786580 / 14000000 = 12%\n",
      "  Steps: 497408982 / 10000000000 = 4%\n",
      "b7c51418b780035d0cfd48b6a6f5bf82f4f12aad551b27567aef4f67dabb046d\n"
     ]
    }
   ],
   "source": [
    "for t in \"$TOKEN_1\" \"$TOKEN_2\" \"$TOKEN_3\"\n",
    "do\n",
    "  marlowe-cli run auto-withdraw \"${MAGIC[@]}\" \\\n",
    "                                --marlowe-file beamer-1.marlowe \\\n",
    "                                --role-name \"$t\" \\\n",
    "                                --required-signer \"$BEAMER_SKEY\" \\\n",
    "                                --change-address \"$BEAMER_ADDR\" \\\n",
    "                                --out-file /dev/null \\\n",
    "                                --submit 600 \\\n",
    "                                --print-stats\n",
    "done"
   ]
  },
  {
   "cell_type": "markdown",
   "id": "972b4d23-6cb1-4a8a-9ce4-341f8f20e2cc",
   "metadata": {},
   "source": [
    "They now have the funds in their wallet."
   ]
  },
  {
   "cell_type": "code",
   "execution_count": 50,
   "id": "f9cd566c-2a50-4f30-86ee-a69b56277427",
   "metadata": {},
   "outputs": [
    {
     "name": "stdout",
     "output_type": "stream",
     "text": [
      "                           TxHash                                 TxIx        Amount\n",
      "--------------------------------------------------------------------------------------\n",
      "45f1510d0f395e5661178664f403a8f0b97e65a5b30523f80b341cb42c0ffd1d     1        25000000 lovelace + 1 8bb3b343d8e404472337966a722150048c768d0a92a9813596c5338d.5377616e + TxOutDatumNone\n",
      "b7c51418b780035d0cfd48b6a6f5bf82f4f12aad551b27567aef4f67dabb046d     1        25000000 lovelace + 1 8bb3b343d8e404472337966a722150048c768d0a92a9813596c5338d.4265617247617264656e + TxOutDatumNone\n",
      "badb8ea25b1183c2710e990e846016e194318e9c26ea8f5b69a0f8925292aa4f     1        25000000 lovelace + 1 8bb3b343d8e404472337966a722150048c768d0a92a9813596c5338d.476c6f6265 + TxOutDatumNone\n"
     ]
    }
   ],
   "source": [
    "cardano-cli query utxo \"${MAGIC[@]}\" --address \"$BEAMER_ADDR\" | sed -n -e \"1,2p;/$ROLES_CURRENCY/p\""
   ]
  }
 ],
 "metadata": {
  "kernelspec": {
   "display_name": "Bash - Marlowe",
   "language": "bash",
   "name": "bash_marlowe"
  },
  "language_info": {
   "codemirror_mode": "shell",
   "file_extension": ".sh",
   "mimetype": "text/x-sh",
   "name": "/nix/store/zwjm0gln1vk7x1akpyz0yxjsd1yc46gi-bash-5.1-p16/bin/bash"
  }
 },
 "nbformat": 4,
 "nbformat_minor": 5
}
