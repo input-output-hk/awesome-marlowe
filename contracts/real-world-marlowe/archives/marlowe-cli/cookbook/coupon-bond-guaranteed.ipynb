{
 "cells": [
  {
   "cell_type": "markdown",
   "id": "9fe57541-bad6-447c-926e-c16dada33ae4",
   "metadata": {},
   "source": [
    "# Coupon-Bond Guaranteed on Mainnet with Reference Scripts"
   ]
  },
  {
   "cell_type": "markdown",
   "id": "03386911-db22-4fcd-aa13-33da23a13a7c",
   "metadata": {},
   "source": [
    "**Executive Summary**\n",
    "\n",
    "This example demonstrates the use of `marlowe-cli` with Plutus V2 reference scripts for the two Marlowe validators on `mainnet`. It is a three-party contract for a guaranteed loan, where a *guarantor* deposits principal plus interest before a *lender* makes the loan to the *borrower*. As the borrower pays principal and/or interest, the guarantor receives the relevant part of their guarantee back while the lender receives the repayment. The total fee (Plutus and non-Plutus) paid in this example is approximately 10 Ada.\n",
    "\n",
    "**Highlights**\n",
    "\n",
    "- Running Marlowe on `mainnet`.\n",
    "- Automatically computing validity intervals for transactions.\n",
    "- Auto-balancing of transactions.\n",
    "- Use of reference scripts for the Marlowe validators.\n",
    "- Compute total fees paid over the course of the transaction.\n",
    "\n",
    "**The Contract**\n",
    "\n",
    "We use the example \"Coupon Bond Guaranteed\" from [Marlowe Playground](https://marlowe-playground-staging.plutus.aws.iohkdev.io/).\n",
    "\n",
    "![Coupon Bond Guaranteed](coupon-bond-guaranteed.png)"
   ]
  },
  {
   "cell_type": "markdown",
   "id": "37bd9c34-24a0-4a73-8782-a2329f741c37",
   "metadata": {},
   "source": [
    "## Preliminaries"
   ]
  },
  {
   "cell_type": "markdown",
   "id": "c672afb0-cfa6-471c-a8e2-c3ee1a0ecdb0",
   "metadata": {},
   "source": [
    "Record version numbers"
   ]
  },
  {
   "cell_type": "code",
   "execution_count": 1,
   "id": "6034a757-8f52-4031-a7bb-1f91b55ad7ad",
   "metadata": {},
   "outputs": [
    {
     "name": "stdout",
     "output_type": "stream",
     "text": [
      "marlowe-cli 0.0.8.6 «mainnet»\n"
     ]
    }
   ],
   "source": [
    "marlowe-cli --version"
   ]
  },
  {
   "cell_type": "code",
   "execution_count": 2,
   "id": "fb8ebe76-1c82-42af-a7d9-35fd9b939219",
   "metadata": {},
   "outputs": [
    {
     "name": "stdout",
     "output_type": "stream",
     "text": [
      "cardano-cli 1.35.3 - linux-x86_64 - ghc-8.10\n",
      "git rev 0000000000000000000000000000000000000000\n"
     ]
    }
   ],
   "source": [
    "cardano-cli --version"
   ]
  },
  {
   "cell_type": "code",
   "execution_count": 3,
   "id": "7d55e8bb-e8e0-4c98-8766-ac5366055958",
   "metadata": {},
   "outputs": [
    {
     "name": "stdout",
     "output_type": "stream",
     "text": [
      "6ac3aced0258ac23aec5e0b19f108df102874f84\n"
     ]
    }
   ],
   "source": [
    "git rev-parse HEAD"
   ]
  },
  {
   "cell_type": "markdown",
   "id": "4cafbb81-3b48-4e82-86c3-3dfb482a4ca2",
   "metadata": {},
   "source": [
    "Set the location of keys."
   ]
  },
  {
   "cell_type": "code",
   "execution_count": 4,
   "id": "1f2a1fbb-3d37-42d8-a7cb-f3e902362729",
   "metadata": {},
   "outputs": [],
   "source": [
    "TREASURY=/extra/iohk/networks/treasury"
   ]
  },
  {
   "cell_type": "markdown",
   "id": "50c56279-34dd-469e-9bed-8843db1a5d0c",
   "metadata": {},
   "source": [
    "### Select Network"
   ]
  },
  {
   "cell_type": "markdown",
   "id": "05f1be68-f551-42c6-8d56-d798b2a4cc43",
   "metadata": {},
   "source": [
    "Use `mainnet` at your own risk, because Marlowe has not yet completed its audit!"
   ]
  },
  {
   "cell_type": "code",
   "execution_count": 5,
   "id": "3c6c24a8-a4df-4f43-8cc3-2982d99b37a2",
   "metadata": {},
   "outputs": [],
   "source": [
    "MAGIC=(--mainnet)"
   ]
  },
  {
   "cell_type": "code",
   "execution_count": 6,
   "id": "2adb9cc5-db79-436e-9598-48eb69a5de1d",
   "metadata": {},
   "outputs": [],
   "source": [
    "export CARDANO_NODE_SOCKET_PATH=/extra/iohk/networks/mainnet/node.socket"
   ]
  },
  {
   "cell_type": "markdown",
   "id": "4098c000-629e-483c-ae60-9a0697ab2b41",
   "metadata": {},
   "source": [
    "### Constants"
   ]
  },
  {
   "cell_type": "code",
   "execution_count": 7,
   "id": "07deccb5-7643-4483-92a8-013f5f198206",
   "metadata": {},
   "outputs": [],
   "source": [
    "ADA=1000000"
   ]
  },
  {
   "cell_type": "code",
   "execution_count": 8,
   "id": "384954cc-d4be-4858-b7f7-afc377c0dafc",
   "metadata": {},
   "outputs": [],
   "source": [
    "SECOND=1000\n",
    "MINUTE=$((60 * SECOND))\n",
    "HOUR=$((60 * MINUTE))\n",
    "DAY=$((24 * HOUR))"
   ]
  },
  {
   "cell_type": "markdown",
   "id": "0b6da92a-c086-49c9-abbb-bc20e48262f3",
   "metadata": {},
   "source": [
    "### Utility Functions"
   ]
  },
  {
   "cell_type": "markdown",
   "id": "dba7a4f7-1bfd-4a12-8e86-812f99c729ed",
   "metadata": {},
   "source": [
    "Fund an address from the faucet."
   ]
  },
  {
   "cell_type": "code",
   "execution_count": 9,
   "id": "b580a470-c208-4049-a6ea-a028b0c92bf1",
   "metadata": {},
   "outputs": [],
   "source": [
    "function faucet {\n",
    "  marlowe-cli util faucet \"${MAGIC[@]}\" \\\n",
    "                          --required-signer \"$FAUCET_SKEY\" \\\n",
    "                          --faucet-address \"$FAUCET_ADDR\" \\\n",
    "                          --lovelace \"$2\" \\\n",
    "                          --out-file /dev/null \\\n",
    "                          --submit 600 \\\n",
    "                          \"$1\"\n",
    "}"
   ]
  },
  {
   "cell_type": "markdown",
   "id": "83d67a40-dec6-412e-967b-e12a88dbab50",
   "metadata": {},
   "source": [
    "Find a UTxO with the specified lovelace."
   ]
  },
  {
   "cell_type": "code",
   "execution_count": 10,
   "id": "0117bda1-c361-46b9-a3bb-d8760a471805",
   "metadata": {},
   "outputs": [],
   "source": [
    "function lovelace-utxo {\n",
    "  marlowe-cli util select \"${MAGIC[@]}\" --lovelace-only \"$2\" \"$1\"\n",
    "}"
   ]
  },
  {
   "cell_type": "markdown",
   "id": "2bc67d0e-faea-4e24-a1b2-0468c83e4a84",
   "metadata": {},
   "source": [
    "Find the UTxO for a role token at an address."
   ]
  },
  {
   "cell_type": "code",
   "execution_count": 11,
   "id": "c121a33c-865e-4b56-b8e1-e64b0200ef7f",
   "metadata": {},
   "outputs": [],
   "source": [
    "function role-token-utxo {\n",
    "  marlowe-cli util select \"${MAGIC[@]}\" --asset-only \"$2\" \"$1\"\n",
    "}"
   ]
  },
  {
   "cell_type": "markdown",
   "id": "95d08ab3-d532-4958-8e18-f294fb0876df",
   "metadata": {},
   "source": [
    "List the UTxOs at the guarantor's address."
   ]
  },
  {
   "cell_type": "code",
   "execution_count": 12,
   "id": "4bd5a02a-5d24-4710-a3d7-bf16f23f9e5c",
   "metadata": {},
   "outputs": [],
   "source": [
    "function query-guarantor {\n",
    "  echo\n",
    "  echo \"UTxOs at the guarantor's address:\"\n",
    "  cardano-cli query utxo \"${MAGIC[@]}\" --address \"$GUARANTOR_ADDR\"\n",
    "}"
   ]
  },
  {
   "cell_type": "markdown",
   "id": "bb79a9bf-52f9-41d4-a79e-5997d024dcd6",
   "metadata": {},
   "source": [
    "List the UTxOs at the lender's address."
   ]
  },
  {
   "cell_type": "code",
   "execution_count": 13,
   "id": "d59aa9d9-41ee-49b4-8395-5998bb3c3bfc",
   "metadata": {},
   "outputs": [],
   "source": [
    "function query-lender {\n",
    "  echo\n",
    "  echo \"UTxOs at the lender's address:\"\n",
    "  cardano-cli query utxo \"${MAGIC[@]}\" --address \"$LENDER_ADDR\"\n",
    "}"
   ]
  },
  {
   "cell_type": "markdown",
   "id": "345f5ad4-a552-461c-a8e2-0cf6d51aad8b",
   "metadata": {},
   "source": [
    "List the UTxOs at the borrower's address."
   ]
  },
  {
   "cell_type": "code",
   "execution_count": 14,
   "id": "f0c5c4ac-6515-438d-b8ab-6361a3a934bc",
   "metadata": {},
   "outputs": [],
   "source": [
    "function query-borrower {\n",
    "  echo\n",
    "  echo \"UTxOs at the borrower's address:\"\n",
    "  cardano-cli query utxo \"${MAGIC[@]}\" --address \"$BORROWER_ADDR\"\n",
    "}"
   ]
  },
  {
   "cell_type": "markdown",
   "id": "892228f6-2b37-4eb7-b536-515b506a8e63",
   "metadata": {},
   "source": [
    "List the UTxOs at the contract address."
   ]
  },
  {
   "cell_type": "code",
   "execution_count": 15,
   "id": "421a0cf4-2617-4a7e-b705-04941cf8f7b8",
   "metadata": {},
   "outputs": [],
   "source": [
    "function query-marlowe {\n",
    "  echo\n",
    "  echo \"UTxOs at the contracts's address:\"\n",
    "  cardano-cli query utxo \"${MAGIC[@]}\" --address \"$(jq -r '.tx.marloweValidator.address' coupon-bond-guaranteed-1.marlowe)\" | sed -n -e \"1,2p;/^$1/p\"\n",
    "}"
   ]
  },
  {
   "cell_type": "markdown",
   "id": "5e0bc6c0-8809-4ee1-90ab-4f34b64dee5a",
   "metadata": {},
   "source": [
    "List the UTxOs at the payout address."
   ]
  },
  {
   "cell_type": "code",
   "execution_count": 16,
   "id": "7c5ae260-96a3-404c-b7cb-a7aee96e75f4",
   "metadata": {},
   "outputs": [],
   "source": [
    "function query-payout {\n",
    "  echo\n",
    "  echo \"UTxOs at the payout address:\"\n",
    "  cardano-cli query utxo \"${MAGIC[@]}\" --address \"$(jq -r '.tx.rolesValidator.address' coupon-bond-guaranteed-1.marlowe)\" | sed -n -e \"1,2p;/^$1/p\"\n",
    "}"
   ]
  },
  {
   "cell_type": "markdown",
   "id": "6c3f5f00-3d59-4477-9066-30d945d4b509",
   "metadata": {},
   "source": [
    "List the UTxOs at the faucet address."
   ]
  },
  {
   "cell_type": "code",
   "execution_count": 17,
   "id": "ccb72796-0bf5-4aee-a1ec-d21d180e2cf2",
   "metadata": {},
   "outputs": [],
   "source": [
    "function query-faucet {\n",
    "  cardano-cli query utxo \"${MAGIC[@]}\" --address \"$FAUCET_ADDR\" --out-file /dev/stdout \\\n",
    "  | jq '. | to_entries | [ .[] | .value.value.lovelace ] | add'\n",
    "}"
   ]
  },
  {
   "cell_type": "markdown",
   "id": "805d0950-225e-4137-aeb5-a08c0d6bfd9c",
   "metadata": {},
   "source": [
    "Compute the start of the validity interval."
   ]
  },
  {
   "cell_type": "code",
   "execution_count": 18,
   "id": "f1497322-8fe4-4964-b164-9584dd41f5f4",
   "metadata": {},
   "outputs": [],
   "source": [
    "function invalid-before {\n",
    "  jq -r .tx.state.minTime \"coupon-bond-guaranteed-$1.marlowe\"\n",
    "}"
   ]
  },
  {
   "cell_type": "markdown",
   "id": "4772a97a-69fc-4905-bf12-19f534afd5cc",
   "metadata": {},
   "source": [
    "Compute an end to the validity interval."
   ]
  },
  {
   "cell_type": "code",
   "execution_count": 19,
   "id": "a4bc23e5-3ab4-4112-af6b-5fc54ca01e48",
   "metadata": {},
   "outputs": [],
   "source": [
    "function invalid-hereafter {\n",
    "  echo \"$(($(date -u +%s) * SECOND + 20 * MINUTE))\"\n",
    "}"
   ]
  },
  {
   "cell_type": "markdown",
   "id": "5247bea0-df4f-4112-9ac8-685849a94311",
   "metadata": {},
   "source": [
    "Show the accounts internal to the contract."
   ]
  },
  {
   "cell_type": "code",
   "execution_count": 20,
   "id": "2bbecf3e-3ae2-47de-9e77-33678949abd2",
   "metadata": {},
   "outputs": [],
   "source": [
    "function show-accounts {\n",
    "  jq '.tx.state.accounts' \"coupon-bond-guaranteed-$1.marlowe\" | json2yaml\n",
    "}"
   ]
  },
  {
   "cell_type": "markdown",
   "id": "6b019646-4661-4da2-98c8-22a34a680edd",
   "metadata": {},
   "source": [
    "Show the contract."
   ]
  },
  {
   "cell_type": "code",
   "execution_count": 21,
   "id": "93ee1779-df70-446d-bfff-bc8122a0aff9",
   "metadata": {},
   "outputs": [],
   "source": [
    "function show-contract {\n",
    "  jq '.tx.contract' \"coupon-bond-guaranteed-$1.marlowe\" | json2yaml\n",
    "}"
   ]
  },
  {
   "cell_type": "markdown",
   "id": "af890add-c90f-42ab-8c91-e4b01a2fd8fb",
   "metadata": {},
   "source": [
    "### Setup the faucet."
   ]
  },
  {
   "cell_type": "code",
   "execution_count": 22,
   "id": "033e3f4f-4967-4413-a3b1-740e41bddb9d",
   "metadata": {},
   "outputs": [
    {
     "name": "stdout",
     "output_type": "stream",
     "text": [
      "addr1vy9prvx8ufwutkwxx9cmmuuajaqmjqwujqlp9d8pvg6gupceql82h\n"
     ]
    }
   ],
   "source": [
    "FAUCET_SKEY=$TREASURY/payment.skey\n",
    "FAUCET_ADDR=$(cat $TREASURY/payment.mainnet.address)\n",
    "echo \"$FAUCET_ADDR\""
   ]
  },
  {
   "cell_type": "markdown",
   "id": "4867027e-9575-462b-b3f0-7d400183fa40",
   "metadata": {},
   "source": [
    "View the UTxOs at the faucet."
   ]
  },
  {
   "cell_type": "code",
   "execution_count": 23,
   "id": "5bb825ee-b316-4cbc-a650-2834008d9599",
   "metadata": {},
   "outputs": [
    {
     "name": "stdout",
     "output_type": "stream",
     "text": [
      "The faucet starts with 240.018586 Ada.\n"
     ]
    }
   ],
   "source": [
    "FAUCET_INITIAL_FUNDS=$(query-faucet)\n",
    "echo \"The faucet starts with $(echo scale=6\\;$FAUCET_INITIAL_FUNDS/1000000 | bc) Ada.\""
   ]
  },
  {
   "cell_type": "markdown",
   "id": "828e1642-d616-4048-a251-ef79b58afda7",
   "metadata": {},
   "source": [
    "### Participants"
   ]
  },
  {
   "cell_type": "markdown",
   "id": "c969fc11-cabb-4cab-bf91-b52df9a9e602",
   "metadata": {},
   "source": [
    "#### The Guarantor"
   ]
  },
  {
   "cell_type": "code",
   "execution_count": 24,
   "id": "da49a678-b78b-434f-8349-5073b994b41d",
   "metadata": {},
   "outputs": [
    {
     "name": "stdout",
     "output_type": "stream",
     "text": [
      "addr1vywt2xlr4d8yk4qws675exlqy6pdhq2s76wrehkjggkvr0czta9gx\n"
     ]
    }
   ],
   "source": [
    "GUARANTOR_ROLE=Guarantor\n",
    "\n",
    "GUARANTOR_SKEY=\"$TREASURY/john-fletcher.skey\"\n",
    "GUARANTOR_VKEY=\"$TREASURY/john-fletcher.vkey\"\n",
    "\n",
    "GUARANTOR_ADDR=$(cardano-cli address build \"${MAGIC[@]}\" --payment-verification-key-file \"$GUARANTOR_VKEY\" )\n",
    "echo \"$GUARANTOR_ADDR\""
   ]
  },
  {
   "cell_type": "markdown",
   "id": "2268bba2-3a89-404f-b419-26f86b20640d",
   "metadata": {},
   "source": [
    "Fund the guarantor's address."
   ]
  },
  {
   "cell_type": "code",
   "execution_count": 25,
   "id": "49c639a7-9c60-415f-8ac6-5af3c1362d8f",
   "metadata": {},
   "outputs": [
    {
     "name": "stdout",
     "output_type": "stream",
     "text": [
      "92c47b305bbfc412fbb3eeefd23b40f959bc6afbcde08ffd43457cc5c7de6f5a\n"
     ]
    }
   ],
   "source": [
    "faucet \"$GUARANTOR_ADDR\" \"$((50 * ADA))\""
   ]
  },
  {
   "cell_type": "markdown",
   "id": "c49a42d9-9376-40a6-a8ba-85de15bc3bc3",
   "metadata": {},
   "source": [
    "#### The Lender"
   ]
  },
  {
   "cell_type": "code",
   "execution_count": 26,
   "id": "55f988ab-45f0-4539-bbef-93e6c64630d1",
   "metadata": {},
   "outputs": [
    {
     "name": "stdout",
     "output_type": "stream",
     "text": [
      "addr1v87n0zzth5zycuh972w7rdmh48qur4f3wu6ntn2m2h30dlchhlqt3\n"
     ]
    }
   ],
   "source": [
    "LENDER_ROLE=Lender\n",
    "\n",
    "LENDER_SKEY=\"$TREASURY/thomas-kyd.skey\"\n",
    "LENDER_VKEY=\"$TREASURY/thomas-kyd.vkey\"\n",
    "\n",
    "LENDER_ADDR=$(cardano-cli address build \"${MAGIC[@]}\" --payment-verification-key-file \"$LENDER_VKEY\" )\n",
    "echo \"$LENDER_ADDR\""
   ]
  },
  {
   "cell_type": "markdown",
   "id": "c580ea8c-5389-4c2d-a732-ee7adfabe3b5",
   "metadata": {},
   "source": [
    "Fund the lender's address."
   ]
  },
  {
   "cell_type": "code",
   "execution_count": 27,
   "id": "7225d0e6-2592-4847-abb0-fed7aea2c900",
   "metadata": {},
   "outputs": [
    {
     "name": "stdout",
     "output_type": "stream",
     "text": [
      "818aa22fdc619618ad3957f1a9a89ec2ca9e3e3da76ec4c01061755d271ae4ca\n"
     ]
    }
   ],
   "source": [
    "faucet \"$LENDER_ADDR\" \"$((40 * ADA))\""
   ]
  },
  {
   "cell_type": "markdown",
   "id": "5da95491-36c4-47ae-a4f6-11b5486ed449",
   "metadata": {},
   "source": [
    "#### The Borrower"
   ]
  },
  {
   "cell_type": "code",
   "execution_count": 28,
   "id": "3c031ada-62a5-4be7-829f-ade8e0d09f89",
   "metadata": {},
   "outputs": [
    {
     "name": "stdout",
     "output_type": "stream",
     "text": [
      "addr1vxzpzll6gsl9npf8wfhk2zg8sy2we50jcqc7w8w46gua2pqmkvj99\n"
     ]
    }
   ],
   "source": [
    "BORROWER_ROLE=Borrower\n",
    "\n",
    "BORROWER_SKEY=\"$TREASURY/francis-beaumont.skey\"\n",
    "BORROWER_VKEY=\"$TREASURY/francis-beaumont.vkey\"\n",
    "\n",
    "BORROWER_ADDR=$(cardano-cli address build \"${MAGIC[@]}\" --payment-verification-key-file \"$BORROWER_VKEY\" )\n",
    "echo \"$BORROWER_ADDR\""
   ]
  },
  {
   "cell_type": "markdown",
   "id": "82eff62e-6ba1-427d-ae9e-143a242d1466",
   "metadata": {},
   "source": [
    "Fund the borrower's address."
   ]
  },
  {
   "cell_type": "code",
   "execution_count": 29,
   "id": "b0e62a1f-a19a-4f07-a6d9-e8921a75fe21",
   "metadata": {},
   "outputs": [
    {
     "name": "stdout",
     "output_type": "stream",
     "text": [
      "476d403adc1bcd371712ada727ce2ffc93e37c7c438b650fc9c590c3647f648d\n"
     ]
    }
   ],
   "source": [
    "faucet \"$BORROWER_ADDR\" \"$((30 * ADA))\""
   ]
  },
  {
   "cell_type": "markdown",
   "id": "e00b08b0-9a55-4895-a7fa-562c5b598118",
   "metadata": {},
   "source": [
    "### Time"
   ]
  },
  {
   "cell_type": "code",
   "execution_count": 30,
   "id": "3c6c5796-d8ff-4fdb-ae30-0192c22c05cd",
   "metadata": {},
   "outputs": [
    {
     "name": "stdout",
     "output_type": "stream",
     "text": [
      "1664710947000\n"
     ]
    }
   ],
   "source": [
    "NOW=$(($(date -u +%s) * SECOND))\n",
    "echo \"$NOW\""
   ]
  },
  {
   "cell_type": "code",
   "execution_count": 31,
   "id": "941ff883-66ce-41f9-9d91-2b12e0a3912d",
   "metadata": {},
   "outputs": [
    {
     "name": "stdout",
     "output_type": "stream",
     "text": [
      "73144652\n"
     ]
    }
   ],
   "source": [
    "TIP=$(cardano-cli query tip \"${MAGIC[@]}\" | jq -r '.slot')\n",
    "echo \"$TIP\""
   ]
  },
  {
   "cell_type": "markdown",
   "id": "8ee34587-6250-40de-8b1b-43fa0c98e4f9",
   "metadata": {},
   "source": [
    "### Role Tokens"
   ]
  },
  {
   "cell_type": "markdown",
   "id": "b37613de-ccda-4ed0-aa1e-f698a651bcdb",
   "metadata": {},
   "source": [
    "The guarantor mints the role tokens."
   ]
  },
  {
   "cell_type": "code",
   "execution_count": 32,
   "id": "34cb19ea-0c30-4bbf-91fb-cb1ab7ddcbbe",
   "metadata": {},
   "outputs": [
    {
     "name": "stdout",
     "output_type": "stream",
     "text": [
      "74144652\n"
     ]
    }
   ],
   "source": [
    "MINT_EXPIRES=$((TIP + 1000000))\n",
    "echo \"$MINT_EXPIRES\""
   ]
  },
  {
   "cell_type": "code",
   "execution_count": 33,
   "id": "14ca8f2e-4536-4408-84cc-38560049c71d",
   "metadata": {},
   "outputs": [
    {
     "name": "stdout",
     "output_type": "stream",
     "text": [
      "\n",
      "Fee: Lovelace 181517\n",
      "Size: 452 / 16384 = 2%\n",
      "Execution units:\n",
      "  Memory: 0 / 14000000 = 0%\n",
      "  Steps: 0 / 10000000000 = 0%\n"
     ]
    }
   ],
   "source": [
    "ROLES_CURRENCY=$(\n",
    "marlowe-cli util mint \"${MAGIC[@]}\" \\\n",
    "                      --required-signer \"$GUARANTOR_SKEY\" \\\n",
    "                      --change-address \"$GUARANTOR_ADDR\" \\\n",
    "                      --expires \"$MINT_EXPIRES\" \\\n",
    "                      --out-file /dev/null \\\n",
    "                      --submit 600 \\\n",
    "                      \"$GUARANTOR_ROLE\" \"$LENDER_ROLE\" \"$BORROWER_ROLE\"\\\n",
    ")\n",
    "GUARANTOR_TOKEN=\"$ROLES_CURRENCY.$GUARANTOR_ROLE\"\n",
    "LENDER_TOKEN=\"$ROLES_CURRENCY.$LENDER_ROLE\"\n",
    "BORROWER_TOKEN=\"$ROLES_CURRENCY.$BORROWER_ROLE\""
   ]
  },
  {
   "cell_type": "markdown",
   "id": "a608dcc1-1eef-4f27-9fa9-c80d2920b1ca",
   "metadata": {},
   "source": [
    "Here are the role tokens:"
   ]
  },
  {
   "cell_type": "code",
   "execution_count": 34,
   "id": "9df287ea-d113-4cb7-aab6-f5ad0f413ff5",
   "metadata": {},
   "outputs": [
    {
     "name": "stdout",
     "output_type": "stream",
     "text": [
      "Guarantor token: 346ec66c37f28ef21ee262eaf41dfe3605aa3344dd236a6003cb606e.Guarantor\n",
      "Lender token: 346ec66c37f28ef21ee262eaf41dfe3605aa3344dd236a6003cb606e.Lender\n",
      "Borrower token: 346ec66c37f28ef21ee262eaf41dfe3605aa3344dd236a6003cb606e.Borrower\n"
     ]
    }
   ],
   "source": [
    "echo \"Guarantor token: $GUARANTOR_TOKEN\"\n",
    "echo \"Lender token: $LENDER_TOKEN\"\n",
    "echo \"Borrower token: $BORROWER_TOKEN\""
   ]
  },
  {
   "cell_type": "markdown",
   "id": "347c1c44-defa-4ef3-aaf3-dcda3e8488c0",
   "metadata": {},
   "source": [
    "Distribute the role tokens to the lender and borrower."
   ]
  },
  {
   "cell_type": "code",
   "execution_count": 35,
   "id": "9caf0fdc-6542-469d-8f18-798712ad8ffd",
   "metadata": {},
   "outputs": [
    {
     "name": "stdout",
     "output_type": "stream",
     "text": [
      "1eea316fb8f9c11b3640fde49765225408153f26cfe861218a556322457ea403\n"
     ]
    }
   ],
   "source": [
    "marlowe-cli transaction simple \"${MAGIC[@]}\" \\\n",
    "                               --tx-in \"$(lovelace-utxo $GUARANTOR_ADDR $((15*ADA)))\" \\\n",
    "                               --tx-in \"$(role-token-utxo $GUARANTOR_ADDR $BORROWER_TOKEN)\" \\\n",
    "                               --tx-in \"$(role-token-utxo $GUARANTOR_ADDR $LENDER_TOKEN)\" \\\n",
    "                               --tx-out \"$BORROWER_ADDR+$((2*ADA))+1 $BORROWER_TOKEN\" \\\n",
    "                               --tx-out \"$LENDER_ADDR+$((2*ADA))+1 $LENDER_TOKEN\" \\\n",
    "                               --required-signer \"$GUARANTOR_SKEY\" \\\n",
    "                               --change-address \"$GUARANTOR_ADDR\" \\\n",
    "                               --out-file /dev/null \\\n",
    "                               --submit 600"
   ]
  },
  {
   "cell_type": "markdown",
   "id": "94b2a9b2-41d9-4dd1-8484-833f06c5c55a",
   "metadata": {},
   "source": [
    "### UTxOs"
   ]
  },
  {
   "cell_type": "markdown",
   "id": "6de73259-ce35-402d-a6f4-6d539ecd9c25",
   "metadata": {},
   "source": [
    "Check the UTxOs at the parties' addresses."
   ]
  },
  {
   "cell_type": "code",
   "execution_count": 36,
   "id": "b83acf6b-12c0-4a81-a5ee-50625096dbfe",
   "metadata": {},
   "outputs": [
    {
     "name": "stdout",
     "output_type": "stream",
     "text": [
      "\n",
      "UTxOs at the guarantor's address:\n",
      "                           TxHash                                 TxIx        Amount\n",
      "--------------------------------------------------------------------------------------\n",
      "1eea316fb8f9c11b3640fde49765225408153f26cfe861218a556322457ea403     0        44586248 lovelace + TxOutDatumNone\n",
      "b8d8a9827ba3309e7d7f5dfe8e936680d86cb22b5d2e6a60c89a988402bfe39c     1        1047330 lovelace + 1 346ec66c37f28ef21ee262eaf41dfe3605aa3344dd236a6003cb606e.47756172616e746f72 + TxOutDatumNone\n",
      "\n",
      "UTxOs at the lender's address:\n",
      "                           TxHash                                 TxIx        Amount\n",
      "--------------------------------------------------------------------------------------\n",
      "1eea316fb8f9c11b3640fde49765225408153f26cfe861218a556322457ea403     2        2000000 lovelace + 1 346ec66c37f28ef21ee262eaf41dfe3605aa3344dd236a6003cb606e.4c656e646572 + TxOutDatumNone\n",
      "818aa22fdc619618ad3957f1a9a89ec2ca9e3e3da76ec4c01061755d271ae4ca     1        40000000 lovelace + TxOutDatumNone\n",
      "\n",
      "UTxOs at the borrower's address:\n",
      "                           TxHash                                 TxIx        Amount\n",
      "--------------------------------------------------------------------------------------\n",
      "1eea316fb8f9c11b3640fde49765225408153f26cfe861218a556322457ea403     1        2000000 lovelace + 1 346ec66c37f28ef21ee262eaf41dfe3605aa3344dd236a6003cb606e.426f72726f776572 + TxOutDatumNone\n",
      "476d403adc1bcd371712ada727ce2ffc93e37c7c438b650fc9c590c3647f648d     1        30000000 lovelace + TxOutDatumNone\n"
     ]
    }
   ],
   "source": [
    "query-guarantor\n",
    "query-lender\n",
    "query-borrower"
   ]
  },
  {
   "cell_type": "markdown",
   "id": "57e13dca-0820-47e3-8aac-53bc2ae34f28",
   "metadata": {},
   "source": [
    "Here is the decoding of the role names:"
   ]
  },
  {
   "cell_type": "code",
   "execution_count": 37,
   "id": "44a88391-a8f4-4a23-aaea-a62ea3d120e7",
   "metadata": {},
   "outputs": [
    {
     "name": "stdout",
     "output_type": "stream",
     "text": [
      "Guarantor = 47756172616e746f72\n",
      "Lender = 4c656e646572\n",
      "Borrower = 426f72726f776572\n"
     ]
    }
   ],
   "source": [
    "for x in 47756172616e746f72 4c656e646572 426f72726f776572\n",
    "do\n",
    "  echo -n $x | tr '[:lower:]' '[:upper:]' | basenc --decode --base16\n",
    "  echo \" = $x\"\n",
    "done"
   ]
  },
  {
   "cell_type": "markdown",
   "id": "aee9affe-7a1f-4d18-b0ef-a451e4199826",
   "metadata": {},
   "source": [
    "### Publish the Reference Scripts for the Marlowe Validators"
   ]
  },
  {
   "cell_type": "markdown",
   "id": "50e4bf84-685a-4c79-b91d-9e143fa55f09",
   "metadata": {},
   "source": [
    "We publish the the faucet address, so that the min-Ada for the reference scripts can be reclaimed later."
   ]
  },
  {
   "cell_type": "code",
   "execution_count": 38,
   "id": "51157d0e-2959-4e0b-abde-5a86a2c01c0a",
   "metadata": {},
   "outputs": [
    {
     "name": "stdout",
     "output_type": "stream",
     "text": [
      "\n",
      "Fee: Lovelace 843893\n",
      "Size: 15405 / 16384 = 94%\n",
      "Execution units:\n",
      "  Memory: 0 / 14000000 = 0%\n",
      "  Steps: 0 / 10000000000 = 0%\n",
      "\n",
      "Marlowe script published at address: addr1vy9prvx8ufwutkwxx9cmmuuajaqmjqwujqlp9d8pvg6gupceql82h\n",
      "\n",
      "Marlowe script hash: \"6a9391d6aa51af28dd876ebb5565b69d1e83e5ac7861506bd29b56b0\"\n",
      "\n",
      "Marlowe ref script UTxO min ADA: Lovelace 12434350\n",
      "\n",
      "Payout script published at address: addr1vy9prvx8ufwutkwxx9cmmuuajaqmjqwujqlp9d8pvg6gupceql82h\n",
      "\n",
      "Payout script hash: \"49076eab20243dc9462511fb98a9cfb719f86e9692288139b7c91df3\"\n",
      "\n",
      "Payout ref script UTxO min ADA: Lovelace 12434350\n"
     ]
    }
   ],
   "source": [
    "marlowe-cli transaction publish \"${MAGIC[@]}\" \\\n",
    "                                --change-address \"$FAUCET_ADDR\" \\\n",
    "                                --required-signer \"$FAUCET_SKEY\" \\\n",
    "                                --at-address \"$FAUCET_ADDR\" \\\n",
    "                                --out-file /dev/null \\\n",
    "                                --submit 600"
   ]
  },
  {
   "cell_type": "markdown",
   "id": "4a64ac68-1177-40b4-879b-dc917d1eb2e9",
   "metadata": {},
   "source": [
    "Check that the publication occurred."
   ]
  },
  {
   "cell_type": "code",
   "execution_count": 39,
   "id": "1c13f6a3-b36d-418f-b08c-15239899ee02",
   "metadata": {},
   "outputs": [
    {
     "name": "stdout",
     "output_type": "stream",
     "text": [
      "\n",
      "Searching for reference script at address: addr1vy9prvx8ufwutkwxx9cmmuuajaqmjqwujqlp9d8pvg6gupceql82h\n",
      "\n",
      "Expected reference script hash: \"6a9391d6aa51af28dd876ebb5565b69d1e83e5ac7861506bd29b56b0\"\n",
      "\n",
      "Searching for reference script at address: addr1vy9prvx8ufwutkwxx9cmmuuajaqmjqwujqlp9d8pvg6gupceql82h\n",
      "\n",
      "Expected reference script hash: \"49076eab20243dc9462511fb98a9cfb719f86e9692288139b7c91df3\"\n",
      "{\n",
      "    \"marlowe\": {\n",
      "        \"hash\": \"6a9391d6aa51af28dd876ebb5565b69d1e83e5ac7861506bd29b56b0\",\n",
      "        \"txIn\": \"aee0ce9972cd036f9088f75ba6602fa03758a3a2a3e48b4713dcda4b815c540d#1\"\n",
      "    },\n",
      "    \"payout\": {\n",
      "        \"hash\": \"49076eab20243dc9462511fb98a9cfb719f86e9692288139b7c91df3\",\n",
      "        \"txIn\": \"aee0ce9972cd036f9088f75ba6602fa03758a3a2a3e48b4713dcda4b815c540d#2\"\n",
      "    }\n",
      "}\n"
     ]
    }
   ],
   "source": [
    "marlowe-cli transaction find-published \"${MAGIC[@]}\" \\\n",
    "                                       --at-address \"$FAUCET_ADDR\""
   ]
  },
  {
   "cell_type": "markdown",
   "id": "811dd36a-035a-4905-b3b3-aeae85a3c3ed",
   "metadata": {},
   "source": [
    "## Design the Contract"
   ]
  },
  {
   "cell_type": "markdown",
   "id": "98acad11-9189-4a6b-b565-142a686c879e",
   "metadata": {},
   "source": [
    "Set the parameters."
   ]
  },
  {
   "cell_type": "code",
   "execution_count": 40,
   "id": "21991ce1-b950-4800-b9b1-b4c18793386c",
   "metadata": {},
   "outputs": [],
   "source": [
    "PRINCIPAL=$((20 * ADA))\n",
    "INTEREST=$((3 * ADA))\n",
    "\n",
    "GUARANTOR_DEPOSIT_DEADLINE=$((NOW + 1 * DAY))\n",
    "\n",
    "LENDER_DEPOSIT_DEADLINE=$((NOW + 2 * DAY))\n",
    "\n",
    "BORROWER_FIRST_DEADLINE=$((NOW + 5 * DAY))\n",
    "BORROWER_SECOND_DEADLINE=$((NOW + 10 * DAY))\n",
    "BORROWER_THIRD_DEADLINE=$((NOW + 15 * DAY))"
   ]
  },
  {
   "cell_type": "markdown",
   "id": "b9b8ce3b-2570-4751-bbdc-90b6abc85619",
   "metadata": {},
   "source": [
    "Edit the parameters in the downloaded JSON to instantiate the contract."
   ]
  },
  {
   "cell_type": "code",
   "execution_count": 41,
   "id": "3851b706-bb2f-48b0-8177-3a9d877261f2",
   "metadata": {},
   "outputs": [],
   "source": [
    "sed -e \"s/GUARANTOR_ROLE/$GUARANTOR_ROLE/g\" \\\n",
    "    -e \"s/LENDER_ROLE/$LENDER_ROLE/g\" \\\n",
    "    -e \"s/BORROWER_ROLE/$BORROWER_ROLE/g\" \\\n",
    "    -e \"s/PRINCIPAL/$PRINCIPAL/g\" \\\n",
    "    -e \"s/INTEREST/$INTEREST/g\" \\\n",
    "    -e \"s/GUARANTOR_DEPOSIT_DEADLINE/$GUARANTOR_DEPOSIT_DEADLINE/g\" \\\n",
    "    -e \"s/LENDER_DEPOSIT_DEADLINE/$LENDER_DEPOSIT_DEADLINE/g\" \\\n",
    "    -e \"s/BORROWER_FIRST_DEADLINE/$BORROWER_FIRST_DEADLINE/g\" \\\n",
    "    -e \"s/BORROWER_SECOND_DEADLINE/$BORROWER_SECOND_DEADLINE/g\" \\\n",
    "    -e \"s/BORROWER_THIRD_DEADLINE/$BORROWER_THIRD_DEADLINE/g\" \\\n",
    "    coupon-bond-guaranteed.json \\\n",
    "    > coupon-bond-guaranteed-1.contract"
   ]
  },
  {
   "cell_type": "markdown",
   "id": "15f264a4-9cf1-4b89-95d5-080c529a723c",
   "metadata": {},
   "source": [
    "Start the contract with 2 Ada from the guarantor."
   ]
  },
  {
   "cell_type": "code",
   "execution_count": 42,
   "id": "ba8ac04c-27bc-49fb-b189-c60f30c37d2d",
   "metadata": {},
   "outputs": [],
   "source": [
    "yaml2json << EOI > coupon-bond-guaranteed-1.state\n",
    "accounts:\n",
    "- - - role_token: $GUARANTOR_ROLE\n",
    "    - currency_symbol: ''\n",
    "      token_name: ''\n",
    "  - $((2 * ADA))\n",
    "boundValues: []\n",
    "choices: []\n",
    "minTime: $NOW\n",
    "EOI"
   ]
  },
  {
   "cell_type": "markdown",
   "id": "fcbdcc02-7ffe-46a4-8732-10a3e7b93865",
   "metadata": {},
   "source": [
    "## Transaction 1. Create the Contract"
   ]
  },
  {
   "cell_type": "markdown",
   "id": "e90ff2bb-f186-4bfd-a103-3e47193c91ec",
   "metadata": {},
   "source": [
    "Initialize the first `.marlowe` file."
   ]
  },
  {
   "cell_type": "code",
   "execution_count": 43,
   "id": "9b2931b3-57aa-4089-a563-248d823f1579",
   "metadata": {},
   "outputs": [
    {
     "name": "stdout",
     "output_type": "stream",
     "text": [
      "\n",
      "Searching for reference script at address: addr1vy9prvx8ufwutkwxx9cmmuuajaqmjqwujqlp9d8pvg6gupceql82h\n",
      "\n",
      "Expected reference script hash: \"6a9391d6aa51af28dd876ebb5565b69d1e83e5ac7861506bd29b56b0\"\n",
      "\n",
      "Searching for reference script at address: addr1vy9prvx8ufwutkwxx9cmmuuajaqmjqwujqlp9d8pvg6gupceql82h\n",
      "\n",
      "Expected reference script hash: \"49076eab20243dc9462511fb98a9cfb719f86e9692288139b7c91df3\"\n",
      "\n",
      "Validator size: 12505\n",
      "Base-validator cost: ExBudget {exBudgetCPU = ExCPU 18515100, exBudgetMemory = ExMemory 80600}\n"
     ]
    }
   ],
   "source": [
    "marlowe-cli run initialize \"${MAGIC[@]}\" \\\n",
    "                           --roles-currency \"$ROLES_CURRENCY\" \\\n",
    "                           --contract-file coupon-bond-guaranteed-1.contract \\\n",
    "                           --state-file coupon-bond-guaranteed-1.state \\\n",
    "                           --out-file coupon-bond-guaranteed-1.marlowe \\\n",
    "                           --merkleize \\\n",
    "                           --at-address \"$FAUCET_ADDR\" \\\n",
    "                           --print-stats"
   ]
  },
  {
   "cell_type": "markdown",
   "id": "6c0f2e2b-df29-489c-be74-183259c816dd",
   "metadata": {},
   "source": [
    "The min-Ada for creation belongs to the guarantor."
   ]
  },
  {
   "cell_type": "code",
   "execution_count": 44,
   "id": "f8e86c4e-776a-432b-ae5c-d04a602ffbf3",
   "metadata": {},
   "outputs": [
    {
     "name": "stdout",
     "output_type": "stream",
     "text": [
      "- - - role_token: Guarantor\n",
      "    - currency_symbol: ''\n",
      "      token_name: ''\n",
      "  - 2000000\n"
     ]
    }
   ],
   "source": [
    "show-accounts 1"
   ]
  },
  {
   "cell_type": "markdown",
   "id": "d1a56b5c-3a59-41ab-82e9-f904a8dcfb22",
   "metadata": {},
   "source": [
    "Submit the transaction."
   ]
  },
  {
   "cell_type": "code",
   "execution_count": 45,
   "id": "620dbe4e-a572-4c8d-9537-e795120789b5",
   "metadata": {},
   "outputs": [
    {
     "name": "stdout",
     "output_type": "stream",
     "text": [
      "\n",
      "Fee: Lovelace 191681\n",
      "Size: 479 / 16384 = 2%\n",
      "Execution units:\n",
      "  Memory: 0 / 14000000 = 0%\n",
      "  Steps: 0 / 10000000000 = 0%\n",
      "TX_1 = 95e04eda3a6e86255320c7ea2c54eb05691f81fedfa8d29eacf6caf38196c29c\n"
     ]
    }
   ],
   "source": [
    "TX_1=$(\n",
    "marlowe-cli run auto-execute \"${MAGIC[@]}\" \\\n",
    "                             --marlowe-out-file coupon-bond-guaranteed-1.marlowe \\\n",
    "                             --required-signer \"$GUARANTOR_SKEY\" \\\n",
    "                             --change-address \"$GUARANTOR_ADDR\" \\\n",
    "                             --out-file /dev/null \\\n",
    "                             --print-stats \\\n",
    "                             --submit=600 \\\n",
    ")\n",
    "echo \"TX_1 = $TX_1\""
   ]
  },
  {
   "cell_type": "markdown",
   "id": "cc78cd3e-7c75-45ea-9c72-58ef7f5e4e95",
   "metadata": {},
   "source": [
    "The Marlowe script address now holds the contract."
   ]
  },
  {
   "cell_type": "code",
   "execution_count": 46,
   "id": "6b973d9a-f7b5-4f04-8707-6386aa5056ab",
   "metadata": {},
   "outputs": [
    {
     "name": "stdout",
     "output_type": "stream",
     "text": [
      "\n",
      "UTxOs at the contracts's address:\n",
      "                           TxHash                                 TxIx        Amount\n",
      "--------------------------------------------------------------------------------------\n",
      "95e04eda3a6e86255320c7ea2c54eb05691f81fedfa8d29eacf6caf38196c29c     1        2000000 lovelace + TxOutDatumHash ScriptDataInBabbageEra \"02fc4651b13718293b00e0312f9da32aba77ef62fd32761a653317554e2b58b8\"\n"
     ]
    }
   ],
   "source": [
    "query-marlowe \"$TX_1\""
   ]
  },
  {
   "cell_type": "markdown",
   "id": "cd4fa3da-0f75-4b96-a911-0ba5bea722f8",
   "metadata": {},
   "source": [
    "## Transaction 2. Guarantor Desposits"
   ]
  },
  {
   "cell_type": "markdown",
   "id": "64884b61-3ca0-4c57-bcf8-62e780fdc72e",
   "metadata": {},
   "source": [
    "The guarantor must deposit the principal plus all three interest payments."
   ]
  },
  {
   "cell_type": "code",
   "execution_count": 47,
   "id": "d2c02e24-5b54-4e06-b08e-776c4a59c142",
   "metadata": {},
   "outputs": [
    {
     "name": "stdout",
     "output_type": "stream",
     "text": [
      "timeout: 1664797347000\n",
      "timeout_continuation: close\n",
      "when:\n",
      "- case:\n",
      "    deposits:\n",
      "      add:\n",
      "        multiply: 3\n",
      "        times: 3000000\n",
      "      and: 20000000\n",
      "    into_account:\n",
      "      role_token: Lender\n",
      "    of_token:\n",
      "      currency_symbol: ''\n",
      "      token_name: ''\n",
      "    party:\n",
      "      role_token: Guarantor\n",
      "  merkleized_then: a0bbe8285cd863b56629cac690f526aaa1ddc8a7b203d012a8ec8220b697a123\n"
     ]
    }
   ],
   "source": [
    "show-contract 1"
   ]
  },
  {
   "cell_type": "code",
   "execution_count": 48,
   "id": "ecdb1d1c-dd4f-43e9-a173-8ff18b4a07ba",
   "metadata": {},
   "outputs": [
    {
     "name": "stdout",
     "output_type": "stream",
     "text": [
      "\n",
      "Datum size: 280\n"
     ]
    }
   ],
   "source": [
    "marlowe-cli run prepare --deposit-party \"$GUARANTOR_ROLE\" \\\n",
    "                        --deposit-account \"$LENDER_ROLE\" \\\n",
    "                        --deposit-amount \"$((PRINCIPAL + 3 * INTEREST))\" \\\n",
    "                        --invalid-before \"$(invalid-before 1)\" \\\n",
    "                        --invalid-hereafter \"$(invalid-hereafter 1)\" \\\n",
    "                        --marlowe-file coupon-bond-guaranteed-1.marlowe \\\n",
    "                        --out-file     coupon-bond-guaranteed-2.marlowe \\\n",
    "                        --print-stats"
   ]
  },
  {
   "cell_type": "markdown",
   "id": "12739217-5a62-4fbb-9aeb-5ca5bf0ed98b",
   "metadata": {},
   "source": [
    "Now the lender has the guarantee in their internal account."
   ]
  },
  {
   "cell_type": "code",
   "execution_count": 49,
   "id": "265a6c3a-24cb-4b0f-a8c0-5d54a8ac40ca",
   "metadata": {},
   "outputs": [
    {
     "name": "stdout",
     "output_type": "stream",
     "text": [
      "- - - role_token: Guarantor\n",
      "    - currency_symbol: ''\n",
      "      token_name: ''\n",
      "  - 2000000\n",
      "- - - role_token: Lender\n",
      "    - currency_symbol: ''\n",
      "      token_name: ''\n",
      "  - 29000000\n"
     ]
    }
   ],
   "source": [
    "show-accounts 2"
   ]
  },
  {
   "cell_type": "markdown",
   "id": "1d87e2c3-abba-4f93-839d-c993bcf31be0",
   "metadata": {},
   "source": [
    "Submit the transaction."
   ]
  },
  {
   "cell_type": "code",
   "execution_count": 50,
   "id": "9e5e5169-0083-40e4-932b-96f9837ff5f1",
   "metadata": {},
   "outputs": [
    {
     "name": "stdout",
     "output_type": "stream",
     "text": [
      "\n",
      "Fee: Lovelace 780564\n",
      "Size: 1301 / 16384 = 7%\n",
      "Execution units:\n",
      "  Memory: 7074470 / 14000000 = 50%\n",
      "  Steps: 1941550605 / 10000000000 = 19%\n",
      "TX_2 = 00d1cd8e0a8e83d9b8be1adca9946264a3c9e7e524279ab2c3e44b19497a9caf\n"
     ]
    }
   ],
   "source": [
    "TX_2=$(\n",
    "marlowe-cli run auto-execute \"${MAGIC[@]}\" \\\n",
    "                             --tx-in-marlowe \"$TX_1#1\" \\\n",
    "                             --marlowe-in-file coupon-bond-guaranteed-1.marlowe \\\n",
    "                             --marlowe-out-file coupon-bond-guaranteed-2.marlowe \\\n",
    "                             --required-signer \"$GUARANTOR_SKEY\" \\\n",
    "                             --change-address \"$GUARANTOR_ADDR\" \\\n",
    "                             --out-file /dev/null \\\n",
    "                             --print-stats \\\n",
    "                             --submit=600 \\\n",
    ")\n",
    "echo \"TX_2 = $TX_2\""
   ]
  },
  {
   "cell_type": "markdown",
   "id": "3b9842cb-c85b-4679-8487-6c5474d155ad",
   "metadata": {},
   "source": [
    "The Marlowe script address received the deposit."
   ]
  },
  {
   "cell_type": "code",
   "execution_count": 51,
   "id": "422990b4-d4ae-4041-81ba-251392b9726a",
   "metadata": {},
   "outputs": [
    {
     "name": "stdout",
     "output_type": "stream",
     "text": [
      "\n",
      "UTxOs at the contracts's address:\n",
      "                           TxHash                                 TxIx        Amount\n",
      "--------------------------------------------------------------------------------------\n",
      "00d1cd8e0a8e83d9b8be1adca9946264a3c9e7e524279ab2c3e44b19497a9caf     1        31000000 lovelace + TxOutDatumHash ScriptDataInBabbageEra \"5b6260fc6ea6b021c8e85400845b8bd5f4b21b819381bc910a79398cbf001f3d\"\n"
     ]
    }
   ],
   "source": [
    "query-marlowe \"$TX_2\""
   ]
  },
  {
   "cell_type": "markdown",
   "id": "6646c99a-aae9-4269-a377-c1f9cd481b54",
   "metadata": {},
   "source": [
    "## Transaction 3. Lender Deposits"
   ]
  },
  {
   "cell_type": "markdown",
   "id": "23c83d1c-0e8e-43eb-b60a-9b99a7c63263",
   "metadata": {},
   "source": [
    "The lender must deposit the principal."
   ]
  },
  {
   "cell_type": "code",
   "execution_count": 52,
   "id": "22b43e0f-ea2f-47fc-83f9-27ac064b02b3",
   "metadata": {},
   "outputs": [
    {
     "name": "stdout",
     "output_type": "stream",
     "text": [
      "timeout: 1664883747000\n",
      "timeout_continuation:\n",
      "  from_account:\n",
      "    role_token: Lender\n",
      "  pay:\n",
      "    add:\n",
      "      multiply: 3\n",
      "      times: 3000000\n",
      "    and: 20000000\n",
      "  then: close\n",
      "  to:\n",
      "    party:\n",
      "      role_token: Guarantor\n",
      "  token:\n",
      "    currency_symbol: ''\n",
      "    token_name: ''\n",
      "when:\n",
      "- case:\n",
      "    deposits: 20000000\n",
      "    into_account:\n",
      "      role_token: Borrower\n",
      "    of_token:\n",
      "      currency_symbol: ''\n",
      "      token_name: ''\n",
      "    party:\n",
      "      role_token: Lender\n",
      "  merkleized_then: 3f1aef7a34821b85f97f1d7fb6011295b4fb25226b7d050f63c9aa55f90d0d8b\n"
     ]
    }
   ],
   "source": [
    "show-contract 2"
   ]
  },
  {
   "cell_type": "code",
   "execution_count": 53,
   "id": "c10e18c6-516b-4a6b-bacd-441ab278c559",
   "metadata": {},
   "outputs": [
    {
     "name": "stdout",
     "output_type": "stream",
     "text": [
      "\n",
      "Datum size: 210\n",
      "Payment 1\n",
      "  Acccount: \"Borrower\"\n",
      "  Payee: Party \"Borrower\"\n",
      "  Ada: Lovelace {getLovelace = 20000000}\n"
     ]
    }
   ],
   "source": [
    "marlowe-cli run prepare --deposit-party \"$LENDER_ROLE\" \\\n",
    "                        --deposit-account \"$BORROWER_ROLE\" \\\n",
    "                        --deposit-amount \"$PRINCIPAL\" \\\n",
    "                        --invalid-before \"$(invalid-before 2)\" \\\n",
    "                        --invalid-hereafter \"$(invalid-hereafter 2)\" \\\n",
    "                        --marlowe-file coupon-bond-guaranteed-2.marlowe \\\n",
    "                        --out-file     coupon-bond-guaranteed-3.marlowe \\\n",
    "                        --print-stats"
   ]
  },
  {
   "cell_type": "markdown",
   "id": "b9abafb4-b6d9-4892-860f-ed07b0ff1eb7",
   "metadata": {},
   "source": [
    "The internal accounts are unchanged."
   ]
  },
  {
   "cell_type": "code",
   "execution_count": 54,
   "id": "619e6db7-e7a9-41d6-b0a2-1fa588268383",
   "metadata": {},
   "outputs": [
    {
     "name": "stdout",
     "output_type": "stream",
     "text": [
      "- - - role_token: Guarantor\n",
      "    - currency_symbol: ''\n",
      "      token_name: ''\n",
      "  - 2000000\n",
      "- - - role_token: Lender\n",
      "    - currency_symbol: ''\n",
      "      token_name: ''\n",
      "  - 29000000\n"
     ]
    }
   ],
   "source": [
    "show-accounts 3"
   ]
  },
  {
   "cell_type": "markdown",
   "id": "b943ba54-99e1-48aa-a5f1-3f023ef07f0d",
   "metadata": {},
   "source": [
    "Submit the transaction."
   ]
  },
  {
   "cell_type": "code",
   "execution_count": 55,
   "id": "2529fee0-7b83-4ed6-baa5-348b2786395b",
   "metadata": {
    "tags": []
   },
   "outputs": [
    {
     "name": "stdout",
     "output_type": "stream",
     "text": [
      "\n",
      "Fee: Lovelace 918091\n",
      "Size: 1398 / 16384 = 8%\n",
      "Execution units:\n",
      "  Memory: 8864408 / 14000000 = 63%\n",
      "  Steps: 2357350228 / 10000000000 = 23%\n",
      "TX_3 = fe9a23033ab42aec4de6e50f9e68caa1b6553b21b0c37fb9371125cb9b4cec1a\n"
     ]
    }
   ],
   "source": [
    "TX_3=$(\n",
    "marlowe-cli run auto-execute \"${MAGIC[@]}\" \\\n",
    "                             --tx-in-marlowe \"$TX_2#1\" \\\n",
    "                             --marlowe-in-file coupon-bond-guaranteed-2.marlowe \\\n",
    "                             --marlowe-out-file coupon-bond-guaranteed-3.marlowe \\\n",
    "                             --required-signer \"$LENDER_SKEY\" \\\n",
    "                             --change-address \"$LENDER_ADDR\" \\\n",
    "                             --out-file /dev/null \\\n",
    "                             --print-stats \\\n",
    "                             --submit=600 \\\n",
    ")\n",
    "echo \"TX_3 = $TX_3\""
   ]
  },
  {
   "cell_type": "markdown",
   "id": "ae68e534-c9aa-460b-b637-401b2d014218",
   "metadata": {},
   "source": [
    "The Marlowe script address's value is unchanged."
   ]
  },
  {
   "cell_type": "code",
   "execution_count": 56,
   "id": "1e209982-9c2a-4916-ba28-699d74c90172",
   "metadata": {},
   "outputs": [
    {
     "name": "stdout",
     "output_type": "stream",
     "text": [
      "\n",
      "UTxOs at the contracts's address:\n",
      "                           TxHash                                 TxIx        Amount\n",
      "--------------------------------------------------------------------------------------\n",
      "fe9a23033ab42aec4de6e50f9e68caa1b6553b21b0c37fb9371125cb9b4cec1a     1        31000000 lovelace + TxOutDatumHash ScriptDataInBabbageEra \"657cbe4c2809a898f910b7e0d4afce975cf2d8f81b07cfafab2a5cc8ab681d45\"\n"
     ]
    }
   ],
   "source": [
    "query-marlowe \"$TX_3\""
   ]
  },
  {
   "cell_type": "markdown",
   "id": "c096466e-a18b-43be-9a98-666250b54d64",
   "metadata": {},
   "source": [
    "But the payout address has the principal ready for the borrower."
   ]
  },
  {
   "cell_type": "code",
   "execution_count": 57,
   "id": "a20682da-6511-4007-a4ad-0e4b031608cf",
   "metadata": {},
   "outputs": [
    {
     "name": "stdout",
     "output_type": "stream",
     "text": [
      "\n",
      "UTxOs at the payout address:\n",
      "                           TxHash                                 TxIx        Amount\n",
      "--------------------------------------------------------------------------------------\n",
      "fe9a23033ab42aec4de6e50f9e68caa1b6553b21b0c37fb9371125cb9b4cec1a     2        20000000 lovelace + TxOutDatumHash ScriptDataInBabbageEra \"b4163717b0636a5a3f3e71240389ae94881c4c1563ddf37a6b4c8e7164891acc\"\n"
     ]
    }
   ],
   "source": [
    "query-payout \"$TX_3\""
   ]
  },
  {
   "cell_type": "markdown",
   "id": "e7c652f6-02da-4786-a54d-755d59e4aba9",
   "metadata": {},
   "source": [
    "## Transaction 4. Borrower Withdraws Their Loan"
   ]
  },
  {
   "cell_type": "markdown",
   "id": "2410eea5-fadc-46eb-901d-b218cab9b427",
   "metadata": {},
   "source": [
    "The borrower uses their role token to withdraw the principal."
   ]
  },
  {
   "cell_type": "code",
   "execution_count": 58,
   "id": "97093ab8-0d6a-462c-8d33-a285116b33a7",
   "metadata": {},
   "outputs": [
    {
     "name": "stdout",
     "output_type": "stream",
     "text": [
      "\n",
      "Fee: Lovelace 330306\n",
      "Size: 450 / 16384 = 2%\n",
      "Execution units:\n",
      "  Memory: 1738112 / 14000000 = 12%\n",
      "  Steps: 486538106 / 10000000000 = 4%\n",
      "a77b0e21f2cae3c35938e83027c08dfcf06ce57131169dc57df6c10b7a998293\n"
     ]
    }
   ],
   "source": [
    "marlowe-cli run auto-withdraw \"${MAGIC[@]}\" \\\n",
    "                              --marlowe-file coupon-bond-guaranteed-3.marlowe \\\n",
    "                              --role-name \"$BORROWER_ROLE\" \\\n",
    "                              --change-address \"$BORROWER_ADDR\" \\\n",
    "                              --required-signer \"$BORROWER_SKEY\" \\\n",
    "                              --out-file /dev/null \\\n",
    "                              --print-stats \\\n",
    "                              --submit 600"
   ]
  },
  {
   "cell_type": "markdown",
   "id": "6b446012-0222-45a6-bb13-fcf635dc57b0",
   "metadata": {},
   "source": [
    "The borrower has received the principal."
   ]
  },
  {
   "cell_type": "code",
   "execution_count": 59,
   "id": "7fb21687-7f8b-4ee7-98a3-f7c2dc35d2c5",
   "metadata": {},
   "outputs": [
    {
     "name": "stdout",
     "output_type": "stream",
     "text": [
      "\n",
      "UTxOs at the borrower's address:\n",
      "                           TxHash                                 TxIx        Amount\n",
      "--------------------------------------------------------------------------------------\n",
      "a77b0e21f2cae3c35938e83027c08dfcf06ce57131169dc57df6c10b7a998293     0        31669694 lovelace + TxOutDatumNone\n",
      "a77b0e21f2cae3c35938e83027c08dfcf06ce57131169dc57df6c10b7a998293     1        20000000 lovelace + 1 346ec66c37f28ef21ee262eaf41dfe3605aa3344dd236a6003cb606e.426f72726f776572 + TxOutDatumNone\n"
     ]
    }
   ],
   "source": [
    "query-borrower"
   ]
  },
  {
   "cell_type": "markdown",
   "id": "cdd5f906-bd76-464d-993f-ce8c7b3c78f2",
   "metadata": {},
   "source": [
    "## Transaction 5. Borrower Make First Deposit of Interest"
   ]
  },
  {
   "cell_type": "markdown",
   "id": "f687b091-066c-4761-8680-b4f88883ff2f",
   "metadata": {},
   "source": [
    "Time passes and the borrower must make their first interest payment."
   ]
  },
  {
   "cell_type": "code",
   "execution_count": 60,
   "id": "b5b38b0c-b0f1-40ce-8bd2-5090b4afa767",
   "metadata": {},
   "outputs": [
    {
     "name": "stdout",
     "output_type": "stream",
     "text": [
      "timeout: 1665142947000\n",
      "timeout_continuation: close\n",
      "when:\n",
      "- case:\n",
      "    deposits: 3000000\n",
      "    into_account:\n",
      "      role_token: Lender\n",
      "    of_token:\n",
      "      currency_symbol: ''\n",
      "      token_name: ''\n",
      "    party:\n",
      "      role_token: Borrower\n",
      "  merkleized_then: c726e2743429c79e222c15f612dd98acd1a342df666e653c782866167ddf057d\n"
     ]
    }
   ],
   "source": [
    "show-contract 3"
   ]
  },
  {
   "cell_type": "markdown",
   "id": "5c39f0dd-0c08-41d5-9e4c-32b30a2ae219",
   "metadata": {},
   "source": [
    "This triggers a payment to the lender and a refund of part of the guarantee to the guarantor."
   ]
  },
  {
   "cell_type": "code",
   "execution_count": 61,
   "id": "067e03f6-04a2-45e1-af18-70ed29e02088",
   "metadata": {},
   "outputs": [
    {
     "name": "stdout",
     "output_type": "stream",
     "text": [
      "\n",
      "Datum size: 210\n",
      "Payment 1\n",
      "  Acccount: \"Lender\"\n",
      "  Payee: Party \"Lender\"\n",
      "  Ada: Lovelace {getLovelace = 3000000}\n",
      "Payment 2\n",
      "  Acccount: \"Lender\"\n",
      "  Payee: Party \"Guarantor\"\n",
      "  Ada: Lovelace {getLovelace = 3000000}\n"
     ]
    }
   ],
   "source": [
    "marlowe-cli run prepare --deposit-party \"$BORROWER_ROLE\" \\\n",
    "                        --deposit-account \"$LENDER_ROLE\" \\\n",
    "                        --deposit-amount \"$INTEREST\" \\\n",
    "                        --invalid-before \"$(invalid-before 3)\" \\\n",
    "                        --invalid-hereafter \"$(invalid-hereafter 3)\" \\\n",
    "                        --marlowe-file coupon-bond-guaranteed-3.marlowe \\\n",
    "                        --out-file     coupon-bond-guaranteed-4.marlowe \\\n",
    "                        --print-stats"
   ]
  },
  {
   "cell_type": "markdown",
   "id": "459ca7aa-86aa-4d94-b677-9b41288a1d3d",
   "metadata": {},
   "source": [
    "The internal accounts contain sufficient funds to guarantee the rest of the loan."
   ]
  },
  {
   "cell_type": "code",
   "execution_count": 62,
   "id": "e824f88e-7128-49ec-9ada-745da249e516",
   "metadata": {},
   "outputs": [
    {
     "name": "stdout",
     "output_type": "stream",
     "text": [
      "- - - role_token: Guarantor\n",
      "    - currency_symbol: ''\n",
      "      token_name: ''\n",
      "  - 2000000\n",
      "- - - role_token: Lender\n",
      "    - currency_symbol: ''\n",
      "      token_name: ''\n",
      "  - 26000000\n"
     ]
    }
   ],
   "source": [
    "show-accounts 4"
   ]
  },
  {
   "cell_type": "markdown",
   "id": "8ef86ace-00a4-485c-a479-d4d08ac5379c",
   "metadata": {},
   "source": [
    "Submit the transaction."
   ]
  },
  {
   "cell_type": "code",
   "execution_count": 63,
   "id": "dd5b7408-058e-4acd-8a38-4543f4e94a8d",
   "metadata": {
    "tags": []
   },
   "outputs": [
    {
     "name": "stdout",
     "output_type": "stream",
     "text": [
      "\n",
      "Fee: Lovelace 1046985\n",
      "Size: 1456 / 16384 = 8%\n",
      "Execution units:\n",
      "  Memory: 10575114 / 14000000 = 75%\n",
      "  Steps: 2802270124 / 10000000000 = 28%\n",
      "TX_4 = 27384cd91e10fec5b4496356d3686a12b9d43cbc02652a834fd0181803167a11\n"
     ]
    }
   ],
   "source": [
    "TX_4=$(\n",
    "marlowe-cli run auto-execute \"${MAGIC[@]}\" \\\n",
    "                             --tx-in-marlowe \"$TX_3#1\" \\\n",
    "                             --marlowe-in-file coupon-bond-guaranteed-3.marlowe \\\n",
    "                             --marlowe-out-file coupon-bond-guaranteed-4.marlowe \\\n",
    "                             --required-signer \"$BORROWER_SKEY\" \\\n",
    "                             --change-address \"$BORROWER_ADDR\" \\\n",
    "                             --out-file /dev/null \\\n",
    "                             --print-stats \\\n",
    "                             --submit=600 \\\n",
    ")\n",
    "echo \"TX_4 = $TX_4\""
   ]
  },
  {
   "cell_type": "markdown",
   "id": "d5d1b064-45b9-4307-8a12-633313bca294",
   "metadata": {},
   "source": [
    "The Marlowe script address's value changed because the guarantor received a partial refund."
   ]
  },
  {
   "cell_type": "code",
   "execution_count": 64,
   "id": "8c3285a7-c894-4ed1-94d0-3c959edcb48d",
   "metadata": {},
   "outputs": [
    {
     "name": "stdout",
     "output_type": "stream",
     "text": [
      "\n",
      "UTxOs at the contracts's address:\n",
      "                           TxHash                                 TxIx        Amount\n",
      "--------------------------------------------------------------------------------------\n",
      "27384cd91e10fec5b4496356d3686a12b9d43cbc02652a834fd0181803167a11     1        28000000 lovelace + TxOutDatumHash ScriptDataInBabbageEra \"e4dc7f73b604920fb2864fb93603e2541fea5b99e2405daf038a98eb62312016\"\n"
     ]
    }
   ],
   "source": [
    "query-marlowe \"$TX_4\""
   ]
  },
  {
   "cell_type": "markdown",
   "id": "76854055-ad57-4c21-b37c-a2bf66ec505e",
   "metadata": {},
   "source": [
    "But the payout address has the funds ready for the lender and guarantor."
   ]
  },
  {
   "cell_type": "code",
   "execution_count": 65,
   "id": "ff7ec200-b1f4-4158-b8a8-ec6be2238547",
   "metadata": {},
   "outputs": [
    {
     "name": "stdout",
     "output_type": "stream",
     "text": [
      "\n",
      "UTxOs at the payout address:\n",
      "                           TxHash                                 TxIx        Amount\n",
      "--------------------------------------------------------------------------------------\n",
      "27384cd91e10fec5b4496356d3686a12b9d43cbc02652a834fd0181803167a11     2        3000000 lovelace + TxOutDatumHash ScriptDataInBabbageEra \"9a46b584520d3445db4a18cefdb256a06f2c0abf1d95ebe523465e71ef1a0942\"\n",
      "27384cd91e10fec5b4496356d3686a12b9d43cbc02652a834fd0181803167a11     3        3000000 lovelace + TxOutDatumHash ScriptDataInBabbageEra \"963186f2154ce9c879372b6c7f7122c9bf23386e5ec1be66386256ef25023b6a\"\n"
     ]
    }
   ],
   "source": [
    "query-payout \"$TX_4\""
   ]
  },
  {
   "cell_type": "markdown",
   "id": "1039eceb-843e-4fd9-834e-96b698d92500",
   "metadata": {},
   "source": [
    "The guarantor and lender will withdraw these funds later."
   ]
  },
  {
   "cell_type": "markdown",
   "id": "1d9856fa-2972-430c-830f-89e09029431b",
   "metadata": {},
   "source": [
    "## Transaction 6. Borrower Make Second Deposit of Interest"
   ]
  },
  {
   "cell_type": "markdown",
   "id": "396405ef-9a6f-4bab-8b06-79d7b5e4a22e",
   "metadata": {},
   "source": [
    "Time passes and the borrower must make their second interest payment."
   ]
  },
  {
   "cell_type": "code",
   "execution_count": 66,
   "id": "052fb9a2-d080-48ab-a31f-2cbc508c38c2",
   "metadata": {},
   "outputs": [
    {
     "name": "stdout",
     "output_type": "stream",
     "text": [
      "timeout: 1666004586000\n",
      "timeout_continuation: close\n",
      "when:\n",
      "- case:\n",
      "    deposits:\n",
      "      add: 3000000\n",
      "      and: 20000000\n",
      "    into_account:\n",
      "      role_token: Lender\n",
      "    of_token:\n",
      "      currency_symbol: ''\n",
      "      token_name: ''\n",
      "    party:\n",
      "      role_token: Borrower\n",
      "  merkleized_then: ed2c966dac497fb1c664dc566ae8623e4edc0ce8f98b1ba71dfd14b4980f6b2d\n"
     ]
    }
   ],
   "source": [
    "show-contract 5"
   ]
  },
  {
   "cell_type": "markdown",
   "id": "0292940f-e196-43c5-a01b-12a413eeaf75",
   "metadata": {},
   "source": [
    "This triggers a payment to the lender and a refund of part of the guarantee to the guarantor."
   ]
  },
  {
   "cell_type": "code",
   "execution_count": 67,
   "id": "659cb82a-cf1d-4fcb-8e63-7cb97d012abd",
   "metadata": {},
   "outputs": [
    {
     "name": "stdout",
     "output_type": "stream",
     "text": [
      "\n",
      "Datum size: 223\n",
      "Payment 1\n",
      "  Acccount: \"Lender\"\n",
      "  Payee: Party \"Lender\"\n",
      "  Ada: Lovelace {getLovelace = 3000000}\n",
      "Payment 2\n",
      "  Acccount: \"Lender\"\n",
      "  Payee: Party \"Guarantor\"\n",
      "  Ada: Lovelace {getLovelace = 3000000}\n"
     ]
    }
   ],
   "source": [
    "marlowe-cli run prepare --deposit-party \"$BORROWER_ROLE\" \\\n",
    "                        --deposit-account \"$LENDER_ROLE\" \\\n",
    "                        --deposit-amount \"$INTEREST\" \\\n",
    "                        --invalid-before \"$(invalid-before 4)\" \\\n",
    "                        --invalid-hereafter \"$(invalid-hereafter 4)\" \\\n",
    "                        --marlowe-file coupon-bond-guaranteed-4.marlowe \\\n",
    "                        --out-file     coupon-bond-guaranteed-5.marlowe \\\n",
    "                        --print-stats"
   ]
  },
  {
   "cell_type": "markdown",
   "id": "770041f3-4bd1-4192-8d37-04286b7c2258",
   "metadata": {},
   "source": [
    "The internal accounts contain sufficient funds to guarantee the rest of the loan."
   ]
  },
  {
   "cell_type": "code",
   "execution_count": 68,
   "id": "06528159-9fae-4eff-9152-5432de5d92fb",
   "metadata": {},
   "outputs": [
    {
     "name": "stdout",
     "output_type": "stream",
     "text": [
      "- - - role_token: Guarantor\n",
      "    - currency_symbol: ''\n",
      "      token_name: ''\n",
      "  - 2000000\n",
      "- - - role_token: Lender\n",
      "    - currency_symbol: ''\n",
      "      token_name: ''\n",
      "  - 23000000\n"
     ]
    }
   ],
   "source": [
    "show-accounts 5"
   ]
  },
  {
   "cell_type": "markdown",
   "id": "3d4f0c2c-e6c5-4160-8db5-f7f80caac249",
   "metadata": {},
   "source": [
    "Submit the transaction."
   ]
  },
  {
   "cell_type": "code",
   "execution_count": 69,
   "id": "3fac923d-3f22-45e2-8222-bcff84835611",
   "metadata": {
    "tags": []
   },
   "outputs": [
    {
     "name": "stdout",
     "output_type": "stream",
     "text": [
      "\n",
      "Fee: Lovelace 1148884\n",
      "Size: 1518 / 16384 = 9%\n",
      "Execution units:\n",
      "  Memory: 11801560 / 14000000 = 84%\n",
      "  Steps: 3134591882 / 10000000000 = 31%\n",
      "TX_5 = 14d7543fdf706a103dd4df55406a25ba43e99044f05f743408f199fefb6493ba\n"
     ]
    }
   ],
   "source": [
    "TX_5=$(\n",
    "marlowe-cli run auto-execute \"${MAGIC[@]}\" \\\n",
    "                             --tx-in-marlowe \"$TX_4#1\" \\\n",
    "                             --marlowe-in-file coupon-bond-guaranteed-4.marlowe \\\n",
    "                             --marlowe-out-file coupon-bond-guaranteed-5.marlowe \\\n",
    "                             --required-signer \"$BORROWER_SKEY\" \\\n",
    "                             --change-address \"$BORROWER_ADDR\" \\\n",
    "                             --out-file /dev/null \\\n",
    "                             --print-stats \\\n",
    "                             --submit=600 \\\n",
    ")\n",
    "echo \"TX_5 = $TX_5\""
   ]
  },
  {
   "cell_type": "markdown",
   "id": "855eea5d-fef3-4154-ad2f-627d9202a79d",
   "metadata": {},
   "source": [
    "The Marlowe script address's value changed because the guarantor received a partial refund."
   ]
  },
  {
   "cell_type": "code",
   "execution_count": 70,
   "id": "79bb77a8-7dc0-4d67-943a-93c2b4021d70",
   "metadata": {},
   "outputs": [
    {
     "name": "stdout",
     "output_type": "stream",
     "text": [
      "\n",
      "UTxOs at the contracts's address:\n",
      "                           TxHash                                 TxIx        Amount\n",
      "--------------------------------------------------------------------------------------\n",
      "14d7543fdf706a103dd4df55406a25ba43e99044f05f743408f199fefb6493ba     1        25000000 lovelace + TxOutDatumHash ScriptDataInBabbageEra \"1a9d1374a9d4d1ff76e0cb9a73752865c5dc7ed23c39997755e088fcc2873f13\"\n"
     ]
    }
   ],
   "source": [
    "query-marlowe \"$TX_5\""
   ]
  },
  {
   "cell_type": "markdown",
   "id": "dd38fe89-d715-4f9d-b1ca-bcd990006c72",
   "metadata": {},
   "source": [
    "But the payout address has additional funds ready for the lender and guarantor."
   ]
  },
  {
   "cell_type": "code",
   "execution_count": 71,
   "id": "0c527283-bbcc-4d8e-b796-a0cf3c192f9f",
   "metadata": {},
   "outputs": [
    {
     "name": "stdout",
     "output_type": "stream",
     "text": [
      "\n",
      "UTxOs at the payout address:\n",
      "                           TxHash                                 TxIx        Amount\n",
      "--------------------------------------------------------------------------------------\n",
      "14d7543fdf706a103dd4df55406a25ba43e99044f05f743408f199fefb6493ba     2        3000000 lovelace + TxOutDatumHash ScriptDataInBabbageEra \"9a46b584520d3445db4a18cefdb256a06f2c0abf1d95ebe523465e71ef1a0942\"\n",
      "14d7543fdf706a103dd4df55406a25ba43e99044f05f743408f199fefb6493ba     3        3000000 lovelace + TxOutDatumHash ScriptDataInBabbageEra \"963186f2154ce9c879372b6c7f7122c9bf23386e5ec1be66386256ef25023b6a\"\n"
     ]
    }
   ],
   "source": [
    "query-payout \"$TX_5\""
   ]
  },
  {
   "cell_type": "markdown",
   "id": "5ad6069b-d924-4a96-8f16-8845208e5d8f",
   "metadata": {},
   "source": [
    "The guarantor and lender will withdraw these funds later."
   ]
  },
  {
   "cell_type": "markdown",
   "id": "d0071d31-c682-4dd8-a4cb-accdd72e7737",
   "metadata": {},
   "source": [
    "## Transaction 7. Borrower Make Third Deposit of Interest and Principal"
   ]
  },
  {
   "cell_type": "markdown",
   "id": "c79f2487-0307-4238-8860-7e9541d3f262",
   "metadata": {},
   "source": [
    "More time passes and the borrower must make their third deposit of interest plus the principal."
   ]
  },
  {
   "cell_type": "code",
   "execution_count": 72,
   "id": "9efc6295-2301-4f1c-858c-61985b32b011",
   "metadata": {},
   "outputs": [
    {
     "name": "stdout",
     "output_type": "stream",
     "text": [
      "timeout: 1666006947000\n",
      "timeout_continuation: close\n",
      "when:\n",
      "- case:\n",
      "    deposits:\n",
      "      add: 3000000\n",
      "      and: 20000000\n",
      "    into_account:\n",
      "      role_token: Lender\n",
      "    of_token:\n",
      "      currency_symbol: ''\n",
      "      token_name: ''\n",
      "    party:\n",
      "      role_token: Borrower\n",
      "  merkleized_then: ed2c966dac497fb1c664dc566ae8623e4edc0ce8f98b1ba71dfd14b4980f6b2d\n"
     ]
    }
   ],
   "source": [
    "show-contract 5"
   ]
  },
  {
   "cell_type": "markdown",
   "id": "c8054802-5106-42af-9f4d-512f2961c590",
   "metadata": {},
   "source": [
    "This triggers a payment to the lender and a refund of rest of the guarantee to the guarantor. The guarantor also receives their initial min-Ada from when they created the contract.\n",
    "\n"
   ]
  },
  {
   "cell_type": "code",
   "execution_count": 73,
   "id": "8ebde28b-fff7-4f16-952e-0bbd108605c6",
   "metadata": {},
   "outputs": [
    {
     "name": "stdout",
     "output_type": "stream",
     "text": [
      "\n",
      "Datum size: 59\n",
      "Payment 1\n",
      "  Acccount: \"Lender\"\n",
      "  Payee: Party \"Lender\"\n",
      "  Ada: Lovelace {getLovelace = 23000000}\n",
      "Payment 2\n",
      "  Acccount: \"Lender\"\n",
      "  Payee: Party \"Guarantor\"\n",
      "  Ada: Lovelace {getLovelace = 23000000}\n",
      "Payment 3\n",
      "  Acccount: \"Guarantor\"\n",
      "  Payee: Party \"Guarantor\"\n",
      "  Ada: Lovelace {getLovelace = 2000000}\n"
     ]
    }
   ],
   "source": [
    "marlowe-cli run prepare --deposit-party \"$BORROWER_ROLE\" \\\n",
    "                        --deposit-account \"$LENDER_ROLE\" \\\n",
    "                        --deposit-amount \"$((PRINCIPAL + INTEREST))\" \\\n",
    "                        --invalid-before \"$(invalid-before 5)\" \\\n",
    "                        --invalid-hereafter \"$(invalid-hereafter 5)\" \\\n",
    "                        --marlowe-file coupon-bond-guaranteed-5.marlowe \\\n",
    "                        --out-file     coupon-bond-guaranteed-6.marlowe \\\n",
    "                        --print-stats"
   ]
  },
  {
   "cell_type": "markdown",
   "id": "dfa1bd17-5f91-4df9-b464-83217ef541ad",
   "metadata": {},
   "source": [
    "The contract has closed, and it has not funds in internal accounts."
   ]
  },
  {
   "cell_type": "code",
   "execution_count": 74,
   "id": "5349e476-adc3-495c-83a9-f2376f240ee9",
   "metadata": {},
   "outputs": [
    {
     "name": "stdout",
     "output_type": "stream",
     "text": [
      "close\n",
      "...\n"
     ]
    }
   ],
   "source": [
    "show-contract 6"
   ]
  },
  {
   "cell_type": "code",
   "execution_count": 75,
   "id": "9a8a50cd-6611-4f7a-a3ce-6a102171c824",
   "metadata": {},
   "outputs": [
    {
     "name": "stdout",
     "output_type": "stream",
     "text": [
      "[]\n"
     ]
    }
   ],
   "source": [
    "show-accounts 6"
   ]
  },
  {
   "cell_type": "markdown",
   "id": "4a5d7e6f-a49f-4c06-9a56-d645b81fba8e",
   "metadata": {},
   "source": [
    "Submit the transaction."
   ]
  },
  {
   "cell_type": "code",
   "execution_count": 76,
   "id": "bfa27ed4-aef5-4c16-9a5e-91154ca685c0",
   "metadata": {
    "tags": []
   },
   "outputs": [
    {
     "name": "stdout",
     "output_type": "stream",
     "text": [
      "\n",
      "Fee: Lovelace 919910\n",
      "Size: 1151 / 16384 = 7%\n",
      "Execution units:\n",
      "  Memory: 9039188 / 14000000 = 64%\n",
      "  Steps: 2393448285 / 10000000000 = 23%\n",
      "TX_6 = f488a476d5e75ca4f715143ea0a668fd2a0a9a70b19fc6b994cb9628896f698e\n"
     ]
    }
   ],
   "source": [
    "TX_6=$(\n",
    "marlowe-cli run auto-execute \"${MAGIC[@]}\" \\\n",
    "                             --tx-in-marlowe \"$TX_5#1\" \\\n",
    "                             --marlowe-in-file coupon-bond-guaranteed-5.marlowe \\\n",
    "                             --marlowe-out-file coupon-bond-guaranteed-6.marlowe \\\n",
    "                             --required-signer \"$BORROWER_SKEY\" \\\n",
    "                             --change-address \"$BORROWER_ADDR\" \\\n",
    "                             --out-file /dev/null \\\n",
    "                             --print-stats \\\n",
    "                             --submit=600 \\\n",
    ")\n",
    "echo \"TX_6 = $TX_6\""
   ]
  },
  {
   "cell_type": "markdown",
   "id": "68cc8e17-c5c0-460e-91e0-7c763617d7b2",
   "metadata": {},
   "source": [
    "The Marlowe script address has no UTxO because the contract closed."
   ]
  },
  {
   "cell_type": "code",
   "execution_count": 77,
   "id": "c5cb5c97-1a4e-4375-b56c-ad83c5415e85",
   "metadata": {},
   "outputs": [
    {
     "name": "stdout",
     "output_type": "stream",
     "text": [
      "\n",
      "UTxOs at the contracts's address:\n",
      "                           TxHash                                 TxIx        Amount\n",
      "--------------------------------------------------------------------------------------\n"
     ]
    }
   ],
   "source": [
    "query-marlowe \"$TX_6\""
   ]
  },
  {
   "cell_type": "markdown",
   "id": "e501b38f-c03a-46c3-b004-356a7a00836d",
   "metadata": {},
   "source": [
    "But the payout address has additional funds ready for the lender and guarantor."
   ]
  },
  {
   "cell_type": "code",
   "execution_count": 78,
   "id": "d68de0b9-01a8-4bd6-80e1-34c8b4407eb4",
   "metadata": {},
   "outputs": [
    {
     "name": "stdout",
     "output_type": "stream",
     "text": [
      "\n",
      "UTxOs at the payout address:\n",
      "                           TxHash                                 TxIx        Amount\n",
      "--------------------------------------------------------------------------------------\n",
      "f488a476d5e75ca4f715143ea0a668fd2a0a9a70b19fc6b994cb9628896f698e     1        25000000 lovelace + TxOutDatumHash ScriptDataInBabbageEra \"9a46b584520d3445db4a18cefdb256a06f2c0abf1d95ebe523465e71ef1a0942\"\n",
      "f488a476d5e75ca4f715143ea0a668fd2a0a9a70b19fc6b994cb9628896f698e     2        23000000 lovelace + TxOutDatumHash ScriptDataInBabbageEra \"963186f2154ce9c879372b6c7f7122c9bf23386e5ec1be66386256ef25023b6a\"\n"
     ]
    }
   ],
   "source": [
    "query-payout \"$TX_6\""
   ]
  },
  {
   "cell_type": "markdown",
   "id": "22c9dad8-43c9-4823-b18c-8609f6d017d5",
   "metadata": {},
   "source": [
    "View the UTxO's at the borrower's address."
   ]
  },
  {
   "cell_type": "code",
   "execution_count": 79,
   "id": "b955a60d-a5a0-469f-99cd-c6bf2ba02985",
   "metadata": {},
   "outputs": [
    {
     "name": "stdout",
     "output_type": "stream",
     "text": [
      "\n",
      "UTxOs at the borrower's address:\n",
      "                           TxHash                                 TxIx        Amount\n",
      "--------------------------------------------------------------------------------------\n",
      "14d7543fdf706a103dd4df55406a25ba43e99044f05f743408f199fefb6493ba     0        7761111 lovelace + TxOutDatumNone\n",
      "14d7543fdf706a103dd4df55406a25ba43e99044f05f743408f199fefb6493ba     5        1500000 lovelace + TxOutDatumHash ScriptDataInBabbageEra \"1e5fcd9472a2b1430759b045ae6a8b1f72c9518feadb13dcb9f531c781399aea\"\n",
      "27384cd91e10fec5b4496356d3686a12b9d43cbc02652a834fd0181803167a11     5        1500000 lovelace + TxOutDatumHash ScriptDataInBabbageEra \"c726e2743429c79e222c15f612dd98acd1a342df666e653c782866167ddf057d\"\n",
      "f488a476d5e75ca4f715143ea0a668fd2a0a9a70b19fc6b994cb9628896f698e     0        6249784 lovelace + TxOutDatumNone\n",
      "f488a476d5e75ca4f715143ea0a668fd2a0a9a70b19fc6b994cb9628896f698e     3        1043020 lovelace + 1 346ec66c37f28ef21ee262eaf41dfe3605aa3344dd236a6003cb606e.426f72726f776572 + TxOutDatumNone\n",
      "f488a476d5e75ca4f715143ea0a668fd2a0a9a70b19fc6b994cb9628896f698e     4        1500000 lovelace + TxOutDatumHash ScriptDataInBabbageEra \"ed2c966dac497fb1c664dc566ae8623e4edc0ce8f98b1ba71dfd14b4980f6b2d\"\n"
     ]
    }
   ],
   "source": [
    "query-borrower"
   ]
  },
  {
   "cell_type": "markdown",
   "id": "a58650e6-9f96-4b4b-be4c-8cf5f273f6f6",
   "metadata": {},
   "source": [
    "## Transaction 8. Lender Withdraws the Principal and Interest"
   ]
  },
  {
   "cell_type": "markdown",
   "id": "1ef528be-c5ae-4a78-97a8-03552b11cb96",
   "metadata": {},
   "source": [
    "The lender uses their role token to withdraw the principal and interest."
   ]
  },
  {
   "cell_type": "code",
   "execution_count": 80,
   "id": "d1079e00-602e-446e-914f-90dc2ef0f8ad",
   "metadata": {},
   "outputs": [
    {
     "name": "stdout",
     "output_type": "stream",
     "text": [
      "\n",
      "Fee: Lovelace 801760\n",
      "Size: 552 / 16384 = 3%\n",
      "Execution units:\n",
      "  Memory: 7776804 / 14000000 = 55%\n",
      "  Steps: 2130549528 / 10000000000 = 21%\n",
      "55b599cc47dcea2ef923a250d153d09b362cc4252a1dc37d0b40cde232a0d5c1\n"
     ]
    }
   ],
   "source": [
    "marlowe-cli run auto-withdraw \"${MAGIC[@]}\" \\\n",
    "                              --marlowe-file coupon-bond-guaranteed-6.marlowe \\\n",
    "                              --role-name \"$LENDER_ROLE\" \\\n",
    "                              --change-address \"$LENDER_ADDR\" \\\n",
    "                              --required-signer \"$LENDER_SKEY\" \\\n",
    "                              --out-file /dev/null \\\n",
    "                              --print-stats \\\n",
    "                              --submit 600"
   ]
  },
  {
   "cell_type": "markdown",
   "id": "5d11a74e-f6d4-444b-a3ac-203ee8e0b73a",
   "metadata": {},
   "source": [
    "The lender has received the principal and interest."
   ]
  },
  {
   "cell_type": "code",
   "execution_count": 81,
   "id": "430d97db-fbcf-42d9-9443-0045036a2f06",
   "metadata": {},
   "outputs": [
    {
     "name": "stdout",
     "output_type": "stream",
     "text": [
      "\n",
      "UTxOs at the lender's address:\n",
      "                           TxHash                                 TxIx        Amount\n",
      "--------------------------------------------------------------------------------------\n",
      "55b599cc47dcea2ef923a250d153d09b362cc4252a1dc37d0b40cde232a0d5c1     0        18780149 lovelace + TxOutDatumNone\n",
      "55b599cc47dcea2ef923a250d153d09b362cc4252a1dc37d0b40cde232a0d5c1     1        29000000 lovelace + 1 346ec66c37f28ef21ee262eaf41dfe3605aa3344dd236a6003cb606e.4c656e646572 + TxOutDatumNone\n",
      "fe9a23033ab42aec4de6e50f9e68caa1b6553b21b0c37fb9371125cb9b4cec1a     4        1500000 lovelace + TxOutDatumHash ScriptDataInBabbageEra \"3f1aef7a34821b85f97f1d7fb6011295b4fb25226b7d050f63c9aa55f90d0d8b\"\n"
     ]
    }
   ],
   "source": [
    "query-lender"
   ]
  },
  {
   "cell_type": "markdown",
   "id": "e6f43f33-314e-4ec4-9d4f-cbaf585511ce",
   "metadata": {},
   "source": [
    "## Transaction 9. Guarantor Withdraws Their Guarantee"
   ]
  },
  {
   "cell_type": "markdown",
   "id": "ab8b8b0c-523c-4762-8220-10a7c144d702",
   "metadata": {},
   "source": [
    "The guarantor uses their role token to withdraw the guarantee."
   ]
  },
  {
   "cell_type": "code",
   "execution_count": 82,
   "id": "44c7de18-e7dc-4eec-903c-bb28baa657f3",
   "metadata": {},
   "outputs": [
    {
     "name": "stdout",
     "output_type": "stream",
     "text": [
      "\n",
      "Fee: Lovelace 757070\n",
      "Size: 558 / 16384 = 3%\n",
      "Execution units:\n",
      "  Memory: 7174380 / 14000000 = 51%\n",
      "  Steps: 1989162939 / 10000000000 = 19%\n",
      "17c121df1218788fd478f5ca225b7343f20d0fc3a79d48f90ef23ae8461460e8\n"
     ]
    }
   ],
   "source": [
    "marlowe-cli run auto-withdraw \"${MAGIC[@]}\" \\\n",
    "                              --marlowe-file coupon-bond-guaranteed-6.marlowe \\\n",
    "                              --role-name \"$GUARANTOR_ROLE\" \\\n",
    "                              --change-address \"$GUARANTOR_ADDR\" \\\n",
    "                              --required-signer \"$GUARANTOR_SKEY\" \\\n",
    "                              --out-file /dev/null \\\n",
    "                              --print-stats \\\n",
    "                              --submit 600"
   ]
  },
  {
   "cell_type": "markdown",
   "id": "d1377921-7d6c-444c-8aab-e65ccc561ea0",
   "metadata": {},
   "source": [
    "The guarantor has received their guarantee."
   ]
  },
  {
   "cell_type": "code",
   "execution_count": 83,
   "id": "d7223a0a-0a19-4d09-b2ee-9d0d8d0838c2",
   "metadata": {},
   "outputs": [
    {
     "name": "stdout",
     "output_type": "stream",
     "text": [
      "\n",
      "UTxOs at the guarantor's address:\n",
      "                           TxHash                                 TxIx        Amount\n",
      "--------------------------------------------------------------------------------------\n",
      "00d1cd8e0a8e83d9b8be1adca9946264a3c9e7e524279ab2c3e44b19497a9caf     3        1500000 lovelace + TxOutDatumHash ScriptDataInBabbageEra \"a0bbe8285cd863b56629cac690f526aaa1ddc8a7b203d012a8ec8220b697a123\"\n",
      "17c121df1218788fd478f5ca225b7343f20d0fc3a79d48f90ef23ae8461460e8     0        11404263 lovelace + TxOutDatumNone\n",
      "17c121df1218788fd478f5ca225b7343f20d0fc3a79d48f90ef23ae8461460e8     1        31000000 lovelace + 1 346ec66c37f28ef21ee262eaf41dfe3605aa3344dd236a6003cb606e.47756172616e746f72 + TxOutDatumNone\n"
     ]
    }
   ],
   "source": [
    "query-guarantor"
   ]
  },
  {
   "cell_type": "markdown",
   "id": "602762b0-f2e4-4e94-903f-d76d129c7398",
   "metadata": {},
   "source": [
    "## Clean Up"
   ]
  },
  {
   "cell_type": "markdown",
   "id": "b760e269-c70c-4364-a4d3-71438bfc3693",
   "metadata": {},
   "source": [
    "Send the lender's role token to the guarantor and their lovelace back to the faucet."
   ]
  },
  {
   "cell_type": "code",
   "execution_count": 84,
   "id": "0449c180-a1c7-4851-95d2-73e2ac322d6f",
   "metadata": {},
   "outputs": [
    {
     "name": "stdout",
     "output_type": "stream",
     "text": [
      "93ce2b3be52a4e6e7ddf1eb4c8c439d20cf60f918f9f5736114abacc0f20adbe\n"
     ]
    }
   ],
   "source": [
    "marlowe-cli util clean \"${MAGIC[@]}\" \\\n",
    "                       --change-address \"$LENDER_ADDR\" \\\n",
    "                       --required-signer \"$LENDER_SKEY\" \\\n",
    "                       --out-file /dev/null \\\n",
    "                       --submit 600"
   ]
  },
  {
   "cell_type": "code",
   "execution_count": 85,
   "id": "2669c768-a2cc-4967-9bf2-6f7dbf3c6a8d",
   "metadata": {},
   "outputs": [
    {
     "name": "stdout",
     "output_type": "stream",
     "text": [
      "cde2f3f0c3e8972237c498144ea1ec2ee0a2323c658480141d70edddf92593ab\n"
     ]
    }
   ],
   "source": [
    "marlowe-cli transaction simple \"${MAGIC[@]}\" \\\n",
    "                               --tx-in \"$(lovelace-utxo $LENDER_ADDR $((2*ADA)))\" \\\n",
    "                               --tx-in \"$(role-token-utxo $LENDER_ADDR $LENDER_TOKEN)\" \\\n",
    "                               --tx-out \"$GUARANTOR_ADDR+$((2*ADA))+1 $LENDER_TOKEN\" \\\n",
    "                               --change-address \"$FAUCET_ADDR\" \\\n",
    "                               --required-signer \"$LENDER_SKEY\" \\\n",
    "                               --out-file /dev/null \\\n",
    "                               --submit 600"
   ]
  },
  {
   "cell_type": "code",
   "execution_count": 86,
   "id": "1aebd2cb-02fb-407e-ac99-81fbb8605af1",
   "metadata": {},
   "outputs": [
    {
     "name": "stdout",
     "output_type": "stream",
     "text": [
      "\n",
      "UTxOs at the lender's address:\n",
      "                           TxHash                                 TxIx        Amount\n",
      "--------------------------------------------------------------------------------------\n"
     ]
    }
   ],
   "source": [
    "query-lender"
   ]
  },
  {
   "cell_type": "markdown",
   "id": "e498e4ee-e495-459b-92c3-b0ed59e6af96",
   "metadata": {},
   "source": [
    "Send the borrower's role token and funds to the guarantor and their lovelace back to the faucet."
   ]
  },
  {
   "cell_type": "code",
   "execution_count": 87,
   "id": "3aaa4077-98b7-4e97-b602-c7b9a6b2f05a",
   "metadata": {},
   "outputs": [
    {
     "name": "stdout",
     "output_type": "stream",
     "text": [
      "7ed785f2b16e87394ec07dacf1b023ec55c961f96d1e621689c243950aec75ac\n"
     ]
    }
   ],
   "source": [
    "marlowe-cli util clean \"${MAGIC[@]}\" \\\n",
    "                       --change-address \"$BORROWER_ADDR\" \\\n",
    "                       --required-signer \"$BORROWER_SKEY\" \\\n",
    "                       --out-file /dev/null \\\n",
    "                       --submit 600"
   ]
  },
  {
   "cell_type": "code",
   "execution_count": 88,
   "id": "618b68ac-de2f-4829-ad8f-82fda4559f1b",
   "metadata": {},
   "outputs": [
    {
     "name": "stdout",
     "output_type": "stream",
     "text": [
      "53bbdc1f6a8fed9d892f9695a8fa3a4ec59f9e809e20aff9d7313ecc74e4bc0a\n"
     ]
    }
   ],
   "source": [
    "marlowe-cli transaction simple \"${MAGIC[@]}\" \\\n",
    "                               --tx-in \"$(lovelace-utxo $BORROWER_ADDR $((2*ADA)))\" \\\n",
    "                               --tx-in \"$(role-token-utxo $BORROWER_ADDR $BORROWER_TOKEN)\" \\\n",
    "                               --tx-out \"$GUARANTOR_ADDR+$((2*ADA))+1 $BORROWER_TOKEN\" \\\n",
    "                               --change-address \"$FAUCET_ADDR\" \\\n",
    "                               --required-signer \"$BORROWER_SKEY\" \\\n",
    "                               --out-file /dev/null \\\n",
    "                               --submit 600"
   ]
  },
  {
   "cell_type": "code",
   "execution_count": 89,
   "id": "cc674ac3-2340-4b83-9f3d-ff1cde744844",
   "metadata": {},
   "outputs": [
    {
     "name": "stdout",
     "output_type": "stream",
     "text": [
      "\n",
      "UTxOs at the borrower's address:\n",
      "                           TxHash                                 TxIx        Amount\n",
      "--------------------------------------------------------------------------------------\n"
     ]
    }
   ],
   "source": [
    "query-borrower"
   ]
  },
  {
   "cell_type": "markdown",
   "id": "0a43755e-7c47-4156-ad0e-b40c961efba0",
   "metadata": {},
   "source": [
    "Burn the tokens and send the lovelace to back to the faucet."
   ]
  },
  {
   "cell_type": "code",
   "execution_count": 90,
   "id": "46d75abf-6ab8-4002-a988-4997683a3574",
   "metadata": {},
   "outputs": [
    {
     "name": "stdout",
     "output_type": "stream",
     "text": [
      "\n",
      "Fee: Lovelace 194849\n",
      "Size: 351 / 16384 = 2%\n",
      "Execution units:\n",
      "  Memory: 0 / 14000000 = 0%\n",
      "  Steps: 0 / 10000000000 = 0%\n",
      "346ec66c37f28ef21ee262eaf41dfe3605aa3344dd236a6003cb606e\n"
     ]
    }
   ],
   "source": [
    "marlowe-cli util burn \"${MAGIC[@]}\" \\\n",
    "                      --expires \"$MINT_EXPIRES\" \\\n",
    "                      --issuer \"$GUARANTOR_ADDR:$GUARANTOR_SKEY\" \\\n",
    "                      --token-provider \"$GUARANTOR_ADDR:$GUARANTOR_SKEY\" \\\n",
    "                      --out-file /dev/null \\\n",
    "                      --submit 600"
   ]
  },
  {
   "cell_type": "code",
   "execution_count": 91,
   "id": "1b83f5d9-3c46-4dc7-ae4a-125341aa18a8",
   "metadata": {},
   "outputs": [
    {
     "name": "stdout",
     "output_type": "stream",
     "text": [
      "b5e097f93770410df7f3400a3fb56529d6a0f7db28aee847a813af546d381788\n"
     ]
    }
   ],
   "source": [
    "marlowe-cli transaction simple \"${MAGIC[@]}\" \\\n",
    "                               --tx-in \"$(lovelace-utxo $GUARANTOR_ADDR 1)\" \\\n",
    "                               --change-address \"$FAUCET_ADDR\" \\\n",
    "                               --required-signer \"$GUARANTOR_SKEY\" \\\n",
    "                               --out-file /dev/null \\\n",
    "                               --submit 600"
   ]
  },
  {
   "cell_type": "code",
   "execution_count": 92,
   "id": "ae19bb7a-aa7b-458c-8fbd-7fc8e45ebcc9",
   "metadata": {},
   "outputs": [
    {
     "name": "stdout",
     "output_type": "stream",
     "text": [
      "\n",
      "UTxOs at the guarantor's address:\n",
      "                           TxHash                                 TxIx        Amount\n",
      "--------------------------------------------------------------------------------------\n"
     ]
    }
   ],
   "source": [
    "query-guarantor"
   ]
  },
  {
   "cell_type": "markdown",
   "id": "ae546821-7c8f-475a-b6e6-284ad8c8269b",
   "metadata": {},
   "source": [
    "View the UTxOs at the faucet."
   ]
  },
  {
   "cell_type": "code",
   "execution_count": 93,
   "id": "09958299-700e-45f8-910f-a1aa752de280",
   "metadata": {},
   "outputs": [
    {
     "name": "stdout",
     "output_type": "stream",
     "text": [
      "d86c2ed60bcf8c5a63262037e6507e53acbe73bff7c57fc8134211bffb66b5a1\n"
     ]
    }
   ],
   "source": [
    "marlowe-cli util clean \"${MAGIC[@]}\" \\\n",
    "                       --change-address \"$FAUCET_ADDR\" \\\n",
    "                       --required-signer \"$FAUCET_SKEY\" \\\n",
    "                       --out-file /dev/null \\\n",
    "                       --submit 600"
   ]
  },
  {
   "cell_type": "code",
   "execution_count": 94,
   "id": "20e8be5a-9cbe-4ae5-bfdd-ac0611520349",
   "metadata": {},
   "outputs": [
    {
     "name": "stdout",
     "output_type": "stream",
     "text": [
      "                           TxHash                                 TxIx        Amount\n",
      "--------------------------------------------------------------------------------------\n",
      "d86c2ed60bcf8c5a63262037e6507e53acbe73bff7c57fc8134211bffb66b5a1     0        230122886 lovelace + TxOutDatumNone\n"
     ]
    }
   ],
   "source": [
    "cardano-cli query utxo \"${MAGIC[@]}\" --address \"$FAUCET_ADDR\""
   ]
  },
  {
   "cell_type": "markdown",
   "id": "3e5ba829-d1be-47c1-b3c1-1db011b9e311",
   "metadata": {},
   "source": [
    "## Total Cost in Fees"
   ]
  },
  {
   "cell_type": "markdown",
   "id": "d162e8ed-bb7d-4f34-965d-a463dd56a174",
   "metadata": {},
   "source": [
    "Compare the funds in the faucet at the beginning of the transactions to the funds in the faucet at the end of the transactions."
   ]
  },
  {
   "cell_type": "code",
   "execution_count": 95,
   "id": "2be9ebcf-32ed-41db-adc9-6e7512fae1ee",
   "metadata": {},
   "outputs": [
    {
     "name": "stdout",
     "output_type": "stream",
     "text": [
      "The faucet started with 240.018586 Ada.\n",
      "The faucet ended with 230.122886 Ada.\n",
      "The total cost of the transactions was 9.895700 Ada.\n"
     ]
    }
   ],
   "source": [
    "echo \"The faucet started with $(echo scale=6\\;$FAUCET_INITIAL_FUNDS/1000000 | bc) Ada.\"\n",
    "\n",
    "FAUCET_FINAL_FUNDS=$(query-faucet)\n",
    "echo \"The faucet ended with $(echo scale=6\\;$FAUCET_FINAL_FUNDS/1000000 | bc) Ada.\"\n",
    "\n",
    "echo \"The total cost of the transactions was $(echo scale=6\\;\\($FAUCET_INITIAL_FUNDS-$FAUCET_FINAL_FUNDS\\)/1000000 | bc) Ada.\""
   ]
  }
 ],
 "metadata": {
  "kernelspec": {
   "display_name": "Bash - Marlowe",
   "language": "bash",
   "name": "bash_marlowe"
  },
  "language_info": {
   "codemirror_mode": "shell",
   "file_extension": ".sh",
   "mimetype": "text/x-sh",
   "name": "/nix/store/zwjm0gln1vk7x1akpyz0yxjsd1yc46gi-bash-5.1-p16/bin/bash"
  }
 },
 "nbformat": 4,
 "nbformat_minor": 5
}
