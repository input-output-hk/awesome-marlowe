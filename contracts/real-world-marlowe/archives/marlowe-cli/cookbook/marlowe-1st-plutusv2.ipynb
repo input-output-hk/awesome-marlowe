{
 "cells": [
  {
   "cell_type": "markdown",
   "id": "abf07c0b-3e61-452c-9127-795b8e6d9031",
   "metadata": {},
   "source": [
    "# First Marlowe Using Plutus V2 on Mainnet"
   ]
  },
  {
   "cell_type": "markdown",
   "id": "c699a8bb-8b22-4816-947a-68ce581f2928",
   "metadata": {},
   "source": [
    "## Record version numbers"
   ]
  },
  {
   "cell_type": "code",
   "execution_count": 1,
   "id": "b221ed5c-21d2-4c4d-84fd-9f406b7d640e",
   "metadata": {},
   "outputs": [
    {
     "name": "stdout",
     "output_type": "stream",
     "text": [
      "54f956b5ba3009a41ecae11d502c165021ceb1ad\n"
     ]
    }
   ],
   "source": [
    "git rev-parse HEAD"
   ]
  },
  {
   "cell_type": "code",
   "execution_count": 2,
   "id": "a0004d94-b900-43fb-ace6-da2a582e951b",
   "metadata": {},
   "outputs": [
    {
     "name": "stdout",
     "output_type": "stream",
     "text": [
      "marlowe-cli 0.0.8.2\n"
     ]
    }
   ],
   "source": [
    "marlowe-cli --version"
   ]
  },
  {
   "cell_type": "code",
   "execution_count": 3,
   "id": "3ea782c6-542e-4eac-bc1d-47aab00867d2",
   "metadata": {},
   "outputs": [
    {
     "name": "stdout",
     "output_type": "stream",
     "text": [
      "cardano-cli 1.35.3 - linux-x86_64 - ghc-8.10\n",
      "git rev 0000000000000000000000000000000000000000\n"
     ]
    }
   ],
   "source": [
    "cardano-cli --version"
   ]
  },
  {
   "cell_type": "markdown",
   "id": "66bab969-79e1-4fbe-b72a-8ac1e9c56fd5",
   "metadata": {},
   "source": [
    "## Select `mainnet`"
   ]
  },
  {
   "cell_type": "code",
   "execution_count": 4,
   "id": "ea5535c7-46a3-4ca7-b085-482723df322c",
   "metadata": {},
   "outputs": [],
   "source": [
    "export CARDANO_TESTNET_MAGIC=764824073\n",
    "export CARDANO_NODE_SOCKET_PATH=node.socket"
   ]
  },
  {
   "cell_type": "markdown",
   "id": "c43ab980-a37e-423b-ab04-b18ce3950a66",
   "metadata": {},
   "source": [
    "## Set path to keys"
   ]
  },
  {
   "cell_type": "code",
   "execution_count": 5,
   "id": "bd2eb10b-0ef9-43ff-8ef2-7215259b1fea",
   "metadata": {},
   "outputs": [],
   "source": [
    "export TREASURY=treasury"
   ]
  },
  {
   "cell_type": "code",
   "execution_count": 6,
   "id": "6c0504a7-04a8-41ae-b7a7-f838fa0d120d",
   "metadata": {},
   "outputs": [
    {
     "name": "stdout",
     "output_type": "stream",
     "text": [
      "addr1vy9prvx8ufwutkwxx9cmmuuajaqmjqwujqlp9d8pvg6gupceql82h\n"
     ]
    }
   ],
   "source": [
    "PAYMENT_SKEY=\"$TREASURY/payment.skey\"\n",
    "PAYMENT_ADDR=\"$(cat $TREASURY/payment.mainnet.address)\"\n",
    "echo \"$PAYMENT_ADDR\""
   ]
  },
  {
   "cell_type": "markdown",
   "id": "51e7800b-123d-4329-9b3e-f5db7ae8f11b",
   "metadata": {},
   "source": [
    "## Check for collateral"
   ]
  },
  {
   "cell_type": "code",
   "execution_count": 7,
   "id": "8b257dfa-9742-4049-ae80-fbc04f889d60",
   "metadata": {},
   "outputs": [
    {
     "name": "stdout",
     "output_type": "stream",
     "text": [
      "                           TxHash                                 TxIx        Amount\n",
      "--------------------------------------------------------------------------------------\n",
      "0d3e697efb2e9c5ea7ce5008d9804fc5188a584ead7882c2fc67757d6a88b226     0        48678354 lovelace + TxOutDatumNone\n"
     ]
    }
   ],
   "source": [
    "cardano-cli query utxo --mainnet --address \"$PAYMENT_ADDR\""
   ]
  },
  {
   "cell_type": "markdown",
   "id": "3213440d-6972-4d96-82e7-829c757336aa",
   "metadata": {},
   "source": [
    "## Find current time"
   ]
  },
  {
   "cell_type": "code",
   "execution_count": 8,
   "id": "03c21b18-b661-4ec0-9562-1fdc2ea26288",
   "metadata": {},
   "outputs": [
    {
     "name": "stdout",
     "output_type": "stream",
     "text": [
      "Sun Sep 25 04:47:09 PM UTC 2022 = 1664124429000\n"
     ]
    }
   ],
   "source": [
    "NOW=$(($(date -u +%s) * 1000))\n",
    "echo \"$(date -u) = $NOW\""
   ]
  },
  {
   "cell_type": "code",
   "execution_count": 9,
   "id": "0b939514-40b5-420b-83c2-8ff9d4fa50d8",
   "metadata": {},
   "outputs": [],
   "source": [
    "SECOND=1000\n",
    "MINUTE=$((60 * SECOND))\n",
    "HOUR=$((60 * MINUTE))\n",
    "DAY=$((24 * HOUR))"
   ]
  },
  {
   "cell_type": "markdown",
   "id": "98069f67-d392-4e11-a2a2-03fdfd4a4ed4",
   "metadata": {},
   "source": [
    "## Check for required input files"
   ]
  },
  {
   "cell_type": "code",
   "execution_count": 10,
   "id": "0131e0f7-f776-49be-b886-26affc17fa94",
   "metadata": {},
   "outputs": [
    {
     "name": "stdout",
     "output_type": "stream",
     "text": [
      "era: babbage\n",
      "plutusVersion: PlutusScriptV2\n",
      "tx:\n",
      "  continuations: []\n",
      "  contract:\n",
      "    timeout: 1665178603000\n",
      "    timeout_continuation: close\n",
      "    when:\n",
      "    - case:\n",
      "        notify_if:\n"
     ]
    }
   ],
   "source": [
    "json2yaml token-drop-mainnet-1.marlowe | head"
   ]
  },
  {
   "cell_type": "code",
   "execution_count": 11,
   "id": "72de4767-ed0b-4212-abc9-5e4f08f76f4a",
   "metadata": {},
   "outputs": [
    {
     "name": "stdout",
     "output_type": "stream",
     "text": [
      "'674':\n",
      "  msg:\n",
      "  - Welcome, Marlowe, to the Plutus V2!\n"
     ]
    }
   ],
   "source": [
    "json2yaml token-drop-mainnet-2.message"
   ]
  },
  {
   "cell_type": "markdown",
   "id": "e5f4228b-73a2-4b51-8b54-fcab7691640d",
   "metadata": {},
   "source": [
    "## Check that the contract isn't malicious"
   ]
  },
  {
   "cell_type": "code",
   "execution_count": 12,
   "id": "9f7dc4ad-6d6d-4007-9056-2ac7a9e7d4dc",
   "metadata": {},
   "outputs": [
    {
     "name": "stdout",
     "output_type": "stream",
     "text": [
      "timeout: 1665178603000\n",
      "timeout_continuation: close\n",
      "when:\n",
      "- case:\n",
      "    notify_if:\n",
      "      ge_than: 1663882603000\n",
      "      value: time_interval_start\n",
      "  then:\n",
      "    from_account:\n",
      "      address: addr1vy9prvx8ufwutkwxx9cmmuuajaqmjqwujqlp9d8pvg6gupceql82h\n",
      "    pay: 1\n",
      "    then:\n",
      "      from_account:\n",
      "        address: addr1vy9prvx8ufwutkwxx9cmmuuajaqmjqwujqlp9d8pvg6gupceql82h\n",
      "      pay: 1\n",
      "      then:\n",
      "        from_account:\n",
      "          address: addr1vy9prvx8ufwutkwxx9cmmuuajaqmjqwujqlp9d8pvg6gupceql82h\n",
      "        pay: 1\n",
      "        then: close\n",
      "        to:\n",
      "          party:\n",
      "            address: addr1qy4mhhat3s522uplguhkk2xxrnwsv65e0yxk9nyrn5530ksvluken35ncjnu0puetf5jvttedkze02d5kf890kquh60sc8hwky\n",
      "        token:\n",
      "          currency_symbol: 8bb3b343d8e404472337966a722150048c768d0a92a9813596c5338d\n",
      "          token_name: M4B\n",
      "      to:\n",
      "        party:\n",
      "          address: addr1q8se6c0am4wjfpxgwdct92tugjedfuqj77zecttxttj5620vdnv0lax0mhmmau26npwqg47drdwqku00s580409jvwgs3nmzq4\n",
      "      token:\n",
      "        currency_symbol: 8bb3b343d8e404472337966a722150048c768d0a92a9813596c5338d\n",
      "        token_name: M4B\n",
      "    to:\n",
      "      party:\n",
      "        address: addr1qxfqtdclx4sl6evhsgtjcdz300y9ncl2vvft4nnlw9p72uqqnhdfgfcjm5nket22a7g8pxepf444uvckxxevml48gh9sx8uvy3\n",
      "    token:\n",
      "      currency_symbol: 8bb3b343d8e404472337966a722150048c768d0a92a9813596c5338d\n",
      "      token_name: M4B\n"
     ]
    }
   ],
   "source": [
    "jq .tx.contract token-drop-mainnet-1.marlowe | json2yaml"
   ]
  },
  {
   "cell_type": "markdown",
   "id": "bcd18a0f-c0e8-4d64-80f6-3778464eddd2",
   "metadata": {},
   "source": [
    "## Prepare the transaction"
   ]
  },
  {
   "cell_type": "code",
   "execution_count": 22,
   "id": "22600941-d55f-4de2-a27a-0e875b2cd1d0",
   "metadata": {},
   "outputs": [
    {
     "name": "stdout",
     "output_type": "stream",
     "text": [
      "Tue Sep 27 07:22:16 PM UTC 2022 = 1664306536000\n"
     ]
    }
   ],
   "source": [
    "NOW=$(($(date -u +%s) * 1000))\n",
    "echo \"$(date -u) = $NOW\""
   ]
  },
  {
   "cell_type": "code",
   "execution_count": 23,
   "id": "d7d1f60c-7616-45af-8469-44165577adc8",
   "metadata": {},
   "outputs": [],
   "source": [
    "SECOND=1000\n",
    "MINUTE=$((60 * SECOND))\n",
    "HOUR=$((60 * MINUTE))\n",
    "DAY=$((24 * HOUR))"
   ]
  },
  {
   "cell_type": "code",
   "execution_count": null,
   "id": "5c2506ad-ba3d-41b2-b2d3-6cb3ce9ae3f1",
   "metadata": {},
   "outputs": [],
   "source": []
  },
  {
   "cell_type": "code",
   "execution_count": 24,
   "id": "ece3f23d-ee5a-44b3-98bc-4f7210aea8ac",
   "metadata": {},
   "outputs": [
    {
     "name": "stdout",
     "output_type": "stream",
     "text": [
      "Payment 1\n",
      "  Acccount: \"\\\"addr1vy9prvx8ufwutkwxx9cmmuuajaqmjqwujqlp9d8pvg6gupceql82h\\\"\"\n",
      "  Payee: Party \"\\\"addr1qxfqtdclx4sl6evhsgtjcdz300y9ncl2vvft4nnlw9p72uqqnhdfgfcjm5nket22a7g8pxepf444uvckxxevml48gh9sx8uvy3\\\"\"\n",
      "  Ada: Lovelace {getLovelace = 0}\n",
      "  8bb3b343d8e404472337966a722150048c768d0a92a9813596c5338d.\"M4B\": 1\n",
      "Payment 2\n",
      "  Acccount: \"\\\"addr1vy9prvx8ufwutkwxx9cmmuuajaqmjqwujqlp9d8pvg6gupceql82h\\\"\"\n",
      "  Payee: Party \"\\\"addr1q8se6c0am4wjfpxgwdct92tugjedfuqj77zecttxttj5620vdnv0lax0mhmmau26npwqg47drdwqku00s580409jvwgs3nmzq4\\\"\"\n",
      "  Ada: Lovelace {getLovelace = 0}\n",
      "  8bb3b343d8e404472337966a722150048c768d0a92a9813596c5338d.\"M4B\": 1\n",
      "Payment 3\n",
      "  Acccount: \"\\\"addr1vy9prvx8ufwutkwxx9cmmuuajaqmjqwujqlp9d8pvg6gupceql82h\\\"\"\n",
      "  Payee: Party \"\\\"addr1qy4mhhat3s522uplguhkk2xxrnwsv65e0yxk9nyrn5530ksvluken35ncjnu0puetf5jvttedkze02d5kf890kquh60sc8hwky\\\"\"\n",
      "  Ada: Lovelace {getLovelace = 0}\n",
      "  8bb3b343d8e404472337966a722150048c768d0a92a9813596c5338d.\"M4B\": 1\n",
      "Payment 4\n",
      "  Acccount: \"\\\"addr1vy9prvx8ufwutkwxx9cmmuuajaqmjqwujqlp9d8pvg6gupceql82h\\\"\"\n",
      "  Payee: Party \"\\\"addr1vy9prvx8ufwutkwxx9cmmuuajaqmjqwujqlp9d8pvg6gupceql82h\\\"\"\n",
      "  Ada: Lovelace {getLovelace = 3000000}\n"
     ]
    }
   ],
   "source": [
    "marlowe-cli run prepare --marlowe-file token-drop-mainnet-1.marlowe \\\n",
    "                        --notify \\\n",
    "                        --invalid-before    \"$NOW\" \\\n",
    "                        --invalid-hereafter \"$((NOW + 30 * MINUTE))\" \\\n",
    "                        --out-file token-drop-mainnet-2.marlowe"
   ]
  },
  {
   "cell_type": "markdown",
   "id": "97e0c72f-7a8a-42c8-8601-050282f39fc2",
   "metadata": {},
   "source": [
    "## Verify that the UTxO is at the Marlowe script address"
   ]
  },
  {
   "cell_type": "code",
   "execution_count": 14,
   "id": "8b076fa3-c959-4fac-b25f-119bcd9feda1",
   "metadata": {},
   "outputs": [
    {
     "name": "stdout",
     "output_type": "stream",
     "text": [
      "addr1w94f8ywk4fg672xasahtk4t9k6w3aql943uxz5rt62d4dvq8evxaf\n"
     ]
    }
   ],
   "source": [
    "SCRIPT_ADDR=$(jq -r '.tx.marloweValidator.address' token-drop-mainnet-1.marlowe)\n",
    "echo \"$SCRIPT_ADDR\""
   ]
  },
  {
   "cell_type": "code",
   "execution_count": 15,
   "id": "6bcbd5d0-c7ba-4e18-afbb-46bab42b448c",
   "metadata": {},
   "outputs": [],
   "source": [
    "TX_MARLOWE=\"9c91bdbbface40d0f6f9099a5888635bfe9ba72873e8d21e3bbc541fb53159b4#1\""
   ]
  },
  {
   "cell_type": "code",
   "execution_count": 16,
   "id": "81fb2c9b-1654-4387-8b1b-fad875abe3be",
   "metadata": {},
   "outputs": [
    {
     "name": "stdout",
     "output_type": "stream",
     "text": [
      "                           TxHash                                 TxIx        Amount\n",
      "--------------------------------------------------------------------------------------\n",
      "9c91bdbbface40d0f6f9099a5888635bfe9ba72873e8d21e3bbc541fb53159b4     1        3000000 lovelace + 3 8bb3b343d8e404472337966a722150048c768d0a92a9813596c5338d.4d3442 + TxOutDatumHash ScriptDataInBabbageEra \"605635647b7fa1f331978bdf5aeed389bdb3369274482ead60c6b86c389cf020\"\n"
     ]
    }
   ],
   "source": [
    "cardano-cli query utxo --mainnet --address \"$SCRIPT_ADDR\""
   ]
  },
  {
   "cell_type": "markdown",
   "id": "822da584-4c56-4594-bd37-f8e6eb4d2866",
   "metadata": {},
   "source": [
    "## Check the script address"
   ]
  },
  {
   "cell_type": "code",
   "execution_count": 17,
   "id": "dc0178a4-dfc5-43f4-ac3d-03756dfab862",
   "metadata": {},
   "outputs": [
    {
     "name": "stdout",
     "output_type": "stream",
     "text": [
      "Human-readable part: addr\n",
      "716a9391d6aa51af28dd876ebb5565b69d1e83e5ac7861506bd29b56b0\n"
     ]
    }
   ],
   "source": [
    "marlowe-cli util decode-bech32 \"$SCRIPT_ADDR\""
   ]
  },
  {
   "cell_type": "code",
   "execution_count": 18,
   "id": "73b109b2-dbd2-49d7-93ea-4f314cd2322a",
   "metadata": {},
   "outputs": [
    {
     "name": "stdout",
     "output_type": "stream",
     "text": [
      "Human-readable part: addr_test\n",
      "706a9391d6aa51af28dd876ebb5565b69d1e83e5ac7861506bd29b56b0\n"
     ]
    }
   ],
   "source": [
    "marlowe-cli util decode-bech32 \"$(marlowe-cli contract address)\""
   ]
  },
  {
   "cell_type": "markdown",
   "id": "628dd56f-a82c-4159-8d12-b6b38eb46445",
   "metadata": {},
   "source": [
    "These differ only by the `mainnet`/`testnet` bit and the value in the `.marlowe` file has the correct network bit (`mainnet = 1`), so we are *probably* okay here."
   ]
  },
  {
   "cell_type": "markdown",
   "id": "47912a1e-9e8f-4437-b7a5-dcb8f62223ab",
   "metadata": {},
   "source": [
    "## Submit the transaction"
   ]
  },
  {
   "cell_type": "markdown",
   "id": "bfae65bc-b257-4f51-92d9-745ff91c7ea2",
   "metadata": {},
   "source": [
    "Loop until the Plutus V2 cost model is on the blockchain."
   ]
  },
  {
   "cell_type": "code",
   "execution_count": 36,
   "id": "a46f4514-464b-41a1-9f70-9f3c25c6d051",
   "metadata": {},
   "outputs": [
    {
     "name": "stdout",
     "output_type": "stream",
     "text": [
      "\n",
      "Tue Sep 27 09:44:54 PM UTC 2022 = 1664315094000\n",
      "marlowe-cli: (Array.!): undefined array element\n",
      "\n",
      "Tue Sep 27 09:44:57 PM UTC 2022 = 1664315097000\n",
      "marlowe-cli: (Array.!): undefined array element\n",
      "\n",
      "Tue Sep 27 09:45:01 PM UTC 2022 = 1664315101000\n",
      "marlowe-cli: (Array.!): undefined array element\n",
      "\n",
      "Tue Sep 27 09:45:05 PM UTC 2022 = 1664315105000\n",
      "marlowe-cli: (Array.!): undefined array element\n",
      "\n",
      "Tue Sep 27 09:45:08 PM UTC 2022 = 1664315108000\n",
      "marlowe-cli: (Array.!): undefined array element\n",
      "\n",
      "Tue Sep 27 09:45:12 PM UTC 2022 = 1664315112000\n",
      "marlowe-cli: (Array.!): undefined array element\n",
      "\n",
      "Tue Sep 27 09:45:16 PM UTC 2022 = 1664315116000\n",
      "marlowe-cli: (Array.!): undefined array element\n",
      "\n",
      "Tue Sep 27 09:45:19 PM UTC 2022 = 1664315119000\n",
      "marlowe-cli: (Array.!): undefined array element\n",
      "\n",
      "Tue Sep 27 09:45:23 PM UTC 2022 = 1664315123000\n",
      "marlowe-cli: (Array.!): undefined array element\n",
      "\n",
      "Tue Sep 27 09:45:27 PM UTC 2022 = 1664315127000\n",
      "marlowe-cli: (Array.!): undefined array element\n",
      "\n",
      "Tue Sep 27 09:45:30 PM UTC 2022 = 1664315130000\n",
      "marlowe-cli: (Array.!): undefined array element\n",
      "\n",
      "Tue Sep 27 09:45:34 PM UTC 2022 = 1664315134000\n",
      "marlowe-cli: (Array.!): undefined array element\n",
      "\n",
      "Tue Sep 27 09:45:38 PM UTC 2022 = 1664315138000\n",
      "marlowe-cli: (Array.!): undefined array element\n",
      "\n",
      "Tue Sep 27 09:45:41 PM UTC 2022 = 1664315141000\n",
      "marlowe-cli: (Array.!): undefined array element\n",
      "\n",
      "Tue Sep 27 09:45:45 PM UTC 2022 = 1664315145000\n",
      "marlowe-cli: (Array.!): undefined array element\n",
      "\n",
      "Tue Sep 27 09:45:49 PM UTC 2022 = 1664315149000\n",
      "marlowe-cli: (Array.!): undefined array element\n",
      "\n",
      "Tue Sep 27 09:45:52 PM UTC 2022 = 1664315152000\n",
      "marlowe-cli: (Array.!): undefined array element\n",
      "\n",
      "Tue Sep 27 09:45:56 PM UTC 2022 = 1664315156000\n",
      "marlowe-cli: (Array.!): undefined array element\n",
      "\n",
      "Tue Sep 27 09:46:00 PM UTC 2022 = 1664315160000\n",
      "marlowe-cli: (Array.!): undefined array element\n",
      "\n",
      "Tue Sep 27 09:46:04 PM UTC 2022 = 1664315164000\n",
      "marlowe-cli: (Array.!): undefined array element\n",
      "\n",
      "Tue Sep 27 09:46:07 PM UTC 2022 = 1664315167000\n",
      "\n",
      "Fee: Lovelace 1478933\n",
      "Size: 13998 / 16384 = 85%\n",
      "Execution units:\n",
      "  Memory: 9062364 / 14000000 = 64%\n",
      "  Steps: 2349912797 / 10000000000 = 23%\n",
      "TxValidationErrorInMode (ShelleyTxValidationError ShelleyBasedEraBabbage (ApplyTxError [UtxowFailure (UtxoFailure (FromAlonzoUtxoFail (OutsideValidityIntervalUTxO (ValidityInterval {invalidBefore = SJust (SlotNo 72748876), invalidHereafter = SJust (SlotNo 72750676)}) (SlotNo 72748821))))])) BabbageEraInCardanoMode\n",
      "\n",
      "Tue Sep 27 09:46:12 PM UTC 2022 = 1664315172000\n",
      "\n",
      "Fee: Lovelace 1478933\n",
      "Size: 13998 / 16384 = 85%\n",
      "Execution units:\n",
      "  Memory: 9062364 / 14000000 = 64%\n",
      "  Steps: 2349912797 / 10000000000 = 23%\n",
      "TxValidationErrorInMode (ShelleyTxValidationError ShelleyBasedEraBabbage (ApplyTxError [UtxowFailure (UtxoFailure (FromAlonzoUtxoFail (OutsideValidityIntervalUTxO (ValidityInterval {invalidBefore = SJust (SlotNo 72748881), invalidHereafter = SJust (SlotNo 72750681)}) (SlotNo 72748821))))])) BabbageEraInCardanoMode\n",
      "\n",
      "Tue Sep 27 09:46:16 PM UTC 2022 = 1664315176000\n",
      "\n",
      "Fee: Lovelace 1478933\n",
      "Size: 13998 / 16384 = 85%\n",
      "Execution units:\n",
      "  Memory: 9062364 / 14000000 = 64%\n",
      "  Steps: 2349912797 / 10000000000 = 23%\n",
      "TxValidationErrorInMode (ShelleyTxValidationError ShelleyBasedEraBabbage (ApplyTxError [UtxowFailure (UtxoFailure (FromAlonzoUtxoFail (OutsideValidityIntervalUTxO (ValidityInterval {invalidBefore = SJust (SlotNo 72748885), invalidHereafter = SJust (SlotNo 72750685)}) (SlotNo 72748821))))])) BabbageEraInCardanoMode\n",
      "\n",
      "Tue Sep 27 09:46:20 PM UTC 2022 = 1664315180000\n",
      "\n",
      "Fee: Lovelace 1478933\n",
      "Size: 13998 / 16384 = 85%\n",
      "Execution units:\n",
      "  Memory: 9062364 / 14000000 = 64%\n",
      "  Steps: 2349912797 / 10000000000 = 23%\n",
      "TxValidationErrorInMode (ShelleyTxValidationError ShelleyBasedEraBabbage (ApplyTxError [UtxowFailure (UtxoFailure (FromAlonzoUtxoFail (OutsideValidityIntervalUTxO (ValidityInterval {invalidBefore = SJust (SlotNo 72748889), invalidHereafter = SJust (SlotNo 72750689)}) (SlotNo 72748821))))])) BabbageEraInCardanoMode\n",
      "\n",
      "Tue Sep 27 09:46:24 PM UTC 2022 = 1664315184000\n",
      "\n",
      "Fee: Lovelace 1478933\n",
      "Size: 13998 / 16384 = 85%\n",
      "Execution units:\n",
      "  Memory: 9062364 / 14000000 = 64%\n",
      "  Steps: 2349912797 / 10000000000 = 23%\n",
      "TxValidationErrorInMode (ShelleyTxValidationError ShelleyBasedEraBabbage (ApplyTxError [UtxowFailure (UtxoFailure (FromAlonzoUtxoFail (OutsideValidityIntervalUTxO (ValidityInterval {invalidBefore = SJust (SlotNo 72748893), invalidHereafter = SJust (SlotNo 72750693)}) (SlotNo 72748821))))])) BabbageEraInCardanoMode\n",
      "\n",
      "Tue Sep 27 09:46:29 PM UTC 2022 = 1664315189000\n",
      "\n",
      "Fee: Lovelace 1478933\n",
      "Size: 13998 / 16384 = 85%\n",
      "Execution units:\n",
      "  Memory: 9062364 / 14000000 = 64%\n",
      "  Steps: 2349912797 / 10000000000 = 23%\n",
      "TxValidationErrorInMode (ShelleyTxValidationError ShelleyBasedEraBabbage (ApplyTxError [UtxowFailure (UtxoFailure (FromAlonzoUtxoFail (OutsideValidityIntervalUTxO (ValidityInterval {invalidBefore = SJust (SlotNo 72748898), invalidHereafter = SJust (SlotNo 72750698)}) (SlotNo 72748821))))])) BabbageEraInCardanoMode\n",
      "\n",
      "Tue Sep 27 09:46:33 PM UTC 2022 = 1664315193000\n",
      "\n",
      "Fee: Lovelace 1478933\n",
      "Size: 13998 / 16384 = 85%\n",
      "Execution units:\n",
      "  Memory: 9062364 / 14000000 = 64%\n",
      "  Steps: 2349912797 / 10000000000 = 23%\n",
      "TxValidationErrorInMode (ShelleyTxValidationError ShelleyBasedEraBabbage (ApplyTxError [UtxowFailure (UtxoFailure (FromAlonzoUtxoFail (OutsideValidityIntervalUTxO (ValidityInterval {invalidBefore = SJust (SlotNo 72748902), invalidHereafter = SJust (SlotNo 72750702)}) (SlotNo 72748821))))])) BabbageEraInCardanoMode\n",
      "\n",
      "Tue Sep 27 09:46:37 PM UTC 2022 = 1664315197000\n",
      "\n",
      "Fee: Lovelace 1478933\n",
      "Size: 13998 / 16384 = 85%\n",
      "Execution units:\n",
      "  Memory: 9062364 / 14000000 = 64%\n",
      "  Steps: 2349912797 / 10000000000 = 23%\n",
      "TxValidationErrorInMode (ShelleyTxValidationError ShelleyBasedEraBabbage (ApplyTxError [UtxowFailure (UtxoFailure (FromAlonzoUtxoFail (OutsideValidityIntervalUTxO (ValidityInterval {invalidBefore = SJust (SlotNo 72748906), invalidHereafter = SJust (SlotNo 72750706)}) (SlotNo 72748821))))])) BabbageEraInCardanoMode\n",
      "\n",
      "Tue Sep 27 09:46:41 PM UTC 2022 = 1664315201000\n",
      "\n",
      "Fee: Lovelace 1478933\n",
      "Size: 13998 / 16384 = 85%\n",
      "Execution units:\n",
      "  Memory: 9062364 / 14000000 = 64%\n",
      "  Steps: 2349912797 / 10000000000 = 23%\n",
      "TxValidationErrorInMode (ShelleyTxValidationError ShelleyBasedEraBabbage (ApplyTxError [UtxowFailure (UtxoFailure (FromAlonzoUtxoFail (OutsideValidityIntervalUTxO (ValidityInterval {invalidBefore = SJust (SlotNo 72748910), invalidHereafter = SJust (SlotNo 72750710)}) (SlotNo 72748821))))])) BabbageEraInCardanoMode\n",
      "\n",
      "Tue Sep 27 09:46:45 PM UTC 2022 = 1664315205000\n",
      "\n",
      "Fee: Lovelace 1478933\n",
      "Size: 13998 / 16384 = 85%\n",
      "Execution units:\n",
      "  Memory: 9062364 / 14000000 = 64%\n",
      "  Steps: 2349912797 / 10000000000 = 23%\n",
      "TxValidationErrorInMode (ShelleyTxValidationError ShelleyBasedEraBabbage (ApplyTxError [UtxowFailure (UtxoFailure (FromAlonzoUtxoFail (OutsideValidityIntervalUTxO (ValidityInterval {invalidBefore = SJust (SlotNo 72748914), invalidHereafter = SJust (SlotNo 72750714)}) (SlotNo 72748821))))])) BabbageEraInCardanoMode\n",
      "\n",
      "Tue Sep 27 09:46:50 PM UTC 2022 = 1664315210000\n",
      "\n",
      "Fee: Lovelace 1478933\n",
      "Size: 13998 / 16384 = 85%\n",
      "Execution units:\n",
      "  Memory: 9062364 / 14000000 = 64%\n",
      "  Steps: 2349912797 / 10000000000 = 23%\n",
      "TxValidationErrorInMode (ShelleyTxValidationError ShelleyBasedEraBabbage (ApplyTxError [UtxowFailure (UtxoFailure (FromAlonzoUtxoFail (OutsideValidityIntervalUTxO (ValidityInterval {invalidBefore = SJust (SlotNo 72748919), invalidHereafter = SJust (SlotNo 72750719)}) (SlotNo 72748821))))])) BabbageEraInCardanoMode\n",
      "\n",
      "Tue Sep 27 09:46:54 PM UTC 2022 = 1664315214000\n",
      "\n",
      "Fee: Lovelace 1478933\n",
      "Size: 13998 / 16384 = 85%\n",
      "Execution units:\n",
      "  Memory: 9062364 / 14000000 = 64%\n",
      "  Steps: 2349912797 / 10000000000 = 23%\n",
      "TxValidationErrorInMode (ShelleyTxValidationError ShelleyBasedEraBabbage (ApplyTxError [UtxowFailure (UtxoFailure (FromAlonzoUtxoFail (OutsideValidityIntervalUTxO (ValidityInterval {invalidBefore = SJust (SlotNo 72748923), invalidHereafter = SJust (SlotNo 72750723)}) (SlotNo 72748821))))])) BabbageEraInCardanoMode\n",
      "\n",
      "Tue Sep 27 09:46:58 PM UTC 2022 = 1664315218000\n",
      "\n",
      "Fee: Lovelace 1478933\n",
      "Size: 13998 / 16384 = 85%\n",
      "Execution units:\n",
      "  Memory: 9062364 / 14000000 = 64%\n",
      "  Steps: 2349912797 / 10000000000 = 23%\n",
      "TxValidationErrorInMode (ShelleyTxValidationError ShelleyBasedEraBabbage (ApplyTxError [UtxowFailure (UtxoFailure (FromAlonzoUtxoFail (OutsideValidityIntervalUTxO (ValidityInterval {invalidBefore = SJust (SlotNo 72748927), invalidHereafter = SJust (SlotNo 72750727)}) (SlotNo 72748821))))])) BabbageEraInCardanoMode\n",
      "\n",
      "Tue Sep 27 09:47:02 PM UTC 2022 = 1664315222000\n",
      "\n",
      "Fee: Lovelace 1478933\n",
      "Size: 13998 / 16384 = 85%\n",
      "Execution units:\n",
      "  Memory: 9062364 / 14000000 = 64%\n",
      "  Steps: 2349912797 / 10000000000 = 23%\n",
      "TxValidationErrorInMode (ShelleyTxValidationError ShelleyBasedEraBabbage (ApplyTxError [UtxowFailure (UtxoFailure (FromAlonzoUtxoFail (OutsideValidityIntervalUTxO (ValidityInterval {invalidBefore = SJust (SlotNo 72748931), invalidHereafter = SJust (SlotNo 72750731)}) (SlotNo 72748821))))])) BabbageEraInCardanoMode\n",
      "\n",
      "Tue Sep 27 09:47:06 PM UTC 2022 = 1664315226000\n",
      "\n",
      "Fee: Lovelace 1478933\n",
      "Size: 13998 / 16384 = 85%\n",
      "Execution units:\n",
      "  Memory: 9062364 / 14000000 = 64%\n",
      "  Steps: 2349912797 / 10000000000 = 23%\n",
      "TxValidationErrorInMode (ShelleyTxValidationError ShelleyBasedEraBabbage (ApplyTxError [UtxowFailure (UtxoFailure (FromAlonzoUtxoFail (OutsideValidityIntervalUTxO (ValidityInterval {invalidBefore = SJust (SlotNo 72748935), invalidHereafter = SJust (SlotNo 72750735)}) (SlotNo 72748821))))])) BabbageEraInCardanoMode\n",
      "\n",
      "Tue Sep 27 09:47:11 PM UTC 2022 = 1664315231000\n",
      "\n",
      "Fee: Lovelace 1478933\n",
      "Size: 13998 / 16384 = 85%\n",
      "Execution units:\n",
      "  Memory: 9062364 / 14000000 = 64%\n",
      "  Steps: 2349912797 / 10000000000 = 23%\n",
      "TxValidationErrorInMode (ShelleyTxValidationError ShelleyBasedEraBabbage (ApplyTxError [UtxowFailure (UtxoFailure (FromAlonzoUtxoFail (OutsideValidityIntervalUTxO (ValidityInterval {invalidBefore = SJust (SlotNo 72748940), invalidHereafter = SJust (SlotNo 72750740)}) (SlotNo 72748821))))])) BabbageEraInCardanoMode\n",
      "\n",
      "Tue Sep 27 09:47:15 PM UTC 2022 = 1664315235000\n",
      "\n",
      "Fee: Lovelace 1478933\n",
      "Size: 13998 / 16384 = 85%\n",
      "Execution units:\n",
      "  Memory: 9062364 / 14000000 = 64%\n",
      "  Steps: 2349912797 / 10000000000 = 23%\n",
      "TxValidationErrorInMode (ShelleyTxValidationError ShelleyBasedEraBabbage (ApplyTxError [UtxowFailure (UtxoFailure (FromAlonzoUtxoFail (OutsideValidityIntervalUTxO (ValidityInterval {invalidBefore = SJust (SlotNo 72748944), invalidHereafter = SJust (SlotNo 72750744)}) (SlotNo 72748821))))])) BabbageEraInCardanoMode\n",
      "\n",
      "Tue Sep 27 09:47:19 PM UTC 2022 = 1664315239000\n",
      "\n",
      "Fee: Lovelace 1478933\n",
      "Size: 13998 / 16384 = 85%\n",
      "Execution units:\n",
      "  Memory: 9062364 / 14000000 = 64%\n",
      "  Steps: 2349912797 / 10000000000 = 23%\n",
      "TxValidationErrorInMode (ShelleyTxValidationError ShelleyBasedEraBabbage (ApplyTxError [UtxowFailure (UtxoFailure (FromAlonzoUtxoFail (OutsideValidityIntervalUTxO (ValidityInterval {invalidBefore = SJust (SlotNo 72748948), invalidHereafter = SJust (SlotNo 72750748)}) (SlotNo 72748821))))])) BabbageEraInCardanoMode\n",
      "\n",
      "Tue Sep 27 09:47:23 PM UTC 2022 = 1664315243000\n",
      "\n",
      "Fee: Lovelace 1478933\n",
      "Size: 13998 / 16384 = 85%\n",
      "Execution units:\n",
      "  Memory: 9062364 / 14000000 = 64%\n",
      "  Steps: 2349912797 / 10000000000 = 23%\n",
      "TxId \"53cd9aa80d8f046ce2bdb6c13e8a904cd83aaa6afac07dc2a52f4799b5fa8ed1\"\n",
      "Success!\n"
     ]
    }
   ],
   "source": [
    "for x in `seq 1 1800`\n",
    "do\n",
    "\n",
    "echo\n",
    "\n",
    "NOW=$(($(date -u +%s) * 1000))\n",
    "echo \"$(date -u) = $NOW\"\n",
    "\n",
    "marlowe-cli run prepare --marlowe-file token-drop-mainnet-1.marlowe \\\n",
    "                        --notify \\\n",
    "                        --invalid-before    \"$NOW\" \\\n",
    "                        --invalid-hereafter \"$((NOW + 30 * MINUTE))\" \\\n",
    "                        --out-file token-drop-mainnet-2.marlowe \\\n",
    ">& /dev/null\n",
    "\n",
    "marlowe-cli run auto-execute --tx-in-marlowe \"$TX_MARLOWE\" \\\n",
    "                             --marlowe-in-file token-drop-mainnet-1.marlowe \\\n",
    "                             --marlowe-out-file token-drop-mainnet-2.marlowe \\\n",
    "                             --change-address \"$PAYMENT_ADDR\" \\\n",
    "                             --required-signer \"$PAYMENT_SKEY\" \\\n",
    "                             --metadata-file token-drop-mainnet-2.message \\\n",
    "                             --out-file token-drop-mainnet-2.txbody \\\n",
    "                             --submit 1800 \\\n",
    "                             --print-stats\n",
    "\n",
    "if [ $? -eq 0 ]\n",
    "then\n",
    "  echo \"Success!\"\n",
    "  break\n",
    "fi\n",
    "\n",
    "sleep 2s\n",
    "\n",
    "done"
   ]
  },
  {
   "cell_type": "markdown",
   "id": "aa675af2-de0e-4b7f-baa5-a783efac8a39",
   "metadata": {},
   "source": [
    "### Check that there is no UTxO at the script address"
   ]
  },
  {
   "cell_type": "code",
   "execution_count": 37,
   "id": "b340d048-78cf-4d19-bdd5-0391fb8b731f",
   "metadata": {},
   "outputs": [
    {
     "name": "stdout",
     "output_type": "stream",
     "text": [
      "                           TxHash                                 TxIx        Amount\n",
      "--------------------------------------------------------------------------------------\n"
     ]
    }
   ],
   "source": [
    "cardano-cli query utxo --mainnet --address \"$SCRIPT_ADDR\""
   ]
  },
  {
   "cell_type": "markdown",
   "id": "4f1dabec-e2c8-4d6b-a422-074338b92402",
   "metadata": {},
   "source": [
    "### Check that the recipients received their tokens"
   ]
  },
  {
   "cell_type": "code",
   "execution_count": 38,
   "id": "22832db4-261a-43e4-993f-84a0565679fa",
   "metadata": {},
   "outputs": [],
   "source": [
    "RECIPIENT_1_ADDR=addr1qxfqtdclx4sl6evhsgtjcdz300y9ncl2vvft4nnlw9p72uqqnhdfgfcjm5nket22a7g8pxepf444uvckxxevml48gh9sx8uvy3\n",
    "RECIPIENT_2_ADDR=addr1q8se6c0am4wjfpxgwdct92tugjedfuqj77zecttxttj5620vdnv0lax0mhmmau26npwqg47drdwqku00s580409jvwgs3nmzq4\n",
    "RECIPIENT_3_ADDR=addr1qy4mhhat3s522uplguhkk2xxrnwsv65e0yxk9nyrn5530ksvluken35ncjnu0puetf5jvttedkze02d5kf890kquh60sc8hwky"
   ]
  },
  {
   "cell_type": "code",
   "execution_count": 39,
   "id": "3fdedab7-6fc9-4425-9f23-90c4da480251",
   "metadata": {},
   "outputs": [
    {
     "name": "stdout",
     "output_type": "stream",
     "text": [
      "                           TxHash                                 TxIx        Amount\n",
      "--------------------------------------------------------------------------------------\n",
      "53cd9aa80d8f046ce2bdb6c13e8a904cd83aaa6afac07dc2a52f4799b5fa8ed1     2        1142150 lovelace + 1 8bb3b343d8e404472337966a722150048c768d0a92a9813596c5338d.4d3442 + TxOutDatumNone\n",
      "53cd9aa80d8f046ce2bdb6c13e8a904cd83aaa6afac07dc2a52f4799b5fa8ed1     3        1142150 lovelace + 1 8bb3b343d8e404472337966a722150048c768d0a92a9813596c5338d.4d3442 + TxOutDatumNone\n",
      "53cd9aa80d8f046ce2bdb6c13e8a904cd83aaa6afac07dc2a52f4799b5fa8ed1     4        1142150 lovelace + 1 8bb3b343d8e404472337966a722150048c768d0a92a9813596c5338d.4d3442 + TxOutDatumNone\n"
     ]
    }
   ],
   "source": [
    "cardano-cli query utxo --mainnet --address \"$RECIPIENT_1_ADDR\" --address \"$RECIPIENT_2_ADDR\" --address \"$RECIPIENT_3_ADDR\""
   ]
  },
  {
   "cell_type": "markdown",
   "id": "65ac4345-b83c-45c8-a0e7-4f8cd9fb1ebb",
   "metadata": {},
   "source": [
    "**Voilà!**"
   ]
  }
 ],
 "metadata": {
  "kernelspec": {
   "display_name": "Bash - Marlowe",
   "language": "bash",
   "name": "bash_marlowe"
  },
  "language_info": {
   "codemirror_mode": "shell",
   "file_extension": ".sh",
   "mimetype": "text/x-sh",
   "name": "/nix/store/zwjm0gln1vk7x1akpyz0yxjsd1yc46gi-bash-5.1-p16/bin/bash"
  }
 },
 "nbformat": 4,
 "nbformat_minor": 5
}
