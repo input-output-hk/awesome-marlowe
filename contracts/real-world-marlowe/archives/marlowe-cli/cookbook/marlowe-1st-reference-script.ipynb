{
 "cells": [
  {
   "cell_type": "markdown",
   "id": "ff12ef20-4800-40fc-bf1a-b48def801ee9",
   "metadata": {},
   "source": [
    "# Marlowe \"Swap\" Contract Run on Mainnet Using a Reference Script"
   ]
  },
  {
   "cell_type": "markdown",
   "id": "409f5651-088b-4875-a35c-7c369e22391a",
   "metadata": {},
   "source": [
    "This transcript documents the first use of a reference script for a Marlowe transaction on `mainnet`.\n",
    "\n",
    "The scenario is that John Fletcher trades 300 `Globe` tokens with Thomas Kyd for 500 `Swan` tokens.\n",
    "\n",
    "1. Create the Marlowe contract instance: [72482ce24c88a9b187ab58e34eb1ed1681f4b450557cc13654458e86fd8ff15d](https://cardanoscan.io/transaction/72482ce24c88a9b187ab58e34eb1ed1681f4b450557cc13654458e86fd8ff15d)\n",
    "2. Party A deposits tokens:  [99c4b7dceffaa9daa3613efe89155976ca42010077d40287ff6e779217849057](https://cardanoscan.io/transaction/99c4b7dceffaa9daa3613efe89155976ca42010077d40287ff6e779217849057)\n",
    "3. Party B deposits tokens to complete the swap: [4e8cd7a65ddc533e974a499ef6efb108177851eadc818ccd30f44be936592295](https://cardanoscan.io/transaction/4e8cd7a65ddc533e974a499ef6efb108177851eadc818ccd30f44be936592295)\n",
    "\n",
    "You can view all of the Marlowe transaction at the address for the current version of the Marlowe validator: [addr1w94f8ywk4fg672xasahtk4t9k6w3aql943uxz5rt62d4dvq8evxaf](https://cardanoscan.io/address/addr1w94f8ywk4fg672xasahtk4t9k6w3aql943uxz5rt62d4dvq8evxaf)"
   ]
  },
  {
   "cell_type": "markdown",
   "id": "b4002252-fe9f-40e4-a371-d4d6b57316de",
   "metadata": {},
   "source": [
    "## Preliminaries"
   ]
  },
  {
   "cell_type": "markdown",
   "id": "dab2352b-0021-4998-9107-c5cc32d3734c",
   "metadata": {},
   "source": [
    "Record version numbers"
   ]
  },
  {
   "cell_type": "code",
   "execution_count": 4,
   "id": "4832053a-541d-4acd-a781-e7b31a3d28e1",
   "metadata": {},
   "outputs": [
    {
     "name": "stdout",
     "output_type": "stream",
     "text": [
      "marlowe-cli 0.0.8.3 @ 3709087ea19ba42b60ffc302373fa28cc9d368dc\n"
     ]
    }
   ],
   "source": [
    "marlowe-cli --version"
   ]
  },
  {
   "cell_type": "code",
   "execution_count": 4,
   "id": "e7651166-5c42-4a2b-8447-3407440f7b5a",
   "metadata": {},
   "outputs": [
    {
     "name": "stdout",
     "output_type": "stream",
     "text": [
      "cardano-cli 1.35.3 - linux-x86_64 - ghc-8.10\n",
      "git rev 0000000000000000000000000000000000000000\n"
     ]
    }
   ],
   "source": [
    "cardano-cli --version"
   ]
  },
  {
   "cell_type": "code",
   "execution_count": 5,
   "id": "0434d927-022f-41f6-b60f-091ebe85cfc4",
   "metadata": {},
   "outputs": [
    {
     "name": "stdout",
     "output_type": "stream",
     "text": [
      "25f6808de7aca1ab3d47db52fb4b66cae4228618\n"
     ]
    }
   ],
   "source": [
    "git rev-parse HEAD"
   ]
  },
  {
   "cell_type": "markdown",
   "id": "9fb67751-bbb3-4e07-a9c7-b509502903c7",
   "metadata": {},
   "source": [
    "### Setup the faucet."
   ]
  },
  {
   "cell_type": "markdown",
   "id": "4c1053b7-899c-4df1-94bc-626300568286",
   "metadata": {},
   "source": [
    "Set the location of keys."
   ]
  },
  {
   "cell_type": "code",
   "execution_count": 11,
   "id": "7eba74b8-fb39-4a07-9080-211d46f9132a",
   "metadata": {},
   "outputs": [],
   "source": [
    "TREASURY=treasury"
   ]
  },
  {
   "cell_type": "markdown",
   "id": "d5caee3c-c91e-49b8-aeb2-84b3170128d6",
   "metadata": {},
   "source": [
    "Set the faucet."
   ]
  },
  {
   "cell_type": "code",
   "execution_count": 16,
   "id": "054727ec-d1d3-4fdd-811f-95561dc807c5",
   "metadata": {},
   "outputs": [
    {
     "name": "stdout",
     "output_type": "stream",
     "text": [
      "addr1vy9prvx8ufwutkwxx9cmmuuajaqmjqwujqlp9d8pvg6gupceql82h\n"
     ]
    }
   ],
   "source": [
    "FAUCET_SKEY_FILE=$TREASURY/payment.skey\n",
    "FAUCET_ADDRESS=$(cat $TREASURY/payment.mainnet.address)\n",
    "echo \"$FAUCET_ADDRESS\""
   ]
  },
  {
   "cell_type": "markdown",
   "id": "2894720b-50a2-4830-9a5d-e65b8e7c7dad",
   "metadata": {},
   "source": [
    "### Select Network"
   ]
  },
  {
   "cell_type": "code",
   "execution_count": 37,
   "id": "41e7f489-f609-43ae-a65f-fde60d69f282",
   "metadata": {},
   "outputs": [],
   "source": [
    "export CARDANO_TESTNET_MAGIC=764824073\n",
    "export CARDANO_NODE_SOCKET_PATH=node.socket"
   ]
  },
  {
   "cell_type": "markdown",
   "id": "b65f37d7-7e96-4516-8429-446bcf1e54c4",
   "metadata": {},
   "source": [
    "Compute the slot-to-time parameters."
   ]
  },
  {
   "cell_type": "code",
   "execution_count": 29,
   "id": "74e40978-28a7-433c-85e6-a05cbb4b607e",
   "metadata": {},
   "outputs": [],
   "source": [
    "SLOT_LENGTH=$(marlowe-cli util slotting | jq .scSlotLength)\n",
    "SLOT_OFFSET=$(marlowe-cli util slotting | jq .scSlotZeroTime)"
   ]
  },
  {
   "cell_type": "markdown",
   "id": "1d696336-1e80-4f2d-b484-49a4cc1595a1",
   "metadata": {},
   "source": [
    "### Tip of the Blockchain"
   ]
  },
  {
   "cell_type": "code",
   "execution_count": 30,
   "id": "359b6f47-e0d1-4f84-8812-b96cfa361c2d",
   "metadata": {},
   "outputs": [],
   "source": [
    "TIP=$(cardano-cli query tip --mainnet | jq '.slot')\n",
    "NOW=\"$((TIP*SLOT_LENGTH+SLOT_OFFSET))\"\n",
    "HOUR=\"$((3600*1000))\""
   ]
  },
  {
   "cell_type": "markdown",
   "id": "f275cb6e-5b21-4471-a538-617d97ed04ca",
   "metadata": {},
   "source": [
    "The tip of the blockchain:"
   ]
  },
  {
   "cell_type": "code",
   "execution_count": 31,
   "id": "831548ff-0623-4f19-8947-5613327e5b34",
   "metadata": {},
   "outputs": [
    {
     "name": "stdout",
     "output_type": "stream",
     "text": [
      "72762292\n"
     ]
    }
   ],
   "source": [
    "echo $TIP"
   ]
  },
  {
   "cell_type": "markdown",
   "id": "39d86c46-53fc-4238-9af1-72cbc9dc2bc2",
   "metadata": {},
   "source": [
    "The current POSIX time implies that the tip of the blockchain should be slightly before the following slot:"
   ]
  },
  {
   "cell_type": "code",
   "execution_count": 32,
   "id": "0b0b3fe5-a541-4863-b67f-7d1c24ef8185",
   "metadata": {},
   "outputs": [
    {
     "name": "stdout",
     "output_type": "stream",
     "text": [
      "72762308\n"
     ]
    }
   ],
   "source": [
    "echo $(((1000 * $(date -u +%s) - SLOT_OFFSET) / SLOT_LENGTH))"
   ]
  },
  {
   "cell_type": "markdown",
   "id": "a37f4442-40ef-44b2-a30d-334928317c7a",
   "metadata": {},
   "source": [
    "Tests main fail if this is not the case."
   ]
  },
  {
   "cell_type": "markdown",
   "id": "6649b7a2-3f9e-4dd4-bde7-11699c6bf27f",
   "metadata": {},
   "source": [
    "### Publish reference script for Marlowe onto `mainnet`"
   ]
  },
  {
   "cell_type": "markdown",
   "id": "3969fe13-2f5b-4f45-ac80-0feedf105c03",
   "metadata": {},
   "source": [
    "Publish the Marlowe semantics validator as a reference script."
   ]
  },
  {
   "cell_type": "code",
   "execution_count": 17,
   "id": "f5ffa35a-6ec9-4c4f-a99c-95133fc10f71",
   "metadata": {},
   "outputs": [
    {
     "name": "stdout",
     "output_type": "stream",
     "text": [
      "\n",
      "Fee: Lovelace 846357\n",
      "Size: 15461 / 16384 = 94%\n",
      "Execution units:\n",
      "  Memory: 0 / 14000000 = 0%\n",
      "  Steps: 0 / 10000000000 = 0%\n",
      "\n",
      "Marlowe script published at address: addr1qypn5mwucvjm0pkfwemjus8n7glep8927sj76dv9a3xnq4j7e4q926apsvcd6kn33cpx95k8jsmrj7v0k62rczvz8urqfk0yl3\n",
      "\n",
      "Marlowe script hash: \"6a9391d6aa51af28dd876ebb5565b69d1e83e5ac7861506bd29b56b0\"\n",
      "\n",
      "Marlowe ref script UTxO min ADA: Lovelace 12555030\n",
      "\n",
      "Payout script published at address: addr1qypn5mwucvjm0pkfwemjus8n7glep8927sj76dv9a3xnq4j7e4q926apsvcd6kn33cpx95k8jsmrj7v0k62rczvz8urqfk0yl3\n",
      "\n",
      "Payout script hash: \"49076eab20243dc9462511fb98a9cfb719f86e9692288139b7c91df3\"\n",
      "\n",
      "Payout ref script UTxO min ADA: Lovelace 12555030\n"
     ]
    }
   ],
   "source": [
    "marlowe-cli transaction publish --required-signer \"$FAUCET_SKEY_FILE\" \\\n",
    "                                --change-address \"$FAUCET_ADDRESS\" \\\n",
    "                                --at-address addr1qypn5mwucvjm0pkfwemjus8n7glep8927sj76dv9a3xnq4j7e4q926apsvcd6kn33cpx95k8jsmrj7v0k62rczvz8urqfk0yl3 \\\n",
    "                                --out-file /dev/null \\\n",
    "                                --submit 600"
   ]
  },
  {
   "cell_type": "markdown",
   "id": "8f88e700-a21f-4fd4-b785-35f39d767e49",
   "metadata": {},
   "source": [
    "Check that the Marlowe semantics validator was published."
   ]
  },
  {
   "cell_type": "code",
   "execution_count": 19,
   "id": "eb29caeb-c563-4e7d-922a-b5350642cc0f",
   "metadata": {},
   "outputs": [
    {
     "name": "stdout",
     "output_type": "stream",
     "text": [
      "\n",
      "Searching for reference script at address: addr1qypn5mwucvjm0pkfwemjus8n7glep8927sj76dv9a3xnq4j7e4q926apsvcd6kn33cpx95k8jsmrj7v0k62rczvz8urqfk0yl3\n",
      "\n",
      "Expected reference script hash: \"6a9391d6aa51af28dd876ebb5565b69d1e83e5ac7861506bd29b56b0\"\n",
      "\n",
      "Searching for reference script at address: addr1qypn5mwucvjm0pkfwemjus8n7glep8927sj76dv9a3xnq4j7e4q926apsvcd6kn33cpx95k8jsmrj7v0k62rczvz8urqfk0yl3\n",
      "\n",
      "Expected reference script hash: \"49076eab20243dc9462511fb98a9cfb719f86e9692288139b7c91df3\"\n",
      "{\n",
      "    \"marlowe\": {\n",
      "        \"hash\": \"6a9391d6aa51af28dd876ebb5565b69d1e83e5ac7861506bd29b56b0\",\n",
      "        \"txIn\": \"9dc19f70488336dbf3d68388fcfb2e3f7a3d7ed6358422f37b10aa6625246c71#1\"\n",
      "    },\n",
      "    \"payout\": {\n",
      "        \"hash\": \"49076eab20243dc9462511fb98a9cfb719f86e9692288139b7c91df3\",\n",
      "        \"txIn\": \"9dc19f70488336dbf3d68388fcfb2e3f7a3d7ed6358422f37b10aa6625246c71#2\"\n",
      "    }\n",
      "}\n"
     ]
    }
   ],
   "source": [
    "marlowe-cli transaction find-published --at-address addr1qypn5mwucvjm0pkfwemjus8n7glep8927sj76dv9a3xnq4j7e4q926apsvcd6kn33cpx95k8jsmrj7v0k62rczvz8urqfk0yl3"
   ]
  },
  {
   "cell_type": "markdown",
   "id": "7fd61b86-59bd-4fd6-a615-04b6dbaa8962",
   "metadata": {},
   "source": [
    "Set the location of the node socket."
   ]
  },
  {
   "cell_type": "code",
   "execution_count": 7,
   "id": "eeeb458c-3460-410c-838b-2f64f817bd31",
   "metadata": {},
   "outputs": [],
   "source": [
    "export CARDANO_NODE_SOCKET_PATH=node.socket"
   ]
  },
  {
   "cell_type": "markdown",
   "id": "7ae0e907-2c31-4b85-926d-c62dc9cafc49",
   "metadata": {},
   "source": [
    "### Participants"
   ]
  },
  {
   "cell_type": "markdown",
   "id": "ea318fc6-f1dc-46a8-a4e7-83ee23a42ec3",
   "metadata": {},
   "source": [
    "#### The First Party"
   ]
  },
  {
   "cell_type": "code",
   "execution_count": 33,
   "id": "009fed78-8410-4894-b904-d6ea92982d70",
   "metadata": {},
   "outputs": [],
   "source": [
    "PARTY_A_PREFIX=\"$TREASURY/john-fletcher\"\n",
    "PARTY_A_PAYMENT_SKEY=\"$PARTY_A_PREFIX\".skey\n",
    "PARTY_A_PAYMENT_VKEY=\"$PARTY_A_PREFIX\".vkey"
   ]
  },
  {
   "cell_type": "markdown",
   "id": "df56d582-919c-438f-986a-a9a3fffc40c7",
   "metadata": {},
   "source": [
    "Create the first party's keys, if necessary."
   ]
  },
  {
   "cell_type": "code",
   "execution_count": 39,
   "id": "0de60d98-b79e-43fc-8c7d-fd494c76390d",
   "metadata": {},
   "outputs": [],
   "source": [
    "if [[ ! -e \"$PARTY_A_PAYMENT_SKEY\" ]]\n",
    "then\n",
    "  cardano-cli address key-gen --signing-key-file \"$PARTY_A_PAYMENT_SKEY\"      \\\n",
    "                              --verification-key-file \"$PARTY_A_PAYMENT_VKEY\"\n",
    "fi\n",
    "PARTY_A_ADDRESS=$(cardano-cli address build --mainnet --payment-verification-key-file \"$PARTY_A_PAYMENT_VKEY\" )\n",
    "PARTY_A_PUBKEYHASH=$(cardano-cli address key-hash --payment-verification-key-file \"$PARTY_A_PAYMENT_VKEY\")"
   ]
  },
  {
   "cell_type": "markdown",
   "id": "c6d76d75-57b4-48b2-934d-e40a139e646e",
   "metadata": {},
   "source": [
    "Address of the first party and its public key hash:"
   ]
  },
  {
   "cell_type": "code",
   "execution_count": 40,
   "id": "a8e5b6e7-c82c-4477-a6aa-c0a91bc5c15f",
   "metadata": {},
   "outputs": [
    {
     "name": "stdout",
     "output_type": "stream",
     "text": [
      "Address: addr1vywt2xlr4d8yk4qws675exlqy6pdhq2s76wrehkjggkvr0czta9gx\n",
      "Public key hash: 1cb51be3ab4e4b540e86bd4c9be02682db8150f69c3cded2422cc1bf\n"
     ]
    }
   ],
   "source": [
    "echo \"Address: $PARTY_A_ADDRESS\"\n",
    "echo \"Public key hash: $PARTY_A_PUBKEYHASH\""
   ]
  },
  {
   "cell_type": "markdown",
   "id": "17b4396a-a8ac-4976-bda4-968daaaa190e",
   "metadata": {},
   "source": [
    "Fund the first party's address."
   ]
  },
  {
   "cell_type": "code",
   "execution_count": 41,
   "id": "ff90fa3f-1422-4632-abb7-19c5e5b5d2ed",
   "metadata": {},
   "outputs": [
    {
     "name": "stdout",
     "output_type": "stream",
     "text": [
      "TxId \"c5bc6e4466d5496bc7578f53bfe905f3324337f54239c42aff4a1dd934af6e67\"\n"
     ]
    }
   ],
   "source": [
    "marlowe-cli util faucet --out-file /dev/null                      \\\n",
    "                        --submit 600                              \\\n",
    "                        --lovelace 100000000                      \\\n",
    "                        --faucet-address \"$FAUCET_ADDRESS\"        \\\n",
    "                        --required-signer \"$FAUCET_SKEY_FILE\"     \\\n",
    "                        \"$PARTY_A_ADDRESS\""
   ]
  },
  {
   "cell_type": "markdown",
   "id": "85d79375-635f-4702-9aea-e8724df633fc",
   "metadata": {},
   "source": [
    "The first party mints their tokens for the swap."
   ]
  },
  {
   "cell_type": "code",
   "execution_count": 42,
   "id": "17780378-6e11-4156-a481-2edfde635fac",
   "metadata": {},
   "outputs": [],
   "source": [
    "MINT_EXPIRES=$((TIP + 1000000))"
   ]
  },
  {
   "cell_type": "code",
   "execution_count": 43,
   "id": "3c562862-df26-4b4b-bf27-f844840b6764",
   "metadata": {},
   "outputs": [],
   "source": [
    "TOKEN_NAME_A=Globe\n",
    "AMOUNT_A=300\n",
    "CURRENCY_SYMBOL_A=$(\n",
    "marlowe-cli util mint --required-signer \"$PARTY_A_PAYMENT_SKEY\" \\\n",
    "                      --change-address  \"$PARTY_A_ADDRESS\"      \\\n",
    "                      --count \"$AMOUNT_A\"                       \\\n",
    "                      --expires \"$MINT_EXPIRES\"                 \\\n",
    "                      --out-file /dev/null                      \\\n",
    "                      --submit=600                              \\\n",
    "                      \"$TOKEN_NAME_A\"                           \\\n",
    "| sed -e 's/^PolicyID \"\\(.*\\)\"$/\\1/'                            \\\n",
    ")\n",
    "TOKEN_A=\"$CURRENCY_SYMBOL_A.$TOKEN_NAME_A\""
   ]
  },
  {
   "cell_type": "markdown",
   "id": "6bd98117-3f3e-4f05-a27f-51a561eb8054",
   "metadata": {},
   "source": [
    "They have the following UTxOs in their wallet:"
   ]
  },
  {
   "cell_type": "code",
   "execution_count": 44,
   "id": "3c6863f2-a693-46c1-a785-ead973bdf787",
   "metadata": {},
   "outputs": [
    {
     "name": "stdout",
     "output_type": "stream",
     "text": [
      "                           TxHash                                 TxIx        Amount\n",
      "--------------------------------------------------------------------------------------\n",
      "11ad1c97e268f6de6b708cc83bd98b79534db1191e2a699f46f5e0c800bdc6bc     0        97651266 lovelace + TxOutDatumNone\n",
      "11ad1c97e268f6de6b708cc83bd98b79534db1191e2a699f46f5e0c800bdc6bc     1        2000000 lovelace + 300 a7f7e57db27c9e2f80c205ccb30f73e57f0ee8fc21aff7b86b5daf78.476c6f6265 + TxOutDatumNone\n"
     ]
    }
   ],
   "source": [
    "marlowe-cli util clean --required-signer \"$PARTY_A_PAYMENT_SKEY\" \\\n",
    "                       --change-address \"$PARTY_A_ADDRESS\"       \\\n",
    "                       --out-file /dev/null                      \\\n",
    "                       --submit=600                              \\\n",
    "> /dev/null\n",
    "cardano-cli query utxo --mainnet --address \"$PARTY_A_ADDRESS\""
   ]
  },
  {
   "cell_type": "markdown",
   "id": "25b4a4d4-bc9d-4de1-a135-4753f8f7fee7",
   "metadata": {},
   "source": [
    "The first party will trade the following in the swap:"
   ]
  },
  {
   "cell_type": "code",
   "execution_count": 45,
   "id": "b8fa7173-d645-4d82-b93a-fa7f5d63c1ae",
   "metadata": {},
   "outputs": [
    {
     "name": "stdout",
     "output_type": "stream",
     "text": [
      "Amount: 300\n",
      "Token: a7f7e57db27c9e2f80c205ccb30f73e57f0ee8fc21aff7b86b5daf78.Globe\n"
     ]
    }
   ],
   "source": [
    "echo \"Amount: $AMOUNT_A\"\n",
    "echo \"Token: $TOKEN_A\""
   ]
  },
  {
   "cell_type": "markdown",
   "id": "beac2b0a-83c9-4f13-a1b2-d4ae12795bc7",
   "metadata": {},
   "source": [
    "#### The Second Party"
   ]
  },
  {
   "cell_type": "code",
   "execution_count": 46,
   "id": "359d2b9b-9bc3-4688-9689-9ef2c69cd382",
   "metadata": {},
   "outputs": [],
   "source": [
    "PARTY_B_PREFIX=\"$TREASURY/thomas-kyd\"\n",
    "PARTY_B_PAYMENT_SKEY=\"$PARTY_B_PREFIX\".skey\n",
    "PARTY_B_PAYMENT_VKEY=\"$PARTY_B_PREFIX\".vkey"
   ]
  },
  {
   "cell_type": "markdown",
   "id": "cc9ff64b-fc5b-4308-8b6c-9208985b3600",
   "metadata": {},
   "source": [
    "Create the second party's keys, if necessary."
   ]
  },
  {
   "cell_type": "code",
   "execution_count": 47,
   "id": "c4297420-6c47-4716-bbb3-c5bb0be2ef9a",
   "metadata": {},
   "outputs": [],
   "source": [
    "if [[ ! -e \"$PARTY_B_PAYMENT_SKEY\" ]]\n",
    "then\n",
    "  cardano-cli address key-gen --signing-key-file \"$PARTY_B_PAYMENT_SKEY\"      \\\n",
    "                              --verification-key-file \"$PARTY_B_PAYMENT_VKEY\"\n",
    "fi\n",
    "PARTY_B_ADDRESS=$(cardano-cli address build --mainnet --payment-verification-key-file \"$PARTY_B_PAYMENT_VKEY\" )\n",
    "PARTY_B_PUBKEYHASH=$(cardano-cli address key-hash --payment-verification-key-file \"$PARTY_B_PAYMENT_VKEY\")"
   ]
  },
  {
   "cell_type": "markdown",
   "id": "1c533c89-a71a-4b66-9409-a515bac1eb39",
   "metadata": {},
   "source": [
    "Address of the second party and its public key hash:"
   ]
  },
  {
   "cell_type": "code",
   "execution_count": 48,
   "id": "92333a2f-977b-451d-9ad4-f344192f18cf",
   "metadata": {},
   "outputs": [
    {
     "name": "stdout",
     "output_type": "stream",
     "text": [
      "Address: addr1v87n0zzth5zycuh972w7rdmh48qur4f3wu6ntn2m2h30dlchhlqt3\n",
      "Public key hash: fd37884bbd044c72e5f29de1b777a9c1c1d531773535cd5b55e2f6ff\n"
     ]
    }
   ],
   "source": [
    "echo \"Address: $PARTY_B_ADDRESS\"\n",
    "echo \"Public key hash: $PARTY_B_PUBKEYHASH\""
   ]
  },
  {
   "cell_type": "markdown",
   "id": "0556be66-9ca7-4e91-9c85-bd885311c611",
   "metadata": {},
   "source": [
    "Fund the second party's address."
   ]
  },
  {
   "cell_type": "code",
   "execution_count": 50,
   "id": "77bc9000-d2e3-4996-a2ae-a7d0c625aa70",
   "metadata": {},
   "outputs": [
    {
     "name": "stdout",
     "output_type": "stream",
     "text": [
      "TxId \"20318a3f543ac67ac4547707299972a5343d0a0fed008695d453a86ac377752f\"\n"
     ]
    }
   ],
   "source": [
    "marlowe-cli util faucet --out-file /dev/null                  \\\n",
    "                        --submit 600                          \\\n",
    "                        --lovelace 100000000                  \\\n",
    "                        --faucet-address \"$FAUCET_ADDRESS\"    \\\n",
    "                        --required-signer \"$FAUCET_SKEY_FILE\" \\\n",
    "                        \"$PARTY_B_ADDRESS\""
   ]
  },
  {
   "cell_type": "markdown",
   "id": "5dbb8c31-8a7b-4f53-a32a-7adb0caa7792",
   "metadata": {},
   "source": [
    "The second party mints their tokens for the swap."
   ]
  },
  {
   "cell_type": "code",
   "execution_count": 51,
   "id": "9a4e577b-4fb3-47fb-b5d3-8e3e6e206b69",
   "metadata": {},
   "outputs": [],
   "source": [
    "TOKEN_NAME_B=Swan\n",
    "AMOUNT_B=500\n",
    "CURRENCY_SYMBOL_B=$(\n",
    "marlowe-cli util mint --required-signer \"$PARTY_B_PAYMENT_SKEY\" \\\n",
    "                      --change-address  \"$PARTY_B_ADDRESS\"      \\\n",
    "                      --count \"$AMOUNT_B\"                       \\\n",
    "                      --expires \"$MINT_EXPIRES\"                 \\\n",
    "                      --out-file /dev/null                      \\\n",
    "                      --submit=600                              \\\n",
    "                      \"$TOKEN_NAME_B\"                           \\\n",
    "| sed -e 's/^PolicyID \"\\(.*\\)\"$/\\1/'                            \\\n",
    ")\n",
    "TOKEN_B=\"$CURRENCY_SYMBOL_B.$TOKEN_NAME_B\""
   ]
  },
  {
   "cell_type": "markdown",
   "id": "a7f8db89-b007-4f4d-a06a-6bc6440fbd67",
   "metadata": {},
   "source": [
    "They have the following UTxOs in their wallet:"
   ]
  },
  {
   "cell_type": "code",
   "execution_count": 52,
   "id": "a86cee8f-dd66-4091-8583-14b66dcb3819",
   "metadata": {},
   "outputs": [
    {
     "name": "stdout",
     "output_type": "stream",
     "text": [
      "Invalid option `--mint'\n",
      "\n",
      "Usage: cardano-cli query utxo \n",
      "            [ --shelley-mode\n",
      "            | --byron-mode [--epoch-slots NATURAL]\n",
      "            | --cardano-mode [--epoch-slots NATURAL]\n",
      "            ]\n",
      "            (--whole-utxo | (--address ADDRESS) | (--tx-in TX-IN))\n",
      "            (--mainnet | --testnet-magic NATURAL)\n",
      "            [--out-file FILE]\n",
      "\n",
      "  Get a portion of the current UTxO: by tx in, by address or the whole.\n"
     ]
    },
    {
     "ename": "",
     "evalue": "1",
     "output_type": "error",
     "traceback": []
    }
   ],
   "source": [
    "marlowe-cli util clean --required-signer \"$PARTY_B_PAYMENT_SKEY\" \\\n",
    "                       --change-address \"$PARTY_B_ADDRESS\"       \\\n",
    "                       --out-file /dev/null                      \\\n",
    "                       --submit=600                              \\\n",
    "> /dev/null\n",
    "cardano-cli query utxo --mint \"$CARDANO_TESTNET_MAGIC\" --address \"$PARTY_B_ADDRESS\""
   ]
  },
  {
   "cell_type": "markdown",
   "id": "d988c753-856c-4322-a4af-f6274b65cc56",
   "metadata": {},
   "source": [
    "The second party will trade the following in the swap:"
   ]
  },
  {
   "cell_type": "code",
   "execution_count": 53,
   "id": "3154f628-1183-4528-b45a-b244ceb864c1",
   "metadata": {},
   "outputs": [
    {
     "name": "stdout",
     "output_type": "stream",
     "text": [
      "Amount: 500\n",
      "Token: ecc8ad61b973946ee1cc666b259acabb3edf38a73f1b8779d93ba28a.Swan\n"
     ]
    }
   ],
   "source": [
    "echo \"Amount: $AMOUNT_B\"\n",
    "echo \"Token: $TOKEN_B\""
   ]
  },
  {
   "cell_type": "markdown",
   "id": "eb417b36-effb-4fc2-ae81-b7fce917aa7b",
   "metadata": {},
   "source": [
    "## The Contract"
   ]
  },
  {
   "cell_type": "markdown",
   "id": "4828d05f-fc7d-4f67-8c87-db5caa71b94f",
   "metadata": {},
   "source": [
    "The initial Ada in the contract."
   ]
  },
  {
   "cell_type": "code",
   "execution_count": 54,
   "id": "900adc6b-d93f-4414-99d7-4ba3b3e30e52",
   "metadata": {},
   "outputs": [],
   "source": [
    "MINIMUM_ADA=3000000"
   ]
  },
  {
   "cell_type": "code",
   "execution_count": 55,
   "id": "fef9aefb-1824-490c-bf81-7f16a80845cb",
   "metadata": {},
   "outputs": [],
   "source": [
    "PARTY_A_TIMEOUT=$((NOW+12*HOUR))\n",
    "PARTY_B_TIMEOUT=$((NOW+24*HOUR))"
   ]
  },
  {
   "cell_type": "markdown",
   "id": "3d5db29b-dbda-4786-b04a-cce8ae0b96d1",
   "metadata": {},
   "source": [
    "The timeout for the first party:"
   ]
  },
  {
   "cell_type": "code",
   "execution_count": 56,
   "id": "147f5b62-2be2-4c04-af97-c9092e74c6f1",
   "metadata": {},
   "outputs": [
    {
     "name": "stdout",
     "output_type": "stream",
     "text": [
      "Wed, 28 Sep 2022 13:29:43 +0000\n"
     ]
    }
   ],
   "source": [
    "echo $(date -u -R -d @$((PARTY_A_TIMEOUT/1000)))"
   ]
  },
  {
   "cell_type": "markdown",
   "id": "8bf4b2ff-e10f-43d9-9940-19588a053c5a",
   "metadata": {},
   "source": [
    "The timeout for the second party:"
   ]
  },
  {
   "cell_type": "code",
   "execution_count": 57,
   "id": "accb5e15-0d8d-40a8-9f1d-957e010c185b",
   "metadata": {},
   "outputs": [
    {
     "name": "stdout",
     "output_type": "stream",
     "text": [
      "Thu, 29 Sep 2022 01:29:43 +0000\n"
     ]
    }
   ],
   "source": [
    "echo $(date -u -R -d @$((PARTY_B_TIMEOUT/1000)))"
   ]
  },
  {
   "cell_type": "markdown",
   "id": "42a8ecbd-a3dc-4263-b7a0-f6d3ccd29506",
   "metadata": {},
   "source": [
    "We create the contract for the previously specified parameters."
   ]
  },
  {
   "cell_type": "code",
   "execution_count": 60,
   "id": "028339ed-6d5e-4e71-9895-3a965a0252c9",
   "metadata": {},
   "outputs": [],
   "source": [
    "marlowe-cli template swap --minimum-ada \"$MINIMUM_ADA\"       \\\n",
    "                          --a-party \"$PARTY_A_ADDRESS\" \\\n",
    "                          --a-token \"$TOKEN_A\"               \\\n",
    "                          --a-amount \"$AMOUNT_A\"             \\\n",
    "                          --a-timeout \"$PARTY_A_TIMEOUT\"     \\\n",
    "                          --b-party \"$PARTY_B_ADDRESS\" \\\n",
    "                          --b-token \"$TOKEN_B\"               \\\n",
    "                          --b-amount \"$AMOUNT_B\"             \\\n",
    "                          --b-timeout \"$PARTY_B_TIMEOUT\"     \\\n",
    "                          --out-contract-file tx-1.contract  \\\n",
    "                          --out-state-file    tx-1.state"
   ]
  },
  {
   "cell_type": "markdown",
   "id": "f2eb9ff2-86b8-437e-aa04-a1a38cebea9a",
   "metadata": {},
   "source": [
    "## Transaction 1. Create the Contract by Providing the Minimum ADA."
   ]
  },
  {
   "cell_type": "markdown",
   "id": "8bb180fb-1d68-4501-9b32-d7f69104de6d",
   "metadata": {},
   "source": [
    "First we create a `.marlowe` file that contains the initial information needed to run the contract. The bare size and cost of the script provide a lower bound on the resources that running it will require."
   ]
  },
  {
   "cell_type": "code",
   "execution_count": 61,
   "id": "a7641e72-ff1b-45c2-9552-021963aee59b",
   "metadata": {},
   "outputs": [
    {
     "name": "stdout",
     "output_type": "stream",
     "text": [
      "\n",
      "Validator size: 12505\n",
      "Base-validator cost: ExBudget {exBudgetCPU = ExCPU 18515100, exBudgetMemory = ExMemory 80600}\n"
     ]
    }
   ],
   "source": [
    "marlowe-cli run initialize --contract-file tx-1.contract \\\n",
    "                           --state-file    tx-1.state    \\\n",
    "                           --out-file      tx-1.marlowe  \\\n",
    "                           --print-stats"
   ]
  },
  {
   "cell_type": "markdown",
   "id": "5885e723-5123-457d-bd44-a7841fe9e959",
   "metadata": {},
   "source": [
    "In particular, we can extract the contract's address from the `.marlowe` file."
   ]
  },
  {
   "cell_type": "code",
   "execution_count": 62,
   "id": "1f0388aa-2f15-4938-a2ae-15841529e5d8",
   "metadata": {},
   "outputs": [],
   "source": [
    "CONTRACT_ADDRESS=$(jq -r '.tx.marloweValidator.address' tx-1.marlowe)"
   ]
  },
  {
   "cell_type": "markdown",
   "id": "fe2826c6-c557-47cd-bc4b-76a80786a3f9",
   "metadata": {},
   "source": [
    "The Marlowe contract resides at the following address:"
   ]
  },
  {
   "cell_type": "code",
   "execution_count": 63,
   "id": "199d51f9-2778-48a1-a94d-37186b260974",
   "metadata": {},
   "outputs": [
    {
     "name": "stdout",
     "output_type": "stream",
     "text": [
      "addr1w94f8ywk4fg672xasahtk4t9k6w3aql943uxz5rt62d4dvq8evxaf\n"
     ]
    }
   ],
   "source": [
    "echo $CONTRACT_ADDRESS"
   ]
  },
  {
   "cell_type": "markdown",
   "id": "ab570c22-0af1-4168-9269-ebefce6bfa6d",
   "metadata": {},
   "source": [
    "The first party submits the transaction along with the minimum Ada required for the contract's initial state. Submitting with the `--print-stats` switch reveals the network fee for the contract, the size of the transaction, and the execution requirements, relative to the protocol limits."
   ]
  },
  {
   "cell_type": "code",
   "execution_count": 64,
   "id": "33d55ddb-7ca9-455b-b369-1f26628e6aaf",
   "metadata": {},
   "outputs": [
    {
     "name": "stdout",
     "output_type": "stream",
     "text": [
      "\n",
      "Fee: Lovelace 214385\n",
      "Size: 995 / 16384 = 6%\n",
      "Execution units:\n",
      "  Memory: 0 / 14000000 = 0%\n",
      "  Steps: 0 / 10000000000 = 0%\n"
     ]
    }
   ],
   "source": [
    "TX_1=$(\n",
    "marlowe-cli run auto-execute --required-signer \"$PARTY_A_PAYMENT_SKEY\" \\\n",
    "                             --marlowe-out-file tx-1.marlowe           \\\n",
    "                             --change-address \"$PARTY_A_ADDRESS\"       \\\n",
    "                             --out-file tx-1.raw                       \\\n",
    "                             --print-stats                             \\\n",
    "                             --submit 600                              \\\n",
    "| sed -e 's/^TxId \"\\(.*\\)\"$/\\1/'                                       \\\n",
    ")"
   ]
  },
  {
   "cell_type": "markdown",
   "id": "a7e8b2dd-7133-460e-861c-7b456ae208fb",
   "metadata": {},
   "source": [
    "The contract received the minimum Ada from the first party in the following transaction:"
   ]
  },
  {
   "cell_type": "code",
   "execution_count": 65,
   "id": "b3fee973-ab68-4976-9596-64feb0fd7014",
   "metadata": {},
   "outputs": [
    {
     "name": "stdout",
     "output_type": "stream",
     "text": [
      "72482ce24c88a9b187ab58e34eb1ed1681f4b450557cc13654458e86fd8ff15d\n"
     ]
    }
   ],
   "source": [
    "echo $TX_1"
   ]
  },
  {
   "cell_type": "markdown",
   "id": "9ba3287d-379f-4db8-8b9d-0de052bb6b2f",
   "metadata": {},
   "source": [
    "The following UTxOs are at the contract address:"
   ]
  },
  {
   "cell_type": "code",
   "execution_count": 68,
   "id": "7deebc6f-49ce-4c44-8ad5-c872cd6a44c8",
   "metadata": {},
   "outputs": [
    {
     "name": "stdout",
     "output_type": "stream",
     "text": [
      "                           TxHash                                 TxIx        Amount\n",
      "--------------------------------------------------------------------------------------\n",
      "72482ce24c88a9b187ab58e34eb1ed1681f4b450557cc13654458e86fd8ff15d     1        3000000 lovelace + TxOutDatumHash ScriptDataInBabbageEra \"943c96772987263bcc561c8e97803b2fd69d7eea25cfd241adec088ddfc4f937\"\n"
     ]
    }
   ],
   "source": [
    "cardano-cli query utxo --mainnet --address \"$CONTRACT_ADDRESS\" | sed -n -e \"1p;2p;/$TX_1/p\""
   ]
  },
  {
   "cell_type": "markdown",
   "id": "98952f93-02bd-474b-a857-050a934fcf4c",
   "metadata": {},
   "source": [
    "Here are the UTxOs at the first party address:"
   ]
  },
  {
   "cell_type": "code",
   "execution_count": 69,
   "id": "d6179fd0-12b4-4a50-93a6-b8051e6c25b0",
   "metadata": {},
   "outputs": [
    {
     "name": "stdout",
     "output_type": "stream",
     "text": [
      "                           TxHash                                 TxIx        Amount\n",
      "--------------------------------------------------------------------------------------\n",
      "11ad1c97e268f6de6b708cc83bd98b79534db1191e2a699f46f5e0c800bdc6bc     1        2000000 lovelace + 300 a7f7e57db27c9e2f80c205ccb30f73e57f0ee8fc21aff7b86b5daf78.476c6f6265 + TxOutDatumNone\n",
      "72482ce24c88a9b187ab58e34eb1ed1681f4b450557cc13654458e86fd8ff15d     0        94436881 lovelace + TxOutDatumNone\n"
     ]
    }
   ],
   "source": [
    "cardano-cli query utxo --mainnet  --address \"$PARTY_A_ADDRESS\""
   ]
  },
  {
   "cell_type": "markdown",
   "id": "cae17d34-f865-4f84-a6e5-1d7cfcf201cd",
   "metadata": {},
   "source": [
    "## Transaction 2. First Party Deposits Tokens into the Contract."
   ]
  },
  {
   "cell_type": "markdown",
   "id": "2883cdb0-387e-4893-be00-63944b466bed",
   "metadata": {},
   "source": [
    "First we compute the Marlowe input required to deposit the tokens."
   ]
  },
  {
   "cell_type": "code",
   "execution_count": 70,
   "id": "ded756b1-4ac1-4544-b6e2-959e6d375bab",
   "metadata": {},
   "outputs": [
    {
     "name": "stdout",
     "output_type": "stream",
     "text": [
      "\n",
      "Datum size: 657\n"
     ]
    }
   ],
   "source": [
    "marlowe-cli run prepare --marlowe-file tx-1.marlowe                \\\n",
    "                        --deposit-account \"$PARTY_A_ADDRESS\" \\\n",
    "                        --deposit-party \"$PARTY_A_ADDRESS\"   \\\n",
    "                        --deposit-token \"$TOKEN_A\"                 \\\n",
    "                        --deposit-amount \"$AMOUNT_A\"               \\\n",
    "                        --invalid-before \"$NOW\"                    \\\n",
    "                        --invalid-hereafter \"$((NOW+4*HOUR))\"      \\\n",
    "                        --out-file tx-2.marlowe                    \\\n",
    "                        --print-stats"
   ]
  },
  {
   "cell_type": "markdown",
   "id": "2b9c322e-890f-4ae6-b47b-a962ed2c9124",
   "metadata": {},
   "source": [
    "Now the first party submits the transaction that deposits their tokens."
   ]
  },
  {
   "cell_type": "code",
   "execution_count": 71,
   "id": "aca4fc6c-a1e4-4236-8f74-fd0fed4f2477",
   "metadata": {},
   "outputs": [
    {
     "name": "stdout",
     "output_type": "stream",
     "text": [
      "\n",
      "Fee: Lovelace 669379\n",
      "Size: 1977 / 16384 = 12%\n",
      "Execution units:\n",
      "  Memory: 5252696 / 14000000 = 37%\n",
      "  Steps: 1444845510 / 10000000000 = 14%\n"
     ]
    }
   ],
   "source": [
    "TX_2=$(\n",
    "marlowe-cli run auto-execute --marlowe-in-file tx-1.marlowe            \\\n",
    "                             --tx-in-marlowe \"$TX_1#1\"                 \\\n",
    "                             --required-signer \"$PARTY_A_PAYMENT_SKEY\" \\\n",
    "                             --marlowe-out-file tx-2.marlowe           \\\n",
    "                             --change-address \"$PARTY_A_ADDRESS\"       \\\n",
    "                             --out-file tx-2.raw                       \\\n",
    "                             --print-stats                             \\\n",
    "                             --submit=600                              \\\n",
    "| sed -e 's/^TxId \"\\(.*\\)\"$/\\1/'                                       \\\n",
    ")"
   ]
  },
  {
   "cell_type": "markdown",
   "id": "b97fae5c-9cba-4a1f-acf3-82ef3b6f201d",
   "metadata": {},
   "source": [
    "The contract received the deposit of the first party's token for the swap in the following transaction:"
   ]
  },
  {
   "cell_type": "code",
   "execution_count": 72,
   "id": "ac141450-19f1-45d8-be9e-60b8d0056aa2",
   "metadata": {},
   "outputs": [
    {
     "name": "stdout",
     "output_type": "stream",
     "text": [
      "99c4b7dceffaa9daa3613efe89155976ca42010077d40287ff6e779217849057\n"
     ]
    }
   ],
   "source": [
    "echo $TX_2"
   ]
  },
  {
   "cell_type": "markdown",
   "id": "a6880e0b-2acc-4a24-96f9-6572c8a3fd19",
   "metadata": {},
   "source": [
    "The following UTxOs are at the contract address:"
   ]
  },
  {
   "cell_type": "code",
   "execution_count": 73,
   "id": "d18504a1-7f8f-4d96-b0e6-37cb80bcbc18",
   "metadata": {},
   "outputs": [
    {
     "name": "stdout",
     "output_type": "stream",
     "text": [
      "                           TxHash                                 TxIx        Amount\n",
      "--------------------------------------------------------------------------------------\n",
      "99c4b7dceffaa9daa3613efe89155976ca42010077d40287ff6e779217849057     1        3000000 lovelace + 300 a7f7e57db27c9e2f80c205ccb30f73e57f0ee8fc21aff7b86b5daf78.476c6f6265 + TxOutDatumHash ScriptDataInBabbageEra \"e2072a520929b3ea43ada85b5047df082ddf24f2c3fb80628c687886e11a9343\"\n"
     ]
    }
   ],
   "source": [
    "cardano-cli query utxo --mainnet --address \"$CONTRACT_ADDRESS\" | sed -n -e \"1p;2p;/$TX_1/p;/$TX_2/p\""
   ]
  },
  {
   "cell_type": "markdown",
   "id": "0044bf07-46ae-47f9-803b-48bc3950a4be",
   "metadata": {},
   "source": [
    "Here are the UTxOs at the first party address:"
   ]
  },
  {
   "cell_type": "code",
   "execution_count": 75,
   "id": "6cc9b2c4-a114-4b96-b904-a839d3958deb",
   "metadata": {},
   "outputs": [
    {
     "name": "stdout",
     "output_type": "stream",
     "text": [
      "                           TxHash                                 TxIx        Amount\n",
      "--------------------------------------------------------------------------------------\n",
      "99c4b7dceffaa9daa3613efe89155976ca42010077d40287ff6e779217849057     0        95767502 lovelace + TxOutDatumNone\n"
     ]
    }
   ],
   "source": [
    "cardano-cli query utxo --mainnet --address \"$PARTY_A_ADDRESS\""
   ]
  },
  {
   "cell_type": "markdown",
   "id": "2a1b8356-2536-4df0-b16f-50978e4f1fc1",
   "metadata": {},
   "source": [
    "## Transaction 3. The Second Party Deposits their Tokens to Complete the Swap."
   ]
  },
  {
   "cell_type": "code",
   "execution_count": 76,
   "id": "cc52dc53-7402-4313-a687-e57da5271004",
   "metadata": {},
   "outputs": [
    {
     "name": "stdout",
     "output_type": "stream",
     "text": [
      "\n",
      "Datum size: 30\n",
      "Payment 1\n",
      "  Acccount: \"\\\"addr1vywt2xlr4d8yk4qws675exlqy6pdhq2s76wrehkjggkvr0czta9gx\\\"\"\n",
      "  Payee: Party \"\\\"addr1v87n0zzth5zycuh972w7rdmh48qur4f3wu6ntn2m2h30dlchhlqt3\\\"\"\n",
      "  Ada: Lovelace {getLovelace = 0}\n",
      "  a7f7e57db27c9e2f80c205ccb30f73e57f0ee8fc21aff7b86b5daf78.\"Globe\": 300\n",
      "Payment 2\n",
      "  Acccount: \"\\\"addr1v87n0zzth5zycuh972w7rdmh48qur4f3wu6ntn2m2h30dlchhlqt3\\\"\"\n",
      "  Payee: Party \"\\\"addr1vywt2xlr4d8yk4qws675exlqy6pdhq2s76wrehkjggkvr0czta9gx\\\"\"\n",
      "  Ada: Lovelace {getLovelace = 0}\n",
      "  ecc8ad61b973946ee1cc666b259acabb3edf38a73f1b8779d93ba28a.\"Swan\": 500\n",
      "Payment 3\n",
      "  Acccount: \"\\\"addr1vywt2xlr4d8yk4qws675exlqy6pdhq2s76wrehkjggkvr0czta9gx\\\"\"\n",
      "  Payee: Party \"\\\"addr1vywt2xlr4d8yk4qws675exlqy6pdhq2s76wrehkjggkvr0czta9gx\\\"\"\n",
      "  Ada: Lovelace {getLovelace = 3000000}\n"
     ]
    }
   ],
   "source": [
    "marlowe-cli run prepare --marlowe-file tx-2.marlowe                \\\n",
    "                        --deposit-account \"$PARTY_B_ADDRESS\" \\\n",
    "                        --deposit-party \"$PARTY_B_ADDRESS\"   \\\n",
    "                        --deposit-token \"$TOKEN_B\"                 \\\n",
    "                        --deposit-amount \"$AMOUNT_B\"               \\\n",
    "                        --invalid-before \"$NOW\"                    \\\n",
    "                        --invalid-hereafter \"$((NOW+4*HOUR))\"      \\\n",
    "                        --out-file tx-3.marlowe                    \\\n",
    "                        --print-stats"
   ]
  },
  {
   "cell_type": "markdown",
   "id": "8fe424db-8fd7-4968-8588-21dccfcd60e9",
   "metadata": {},
   "source": [
    "Now the second party can submit a transaction that deposits their tokens and completes the swap."
   ]
  },
  {
   "cell_type": "code",
   "execution_count": 77,
   "id": "436964e7-1008-4abf-b067-b59bc105f7b3",
   "metadata": {},
   "outputs": [
    {
     "name": "stdout",
     "output_type": "stream",
     "text": [
      "\n",
      "Fee: Lovelace 815462\n",
      "Size: 1298 / 16384 = 7%\n",
      "Execution units:\n",
      "  Memory: 7615252 / 14000000 = 54%\n",
      "  Steps: 1994618836 / 10000000000 = 19%\n"
     ]
    }
   ],
   "source": [
    "TX_3=$(\n",
    "marlowe-cli run auto-execute --marlowe-in-file tx-2.marlowe            \\\n",
    "                             --tx-in-marlowe \"$TX_2#1\"                 \\\n",
    "                             --required-signer \"$PARTY_B_PAYMENT_SKEY\" \\\n",
    "                             --marlowe-out-file tx-3.marlowe           \\\n",
    "                             --change-address \"$PARTY_B_ADDRESS\"       \\\n",
    "                             --out-file tx-3.raw                       \\\n",
    "                             --print-stats                             \\\n",
    "                             --submit=600                              \\\n",
    "| sed -e 's/^TxId \"\\(.*\\)\"$/\\1/'                                       \\\n",
    ")"
   ]
  },
  {
   "cell_type": "markdown",
   "id": "99bd0fc2-50d8-45b5-843e-5925b0f6fb29",
   "metadata": {},
   "source": [
    "The closing of the contract paid the swapped tokens to the parties in the transaction:"
   ]
  },
  {
   "cell_type": "code",
   "execution_count": 81,
   "id": "ff2e6005-1949-4957-a50f-e9943d30b69d",
   "metadata": {},
   "outputs": [
    {
     "name": "stdout",
     "output_type": "stream",
     "text": [
      "4e8cd7a65ddc533e974a499ef6efb108177851eadc818ccd30f44be936592295\n"
     ]
    }
   ],
   "source": [
    "echo $TX_3"
   ]
  },
  {
   "cell_type": "markdown",
   "id": "cef53514-b4e8-4b08-8a15-8edbdc3c9ae1",
   "metadata": {},
   "source": [
    "There is no UTxO at the contract address:"
   ]
  },
  {
   "cell_type": "code",
   "execution_count": 78,
   "id": "8c68faff-3e10-4f12-bf65-a756c1d1ee7b",
   "metadata": {},
   "outputs": [
    {
     "name": "stdout",
     "output_type": "stream",
     "text": [
      "                           TxHash                                 TxIx        Amount\n",
      "--------------------------------------------------------------------------------------\n"
     ]
    }
   ],
   "source": [
    "cardano-cli query utxo --mainnet --address \"$CONTRACT_ADDRESS\" | sed -n -e \"1p;2p;/$TX_1/p;/$TX_2/p;/$TX_3/p\""
   ]
  },
  {
   "cell_type": "markdown",
   "id": "5e025ab1-b2f5-4ff2-8db4-b2cda64acebc",
   "metadata": {},
   "source": [
    "Here are the UTxOs at the first party's address:"
   ]
  },
  {
   "cell_type": "code",
   "execution_count": 79,
   "id": "f07a2d5a-9de5-4391-8ad7-8dbf453864a5",
   "metadata": {},
   "outputs": [
    {
     "name": "stdout",
     "output_type": "stream",
     "text": [
      "                           TxHash                                 TxIx        Amount\n",
      "--------------------------------------------------------------------------------------\n",
      "4e8cd7a65ddc533e974a499ef6efb108177851eadc818ccd30f44be936592295     1        3000000 lovelace + 500 ecc8ad61b973946ee1cc666b259acabb3edf38a73f1b8779d93ba28a.5377616e + TxOutDatumNone\n",
      "99c4b7dceffaa9daa3613efe89155976ca42010077d40287ff6e779217849057     0        95767502 lovelace + TxOutDatumNone\n"
     ]
    }
   ],
   "source": [
    "cardano-cli query utxo --mainnet --address \"$PARTY_A_ADDRESS\""
   ]
  },
  {
   "cell_type": "markdown",
   "id": "5e383ed0-3089-4ad3-b347-52164cea0abd",
   "metadata": {},
   "source": [
    "Here are the UTxOs at the second party's address:"
   ]
  },
  {
   "cell_type": "code",
   "execution_count": 80,
   "id": "3386ba63-00a6-47e1-8232-7bfe05c58667",
   "metadata": {},
   "outputs": [
    {
     "name": "stdout",
     "output_type": "stream",
     "text": [
      "                           TxHash                                 TxIx        Amount\n",
      "--------------------------------------------------------------------------------------\n",
      "4e8cd7a65ddc533e974a499ef6efb108177851eadc818ccd30f44be936592295     0        97797226 lovelace + TxOutDatumNone\n",
      "4e8cd7a65ddc533e974a499ef6efb108177851eadc818ccd30f44be936592295     2        1038710 lovelace + 300 a7f7e57db27c9e2f80c205ccb30f73e57f0ee8fc21aff7b86b5daf78.476c6f6265 + TxOutDatumNone\n"
     ]
    }
   ],
   "source": [
    "cardano-cli query utxo --mainnet --address \"$PARTY_B_ADDRESS\""
   ]
  },
  {
   "cell_type": "markdown",
   "id": "0c4c6de1-6d92-4793-b025-ea478d33685f",
   "metadata": {},
   "source": [
    "**Voilà!**"
   ]
  }
 ],
 "metadata": {
  "kernelspec": {
   "display_name": "Bash - Marlowe",
   "language": "bash",
   "name": "bash_marlowe"
  },
  "language_info": {
   "codemirror_mode": "shell",
   "file_extension": ".sh",
   "mimetype": "text/x-sh",
   "name": "/nix/store/zwjm0gln1vk7x1akpyz0yxjsd1yc46gi-bash-5.1-p16/bin/bash"
  }
 },
 "nbformat": 4,
 "nbformat_minor": 5
}
