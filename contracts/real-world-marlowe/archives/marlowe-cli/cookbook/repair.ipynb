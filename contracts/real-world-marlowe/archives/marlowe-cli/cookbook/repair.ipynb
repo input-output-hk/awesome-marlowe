{
 "cells": [
  {
   "cell_type": "markdown",
   "id": "77bade71-99ed-4ed3-8562-61cab099808d",
   "metadata": {},
   "source": [
    "# Repair Poorly Design Contract So It Runs on the Blockchain\n",
    "\n",
    "\n",
    "**Executive Summary**\n",
    "\n",
    "We use the `marlowe-cli run analyze` command to demonstrate how to detect problems in a Marlowe contract that would prevent it from successfully running on the blockchain. This tool detects all known contract-design issues that would prevent a contract from executing successfully. It checks the Marlowe initial state, the validity of role and non-role token names, the minimum-UTxO ledger rule, the maximum-Value ledger rule, execution cost, and transaction size. These checks do the replace static analysis, which focuses on *semantics* instead of realizability on the blockchain.\n",
    "\n",
    "The table below summarizes the situation for Marlowe contracts that might violate the Cardano protocol parameters. Items are marked \"locks\" if they would prevent further execution of the contract if they are the top-level construct or the timeout continuation of a `When` contract; otherwise, they just block some (but not all) execution paths for the contract. They are marked \"blocks\" if they can never lock the contract.\n",
    "\n",
    "| Protocol Limit   | Protocol Parameter           | `Pay` | `Let` | `If`/`Assert` | `When` | `Close` | `Deposit` | `Choice` | `Notify` |\n",
    "|------------------|------------------------------|-------|-------|---------------|--------|---------|-----------|----------|----------|\n",
    "| Transaction size | `maxTxSize`                  | locks | locks |               | blocks | locks   |           | blocks   |          |\n",
    "| Execution steps  | `maxTxExecutionUnits.steps`  | locks | locks | locks         | blocks | locks   | blocks    | blocks   | blocks   |\n",
    "| Execution memory | `maxTxExecutionUnits.memory` | locks | locks | locks         | blocks | locks   | blocks    | blocks   | blocks   |\n",
    "| Minimum ADA      | `utxoCostPerWord`            |       |       |               |        |         | blocks    |          |          |\n",
    "| Value size       | `maxValueSize`               | locks |       |               |        |         | blocks    |          |          |"
   ]
  },
  {
   "cell_type": "markdown",
   "id": "46b86348-e336-4307-aa75-2aafbe0157b5",
   "metadata": {},
   "source": [
    "## The \"Analyze\" Command in Marlowe CLI"
   ]
  },
  {
   "cell_type": "code",
   "execution_count": 1,
   "id": "8d8671b1-77dd-41de-88c0-c9c4760d9101",
   "metadata": {},
   "outputs": [
    {
     "name": "stdout",
     "output_type": "stream",
     "text": [
      "Usage: marlowe-cli run analyze --testnet-magic INTEGER --socket-path SOCKET_FILE\n",
      "                               --marlowe-file MARLOWE_FILE [--preconditions] \n",
      "                               [--roles] [--tokens] [--maximum-value] \n",
      "                               [--minimum-utxo] [--execution-cost] \n",
      "                               [--transaction-size] [--best] [--verbose]\n",
      "\n",
      "  [EXPERIMENTAL] Analyze a Marlowe contract.\n",
      "\n",
      "Available options:\n",
      "  --testnet-magic INTEGER  Network magic. Defaults to the CARDANO_TESTNET_MAGIC\n",
      "                           environment variable's value.\n",
      "  --socket-path SOCKET_FILE\n",
      "                           Location of the cardano-node socket file. Defaults to\n",
      "                           the CARDANO_NODE_SOCKET_PATH environment variable's\n",
      "                           value.\n",
      "  --marlowe-file MARLOWE_FILE\n",
      "                           JSON file with the state and contract.\n",
      "  --preconditions          Whether to check preconditions for valid Marlowe\n",
      "                           state.\n",
      "  --roles                  Whether to check lengths of role names.\n",
      "  --tokens                 Whether to check lengths of token names.\n",
      "  --maximum-value          Whether to check the `maxValueSize` protocol limit.\n",
      "  --minimum-utxo           Whether to check the `utxoCostPerWord` protocol\n",
      "                           limit.\n",
      "  --execution-cost         Whether to check the `maxTxExecutionUnits` protocol\n",
      "                           limit.\n",
      "  --transaction-size       Whether to check the `maxTxSize` protocol limit.\n",
      "  --best                   Whether to compute tight estimates of worst-case\n",
      "                           bounds, instead of generous estimates of those\n",
      "                           bounds.\n",
      "  --verbose                Whether to include worst-case example in output.\n",
      "  -h,--help                Show this help text\n"
     ]
    }
   ],
   "source": [
    "marlowe-cli run analyze --help"
   ]
  },
  {
   "cell_type": "markdown",
   "id": "250b90c8-c136-4226-8107-429da8e92efe",
   "metadata": {},
   "source": [
    "## Preliminaries"
   ]
  },
  {
   "cell_type": "markdown",
   "id": "58fd5a15-913b-474d-983c-aee8405b0c23",
   "metadata": {},
   "source": [
    "### Record versions"
   ]
  },
  {
   "cell_type": "code",
   "execution_count": 2,
   "id": "4cc8d648-0f9c-4453-8d60-35fef60aeb64",
   "metadata": {},
   "outputs": [
    {
     "name": "stdout",
     "output_type": "stream",
     "text": [
      "marlowe-cli 0.0.10.0\n"
     ]
    }
   ],
   "source": [
    "marlowe-cli --version"
   ]
  },
  {
   "cell_type": "code",
   "execution_count": 3,
   "id": "5d412c70-6cdc-4d8c-bece-c9c215867000",
   "metadata": {},
   "outputs": [
    {
     "name": "stdout",
     "output_type": "stream",
     "text": [
      "Z3 version 4.8.12 - 64 bit\n"
     ]
    }
   ],
   "source": [
    "z3 --version"
   ]
  },
  {
   "cell_type": "code",
   "execution_count": 4,
   "id": "3c79a242-70f2-498f-92ec-9a3a10c8ca40",
   "metadata": {},
   "outputs": [
    {
     "name": "stdout",
     "output_type": "stream",
     "text": [
      "9380e9d24d2d0876c250d0008b4e48caf9c8238e\n"
     ]
    }
   ],
   "source": [
    "git rev-parse HEAD"
   ]
  },
  {
   "cell_type": "markdown",
   "id": "cc29fd2e-41bc-4d25-8633-69627c6925ad",
   "metadata": {},
   "source": [
    "### Select the network"
   ]
  },
  {
   "cell_type": "code",
   "execution_count": 5,
   "id": "fde8fbef-5d58-4733-a399-7f1678f16d7d",
   "metadata": {},
   "outputs": [],
   "source": [
    "export CARDANO_TESTNET_MAGIC=1"
   ]
  },
  {
   "cell_type": "code",
   "execution_count": 6,
   "id": "e9dfbba1-c408-437f-a465-08af65498a65",
   "metadata": {},
   "outputs": [],
   "source": [
    "export CARDANO_NODE_SOCKET_PATH=/extra/iohk/networks/preprod/node.socket"
   ]
  },
  {
   "cell_type": "markdown",
   "id": "ccbcedb8-6030-4fec-946c-0f41c5fc5127",
   "metadata": {},
   "source": [
    "## Create the contract"
   ]
  },
  {
   "cell_type": "code",
   "execution_count": 7,
   "id": "b0f57885-1c8c-4bb0-ab0b-552b5029bcb9",
   "metadata": {},
   "outputs": [
    {
     "name": "stdout",
     "output_type": "stream",
     "text": [
      "{\"timeout\":1665266660244,\"timeout_continuation\":\"close\",\"when\":[{\"case\":{\"deposits\":100000000,\"into_account\":{\"role_token\":\"\"},\"of_token\":{\"currency_symbol\":\"\",\"token_name\":\"\"},\"party\":{\"role_token\":\"This party has a role name that is greater than the 32-byte limit.\"}},\"then\":{\"from_account\":{\"role_token\":\"Party 0\"},\"pay\":10000000,\"then\":{\"from_account\":{\"role_token\":\"Party 0\"},\"pay\":10000000,\"then\":{\"from_account\":{\"role_token\":\"Party 0\"},\"pay\":10000000,\"then\":{\"from_account\":{\"role_token\":\"Party 0\"},\"pay\":10000000,\"then\":{\"from_account\":{\"role_token\":\"Party 0\"},\"pay\":10000000,\"then\":\"close\",\"to\":{\"party\":{\"role_token\":\"Party 5\"}},\"token\":{\"currency_symbol\":\"8bb3b343d8e404472337966a722150048c768d0a92a9813596c5338d\",\"token_name\":\"\"}},\"to\":{\"party\":{\"role_token\":\"Party 4\"}},\"token\":{\"currency_symbol\":\"8bb3b343d8e404472337966a722150048c768d0a92a9813596c5338d\",\"token_name\":\"This name is far too long for a token name, which should be 32 bytes or less.\"}},\"to\":{\"party\":{\"role_token\":\"Party 3\"}},\"token\":{\"currency_symbol\":\"8bb3b343d8e404472337966a722150048c768d0a92a9813596c5338d00\",\"token_name\":\"CS too long\"}},\"to\":{\"party\":{\"role_token\":\"Party 2\"}},\"token\":{\"currency_symbol\":\"8bb3b343d8e404472337966a722150048c768d0a92a9813596c533\",\"token_name\":\"CS too short\"}},\"to\":{\"party\":{\"role_token\":\"Party 1\"}},\"token\":{\"currency_symbol\":\"\",\"token_name\":\"Blank CS\"}}}]}\n"
     ]
    }
   ],
   "source": [
    "yaml2json << EOI > repair-0.contract\n",
    "when:\n",
    "- case:\n",
    "    party:\n",
    "      role_token: This party has a role name that is greater than the 32-byte limit.  # This is too long.\n",
    "    deposits: 100000000\n",
    "    of_token:\n",
    "      currency_symbol: \"\"  # Ada has a blank currency symbol.\n",
    "      token_name: \"\"       # Ada has a blank token name.\n",
    "    into_account:\n",
    "      role_token: \"\"       # It's legal to have a blank role name, but this may have unintended consequences during payout.\n",
    "  then:\n",
    "    pay: 10000000\n",
    "    token:\n",
    "      currency_symbol: \"\"     # A blank currency symbol may not have\n",
    "      token_name: \"Blank CS\"  # a non-blank token name.\n",
    "    to:\n",
    "      party:\n",
    "        role_token: \"Party 1\"\n",
    "    from_account:\n",
    "      role_token: \"Party 0\"\n",
    "    then:\n",
    "      pay: 10000000\n",
    "      token:\n",
    "        currency_symbol: 8bb3b343d8e404472337966a722150048c768d0a92a9813596c533  # This is too short by one byte.\n",
    "        token_name: CS too short\n",
    "      to:\n",
    "        party:\n",
    "          role_token: Party 2\n",
    "      from_account:\n",
    "        role_token: Party 0\n",
    "      then:\n",
    "        pay: 10000000\n",
    "        token:\n",
    "          currency_symbol: 8bb3b343d8e404472337966a722150048c768d0a92a9813596c5338d00  # This is too long by one byte.\n",
    "          token_name: CS too long\n",
    "        to:\n",
    "          party:\n",
    "            role_token: Party 3\n",
    "        from_account:\n",
    "          role_token: Party 0\n",
    "        then:\n",
    "          pay: 10000000\n",
    "          token:\n",
    "            currency_symbol: 8bb3b343d8e404472337966a722150048c768d0a92a9813596c5338d\n",
    "            token_name: This name is far too long for a token name, which should be 32 bytes or less.  # This is too long.\n",
    "          to:\n",
    "            party:\n",
    "              role_token: Party 4\n",
    "          from_account:\n",
    "            role_token: Party 0\n",
    "          then:\n",
    "            pay: 10000000\n",
    "            token:\n",
    "              currency_symbol: 8bb3b343d8e404472337966a722150048c768d0a92a9813596c5338d\n",
    "              token_name: \"\"  # It okay to have a blank token name.\n",
    "            to:\n",
    "              party:\n",
    "                role_token: Party 5\n",
    "            from_account:\n",
    "              role_token: Party 0\n",
    "            then: close\n",
    "timeout_continuation : close\n",
    "timeout: 1665266660244\n",
    "EOI\n",
    "\n",
    "cat repair-0.contract"
   ]
  },
  {
   "cell_type": "markdown",
   "id": "42814d61-c59e-4b98-8d5f-66f7a853bc53",
   "metadata": {},
   "source": [
    "## Create the initial state"
   ]
  },
  {
   "cell_type": "code",
   "execution_count": 8,
   "id": "6a7bfef5-b877-4ccc-8f2b-8e1cdf5af63c",
   "metadata": {},
   "outputs": [
    {
     "name": "stdout",
     "output_type": "stream",
     "text": [
      "{\"accounts\":[[[{\"role_token\":\"Someone\"},{\"currency_symbol\":\"0ada00000000000000000000000000000000000000000000000000000000000000\",\"token_name\":\"\"}],0],[[{\"role_token\":\"This role token name is a little too long.\"},{\"currency_symbol\":\"\",\"token_name\":\"A token\"}],300],[[{\"role_token\":\"Someone\"},{\"currency_symbol\":\"1ada\",\"token_name\":\"A far, far, too very long name for a native token.\"}],300],[[{\"role_token\":\"Someone\"},{\"currency_symbol\":\"1ada\",\"token_name\":\"A far, far, too very long name for a native token.\"}],330],[[{\"address\":\"addr_test1vzz3vhpuz09q4q4zx9efhwu04jfy5rv54cc3u2wuahxkf2qvxzf6q\"},{\"currency_symbol\":\"\",\"token_name\":\"\"}],-3]],\"boundValues\":[[\"some value\",3],[\"some value\",33]],\"choices\":[[{\"choice_name\":\"some choice\",\"choice_owner\":{\"role_token\":\"Party\"}},10],[{\"choice_name\":\"some choice\",\"choice_owner\":{\"role_token\":\"Party\"}},101],[{\"choice_name\":\"some choice\",\"choice_owner\":{\"role_token\":\"Another role name that is too long.\"}},101]],\"minTime\":1}\n"
     ]
    }
   ],
   "source": [
    "yaml2json << EOI > repair-0.state\n",
    "accounts:\n",
    "- - - role_token: Someone\n",
    "    - currency_symbol: 0ada00000000000000000000000000000000000000000000000000000000000000  # This is too long.\n",
    "      token_name: \"\"\n",
    "  - 0  # This is zero\n",
    "- - - role_token: This role token name is a little too long.  # This is too long.\n",
    "    - currency_symbol: \"\"\n",
    "      token_name: A token\n",
    "  - 300\n",
    "- - - role_token: Someone\n",
    "    - currency_symbol: 1ada\n",
    "      token_name: A far, far, too very long name for a native token.\n",
    "  - 300\n",
    "- - - role_token: Someone                                             # This is a duplicate entry.\n",
    "    - currency_symbol: 1ada                                           # This is too short.\n",
    "      token_name: A far, far, too very long name for a native token.  # This is too long.\n",
    "  - 330\n",
    "- - - address: addr_test1vzz3vhpuz09q4q4zx9efhwu04jfy5rv54cc3u2wuahxkf2qvxzf6q\n",
    "    - currency_symbol: \"\"\n",
    "      token_name: \"\"\n",
    "  - -3  # This is negative.\n",
    "boundValues:\n",
    "- - some value\n",
    "  - 3\n",
    "- - some value  # This is a duplicate entry.\n",
    "  - 33\n",
    "choices:\n",
    "- - choice_name: some choice\n",
    "    choice_owner:\n",
    "      role_token: Party\n",
    "  - 10\n",
    "- - choice_name: some choice  # This is a duplicate choice.\n",
    "    choice_owner:\n",
    "      role_token: Party\n",
    "  - 101\n",
    "- - choice_name: some choice\n",
    "    choice_owner:\n",
    "      role_token: Another role name that is too long.  # This is too long.\n",
    "  - 101\n",
    "minTime: 1\n",
    "EOI\n",
    "\n",
    "cat repair-0.state"
   ]
  },
  {
   "cell_type": "markdown",
   "id": "499d8e55-94ef-49eb-b257-f1a2f9d20b7e",
   "metadata": {},
   "source": [
    "## Bundle the contract and state into a single file"
   ]
  },
  {
   "cell_type": "code",
   "execution_count": 9,
   "id": "56a0e984-9316-4534-8a8f-bf54c4e0f457",
   "metadata": {},
   "outputs": [],
   "source": [
    "marlowe-cli run initialize \\\n",
    "  --roles-currency \"ada1\" \\\n",
    "  --contract-file repair-0.contract \\\n",
    "  --state-file    repair-0.state \\\n",
    "  --out-file      repair-0.marlowe"
   ]
  },
  {
   "cell_type": "markdown",
   "id": "5aac3cd3-6237-4200-9e71-2043a4de6410",
   "metadata": {},
   "source": [
    "## Check the role names"
   ]
  },
  {
   "cell_type": "markdown",
   "id": "81f6cfb3-d630-489e-919b-34f3aee55154",
   "metadata": {},
   "source": [
    "The tool detects the following problems:\n",
    "1. One of the role names is blank.\n",
    "2. One role names is longer than 32 bytes, which means it won't fit on the blockchain."
   ]
  },
  {
   "cell_type": "code",
   "execution_count": 10,
   "id": "5b0d95bd-12f3-4938-90f8-0b4c31d38e64",
   "metadata": {},
   "outputs": [
    {
     "name": "stdout",
     "output_type": "stream",
     "text": [
      "- Role names:\n",
      "    Blank role names: true\n",
      "    Invalid role names:\n",
      "    - unTokenName: This party has a role name that is greater than the 32-byte limit.\n"
     ]
    }
   ],
   "source": [
    "marlowe-cli run analyze \\\n",
    "  --marlowe-file repair-0.marlowe \\\n",
    "  --roles"
   ]
  },
  {
   "cell_type": "markdown",
   "id": "a6fe79c1-9c09-4a65-9693-1306a38b8c29",
   "metadata": {},
   "source": [
    "## Check the token currency symbols and names"
   ]
  },
  {
   "cell_type": "markdown",
   "id": "7fefac24-3935-48c7-b30a-27b365eaa1b3",
   "metadata": {},
   "source": [
    "The tool detects the following problems:\n",
    "1. A token has a blank (Ada-like) currency symbol, but a non-blank (not Ada) token name.\n",
    "2. One of the tokens has a currency symbol that is shorter than 32 bytes.\n",
    "3. One of the tokens has a currency symbol that is longer than 32 bytes."
   ]
  },
  {
   "cell_type": "code",
   "execution_count": 11,
   "id": "5565127e-1b26-4c21-bbff-a43c971baa23",
   "metadata": {},
   "outputs": [
    {
     "name": "stdout",
     "output_type": "stream",
     "text": [
      "- Tokens:\n",
      "    Invalid tokens:\n",
      "    - currency_symbol: ''\n",
      "      token_name: Blank CS\n",
      "    - currency_symbol: 8bb3b343d8e404472337966a722150048c768d0a92a9813596c533\n",
      "      token_name: CS too short\n",
      "    - currency_symbol: 8bb3b343d8e404472337966a722150048c768d0a92a9813596c5338d\n",
      "      token_name: This name is far too long for a token name, which should be 32 bytes\n",
      "        or less.\n",
      "    - currency_symbol: 8bb3b343d8e404472337966a722150048c768d0a92a9813596c5338d00\n",
      "      token_name: CS too long\n"
     ]
    }
   ],
   "source": [
    "marlowe-cli run analyze \\\n",
    "  --marlowe-file repair-0.marlowe \\\n",
    "  --tokens"
   ]
  },
  {
   "cell_type": "markdown",
   "id": "93cf18c5-67d1-4d5c-a563-34067f08928b",
   "metadata": {},
   "source": [
    "## Check the initial state"
   ]
  },
  {
   "cell_type": "markdown",
   "id": "f947b889-8bf4-452b-bce2-448c85e7d3d1",
   "metadata": {},
   "source": [
    "The tool detects the following problems:\n",
    "1. There is a duplicate account entry.\n",
    "2. There is a duplicate bound value.\n",
    "3. There is a duplice choice.\n",
    "4. The role name in one of the accounts exceeds the 32-byte limit.\n",
    "5. The accounts have currency simbols that are too short or too long.\n",
    "6. A choice has an owner whose role name is too long.\n",
    "7. The roles currency is not a valid currency symbole.\n",
    "8. There are non-positive account balances."
   ]
  },
  {
   "cell_type": "code",
   "execution_count": 12,
   "id": "03fe002b-bd48-43ef-b09f-105934aa16ff",
   "metadata": {},
   "outputs": [
    {
     "name": "stdout",
     "output_type": "stream",
     "text": [
      "- Preconditions:\n",
      "    Duplicate accounts:\n",
      "    - - role_token: Someone\n",
      "      - currency_symbol: 1ada\n",
      "        token_name: A far, far, too very long name for a native token.\n",
      "    Duplicate bound values:\n",
      "    - some value\n",
      "    Duplicate choices:\n",
      "    - choice_name: some choice\n",
      "      choice_owner:\n",
      "        role_token: Party\n",
      "    Invalid account parties:\n",
      "    - role_token: This role token name is a little too long.\n",
      "    Invalid account tokens:\n",
      "    - currency_symbol: 0ada00000000000000000000000000000000000000000000000000000000000000\n",
      "      token_name: ''\n",
      "    - currency_symbol: ''\n",
      "      token_name: A token\n",
      "    - currency_symbol: 1ada\n",
      "      token_name: A far, far, too very long name for a native token.\n",
      "    - currency_symbol: 1ada\n",
      "      token_name: A far, far, too very long name for a native token.\n",
      "    Invalid choice parties:\n",
      "    - choice_name: some choice\n",
      "      choice_owner:\n",
      "        role_token: Another role name that is too long.\n",
      "    Invalid roles currency: true\n",
      "    Non-positive account balances:\n",
      "    - - - role_token: Someone\n",
      "        - currency_symbol: 0ada00000000000000000000000000000000000000000000000000000000000000\n",
      "          token_name: ''\n",
      "      - 0\n",
      "    - - - address: addr_test1vzz3vhpuz09q4q4zx9efhwu04jfy5rv54cc3u2wuahxkf2qvxzf6q\n",
      "        - currency_symbol: ''\n",
      "          token_name: ''\n",
      "      - -3\n"
     ]
    }
   ],
   "source": [
    "marlowe-cli run analyze \\\n",
    "  --marlowe-file repair-0.marlowe \\\n",
    "  --preconditions"
   ]
  },
  {
   "cell_type": "markdown",
   "id": "1ba8afa1-1fa5-478f-8587-eb754e031737",
   "metadata": {},
   "source": [
    "## Fix the contract and its initial state."
   ]
  },
  {
   "cell_type": "code",
   "execution_count": 13,
   "id": "c4db732a-24f2-49ac-99aa-aa4d65fede0a",
   "metadata": {},
   "outputs": [
    {
     "name": "stdout",
     "output_type": "stream",
     "text": [
      "{\"timeout\":1665266660244,\"timeout_continuation\":\"close\",\"when\":[{\"case\":{\"deposits\":{\"multiply\":{\"multiply\":2,\"times\":{\"amount_of_token\":{\"currency_symbol\":\"8bb3b343d8e404472337966a722150048c768d0a92a9813596c5338d\",\"token_name\":\"A longer token name.\"},\"in_account\":{\"address\":\"addr_test1qp7cz0ssxs7cmllcdsxlgcdsg940n2xmcfuuy98g5lk7v0xdtcmjhx29ptfrcx5m4y57rmjg3vhwcrte02f5mn55l5vqdfztel\"}}},\"times\":{\"amount_of_token\":{\"currency_symbol\":\"8bb3b343d8e404472337966a722150048c768d0a92a9813596c5338d\",\"token_name\":\"A long token name.\"},\"in_account\":{\"address\":\"addr_test1qp7cz0ssxs7cmllcdsxlgcdsg940n2xmcfuuy98g5lk7v0xdtcmjhx29ptfrcx5m4y57rmjg3vhwcrte02f5mn55l5vqdfztel\"}}},\"into_account\":{\"address\":\"addr_test1qqfaz90xvyc24p2xm2yp08402v3hdu38685nxklrssl5ypnlxyxn4wsn2z3watr72naayj7kctvygade83cw98kd8gsqm9lrps\"},\"of_token\":{\"currency_symbol\":\"8bb3b343d8e404472337966a722150048c768d0a92a9813596c5338d\",\"token_name\":\"A long token name.\"},\"party\":{\"address\":\"addr_test1qqqfx893k998ncu0ukl9ccll84adazyngemf6chhlhkzy8tlxyxn4wsn2z3watr72naayj7kctvygade83cw98kd8gsq859x2g\"}},\"then\":\"close\"},{\"case\":{\"deposits\":{\"multiply\":{\"multiply\":3,\"times\":{\"amount_of_token\":{\"currency_symbol\":\"8bb3b343d8e404472337966a722150048c768d0a92a9813596c5338d\",\"token_name\":\"A longer token name.\"},\"in_account\":{\"address\":\"addr_test1qp7cz0ssxs7cmllcdsxlgcdsg940n2xmcfuuy98g5lk7v0xdtcmjhx29ptfrcx5m4y57rmjg3vhwcrte02f5mn55l5vqdfztel\"}}},\"times\":{\"amount_of_token\":{\"currency_symbol\":\"8bb3b343d8e404472337966a722150048c768d0a92a9813596c5338d\",\"token_name\":\"A long token name.\"},\"in_account\":{\"address\":\"addr_test1qp7cz0ssxs7cmllcdsxlgcdsg940n2xmcfuuy98g5lk7v0xdtcmjhx29ptfrcx5m4y57rmjg3vhwcrte02f5mn55l5vqdfztel\"}}},\"into_account\":{\"address\":\"addr_test1qqfaz90xvyc24p2xm2yp08402v3hdu38685nxklrssl5ypnlxyxn4wsn2z3watr72naayj7kctvygade83cw98kd8gsqm9lrps\"},\"of_token\":{\"currency_symbol\":\"8bb3b343d8e404472337966a722150048c768d0a92a9813596c5338d\",\"token_name\":\"A long token name.\"},\"party\":{\"address\":\"addr_test1qqqfx893k998ncu0ukl9ccll84adazyngemf6chhlhkzy8tlxyxn4wsn2z3watr72naayj7kctvygade83cw98kd8gsq859x2g\"}},\"then\":\"close\"},{\"case\":{\"deposits\":{\"multiply\":{\"multiply\":4,\"times\":{\"amount_of_token\":{\"currency_symbol\":\"8bb3b343d8e404472337966a722150048c768d0a92a9813596c5338d\",\"token_name\":\"A longer token name.\"},\"in_account\":{\"address\":\"addr_test1qp7cz0ssxs7cmllcdsxlgcdsg940n2xmcfuuy98g5lk7v0xdtcmjhx29ptfrcx5m4y57rmjg3vhwcrte02f5mn55l5vqdfztel\"}}},\"times\":{\"amount_of_token\":{\"currency_symbol\":\"8bb3b343d8e404472337966a722150048c768d0a92a9813596c5338d\",\"token_name\":\"A long token name.\"},\"in_account\":{\"address\":\"addr_test1qp7cz0ssxs7cmllcdsxlgcdsg940n2xmcfuuy98g5lk7v0xdtcmjhx29ptfrcx5m4y57rmjg3vhwcrte02f5mn55l5vqdfztel\"}}},\"into_account\":{\"address\":\"addr_test1qqfaz90xvyc24p2xm2yp08402v3hdu38685nxklrssl5ypnlxyxn4wsn2z3watr72naayj7kctvygade83cw98kd8gsqm9lrps\"},\"of_token\":{\"currency_symbol\":\"8bb3b343d8e404472337966a722150048c768d0a92a9813596c5338d\",\"token_name\":\"A long token name.\"},\"party\":{\"address\":\"addr_test1qqqfx893k998ncu0ukl9ccll84adazyngemf6chhlhkzy8tlxyxn4wsn2z3watr72naayj7kctvygade83cw98kd8gsq859x2g\"}},\"then\":\"close\"},{\"case\":{\"deposits\":{\"multiply\":{\"multiply\":5,\"times\":{\"amount_of_token\":{\"currency_symbol\":\"8bb3b343d8e404472337966a722150048c768d0a92a9813596c5338d\",\"token_name\":\"A longer token name.\"},\"in_account\":{\"address\":\"addr_test1qp7cz0ssxs7cmllcdsxlgcdsg940n2xmcfuuy98g5lk7v0xdtcmjhx29ptfrcx5m4y57rmjg3vhwcrte02f5mn55l5vqdfztel\"}}},\"times\":{\"amount_of_token\":{\"currency_symbol\":\"8bb3b343d8e404472337966a722150048c768d0a92a9813596c5338d\",\"token_name\":\"A long token name.\"},\"in_account\":{\"address\":\"addr_test1qp7cz0ssxs7cmllcdsxlgcdsg940n2xmcfuuy98g5lk7v0xdtcmjhx29ptfrcx5m4y57rmjg3vhwcrte02f5mn55l5vqdfztel\"}}},\"into_account\":{\"address\":\"addr_test1qqfaz90xvyc24p2xm2yp08402v3hdu38685nxklrssl5ypnlxyxn4wsn2z3watr72naayj7kctvygade83cw98kd8gsqm9lrps\"},\"of_token\":{\"currency_symbol\":\"8bb3b343d8e404472337966a722150048c768d0a92a9813596c5338d\",\"token_name\":\"A long token name.\"},\"party\":{\"address\":\"addr_test1qqqfx893k998ncu0ukl9ccll84adazyngemf6chhlhkzy8tlxyxn4wsn2z3watr72naayj7kctvygade83cw98kd8gsq859x2g\"}},\"then\":\"close\"},{\"case\":{\"deposits\":{\"multiply\":{\"multiply\":6,\"times\":{\"amount_of_token\":{\"currency_symbol\":\"8bb3b343d8e404472337966a722150048c768d0a92a9813596c5338d\",\"token_name\":\"A longer token name.\"},\"in_account\":{\"address\":\"addr_test1qp7cz0ssxs7cmllcdsxlgcdsg940n2xmcfuuy98g5lk7v0xdtcmjhx29ptfrcx5m4y57rmjg3vhwcrte02f5mn55l5vqdfztel\"}}},\"times\":{\"amount_of_token\":{\"currency_symbol\":\"8bb3b343d8e404472337966a722150048c768d0a92a9813596c5338d\",\"token_name\":\"A long token name.\"},\"in_account\":{\"address\":\"addr_test1qp7cz0ssxs7cmllcdsxlgcdsg940n2xmcfuuy98g5lk7v0xdtcmjhx29ptfrcx5m4y57rmjg3vhwcrte02f5mn55l5vqdfztel\"}}},\"into_account\":{\"address\":\"addr_test1qqfaz90xvyc24p2xm2yp08402v3hdu38685nxklrssl5ypnlxyxn4wsn2z3watr72naayj7kctvygade83cw98kd8gsqm9lrps\"},\"of_token\":{\"currency_symbol\":\"8bb3b343d8e404472337966a722150048c768d0a92a9813596c5338d\",\"token_name\":\"A long token name.\"},\"party\":{\"address\":\"addr_test1qqqfx893k998ncu0ukl9ccll84adazyngemf6chhlhkzy8tlxyxn4wsn2z3watr72naayj7kctvygade83cw98kd8gsq859x2g\"}},\"then\":\"close\"},{\"case\":{\"deposits\":{\"multiply\":{\"multiply\":7,\"times\":{\"amount_of_token\":{\"currency_symbol\":\"8bb3b343d8e404472337966a722150048c768d0a92a9813596c5338d\",\"token_name\":\"A longer token name.\"},\"in_account\":{\"address\":\"addr_test1qp7cz0ssxs7cmllcdsxlgcdsg940n2xmcfuuy98g5lk7v0xdtcmjhx29ptfrcx5m4y57rmjg3vhwcrte02f5mn55l5vqdfztel\"}}},\"times\":{\"amount_of_token\":{\"currency_symbol\":\"8bb3b343d8e404472337966a722150048c768d0a92a9813596c5338d\",\"token_name\":\"A long token name.\"},\"in_account\":{\"address\":\"addr_test1qp7cz0ssxs7cmllcdsxlgcdsg940n2xmcfuuy98g5lk7v0xdtcmjhx29ptfrcx5m4y57rmjg3vhwcrte02f5mn55l5vqdfztel\"}}},\"into_account\":{\"address\":\"addr_test1qqfaz90xvyc24p2xm2yp08402v3hdu38685nxklrssl5ypnlxyxn4wsn2z3watr72naayj7kctvygade83cw98kd8gsqm9lrps\"},\"of_token\":{\"currency_symbol\":\"8bb3b343d8e404472337966a722150048c768d0a92a9813596c5338d\",\"token_name\":\"A long token name.\"},\"party\":{\"address\":\"addr_test1qqqfx893k998ncu0ukl9ccll84adazyngemf6chhlhkzy8tlxyxn4wsn2z3watr72naayj7kctvygade83cw98kd8gsq859x2g\"}},\"then\":\"close\"},{\"case\":{\"deposits\":100000000,\"into_account\":{\"role_token\":\"Someone\"},\"of_token\":{\"currency_symbol\":\"\",\"token_name\":\"\"},\"party\":{\"role_token\":\"This party has a long role name.\"}},\"then\":{\"from_account\":{\"address\":\"addr_test1qp7y79n8052fvt7a6wj4ehst532mgz4rep09hxej980vmv7dtcmjhx29ptfrcx5m4y57rmjg3vhwcrte02f5mn55l5vqenynfn\"},\"pay\":10000000,\"then\":{\"from_account\":{\"address\":\"addr_test1qqu6pjzr6k3lvfx3xarey7jwlwtg2mlz3gypwk709y48g2wdtcmjhx29ptfrcx5m4y57rmjg3vhwcrte02f5mn55l5vquh9ja4\"},\"pay\":10000000,\"then\":{\"from_account\":{\"address\":\"addr_test1qqu8ycccfm0lsxp6m6zhpqp3hulrv94axvpexsk5ds0e037dtcmjhx29ptfrcx5m4y57rmjg3vhwcrte02f5mn55l5vq4lqvjw\"},\"pay\":10000000,\"then\":{\"from_account\":{\"address\":\"addr_test1qpgdhv928sznqhafs0pskus4wzjj9m6le45a0f3vtlzddvxdtcmjhx29ptfrcx5m4y57rmjg3vhwcrte02f5mn55l5vqr70phm\"},\"pay\":10000000,\"then\":{\"from_account\":{\"address\":\"addr_test1qp7cz0ssxs7cmllcdsxlgcdsg940n2xmcfuuy98g5lk7v0xdtcmjhx29ptfrcx5m4y57rmjg3vhwcrte02f5mn55l5vqdfztel\"},\"pay\":10000000,\"then\":{\"assert\":{\"either\":{\"chose_something_for\":{\"choice_name\":\"name\",\"choice_owner\":{\"address\":\"addr_test1qrplmzeprfkhszygte7qff9w4pxdr6qkxmak80ccqf3jyywdtcmjhx29ptfrcx5m4y57rmjg3vhwcrte02f5mn55l5vqwlrrnv\"}}},\"or\":{\"le_than\":{\"multiply\":123456789,\"times\":987654321},\"value\":{\"amount_of_token\":{\"currency_symbol\":\"\",\"token_name\":\"\"},\"in_account\":{\"address\":\"addr_test1qp7cz0ssxs7cmllcdsxlgcdsg940n2xmcfuuy98g5lk7v0xdtcmjhx29ptfrcx5m4y57rmjg3vhwcrte02f5mn55l5vqdfztel\"}}}},\"then\":\"close\"},\"to\":{\"party\":{\"address\":\"addr_test1qqtd3kz2x7tdwaqdcn46y2k8vjlcqeh3jswxhc54arujfe7dtcmjhx29ptfrcx5m4y57rmjg3vhwcrte02f5mn55l5vqcsq6nj\"}},\"token\":{\"currency_symbol\":\"8bb3b343d8e404472337966a722150048c768d0a92a9813596c5338d\",\"token_name\":\"A long token name does use bytes\"}},\"to\":{\"party\":{\"address\":\"addr_test1qqv2qyg89kmnxuf7yssl8ysfdtmhqqs4cx2negy6f4xx68xdtcmjhx29ptfrcx5m4y57rmjg3vhwcrte02f5mn55l5vqdfys92\"}},\"token\":{\"currency_symbol\":\"8bb3b343d8e404472337966a722150048c768d0a92a9813596c5338d\",\"token_name\":\"A long token name does use bytes\"}},\"to\":{\"party\":{\"address\":\"addr_test1qq2neemmna2urqjx8tupuqh9qnur8gfaftqhtvtt5qxscgkdtcmjhx29ptfrcx5m4y57rmjg3vhwcrte02f5mn55l5vq8pjzcd\"}},\"token\":{\"currency_symbol\":\"8bb3b343d8e404472337966a722150048c768d0a92a9813596c5338d\",\"token_name\":\"A long token name does use bytes\"}},\"to\":{\"party\":{\"address\":\"addr_test1qq5am6hqgnw9u477a4eurm9zyr7rtkje27y4l93f9qfyulkdtcmjhx29ptfrcx5m4y57rmjg3vhwcrte02f5mn55l5vq34clrj\"}},\"token\":{\"currency_symbol\":\"8bb3b343d8e404472337966a722150048c768d0a92a9813596c5338d\",\"token_name\":\"A long token name does use bytes\"}},\"to\":{\"party\":{\"address\":\"addr_test1qqhsrfkwq3pzwftdd6r8hhent88p5c8t9y6vp74450wm7xkdtcmjhx29ptfrcx5m4y57rmjg3vhwcrte02f5mn55l5vq2pxm5e\"}},\"token\":{\"currency_symbol\":\"8bb3b343d8e404472337966a722150048c768d0a92a9813596c5338d\",\"token_name\":\"A long token name does use bytes\"}}}]}\n"
     ]
    }
   ],
   "source": [
    "yaml2json << EOI > repair-1.contract\n",
    "when:\n",
    "- case:\n",
    "    party:\n",
    "      address: addr_test1qqqfx893k998ncu0ukl9ccll84adazyngemf6chhlhkzy8tlxyxn4wsn2z3watr72naayj7kctvygade83cw98kd8gsq859x2g\n",
    "    deposits:\n",
    "      multiply:\n",
    "        multiply: 2\n",
    "        times:\n",
    "          amount_of_token:\n",
    "            currency_symbol: 8bb3b343d8e404472337966a722150048c768d0a92a9813596c5338d\n",
    "            token_name: A longer token name.\n",
    "          in_account:\n",
    "            address: addr_test1qp7cz0ssxs7cmllcdsxlgcdsg940n2xmcfuuy98g5lk7v0xdtcmjhx29ptfrcx5m4y57rmjg3vhwcrte02f5mn55l5vqdfztel\n",
    "      times:\n",
    "        amount_of_token:\n",
    "          currency_symbol: 8bb3b343d8e404472337966a722150048c768d0a92a9813596c5338d\n",
    "          token_name: A long token name.\n",
    "        in_account:\n",
    "          address: addr_test1qp7cz0ssxs7cmllcdsxlgcdsg940n2xmcfuuy98g5lk7v0xdtcmjhx29ptfrcx5m4y57rmjg3vhwcrte02f5mn55l5vqdfztel\n",
    "    of_token:\n",
    "      currency_symbol: 8bb3b343d8e404472337966a722150048c768d0a92a9813596c5338d\n",
    "      token_name: A long token name.\n",
    "    into_account:\n",
    "      address: addr_test1qqfaz90xvyc24p2xm2yp08402v3hdu38685nxklrssl5ypnlxyxn4wsn2z3watr72naayj7kctvygade83cw98kd8gsqm9lrps\n",
    "  then: close\n",
    "- case:\n",
    "    party:\n",
    "      address: addr_test1qqqfx893k998ncu0ukl9ccll84adazyngemf6chhlhkzy8tlxyxn4wsn2z3watr72naayj7kctvygade83cw98kd8gsq859x2g\n",
    "    deposits:\n",
    "      multiply:\n",
    "        multiply: 3\n",
    "        times:\n",
    "          amount_of_token:\n",
    "            currency_symbol: 8bb3b343d8e404472337966a722150048c768d0a92a9813596c5338d\n",
    "            token_name: A longer token name.\n",
    "          in_account:\n",
    "            address: addr_test1qp7cz0ssxs7cmllcdsxlgcdsg940n2xmcfuuy98g5lk7v0xdtcmjhx29ptfrcx5m4y57rmjg3vhwcrte02f5mn55l5vqdfztel\n",
    "      times:\n",
    "        amount_of_token:\n",
    "          currency_symbol: 8bb3b343d8e404472337966a722150048c768d0a92a9813596c5338d\n",
    "          token_name: A long token name.\n",
    "        in_account:\n",
    "          address: addr_test1qp7cz0ssxs7cmllcdsxlgcdsg940n2xmcfuuy98g5lk7v0xdtcmjhx29ptfrcx5m4y57rmjg3vhwcrte02f5mn55l5vqdfztel\n",
    "    of_token:\n",
    "      currency_symbol: 8bb3b343d8e404472337966a722150048c768d0a92a9813596c5338d\n",
    "      token_name: A long token name.\n",
    "    into_account:\n",
    "      address: addr_test1qqfaz90xvyc24p2xm2yp08402v3hdu38685nxklrssl5ypnlxyxn4wsn2z3watr72naayj7kctvygade83cw98kd8gsqm9lrps\n",
    "  then: close\n",
    "- case:\n",
    "    party:\n",
    "      address: addr_test1qqqfx893k998ncu0ukl9ccll84adazyngemf6chhlhkzy8tlxyxn4wsn2z3watr72naayj7kctvygade83cw98kd8gsq859x2g\n",
    "    deposits:\n",
    "      multiply:\n",
    "        multiply: 4\n",
    "        times:\n",
    "          amount_of_token:\n",
    "            currency_symbol: 8bb3b343d8e404472337966a722150048c768d0a92a9813596c5338d\n",
    "            token_name: A longer token name.\n",
    "          in_account:\n",
    "            address: addr_test1qp7cz0ssxs7cmllcdsxlgcdsg940n2xmcfuuy98g5lk7v0xdtcmjhx29ptfrcx5m4y57rmjg3vhwcrte02f5mn55l5vqdfztel\n",
    "      times:\n",
    "        amount_of_token:\n",
    "          currency_symbol: 8bb3b343d8e404472337966a722150048c768d0a92a9813596c5338d\n",
    "          token_name: A long token name.\n",
    "        in_account:\n",
    "          address: addr_test1qp7cz0ssxs7cmllcdsxlgcdsg940n2xmcfuuy98g5lk7v0xdtcmjhx29ptfrcx5m4y57rmjg3vhwcrte02f5mn55l5vqdfztel\n",
    "    of_token:\n",
    "      currency_symbol: 8bb3b343d8e404472337966a722150048c768d0a92a9813596c5338d\n",
    "      token_name: A long token name.\n",
    "    into_account:\n",
    "      address: addr_test1qqfaz90xvyc24p2xm2yp08402v3hdu38685nxklrssl5ypnlxyxn4wsn2z3watr72naayj7kctvygade83cw98kd8gsqm9lrps\n",
    "  then: close\n",
    "- case:\n",
    "    party:\n",
    "      address: addr_test1qqqfx893k998ncu0ukl9ccll84adazyngemf6chhlhkzy8tlxyxn4wsn2z3watr72naayj7kctvygade83cw98kd8gsq859x2g\n",
    "    deposits:\n",
    "      multiply:\n",
    "        multiply: 5\n",
    "        times:\n",
    "          amount_of_token:\n",
    "            currency_symbol: 8bb3b343d8e404472337966a722150048c768d0a92a9813596c5338d\n",
    "            token_name: A longer token name.\n",
    "          in_account:\n",
    "            address: addr_test1qp7cz0ssxs7cmllcdsxlgcdsg940n2xmcfuuy98g5lk7v0xdtcmjhx29ptfrcx5m4y57rmjg3vhwcrte02f5mn55l5vqdfztel\n",
    "      times:\n",
    "        amount_of_token:\n",
    "          currency_symbol: 8bb3b343d8e404472337966a722150048c768d0a92a9813596c5338d\n",
    "          token_name: A long token name.\n",
    "        in_account:\n",
    "          address: addr_test1qp7cz0ssxs7cmllcdsxlgcdsg940n2xmcfuuy98g5lk7v0xdtcmjhx29ptfrcx5m4y57rmjg3vhwcrte02f5mn55l5vqdfztel\n",
    "    of_token:\n",
    "      currency_symbol: 8bb3b343d8e404472337966a722150048c768d0a92a9813596c5338d\n",
    "      token_name: A long token name.\n",
    "    into_account:\n",
    "      address: addr_test1qqfaz90xvyc24p2xm2yp08402v3hdu38685nxklrssl5ypnlxyxn4wsn2z3watr72naayj7kctvygade83cw98kd8gsqm9lrps\n",
    "  then: close\n",
    "- case:\n",
    "    party:\n",
    "      address: addr_test1qqqfx893k998ncu0ukl9ccll84adazyngemf6chhlhkzy8tlxyxn4wsn2z3watr72naayj7kctvygade83cw98kd8gsq859x2g\n",
    "    deposits:\n",
    "      multiply:\n",
    "        multiply: 6\n",
    "        times:\n",
    "          amount_of_token:\n",
    "            currency_symbol: 8bb3b343d8e404472337966a722150048c768d0a92a9813596c5338d\n",
    "            token_name: A longer token name.\n",
    "          in_account:\n",
    "            address: addr_test1qp7cz0ssxs7cmllcdsxlgcdsg940n2xmcfuuy98g5lk7v0xdtcmjhx29ptfrcx5m4y57rmjg3vhwcrte02f5mn55l5vqdfztel\n",
    "      times:\n",
    "        amount_of_token:\n",
    "          currency_symbol: 8bb3b343d8e404472337966a722150048c768d0a92a9813596c5338d\n",
    "          token_name: A long token name.\n",
    "        in_account:\n",
    "          address: addr_test1qp7cz0ssxs7cmllcdsxlgcdsg940n2xmcfuuy98g5lk7v0xdtcmjhx29ptfrcx5m4y57rmjg3vhwcrte02f5mn55l5vqdfztel\n",
    "    of_token:\n",
    "      currency_symbol: 8bb3b343d8e404472337966a722150048c768d0a92a9813596c5338d\n",
    "      token_name: A long token name.\n",
    "    into_account:\n",
    "      address: addr_test1qqfaz90xvyc24p2xm2yp08402v3hdu38685nxklrssl5ypnlxyxn4wsn2z3watr72naayj7kctvygade83cw98kd8gsqm9lrps\n",
    "  then: close\n",
    "- case:\n",
    "    party:\n",
    "      address: addr_test1qqqfx893k998ncu0ukl9ccll84adazyngemf6chhlhkzy8tlxyxn4wsn2z3watr72naayj7kctvygade83cw98kd8gsq859x2g\n",
    "    deposits:\n",
    "      multiply:\n",
    "        multiply: 7\n",
    "        times:\n",
    "          amount_of_token:\n",
    "            currency_symbol: 8bb3b343d8e404472337966a722150048c768d0a92a9813596c5338d\n",
    "            token_name: A longer token name.\n",
    "          in_account:\n",
    "            address: addr_test1qp7cz0ssxs7cmllcdsxlgcdsg940n2xmcfuuy98g5lk7v0xdtcmjhx29ptfrcx5m4y57rmjg3vhwcrte02f5mn55l5vqdfztel\n",
    "      times:\n",
    "        amount_of_token:\n",
    "          currency_symbol: 8bb3b343d8e404472337966a722150048c768d0a92a9813596c5338d\n",
    "          token_name: A long token name.\n",
    "        in_account:\n",
    "          address: addr_test1qp7cz0ssxs7cmllcdsxlgcdsg940n2xmcfuuy98g5lk7v0xdtcmjhx29ptfrcx5m4y57rmjg3vhwcrte02f5mn55l5vqdfztel\n",
    "    of_token:\n",
    "      currency_symbol: 8bb3b343d8e404472337966a722150048c768d0a92a9813596c5338d\n",
    "      token_name: A long token name.\n",
    "    into_account:\n",
    "      address: addr_test1qqfaz90xvyc24p2xm2yp08402v3hdu38685nxklrssl5ypnlxyxn4wsn2z3watr72naayj7kctvygade83cw98kd8gsqm9lrps\n",
    "  then: close\n",
    "- case:\n",
    "    party:\n",
    "      role_token: This party has a long role name.\n",
    "    deposits: 100000000\n",
    "    of_token:\n",
    "      currency_symbol: \"\"\n",
    "      token_name: \"\"\n",
    "    into_account:\n",
    "      role_token: Someone\n",
    "  then:\n",
    "    pay: 10000000\n",
    "    token:\n",
    "      currency_symbol: 8bb3b343d8e404472337966a722150048c768d0a92a9813596c5338d\n",
    "      token_name: A long token name does use bytes\n",
    "    to:\n",
    "      party:\n",
    "        address: addr_test1qqhsrfkwq3pzwftdd6r8hhent88p5c8t9y6vp74450wm7xkdtcmjhx29ptfrcx5m4y57rmjg3vhwcrte02f5mn55l5vq2pxm5e\n",
    "    from_account:\n",
    "      address: addr_test1qp7y79n8052fvt7a6wj4ehst532mgz4rep09hxej980vmv7dtcmjhx29ptfrcx5m4y57rmjg3vhwcrte02f5mn55l5vqenynfn\n",
    "    then:\n",
    "      pay: 10000000\n",
    "      token:\n",
    "        currency_symbol: 8bb3b343d8e404472337966a722150048c768d0a92a9813596c5338d\n",
    "        token_name: A long token name does use bytes\n",
    "      to:\n",
    "        party:\n",
    "          address: addr_test1qq5am6hqgnw9u477a4eurm9zyr7rtkje27y4l93f9qfyulkdtcmjhx29ptfrcx5m4y57rmjg3vhwcrte02f5mn55l5vq34clrj\n",
    "      from_account:\n",
    "        address: addr_test1qqu6pjzr6k3lvfx3xarey7jwlwtg2mlz3gypwk709y48g2wdtcmjhx29ptfrcx5m4y57rmjg3vhwcrte02f5mn55l5vquh9ja4\n",
    "      then:\n",
    "        pay: 10000000\n",
    "        token:\n",
    "          currency_symbol: 8bb3b343d8e404472337966a722150048c768d0a92a9813596c5338d\n",
    "          token_name: A long token name does use bytes\n",
    "        to:\n",
    "          party:\n",
    "            address: addr_test1qq2neemmna2urqjx8tupuqh9qnur8gfaftqhtvtt5qxscgkdtcmjhx29ptfrcx5m4y57rmjg3vhwcrte02f5mn55l5vq8pjzcd\n",
    "        from_account:\n",
    "          address: addr_test1qqu8ycccfm0lsxp6m6zhpqp3hulrv94axvpexsk5ds0e037dtcmjhx29ptfrcx5m4y57rmjg3vhwcrte02f5mn55l5vq4lqvjw\n",
    "        then:\n",
    "          pay: 10000000\n",
    "          token:\n",
    "            currency_symbol: 8bb3b343d8e404472337966a722150048c768d0a92a9813596c5338d\n",
    "            token_name: A long token name does use bytes\n",
    "          to:\n",
    "            party:\n",
    "              address: addr_test1qqv2qyg89kmnxuf7yssl8ysfdtmhqqs4cx2negy6f4xx68xdtcmjhx29ptfrcx5m4y57rmjg3vhwcrte02f5mn55l5vqdfys92\n",
    "          from_account:\n",
    "            address: addr_test1qpgdhv928sznqhafs0pskus4wzjj9m6le45a0f3vtlzddvxdtcmjhx29ptfrcx5m4y57rmjg3vhwcrte02f5mn55l5vqr70phm\n",
    "          then:\n",
    "            pay: 10000000\n",
    "            token:\n",
    "              currency_symbol: 8bb3b343d8e404472337966a722150048c768d0a92a9813596c5338d\n",
    "              token_name: A long token name does use bytes\n",
    "            to:\n",
    "              party:\n",
    "                address: addr_test1qqtd3kz2x7tdwaqdcn46y2k8vjlcqeh3jswxhc54arujfe7dtcmjhx29ptfrcx5m4y57rmjg3vhwcrte02f5mn55l5vqcsq6nj\n",
    "            from_account:\n",
    "              address: addr_test1qp7cz0ssxs7cmllcdsxlgcdsg940n2xmcfuuy98g5lk7v0xdtcmjhx29ptfrcx5m4y57rmjg3vhwcrte02f5mn55l5vqdfztel\n",
    "            then: \n",
    "              assert:\n",
    "                either:\n",
    "                  chose_something_for:\n",
    "                    choice_name: name\n",
    "                    choice_owner:\n",
    "                      address: addr_test1qrplmzeprfkhszygte7qff9w4pxdr6qkxmak80ccqf3jyywdtcmjhx29ptfrcx5m4y57rmjg3vhwcrte02f5mn55l5vqwlrrnv\n",
    "                or:\n",
    "                  le_than:\n",
    "                    multiply: 123456789\n",
    "                    times: 987654321\n",
    "                  value:\n",
    "                    amount_of_token:\n",
    "                      currency_symbol: ''\n",
    "                      token_name: ''\n",
    "                    in_account:\n",
    "                      address: addr_test1qp7cz0ssxs7cmllcdsxlgcdsg940n2xmcfuuy98g5lk7v0xdtcmjhx29ptfrcx5m4y57rmjg3vhwcrte02f5mn55l5vqdfztel\n",
    "              then: close\n",
    "timeout_continuation : close\n",
    "timeout: 1665266660244\n",
    "EOI\n",
    "\n",
    "cat repair-1.contract"
   ]
  },
  {
   "cell_type": "code",
   "execution_count": 14,
   "id": "8d5bcb07-4f05-4acd-b9ff-bcb7f392bb07",
   "metadata": {},
   "outputs": [
    {
     "name": "stdout",
     "output_type": "stream",
     "text": [
      "{\"accounts\":[[[{\"role_token\":\"Someone\"},{\"currency_symbol\":\"8bb3b343d8e404472337966a722150048c768d0a92a9813596c5338d\",\"token_name\":\"\"}],1],[[{\"role_token\":\"This role token name long.\"},{\"currency_symbol\":\"8bb3b343d8e404472337966a722150048c768d0a92a9813596c5338d\",\"token_name\":\"A token\"}],300],[[{\"role_token\":\"Someone\"},{\"currency_symbol\":\"8bb3b343d8e404472337966a722150048c768d0a92a9813596c5338d\",\"token_name\":\"A long name for a native token.\"}],300],[[{\"address\":\"addr_test1qrplmzeprfkhszygte7qff9w4pxdr6qkxmak80ccqf3jyywdtcmjhx29ptfrcx5m4y57rmjg3vhwcrte02f5mn55l5vqwlrrnv\"},{\"currency_symbol\":\"\",\"token_name\":\"\"}],3]],\"boundValues\":[[\"some value\",3]],\"choices\":[[{\"choice_name\":\"some choice\",\"choice_owner\":{\"role_token\":\"Party\"}},10],[{\"choice_name\":\"some choice\",\"choice_owner\":{\"role_token\":\"Another long role name.\"}},101]],\"minTime\":1}\n"
     ]
    }
   ],
   "source": [
    "yaml2json << EOI > repair-1.state\n",
    "accounts:\n",
    "- - - role_token: Someone\n",
    "    - currency_symbol: 8bb3b343d8e404472337966a722150048c768d0a92a9813596c5338d\n",
    "      token_name: \"\"\n",
    "  - 1\n",
    "- - - role_token: This role token name long.\n",
    "    - currency_symbol: 8bb3b343d8e404472337966a722150048c768d0a92a9813596c5338d\n",
    "      token_name: A token\n",
    "  - 300\n",
    "- - - role_token: Someone\n",
    "    - currency_symbol: 8bb3b343d8e404472337966a722150048c768d0a92a9813596c5338d\n",
    "      token_name: A long name for a native token.\n",
    "  - 300\n",
    "- - - address: addr_test1qrplmzeprfkhszygte7qff9w4pxdr6qkxmak80ccqf3jyywdtcmjhx29ptfrcx5m4y57rmjg3vhwcrte02f5mn55l5vqwlrrnv\n",
    "    - currency_symbol: \"\"\n",
    "      token_name: \"\"\n",
    "  - 3\n",
    "boundValues:\n",
    "- - some value\n",
    "  - 3\n",
    "choices:\n",
    "- - choice_name: some choice\n",
    "    choice_owner:\n",
    "      role_token: Party\n",
    "  - 10\n",
    "- - choice_name: some choice\n",
    "    choice_owner:\n",
    "      role_token: Another long role name.\n",
    "  - 101\n",
    "minTime: 1\n",
    "EOI\n",
    "\n",
    "cat repair-1.state"
   ]
  },
  {
   "cell_type": "markdown",
   "id": "fceb8d06-d204-4e8e-b954-97d285ab03ed",
   "metadata": {},
   "source": [
    "## Check that the problems have been fixed"
   ]
  },
  {
   "cell_type": "markdown",
   "id": "1f143883-b9d5-4ffa-9af4-cd7734ea3938",
   "metadata": {},
   "source": [
    "Bundle the contract and initial state."
   ]
  },
  {
   "cell_type": "code",
   "execution_count": 15,
   "id": "96e064a5-a63d-419f-9650-adaee4bdbfe7",
   "metadata": {},
   "outputs": [],
   "source": [
    "marlowe-cli run initialize \\\n",
    "  --roles-currency 8bb3b343d8e404472337966a722150048c768d0a92a9813596c5338d \\\n",
    "  --contract-file repair-1.contract \\\n",
    "  --state-file    repair-1.state \\\n",
    "  --out-file      repair-1.marlowe"
   ]
  },
  {
   "cell_type": "markdown",
   "id": "df343bb2-dbfb-471d-8fe5-f3d5643bf647",
   "metadata": {},
   "source": [
    "Re-run the analysis."
   ]
  },
  {
   "cell_type": "code",
   "execution_count": 16,
   "id": "22476521-e6cd-49fd-9ee2-d783ada9d143",
   "metadata": {},
   "outputs": [
    {
     "name": "stdout",
     "output_type": "stream",
     "text": [
      "- Preconditions:\n",
      "    Duplicate accounts: []\n",
      "    Duplicate bound values: []\n",
      "    Duplicate choices: []\n",
      "    Invalid account parties: []\n",
      "    Invalid account tokens: []\n",
      "    Invalid choice parties: []\n",
      "    Invalid roles currency: false\n",
      "    Non-positive account balances: []\n",
      "- Role names:\n",
      "    Blank role names: false\n",
      "    Invalid role names: []\n",
      "- Tokens:\n",
      "    Invalid tokens: []\n"
     ]
    }
   ],
   "source": [
    "marlowe-cli run analyze \\\n",
    "  --marlowe-file repair-1.marlowe \\\n",
    "  --roles \\\n",
    "  --tokens \\\n",
    "  --preconditions"
   ]
  },
  {
   "cell_type": "markdown",
   "id": "72716b2d-32df-40bc-a4e4-852a5f167004",
   "metadata": {},
   "source": [
    "## Check whether the contract satisfies the ledger's \"minimum UTxO\" requirement"
   ]
  },
  {
   "cell_type": "markdown",
   "id": "528bbd45-d7ce-4ac1-8070-4f80b1903aa1",
   "metadata": {},
   "source": [
    "The `minUTxO` requirements specifies that the minimum Ada that must be present at a UTxO, given the number of bytes stored there. The initial state of the contract must contain at least this much Ada."
   ]
  },
  {
   "cell_type": "markdown",
   "id": "0ade64ed-f8b3-4ef3-8e23-af373a2793fe",
   "metadata": {},
   "source": [
    "Without the `--best` flag, the analysis tool computes a rough upper bound on the minimum UTxO Ada value."
   ]
  },
  {
   "cell_type": "code",
   "execution_count": 17,
   "id": "e9e4bc5c-145a-47fc-aa22-fd63bf77a25f",
   "metadata": {},
   "outputs": [
    {
     "name": "stdout",
     "output_type": "stream",
     "text": [
      "- Minimum UTxO:\n",
      "    Requirement:\n",
      "      lovelace: 1594700\n"
     ]
    }
   ],
   "source": [
    "marlowe-cli run analyze \\\n",
    "  --marlowe-file repair-1.marlowe \\\n",
    "  --minimum-utxo"
   ]
  },
  {
   "cell_type": "markdown",
   "id": "8f5f2358-309d-42ab-b1db-e3b6b3db391e",
   "metadata": {},
   "source": [
    "With the `--best` flag, the analysis tool visits every execution path in the contract and finds the maximum of the minimum UTxO value over all paths."
   ]
  },
  {
   "cell_type": "code",
   "execution_count": 18,
   "id": "a903d30e-47d1-4c38-9813-c7f5f1b29cd7",
   "metadata": {},
   "outputs": [
    {
     "name": "stdout",
     "output_type": "stream",
     "text": [
      "Note that path-based analysis ignore the initial state of the contract and instead start with an empty state.\n",
      "Starting search for execution paths . . .\n",
      " . . . found 3 execution paths.\n",
      "- Minimum UTxO:\n",
      "    Requirement:\n",
      "      lovelace: 1594700\n"
     ]
    }
   ],
   "source": [
    "marlowe-cli run analyze \\\n",
    "  --marlowe-file repair-1.marlowe \\\n",
    "  --minimum-utxo \\\n",
    "  --best"
   ]
  },
  {
   "cell_type": "markdown",
   "id": "fb6e6758-f635-4022-98ad-ec978fd74f32",
   "metadata": {},
   "source": [
    "The `--verbose` flag will print where the worst case occurs in the contract."
   ]
  },
  {
   "cell_type": "code",
   "execution_count": 19,
   "id": "7284d700-13b5-463c-85cc-24cce8ca7eb9",
   "metadata": {},
   "outputs": [
    {
     "name": "stdout",
     "output_type": "stream",
     "text": [
      "Note that path-based analysis ignore the initial state of the contract and instead start with an empty state.\n",
      "Starting search for execution paths . . .\n",
      " . . . found 3 execution paths.\n",
      "- Minimum UTxO:\n",
      "    Requirement:\n",
      "      lovelace: 1594700\n",
      "    Worst case:\n",
      "      contract:\n",
      "        timeout: 1665266660244\n",
      "        timeout_continuation: close\n",
      "        when:\n",
      "        - case:\n",
      "            deposits:\n",
      "              multiply:\n",
      "                multiply: 2\n",
      "                times:\n",
      "                  amount_of_token:\n",
      "                    currency_symbol: 8bb3b343d8e404472337966a722150048c768d0a92a9813596c5338d\n",
      "                    token_name: A longer token name.\n",
      "                  in_account:\n",
      "                    address: addr_test1qp7cz0ssxs7cmllcdsxlgcdsg940n2xmcfuuy98g5lk7v0xdtcmjhx29ptfrcx5m4y57rmjg3vhwcrte02f5mn55l5vqdfztel\n",
      "              times:\n",
      "                amount_of_token:\n",
      "                  currency_symbol: 8bb3b343d8e404472337966a722150048c768d0a92a9813596c5338d\n",
      "                  token_name: A long token name.\n",
      "                in_account:\n",
      "                  address: addr_test1qp7cz0ssxs7cmllcdsxlgcdsg940n2xmcfuuy98g5lk7v0xdtcmjhx29ptfrcx5m4y57rmjg3vhwcrte02f5mn55l5vqdfztel\n",
      "            into_account:\n",
      "              address: addr_test1qqfaz90xvyc24p2xm2yp08402v3hdu38685nxklrssl5ypnlxyxn4wsn2z3watr72naayj7kctvygade83cw98kd8gsqm9lrps\n",
      "            of_token:\n",
      "              currency_symbol: 8bb3b343d8e404472337966a722150048c768d0a92a9813596c5338d\n",
      "              token_name: A long token name.\n",
      "            party:\n",
      "              address: addr_test1qqqfx893k998ncu0ukl9ccll84adazyngemf6chhlhkzy8tlxyxn4wsn2z3watr72naayj7kctvygade83cw98kd8gsq859x2g\n",
      "          then: close\n",
      "        - case:\n",
      "            deposits:\n",
      "              multiply:\n",
      "                multiply: 3\n",
      "                times:\n",
      "                  amount_of_token:\n",
      "                    currency_symbol: 8bb3b343d8e404472337966a722150048c768d0a92a9813596c5338d\n",
      "                    token_name: A longer token name.\n",
      "                  in_account:\n",
      "                    address: addr_test1qp7cz0ssxs7cmllcdsxlgcdsg940n2xmcfuuy98g5lk7v0xdtcmjhx29ptfrcx5m4y57rmjg3vhwcrte02f5mn55l5vqdfztel\n",
      "              times:\n",
      "                amount_of_token:\n",
      "                  currency_symbol: 8bb3b343d8e404472337966a722150048c768d0a92a9813596c5338d\n",
      "                  token_name: A long token name.\n",
      "                in_account:\n",
      "                  address: addr_test1qp7cz0ssxs7cmllcdsxlgcdsg940n2xmcfuuy98g5lk7v0xdtcmjhx29ptfrcx5m4y57rmjg3vhwcrte02f5mn55l5vqdfztel\n",
      "            into_account:\n",
      "              address: addr_test1qqfaz90xvyc24p2xm2yp08402v3hdu38685nxklrssl5ypnlxyxn4wsn2z3watr72naayj7kctvygade83cw98kd8gsqm9lrps\n",
      "            of_token:\n",
      "              currency_symbol: 8bb3b343d8e404472337966a722150048c768d0a92a9813596c5338d\n",
      "              token_name: A long token name.\n",
      "            party:\n",
      "              address: addr_test1qqqfx893k998ncu0ukl9ccll84adazyngemf6chhlhkzy8tlxyxn4wsn2z3watr72naayj7kctvygade83cw98kd8gsq859x2g\n",
      "          then: close\n",
      "        - case:\n",
      "            deposits:\n",
      "              multiply:\n",
      "                multiply: 4\n",
      "                times:\n",
      "                  amount_of_token:\n",
      "                    currency_symbol: 8bb3b343d8e404472337966a722150048c768d0a92a9813596c5338d\n",
      "                    token_name: A longer token name.\n",
      "                  in_account:\n",
      "                    address: addr_test1qp7cz0ssxs7cmllcdsxlgcdsg940n2xmcfuuy98g5lk7v0xdtcmjhx29ptfrcx5m4y57rmjg3vhwcrte02f5mn55l5vqdfztel\n",
      "              times:\n",
      "                amount_of_token:\n",
      "                  currency_symbol: 8bb3b343d8e404472337966a722150048c768d0a92a9813596c5338d\n",
      "                  token_name: A long token name.\n",
      "                in_account:\n",
      "                  address: addr_test1qp7cz0ssxs7cmllcdsxlgcdsg940n2xmcfuuy98g5lk7v0xdtcmjhx29ptfrcx5m4y57rmjg3vhwcrte02f5mn55l5vqdfztel\n",
      "            into_account:\n",
      "              address: addr_test1qqfaz90xvyc24p2xm2yp08402v3hdu38685nxklrssl5ypnlxyxn4wsn2z3watr72naayj7kctvygade83cw98kd8gsqm9lrps\n",
      "            of_token:\n",
      "              currency_symbol: 8bb3b343d8e404472337966a722150048c768d0a92a9813596c5338d\n",
      "              token_name: A long token name.\n",
      "            party:\n",
      "              address: addr_test1qqqfx893k998ncu0ukl9ccll84adazyngemf6chhlhkzy8tlxyxn4wsn2z3watr72naayj7kctvygade83cw98kd8gsq859x2g\n",
      "          then: close\n",
      "        - case:\n",
      "            deposits:\n",
      "              multiply:\n",
      "                multiply: 5\n",
      "                times:\n",
      "                  amount_of_token:\n",
      "                    currency_symbol: 8bb3b343d8e404472337966a722150048c768d0a92a9813596c5338d\n",
      "                    token_name: A longer token name.\n",
      "                  in_account:\n",
      "                    address: addr_test1qp7cz0ssxs7cmllcdsxlgcdsg940n2xmcfuuy98g5lk7v0xdtcmjhx29ptfrcx5m4y57rmjg3vhwcrte02f5mn55l5vqdfztel\n",
      "              times:\n",
      "                amount_of_token:\n",
      "                  currency_symbol: 8bb3b343d8e404472337966a722150048c768d0a92a9813596c5338d\n",
      "                  token_name: A long token name.\n",
      "                in_account:\n",
      "                  address: addr_test1qp7cz0ssxs7cmllcdsxlgcdsg940n2xmcfuuy98g5lk7v0xdtcmjhx29ptfrcx5m4y57rmjg3vhwcrte02f5mn55l5vqdfztel\n",
      "            into_account:\n",
      "              address: addr_test1qqfaz90xvyc24p2xm2yp08402v3hdu38685nxklrssl5ypnlxyxn4wsn2z3watr72naayj7kctvygade83cw98kd8gsqm9lrps\n",
      "            of_token:\n",
      "              currency_symbol: 8bb3b343d8e404472337966a722150048c768d0a92a9813596c5338d\n",
      "              token_name: A long token name.\n",
      "            party:\n",
      "              address: addr_test1qqqfx893k998ncu0ukl9ccll84adazyngemf6chhlhkzy8tlxyxn4wsn2z3watr72naayj7kctvygade83cw98kd8gsq859x2g\n",
      "          then: close\n",
      "        - case:\n",
      "            deposits:\n",
      "              multiply:\n",
      "                multiply: 6\n",
      "                times:\n",
      "                  amount_of_token:\n",
      "                    currency_symbol: 8bb3b343d8e404472337966a722150048c768d0a92a9813596c5338d\n",
      "                    token_name: A longer token name.\n",
      "                  in_account:\n",
      "                    address: addr_test1qp7cz0ssxs7cmllcdsxlgcdsg940n2xmcfuuy98g5lk7v0xdtcmjhx29ptfrcx5m4y57rmjg3vhwcrte02f5mn55l5vqdfztel\n",
      "              times:\n",
      "                amount_of_token:\n",
      "                  currency_symbol: 8bb3b343d8e404472337966a722150048c768d0a92a9813596c5338d\n",
      "                  token_name: A long token name.\n",
      "                in_account:\n",
      "                  address: addr_test1qp7cz0ssxs7cmllcdsxlgcdsg940n2xmcfuuy98g5lk7v0xdtcmjhx29ptfrcx5m4y57rmjg3vhwcrte02f5mn55l5vqdfztel\n",
      "            into_account:\n",
      "              address: addr_test1qqfaz90xvyc24p2xm2yp08402v3hdu38685nxklrssl5ypnlxyxn4wsn2z3watr72naayj7kctvygade83cw98kd8gsqm9lrps\n",
      "            of_token:\n",
      "              currency_symbol: 8bb3b343d8e404472337966a722150048c768d0a92a9813596c5338d\n",
      "              token_name: A long token name.\n",
      "            party:\n",
      "              address: addr_test1qqqfx893k998ncu0ukl9ccll84adazyngemf6chhlhkzy8tlxyxn4wsn2z3watr72naayj7kctvygade83cw98kd8gsq859x2g\n",
      "          then: close\n",
      "        - case:\n",
      "            deposits:\n",
      "              multiply:\n",
      "                multiply: 7\n",
      "                times:\n",
      "                  amount_of_token:\n",
      "                    currency_symbol: 8bb3b343d8e404472337966a722150048c768d0a92a9813596c5338d\n",
      "                    token_name: A longer token name.\n",
      "                  in_account:\n",
      "                    address: addr_test1qp7cz0ssxs7cmllcdsxlgcdsg940n2xmcfuuy98g5lk7v0xdtcmjhx29ptfrcx5m4y57rmjg3vhwcrte02f5mn55l5vqdfztel\n",
      "              times:\n",
      "                amount_of_token:\n",
      "                  currency_symbol: 8bb3b343d8e404472337966a722150048c768d0a92a9813596c5338d\n",
      "                  token_name: A long token name.\n",
      "                in_account:\n",
      "                  address: addr_test1qp7cz0ssxs7cmllcdsxlgcdsg940n2xmcfuuy98g5lk7v0xdtcmjhx29ptfrcx5m4y57rmjg3vhwcrte02f5mn55l5vqdfztel\n",
      "            into_account:\n",
      "              address: addr_test1qqfaz90xvyc24p2xm2yp08402v3hdu38685nxklrssl5ypnlxyxn4wsn2z3watr72naayj7kctvygade83cw98kd8gsqm9lrps\n",
      "            of_token:\n",
      "              currency_symbol: 8bb3b343d8e404472337966a722150048c768d0a92a9813596c5338d\n",
      "              token_name: A long token name.\n",
      "            party:\n",
      "              address: addr_test1qqqfx893k998ncu0ukl9ccll84adazyngemf6chhlhkzy8tlxyxn4wsn2z3watr72naayj7kctvygade83cw98kd8gsq859x2g\n",
      "          then: close\n",
      "        - case:\n",
      "            deposits: 100000000\n",
      "            into_account:\n",
      "              role_token: Someone\n",
      "            of_token:\n",
      "              currency_symbol: ''\n",
      "              token_name: ''\n",
      "            party:\n",
      "              role_token: This party has a long role name.\n",
      "          then:\n",
      "            from_account:\n",
      "              address: addr_test1qp7y79n8052fvt7a6wj4ehst532mgz4rep09hxej980vmv7dtcmjhx29ptfrcx5m4y57rmjg3vhwcrte02f5mn55l5vqenynfn\n",
      "            pay: 10000000\n",
      "            then:\n",
      "              from_account:\n",
      "                address: addr_test1qqu6pjzr6k3lvfx3xarey7jwlwtg2mlz3gypwk709y48g2wdtcmjhx29ptfrcx5m4y57rmjg3vhwcrte02f5mn55l5vquh9ja4\n",
      "              pay: 10000000\n",
      "              then:\n",
      "                from_account:\n",
      "                  address: addr_test1qqu8ycccfm0lsxp6m6zhpqp3hulrv94axvpexsk5ds0e037dtcmjhx29ptfrcx5m4y57rmjg3vhwcrte02f5mn55l5vq4lqvjw\n",
      "                pay: 10000000\n",
      "                then:\n",
      "                  from_account:\n",
      "                    address: addr_test1qpgdhv928sznqhafs0pskus4wzjj9m6le45a0f3vtlzddvxdtcmjhx29ptfrcx5m4y57rmjg3vhwcrte02f5mn55l5vqr70phm\n",
      "                  pay: 10000000\n",
      "                  then:\n",
      "                    from_account:\n",
      "                      address: addr_test1qp7cz0ssxs7cmllcdsxlgcdsg940n2xmcfuuy98g5lk7v0xdtcmjhx29ptfrcx5m4y57rmjg3vhwcrte02f5mn55l5vqdfztel\n",
      "                    pay: 10000000\n",
      "                    then:\n",
      "                      assert:\n",
      "                        either:\n",
      "                          chose_something_for:\n",
      "                            choice_name: name\n",
      "                            choice_owner:\n",
      "                              address: addr_test1qrplmzeprfkhszygte7qff9w4pxdr6qkxmak80ccqf3jyywdtcmjhx29ptfrcx5m4y57rmjg3vhwcrte02f5mn55l5vqwlrrnv\n",
      "                        or:\n",
      "                          le_than:\n",
      "                            multiply: 123456789\n",
      "                            times: 987654321\n",
      "                          value:\n",
      "                            amount_of_token:\n",
      "                              currency_symbol: ''\n",
      "                              token_name: ''\n",
      "                            in_account:\n",
      "                              address: addr_test1qp7cz0ssxs7cmllcdsxlgcdsg940n2xmcfuuy98g5lk7v0xdtcmjhx29ptfrcx5m4y57rmjg3vhwcrte02f5mn55l5vqdfztel\n",
      "                      then: close\n",
      "                    to:\n",
      "                      party:\n",
      "                        address: addr_test1qqtd3kz2x7tdwaqdcn46y2k8vjlcqeh3jswxhc54arujfe7dtcmjhx29ptfrcx5m4y57rmjg3vhwcrte02f5mn55l5vqcsq6nj\n",
      "                    token:\n",
      "                      currency_symbol: 8bb3b343d8e404472337966a722150048c768d0a92a9813596c5338d\n",
      "                      token_name: A long token name does use bytes\n",
      "                  to:\n",
      "                    party:\n",
      "                      address: addr_test1qqv2qyg89kmnxuf7yssl8ysfdtmhqqs4cx2negy6f4xx68xdtcmjhx29ptfrcx5m4y57rmjg3vhwcrte02f5mn55l5vqdfys92\n",
      "                  token:\n",
      "                    currency_symbol: 8bb3b343d8e404472337966a722150048c768d0a92a9813596c5338d\n",
      "                    token_name: A long token name does use bytes\n",
      "                to:\n",
      "                  party:\n",
      "                    address: addr_test1qq2neemmna2urqjx8tupuqh9qnur8gfaftqhtvtt5qxscgkdtcmjhx29ptfrcx5m4y57rmjg3vhwcrte02f5mn55l5vq8pjzcd\n",
      "                token:\n",
      "                  currency_symbol: 8bb3b343d8e404472337966a722150048c768d0a92a9813596c5338d\n",
      "                  token_name: A long token name does use bytes\n",
      "              to:\n",
      "                party:\n",
      "                  address: addr_test1qq5am6hqgnw9u477a4eurm9zyr7rtkje27y4l93f9qfyulkdtcmjhx29ptfrcx5m4y57rmjg3vhwcrte02f5mn55l5vq34clrj\n",
      "              token:\n",
      "                currency_symbol: 8bb3b343d8e404472337966a722150048c768d0a92a9813596c5338d\n",
      "                token_name: A long token name does use bytes\n",
      "            to:\n",
      "              party:\n",
      "                address: addr_test1qqhsrfkwq3pzwftdd6r8hhent88p5c8t9y6vp74450wm7xkdtcmjhx29ptfrcx5m4y57rmjg3vhwcrte02f5mn55l5vq2pxm5e\n",
      "            token:\n",
      "              currency_symbol: 8bb3b343d8e404472337966a722150048c768d0a92a9813596c5338d\n",
      "              token_name: A long token name does use bytes\n",
      "      input:\n",
      "        tx_inputs:\n",
      "        - input_from_party:\n",
      "            role_token: This party has a long role name.\n",
      "          into_account:\n",
      "            role_token: Someone\n",
      "          of_token:\n",
      "            currency_symbol: ''\n",
      "            token_name: ''\n",
      "          that_deposits: 100000000\n",
      "        tx_interval:\n",
      "          from: 0\n",
      "          to: 0\n",
      "      output:\n",
      "        contract: close\n",
      "        payments:\n",
      "        - accountId:\n",
      "            address: addr_test1qp7y79n8052fvt7a6wj4ehst532mgz4rep09hxej980vmv7dtcmjhx29ptfrcx5m4y57rmjg3vhwcrte02f5mn55l5vqenynfn\n",
      "          amount: 0\n",
      "          payee:\n",
      "            party:\n",
      "              address: addr_test1qqhsrfkwq3pzwftdd6r8hhent88p5c8t9y6vp74450wm7xkdtcmjhx29ptfrcx5m4y57rmjg3vhwcrte02f5mn55l5vq2pxm5e\n",
      "          token:\n",
      "            currency_symbol: 8bb3b343d8e404472337966a722150048c768d0a92a9813596c5338d\n",
      "            token_name: A long token name does use bytes\n",
      "        - accountId:\n",
      "            address: addr_test1qqu6pjzr6k3lvfx3xarey7jwlwtg2mlz3gypwk709y48g2wdtcmjhx29ptfrcx5m4y57rmjg3vhwcrte02f5mn55l5vquh9ja4\n",
      "          amount: 0\n",
      "          payee:\n",
      "            party:\n",
      "              address: addr_test1qq5am6hqgnw9u477a4eurm9zyr7rtkje27y4l93f9qfyulkdtcmjhx29ptfrcx5m4y57rmjg3vhwcrte02f5mn55l5vq34clrj\n",
      "          token:\n",
      "            currency_symbol: 8bb3b343d8e404472337966a722150048c768d0a92a9813596c5338d\n",
      "            token_name: A long token name does use bytes\n",
      "        - accountId:\n",
      "            address: addr_test1qqu8ycccfm0lsxp6m6zhpqp3hulrv94axvpexsk5ds0e037dtcmjhx29ptfrcx5m4y57rmjg3vhwcrte02f5mn55l5vq4lqvjw\n",
      "          amount: 0\n",
      "          payee:\n",
      "            party:\n",
      "              address: addr_test1qq2neemmna2urqjx8tupuqh9qnur8gfaftqhtvtt5qxscgkdtcmjhx29ptfrcx5m4y57rmjg3vhwcrte02f5mn55l5vq8pjzcd\n",
      "          token:\n",
      "            currency_symbol: 8bb3b343d8e404472337966a722150048c768d0a92a9813596c5338d\n",
      "            token_name: A long token name does use bytes\n",
      "        - accountId:\n",
      "            address: addr_test1qpgdhv928sznqhafs0pskus4wzjj9m6le45a0f3vtlzddvxdtcmjhx29ptfrcx5m4y57rmjg3vhwcrte02f5mn55l5vqr70phm\n",
      "          amount: 0\n",
      "          payee:\n",
      "            party:\n",
      "              address: addr_test1qqv2qyg89kmnxuf7yssl8ysfdtmhqqs4cx2negy6f4xx68xdtcmjhx29ptfrcx5m4y57rmjg3vhwcrte02f5mn55l5vqdfys92\n",
      "          token:\n",
      "            currency_symbol: 8bb3b343d8e404472337966a722150048c768d0a92a9813596c5338d\n",
      "            token_name: A long token name does use bytes\n",
      "        - accountId:\n",
      "            address: addr_test1qp7cz0ssxs7cmllcdsxlgcdsg940n2xmcfuuy98g5lk7v0xdtcmjhx29ptfrcx5m4y57rmjg3vhwcrte02f5mn55l5vqdfztel\n",
      "          amount: 0\n",
      "          payee:\n",
      "            party:\n",
      "              address: addr_test1qqtd3kz2x7tdwaqdcn46y2k8vjlcqeh3jswxhc54arujfe7dtcmjhx29ptfrcx5m4y57rmjg3vhwcrte02f5mn55l5vqcsq6nj\n",
      "          token:\n",
      "            currency_symbol: 8bb3b343d8e404472337966a722150048c768d0a92a9813596c5338d\n",
      "            token_name: A long token name does use bytes\n",
      "        - accountId:\n",
      "            address: addr1qxyg3zyg3zyg3zyg3zyg3zyg3zyg3zyg3zyg3zyg3zyg3zyenxvenxvenxvenxvenxvenxvenxvenxvenxvenxvenxvsh22vyp\n",
      "          amount: 1\n",
      "          payee:\n",
      "            party:\n",
      "              address: addr1qxyg3zyg3zyg3zyg3zyg3zyg3zyg3zyg3zyg3zyg3zyg3zyenxvenxvenxvenxvenxvenxvenxvenxvenxvenxvenxvsh22vyp\n",
      "          token:\n",
      "            currency_symbol: ''\n",
      "            token_name: ''\n",
      "        - accountId:\n",
      "            role_token: Someone\n",
      "          amount: 100000000\n",
      "          payee:\n",
      "            party:\n",
      "              role_token: Someone\n",
      "          token:\n",
      "            currency_symbol: ''\n",
      "            token_name: ''\n",
      "        state:\n",
      "          accounts: []\n",
      "          boundValues: []\n",
      "          choices: []\n",
      "          minTime: 0\n",
      "        warnings:\n",
      "        - account:\n",
      "            address: addr_test1qp7y79n8052fvt7a6wj4ehst532mgz4rep09hxej980vmv7dtcmjhx29ptfrcx5m4y57rmjg3vhwcrte02f5mn55l5vqenynfn\n",
      "          asked_to_pay: 10000000\n",
      "          but_only_paid: 0\n",
      "          of_token:\n",
      "            currency_symbol: 8bb3b343d8e404472337966a722150048c768d0a92a9813596c5338d\n",
      "            token_name: A long token name does use bytes\n",
      "          to_payee:\n",
      "            party:\n",
      "              address: addr_test1qqhsrfkwq3pzwftdd6r8hhent88p5c8t9y6vp74450wm7xkdtcmjhx29ptfrcx5m4y57rmjg3vhwcrte02f5mn55l5vq2pxm5e\n",
      "        - account:\n",
      "            address: addr_test1qqu6pjzr6k3lvfx3xarey7jwlwtg2mlz3gypwk709y48g2wdtcmjhx29ptfrcx5m4y57rmjg3vhwcrte02f5mn55l5vquh9ja4\n",
      "          asked_to_pay: 10000000\n",
      "          but_only_paid: 0\n",
      "          of_token:\n",
      "            currency_symbol: 8bb3b343d8e404472337966a722150048c768d0a92a9813596c5338d\n",
      "            token_name: A long token name does use bytes\n",
      "          to_payee:\n",
      "            party:\n",
      "              address: addr_test1qq5am6hqgnw9u477a4eurm9zyr7rtkje27y4l93f9qfyulkdtcmjhx29ptfrcx5m4y57rmjg3vhwcrte02f5mn55l5vq34clrj\n",
      "        - account:\n",
      "            address: addr_test1qqu8ycccfm0lsxp6m6zhpqp3hulrv94axvpexsk5ds0e037dtcmjhx29ptfrcx5m4y57rmjg3vhwcrte02f5mn55l5vq4lqvjw\n",
      "          asked_to_pay: 10000000\n",
      "          but_only_paid: 0\n",
      "          of_token:\n",
      "            currency_symbol: 8bb3b343d8e404472337966a722150048c768d0a92a9813596c5338d\n",
      "            token_name: A long token name does use bytes\n",
      "          to_payee:\n",
      "            party:\n",
      "              address: addr_test1qq2neemmna2urqjx8tupuqh9qnur8gfaftqhtvtt5qxscgkdtcmjhx29ptfrcx5m4y57rmjg3vhwcrte02f5mn55l5vq8pjzcd\n",
      "        - account:\n",
      "            address: addr_test1qpgdhv928sznqhafs0pskus4wzjj9m6le45a0f3vtlzddvxdtcmjhx29ptfrcx5m4y57rmjg3vhwcrte02f5mn55l5vqr70phm\n",
      "          asked_to_pay: 10000000\n",
      "          but_only_paid: 0\n",
      "          of_token:\n",
      "            currency_symbol: 8bb3b343d8e404472337966a722150048c768d0a92a9813596c5338d\n",
      "            token_name: A long token name does use bytes\n",
      "          to_payee:\n",
      "            party:\n",
      "              address: addr_test1qqv2qyg89kmnxuf7yssl8ysfdtmhqqs4cx2negy6f4xx68xdtcmjhx29ptfrcx5m4y57rmjg3vhwcrte02f5mn55l5vqdfys92\n",
      "        - account:\n",
      "            address: addr_test1qp7cz0ssxs7cmllcdsxlgcdsg940n2xmcfuuy98g5lk7v0xdtcmjhx29ptfrcx5m4y57rmjg3vhwcrte02f5mn55l5vqdfztel\n",
      "          asked_to_pay: 10000000\n",
      "          but_only_paid: 0\n",
      "          of_token:\n",
      "            currency_symbol: 8bb3b343d8e404472337966a722150048c768d0a92a9813596c5338d\n",
      "            token_name: A long token name does use bytes\n",
      "          to_payee:\n",
      "            party:\n",
      "              address: addr_test1qqtd3kz2x7tdwaqdcn46y2k8vjlcqeh3jswxhc54arujfe7dtcmjhx29ptfrcx5m4y57rmjg3vhwcrte02f5mn55l5vqcsq6nj\n",
      "      state:\n",
      "        accounts:\n",
      "        - - - address: addr1qxyg3zyg3zyg3zyg3zyg3zyg3zyg3zyg3zyg3zyg3zyg3zyenxvenxvenxvenxvenxvenxvenxvenxvenxvenxvenxvsh22vyp\n",
      "            - currency_symbol: ''\n",
      "              token_name: ''\n",
      "          - 1\n",
      "        boundValues: []\n",
      "        choices: []\n",
      "        minTime: 0\n"
     ]
    }
   ],
   "source": [
    "marlowe-cli run analyze \\\n",
    "  --marlowe-file repair-1.marlowe \\\n",
    "  --minimum-utxo \\\n",
    "  --best \\\n",
    "  --verbose"
   ]
  },
  {
   "cell_type": "markdown",
   "id": "59def588-f043-4d15-bff4-e779f0354877",
   "metadata": {},
   "source": [
    "## Check whether the contract satisfies the ledger's \"maximum value\" requirement"
   ]
  },
  {
   "cell_type": "markdown",
   "id": "b59583e4-daf4-4b6f-97fc-9a177b78cfb1",
   "metadata": {},
   "source": [
    "The `maxValue` requirement specifies that a maximum of 625 words of data describing native tokens can be stored in a UTxO."
   ]
  },
  {
   "cell_type": "markdown",
   "id": "33b25644-fccd-414e-9bbb-1c4bfcd6cd71",
   "metadata": {},
   "source": [
    "Without the `--best` flag, the analysis tool computes a rough upper bound on the maximum number of words needed to store native tokens in the contract."
   ]
  },
  {
   "cell_type": "code",
   "execution_count": 20,
   "id": "1ae7587c-3809-445c-8851-7675d415d2ac",
   "metadata": {},
   "outputs": [
    {
     "name": "stdout",
     "output_type": "stream",
     "text": [
      "- Maximum value:\n",
      "    Actual: 224\n",
      "    Invalid: false\n",
      "    Maximum: 5000\n",
      "    Percentage: 4.48\n",
      "    Unit: byte\n"
     ]
    }
   ],
   "source": [
    "marlowe-cli run analyze \\\n",
    "  --marlowe-file repair-1.marlowe \\\n",
    "  --maximum-value"
   ]
  },
  {
   "cell_type": "markdown",
   "id": "95d2fde9-c29c-4795-85b8-fc697ffc48bd",
   "metadata": {},
   "source": [
    "Once again, the `--best` flag tightens the bounds by traversing each path through the contract and the `--verbose` flag shows the worst-case step in the contract."
   ]
  },
  {
   "cell_type": "markdown",
   "id": "81867207-de3b-4524-b583-e9275d1d8930",
   "metadata": {},
   "source": [
    "## Check whether the execution cost of any contract step exceeds the ledger's maximum budget."
   ]
  },
  {
   "cell_type": "code",
   "execution_count": 21,
   "id": "2a028fed-fbc3-48dc-8a13-f58c3adf22d0",
   "metadata": {},
   "outputs": [
    {
     "name": "stdout",
     "output_type": "stream",
     "text": [
      "Note that path-based analysis ignore the initial state of the contract and instead start with an empty state.\n",
      "Starting search for execution paths . . .\n",
      " . . . found 3 execution paths.\n",
      "- Execution cost:\n",
      "    Memory:\n",
      "      Actual: 14040278\n",
      "      Invalid: true\n",
      "      Maximum: 14000000\n",
      "      Percentage: 100.2877\n",
      "    Steps:\n",
      "      Actual: 3909683086\n",
      "      Invalid: false\n",
      "      Maximum: 10000000000\n",
      "      Percentage: 39.09683086\n"
     ]
    }
   ],
   "source": [
    "marlowe-cli run analyze \\\n",
    "  --marlowe-file repair-1.marlowe \\\n",
    "  --execution-cost"
   ]
  },
  {
   "cell_type": "markdown",
   "id": "c02738cd-648f-4c24-a375-277580dd2996",
   "metadata": {},
   "source": [
    "Check whether the transaction size of any contract step exceeds the ledger's maximum budget."
   ]
  },
  {
   "cell_type": "markdown",
   "id": "1152b45c-0e07-4292-bfaf-787a7c490af5",
   "metadata": {},
   "source": [
    "## Check whether the transaction size exceeds the ledger's limit."
   ]
  },
  {
   "cell_type": "code",
   "execution_count": 22,
   "id": "0a21eedb-f42b-45ae-a068-59824b0e2c0f",
   "metadata": {},
   "outputs": [
    {
     "name": "stdout",
     "output_type": "stream",
     "text": [
      "Note that path-based analysis ignore the initial state of the contract and instead start with an empty state.\n",
      "Starting search for execution paths . . .\n",
      " . . . found 3 execution paths.\n",
      "- Transaction size:\n",
      "    Actual: 19256\n",
      "    Invalid: true\n",
      "    Maximum: 16384\n",
      "    Percentage: 117.529296875\n"
     ]
    }
   ],
   "source": [
    "marlowe-cli run analyze \\\n",
    "  --marlowe-file repair-1.marlowe \\\n",
    "  --transaction-size"
   ]
  }
 ],
 "metadata": {
  "kernelspec": {
   "display_name": "Bash - Marlowe",
   "language": "bash",
   "name": "bash_marlowe"
  },
  "language_info": {
   "codemirror_mode": "shell",
   "file_extension": ".sh",
   "mimetype": "text/x-sh",
   "name": "/nix/store/l0wlqpbsvh1pgvhcdhw7qkka3d31si7k-bash-5.1-p8/bin/bash"
  }
 },
 "nbformat": 4,
 "nbformat_minor": 5
}
