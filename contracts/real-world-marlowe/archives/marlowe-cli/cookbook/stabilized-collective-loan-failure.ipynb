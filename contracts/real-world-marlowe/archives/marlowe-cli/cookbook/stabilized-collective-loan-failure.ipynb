{
 "cells": [
  {
   "cell_type": "markdown",
   "id": "d2282dae-c7b1-4dec-9e9d-f66dcff5e767",
   "metadata": {},
   "source": [
    "# Stabilized Collective Loan in Marlowe: Failure Due to Protocol Limits\n",
    "\n",
    "This collective loan includes multiple investors and multiple borrowers, where the pool is supervised by an administrator and where a stabilization fund guarantees returns to investors, subject to a cap on losses.\n",
    "\n",
    "Although this contract is simulatable without difficulty, ***this contract fails to execute*** on both the Preview testnet (due to its exceed the transaction-size limit) and the Pioneers testnet (due its execution memory and steps, even though this network has generously larger resources limits). (See Step 5 below for more details.) See [stabilized-collective-loan-success.ipynb](stabilized-collective-loan-success.ipynb) for an example of how including extra `Notify`s works around resource limits.\n",
    "\n",
    "**Roles**\n",
    "*   Role: Stabilizers\n",
    "    *   Contributes funds to the stabilizer accounts of the contract.\n",
    "    *   Stabilizer accounts reimburse Investors for shortfalls when the contract terminates.\n",
    "        *   Reimbursement capped at the percentage stabilization of the loan pool.\n",
    "    *   Stabilizers receive net excess loan proceeds when contract terminates.\n",
    "*   Role: Investors\n",
    "    *   Contribute liquidity used for lending.\n",
    "    *   Guaranteed return of principal plus interest, but capped at percentage stabilization in case of severe net underperformance.\n",
    "    *   May withdraw liquidity at any time.\n",
    "*   Role: Administrator\n",
    "    *   Approves loans.\n",
    "    *   Decides when the contract terminates and settles to all parties.\n",
    "*   Role: Borrowers\n",
    "    *   Receives loans.\n",
    "    *   Repays principal plus interest."
   ]
  },
  {
   "cell_type": "markdown",
   "id": "9ed9daa2-7334-44ad-9daa-e6f763896c5a",
   "metadata": {},
   "source": [
    "## Pool Operations\n",
    "\n",
    "![Operations in the stabilized collective loan](stabilized-collective-loan-operations.png)"
   ]
  },
  {
   "cell_type": "markdown",
   "id": "c655fc2e-3149-4e4f-b675-fa55f462dd4c",
   "metadata": {},
   "source": [
    "## Sequence Diagram\n",
    "\n",
    "![Sequence of interactions in example](stabilized-collective-loan-interaction.svg)"
   ]
  },
  {
   "cell_type": "markdown",
   "id": "54e55032-abcd-49e4-afd9-8220dfea7334",
   "metadata": {},
   "source": [
    "## Preliminaries"
   ]
  },
  {
   "cell_type": "markdown",
   "id": "732311a2-6b0a-493f-89aa-2e7726935758",
   "metadata": {},
   "source": [
    "### Versions"
   ]
  },
  {
   "cell_type": "markdown",
   "id": "c27b9add-75d2-43c0-bdfa-5e307d0d7ec4",
   "metadata": {},
   "source": [
    "Make a note of the versions of the Marlowe repository and software."
   ]
  },
  {
   "cell_type": "code",
   "execution_count": 1,
   "id": "59b0f329-1f59-4366-b4dc-34b9e4adee00",
   "metadata": {},
   "outputs": [
    {
     "name": "stdout",
     "output_type": "stream",
     "text": [
      "marlowe-cli 0.0.7.0 @ 25f6808de7aca1ab3d47db52fb4b66cae4228618\n"
     ]
    }
   ],
   "source": [
    "export TREASURY=treasury\n",
    "marlowe-cli --version"
   ]
  },
  {
   "cell_type": "code",
   "execution_count": 2,
   "id": "dcac1a0e-f533-4cad-b474-c1f122f79cce",
   "metadata": {},
   "outputs": [
    {
     "name": "stdout",
     "output_type": "stream",
     "text": [
      "cardano-cli 1.35.3 - linux-x86_64 - ghc-8.10\n",
      "git rev 0000000000000000000000000000000000000000\n"
     ]
    }
   ],
   "source": [
    "cardano-cli --version"
   ]
  },
  {
   "cell_type": "code",
   "execution_count": 3,
   "id": "85240b4e-2412-4530-95e4-5219eb8a9780",
   "metadata": {},
   "outputs": [
    {
     "name": "stdout",
     "output_type": "stream",
     "text": [
      "25f6808de7aca1ab3d47db52fb4b66cae4228618\n"
     ]
    }
   ],
   "source": [
    "git rev-parse HEAD"
   ]
  },
  {
   "cell_type": "markdown",
   "id": "aa1c26dd-6db8-4a75-9604-f8494538b9a4",
   "metadata": {},
   "source": [
    "### Select the Cardano network"
   ]
  },
  {
   "cell_type": "markdown",
   "id": "ccd713c7-37e5-4746-a18b-6b82fe125a56",
   "metadata": {},
   "source": [
    "Use the `preview` networks, which is in the Babbage era."
   ]
  },
  {
   "cell_type": "code",
   "execution_count": 4,
   "id": "60ab7ef1-d69a-4d40-aa20-894916013cf2",
   "metadata": {},
   "outputs": [],
   "source": [
    "export CARDANO_TESTNET_MAGIC=1567\n",
    "export CARDANO_NODE_SOCKET_PATH=/extra/iohk/networks/1567/node.socket\n",
    "export CARDANO_ERA=\"--alonzo-era\""
   ]
  },
  {
   "cell_type": "markdown",
   "id": "4cf407d7-6cd1-4933-a593-b638fd0167ef",
   "metadata": {},
   "source": [
    "### Current Time"
   ]
  },
  {
   "cell_type": "markdown",
   "id": "d6e588e1-960a-442e-85f9-5b175644bf70",
   "metadata": {},
   "source": [
    "We'll start the contract at the current time."
   ]
  },
  {
   "cell_type": "code",
   "execution_count": 5,
   "id": "932d174a-1092-4c5f-9da1-4dd84bd6eb81",
   "metadata": {},
   "outputs": [
    {
     "name": "stdout",
     "output_type": "stream",
     "text": [
      "1662329111000\n"
     ]
    }
   ],
   "source": [
    "NOW=$(($(date -u +%s) * 1000))\n",
    "echo $NOW"
   ]
  },
  {
   "cell_type": "markdown",
   "id": "662675d0-241f-433e-9c59-e78c25cfbbbd",
   "metadata": {},
   "source": [
    "Compute time constants, for convenience when setting time intervals for transactions."
   ]
  },
  {
   "cell_type": "code",
   "execution_count": 6,
   "id": "b43c72cd-d15c-4323-aee7-09e95c17cae9",
   "metadata": {},
   "outputs": [],
   "source": [
    "MINUTE=$((60 * 1000))\n",
    "HOUR=$((60 * MINUTE))\n",
    "DAY=$((24 * HOUR))"
   ]
  },
  {
   "cell_type": "markdown",
   "id": "20350c3c-0f59-4e14-a299-cbf6e80753ff",
   "metadata": {},
   "source": [
    "There is a minimum Ada requirement associated with a native token."
   ]
  },
  {
   "cell_type": "code",
   "execution_count": 7,
   "id": "88f6d4e0-2271-42cc-9cfe-177362edf9e9",
   "metadata": {},
   "outputs": [
    {
     "name": "stdout",
     "output_type": "stream",
     "text": [
      "2000000\n"
     ]
    }
   ],
   "source": [
    "ADA=1000000\n",
    "MIN_ADA=$((2 * ADA))\n",
    "echo $MIN_ADA"
   ]
  },
  {
   "cell_type": "markdown",
   "id": "c8aa6463-b652-4340-98f2-7300fc8c49de",
   "metadata": {},
   "source": [
    "### Contract Parameters"
   ]
  },
  {
   "cell_type": "markdown",
   "id": "2e35dfe6-16c1-439e-b6e6-88dd42ee5ada",
   "metadata": {},
   "source": [
    "Set parameters for the contract. This contract scales to large numbers of lenders and borrowers, but that will involve many transactions and much time if run on-chain."
   ]
  },
  {
   "cell_type": "code",
   "execution_count": 8,
   "id": "1967aea0-0df3-4e3b-a855-ff57f40e006e",
   "metadata": {},
   "outputs": [],
   "source": [
    "BASENAME=stabilized-collective-loan\n",
    "\n",
    "DJED_POLICY=76ea6a9aad89b09448e7af765f5a3e89c574989d67d6371a80e58baf\n",
    "DJED_NAME=DjedUSD\n",
    "\n",
    "N_STABILIZERS=1\n",
    "N_INVESTORS=2\n",
    "N_BORROWERS=3\n",
    "\n",
    "N_STEPS=20\n",
    "\n",
    "MINIMUM_STABILIZATION=1000000\n",
    "MAXIMUM_STABILIZATION=10000000\n",
    "\n",
    "MINIMUM_INVESTMENT=500000\n",
    "MAXIMUM_INVESTMENT=5000000\n",
    "\n",
    "MINIMUM_LOAN=100000\n",
    "MAXIMUM_LOAN=1000000\n",
    "\n",
    "PERCENT_STABILIZATION=40\n",
    "PERCENT_INTEREST=10\n",
    "\n",
    "TIMEOUT_START=$((NOW + 1 * HOUR))\n",
    "TIMEOUT_DELTA=$((1 * HOUR))\n",
    "TIMEOUT_FINAL=$((NOW + 1000 * DAY))\n",
    "\n",
    "ADMINISTRATOR_ROLE=A\n",
    "STABILIZER_PREFIX=S\n",
    "INVESTOR_PREFIX=I\n",
    "BORROWER_PREFIX=B"
   ]
  },
  {
   "cell_type": "markdown",
   "id": "796015de-7295-45d9-b809-483679e51e62",
   "metadata": {},
   "source": [
    "### Helper functions for roles"
   ]
  },
  {
   "cell_type": "code",
   "execution_count": 9,
   "id": "091ba58f-be1f-43db-aa18-adc16d9a53bc",
   "metadata": {},
   "outputs": [],
   "source": [
    "function stabilizer() {\n",
    "  echo \"$STABILIZER_PREFIX$1\"\n",
    "}"
   ]
  },
  {
   "cell_type": "code",
   "execution_count": 10,
   "id": "1f770523-bd0e-49c8-a2c3-01109579a960",
   "metadata": {},
   "outputs": [],
   "source": [
    "function investor() {\n",
    "  echo \"$INVESTOR_PREFIX$1\"\n",
    "}"
   ]
  },
  {
   "cell_type": "code",
   "execution_count": 11,
   "id": "92113df8-749e-4c8f-963f-ea4ffcf1aa39",
   "metadata": {},
   "outputs": [],
   "source": [
    "function borrower() {\n",
    "  echo \"$BORROWER_PREFIX$1\"\n",
    "}"
   ]
  },
  {
   "cell_type": "markdown",
   "id": "a341334e-9e68-4c72-97d1-57980dfb548a",
   "metadata": {},
   "source": [
    "### Helper functions for state"
   ]
  },
  {
   "cell_type": "code",
   "execution_count": 12,
   "id": "4524af32-10c8-42c2-a872-134036217832",
   "metadata": {},
   "outputs": [],
   "source": [
    "function show_state() {\n",
    "  jq .tx.state $BASENAME-$1.marlowe | json2yaml\n",
    "}"
   ]
  },
  {
   "cell_type": "code",
   "execution_count": 13,
   "id": "301679d2-2201-43e1-b5c0-96897ac0fcaa",
   "metadata": {},
   "outputs": [],
   "source": [
    "function show_choices() {\n",
    "  jq .tx.state.choices $BASENAME-$1.marlowe | json2yaml\n",
    "}"
   ]
  },
  {
   "cell_type": "code",
   "execution_count": 14,
   "id": "8587e919-13a1-42ea-84a2-7fac7d55e68c",
   "metadata": {},
   "outputs": [],
   "source": [
    "function show_nonchoices() {\n",
    "  jq '.tx.state | {accounts : .accounts, boundValues : .boundValues}' $BASENAME-$1.marlowe | json2yaml\n",
    "}"
   ]
  },
  {
   "cell_type": "markdown",
   "id": "1e077291-9224-42c6-bde4-641f9fc8c2b8",
   "metadata": {},
   "source": [
    "### Utility Functions"
   ]
  },
  {
   "cell_type": "markdown",
   "id": "05c6fcda-d830-42fc-8569-8a5184e33f0e",
   "metadata": {},
   "source": [
    "The following functions simplify UTxO management."
   ]
  },
  {
   "cell_type": "code",
   "execution_count": 15,
   "id": "def1a556-698e-48d6-9937-35add8a448af",
   "metadata": {},
   "outputs": [],
   "source": [
    "function find_role() {\n",
    "  marlowe-cli \"$CARDANO_ERA\" util select --asset-only $ROLES_POLICY.$2 $1 | sed -e 's/^TxIn \"\\(.*\\)\" (TxIx \\(.*\\))$/\\1#\\2/'\n",
    "}"
   ]
  },
  {
   "cell_type": "code",
   "execution_count": 16,
   "id": "78943068-1617-4908-ad21-09660a19ab55",
   "metadata": {},
   "outputs": [],
   "source": [
    "function find_ada() {\n",
    "  marlowe-cli \"$CARDANO_ERA\" util select --lovelace-only $((10 * ADA)) $1 | sed -e 's/^TxIn \"\\(.*\\)\" (TxIx \\(.*\\))$/\\1#\\2/' | head -n 1\n",
    "}"
   ]
  },
  {
   "cell_type": "code",
   "execution_count": 17,
   "id": "58f4d703-6ba3-419b-957e-113fb1d96e73",
   "metadata": {},
   "outputs": [],
   "source": [
    "function find_djed() {\n",
    "  marlowe-cli \"$CARDANO_ERA\" util select --asset-only $DJED $1 | sed -e 's/^TxIn \"\\(.*\\)\" (TxIx \\(.*\\))$/\\1#\\2/' | head -n 1\n",
    "}"
   ]
  },
  {
   "cell_type": "markdown",
   "id": "6730a47d-3a5d-4bb3-a1ba-d7ec29a76021",
   "metadata": {},
   "source": [
    "### Setup the faucet."
   ]
  },
  {
   "cell_type": "code",
   "execution_count": 18,
   "id": "8614ead9-e0af-41b6-88dd-9b8ae8948469",
   "metadata": {},
   "outputs": [
    {
     "name": "stdout",
     "output_type": "stream",
     "text": [
      "addr_test1vq9prvx8ufwutkwxx9cmmuuajaqmjqwujqlp9d8pvg6gupczgtm9j\n"
     ]
    }
   ],
   "source": [
    "FAUCET_SKEY_FILE=$TREASURY/payment.skey\n",
    "FAUCET_ADDRESS=$(cat $TREASURY/payment.testnet.address)\n",
    "echo \"$FAUCET_ADDRESS\""
   ]
  },
  {
   "cell_type": "markdown",
   "id": "f0158f21-8ec8-4776-a7a1-c2a1a9fb7542",
   "metadata": {},
   "source": [
    "### Key Derivation"
   ]
  },
  {
   "cell_type": "markdown",
   "id": "04eda9be-a195-4a5e-95db-c671064bea48",
   "metadata": {},
   "source": [
    "We'll derive all of the keys for stabilizers, investors, and borrowers from a single root private key."
   ]
  },
  {
   "cell_type": "code",
   "execution_count": 19,
   "id": "38a3ea1c-f0ee-49b8-852f-5ba2b88ff05e",
   "metadata": {},
   "outputs": [],
   "source": [
    "ROOT_PRV=$TREASURY/william-shakespeare.root.prv"
   ]
  },
  {
   "cell_type": "markdown",
   "id": "285d9e5d-9240-4a57-ae1d-c4f03009d8d9",
   "metadata": {},
   "source": [
    "For the convenience of viewing transactions in Daedalus, we'll include the same stake credential in all of the addresses."
   ]
  },
  {
   "cell_type": "code",
   "execution_count": 20,
   "id": "32269607-b2c8-4742-a7e8-008d9f898789",
   "metadata": {},
   "outputs": [
    {
     "name": "stdout",
     "output_type": "stream",
     "text": [
      "stake_test1urplvp2a7dythh6yxutd0qlzzkncr3gy5ftvxj02d3etafqjugc5h\n"
     ]
    }
   ],
   "source": [
    "cardano-wallet key child 1852H/1815H/0H/2/0 < $ROOT_PRV \\\n",
    "| cardano-cli key convert-cardano-address-key --shelley-stake-key --signing-key-file /dev/stdin --out-file /dev/stdout \\\n",
    "| cardano-cli key verification-key --signing-key-file /dev/stdin --verification-key-file /dev/stdout \\\n",
    "| cardano-cli key non-extended-key --extended-verification-key-file /dev/stdin --verification-key-file $TREASURY/william-shakespeare.stake.vkey\n",
    "cardano-cli stake-address build --testnet-magic $CARDANO_TESTNET_MAGIC --stake-verification-key-file $TREASURY/william-shakespeare.stake.vkey"
   ]
  },
  {
   "cell_type": "markdown",
   "id": "10a60af2-89b7-490c-9c63-37c319e8d9bd",
   "metadata": {},
   "source": [
    "#### Key for the Administrator"
   ]
  },
  {
   "cell_type": "markdown",
   "id": "f5950371-9c72-4cd9-9855-f1244d0d95f2",
   "metadata": {},
   "source": [
    "Build the signing keys and payment addresses for the administrator from the `1852H/1815H/0H/0/` sequence of key derivations."
   ]
  },
  {
   "cell_type": "markdown",
   "id": "64ae01a4-ecbc-4c9e-a755-7904345b4776",
   "metadata": {},
   "source": [
    "Use a pre-existing key for payment."
   ]
  },
  {
   "cell_type": "code",
   "execution_count": 21,
   "id": "2a083072-52f8-4882-9dab-010d315e8ab9",
   "metadata": {},
   "outputs": [
    {
     "name": "stdout",
     "output_type": "stream",
     "text": [
      "addr_test1vrssw4edcts00kk6lp7p5n64666m23tpprqaarmdwkaq69gfvqnpz\n"
     ]
    }
   ],
   "source": [
    "ADMINISTRATOR_SKEY=$TREASURY/christopher-marlowe.skey\n",
    "ADMINISTRATOR_VKEY=$TREASURY/christopher-marlowe.vkey\n",
    "ADMINISTRATOR_ADDR=$(cat $TREASURY/christopher-marlowe.testnet.address)\n",
    "echo $ADMINISTRATOR_ADDR"
   ]
  },
  {
   "cell_type": "code",
   "execution_count": 22,
   "id": "383e6cd8-1c2e-4a8b-9db1-82fa79d6b52b",
   "metadata": {},
   "outputs": [
    {
     "name": "stdout",
     "output_type": "stream",
     "text": [
      "Administrator 1852H/1815H/0H/0/0 = addr_test1qp2l7afky3eqfkrht5f3qgy7x2yek5dejcnpnuqlwywz9twr7cz4mu6gh005gdck67p7y9d8s8zsfgjkcdy75mrjh6jqp8jwfw\n"
     ]
    }
   ],
   "source": [
    "ADMINISTRATOR_SKEY[$j]=tmp/administrator.skey\n",
    "ADMINISTRATOR_ADDR[$j]=$(\n",
    "cardano-wallet key child 1852H/1815H/0H/0/0 < $ROOT_PRV \\\n",
    "| cardano-cli key convert-cardano-address-key --shelley-payment-key --signing-key-file /dev/stdin --out-file $ADMINISTRATOR_SKEY\n",
    "cardano-cli key verification-key --signing-key-file $ADMINISTRATOR_SKEY --verification-key-file /dev/stdout \\\n",
    "| cardano-cli address build --testnet-magic $CARDANO_TESTNET_MAGIC --payment-verification-key-file /dev/stdin --stake-verification-key-file $TREASURY/william-shakespeare.stake.vkey \\\n",
    ")\n",
    "echo \"Administrator 1852H/1815H/0H/0/0 = $ADMINISTRATOR_ADDR\""
   ]
  },
  {
   "cell_type": "markdown",
   "id": "3677449a-9f49-49c3-88cc-6cbda651b66b",
   "metadata": {},
   "source": [
    "Send 100 Ada to the administrator."
   ]
  },
  {
   "cell_type": "code",
   "execution_count": 23,
   "id": "419b5b34-dd0e-44e5-ac6d-1d31bc5e5b87",
   "metadata": {},
   "outputs": [
    {
     "name": "stdout",
     "output_type": "stream",
     "text": [
      "TxId \"94aafa594c2f6dc5124e7e754a25d08f33282e5f89a274644caa7d9af04f1506\"\n"
     ]
    }
   ],
   "source": [
    "marlowe-cli \"$CARDANO_ERA\" util faucet --lovelace \"$((100 * ADA))\"           \\\n",
    "                                       --faucet-address \"$FAUCET_ADDRESS\"    \\\n",
    "                                       --required-signer \"$FAUCET_SKEY_FILE\" \\\n",
    "                                       --out-file /dev/null                  \\\n",
    "                                       --submit 600                          \\\n",
    "                                       $ADMINISTRATOR_ADDR"
   ]
  },
  {
   "cell_type": "markdown",
   "id": "750f57b5-604c-4f13-bbd8-0733edc2945f",
   "metadata": {},
   "source": [
    "#### Keys for Stabilizers"
   ]
  },
  {
   "cell_type": "markdown",
   "id": "dbc97ec4-88ce-42a0-8b35-6e41095fb41d",
   "metadata": {},
   "source": [
    "Build the signing keys and payment addresses for the stabilizers from the `1852H/1815H/0H/0/` sequence of key derivations."
   ]
  },
  {
   "cell_type": "code",
   "execution_count": 24,
   "id": "4ac2121e-ccca-420b-9aed-225226baceaf",
   "metadata": {},
   "outputs": [
    {
     "name": "stdout",
     "output_type": "stream",
     "text": [
      "Stabilizer 1 = 1852H/1815H/0H/0/2 = addr_test1qraxynufcduk7ak7nke2jm6pnc32vn7wsmm7ml30cutfgg7r7cz4mu6gh005gdck67p7y9d8s8zsfgjkcdy75mrjh6jq77wfgp\n"
     ]
    }
   ],
   "source": [
    "mkdir -p tmp\n",
    "for j in `seq 1 $N_STABILIZERS`\n",
    "do\n",
    "  STABILIZER_SKEY[$j]=tmp/stabilizer-$j.skey\n",
    "  STABILIZER_ADDR[$j]=$(\n",
    "  cardano-wallet key child 1852H/1815H/0H/0/$((1 + j)) < $ROOT_PRV \\\n",
    "  | cardano-cli key convert-cardano-address-key --shelley-payment-key --signing-key-file /dev/stdin --out-file ${STABILIZER_SKEY[$j]}\n",
    "  cardano-cli key verification-key --signing-key-file ${STABILIZER_SKEY[$j]} --verification-key-file /dev/stdout \\\n",
    "  | cardano-cli address build --testnet-magic $CARDANO_TESTNET_MAGIC --payment-verification-key-file /dev/stdin --stake-verification-key-file $TREASURY/william-shakespeare.stake.vkey \\\n",
    "  )\n",
    "  echo \"Stabilizer $j = 1852H/1815H/0H/0/$((1 + j)) = ${STABILIZER_ADDR[$j]}\"\n",
    "done"
   ]
  },
  {
   "cell_type": "markdown",
   "id": "a75459f4-6e12-4c77-a09f-7367a61d24f7",
   "metadata": {},
   "source": [
    "Send 25 ADA to each stabilizer."
   ]
  },
  {
   "cell_type": "code",
   "execution_count": 25,
   "id": "07e40be0-7dfd-44c1-98c6-4c1caab7cafb",
   "metadata": {},
   "outputs": [
    {
     "name": "stdout",
     "output_type": "stream",
     "text": [
      "TxId \"20a1716fcb85c55a085db88f5a23e3af6092aec0664f2fcf5c3047275067327f\"\n"
     ]
    }
   ],
   "source": [
    "marlowe-cli \"$CARDANO_ERA\" util faucet --lovelace \"$((25 * ADA))\"            \\\n",
    "                                       --faucet-address \"$FAUCET_ADDRESS\"    \\\n",
    "                                       --required-signer \"$FAUCET_SKEY_FILE\" \\\n",
    "                                       --out-file /dev/null                  \\\n",
    "                                       --submit 600                          \\\n",
    "                                       ${STABILIZER_ADDR[@]}"
   ]
  },
  {
   "cell_type": "markdown",
   "id": "83604a94-d6dd-46f7-aecc-33f9907f4a3d",
   "metadata": {},
   "source": [
    "#### Keys for Investors"
   ]
  },
  {
   "cell_type": "markdown",
   "id": "ce170d93-1aca-4048-a1df-55c63c8174b3",
   "metadata": {},
   "source": [
    "Build the signing keys and payment addresses for the investors from the `1852H/1815H/0H/0/` sequence of key derivations."
   ]
  },
  {
   "cell_type": "code",
   "execution_count": 26,
   "id": "aa2506e7-12bf-489d-93a8-c58f475ac8d9",
   "metadata": {},
   "outputs": [
    {
     "name": "stdout",
     "output_type": "stream",
     "text": [
      "Investor 1 = 1852H/1815H/0H/0/3 = addr_test1qzlwepx5u26a8w94kfrkfem6njlam22emyhjscu0lxqrce7r7cz4mu6gh005gdck67p7y9d8s8zsfgjkcdy75mrjh6jq5jnrn3\n",
      "Investor 2 = 1852H/1815H/0H/0/4 = addr_test1qqjrjfslev50d5jn6qdeztxsqvuaaefq6e4hu55n59grjj7r7cz4mu6gh005gdck67p7y9d8s8zsfgjkcdy75mrjh6jqwhulyr\n"
     ]
    }
   ],
   "source": [
    "mkdir -p tmp\n",
    "for j in `seq 1 $N_INVESTORS`\n",
    "do\n",
    "  INVESTOR_SKEY[$j]=tmp/investor-$j.skey\n",
    "  INVESTOR_ADDR[$j]=$(\n",
    "  cardano-wallet key child 1852H/1815H/0H/0/$((1 + N_STABILIZERS + j)) < $ROOT_PRV \\\n",
    "  | cardano-cli key convert-cardano-address-key --shelley-payment-key --signing-key-file /dev/stdin --out-file ${INVESTOR_SKEY[$j]}\n",
    "  cardano-cli key verification-key --signing-key-file ${INVESTOR_SKEY[$j]} --verification-key-file /dev/stdout \\\n",
    "  | cardano-cli address build --testnet-magic $CARDANO_TESTNET_MAGIC --payment-verification-key-file /dev/stdin --stake-verification-key-file $TREASURY/william-shakespeare.stake.vkey \\\n",
    "  )\n",
    "  echo \"Investor $j = 1852H/1815H/0H/0/$((1 + N_STABILIZERS + j)) = ${INVESTOR_ADDR[$j]}\"\n",
    "done"
   ]
  },
  {
   "cell_type": "markdown",
   "id": "7529b547-6b83-4a12-9f7d-920b72843ffa",
   "metadata": {},
   "source": [
    "Send 25 ADA to each investor."
   ]
  },
  {
   "cell_type": "code",
   "execution_count": 27,
   "id": "20132878-6dc0-4fef-ae68-7b0a06d197ca",
   "metadata": {},
   "outputs": [
    {
     "name": "stdout",
     "output_type": "stream",
     "text": [
      "TxId \"98e1c65032305e535bd92205d97969f951e06613bd16b26291bd0c6d5dfa7879\"\n"
     ]
    }
   ],
   "source": [
    "marlowe-cli \"$CARDANO_ERA\" util faucet --lovelace \"$((25 * ADA))\"            \\\n",
    "                                       --faucet-address \"$FAUCET_ADDRESS\"    \\\n",
    "                                       --required-signer \"$FAUCET_SKEY_FILE\" \\\n",
    "                                       --out-file /dev/null                  \\\n",
    "                                       --submit 600                          \\\n",
    "                                       ${INVESTOR_ADDR[@]}"
   ]
  },
  {
   "cell_type": "markdown",
   "id": "2e548b5e-5be9-4621-9bc6-0bfa1a7ec80a",
   "metadata": {},
   "source": [
    "#### Keys for Borrowers"
   ]
  },
  {
   "cell_type": "markdown",
   "id": "5b45fcc3-ed27-4b43-b21c-ad98250ec1c2",
   "metadata": {},
   "source": [
    "Build the signing keys and payment addresses for the borrowers from the `1852H/1815H/0H/0/` sequence of key derivations."
   ]
  },
  {
   "cell_type": "code",
   "execution_count": 28,
   "id": "c9b6da19-7e7c-4cc5-9132-1f658f8dd086",
   "metadata": {},
   "outputs": [
    {
     "name": "stdout",
     "output_type": "stream",
     "text": [
      "Borrower 1 = 1852H/1815H/0H/0/5 = addr_test1qqxrzfv0v8l0lahyc5qsgpug66dafp8njl278g0pter7e3xr7cz4mu6gh005gdck67p7y9d8s8zsfgjkcdy75mrjh6jqcjuuw0\n",
      "Borrower 2 = 1852H/1815H/0H/0/6 = addr_test1qqqfzyuqkvrr7ajgk887sqac8lgzatc6el9uxke4x5g5dg7r7cz4mu6gh005gdck67p7y9d8s8zsfgjkcdy75mrjh6jqkmrpwu\n",
      "Borrower 3 = 1852H/1815H/0H/0/7 = addr_test1qp77epd4gy5hrt8pnh6h73se4durwrrkes3u0vj6tycwsq7r7cz4mu6gh005gdck67p7y9d8s8zsfgjkcdy75mrjh6jq7kyfpt\n"
     ]
    }
   ],
   "source": [
    "mkdir -p tmp\n",
    "for j in `seq 1 $N_BORROWERS`\n",
    "do\n",
    "  BORROWER_SKEY[$j]=tmp/borrower-$j.skey\n",
    "  BORROWER_ADDR[$j]=$(\n",
    "  cardano-wallet key child 1852H/1815H/0H/0/$((1 + N_STABILIZERS + N_INVESTORS + j)) < $ROOT_PRV \\\n",
    "  | cardano-cli key convert-cardano-address-key --shelley-payment-key --signing-key-file /dev/stdin --out-file ${BORROWER_SKEY[$j]}\n",
    "  cardano-cli key verification-key --signing-key-file ${BORROWER_SKEY[$j]} --verification-key-file /dev/stdout \\\n",
    "  | cardano-cli address build --testnet-magic $CARDANO_TESTNET_MAGIC --payment-verification-key-file /dev/stdin --stake-verification-key-file $TREASURY/william-shakespeare.stake.vkey \\\n",
    "  )\n",
    "  echo \"Borrower $j = 1852H/1815H/0H/0/$((1 +N_STABILIZERS + N_INVESTORS + j)) = ${BORROWER_ADDR[$j]}\"\n",
    "done"
   ]
  },
  {
   "cell_type": "markdown",
   "id": "0d9f1913-23bf-4161-8985-a2423c9e66de",
   "metadata": {},
   "source": [
    "Send 25 ADA to each borrower."
   ]
  },
  {
   "cell_type": "code",
   "execution_count": 29,
   "id": "e989cc2c-1b50-4252-b676-289d07b39ed1",
   "metadata": {},
   "outputs": [
    {
     "name": "stdout",
     "output_type": "stream",
     "text": [
      "TxId \"8aa0e3ba72b15b5e52bf1f961e0f16a5334e969e21f5d6a09e52fa9a15acb8ad\"\n"
     ]
    }
   ],
   "source": [
    "marlowe-cli \"$CARDANO_ERA\" util faucet --lovelace \"$((25 * ADA))\"            \\\n",
    "                                       --faucet-address \"$FAUCET_ADDRESS\"    \\\n",
    "                                       --required-signer \"$FAUCET_SKEY_FILE\" \\\n",
    "                                       --out-file /dev/null                  \\\n",
    "                                       --submit 600                          \\\n",
    "                                       ${BORROWER_ADDR[@]}"
   ]
  },
  {
   "cell_type": "markdown",
   "id": "b0a82037-fcc8-496a-a64b-e89bd1037d9f",
   "metadata": {},
   "source": [
    "### Mint the Djed\n",
    "\n",
    "The contract will use fake Djed for payments."
   ]
  },
  {
   "cell_type": "code",
   "execution_count": 30,
   "id": "d9f6ad4a-bf12-48a0-9a75-f994c6035349",
   "metadata": {},
   "outputs": [],
   "source": [
    "DJED_NAME=DjedUSD"
   ]
  },
  {
   "cell_type": "code",
   "execution_count": 31,
   "id": "8aacac15-690a-480e-96d6-6c905f9c76cb",
   "metadata": {},
   "outputs": [
    {
     "name": "stdout",
     "output_type": "stream",
     "text": [
      "23000000\n"
     ]
    }
   ],
   "source": [
    "TOTAL_DJED=$((\n",
    "    N_STABILIZERS * MAXIMUM_STABILIZATION\n",
    "  + N_INVESTORS   * MAXIMUM_INVESTMENT\n",
    "  + N_BORROWERS   * MAXIMUM_LOAN\n",
    "))\n",
    "echo $TOTAL_DJED"
   ]
  },
  {
   "cell_type": "code",
   "execution_count": 32,
   "id": "808dec1c-a485-4fdd-b245-60e23f694abf",
   "metadata": {},
   "outputs": [
    {
     "name": "stdout",
     "output_type": "stream",
     "text": [
      "PolicyID \"ea94ed18f7a5bf2199f638360443a31ab3ec639108dde4c9e3e9bfee\"\n"
     ]
    }
   ],
   "source": [
    "DJED_POLICY=$(\n",
    "marlowe-cli \"$CARDANO_ERA\" util mint --required-signer \"$ADMINISTRATOR_SKEY\" \\\n",
    "                                     --change-address \"$ADMINISTRATOR_ADDR\"  \\\n",
    "                                     --expires 1000000011                    \\\n",
    "                                     --count \"$TOTAL_DJED\"                   \\\n",
    "                                     --out-file /dev/null                    \\\n",
    "                                     --submit 600                            \\\n",
    "                                     \"$DJED_NAME\"                            \\\n",
    "| sed -e 's/^PolicyID \"\\(.*\\)\"$/\\1/'                                         \\\n",
    ")\n",
    "echo 'PolicyID \"'$DJED_POLICY'\"'"
   ]
  },
  {
   "cell_type": "code",
   "execution_count": 33,
   "id": "f94d45db-bd70-4b55-9146-f4dd52edb4d4",
   "metadata": {},
   "outputs": [
    {
     "name": "stdout",
     "output_type": "stream",
     "text": [
      "ea94ed18f7a5bf2199f638360443a31ab3ec639108dde4c9e3e9bfee.DjedUSD\n"
     ]
    }
   ],
   "source": [
    "DJED=$DJED_POLICY.$DJED_NAME\n",
    "echo $DJED"
   ]
  },
  {
   "cell_type": "markdown",
   "id": "cfcf5f3c-6323-463b-b82f-a5b4e9742062",
   "metadata": {},
   "source": [
    "In `cardano-cli` the token name is printed in hexadecimal, so we have . . ."
   ]
  },
  {
   "cell_type": "code",
   "execution_count": 34,
   "id": "1d6ce963-3a23-4a54-835d-15d04e471cb4",
   "metadata": {
    "tags": []
   },
   "outputs": [
    {
     "name": "stdout",
     "output_type": "stream",
     "text": [
      "ea94ed18f7a5bf2199f638360443a31ab3ec639108dde4c9e3e9bfee.446a6564555344\n"
     ]
    }
   ],
   "source": [
    "echo $DJED_POLICY.$(echo -n $DJED_NAME | basenc --base16 | tr '[:upper:]' '[:lower:]')"
   ]
  },
  {
   "cell_type": "markdown",
   "id": "f15bf4bc-3d6e-4ed9-a68d-4d0ed82c3ae5",
   "metadata": {},
   "source": [
    "### Distribute the Djed."
   ]
  },
  {
   "cell_type": "code",
   "execution_count": 35,
   "id": "5abdade4-cf3c-479c-bb7f-5e98375133ca",
   "metadata": {},
   "outputs": [],
   "source": [
    "TXOUT=()\n",
    "for j in `seq 1 $N_STABILIZERS`\n",
    "do\n",
    "  TXOUT+=(\"--tx-out\" \"${STABILIZER_ADDR[$j]}+$MIN_ADA+$MAXIMUM_STABILIZATION\\ $DJED\")\n",
    "done\n",
    "for j in `seq 1 $N_INVESTORS`\n",
    "do\n",
    "  TXOUT+=(\"--tx-out\" \"${INVESTOR_ADDR[$j]}+$MIN_ADA+$MAXIMUM_INVESTMENT\\ $DJED\")\n",
    "done\n",
    "for j in `seq 1 $N_BORROWERS`\n",
    "do\n",
    "  TXOUT+=(\"--tx-out\" \"${BORROWER_ADDR[$j]}+$MIN_ADA+$MAXIMUM_LOAN\\ $DJED\")\n",
    "done"
   ]
  },
  {
   "cell_type": "code",
   "execution_count": 36,
   "id": "63d639fb-88df-44a8-ab0b-e61aa704e2aa",
   "metadata": {},
   "outputs": [
    {
     "name": "stdout",
     "output_type": "stream",
     "text": [
      "TxId \"f4778966d019f1290bf93fc4b34ec2d068e708680c5dc0f6e6252f89f03421c0\"\n"
     ]
    }
   ],
   "source": [
    "echo marlowe-cli \"$CARDANO_ERA\" transaction simple --tx-in \"$(find_ada  $ADMINISTRATOR_ADDR)\" \\\n",
    "                                                   --tx-in \"$(find_djed $ADMINISTRATOR_ADDR)\" \\\n",
    "                                                   ${TXOUT[@]}                                \\\n",
    "                                                   --change-address $ADMINISTRATOR_ADDR       \\\n",
    "                                                   --required-signer $ADMINISTRATOR_SKEY      \\\n",
    "                                                   --out-file /dev/null                       \\\n",
    "                                                   --submit 600                               \\\n",
    "| bash"
   ]
  },
  {
   "cell_type": "markdown",
   "id": "0278ea43-e8ac-4b4f-a9a5-4bd93a690f93",
   "metadata": {},
   "source": [
    "### Mint the Role Tokens"
   ]
  },
  {
   "cell_type": "code",
   "execution_count": 37,
   "id": "9e4542a2-b10b-4f17-9a59-ce0c97787a9c",
   "metadata": {},
   "outputs": [],
   "source": [
    "for j in `seq 1 $N_STABILIZERS`\n",
    "do\n",
    "  STABILIZER_ROLE[$j]=$STABILIZER_PREFIX$j\n",
    "done"
   ]
  },
  {
   "cell_type": "code",
   "execution_count": 38,
   "id": "21d3f268-880d-46b8-b666-bf99d9696126",
   "metadata": {},
   "outputs": [],
   "source": [
    "for j in `seq 1 $N_INVESTORS`\n",
    "do\n",
    "  INVESTOR_ROLE[$j]=$INVESTOR_PREFIX$j\n",
    "done"
   ]
  },
  {
   "cell_type": "code",
   "execution_count": 39,
   "id": "261ea405-41c2-4b21-b5ec-40d1ed919270",
   "metadata": {},
   "outputs": [],
   "source": [
    "for j in `seq 1 $N_BORROWERS`\n",
    "do\n",
    "  BORROWER_ROLE[$j]=$BORROWER_PREFIX$j\n",
    "done"
   ]
  },
  {
   "cell_type": "markdown",
   "id": "dffa4b94-5cdd-4803-adc3-75f6ec216840",
   "metadata": {},
   "source": [
    "Mint the role tokens."
   ]
  },
  {
   "cell_type": "code",
   "execution_count": 40,
   "id": "91137ddf-7190-493f-86d6-69236a122576",
   "metadata": {},
   "outputs": [
    {
     "name": "stdout",
     "output_type": "stream",
     "text": [
      "PolicyID \"2cf679e1517d7171ba4a8a35d5ee9fb7f4d016249de49da74065a36f\"\n"
     ]
    }
   ],
   "source": [
    "ROLES_POLICY=$(\n",
    "marlowe-cli \"$CARDANO_ERA\" util mint --required-signer \"$ADMINISTRATOR_SKEY\" \\\n",
    "                                     --change-address \"$ADMINISTRATOR_ADDR\"  \\\n",
    "                                     --expires 1000000013                    \\\n",
    "                                     --out-file /dev/null                    \\\n",
    "                                     --submit 600                            \\\n",
    "                                     $ADMINISTRATOR_ROLE                     \\\n",
    "                                     ${STABILIZER_ROLE[@]}                   \\\n",
    "                                     ${INVESTOR_ROLE[@]}                     \\\n",
    "                                     ${BORROWER_ROLE[@]}                     \\\n",
    "| sed -e 's/^PolicyID \"\\(.*\\)\"$/\\1/'                                       \\\n",
    ")\n",
    "echo 'PolicyID \"'$ROLES_POLICY'\"'"
   ]
  },
  {
   "cell_type": "markdown",
   "id": "e8df88c8-b2a5-4dbb-b1e7-d7f7adf8f041",
   "metadata": {},
   "source": [
    "View the role tokens."
   ]
  },
  {
   "cell_type": "code",
   "execution_count": 41,
   "id": "d15490ec-d8fc-483c-b0a8-2063021decdd",
   "metadata": {},
   "outputs": [
    {
     "name": "stdout",
     "output_type": "stream",
     "text": [
      "                           TxHash                                 TxIx        Amount\n",
      "--------------------------------------------------------------------------------------\n",
      "c3eb80ff8048f3cd85adeaf6ed54e5ea5d3a31249fc20f4463040c386446ed74     0        17415145 lovelace + TxOutDatumNone\n",
      "c3eb80ff8048f3cd85adeaf6ed54e5ea5d3a31249fc20f4463040c386446ed74     1        10000000 lovelace + 1 2cf679e1517d7171ba4a8a35d5ee9fb7f4d016249de49da74065a36f.41 + TxOutDatumNone\n",
      "c3eb80ff8048f3cd85adeaf6ed54e5ea5d3a31249fc20f4463040c386446ed74     2        10000000 lovelace + 1 2cf679e1517d7171ba4a8a35d5ee9fb7f4d016249de49da74065a36f.4231 + TxOutDatumNone\n",
      "c3eb80ff8048f3cd85adeaf6ed54e5ea5d3a31249fc20f4463040c386446ed74     3        10000000 lovelace + 1 2cf679e1517d7171ba4a8a35d5ee9fb7f4d016249de49da74065a36f.4232 + TxOutDatumNone\n",
      "c3eb80ff8048f3cd85adeaf6ed54e5ea5d3a31249fc20f4463040c386446ed74     4        10000000 lovelace + 1 2cf679e1517d7171ba4a8a35d5ee9fb7f4d016249de49da74065a36f.4233 + TxOutDatumNone\n",
      "c3eb80ff8048f3cd85adeaf6ed54e5ea5d3a31249fc20f4463040c386446ed74     5        10000000 lovelace + 1 2cf679e1517d7171ba4a8a35d5ee9fb7f4d016249de49da74065a36f.4931 + TxOutDatumNone\n",
      "c3eb80ff8048f3cd85adeaf6ed54e5ea5d3a31249fc20f4463040c386446ed74     6        10000000 lovelace + 1 2cf679e1517d7171ba4a8a35d5ee9fb7f4d016249de49da74065a36f.4932 + TxOutDatumNone\n",
      "c3eb80ff8048f3cd85adeaf6ed54e5ea5d3a31249fc20f4463040c386446ed74     7        10000000 lovelace + 1 2cf679e1517d7171ba4a8a35d5ee9fb7f4d016249de49da74065a36f.5331 + TxOutDatumNone\n"
     ]
    }
   ],
   "source": [
    "cardano-cli query utxo --testnet-magic $CARDANO_TESTNET_MAGIC --address $ADMINISTRATOR_ADDR"
   ]
  },
  {
   "cell_type": "markdown",
   "id": "cbf0953f-4d3f-4e7e-8521-0a3dd646302e",
   "metadata": {},
   "source": [
    "### Distribute the Role Tokens"
   ]
  },
  {
   "cell_type": "code",
   "execution_count": 42,
   "id": "c5bcca02-fc55-4230-9c07-c7da893226b4",
   "metadata": {},
   "outputs": [],
   "source": [
    "TX_IN=($(find_ada  $ADMINISTRATOR_ADDR))\n",
    "TXOUT=()\n",
    "for j in `seq 1 $N_STABILIZERS`\n",
    "do\n",
    "  TXIN+=(\"--tx-in\" \"$(find_role $ADMINISTRATOR_ADDR ${STABILIZER_ROLE[$j]})\")\n",
    "  TXOUT+=(\"--tx-out\" \"${STABILIZER_ADDR[$j]}+$MIN_ADA+1\\ $ROLES_POLICY.${STABILIZER_ROLE[$j]}\")\n",
    "done\n",
    "for j in `seq 1 $N_INVESTORS`\n",
    "do\n",
    "  TXIN+=(\"--tx-in\" \"$(find_role $ADMINISTRATOR_ADDR ${INVESTOR_ROLE[$j]})\")\n",
    "  TXOUT+=(\"--tx-out\" \"${INVESTOR_ADDR[$j]}+$MIN_ADA+1\\ $ROLES_POLICY.${INVESTOR_ROLE[$j]}\")\n",
    "done\n",
    "for j in `seq 1 $N_BORROWERS`\n",
    "do\n",
    "  TXIN+=(\"--tx-in\" \"$(find_role $ADMINISTRATOR_ADDR ${BORROWER_ROLE[$j]})\")\n",
    "  TXOUT+=(\"--tx-out\" \"${BORROWER_ADDR[$j]}+$MIN_ADA+1\\ $ROLES_POLICY.${BORROWER_ROLE[$j]}\")\n",
    "done"
   ]
  },
  {
   "cell_type": "code",
   "execution_count": 43,
   "id": "aca0d9bb-7f44-4d5b-8e0a-4e43d6fad631",
   "metadata": {},
   "outputs": [
    {
     "name": "stdout",
     "output_type": "stream",
     "text": [
      "TxId \"ee45521486d46f3084ba41e157d73d18dc5cb95f9ecdafab22ca0f5d4b696fba\"\n"
     ]
    }
   ],
   "source": [
    "echo marlowe-cli \"$CARDANO_ERA\" transaction simple ${TXIN[@]}                              \\\n",
    "                                                   ${TXOUT[@]}                             \\\n",
    "                                                   --change-address \"$ADMINISTRATOR_ADDR\"  \\\n",
    "                                                   --required-signer \"$ADMINISTRATOR_SKEY\" \\\n",
    "                                                   --out-file /dev/null                    \\\n",
    "                                                   --submit 600                            \\\n",
    "| bash"
   ]
  },
  {
   "cell_type": "markdown",
   "id": "c6c19a9f-175f-414b-8f09-dd1005e3c5c5",
   "metadata": {},
   "source": [
    "View the role tokens."
   ]
  },
  {
   "cell_type": "code",
   "execution_count": 44,
   "id": "c467b7be-c343-4741-8a1f-ce7a1e3dfc5b",
   "metadata": {},
   "outputs": [
    {
     "name": "stdout",
     "output_type": "stream",
     "text": [
      "UTxOs at the Administor address:\n",
      "                           TxHash                                 TxIx        Amount\n",
      "--------------------------------------------------------------------------------------\n",
      "c3eb80ff8048f3cd85adeaf6ed54e5ea5d3a31249fc20f4463040c386446ed74     0        17415145 lovelace + TxOutDatumNone\n",
      "c3eb80ff8048f3cd85adeaf6ed54e5ea5d3a31249fc20f4463040c386446ed74     1        10000000 lovelace + 1 2cf679e1517d7171ba4a8a35d5ee9fb7f4d016249de49da74065a36f.41 + TxOutDatumNone\n",
      "ee45521486d46f3084ba41e157d73d18dc5cb95f9ecdafab22ca0f5d4b696fba     0        47774923 lovelace + TxOutDatumNone\n"
     ]
    }
   ],
   "source": [
    "echo \"UTxOs at the Administor address:\"\n",
    "cardano-cli query utxo --testnet-magic $CARDANO_TESTNET_MAGIC --address $ADMINISTRATOR_ADDR"
   ]
  },
  {
   "cell_type": "code",
   "execution_count": 45,
   "id": "7562feab-fd44-445c-864b-c312e63851d1",
   "metadata": {},
   "outputs": [
    {
     "name": "stdout",
     "output_type": "stream",
     "text": [
      "UTxOs at the Stabilizer 1 address:\n",
      "                           TxHash                                 TxIx        Amount\n",
      "--------------------------------------------------------------------------------------\n",
      "20a1716fcb85c55a085db88f5a23e3af6092aec0664f2fcf5c3047275067327f     2        25000000 lovelace + TxOutDatumNone\n",
      "ee45521486d46f3084ba41e157d73d18dc5cb95f9ecdafab22ca0f5d4b696fba     1        2000000 lovelace + 1 2cf679e1517d7171ba4a8a35d5ee9fb7f4d016249de49da74065a36f.5331 + TxOutDatumNone\n",
      "f4778966d019f1290bf93fc4b34ec2d068e708680c5dc0f6e6252f89f03421c0     1        2000000 lovelace + 10000000 ea94ed18f7a5bf2199f638360443a31ab3ec639108dde4c9e3e9bfee.446a6564555344 + TxOutDatumNone\n",
      "\n"
     ]
    }
   ],
   "source": [
    "for j in `seq 1 $N_STABILIZERS`\n",
    "do\n",
    "  echo \"UTxOs at the Stabilizer $j address:\"\n",
    "  cardano-cli query utxo --testnet-magic $CARDANO_TESTNET_MAGIC --address ${STABILIZER_ADDR[$j]}\n",
    "  echo\n",
    "done"
   ]
  },
  {
   "cell_type": "code",
   "execution_count": 46,
   "id": "9676e9cd-01b2-415d-a59c-012a5518d953",
   "metadata": {},
   "outputs": [
    {
     "name": "stdout",
     "output_type": "stream",
     "text": [
      "UTxOs at the Investor 1 address:\n",
      "                           TxHash                                 TxIx        Amount\n",
      "--------------------------------------------------------------------------------------\n",
      "98e1c65032305e535bd92205d97969f951e06613bd16b26291bd0c6d5dfa7879     2        25000000 lovelace + TxOutDatumNone\n",
      "ee45521486d46f3084ba41e157d73d18dc5cb95f9ecdafab22ca0f5d4b696fba     2        2000000 lovelace + 1 2cf679e1517d7171ba4a8a35d5ee9fb7f4d016249de49da74065a36f.4931 + TxOutDatumNone\n",
      "f4778966d019f1290bf93fc4b34ec2d068e708680c5dc0f6e6252f89f03421c0     2        2000000 lovelace + 5000000 ea94ed18f7a5bf2199f638360443a31ab3ec639108dde4c9e3e9bfee.446a6564555344 + TxOutDatumNone\n",
      "\n",
      "UTxOs at the Investor 2 address:\n",
      "                           TxHash                                 TxIx        Amount\n",
      "--------------------------------------------------------------------------------------\n",
      "98e1c65032305e535bd92205d97969f951e06613bd16b26291bd0c6d5dfa7879     3        25000000 lovelace + TxOutDatumNone\n",
      "ee45521486d46f3084ba41e157d73d18dc5cb95f9ecdafab22ca0f5d4b696fba     3        2000000 lovelace + 1 2cf679e1517d7171ba4a8a35d5ee9fb7f4d016249de49da74065a36f.4932 + TxOutDatumNone\n",
      "f4778966d019f1290bf93fc4b34ec2d068e708680c5dc0f6e6252f89f03421c0     3        2000000 lovelace + 5000000 ea94ed18f7a5bf2199f638360443a31ab3ec639108dde4c9e3e9bfee.446a6564555344 + TxOutDatumNone\n",
      "\n"
     ]
    }
   ],
   "source": [
    "for j in `seq 1 $N_INVESTORS`\n",
    "do\n",
    "  echo \"UTxOs at the Investor $j address:\"\n",
    "  cardano-cli query utxo --testnet-magic $CARDANO_TESTNET_MAGIC --address ${INVESTOR_ADDR[$j]}\n",
    "  echo\n",
    "done"
   ]
  },
  {
   "cell_type": "code",
   "execution_count": 47,
   "id": "01915f85-3aa8-4315-996b-506bd1f5f14b",
   "metadata": {},
   "outputs": [
    {
     "name": "stdout",
     "output_type": "stream",
     "text": [
      "UTxOs at the Borrower 1 address:\n",
      "                           TxHash                                 TxIx        Amount\n",
      "--------------------------------------------------------------------------------------\n",
      "8aa0e3ba72b15b5e52bf1f961e0f16a5334e969e21f5d6a09e52fa9a15acb8ad     2        25000000 lovelace + TxOutDatumNone\n",
      "ee45521486d46f3084ba41e157d73d18dc5cb95f9ecdafab22ca0f5d4b696fba     4        2000000 lovelace + 1 2cf679e1517d7171ba4a8a35d5ee9fb7f4d016249de49da74065a36f.4231 + TxOutDatumNone\n",
      "f4778966d019f1290bf93fc4b34ec2d068e708680c5dc0f6e6252f89f03421c0     4        2000000 lovelace + 1000000 ea94ed18f7a5bf2199f638360443a31ab3ec639108dde4c9e3e9bfee.446a6564555344 + TxOutDatumNone\n",
      "\n",
      "UTxOs at the Borrower 2 address:\n",
      "                           TxHash                                 TxIx        Amount\n",
      "--------------------------------------------------------------------------------------\n",
      "8aa0e3ba72b15b5e52bf1f961e0f16a5334e969e21f5d6a09e52fa9a15acb8ad     3        25000000 lovelace + TxOutDatumNone\n",
      "ee45521486d46f3084ba41e157d73d18dc5cb95f9ecdafab22ca0f5d4b696fba     5        2000000 lovelace + 1 2cf679e1517d7171ba4a8a35d5ee9fb7f4d016249de49da74065a36f.4232 + TxOutDatumNone\n",
      "f4778966d019f1290bf93fc4b34ec2d068e708680c5dc0f6e6252f89f03421c0     5        2000000 lovelace + 1000000 ea94ed18f7a5bf2199f638360443a31ab3ec639108dde4c9e3e9bfee.446a6564555344 + TxOutDatumNone\n",
      "\n",
      "UTxOs at the Borrower 3 address:\n",
      "                           TxHash                                 TxIx        Amount\n",
      "--------------------------------------------------------------------------------------\n",
      "8aa0e3ba72b15b5e52bf1f961e0f16a5334e969e21f5d6a09e52fa9a15acb8ad     4        25000000 lovelace + TxOutDatumNone\n",
      "ee45521486d46f3084ba41e157d73d18dc5cb95f9ecdafab22ca0f5d4b696fba     6        2000000 lovelace + 1 2cf679e1517d7171ba4a8a35d5ee9fb7f4d016249de49da74065a36f.4233 + TxOutDatumNone\n",
      "f4778966d019f1290bf93fc4b34ec2d068e708680c5dc0f6e6252f89f03421c0     6        2000000 lovelace + 1000000 ea94ed18f7a5bf2199f638360443a31ab3ec639108dde4c9e3e9bfee.446a6564555344 + TxOutDatumNone\n",
      "\n"
     ]
    }
   ],
   "source": [
    "for j in `seq 1 $N_BORROWERS`\n",
    "do\n",
    "  echo \"UTxOs at the Borrower $j address:\"\n",
    "  cardano-cli query utxo --testnet-magic $CARDANO_TESTNET_MAGIC --address ${BORROWER_ADDR[$j]}\n",
    "  echo\n",
    "done"
   ]
  },
  {
   "cell_type": "markdown",
   "id": "519e08a7-1372-477c-b7ba-1ab013673ca1",
   "metadata": {},
   "source": [
    "## Generate the Contract"
   ]
  },
  {
   "cell_type": "markdown",
   "id": "16e9346d-b183-4e58-92a0-fd63dff0d9fb",
   "metadata": {},
   "source": [
    "Run a Haskell program that generates the contract."
   ]
  },
  {
   "cell_type": "code",
   "execution_count": 48,
   "id": "5e86a115-5b6a-4e65-9a36-63b781eb4685",
   "metadata": {},
   "outputs": [],
   "source": [
    "runhaskell << EOI\n",
    "\n",
    "{-# LANGUAGE NumericUnderscores #-}\n",
    "{-# LANGUAGE OverloadedStrings  #-}\n",
    "{-# LANGUAGE RecordWildCards    #-}\n",
    "\n",
    "\n",
    "module Main (\n",
    "  main\n",
    ") where\n",
    "\n",
    "\n",
    "import Control.Monad.Writer (Writer, runWriter, tell)\n",
    "import Data.Aeson ((.=), encodeFile,object)\n",
    "import Data.Default (Default(..))\n",
    "import Data.Foldable (foldrM)\n",
    "import Data.Maybe (fromMaybe)\n",
    "import Data.String (fromString)\n",
    "import Language.Marlowe.Core.V1.Semantics.Types\n",
    "import Plutus.V1.Ledger.Api (BuiltinByteString, POSIXTime(..), TokenName)\n",
    "import Language.Marlowe.CLI.Merkle (deepMerkleize)\n",
    "import Language.Marlowe.CLI.Types (Continuations)\n",
    "\n",
    "\n",
    "data Scenario =\n",
    "  Scenario\n",
    "  {\n",
    "    nSteps               :: Int\n",
    "  , timeoutStart         :: Integer\n",
    "  , timeoutDelta         :: Integer\n",
    "  , timeoutFinal         :: POSIXTime\n",
    "  , nStabilizers         :: Int\n",
    "  , nInvestors           :: Int\n",
    "  , nBorrowers           :: Int\n",
    "  , administratorName    :: String\n",
    "  , stabilizerPrefix     :: String\n",
    "  , investorPrefix       :: String\n",
    "  , borrowerPrefix       :: String\n",
    "  , stabilizeBound       :: [Bound]\n",
    "  , investBound          :: [Bound]\n",
    "  , loanBound            :: [Bound]\n",
    "  , percentInterest      :: Integer\n",
    "  , percentStabilization :: Integer\n",
    "  , djed                 :: Token\n",
    "  }\n",
    "\n",
    "instance Default Scenario where\n",
    "  def = \n",
    "    Scenario\n",
    "    {\n",
    "      nSteps               = $N_STEPS\n",
    "    , timeoutStart         = $TIMEOUT_START\n",
    "    , timeoutDelta         = $TIMEOUT_DELTA\n",
    "    , timeoutFinal         = POSIXTime $TIMEOUT_FINAL\n",
    "    , nStabilizers         = $N_STABILIZERS\n",
    "    , nInvestors           = $N_INVESTORS\n",
    "    , nBorrowers           = $N_BORROWERS\n",
    "    , administratorName    = \"$ADMINISTRATOR_ROLE\"\n",
    "    , stabilizerPrefix     = \"$STABILIZER_PREFIX\"\n",
    "    , investorPrefix       = \"$INVESTOR_PREFIX\"\n",
    "    , borrowerPrefix       = \"$BORROWER_PREFIX\"\n",
    "    , stabilizeBound       = [Bound $MINIMUM_STABILIZATION $MAXIMUM_STABILIZATION]\n",
    "    , investBound          = [Bound $MINIMUM_INVESTMENT    $MAXIMUM_INVESTMENT   ]\n",
    "    , loanBound            = [Bound $MINIMUM_LOAN          $MAXIMUM_LOAN         ]\n",
    "    , percentInterest      = $PERCENT_INTEREST\n",
    "    , percentStabilization = $PERCENT_STABILIZATION\n",
    "    , djed                 = Token \"$DJED_POLICY\" \"$DJED_NAME\"\n",
    "    }\n",
    "\n",
    "\n",
    "main :: IO ()\n",
    "main =\n",
    "  let\n",
    "    (contract, continuations) = buildContract def\n",
    "  in\n",
    "    encodeFile \"$BASENAME.merkleization\"\n",
    "      $ object\n",
    "        [\n",
    "          \"contract\"      .= contract\n",
    "        , \"continuations\" .= continuations\n",
    "        ]\n",
    "\n",
    "\n",
    "buildContract :: Scenario -> (Contract, Continuations)\n",
    "buildContract scenario@Scenario{..} =\n",
    "  let\n",
    "    timeouts = [POSIXTime $ timeoutStart + toInteger i * timeoutDelta | i <- [1..nSteps]]\n",
    "  in\n",
    "    runWriter $ foldrM (makeStep scenario) Close timeouts\n",
    "\n",
    "\n",
    "defaultBound :: [Bound]\n",
    "defaultBound = [Bound 1 1_000_000_000_000]\n",
    "\n",
    "\n",
    "makeParty :: String -> Int -> Party\n",
    "makeParty name i = Role . fromString $ name <> show i\n",
    "\n",
    "\n",
    "deposit :: Scenario\n",
    "        -> String\n",
    "        -> String\n",
    "        -> Int\n",
    "        -> Maybe Party\n",
    "        -> [Bound]\n",
    "        -> (Value Observation -> Contract -> Contract)\n",
    "        -> Contract\n",
    "        -> [Case Contract]\n",
    "deposit Scenario{..} name prefix i recipient bound f continuation =\n",
    "  let\n",
    "    party = makeParty prefix i\n",
    "    party' = fromMaybe party recipient\n",
    "    choice = ChoiceId (fromString name) party\n",
    "    value = ChoiceValue choice\n",
    "  in\n",
    "    [\n",
    "      Case (Choice choice bound)\n",
    "        continuation\n",
    "    , Case (Deposit party' party djed value)\n",
    "        $ f value continuation\n",
    "    ]\n",
    "\n",
    "\n",
    "stabilization :: ValueId\n",
    "stabilization = ValueId \"s\"\n",
    "\n",
    "\n",
    "stabilize :: Scenario -> Int -> Contract -> [Case Contract]\n",
    "stabilize scenario@Scenario{..} i =\n",
    "  deposit scenario \"S\" stabilizerPrefix i Nothing stabilizeBound\n",
    "    (stabilization =+)\n",
    " \n",
    "\n",
    "assets :: ValueId\n",
    "assets = ValueId \"a\"\n",
    "\n",
    "\n",
    "equity :: Int -> ValueId\n",
    "equity = ValueId . (\"e\" <>) . fromString . show\n",
    "\n",
    "\n",
    "invest :: Scenario -> Int -> Contract -> [Case Contract]\n",
    "invest scenario@Scenario{..} i =\n",
    "  deposit scenario \"I\" investorPrefix i Nothing investBound\n",
    "    $ \\value -> (assets   =+ value)\n",
    "              . (equity i =+ value)\n",
    "\n",
    "\n",
    "withdraw :: Scenario\n",
    "         -> Int\n",
    "         -> Contract\n",
    "         -> [Case Contract]\n",
    "withdraw Scenario{..} i continuation =\n",
    "  let\n",
    "    party = makeParty investorPrefix i\n",
    "    choice = ChoiceId \"W\" party\n",
    "    value = ChoiceValue choice\n",
    "    funds = AvailableMoney party djed\n",
    "  in\n",
    "    [\n",
    "      Case (Choice choice defaultBound)\n",
    "        $ If (value @<= funds)\n",
    "            (\n",
    "              Pay party (Party party) djed value\n",
    "                $ assets   =- value\n",
    "                $ equity i =- value\n",
    "                $ continuation\n",
    "            )\n",
    "            (\n",
    "              Pay party (Party party) djed funds\n",
    "                $ assets   =- funds\n",
    "                $ equity i =- funds\n",
    "                $ continuation\n",
    "            )\n",
    "    ]\n",
    "\n",
    "\n",
    "lend :: Scenario\n",
    "     -> Party\n",
    "     -> Value Observation\n",
    "     -> Value Observation\n",
    "     -> Int\n",
    "     -> Contract\n",
    "     -> Contract\n",
    "lend Scenario{..} borrower principal interest i =\n",
    "  let\n",
    "    party = makeParty investorPrefix i\n",
    "    funds = AvailableMoney party djed\n",
    "    assets' = UseValue assets\n",
    "    principal' = (principal @* funds) @/ assets'\n",
    "    interest'  = (interest  @* funds) @/ assets'\n",
    "  in\n",
    "    Pay party (Party borrower) djed principal'\n",
    "      . (equity i =+ interest')\n",
    "\n",
    "\n",
    "liabilities :: ValueId\n",
    "liabilities = ValueId \"l\"\n",
    "\n",
    "loan :: Scenario\n",
    "     -> Int\n",
    "     -> Contract\n",
    "     -> [Case Contract]\n",
    "loan scenario@Scenario{..} i continuation =\n",
    "  let\n",
    "    party = Role $ fromString administratorName\n",
    "    borrower = makeParty borrowerPrefix i\n",
    "    choice = ChoiceId (fromString $ \"L\" <> show i) party\n",
    "    principal = ChoiceValue choice\n",
    "    assets' = UseValue assets\n",
    "    stabilization' = UseValue stabilization\n",
    "  in\n",
    "    [\n",
    "      Case (Choice choice loanBound)\n",
    "        $ let\n",
    "            interest = principal @% percentInterest\n",
    "            debt = principal @+ interest\n",
    "          in\n",
    "            If ((principal @<= assets') @&& (stabilization' @>= (debt @% percentStabilization)))\n",
    "              (\n",
    "                flip (foldr $ lend scenario borrower principal interest) [1..nInvestors]\n",
    "                  $ liabilities =+ debt\n",
    "                  $ assets      =- principal\n",
    "                  $ continuation\n",
    "              )\n",
    "              continuation\n",
    "    ]\n",
    "\n",
    "\n",
    "restore :: Scenario\n",
    "        -> Value Observation\n",
    "        -> Int\n",
    "        -> Contract\n",
    "        -> Contract\n",
    "restore Scenario{..} repayment i =\n",
    "  let\n",
    "    administrator = Role $ fromString administratorName\n",
    "    party = makeParty investorPrefix i\n",
    "    equity' = UseValue $ equity i\n",
    "    assets' = AvailableMoney party djed\n",
    "    liabilities' = UseValue liabilities\n",
    "    share = (repayment @* (equity' @- assets')) @/ liabilities'\n",
    "  in\n",
    "    Pay administrator (Account party) djed share\n",
    "\n",
    "\n",
    "repay :: Scenario\n",
    "      -> Int\n",
    "      -> Contract\n",
    "      -> [Case Contract]\n",
    "repay scenario@Scenario{..} i =\n",
    "  deposit scenario \"R\" borrowerPrefix i (Just . Role $ fromString administratorName) defaultBound\n",
    "    $ \\repayment -> flip (foldr $ restore scenario repayment) [1..nInvestors]\n",
    "                      . (liabilities =- repayment)\n",
    "                      . (assets      =+ repayment)\n",
    "\n",
    "\n",
    "gather :: Scenario\n",
    "       -> Value Observation\n",
    "       -> ValueId\n",
    "       -> String\n",
    "       -> Int\n",
    "       -> Contract\n",
    "       -> Contract\n",
    "gather Scenario{..} amount basis prefix i = \n",
    "  let\n",
    "    administrator = Role $ fromString administratorName\n",
    "    party = makeParty prefix i\n",
    "    funds = AvailableMoney party djed\n",
    "    basis' = UseValue basis\n",
    "    share = (amount @* funds) @/ basis'\n",
    "  in\n",
    "    Pay party (Account administrator) djed share\n",
    "\n",
    "\n",
    "scatter :: Scenario\n",
    "        -> ValueId\n",
    "        -> String\n",
    "        -> Int\n",
    "        -> Contract\n",
    "        -> Contract\n",
    "scatter Scenario{..} basis prefix i =\n",
    "  let\n",
    "    administrator = Role $ fromString administratorName\n",
    "    party = makeParty prefix i\n",
    "    funds = AvailableMoney party djed\n",
    "    basis' = UseValue basis\n",
    "    amount = AvailableMoney administrator djed\n",
    "    share = (amount @* funds) @/ basis'\n",
    "  in\n",
    "    Pay administrator (Account party) djed share\n",
    "\n",
    "\n",
    "terminate :: Scenario\n",
    "          -> [Case Contract]\n",
    "terminate scenario@Scenario{..} =\n",
    "  let\n",
    "    party = Role $ fromString administratorName\n",
    "    choice = ChoiceId \"T\" party\n",
    "    liabilities' = UseValue liabilities\n",
    "  in\n",
    "    [\n",
    "      Case (Choice choice [Bound 1 1])\n",
    "        $ If (liabilities' @>= Constant 0)\n",
    "          (\n",
    "              flip (foldr $ gather  scenario liabilities' stabilization stabilizerPrefix) [1..nStabilizers]\n",
    "            $ flip (foldr $ scatter scenario              assets        investorPrefix  ) [1..nInvestors  ]\n",
    "              Close\n",
    "          )\n",
    "          (\n",
    "              flip (foldr $ gather  scenario (NegValue liabilities') assets        investorPrefix  ) [1..nInvestors  ]\n",
    "            $ flip (foldr $ scatter scenario                         stabilization stabilizerPrefix) [1..nStabilizers]\n",
    "              Close\n",
    "          )\n",
    "    ]\n",
    "\n",
    "\n",
    "makeStep :: Scenario\n",
    "         -> Timeout\n",
    "         -> Contract\n",
    "         -> Writer Continuations Contract\n",
    "makeStep scenario@Scenario{..} timeout continuation =\n",
    "  let\n",
    "  in\n",
    "    deepMerkleize\n",
    "      . When\n",
    "        (\n",
    "          concat\n",
    "            $  [stabilize scenario i continuation | i <- [1..nStabilizers]]\n",
    "            <> [invest    scenario i continuation | i <- [1..nInvestors]  ]\n",
    "            <> [withdraw  scenario i continuation | i <- [1..nInvestors]  ]\n",
    "            <> [loan      scenario i continuation | i <- [1..nBorrowers]  ]\n",
    "            <> [repay     scenario i continuation | i <- [1..nBorrowers]  ]\n",
    "            <> [terminate scenario                                        ]\n",
    "        )\n",
    "      timeout\n",
    "    =<< merkleizeTimeout timeoutFinal continuation\n",
    "\n",
    "\n",
    "merkleizeTimeout :: Timeout\n",
    "                 -> Contract\n",
    "                 -> Writer Continuations Contract\n",
    "merkleizeTimeout timeout continuation =\n",
    "  deepMerkleize\n",
    "    $ When\n",
    "      [\n",
    "        Case (Notify TrueObs )\n",
    "        continuation\n",
    "      ]\n",
    "      timeout\n",
    "      Close\n",
    "\n",
    "\n",
    "(=+) :: ValueId -> Value Observation -> (Contract -> Contract)\n",
    "variable =+ value = Let variable $ UseValue variable @+ value\n",
    "\n",
    "(=-) :: ValueId -> Value Observation -> (Contract -> Contract)\n",
    "variable =- value = Let variable $ UseValue variable @- value\n",
    "\n",
    "(=:) :: ValueId -> Integer -> (Contract -> Contract)\n",
    "variable =: value = Let variable $ Constant value\n",
    "\n",
    "(@%) :: Value Observation -> Integer -> Value Observation\n",
    "value @% rate = DivValue (MulValue value $ Constant rate) (Constant 100)\n",
    "\n",
    "(@+%) :: Value Observation -> Integer -> Value Observation\n",
    "value @+% rate = DivValue (MulValue value (AddValue (Constant rate) $ Constant 0)) (Constant 100)\n",
    "\n",
    "(@+) :: Value Observation -> Value Observation -> Value Observation\n",
    "x @+ y =AddValue x y \n",
    "\n",
    "(@-) :: Value Observation -> Value Observation -> Value Observation\n",
    "x @- y = SubValue x y\n",
    "\n",
    "(@*) :: Value Observation -> Value Observation -> Value Observation\n",
    "x @* y = MulValue x y\n",
    "\n",
    "(@/) :: Value Observation -> Value Observation -> Value Observation\n",
    "x @/ y = DivValue x y\n",
    "\n",
    "(@<) :: Value Observation -> Value Observation -> Observation\n",
    "x @< y = ValueLT x y\n",
    "\n",
    "(@<=) :: Value Observation -> Value Observation -> Observation\n",
    "x @<= y = ValueLE x y\n",
    "\n",
    "(@>) :: Value Observation -> Value Observation -> Observation\n",
    "x @> y = ValueGT x y\n",
    "\n",
    "(@>=) :: Value Observation -> Value Observation -> Observation\n",
    "x @>= y = ValueGE x y\n",
    "\n",
    "(@==) :: Value Observation -> Value Observation -> Observation\n",
    "x @== y = ValueEQ x y\n",
    "\n",
    "(@&&) :: Observation -> Observation -> Observation\n",
    "x @&& y = AndObs x y\n",
    "\n",
    "(@||) :: Observation -> Observation -> Observation\n",
    "x @|| y = OrObs x y\n",
    "\n",
    "EOI"
   ]
  },
  {
   "cell_type": "markdown",
   "id": "2e52f3bc-82aa-42d3-a629-22f766cd8704",
   "metadata": {},
   "source": [
    "How large is the contract?"
   ]
  },
  {
   "cell_type": "code",
   "execution_count": 49,
   "id": "fc5da0ab-aa40-427d-8a44-15c75c2f1018",
   "metadata": {},
   "outputs": [
    {
     "name": "stdout",
     "output_type": "stream",
     "text": [
      "-rw-rw-r-- 1 bbush bbush-upg 1.9M Sep  4 16:11 stabilized-collective-loan.merkleization\n"
     ]
    }
   ],
   "source": [
    "ls -lh $BASENAME.merkleization"
   ]
  },
  {
   "cell_type": "markdown",
   "id": "6eabc2ee-f495-4154-b1ad-3e54727f3e4a",
   "metadata": {},
   "source": [
    "How many `Case` statements does it contain?"
   ]
  },
  {
   "cell_type": "code",
   "execution_count": 50,
   "id": "4ec374b8-7034-4f1b-b124-69fd4b90e424",
   "metadata": {},
   "outputs": [
    {
     "name": "stdout",
     "output_type": "stream",
     "text": [
      "6156\n"
     ]
    }
   ],
   "source": [
    "sed -e 's/case/&\\n/g' $BASENAME.merkleization | grep case | wc -l"
   ]
  },
  {
   "cell_type": "markdown",
   "id": "8957004e-4150-491b-b492-0e864b80348d",
   "metadata": {},
   "source": [
    "How many merkleizations does it contain?"
   ]
  },
  {
   "cell_type": "code",
   "execution_count": 51,
   "id": "0b9e1c98-18d9-4e58-9464-3a50becea8e5",
   "metadata": {},
   "outputs": [
    {
     "name": "stdout",
     "output_type": "stream",
     "text": [
      "\u001b[0;39m240\u001b[0m\n"
     ]
    }
   ],
   "source": [
    "jq '.continuations | length' $BASENAME.merkleization"
   ]
  },
  {
   "cell_type": "markdown",
   "id": "7594380b-a882-4e56-8bd8-14694c5547f2",
   "metadata": {},
   "source": [
    "Separate the contract from the merkleizations."
   ]
  },
  {
   "cell_type": "code",
   "execution_count": 52,
   "id": "31cb1db2-d591-44af-b829-783aed7aacc0",
   "metadata": {},
   "outputs": [],
   "source": [
    "jq .contract $BASENAME.merkleization > $BASENAME-1.contract"
   ]
  },
  {
   "cell_type": "markdown",
   "id": "456707bf-adfb-4171-b042-1b0756dd4063",
   "metadata": {},
   "source": [
    "## Set the initial state\n",
    "\n",
    "The Seller will deposit 2 Ada when the contract is created."
   ]
  },
  {
   "cell_type": "code",
   "execution_count": 53,
   "id": "4b95ea64-87d8-4678-b438-0559b0a1c704",
   "metadata": {},
   "outputs": [],
   "source": [
    "yaml2json << EOI > $BASENAME-1.state\n",
    "accounts:\n",
    "- - - role_token: $ADMINISTRATOR_ROLE\n",
    "    - currency_symbol: ''\n",
    "      token_name: ''\n",
    "  - $MIN_ADA\n",
    "boundValues: []\n",
    "choices: []\n",
    "minTime: $NOW\n",
    "EOI"
   ]
  },
  {
   "cell_type": "code",
   "execution_count": 54,
   "id": "03787fe2-9b14-4d92-a014-be6e6095eb7e",
   "metadata": {},
   "outputs": [
    {
     "name": "stdout",
     "output_type": "stream",
     "text": [
      "{\"accounts\":[[[{\"role_token\":\"A\"},{\"currency_symbol\":\"\",\"token_name\":\"\"}],2000000]],\"boundValues\":[],\"choices\":[],\"minTime\":1662329111000}\n"
     ]
    }
   ],
   "source": [
    "cat $BASENAME-1.state"
   ]
  },
  {
   "cell_type": "markdown",
   "id": "b5400d8d-4c2d-4a7a-99e3-bdc87629f91f",
   "metadata": {
    "tags": []
   },
   "source": [
    "## Simulate and Execute the Contract"
   ]
  },
  {
   "cell_type": "markdown",
   "id": "1791ce5f-f3ca-4eba-90ae-489a97fcec44",
   "metadata": {},
   "source": [
    "### 1. Initialize the contract information\n",
    "\n",
    "Create a `.marlowe` file that contains all of the information needed to start the contract. Note that we merkleization the contract because of its large size."
   ]
  },
  {
   "cell_type": "code",
   "execution_count": 55,
   "id": "c9678ec0-1d01-4ddb-8567-a33df639a2b4",
   "metadata": {},
   "outputs": [],
   "source": [
    "n=1"
   ]
  },
  {
   "cell_type": "code",
   "execution_count": 56,
   "id": "631e5627-4497-4837-9a25-519190c4f2aa",
   "metadata": {},
   "outputs": [
    {
     "name": "stdout",
     "output_type": "stream",
     "text": [
      "\n",
      "Validator size: 12412\n",
      "Base-validator cost: ExBudget {exBudgetCPU = ExCPU 18768100, exBudgetMemory = ExMemory 81700}\n"
     ]
    }
   ],
   "source": [
    "marlowe-cli \"$CARDANO_ERA\" run initialize --roles-currency \"$ROLES_POLICY\"        \\\n",
    "                                          --contract-file \"$BASENAME-$n.contract\" \\\n",
    "                                          --state-file    \"$BASENAME-$n.state\"    \\\n",
    "                                          --out-file      \"$BASENAME-$n.partial\"  \\\n",
    "                                          --print-stats"
   ]
  },
  {
   "cell_type": "markdown",
   "id": "f0a90905-521e-4204-9bf9-3f46d0063b22",
   "metadata": {},
   "source": [
    "Manually merge the continuations into the `.marlowe` file."
   ]
  },
  {
   "cell_type": "code",
   "execution_count": 57,
   "id": "af3f5275-3af1-4d7f-b634-2b7d045d55ee",
   "metadata": {},
   "outputs": [],
   "source": [
    "jq -s '.[0] * {tx : .[1]}' $BASENAME-1.partial $BASENAME.merkleization > $BASENAME-1.marlowe"
   ]
  },
  {
   "cell_type": "markdown",
   "id": "59068808-24ef-468b-b1a7-17535fdc118c",
   "metadata": {},
   "source": [
    "The minimum Ada deposit has been recorded."
   ]
  },
  {
   "cell_type": "code",
   "execution_count": 58,
   "id": "83d26d84-5c4d-4314-b4f1-6feb8dadff60",
   "metadata": {},
   "outputs": [
    {
     "name": "stdout",
     "output_type": "stream",
     "text": [
      "accounts:\n",
      "- - - role_token: A\n",
      "    - currency_symbol: ''\n",
      "      token_name: ''\n",
      "  - 2000000\n",
      "boundValues: []\n",
      "choices: []\n",
      "minTime: 1662329111000\n"
     ]
    }
   ],
   "source": [
    "show_state $n"
   ]
  },
  {
   "cell_type": "code",
   "execution_count": 59,
   "id": "d1bad8af-44de-4efa-8732-61f4d94b79b9",
   "metadata": {},
   "outputs": [],
   "source": [
    "DEADLINE=$((NOW + 59 * MINUTE))"
   ]
  },
  {
   "cell_type": "markdown",
   "id": "a1f059c1-789b-41e4-ba88-03bde1813463",
   "metadata": {},
   "source": [
    "Submit the transaction."
   ]
  },
  {
   "cell_type": "code",
   "execution_count": 60,
   "id": "13803252-085b-404d-a996-ffdc8a8bb5d1",
   "metadata": {},
   "outputs": [
    {
     "name": "stdout",
     "output_type": "stream",
     "text": [
      "\n",
      "Fee: Lovelace 257593\n",
      "Size: 1951 / 32768 = 5%\n",
      "Execution units:\n",
      "  Memory: 0 / 30000000 = 0%\n",
      "  Steps: 0 / 10000000000 = 0%\n"
     ]
    }
   ],
   "source": [
    "TX_ID[$n]=$(\n",
    "marlowe-cli \"$CARDANO_ERA\" run auto-execute --marlowe-out-file \"$BASENAME-$n.marlowe\" \\\n",
    "                                            --required-signer \"$ADMINISTRATOR_SKEY\"   \\\n",
    "                                            --change-address \"$ADMINISTRATOR_ADDR\"    \\\n",
    "                                            --out-file \"$BASENAME-$n.raw\"             \\\n",
    "                                            --print-stats                             \\\n",
    "                                            --submit=600                              \\\n",
    "| sed -e 's/^TxId \"\\(.*\\)\"$/\\1/'                                                      \\\n",
    ")"
   ]
  },
  {
   "cell_type": "code",
   "execution_count": 61,
   "id": "b97aeb59-8333-4eca-840a-38afe75f890a",
   "metadata": {},
   "outputs": [
    {
     "name": "stdout",
     "output_type": "stream",
     "text": [
      "Transaction 1 hash: 9fa6d721091f1e76028b52754cda002f55e3e5283674a819937584a7e6931715\n"
     ]
    }
   ],
   "source": [
    "echo \"Transaction $n hash: ${TX_ID[$n]}\""
   ]
  },
  {
   "cell_type": "markdown",
   "id": "ea0515be-1982-4f43-a625-c6679c6de73a",
   "metadata": {},
   "source": [
    "### 2. Stabilzer 1 deposits 5M Djed"
   ]
  },
  {
   "cell_type": "markdown",
   "id": "435f048a-0c30-4934-b6a6-52f19accea3f",
   "metadata": {},
   "source": [
    "#### Choose the deposit"
   ]
  },
  {
   "cell_type": "code",
   "execution_count": 62,
   "id": "c60f243a-b297-418a-9796-a5fc99d7194b",
   "metadata": {},
   "outputs": [],
   "source": [
    "STABILIZER_DEPOSIT=5000000"
   ]
  },
  {
   "cell_type": "code",
   "execution_count": 63,
   "id": "43b839a4-da8f-4ce6-a9a1-a8f2ad8180d2",
   "metadata": {},
   "outputs": [],
   "source": [
    "n=$((n+1))"
   ]
  },
  {
   "cell_type": "code",
   "execution_count": 64,
   "id": "44a81d39-55e1-4d47-86d2-5df449b449ed",
   "metadata": {},
   "outputs": [
    {
     "name": "stdout",
     "output_type": "stream",
     "text": [
      "\n",
      "Datum size: 1676\n"
     ]
    }
   ],
   "source": [
    "marlowe-cli run prepare --choice-party \"Role=$(stabilizer 1)\"            \\\n",
    "                        --choice-name S                                  \\\n",
    "                        --choice-number \"$STABILIZER_DEPOSIT\"            \\\n",
    "                        --invalid-before \"$NOW\"                          \\\n",
    "                        --invalid-hereafter \"$((DEADLINE - 1 * MINUTE))\" \\\n",
    "                        --marlowe-file \"$BASENAME-$((n-1)).marlowe\"      \\\n",
    "                        --out-file     \"$BASENAME-$n.marlowe\"            \\\n",
    "                        --print-stats"
   ]
  },
  {
   "cell_type": "code",
   "execution_count": 65,
   "id": "57aac536-e334-45a2-a5c6-b186d03a4a34",
   "metadata": {},
   "outputs": [
    {
     "name": "stdout",
     "output_type": "stream",
     "text": [
      "- - choice_name: S\n",
      "    choice_owner:\n",
      "      role_token: S1\n",
      "  - 5000000\n"
     ]
    }
   ],
   "source": [
    "show_choices $n"
   ]
  },
  {
   "cell_type": "markdown",
   "id": "5bf93242-d48b-476e-9cb9-fbf1e2a89598",
   "metadata": {},
   "source": [
    "Submit the transaction."
   ]
  },
  {
   "cell_type": "code",
   "execution_count": 66,
   "id": "936e78bb-ecaa-4a12-bb96-c37dd15fc4a4",
   "metadata": {},
   "outputs": [
    {
     "name": "stdout",
     "output_type": "stream",
     "text": [
      "\n",
      "Fee: Lovelace 1888587\n",
      "Size: 18018 / 32768 = 54%\n",
      "Execution units:\n",
      "  Memory: 10592836 / 30000000 = 35%\n",
      "  Steps: 4276104505 / 10000000000 = 42%\n"
     ]
    }
   ],
   "source": [
    "TX_ID[$n]=$(\n",
    "marlowe-cli \"$CARDANO_ERA\" run auto-execute --marlowe-in-file \"$BASENAME-$((n-1)).marlowe\" \\\n",
    "                                            --tx-in-marlowe \"${TX_ID[$((n-1))]}#1\"         \\\n",
    "                                            --marlowe-out-file \"$BASENAME-$n.marlowe\"      \\\n",
    "                                            --required-signer \"${STABILIZER_SKEY[1]}\"      \\\n",
    "                                            --change-address \"${STABILIZER_ADDR[1]}\"       \\\n",
    "                                            --out-file \"$BASENAME-$n.raw\"                  \\\n",
    "                                            --print-stats                                  \\\n",
    "                                            --submit=600                                   \\\n",
    "| sed -e 's/^TxId \"\\(.*\\)\"$/\\1/'                                                           \\\n",
    ")"
   ]
  },
  {
   "cell_type": "code",
   "execution_count": 67,
   "id": "180dcee4-1e83-401f-8c5d-ae8923204953",
   "metadata": {},
   "outputs": [
    {
     "name": "stdout",
     "output_type": "stream",
     "text": [
      "Transaction 2 hash: e7497c21e133c7c259836e835c60897e9e5c5616724f3a0469ace436ffb5990d\n"
     ]
    }
   ],
   "source": [
    "echo \"Transaction $n hash: ${TX_ID[$n]}\""
   ]
  },
  {
   "cell_type": "markdown",
   "id": "cb1aa3a0-eba7-43ee-8851-65493c4c4886",
   "metadata": {},
   "source": [
    "#### Make the deposit"
   ]
  },
  {
   "cell_type": "code",
   "execution_count": 68,
   "id": "f90842b4-5be6-451c-8788-09d1c6ae80c4",
   "metadata": {},
   "outputs": [],
   "source": [
    "n=$((n+1))"
   ]
  },
  {
   "cell_type": "code",
   "execution_count": 69,
   "id": "655bb2e0-dc4a-4796-80c3-1ca34522948e",
   "metadata": {},
   "outputs": [
    {
     "name": "stdout",
     "output_type": "stream",
     "text": [
      "\n",
      "Datum size: 1745\n"
     ]
    }
   ],
   "source": [
    "marlowe-cli run prepare --deposit-account Role=$(stabilizer 1)         \\\n",
    "                        --deposit-party Role=$(stabilizer 1)           \\\n",
    "                        --deposit-token $DJED                          \\\n",
    "                        --deposit-amount $STABILIZER_DEPOSIT           \\\n",
    "                        --invalid-before $NOW                          \\\n",
    "                        --invalid-hereafter $((DEADLINE - 1 * MINUTE)) \\\n",
    "                        --marlowe-file $BASENAME-$((n-1)).marlowe      \\\n",
    "                        --out-file     $BASENAME-$n.marlowe            \\\n",
    "                        --print-stats"
   ]
  },
  {
   "cell_type": "code",
   "execution_count": 70,
   "id": "6d275e8d-e0af-4fba-a1e8-d3f2cfd2d59a",
   "metadata": {},
   "outputs": [
    {
     "name": "stdout",
     "output_type": "stream",
     "text": [
      "accounts:\n",
      "- - - role_token: A\n",
      "    - currency_symbol: ''\n",
      "      token_name: ''\n",
      "  - 2000000\n",
      "- - - role_token: S1\n",
      "    - currency_symbol: ea94ed18f7a5bf2199f638360443a31ab3ec639108dde4c9e3e9bfee\n",
      "      token_name: DjedUSD\n",
      "  - 5000000\n",
      "boundValues:\n",
      "- - s\n",
      "  - 5000000\n"
     ]
    }
   ],
   "source": [
    "show_nonchoices $n"
   ]
  },
  {
   "cell_type": "markdown",
   "id": "c4cfa49a-573c-4bea-bb6c-f0cead3cbb29",
   "metadata": {},
   "source": [
    "Submit the transaction."
   ]
  },
  {
   "cell_type": "code",
   "execution_count": 71,
   "id": "2017d795-3738-47d2-911f-28104aeee1f9",
   "metadata": {},
   "outputs": [
    {
     "name": "stdout",
     "output_type": "stream",
     "text": [
      "\n",
      "Fee: Lovelace 2122253\n",
      "Size: 18388 / 32768 = 56%\n",
      "Execution units:\n",
      "  Memory: 13185078 / 30000000 = 43%\n",
      "  Steps: 5155019385 / 10000000000 = 51%\n"
     ]
    }
   ],
   "source": [
    "TX_ID[$n]=$(\n",
    "marlowe-cli \"$CARDANO_ERA\" run auto-execute --marlowe-in-file \"$BASENAME-$((n-1)).marlowe\" \\\n",
    "                                            --tx-in-marlowe \"${TX_ID[$((n-1))]}#1\"         \\\n",
    "                                            --marlowe-out-file \"$BASENAME-$n.marlowe\"      \\\n",
    "                                            --required-signer \"${STABILIZER_SKEY[1]}\"      \\\n",
    "                                            --change-address \"${STABILIZER_ADDR[1]}\"       \\\n",
    "                                            --out-file \"$BASENAME-$n.raw\"                  \\\n",
    "                                            --print-stats                                  \\\n",
    "                                            --submit=600                                   \\\n",
    "| sed -e 's/^TxId \"\\(.*\\)\"$/\\1/'                                                           \\\n",
    ")"
   ]
  },
  {
   "cell_type": "code",
   "execution_count": 72,
   "id": "fa6fdce2-8bdc-42eb-addb-748250374ad4",
   "metadata": {},
   "outputs": [
    {
     "name": "stdout",
     "output_type": "stream",
     "text": [
      "Transaction 3 hash: 4e11c9ed175e34695eedec4e0a2afb9ba869c0e8f1dcbee91ccbd294f0f060c5\n"
     ]
    }
   ],
   "source": [
    "echo \"Transaction $n hash: ${TX_ID[$n]}\""
   ]
  },
  {
   "cell_type": "markdown",
   "id": "091cc9c4-3782-457b-9c50-d02753422e4b",
   "metadata": {},
   "source": [
    "### 3. Investor 1 deposits 1M Djed"
   ]
  },
  {
   "cell_type": "markdown",
   "id": "db25b9d3-3cd5-4b84-bfe8-55ed35a96cc4",
   "metadata": {},
   "source": [
    "#### Choose the deposit"
   ]
  },
  {
   "cell_type": "code",
   "execution_count": 73,
   "id": "1b70deee-fd06-42e0-8092-c021062d465a",
   "metadata": {},
   "outputs": [],
   "source": [
    "INVESTOR_DEPOSIT=1000000"
   ]
  },
  {
   "cell_type": "code",
   "execution_count": 74,
   "id": "55deba53-6932-41fe-8bd5-eed0cee455cb",
   "metadata": {},
   "outputs": [],
   "source": [
    "n=$((n+1))"
   ]
  },
  {
   "cell_type": "code",
   "execution_count": 75,
   "id": "7eeca590-9862-41fe-8cc2-49e112edf096",
   "metadata": {},
   "outputs": [
    {
     "name": "stdout",
     "output_type": "stream",
     "text": [
      "\n",
      "Datum size: 1763\n"
     ]
    }
   ],
   "source": [
    "marlowe-cli run prepare --choice-party \"Role=$(investor 1)\"              \\\n",
    "                        --choice-name I                                  \\\n",
    "                        --choice-number \"$INVESTOR_DEPOSIT\"              \\\n",
    "                        --invalid-before \"$NOW\"                          \\\n",
    "                        --invalid-hereafter \"$((DEADLINE - 1 * MINUTE))\" \\\n",
    "                        --marlowe-file \"$BASENAME-$((n-1)).marlowe\"      \\\n",
    "                        --out-file     \"$BASENAME-$n.marlowe\"            \\\n",
    "                        --print-stats"
   ]
  },
  {
   "cell_type": "code",
   "execution_count": 76,
   "id": "83fc10c4-ea49-4773-bdc3-ab99cfee2c21",
   "metadata": {},
   "outputs": [
    {
     "name": "stdout",
     "output_type": "stream",
     "text": [
      "- - choice_name: S\n",
      "    choice_owner:\n",
      "      role_token: S1\n",
      "  - 5000000\n",
      "- - choice_name: I\n",
      "    choice_owner:\n",
      "      role_token: I1\n",
      "  - 1000000\n"
     ]
    }
   ],
   "source": [
    "show_choices $n"
   ]
  },
  {
   "cell_type": "markdown",
   "id": "7c6b53d3-b6f2-4dba-89b9-3545ebb00fc5",
   "metadata": {},
   "source": [
    "Submit the transaction."
   ]
  },
  {
   "cell_type": "code",
   "execution_count": 77,
   "id": "8f31cc41-ec0e-45d5-8b49-d10625e79d02",
   "metadata": {},
   "outputs": [
    {
     "name": "stdout",
     "output_type": "stream",
     "text": [
      "\n",
      "Fee: Lovelace 1996160\n",
      "Size: 18242 / 32768 = 55%\n",
      "Execution units:\n",
      "  Memory: 11802372 / 30000000 = 39%\n",
      "  Steps: 4663433556 / 10000000000 = 46%\n"
     ]
    }
   ],
   "source": [
    "TX_ID[$n]=$(\n",
    "marlowe-cli \"$CARDANO_ERA\" run auto-execute --marlowe-in-file \"$BASENAME-$((n-1)).marlowe\" \\\n",
    "                                            --tx-in-marlowe \"${TX_ID[$((n-1))]}#1\"         \\\n",
    "                                            --marlowe-out-file \"$BASENAME-$n.marlowe\"      \\\n",
    "                                            --required-signer \"${INVESTOR_SKEY[1]}\"        \\\n",
    "                                            --change-address \"${INVESTOR_ADDR[1]}\"         \\\n",
    "                                            --out-file \"$BASENAME-$n.raw\"                  \\\n",
    "                                            --print-stats                                  \\\n",
    "                                            --submit=600                                   \\\n",
    "| sed -e 's/^TxId \"\\(.*\\)\"$/\\1/'                                                           \\\n",
    ")"
   ]
  },
  {
   "cell_type": "code",
   "execution_count": 78,
   "id": "484314e1-d17b-4af8-a479-b1c302c5135d",
   "metadata": {},
   "outputs": [
    {
     "name": "stdout",
     "output_type": "stream",
     "text": [
      "Transaction 4 hash: b18095d55872b0522c164e3129f2298ddb438cfcc0b723d5fbf37e2e8e4b273c\n"
     ]
    }
   ],
   "source": [
    "echo \"Transaction $n hash: ${TX_ID[$n]}\""
   ]
  },
  {
   "cell_type": "markdown",
   "id": "744e50b4-116e-4494-8495-3c31ce5ebf0e",
   "metadata": {},
   "source": [
    "#### Make the deposit"
   ]
  },
  {
   "cell_type": "code",
   "execution_count": 79,
   "id": "23584714-ba3f-4d9c-96d9-17cffdeba9ce",
   "metadata": {},
   "outputs": [],
   "source": [
    "n=$((n+1))"
   ]
  },
  {
   "cell_type": "code",
   "execution_count": 80,
   "id": "a1996e1c-32b7-4de3-b549-ff961ea5a190",
   "metadata": {},
   "outputs": [
    {
     "name": "stdout",
     "output_type": "stream",
     "text": [
      "\n",
      "Datum size: 1844\n"
     ]
    }
   ],
   "source": [
    "marlowe-cli run prepare --deposit-account \"Role=$(investor 1)\"           \\\n",
    "                        --deposit-party \"Role=$(investor 1)\"             \\\n",
    "                        --deposit-token \"$DJED\"                          \\\n",
    "                        --deposit-amount \"$INVESTOR_DEPOSIT\"             \\\n",
    "                        --invalid-before \"$NOW\"                          \\\n",
    "                        --invalid-hereafter \"$((DEADLINE - 1 * MINUTE))\" \\\n",
    "                        --marlowe-file \"$BASENAME-$((n-1)).marlowe\"      \\\n",
    "                        --out-file     \"$BASENAME-$n.marlowe\"            \\\n",
    "                        --print-stats"
   ]
  },
  {
   "cell_type": "code",
   "execution_count": 81,
   "id": "192dc31e-763d-42aa-8035-bd11fea52577",
   "metadata": {},
   "outputs": [
    {
     "name": "stdout",
     "output_type": "stream",
     "text": [
      "accounts:\n",
      "- - - role_token: A\n",
      "    - currency_symbol: ''\n",
      "      token_name: ''\n",
      "  - 2000000\n",
      "- - - role_token: S1\n",
      "    - currency_symbol: ea94ed18f7a5bf2199f638360443a31ab3ec639108dde4c9e3e9bfee\n",
      "      token_name: DjedUSD\n",
      "  - 5000000\n",
      "- - - role_token: I1\n",
      "    - currency_symbol: ea94ed18f7a5bf2199f638360443a31ab3ec639108dde4c9e3e9bfee\n",
      "      token_name: DjedUSD\n",
      "  - 1000000\n",
      "boundValues:\n",
      "- - s\n",
      "  - 5000000\n",
      "- - a\n",
      "  - 1000000\n",
      "- - e1\n",
      "  - 1000000\n"
     ]
    }
   ],
   "source": [
    "show_nonchoices $n"
   ]
  },
  {
   "cell_type": "markdown",
   "id": "c26f2007-04ef-44de-b080-f5db66a6920d",
   "metadata": {},
   "source": [
    "Submit the transaction."
   ]
  },
  {
   "cell_type": "code",
   "execution_count": 82,
   "id": "090c073f-a5e1-41ba-a73f-0acc29137af1",
   "metadata": {},
   "outputs": [
    {
     "name": "stdout",
     "output_type": "stream",
     "text": [
      "\n",
      "Fee: Lovelace 2260830\n",
      "Size: 18619 / 32768 = 56%\n",
      "Execution units:\n",
      "  Memory: 14739498 / 30000000 = 49%\n",
      "  Steps: 5692084207 / 10000000000 = 56%\n"
     ]
    }
   ],
   "source": [
    "TX_ID[$n]=$(\n",
    "marlowe-cli \"$CARDANO_ERA\" run auto-execute --marlowe-in-file \"$BASENAME-$((n-1)).marlowe\" \\\n",
    "                                            --tx-in-marlowe \"${TX_ID[$((n-1))]}#1\"         \\\n",
    "                                            --marlowe-out-file \"$BASENAME-$n.marlowe\"      \\\n",
    "                                            --required-signer \"${INVESTOR_SKEY[1]}\"        \\\n",
    "                                            --change-address \"${INVESTOR_ADDR[1]}\"         \\\n",
    "                                            --out-file \"$BASENAME-$n.raw\"                  \\\n",
    "                                            --print-stats                                  \\\n",
    "                                            --submit=600                                   \\\n",
    "| sed -e 's/^TxId \"\\(.*\\)\"$/\\1/'                                                           \\\n",
    ")"
   ]
  },
  {
   "cell_type": "code",
   "execution_count": 83,
   "id": "7aeb3468-25e9-48e1-b4c9-2b435e81a1b2",
   "metadata": {},
   "outputs": [
    {
     "name": "stdout",
     "output_type": "stream",
     "text": [
      "Transaction 5 hash: 2051ffd55ff03ea057d68d09b625c3742fbbb75ae3d20d2c6286861a2eeaf343\n"
     ]
    }
   ],
   "source": [
    "echo \"Transaction $n hash: ${TX_ID[$n]}\""
   ]
  },
  {
   "cell_type": "markdown",
   "id": "2ebbf938-0259-47e7-b437-d2cf391196a5",
   "metadata": {},
   "source": [
    "### 4. Investor 2 deposits 500k Djed"
   ]
  },
  {
   "cell_type": "markdown",
   "id": "e753fadb-669a-480b-abc5-188235dba749",
   "metadata": {},
   "source": [
    "#### Choose the deposit"
   ]
  },
  {
   "cell_type": "code",
   "execution_count": 84,
   "id": "ff39758d-2824-4464-b583-28a8f21a9168",
   "metadata": {},
   "outputs": [],
   "source": [
    "INVESTOR_DEPOSIT=500000"
   ]
  },
  {
   "cell_type": "code",
   "execution_count": 85,
   "id": "752bc93b-e746-4eb5-a8fd-63b3bd114c24",
   "metadata": {},
   "outputs": [],
   "source": [
    "n=$((n+1))"
   ]
  },
  {
   "cell_type": "code",
   "execution_count": 86,
   "id": "affd8b44-7236-485a-8afb-0c74dc6eb35c",
   "metadata": {},
   "outputs": [
    {
     "name": "stdout",
     "output_type": "stream",
     "text": [
      "\n",
      "Datum size: 1862\n"
     ]
    }
   ],
   "source": [
    "marlowe-cli run prepare --choice-party \"Role=$(investor 2)\"              \\\n",
    "                        --choice-name I                                  \\\n",
    "                        --choice-number \"$INVESTOR_DEPOSIT\"              \\\n",
    "                        --invalid-before \"$NOW\"                          \\\n",
    "                        --invalid-hereafter \"$((DEADLINE - 1 * MINUTE))\" \\\n",
    "                        --marlowe-file \"$BASENAME-$((n-1)).marlowe\"      \\\n",
    "                        --out-file     \"$BASENAME-$n.marlowe\"            \\\n",
    "                        --print-stats"
   ]
  },
  {
   "cell_type": "code",
   "execution_count": 87,
   "id": "346652f9-8b76-4fd3-99fc-0622e9a07ff6",
   "metadata": {},
   "outputs": [
    {
     "name": "stdout",
     "output_type": "stream",
     "text": [
      "- - choice_name: S\n",
      "    choice_owner:\n",
      "      role_token: S1\n",
      "  - 5000000\n",
      "- - choice_name: I\n",
      "    choice_owner:\n",
      "      role_token: I1\n",
      "  - 1000000\n",
      "- - choice_name: I\n",
      "    choice_owner:\n",
      "      role_token: I2\n",
      "  - 500000\n"
     ]
    }
   ],
   "source": [
    "show_choices $n"
   ]
  },
  {
   "cell_type": "markdown",
   "id": "a5967a54-2458-4e1e-bdba-1939c540be1b",
   "metadata": {},
   "source": [
    "Submit the transaction."
   ]
  },
  {
   "cell_type": "code",
   "execution_count": 88,
   "id": "8b2eaf8c-6c18-4fb6-b4d3-146e45af673c",
   "metadata": {},
   "outputs": [
    {
     "name": "stdout",
     "output_type": "stream",
     "text": [
      "\n",
      "Fee: Lovelace 2050836\n",
      "Size: 18440 / 32768 = 56%\n",
      "Execution units:\n",
      "  Memory: 12362620 / 30000000 = 41%\n",
      "  Steps: 4852589066 / 10000000000 = 48%\n"
     ]
    }
   ],
   "source": [
    "TX_ID[$n]=$(\n",
    "marlowe-cli \"$CARDANO_ERA\" run auto-execute --marlowe-in-file \"$BASENAME-$((n-1)).marlowe\" \\\n",
    "                                            --tx-in-marlowe \"${TX_ID[$((n-1))]}#1\"         \\\n",
    "                                            --marlowe-out-file \"$BASENAME-$n.marlowe\"      \\\n",
    "                                            --required-signer \"${INVESTOR_SKEY[2]}\"        \\\n",
    "                                            --change-address \"${INVESTOR_ADDR[2]}\"         \\\n",
    "                                            --out-file \"$BASENAME-$n.raw\"                  \\\n",
    "                                            --print-stats                                  \\\n",
    "                                            --submit=600                                   \\\n",
    "| sed -e 's/^TxId \"\\(.*\\)\"$/\\1/'                                                           \\\n",
    ")"
   ]
  },
  {
   "cell_type": "code",
   "execution_count": 89,
   "id": "5cb1297f-4519-482a-89aa-35e235d39566",
   "metadata": {},
   "outputs": [
    {
     "name": "stdout",
     "output_type": "stream",
     "text": [
      "Transaction 6 hash: 6ef31eeacc8e7bf42b5e50328c61731a51d7895cce794387abf021c80740ee28\n"
     ]
    }
   ],
   "source": [
    "echo \"Transaction $n hash: ${TX_ID[$n]}\""
   ]
  },
  {
   "cell_type": "markdown",
   "id": "2607290a-01a4-4bdb-91cb-eb1b9f53183a",
   "metadata": {},
   "source": [
    "#### Make the deposit"
   ]
  },
  {
   "cell_type": "code",
   "execution_count": 90,
   "id": "cdd7ac75-42c3-4940-b39f-12d0cc34e992",
   "metadata": {},
   "outputs": [],
   "source": [
    "n=$((n+1))"
   ]
  },
  {
   "cell_type": "code",
   "execution_count": 91,
   "id": "fd83a921-a07b-41f6-9876-82e515a67760",
   "metadata": {},
   "outputs": [
    {
     "name": "stdout",
     "output_type": "stream",
     "text": [
      "\n",
      "Warnings:\n",
      "  TransactionShadowing \"a\" 1000000 1500000\n",
      "Datum size: 1932\n"
     ]
    }
   ],
   "source": [
    "marlowe-cli run prepare --deposit-account \"Role=$(investor 2)\"           \\\n",
    "                        --deposit-party \"Role=$(investor 2)\"             \\\n",
    "                        --deposit-token \"$DJED\"                          \\\n",
    "                        --deposit-amount \"$INVESTOR_DEPOSIT\"             \\\n",
    "                        --invalid-before \"$NOW\"                          \\\n",
    "                        --invalid-hereafter \"$((DEADLINE - 1 * MINUTE))\" \\\n",
    "                        --marlowe-file \"$BASENAME-$((n-1)).marlowe\"      \\\n",
    "                        --out-file     \"$BASENAME-$n.marlowe\"            \\\n",
    "                        --print-stats"
   ]
  },
  {
   "cell_type": "code",
   "execution_count": 92,
   "id": "28fe5550-1e48-4d4f-b14e-ef947899f932",
   "metadata": {},
   "outputs": [
    {
     "name": "stdout",
     "output_type": "stream",
     "text": [
      "accounts:\n",
      "- - - role_token: A\n",
      "    - currency_symbol: ''\n",
      "      token_name: ''\n",
      "  - 2000000\n",
      "- - - role_token: S1\n",
      "    - currency_symbol: ea94ed18f7a5bf2199f638360443a31ab3ec639108dde4c9e3e9bfee\n",
      "      token_name: DjedUSD\n",
      "  - 5000000\n",
      "- - - role_token: I1\n",
      "    - currency_symbol: ea94ed18f7a5bf2199f638360443a31ab3ec639108dde4c9e3e9bfee\n",
      "      token_name: DjedUSD\n",
      "  - 1000000\n",
      "- - - role_token: I2\n",
      "    - currency_symbol: ea94ed18f7a5bf2199f638360443a31ab3ec639108dde4c9e3e9bfee\n",
      "      token_name: DjedUSD\n",
      "  - 500000\n",
      "boundValues:\n",
      "- - s\n",
      "  - 5000000\n",
      "- - a\n",
      "  - 1500000\n",
      "- - e1\n",
      "  - 1000000\n",
      "- - e2\n",
      "  - 500000\n"
     ]
    }
   ],
   "source": [
    "show_nonchoices $n"
   ]
  },
  {
   "cell_type": "markdown",
   "id": "be67b55e-d0fd-446d-9516-5bbdc04c4084",
   "metadata": {},
   "source": [
    "Submit the transaction."
   ]
  },
  {
   "cell_type": "code",
   "execution_count": 93,
   "id": "42a598ad-8c09-4346-b758-5c156c6d18ba",
   "metadata": {},
   "outputs": [
    {
     "name": "stdout",
     "output_type": "stream",
     "text": [
      "\n",
      "Fee: Lovelace 2336415\n",
      "Size: 18806 / 32768 = 57%\n",
      "Execution units:\n",
      "  Memory: 15568666 / 30000000 = 51%\n",
      "  Steps: 5962734533 / 10000000000 = 59%\n"
     ]
    }
   ],
   "source": [
    "TX_ID[$n]=$(\n",
    "marlowe-cli \"$CARDANO_ERA\" run auto-execute --marlowe-in-file \"$BASENAME-$((n-1)).marlowe\" \\\n",
    "                                            --tx-in-marlowe \"${TX_ID[$((n-1))]}#1\"         \\\n",
    "                                            --marlowe-out-file \"$BASENAME-$n.marlowe\"      \\\n",
    "                                            --required-signer \"${INVESTOR_SKEY[2]}\"        \\\n",
    "                                            --change-address \"${INVESTOR_ADDR[2]}\"         \\\n",
    "                                            --out-file \"$BASENAME-$n.raw\"                  \\\n",
    "                                            --print-stats                                  \\\n",
    "                                            --submit=600                                   \\\n",
    "| sed -e 's/^TxId \"\\(.*\\)\"$/\\1/'                                                           \\\n",
    ")"
   ]
  },
  {
   "cell_type": "code",
   "execution_count": 94,
   "id": "6ba5458c-96c3-4321-b679-ae4ae1b010a3",
   "metadata": {},
   "outputs": [
    {
     "name": "stdout",
     "output_type": "stream",
     "text": [
      "Transaction 7 hash: 9bf0d07e5cc2fbf4de3e330811b2d349c982db8fdef1877f1884271edcf35dfe\n"
     ]
    }
   ],
   "source": [
    "echo \"Transaction $n hash: ${TX_ID[$n]}\""
   ]
  },
  {
   "cell_type": "markdown",
   "id": "e734f818-a115-4301-9443-77a60bb5b1f9",
   "metadata": {},
   "source": [
    "### 5. Administrator authorizes loan of 900k Djed to Borrower 1"
   ]
  },
  {
   "cell_type": "code",
   "execution_count": 95,
   "id": "7b9ac485-f735-4414-b17f-5312efeb09aa",
   "metadata": {},
   "outputs": [],
   "source": [
    "LOAN_AMOUNT=900000"
   ]
  },
  {
   "cell_type": "code",
   "execution_count": 96,
   "id": "d77b8510-53e9-469a-87f2-d07d2bd096eb",
   "metadata": {},
   "outputs": [],
   "source": [
    "n=$((n+1))"
   ]
  },
  {
   "cell_type": "code",
   "execution_count": 97,
   "id": "2271b49e-fe9a-440c-94a9-8a0853cc7f57",
   "metadata": {},
   "outputs": [
    {
     "name": "stdout",
     "output_type": "stream",
     "text": [
      "\n",
      "Warnings:\n",
      "  TransactionShadowing \"e1\" 1000000 1024000\n",
      "  TransactionShadowing \"e2\" 500000 512000\n",
      "  TransactionShadowing \"a\" 1500000 600000\n",
      "Datum size: 1961\n",
      "Payment 1\n",
      "  Acccount: \"I1\"\n",
      "  Payee: Party \"B1\"\n",
      "  Ada: 0.000000\n",
      "  ea94ed18f7a5bf2199f638360443a31ab3ec639108dde4c9e3e9bfee.\"DjedUSD\": 600000\n",
      "Payment 2\n",
      "  Acccount: \"I2\"\n",
      "  Payee: Party \"B1\"\n",
      "  Ada: 0.000000\n",
      "  ea94ed18f7a5bf2199f638360443a31ab3ec639108dde4c9e3e9bfee.\"DjedUSD\": 300000\n"
     ]
    }
   ],
   "source": [
    "marlowe-cli run prepare --choice-party \"Role=$ADMINISTRATOR_ROLE\"        \\\n",
    "                        --choice-name L1                                 \\\n",
    "                        --choice-number \"$LOAN_AMOUNT\"                   \\\n",
    "                        --invalid-before \"$NOW\"                          \\\n",
    "                        --invalid-hereafter \"$((DEADLINE - 1 * MINUTE))\" \\\n",
    "                        --marlowe-file \"$BASENAME-$((n-1)).marlowe\"      \\\n",
    "                        --out-file     \"$BASENAME-$n.marlowe\"            \\\n",
    "                        --print-stats"
   ]
  },
  {
   "cell_type": "code",
   "execution_count": 98,
   "id": "aba4ec48-f800-4a85-8165-24f65f99bc0e",
   "metadata": {},
   "outputs": [
    {
     "name": "stdout",
     "output_type": "stream",
     "text": [
      "accounts:\n",
      "- - - role_token: A\n",
      "    - currency_symbol: ''\n",
      "      token_name: ''\n",
      "  - 2000000\n",
      "- - - role_token: S1\n",
      "    - currency_symbol: ea94ed18f7a5bf2199f638360443a31ab3ec639108dde4c9e3e9bfee\n",
      "      token_name: DjedUSD\n",
      "  - 5000000\n",
      "- - - role_token: I1\n",
      "    - currency_symbol: ea94ed18f7a5bf2199f638360443a31ab3ec639108dde4c9e3e9bfee\n",
      "      token_name: DjedUSD\n",
      "  - 400000\n",
      "- - - role_token: I2\n",
      "    - currency_symbol: ea94ed18f7a5bf2199f638360443a31ab3ec639108dde4c9e3e9bfee\n",
      "      token_name: DjedUSD\n",
      "  - 200000\n",
      "boundValues:\n",
      "- - s\n",
      "  - 5000000\n",
      "- - a\n",
      "  - 600000\n",
      "- - e1\n",
      "  - 1024000\n",
      "- - e2\n",
      "  - 512000\n",
      "- - l\n",
      "  - 990000\n"
     ]
    }
   ],
   "source": [
    "show_nonchoices $n"
   ]
  },
  {
   "cell_type": "markdown",
   "id": "9ef3ce2c-7399-466f-a858-67a739e55584",
   "metadata": {},
   "source": [
    "Submit the transaction."
   ]
  },
  {
   "cell_type": "code",
   "execution_count": 99,
   "id": "acb1b84e-6ac7-4cea-a3cf-54d61f2652c7",
   "metadata": {},
   "outputs": [
    {
     "name": "stdout",
     "output_type": "stream",
     "text": [
      "\n",
      "Fee: Lovelace 3973550\n",
      "Size: 21204 / 32768 = 64%\n",
      "Execution units:\n",
      "  Memory: 33595585 / 30000000 = 111%\n",
      "  Steps: 12840883044 / 10000000000 = 128%\n",
      "TxValidationErrorInMode (ShelleyTxValidationError ShelleyBasedEraAlonzo (ApplyTxError [UtxowFailure (WrappedShelleyEraFailure (UtxoFailure (ExUnitsTooBigUTxO (WrapExUnits {unWrapExUnits = ExUnits' {exUnitsMem' = 30000000, exUnitsSteps' = 10000000000}}) (WrapExUnits {unWrapExUnits = ExUnits' {exUnitsMem' = 33595585, exUnitsSteps' = 12840883044}}))))])) AlonzoEraInCardanoMode\n"
     ]
    }
   ],
   "source": [
    "TX_ID[$n]=$(\n",
    "marlowe-cli \"$CARDANO_ERA\" run auto-execute --marlowe-in-file \"$BASENAME-$((n-1)).marlowe\" \\\n",
    "                                            --tx-in-marlowe \"${TX_ID[$((n-1))]}#1\"         \\\n",
    "                                            --marlowe-out-file \"$BASENAME-$n.marlowe\"      \\\n",
    "                                            --required-signer \"$ADMINISTRATOR_SKEY\"        \\\n",
    "                                            --change-address \"$ADMINISTRATOR_ADDR\"         \\\n",
    "                                            --out-file \"$BASENAME-$n.raw\"                  \\\n",
    "                                            --print-stats                                  \\\n",
    "                                            --submit=600                                   \\\n",
    "| sed -e 's/^TxId \"\\(.*\\)\"$/\\1/'                                                           \\\n",
    ")"
   ]
  },
  {
   "cell_type": "markdown",
   "id": "63cdd27f-42ae-4fdf-bfe1-2c0d181ba769",
   "metadata": {},
   "source": [
    "***This transaction fails because it exceeds the protocol limits both for execution memory and for execution steps.***\n",
    "\n",
    "The complexity of the following `Action` is the main reason that this step exceeds memory and step limits. A minor contributor is the numerous `Actions` in the `When` term.\n",
    "\n",
    "![Loan authorization exceeds protocol parameters.](stabilized-collective-loan-withdraw.png)"
   ]
  },
  {
   "cell_type": "markdown",
   "id": "6c380e30-beb8-4d3c-9e4c-75a5b0d63f48",
   "metadata": {},
   "source": [
    "*Let continue simulating the contract, even though we cannot execute it on the blockchain.*"
   ]
  },
  {
   "cell_type": "markdown",
   "id": "eeb338b0-b50e-4d29-94cd-c84827287e45",
   "metadata": {},
   "source": [
    "### 6. Administrator authorizes loan of 600k Djed to Borrower 2"
   ]
  },
  {
   "cell_type": "code",
   "execution_count": 100,
   "id": "9459e4c9-5b27-4957-81eb-d5f35b1fa545",
   "metadata": {},
   "outputs": [],
   "source": [
    "LOAN_AMOUNT=600000"
   ]
  },
  {
   "cell_type": "code",
   "execution_count": 101,
   "id": "a1037a81-cd31-46b9-b4af-c45cf8e0e888",
   "metadata": {},
   "outputs": [],
   "source": [
    "n=$((n+1))"
   ]
  },
  {
   "cell_type": "code",
   "execution_count": 102,
   "id": "5a0abfbb-2ad9-4df3-b59e-63dc6b0aed2c",
   "metadata": {},
   "outputs": [
    {
     "name": "stdout",
     "output_type": "stream",
     "text": [
      "\n",
      "Warnings:\n",
      "  TransactionShadowing \"e1\" 1024000 1024000\n",
      "  TransactionShadowing \"e2\" 512000 512000\n",
      "  TransactionShadowing \"l\" 990000 1650000\n",
      "  TransactionShadowing \"a\" 600000 0\n",
      "Datum size: 1859\n",
      "Payment 1\n",
      "  Acccount: \"I1\"\n",
      "  Payee: Party \"B2\"\n",
      "  Ada: 0.000000\n",
      "  ea94ed18f7a5bf2199f638360443a31ab3ec639108dde4c9e3e9bfee.\"DjedUSD\": 400000\n",
      "Payment 2\n",
      "  Acccount: \"I2\"\n",
      "  Payee: Party \"B2\"\n",
      "  Ada: 0.000000\n",
      "  ea94ed18f7a5bf2199f638360443a31ab3ec639108dde4c9e3e9bfee.\"DjedUSD\": 200000\n"
     ]
    }
   ],
   "source": [
    "marlowe-cli run prepare --choice-party Role=\"$ADMINISTRATOR_ROLE\"        \\\n",
    "                        --choice-name L2                                 \\\n",
    "                        --choice-number \"$LOAN_AMOUNT\"                   \\\n",
    "                        --invalid-before \"$NOW\"                          \\\n",
    "                        --invalid-hereafter \"$((DEADLINE - 1 * MINUTE))\" \\\n",
    "                        --marlowe-file \"$BASENAME-$((n-1)).marlowe\"      \\\n",
    "                        --out-file     \"$BASENAME-$n.marlowe\"            \\\n",
    "                        --print-stats"
   ]
  },
  {
   "cell_type": "code",
   "execution_count": 103,
   "id": "0238cf5f-92e4-4b53-9cb2-0e25f1963937",
   "metadata": {},
   "outputs": [
    {
     "name": "stdout",
     "output_type": "stream",
     "text": [
      "accounts:\n",
      "- - - role_token: A\n",
      "    - currency_symbol: ''\n",
      "      token_name: ''\n",
      "  - 2000000\n",
      "- - - role_token: S1\n",
      "    - currency_symbol: ea94ed18f7a5bf2199f638360443a31ab3ec639108dde4c9e3e9bfee\n",
      "      token_name: DjedUSD\n",
      "  - 5000000\n",
      "boundValues:\n",
      "- - s\n",
      "  - 5000000\n",
      "- - a\n",
      "  - 0\n",
      "- - e1\n",
      "  - 1024000\n",
      "- - e2\n",
      "  - 512000\n",
      "- - l\n",
      "  - 1650000\n"
     ]
    }
   ],
   "source": [
    "show_nonchoices $n"
   ]
  },
  {
   "cell_type": "markdown",
   "id": "3034693b-2733-4076-8129-ea780a36348f",
   "metadata": {},
   "source": [
    "### 7. Borrower 2 pays back 720k Djed owed"
   ]
  },
  {
   "cell_type": "markdown",
   "id": "e16e4ed8-9055-4684-bef5-1dd398aa8c81",
   "metadata": {},
   "source": [
    "#### Choose the deposit"
   ]
  },
  {
   "cell_type": "code",
   "execution_count": 104,
   "id": "6b1e544f-b54d-40e6-9ebb-4b5ca0ed0742",
   "metadata": {},
   "outputs": [],
   "source": [
    "BORROWER_REPAYMENT=720000"
   ]
  },
  {
   "cell_type": "code",
   "execution_count": 105,
   "id": "6af089a4-8a1e-43b8-97cc-cc3492eeadcd",
   "metadata": {},
   "outputs": [],
   "source": [
    "n=$((n+1))"
   ]
  },
  {
   "cell_type": "code",
   "execution_count": 106,
   "id": "3e780230-62bf-4ee9-9fd2-4c368206eae4",
   "metadata": {},
   "outputs": [
    {
     "name": "stdout",
     "output_type": "stream",
     "text": [
      "\n",
      "Datum size: 1877\n"
     ]
    }
   ],
   "source": [
    "marlowe-cli run prepare --choice-party \"Role=$(borrower 2)\"              \\\n",
    "                        --choice-name R                                  \\\n",
    "                        --choice-number \"$BORROWER_REPAYMENT\"            \\\n",
    "                        --invalid-before \"$NOW\"                          \\\n",
    "                        --invalid-hereafter \"$((DEADLINE - 1 * MINUTE))\" \\\n",
    "                        --marlowe-file \"$BASENAME-$((n-1)).marlowe\"      \\\n",
    "                        --out-file     \"$BASENAME-$n.marlowe\"            \\\n",
    "                        --print-stats"
   ]
  },
  {
   "cell_type": "code",
   "execution_count": 107,
   "id": "2041f81f-ef0f-46a0-9d24-edb4c9b8045d",
   "metadata": {},
   "outputs": [
    {
     "name": "stdout",
     "output_type": "stream",
     "text": [
      "- - choice_name: S\n",
      "    choice_owner:\n",
      "      role_token: S1\n",
      "  - 5000000\n",
      "- - choice_name: I\n",
      "    choice_owner:\n",
      "      role_token: I1\n",
      "  - 1000000\n",
      "- - choice_name: I\n",
      "    choice_owner:\n",
      "      role_token: I2\n",
      "  - 500000\n",
      "- - choice_name: L1\n",
      "    choice_owner:\n",
      "      role_token: A\n",
      "  - 900000\n",
      "- - choice_name: L2\n",
      "    choice_owner:\n",
      "      role_token: A\n",
      "  - 600000\n",
      "- - choice_name: R\n",
      "    choice_owner:\n",
      "      role_token: B2\n",
      "  - 720000\n"
     ]
    }
   ],
   "source": [
    "show_choices $n"
   ]
  },
  {
   "cell_type": "markdown",
   "id": "72d68b5d-baad-4141-abc1-52083fa748a1",
   "metadata": {},
   "source": [
    "#### Make the deposit"
   ]
  },
  {
   "cell_type": "code",
   "execution_count": 108,
   "id": "8d682c04-8d74-422a-ab8d-7a0ffbdc9f09",
   "metadata": {},
   "outputs": [],
   "source": [
    "n=$((n+1))"
   ]
  },
  {
   "cell_type": "code",
   "execution_count": 109,
   "id": "404f8da2-e8eb-4c90-b4fa-348cc73be976",
   "metadata": {},
   "outputs": [
    {
     "name": "stdout",
     "output_type": "stream",
     "text": [
      "\n",
      "Warnings:\n",
      "  TransactionShadowing \"l\" 1650000 930000\n",
      "  TransactionShadowing \"a\" 0 720000\n",
      "Datum size: 2052\n",
      "Payment 1\n",
      "  Acccount: \"A\"\n",
      "  Payee: Account \"I1\"\n",
      "  Ada: 0.000000\n",
      "  ea94ed18f7a5bf2199f638360443a31ab3ec639108dde4c9e3e9bfee.\"DjedUSD\": 446836\n",
      "Payment 2\n",
      "  Acccount: \"A\"\n",
      "  Payee: Account \"I2\"\n",
      "  Ada: 0.000000\n",
      "  ea94ed18f7a5bf2199f638360443a31ab3ec639108dde4c9e3e9bfee.\"DjedUSD\": 223418\n"
     ]
    }
   ],
   "source": [
    "marlowe-cli run prepare --deposit-account \"Role=$ADMINISTRATOR_ROLE\"     \\\n",
    "                        --deposit-party \"Role=$(borrower 2)\"             \\\n",
    "                        --deposit-token \"$DJED\"                          \\\n",
    "                        --deposit-amount \"$BORROWER_REPAYMENT\"           \\\n",
    "                        --invalid-before \"$NOW\"                          \\\n",
    "                        --invalid-hereafter \"$((DEADLINE - 1 * MINUTE))\" \\\n",
    "                        --marlowe-file \"$BASENAME-$((n-1)).marlowe\"      \\\n",
    "                        --out-file     \"$BASENAME-$n.marlowe\"            \\\n",
    "                        --print-stats"
   ]
  },
  {
   "cell_type": "code",
   "execution_count": 110,
   "id": "b99b0fbf-efde-4d7e-831e-eb4586cd582b",
   "metadata": {},
   "outputs": [
    {
     "name": "stdout",
     "output_type": "stream",
     "text": [
      "accounts:\n",
      "- - - role_token: A\n",
      "    - currency_symbol: ''\n",
      "      token_name: ''\n",
      "  - 2000000\n",
      "- - - role_token: S1\n",
      "    - currency_symbol: ea94ed18f7a5bf2199f638360443a31ab3ec639108dde4c9e3e9bfee\n",
      "      token_name: DjedUSD\n",
      "  - 5000000\n",
      "- - - role_token: A\n",
      "    - currency_symbol: ea94ed18f7a5bf2199f638360443a31ab3ec639108dde4c9e3e9bfee\n",
      "      token_name: DjedUSD\n",
      "  - 49746\n",
      "- - - role_token: I1\n",
      "    - currency_symbol: ea94ed18f7a5bf2199f638360443a31ab3ec639108dde4c9e3e9bfee\n",
      "      token_name: DjedUSD\n",
      "  - 446836\n",
      "- - - role_token: I2\n",
      "    - currency_symbol: ea94ed18f7a5bf2199f638360443a31ab3ec639108dde4c9e3e9bfee\n",
      "      token_name: DjedUSD\n",
      "  - 223418\n",
      "boundValues:\n",
      "- - s\n",
      "  - 5000000\n",
      "- - a\n",
      "  - 720000\n",
      "- - e1\n",
      "  - 1024000\n",
      "- - e2\n",
      "  - 512000\n",
      "- - l\n",
      "  - 930000\n"
     ]
    }
   ],
   "source": [
    "show_nonchoices $n"
   ]
  },
  {
   "cell_type": "markdown",
   "id": "f9ec3007-1a71-46f6-aa17-4c854f3992a3",
   "metadata": {},
   "source": [
    "### 8. Borrower 1 only pays back 840k of the 990k Djed owed"
   ]
  },
  {
   "cell_type": "markdown",
   "id": "84e1d22b-32f3-42c2-b38e-41a102b429ce",
   "metadata": {},
   "source": [
    "#### Choose the deposit"
   ]
  },
  {
   "cell_type": "code",
   "execution_count": 111,
   "id": "7a5c81dd-7510-4002-9d7e-150a76369d80",
   "metadata": {},
   "outputs": [],
   "source": [
    "BORROWER_REPAYMENT=840000"
   ]
  },
  {
   "cell_type": "code",
   "execution_count": 112,
   "id": "1ea1d35d-9e95-45b3-b12f-0b2f2b68d290",
   "metadata": {},
   "outputs": [],
   "source": [
    "n=$((n+1))"
   ]
  },
  {
   "cell_type": "code",
   "execution_count": 113,
   "id": "9715c903-6a74-4310-98a7-ec545b421571",
   "metadata": {},
   "outputs": [
    {
     "name": "stdout",
     "output_type": "stream",
     "text": [
      "\n",
      "Datum size: 2070\n"
     ]
    }
   ],
   "source": [
    "marlowe-cli run prepare --choice-party \"Role=$(borrower 1)\"              \\\n",
    "                        --choice-name R                                  \\\n",
    "                        --choice-number \"$BORROWER_REPAYMENT\"            \\\n",
    "                        --invalid-before \"$NOW\"                          \\\n",
    "                        --invalid-hereafter \"$((DEADLINE - 1 * MINUTE))\" \\\n",
    "                        --marlowe-file \"$BASENAME-$((n-1)).marlowe\"      \\\n",
    "                        --out-file     \"$BASENAME-$n.marlowe\"            \\\n",
    "                        --print-stats"
   ]
  },
  {
   "cell_type": "code",
   "execution_count": 114,
   "id": "e38746a5-6a18-4efb-8dc4-d98d21d3f371",
   "metadata": {},
   "outputs": [
    {
     "name": "stdout",
     "output_type": "stream",
     "text": [
      "- - choice_name: S\n",
      "    choice_owner:\n",
      "      role_token: S1\n",
      "  - 5000000\n",
      "- - choice_name: I\n",
      "    choice_owner:\n",
      "      role_token: I1\n",
      "  - 1000000\n",
      "- - choice_name: I\n",
      "    choice_owner:\n",
      "      role_token: I2\n",
      "  - 500000\n",
      "- - choice_name: L1\n",
      "    choice_owner:\n",
      "      role_token: A\n",
      "  - 900000\n",
      "- - choice_name: L2\n",
      "    choice_owner:\n",
      "      role_token: A\n",
      "  - 600000\n",
      "- - choice_name: R\n",
      "    choice_owner:\n",
      "      role_token: B2\n",
      "  - 720000\n",
      "- - choice_name: R\n",
      "    choice_owner:\n",
      "      role_token: B1\n",
      "  - 840000\n"
     ]
    }
   ],
   "source": [
    "show_choices $n"
   ]
  },
  {
   "cell_type": "markdown",
   "id": "cc43f3e1-1f1d-457a-a479-9b99ef6f0525",
   "metadata": {},
   "source": [
    "### Make the deposit"
   ]
  },
  {
   "cell_type": "code",
   "execution_count": 115,
   "id": "45c69d9b-b032-4aa5-bac0-d64fd5131264",
   "metadata": {},
   "outputs": [],
   "source": [
    "n=$((n+1))"
   ]
  },
  {
   "cell_type": "code",
   "execution_count": 116,
   "id": "70823b5f-8b05-4367-ba8b-723a61e4c662",
   "metadata": {},
   "outputs": [
    {
     "name": "stdout",
     "output_type": "stream",
     "text": [
      "\n",
      "Warnings:\n",
      "  TransactionShadowing \"l\" 930000 90000\n",
      "  TransactionShadowing \"a\" 720000 1560000\n",
      "Datum size: 2072\n",
      "Payment 1\n",
      "  Acccount: \"A\"\n",
      "  Payee: Account \"I1\"\n",
      "  Ada: 0.000000\n",
      "  ea94ed18f7a5bf2199f638360443a31ab3ec639108dde4c9e3e9bfee.\"DjedUSD\": 521309\n",
      "Payment 2\n",
      "  Acccount: \"A\"\n",
      "  Payee: Account \"I2\"\n",
      "  Ada: 0.000000\n",
      "  ea94ed18f7a5bf2199f638360443a31ab3ec639108dde4c9e3e9bfee.\"DjedUSD\": 260654\n"
     ]
    }
   ],
   "source": [
    "marlowe-cli run prepare --deposit-account \"Role=$ADMINISTRATOR_ROLE\"     \\\n",
    "                        --deposit-party \"Role=$(borrower 1)\"             \\\n",
    "                        --deposit-token \"$DJED\"                          \\\n",
    "                        --deposit-amount \"$BORROWER_REPAYMENT\"           \\\n",
    "                        --invalid-before \"$NOW\"                          \\\n",
    "                        --invalid-hereafter \"$((DEADLINE - 1 * MINUTE))\" \\\n",
    "                        --marlowe-file \"$BASENAME-$((n-1)).marlowe\"      \\\n",
    "                        --out-file     \"$BASENAME-$n.marlowe\"            \\\n",
    "                        --print-stats"
   ]
  },
  {
   "cell_type": "code",
   "execution_count": 117,
   "id": "641ab249-0f7b-4d8c-a9ed-b3bcb9216daf",
   "metadata": {},
   "outputs": [
    {
     "name": "stdout",
     "output_type": "stream",
     "text": [
      "accounts:\n",
      "- - - role_token: A\n",
      "    - currency_symbol: ''\n",
      "      token_name: ''\n",
      "  - 2000000\n",
      "- - - role_token: S1\n",
      "    - currency_symbol: ea94ed18f7a5bf2199f638360443a31ab3ec639108dde4c9e3e9bfee\n",
      "      token_name: DjedUSD\n",
      "  - 5000000\n",
      "- - - role_token: A\n",
      "    - currency_symbol: ea94ed18f7a5bf2199f638360443a31ab3ec639108dde4c9e3e9bfee\n",
      "      token_name: DjedUSD\n",
      "  - 107783\n",
      "- - - role_token: I1\n",
      "    - currency_symbol: ea94ed18f7a5bf2199f638360443a31ab3ec639108dde4c9e3e9bfee\n",
      "      token_name: DjedUSD\n",
      "  - 968145\n",
      "- - - role_token: I2\n",
      "    - currency_symbol: ea94ed18f7a5bf2199f638360443a31ab3ec639108dde4c9e3e9bfee\n",
      "      token_name: DjedUSD\n",
      "  - 484072\n",
      "boundValues:\n",
      "- - s\n",
      "  - 5000000\n",
      "- - a\n",
      "  - 1560000\n",
      "- - e1\n",
      "  - 1024000\n",
      "- - e2\n",
      "  - 512000\n",
      "- - l\n",
      "  - 90000\n"
     ]
    }
   ],
   "source": [
    "show_nonchoices $n"
   ]
  },
  {
   "cell_type": "markdown",
   "id": "0d1c0e69-e03c-4c87-9310-479f9472f8d3",
   "metadata": {},
   "source": [
    "### 7. Administrator closes the pool"
   ]
  },
  {
   "cell_type": "code",
   "execution_count": 118,
   "id": "38f07ff4-2039-46ab-a927-058680408482",
   "metadata": {},
   "outputs": [],
   "source": [
    "n=$((n+1))"
   ]
  },
  {
   "cell_type": "code",
   "execution_count": 119,
   "id": "329de82c-3db7-4aba-bd27-a37c6fbcf1b7",
   "metadata": {},
   "outputs": [
    {
     "name": "stdout",
     "output_type": "stream",
     "text": [
      "\n",
      "Datum size: 221\n",
      "Payment 1\n",
      "  Acccount: \"S1\"\n",
      "  Payee: Account \"A\"\n",
      "  Ada: 0.000000\n",
      "  ea94ed18f7a5bf2199f638360443a31ab3ec639108dde4c9e3e9bfee.\"DjedUSD\": 90000\n",
      "Payment 2\n",
      "  Acccount: \"A\"\n",
      "  Payee: Account \"I1\"\n",
      "  Ada: 0.000000\n",
      "  ea94ed18f7a5bf2199f638360443a31ab3ec639108dde4c9e3e9bfee.\"DjedUSD\": 122745\n",
      "Payment 3\n",
      "  Acccount: \"A\"\n",
      "  Payee: Account \"I2\"\n",
      "  Ada: 0.000000\n",
      "  ea94ed18f7a5bf2199f638360443a31ab3ec639108dde4c9e3e9bfee.\"DjedUSD\": 23284\n",
      "Payment 4\n",
      "  Acccount: \"A\"\n",
      "  Payee: Party \"A\"\n",
      "  Ada: 2.000000\n",
      "Payment 5\n",
      "  Acccount: \"S1\"\n",
      "  Payee: Party \"S1\"\n",
      "  Ada: 0.000000\n",
      "  ea94ed18f7a5bf2199f638360443a31ab3ec639108dde4c9e3e9bfee.\"DjedUSD\": 4910000\n",
      "Payment 6\n",
      "  Acccount: \"A\"\n",
      "  Payee: Party \"A\"\n",
      "  Ada: 0.000000\n",
      "  ea94ed18f7a5bf2199f638360443a31ab3ec639108dde4c9e3e9bfee.\"DjedUSD\": 51754\n",
      "Payment 7\n",
      "  Acccount: \"I1\"\n",
      "  Payee: Party \"I1\"\n",
      "  Ada: 0.000000\n",
      "  ea94ed18f7a5bf2199f638360443a31ab3ec639108dde4c9e3e9bfee.\"DjedUSD\": 1090890\n",
      "Payment 8\n",
      "  Acccount: \"I2\"\n",
      "  Payee: Party \"I2\"\n",
      "  Ada: 0.000000\n",
      "  ea94ed18f7a5bf2199f638360443a31ab3ec639108dde4c9e3e9bfee.\"DjedUSD\": 507356\n"
     ]
    }
   ],
   "source": [
    "marlowe-cli run prepare --choice-party \"Role=$ADMINISTRATOR_ROLE\"        \\\n",
    "                        --choice-name T                                  \\\n",
    "                        --choice-number 1                                \\\n",
    "                        --invalid-before \"$NOW\"                          \\\n",
    "                        --invalid-hereafter \"$((DEADLINE - 1 * MINUTE))\" \\\n",
    "                        --marlowe-file \"$BASENAME-$((n-1)).marlowe\"      \\\n",
    "                        --out-file     \"$BASENAME-$n.marlowe\"            \\\n",
    "                        --print-stats"
   ]
  },
  {
   "cell_type": "code",
   "execution_count": 120,
   "id": "3ef3604a-5498-4a2c-8ef7-07328c2e3f27",
   "metadata": {},
   "outputs": [
    {
     "name": "stdout",
     "output_type": "stream",
     "text": [
      "accounts: []\n",
      "boundValues:\n",
      "- - s\n",
      "  - 5000000\n",
      "- - a\n",
      "  - 1560000\n",
      "- - e1\n",
      "  - 1024000\n",
      "- - e2\n",
      "  - 512000\n",
      "- - l\n",
      "  - 90000\n"
     ]
    }
   ],
   "source": [
    "show_nonchoices $n"
   ]
  }
 ],
 "metadata": {
  "kernelspec": {
   "display_name": "Bash - Marlowe",
   "language": "bash",
   "name": "bash_marlowe"
  },
  "language_info": {
   "codemirror_mode": "shell",
   "file_extension": ".sh",
   "mimetype": "text/x-sh",
   "name": "/nix/store/zwjm0gln1vk7x1akpyz0yxjsd1yc46gi-bash-5.1-p16/bin/bash"
  }
 },
 "nbformat": 4,
 "nbformat_minor": 5
}
