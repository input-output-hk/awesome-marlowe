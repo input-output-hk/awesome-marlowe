{
 "cells": [
  {
   "cell_type": "markdown",
   "id": "d2282dae-c7b1-4dec-9e9d-f66dcff5e767",
   "metadata": {},
   "source": [
    "# Stabilized Collective Loan in Marlowe: Working around Protocol Limits\n",
    "\n",
    "\n",
    "**Executive Summary**\n",
    "\n",
    "This collective loan includes multiple investors and multiple borrowers, where the pool is supervised by an administrator and where a stabilization fund guarantees returns to investors, subject to a cap on losses. Although this contract is simulatable without difficulty, it would fail on a network like `preview` or `mainnet` due to its exceed the execution-memory limit if it didn't include extra `Notify` terms to split steps into small transactions. Also note that this contract is a proof of principle and that the mathematics underlying it requires review and adjustment. See [stabilized-collective-loan-failure.ipynb](stabilized-collective-loan-failure.ipynb) for an example of how not including these extra `Notify`s causes transactions to fail.\n",
    "\n",
    "\n",
    "**Highlights**\n",
    "\n",
    "*   Demonstrates non-blocking decentralized multiplexing of actions by all roles in the contract.\n",
    "*   Includes a `When` term with 16 `Case` terms, which puts the contract to 3% less than the execution-memory limit.\n",
    "    *   Involving more than the 1 stabilizer, 2 investors, and 2 borrowers here would require using breaking up this `When` into layers of smaller `When`s.\n",
    "*   Uses a reference script for the Marlowe validator, in order to keep transaction size under protocol limits.\n",
    "*   Intercalates `When [Notify` between contract terms, in order to keep transactions under execution memory limits.\n",
    "*   Execution via the new `marlowe-cli auto-execute` to handle coin selection.\n",
    "\n",
    "**Roles**\n",
    "\n",
    "*   Role: Stabilizers\n",
    "    *   Contributes funds to the stabilizer accounts of the contract.\n",
    "    *   Stabilizer accounts reimburse Investors for shortfalls when the contract terminates.\n",
    "        *   Reimbursement capped at the percentage stabilization of the loan pool.\n",
    "    *   Stabilizers receive net excess loan proceeds when contract terminates.\n",
    "*   Role: Investors\n",
    "    *   Contribute liquidity used for lending.\n",
    "    *   Guaranteed return of principal plus interest, but capped at percentage stabilization in case of severe net underperformance.\n",
    "    *   May withdraw liquidity at any time.\n",
    "*   Role: Administrator\n",
    "    *   Approves loans.\n",
    "    *   Decides when the contract terminates and settles to all parties.\n",
    "*   Role: Borrowers\n",
    "    *   Receives loans.\n",
    "    *   Repays principal plus interest."
   ]
  },
  {
   "cell_type": "markdown",
   "id": "9ed9daa2-7334-44ad-9daa-e6f763896c5a",
   "metadata": {
    "jp-MarkdownHeadingCollapsed": true,
    "tags": []
   },
   "source": [
    "## Pool Operations\n",
    "\n",
    "![Operations in the stabilized collective loan](stabilized-collective-loan-operations.png)"
   ]
  },
  {
   "cell_type": "markdown",
   "id": "c655fc2e-3149-4e4f-b675-fa55f462dd4c",
   "metadata": {},
   "source": [
    "## Sequence Diagram\n",
    "\n",
    "![Sequence of interactions in example](stabilized-collective-loan-interaction.svg)"
   ]
  },
  {
   "cell_type": "markdown",
   "id": "54e55032-abcd-49e4-afd9-8220dfea7334",
   "metadata": {},
   "source": [
    "## Preliminaries"
   ]
  },
  {
   "cell_type": "markdown",
   "id": "732311a2-6b0a-493f-89aa-2e7726935758",
   "metadata": {},
   "source": [
    "### Versions"
   ]
  },
  {
   "cell_type": "markdown",
   "id": "c27b9add-75d2-43c0-bdfa-5e307d0d7ec4",
   "metadata": {},
   "source": [
    "Make a note of the versions of the Marlowe repository and software."
   ]
  },
  {
   "cell_type": "code",
   "execution_count": 1,
   "id": "59b0f329-1f59-4366-b4dc-34b9e4adee00",
   "metadata": {},
   "outputs": [],
   "source": [
    "export TREASURY=treasury"
   ]
  },
  {
   "cell_type": "code",
   "execution_count": 2,
   "id": "c490ab31-6729-4814-9178-8763b59afcec",
   "metadata": {},
   "outputs": [
    {
     "name": "stdout",
     "output_type": "stream",
     "text": [
      "marlowe-cli 0.0.8.3 @ 3709087ea19ba42b60ffc302373fa28cc9d368dc\n"
     ]
    }
   ],
   "source": [
    "marlowe-cli --version"
   ]
  },
  {
   "cell_type": "code",
   "execution_count": 3,
   "id": "dcac1a0e-f533-4cad-b474-c1f122f79cce",
   "metadata": {},
   "outputs": [
    {
     "name": "stdout",
     "output_type": "stream",
     "text": [
      "cardano-cli 1.35.3 - linux-x86_64 - ghc-8.10\n",
      "git rev 0000000000000000000000000000000000000000\n"
     ]
    }
   ],
   "source": [
    "cardano-cli --version"
   ]
  },
  {
   "cell_type": "code",
   "execution_count": 4,
   "id": "85240b4e-2412-4530-95e4-5219eb8a9780",
   "metadata": {},
   "outputs": [
    {
     "name": "stdout",
     "output_type": "stream",
     "text": [
      "4dd27deb56d0a140f0df28c9cb6a7f09a9912ec8\n"
     ]
    }
   ],
   "source": [
    "git rev-parse HEAD"
   ]
  },
  {
   "cell_type": "markdown",
   "id": "aa1c26dd-6db8-4a75-9604-f8494538b9a4",
   "metadata": {},
   "source": [
    "### Select the Cardano network"
   ]
  },
  {
   "cell_type": "markdown",
   "id": "ccd713c7-37e5-4746-a18b-6b82fe125a56",
   "metadata": {},
   "source": [
    "Use the `preview` networks, which is in the Babbage era."
   ]
  },
  {
   "cell_type": "code",
   "execution_count": 5,
   "id": "60ab7ef1-d69a-4d40-aa20-894916013cf2",
   "metadata": {},
   "outputs": [],
   "source": [
    "export CARDANO_TESTNET_MAGIC=2\n",
    "export CARDANO_NODE_SOCKET_PATH=/extra/iohk/networks/preview/node.socket"
   ]
  },
  {
   "cell_type": "markdown",
   "id": "4cf407d7-6cd1-4933-a593-b638fd0167ef",
   "metadata": {},
   "source": [
    "### Current Time"
   ]
  },
  {
   "cell_type": "markdown",
   "id": "d6e588e1-960a-442e-85f9-5b175644bf70",
   "metadata": {},
   "source": [
    "We'll start the contract at the current time."
   ]
  },
  {
   "cell_type": "code",
   "execution_count": 6,
   "id": "932d174a-1092-4c5f-9da1-4dd84bd6eb81",
   "metadata": {},
   "outputs": [
    {
     "name": "stdout",
     "output_type": "stream",
     "text": [
      "1664078286000 = Sun Sep 25 03:58:06 AM UTC 2022\n"
     ]
    }
   ],
   "source": [
    "NOW=$(($(date -u +%s) * 1000))\n",
    "echo \"$NOW = $(date -u)\""
   ]
  },
  {
   "cell_type": "markdown",
   "id": "662675d0-241f-433e-9c59-e78c25cfbbbd",
   "metadata": {},
   "source": [
    "Compute time constants, for convenience when setting time intervals for transactions."
   ]
  },
  {
   "cell_type": "code",
   "execution_count": 7,
   "id": "b43c72cd-d15c-4323-aee7-09e95c17cae9",
   "metadata": {},
   "outputs": [],
   "source": [
    "SECOND=1000\n",
    "MINUTE=$((60 * SECOND))\n",
    "HOUR=$((60 * MINUTE))\n",
    "DAY=$((24 * HOUR))"
   ]
  },
  {
   "cell_type": "markdown",
   "id": "20350c3c-0f59-4e14-a299-cbf6e80753ff",
   "metadata": {},
   "source": [
    "There is a minimum Ada requirement associated with a native token."
   ]
  },
  {
   "cell_type": "code",
   "execution_count": 8,
   "id": "88f6d4e0-2271-42cc-9cfe-177362edf9e9",
   "metadata": {},
   "outputs": [
    {
     "name": "stdout",
     "output_type": "stream",
     "text": [
      "2000000\n"
     ]
    }
   ],
   "source": [
    "ADA=1000000\n",
    "MIN_ADA=$((2 * ADA))\n",
    "echo $MIN_ADA"
   ]
  },
  {
   "cell_type": "markdown",
   "id": "c8aa6463-b652-4340-98f2-7300fc8c49de",
   "metadata": {},
   "source": [
    "### Contract Parameters"
   ]
  },
  {
   "cell_type": "markdown",
   "id": "2e35dfe6-16c1-439e-b6e6-88dd42ee5ada",
   "metadata": {},
   "source": [
    "Set parameters for the contract. This contract scales to large numbers of lenders and borrowers, but that will involve many transactions and much time if run on-chain."
   ]
  },
  {
   "cell_type": "code",
   "execution_count": 9,
   "id": "1967aea0-0df3-4e3b-a855-ff57f40e006e",
   "metadata": {},
   "outputs": [],
   "source": [
    "BASENAME=stabilized-collective-loan\n",
    "\n",
    "DJED_POLICY=ea94ed18f7a5bf2199f638360443a31ab3ec639108dde4c9e3e9bfee\n",
    "DJED_NAME=DjedUSD\n",
    "\n",
    "N_STABILIZERS=1\n",
    "N_INVESTORS=2\n",
    "N_BORROWERS=2\n",
    "\n",
    "N_STEPS=20\n",
    "\n",
    "MINIMUM_STABILIZATION=1000000\n",
    "MAXIMUM_STABILIZATION=10000000\n",
    "\n",
    "MINIMUM_INVESTMENT=500000\n",
    "MAXIMUM_INVESTMENT=5000000\n",
    "\n",
    "MINIMUM_LOAN=100000\n",
    "MAXIMUM_LOAN=1000000\n",
    "\n",
    "PERCENT_STABILIZATION=40\n",
    "PERCENT_INTEREST=10\n",
    "\n",
    "TIMEOUT_START=$((NOW + 6 * HOUR))\n",
    "TIMEOUT_DELTA=$((10 * DAY))\n",
    "TIMEOUT_FINAL=$((NOW + 1000 * DAY))\n",
    "\n",
    "ADMINISTRATOR_ROLE=A\n",
    "STABILIZER_PREFIX=S\n",
    "INVESTOR_PREFIX=I\n",
    "BORROWER_PREFIX=B"
   ]
  },
  {
   "cell_type": "markdown",
   "id": "eb257bc0-96ed-4c72-95ae-e1df7b84336c",
   "metadata": {},
   "source": [
    "### Helper functions"
   ]
  },
  {
   "cell_type": "markdown",
   "id": "796015de-7295-45d9-b809-483679e51e62",
   "metadata": {},
   "source": [
    "#### Role names"
   ]
  },
  {
   "cell_type": "code",
   "execution_count": 10,
   "id": "091ba58f-be1f-43db-aa18-adc16d9a53bc",
   "metadata": {},
   "outputs": [],
   "source": [
    "function stabilizer() {\n",
    "  echo \"$STABILIZER_PREFIX$1\"\n",
    "}"
   ]
  },
  {
   "cell_type": "code",
   "execution_count": 11,
   "id": "1f770523-bd0e-49c8-a2c3-01109579a960",
   "metadata": {},
   "outputs": [],
   "source": [
    "function investor() {\n",
    "  echo \"$INVESTOR_PREFIX$1\"\n",
    "}"
   ]
  },
  {
   "cell_type": "code",
   "execution_count": 12,
   "id": "92113df8-749e-4c8f-963f-ea4ffcf1aa39",
   "metadata": {},
   "outputs": [],
   "source": [
    "function borrower() {\n",
    "  echo \"$BORROWER_PREFIX$1\"\n",
    "}"
   ]
  },
  {
   "cell_type": "markdown",
   "id": "a341334e-9e68-4c72-97d1-57980dfb548a",
   "metadata": {},
   "source": [
    "#### Datum constituents"
   ]
  },
  {
   "cell_type": "code",
   "execution_count": 13,
   "id": "4524af32-10c8-42c2-a872-134036217832",
   "metadata": {},
   "outputs": [],
   "source": [
    "function show_contract() {\n",
    "  jq .tx.contract $BASENAME-$1.marlowe | json2yaml\n",
    "}"
   ]
  },
  {
   "cell_type": "code",
   "execution_count": 14,
   "id": "591e77fe-306a-4f64-8776-6b43257273d9",
   "metadata": {},
   "outputs": [],
   "source": [
    "function show_state() {\n",
    "  jq .tx.state $BASENAME-$1.marlowe | json2yaml\n",
    "}"
   ]
  },
  {
   "cell_type": "code",
   "execution_count": 15,
   "id": "301679d2-2201-43e1-b5c0-96897ac0fcaa",
   "metadata": {},
   "outputs": [],
   "source": [
    "function show_choices() {\n",
    "  jq .tx.state.choices $BASENAME-$1.marlowe | json2yaml\n",
    "}"
   ]
  },
  {
   "cell_type": "code",
   "execution_count": 16,
   "id": "8587e919-13a1-42ea-84a2-7fac7d55e68c",
   "metadata": {},
   "outputs": [],
   "source": [
    "function show_nonchoices() {\n",
    "  jq '.tx.state | {accounts : .accounts, boundValues : .boundValues}' $BASENAME-$1.marlowe | json2yaml\n",
    "}"
   ]
  },
  {
   "cell_type": "markdown",
   "id": "497608ac-a1b7-4411-a4f3-633141182b69",
   "metadata": {},
   "source": [
    "#### Query"
   ]
  },
  {
   "cell_type": "code",
   "execution_count": 17,
   "id": "7f6932ee-761f-4fe0-80de-82f8c66ff0df",
   "metadata": {},
   "outputs": [],
   "source": [
    "function query_administrator() {\n",
    "  cardano-cli query utxo --testnet-magic \"$CARDANO_TESTNET_MAGIC\" --address \"$ADMINISTRATOR_ADDR\"\n",
    "}"
   ]
  },
  {
   "cell_type": "code",
   "execution_count": 18,
   "id": "e51e5e35-51e1-43fb-a572-85a00833abf0",
   "metadata": {},
   "outputs": [],
   "source": [
    "function query_stabilizer() {\n",
    "  cardano-cli query utxo --testnet-magic \"$CARDANO_TESTNET_MAGIC\" --address \"${STABILIZER_ADDR[$1]}\"\n",
    "}"
   ]
  },
  {
   "cell_type": "code",
   "execution_count": 19,
   "id": "6cecfa67-845e-4dac-b337-48c875161347",
   "metadata": {},
   "outputs": [],
   "source": [
    "function query_investor() {\n",
    "  cardano-cli query utxo --testnet-magic \"$CARDANO_TESTNET_MAGIC\" --address \"${INVESTOR_ADDR[$1]}\"\n",
    "}"
   ]
  },
  {
   "cell_type": "code",
   "execution_count": 20,
   "id": "c26f2fe6-fe15-41c3-991c-82cb0f8bfb09",
   "metadata": {},
   "outputs": [],
   "source": [
    "function query_borrower() {\n",
    "  cardano-cli query utxo --testnet-magic \"$CARDANO_TESTNET_MAGIC\" --address \"${BORROWER_ADDR[$1]}\"\n",
    "}"
   ]
  },
  {
   "cell_type": "code",
   "execution_count": 21,
   "id": "893d5257-8815-4175-96a7-06eab7ff176d",
   "metadata": {},
   "outputs": [],
   "source": [
    "function query_marlowe() {\n",
    "  cardano-cli query utxo --testnet-magic \"$CARDANO_TESTNET_MAGIC\" --address \"$(marlowe-cli contract address)\" \\\n",
    "  | sed -n -e \"1,2p;/^$1/p\"\n",
    "}"
   ]
  },
  {
   "cell_type": "code",
   "execution_count": 22,
   "id": "70e17692-3fbc-4f24-a0ce-72fc95ae10af",
   "metadata": {},
   "outputs": [],
   "source": [
    "function query_payout() {\n",
    "  cardano-cli query utxo --testnet-magic \"$CARDANO_TESTNET_MAGIC\" --address \"$(marlowe-cli role address)\" \\\n",
    "  | sed -n -e \"1,2p;/^$1/p\"\n",
    "}"
   ]
  },
  {
   "cell_type": "markdown",
   "id": "1e077291-9224-42c6-bde4-641f9fc8c2b8",
   "metadata": {},
   "source": [
    "#### UTxOs"
   ]
  },
  {
   "cell_type": "markdown",
   "id": "05c6fcda-d830-42fc-8569-8a5184e33f0e",
   "metadata": {},
   "source": [
    "The following functions simplify UTxO management."
   ]
  },
  {
   "cell_type": "code",
   "execution_count": 23,
   "id": "def1a556-698e-48d6-9937-35add8a448af",
   "metadata": {},
   "outputs": [],
   "source": [
    "function find_role() {\n",
    "  marlowe-cli util select --asset-only $ROLES_POLICY.$2 $1 | sed -e 's/^TxIn \"\\(.*\\)\" (TxIx \\(.*\\))$/\\1#\\2/'\n",
    "}"
   ]
  },
  {
   "cell_type": "code",
   "execution_count": 24,
   "id": "78943068-1617-4908-ad21-09660a19ab55",
   "metadata": {},
   "outputs": [],
   "source": [
    "function find_ada() {\n",
    "  marlowe-cli util select --lovelace-only $((10 * ADA)) $1 | sed -e 's/^TxIn \"\\(.*\\)\" (TxIx \\(.*\\))$/\\1#\\2/' | head -n 1\n",
    "}"
   ]
  },
  {
   "cell_type": "code",
   "execution_count": 25,
   "id": "58f4d703-6ba3-419b-957e-113fb1d96e73",
   "metadata": {},
   "outputs": [],
   "source": [
    "function find_djed() {\n",
    "  marlowe-cli util select --asset-only $DJED $1 | sed -e 's/^TxIn \"\\(.*\\)\" (TxIx \\(.*\\))$/\\1#\\2/' | head -n 1\n",
    "}"
   ]
  },
  {
   "cell_type": "markdown",
   "id": "4de385df-6041-407a-b482-5490646c0c59",
   "metadata": {},
   "source": [
    "#### Transactions"
   ]
  },
  {
   "cell_type": "code",
   "execution_count": 26,
   "id": "a1f6aefd-8618-4903-89dd-9a0d5a4a3e36",
   "metadata": {},
   "outputs": [],
   "source": [
    "function set_validity_interval {\n",
    "  INVALID_BEFORE=$(jq -r .tx.state.minTime \"$BASENAME-$1.marlowe\")\n",
    "  INVALID_HEREAFTER=$((INVALID_BEFORE + 3 * HOUR))\n",
    "  echo \"$INVALID_BEFORE + $((INVALID_HEREAFTER - INVALID_BEFORE)) = $INVALID_HEREAFTER\"\n",
    "}"
   ]
  },
  {
   "cell_type": "code",
   "execution_count": 27,
   "id": "246c6922-15e9-4dce-8965-1bfaabe90292",
   "metadata": {},
   "outputs": [],
   "source": [
    "function execute {\n",
    "\n",
    "if [[ n -eq 1 ]]\n",
    "then\n",
    "\n",
    "TX_ID[$n]=$(\n",
    "marlowe-cli run auto-execute --marlowe-out-file \"$BASENAME-$n.marlowe\" \\\n",
    "                             --required-signer \"$1\" \\\n",
    "                             --change-address \"$2\" \\\n",
    "                             --out-file \"$BASENAME-$n.raw\" \\\n",
    "                             --print-stats \\\n",
    "                             --submit=600 \\\n",
    "| sed -e 's/^TxId \"\\(.*\\)\"$/\\1/' \\\n",
    ")\n",
    "\n",
    "else\n",
    "\n",
    "TX_ID[$n]=$(\n",
    "marlowe-cli run auto-execute --marlowe-in-file \"$BASENAME-$((n-1)).marlowe\" \\\n",
    "                             --tx-in-marlowe \"${TX_ID[$((n-1))]}#1\" \\\n",
    "                             --marlowe-out-file \"$BASENAME-$n.marlowe\" \\\n",
    "                             --required-signer \"$1\" \\\n",
    "                             --change-address \"$2\" \\\n",
    "                             --out-file \"$BASENAME-$n.raw\" \\\n",
    "                             --print-stats \\\n",
    "                             --submit=600 \\\n",
    "| sed -e 's/^TxId \"\\(.*\\)\"$/\\1/' \\\n",
    ")\n",
    "\n",
    "fi\n",
    "\n",
    "echo\n",
    "echo \"Transaction $n hash: ${TX_ID[$n]}\"\n",
    "\n",
    "}"
   ]
  },
  {
   "cell_type": "code",
   "execution_count": 28,
   "id": "81c93a8a-997c-4068-8103-2603e54c7162",
   "metadata": {},
   "outputs": [],
   "source": [
    "function withdraw {\n",
    "\n",
    "marlowe-cli run auto-withdraw --marlowe-file \"$BASENAME-$n.marlowe\" \\\n",
    "                              --role-name \"$1\" \\\n",
    "                              --required-signer \"$2\" \\\n",
    "                              --change-address \"$3\" \\\n",
    "                              --out-file /dev/null \\\n",
    "                              --submit 600 \\\n",
    "                              --print-stats\n",
    "\n",
    "}"
   ]
  },
  {
   "cell_type": "markdown",
   "id": "ccc8e403-2209-4e21-ba55-5d77fb0204b7",
   "metadata": {},
   "source": [
    "We have inserted a `When [Notify` before each sub-contract in the contract in order to reduce the execution memory requirements enough so that the contract can be run on-chain. We define an `unpause` function to move beyond these pauses."
   ]
  },
  {
   "cell_type": "code",
   "execution_count": 29,
   "id": "7dd2eda4-1613-4c44-8817-51937806383c",
   "metadata": {},
   "outputs": [],
   "source": [
    "function unpause {\n",
    "\n",
    "for i in `seq 1 $1`\n",
    "do\n",
    "\n",
    "echo\n",
    "echo \"----- Unpause $i -----\"\n",
    "echo\n",
    "\n",
    "n=$((n+1))\n",
    "\n",
    "set_validity_interval $((n-1))\n",
    "marlowe-cli run prepare --notify \\\n",
    "                        --invalid-before \"$INVALID_BEFORE\" \\\n",
    "                        --invalid-hereafter \"$INVALID_HEREAFTER\" \\\n",
    "                        --marlowe-file \"$BASENAME-$((n-1)).marlowe\" \\\n",
    "                        --out-file     \"$BASENAME-$n.marlowe\" \\\n",
    "                        --print-stats\n",
    "\n",
    "TX_ID[$n]=$(\n",
    "marlowe-cli run auto-execute --marlowe-in-file \"$BASENAME-$((n-1)).marlowe\" \\\n",
    "                             --tx-in-marlowe \"${TX_ID[$((n-1))]}#1\" \\\n",
    "                             --marlowe-out-file \"$BASENAME-$n.marlowe\" \\\n",
    "                             --required-signer \"${ADMINISTRATOR_SKEY}\" \\\n",
    "                             --change-address \"${ADMINISTRATOR_ADDR}\" \\\n",
    "                             --out-file \"$BASENAME-$n.raw\" \\\n",
    "                             --print-stats \\\n",
    "                             --submit=600 \\\n",
    "| sed -e 's/^TxId \"\\(.*\\)\"$/\\1/' \\\n",
    ")\n",
    "\n",
    "echo\n",
    "echo \"Transaction $n hash: ${TX_ID[$n]}\"\n",
    "\n",
    "done\n",
    "\n",
    "}"
   ]
  },
  {
   "cell_type": "markdown",
   "id": "6730a47d-3a5d-4bb3-a1ba-d7ec29a76021",
   "metadata": {},
   "source": [
    "### Setup the faucet."
   ]
  },
  {
   "cell_type": "code",
   "execution_count": 30,
   "id": "8614ead9-e0af-41b6-88dd-9b8ae8948469",
   "metadata": {},
   "outputs": [
    {
     "name": "stdout",
     "output_type": "stream",
     "text": [
      "addr_test1vq9prvx8ufwutkwxx9cmmuuajaqmjqwujqlp9d8pvg6gupczgtm9j\n"
     ]
    }
   ],
   "source": [
    "FAUCET_SKEY_FILE=$TREASURY/payment.skey\n",
    "FAUCET_ADDRESS=$(cat $TREASURY/payment.testnet.address)\n",
    "echo \"$FAUCET_ADDRESS\""
   ]
  },
  {
   "cell_type": "markdown",
   "id": "f0158f21-8ec8-4776-a7a1-c2a1a9fb7542",
   "metadata": {},
   "source": [
    "### Key Derivation"
   ]
  },
  {
   "cell_type": "markdown",
   "id": "04eda9be-a195-4a5e-95db-c671064bea48",
   "metadata": {},
   "source": [
    "We'll derive all of the keys for stabilizers, investors, and borrowers from a single root private key."
   ]
  },
  {
   "cell_type": "code",
   "execution_count": 31,
   "id": "38a3ea1c-f0ee-49b8-852f-5ba2b88ff05e",
   "metadata": {},
   "outputs": [],
   "source": [
    "ROOT_PRV=$TREASURY/william-shakespeare.root.prv"
   ]
  },
  {
   "cell_type": "markdown",
   "id": "285d9e5d-9240-4a57-ae1d-c4f03009d8d9",
   "metadata": {},
   "source": [
    "For the convenience of viewing transactions in Daedalus, we'll include the same stake credential in all of the addresses."
   ]
  },
  {
   "cell_type": "code",
   "execution_count": 32,
   "id": "32269607-b2c8-4742-a7e8-008d9f898789",
   "metadata": {},
   "outputs": [
    {
     "name": "stdout",
     "output_type": "stream",
     "text": [
      "stake_test1urplvp2a7dythh6yxutd0qlzzkncr3gy5ftvxj02d3etafqjugc5h\n"
     ]
    }
   ],
   "source": [
    "cardano-wallet key child 1852H/1815H/0H/2/0 < $ROOT_PRV \\\n",
    "| cardano-cli key convert-cardano-address-key --shelley-stake-key --signing-key-file /dev/stdin --out-file /dev/stdout \\\n",
    "| cardano-cli key verification-key --signing-key-file /dev/stdin --verification-key-file /dev/stdout \\\n",
    "| cardano-cli key non-extended-key --extended-verification-key-file /dev/stdin --verification-key-file $TREASURY/william-shakespeare.stake.vkey\n",
    "cardano-cli stake-address build --testnet-magic $CARDANO_TESTNET_MAGIC --stake-verification-key-file $TREASURY/william-shakespeare.stake.vkey"
   ]
  },
  {
   "cell_type": "markdown",
   "id": "10a60af2-89b7-490c-9c63-37c319e8d9bd",
   "metadata": {},
   "source": [
    "#### Key for the Administrator"
   ]
  },
  {
   "cell_type": "markdown",
   "id": "f5950371-9c72-4cd9-9855-f1244d0d95f2",
   "metadata": {},
   "source": [
    "Build the signing keys and payment addresses for the administrator from the `1852H/1815H/0H/0/` sequence of key derivations."
   ]
  },
  {
   "cell_type": "markdown",
   "id": "64ae01a4-ecbc-4c9e-a755-7904345b4776",
   "metadata": {},
   "source": [
    "Use a pre-existing key for payment."
   ]
  },
  {
   "cell_type": "code",
   "execution_count": 33,
   "id": "2a083072-52f8-4882-9dab-010d315e8ab9",
   "metadata": {},
   "outputs": [
    {
     "name": "stdout",
     "output_type": "stream",
     "text": [
      "addr_test1vrssw4edcts00kk6lp7p5n64666m23tpprqaarmdwkaq69gfvqnpz\n"
     ]
    }
   ],
   "source": [
    "ADMINISTRATOR_SKEY=$TREASURY/christopher-marlowe.skey\n",
    "ADMINISTRATOR_VKEY=$TREASURY/christopher-marlowe.vkey\n",
    "ADMINISTRATOR_ADDR=$(cat $TREASURY/christopher-marlowe.testnet.address)\n",
    "echo $ADMINISTRATOR_ADDR"
   ]
  },
  {
   "cell_type": "code",
   "execution_count": 34,
   "id": "383e6cd8-1c2e-4a8b-9db1-82fa79d6b52b",
   "metadata": {},
   "outputs": [
    {
     "name": "stdout",
     "output_type": "stream",
     "text": [
      "Administrator 1852H/1815H/0H/0/0 = addr_test1qp2l7afky3eqfkrht5f3qgy7x2yek5dejcnpnuqlwywz9twr7cz4mu6gh005gdck67p7y9d8s8zsfgjkcdy75mrjh6jqp8jwfw\n"
     ]
    }
   ],
   "source": [
    "ADMINISTRATOR_SKEY[$j]=tmp/administrator.skey\n",
    "ADMINISTRATOR_ADDR[$j]=$(\n",
    "cardano-wallet key child 1852H/1815H/0H/0/0 < $ROOT_PRV \\\n",
    "| cardano-cli key convert-cardano-address-key --shelley-payment-key --signing-key-file /dev/stdin --out-file $ADMINISTRATOR_SKEY\n",
    "cardano-cli key verification-key --signing-key-file $ADMINISTRATOR_SKEY --verification-key-file /dev/stdout \\\n",
    "| cardano-cli address build --testnet-magic $CARDANO_TESTNET_MAGIC --payment-verification-key-file /dev/stdin --stake-verification-key-file $TREASURY/william-shakespeare.stake.vkey \\\n",
    ")\n",
    "echo \"Administrator 1852H/1815H/0H/0/0 = $ADMINISTRATOR_ADDR\""
   ]
  },
  {
   "cell_type": "markdown",
   "id": "3677449a-9f49-49c3-88cc-6cbda651b66b",
   "metadata": {},
   "source": [
    "Send 500 Ada to the administrator."
   ]
  },
  {
   "cell_type": "code",
   "execution_count": 35,
   "id": "419b5b34-dd0e-44e5-ac6d-1d31bc5e5b87",
   "metadata": {},
   "outputs": [
    {
     "name": "stdout",
     "output_type": "stream",
     "text": [
      "TxId \"3a48e2ff92140440e8490ba36a36230f6e2e0044ba92f2a1c79722f4992f2c4a\"\n"
     ]
    }
   ],
   "source": [
    "marlowe-cli util faucet --lovelace \"$((500 * ADA))\" \\\n",
    "                        --faucet-address \"$FAUCET_ADDRESS\" \\\n",
    "                        --required-signer \"$FAUCET_SKEY_FILE\" \\\n",
    "                        --out-file /dev/null \\\n",
    "                        --submit 600 \\\n",
    "                        $ADMINISTRATOR_ADDR"
   ]
  },
  {
   "cell_type": "markdown",
   "id": "750f57b5-604c-4f13-bbd8-0733edc2945f",
   "metadata": {},
   "source": [
    "#### Keys for Stabilizers"
   ]
  },
  {
   "cell_type": "markdown",
   "id": "dbc97ec4-88ce-42a0-8b35-6e41095fb41d",
   "metadata": {},
   "source": [
    "Build the signing keys and payment addresses for the stabilizers from the `1852H/1815H/0H/0/` sequence of key derivations."
   ]
  },
  {
   "cell_type": "code",
   "execution_count": 36,
   "id": "4ac2121e-ccca-420b-9aed-225226baceaf",
   "metadata": {},
   "outputs": [
    {
     "name": "stdout",
     "output_type": "stream",
     "text": [
      "Stabilizer 1 = 1852H/1815H/0H/0/2 = addr_test1qraxynufcduk7ak7nke2jm6pnc32vn7wsmm7ml30cutfgg7r7cz4mu6gh005gdck67p7y9d8s8zsfgjkcdy75mrjh6jq77wfgp\n"
     ]
    }
   ],
   "source": [
    "mkdir -p tmp\n",
    "for j in `seq 1 $N_STABILIZERS`\n",
    "do\n",
    "  STABILIZER_SKEY[$j]=tmp/stabilizer-$j.skey\n",
    "  STABILIZER_ADDR[$j]=$(\n",
    "  cardano-wallet key child 1852H/1815H/0H/0/$((1 + j)) < $ROOT_PRV \\\n",
    "  | cardano-cli key convert-cardano-address-key --shelley-payment-key --signing-key-file /dev/stdin --out-file ${STABILIZER_SKEY[$j]}\n",
    "  cardano-cli key verification-key --signing-key-file ${STABILIZER_SKEY[$j]} --verification-key-file /dev/stdout \\\n",
    "  | cardano-cli address build --testnet-magic $CARDANO_TESTNET_MAGIC --payment-verification-key-file /dev/stdin --stake-verification-key-file $TREASURY/william-shakespeare.stake.vkey \\\n",
    "  )\n",
    "  echo \"Stabilizer $j = 1852H/1815H/0H/0/$((1 + j)) = ${STABILIZER_ADDR[$j]}\"\n",
    "done"
   ]
  },
  {
   "cell_type": "markdown",
   "id": "a75459f4-6e12-4c77-a09f-7367a61d24f7",
   "metadata": {},
   "source": [
    "Send 25 ADA to each stabilizer."
   ]
  },
  {
   "cell_type": "code",
   "execution_count": 37,
   "id": "07e40be0-7dfd-44c1-98c6-4c1caab7cafb",
   "metadata": {},
   "outputs": [
    {
     "name": "stdout",
     "output_type": "stream",
     "text": [
      "TxId \"d15deacc9aabb25dd7eb1398546079685809f343f6e49d86012d528b64d89b1c\"\n"
     ]
    }
   ],
   "source": [
    "marlowe-cli util faucet --lovelace \"$((25 * ADA))\" \\\n",
    "                        --faucet-address \"$FAUCET_ADDRESS\" \\\n",
    "                        --required-signer \"$FAUCET_SKEY_FILE\" \\\n",
    "                        --out-file /dev/null \\\n",
    "                        --submit 600 \\\n",
    "                        ${STABILIZER_ADDR[@]}"
   ]
  },
  {
   "cell_type": "markdown",
   "id": "83604a94-d6dd-46f7-aecc-33f9907f4a3d",
   "metadata": {},
   "source": [
    "#### Keys for Investors"
   ]
  },
  {
   "cell_type": "markdown",
   "id": "ce170d93-1aca-4048-a1df-55c63c8174b3",
   "metadata": {},
   "source": [
    "Build the signing keys and payment addresses for the investors from the `1852H/1815H/0H/0/` sequence of key derivations."
   ]
  },
  {
   "cell_type": "code",
   "execution_count": 38,
   "id": "aa2506e7-12bf-489d-93a8-c58f475ac8d9",
   "metadata": {},
   "outputs": [
    {
     "name": "stdout",
     "output_type": "stream",
     "text": [
      "Investor 1 = 1852H/1815H/0H/0/3 = addr_test1qzlwepx5u26a8w94kfrkfem6njlam22emyhjscu0lxqrce7r7cz4mu6gh005gdck67p7y9d8s8zsfgjkcdy75mrjh6jq5jnrn3\n",
      "Investor 2 = 1852H/1815H/0H/0/4 = addr_test1qqjrjfslev50d5jn6qdeztxsqvuaaefq6e4hu55n59grjj7r7cz4mu6gh005gdck67p7y9d8s8zsfgjkcdy75mrjh6jqwhulyr\n"
     ]
    }
   ],
   "source": [
    "mkdir -p tmp\n",
    "for j in `seq 1 $N_INVESTORS`\n",
    "do\n",
    "  INVESTOR_SKEY[$j]=tmp/investor-$j.skey\n",
    "  INVESTOR_ADDR[$j]=$(\n",
    "  cardano-wallet key child 1852H/1815H/0H/0/$((1 + N_STABILIZERS + j)) < $ROOT_PRV \\\n",
    "  | cardano-cli key convert-cardano-address-key --shelley-payment-key --signing-key-file /dev/stdin --out-file ${INVESTOR_SKEY[$j]}\n",
    "  cardano-cli key verification-key --signing-key-file ${INVESTOR_SKEY[$j]} --verification-key-file /dev/stdout \\\n",
    "  | cardano-cli address build --testnet-magic $CARDANO_TESTNET_MAGIC --payment-verification-key-file /dev/stdin --stake-verification-key-file $TREASURY/william-shakespeare.stake.vkey \\\n",
    "  )\n",
    "  echo \"Investor $j = 1852H/1815H/0H/0/$((1 + N_STABILIZERS + j)) = ${INVESTOR_ADDR[$j]}\"\n",
    "done"
   ]
  },
  {
   "cell_type": "markdown",
   "id": "7529b547-6b83-4a12-9f7d-920b72843ffa",
   "metadata": {},
   "source": [
    "Send 25 ADA to each investor."
   ]
  },
  {
   "cell_type": "code",
   "execution_count": 39,
   "id": "20132878-6dc0-4fef-ae68-7b0a06d197ca",
   "metadata": {},
   "outputs": [
    {
     "name": "stdout",
     "output_type": "stream",
     "text": [
      "TxId \"51fbe0451fbcfc57f72946c144aae469bee8c2b92bca53dd60b2917a547fde04\"\n"
     ]
    }
   ],
   "source": [
    "marlowe-cli util faucet --lovelace \"$((25 * ADA))\" \\\n",
    "                        --faucet-address \"$FAUCET_ADDRESS\" \\\n",
    "                        --required-signer \"$FAUCET_SKEY_FILE\" \\\n",
    "                        --out-file /dev/null \\\n",
    "                        --submit 600 \\\n",
    "                        ${INVESTOR_ADDR[@]}"
   ]
  },
  {
   "cell_type": "markdown",
   "id": "2e548b5e-5be9-4621-9bc6-0bfa1a7ec80a",
   "metadata": {},
   "source": [
    "#### Keys for Borrowers"
   ]
  },
  {
   "cell_type": "markdown",
   "id": "5b45fcc3-ed27-4b43-b21c-ad98250ec1c2",
   "metadata": {},
   "source": [
    "Build the signing keys and payment addresses for the borrowers from the `1852H/1815H/0H/0/` sequence of key derivations."
   ]
  },
  {
   "cell_type": "code",
   "execution_count": 40,
   "id": "c9b6da19-7e7c-4cc5-9132-1f658f8dd086",
   "metadata": {},
   "outputs": [
    {
     "name": "stdout",
     "output_type": "stream",
     "text": [
      "Borrower 1 = 1852H/1815H/0H/0/5 = addr_test1qqxrzfv0v8l0lahyc5qsgpug66dafp8njl278g0pter7e3xr7cz4mu6gh005gdck67p7y9d8s8zsfgjkcdy75mrjh6jqcjuuw0\n",
      "Borrower 2 = 1852H/1815H/0H/0/6 = addr_test1qqqfzyuqkvrr7ajgk887sqac8lgzatc6el9uxke4x5g5dg7r7cz4mu6gh005gdck67p7y9d8s8zsfgjkcdy75mrjh6jqkmrpwu\n"
     ]
    }
   ],
   "source": [
    "mkdir -p tmp\n",
    "for j in `seq 1 $N_BORROWERS`\n",
    "do\n",
    "  BORROWER_SKEY[$j]=tmp/borrower-$j.skey\n",
    "  BORROWER_ADDR[$j]=$(\n",
    "  cardano-wallet key child 1852H/1815H/0H/0/$((1 + N_STABILIZERS + N_INVESTORS + j)) < $ROOT_PRV \\\n",
    "  | cardano-cli key convert-cardano-address-key --shelley-payment-key --signing-key-file /dev/stdin --out-file ${BORROWER_SKEY[$j]}\n",
    "  cardano-cli key verification-key --signing-key-file ${BORROWER_SKEY[$j]} --verification-key-file /dev/stdout \\\n",
    "  | cardano-cli address build --testnet-magic $CARDANO_TESTNET_MAGIC --payment-verification-key-file /dev/stdin --stake-verification-key-file $TREASURY/william-shakespeare.stake.vkey \\\n",
    "  )\n",
    "  echo \"Borrower $j = 1852H/1815H/0H/0/$((1 +N_STABILIZERS + N_INVESTORS + j)) = ${BORROWER_ADDR[$j]}\"\n",
    "done"
   ]
  },
  {
   "cell_type": "markdown",
   "id": "0d9f1913-23bf-4161-8985-a2423c9e66de",
   "metadata": {},
   "source": [
    "Send 25 ADA to each borrower."
   ]
  },
  {
   "cell_type": "code",
   "execution_count": 41,
   "id": "e989cc2c-1b50-4252-b676-289d07b39ed1",
   "metadata": {},
   "outputs": [
    {
     "name": "stdout",
     "output_type": "stream",
     "text": [
      "TxId \"de420d4192e780a48cc8742209230e388f5285689d060a271d2bc40a9c5c1b23\"\n"
     ]
    }
   ],
   "source": [
    "marlowe-cli util faucet --lovelace \"$((25 * ADA))\" \\\n",
    "                        --faucet-address \"$FAUCET_ADDRESS\" \\\n",
    "                        --required-signer \"$FAUCET_SKEY_FILE\" \\\n",
    "                        --out-file /dev/null \\\n",
    "                        --submit 600 \\\n",
    "                        ${BORROWER_ADDR[@]}"
   ]
  },
  {
   "cell_type": "markdown",
   "id": "b0a82037-fcc8-496a-a64b-e89bd1037d9f",
   "metadata": {},
   "source": [
    "### Mint the Djed\n",
    "\n",
    "The contract will use fake Djed for payments."
   ]
  },
  {
   "cell_type": "code",
   "execution_count": 42,
   "id": "d9f6ad4a-bf12-48a0-9a75-f994c6035349",
   "metadata": {},
   "outputs": [],
   "source": [
    "DJED_NAME=DjedUSD"
   ]
  },
  {
   "cell_type": "code",
   "execution_count": 43,
   "id": "8aacac15-690a-480e-96d6-6c905f9c76cb",
   "metadata": {},
   "outputs": [
    {
     "name": "stdout",
     "output_type": "stream",
     "text": [
      "22000000\n"
     ]
    }
   ],
   "source": [
    "TOTAL_DJED=$((\n",
    "    N_STABILIZERS * MAXIMUM_STABILIZATION\n",
    "  + N_INVESTORS   * MAXIMUM_INVESTMENT\n",
    "  + N_BORROWERS   * MAXIMUM_LOAN\n",
    "))\n",
    "echo $TOTAL_DJED"
   ]
  },
  {
   "cell_type": "code",
   "execution_count": 44,
   "id": "808dec1c-a485-4fdd-b245-60e23f694abf",
   "metadata": {},
   "outputs": [
    {
     "name": "stdout",
     "output_type": "stream",
     "text": [
      "PolicyID \"ea94ed18f7a5bf2199f638360443a31ab3ec639108dde4c9e3e9bfee\"\n"
     ]
    }
   ],
   "source": [
    "DJED_POLICY=$(\n",
    "marlowe-cli util mint --required-signer \"$ADMINISTRATOR_SKEY\" \\\n",
    "                      --change-address \"$ADMINISTRATOR_ADDR\" \\\n",
    "                      --expires 1000000011 \\\n",
    "                      --count \"$TOTAL_DJED\" \\\n",
    "                      --out-file /dev/null \\\n",
    "                      --submit 600 \\\n",
    "                      \"$DJED_NAME\" \\\n",
    "| sed -e 's/^PolicyID \"\\(.*\\)\"$/\\1/' \\\n",
    ")\n",
    "echo 'PolicyID \"'$DJED_POLICY'\"'"
   ]
  },
  {
   "cell_type": "code",
   "execution_count": 45,
   "id": "f94d45db-bd70-4b55-9146-f4dd52edb4d4",
   "metadata": {},
   "outputs": [
    {
     "name": "stdout",
     "output_type": "stream",
     "text": [
      "ea94ed18f7a5bf2199f638360443a31ab3ec639108dde4c9e3e9bfee.DjedUSD\n"
     ]
    }
   ],
   "source": [
    "DJED=$DJED_POLICY.$DJED_NAME\n",
    "echo $DJED"
   ]
  },
  {
   "cell_type": "markdown",
   "id": "cfcf5f3c-6323-463b-b82f-a5b4e9742062",
   "metadata": {},
   "source": [
    "In `cardano-cli` the token name is printed in hexadecimal, so we have . . ."
   ]
  },
  {
   "cell_type": "code",
   "execution_count": 46,
   "id": "1d6ce963-3a23-4a54-835d-15d04e471cb4",
   "metadata": {
    "tags": []
   },
   "outputs": [
    {
     "name": "stdout",
     "output_type": "stream",
     "text": [
      "ea94ed18f7a5bf2199f638360443a31ab3ec639108dde4c9e3e9bfee.446a6564555344\n"
     ]
    }
   ],
   "source": [
    "echo $DJED_POLICY.$(echo -n $DJED_NAME | basenc --base16 | tr '[:upper:]' '[:lower:]')"
   ]
  },
  {
   "cell_type": "markdown",
   "id": "f15bf4bc-3d6e-4ed9-a68d-4d0ed82c3ae5",
   "metadata": {},
   "source": [
    "### Distribute the Djed."
   ]
  },
  {
   "cell_type": "code",
   "execution_count": 47,
   "id": "5abdade4-cf3c-479c-bb7f-5e98375133ca",
   "metadata": {},
   "outputs": [],
   "source": [
    "TXOUT=()\n",
    "for j in `seq 1 $N_STABILIZERS`\n",
    "do\n",
    "  TXOUT+=(\"--tx-out\" \"${STABILIZER_ADDR[$j]}+$MIN_ADA+$MAXIMUM_STABILIZATION\\ $DJED\")\n",
    "done\n",
    "for j in `seq 1 $N_INVESTORS`\n",
    "do\n",
    "  TXOUT+=(\"--tx-out\" \"${INVESTOR_ADDR[$j]}+$MIN_ADA+$MAXIMUM_INVESTMENT\\ $DJED\")\n",
    "done\n",
    "for j in `seq 1 $N_BORROWERS`\n",
    "do\n",
    "  TXOUT+=(\"--tx-out\" \"${BORROWER_ADDR[$j]}+$MIN_ADA+$MAXIMUM_LOAN\\ $DJED\")\n",
    "done"
   ]
  },
  {
   "cell_type": "code",
   "execution_count": 48,
   "id": "63d639fb-88df-44a8-ab0b-e61aa704e2aa",
   "metadata": {},
   "outputs": [
    {
     "name": "stdout",
     "output_type": "stream",
     "text": [
      "TxId \"ba615b1dc8a950f1b74ff8979e65d97f95e2b6ec1f557b4ed55e533ce2273bb6\"\n"
     ]
    }
   ],
   "source": [
    "echo marlowe-cli transaction simple --tx-in \"$(find_ada  $ADMINISTRATOR_ADDR)\" \\\n",
    "                                    --tx-in \"$(find_djed $ADMINISTRATOR_ADDR)\" \\\n",
    "                                    ${TXOUT[@]} \\\n",
    "                                    --change-address $ADMINISTRATOR_ADDR \\\n",
    "                                    --required-signer $ADMINISTRATOR_SKEY \\\n",
    "                                    --out-file /dev/null \\\n",
    "                                    --submit 600 \\\n",
    "| bash"
   ]
  },
  {
   "cell_type": "markdown",
   "id": "0278ea43-e8ac-4b4f-a9a5-4bd93a690f93",
   "metadata": {},
   "source": [
    "### Mint the Role Tokens"
   ]
  },
  {
   "cell_type": "code",
   "execution_count": 49,
   "id": "9e4542a2-b10b-4f17-9a59-ce0c97787a9c",
   "metadata": {},
   "outputs": [],
   "source": [
    "for j in `seq 1 $N_STABILIZERS`\n",
    "do\n",
    "  STABILIZER_ROLE[$j]=$STABILIZER_PREFIX$j\n",
    "done"
   ]
  },
  {
   "cell_type": "code",
   "execution_count": 50,
   "id": "21d3f268-880d-46b8-b666-bf99d9696126",
   "metadata": {},
   "outputs": [],
   "source": [
    "for j in `seq 1 $N_INVESTORS`\n",
    "do\n",
    "  INVESTOR_ROLE[$j]=$INVESTOR_PREFIX$j\n",
    "done"
   ]
  },
  {
   "cell_type": "code",
   "execution_count": 51,
   "id": "261ea405-41c2-4b21-b5ec-40d1ed919270",
   "metadata": {},
   "outputs": [],
   "source": [
    "for j in `seq 1 $N_BORROWERS`\n",
    "do\n",
    "  BORROWER_ROLE[$j]=$BORROWER_PREFIX$j\n",
    "done"
   ]
  },
  {
   "cell_type": "markdown",
   "id": "dffa4b94-5cdd-4803-adc3-75f6ec216840",
   "metadata": {},
   "source": [
    "Mint the role tokens."
   ]
  },
  {
   "cell_type": "code",
   "execution_count": 52,
   "id": "91137ddf-7190-493f-86d6-69236a122576",
   "metadata": {},
   "outputs": [
    {
     "name": "stdout",
     "output_type": "stream",
     "text": [
      "PolicyID \"2cf679e1517d7171ba4a8a35d5ee9fb7f4d016249de49da74065a36f\"\n"
     ]
    }
   ],
   "source": [
    "ROLES_POLICY=$(\n",
    "marlowe-cli util mint --required-signer \"$ADMINISTRATOR_SKEY\" \\\n",
    "                      --change-address \"$ADMINISTRATOR_ADDR\" \\\n",
    "                      --expires 1000000013 \\\n",
    "                      --out-file /dev/null \\\n",
    "                      --submit 600 \\\n",
    "                      $ADMINISTRATOR_ROLE \\\n",
    "                      ${STABILIZER_ROLE[@]} \\\n",
    "                      ${INVESTOR_ROLE[@]} \\\n",
    "                      ${BORROWER_ROLE[@]} \\\n",
    "| sed -e 's/^PolicyID \"\\(.*\\)\"$/\\1/' \\\n",
    ")\n",
    "echo 'PolicyID \"'$ROLES_POLICY'\"'"
   ]
  },
  {
   "cell_type": "markdown",
   "id": "e8df88c8-b2a5-4dbb-b1e7-d7f7adf8f041",
   "metadata": {},
   "source": [
    "View the role tokens."
   ]
  },
  {
   "cell_type": "code",
   "execution_count": 53,
   "id": "d15490ec-d8fc-483c-b0a8-2063021decdd",
   "metadata": {},
   "outputs": [
    {
     "name": "stdout",
     "output_type": "stream",
     "text": [
      "                           TxHash                                 TxIx        Amount\n",
      "--------------------------------------------------------------------------------------\n",
      "25943411c5c8bf0a36be667f3269d0fc809b5234f2ea87d642b0e572d56f024d     0        429423109 lovelace + TxOutDatumNone\n",
      "25943411c5c8bf0a36be667f3269d0fc809b5234f2ea87d642b0e572d56f024d     1        10000000 lovelace + 1 2cf679e1517d7171ba4a8a35d5ee9fb7f4d016249de49da74065a36f.41 + TxOutDatumNone\n",
      "25943411c5c8bf0a36be667f3269d0fc809b5234f2ea87d642b0e572d56f024d     2        10000000 lovelace + 1 2cf679e1517d7171ba4a8a35d5ee9fb7f4d016249de49da74065a36f.5331 + TxOutDatumNone\n",
      "25943411c5c8bf0a36be667f3269d0fc809b5234f2ea87d642b0e572d56f024d     3        10000000 lovelace + 1 2cf679e1517d7171ba4a8a35d5ee9fb7f4d016249de49da74065a36f.4931 + TxOutDatumNone\n",
      "25943411c5c8bf0a36be667f3269d0fc809b5234f2ea87d642b0e572d56f024d     4        10000000 lovelace + 1 2cf679e1517d7171ba4a8a35d5ee9fb7f4d016249de49da74065a36f.4932 + TxOutDatumNone\n",
      "25943411c5c8bf0a36be667f3269d0fc809b5234f2ea87d642b0e572d56f024d     5        10000000 lovelace + 1 2cf679e1517d7171ba4a8a35d5ee9fb7f4d016249de49da74065a36f.4231 + TxOutDatumNone\n",
      "25943411c5c8bf0a36be667f3269d0fc809b5234f2ea87d642b0e572d56f024d     6        10000000 lovelace + 1 2cf679e1517d7171ba4a8a35d5ee9fb7f4d016249de49da74065a36f.4232 + TxOutDatumNone\n"
     ]
    }
   ],
   "source": [
    "query_administrator"
   ]
  },
  {
   "cell_type": "markdown",
   "id": "cbf0953f-4d3f-4e7e-8521-0a3dd646302e",
   "metadata": {},
   "source": [
    "### Distribute the Role Tokens"
   ]
  },
  {
   "cell_type": "code",
   "execution_count": 54,
   "id": "c5bcca02-fc55-4230-9c07-c7da893226b4",
   "metadata": {},
   "outputs": [],
   "source": [
    "TX_IN=($(find_ada  $ADMINISTRATOR_ADDR))\n",
    "TXOUT=()\n",
    "for j in `seq 1 $N_STABILIZERS`\n",
    "do\n",
    "  TXIN+=(\"--tx-in\" \"$(find_role $ADMINISTRATOR_ADDR ${STABILIZER_ROLE[$j]})\")\n",
    "  TXOUT+=(\"--tx-out\" \"${STABILIZER_ADDR[$j]}+$MIN_ADA+1\\ $ROLES_POLICY.${STABILIZER_ROLE[$j]}\")\n",
    "done\n",
    "for j in `seq 1 $N_INVESTORS`\n",
    "do\n",
    "  TXIN+=(\"--tx-in\" \"$(find_role $ADMINISTRATOR_ADDR ${INVESTOR_ROLE[$j]})\")\n",
    "  TXOUT+=(\"--tx-out\" \"${INVESTOR_ADDR[$j]}+$MIN_ADA+1\\ $ROLES_POLICY.${INVESTOR_ROLE[$j]}\")\n",
    "done\n",
    "for j in `seq 1 $N_BORROWERS`\n",
    "do\n",
    "  TXIN+=(\"--tx-in\" \"$(find_role $ADMINISTRATOR_ADDR ${BORROWER_ROLE[$j]})\")\n",
    "  TXOUT+=(\"--tx-out\" \"${BORROWER_ADDR[$j]}+$MIN_ADA+1\\ $ROLES_POLICY.${BORROWER_ROLE[$j]}\")\n",
    "done"
   ]
  },
  {
   "cell_type": "code",
   "execution_count": 55,
   "id": "aca0d9bb-7f44-4d5b-8e0a-4e43d6fad631",
   "metadata": {},
   "outputs": [
    {
     "name": "stdout",
     "output_type": "stream",
     "text": [
      "TxId \"ef288046881fccdb0a25c608297e00e7684fe428cc888041dbfc5612455dc9b6\"\n"
     ]
    }
   ],
   "source": [
    "echo marlowe-cli transaction simple ${TXIN[@]} \\\n",
    "                                    ${TXOUT[@]} \\\n",
    "                                    --change-address \"$ADMINISTRATOR_ADDR\" \\\n",
    "                                    --required-signer \"$ADMINISTRATOR_SKEY\" \\\n",
    "                                    --out-file /dev/null \\\n",
    "                                    --submit 600 \\\n",
    "| bash"
   ]
  },
  {
   "cell_type": "markdown",
   "id": "c6c19a9f-175f-414b-8f09-dd1005e3c5c5",
   "metadata": {},
   "source": [
    "View the role tokens."
   ]
  },
  {
   "cell_type": "code",
   "execution_count": 56,
   "id": "c467b7be-c343-4741-8a1f-ce7a1e3dfc5b",
   "metadata": {},
   "outputs": [
    {
     "name": "stdout",
     "output_type": "stream",
     "text": [
      "UTxOs at the Administor address:\n",
      "                           TxHash                                 TxIx        Amount\n",
      "--------------------------------------------------------------------------------------\n",
      "25943411c5c8bf0a36be667f3269d0fc809b5234f2ea87d642b0e572d56f024d     0        429423109 lovelace + TxOutDatumNone\n",
      "25943411c5c8bf0a36be667f3269d0fc809b5234f2ea87d642b0e572d56f024d     1        10000000 lovelace + 1 2cf679e1517d7171ba4a8a35d5ee9fb7f4d016249de49da74065a36f.41 + TxOutDatumNone\n",
      "ef288046881fccdb0a25c608297e00e7684fe428cc888041dbfc5612455dc9b6     0        39784823 lovelace + TxOutDatumNone\n"
     ]
    }
   ],
   "source": [
    "echo \"UTxOs at the Administor address:\"\n",
    "query_administrator"
   ]
  },
  {
   "cell_type": "code",
   "execution_count": 57,
   "id": "7562feab-fd44-445c-864b-c312e63851d1",
   "metadata": {},
   "outputs": [
    {
     "name": "stdout",
     "output_type": "stream",
     "text": [
      "UTxOs at the Stabilizer 1 address:\n",
      "                           TxHash                                 TxIx        Amount\n",
      "--------------------------------------------------------------------------------------\n",
      "ba615b1dc8a950f1b74ff8979e65d97f95e2b6ec1f557b4ed55e533ce2273bb6     1        2000000 lovelace + 10000000 ea94ed18f7a5bf2199f638360443a31ab3ec639108dde4c9e3e9bfee.446a6564555344 + TxOutDatumNone\n",
      "d15deacc9aabb25dd7eb1398546079685809f343f6e49d86012d528b64d89b1c     1        25000000 lovelace + TxOutDatumNone\n",
      "ef288046881fccdb0a25c608297e00e7684fe428cc888041dbfc5612455dc9b6     1        2000000 lovelace + 1 2cf679e1517d7171ba4a8a35d5ee9fb7f4d016249de49da74065a36f.5331 + TxOutDatumNone\n",
      "\n"
     ]
    }
   ],
   "source": [
    "for j in `seq 1 $N_STABILIZERS`\n",
    "do\n",
    "  echo \"UTxOs at the Stabilizer $j address:\"\n",
    "  query_stabilizer $j\n",
    "  echo\n",
    "done"
   ]
  },
  {
   "cell_type": "code",
   "execution_count": 58,
   "id": "9676e9cd-01b2-415d-a59c-012a5518d953",
   "metadata": {},
   "outputs": [
    {
     "name": "stdout",
     "output_type": "stream",
     "text": [
      "UTxOs at the Investor 1 address:\n",
      "                           TxHash                                 TxIx        Amount\n",
      "--------------------------------------------------------------------------------------\n",
      "51fbe0451fbcfc57f72946c144aae469bee8c2b92bca53dd60b2917a547fde04     1        25000000 lovelace + TxOutDatumNone\n",
      "ba615b1dc8a950f1b74ff8979e65d97f95e2b6ec1f557b4ed55e533ce2273bb6     2        2000000 lovelace + 5000000 ea94ed18f7a5bf2199f638360443a31ab3ec639108dde4c9e3e9bfee.446a6564555344 + TxOutDatumNone\n",
      "ef288046881fccdb0a25c608297e00e7684fe428cc888041dbfc5612455dc9b6     2        2000000 lovelace + 1 2cf679e1517d7171ba4a8a35d5ee9fb7f4d016249de49da74065a36f.4931 + TxOutDatumNone\n",
      "\n",
      "UTxOs at the Investor 2 address:\n",
      "                           TxHash                                 TxIx        Amount\n",
      "--------------------------------------------------------------------------------------\n",
      "51fbe0451fbcfc57f72946c144aae469bee8c2b92bca53dd60b2917a547fde04     2        25000000 lovelace + TxOutDatumNone\n",
      "ba615b1dc8a950f1b74ff8979e65d97f95e2b6ec1f557b4ed55e533ce2273bb6     3        2000000 lovelace + 5000000 ea94ed18f7a5bf2199f638360443a31ab3ec639108dde4c9e3e9bfee.446a6564555344 + TxOutDatumNone\n",
      "ef288046881fccdb0a25c608297e00e7684fe428cc888041dbfc5612455dc9b6     3        2000000 lovelace + 1 2cf679e1517d7171ba4a8a35d5ee9fb7f4d016249de49da74065a36f.4932 + TxOutDatumNone\n",
      "\n"
     ]
    }
   ],
   "source": [
    "for j in `seq 1 $N_INVESTORS`\n",
    "do\n",
    "  echo \"UTxOs at the Investor $j address:\"\n",
    "  query_investor $j\n",
    "  echo\n",
    "done"
   ]
  },
  {
   "cell_type": "code",
   "execution_count": 59,
   "id": "01915f85-3aa8-4315-996b-506bd1f5f14b",
   "metadata": {},
   "outputs": [
    {
     "name": "stdout",
     "output_type": "stream",
     "text": [
      "UTxOs at the Borrower 1 address:\n",
      "                           TxHash                                 TxIx        Amount\n",
      "--------------------------------------------------------------------------------------\n",
      "ba615b1dc8a950f1b74ff8979e65d97f95e2b6ec1f557b4ed55e533ce2273bb6     4        2000000 lovelace + 1000000 ea94ed18f7a5bf2199f638360443a31ab3ec639108dde4c9e3e9bfee.446a6564555344 + TxOutDatumNone\n",
      "de420d4192e780a48cc8742209230e388f5285689d060a271d2bc40a9c5c1b23     1        25000000 lovelace + TxOutDatumNone\n",
      "ef288046881fccdb0a25c608297e00e7684fe428cc888041dbfc5612455dc9b6     4        2000000 lovelace + 1 2cf679e1517d7171ba4a8a35d5ee9fb7f4d016249de49da74065a36f.4231 + TxOutDatumNone\n",
      "\n",
      "UTxOs at the Borrower 2 address:\n",
      "                           TxHash                                 TxIx        Amount\n",
      "--------------------------------------------------------------------------------------\n",
      "ba615b1dc8a950f1b74ff8979e65d97f95e2b6ec1f557b4ed55e533ce2273bb6     5        2000000 lovelace + 1000000 ea94ed18f7a5bf2199f638360443a31ab3ec639108dde4c9e3e9bfee.446a6564555344 + TxOutDatumNone\n",
      "de420d4192e780a48cc8742209230e388f5285689d060a271d2bc40a9c5c1b23     2        25000000 lovelace + TxOutDatumNone\n",
      "ef288046881fccdb0a25c608297e00e7684fe428cc888041dbfc5612455dc9b6     5        2000000 lovelace + 1 2cf679e1517d7171ba4a8a35d5ee9fb7f4d016249de49da74065a36f.4232 + TxOutDatumNone\n",
      "\n"
     ]
    }
   ],
   "source": [
    "for j in `seq 1 $N_BORROWERS`\n",
    "do\n",
    "  echo \"UTxOs at the Borrower $j address:\"\n",
    "  query_borrower $j\n",
    "  echo\n",
    "done"
   ]
  },
  {
   "cell_type": "markdown",
   "id": "ff38d10f-42a0-45e5-9421-a4708e1bf901",
   "metadata": {},
   "source": [
    "### Publish the Marlowe reference script"
   ]
  },
  {
   "cell_type": "code",
   "execution_count": 60,
   "id": "cf38aa9a-be8f-4c44-b5b1-6674012be4a6",
   "metadata": {},
   "outputs": [
    {
     "name": "stdout",
     "output_type": "stream",
     "text": [
      "\n",
      "Fee: Lovelace 844069\n",
      "Size: 15409 / 16384 = 94%\n",
      "Execution units:\n",
      "  Memory: 0 / 14000000 = 0%\n",
      "  Steps: 0 / 10000000000 = 0%\n",
      "\n",
      "Marlowe script published at address: addr_test1vrw0tuh8l95thdqr65dmpcfqnmcw0en7v7vhgegck7gzqgswa07sw\n",
      "\n",
      "Marlowe script hash: \"6a9391d6aa51af28dd876ebb5565b69d1e83e5ac7861506bd29b56b0\"\n",
      "\n",
      "Marlowe ref script UTxO min ADA: Lovelace 12434350\n",
      "\n",
      "Payout script published at address: addr_test1vpa36uuyf95kxpcleldsncedlhjru6vdmh2vnpkdrsz4u6cll9zas\n",
      "\n",
      "Payout script hash: \"49076eab20243dc9462511fb98a9cfb719f86e9692288139b7c91df3\"\n",
      "\n",
      "Payout ref script UTxO min ADA: Lovelace 12434350\n"
     ]
    }
   ],
   "source": [
    "marlowe-cli transaction publish --required-signer \"$FAUCET_SKEY_FILE\" \\\n",
    "                                --change-address \"$FAUCET_ADDRESS\" \\\n",
    "                                --permanently-without-staking \\\n",
    "                                --out-file /dev/null \\\n",
    "                                --submit 600"
   ]
  },
  {
   "cell_type": "code",
   "execution_count": 61,
   "id": "92d5ce80-94c8-446e-89b5-8e025bddc3f9",
   "metadata": {},
   "outputs": [
    {
     "name": "stdout",
     "output_type": "stream",
     "text": [
      "\n",
      "Searching for reference script at address: addr_test1vrw0tuh8l95thdqr65dmpcfqnmcw0en7v7vhgegck7gzqgswa07sw\n",
      "\n",
      "Expected reference script hash: \"6a9391d6aa51af28dd876ebb5565b69d1e83e5ac7861506bd29b56b0\"\n",
      "\n",
      "Searching for reference script at address: addr_test1vpa36uuyf95kxpcleldsncedlhjru6vdmh2vnpkdrsz4u6cll9zas\n",
      "\n",
      "Expected reference script hash: \"49076eab20243dc9462511fb98a9cfb719f86e9692288139b7c91df3\"\n"
     ]
    }
   ],
   "source": [
    "PUBLISHED=$(marlowe-cli transaction find-published)"
   ]
  },
  {
   "cell_type": "code",
   "execution_count": 62,
   "id": "d961c797-47bc-4f2c-b9e5-d902ed8f8892",
   "metadata": {},
   "outputs": [
    {
     "name": "stdout",
     "output_type": "stream",
     "text": [
      "marlowe:\n",
      "  hash: 6a9391d6aa51af28dd876ebb5565b69d1e83e5ac7861506bd29b56b0\n",
      "  txIn: 087f21f109a997193421a81886ea8c6397d336d19e696457b9c5c7aefdc31873#1\n",
      "payout:\n",
      "  hash: 49076eab20243dc9462511fb98a9cfb719f86e9692288139b7c91df3\n",
      "  txIn: 087f21f109a997193421a81886ea8c6397d336d19e696457b9c5c7aefdc31873#2\n"
     ]
    }
   ],
   "source": [
    "json2yaml <(echo \"$PUBLISHED\")"
   ]
  },
  {
   "cell_type": "markdown",
   "id": "519e08a7-1372-477c-b7ba-1ab013673ca1",
   "metadata": {},
   "source": [
    "## Generate the Contract"
   ]
  },
  {
   "cell_type": "markdown",
   "id": "16e9346d-b183-4e58-92a0-fd63dff0d9fb",
   "metadata": {},
   "source": [
    "Run a Haskell program that generates the contract."
   ]
  },
  {
   "cell_type": "code",
   "execution_count": 63,
   "id": "5e86a115-5b6a-4e65-9a36-63b781eb4685",
   "metadata": {},
   "outputs": [],
   "source": [
    "runhaskell << EOI\n",
    "\n",
    "{-# LANGUAGE BlockArguments     #-}\n",
    "{-# LANGUAGE NumericUnderscores #-}\n",
    "{-# LANGUAGE OverloadedStrings  #-}\n",
    "{-# LANGUAGE RecordWildCards    #-}\n",
    "\n",
    "\n",
    "module Main (\n",
    "  main\n",
    ") where\n",
    "\n",
    "\n",
    "import Control.Monad ((<=<))\n",
    "import Control.Monad.Writer (Writer, runWriter, tell)\n",
    "import Data.Aeson ((.=), encodeFile,object)\n",
    "import Data.Default (Default(..))\n",
    "import Data.Foldable (foldrM)\n",
    "import Data.Maybe (fromMaybe)\n",
    "import Data.String (fromString)\n",
    "import Language.Marlowe.Core.V1.Semantics.Types\n",
    "import Plutus.V1.Ledger.Api (BuiltinByteString, POSIXTime(..), TokenName)\n",
    "import Language.Marlowe.CLI.Merkle (deepMerkleize)\n",
    "import Language.Marlowe.CLI.Types (Continuations)\n",
    "\n",
    "\n",
    "data Scenario =\n",
    "  Scenario\n",
    "  {\n",
    "    nSteps               :: Int\n",
    "  , timeoutStart         :: Integer\n",
    "  , timeoutDelta         :: Integer\n",
    "  , timeoutFinal         :: POSIXTime\n",
    "  , nStabilizers         :: Int\n",
    "  , nInvestors           :: Int\n",
    "  , nBorrowers           :: Int\n",
    "  , administratorName    :: String\n",
    "  , stabilizerPrefix     :: String\n",
    "  , investorPrefix       :: String\n",
    "  , borrowerPrefix       :: String\n",
    "  , stabilizeBound       :: [Bound]\n",
    "  , investBound          :: [Bound]\n",
    "  , loanBound            :: [Bound]\n",
    "  , percentInterest      :: Integer\n",
    "  , percentStabilization :: Integer\n",
    "  , djed                 :: Token\n",
    "  }\n",
    "\n",
    "instance Default Scenario where\n",
    "  def = \n",
    "    Scenario\n",
    "    {\n",
    "      nSteps               = $N_STEPS\n",
    "    , timeoutStart         = $TIMEOUT_START\n",
    "    , timeoutDelta         = $TIMEOUT_DELTA\n",
    "    , timeoutFinal         = POSIXTime $TIMEOUT_FINAL\n",
    "    , nStabilizers         = $N_STABILIZERS\n",
    "    , nInvestors           = $N_INVESTORS\n",
    "    , nBorrowers           = $N_BORROWERS\n",
    "    , administratorName    = \"$ADMINISTRATOR_ROLE\"\n",
    "    , stabilizerPrefix     = \"$STABILIZER_PREFIX\"\n",
    "    , investorPrefix       = \"$INVESTOR_PREFIX\"\n",
    "    , borrowerPrefix       = \"$BORROWER_PREFIX\"\n",
    "    , stabilizeBound       = [Bound $MINIMUM_STABILIZATION $MAXIMUM_STABILIZATION]\n",
    "    , investBound          = [Bound $MINIMUM_INVESTMENT    $MAXIMUM_INVESTMENT   ]\n",
    "    , loanBound            = [Bound $MINIMUM_LOAN          $MAXIMUM_LOAN         ]\n",
    "    , percentInterest      = $PERCENT_INTEREST\n",
    "    , percentStabilization = $PERCENT_STABILIZATION\n",
    "    , djed                 = Token \"$DJED_POLICY\" \"$DJED_NAME\"\n",
    "    }\n",
    "\n",
    "\n",
    "main :: IO ()\n",
    "main =\n",
    "  let\n",
    "    (contract, continuations) = buildContract def\n",
    "  in\n",
    "    encodeFile \"$BASENAME.merkleization\"\n",
    "      $ object\n",
    "        [\n",
    "          \"contract\"      .= contract\n",
    "        , \"continuations\" .= continuations\n",
    "        ]\n",
    "\n",
    "\n",
    "buildContract :: Scenario -> (Contract, Continuations)\n",
    "buildContract scenario@Scenario{..} =\n",
    "  let\n",
    "    timeouts = [POSIXTime $ timeoutStart + toInteger i * timeoutDelta | i <- [1..nSteps]]\n",
    "  in\n",
    "    runWriter $ foldrM (makeStep scenario) Close timeouts\n",
    "\n",
    "\n",
    "defaultBound :: [Bound]\n",
    "defaultBound = [Bound 1 1_000_000_000_000]\n",
    "\n",
    "\n",
    "makeParty :: String -> Int -> Party\n",
    "makeParty name i = Role . fromString $ name <> show i\n",
    "\n",
    "\n",
    "deposit :: Scenario\n",
    "        -> String\n",
    "        -> String\n",
    "        -> Int\n",
    "        -> Maybe Party\n",
    "        -> [Bound]\n",
    "        -> (Value Observation -> Contract -> Writer Continuations Contract)\n",
    "        -> Contract\n",
    "        -> Writer Continuations [Case Contract]\n",
    "deposit Scenario{..} name prefix i recipient bound f continuation =\n",
    "  let\n",
    "    party = makeParty prefix i\n",
    "    party' = fromMaybe party recipient\n",
    "    choice = ChoiceId (fromString name) party\n",
    "    value = ChoiceValue choice\n",
    "  in\n",
    "    sequence\n",
    "      [\n",
    "        pure\n",
    "          $ Case (Choice choice bound)\n",
    "            continuation\n",
    "      , Case (Deposit party' party djed value)\n",
    "          <$> f value continuation\n",
    "      ]\n",
    "\n",
    "\n",
    "stabilization :: ValueId\n",
    "stabilization = ValueId \"s\"\n",
    "\n",
    "\n",
    "stabilize :: Scenario -> Int -> Contract -> Writer Continuations [Case Contract]\n",
    "stabilize scenario@Scenario{..} i =\n",
    "  deposit scenario \"S\" stabilizerPrefix i Nothing stabilizeBound\n",
    "    (stabilization =+)\n",
    " \n",
    "\n",
    "assets :: ValueId\n",
    "assets = ValueId \"a\"\n",
    "\n",
    "\n",
    "equity :: Int -> ValueId\n",
    "equity = ValueId . (\"e\" <>) . fromString . show\n",
    "\n",
    "\n",
    "invest :: Scenario -> Int -> Contract -> Writer Continuations [Case Contract]\n",
    "invest scenario@Scenario{..} i =\n",
    "  deposit scenario \"I\" investorPrefix i Nothing investBound\n",
    "    $ \\value -> (assets   =+ value)\n",
    "                  <=< (equity i =+ value)\n",
    "\n",
    "\n",
    "withdraw :: Scenario\n",
    "         -> Int\n",
    "         -> Contract\n",
    "         -> Writer Continuations [Case Contract]\n",
    "withdraw Scenario{..} i continuation =\n",
    "  let\n",
    "    party = makeParty investorPrefix i\n",
    "    choice = ChoiceId \"W\" party\n",
    "    value = ChoiceValue choice\n",
    "    funds = AvailableMoney party djed\n",
    "  in\n",
    "    (: [])\n",
    "      . Case (Choice choice defaultBound)\n",
    "          <$> do\n",
    "                c <-\n",
    "                  mPay party (Party party) djed value\n",
    "                    =<< assets   =- value\n",
    "                    =<< (equity i =- value)\n",
    "                        continuation\n",
    "                c' <-\n",
    "                  mPay party (Party party) djed funds\n",
    "                    =<< assets   =- funds\n",
    "                    =<< (equity i =- funds)\n",
    "                        continuation\n",
    "                mIf (value @<= funds) c c'\n",
    "\n",
    "\n",
    "lend :: Scenario\n",
    "     -> Party\n",
    "     -> Value Observation\n",
    "     -> Value Observation\n",
    "     -> Int\n",
    "     -> Contract\n",
    "     -> Writer Continuations Contract\n",
    "lend Scenario{..} borrower principal interest i =\n",
    "  let\n",
    "    party = makeParty investorPrefix i\n",
    "    funds = AvailableMoney party djed\n",
    "    assets' = UseValue assets\n",
    "    principal' = (principal @* funds) @/ assets'\n",
    "    interest'  = (interest  @* funds) @/ assets'\n",
    "  in\n",
    "    mPay party (Party borrower) djed principal'\n",
    "      <=< equity i =+ interest'\n",
    "\n",
    "\n",
    "liabilities :: ValueId\n",
    "liabilities = ValueId \"l\"\n",
    "\n",
    "\n",
    "loan :: Scenario\n",
    "     -> Int\n",
    "     -> Contract\n",
    "     -> Writer Continuations [Case Contract]\n",
    "loan scenario@Scenario{..} i continuation =\n",
    "  let\n",
    "    party = Role $ fromString administratorName\n",
    "    borrower = makeParty borrowerPrefix i\n",
    "    choice = ChoiceId (fromString $ \"L\" <> show i) party\n",
    "    principal = ChoiceValue choice\n",
    "    assets' = UseValue assets\n",
    "    stabilization' = UseValue stabilization\n",
    "  in\n",
    "    (: [])\n",
    "      . Case (Choice choice loanBound)\n",
    "      <$> let\n",
    "            interest = principal @% percentInterest\n",
    "            debt = principal @+ interest\n",
    "          in\n",
    "            do\n",
    "              c <-\n",
    "                flip (foldrM $ lend scenario borrower principal interest) [1..nInvestors]\n",
    "                  =<< liabilities =+ debt\n",
    "                  =<< (assets      =- principal)\n",
    "                      continuation\n",
    "              mIf ((principal @<= assets') @&& (stabilization' @>= (debt @% percentStabilization)))\n",
    "                c continuation\n",
    "\n",
    "\n",
    "restore :: Scenario\n",
    "        -> Value Observation\n",
    "        -> Int\n",
    "        -> Contract\n",
    "        -> Writer Continuations Contract\n",
    "restore Scenario{..} repayment i =\n",
    "  let\n",
    "    administrator = Role $ fromString administratorName\n",
    "    party = makeParty investorPrefix i\n",
    "    equity' = UseValue $ equity i\n",
    "    assets' = AvailableMoney party djed\n",
    "    liabilities' = UseValue liabilities\n",
    "    share = (repayment @* (equity' @- assets')) @/ liabilities'\n",
    "  in\n",
    "    mPay administrator (Account party) djed share\n",
    "\n",
    "\n",
    "repay :: Scenario\n",
    "      -> Int\n",
    "      -> Contract\n",
    "      -> Writer Continuations [Case Contract]\n",
    "repay scenario@Scenario{..} i =\n",
    "  deposit scenario \"R\" borrowerPrefix i (Just . Role $ fromString administratorName) defaultBound\n",
    "    $ \\repayment -> flip (foldrM $ restore scenario repayment) [1..nInvestors]\n",
    "                      <=< (liabilities =- repayment)\n",
    "                      <=< (assets      =+ repayment)\n",
    "\n",
    "\n",
    "gather :: Scenario\n",
    "       -> Value Observation\n",
    "       -> ValueId\n",
    "       -> String\n",
    "       -> Int\n",
    "       -> Contract\n",
    "       -> Writer Continuations Contract\n",
    "gather Scenario{..} amount basis prefix i = \n",
    "  let\n",
    "    administrator = Role $ fromString administratorName\n",
    "    party = makeParty prefix i\n",
    "    funds = AvailableMoney party djed\n",
    "    basis' = UseValue basis\n",
    "    share = (amount @* funds) @/ basis'\n",
    "  in\n",
    "    mPay party (Account administrator) djed share\n",
    "\n",
    "\n",
    "scatter :: Scenario\n",
    "        -> ValueId\n",
    "        -> String\n",
    "        -> Int\n",
    "        -> Contract\n",
    "        -> Writer Continuations Contract\n",
    "scatter Scenario{..} basis prefix i =\n",
    "  let\n",
    "    administrator = Role $ fromString administratorName\n",
    "    party = makeParty prefix i\n",
    "    funds = AvailableMoney party djed\n",
    "    basis' = UseValue basis\n",
    "    amount = AvailableMoney administrator djed\n",
    "    share = (amount @* funds) @/ basis'\n",
    "  in\n",
    "    mPay administrator (Account party) djed share\n",
    "\n",
    "\n",
    "terminate :: Scenario\n",
    "          -> Writer Continuations [Case Contract]\n",
    "terminate scenario@Scenario{..} =\n",
    "  let\n",
    "    party = Role $ fromString administratorName\n",
    "    choice = ChoiceId \"T\" party\n",
    "    liabilities' = UseValue liabilities\n",
    "  in\n",
    "    (: [])\n",
    "      . Case (Choice choice [Bound 1 1])\n",
    "        <$> let\n",
    "              payout party = mPay party (Party party) djed (AvailableMoney party djed)\n",
    "              exit =\n",
    "                flip (foldrM $ payout . makeParty stabilizerPrefix) [1..nStabilizers]\n",
    "                  =<< flip (foldrM $ payout . makeParty investorPrefix) [1..nInvestors]\n",
    "                  =<< payout (Role $ fromString administratorName)\n",
    "                      Close\n",
    "            in\n",
    "              do\n",
    "                c <-\n",
    "                    flip (foldrM $ gather  scenario liabilities' stabilization stabilizerPrefix) [1..nStabilizers]\n",
    "                      =<< flip (foldrM $ scatter scenario assets investorPrefix  ) [1..nInvestors  ]\n",
    "                      =<< exit\n",
    "                c' <-\n",
    "                    flip (foldrM $ gather  scenario (NegValue liabilities') assets investorPrefix  ) [1..nInvestors  ]\n",
    "                      =<< flip (foldrM $ scatter scenario stabilization stabilizerPrefix) [1..nStabilizers]\n",
    "                      =<< exit\n",
    "                mIf (liabilities' @>= Constant 0) c c'\n",
    "\n",
    "\n",
    "makeStep :: Scenario\n",
    "         -> Timeout\n",
    "         -> Contract\n",
    "         -> Writer Continuations Contract\n",
    "makeStep scenario@Scenario{..} timeout continuation =\n",
    "  do\n",
    "    cs <-\n",
    "        fmap concat . sequence\n",
    "          $  [stabilize scenario i continuation | i <- [1..nStabilizers]]\n",
    "          <> [invest    scenario i continuation | i <- [1..nInvestors]  ]\n",
    "          <> [withdraw  scenario i continuation | i <- [1..nInvestors]  ]\n",
    "          <> [loan      scenario i continuation | i <- [1..nBorrowers]  ]\n",
    "          <> [repay     scenario i continuation | i <- [1..nBorrowers]  ]\n",
    "          <> [terminate scenario                                        ]\n",
    "    c <- merkleizeTimeout timeoutFinal continuation\n",
    "    deepMerkleize\n",
    "      $ When cs timeout c\n",
    "\n",
    "\n",
    "merkleizeTimeout :: Timeout\n",
    "                 -> Contract\n",
    "                 -> Writer Continuations Contract\n",
    "merkleizeTimeout timeout continuation =\n",
    "  deepMerkleize\n",
    "    $ When\n",
    "      [\n",
    "        Case (Notify TrueObs )\n",
    "        continuation\n",
    "      ]\n",
    "      timeout\n",
    "      Close\n",
    "\n",
    "\n",
    "pause :: Contract\n",
    "      -> Writer Continuations Contract\n",
    "pause = merkleizeTimeout $ POSIXTime $TIMEOUT_FINAL\n",
    "\n",
    "\n",
    "mPay :: AccountId\n",
    "     -> Payee\n",
    "     -> Token\n",
    "     -> Value Observation\n",
    "     -> Contract\n",
    "     -> Writer Continuations Contract\n",
    "mPay a p t v c = pause $ Pay a p t v c\n",
    "\n",
    "\n",
    "mIf :: Observation\n",
    "    -> Contract\n",
    "    -> Contract\n",
    "    -> Writer Continuations Contract\n",
    "mIf o c c' = pause $ If o c c'\n",
    "\n",
    "\n",
    "mWhen :: [Case Contract]\n",
    "      -> Timeout\n",
    "      -> Contract\n",
    "      -> Writer Continuations Contract\n",
    "mWhen cs t c = pause $ When cs t c\n",
    "\n",
    "\n",
    "mLet :: ValueId\n",
    "     -> Value Observation\n",
    "     -> Contract\n",
    "     -> Writer Continuations Contract\n",
    "mLet i v c = pause $ Let i v c\n",
    "\n",
    "\n",
    "\n",
    "(=+) :: ValueId -> Value Observation -> (Contract -> Writer Continuations Contract)\n",
    "variable =+ value = mLet variable $ UseValue variable @+ value\n",
    "\n",
    "(=-) :: ValueId -> Value Observation -> (Contract -> Writer Continuations Contract)\n",
    "variable =- value = mLet variable $ UseValue variable @- value\n",
    "\n",
    "(=:) :: ValueId -> Integer -> (Contract -> Writer Continuations Contract)\n",
    "variable =: value = mLet variable $ Constant value\n",
    "\n",
    "(@%) :: Value Observation -> Integer -> Value Observation\n",
    "value @% rate = DivValue (MulValue value $ Constant rate) (Constant 100)\n",
    "\n",
    "(@+%) :: Value Observation -> Integer -> Value Observation\n",
    "value @+% rate = DivValue (MulValue value (AddValue (Constant rate) $ Constant 0)) (Constant 100)\n",
    "\n",
    "(@+) :: Value Observation -> Value Observation -> Value Observation\n",
    "x @+ y =AddValue x y \n",
    "\n",
    "(@-) :: Value Observation -> Value Observation -> Value Observation\n",
    "x @- y = SubValue x y\n",
    "\n",
    "(@*) :: Value Observation -> Value Observation -> Value Observation\n",
    "x @* y = MulValue x y\n",
    "\n",
    "(@/) :: Value Observation -> Value Observation -> Value Observation\n",
    "x @/ y = DivValue x y\n",
    "\n",
    "(@<) :: Value Observation -> Value Observation -> Observation\n",
    "x @< y = ValueLT x y\n",
    "\n",
    "(@<=) :: Value Observation -> Value Observation -> Observation\n",
    "x @<= y = ValueLE x y\n",
    "\n",
    "(@>) :: Value Observation -> Value Observation -> Observation\n",
    "x @> y = ValueGT x y\n",
    "\n",
    "(@>=) :: Value Observation -> Value Observation -> Observation\n",
    "x @>= y = ValueGE x y\n",
    "\n",
    "(@==) :: Value Observation -> Value Observation -> Observation\n",
    "x @== y = ValueEQ x y\n",
    "\n",
    "(@&&) :: Observation -> Observation -> Observation\n",
    "x @&& y = AndObs x y\n",
    "\n",
    "(@||) :: Observation -> Observation -> Observation\n",
    "x @|| y = OrObs x y\n",
    "\n",
    "EOI"
   ]
  },
  {
   "cell_type": "markdown",
   "id": "2e52f3bc-82aa-42d3-a629-22f766cd8704",
   "metadata": {},
   "source": [
    "How large is the contract?"
   ]
  },
  {
   "cell_type": "code",
   "execution_count": 64,
   "id": "fc5da0ab-aa40-427d-8a44-15c75c2f1018",
   "metadata": {},
   "outputs": [
    {
     "name": "stdout",
     "output_type": "stream",
     "text": [
      "-rw-rw-r-- 1 bbush bbush-upg 1.5M Sep 24 22:02 stabilized-collective-loan.merkleization\n"
     ]
    }
   ],
   "source": [
    "ls -lh $BASENAME.merkleization"
   ]
  },
  {
   "cell_type": "markdown",
   "id": "6eabc2ee-f495-4154-b1ad-3e54727f3e4a",
   "metadata": {},
   "source": [
    "How many `Case` statements does it contain?"
   ]
  },
  {
   "cell_type": "code",
   "execution_count": 65,
   "id": "4ec374b8-7034-4f1b-b124-69fd4b90e424",
   "metadata": {},
   "outputs": [
    {
     "name": "stdout",
     "output_type": "stream",
     "text": [
      "5104\n"
     ]
    }
   ],
   "source": [
    "sed -e 's/case/&\\n/g' $BASENAME.merkleization | grep case | wc -l"
   ]
  },
  {
   "cell_type": "markdown",
   "id": "8957004e-4150-491b-b492-0e864b80348d",
   "metadata": {},
   "source": [
    "How many merkleizations does it contain?"
   ]
  },
  {
   "cell_type": "code",
   "execution_count": 66,
   "id": "0b9e1c98-18d9-4e58-9464-3a50becea8e5",
   "metadata": {},
   "outputs": [
    {
     "name": "stdout",
     "output_type": "stream",
     "text": [
      "\u001b[0;39m1031\u001b[0m\n"
     ]
    }
   ],
   "source": [
    "jq '.continuations | length' $BASENAME.merkleization"
   ]
  },
  {
   "cell_type": "markdown",
   "id": "7594380b-a882-4e56-8bd8-14694c5547f2",
   "metadata": {},
   "source": [
    "Separate the contract from the merkleizations."
   ]
  },
  {
   "cell_type": "code",
   "execution_count": 67,
   "id": "31cb1db2-d591-44af-b829-783aed7aacc0",
   "metadata": {},
   "outputs": [],
   "source": [
    "jq .contract $BASENAME.merkleization > $BASENAME-1.contract"
   ]
  },
  {
   "cell_type": "markdown",
   "id": "456707bf-adfb-4171-b042-1b0756dd4063",
   "metadata": {},
   "source": [
    "## Set the initial state\n",
    "\n",
    "The Seller will deposit 2 Ada when the contract is created."
   ]
  },
  {
   "cell_type": "code",
   "execution_count": 68,
   "id": "4b95ea64-87d8-4678-b438-0559b0a1c704",
   "metadata": {},
   "outputs": [],
   "source": [
    "yaml2json << EOI > $BASENAME-1.state\n",
    "accounts:\n",
    "- - - role_token: $ADMINISTRATOR_ROLE\n",
    "    - currency_symbol: ''\n",
    "      token_name: ''\n",
    "  - $MIN_ADA\n",
    "boundValues: []\n",
    "choices: []\n",
    "minTime: $NOW\n",
    "EOI"
   ]
  },
  {
   "cell_type": "code",
   "execution_count": 69,
   "id": "03787fe2-9b14-4d92-a014-be6e6095eb7e",
   "metadata": {},
   "outputs": [
    {
     "name": "stdout",
     "output_type": "stream",
     "text": [
      "{\"accounts\":[[[{\"role_token\":\"A\"},{\"currency_symbol\":\"\",\"token_name\":\"\"}],2000000]],\"boundValues\":[],\"choices\":[],\"minTime\":1664078286000}\n"
     ]
    }
   ],
   "source": [
    "cat $BASENAME-1.state"
   ]
  },
  {
   "cell_type": "markdown",
   "id": "b5400d8d-4c2d-4a7a-99e3-bdc87629f91f",
   "metadata": {
    "tags": []
   },
   "source": [
    "## Simulate and Execute the Contract"
   ]
  },
  {
   "cell_type": "markdown",
   "id": "1791ce5f-f3ca-4eba-90ae-489a97fcec44",
   "metadata": {},
   "source": [
    "### 1. Initialize the contract information\n",
    "\n",
    "Create a `.marlowe` file that contains all of the information needed to start the contract. Note that we merkleization the contract because of its large size."
   ]
  },
  {
   "cell_type": "code",
   "execution_count": 70,
   "id": "c9678ec0-1d01-4ddb-8567-a33df639a2b4",
   "metadata": {},
   "outputs": [],
   "source": [
    "n=1"
   ]
  },
  {
   "cell_type": "code",
   "execution_count": 71,
   "id": "631e5627-4497-4837-9a25-519190c4f2aa",
   "metadata": {},
   "outputs": [
    {
     "name": "stdout",
     "output_type": "stream",
     "text": [
      "\n",
      "Validator size: 12505\n",
      "Base-validator cost: ExBudget {exBudgetCPU = ExCPU 18515100, exBudgetMemory = ExMemory 80600}\n"
     ]
    }
   ],
   "source": [
    "marlowe-cli run initialize --roles-currency \"$ROLES_POLICY\" \\\n",
    "                           --contract-file \"$BASENAME-$n.contract\" \\\n",
    "                           --state-file    \"$BASENAME-$n.state\" \\\n",
    "                           --out-file      \"$BASENAME-$n.partial\" \\\n",
    "                           --print-stats"
   ]
  },
  {
   "cell_type": "markdown",
   "id": "f0a90905-521e-4204-9bf9-3f46d0063b22",
   "metadata": {},
   "source": [
    "Manually merge the continuations into the `.marlowe` file."
   ]
  },
  {
   "cell_type": "code",
   "execution_count": 72,
   "id": "af3f5275-3af1-4d7f-b634-2b7d045d55ee",
   "metadata": {},
   "outputs": [],
   "source": [
    "jq -s '.[0] * {tx : .[1]}' $BASENAME-1.partial $BASENAME.merkleization > $BASENAME-1.marlowe"
   ]
  },
  {
   "cell_type": "markdown",
   "id": "59068808-24ef-468b-b1a7-17535fdc118c",
   "metadata": {},
   "source": [
    "The minimum Ada deposit has been recorded."
   ]
  },
  {
   "cell_type": "code",
   "execution_count": 73,
   "id": "83d26d84-5c4d-4314-b4f1-6feb8dadff60",
   "metadata": {},
   "outputs": [
    {
     "name": "stdout",
     "output_type": "stream",
     "text": [
      "accounts:\n",
      "- - - role_token: A\n",
      "    - currency_symbol: ''\n",
      "      token_name: ''\n",
      "  - 2000000\n",
      "boundValues: []\n",
      "choices: []\n",
      "minTime: 1664078286000\n"
     ]
    }
   ],
   "source": [
    "show_state $n"
   ]
  },
  {
   "cell_type": "markdown",
   "id": "a1f059c1-789b-41e4-ba88-03bde1813463",
   "metadata": {},
   "source": [
    "Submit the transaction."
   ]
  },
  {
   "cell_type": "code",
   "execution_count": 74,
   "id": "589f1bdf-729b-44d0-8c34-d4eb371ae2e3",
   "metadata": {},
   "outputs": [
    {
     "name": "stdout",
     "output_type": "stream",
     "text": [
      "\n",
      "Fee: Lovelace 248177\n",
      "Size: 1735 / 16384 = 10%\n",
      "Execution units:\n",
      "  Memory: 0 / 14000000 = 0%\n",
      "  Steps: 0 / 10000000000 = 0%\n",
      "\n",
      "Transaction 1 hash: 24f2dddbd9bd89c8af94e27b71d37708b4f92fe103200c516156e1a3cc391d21\n"
     ]
    }
   ],
   "source": [
    "execute \"$ADMINISTRATOR_SKEY\" \"$ADMINISTRATOR_ADDR\""
   ]
  },
  {
   "cell_type": "markdown",
   "id": "afe08c6e-a706-4c0b-a6d9-2f3c38493904",
   "metadata": {},
   "source": [
    "The funds are at the Marlowe script address."
   ]
  },
  {
   "cell_type": "code",
   "execution_count": 75,
   "id": "f8da574c-324f-4972-9361-efad765e4904",
   "metadata": {},
   "outputs": [
    {
     "name": "stdout",
     "output_type": "stream",
     "text": [
      "                           TxHash                                 TxIx        Amount\n",
      "--------------------------------------------------------------------------------------\n",
      "24f2dddbd9bd89c8af94e27b71d37708b4f92fe103200c516156e1a3cc391d21     1        2000000 lovelace + TxOutDatumHash ScriptDataInBabbageEra \"716ee75afc7960b27ec6042528536e6d3f3edbb45f5070420d8005384dbbe495\"\n"
     ]
    }
   ],
   "source": [
    "query_marlowe \"${TX_ID[$n]}\""
   ]
  },
  {
   "cell_type": "markdown",
   "id": "ea0515be-1982-4f43-a625-c6679c6de73a",
   "metadata": {},
   "source": [
    "### 2. Stabilzer 1 deposits 5M Djed"
   ]
  },
  {
   "cell_type": "markdown",
   "id": "435f048a-0c30-4934-b6a6-52f19accea3f",
   "metadata": {},
   "source": [
    "#### Choose the deposit"
   ]
  },
  {
   "cell_type": "code",
   "execution_count": 76,
   "id": "c60f243a-b297-418a-9796-a5fc99d7194b",
   "metadata": {},
   "outputs": [],
   "source": [
    "STABILIZER_DEPOSIT=5000000"
   ]
  },
  {
   "cell_type": "code",
   "execution_count": 77,
   "id": "43b839a4-da8f-4ce6-a9a1-a8f2ad8180d2",
   "metadata": {},
   "outputs": [],
   "source": [
    "n=$((n+1))"
   ]
  },
  {
   "cell_type": "code",
   "execution_count": 78,
   "id": "d1bad8af-44de-4efa-8732-61f4d94b79b9",
   "metadata": {},
   "outputs": [
    {
     "name": "stdout",
     "output_type": "stream",
     "text": [
      "1664078286000 + 10800000 = 1664089086000\n"
     ]
    }
   ],
   "source": [
    "set_validity_interval $((n-1))"
   ]
  },
  {
   "cell_type": "code",
   "execution_count": 79,
   "id": "44a81d39-55e1-4d47-86d2-5df449b449ed",
   "metadata": {},
   "outputs": [
    {
     "name": "stdout",
     "output_type": "stream",
     "text": [
      "\n",
      "Datum size: 1453\n"
     ]
    }
   ],
   "source": [
    "marlowe-cli run prepare --choice-party \"$(stabilizer 1)\" \\\n",
    "                        --choice-name S \\\n",
    "                        --choice-number \"$STABILIZER_DEPOSIT\" \\\n",
    "                        --invalid-before \"$INVALID_BEFORE\"  \\\n",
    "                        --invalid-hereafter \"$INVALID_HEREAFTER\" \\\n",
    "                        --marlowe-file \"$BASENAME-$((n-1)).marlowe\" \\\n",
    "                        --out-file     \"$BASENAME-$n.marlowe\" \\\n",
    "                        --print-stats"
   ]
  },
  {
   "cell_type": "code",
   "execution_count": 80,
   "id": "7840901f-c848-47a1-9be6-f05308a0e879",
   "metadata": {},
   "outputs": [
    {
     "name": "stdout",
     "output_type": "stream",
     "text": [
      "- - choice_name: S\n",
      "    choice_owner:\n",
      "      role_token: S1\n",
      "  - 5000000\n"
     ]
    }
   ],
   "source": [
    "show_choices $n"
   ]
  },
  {
   "cell_type": "markdown",
   "id": "5bf93242-d48b-476e-9cb9-fbf1e2a89598",
   "metadata": {},
   "source": [
    "Submit the transaction."
   ]
  },
  {
   "cell_type": "code",
   "execution_count": 81,
   "id": "83c9bf4c-d0b3-4ee4-8b82-35a59373ed9c",
   "metadata": {},
   "outputs": [
    {
     "name": "stdout",
     "output_type": "stream",
     "text": [
      "\n",
      "Fee: Lovelace 1180623\n",
      "Size: 4950 / 16384 = 30%\n",
      "Execution units:\n",
      "  Memory: 10013860 / 14000000 = 71%\n",
      "  Steps: 2893947408 / 10000000000 = 28%\n",
      "\n",
      "Transaction 2 hash: 5a084691ac2f084ad50b16f025147a457bf16db2bb42474a0a8845ac500b3a17\n"
     ]
    }
   ],
   "source": [
    "execute \"${STABILIZER_SKEY[1]}\" \"${STABILIZER_ADDR[1]}\""
   ]
  },
  {
   "cell_type": "markdown",
   "id": "cb1aa3a0-eba7-43ee-8851-65493c4c4886",
   "metadata": {},
   "source": [
    "#### Make the deposit"
   ]
  },
  {
   "cell_type": "code",
   "execution_count": 82,
   "id": "f90842b4-5be6-451c-8788-09d1c6ae80c4",
   "metadata": {},
   "outputs": [],
   "source": [
    "n=$((n+1))"
   ]
  },
  {
   "cell_type": "code",
   "execution_count": 83,
   "id": "84b8fbdd-4b11-4d7b-bed3-ea3c56f0c206",
   "metadata": {},
   "outputs": [
    {
     "name": "stdout",
     "output_type": "stream",
     "text": [
      "1664078286000 + 10800000 = 1664089086000\n"
     ]
    }
   ],
   "source": [
    "set_validity_interval $((n-1))"
   ]
  },
  {
   "cell_type": "code",
   "execution_count": 84,
   "id": "655bb2e0-dc4a-4796-80c3-1ca34522948e",
   "metadata": {},
   "outputs": [
    {
     "name": "stdout",
     "output_type": "stream",
     "text": [
      "\n",
      "Datum size: 217\n"
     ]
    }
   ],
   "source": [
    "marlowe-cli run prepare --deposit-account \"$(stabilizer 1)\" \\\n",
    "                        --deposit-party \"$(stabilizer 1)\" \\\n",
    "                        --deposit-token \"$DJED\" \\\n",
    "                        --deposit-amount \"$STABILIZER_DEPOSIT\" \\\n",
    "                        --invalid-before \"$INVALID_BEFORE\" \\\n",
    "                        --invalid-hereafter \"$INVALID_HEREAFTER\" \\\n",
    "                        --marlowe-file \"$BASENAME-$((n-1)).marlowe\" \\\n",
    "                        --out-file     \"$BASENAME-$n.marlowe\" \\\n",
    "                        --print-stats"
   ]
  },
  {
   "cell_type": "code",
   "execution_count": 85,
   "id": "dadd3c63-5de2-4671-a95f-346a223e20c9",
   "metadata": {},
   "outputs": [
    {
     "name": "stdout",
     "output_type": "stream",
     "text": [
      "accounts:\n",
      "- - - role_token: A\n",
      "    - currency_symbol: ''\n",
      "      token_name: ''\n",
      "  - 2000000\n",
      "- - - role_token: S1\n",
      "    - currency_symbol: ea94ed18f7a5bf2199f638360443a31ab3ec639108dde4c9e3e9bfee\n",
      "      token_name: DjedUSD\n",
      "  - 5000000\n",
      "boundValues: []\n"
     ]
    }
   ],
   "source": [
    "show_nonchoices $n"
   ]
  },
  {
   "cell_type": "markdown",
   "id": "c4cfa49a-573c-4bea-bb6c-f0cead3cbb29",
   "metadata": {},
   "source": [
    "Submit the transaction."
   ]
  },
  {
   "cell_type": "code",
   "execution_count": 86,
   "id": "8d541594-c37c-4bd7-90ef-af3548410253",
   "metadata": {},
   "outputs": [
    {
     "name": "stdout",
     "output_type": "stream",
     "text": [
      "\n",
      "Fee: Lovelace 982397\n",
      "Size: 2676 / 16384 = 16%\n",
      "Execution units:\n",
      "  Memory: 8885286 / 14000000 = 63%\n",
      "  Steps: 2373903516 / 10000000000 = 23%\n",
      "\n",
      "Transaction 3 hash: 1acc62e2c56a56c353a509e9b2a83801ebd0a18c8640ec11f5e140f1117580b9\n"
     ]
    }
   ],
   "source": [
    "execute \"${STABILIZER_SKEY[1]}\" \"${STABILIZER_ADDR[1]}\""
   ]
  },
  {
   "cell_type": "markdown",
   "id": "a0d343fd-cd79-4bff-b972-3ee2052889e8",
   "metadata": {},
   "source": [
    "The funds have been added to the script address."
   ]
  },
  {
   "cell_type": "code",
   "execution_count": 87,
   "id": "7e70368d-818c-4d77-b043-c0be126823ab",
   "metadata": {},
   "outputs": [
    {
     "name": "stdout",
     "output_type": "stream",
     "text": [
      "                           TxHash                                 TxIx        Amount\n",
      "--------------------------------------------------------------------------------------\n",
      "1acc62e2c56a56c353a509e9b2a83801ebd0a18c8640ec11f5e140f1117580b9     1        2000000 lovelace + 5000000 ea94ed18f7a5bf2199f638360443a31ab3ec639108dde4c9e3e9bfee.446a6564555344 + TxOutDatumHash ScriptDataInBabbageEra \"aff66450f84a287edd17948ffe851fe651d1832b32bb8ba4d3f3643ec16daebe\"\n"
     ]
    }
   ],
   "source": [
    "query_marlowe ${TX_ID[$n]}"
   ]
  },
  {
   "cell_type": "markdown",
   "id": "09c8a218-c006-484d-ac84-ce79ec66c2bf",
   "metadata": {},
   "source": [
    "### 4. Unpause the contract using `INotify`"
   ]
  },
  {
   "cell_type": "markdown",
   "id": "2ab1e9e1-bbca-4ed6-bc84-b55d37a7d611",
   "metadata": {},
   "source": [
    "We have inserted a `When [Notify` before each sub-contract in the contract in order to reduce the execution memory requirements enough so that the contract can be run on-chain. We define an `unpause` function to move beyond these pauses."
   ]
  },
  {
   "cell_type": "markdown",
   "id": "59c99d01-f012-4df8-a753-1360e0f4396d",
   "metadata": {},
   "source": [
    "Now advance the contract."
   ]
  },
  {
   "cell_type": "code",
   "execution_count": 88,
   "id": "6da549f4-cc1d-4830-b588-cb40c13cce31",
   "metadata": {},
   "outputs": [
    {
     "name": "stdout",
     "output_type": "stream",
     "text": [
      "\n",
      "----- Unpause 1 -----\n",
      "\n",
      "1664078286000 + 10800000 = 1664089086000\n",
      "\n",
      "Datum size: 1522\n",
      "\n",
      "Fee: Lovelace 1007410\n",
      "Size: 3731 / 16384 = 22%\n",
      "Execution units:\n",
      "  Memory: 8548972 / 14000000 = 61%\n",
      "  Steps: 2469419701 / 10000000000 = 24%\n",
      "\n",
      "Transaction 4 hash: f335fbfade55b77ac4ca41ec42c5667a047307839d317f68168d93800c3d85f7\n"
     ]
    }
   ],
   "source": [
    "unpause 1"
   ]
  },
  {
   "cell_type": "markdown",
   "id": "091cc9c4-3782-457b-9c50-d02753422e4b",
   "metadata": {},
   "source": [
    "### 5. Investor 1 deposits 1M Djed"
   ]
  },
  {
   "cell_type": "markdown",
   "id": "db25b9d3-3cd5-4b84-bfe8-55ed35a96cc4",
   "metadata": {},
   "source": [
    "#### Choose the deposit"
   ]
  },
  {
   "cell_type": "code",
   "execution_count": 89,
   "id": "1b70deee-fd06-42e0-8092-c021062d465a",
   "metadata": {},
   "outputs": [],
   "source": [
    "INVESTOR_DEPOSIT=1000000"
   ]
  },
  {
   "cell_type": "code",
   "execution_count": 90,
   "id": "55deba53-6932-41fe-8bd5-eed0cee455cb",
   "metadata": {},
   "outputs": [],
   "source": [
    "n=$((n+1))"
   ]
  },
  {
   "cell_type": "code",
   "execution_count": 91,
   "id": "10c77882-b76d-45bb-b0ad-659fe07925f9",
   "metadata": {},
   "outputs": [
    {
     "name": "stdout",
     "output_type": "stream",
     "text": [
      "1664078286000 + 10800000 = 1664089086000\n"
     ]
    }
   ],
   "source": [
    "set_validity_interval $((n-1))"
   ]
  },
  {
   "cell_type": "code",
   "execution_count": 92,
   "id": "7eeca590-9862-41fe-8cc2-49e112edf096",
   "metadata": {},
   "outputs": [
    {
     "name": "stdout",
     "output_type": "stream",
     "text": [
      "\n",
      "Datum size: 1540\n"
     ]
    }
   ],
   "source": [
    "marlowe-cli run prepare --choice-party \"$(investor 1)\" \\\n",
    "                        --choice-name I \\\n",
    "                        --choice-number \"$INVESTOR_DEPOSIT\" \\\n",
    "                        --invalid-before \"$INVALID_BEFORE\" \\\n",
    "                        --invalid-hereafter \"$INVALID_HEREAFTER\" \\\n",
    "                        --marlowe-file \"$BASENAME-$((n-1)).marlowe\" \\\n",
    "                        --out-file     \"$BASENAME-$n.marlowe\" \\\n",
    "                        --print-stats"
   ]
  },
  {
   "cell_type": "code",
   "execution_count": 93,
   "id": "83fc10c4-ea49-4773-bdc3-ab99cfee2c21",
   "metadata": {},
   "outputs": [
    {
     "name": "stdout",
     "output_type": "stream",
     "text": [
      "- - choice_name: S\n",
      "    choice_owner:\n",
      "      role_token: S1\n",
      "  - 5000000\n",
      "- - choice_name: I\n",
      "    choice_owner:\n",
      "      role_token: I1\n",
      "  - 1000000\n"
     ]
    }
   ],
   "source": [
    "show_choices $n"
   ]
  },
  {
   "cell_type": "markdown",
   "id": "7c6b53d3-b6f2-4dba-89b9-3545ebb00fc5",
   "metadata": {},
   "source": [
    "Submit the transaction."
   ]
  },
  {
   "cell_type": "code",
   "execution_count": 94,
   "id": "0a04f732-8b60-42a7-922f-290229d14d46",
   "metadata": {},
   "outputs": [
    {
     "name": "stdout",
     "output_type": "stream",
     "text": [
      "\n",
      "Fee: Lovelace 1288139\n",
      "Size: 5170 / 16384 = 31%\n",
      "Execution units:\n",
      "  Memory: 11308804 / 14000000 = 80%\n",
      "  Steps: 3214577154 / 10000000000 = 32%\n",
      "\n",
      "Transaction 5 hash: 32b7981c1372d17b01a82e440c1658694c8449b40dc35ffd03573106b97ffeb1\n"
     ]
    }
   ],
   "source": [
    "execute \"${INVESTOR_SKEY[1]}\" \"${INVESTOR_ADDR[1]}\""
   ]
  },
  {
   "cell_type": "markdown",
   "id": "744e50b4-116e-4494-8495-3c31ce5ebf0e",
   "metadata": {},
   "source": [
    "#### Make the deposit"
   ]
  },
  {
   "cell_type": "code",
   "execution_count": 95,
   "id": "23584714-ba3f-4d9c-96d9-17cffdeba9ce",
   "metadata": {},
   "outputs": [],
   "source": [
    "n=$((n+1))"
   ]
  },
  {
   "cell_type": "code",
   "execution_count": 96,
   "id": "fdd2e675-48ba-467c-a601-e38519fb914d",
   "metadata": {},
   "outputs": [
    {
     "name": "stdout",
     "output_type": "stream",
     "text": [
      "1664078286000 + 10800000 = 1664089086000\n"
     ]
    }
   ],
   "source": [
    "set_validity_interval $((n-1))"
   ]
  },
  {
   "cell_type": "code",
   "execution_count": 97,
   "id": "a1996e1c-32b7-4de3-b549-ff961ea5a190",
   "metadata": {},
   "outputs": [
    {
     "name": "stdout",
     "output_type": "stream",
     "text": [
      "\n",
      "Datum size: 304\n"
     ]
    }
   ],
   "source": [
    "marlowe-cli run prepare --deposit-account \"$(investor 1)\" \\\n",
    "                        --deposit-party \"$(investor 1)\" \\\n",
    "                        --deposit-token \"$DJED\" \\\n",
    "                        --deposit-amount \"$INVESTOR_DEPOSIT\" \\\n",
    "                        --invalid-before \"$INVALID_BEFORE\" \\\n",
    "                        --invalid-hereafter \"$INVALID_HEREAFTER\" \\\n",
    "                        --marlowe-file \"$BASENAME-$((n-1)).marlowe\" \\\n",
    "                        --out-file     \"$BASENAME-$n.marlowe\" \\\n",
    "                        --print-stats"
   ]
  },
  {
   "cell_type": "code",
   "execution_count": 98,
   "id": "192dc31e-763d-42aa-8035-bd11fea52577",
   "metadata": {},
   "outputs": [
    {
     "name": "stdout",
     "output_type": "stream",
     "text": [
      "accounts:\n",
      "- - - role_token: A\n",
      "    - currency_symbol: ''\n",
      "      token_name: ''\n",
      "  - 2000000\n",
      "- - - role_token: S1\n",
      "    - currency_symbol: ea94ed18f7a5bf2199f638360443a31ab3ec639108dde4c9e3e9bfee\n",
      "      token_name: DjedUSD\n",
      "  - 5000000\n",
      "- - - role_token: I1\n",
      "    - currency_symbol: ea94ed18f7a5bf2199f638360443a31ab3ec639108dde4c9e3e9bfee\n",
      "      token_name: DjedUSD\n",
      "  - 1000000\n",
      "boundValues:\n",
      "- - s\n",
      "  - 5000000\n"
     ]
    }
   ],
   "source": [
    "show_nonchoices $n"
   ]
  },
  {
   "cell_type": "markdown",
   "id": "c26f2007-04ef-44de-b080-f5db66a6920d",
   "metadata": {},
   "source": [
    "Submit the transaction."
   ]
  },
  {
   "cell_type": "code",
   "execution_count": 99,
   "id": "091d6d42-a602-4e1d-bcf5-af24cc26b100",
   "metadata": {},
   "outputs": [
    {
     "name": "stdout",
     "output_type": "stream",
     "text": [
      "\n",
      "Fee: Lovelace 1062822\n",
      "Size: 2850 / 16384 = 17%\n",
      "Execution units:\n",
      "  Memory: 9844778 / 14000000 = 70%\n",
      "  Steps: 2615329139 / 10000000000 = 26%\n",
      "\n",
      "Transaction 6 hash: a6c605ec81e8b3c5d77598683b6c01b49dcc484ca2e9b7bf6a8cbf30ca49ddd1\n"
     ]
    }
   ],
   "source": [
    "execute \"${INVESTOR_SKEY[1]}\" \"${INVESTOR_ADDR[1]}\""
   ]
  },
  {
   "cell_type": "markdown",
   "id": "346e9dc2-ed29-43ed-8469-80e048a80526",
   "metadata": {},
   "source": [
    "The funds have been added to the script address."
   ]
  },
  {
   "cell_type": "code",
   "execution_count": 100,
   "id": "829f5398-5793-4848-84e4-390633809a70",
   "metadata": {},
   "outputs": [
    {
     "name": "stdout",
     "output_type": "stream",
     "text": [
      "                           TxHash                                 TxIx        Amount\n",
      "--------------------------------------------------------------------------------------\n",
      "a6c605ec81e8b3c5d77598683b6c01b49dcc484ca2e9b7bf6a8cbf30ca49ddd1     1        2000000 lovelace + 6000000 ea94ed18f7a5bf2199f638360443a31ab3ec639108dde4c9e3e9bfee.446a6564555344 + TxOutDatumHash ScriptDataInBabbageEra \"a668d1395aa2ed6ed6a61fdcc4b008f22ecbc36f9581676ae14ffb101414ac7e\"\n"
     ]
    }
   ],
   "source": [
    "query_marlowe ${TX_ID[$n]}"
   ]
  },
  {
   "cell_type": "markdown",
   "id": "df3bcdbf-efef-436d-8d07-0b66f0ebde17",
   "metadata": {},
   "source": [
    "### 6. Unpause"
   ]
  },
  {
   "cell_type": "code",
   "execution_count": 101,
   "id": "bcfb81a5-d780-4463-8f3b-7a10d7f31eac",
   "metadata": {},
   "outputs": [
    {
     "name": "stdout",
     "output_type": "stream",
     "text": [
      "\n",
      "----- Unpause 1 -----\n",
      "\n",
      "1664078286000 + 10800000 = 1664089086000\n",
      "\n",
      "Datum size: 315\n",
      "\n",
      "Fee: Lovelace 671877\n",
      "Size: 1317 / 16384 = 8%\n",
      "Execution units:\n",
      "  Memory: 5744892 / 14000000 = 41%\n",
      "  Steps: 1532917629 / 10000000000 = 15%\n",
      "\n",
      "Transaction 7 hash: 9b439de448f6a6f9e5621dbbfafbb31906adfd3cef1ab7a57fccde4031692a97\n",
      "\n",
      "----- Unpause 2 -----\n",
      "\n",
      "1664078286000 + 10800000 = 1664089086000\n",
      "\n",
      "Datum size: 1621\n",
      "\n",
      "Fee: Lovelace 1066668\n",
      "Size: 3930 / 16384 = 23%\n",
      "Execution units:\n",
      "  Memory: 9208362 / 14000000 = 65%\n",
      "  Steps: 2642164185 / 10000000000 = 26%\n",
      "\n",
      "Transaction 8 hash: 175cb500ff4c6523cabf90b60a9377d2e02b98f65df14b87102738d56f2621cf\n"
     ]
    }
   ],
   "source": [
    "unpause 2"
   ]
  },
  {
   "cell_type": "markdown",
   "id": "2ebbf938-0259-47e7-b437-d2cf391196a5",
   "metadata": {},
   "source": [
    "### 7. Investor 2 deposits 500k Djed"
   ]
  },
  {
   "cell_type": "markdown",
   "id": "e753fadb-669a-480b-abc5-188235dba749",
   "metadata": {},
   "source": [
    "#### Choose the deposit"
   ]
  },
  {
   "cell_type": "code",
   "execution_count": 102,
   "id": "ff39758d-2824-4464-b583-28a8f21a9168",
   "metadata": {},
   "outputs": [],
   "source": [
    "INVESTOR_DEPOSIT=500000"
   ]
  },
  {
   "cell_type": "code",
   "execution_count": 103,
   "id": "752bc93b-e746-4eb5-a8fd-63b3bd114c24",
   "metadata": {},
   "outputs": [],
   "source": [
    "n=$((n+1))"
   ]
  },
  {
   "cell_type": "code",
   "execution_count": 104,
   "id": "d2dff5e6-c956-4d55-870d-1aafad4b0781",
   "metadata": {},
   "outputs": [
    {
     "name": "stdout",
     "output_type": "stream",
     "text": [
      "1664078286000 + 10800000 = 1664089086000\n"
     ]
    }
   ],
   "source": [
    "set_validity_interval $((n-1))"
   ]
  },
  {
   "cell_type": "code",
   "execution_count": 105,
   "id": "affd8b44-7236-485a-8afb-0c74dc6eb35c",
   "metadata": {},
   "outputs": [
    {
     "name": "stdout",
     "output_type": "stream",
     "text": [
      "\n",
      "Datum size: 1639\n"
     ]
    }
   ],
   "source": [
    "marlowe-cli run prepare --choice-party \"$(investor 2)\" \\\n",
    "                        --choice-name I \\\n",
    "                        --choice-number \"$INVESTOR_DEPOSIT\" \\\n",
    "                        --invalid-before \"$INVALID_BEFORE\" \\\n",
    "                        --invalid-hereafter \"$INVALID_HEREAFTER\" \\\n",
    "                        --marlowe-file \"$BASENAME-$((n-1)).marlowe\" \\\n",
    "                        --out-file     \"$BASENAME-$n.marlowe\" \\\n",
    "                        --print-stats"
   ]
  },
  {
   "cell_type": "code",
   "execution_count": 106,
   "id": "346652f9-8b76-4fd3-99fc-0622e9a07ff6",
   "metadata": {},
   "outputs": [
    {
     "name": "stdout",
     "output_type": "stream",
     "text": [
      "- - choice_name: S\n",
      "    choice_owner:\n",
      "      role_token: S1\n",
      "  - 5000000\n",
      "- - choice_name: I\n",
      "    choice_owner:\n",
      "      role_token: I1\n",
      "  - 1000000\n",
      "- - choice_name: I\n",
      "    choice_owner:\n",
      "      role_token: I2\n",
      "  - 500000\n"
     ]
    }
   ],
   "source": [
    "show_choices $n"
   ]
  },
  {
   "cell_type": "markdown",
   "id": "a5967a54-2458-4e1e-bdba-1939c540be1b",
   "metadata": {},
   "source": [
    "Submit the transaction."
   ]
  },
  {
   "cell_type": "code",
   "execution_count": 107,
   "id": "7bf64a39-c93f-4085-a351-fbcb66e4142c",
   "metadata": {},
   "outputs": [
    {
     "name": "stdout",
     "output_type": "stream",
     "text": [
      "\n",
      "Fee: Lovelace 1336012\n",
      "Size: 5368 / 16384 = 32%\n",
      "Execution units:\n",
      "  Memory: 11820856 / 14000000 = 84%\n",
      "  Steps: 3347949410 / 10000000000 = 33%\n",
      "\n",
      "Transaction 9 hash: f3f39042a88d871c9a16f72bbdd67448177c049fdd9868e54fa702eaaa12131a\n"
     ]
    }
   ],
   "source": [
    "execute \"${INVESTOR_SKEY[2]}\" \"${INVESTOR_ADDR[2]}\""
   ]
  },
  {
   "cell_type": "markdown",
   "id": "2607290a-01a4-4bdb-91cb-eb1b9f53183a",
   "metadata": {},
   "source": [
    "#### Make the deposit"
   ]
  },
  {
   "cell_type": "code",
   "execution_count": 108,
   "id": "cdd7ac75-42c3-4940-b39f-12d0cc34e992",
   "metadata": {},
   "outputs": [],
   "source": [
    "n=$((n+1))"
   ]
  },
  {
   "cell_type": "code",
   "execution_count": 109,
   "id": "1191ed7a-0584-4759-8b06-3942d8fba363",
   "metadata": {},
   "outputs": [
    {
     "name": "stdout",
     "output_type": "stream",
     "text": [
      "1664078286000 + 10800000 = 1664089086000\n"
     ]
    }
   ],
   "source": [
    "set_validity_interval $((n-1))"
   ]
  },
  {
   "cell_type": "code",
   "execution_count": 110,
   "id": "fd83a921-a07b-41f6-9876-82e515a67760",
   "metadata": {},
   "outputs": [
    {
     "name": "stdout",
     "output_type": "stream",
     "text": [
      "\n",
      "Datum size: 403\n"
     ]
    }
   ],
   "source": [
    "marlowe-cli run prepare --deposit-account \"$(investor 2)\" \\\n",
    "                        --deposit-party \"$(investor 2)\" \\\n",
    "                        --deposit-token \"$DJED\" \\\n",
    "                        --deposit-amount \"$INVESTOR_DEPOSIT\" \\\n",
    "                        --invalid-before \"$INVALID_BEFORE\" \\\n",
    "                        --invalid-hereafter \"$INVALID_HEREAFTER\" \\\n",
    "                        --marlowe-file \"$BASENAME-$((n-1)).marlowe\" \\\n",
    "                        --out-file     \"$BASENAME-$n.marlowe\" \\\n",
    "                        --print-stats"
   ]
  },
  {
   "cell_type": "code",
   "execution_count": 111,
   "id": "28fe5550-1e48-4d4f-b14e-ef947899f932",
   "metadata": {},
   "outputs": [
    {
     "name": "stdout",
     "output_type": "stream",
     "text": [
      "accounts:\n",
      "- - - role_token: A\n",
      "    - currency_symbol: ''\n",
      "      token_name: ''\n",
      "  - 2000000\n",
      "- - - role_token: S1\n",
      "    - currency_symbol: ea94ed18f7a5bf2199f638360443a31ab3ec639108dde4c9e3e9bfee\n",
      "      token_name: DjedUSD\n",
      "  - 5000000\n",
      "- - - role_token: I1\n",
      "    - currency_symbol: ea94ed18f7a5bf2199f638360443a31ab3ec639108dde4c9e3e9bfee\n",
      "      token_name: DjedUSD\n",
      "  - 1000000\n",
      "- - - role_token: I2\n",
      "    - currency_symbol: ea94ed18f7a5bf2199f638360443a31ab3ec639108dde4c9e3e9bfee\n",
      "      token_name: DjedUSD\n",
      "  - 500000\n",
      "boundValues:\n",
      "- - s\n",
      "  - 5000000\n",
      "- - a\n",
      "  - 1000000\n",
      "- - e1\n",
      "  - 1000000\n"
     ]
    }
   ],
   "source": [
    "show_nonchoices $n"
   ]
  },
  {
   "cell_type": "markdown",
   "id": "be67b55e-d0fd-446d-9516-5bbdc04c4084",
   "metadata": {},
   "source": [
    "Submit the transaction."
   ]
  },
  {
   "cell_type": "code",
   "execution_count": 112,
   "id": "85d37d09-b9d4-4555-a708-960f85c9b77a",
   "metadata": {},
   "outputs": [
    {
     "name": "stdout",
     "output_type": "stream",
     "text": [
      "\n",
      "Fee: Lovelace 1115136\n",
      "Size: 3048 / 16384 = 18%\n",
      "Execution units:\n",
      "  Memory: 10417524 / 14000000 = 74%\n",
      "  Steps: 2761706543 / 10000000000 = 27%\n",
      "\n",
      "Transaction 10 hash: a596cc51e73258a84796ba3fcd9f49e43e3da2f8e916726ca8fa82bb34ab996a\n"
     ]
    }
   ],
   "source": [
    "execute \"${INVESTOR_SKEY[2]}\" \"${INVESTOR_ADDR[2]}\""
   ]
  },
  {
   "cell_type": "markdown",
   "id": "c62fc92c-b718-4f28-9fb3-bb7b4f9ba826",
   "metadata": {},
   "source": [
    "The funds have been added to the script address."
   ]
  },
  {
   "cell_type": "code",
   "execution_count": 113,
   "id": "278f5ba5-ef8d-4113-9483-44d227cb43e1",
   "metadata": {},
   "outputs": [
    {
     "name": "stdout",
     "output_type": "stream",
     "text": [
      "                           TxHash                                 TxIx        Amount\n",
      "--------------------------------------------------------------------------------------\n",
      "a596cc51e73258a84796ba3fcd9f49e43e3da2f8e916726ca8fa82bb34ab996a     1        2000000 lovelace + 6500000 ea94ed18f7a5bf2199f638360443a31ab3ec639108dde4c9e3e9bfee.446a6564555344 + TxOutDatumHash ScriptDataInBabbageEra \"7843d1e4761aa503b1dc1f06d28f78ed57b7201113b3d06a521ed0c283d4114c\"\n"
     ]
    }
   ],
   "source": [
    "query_marlowe ${TX_ID[$n]}"
   ]
  },
  {
   "cell_type": "markdown",
   "id": "02d05f19-c07b-4e99-b462-557df5df41b3",
   "metadata": {},
   "source": [
    "### 8. Unpause"
   ]
  },
  {
   "cell_type": "code",
   "execution_count": 114,
   "id": "ea38b8d2-c1d6-4aba-9d4b-1cc47b8b550a",
   "metadata": {},
   "outputs": [
    {
     "name": "stdout",
     "output_type": "stream",
     "text": [
      "\n",
      "----- Unpause 1 -----\n",
      "\n",
      "1664078286000 + 10800000 = 1664089086000\n",
      "\n",
      "Warnings:\n",
      "  TransactionShadowing \"a\" 1000000 1500000\n",
      "Datum size: 403\n",
      "\n",
      "Fee: Lovelace 729638\n",
      "Size: 1504 / 16384 = 9%\n",
      "Execution units:\n",
      "  Memory: 6394836 / 14000000 = 45%\n",
      "  Steps: 1699780206 / 10000000000 = 16%\n",
      "\n",
      "Transaction 11 hash: 31994c5cf2d4aa6e86c4de042c3d24bc6a7185b9ea115bcb387e4a41dcce7b99\n",
      "\n",
      "----- Unpause 2 -----\n",
      "\n",
      "1664078286000 + 10800000 = 1664089086000\n",
      "\n",
      "Datum size: 1709\n",
      "\n",
      "Fee: Lovelace 1113650\n",
      "Size: 4106 / 16384 = 25%\n",
      "Execution units:\n",
      "  Memory: 9723668 / 14000000 = 69%\n",
      "  Steps: 2773993087 / 10000000000 = 27%\n",
      "\n",
      "Transaction 12 hash: 082731996a14fa792e98851853af6085b6644e239946844702b44c4adbddba53\n"
     ]
    }
   ],
   "source": [
    "unpause 2"
   ]
  },
  {
   "cell_type": "markdown",
   "id": "e734f818-a115-4301-9443-77a60bb5b1f9",
   "metadata": {},
   "source": [
    "### 9. Administrator authorizes loan of 900k Djed to Borrower 1"
   ]
  },
  {
   "cell_type": "code",
   "execution_count": 115,
   "id": "7b9ac485-f735-4414-b17f-5312efeb09aa",
   "metadata": {},
   "outputs": [],
   "source": [
    "LOAN_AMOUNT=900000"
   ]
  },
  {
   "cell_type": "code",
   "execution_count": 116,
   "id": "d77b8510-53e9-469a-87f2-d07d2bd096eb",
   "metadata": {},
   "outputs": [],
   "source": [
    "n=$((n+1))"
   ]
  },
  {
   "cell_type": "code",
   "execution_count": 117,
   "id": "8444699b-73bd-478e-8b54-c324f77bb04c",
   "metadata": {},
   "outputs": [
    {
     "name": "stdout",
     "output_type": "stream",
     "text": [
      "1664078286000 + 10800000 = 1664089086000\n"
     ]
    }
   ],
   "source": [
    "set_validity_interval $((n-1))"
   ]
  },
  {
   "cell_type": "code",
   "execution_count": 118,
   "id": "2271b49e-fe9a-440c-94a9-8a0853cc7f57",
   "metadata": {},
   "outputs": [
    {
     "name": "stdout",
     "output_type": "stream",
     "text": [
      "\n",
      "Datum size: 433\n"
     ]
    }
   ],
   "source": [
    "marlowe-cli run prepare --choice-party \"$ADMINISTRATOR_ROLE\" \\\n",
    "                        --choice-name L1 \\\n",
    "                        --choice-number \"$LOAN_AMOUNT\" \\\n",
    "                        --invalid-before \"$INVALID_BEFORE\" \\\n",
    "                        --invalid-hereafter \"$INVALID_HEREAFTER\" \\\n",
    "                        --marlowe-file \"$BASENAME-$((n-1)).marlowe\" \\\n",
    "                        --out-file     \"$BASENAME-$n.marlowe\" \\\n",
    "                        --print-stats"
   ]
  },
  {
   "cell_type": "code",
   "execution_count": 119,
   "id": "aba4ec48-f800-4a85-8165-24f65f99bc0e",
   "metadata": {},
   "outputs": [
    {
     "name": "stdout",
     "output_type": "stream",
     "text": [
      "accounts:\n",
      "- - - role_token: A\n",
      "    - currency_symbol: ''\n",
      "      token_name: ''\n",
      "  - 2000000\n",
      "- - - role_token: S1\n",
      "    - currency_symbol: ea94ed18f7a5bf2199f638360443a31ab3ec639108dde4c9e3e9bfee\n",
      "      token_name: DjedUSD\n",
      "  - 5000000\n",
      "- - - role_token: I1\n",
      "    - currency_symbol: ea94ed18f7a5bf2199f638360443a31ab3ec639108dde4c9e3e9bfee\n",
      "      token_name: DjedUSD\n",
      "  - 1000000\n",
      "- - - role_token: I2\n",
      "    - currency_symbol: ea94ed18f7a5bf2199f638360443a31ab3ec639108dde4c9e3e9bfee\n",
      "      token_name: DjedUSD\n",
      "  - 500000\n",
      "boundValues:\n",
      "- - s\n",
      "  - 5000000\n",
      "- - a\n",
      "  - 1500000\n",
      "- - e1\n",
      "  - 1000000\n",
      "- - e2\n",
      "  - 500000\n"
     ]
    }
   ],
   "source": [
    "show_nonchoices $n"
   ]
  },
  {
   "cell_type": "markdown",
   "id": "9ef3ce2c-7399-466f-a858-67a739e55584",
   "metadata": {},
   "source": [
    "Submit the transaction."
   ]
  },
  {
   "cell_type": "code",
   "execution_count": 120,
   "id": "98e40b3c-6c0f-498e-bf59-508c549f5ccc",
   "metadata": {},
   "outputs": [
    {
     "name": "stdout",
     "output_type": "stream",
     "text": [
      "\n",
      "Fee: Lovelace 935359\n",
      "Size: 2919 / 16384 = 17%\n",
      "Execution units:\n",
      "  Memory: 8250234 / 14000000 = 58%\n",
      "  Steps: 2204706729 / 10000000000 = 22%\n",
      "\n",
      "Transaction 13 hash: 2866696e6e94d7ed5fa73b68ed43f72247b728889c3ef5ae04a39da70be45bbd\n"
     ]
    }
   ],
   "source": [
    "execute \"$ADMINISTRATOR_SKEY\" \"$ADMINISTRATOR_ADDR\""
   ]
  },
  {
   "cell_type": "markdown",
   "id": "d0af628f-7a78-4c02-949a-a0c38811be25",
   "metadata": {},
   "source": [
    "### 10. Unpause"
   ]
  },
  {
   "cell_type": "code",
   "execution_count": 121,
   "id": "93e8cb34-7271-424c-93a4-ec6dc8d908cd",
   "metadata": {},
   "outputs": [
    {
     "name": "stdout",
     "output_type": "stream",
     "text": [
      "\n",
      "----- Unpause 1 -----\n",
      "\n",
      "1664078286000 + 10800000 = 1664089086000\n",
      "\n",
      "Datum size: 433\n",
      "\n",
      "Fee: Lovelace 1143340\n",
      "Size: 3015 / 16384 = 18%\n",
      "Execution units:\n",
      "  Memory: 10648952 / 14000000 = 76%\n",
      "  Steps: 3111099962 / 10000000000 = 31%\n",
      "\n",
      "Transaction 14 hash: f767f627b4e16387eda2dc996b5790af32ec5eef2b7cdbbab5fea1e4e5421df8\n",
      "\n",
      "----- Unpause 2 -----\n",
      "\n",
      "1664078286000 + 10800000 = 1664089086000\n",
      "\n",
      "Datum size: 433\n",
      "Payment 1\n",
      "  Acccount: \"I1\"\n",
      "  Payee: Party \"B1\"\n",
      "  Ada: Lovelace {getLovelace = 0}\n",
      "  ea94ed18f7a5bf2199f638360443a31ab3ec639108dde4c9e3e9bfee.\"DjedUSD\": 600000\n",
      "\n",
      "Fee: Lovelace 1012449\n",
      "Size: 1834 / 16384 = 11%\n",
      "Execution units:\n",
      "  Memory: 9892532 / 14000000 = 70%\n",
      "  Steps: 2621746350 / 10000000000 = 26%\n",
      "\n",
      "Transaction 15 hash: 02d364dace7be1afb9e8ac05843d957453d4c31e12af10c36ac0617e0224c244\n",
      "\n",
      "----- Unpause 3 -----\n",
      "\n",
      "1664078286000 + 10800000 = 1664089086000\n",
      "\n",
      "Warnings:\n",
      "  TransactionShadowing \"e1\" 1000000 1024000\n",
      "Datum size: 433\n",
      "\n",
      "Fee: Lovelace 835430\n",
      "Size: 1657 / 16384 = 10%\n",
      "Execution units:\n",
      "  Memory: 7627716 / 14000000 = 54%\n",
      "  Steps: 2087058667 / 10000000000 = 20%\n",
      "\n",
      "Transaction 16 hash: f1ca72baf5c60dbc0178433541e4027eeb339cc07dcf997a6b70271a783fdecd\n",
      "\n",
      "----- Unpause 4 -----\n",
      "\n",
      "1664078286000 + 10800000 = 1664089086000\n",
      "\n",
      "Datum size: 433\n",
      "Payment 1\n",
      "  Acccount: \"I2\"\n",
      "  Payee: Party \"B1\"\n",
      "  Ada: Lovelace {getLovelace = 0}\n",
      "  ea94ed18f7a5bf2199f638360443a31ab3ec639108dde4c9e3e9bfee.\"DjedUSD\": 300000\n",
      "\n",
      "Fee: Lovelace 1027016\n",
      "Size: 1834 / 16384 = 11%\n",
      "Execution units:\n",
      "  Memory: 10080390 / 14000000 = 72%\n",
      "  Steps: 2673454619 / 10000000000 = 26%\n",
      "\n",
      "Transaction 17 hash: abdda9b830b8168cda7c3d66e9e57da404685623bdbc37ba522ab8c1b92ea594\n",
      "\n",
      "----- Unpause 5 -----\n",
      "\n",
      "1664078286000 + 10800000 = 1664089086000\n",
      "\n",
      "Warnings:\n",
      "  TransactionShadowing \"e2\" 500000 512000\n",
      "Datum size: 433\n",
      "\n",
      "Fee: Lovelace 838375\n",
      "Size: 1657 / 16384 = 10%\n",
      "Execution units:\n",
      "  Memory: 7665926 / 14000000 = 54%\n",
      "  Steps: 2097331622 / 10000000000 = 20%\n",
      "\n",
      "Transaction 18 hash: 6b20fc9b32f293a44bd865f15a860f0645e8e49740f79f26dcae4235cbfef810\n",
      "\n",
      "----- Unpause 6 -----\n",
      "\n",
      "1664078286000 + 10800000 = 1664089086000\n",
      "\n",
      "Datum size: 444\n",
      "\n",
      "Fee: Lovelace 795055\n",
      "Size: 1616 / 16384 = 9%\n",
      "Execution units:\n",
      "  Memory: 7135285 / 14000000 = 50%\n",
      "  Steps: 1946177716 / 10000000000 = 19%\n",
      "\n",
      "Transaction 19 hash: 06925e1477370a8184d8df4b8c7ae072b754785c1fefc95c8eaf42935c5cc9dc\n",
      "\n",
      "----- Unpause 7 -----\n",
      "\n",
      "1664078286000 + 10800000 = 1664089086000\n",
      "\n",
      "Warnings:\n",
      "  TransactionShadowing \"a\" 1500000 600000\n",
      "Datum size: 1738\n",
      "\n",
      "Fee: Lovelace 1131926\n",
      "Size: 4174 / 16384 = 25%\n",
      "Execution units:\n",
      "  Memory: 9923168 / 14000000 = 70%\n",
      "  Steps: 2826318334 / 10000000000 = 28%\n",
      "\n",
      "Transaction 20 hash: 2a273e7f71e6be6c0cae9cdbf5834547c7ae29488fc66b34f9ad623f524f1afa\n"
     ]
    }
   ],
   "source": [
    "unpause 7"
   ]
  },
  {
   "cell_type": "markdown",
   "id": "4c712681-4a6b-40cd-8f2f-ec03484ac067",
   "metadata": {},
   "source": [
    "The funds have been paid from the Marlowe script address."
   ]
  },
  {
   "cell_type": "code",
   "execution_count": 122,
   "id": "df438742-d159-41f8-a327-e1656074fea7",
   "metadata": {},
   "outputs": [
    {
     "name": "stdout",
     "output_type": "stream",
     "text": [
      "                           TxHash                                 TxIx        Amount\n",
      "--------------------------------------------------------------------------------------\n",
      "2a273e7f71e6be6c0cae9cdbf5834547c7ae29488fc66b34f9ad623f524f1afa     1        2000000 lovelace + 5600000 ea94ed18f7a5bf2199f638360443a31ab3ec639108dde4c9e3e9bfee.446a6564555344 + TxOutDatumHash ScriptDataInBabbageEra \"32990c5ebf9685d34c62a0722c5a0106aef618bf30cf60542df4e7b3db747601\"\n"
     ]
    }
   ],
   "source": [
    "query_marlowe \"${TX_ID[$n]}\""
   ]
  },
  {
   "cell_type": "markdown",
   "id": "3b34726b-8062-4ae4-adf9-01185b7650ce",
   "metadata": {},
   "source": [
    "And paid to the payout script address in two installments (one from each investor's account)."
   ]
  },
  {
   "cell_type": "code",
   "execution_count": 123,
   "id": "4ef1147b-fe8a-487a-a44f-7be1198284e8",
   "metadata": {},
   "outputs": [
    {
     "name": "stdout",
     "output_type": "stream",
     "text": [
      "                           TxHash                                 TxIx        Amount\n",
      "--------------------------------------------------------------------------------------\n",
      "02d364dace7be1afb9e8ac05843d957453d4c31e12af10c36ac0617e0224c244     2        1215420 lovelace + 600000 ea94ed18f7a5bf2199f638360443a31ab3ec639108dde4c9e3e9bfee.446a6564555344 + TxOutDatumHash ScriptDataInBabbageEra \"f22bf7dae0dae200d80484966a3e4e1074323d87e55011ec025b1fd6a66a5ae6\"\n"
     ]
    }
   ],
   "source": [
    "query_payout \"${TX_ID[$((n-5))]}\""
   ]
  },
  {
   "cell_type": "code",
   "execution_count": 124,
   "id": "929afabb-4684-4bf6-bd49-c8e748e68fd6",
   "metadata": {},
   "outputs": [
    {
     "name": "stdout",
     "output_type": "stream",
     "text": [
      "                           TxHash                                 TxIx        Amount\n",
      "--------------------------------------------------------------------------------------\n",
      "abdda9b830b8168cda7c3d66e9e57da404685623bdbc37ba522ab8c1b92ea594     2        1215420 lovelace + 300000 ea94ed18f7a5bf2199f638360443a31ab3ec639108dde4c9e3e9bfee.446a6564555344 + TxOutDatumHash ScriptDataInBabbageEra \"f22bf7dae0dae200d80484966a3e4e1074323d87e55011ec025b1fd6a66a5ae6\"\n"
     ]
    }
   ],
   "source": [
    "query_payout \"${TX_ID[$((n-3))]}\""
   ]
  },
  {
   "cell_type": "markdown",
   "id": "2a66ec9c-daf7-4342-af1d-e889733ffab0",
   "metadata": {},
   "source": [
    "### 11. Borrower 1 withdraws their 900k Djed"
   ]
  },
  {
   "cell_type": "markdown",
   "id": "e3aa2836-7186-4be5-afbe-4200d7cc3e4a",
   "metadata": {},
   "source": [
    "Before withdrawing the loan, Borrower 1 has 1M Djed."
   ]
  },
  {
   "cell_type": "code",
   "execution_count": 125,
   "id": "d1a68bb6-86a0-45b4-992f-291679ef843f",
   "metadata": {},
   "outputs": [
    {
     "name": "stdout",
     "output_type": "stream",
     "text": [
      "                           TxHash                                 TxIx        Amount\n",
      "--------------------------------------------------------------------------------------\n",
      "ba615b1dc8a950f1b74ff8979e65d97f95e2b6ec1f557b4ed55e533ce2273bb6     4        2000000 lovelace + 1000000 ea94ed18f7a5bf2199f638360443a31ab3ec639108dde4c9e3e9bfee.446a6564555344 + TxOutDatumNone\n",
      "de420d4192e780a48cc8742209230e388f5285689d060a271d2bc40a9c5c1b23     1        25000000 lovelace + TxOutDatumNone\n",
      "ef288046881fccdb0a25c608297e00e7684fe428cc888041dbfc5612455dc9b6     4        2000000 lovelace + 1 2cf679e1517d7171ba4a8a35d5ee9fb7f4d016249de49da74065a36f.4231 + TxOutDatumNone\n"
     ]
    }
   ],
   "source": [
    "query_borrower 1"
   ]
  },
  {
   "cell_type": "markdown",
   "id": "27c16771-c60e-4215-9ac0-800039c3bedd",
   "metadata": {},
   "source": [
    "Submit the transaction to withdraw the loan from the payout validator's address."
   ]
  },
  {
   "cell_type": "code",
   "execution_count": 126,
   "id": "ee36113e-fb9b-4cc2-a898-b44819876c52",
   "metadata": {},
   "outputs": [
    {
     "name": "stdout",
     "output_type": "stream",
     "text": [
      "\n",
      "Fee: Lovelace 623766\n",
      "Size: 603 / 16384 = 3%\n",
      "Execution units:\n",
      "  Memory: 5437140 / 14000000 = 38%\n",
      "  Steps: 1486014138 / 10000000000 = 14%\n",
      "TxId \"147fd7eeb9e3ef75a5596f0da7724b86070aba385fb4543e40464407996d7de4\"\n"
     ]
    }
   ],
   "source": [
    "withdraw \"$(borrower 1)\" \"${BORROWER_SKEY[1]}\" \"${BORROWER_ADDR[1]}\""
   ]
  },
  {
   "cell_type": "markdown",
   "id": "4d9ab497-0747-438d-a41d-c26a455903b1",
   "metadata": {},
   "source": [
    "After withdrawing the loan, Borrower 1 has an additional 900k Djed."
   ]
  },
  {
   "cell_type": "code",
   "execution_count": 127,
   "id": "0a41a286-80cf-44e7-a8dd-8ec242a3fedc",
   "metadata": {},
   "outputs": [
    {
     "name": "stdout",
     "output_type": "stream",
     "text": [
      "                           TxHash                                 TxIx        Amount\n",
      "--------------------------------------------------------------------------------------\n",
      "147fd7eeb9e3ef75a5596f0da7724b86070aba385fb4543e40464407996d7de4     0        26376234 lovelace + TxOutDatumNone\n",
      "147fd7eeb9e3ef75a5596f0da7724b86070aba385fb4543e40464407996d7de4     1        2430840 lovelace + 1 2cf679e1517d7171ba4a8a35d5ee9fb7f4d016249de49da74065a36f.4231 + 900000 ea94ed18f7a5bf2199f638360443a31ab3ec639108dde4c9e3e9bfee.446a6564555344 + TxOutDatumNone\n",
      "ba615b1dc8a950f1b74ff8979e65d97f95e2b6ec1f557b4ed55e533ce2273bb6     4        2000000 lovelace + 1000000 ea94ed18f7a5bf2199f638360443a31ab3ec639108dde4c9e3e9bfee.446a6564555344 + TxOutDatumNone\n"
     ]
    }
   ],
   "source": [
    "query_borrower 1"
   ]
  },
  {
   "cell_type": "markdown",
   "id": "1b947a4f-4651-4a28-a3b5-ce678487c8a7",
   "metadata": {},
   "source": [
    "The funds are no longer present at the payout script address."
   ]
  },
  {
   "cell_type": "code",
   "execution_count": 128,
   "id": "b8247c1d-e05a-46c8-827d-295643c46198",
   "metadata": {},
   "outputs": [
    {
     "name": "stdout",
     "output_type": "stream",
     "text": [
      "                           TxHash                                 TxIx        Amount\n",
      "--------------------------------------------------------------------------------------\n"
     ]
    }
   ],
   "source": [
    "query_payout \"${TX_ID[$((n-6))]}\""
   ]
  },
  {
   "cell_type": "code",
   "execution_count": 129,
   "id": "7fa72291-40bd-47b5-9c19-4ec48780c505",
   "metadata": {},
   "outputs": [
    {
     "name": "stdout",
     "output_type": "stream",
     "text": [
      "                           TxHash                                 TxIx        Amount\n",
      "--------------------------------------------------------------------------------------\n"
     ]
    }
   ],
   "source": [
    "query_payout \"${TX_ID[$((n-4))]}\""
   ]
  },
  {
   "cell_type": "markdown",
   "id": "eeb338b0-b50e-4d29-94cd-c84827287e45",
   "metadata": {},
   "source": [
    "### 12. Administrator authorizes loan of 600k Djed to Borrower 2"
   ]
  },
  {
   "cell_type": "code",
   "execution_count": 130,
   "id": "9459e4c9-5b27-4957-81eb-d5f35b1fa545",
   "metadata": {},
   "outputs": [],
   "source": [
    "LOAN_AMOUNT=600000"
   ]
  },
  {
   "cell_type": "code",
   "execution_count": 131,
   "id": "a1037a81-cd31-46b9-b4af-c45cf8e0e888",
   "metadata": {},
   "outputs": [],
   "source": [
    "n=$((n+1))"
   ]
  },
  {
   "cell_type": "code",
   "execution_count": 132,
   "id": "6b56c77b-35d0-47db-823e-75c0486eba22",
   "metadata": {},
   "outputs": [
    {
     "name": "stdout",
     "output_type": "stream",
     "text": [
      "1664078286000 + 10800000 = 1664089086000\n"
     ]
    }
   ],
   "source": [
    "set_validity_interval $((n-1))"
   ]
  },
  {
   "cell_type": "code",
   "execution_count": 133,
   "id": "5a0abfbb-2ad9-4df3-b59e-63dc6b0aed2c",
   "metadata": {},
   "outputs": [
    {
     "name": "stdout",
     "output_type": "stream",
     "text": [
      "\n",
      "Datum size: 462\n"
     ]
    }
   ],
   "source": [
    "marlowe-cli run prepare --choice-party \"$ADMINISTRATOR_ROLE\"\\\n",
    "                        --choice-name L2 \\\n",
    "                        --choice-number \"$LOAN_AMOUNT\" \\\n",
    "                        --invalid-before \"$INVALID_BEFORE\" \\\n",
    "                        --invalid-hereafter \"$INVALID_HEREAFTER\" \\\n",
    "                        --marlowe-file \"$BASENAME-$((n-1)).marlowe\" \\\n",
    "                        --out-file     \"$BASENAME-$n.marlowe\" \\\n",
    "                        --print-stats"
   ]
  },
  {
   "cell_type": "code",
   "execution_count": 134,
   "id": "0238cf5f-92e4-4b53-9cb2-0e25f1963937",
   "metadata": {},
   "outputs": [
    {
     "name": "stdout",
     "output_type": "stream",
     "text": [
      "accounts:\n",
      "- - - role_token: A\n",
      "    - currency_symbol: ''\n",
      "      token_name: ''\n",
      "  - 2000000\n",
      "- - - role_token: S1\n",
      "    - currency_symbol: ea94ed18f7a5bf2199f638360443a31ab3ec639108dde4c9e3e9bfee\n",
      "      token_name: DjedUSD\n",
      "  - 5000000\n",
      "- - - role_token: I1\n",
      "    - currency_symbol: ea94ed18f7a5bf2199f638360443a31ab3ec639108dde4c9e3e9bfee\n",
      "      token_name: DjedUSD\n",
      "  - 400000\n",
      "- - - role_token: I2\n",
      "    - currency_symbol: ea94ed18f7a5bf2199f638360443a31ab3ec639108dde4c9e3e9bfee\n",
      "      token_name: DjedUSD\n",
      "  - 200000\n",
      "boundValues:\n",
      "- - s\n",
      "  - 5000000\n",
      "- - a\n",
      "  - 600000\n",
      "- - e1\n",
      "  - 1024000\n",
      "- - e2\n",
      "  - 512000\n",
      "- - l\n",
      "  - 990000\n"
     ]
    }
   ],
   "source": [
    "show_nonchoices $n"
   ]
  },
  {
   "cell_type": "markdown",
   "id": "39ab8f0e-563e-4f11-841d-84a3a1016bbd",
   "metadata": {},
   "source": [
    "Submit the transaction."
   ]
  },
  {
   "cell_type": "code",
   "execution_count": 135,
   "id": "9eb5f379-b92a-416c-b40c-5ae52f1ee231",
   "metadata": {},
   "outputs": [
    {
     "name": "stdout",
     "output_type": "stream",
     "text": [
      "\n",
      "Fee: Lovelace 1015004\n",
      "Size: 3013 / 16384 = 18%\n",
      "Execution units:\n",
      "  Memory: 9181856 / 14000000 = 65%\n",
      "  Steps: 2444796561 / 10000000000 = 24%\n",
      "\n",
      "Transaction 21 hash: bf3ff2db4345d8702fe9cd4ee7d95da424f366c15c87480fa6ae2138f63eae0b\n"
     ]
    }
   ],
   "source": [
    "execute \"$ADMINISTRATOR_SKEY\" \"$ADMINISTRATOR_ADDR\""
   ]
  },
  {
   "cell_type": "markdown",
   "id": "cdb1a29f-fcef-4a61-9554-80a22b19496d",
   "metadata": {},
   "source": [
    "### 13. Unpause"
   ]
  },
  {
   "cell_type": "code",
   "execution_count": 136,
   "id": "b74e9e45-d116-4a1e-86ff-2d7d706e3dfd",
   "metadata": {},
   "outputs": [
    {
     "name": "stdout",
     "output_type": "stream",
     "text": [
      "\n",
      "----- Unpause 1 -----\n",
      "\n",
      "1664078286000 + 10800000 = 1664089086000\n",
      "\n",
      "Datum size: 462\n",
      "\n",
      "Fee: Lovelace 1152461\n",
      "Size: 3073 / 16384 = 18%\n",
      "Execution units:\n",
      "  Memory: 10730136 / 14000000 = 76%\n",
      "  Steps: 3137241389 / 10000000000 = 31%\n",
      "\n",
      "Transaction 22 hash: ddc53a0dead66ef64c46b32285937d47822ce97997d69c7631814ff062c7ab04\n",
      "\n",
      "----- Unpause 2 -----\n",
      "\n",
      "1664078286000 + 10800000 = 1664089086000\n",
      "\n",
      "Datum size: 404\n",
      "Payment 1\n",
      "  Acccount: \"I1\"\n",
      "  Payee: Party \"B2\"\n",
      "  Ada: Lovelace {getLovelace = 0}\n",
      "  ea94ed18f7a5bf2199f638360443a31ab3ec639108dde4c9e3e9bfee.\"DjedUSD\": 400000\n",
      "\n",
      "Fee: Lovelace 975741\n",
      "Size: 1834 / 16384 = 11%\n",
      "Execution units:\n",
      "  Memory: 9400721 / 14000000 = 67%\n",
      "  Steps: 2506206178 / 10000000000 = 25%\n",
      "\n",
      "Transaction 23 hash: 858869352fcfc16d4906ca9b2506f0c4b0148de4338643bc24f06471b0ea610d\n",
      "\n",
      "----- Unpause 3 -----\n",
      "\n",
      "1664078286000 + 10800000 = 1664089086000\n",
      "\n",
      "Warnings:\n",
      "  TransactionShadowing \"e1\" 1024000 1024000\n",
      "Datum size: 404\n",
      "\n",
      "Fee: Lovelace 810574\n",
      "Size: 1599 / 16384 = 9%\n",
      "Execution units:\n",
      "  Memory: 7330054 / 14000000 = 52%\n",
      "  Steps: 2015923071 / 10000000000 = 20%\n",
      "\n",
      "Transaction 24 hash: 1710a449957322e9736d62179d9194486ccd4ee715e90236c8ec5c1524e2b095\n",
      "\n",
      "----- Unpause 4 -----\n",
      "\n",
      "1664078286000 + 10800000 = 1664089086000\n",
      "\n",
      "Datum size: 346\n",
      "Payment 1\n",
      "  Acccount: \"I2\"\n",
      "  Payee: Party \"B2\"\n",
      "  Ada: Lovelace {getLovelace = 0}\n",
      "  ea94ed18f7a5bf2199f638360443a31ab3ec639108dde4c9e3e9bfee.\"DjedUSD\": 200000\n",
      "\n",
      "Fee: Lovelace 937791\n",
      "Size: 1718 / 16384 = 10%\n",
      "Execution units:\n",
      "  Memory: 8967181 / 14000000 = 64%\n",
      "  Steps: 2397609326 / 10000000000 = 23%\n",
      "\n",
      "Transaction 25 hash: 267870a0b5521711cbf54e88e90a04eb9230a2c468015be3269d5b8835a71ae6\n",
      "\n",
      "----- Unpause 5 -----\n",
      "\n",
      "1664078286000 + 10800000 = 1664089086000\n",
      "\n",
      "Warnings:\n",
      "  TransactionShadowing \"e2\" 512000 512000\n",
      "Datum size: 346\n",
      "\n",
      "Fee: Lovelace 773825\n",
      "Size: 1483 / 16384 = 9%\n",
      "Execution units:\n",
      "  Memory: 6911522 / 14000000 = 49%\n",
      "  Steps: 1911966341 / 10000000000 = 19%\n",
      "\n",
      "Transaction 26 hash: e30dd6df179ca5c436e86012d331d726fac4a3532679d716eb00be0e67b4e181\n",
      "\n",
      "----- Unpause 6 -----\n",
      "\n",
      "1664078286000 + 10800000 = 1664089086000\n",
      "\n",
      "Warnings:\n",
      "  TransactionShadowing \"l\" 990000 1650000\n",
      "Datum size: 346\n",
      "\n",
      "Fee: Lovelace 755756\n",
      "Size: 1431 / 16384 = 8%\n",
      "Execution units:\n",
      "  Memory: 6717032 / 14000000 = 47%\n",
      "  Steps: 1848728225 / 10000000000 = 18%\n",
      "\n",
      "Transaction 27 hash: 677359de9880db7353a389c76fe281c44805b242f7d48d5ffb3d8218d5d91ba0\n",
      "\n",
      "----- Unpause 7 -----\n",
      "\n",
      "1664078286000 + 10800000 = 1664089086000\n",
      "\n",
      "Warnings:\n",
      "  TransactionShadowing \"a\" 600000 0\n",
      "Datum size: 1636\n",
      "\n",
      "Fee: Lovelace 1066996\n",
      "Size: 3974 / 16384 = 24%\n",
      "Execution units:\n",
      "  Memory: 9178040 / 14000000 = 65%\n",
      "  Steps: 2644125423 / 10000000000 = 26%\n",
      "\n",
      "Transaction 28 hash: 3af1617b87e13d0c1db4c9c64d40b76f77537c7cc8f439dc75942d57e452404c\n"
     ]
    }
   ],
   "source": [
    "unpause 7"
   ]
  },
  {
   "cell_type": "markdown",
   "id": "ecbb613a-3a4c-444e-8bf3-47ae6180a682",
   "metadata": {},
   "source": [
    "The funds have been paid from the Marlowe script address."
   ]
  },
  {
   "cell_type": "code",
   "execution_count": 137,
   "id": "16a37a48-a935-46be-99c7-c824b425737d",
   "metadata": {},
   "outputs": [
    {
     "name": "stdout",
     "output_type": "stream",
     "text": [
      "                           TxHash                                 TxIx        Amount\n",
      "--------------------------------------------------------------------------------------\n",
      "3af1617b87e13d0c1db4c9c64d40b76f77537c7cc8f439dc75942d57e452404c     1        2000000 lovelace + 5000000 ea94ed18f7a5bf2199f638360443a31ab3ec639108dde4c9e3e9bfee.446a6564555344 + TxOutDatumHash ScriptDataInBabbageEra \"15166d5b4ced31103e4ca92c2538ca5e2ae48053bb47a0fcf7dded41bcf8adc1\"\n"
     ]
    }
   ],
   "source": [
    "query_marlowe \"${TX_ID[$n]}\""
   ]
  },
  {
   "cell_type": "markdown",
   "id": "239f690f-50e5-4da7-af0e-640e0a25bf7f",
   "metadata": {},
   "source": [
    "And paid to the payout script address in two installments (one from each investor's account)."
   ]
  },
  {
   "cell_type": "code",
   "execution_count": 138,
   "id": "2d5aa840-4d84-484a-8341-f97d69514a85",
   "metadata": {},
   "outputs": [
    {
     "name": "stdout",
     "output_type": "stream",
     "text": [
      "                           TxHash                                 TxIx        Amount\n",
      "--------------------------------------------------------------------------------------\n",
      "858869352fcfc16d4906ca9b2506f0c4b0148de4338643bc24f06471b0ea610d     2        1215420 lovelace + 400000 ea94ed18f7a5bf2199f638360443a31ab3ec639108dde4c9e3e9bfee.446a6564555344 + TxOutDatumHash ScriptDataInBabbageEra \"6816962b8dbfd16219f3c1d294ad0f7e1212995ba2d0c7e947c33b583c1151d8\"\n"
     ]
    }
   ],
   "source": [
    "query_payout \"${TX_ID[$((n-5))]}\""
   ]
  },
  {
   "cell_type": "code",
   "execution_count": 139,
   "id": "7afcbf62-67d8-4f65-af31-e8d72b877dbb",
   "metadata": {},
   "outputs": [
    {
     "name": "stdout",
     "output_type": "stream",
     "text": [
      "                           TxHash                                 TxIx        Amount\n",
      "--------------------------------------------------------------------------------------\n",
      "267870a0b5521711cbf54e88e90a04eb9230a2c468015be3269d5b8835a71ae6     2        1215420 lovelace + 200000 ea94ed18f7a5bf2199f638360443a31ab3ec639108dde4c9e3e9bfee.446a6564555344 + TxOutDatumHash ScriptDataInBabbageEra \"6816962b8dbfd16219f3c1d294ad0f7e1212995ba2d0c7e947c33b583c1151d8\"\n"
     ]
    }
   ],
   "source": [
    "query_payout \"${TX_ID[$((n-3))]}\""
   ]
  },
  {
   "cell_type": "markdown",
   "id": "3415b6b3-374c-421c-9533-156fe9905f9a",
   "metadata": {},
   "source": [
    "### 14. Borrower 2 withdraws their 600k Djed"
   ]
  },
  {
   "cell_type": "markdown",
   "id": "c9944f87-29b2-46d8-be07-893cbfd652b5",
   "metadata": {},
   "source": [
    "Before withdrawing the loan, Borrower 2 has 1M Djed."
   ]
  },
  {
   "cell_type": "code",
   "execution_count": 140,
   "id": "eb3ff69e-7d1c-4bbd-baa8-64c3d3308211",
   "metadata": {},
   "outputs": [
    {
     "name": "stdout",
     "output_type": "stream",
     "text": [
      "                           TxHash                                 TxIx        Amount\n",
      "--------------------------------------------------------------------------------------\n",
      "ba615b1dc8a950f1b74ff8979e65d97f95e2b6ec1f557b4ed55e533ce2273bb6     5        2000000 lovelace + 1000000 ea94ed18f7a5bf2199f638360443a31ab3ec639108dde4c9e3e9bfee.446a6564555344 + TxOutDatumNone\n",
      "de420d4192e780a48cc8742209230e388f5285689d060a271d2bc40a9c5c1b23     2        25000000 lovelace + TxOutDatumNone\n",
      "ef288046881fccdb0a25c608297e00e7684fe428cc888041dbfc5612455dc9b6     5        2000000 lovelace + 1 2cf679e1517d7171ba4a8a35d5ee9fb7f4d016249de49da74065a36f.4232 + TxOutDatumNone\n"
     ]
    }
   ],
   "source": [
    "query_borrower 2"
   ]
  },
  {
   "cell_type": "markdown",
   "id": "ff74cdff-d363-4047-a261-937fc0b16aee",
   "metadata": {},
   "source": [
    "Submit the transaction to withdraw the loan from the payout validator's address."
   ]
  },
  {
   "cell_type": "code",
   "execution_count": 141,
   "id": "bc3be794-9c55-4e9d-9f29-c672c87b8b0b",
   "metadata": {},
   "outputs": [
    {
     "name": "stdout",
     "output_type": "stream",
     "text": [
      "\n",
      "Fee: Lovelace 623766\n",
      "Size: 603 / 16384 = 3%\n",
      "Execution units:\n",
      "  Memory: 5437140 / 14000000 = 38%\n",
      "  Steps: 1486014138 / 10000000000 = 14%\n",
      "TxId \"bdb2fa645ad5b95aeafe1b748a926a65fac11e4d8ca253ba2d14868eec2ce25c\"\n"
     ]
    }
   ],
   "source": [
    "withdraw \"$(borrower 2)\" \"${BORROWER_SKEY[2]}\" \"${BORROWER_ADDR[2]}\""
   ]
  },
  {
   "cell_type": "markdown",
   "id": "69e53a21-4dfe-4a1e-8fd6-bd2fd120c1e1",
   "metadata": {},
   "source": [
    "After withdrawing the loan, Borrower 1 has an additional 900k Djed."
   ]
  },
  {
   "cell_type": "code",
   "execution_count": 142,
   "id": "4332386b-3259-48eb-84f0-41277574d166",
   "metadata": {},
   "outputs": [
    {
     "name": "stdout",
     "output_type": "stream",
     "text": [
      "                           TxHash                                 TxIx        Amount\n",
      "--------------------------------------------------------------------------------------\n",
      "ba615b1dc8a950f1b74ff8979e65d97f95e2b6ec1f557b4ed55e533ce2273bb6     5        2000000 lovelace + 1000000 ea94ed18f7a5bf2199f638360443a31ab3ec639108dde4c9e3e9bfee.446a6564555344 + TxOutDatumNone\n",
      "bdb2fa645ad5b95aeafe1b748a926a65fac11e4d8ca253ba2d14868eec2ce25c     0        26376234 lovelace + TxOutDatumNone\n",
      "bdb2fa645ad5b95aeafe1b748a926a65fac11e4d8ca253ba2d14868eec2ce25c     1        2430840 lovelace + 1 2cf679e1517d7171ba4a8a35d5ee9fb7f4d016249de49da74065a36f.4232 + 600000 ea94ed18f7a5bf2199f638360443a31ab3ec639108dde4c9e3e9bfee.446a6564555344 + TxOutDatumNone\n"
     ]
    }
   ],
   "source": [
    "query_borrower 2"
   ]
  },
  {
   "cell_type": "markdown",
   "id": "9fa9dc0a-cb12-4782-b566-50b53b35c7b2",
   "metadata": {},
   "source": [
    "The funds are no longer present at the payout script address."
   ]
  },
  {
   "cell_type": "code",
   "execution_count": 143,
   "id": "cd891170-52e6-4fd0-93ab-0aa7feff33a8",
   "metadata": {},
   "outputs": [
    {
     "name": "stdout",
     "output_type": "stream",
     "text": [
      "                           TxHash                                 TxIx        Amount\n",
      "--------------------------------------------------------------------------------------\n"
     ]
    }
   ],
   "source": [
    "query_payout \"${TX_ID[$((n-6))]}\""
   ]
  },
  {
   "cell_type": "code",
   "execution_count": 144,
   "id": "5f4b7269-4b0e-4a76-b474-5660bcf570f2",
   "metadata": {},
   "outputs": [
    {
     "name": "stdout",
     "output_type": "stream",
     "text": [
      "                           TxHash                                 TxIx        Amount\n",
      "--------------------------------------------------------------------------------------\n"
     ]
    }
   ],
   "source": [
    "query_payout \"${TX_ID[$((n-4))]}\""
   ]
  },
  {
   "cell_type": "markdown",
   "id": "3034693b-2733-4076-8129-ea780a36348f",
   "metadata": {},
   "source": [
    "### 15. Borrower 2 pays back 720k Djed owed"
   ]
  },
  {
   "cell_type": "markdown",
   "id": "e16e4ed8-9055-4684-bef5-1dd398aa8c81",
   "metadata": {},
   "source": [
    "#### Choose the deposit"
   ]
  },
  {
   "cell_type": "code",
   "execution_count": 145,
   "id": "6b1e544f-b54d-40e6-9ebb-4b5ca0ed0742",
   "metadata": {},
   "outputs": [],
   "source": [
    "BORROWER_REPAYMENT=720000"
   ]
  },
  {
   "cell_type": "code",
   "execution_count": 146,
   "id": "6af089a4-8a1e-43b8-97cc-cc3492eeadcd",
   "metadata": {},
   "outputs": [],
   "source": [
    "n=$((n+1))"
   ]
  },
  {
   "cell_type": "code",
   "execution_count": 147,
   "id": "7670f46a-0691-432c-a263-e3ae9d0890eb",
   "metadata": {},
   "outputs": [
    {
     "name": "stdout",
     "output_type": "stream",
     "text": [
      "1664078286000 + 10800000 = 1664089086000\n"
     ]
    }
   ],
   "source": [
    "set_validity_interval $((n-1))"
   ]
  },
  {
   "cell_type": "code",
   "execution_count": 148,
   "id": "3e780230-62bf-4ee9-9fd2-4c368206eae4",
   "metadata": {},
   "outputs": [
    {
     "name": "stdout",
     "output_type": "stream",
     "text": [
      "\n",
      "Datum size: 1654\n"
     ]
    }
   ],
   "source": [
    "marlowe-cli run prepare --choice-party \"$(borrower 2)\" \\\n",
    "                        --choice-name R \\\n",
    "                        --choice-number \"$BORROWER_REPAYMENT\" \\\n",
    "                        --invalid-before \"$INVALID_BEFORE\" \\\n",
    "                        --invalid-hereafter \"$INVALID_HEREAFTER\" \\\n",
    "                        --marlowe-file \"$BASENAME-$((n-1)).marlowe\" \\\n",
    "                        --out-file     \"$BASENAME-$n.marlowe\" \\\n",
    "                        --print-stats"
   ]
  },
  {
   "cell_type": "code",
   "execution_count": 149,
   "id": "2041f81f-ef0f-46a0-9d24-edb4c9b8045d",
   "metadata": {},
   "outputs": [
    {
     "name": "stdout",
     "output_type": "stream",
     "text": [
      "- - choice_name: S\n",
      "    choice_owner:\n",
      "      role_token: S1\n",
      "  - 5000000\n",
      "- - choice_name: I\n",
      "    choice_owner:\n",
      "      role_token: I1\n",
      "  - 1000000\n",
      "- - choice_name: I\n",
      "    choice_owner:\n",
      "      role_token: I2\n",
      "  - 500000\n",
      "- - choice_name: L1\n",
      "    choice_owner:\n",
      "      role_token: A\n",
      "  - 900000\n",
      "- - choice_name: L2\n",
      "    choice_owner:\n",
      "      role_token: A\n",
      "  - 600000\n",
      "- - choice_name: R\n",
      "    choice_owner:\n",
      "      role_token: B2\n",
      "  - 720000\n"
     ]
    }
   ],
   "source": [
    "show_choices $n"
   ]
  },
  {
   "cell_type": "markdown",
   "id": "eb90b0ee-3199-42ec-9513-03aef2b348bd",
   "metadata": {},
   "source": [
    "Submit the transaction."
   ]
  },
  {
   "cell_type": "code",
   "execution_count": 150,
   "id": "2be714bc-ed80-42d4-8e48-b138e7887dcd",
   "metadata": {},
   "outputs": [
    {
     "name": "stdout",
     "output_type": "stream",
     "text": [
      "\n",
      "Fee: Lovelace 1389031\n",
      "Size: 5511 / 16384 = 33%\n",
      "Execution units:\n",
      "  Memory: 12427798 / 14000000 = 88%\n",
      "  Steps: 3510318636 / 10000000000 = 35%\n",
      "\n",
      "Transaction 29 hash: cab501c45e107faa298a3557fa3d3d4a9651b82318071b3a8d3ace817c5c4f4e\n"
     ]
    }
   ],
   "source": [
    "execute \"${BORROWER_SKEY[2]}\" \"${BORROWER_ADDR[2]}\""
   ]
  },
  {
   "cell_type": "markdown",
   "id": "72d68b5d-baad-4141-abc1-52083fa748a1",
   "metadata": {},
   "source": [
    "#### Make the deposit"
   ]
  },
  {
   "cell_type": "code",
   "execution_count": 151,
   "id": "8d682c04-8d74-422a-ab8d-7a0ffbdc9f09",
   "metadata": {},
   "outputs": [],
   "source": [
    "n=$((n+1))"
   ]
  },
  {
   "cell_type": "code",
   "execution_count": 152,
   "id": "6b7726bc-39cc-4659-a6a5-e576bfa4cdbc",
   "metadata": {},
   "outputs": [
    {
     "name": "stdout",
     "output_type": "stream",
     "text": [
      "1664078286000 + 10800000 = 1664089086000\n"
     ]
    }
   ],
   "source": [
    "set_validity_interval $((n-1))"
   ]
  },
  {
   "cell_type": "code",
   "execution_count": 153,
   "id": "404f8da2-e8eb-4c90-b4fa-348cc73be976",
   "metadata": {},
   "outputs": [
    {
     "name": "stdout",
     "output_type": "stream",
     "text": [
      "\n",
      "Datum size: 417\n"
     ]
    }
   ],
   "source": [
    "marlowe-cli run prepare --deposit-account \"$ADMINISTRATOR_ROLE\" \\\n",
    "                        --deposit-party \"$(borrower 2)\" \\\n",
    "                        --deposit-token \"$DJED\" \\\n",
    "                        --deposit-amount \"$BORROWER_REPAYMENT\" \\\n",
    "                        --invalid-before \"$INVALID_BEFORE\" \\\n",
    "                        --invalid-hereafter \"$INVALID_HEREAFTER\" \\\n",
    "                        --marlowe-file \"$BASENAME-$((n-1)).marlowe\" \\\n",
    "                        --out-file     \"$BASENAME-$n.marlowe\" \\\n",
    "                        --print-stats"
   ]
  },
  {
   "cell_type": "code",
   "execution_count": 154,
   "id": "b99b0fbf-efde-4d7e-831e-eb4586cd582b",
   "metadata": {},
   "outputs": [
    {
     "name": "stdout",
     "output_type": "stream",
     "text": [
      "accounts:\n",
      "- - - role_token: A\n",
      "    - currency_symbol: ''\n",
      "      token_name: ''\n",
      "  - 2000000\n",
      "- - - role_token: S1\n",
      "    - currency_symbol: ea94ed18f7a5bf2199f638360443a31ab3ec639108dde4c9e3e9bfee\n",
      "      token_name: DjedUSD\n",
      "  - 5000000\n",
      "- - - role_token: A\n",
      "    - currency_symbol: ea94ed18f7a5bf2199f638360443a31ab3ec639108dde4c9e3e9bfee\n",
      "      token_name: DjedUSD\n",
      "  - 720000\n",
      "boundValues:\n",
      "- - s\n",
      "  - 5000000\n",
      "- - a\n",
      "  - 0\n",
      "- - e1\n",
      "  - 1024000\n",
      "- - e2\n",
      "  - 512000\n",
      "- - l\n",
      "  - 1650000\n"
     ]
    }
   ],
   "source": [
    "show_nonchoices $n"
   ]
  },
  {
   "cell_type": "markdown",
   "id": "72962252-bc72-45b6-b63e-ce45d3826f12",
   "metadata": {},
   "source": [
    "Submit the transaction."
   ]
  },
  {
   "cell_type": "code",
   "execution_count": 155,
   "id": "c7a892e2-7ca3-4f56-8fef-71bec0efb023",
   "metadata": {},
   "outputs": [
    {
     "name": "stdout",
     "output_type": "stream",
     "text": [
      "\n",
      "Fee: Lovelace 1105927\n",
      "Size: 3076 / 16384 = 18%\n",
      "Execution units:\n",
      "  Memory: 10270168 / 14000000 = 73%\n",
      "  Steps: 2734821753 / 10000000000 = 27%\n",
      "\n",
      "Transaction 30 hash: 0ba4d5d24683c61c77a18f2468b027d7da7dd86c3778421a42b3ad3503f16337\n"
     ]
    }
   ],
   "source": [
    "execute \"${BORROWER_SKEY[2]}\" \"${BORROWER_ADDR[2]}\""
   ]
  },
  {
   "cell_type": "markdown",
   "id": "e21c5ee8-1120-4ec6-abbd-852905ffb9da",
   "metadata": {},
   "source": [
    "The script has received the deposit."
   ]
  },
  {
   "cell_type": "code",
   "execution_count": 156,
   "id": "a1e97c32-77dc-436b-968f-cc11b5bfd6f0",
   "metadata": {},
   "outputs": [
    {
     "name": "stdout",
     "output_type": "stream",
     "text": [
      "                           TxHash                                 TxIx        Amount\n",
      "--------------------------------------------------------------------------------------\n",
      "0ba4d5d24683c61c77a18f2468b027d7da7dd86c3778421a42b3ad3503f16337     1        2000000 lovelace + 5720000 ea94ed18f7a5bf2199f638360443a31ab3ec639108dde4c9e3e9bfee.446a6564555344 + TxOutDatumHash ScriptDataInBabbageEra \"56652eff7be8b4145706d27b41659c40d90c920b68f79a359a7a53ba46a9bb36\"\n"
     ]
    }
   ],
   "source": [
    "query_marlowe \"${TX_ID[$n]}\""
   ]
  },
  {
   "cell_type": "markdown",
   "id": "b28e7772-445d-4727-8507-cf23e79b77de",
   "metadata": {},
   "source": [
    "Borrower has 720k Djed less the previously."
   ]
  },
  {
   "cell_type": "code",
   "execution_count": 157,
   "id": "7e752824-8844-43a0-b036-6ef35793a6ca",
   "metadata": {},
   "outputs": [
    {
     "name": "stdout",
     "output_type": "stream",
     "text": [
      "                           TxHash                                 TxIx        Amount\n",
      "--------------------------------------------------------------------------------------\n",
      "0ba4d5d24683c61c77a18f2468b027d7da7dd86c3778421a42b3ad3503f16337     0        21821016 lovelace + TxOutDatumNone\n",
      "0ba4d5d24683c61c77a18f2468b027d7da7dd86c3778421a42b3ad3503f16337     2        1137840 lovelace + 1 2cf679e1517d7171ba4a8a35d5ee9fb7f4d016249de49da74065a36f.4232 + TxOutDatumNone\n",
      "0ba4d5d24683c61c77a18f2468b027d7da7dd86c3778421a42b3ad3503f16337     3        1500000 lovelace + TxOutDatumHash ScriptDataInBabbageEra \"e50d7539222ab4b8bb940902e8b0add858d0891fc4f38be679a064856b1a04d5\"\n",
      "0ba4d5d24683c61c77a18f2468b027d7da7dd86c3778421a42b3ad3503f16337     4        1176630 lovelace + 280000 ea94ed18f7a5bf2199f638360443a31ab3ec639108dde4c9e3e9bfee.446a6564555344 + TxOutDatumNone\n",
      "cab501c45e107faa298a3557fa3d3d4a9651b82318071b3a8d3ace817c5c4f4e     3        1500000 lovelace + TxOutDatumHash ScriptDataInBabbageEra \"415fa4bd5ee6539dd2607de393ceedd538a2056fdce7ea4d140f1062a8307469\"\n",
      "cab501c45e107faa298a3557fa3d3d4a9651b82318071b3a8d3ace817c5c4f4e     4        1176630 lovelace + 600000 ea94ed18f7a5bf2199f638360443a31ab3ec639108dde4c9e3e9bfee.446a6564555344 + TxOutDatumNone\n"
     ]
    }
   ],
   "source": [
    "query_borrower 2"
   ]
  },
  {
   "cell_type": "markdown",
   "id": "a3ca9872-8cc2-4576-b23d-e33d94791a1a",
   "metadata": {},
   "source": [
    "### 16. Unpause"
   ]
  },
  {
   "cell_type": "code",
   "execution_count": 158,
   "id": "bd6d50b8-968b-428c-809c-b6b78b293c8e",
   "metadata": {},
   "outputs": [
    {
     "name": "stdout",
     "output_type": "stream",
     "text": [
      "\n",
      "----- Unpause 1 -----\n",
      "\n",
      "1664078286000 + 10800000 = 1664089086000\n",
      "\n",
      "Datum size: 475\n",
      "Payment 1\n",
      "  Acccount: \"A\"\n",
      "  Payee: Account \"I1\"\n",
      "  Ada: Lovelace {getLovelace = 0}\n",
      "  ea94ed18f7a5bf2199f638360443a31ab3ec639108dde4c9e3e9bfee.\"DjedUSD\": 446836\n",
      "\n",
      "Fee: Lovelace 1002613\n",
      "Size: 1716 / 16384 = 10%\n",
      "Execution units:\n",
      "  Memory: 9800068 / 14000000 = 70%\n",
      "  Steps: 2631340957 / 10000000000 = 26%\n",
      "\n",
      "Transaction 31 hash: d0ab5d4b70c61a929061d5409e11562b66c70ca2092782d78a78df37accbb1aa\n",
      "\n",
      "----- Unpause 2 -----\n",
      "\n",
      "1664078286000 + 10800000 = 1664089086000\n",
      "\n",
      "Datum size: 531\n",
      "Payment 1\n",
      "  Acccount: \"A\"\n",
      "  Payee: Account \"I2\"\n",
      "  Ada: Lovelace {getLovelace = 0}\n",
      "  ea94ed18f7a5bf2199f638360443a31ab3ec639108dde4c9e3e9bfee.\"DjedUSD\": 223418\n",
      "\n",
      "Fee: Lovelace 1061090\n",
      "Size: 1830 / 16384 = 11%\n",
      "Execution units:\n",
      "  Memory: 10503164 / 14000000 = 75%\n",
      "  Steps: 2810153259 / 10000000000 = 28%\n",
      "\n",
      "Transaction 32 hash: 03e7ab2e62b082d2880cc20d8a18b19b071b62826ab316522ea935004527047f\n",
      "\n",
      "----- Unpause 3 -----\n",
      "\n",
      "1664078286000 + 10800000 = 1664089086000\n",
      "\n",
      "Warnings:\n",
      "  TransactionShadowing \"l\" 1650000 930000\n",
      "Datum size: 531\n",
      "\n",
      "Fee: Lovelace 796770\n",
      "Size: 1760 / 16384 = 10%\n",
      "Execution units:\n",
      "  Memory: 7122474 / 14000000 = 50%\n",
      "  Steps: 1892345936 / 10000000000 = 18%\n",
      "\n",
      "Transaction 33 hash: 9f93c105c37613a01a678a9ec2c06258106870b3b28e5aad7e613cf657c58a87\n",
      "\n",
      "----- Unpause 4 -----\n",
      "\n",
      "1664078286000 + 10800000 = 1664089086000\n",
      "\n",
      "Warnings:\n",
      "  TransactionShadowing \"a\" 0 720000\n",
      "Datum size: 1829\n",
      "\n",
      "Fee: Lovelace 1176937\n",
      "Size: 4352 / 16384 = 26%\n",
      "Execution units:\n",
      "  Memory: 10409944 / 14000000 = 74%\n",
      "  Steps: 2952420594 / 10000000000 = 29%\n",
      "\n",
      "Transaction 34 hash: 67a209748bd557cfa2ea557e97fd1ad28ba5166714d27d0108f6801f84916f13\n"
     ]
    }
   ],
   "source": [
    "unpause 4"
   ]
  },
  {
   "cell_type": "markdown",
   "id": "f9ec3007-1a71-46f6-aa17-4c854f3992a3",
   "metadata": {},
   "source": [
    "### 17. Borrower 1 only pays back 840k of the 990k Djed owed"
   ]
  },
  {
   "cell_type": "markdown",
   "id": "84e1d22b-32f3-42c2-b38e-41a102b429ce",
   "metadata": {},
   "source": [
    "#### Choose the deposit"
   ]
  },
  {
   "cell_type": "code",
   "execution_count": 159,
   "id": "7a5c81dd-7510-4002-9d7e-150a76369d80",
   "metadata": {},
   "outputs": [],
   "source": [
    "BORROWER_REPAYMENT=840000"
   ]
  },
  {
   "cell_type": "code",
   "execution_count": 160,
   "id": "1ea1d35d-9e95-45b3-b12f-0b2f2b68d290",
   "metadata": {},
   "outputs": [],
   "source": [
    "n=$((n+1))"
   ]
  },
  {
   "cell_type": "code",
   "execution_count": 161,
   "id": "cf525d03-2137-4d50-a738-8c47238418ab",
   "metadata": {},
   "outputs": [
    {
     "name": "stdout",
     "output_type": "stream",
     "text": [
      "1664078286000 + 10800000 = 1664089086000\n"
     ]
    }
   ],
   "source": [
    "set_validity_interval $((n-1))"
   ]
  },
  {
   "cell_type": "code",
   "execution_count": 162,
   "id": "9715c903-6a74-4310-98a7-ec545b421571",
   "metadata": {},
   "outputs": [
    {
     "name": "stdout",
     "output_type": "stream",
     "text": [
      "\n",
      "Datum size: 1847\n"
     ]
    }
   ],
   "source": [
    "marlowe-cli run prepare --choice-party \"$(borrower 1)\" \\\n",
    "                        --choice-name R \\\n",
    "                        --choice-number \"$BORROWER_REPAYMENT\" \\\n",
    "                        --invalid-before \"$INVALID_BEFORE\" \\\n",
    "                        --invalid-hereafter \"$INVALID_HEREAFTER\" \\\n",
    "                        --marlowe-file \"$BASENAME-$((n-1)).marlowe\" \\\n",
    "                        --out-file     \"$BASENAME-$n.marlowe\" \\\n",
    "                        --print-stats"
   ]
  },
  {
   "cell_type": "code",
   "execution_count": 163,
   "id": "e38746a5-6a18-4efb-8dc4-d98d21d3f371",
   "metadata": {},
   "outputs": [
    {
     "name": "stdout",
     "output_type": "stream",
     "text": [
      "- - choice_name: S\n",
      "    choice_owner:\n",
      "      role_token: S1\n",
      "  - 5000000\n",
      "- - choice_name: I\n",
      "    choice_owner:\n",
      "      role_token: I1\n",
      "  - 1000000\n",
      "- - choice_name: I\n",
      "    choice_owner:\n",
      "      role_token: I2\n",
      "  - 500000\n",
      "- - choice_name: L1\n",
      "    choice_owner:\n",
      "      role_token: A\n",
      "  - 900000\n",
      "- - choice_name: L2\n",
      "    choice_owner:\n",
      "      role_token: A\n",
      "  - 600000\n",
      "- - choice_name: R\n",
      "    choice_owner:\n",
      "      role_token: B2\n",
      "  - 720000\n",
      "- - choice_name: R\n",
      "    choice_owner:\n",
      "      role_token: B1\n",
      "  - 840000\n"
     ]
    }
   ],
   "source": [
    "show_choices $n"
   ]
  },
  {
   "cell_type": "markdown",
   "id": "562ea42b-ee48-4c82-8836-78666cb12940",
   "metadata": {},
   "source": [
    "Submit the transaction."
   ]
  },
  {
   "cell_type": "code",
   "execution_count": 164,
   "id": "d9f12681-f163-4c96-8479-b4276cff65cd",
   "metadata": {},
   "outputs": [
    {
     "name": "stdout",
     "output_type": "stream",
     "text": [
      "\n",
      "Fee: Lovelace 1494184\n",
      "Size: 5897 / 16384 = 35%\n",
      "Execution units:\n",
      "  Memory: 13591802 / 14000000 = 97%\n",
      "  Steps: 3801656446 / 10000000000 = 38%\n",
      "\n",
      "Transaction 35 hash: 5af444040f1deff349b6a56618ea39639a7c0dd8f606031ad26d1acc094709dd\n"
     ]
    }
   ],
   "source": [
    "execute \"${BORROWER_SKEY[1]}\" \"${BORROWER_ADDR[1]}\""
   ]
  },
  {
   "cell_type": "markdown",
   "id": "cc43f3e1-1f1d-457a-a479-9b99ef6f0525",
   "metadata": {},
   "source": [
    "#### Make the deposit"
   ]
  },
  {
   "cell_type": "code",
   "execution_count": 165,
   "id": "45c69d9b-b032-4aa5-bac0-d64fd5131264",
   "metadata": {},
   "outputs": [],
   "source": [
    "n=$((n+1))"
   ]
  },
  {
   "cell_type": "code",
   "execution_count": 166,
   "id": "dfe4f059-1826-43ff-a1a3-63f281fec373",
   "metadata": {},
   "outputs": [
    {
     "name": "stdout",
     "output_type": "stream",
     "text": [
      "1664078286000 + 10800000 = 1664089086000\n"
     ]
    }
   ],
   "source": [
    "set_validity_interval $((n-1))"
   ]
  },
  {
   "cell_type": "code",
   "execution_count": 167,
   "id": "70823b5f-8b05-4367-ba8b-723a61e4c662",
   "metadata": {},
   "outputs": [
    {
     "name": "stdout",
     "output_type": "stream",
     "text": [
      "\n",
      "Datum size: 555\n"
     ]
    }
   ],
   "source": [
    "marlowe-cli run prepare --deposit-account \"$ADMINISTRATOR_ROLE\" \\\n",
    "                        --deposit-party \"$(borrower 1)\" \\\n",
    "                        --deposit-token \"$DJED\" \\\n",
    "                        --deposit-amount \"$BORROWER_REPAYMENT\" \\\n",
    "                        --invalid-before \"$INVALID_BEFORE\" \\\n",
    "                        --invalid-hereafter \"$INVALID_HEREAFTER\" \\\n",
    "                        --marlowe-file \"$BASENAME-$((n-1)).marlowe\" \\\n",
    "                        --out-file     \"$BASENAME-$n.marlowe\" \\\n",
    "                        --print-stats"
   ]
  },
  {
   "cell_type": "code",
   "execution_count": 168,
   "id": "641ab249-0f7b-4d8c-a9ed-b3bcb9216daf",
   "metadata": {},
   "outputs": [
    {
     "name": "stdout",
     "output_type": "stream",
     "text": [
      "accounts:\n",
      "- - - role_token: A\n",
      "    - currency_symbol: ''\n",
      "      token_name: ''\n",
      "  - 2000000\n",
      "- - - role_token: S1\n",
      "    - currency_symbol: ea94ed18f7a5bf2199f638360443a31ab3ec639108dde4c9e3e9bfee\n",
      "      token_name: DjedUSD\n",
      "  - 5000000\n",
      "- - - role_token: A\n",
      "    - currency_symbol: ea94ed18f7a5bf2199f638360443a31ab3ec639108dde4c9e3e9bfee\n",
      "      token_name: DjedUSD\n",
      "  - 889746\n",
      "- - - role_token: I1\n",
      "    - currency_symbol: ea94ed18f7a5bf2199f638360443a31ab3ec639108dde4c9e3e9bfee\n",
      "      token_name: DjedUSD\n",
      "  - 446836\n",
      "- - - role_token: I2\n",
      "    - currency_symbol: ea94ed18f7a5bf2199f638360443a31ab3ec639108dde4c9e3e9bfee\n",
      "      token_name: DjedUSD\n",
      "  - 223418\n",
      "boundValues:\n",
      "- - s\n",
      "  - 5000000\n",
      "- - a\n",
      "  - 720000\n",
      "- - e1\n",
      "  - 1024000\n",
      "- - e2\n",
      "  - 512000\n",
      "- - l\n",
      "  - 930000\n"
     ]
    }
   ],
   "source": [
    "show_nonchoices $n"
   ]
  },
  {
   "cell_type": "markdown",
   "id": "11ce7473-5db3-4438-b008-27166184b5d2",
   "metadata": {},
   "source": [
    "Submit the transaction."
   ]
  },
  {
   "cell_type": "code",
   "execution_count": 169,
   "id": "96731513-92ca-48cb-97f0-6afeff95437b",
   "metadata": {},
   "outputs": [
    {
     "name": "stdout",
     "output_type": "stream",
     "text": [
      "\n",
      "Fee: Lovelace 1225474\n",
      "Size: 3405 / 16384 = 20%\n",
      "Execution units:\n",
      "  Memory: 11655980 / 14000000 = 83%\n",
      "  Steps: 3083086004 / 10000000000 = 30%\n",
      "\n",
      "Transaction 36 hash: 496cef379f1b598302312587083ef1cc285601d6130efc2436648340d9ad4fa0\n"
     ]
    }
   ],
   "source": [
    "execute \"${BORROWER_SKEY[1]}\" \"${BORROWER_ADDR[1]}\""
   ]
  },
  {
   "cell_type": "markdown",
   "id": "3844e5cf-917d-46e2-b634-0c89cd089615",
   "metadata": {},
   "source": [
    "The script has received the deposit."
   ]
  },
  {
   "cell_type": "code",
   "execution_count": 170,
   "id": "9dfff380-be91-4ba6-8305-938091db139e",
   "metadata": {},
   "outputs": [
    {
     "name": "stdout",
     "output_type": "stream",
     "text": [
      "                           TxHash                                 TxIx        Amount\n",
      "--------------------------------------------------------------------------------------\n",
      "496cef379f1b598302312587083ef1cc285601d6130efc2436648340d9ad4fa0     1        2000000 lovelace + 6560000 ea94ed18f7a5bf2199f638360443a31ab3ec639108dde4c9e3e9bfee.446a6564555344 + TxOutDatumHash ScriptDataInBabbageEra \"0715c57c0b811c12c3bb7ea3eb309221cf355035506bbee4dd388b91eeafb164\"\n"
     ]
    }
   ],
   "source": [
    "query_marlowe \"${TX_ID[$n]}\""
   ]
  },
  {
   "cell_type": "markdown",
   "id": "e777be7d-6337-4c05-b986-7bec35d8ec31",
   "metadata": {},
   "source": [
    "Borrower has 940k Djed less the previously."
   ]
  },
  {
   "cell_type": "code",
   "execution_count": 171,
   "id": "15af927d-8438-4e00-8ccf-3183a502e550",
   "metadata": {},
   "outputs": [
    {
     "name": "stdout",
     "output_type": "stream",
     "text": [
      "                           TxHash                                 TxIx        Amount\n",
      "--------------------------------------------------------------------------------------\n",
      "496cef379f1b598302312587083ef1cc285601d6130efc2436648340d9ad4fa0     0        20781566 lovelace + TxOutDatumNone\n",
      "496cef379f1b598302312587083ef1cc285601d6130efc2436648340d9ad4fa0     2        1137840 lovelace + 1 2cf679e1517d7171ba4a8a35d5ee9fb7f4d016249de49da74065a36f.4231 + TxOutDatumNone\n",
      "496cef379f1b598302312587083ef1cc285601d6130efc2436648340d9ad4fa0     3        1500000 lovelace + TxOutDatumHash ScriptDataInBabbageEra \"0132cc07f1491a207e1691990d7d19b32f13cc9c5321276dd05d7354e66c73f4\"\n",
      "496cef379f1b598302312587083ef1cc285601d6130efc2436648340d9ad4fa0     4        1168010 lovelace + 60000 ea94ed18f7a5bf2199f638360443a31ab3ec639108dde4c9e3e9bfee.446a6564555344 + TxOutDatumNone\n",
      "5af444040f1deff349b6a56618ea39639a7c0dd8f606031ad26d1acc094709dd     3        1500000 lovelace + TxOutDatumHash ScriptDataInBabbageEra \"38b0c138584a53fd66ea6c0bf3cb0b387b12445245674819e23707a4b6595ea9\"\n",
      "ba615b1dc8a950f1b74ff8979e65d97f95e2b6ec1f557b4ed55e533ce2273bb6     4        2000000 lovelace + 1000000 ea94ed18f7a5bf2199f638360443a31ab3ec639108dde4c9e3e9bfee.446a6564555344 + TxOutDatumNone\n"
     ]
    }
   ],
   "source": [
    "query_borrower 1"
   ]
  },
  {
   "cell_type": "markdown",
   "id": "ead52d42-b811-4009-b16a-010b6dd28cb7",
   "metadata": {},
   "source": [
    "### 18. Unpause"
   ]
  },
  {
   "cell_type": "code",
   "execution_count": 172,
   "id": "e4775ce8-0ce2-46f1-8222-ef3fa12e0a20",
   "metadata": {},
   "outputs": [
    {
     "name": "stdout",
     "output_type": "stream",
     "text": [
      "\n",
      "----- Unpause 1 -----\n",
      "\n",
      "1664078286000 + 10800000 = 1664089086000\n",
      "\n",
      "Datum size: 555\n",
      "Payment 1\n",
      "  Acccount: \"A\"\n",
      "  Payee: Account \"I1\"\n",
      "  Ada: Lovelace {getLovelace = 0}\n",
      "  ea94ed18f7a5bf2199f638360443a31ab3ec639108dde4c9e3e9bfee.\"DjedUSD\": 521309\n",
      "\n",
      "Fee: Lovelace 1114798\n",
      "Size: 1934 / 16384 = 11%\n",
      "Execution units:\n",
      "  Memory: 11147034 / 14000000 = 79%\n",
      "  Steps: 2976314581 / 10000000000 = 29%\n",
      "\n",
      "Transaction 37 hash: 33314ad8382c63b4847af00a947d4a778c7b1d672bb7f852d6e85788b0f38aed\n",
      "\n",
      "----- Unpause 2 -----\n",
      "\n",
      "1664078286000 + 10800000 = 1664089086000\n",
      "\n",
      "Datum size: 555\n",
      "Payment 1\n",
      "  Acccount: \"A\"\n",
      "  Payee: Account \"I2\"\n",
      "  Ada: Lovelace {getLovelace = 0}\n",
      "  ea94ed18f7a5bf2199f638360443a31ab3ec639108dde4c9e3e9bfee.\"DjedUSD\": 260654\n",
      "\n",
      "Fee: Lovelace 1131168\n",
      "Size: 1934 / 16384 = 11%\n",
      "Execution units:\n",
      "  Memory: 11358000 / 14000000 = 81%\n",
      "  Steps: 3034540660 / 10000000000 = 30%\n",
      "\n",
      "Transaction 38 hash: 238aae955ef884602945a0bcb0f1116f0ac2a770b09a21a768a9e2003035357e\n",
      "\n",
      "----- Unpause 3 -----\n",
      "\n",
      "1664078286000 + 10800000 = 1664089086000\n",
      "\n",
      "Warnings:\n",
      "  TransactionShadowing \"l\" 930000 90000\n",
      "Datum size: 555\n",
      "\n",
      "Fee: Lovelace 803547\n",
      "Size: 1808 / 16384 = 11%\n",
      "Execution units:\n",
      "  Memory: 7181406 / 14000000 = 51%\n",
      "  Steps: 1909880587 / 10000000000 = 19%\n",
      "\n",
      "Transaction 39 hash: e2e854d46a839e38f8f9953ad91dc0f2adcf0184812f9e302d9a70d235488538\n",
      "\n",
      "----- Unpause 4 -----\n",
      "\n",
      "1664078286000 + 10800000 = 1664089086000\n",
      "\n",
      "Warnings:\n",
      "  TransactionShadowing \"a\" 720000 1560000\n",
      "Datum size: 1849\n",
      "\n",
      "Fee: Lovelace 1183537\n",
      "Size: 4396 / 16384 = 26%\n",
      "Execution units:\n",
      "  Memory: 10468876 / 14000000 = 74%\n",
      "  Steps: 2969955245 / 10000000000 = 29%\n",
      "\n",
      "Transaction 40 hash: 82e25ded1649e8289ef8232f096cdb95008129cb9bb5da76ffaae8f813913b5a\n"
     ]
    }
   ],
   "source": [
    "unpause 4"
   ]
  },
  {
   "cell_type": "markdown",
   "id": "0d1c0e69-e03c-4c87-9310-479f9472f8d3",
   "metadata": {},
   "source": [
    "### 19. Administrator closes the pool"
   ]
  },
  {
   "cell_type": "code",
   "execution_count": 173,
   "id": "38f07ff4-2039-46ab-a927-058680408482",
   "metadata": {},
   "outputs": [],
   "source": [
    "n=$((n+1))"
   ]
  },
  {
   "cell_type": "code",
   "execution_count": 174,
   "id": "9d70a5ce-5483-4304-aa86-77b4069fb13f",
   "metadata": {},
   "outputs": [
    {
     "name": "stdout",
     "output_type": "stream",
     "text": [
      "1664078286000 + 10800000 = 1664089086000\n"
     ]
    }
   ],
   "source": [
    "set_validity_interval $((n-1))"
   ]
  },
  {
   "cell_type": "code",
   "execution_count": 175,
   "id": "329de82c-3db7-4aba-bd27-a37c6fbcf1b7",
   "metadata": {},
   "outputs": [
    {
     "name": "stdout",
     "output_type": "stream",
     "text": [
      "\n",
      "Datum size: 568\n"
     ]
    }
   ],
   "source": [
    "marlowe-cli run prepare --choice-party \"$ADMINISTRATOR_ROLE\" \\\n",
    "                        --choice-name T \\\n",
    "                        --choice-number 1 \\\n",
    "                        --invalid-before \"$INVALID_BEFORE\" \\\n",
    "                        --invalid-hereafter \"$INVALID_HEREAFTER\" \\\n",
    "                        --marlowe-file \"$BASENAME-$((n-1)).marlowe\" \\\n",
    "                        --out-file     \"$BASENAME-$n.marlowe\" \\\n",
    "                        --print-stats"
   ]
  },
  {
   "cell_type": "code",
   "execution_count": 176,
   "id": "3ef3604a-5498-4a2c-8ef7-07328c2e3f27",
   "metadata": {},
   "outputs": [
    {
     "name": "stdout",
     "output_type": "stream",
     "text": [
      "accounts:\n",
      "- - - role_token: A\n",
      "    - currency_symbol: ''\n",
      "      token_name: ''\n",
      "  - 2000000\n",
      "- - - role_token: S1\n",
      "    - currency_symbol: ea94ed18f7a5bf2199f638360443a31ab3ec639108dde4c9e3e9bfee\n",
      "      token_name: DjedUSD\n",
      "  - 5000000\n",
      "- - - role_token: A\n",
      "    - currency_symbol: ea94ed18f7a5bf2199f638360443a31ab3ec639108dde4c9e3e9bfee\n",
      "      token_name: DjedUSD\n",
      "  - 107783\n",
      "- - - role_token: I1\n",
      "    - currency_symbol: ea94ed18f7a5bf2199f638360443a31ab3ec639108dde4c9e3e9bfee\n",
      "      token_name: DjedUSD\n",
      "  - 968145\n",
      "- - - role_token: I2\n",
      "    - currency_symbol: ea94ed18f7a5bf2199f638360443a31ab3ec639108dde4c9e3e9bfee\n",
      "      token_name: DjedUSD\n",
      "  - 484072\n",
      "boundValues:\n",
      "- - s\n",
      "  - 5000000\n",
      "- - a\n",
      "  - 1560000\n",
      "- - e1\n",
      "  - 1024000\n",
      "- - e2\n",
      "  - 512000\n",
      "- - l\n",
      "  - 90000\n"
     ]
    }
   ],
   "source": [
    "show_nonchoices $n"
   ]
  },
  {
   "cell_type": "markdown",
   "id": "5283cdbd-8196-4f27-a5fc-37fb5dae8a01",
   "metadata": {},
   "source": [
    "Submit the transaction."
   ]
  },
  {
   "cell_type": "code",
   "execution_count": 177,
   "id": "00de5321-8dbf-44ae-9a00-084812215497",
   "metadata": {},
   "outputs": [
    {
     "name": "stdout",
     "output_type": "stream",
     "text": [
      "\n",
      "Fee: Lovelace 1085471\n",
      "Size: 3225 / 16384 = 19%\n",
      "Execution units:\n",
      "  Memory: 9986480 / 14000000 = 71%\n",
      "  Steps: 2648838341 / 10000000000 = 26%\n",
      "\n",
      "Transaction 41 hash: 70b3e2ec47b99d6cdaa0452457249088e6aac243d2adb814ae8c79d9ead3b35c\n"
     ]
    }
   ],
   "source": [
    "execute \"$ADMINISTRATOR_SKEY\" \"$ADMINISTRATOR_ADDR\""
   ]
  },
  {
   "cell_type": "markdown",
   "id": "acf90b93-feb4-418e-8dcf-1d31c47bea1d",
   "metadata": {},
   "source": [
    "### 20. Unpause"
   ]
  },
  {
   "cell_type": "code",
   "execution_count": 178,
   "id": "4bbd8d8a-b027-4767-88c4-33fe59c01383",
   "metadata": {},
   "outputs": [
    {
     "name": "stdout",
     "output_type": "stream",
     "text": [
      "\n",
      "----- Unpause 1 -----\n",
      "\n",
      "1664078286000 + 10800000 = 1664089086000\n",
      "\n",
      "Datum size: 568\n",
      "\n",
      "Fee: Lovelace 786428\n",
      "Size: 1879 / 16384 = 11%\n",
      "Execution units:\n",
      "  Memory: 6895462 / 14000000 = 49%\n",
      "  Steps: 1857956160 / 10000000000 = 18%\n",
      "\n",
      "Transaction 42 hash: 5d4202110d5f9084a2266d6e4859f3c35b6a6fe0921721c5df5719b315317511\n",
      "\n",
      "----- Unpause 2 -----\n",
      "\n",
      "1664078286000 + 10800000 = 1664089086000\n",
      "\n",
      "Datum size: 568\n",
      "Payment 1\n",
      "  Acccount: \"S1\"\n",
      "  Payee: Account \"A\"\n",
      "  Ada: Lovelace {getLovelace = 0}\n",
      "  ea94ed18f7a5bf2199f638360443a31ab3ec639108dde4c9e3e9bfee.\"DjedUSD\": 90000\n",
      "\n",
      "Fee: Lovelace 979888\n",
      "Size: 1937 / 16384 = 11%\n",
      "Execution units:\n",
      "  Memory: 9397020 / 14000000 = 67%\n",
      "  Steps: 2503827365 / 10000000000 = 25%\n",
      "\n",
      "Transaction 43 hash: 4cc9f9a857134c5c1b583378b8458d926897e5be554924fc3dee476df398732b\n",
      "\n",
      "----- Unpause 3 -----\n",
      "\n",
      "1664078286000 + 10800000 = 1664089086000\n",
      "\n",
      "Datum size: 568\n",
      "Payment 1\n",
      "  Acccount: \"A\"\n",
      "  Payee: Account \"I1\"\n",
      "  Ada: Lovelace {getLovelace = 0}\n",
      "  ea94ed18f7a5bf2199f638360443a31ab3ec639108dde4c9e3e9bfee.\"DjedUSD\": 122745\n",
      "\n",
      "Fee: Lovelace 1034536\n",
      "Size: 1978 / 16384 = 12%\n",
      "Execution units:\n",
      "  Memory: 10076566 / 14000000 = 71%\n",
      "  Steps: 2692938746 / 10000000000 = 26%\n",
      "\n",
      "Transaction 44 hash: 6a7faa5d61b2685e793569616d5c677284bbd52c09711b8595e25ef05081bab2\n",
      "\n",
      "----- Unpause 4 -----\n",
      "\n",
      "1664078286000 + 10800000 = 1664089086000\n",
      "\n",
      "Datum size: 566\n",
      "Payment 1\n",
      "  Acccount: \"A\"\n",
      "  Payee: Account \"I2\"\n",
      "  Ada: Lovelace {getLovelace = 0}\n",
      "  ea94ed18f7a5bf2199f638360443a31ab3ec639108dde4c9e3e9bfee.\"DjedUSD\": 23284\n",
      "\n",
      "Fee: Lovelace 1041700\n",
      "Size: 1976 / 16384 = 12%\n",
      "Execution units:\n",
      "  Memory: 10171882 / 14000000 = 72%\n",
      "  Steps: 2717236316 / 10000000000 = 27%\n",
      "\n",
      "Transaction 45 hash: 832e2c7743da9040e21a1e75491c288c5a695eb89da43d58ac2c1e09cd94f7f6\n",
      "\n",
      "----- Unpause 5 -----\n",
      "\n",
      "1664078286000 + 10800000 = 1664089086000\n",
      "\n",
      "Datum size: 508\n",
      "Payment 1\n",
      "  Acccount: \"S1\"\n",
      "  Payee: Party \"S1\"\n",
      "  Ada: Lovelace {getLovelace = 0}\n",
      "  ea94ed18f7a5bf2199f638360443a31ab3ec639108dde4c9e3e9bfee.\"DjedUSD\": 4910000\n",
      "\n",
      "Fee: Lovelace 925340\n",
      "Size: 2005 / 16384 = 12%\n",
      "Execution units:\n",
      "  Memory: 8666646 / 14000000 = 61%\n",
      "  Steps: 2290280762 / 10000000000 = 22%\n",
      "\n",
      "Transaction 46 hash: 9b35e048dfeffc1f71f14bb643d0b60f1f0b84a03480fd1fbc3411e8618266da\n",
      "\n",
      "----- Unpause 6 -----\n",
      "\n",
      "1664078286000 + 10800000 = 1664089086000\n",
      "\n",
      "Datum size: 450\n",
      "Payment 1\n",
      "  Acccount: \"I1\"\n",
      "  Payee: Party \"I1\"\n",
      "  Ada: Lovelace {getLovelace = 0}\n",
      "  ea94ed18f7a5bf2199f638360443a31ab3ec639108dde4c9e3e9bfee.\"DjedUSD\": 1090890\n",
      "\n",
      "Fee: Lovelace 903374\n",
      "Size: 1889 / 16384 = 11%\n",
      "Execution units:\n",
      "  Memory: 8441056 / 14000000 = 60%\n",
      "  Steps: 2236937917 / 10000000000 = 22%\n",
      "\n",
      "Transaction 47 hash: bc16b0034c94fec5ccc256b45753351d50ee694004759af017775e6777e2934c\n",
      "\n",
      "----- Unpause 7 -----\n",
      "\n",
      "1664078286000 + 10800000 = 1664089086000\n",
      "\n",
      "Datum size: 392\n",
      "Payment 1\n",
      "  Acccount: \"I2\"\n",
      "  Payee: Party \"I2\"\n",
      "  Ada: Lovelace {getLovelace = 0}\n",
      "  ea94ed18f7a5bf2199f638360443a31ab3ec639108dde4c9e3e9bfee.\"DjedUSD\": 507356\n",
      "\n",
      "Fee: Lovelace 865337\n",
      "Size: 1771 / 16384 = 10%\n",
      "Execution units:\n",
      "  Memory: 8007516 / 14000000 = 57%\n",
      "  Steps: 2128341065 / 10000000000 = 21%\n",
      "\n",
      "Transaction 48 hash: 0bd31ee9acc3313b34c3b50f23322981243a87b9f32cb1daa21c1fb979b668a2\n",
      "\n",
      "----- Unpause 8 -----\n",
      "\n",
      "1664078286000 + 10800000 = 1664089086000\n",
      "\n",
      "Datum size: 255\n",
      "Payment 1\n",
      "  Acccount: \"A\"\n",
      "  Payee: Party \"A\"\n",
      "  Ada: Lovelace {getLovelace = 0}\n",
      "  ea94ed18f7a5bf2199f638360443a31ab3ec639108dde4c9e3e9bfee.\"DjedUSD\": 51754\n",
      "Payment 2\n",
      "  Acccount: \"A\"\n",
      "  Payee: Party \"A\"\n",
      "  Ada: Lovelace {getLovelace = 2000000}\n",
      "\n",
      "Fee: Lovelace 641404\n",
      "Size: 1136 / 16384 = 6%\n",
      "Execution units:\n",
      "  Memory: 5445288 / 14000000 = 38%\n",
      "  Steps: 1460488217 / 10000000000 = 14%\n",
      "\n",
      "Transaction 49 hash: 482cb340d7eaadde355f346b1640f4c7009b8ad12f29953ba11e85d23cc3d935\n"
     ]
    }
   ],
   "source": [
    "unpause 8"
   ]
  },
  {
   "cell_type": "markdown",
   "id": "346cab2b-b966-4b80-8c99-2ced50870cb0",
   "metadata": {},
   "source": [
    "The contract has closed."
   ]
  },
  {
   "cell_type": "code",
   "execution_count": 179,
   "id": "542f5d75-c1be-431b-b642-18d2ab3737bd",
   "metadata": {},
   "outputs": [
    {
     "name": "stdout",
     "output_type": "stream",
     "text": [
      "close\n",
      "...\n"
     ]
    }
   ],
   "source": [
    "show_contract $n"
   ]
  },
  {
   "cell_type": "markdown",
   "id": "9eb1a9df-f120-4327-840f-5fb9a178e0a6",
   "metadata": {},
   "source": [
    "There are no funds at the Marlowe script address."
   ]
  },
  {
   "cell_type": "code",
   "execution_count": 180,
   "id": "67335a51-9ee6-4f96-ac31-a75e3d36403a",
   "metadata": {},
   "outputs": [
    {
     "name": "stdout",
     "output_type": "stream",
     "text": [
      "                           TxHash                                 TxIx        Amount\n",
      "--------------------------------------------------------------------------------------\n"
     ]
    }
   ],
   "source": [
    "query_marlowe \"{$TX_ID[$n]}\""
   ]
  },
  {
   "cell_type": "markdown",
   "id": "db255804-26ed-4214-ba68-498188156c62",
   "metadata": {},
   "source": [
    "### 21. Everyone withdraws their funds"
   ]
  },
  {
   "cell_type": "code",
   "execution_count": 181,
   "id": "868beefb-b633-45ab-9cbd-b2a01b3c67e9",
   "metadata": {},
   "outputs": [
    {
     "name": "stdout",
     "output_type": "stream",
     "text": [
      "----- Administrator -----\n",
      "\n",
      "Fee: Lovelace 373647\n",
      "Size: 546 / 16384 = 3%\n",
      "Execution units:\n",
      "  Memory: 2234236 / 14000000 = 15%\n",
      "  Steps: 614953119 / 10000000000 = 6%\n",
      "TxId \"ea6d36d5ecc98366dd1eefd053a49ca8cf26c9ab8c2cfce88168d63bc4e769c9\"\n",
      "\n",
      "TxId \"f858aac63a97aeb8f49f381f4b5c0bad704dbf3cb0f9986a2ba6bb8446de4761\"\n",
      "\n",
      "                           TxHash                                 TxIx        Amount\n",
      "--------------------------------------------------------------------------------------\n",
      "f858aac63a97aeb8f49f381f4b5c0bad704dbf3cb0f9986a2ba6bb8446de4761     0        429323052 lovelace + TxOutDatumNone\n",
      "f858aac63a97aeb8f49f381f4b5c0bad704dbf3cb0f9986a2ba6bb8446de4761     1        2000000 lovelace + 1 2cf679e1517d7171ba4a8a35d5ee9fb7f4d016249de49da74065a36f.41 + TxOutDatumNone\n",
      "f858aac63a97aeb8f49f381f4b5c0bad704dbf3cb0f9986a2ba6bb8446de4761     2        2000000 lovelace + 51754 ea94ed18f7a5bf2199f638360443a31ab3ec639108dde4c9e3e9bfee.446a6564555344 + TxOutDatumNone\n"
     ]
    }
   ],
   "source": [
    "echo \"----- Administrator -----\"\n",
    "withdraw \"$ADMINISTRATOR_ROLE\" \"$ADMINISTRATOR_SKEY\" \"$ADMINISTRATOR_ADDR\"\n",
    "echo\n",
    "marlowe-cli util clean --required-signer \"$ADMINISTRATOR_SKEY\" --change-address \"$ADMINISTRATOR_ADDR\" --out-file /dev/null --submit 600\n",
    "echo\n",
    "query_administrator"
   ]
  },
  {
   "cell_type": "code",
   "execution_count": 182,
   "id": "8205fe33-b8d1-46fd-8479-caa425c4a416",
   "metadata": {},
   "outputs": [
    {
     "name": "stdout",
     "output_type": "stream",
     "text": [
      "\n",
      "----- Stabilizer 1 -----\n",
      "\n",
      "Fee: Lovelace 373311\n",
      "Size: 550 / 16384 = 3%\n",
      "Execution units:\n",
      "  Memory: 2227634 / 14000000 = 15%\n",
      "  Steps: 613137542 / 10000000000 = 6%\n",
      "TxId \"953606c0d6e9a80b254b8da69476615f2c4173aae48b25c1bee91fad8db455ae\"\n",
      "\n",
      "TxId \"7fc7e19ffcde6147ac080516c34dd9ac880905ae8d1994e5f1597de08699d727\"\n",
      "\n",
      "                           TxHash                                 TxIx        Amount\n",
      "--------------------------------------------------------------------------------------\n",
      "7fc7e19ffcde6147ac080516c34dd9ac880905ae8d1994e5f1597de08699d727     0        23477244 lovelace + TxOutDatumNone\n",
      "7fc7e19ffcde6147ac080516c34dd9ac880905ae8d1994e5f1597de08699d727     1        2000000 lovelace + 1 2cf679e1517d7171ba4a8a35d5ee9fb7f4d016249de49da74065a36f.5331 + TxOutDatumNone\n",
      "7fc7e19ffcde6147ac080516c34dd9ac880905ae8d1994e5f1597de08699d727     2        2000000 lovelace + 9910000 ea94ed18f7a5bf2199f638360443a31ab3ec639108dde4c9e3e9bfee.446a6564555344 + TxOutDatumNone\n",
      "\n"
     ]
    }
   ],
   "source": [
    "for j in `seq 1 $N_STABILIZERS`\n",
    "do\n",
    "  echo\n",
    "  echo \"----- Stabilizer $j -----\"\n",
    "  withdraw \"$(stabilizer $j)\" \"${STABILIZER_SKEY[$j]}\" \"${STABILIZER_ADDR[$j]}\"\n",
    "  echo\n",
    "  marlowe-cli util clean --required-signer \"${STABILIZER_SKEY[$j]}\" --change-address \"${STABILIZER_ADDR[$j]}\" --out-file /dev/null --submit 600\n",
    "  echo\n",
    "  query_stabilizer $j\n",
    "  echo\n",
    "done"
   ]
  },
  {
   "cell_type": "code",
   "execution_count": 183,
   "id": "ef9abe00-e641-4f54-bb2f-46510181fea2",
   "metadata": {},
   "outputs": [
    {
     "name": "stdout",
     "output_type": "stream",
     "text": [
      "\n",
      "----- Investor 1 -----\n",
      "\n",
      "Fee: Lovelace 373311\n",
      "Size: 550 / 16384 = 3%\n",
      "Execution units:\n",
      "  Memory: 2227634 / 14000000 = 15%\n",
      "  Steps: 613137542 / 10000000000 = 6%\n",
      "TxId \"a320e488251eb6055c78c5dd38311dcdf5e4e8d5c864bf780110e6112008a936\"\n",
      "\n",
      "TxId \"92327895e115f145d99b94c20f91191001621cb9298b21e5d1dcb4923860f3fe\"\n",
      "\n",
      "                           TxHash                                 TxIx        Amount\n",
      "--------------------------------------------------------------------------------------\n",
      "92327895e115f145d99b94c20f91191001621cb9298b21e5d1dcb4923860f3fe     0        23289303 lovelace + TxOutDatumNone\n",
      "92327895e115f145d99b94c20f91191001621cb9298b21e5d1dcb4923860f3fe     1        2000000 lovelace + 1 2cf679e1517d7171ba4a8a35d5ee9fb7f4d016249de49da74065a36f.4931 + TxOutDatumNone\n",
      "92327895e115f145d99b94c20f91191001621cb9298b21e5d1dcb4923860f3fe     2        2000000 lovelace + 5090890 ea94ed18f7a5bf2199f638360443a31ab3ec639108dde4c9e3e9bfee.446a6564555344 + TxOutDatumNone\n",
      "\n",
      "\n",
      "----- Investor 2 -----\n",
      "\n",
      "Fee: Lovelace 368362\n",
      "Size: 550 / 16384 = 3%\n",
      "Execution units:\n",
      "  Memory: 2161232 / 14000000 = 15%\n",
      "  Steps: 597631086 / 10000000000 = 5%\n",
      "TxId \"82397ca4180e10a622fd89c60369461868be62eb8c6821c504b4a620c21a838d\"\n",
      "\n",
      "TxId \"0dd58d74230bf8334bde6b95b21dc35b6d7992b2eb27225ea13fa00473131cd6\"\n",
      "\n",
      "                           TxHash                                 TxIx        Amount\n",
      "--------------------------------------------------------------------------------------\n",
      "0dd58d74230bf8334bde6b95b21dc35b6d7992b2eb27225ea13fa00473131cd6     0        23194065 lovelace + TxOutDatumNone\n",
      "0dd58d74230bf8334bde6b95b21dc35b6d7992b2eb27225ea13fa00473131cd6     1        2000000 lovelace + 1 2cf679e1517d7171ba4a8a35d5ee9fb7f4d016249de49da74065a36f.4932 + TxOutDatumNone\n",
      "0dd58d74230bf8334bde6b95b21dc35b6d7992b2eb27225ea13fa00473131cd6     2        2000000 lovelace + 5007356 ea94ed18f7a5bf2199f638360443a31ab3ec639108dde4c9e3e9bfee.446a6564555344 + TxOutDatumNone\n",
      "\n"
     ]
    }
   ],
   "source": [
    "for j in `seq 1 $N_INVESTORS`\n",
    "do\n",
    "  echo\n",
    "  echo \"----- Investor $j -----\"\n",
    "  withdraw \"$(investor $j)\" \"${INVESTOR_SKEY[$j]}\" \"${INVESTOR_ADDR[$j]}\"\n",
    "  echo\n",
    "  marlowe-cli util clean --required-signer \"${INVESTOR_SKEY[$j]}\" --change-address \"${INVESTOR_ADDR[$j]}\" --out-file /dev/null --submit 600\n",
    "  echo\n",
    "  query_investor $j\n",
    "  echo\n",
    "done"
   ]
  },
  {
   "cell_type": "code",
   "execution_count": 184,
   "id": "a09ec17a-b1c2-4d01-ad51-9e605037a49f",
   "metadata": {},
   "outputs": [
    {
     "name": "stdout",
     "output_type": "stream",
     "text": [
      "\n",
      "----- Borrower 1 -----\n",
      "\n",
      "TxId \"27d56de351ea061121c40539a10d760f4089e66257d60f66996d0e705b2e58f4\"\n",
      "\n",
      "                           TxHash                                 TxIx        Amount\n",
      "--------------------------------------------------------------------------------------\n",
      "27d56de351ea061121c40539a10d760f4089e66257d60f66996d0e705b2e58f4     0        23879543 lovelace + TxOutDatumNone\n",
      "27d56de351ea061121c40539a10d760f4089e66257d60f66996d0e705b2e58f4     1        2000000 lovelace + 1 2cf679e1517d7171ba4a8a35d5ee9fb7f4d016249de49da74065a36f.4231 + TxOutDatumNone\n",
      "27d56de351ea061121c40539a10d760f4089e66257d60f66996d0e705b2e58f4     2        2000000 lovelace + 1060000 ea94ed18f7a5bf2199f638360443a31ab3ec639108dde4c9e3e9bfee.446a6564555344 + TxOutDatumNone\n",
      "\n",
      "\n",
      "----- Borrower 2 -----\n",
      "\n",
      "TxId \"2d9c0ffe3adb0810a5b5266090a2f15420078321476dbe46eb2ea2cb644951a4\"\n",
      "\n",
      "                           TxHash                                 TxIx        Amount\n",
      "--------------------------------------------------------------------------------------\n",
      "2d9c0ffe3adb0810a5b5266090a2f15420078321476dbe46eb2ea2cb644951a4     0        24104243 lovelace + TxOutDatumNone\n",
      "2d9c0ffe3adb0810a5b5266090a2f15420078321476dbe46eb2ea2cb644951a4     1        2000000 lovelace + 1 2cf679e1517d7171ba4a8a35d5ee9fb7f4d016249de49da74065a36f.4232 + TxOutDatumNone\n",
      "2d9c0ffe3adb0810a5b5266090a2f15420078321476dbe46eb2ea2cb644951a4     2        2000000 lovelace + 880000 ea94ed18f7a5bf2199f638360443a31ab3ec639108dde4c9e3e9bfee.446a6564555344 + TxOutDatumNone\n",
      "\n"
     ]
    }
   ],
   "source": [
    "for j in `seq 1 $N_BORROWERS`\n",
    "do\n",
    "  echo\n",
    "  echo \"----- Borrower $j -----\"\n",
    "  echo\n",
    "  marlowe-cli util clean --required-signer \"${BORROWER_SKEY[$j]}\" --change-address \"${BORROWER_ADDR[$j]}\" --out-file /dev/null --submit 600\n",
    "  echo\n",
    "  query_borrower $j\n",
    "  echo\n",
    "done"
   ]
  }
 ],
 "metadata": {
  "kernelspec": {
   "display_name": "Bash - Marlowe",
   "language": "bash",
   "name": "bash_marlowe"
  },
  "language_info": {
   "codemirror_mode": "shell",
   "file_extension": ".sh",
   "mimetype": "text/x-sh",
   "name": "/nix/store/zwjm0gln1vk7x1akpyz0yxjsd1yc46gi-bash-5.1-p16/bin/bash"
  }
 },
 "nbformat": 4,
 "nbformat_minor": 5
}
