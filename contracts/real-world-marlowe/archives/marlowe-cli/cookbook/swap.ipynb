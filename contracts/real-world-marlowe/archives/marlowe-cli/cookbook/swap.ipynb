{
 "cells": [
  {
   "cell_type": "markdown",
   "id": "ff12ef20-4800-40fc-bf1a-b48def801ee9",
   "metadata": {},
   "source": [
    "# Test of a Swap Contract"
   ]
  },
  {
   "cell_type": "markdown",
   "id": "409f5651-088b-4875-a35c-7c369e22391a",
   "metadata": {},
   "source": [
    "We introduce new variants of `marlowe-cli run execute` and `marlowe-cli run withdraw` that automatically handle the UTxOs management, coin selection, and balancing, so that one doesn't need to specify `--tx-in` and `--tx-out` for Marlowe transactions. *These commands are experimental, and lightly tested so far.*"
   ]
  },
  {
   "cell_type": "code",
   "execution_count": 1,
   "id": "a5960ddf-2b37-4cff-9a4f-491d9c9082a5",
   "metadata": {},
   "outputs": [
    {
     "name": "stdout",
     "output_type": "stream",
     "text": [
      "Usage: marlowe-cli run auto-execute \n",
      "         --testnet-magic INTEGER --socket-path SOCKET_FILE \n",
      "         [--marlowe-in-file MARLOWE_FILE --tx-in-marlowe TXID#TXIX]\n",
      "         --marlowe-out-file MARLOWE_FILE --change-address ADDRESS \n",
      "         [--required-signer SIGNING_FILE] [--metadata-file METADATA_FILE]\n",
      "         --out-file FILE [--submit SECONDS] [--print-stats] [--script-invalid]\n",
      "\n",
      "  [EXPERIMENTAL] Run a Marlowe transaction, selecting transaction inputs and\n",
      "  outputs automatically.\n",
      "\n",
      "Available options:\n",
      "  --testnet-magic INTEGER  Network magic. Defaults to the CARDANO_TESTNET_MAGIC\n",
      "                           environment variable's value.\n",
      "  --socket-path SOCKET_FILE\n",
      "                           Location of the cardano-node socket file. Defaults to\n",
      "                           the CARDANO_NODE_SOCKET_PATH environment variable's\n",
      "                           value.\n",
      "  --marlowe-in-file MARLOWE_FILE\n",
      "                           JSON file with the Marlowe initial state and initial\n",
      "                           contract, if any.\n",
      "  --tx-in-marlowe TXID#TXIX\n",
      "                           UTxO spent from Marlowe contract, if any.\n",
      "  --marlowe-out-file MARLOWE_FILE\n",
      "                           JSON file with the Marlowe inputs, final state, and\n",
      "                           final contract.\n",
      "  --change-address ADDRESS Address to receive ADA in excess of fee.\n",
      "  --required-signer SIGNING_FILE\n",
      "                           File containing a required signing key.\n",
      "  --metadata-file METADATA_FILE\n",
      "                           JSON file containing metadata.\n",
      "  --out-file FILE          Output file for transaction body.\n",
      "  --submit SECONDS         Also submit the transaction, and wait for\n",
      "                           confirmation.\n",
      "  --print-stats            Print statistics.\n",
      "  --script-invalid         Assert that the transaction is invalid.\n",
      "  -h,--help                Show this help text\n"
     ]
    }
   ],
   "source": [
    "marlowe-cli run auto-execute --help"
   ]
  },
  {
   "cell_type": "code",
   "execution_count": 2,
   "id": "0a500317-6412-4f6d-9c7a-5fa68754ccdb",
   "metadata": {},
   "outputs": [
    {
     "name": "stdout",
     "output_type": "stream",
     "text": [
      "Usage: marlowe-cli run auto-withdraw \n",
      "         --testnet-magic INTEGER --socket-path SOCKET_FILE\n",
      "         --marlowe-file MARLOWE_FILE --role-name TOKEN_NAME\n",
      "         --change-address ADDRESS [--required-signer SIGNING_FILE] \n",
      "         [--metadata-file METADATA_FILE] --out-file FILE [--submit SECONDS] \n",
      "         [--print-stats] [--script-invalid]\n",
      "\n",
      "  [EXPERIMENTAL] Withdraw funds from the Marlowe role address, selecting\n",
      "  transaction inputs and outputs automatically.\n",
      "\n",
      "Available options:\n",
      "  --testnet-magic INTEGER  Network magic. Defaults to the CARDANO_TESTNET_MAGIC\n",
      "                           environment variable's value.\n",
      "  --socket-path SOCKET_FILE\n",
      "                           Location of the cardano-node socket file. Defaults to\n",
      "                           the CARDANO_NODE_SOCKET_PATH environment variable's\n",
      "                           value.\n",
      "  --marlowe-file MARLOWE_FILE\n",
      "                           JSON file with the Marlowe inputs, final state, and\n",
      "                           final contract.\n",
      "  --role-name TOKEN_NAME   The role name for the withdrawal.\n",
      "  --change-address ADDRESS Address to receive ADA in excess of fee.\n",
      "  --required-signer SIGNING_FILE\n",
      "                           File containing a required signing key.\n",
      "  --metadata-file METADATA_FILE\n",
      "                           JSON file containing metadata.\n",
      "  --out-file FILE          Output file for transaction body.\n",
      "  --submit SECONDS         Also submit the transaction, and wait for\n",
      "                           confirmation.\n",
      "  --print-stats            Print statistics.\n",
      "  --script-invalid         Assert that the transaction is invalid.\n",
      "  -h,--help                Show this help text\n"
     ]
    }
   ],
   "source": [
    "marlowe-cli run auto-withdraw --help"
   ]
  },
  {
   "cell_type": "markdown",
   "id": "b4002252-fe9f-40e4-a371-d4d6b57316de",
   "metadata": {},
   "source": [
    "## Preliminaries"
   ]
  },
  {
   "cell_type": "markdown",
   "id": "dab2352b-0021-4998-9107-c5cc32d3734c",
   "metadata": {},
   "source": [
    "Record version numbers"
   ]
  },
  {
   "cell_type": "code",
   "execution_count": 3,
   "id": "a595e563-1a4c-4aed-ad76-d75626d0a350",
   "metadata": {},
   "outputs": [
    {
     "name": "stdout",
     "output_type": "stream",
     "text": [
      "marlowe-cli 0.0.7.0 @ 25f6808de7aca1ab3d47db52fb4b66cae4228618\n"
     ]
    }
   ],
   "source": [
    "marlowe-cli --version"
   ]
  },
  {
   "cell_type": "code",
   "execution_count": 4,
   "id": "e7651166-5c42-4a2b-8447-3407440f7b5a",
   "metadata": {},
   "outputs": [
    {
     "name": "stdout",
     "output_type": "stream",
     "text": [
      "cardano-cli 1.35.3 - linux-x86_64 - ghc-8.10\n",
      "git rev 0000000000000000000000000000000000000000\n"
     ]
    }
   ],
   "source": [
    "cardano-cli --version"
   ]
  },
  {
   "cell_type": "code",
   "execution_count": 5,
   "id": "0434d927-022f-41f6-b60f-091ebe85cfc4",
   "metadata": {},
   "outputs": [
    {
     "name": "stdout",
     "output_type": "stream",
     "text": [
      "25f6808de7aca1ab3d47db52fb4b66cae4228618\n"
     ]
    }
   ],
   "source": [
    "git rev-parse HEAD"
   ]
  },
  {
   "cell_type": "markdown",
   "id": "49f3864c-d2e7-46cf-afe8-8260395ae55d",
   "metadata": {},
   "source": [
    "Set the location of keys."
   ]
  },
  {
   "cell_type": "code",
   "execution_count": 6,
   "id": "7eba74b8-fb39-4a07-9080-211d46f9132a",
   "metadata": {},
   "outputs": [],
   "source": [
    "TREASURY=treasury"
   ]
  },
  {
   "cell_type": "markdown",
   "id": "7fd61b86-59bd-4fd6-a615-04b6dbaa8962",
   "metadata": {},
   "source": [
    "Set the location of the node socket."
   ]
  },
  {
   "cell_type": "code",
   "execution_count": 7,
   "id": "eeeb458c-3460-410c-838b-2f64f817bd31",
   "metadata": {},
   "outputs": [],
   "source": [
    "export CARDANO_NODE_SOCKET_PATH=node.socket"
   ]
  },
  {
   "cell_type": "markdown",
   "id": "055be2a0-56b3-4382-81aa-fe3a180a5498",
   "metadata": {},
   "source": [
    "## Preliminaries"
   ]
  },
  {
   "cell_type": "markdown",
   "id": "c573a55d-633d-418a-96f8-51b3343e1309",
   "metadata": {},
   "source": [
    "### Setup the faucet."
   ]
  },
  {
   "cell_type": "code",
   "execution_count": 8,
   "id": "a83cbe3d-722a-45de-8c0a-94ba5d36daa3",
   "metadata": {},
   "outputs": [
    {
     "name": "stdout",
     "output_type": "stream",
     "text": [
      "addr_test1vq9prvx8ufwutkwxx9cmmuuajaqmjqwujqlp9d8pvg6gupczgtm9j\n"
     ]
    }
   ],
   "source": [
    "FAUCET_SKEY_FILE=$TREASURY/payment.skey\n",
    "FAUCET_ADDRESS=$(cat $TREASURY/payment.testnet.address)\n",
    "echo \"$FAUCET_ADDRESS\""
   ]
  },
  {
   "cell_type": "markdown",
   "id": "3b1463a1-add8-4971-bfc1-3c8251a91de3",
   "metadata": {},
   "source": [
    "### Select Network"
   ]
  },
  {
   "cell_type": "code",
   "execution_count": 9,
   "id": "0e3c5f6a-fde5-447d-90f6-bcfe268dcbd2",
   "metadata": {},
   "outputs": [],
   "source": [
    "export CARDANO_TESTNET_MAGIC=2"
   ]
  },
  {
   "cell_type": "markdown",
   "id": "db642b41-5829-4ba0-b018-b011ecf1722b",
   "metadata": {},
   "source": [
    "Compute the slot-to-time parameters."
   ]
  },
  {
   "cell_type": "code",
   "execution_count": 10,
   "id": "74e40978-28a7-433c-85e6-a05cbb4b607e",
   "metadata": {},
   "outputs": [],
   "source": [
    "SLOT_LENGTH=$(marlowe-cli util slotting --testnet-magic \"$CARDANO_TESTNET_MAGIC\" --socket-path \"$CARDANO_NODE_SOCKET_PATH\" | jq .scSlotLength)\n",
    "SLOT_OFFSET=$(marlowe-cli util slotting --testnet-magic \"$CARDANO_TESTNET_MAGIC\" --socket-path \"$CARDANO_NODE_SOCKET_PATH\" | jq .scSlotZeroTime)"
   ]
  },
  {
   "cell_type": "markdown",
   "id": "bb01aa8b-cb72-4bcb-a79c-ff12e65f0fa6",
   "metadata": {},
   "source": [
    "### Tip of the Blockchain"
   ]
  },
  {
   "cell_type": "code",
   "execution_count": 11,
   "id": "359b6f47-e0d1-4f84-8812-b96cfa361c2d",
   "metadata": {},
   "outputs": [],
   "source": [
    "TIP=$(cardano-cli query tip --testnet-magic \"$CARDANO_TESTNET_MAGIC\" | jq '.slot')\n",
    "NOW=\"$((TIP*SLOT_LENGTH+SLOT_OFFSET))\"\n",
    "HOUR=\"$((3600*1000))\""
   ]
  },
  {
   "cell_type": "markdown",
   "id": "baf18df3-3224-4efb-9d11-a75dee4b40ea",
   "metadata": {},
   "source": [
    "The tip of the blockchain:"
   ]
  },
  {
   "cell_type": "code",
   "execution_count": 12,
   "id": "831548ff-0623-4f19-8947-5613327e5b34",
   "metadata": {},
   "outputs": [
    {
     "name": "stdout",
     "output_type": "stream",
     "text": [
      "2304024\n"
     ]
    }
   ],
   "source": [
    "echo $TIP"
   ]
  },
  {
   "cell_type": "markdown",
   "id": "1b3af6ae-8ad6-4658-9c00-7417f0dbfd8c",
   "metadata": {},
   "source": [
    "The current POSIX time implies that the tip of the blockchain should be slightly before the following slot:"
   ]
  },
  {
   "cell_type": "code",
   "execution_count": 13,
   "id": "0b0b3fe5-a541-4863-b67f-7d1c24ef8185",
   "metadata": {},
   "outputs": [
    {
     "name": "stdout",
     "output_type": "stream",
     "text": [
      "2304030\n"
     ]
    }
   ],
   "source": [
    "echo $(((1000 * $(date -u +%s) - SLOT_OFFSET) / SLOT_LENGTH))"
   ]
  },
  {
   "cell_type": "markdown",
   "id": "6e90da31-4377-4c02-9ed8-f8197ce10c4a",
   "metadata": {},
   "source": [
    "Tests main fail if this is not the case."
   ]
  },
  {
   "cell_type": "markdown",
   "id": "7ae0e907-2c31-4b85-926d-c62dc9cafc49",
   "metadata": {},
   "source": [
    "### Participants"
   ]
  },
  {
   "cell_type": "markdown",
   "id": "ea318fc6-f1dc-46a8-a4e7-83ee23a42ec3",
   "metadata": {},
   "source": [
    "#### The First Party"
   ]
  },
  {
   "cell_type": "code",
   "execution_count": 14,
   "id": "009fed78-8410-4894-b904-d6ea92982d70",
   "metadata": {},
   "outputs": [],
   "source": [
    "PARTY_A_PREFIX=\"$TREASURY/john-fletcher\"\n",
    "PARTY_A_PAYMENT_SKEY=\"$PARTY_A_PREFIX\".skey\n",
    "PARTY_A_PAYMENT_VKEY=\"$PARTY_A_PREFIX\".vkey"
   ]
  },
  {
   "cell_type": "markdown",
   "id": "df56d582-919c-438f-986a-a9a3fffc40c7",
   "metadata": {},
   "source": [
    "Create the first party's keys, if necessary."
   ]
  },
  {
   "cell_type": "code",
   "execution_count": 15,
   "id": "0de60d98-b79e-43fc-8c7d-fd494c76390d",
   "metadata": {},
   "outputs": [],
   "source": [
    "if [[ ! -e \"$PARTY_A_PAYMENT_SKEY\" ]]\n",
    "then\n",
    "  cardano-cli address key-gen --signing-key-file \"$PARTY_A_PAYMENT_SKEY\"      \\\n",
    "                              --verification-key-file \"$PARTY_A_PAYMENT_VKEY\"\n",
    "fi\n",
    "PARTY_A_ADDRESS=$(cardano-cli address build --testnet-magic \"$CARDANO_TESTNET_MAGIC\" --payment-verification-key-file \"$PARTY_A_PAYMENT_VKEY\" )\n",
    "PARTY_A_PUBKEYHASH=$(cardano-cli address key-hash --payment-verification-key-file \"$PARTY_A_PAYMENT_VKEY\")"
   ]
  },
  {
   "cell_type": "markdown",
   "id": "c6d76d75-57b4-48b2-934d-e40a139e646e",
   "metadata": {},
   "source": [
    "Address of the first party and its public key hash:"
   ]
  },
  {
   "cell_type": "code",
   "execution_count": 16,
   "id": "a8e5b6e7-c82c-4477-a6aa-c0a91bc5c15f",
   "metadata": {},
   "outputs": [
    {
     "name": "stdout",
     "output_type": "stream",
     "text": [
      "Address: addr_test1vqwt2xlr4d8yk4qws675exlqy6pdhq2s76wrehkjggkvr0cerfe8r\n",
      "Public key hash: 1cb51be3ab4e4b540e86bd4c9be02682db8150f69c3cded2422cc1bf\n"
     ]
    }
   ],
   "source": [
    "echo \"Address: $PARTY_A_ADDRESS\"\n",
    "echo \"Public key hash: $PARTY_A_PUBKEYHASH\""
   ]
  },
  {
   "cell_type": "markdown",
   "id": "17b4396a-a8ac-4976-bda4-968daaaa190e",
   "metadata": {},
   "source": [
    "Fund the first party's address."
   ]
  },
  {
   "cell_type": "code",
   "execution_count": 17,
   "id": "ff90fa3f-1422-4632-abb7-19c5e5b5d2ed",
   "metadata": {},
   "outputs": [
    {
     "name": "stdout",
     "output_type": "stream",
     "text": [
      "TxId \"3336061b4e073083fe2c3c4562b478d34de0028ff2f67f143a0191056000d4f2\"\n"
     ]
    }
   ],
   "source": [
    "marlowe-cli util faucet --out-file /dev/null                      \\\n",
    "                        --submit 600                              \\\n",
    "                        --lovelace 100000000                      \\\n",
    "                        --faucet-address \"$FAUCET_ADDRESS\"        \\\n",
    "                        --required-signer \"$FAUCET_SKEY_FILE\"     \\\n",
    "                        \"$PARTY_A_ADDRESS\""
   ]
  },
  {
   "cell_type": "markdown",
   "id": "85d79375-635f-4702-9aea-e8724df633fc",
   "metadata": {},
   "source": [
    "The first party mints their tokens for the swap."
   ]
  },
  {
   "cell_type": "code",
   "execution_count": 18,
   "id": "17780378-6e11-4156-a481-2edfde635fac",
   "metadata": {},
   "outputs": [],
   "source": [
    "MINT_EXPIRES=$((TIP + 1000000))"
   ]
  },
  {
   "cell_type": "code",
   "execution_count": 19,
   "id": "3c562862-df26-4b4b-bf27-f844840b6764",
   "metadata": {},
   "outputs": [],
   "source": [
    "TOKEN_NAME_A=Globe\n",
    "AMOUNT_A=300\n",
    "CURRENCY_SYMBOL_A=$(\n",
    "marlowe-cli util mint --required-signer \"$PARTY_A_PAYMENT_SKEY\" \\\n",
    "                      --change-address  \"$PARTY_A_ADDRESS\"      \\\n",
    "                      --count \"$AMOUNT_A\"                       \\\n",
    "                      --expires \"$MINT_EXPIRES\"                 \\\n",
    "                      --out-file /dev/null                      \\\n",
    "                      --submit=600                              \\\n",
    "                      \"$TOKEN_NAME_A\"                           \\\n",
    "| sed -e 's/^PolicyID \"\\(.*\\)\"$/\\1/'                            \\\n",
    ")\n",
    "TOKEN_A=\"$CURRENCY_SYMBOL_A.$TOKEN_NAME_A\""
   ]
  },
  {
   "cell_type": "markdown",
   "id": "6bd98117-3f3e-4f05-a27f-51a561eb8054",
   "metadata": {},
   "source": [
    "They have the following UTxOs in their wallet:"
   ]
  },
  {
   "cell_type": "code",
   "execution_count": 20,
   "id": "3c6863f2-a693-46c1-a785-ead973bdf787",
   "metadata": {},
   "outputs": [
    {
     "name": "stdout",
     "output_type": "stream",
     "text": [
      "                           TxHash                                 TxIx        Amount\n",
      "--------------------------------------------------------------------------------------\n",
      "7684d3181842c19b83c974ae7a13b5cb9550c9b2e5be5a6661c0c40e823e2cad     0        97651266 lovelace + TxOutDatumNone\n",
      "7684d3181842c19b83c974ae7a13b5cb9550c9b2e5be5a6661c0c40e823e2cad     1        2000000 lovelace + 300 4b6897a0af19de09282bad1b3d191ace3c61ec364aa009102f0d23b3.476c6f6265 + TxOutDatumNone\n"
     ]
    }
   ],
   "source": [
    "marlowe-cli util clean --required-signer \"$PARTY_A_PAYMENT_SKEY\" \\\n",
    "                       --change-address \"$PARTY_A_ADDRESS\"       \\\n",
    "                       --out-file /dev/null                      \\\n",
    "                       --submit=600                              \\\n",
    "> /dev/null\n",
    "cardano-cli query utxo --testnet-magic \"$CARDANO_TESTNET_MAGIC\" --address \"$PARTY_A_ADDRESS\""
   ]
  },
  {
   "cell_type": "markdown",
   "id": "25b4a4d4-bc9d-4de1-a135-4753f8f7fee7",
   "metadata": {},
   "source": [
    "The first party will trade the following in the swap:"
   ]
  },
  {
   "cell_type": "code",
   "execution_count": 21,
   "id": "b8fa7173-d645-4d82-b93a-fa7f5d63c1ae",
   "metadata": {},
   "outputs": [
    {
     "name": "stdout",
     "output_type": "stream",
     "text": [
      "Amount: 300\n",
      "Token: 4b6897a0af19de09282bad1b3d191ace3c61ec364aa009102f0d23b3.Globe\n"
     ]
    }
   ],
   "source": [
    "echo \"Amount: $AMOUNT_A\"\n",
    "echo \"Token: $TOKEN_A\""
   ]
  },
  {
   "cell_type": "markdown",
   "id": "beac2b0a-83c9-4f13-a1b2-d4ae12795bc7",
   "metadata": {},
   "source": [
    "#### The Second Party"
   ]
  },
  {
   "cell_type": "code",
   "execution_count": 22,
   "id": "359d2b9b-9bc3-4688-9689-9ef2c69cd382",
   "metadata": {},
   "outputs": [],
   "source": [
    "PARTY_B_PREFIX=\"$TREASURY/thomas-kyd\"\n",
    "PARTY_B_PAYMENT_SKEY=\"$PARTY_B_PREFIX\".skey\n",
    "PARTY_B_PAYMENT_VKEY=\"$PARTY_B_PREFIX\".vkey"
   ]
  },
  {
   "cell_type": "markdown",
   "id": "cc9ff64b-fc5b-4308-8b6c-9208985b3600",
   "metadata": {},
   "source": [
    "Create the second party's keys, if necessary."
   ]
  },
  {
   "cell_type": "code",
   "execution_count": 23,
   "id": "c4297420-6c47-4716-bbb3-c5bb0be2ef9a",
   "metadata": {},
   "outputs": [],
   "source": [
    "if [[ ! -e \"$PARTY_B_PAYMENT_SKEY\" ]]\n",
    "then\n",
    "  cardano-cli address key-gen --signing-key-file \"$PARTY_B_PAYMENT_SKEY\"      \\\n",
    "                              --verification-key-file \"$PARTY_B_PAYMENT_VKEY\"\n",
    "fi\n",
    "PARTY_B_ADDRESS=$(cardano-cli address build --testnet-magic \"$CARDANO_TESTNET_MAGIC\" --payment-verification-key-file \"$PARTY_B_PAYMENT_VKEY\" )\n",
    "PARTY_B_PUBKEYHASH=$(cardano-cli address key-hash --payment-verification-key-file \"$PARTY_B_PAYMENT_VKEY\")"
   ]
  },
  {
   "cell_type": "markdown",
   "id": "1c533c89-a71a-4b66-9409-a515bac1eb39",
   "metadata": {},
   "source": [
    "Address of the second party and its public key hash:"
   ]
  },
  {
   "cell_type": "code",
   "execution_count": 24,
   "id": "92333a2f-977b-451d-9ad4-f344192f18cf",
   "metadata": {},
   "outputs": [
    {
     "name": "stdout",
     "output_type": "stream",
     "text": [
      "Address: addr_test1vr7n0zzth5zycuh972w7rdmh48qur4f3wu6ntn2m2h30dlcvltuy5\n",
      "Public key hash: fd37884bbd044c72e5f29de1b777a9c1c1d531773535cd5b55e2f6ff\n"
     ]
    }
   ],
   "source": [
    "echo \"Address: $PARTY_B_ADDRESS\"\n",
    "echo \"Public key hash: $PARTY_B_PUBKEYHASH\""
   ]
  },
  {
   "cell_type": "markdown",
   "id": "0556be66-9ca7-4e91-9c85-bd885311c611",
   "metadata": {},
   "source": [
    "Fund the second party's address."
   ]
  },
  {
   "cell_type": "code",
   "execution_count": 25,
   "id": "77bc9000-d2e3-4996-a2ae-a7d0c625aa70",
   "metadata": {},
   "outputs": [
    {
     "name": "stdout",
     "output_type": "stream",
     "text": [
      "TxId \"0b20a7dc50288b3b824f6d3d6cde7c643c535add4c9f272b03d791bda5314c07\"\n"
     ]
    }
   ],
   "source": [
    "marlowe-cli util faucet --out-file /dev/null                  \\\n",
    "                        --submit 600                          \\\n",
    "                        --lovelace 100000000                  \\\n",
    "                        --faucet-address \"$FAUCET_ADDRESS\"    \\\n",
    "                        --required-signer \"$FAUCET_SKEY_FILE\" \\\n",
    "                        \"$PARTY_B_ADDRESS\""
   ]
  },
  {
   "cell_type": "markdown",
   "id": "5dbb8c31-8a7b-4f53-a32a-7adb0caa7792",
   "metadata": {},
   "source": [
    "The second party mints their tokens for the swap."
   ]
  },
  {
   "cell_type": "code",
   "execution_count": 26,
   "id": "9a4e577b-4fb3-47fb-b5d3-8e3e6e206b69",
   "metadata": {},
   "outputs": [],
   "source": [
    "TOKEN_NAME_B=Swan\n",
    "AMOUNT_B=500\n",
    "CURRENCY_SYMBOL_B=$(\n",
    "marlowe-cli util mint --required-signer \"$PARTY_B_PAYMENT_SKEY\" \\\n",
    "                      --change-address  \"$PARTY_B_ADDRESS\"      \\\n",
    "                      --count \"$AMOUNT_B\"                       \\\n",
    "                      --expires \"$MINT_EXPIRES\"                 \\\n",
    "                      --out-file /dev/null                      \\\n",
    "                      --submit=600                              \\\n",
    "                      \"$TOKEN_NAME_B\"                           \\\n",
    "| sed -e 's/^PolicyID \"\\(.*\\)\"$/\\1/'                            \\\n",
    ")\n",
    "TOKEN_B=\"$CURRENCY_SYMBOL_B.$TOKEN_NAME_B\""
   ]
  },
  {
   "cell_type": "markdown",
   "id": "a7f8db89-b007-4f4d-a06a-6bc6440fbd67",
   "metadata": {},
   "source": [
    "They have the following UTxOs in their wallet:"
   ]
  },
  {
   "cell_type": "code",
   "execution_count": 27,
   "id": "a86cee8f-dd66-4091-8583-14b66dcb3819",
   "metadata": {},
   "outputs": [
    {
     "name": "stdout",
     "output_type": "stream",
     "text": [
      "                           TxHash                                 TxIx        Amount\n",
      "--------------------------------------------------------------------------------------\n",
      "ff8f2b3edd5ebd121f5a4792a9da177818cc1f319a253fbbea68d9a24d50ccb2     0        97651398 lovelace + TxOutDatumNone\n",
      "ff8f2b3edd5ebd121f5a4792a9da177818cc1f319a253fbbea68d9a24d50ccb2     1        2000000 lovelace + 500 13d32b28fbb50440a92f618434d91a6bdbf46d4da9a7838a82937492.5377616e + TxOutDatumNone\n"
     ]
    }
   ],
   "source": [
    "marlowe-cli util clean --required-signer \"$PARTY_B_PAYMENT_SKEY\" \\\n",
    "                       --change-address \"$PARTY_B_ADDRESS\"       \\\n",
    "                       --out-file /dev/null                      \\\n",
    "                       --submit=600                              \\\n",
    "> /dev/null\n",
    "cardano-cli query utxo --testnet-magic \"$CARDANO_TESTNET_MAGIC\" --address \"$PARTY_B_ADDRESS\""
   ]
  },
  {
   "cell_type": "markdown",
   "id": "d988c753-856c-4322-a4af-f6274b65cc56",
   "metadata": {},
   "source": [
    "The second party will trade the following in the swap:"
   ]
  },
  {
   "cell_type": "code",
   "execution_count": 28,
   "id": "3154f628-1183-4528-b45a-b244ceb864c1",
   "metadata": {},
   "outputs": [
    {
     "name": "stdout",
     "output_type": "stream",
     "text": [
      "Amount: 500\n",
      "Token: 13d32b28fbb50440a92f618434d91a6bdbf46d4da9a7838a82937492.Swan\n"
     ]
    }
   ],
   "source": [
    "echo \"Amount: $AMOUNT_B\"\n",
    "echo \"Token: $TOKEN_B\""
   ]
  },
  {
   "cell_type": "markdown",
   "id": "eb417b36-effb-4fc2-ae81-b7fce917aa7b",
   "metadata": {},
   "source": [
    "## The Contract"
   ]
  },
  {
   "cell_type": "markdown",
   "id": "4828d05f-fc7d-4f67-8c87-db5caa71b94f",
   "metadata": {},
   "source": [
    "The initial Ada in the contract."
   ]
  },
  {
   "cell_type": "code",
   "execution_count": 29,
   "id": "900adc6b-d93f-4414-99d7-4ba3b3e30e52",
   "metadata": {},
   "outputs": [],
   "source": [
    "MINIMUM_ADA=3000000"
   ]
  },
  {
   "cell_type": "code",
   "execution_count": 30,
   "id": "fef9aefb-1824-490c-bf81-7f16a80845cb",
   "metadata": {},
   "outputs": [],
   "source": [
    "PARTY_A_TIMEOUT=$((NOW+12*HOUR))\n",
    "PARTY_B_TIMEOUT=$((NOW+24*HOUR))"
   ]
  },
  {
   "cell_type": "markdown",
   "id": "3d5db29b-dbda-4786-b04a-cce8ae0b96d1",
   "metadata": {},
   "source": [
    "The timeout for the first party:"
   ]
  },
  {
   "cell_type": "code",
   "execution_count": 31,
   "id": "147f5b62-2be2-4c04-af97-c9092e74c6f1",
   "metadata": {},
   "outputs": [
    {
     "name": "stdout",
     "output_type": "stream",
     "text": [
      "Mon, 05 Sep 2022 04:00:24 +0000\n"
     ]
    }
   ],
   "source": [
    "echo $(date -u -R -d @$((PARTY_A_TIMEOUT/1000)))"
   ]
  },
  {
   "cell_type": "markdown",
   "id": "8bf4b2ff-e10f-43d9-9940-19588a053c5a",
   "metadata": {},
   "source": [
    "The timeout for the second party:"
   ]
  },
  {
   "cell_type": "code",
   "execution_count": 32,
   "id": "accb5e15-0d8d-40a8-9f1d-957e010c185b",
   "metadata": {},
   "outputs": [
    {
     "name": "stdout",
     "output_type": "stream",
     "text": [
      "Mon, 05 Sep 2022 16:00:24 +0000\n"
     ]
    }
   ],
   "source": [
    "echo $(date -u -R -d @$((PARTY_B_TIMEOUT/1000)))"
   ]
  },
  {
   "cell_type": "markdown",
   "id": "42a8ecbd-a3dc-4263-b7a0-f6d3ccd29506",
   "metadata": {},
   "source": [
    "We create the contract for the previously specified parameters."
   ]
  },
  {
   "cell_type": "code",
   "execution_count": 33,
   "id": "028339ed-6d5e-4e71-9895-3a965a0252c9",
   "metadata": {},
   "outputs": [],
   "source": [
    "marlowe-cli template swap --minimum-ada \"$MINIMUM_ADA\"       \\\n",
    "                          --a-party \"PK=$PARTY_A_PUBKEYHASH\" \\\n",
    "                          --a-token \"$TOKEN_A\"               \\\n",
    "                          --a-amount \"$AMOUNT_A\"             \\\n",
    "                          --a-timeout \"$PARTY_A_TIMEOUT\"     \\\n",
    "                          --b-party \"PK=$PARTY_B_PUBKEYHASH\" \\\n",
    "                          --b-token \"$TOKEN_B\"               \\\n",
    "                          --b-amount \"$AMOUNT_B\"             \\\n",
    "                          --b-timeout \"$PARTY_B_TIMEOUT\"     \\\n",
    "                          --out-contract-file tx-1.contract  \\\n",
    "                          --out-state-file    tx-1.state"
   ]
  },
  {
   "cell_type": "markdown",
   "id": "f2eb9ff2-86b8-437e-aa04-a1a38cebea9a",
   "metadata": {},
   "source": [
    "## Transaction 1. Create the Contract by Providing the Minimum ADA."
   ]
  },
  {
   "cell_type": "markdown",
   "id": "8bb180fb-1d68-4501-9b32-d7f69104de6d",
   "metadata": {},
   "source": [
    "First we create a `.marlowe` file that contains the initial information needed to run the contract. The bare size and cost of the script provide a lower bound on the resources that running it will require."
   ]
  },
  {
   "cell_type": "code",
   "execution_count": 34,
   "id": "a7641e72-ff1b-45c2-9552-021963aee59b",
   "metadata": {},
   "outputs": [
    {
     "name": "stdout",
     "output_type": "stream",
     "text": [
      "\n",
      "Validator size: 12383\n",
      "Base-validator cost: ExBudget {exBudgetCPU = ExCPU 18768100, exBudgetMemory = ExMemory 81700}\n"
     ]
    }
   ],
   "source": [
    "marlowe-cli run initialize --contract-file tx-1.contract \\\n",
    "                           --state-file    tx-1.state    \\\n",
    "                           --out-file      tx-1.marlowe  \\\n",
    "                           --print-stats"
   ]
  },
  {
   "cell_type": "markdown",
   "id": "5885e723-5123-457d-bd44-a7841fe9e959",
   "metadata": {},
   "source": [
    "In particular, we can extract the contract's address from the `.marlowe` file."
   ]
  },
  {
   "cell_type": "code",
   "execution_count": 35,
   "id": "1f0388aa-2f15-4938-a2ae-15841529e5d8",
   "metadata": {},
   "outputs": [],
   "source": [
    "CONTRACT_ADDRESS=$(jq -r '.tx.marloweValidator.address' tx-1.marlowe)"
   ]
  },
  {
   "cell_type": "markdown",
   "id": "fe2826c6-c557-47cd-bc4b-76a80786a3f9",
   "metadata": {},
   "source": [
    "The Marlowe contract resides at the following address:"
   ]
  },
  {
   "cell_type": "code",
   "execution_count": 36,
   "id": "199d51f9-2778-48a1-a94d-37186b260974",
   "metadata": {},
   "outputs": [
    {
     "name": "stdout",
     "output_type": "stream",
     "text": [
      "addr_test1wz0znl0lfq7jqmgduzgsu7ndnjt4npgeg5a75j3upvn7dsq3dwfjv\n"
     ]
    }
   ],
   "source": [
    "echo $CONTRACT_ADDRESS"
   ]
  },
  {
   "cell_type": "markdown",
   "id": "ab570c22-0af1-4168-9269-ebefce6bfa6d",
   "metadata": {},
   "source": [
    "The first party submits the transaction along with the minimum Ada required for the contract's initial state. Submitting with the `--print-stats` switch reveals the network fee for the contract, the size of the transaction, and the execution requirements, relative to the protocol limits."
   ]
  },
  {
   "cell_type": "code",
   "execution_count": 37,
   "id": "33d55ddb-7ca9-455b-b369-1f26628e6aaf",
   "metadata": {},
   "outputs": [
    {
     "name": "stdout",
     "output_type": "stream",
     "text": [
      "\n",
      "Fee: Lovelace 208621\n",
      "Size: 864 / 16384 = 5%\n",
      "Execution units:\n",
      "  Memory: 0 / 14000000 = 0%\n",
      "  Steps: 0 / 10000000000 = 0%\n"
     ]
    }
   ],
   "source": [
    "TX_1=$(\n",
    "marlowe-cli run auto-execute --required-signer \"$PARTY_A_PAYMENT_SKEY\" \\\n",
    "                             --marlowe-out-file tx-1.marlowe           \\\n",
    "                             --change-address \"$PARTY_A_ADDRESS\"       \\\n",
    "                             --out-file tx-1.raw                       \\\n",
    "                             --print-stats                             \\\n",
    "                             --submit 600                              \\\n",
    "| sed -e 's/^TxId \"\\(.*\\)\"$/\\1/'                                       \\\n",
    ")"
   ]
  },
  {
   "cell_type": "markdown",
   "id": "a7e8b2dd-7133-460e-861c-7b456ae208fb",
   "metadata": {},
   "source": [
    "The contract received the minimum Ada from the first party in the following transaction:"
   ]
  },
  {
   "cell_type": "code",
   "execution_count": 38,
   "id": "b3fee973-ab68-4976-9596-64feb0fd7014",
   "metadata": {},
   "outputs": [
    {
     "name": "stdout",
     "output_type": "stream",
     "text": [
      "641b465c7e088580f7043a99a9d4b15651ded6f62a9c3183400e747f6f9d4810\n"
     ]
    }
   ],
   "source": [
    "echo $TX_1"
   ]
  },
  {
   "cell_type": "markdown",
   "id": "9ba3287d-379f-4db8-8b9d-0de052bb6b2f",
   "metadata": {},
   "source": [
    "The following UTxOs are at the contract address:"
   ]
  },
  {
   "cell_type": "code",
   "execution_count": 39,
   "id": "7deebc6f-49ce-4c44-8ad5-c872cd6a44c8",
   "metadata": {},
   "outputs": [
    {
     "name": "stdout",
     "output_type": "stream",
     "text": [
      "                           TxHash                                 TxIx        Amount\n",
      "--------------------------------------------------------------------------------------\n",
      "641b465c7e088580f7043a99a9d4b15651ded6f62a9c3183400e747f6f9d4810     1        3000000 lovelace + TxOutDatumHash ScriptDataInBabbageEra \"ffe678ec0072c21067c86a074609d0919f1aaa297dc6a7c4a35f40ecc8638645\"\n"
     ]
    }
   ],
   "source": [
    "cardano-cli query utxo --testnet-magic \"$CARDANO_TESTNET_MAGIC\" --address \"$CONTRACT_ADDRESS\" | sed -n -e \"1p;2p;/$TX_1/p\""
   ]
  },
  {
   "cell_type": "markdown",
   "id": "98952f93-02bd-474b-a857-050a934fcf4c",
   "metadata": {},
   "source": [
    "Here are the UTxOs at the first party address:"
   ]
  },
  {
   "cell_type": "code",
   "execution_count": 40,
   "id": "d6179fd0-12b4-4a50-93a6-b8051e6c25b0",
   "metadata": {},
   "outputs": [
    {
     "name": "stdout",
     "output_type": "stream",
     "text": [
      "                           TxHash                                 TxIx        Amount\n",
      "--------------------------------------------------------------------------------------\n",
      "641b465c7e088580f7043a99a9d4b15651ded6f62a9c3183400e747f6f9d4810     0        94442645 lovelace + TxOutDatumNone\n",
      "7684d3181842c19b83c974ae7a13b5cb9550c9b2e5be5a6661c0c40e823e2cad     1        2000000 lovelace + 300 4b6897a0af19de09282bad1b3d191ace3c61ec364aa009102f0d23b3.476c6f6265 + TxOutDatumNone\n"
     ]
    }
   ],
   "source": [
    "cardano-cli query utxo --testnet-magic \"$CARDANO_TESTNET_MAGIC\" --address \"$PARTY_A_ADDRESS\""
   ]
  },
  {
   "cell_type": "markdown",
   "id": "cae17d34-f865-4f84-a6e5-1d7cfcf201cd",
   "metadata": {},
   "source": [
    "## Transaction 2. First Party Deposits Tokens into the Contract."
   ]
  },
  {
   "cell_type": "markdown",
   "id": "2883cdb0-387e-4893-be00-63944b466bed",
   "metadata": {},
   "source": [
    "First we compute the Marlowe input required to deposit the tokens."
   ]
  },
  {
   "cell_type": "code",
   "execution_count": 41,
   "id": "ded756b1-4ac1-4544-b6e2-959e6d375bab",
   "metadata": {},
   "outputs": [
    {
     "name": "stdout",
     "output_type": "stream",
     "text": [
      "\n",
      "Datum size: 540\n"
     ]
    }
   ],
   "source": [
    "marlowe-cli run prepare --marlowe-file tx-1.marlowe                \\\n",
    "                        --deposit-account \"PK=$PARTY_A_PUBKEYHASH\" \\\n",
    "                        --deposit-party \"PK=$PARTY_A_PUBKEYHASH\"   \\\n",
    "                        --deposit-token \"$TOKEN_A\"                 \\\n",
    "                        --deposit-amount \"$AMOUNT_A\"               \\\n",
    "                        --invalid-before \"$NOW\"                    \\\n",
    "                        --invalid-hereafter \"$((NOW+4*HOUR))\"      \\\n",
    "                        --out-file tx-2.marlowe                    \\\n",
    "                        --print-stats"
   ]
  },
  {
   "cell_type": "markdown",
   "id": "2b9c322e-890f-4ae6-b47b-a962ed2c9124",
   "metadata": {},
   "source": [
    "Now the first party submits the transaction that deposits their tokens."
   ]
  },
  {
   "cell_type": "code",
   "execution_count": 42,
   "id": "aca4fc6c-a1e4-4236-8f74-fd0fed4f2477",
   "metadata": {},
   "outputs": [
    {
     "name": "stdout",
     "output_type": "stream",
     "text": [
      "\n",
      "Fee: Lovelace 1142704\n",
      "Size: 14051 / 16384 = 85%\n",
      "Execution units:\n",
      "  Memory: 4535828 / 14000000 = 32%\n",
      "  Steps: 1215052593 / 10000000000 = 12%\n"
     ]
    }
   ],
   "source": [
    "TX_2=$(\n",
    "marlowe-cli run auto-execute --marlowe-in-file tx-1.marlowe            \\\n",
    "                             --tx-in-marlowe \"$TX_1#1\"                 \\\n",
    "                             --required-signer \"$PARTY_A_PAYMENT_SKEY\" \\\n",
    "                             --marlowe-out-file tx-2.marlowe           \\\n",
    "                             --change-address \"$PARTY_A_ADDRESS\"       \\\n",
    "                             --out-file tx-2.raw                       \\\n",
    "                             --print-stats                             \\\n",
    "                             --submit=600                              \\\n",
    "| sed -e 's/^TxId \"\\(.*\\)\"$/\\1/'                                       \\\n",
    ")"
   ]
  },
  {
   "cell_type": "markdown",
   "id": "b97fae5c-9cba-4a1f-acf3-82ef3b6f201d",
   "metadata": {},
   "source": [
    "The contract received the deposit of the first party's token for the swap in the following transaction:"
   ]
  },
  {
   "cell_type": "code",
   "execution_count": 43,
   "id": "ac141450-19f1-45d8-be9e-60b8d0056aa2",
   "metadata": {},
   "outputs": [
    {
     "name": "stdout",
     "output_type": "stream",
     "text": [
      "ca39e65cbf587540c455bc319c3154897408f57f34ea0547f8e40fc84bba028c\n"
     ]
    }
   ],
   "source": [
    "echo $TX_2"
   ]
  },
  {
   "cell_type": "markdown",
   "id": "a6880e0b-2acc-4a24-96f9-6572c8a3fd19",
   "metadata": {},
   "source": [
    "The following UTxOs are at the contract address:"
   ]
  },
  {
   "cell_type": "code",
   "execution_count": 44,
   "id": "d18504a1-7f8f-4d96-b0e6-37cb80bcbc18",
   "metadata": {},
   "outputs": [
    {
     "name": "stdout",
     "output_type": "stream",
     "text": [
      "                           TxHash                                 TxIx        Amount\n",
      "--------------------------------------------------------------------------------------\n",
      "ca39e65cbf587540c455bc319c3154897408f57f34ea0547f8e40fc84bba028c     1        3000000 lovelace + 300 4b6897a0af19de09282bad1b3d191ace3c61ec364aa009102f0d23b3.476c6f6265 + TxOutDatumHash ScriptDataInBabbageEra \"e66a694645d6e6864e6484ae8c4035fc14bef19401bbee67e12ce07a6e5b1555\"\n"
     ]
    }
   ],
   "source": [
    "cardano-cli query utxo --testnet-magic \"$CARDANO_TESTNET_MAGIC\" --address \"$CONTRACT_ADDRESS\" | sed -n -e \"1p;2p;/$TX_1/p;/$TX_2/p\""
   ]
  },
  {
   "cell_type": "markdown",
   "id": "0044bf07-46ae-47f9-803b-48bc3950a4be",
   "metadata": {},
   "source": [
    "Here are the UTxOs at the first party address:"
   ]
  },
  {
   "cell_type": "code",
   "execution_count": 45,
   "id": "6cc9b2c4-a114-4b96-b904-a839d3958deb",
   "metadata": {},
   "outputs": [
    {
     "name": "stdout",
     "output_type": "stream",
     "text": [
      "                           TxHash                                 TxIx        Amount\n",
      "--------------------------------------------------------------------------------------\n",
      "ca39e65cbf587540c455bc319c3154897408f57f34ea0547f8e40fc84bba028c     0        95299941 lovelace + TxOutDatumNone\n"
     ]
    }
   ],
   "source": [
    "cardano-cli query utxo --testnet-magic \"$CARDANO_TESTNET_MAGIC\" --address \"$PARTY_A_ADDRESS\""
   ]
  },
  {
   "cell_type": "markdown",
   "id": "2a1b8356-2536-4df0-b16f-50978e4f1fc1",
   "metadata": {},
   "source": [
    "## Transaction 3. The Second Party Deposits their Tokens to Complete the Swap."
   ]
  },
  {
   "cell_type": "code",
   "execution_count": 46,
   "id": "cc52dc53-7402-4313-a687-e57da5271004",
   "metadata": {},
   "outputs": [
    {
     "name": "stdout",
     "output_type": "stream",
     "text": [
      "\n",
      "Datum size: 25\n",
      "Payment 1\n",
      "  Acccount: PK \"1cb51be3ab4e4b540e86bd4c9be02682db8150f69c3cded2422cc1bf\"\n",
      "  Payee: Party (PK \"fd37884bbd044c72e5f29de1b777a9c1c1d531773535cd5b55e2f6ff\")\n",
      "  Ada: 0.000000\n",
      "  4b6897a0af19de09282bad1b3d191ace3c61ec364aa009102f0d23b3.\"Globe\": 300\n",
      "Payment 2\n",
      "  Acccount: PK \"fd37884bbd044c72e5f29de1b777a9c1c1d531773535cd5b55e2f6ff\"\n",
      "  Payee: Party (PK \"1cb51be3ab4e4b540e86bd4c9be02682db8150f69c3cded2422cc1bf\")\n",
      "  Ada: 0.000000\n",
      "  13d32b28fbb50440a92f618434d91a6bdbf46d4da9a7838a82937492.\"Swan\": 500\n",
      "Payment 3\n",
      "  Acccount: PK \"1cb51be3ab4e4b540e86bd4c9be02682db8150f69c3cded2422cc1bf\"\n",
      "  Payee: Party (PK \"1cb51be3ab4e4b540e86bd4c9be02682db8150f69c3cded2422cc1bf\")\n",
      "  Ada: 3.000000\n"
     ]
    }
   ],
   "source": [
    "marlowe-cli run prepare --marlowe-file tx-2.marlowe                \\\n",
    "                        --deposit-account \"PK=$PARTY_B_PUBKEYHASH\" \\\n",
    "                        --deposit-party \"PK=$PARTY_B_PUBKEYHASH\"   \\\n",
    "                        --deposit-token \"$TOKEN_B\"                 \\\n",
    "                        --deposit-amount \"$AMOUNT_B\"               \\\n",
    "                        --invalid-before \"$NOW\"                    \\\n",
    "                        --invalid-hereafter \"$((NOW+4*HOUR))\"      \\\n",
    "                        --out-file tx-3.marlowe                    \\\n",
    "                        --print-stats"
   ]
  },
  {
   "cell_type": "markdown",
   "id": "8fe424db-8fd7-4968-8588-21dccfcd60e9",
   "metadata": {},
   "source": [
    "Now the second party can submit a transaction that deposits their tokens and completes the swap."
   ]
  },
  {
   "cell_type": "code",
   "execution_count": 47,
   "id": "436964e7-1008-4abf-b067-b59bc105f7b3",
   "metadata": {},
   "outputs": [
    {
     "name": "stdout",
     "output_type": "stream",
     "text": [
      "\n",
      "Fee: Lovelace 1225823\n",
      "Size: 13503 / 16384 = 82%\n",
      "Execution units:\n",
      "  Memory: 5958314 / 14000000 = 42%\n",
      "  Steps: 1563921919 / 10000000000 = 15%\n"
     ]
    }
   ],
   "source": [
    "TX_3=$(\n",
    "marlowe-cli run auto-execute --marlowe-in-file tx-2.marlowe            \\\n",
    "                             --tx-in-marlowe \"$TX_2#1\"                 \\\n",
    "                             --required-signer \"$PARTY_B_PAYMENT_SKEY\" \\\n",
    "                             --marlowe-out-file tx-3.marlowe           \\\n",
    "                             --change-address \"$PARTY_B_ADDRESS\"       \\\n",
    "                             --out-file tx-3.raw                       \\\n",
    "                             --print-stats                             \\\n",
    "                             --submit=600                              \\\n",
    "| sed -e 's/^TxId \"\\(.*\\)\"$/\\1/'                                       \\\n",
    ")"
   ]
  },
  {
   "cell_type": "markdown",
   "id": "99bd0fc2-50d8-45b5-843e-5925b0f6fb29",
   "metadata": {},
   "source": [
    "The closing of the contract paid the swapped tokens to the parties in the transaction:"
   ]
  },
  {
   "cell_type": "code",
   "execution_count": 48,
   "id": "ff2e6005-1949-4957-a50f-e9943d30b69d",
   "metadata": {},
   "outputs": [
    {
     "name": "stdout",
     "output_type": "stream",
     "text": [
      "051fb631e56a88f80c098a56ccd5227513d77ca03d9be7d7e166c7ce1f810f57\n"
     ]
    }
   ],
   "source": [
    "echo $TX_3"
   ]
  },
  {
   "cell_type": "markdown",
   "id": "cef53514-b4e8-4b08-8a15-8edbdc3c9ae1",
   "metadata": {},
   "source": [
    "There is no UTxO at the contract address:"
   ]
  },
  {
   "cell_type": "code",
   "execution_count": 49,
   "id": "8c68faff-3e10-4f12-bf65-a756c1d1ee7b",
   "metadata": {},
   "outputs": [
    {
     "name": "stdout",
     "output_type": "stream",
     "text": [
      "                           TxHash                                 TxIx        Amount\n",
      "--------------------------------------------------------------------------------------\n"
     ]
    }
   ],
   "source": [
    "cardano-cli query utxo --testnet-magic \"$CARDANO_TESTNET_MAGIC\" --address \"$CONTRACT_ADDRESS\" | sed -n -e \"1p;2p;/$TX_1/p;/$TX_2/p;/$TX_3/p\""
   ]
  },
  {
   "cell_type": "markdown",
   "id": "5e025ab1-b2f5-4ff2-8db4-b2cda64acebc",
   "metadata": {},
   "source": [
    "Here are the UTxOs at the first party's address:"
   ]
  },
  {
   "cell_type": "code",
   "execution_count": 50,
   "id": "f07a2d5a-9de5-4391-8ad7-8dbf453864a5",
   "metadata": {},
   "outputs": [
    {
     "name": "stdout",
     "output_type": "stream",
     "text": [
      "                           TxHash                                 TxIx        Amount\n",
      "--------------------------------------------------------------------------------------\n",
      "051fb631e56a88f80c098a56ccd5227513d77ca03d9be7d7e166c7ce1f810f57     1        3000000 lovelace + 500 13d32b28fbb50440a92f618434d91a6bdbf46d4da9a7838a82937492.5377616e + TxOutDatumNone\n",
      "ca39e65cbf587540c455bc319c3154897408f57f34ea0547f8e40fc84bba028c     0        95299941 lovelace + TxOutDatumNone\n"
     ]
    }
   ],
   "source": [
    "cardano-cli query utxo --testnet-magic \"$CARDANO_TESTNET_MAGIC\" --address \"$PARTY_A_ADDRESS\""
   ]
  },
  {
   "cell_type": "markdown",
   "id": "5e383ed0-3089-4ad3-b347-52164cea0abd",
   "metadata": {},
   "source": [
    "Here are the UTxOs at the second party's address:"
   ]
  },
  {
   "cell_type": "code",
   "execution_count": 51,
   "id": "3386ba63-00a6-47e1-8232-7bfe05c58667",
   "metadata": {},
   "outputs": [
    {
     "name": "stdout",
     "output_type": "stream",
     "text": [
      "                           TxHash                                 TxIx        Amount\n",
      "--------------------------------------------------------------------------------------\n",
      "051fb631e56a88f80c098a56ccd5227513d77ca03d9be7d7e166c7ce1f810f57     0        97386865 lovelace + TxOutDatumNone\n",
      "051fb631e56a88f80c098a56ccd5227513d77ca03d9be7d7e166c7ce1f810f57     2        1038710 lovelace + 300 4b6897a0af19de09282bad1b3d191ace3c61ec364aa009102f0d23b3.476c6f6265 + TxOutDatumNone\n"
     ]
    }
   ],
   "source": [
    "cardano-cli query utxo --testnet-magic \"$CARDANO_TESTNET_MAGIC\" --address \"$PARTY_B_ADDRESS\""
   ]
  },
  {
   "cell_type": "markdown",
   "id": "99bc13a1-5df5-43e4-9a25-7111cd87a918",
   "metadata": {},
   "source": [
    "## Clean Up"
   ]
  },
  {
   "cell_type": "code",
   "execution_count": 52,
   "id": "45fca1d1-00ee-49f9-bea7-fe0f92af678c",
   "metadata": {},
   "outputs": [],
   "source": [
    "TX_CLEANUP_TOKEN_B=$(marlowe-cli util select --asset-only \"$TOKEN_B\" \"$PARTY_A_ADDRESS\" | sed -e 's/^TxIn \"\\(.*\\)\" (TxIx \\(.*\\))$/\\1#\\2/')"
   ]
  },
  {
   "cell_type": "code",
   "execution_count": 53,
   "id": "595e6586-a65e-4c07-b500-9e770131aa3b",
   "metadata": {},
   "outputs": [
    {
     "name": "stdout",
     "output_type": "stream",
     "text": [
      "TxId \"fd337cdbc1f5802131416ab83bc90bba6e94e5c9762d3e5fab736e443c1d8ddb\"\n"
     ]
    }
   ],
   "source": [
    "marlowe-cli transaction simple --tx-in \"$TX_2#0\"                                      \\\n",
    "                               --tx-in \"$TX_CLEANUP_TOKEN_B\"                          \\\n",
    "                               --tx-out \"$PARTY_B_ADDRESS+1500000+$AMOUNT_B $TOKEN_B\" \\\n",
    "                               --required-signer \"$PARTY_A_PAYMENT_SKEY\"              \\\n",
    "                               --change-address \"$PARTY_A_ADDRESS\"                    \\\n",
    "                               --out-file /dev/null                                   \\\n",
    "                               --submit 600"
   ]
  },
  {
   "cell_type": "code",
   "execution_count": 54,
   "id": "02fd51e0-5154-4d04-ab60-f0bc3d49c005",
   "metadata": {},
   "outputs": [],
   "source": [
    "TX_CLEANUP_TOKEN_A=$(marlowe-cli util select --asset-only \"$TOKEN_A\" \"$PARTY_B_ADDRESS\" | sed -e 's/^TxIn \"\\(.*\\)\" (TxIx \\(.*\\))$/\\1#\\2/')"
   ]
  },
  {
   "cell_type": "code",
   "execution_count": 55,
   "id": "508de794-ab40-4afc-ace9-32abe9e407e3",
   "metadata": {},
   "outputs": [
    {
     "name": "stdout",
     "output_type": "stream",
     "text": [
      "TxId \"4064325175127665d0131b223365d0fe72416468199a98bc347c181d9a516312\"\n"
     ]
    }
   ],
   "source": [
    "marlowe-cli transaction simple --tx-in \"$TX_3#0\"                                      \\\n",
    "                               --tx-in \"$TX_CLEANUP_TOKEN_A\"                          \\\n",
    "                               --tx-out \"$PARTY_A_ADDRESS+1500000+$AMOUNT_A $TOKEN_A\" \\\n",
    "                               --required-signer \"$PARTY_B_PAYMENT_SKEY\"              \\\n",
    "                               --change-address \"$PARTY_B_ADDRESS\"                    \\\n",
    "                               --out-file /dev/null                                   \\\n",
    "                               --submit 600"
   ]
  },
  {
   "cell_type": "code",
   "execution_count": 56,
   "id": "c8c977fb-e7cb-4cc3-a0b2-df244884cf5e",
   "metadata": {},
   "outputs": [
    {
     "name": "stdout",
     "output_type": "stream",
     "text": [
      "PolicyID \"4b6897a0af19de09282bad1b3d191ace3c61ec364aa009102f0d23b3\"\n"
     ]
    }
   ],
   "source": [
    "marlowe-cli util mint --required-signer \"$PARTY_A_PAYMENT_SKEY\" \\\n",
    "                      --change-address  \"$PARTY_A_ADDRESS\"      \\\n",
    "                      --count \"-$AMOUNT_A\"                      \\\n",
    "                      --expires \"$MINT_EXPIRES\"                 \\\n",
    "                      --out-file /dev/null                      \\\n",
    "                      --submit=600                              \\\n",
    "                      \"$TOKEN_NAME_A\""
   ]
  },
  {
   "cell_type": "code",
   "execution_count": 57,
   "id": "15067e67-142f-4893-a650-0d4fec6fb485",
   "metadata": {},
   "outputs": [
    {
     "name": "stdout",
     "output_type": "stream",
     "text": [
      "PolicyID \"13d32b28fbb50440a92f618434d91a6bdbf46d4da9a7838a82937492\"\n"
     ]
    }
   ],
   "source": [
    "marlowe-cli util mint --required-signer \"$PARTY_B_PAYMENT_SKEY\" \\\n",
    "                      --change-address  \"$PARTY_B_ADDRESS\"      \\\n",
    "                      --count \"-$AMOUNT_B\"                      \\\n",
    "                      --expires \"$MINT_EXPIRES\"                 \\\n",
    "                      --out-file /dev/null                      \\\n",
    "                      --submit=600                              \\\n",
    "                      \"$TOKEN_NAME_B\""
   ]
  },
  {
   "cell_type": "code",
   "execution_count": 58,
   "id": "78974479-5127-4413-9306-07238a837f0b",
   "metadata": {},
   "outputs": [],
   "source": [
    "TX=$(\n",
    "marlowe-cli util select --lovelace-only 1                 \\\n",
    "                        \"$PARTY_A_ADDRESS\"                \\\n",
    "| sed -n -e '1{s/^TxIn \"\\(.*\\)\" (TxIx \\(.*\\))$/\\1#\\2/;p}' \\\n",
    ")"
   ]
  },
  {
   "cell_type": "code",
   "execution_count": 59,
   "id": "c057acbd-dce6-43d0-b628-8c7bff1e2cee",
   "metadata": {
    "tags": []
   },
   "outputs": [
    {
     "name": "stdout",
     "output_type": "stream",
     "text": [
      "TxId \"17b70ac661919861927f3fd2d7ee7a984b798e18410ceb02d266d47b9500f366\"\n"
     ]
    }
   ],
   "source": [
    "marlowe-cli transaction simple --tx-in \"$TX\"                             \\\n",
    "                               --required-signer \"$PARTY_A_PAYMENT_SKEY\" \\\n",
    "                               --change-address \"$FAUCET_ADDRESS\"        \\\n",
    "                               --out-file /dev/null                      \\\n",
    "                               --submit 600"
   ]
  },
  {
   "cell_type": "code",
   "execution_count": 60,
   "id": "0b4286bf-8d81-41a0-8e02-58a2ddbcb117",
   "metadata": {},
   "outputs": [],
   "source": [
    "TX=$(\n",
    "marlowe-cli util select --lovelace-only 1                 \\\n",
    "                        \"$PARTY_B_ADDRESS\"                \\\n",
    "| sed -n -e '1{s/^TxIn \"\\(.*\\)\" (TxIx \\(.*\\))$/\\1#\\2/;p}' \\\n",
    ")"
   ]
  },
  {
   "cell_type": "code",
   "execution_count": 61,
   "id": "0a8b1a8e-6556-4d60-9f00-20f8208f5ee2",
   "metadata": {},
   "outputs": [
    {
     "name": "stdout",
     "output_type": "stream",
     "text": [
      "TxId \"86282b22ec277ea8303eb6c41fcd35bfa459a94680b3a5629a53e6daf7a028e0\"\n"
     ]
    }
   ],
   "source": [
    "marlowe-cli transaction simple --tx-in \"$TX\"                             \\\n",
    "                               --required-signer \"$PARTY_B_PAYMENT_SKEY\" \\\n",
    "                               --change-address \"$FAUCET_ADDRESS\"        \\\n",
    "                               --out-file /dev/null                      \\\n",
    "                               --submit 600"
   ]
  },
  {
   "cell_type": "code",
   "execution_count": 62,
   "id": "e4db2bf1-8415-4920-aa57-b1f139056081",
   "metadata": {},
   "outputs": [
    {
     "name": "stdout",
     "output_type": "stream",
     "text": [
      "                           TxHash                                 TxIx        Amount\n",
      "--------------------------------------------------------------------------------------\n"
     ]
    }
   ],
   "source": [
    "cardano-cli query utxo --testnet-magic \"$CARDANO_TESTNET_MAGIC\" --address \"$PARTY_A_ADDRESS\""
   ]
  },
  {
   "cell_type": "code",
   "execution_count": 63,
   "id": "21e2b85a-3d6b-41f7-8ef0-b0dc7ad73499",
   "metadata": {},
   "outputs": [
    {
     "name": "stdout",
     "output_type": "stream",
     "text": [
      "                           TxHash                                 TxIx        Amount\n",
      "--------------------------------------------------------------------------------------\n"
     ]
    }
   ],
   "source": [
    "cardano-cli query utxo --testnet-magic \"$CARDANO_TESTNET_MAGIC\" --address \"$PARTY_B_ADDRESS\""
   ]
  },
  {
   "cell_type": "code",
   "execution_count": 64,
   "id": "226edbd6-43e4-49f0-bd93-f8bc26970701",
   "metadata": {},
   "outputs": [
    {
     "name": "stdout",
     "output_type": "stream",
     "text": [
      "                           TxHash                                 TxIx        Amount\n",
      "--------------------------------------------------------------------------------------\n",
      "56d7307ad7efe0c91f1a792b17a2e17c16898af4cbec75a6615f8fef961bc41a     0        139565033885 lovelace + TxOutDatumNone\n"
     ]
    }
   ],
   "source": [
    "marlowe-cli util clean --required-signer \"$FAUCET_SKEY_FILE\" \\\n",
    "                       --change-address \"$FAUCET_ADDRESS\"    \\\n",
    "                       --out-file /dev/null                  \\\n",
    "                       --submit=600                          \\\n",
    "> /dev/null\n",
    "cardano-cli query utxo --testnet-magic \"$CARDANO_TESTNET_MAGIC\" --address \"$FAUCET_ADDRESS\""
   ]
  }
 ],
 "metadata": {
  "kernelspec": {
   "display_name": "Bash - Marlowe",
   "language": "bash",
   "name": "bash_marlowe"
  },
  "language_info": {
   "codemirror_mode": "shell",
   "file_extension": ".sh",
   "mimetype": "text/x-sh",
   "name": "/nix/store/zwjm0gln1vk7x1akpyz0yxjsd1yc46gi-bash-5.1-p16/bin/bash"
  }
 },
 "nbformat": 4,
 "nbformat_minor": 5
}
