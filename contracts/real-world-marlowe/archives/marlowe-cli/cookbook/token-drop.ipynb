{
 "cells": [
  {
   "cell_type": "markdown",
   "id": "8a4e7337-1382-4a01-b6e3-29817e45a951",
   "metadata": {},
   "source": [
    "# Simple Marlowe Contract for a Token Airdrop\n",
    "\n",
    "**Executive Summary**\n",
    "\n",
    "This contract demonstrates the use of Cardano address in a Marlowe contract, where formerly public-key hashes were used to identify non-role parties in a contract. The contract itself is a simple airdrop of tokens to three recipients, where the airdrop must occur after a specified time (via a `Notify` containing a `TimeIntervalStart` condition).\n",
    "\n",
    "Here is a Blockly version of the contract (but with public key hashes appearing instead of addresses because Blockly does not yet display addresses).\n",
    "![Token drop contract](token-drop.png)"
   ]
  },
  {
   "cell_type": "markdown",
   "id": "5859aa75-ed5b-4dd8-97ae-1a8ffb78e5fe",
   "metadata": {},
   "source": [
    "## Preliminaries"
   ]
  },
  {
   "cell_type": "markdown",
   "id": "4a8ab90f-cffe-4b59-a10c-a0f2b58dd24b",
   "metadata": {},
   "source": [
    "### Record versions"
   ]
  },
  {
   "cell_type": "code",
   "execution_count": 1,
   "id": "d81a90a3-ed6d-4795-a8a2-88e1baf17c7a",
   "metadata": {},
   "outputs": [
    {
     "name": "stdout",
     "output_type": "stream",
     "text": [
      "cardano-cli 1.35.3 - linux-x86_64 - ghc-8.10\n",
      "git rev 0000000000000000000000000000000000000000\n"
     ]
    }
   ],
   "source": [
    "cardano-cli --version"
   ]
  },
  {
   "cell_type": "code",
   "execution_count": 2,
   "id": "caf5baa2-2d7c-4d28-a4d8-8a852d9549d2",
   "metadata": {},
   "outputs": [
    {
     "name": "stdout",
     "output_type": "stream",
     "text": [
      "marlowe-cli 0.0.8.1\n"
     ]
    }
   ],
   "source": [
    "marlowe-cli --version"
   ]
  },
  {
   "cell_type": "code",
   "execution_count": 3,
   "id": "af42567a-7254-4000-b1d0-428a3dcbf393",
   "metadata": {},
   "outputs": [
    {
     "name": "stdout",
     "output_type": "stream",
     "text": [
      "6c115514abcd567c24cfe70a847b6d3a916f110f\n"
     ]
    }
   ],
   "source": [
    "git rev-parse HEAD"
   ]
  },
  {
   "cell_type": "markdown",
   "id": "0d18819d-5f86-48a2-a1b5-8699826aab00",
   "metadata": {},
   "source": [
    "### Select the network"
   ]
  },
  {
   "cell_type": "code",
   "execution_count": 4,
   "id": "fede6984-0788-4d1d-96e1-6e3b874b8b80",
   "metadata": {},
   "outputs": [],
   "source": [
    "export CARDANO_TESTNET_MAGIC=2\n",
    "export CARDANO_NODE_SOCKET_PATH=node.socket"
   ]
  },
  {
   "cell_type": "markdown",
   "id": "3e234cba-1e45-4b6e-9fd7-47201946ec28",
   "metadata": {},
   "source": [
    "### Set the folder where keys are stored."
   ]
  },
  {
   "cell_type": "code",
   "execution_count": 5,
   "id": "4792ead9-fb06-4d3e-a558-300e1275fb25",
   "metadata": {},
   "outputs": [],
   "source": [
    "export TREASURY=treasury"
   ]
  },
  {
   "cell_type": "markdown",
   "id": "39338cf3-1048-429f-9947-b53875211a31",
   "metadata": {},
   "source": [
    "### Find the current time and compute time constants"
   ]
  },
  {
   "cell_type": "code",
   "execution_count": 6,
   "id": "d975edf7-5f89-420a-a641-da7ee338dfb1",
   "metadata": {},
   "outputs": [
    {
     "name": "stdout",
     "output_type": "stream",
     "text": [
      "1663467698000\n"
     ]
    }
   ],
   "source": [
    "NOW=$(($(date -u +%s) * 1000))\n",
    "echo \"$NOW\""
   ]
  },
  {
   "cell_type": "markdown",
   "id": "20409585-3cab-4176-8e44-b4a4dac45e0c",
   "metadata": {},
   "source": [
    "### Constants"
   ]
  },
  {
   "cell_type": "markdown",
   "id": "4e2cd1a8-a1cd-430c-85dd-69ab7cd9d233",
   "metadata": {},
   "source": [
    "#### Time constants"
   ]
  },
  {
   "cell_type": "code",
   "execution_count": 7,
   "id": "5c96ebdb-4fd4-4e53-b9fc-55994a2c274d",
   "metadata": {},
   "outputs": [],
   "source": [
    "SECOND=1000\n",
    "MINUTE=$((60 * SECOND))\n",
    "HOUR=$((60 * MINUTE))\n",
    "DAY=$((24 * HOUR))"
   ]
  },
  {
   "cell_type": "markdown",
   "id": "3a8c6218-2f79-475d-b188-f05f13be06fc",
   "metadata": {},
   "source": [
    "#### Lovelace to Ada"
   ]
  },
  {
   "cell_type": "code",
   "execution_count": 8,
   "id": "9811b913-32eb-4e9e-98fe-938548814a64",
   "metadata": {},
   "outputs": [],
   "source": [
    "ADA=1000000"
   ]
  },
  {
   "cell_type": "markdown",
   "id": "8a8883b4-8b7c-43c1-a046-53af05e1ac1e",
   "metadata": {},
   "source": [
    "### Credentials for the token distribuor"
   ]
  },
  {
   "cell_type": "code",
   "execution_count": 9,
   "id": "7a5dedc5-e702-43b2-847c-d2ad4d09a073",
   "metadata": {},
   "outputs": [
    {
     "name": "stdout",
     "output_type": "stream",
     "text": [
      "addr_test1vq9prvx8ufwutkwxx9cmmuuajaqmjqwujqlp9d8pvg6gupczgtm9j\n"
     ]
    }
   ],
   "source": [
    "PAYMENT_SKEY=\"$TREASURY/payment.skey\"\n",
    "PAYMENT_ADDR=\"$(cat $TREASURY/payment.testnet.address)\"\n",
    "echo \"$PAYMENT_ADDR\""
   ]
  },
  {
   "cell_type": "markdown",
   "id": "338af54d-20ce-4d0f-abb7-a4b5539d154e",
   "metadata": {},
   "source": [
    "### Tokens to be distributed"
   ]
  },
  {
   "cell_type": "markdown",
   "id": "aa1fd56a-4cc4-4530-831d-d94b5a2ceace",
   "metadata": {},
   "source": [
    "These have already been minted . . ."
   ]
  },
  {
   "cell_type": "code",
   "execution_count": 10,
   "id": "9f36434e-0b63-4fc6-85d4-723e1af45a71",
   "metadata": {},
   "outputs": [],
   "source": [
    "POLICY_ID=8bb3b343d8e404472337966a722150048c768d0a92a9813596c5338d\n",
    "TOKEN_NAME=M4B"
   ]
  },
  {
   "cell_type": "markdown",
   "id": "c71edfc3-f275-4c5c-bc55-5b90078d0dae",
   "metadata": {},
   "source": [
    ". . . and are in the distributor's wallet."
   ]
  },
  {
   "cell_type": "code",
   "execution_count": 11,
   "id": "725271f8-8449-44a7-8005-06247c673a8f",
   "metadata": {},
   "outputs": [
    {
     "name": "stdout",
     "output_type": "stream",
     "text": [
      "                           TxHash                                 TxIx        Amount\n",
      "--------------------------------------------------------------------------------------\n",
      "034e51a5237b5cb35c71024439a3694ae7433aa573e92257a4001432279533c6     0        218623235553 lovelace + TxOutDatumNone\n",
      "70af7d24ac3ad95dc0a4a8d8ae3027807993e4a2095fbf708a605104104de99f     0        3000000 lovelace + 3 8bb3b343d8e404472337966a722150048c768d0a92a9813596c5338d.4d3442 + TxOutDatumNone\n"
     ]
    }
   ],
   "source": [
    "cardano-cli query utxo --testnet-magic \"$CARDANO_TESTNET_MAGIC\" --address \"$PAYMENT_ADDR\""
   ]
  },
  {
   "cell_type": "markdown",
   "id": "5ea7400a-b959-4bc5-82dc-de81d0e4dc3d",
   "metadata": {},
   "source": [
    "### Recipients of the tokens"
   ]
  },
  {
   "cell_type": "code",
   "execution_count": 12,
   "id": "5f62b725-8de9-452a-853b-fedd934ff6c8",
   "metadata": {},
   "outputs": [],
   "source": [
    "RECIPIENT_1=addr_test1qqjrjfslev50d5jn6qdeztxsqvuaaefq6e4hu55n59grjj7r7cz4mu6gh005gdck67p7y9d8s8zsfgjkcdy75mrjh6jqwhulyr\n",
    "RECIPIENT_2=addr_test1qraxynufcduk7ak7nke2jm6pnc32vn7wsmm7ml30cutfgg7r7cz4mu6gh005gdck67p7y9d8s8zsfgjkcdy75mrjh6jq77wfgp\n",
    "RECIPIENT_3=addr_test1qzenwj7elwatk3mmc368mwnv067fqnuk3x7u4nqw5dezg8wr7cz4mu6gh005gdck67p7y9d8s8zsfgjkcdy75mrjh6jqf6k36p"
   ]
  },
  {
   "cell_type": "markdown",
   "id": "113b5fac-c503-4a99-8b4d-61a2ece0d394",
   "metadata": {},
   "source": [
    "## Setup"
   ]
  },
  {
   "cell_type": "markdown",
   "id": "81967de5-3220-486c-bdcf-4cd2cd81dd40",
   "metadata": {},
   "source": [
    "Create a contract that pays the tokens to the recipients after a specified time."
   ]
  },
  {
   "cell_type": "code",
   "execution_count": 13,
   "id": "faf85a82-a545-4ba7-93e1-425dccb9b618",
   "metadata": {},
   "outputs": [
    {
     "name": "stdout",
     "output_type": "stream",
     "text": [
      "{\"timeout\":1663899698000,\"timeout_continuation\":\"close\",\"when\":[{\"case\":{\"notify_if\":{\"ge_than\":1663467998000,\"value\":\"time_interval_start\"}},\"then\":{\"from_account\":{\"address\":\"addr_test1vq9prvx8ufwutkwxx9cmmuuajaqmjqwujqlp9d8pvg6gupczgtm9j\"},\"pay\":1,\"then\":{\"from_account\":{\"address\":\"addr_test1vq9prvx8ufwutkwxx9cmmuuajaqmjqwujqlp9d8pvg6gupczgtm9j\"},\"pay\":1,\"then\":{\"from_account\":{\"address\":\"addr_test1vq9prvx8ufwutkwxx9cmmuuajaqmjqwujqlp9d8pvg6gupczgtm9j\"},\"pay\":1,\"then\":\"close\",\"to\":{\"party\":{\"address\":\"addr_test1qzenwj7elwatk3mmc368mwnv067fqnuk3x7u4nqw5dezg8wr7cz4mu6gh005gdck67p7y9d8s8zsfgjkcdy75mrjh6jqf6k36p\"}},\"token\":{\"currency_symbol\":\"8bb3b343d8e404472337966a722150048c768d0a92a9813596c5338d\",\"token_name\":\"M4B\"}},\"to\":{\"party\":{\"address\":\"addr_test1qraxynufcduk7ak7nke2jm6pnc32vn7wsmm7ml30cutfgg7r7cz4mu6gh005gdck67p7y9d8s8zsfgjkcdy75mrjh6jq77wfgp\"}},\"token\":{\"currency_symbol\":\"8bb3b343d8e404472337966a722150048c768d0a92a9813596c5338d\",\"token_name\":\"M4B\"}},\"to\":{\"party\":{\"address\":\"addr_test1qqjrjfslev50d5jn6qdeztxsqvuaaefq6e4hu55n59grjj7r7cz4mu6gh005gdck67p7y9d8s8zsfgjkcdy75mrjh6jqwhulyr\"}},\"token\":{\"currency_symbol\":\"8bb3b343d8e404472337966a722150048c768d0a92a9813596c5338d\",\"token_name\":\"M4B\"}}}]}\n"
     ]
    }
   ],
   "source": [
    "yaml2json << EOI > token-drop-1.contract\n",
    "when:\n",
    "- case:\n",
    "    notify_if:\n",
    "      ge_than: $((NOW + 5 * MINUTE))\n",
    "      value: time_interval_start\n",
    "  then:\n",
    "    pay: 1\n",
    "    token:\n",
    "      currency_symbol: $POLICY_ID\n",
    "      token_name: \"$TOKEN_NAME\"\n",
    "    from_account:\n",
    "      address: $PAYMENT_ADDR\n",
    "    to:\n",
    "      party:\n",
    "        address: $RECIPIENT_1\n",
    "    then:\n",
    "      pay: 1\n",
    "      token:\n",
    "        currency_symbol: $POLICY_ID\n",
    "        token_name: \"$TOKEN_NAME\"\n",
    "      from_account:\n",
    "        address: $PAYMENT_ADDR\n",
    "      to:\n",
    "        party:\n",
    "          address: $RECIPIENT_2\n",
    "      then:\n",
    "        pay: 1\n",
    "        token:\n",
    "          currency_symbol: $POLICY_ID\n",
    "          token_name: \"$TOKEN_NAME\"\n",
    "        from_account:\n",
    "          address: $PAYMENT_ADDR\n",
    "        to:\n",
    "          party:\n",
    "            address: $RECIPIENT_3\n",
    "        then: close\n",
    "timeout: $((NOW + 5 * DAY))\n",
    "timeout_continuation: close\n",
    "EOI\n",
    "cat token-drop-1.contract"
   ]
  },
  {
   "cell_type": "markdown",
   "id": "32e0de0c-a652-4f05-a2ed-c97681b7b7ad",
   "metadata": {},
   "source": [
    "We create the initial state with the tokens already at the contract's address."
   ]
  },
  {
   "cell_type": "code",
   "execution_count": 14,
   "id": "64d2c3b9-5bbb-45a6-ad23-504dcd98aeb5",
   "metadata": {},
   "outputs": [
    {
     "name": "stdout",
     "output_type": "stream",
     "text": [
      "{\"accounts\":[[[{\"address\":\"addr_test1vq9prvx8ufwutkwxx9cmmuuajaqmjqwujqlp9d8pvg6gupczgtm9j\"},{\"currency_symbol\":\"\",\"token_name\":\"\"}],3000000],[[{\"address\":\"addr_test1vq9prvx8ufwutkwxx9cmmuuajaqmjqwujqlp9d8pvg6gupczgtm9j\"},{\"currency_symbol\":\"8bb3b343d8e404472337966a722150048c768d0a92a9813596c5338d\",\"token_name\":\"M4B\"}],3]],\"boundValues\":[],\"choices\":[],\"minTime\":0}\n"
     ]
    }
   ],
   "source": [
    "yaml2json << EOI > token-drop-1.state\n",
    "accounts:\n",
    "- - - address: $PAYMENT_ADDR\n",
    "    - currency_symbol: ''\n",
    "      token_name: ''\n",
    "  - $((3 * ADA))\n",
    "- - - address: $PAYMENT_ADDR\n",
    "    - currency_symbol: $POLICY_ID\n",
    "      token_name: \"$TOKEN_NAME\"\n",
    "  - 3\n",
    "boundValues: []\n",
    "choices: []\n",
    "minTime: 0\n",
    "EOI\n",
    "cat token-drop-1.state"
   ]
  },
  {
   "cell_type": "markdown",
   "id": "2ddce1de-982c-4eed-820a-15f6bb542747",
   "metadata": {},
   "source": [
    "## Transaction 1: Create the contract by depositing the tokens"
   ]
  },
  {
   "cell_type": "markdown",
   "id": "a95cc9a8-a30d-417a-8fb8-3c5626d27d8e",
   "metadata": {},
   "source": [
    "Create the `.marlowe` file that contains the initial contract and state information."
   ]
  },
  {
   "cell_type": "code",
   "execution_count": 15,
   "id": "0234e5a3-6c25-4809-9f75-97e6fa87390b",
   "metadata": {},
   "outputs": [],
   "source": [
    "marlowe-cli run initialize --contract-file token-drop-1.contract \\\n",
    "                           --state-file    token-drop-1.state    \\\n",
    "                           --out-file      token-drop-1.marlowe"
   ]
  },
  {
   "cell_type": "markdown",
   "id": "7cc74c8d-f3a7-4802-95b3-133cbef86fcb",
   "metadata": {},
   "source": [
    "Submit the transaction to make the deposit."
   ]
  },
  {
   "cell_type": "code",
   "execution_count": 16,
   "id": "8ea8b71b-87da-4e8f-9f1f-ac0750c94030",
   "metadata": {},
   "outputs": [
    {
     "name": "stdout",
     "output_type": "stream",
     "text": [
      "\n",
      "Fee: Lovelace 224813\n",
      "Size: 1131 / 16384 = 6%\n",
      "Execution units:\n",
      "  Memory: 0 / 14000000 = 0%\n",
      "  Steps: 0 / 10000000000 = 0%\n",
      "TxId \"9d5bbf45591baca23e029dcf9214d994dde1a288e51d9ac027d68d80bed2d66b\"\n"
     ]
    }
   ],
   "source": [
    "TX_1=$(\n",
    "marlowe-cli run auto-execute --marlowe-out-file token-drop-1.marlowe \\\n",
    "                             --change-address \"$PAYMENT_ADDR\"        \\\n",
    "                             --required-signer \"$PAYMENT_SKEY\"       \\\n",
    "                             --out-file token-drop-1.txbody          \\\n",
    "                             --submit 60                             \\\n",
    "                             --print-stats                           \\\n",
    "| sed -e 's/^TxId \"\\(.*\\)\"$/\\1/'                                     \\\n",
    ")\n",
    "echo 'TxId \"'$TX_1'\"'"
   ]
  },
  {
   "cell_type": "markdown",
   "id": "b9f0522e-7955-47d1-a5a4-abe721bb18f5",
   "metadata": {},
   "source": [
    "Now compute the script address and look to see that the tokens have been deposited there."
   ]
  },
  {
   "cell_type": "code",
   "execution_count": 17,
   "id": "574658c7-6fa4-4774-9069-06c04b4b6138",
   "metadata": {},
   "outputs": [
    {
     "name": "stdout",
     "output_type": "stream",
     "text": [
      "addr_test1wrv0vwr4megau50ujjwsktvajmsu6dzza2rnalufd3husaqs9v6rv\n"
     ]
    }
   ],
   "source": [
    "SCRIPT_ADDR=$(jq -r '.tx.marloweValidator.address' token-drop-1.marlowe)\n",
    "echo \"$SCRIPT_ADDR\""
   ]
  },
  {
   "cell_type": "code",
   "execution_count": 18,
   "id": "53b6327e-96a8-4dd0-9b60-1dd6ed86f463",
   "metadata": {},
   "outputs": [
    {
     "name": "stdout",
     "output_type": "stream",
     "text": [
      "                           TxHash                                 TxIx        Amount\n",
      "--------------------------------------------------------------------------------------\n",
      "9d5bbf45591baca23e029dcf9214d994dde1a288e51d9ac027d68d80bed2d66b     1        3000000 lovelace + 3 8bb3b343d8e404472337966a722150048c768d0a92a9813596c5338d.4d3442 + TxOutDatumHash ScriptDataInBabbageEra \"a24ab48ea5e1c8c75d33c6583fbce3ed29a2ad837afe5d7a0501e19bc685ad47\"\n"
     ]
    }
   ],
   "source": [
    "cardano-cli query utxo --testnet-magic \"$CARDANO_TESTNET_MAGIC\" --address \"$SCRIPT_ADDR\" | sed -n -e \"1,2p;/$TX_1/p;\""
   ]
  },
  {
   "cell_type": "markdown",
   "id": "1c555038-8090-4979-a2c3-01849d5db581",
   "metadata": {},
   "source": [
    "See that the tokens are gone from the distributor's wallet."
   ]
  },
  {
   "cell_type": "code",
   "execution_count": 19,
   "id": "00aa4e47-a77e-41d2-9bb3-96e23942de7a",
   "metadata": {},
   "outputs": [
    {
     "name": "stdout",
     "output_type": "stream",
     "text": [
      "                           TxHash                                 TxIx        Amount\n",
      "--------------------------------------------------------------------------------------\n",
      "9d5bbf45591baca23e029dcf9214d994dde1a288e51d9ac027d68d80bed2d66b     0        218623010740 lovelace + TxOutDatumNone\n"
     ]
    }
   ],
   "source": [
    "cardano-cli query utxo --testnet-magic \"$CARDANO_TESTNET_MAGIC\" --address \"$PAYMENT_ADDR\""
   ]
  },
  {
   "cell_type": "markdown",
   "id": "14d86641-488e-4ebe-af12-dbb7cf23838d",
   "metadata": {},
   "source": [
    "The recipients have not been party to this transaction."
   ]
  },
  {
   "cell_type": "code",
   "execution_count": 20,
   "id": "2ec654d1-a51a-44fd-9f21-cdcea949155b",
   "metadata": {},
   "outputs": [
    {
     "name": "stdout",
     "output_type": "stream",
     "text": [
      "                           TxHash                                 TxIx        Amount\n",
      "--------------------------------------------------------------------------------------\n"
     ]
    }
   ],
   "source": [
    "cardano-cli query utxo --testnet-magic \"$CARDANO_TESTNET_MAGIC\" --address \"$RECIPIENT_1\" --address \"$RECIPIENT_2\" --address \"$RECIPIENT_3\" | sed -n -e \"1,2p;/$TX_1/p\""
   ]
  },
  {
   "cell_type": "markdown",
   "id": "6708d496-d6b7-4dd1-b6f9-af9f25c11bc4",
   "metadata": {},
   "source": [
    "## Transaction 2: Airdrop the tokens to the recipients"
   ]
  },
  {
   "cell_type": "markdown",
   "id": "5e757169-5f07-4822-90d0-71492f00f917",
   "metadata": {},
   "source": [
    "Wait five minutes for the time when the airdrop is allowed."
   ]
  },
  {
   "cell_type": "code",
   "execution_count": 21,
   "id": "56185f22-c6a4-4148-b1a6-0b4472becafa",
   "metadata": {},
   "outputs": [],
   "source": [
    "sleep 5m"
   ]
  },
  {
   "cell_type": "markdown",
   "id": "6575434a-5945-411f-ae5b-aa1e74a70e20",
   "metadata": {},
   "source": [
    "We just need to notify the contract "
   ]
  },
  {
   "cell_type": "code",
   "execution_count": 22,
   "id": "55bdbf37-bbb4-4bbe-8c80-26e883427cf1",
   "metadata": {},
   "outputs": [
    {
     "name": "stdout",
     "output_type": "stream",
     "text": [
      "Payment 1\n",
      "  Acccount: Address \"\"addr_test1vq9prvx8ufwutkwxx9cmmuuajaqmjqwujqlp9d8pvg6gupczgtm9j\"\"\n",
      "  Payee: Party (Address \"\"addr_test1qqjrjfslev50d5jn6qdeztxsqvuaaefq6e4hu55n59grjj7r7cz4mu6gh005gdck67p7y9d8s8zsfgjkcdy75mrjh6jqwhulyr\"\")\n",
      "  Ada: Lovelace {getLovelace = 0}\n",
      "  8bb3b343d8e404472337966a722150048c768d0a92a9813596c5338d.\"M4B\": 1\n",
      "Payment 2\n",
      "  Acccount: Address \"\"addr_test1vq9prvx8ufwutkwxx9cmmuuajaqmjqwujqlp9d8pvg6gupczgtm9j\"\"\n",
      "  Payee: Party (Address \"\"addr_test1qraxynufcduk7ak7nke2jm6pnc32vn7wsmm7ml30cutfgg7r7cz4mu6gh005gdck67p7y9d8s8zsfgjkcdy75mrjh6jq77wfgp\"\")\n",
      "  Ada: Lovelace {getLovelace = 0}\n",
      "  8bb3b343d8e404472337966a722150048c768d0a92a9813596c5338d.\"M4B\": 1\n",
      "Payment 3\n",
      "  Acccount: Address \"\"addr_test1vq9prvx8ufwutkwxx9cmmuuajaqmjqwujqlp9d8pvg6gupczgtm9j\"\"\n",
      "  Payee: Party (Address \"\"addr_test1qzenwj7elwatk3mmc368mwnv067fqnuk3x7u4nqw5dezg8wr7cz4mu6gh005gdck67p7y9d8s8zsfgjkcdy75mrjh6jqf6k36p\"\")\n",
      "  Ada: Lovelace {getLovelace = 0}\n",
      "  8bb3b343d8e404472337966a722150048c768d0a92a9813596c5338d.\"M4B\": 1\n",
      "Payment 4\n",
      "  Acccount: Address \"\"addr_test1vq9prvx8ufwutkwxx9cmmuuajaqmjqwujqlp9d8pvg6gupczgtm9j\"\"\n",
      "  Payee: Party (Address \"\"addr_test1vq9prvx8ufwutkwxx9cmmuuajaqmjqwujqlp9d8pvg6gupczgtm9j\"\")\n",
      "  Ada: Lovelace {getLovelace = 3000000}\n"
     ]
    }
   ],
   "source": [
    "marlowe-cli run prepare --marlowe-file token-drop-1.marlowe                      \\\n",
    "                        --notify                                                 \\\n",
    "                        --invalid-before    \"$((NOW + 5 * MINUTE + 1 * SECOND))\" \\\n",
    "                        --invalid-hereafter \"$((NOW + 1 * HOUR))\"                \\\n",
    "                        --out-file token-drop-2.marlowe"
   ]
  },
  {
   "cell_type": "markdown",
   "id": "ae0462f8-e7a0-43f0-8c35-4c6605c4bcf3",
   "metadata": {},
   "source": [
    "Submit the transaction to make the airdrop."
   ]
  },
  {
   "cell_type": "code",
   "execution_count": 23,
   "id": "756277a9-cd94-496e-bb90-b81285028552",
   "metadata": {},
   "outputs": [
    {
     "name": "stdout",
     "output_type": "stream",
     "text": [
      "\n",
      "Fee: Lovelace 1586594\n",
      "Size: 14079 / 16384 = 85%\n",
      "Execution units:\n",
      "  Memory: 10431296 / 14000000 = 74%\n",
      "  Steps: 2698172655 / 10000000000 = 26%\n",
      "TxId \"5f16523ce9acb2fae2da0caabc649b2c7d832cf3dbd5ba4179252d2be8584c47\"\n"
     ]
    }
   ],
   "source": [
    "TX_2=$(\n",
    "marlowe-cli run auto-execute --tx-in-marlowe \"$TX_1#1\"               \\\n",
    "                             --marlowe-in-file  token-drop-1.marlowe \\\n",
    "                             --marlowe-out-file token-drop-2.marlowe \\\n",
    "                             --change-address \"$PAYMENT_ADDR\"        \\\n",
    "                             --required-signer \"$PAYMENT_SKEY\"       \\\n",
    "                             --out-file token-drop-2.txbody          \\\n",
    "                             --submit 60                             \\\n",
    "                             --print-stats                           \\\n",
    "| sed -e 's/^TxId \"\\(.*\\)\"$/\\1/'                                     \\\n",
    ")\n",
    "echo 'TxId \"'$TX_2'\"'"
   ]
  },
  {
   "cell_type": "markdown",
   "id": "d9daea30-f783-4a88-9e55-3869a6bbf075",
   "metadata": {},
   "source": [
    "The script address is empty."
   ]
  },
  {
   "cell_type": "code",
   "execution_count": 24,
   "id": "d607b895-8d99-4484-a150-74f7684705bc",
   "metadata": {},
   "outputs": [
    {
     "name": "stdout",
     "output_type": "stream",
     "text": [
      "                           TxHash                                 TxIx        Amount\n",
      "--------------------------------------------------------------------------------------\n"
     ]
    }
   ],
   "source": [
    "cardano-cli query utxo --testnet-magic \"$CARDANO_TESTNET_MAGIC\" --address \"$SCRIPT_ADDR\" | sed -n -e \"1,2p;/$TX_1/p;/$TX_2/p\""
   ]
  },
  {
   "cell_type": "markdown",
   "id": "ce7ad89c-671a-4612-937f-f60cc13a435f",
   "metadata": {},
   "source": [
    "The distributor received some change, but no tokens."
   ]
  },
  {
   "cell_type": "code",
   "execution_count": 25,
   "id": "b20e76b4-a455-4f25-a5e6-90bb32e6e246",
   "metadata": {},
   "outputs": [
    {
     "name": "stdout",
     "output_type": "stream",
     "text": [
      "                           TxHash                                 TxIx        Amount\n",
      "--------------------------------------------------------------------------------------\n",
      "5f16523ce9acb2fae2da0caabc649b2c7d832cf3dbd5ba4179252d2be8584c47     0        218617997696 lovelace + TxOutDatumNone\n",
      "5f16523ce9acb2fae2da0caabc649b2c7d832cf3dbd5ba4179252d2be8584c47     1        3000000 lovelace + TxOutDatumNone\n"
     ]
    }
   ],
   "source": [
    "cardano-cli query utxo --testnet-magic \"$CARDANO_TESTNET_MAGIC\" --address \"$PAYMENT_ADDR\" | sed -n -e \"1,2p;/$TX_1/p;/$TX_2/p\""
   ]
  },
  {
   "cell_type": "markdown",
   "id": "5ecc3c9d-7dce-4e1b-9643-5477253a9224",
   "metadata": {},
   "source": [
    "The first recipient recieved their token."
   ]
  },
  {
   "cell_type": "code",
   "execution_count": 26,
   "id": "20af3ddf-11e6-45e3-94b5-1678f85ad954",
   "metadata": {},
   "outputs": [
    {
     "name": "stdout",
     "output_type": "stream",
     "text": [
      "                           TxHash                                 TxIx        Amount\n",
      "--------------------------------------------------------------------------------------\n",
      "5f16523ce9acb2fae2da0caabc649b2c7d832cf3dbd5ba4179252d2be8584c47     2        1142150 lovelace + 1 8bb3b343d8e404472337966a722150048c768d0a92a9813596c5338d.4d3442 + TxOutDatumNone\n"
     ]
    }
   ],
   "source": [
    "cardano-cli query utxo --testnet-magic \"$CARDANO_TESTNET_MAGIC\" --address \"$RECIPIENT_1\" | sed -n -e \"1,2p;/$TX_1/p;/$TX_2/p\""
   ]
  },
  {
   "cell_type": "markdown",
   "id": "b711de0a-64ad-4183-9a88-7d9ec27b288f",
   "metadata": {},
   "source": [
    "The second recipient received their token."
   ]
  },
  {
   "cell_type": "code",
   "execution_count": 27,
   "id": "d2308f48-ee72-459e-9d0c-801993404047",
   "metadata": {},
   "outputs": [
    {
     "name": "stdout",
     "output_type": "stream",
     "text": [
      "                           TxHash                                 TxIx        Amount\n",
      "--------------------------------------------------------------------------------------\n",
      "5f16523ce9acb2fae2da0caabc649b2c7d832cf3dbd5ba4179252d2be8584c47     4        1142150 lovelace + 1 8bb3b343d8e404472337966a722150048c768d0a92a9813596c5338d.4d3442 + TxOutDatumNone\n"
     ]
    }
   ],
   "source": [
    "cardano-cli query utxo --testnet-magic \"$CARDANO_TESTNET_MAGIC\" --address \"$RECIPIENT_2\" | sed -n -e \"1,2p;/$TX_1/p;/$TX_2/p\""
   ]
  },
  {
   "cell_type": "markdown",
   "id": "97b06a82-d960-44eb-a306-2ba50b470073",
   "metadata": {},
   "source": [
    "The third recipient recieved their token."
   ]
  },
  {
   "cell_type": "code",
   "execution_count": 28,
   "id": "4c774770-a606-4010-b6a0-8f753471d49f",
   "metadata": {},
   "outputs": [
    {
     "name": "stdout",
     "output_type": "stream",
     "text": [
      "                           TxHash                                 TxIx        Amount\n",
      "--------------------------------------------------------------------------------------\n",
      "5f16523ce9acb2fae2da0caabc649b2c7d832cf3dbd5ba4179252d2be8584c47     3        1142150 lovelace + 1 8bb3b343d8e404472337966a722150048c768d0a92a9813596c5338d.4d3442 + TxOutDatumNone\n"
     ]
    }
   ],
   "source": [
    "cardano-cli query utxo --testnet-magic \"$CARDANO_TESTNET_MAGIC\" --address \"$RECIPIENT_3\" | sed -n -e \"1,2p;/$TX_1/p;/$TX_2/p\""
   ]
  }
 ],
 "metadata": {
  "kernelspec": {
   "display_name": "Bash - Marlowe",
   "language": "bash",
   "name": "bash_marlowe"
  },
  "language_info": {
   "codemirror_mode": "shell",
   "file_extension": ".sh",
   "mimetype": "text/x-sh",
   "name": "/nix/store/zwjm0gln1vk7x1akpyz0yxjsd1yc46gi-bash-5.1-p16/bin/bash"
  }
 },
 "nbformat": 4,
 "nbformat_minor": 5
}
