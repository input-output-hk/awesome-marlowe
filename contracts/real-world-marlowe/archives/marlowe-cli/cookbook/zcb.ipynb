{
 "cells": [
  {
   "cell_type": "markdown",
   "id": "ff12ef20-4800-40fc-bf1a-b48def801ee9",
   "metadata": {},
   "source": [
    "# Test of a Zero-Coupon Bond"
   ]
  },
  {
   "cell_type": "markdown",
   "id": "409f5651-088b-4875-a35c-7c369e22391a",
   "metadata": {},
   "source": [
    "We introduce new variants of `marlowe-cli run execute` and `marlowe-cli run withdraw` that automatically handle the UTxOs management, coin selection, and balancing, so that one doesn't need to specify `--tx-in` and `--tx-out` for Marlowe transactions. *These commands are experimental, and lightly tested so far.*"
   ]
  },
  {
   "cell_type": "code",
   "execution_count": 1,
   "id": "a5960ddf-2b37-4cff-9a4f-491d9c9082a5",
   "metadata": {},
   "outputs": [
    {
     "name": "stdout",
     "output_type": "stream",
     "text": [
      "Usage: marlowe-cli run auto-execute \n",
      "         --testnet-magic INTEGER --socket-path SOCKET_FILE \n",
      "         [--marlowe-in-file MARLOWE_FILE --tx-in-marlowe TXID#TXIX]\n",
      "         --marlowe-out-file MARLOWE_FILE --change-address ADDRESS \n",
      "         [--required-signer SIGNING_FILE] [--metadata-file METADATA_FILE]\n",
      "         --out-file FILE [--submit SECONDS] [--print-stats] [--script-invalid]\n",
      "\n",
      "  [EXPERIMENTAL] Run a Marlowe transaction, selecting transaction inputs and\n",
      "  outputs automatically.\n",
      "\n",
      "Available options:\n",
      "  --testnet-magic INTEGER  Network magic. Defaults to the CARDANO_TESTNET_MAGIC\n",
      "                           environment variable's value.\n",
      "  --socket-path SOCKET_FILE\n",
      "                           Location of the cardano-node socket file. Defaults to\n",
      "                           the CARDANO_NODE_SOCKET_PATH environment variable's\n",
      "                           value.\n",
      "  --marlowe-in-file MARLOWE_FILE\n",
      "                           JSON file with the Marlowe initial state and initial\n",
      "                           contract, if any.\n",
      "  --tx-in-marlowe TXID#TXIX\n",
      "                           UTxO spent from Marlowe contract, if any.\n",
      "  --marlowe-out-file MARLOWE_FILE\n",
      "                           JSON file with the Marlowe inputs, final state, and\n",
      "                           final contract.\n",
      "  --change-address ADDRESS Address to receive ADA in excess of fee.\n",
      "  --required-signer SIGNING_FILE\n",
      "                           File containing a required signing key.\n",
      "  --metadata-file METADATA_FILE\n",
      "                           JSON file containing metadata.\n",
      "  --out-file FILE          Output file for transaction body.\n",
      "  --submit SECONDS         Also submit the transaction, and wait for\n",
      "                           confirmation.\n",
      "  --print-stats            Print statistics.\n",
      "  --script-invalid         Assert that the transaction is invalid.\n",
      "  -h,--help                Show this help text\n"
     ]
    }
   ],
   "source": [
    "marlowe-cli run auto-execute --help"
   ]
  },
  {
   "cell_type": "code",
   "execution_count": 2,
   "id": "0a500317-6412-4f6d-9c7a-5fa68754ccdb",
   "metadata": {},
   "outputs": [
    {
     "name": "stdout",
     "output_type": "stream",
     "text": [
      "Usage: marlowe-cli run auto-withdraw \n",
      "         --testnet-magic INTEGER --socket-path SOCKET_FILE\n",
      "         --marlowe-file MARLOWE_FILE --role-name TOKEN_NAME\n",
      "         --change-address ADDRESS [--required-signer SIGNING_FILE] \n",
      "         [--metadata-file METADATA_FILE] --out-file FILE [--submit SECONDS] \n",
      "         [--print-stats] [--script-invalid]\n",
      "\n",
      "  [EXPERIMENTAL] Withdraw funds from the Marlowe role address, selecting\n",
      "  transaction inputs and outputs automatically.\n",
      "\n",
      "Available options:\n",
      "  --testnet-magic INTEGER  Network magic. Defaults to the CARDANO_TESTNET_MAGIC\n",
      "                           environment variable's value.\n",
      "  --socket-path SOCKET_FILE\n",
      "                           Location of the cardano-node socket file. Defaults to\n",
      "                           the CARDANO_NODE_SOCKET_PATH environment variable's\n",
      "                           value.\n",
      "  --marlowe-file MARLOWE_FILE\n",
      "                           JSON file with the Marlowe inputs, final state, and\n",
      "                           final contract.\n",
      "  --role-name TOKEN_NAME   The role name for the withdrawal.\n",
      "  --change-address ADDRESS Address to receive ADA in excess of fee.\n",
      "  --required-signer SIGNING_FILE\n",
      "                           File containing a required signing key.\n",
      "  --metadata-file METADATA_FILE\n",
      "                           JSON file containing metadata.\n",
      "  --out-file FILE          Output file for transaction body.\n",
      "  --submit SECONDS         Also submit the transaction, and wait for\n",
      "                           confirmation.\n",
      "  --print-stats            Print statistics.\n",
      "  --script-invalid         Assert that the transaction is invalid.\n",
      "  -h,--help                Show this help text\n"
     ]
    }
   ],
   "source": [
    "marlowe-cli run auto-withdraw --help"
   ]
  },
  {
   "cell_type": "markdown",
   "id": "b4002252-fe9f-40e4-a371-d4d6b57316de",
   "metadata": {},
   "source": [
    "## Preliminaries"
   ]
  },
  {
   "cell_type": "markdown",
   "id": "dab2352b-0021-4998-9107-c5cc32d3734c",
   "metadata": {},
   "source": [
    "Record version numbers"
   ]
  },
  {
   "cell_type": "code",
   "execution_count": 3,
   "id": "a595e563-1a4c-4aed-ad76-d75626d0a350",
   "metadata": {},
   "outputs": [
    {
     "name": "stdout",
     "output_type": "stream",
     "text": [
      "marlowe-cli 0.0.7.0 @ 25f6808de7aca1ab3d47db52fb4b66cae4228618\n"
     ]
    }
   ],
   "source": [
    "marlowe-cli --version"
   ]
  },
  {
   "cell_type": "code",
   "execution_count": 4,
   "id": "e7651166-5c42-4a2b-8447-3407440f7b5a",
   "metadata": {},
   "outputs": [
    {
     "name": "stdout",
     "output_type": "stream",
     "text": [
      "cardano-cli 1.35.3 - linux-x86_64 - ghc-8.10\n",
      "git rev 0000000000000000000000000000000000000000\n"
     ]
    }
   ],
   "source": [
    "cardano-cli --version"
   ]
  },
  {
   "cell_type": "code",
   "execution_count": 5,
   "id": "0434d927-022f-41f6-b60f-091ebe85cfc4",
   "metadata": {},
   "outputs": [
    {
     "name": "stdout",
     "output_type": "stream",
     "text": [
      "25f6808de7aca1ab3d47db52fb4b66cae4228618\n"
     ]
    }
   ],
   "source": [
    "git rev-parse HEAD"
   ]
  },
  {
   "cell_type": "markdown",
   "id": "49f3864c-d2e7-46cf-afe8-8260395ae55d",
   "metadata": {},
   "source": [
    "Set the location of keys."
   ]
  },
  {
   "cell_type": "code",
   "execution_count": 6,
   "id": "7eba74b8-fb39-4a07-9080-211d46f9132a",
   "metadata": {},
   "outputs": [],
   "source": [
    "TREASURY=treasury"
   ]
  },
  {
   "cell_type": "markdown",
   "id": "7fd61b86-59bd-4fd6-a615-04b6dbaa8962",
   "metadata": {},
   "source": [
    "Set the location of the node socket."
   ]
  },
  {
   "cell_type": "code",
   "execution_count": 7,
   "id": "eeeb458c-3460-410c-838b-2f64f817bd31",
   "metadata": {},
   "outputs": [],
   "source": [
    "export CARDANO_NODE_SOCKET_PATH=node.socket"
   ]
  },
  {
   "cell_type": "markdown",
   "id": "055be2a0-56b3-4382-81aa-fe3a180a5498",
   "metadata": {},
   "source": [
    "## Preliminaries"
   ]
  },
  {
   "cell_type": "markdown",
   "id": "c573a55d-633d-418a-96f8-51b3343e1309",
   "metadata": {},
   "source": [
    "### Setup the faucet."
   ]
  },
  {
   "cell_type": "code",
   "execution_count": 8,
   "id": "a83cbe3d-722a-45de-8c0a-94ba5d36daa3",
   "metadata": {},
   "outputs": [
    {
     "name": "stdout",
     "output_type": "stream",
     "text": [
      "addr_test1vq9prvx8ufwutkwxx9cmmuuajaqmjqwujqlp9d8pvg6gupczgtm9j\n"
     ]
    }
   ],
   "source": [
    "FAUCET_SKEY_FILE=$TREASURY/payment.skey\n",
    "FAUCET_ADDRESS=$(cat $TREASURY/payment.testnet.address)\n",
    "echo \"$FAUCET_ADDRESS\""
   ]
  },
  {
   "cell_type": "markdown",
   "id": "3b1463a1-add8-4971-bfc1-3c8251a91de3",
   "metadata": {},
   "source": [
    "### Select Network"
   ]
  },
  {
   "cell_type": "code",
   "execution_count": 9,
   "id": "0e3c5f6a-fde5-447d-90f6-bcfe268dcbd2",
   "metadata": {},
   "outputs": [],
   "source": [
    "export CARDANO_TESTNET_MAGIC=2"
   ]
  },
  {
   "cell_type": "markdown",
   "id": "db642b41-5829-4ba0-b018-b011ecf1722b",
   "metadata": {},
   "source": [
    "Compute the slot-to-time parameters."
   ]
  },
  {
   "cell_type": "code",
   "execution_count": 10,
   "id": "74e40978-28a7-433c-85e6-a05cbb4b607e",
   "metadata": {},
   "outputs": [],
   "source": [
    "SLOT_LENGTH=$(marlowe-cli util slotting --testnet-magic \"$CARDANO_TESTNET_MAGIC\" --socket-path \"$CARDANO_NODE_SOCKET_PATH\" | jq .scSlotLength)\n",
    "SLOT_OFFSET=$(marlowe-cli util slotting --testnet-magic \"$CARDANO_TESTNET_MAGIC\" --socket-path \"$CARDANO_NODE_SOCKET_PATH\" | jq .scSlotZeroTime)"
   ]
  },
  {
   "cell_type": "markdown",
   "id": "bb01aa8b-cb72-4bcb-a79c-ff12e65f0fa6",
   "metadata": {},
   "source": [
    "### Tip of the Blockchain"
   ]
  },
  {
   "cell_type": "code",
   "execution_count": 11,
   "id": "359b6f47-e0d1-4f84-8812-b96cfa361c2d",
   "metadata": {},
   "outputs": [],
   "source": [
    "TIP=$(cardano-cli query tip --testnet-magic \"$CARDANO_TESTNET_MAGIC\" | jq '.slot')\n",
    "NOW=\"$((TIP*SLOT_LENGTH+SLOT_OFFSET))\"\n",
    "HOUR=\"$((3600*1000))\""
   ]
  },
  {
   "cell_type": "markdown",
   "id": "baf18df3-3224-4efb-9d11-a75dee4b40ea",
   "metadata": {},
   "source": [
    "The tip of the blockchain:"
   ]
  },
  {
   "cell_type": "code",
   "execution_count": 12,
   "id": "831548ff-0623-4f19-8947-5613327e5b34",
   "metadata": {},
   "outputs": [
    {
     "name": "stdout",
     "output_type": "stream",
     "text": [
      "2306189\n"
     ]
    }
   ],
   "source": [
    "echo $TIP"
   ]
  },
  {
   "cell_type": "markdown",
   "id": "1b3af6ae-8ad6-4658-9c00-7417f0dbfd8c",
   "metadata": {},
   "source": [
    "The current POSIX time implies that the tip of the blockchain should be slightly before the following slot:"
   ]
  },
  {
   "cell_type": "code",
   "execution_count": 13,
   "id": "0b0b3fe5-a541-4863-b67f-7d1c24ef8185",
   "metadata": {},
   "outputs": [
    {
     "name": "stdout",
     "output_type": "stream",
     "text": [
      "2306204\n"
     ]
    }
   ],
   "source": [
    "echo $(((1000 * $(date -u +%s) - SLOT_OFFSET) / SLOT_LENGTH))"
   ]
  },
  {
   "cell_type": "markdown",
   "id": "6e90da31-4377-4c02-9ed8-f8197ce10c4a",
   "metadata": {},
   "source": [
    "Tests main fail if this is not the case."
   ]
  },
  {
   "cell_type": "markdown",
   "id": "7ae0e907-2c31-4b85-926d-c62dc9cafc49",
   "metadata": {},
   "source": [
    "### Participants"
   ]
  },
  {
   "cell_type": "markdown",
   "id": "ea318fc6-f1dc-46a8-a4e7-83ee23a42ec3",
   "metadata": {},
   "source": [
    "#### The Lender"
   ]
  },
  {
   "cell_type": "code",
   "execution_count": 14,
   "id": "009fed78-8410-4894-b904-d6ea92982d70",
   "metadata": {},
   "outputs": [],
   "source": [
    "LENDER_PREFIX=\"$TREASURY/john-fletcher\"\n",
    "LENDER_NAME=\"John Fletcher\"\n",
    "LENDER_ROLE=JF\n",
    "LENDER_PAYMENT_SKEY=\"$LENDER_PREFIX\".skey\n",
    "LENDER_PAYMENT_VKEY=\"$LENDER_PREFIX\".vkey"
   ]
  },
  {
   "cell_type": "markdown",
   "id": "df56d582-919c-438f-986a-a9a3fffc40c7",
   "metadata": {},
   "source": [
    "Create the lender's keys, if necessary."
   ]
  },
  {
   "cell_type": "code",
   "execution_count": 15,
   "id": "0de60d98-b79e-43fc-8c7d-fd494c76390d",
   "metadata": {},
   "outputs": [],
   "source": [
    "if [[ ! -e \"$LENDER_PAYMENT_SKEY\" ]]\n",
    "then\n",
    "  cardano-cli address key-gen --signing-key-file \"$LENDER_PAYMENT_SKEY\"      \\\n",
    "                              --verification-key-file \"$LENDER_PAYMENT_VKEY\"\n",
    "fi\n",
    "LENDER_ADDRESS=$(cardano-cli address build --testnet-magic \"$CARDANO_TESTNET_MAGIC\" --payment-verification-key-file \"$LENDER_PAYMENT_VKEY\")"
   ]
  },
  {
   "cell_type": "markdown",
   "id": "c6d76d75-57b4-48b2-934d-e40a139e646e",
   "metadata": {},
   "source": [
    "Address of the lender:"
   ]
  },
  {
   "cell_type": "code",
   "execution_count": 16,
   "id": "a8e5b6e7-c82c-4477-a6aa-c0a91bc5c15f",
   "metadata": {},
   "outputs": [
    {
     "name": "stdout",
     "output_type": "stream",
     "text": [
      "Address: addr_test1vqwt2xlr4d8yk4qws675exlqy6pdhq2s76wrehkjggkvr0cerfe8r\n"
     ]
    }
   ],
   "source": [
    "echo \"Address: $LENDER_ADDRESS\""
   ]
  },
  {
   "cell_type": "markdown",
   "id": "17b4396a-a8ac-4976-bda4-968daaaa190e",
   "metadata": {},
   "source": [
    "Fund the lender's address."
   ]
  },
  {
   "cell_type": "code",
   "execution_count": 17,
   "id": "ff90fa3f-1422-4632-abb7-19c5e5b5d2ed",
   "metadata": {},
   "outputs": [
    {
     "name": "stdout",
     "output_type": "stream",
     "text": [
      "TxId \"b2d090933347f624e9df5eb8319568003f51ea5672f09c9863a9f5f0ea24324c\"\n"
     ]
    }
   ],
   "source": [
    "marlowe-cli util faucet --out-file /dev/null                  \\\n",
    "                        --submit 600                          \\\n",
    "                        --lovelace 200000000                  \\\n",
    "                        --faucet-address \"$FAUCET_ADDRESS\"    \\\n",
    "                        --required-signer \"$FAUCET_SKEY_FILE\" \\\n",
    "                        \"$LENDER_ADDRESS\""
   ]
  },
  {
   "cell_type": "markdown",
   "id": "beac2b0a-83c9-4f13-a1b2-d4ae12795bc7",
   "metadata": {},
   "source": [
    "#### The Borrower"
   ]
  },
  {
   "cell_type": "code",
   "execution_count": 18,
   "id": "359d2b9b-9bc3-4688-9689-9ef2c69cd382",
   "metadata": {},
   "outputs": [],
   "source": [
    "BORROWER_PREFIX=\"$TREASURY/thomas-middleton\"\n",
    "BORROWER_NAME=\"Thomas Middleton\"\n",
    "BORROWER_ROLE=TM\n",
    "BORROWER_PAYMENT_SKEY=\"$BORROWER_PREFIX\".skey\n",
    "BORROWER_PAYMENT_VKEY=\"$BORROWER_PREFIX\".vkey"
   ]
  },
  {
   "cell_type": "markdown",
   "id": "cc9ff64b-fc5b-4308-8b6c-9208985b3600",
   "metadata": {},
   "source": [
    "Create the borrower's keys, if necessary."
   ]
  },
  {
   "cell_type": "code",
   "execution_count": 19,
   "id": "c4297420-6c47-4716-bbb3-c5bb0be2ef9a",
   "metadata": {},
   "outputs": [],
   "source": [
    "if [[ ! -e \"$BORROWER_PAYMENT_SKEY\" ]]\n",
    "then\n",
    "  cardano-cli address key-gen --signing-key-file \"$BORROWER_PAYMENT_SKEY\"      \\\n",
    "                              --verification-key-file \"$BORROWER_PAYMENT_VKEY\"\n",
    "fi\n",
    "BORROWER_ADDRESS=$(cardano-cli address build --testnet-magic \"$CARDANO_TESTNET_MAGIC\" --payment-verification-key-file \"$BORROWER_PAYMENT_VKEY\")"
   ]
  },
  {
   "cell_type": "markdown",
   "id": "1c533c89-a71a-4b66-9409-a515bac1eb39",
   "metadata": {},
   "source": [
    "Address of the borrower:"
   ]
  },
  {
   "cell_type": "code",
   "execution_count": 20,
   "id": "92333a2f-977b-451d-9ad4-f344192f18cf",
   "metadata": {},
   "outputs": [
    {
     "name": "stdout",
     "output_type": "stream",
     "text": [
      "Address: addr_test1vqetzradrerxgqu6xcuk35qckxkl4hwdz8h82zpld226t8ce30xxn\n"
     ]
    }
   ],
   "source": [
    "echo \"Address: $BORROWER_ADDRESS\""
   ]
  },
  {
   "cell_type": "markdown",
   "id": "0556be66-9ca7-4e91-9c85-bd885311c611",
   "metadata": {},
   "source": [
    "Fund the borrower's address."
   ]
  },
  {
   "cell_type": "code",
   "execution_count": 21,
   "id": "77bc9000-d2e3-4996-a2ae-a7d0c625aa70",
   "metadata": {},
   "outputs": [
    {
     "name": "stdout",
     "output_type": "stream",
     "text": [
      "TxId \"bb015c2ee20a238d2a00085a131588d755f6afe97f288d9cd5cc43f7fdbcedd9\"\n"
     ]
    }
   ],
   "source": [
    "marlowe-cli util faucet --out-file /dev/null                  \\\n",
    "                        --submit 600                          \\\n",
    "                        --lovelace 200000000                  \\\n",
    "                        --faucet-address \"$FAUCET_ADDRESS\"    \\\n",
    "                        --required-signer \"$FAUCET_SKEY_FILE\" \\\n",
    "                        \"$BORROWER_ADDRESS\""
   ]
  },
  {
   "cell_type": "markdown",
   "id": "ea26b908-1fb6-4989-9b5e-baf68ce485ae",
   "metadata": {},
   "source": [
    "### Role Tokens"
   ]
  },
  {
   "cell_type": "markdown",
   "id": "4043dee0-5b05-4bd8-b955-5ff3e0757b01",
   "metadata": {},
   "source": [
    "The lender mints the role tokens."
   ]
  },
  {
   "cell_type": "code",
   "execution_count": 22,
   "id": "733c4c38-75d5-4e95-ae88-ab0d14d90b8b",
   "metadata": {},
   "outputs": [],
   "source": [
    "MINT_EXPIRES=$((TIP + 1000000))\n",
    "ROLE_CURRENCY=$(\n",
    "marlowe-cli util mint --required-signer \"$LENDER_PAYMENT_SKEY\" \\\n",
    "                      --change-address  \"$LENDER_ADDRESS\"      \\\n",
    "                      --expires \"$MINT_EXPIRES\"                \\\n",
    "                      --out-file /dev/null                     \\\n",
    "                      --submit=600                             \\\n",
    "                      \"$LENDER_ROLE\" \"$BORROWER_ROLE\"          \\\n",
    "| sed -e 's/^PolicyID \"\\(.*\\)\"$/\\1/'                           \\\n",
    ")\n",
    "LENDER_TOKEN=\"$ROLE_CURRENCY.$LENDER_ROLE\"\n",
    "BORROWER_TOKEN=\"$ROLE_CURRENCY.$BORROWER_ROLE\""
   ]
  },
  {
   "cell_type": "markdown",
   "id": "c33d4ff2-050f-4636-adeb-0177913b0f56",
   "metadata": {},
   "source": [
    "Here are the role tokens:"
   ]
  },
  {
   "cell_type": "code",
   "execution_count": 23,
   "id": "d3b33f9a-4ac7-4f20-bc29-95824c59b05c",
   "metadata": {},
   "outputs": [
    {
     "name": "stdout",
     "output_type": "stream",
     "text": [
      "Lender token: 6b23dc8d7e8cec2d81a919baad7fc9f490959375af285c03275376a5.JF\n",
      "Borrower token: 6b23dc8d7e8cec2d81a919baad7fc9f490959375af285c03275376a5.TM\n"
     ]
    }
   ],
   "source": [
    "echo \"Lender token: $LENDER_TOKEN\"\n",
    "echo \"Borrower token: $BORROWER_TOKEN\""
   ]
  },
  {
   "cell_type": "markdown",
   "id": "fe7f3fc3-726a-43a0-ba82-7147cf9aa899",
   "metadata": {},
   "source": [
    "Find the transaction output with the borrower's role token."
   ]
  },
  {
   "cell_type": "code",
   "execution_count": 24,
   "id": "9852e345-01c2-40fb-8c7b-d1318ac16b62",
   "metadata": {},
   "outputs": [],
   "source": [
    "TX_MINT_BORROWER=$(\n",
    "marlowe-cli util select --asset-only \"$BORROWER_TOKEN\"    \\\n",
    "                        \"$LENDER_ADDRESS\"                 \\\n",
    "| sed -n -e '1{s/^TxIn \"\\(.*\\)\" (TxIx \\(.*\\))$/\\1#\\2/;p}' \\\n",
    ")"
   ]
  },
  {
   "cell_type": "markdown",
   "id": "cd41729d-8c36-47c3-aab4-1fe6994eca9c",
   "metadata": {},
   "source": [
    "Send the borrower their role token."
   ]
  },
  {
   "cell_type": "code",
   "execution_count": 25,
   "id": "b792085c-e45e-43f7-8c3f-c419d8830e83",
   "metadata": {},
   "outputs": [
    {
     "name": "stdout",
     "output_type": "stream",
     "text": [
      "TxId \"a35d52283adedd7c4605b5fdbac22fffa1845f8a9c2a9959398e3cc2ffa13467\"\n"
     ]
    }
   ],
   "source": [
    "marlowe-cli transaction simple --tx-in \"$TX_MINT_BORROWER\"                            \\\n",
    "                               --tx-out \"$BORROWER_ADDRESS+2000000+1 $BORROWER_TOKEN\" \\\n",
    "                               --required-signer \"$LENDER_PAYMENT_SKEY\"               \\\n",
    "                               --change-address \"$LENDER_ADDRESS\"                     \\\n",
    "                               --out-file /dev/null                                   \\\n",
    "                               --submit 600"
   ]
  },
  {
   "cell_type": "markdown",
   "id": "eb417b36-effb-4fc2-ae81-b7fce917aa7b",
   "metadata": {},
   "source": [
    "## The Contract"
   ]
  },
  {
   "cell_type": "markdown",
   "id": "4828d05f-fc7d-4f67-8c87-db5caa71b94f",
   "metadata": {},
   "source": [
    "The parameters for the contract:"
   ]
  },
  {
   "cell_type": "code",
   "execution_count": 26,
   "id": "900adc6b-d93f-4414-99d7-4ba3b3e30e52",
   "metadata": {},
   "outputs": [],
   "source": [
    "MINIMUM_ADA=3000000\n",
    "PRINCIPAL=100000000\n",
    "INTEREST=5000000\n",
    "LENDING_DEADLINE=$((NOW+12*HOUR))\n",
    "REPAYMENT_DEADLINE=$((NOW+24*HOUR))"
   ]
  },
  {
   "cell_type": "markdown",
   "id": "24de2335-ecdf-4be4-a035-4aef05e2df4c",
   "metadata": {},
   "source": [
    "The contract has a minimum-ADA requirement and two timeouts."
   ]
  },
  {
   "cell_type": "code",
   "execution_count": 27,
   "id": "147f5b62-2be2-4c04-af97-c9092e74c6f1",
   "metadata": {},
   "outputs": [
    {
     "name": "stdout",
     "output_type": "stream",
     "text": [
      "Lending deadline: Mon, 05 Sep 2022 04:36:29 +0000\n",
      "Repayment deadline: Mon, 05 Sep 2022 16:36:29 +0000\n"
     ]
    }
   ],
   "source": [
    "echo \"Lending deadline: $(date -u -R -d @$((LENDING_DEADLINE/1000)))\"\n",
    "echo \"Repayment deadline: $(date -u -R -d @$((REPAYMENT_DEADLINE/1000)))\""
   ]
  },
  {
   "cell_type": "markdown",
   "id": "42a8ecbd-a3dc-4263-b7a0-f6d3ccd29506",
   "metadata": {},
   "source": [
    "We create the contract for the previously specified parameters."
   ]
  },
  {
   "cell_type": "code",
   "execution_count": 28,
   "id": "028339ed-6d5e-4e71-9895-3a965a0252c9",
   "metadata": {},
   "outputs": [],
   "source": [
    "marlowe-cli template zcb --minimum-ada \"$MINIMUM_ADA\"               \\\n",
    "                         --lender \"Role=$LENDER_ROLE\"               \\\n",
    "                         --borrower \"Role=$BORROWER_ROLE\"           \\\n",
    "                         --principal \"$PRINCIPAL\"                   \\\n",
    "                         --interest \"$INTEREST\"                     \\\n",
    "                         --lending-deadline \"$LENDING_DEADLINE\"     \\\n",
    "                         --repayment-deadline \"$REPAYMENT_DEADLINE\" \\\n",
    "                         --out-contract-file tx-1.contract          \\\n",
    "                         --out-state-file    tx-1.state"
   ]
  },
  {
   "cell_type": "markdown",
   "id": "f2eb9ff2-86b8-437e-aa04-a1a38cebea9a",
   "metadata": {},
   "source": [
    "## Transaction 1. Create the Contract by Providing the Minimum ADA."
   ]
  },
  {
   "cell_type": "markdown",
   "id": "8bb180fb-1d68-4501-9b32-d7f69104de6d",
   "metadata": {},
   "source": [
    "First we create a `.marlowe` file that contains the initial information needed to run the contract. The bare size and cost of the script provide a lower bound on the resources that running it will require."
   ]
  },
  {
   "cell_type": "code",
   "execution_count": 29,
   "id": "a7641e72-ff1b-45c2-9552-021963aee59b",
   "metadata": {},
   "outputs": [
    {
     "name": "stdout",
     "output_type": "stream",
     "text": [
      "\n",
      "Validator size: 12412\n",
      "Base-validator cost: ExBudget {exBudgetCPU = ExCPU 18768100, exBudgetMemory = ExMemory 81700}\n"
     ]
    }
   ],
   "source": [
    "marlowe-cli run initialize --roles-currency \"$ROLE_CURRENCY\" \\\n",
    "                           --contract-file tx-1.contract     \\\n",
    "                           --state-file    tx-1.state        \\\n",
    "                           --out-file      tx-1.marlowe      \\\n",
    "                           --print-stats"
   ]
  },
  {
   "cell_type": "markdown",
   "id": "5885e723-5123-457d-bd44-a7841fe9e959",
   "metadata": {},
   "source": [
    "In particular, we can extract the contract's address from the `.marlowe` file."
   ]
  },
  {
   "cell_type": "code",
   "execution_count": 30,
   "id": "1f0388aa-2f15-4938-a2ae-15841529e5d8",
   "metadata": {},
   "outputs": [],
   "source": [
    "CONTRACT_ADDRESS=$(jq -r '.tx.marloweValidator.address' tx-1.marlowe)"
   ]
  },
  {
   "cell_type": "markdown",
   "id": "fe2826c6-c557-47cd-bc4b-76a80786a3f9",
   "metadata": {},
   "source": [
    "The Marlowe contract resides at the following address:"
   ]
  },
  {
   "cell_type": "code",
   "execution_count": 31,
   "id": "199d51f9-2778-48a1-a94d-37186b260974",
   "metadata": {},
   "outputs": [
    {
     "name": "stdout",
     "output_type": "stream",
     "text": [
      "addr_test1wqw2qex2sec8e0z2lyn2xkulyzcp7ce2md78v229a5cr4uqx3v466\n"
     ]
    }
   ],
   "source": [
    "echo $CONTRACT_ADDRESS"
   ]
  },
  {
   "cell_type": "markdown",
   "id": "e625cc3c-df3b-4cdd-8735-bc9b19dc9610",
   "metadata": {},
   "source": [
    "Because this is a role-based contract, we compute the address of the script for roles."
   ]
  },
  {
   "cell_type": "code",
   "execution_count": 32,
   "id": "6ab2ec1b-3a81-454e-87fc-d948f8ea22f3",
   "metadata": {},
   "outputs": [],
   "source": [
    "ROLE_ADDRESS=$(jq -r '.tx.rolesValidator.address' tx-1.marlowe)"
   ]
  },
  {
   "cell_type": "markdown",
   "id": "3e394a97-30d6-4261-b47f-3f1c857a92b8",
   "metadata": {},
   "source": [
    "The role payout validator resides at the following address:"
   ]
  },
  {
   "cell_type": "code",
   "execution_count": 33,
   "id": "3b27f29f-080c-495e-8f8a-25713eb774a6",
   "metadata": {},
   "outputs": [
    {
     "name": "stdout",
     "output_type": "stream",
     "text": [
      "addr_test1wqfvtv4t6cu059x86qf6kya4ed2ey4rmlf8wvsxug4ahjeskqqgat\n"
     ]
    }
   ],
   "source": [
    "echo $ROLE_ADDRESS"
   ]
  },
  {
   "cell_type": "markdown",
   "id": "ab570c22-0af1-4168-9269-ebefce6bfa6d",
   "metadata": {},
   "source": [
    "The lender submits the transaction along with the minimum Ada required for the contract's initial state. Submitting with the `--print-stats` switch reveals the network fee for the contract, the size of the transaction, and the execution requirements, relative to the protocol limits."
   ]
  },
  {
   "cell_type": "code",
   "execution_count": 34,
   "id": "33d55ddb-7ca9-455b-b369-1f26628e6aaf",
   "metadata": {},
   "outputs": [
    {
     "name": "stdout",
     "output_type": "stream",
     "text": [
      "\n",
      "Fee: Lovelace 193529\n",
      "Size: 521 / 16384 = 3%\n",
      "Execution units:\n",
      "  Memory: 0 / 14000000 = 0%\n",
      "  Steps: 0 / 10000000000 = 0%\n"
     ]
    }
   ],
   "source": [
    "TX_1=$(\n",
    "marlowe-cli run auto-execute --required-signer \"$LENDER_PAYMENT_SKEY\" \\\n",
    "                             --marlowe-out-file tx-1.marlowe          \\\n",
    "                             --change-address \"$LENDER_ADDRESS\"       \\\n",
    "                             --out-file tx-1.raw                      \\\n",
    "                             --print-stats                            \\\n",
    "                             --submit=600                             \\\n",
    "| sed -e 's/^TxId \"\\(.*\\)\"$/\\1/'                                      \\\n",
    ")"
   ]
  },
  {
   "cell_type": "markdown",
   "id": "a7e8b2dd-7133-460e-861c-7b456ae208fb",
   "metadata": {},
   "source": [
    "The contract received the minimum Ada from the first party in the following transaction:"
   ]
  },
  {
   "cell_type": "code",
   "execution_count": 35,
   "id": "b3fee973-ab68-4976-9596-64feb0fd7014",
   "metadata": {},
   "outputs": [
    {
     "name": "stdout",
     "output_type": "stream",
     "text": [
      "2c9cc57c0b11c89843681ffb09010ce957760f819ed443f9a88545b5e99e4c4c\n"
     ]
    }
   ],
   "source": [
    "echo $TX_1"
   ]
  },
  {
   "cell_type": "markdown",
   "id": "9ba3287d-379f-4db8-8b9d-0de052bb6b2f",
   "metadata": {},
   "source": [
    "The following UTxOs are at the contract address:"
   ]
  },
  {
   "cell_type": "code",
   "execution_count": 36,
   "id": "7deebc6f-49ce-4c44-8ad5-c872cd6a44c8",
   "metadata": {},
   "outputs": [
    {
     "name": "stdout",
     "output_type": "stream",
     "text": [
      "                           TxHash                                 TxIx        Amount\n",
      "--------------------------------------------------------------------------------------\n",
      "2c9cc57c0b11c89843681ffb09010ce957760f819ed443f9a88545b5e99e4c4c     1        3000000 lovelace + TxOutDatumHash ScriptDataInBabbageEra \"520b98d9c584199fad257fb815a9c437b24330a029a11fa6caf16856d1ccbf79\"\n"
     ]
    }
   ],
   "source": [
    "cardano-cli query utxo --testnet-magic \"$CARDANO_TESTNET_MAGIC\" --address \"$CONTRACT_ADDRESS\""
   ]
  },
  {
   "cell_type": "markdown",
   "id": "98952f93-02bd-474b-a857-050a934fcf4c",
   "metadata": {},
   "source": [
    "Here are the UTxOs at the lender's address:"
   ]
  },
  {
   "cell_type": "code",
   "execution_count": 37,
   "id": "d6179fd0-12b4-4a50-93a6-b8051e6c25b0",
   "metadata": {},
   "outputs": [
    {
     "name": "stdout",
     "output_type": "stream",
     "text": [
      "                           TxHash                                 TxIx        Amount\n",
      "--------------------------------------------------------------------------------------\n",
      "2c9cc57c0b11c89843681ffb09010ce957760f819ed443f9a88545b5e99e4c4c     0        176629970 lovelace + TxOutDatumNone\n",
      "a35d52283adedd7c4605b5fdbac22fffa1845f8a9c2a9959398e3cc2ffa13467     0        7830935 lovelace + TxOutDatumNone\n",
      "ece363f9f90f3b249cc031dce6c76897dba55d0c7e37a953ada4144d8738d7ca     1        10000000 lovelace + 1 6b23dc8d7e8cec2d81a919baad7fc9f490959375af285c03275376a5.4a46 + TxOutDatumNone\n"
     ]
    }
   ],
   "source": [
    "cardano-cli query utxo --testnet-magic \"$CARDANO_TESTNET_MAGIC\" --address \"$LENDER_ADDRESS\""
   ]
  },
  {
   "cell_type": "markdown",
   "id": "cae17d34-f865-4f84-a6e5-1d7cfcf201cd",
   "metadata": {},
   "source": [
    "## Transaction 2. Lender Deposits the Loan Amount"
   ]
  },
  {
   "cell_type": "markdown",
   "id": "2883cdb0-387e-4893-be00-63944b466bed",
   "metadata": {},
   "source": [
    "First we compute the Marlowe input required to deposit the funds for the loan."
   ]
  },
  {
   "cell_type": "code",
   "execution_count": 38,
   "id": "ded756b1-4ac1-4544-b6e2-959e6d375bab",
   "metadata": {},
   "outputs": [
    {
     "name": "stdout",
     "output_type": "stream",
     "text": [
      "\n",
      "Datum size: 165\n",
      "Payment 1\n",
      "  Acccount: \"JF\"\n",
      "  Payee: Party \"TM\"\n",
      "  Ada: 100.000000\n"
     ]
    }
   ],
   "source": [
    "marlowe-cli run prepare --marlowe-file tx-1.marlowe           \\\n",
    "                        --deposit-account \"Role=$LENDER_ROLE\" \\\n",
    "                        --deposit-party \"Role=$LENDER_ROLE\"   \\\n",
    "                        --deposit-amount \"$PRINCIPAL\"         \\\n",
    "                        --invalid-before \"$NOW\"               \\\n",
    "                        --invalid-hereafter \"$((NOW+4*HOUR))\" \\\n",
    "                        --out-file tx-2.marlowe               \\\n",
    "                        --print-stats"
   ]
  },
  {
   "cell_type": "markdown",
   "id": "2b9c322e-890f-4ae6-b47b-a962ed2c9124",
   "metadata": {},
   "source": [
    "Now the lender submits the transaction that deposits the loan amount."
   ]
  },
  {
   "cell_type": "code",
   "execution_count": 39,
   "id": "aca4fc6c-a1e4-4236-8f74-fd0fed4f2477",
   "metadata": {},
   "outputs": [
    {
     "name": "stdout",
     "output_type": "stream",
     "text": [
      "\n",
      "Fee: Lovelace 1320987\n",
      "Size: 13389 / 16384 = 81%\n",
      "Execution units:\n",
      "  Memory: 7274318 / 14000000 = 51%\n",
      "  Steps: 1900207221 / 10000000000 = 19%\n"
     ]
    }
   ],
   "source": [
    "TX_2=$(\n",
    "marlowe-cli run auto-execute --marlowe-in-file tx-1.marlowe           \\\n",
    "                             --tx-in-marlowe \"$TX_1#1\"                \\\n",
    "                             --required-signer \"$LENDER_PAYMENT_SKEY\" \\\n",
    "                             --marlowe-out-file tx-2.marlowe          \\\n",
    "                             --change-address \"$LENDER_ADDRESS\"       \\\n",
    "                             --out-file tx-2.raw                      \\\n",
    "                             --print-stats                            \\\n",
    "                             --submit=600                             \\\n",
    "| sed -e 's/^TxId \"\\(.*\\)\"$/\\1/'                                      \\\n",
    ")"
   ]
  },
  {
   "cell_type": "markdown",
   "id": "b97fae5c-9cba-4a1f-acf3-82ef3b6f201d",
   "metadata": {},
   "source": [
    "The contract passed the deposit from the lender to the role address in the following transaction:"
   ]
  },
  {
   "cell_type": "code",
   "execution_count": 40,
   "id": "ac141450-19f1-45d8-be9e-60b8d0056aa2",
   "metadata": {},
   "outputs": [
    {
     "name": "stdout",
     "output_type": "stream",
     "text": [
      "7f176c39444d6c0d4d0f96d2ea55f549eec05f16afa92aef4caf4ccdcd4ff929\n"
     ]
    }
   ],
   "source": [
    "echo $TX_2"
   ]
  },
  {
   "cell_type": "markdown",
   "id": "a6880e0b-2acc-4a24-96f9-6572c8a3fd19",
   "metadata": {},
   "source": [
    "The following UTxOs are at the contract address:"
   ]
  },
  {
   "cell_type": "code",
   "execution_count": 41,
   "id": "d18504a1-7f8f-4d96-b0e6-37cb80bcbc18",
   "metadata": {},
   "outputs": [
    {
     "name": "stdout",
     "output_type": "stream",
     "text": [
      "                           TxHash                                 TxIx        Amount\n",
      "--------------------------------------------------------------------------------------\n",
      "7f176c39444d6c0d4d0f96d2ea55f549eec05f16afa92aef4caf4ccdcd4ff929     1        3000000 lovelace + TxOutDatumHash ScriptDataInBabbageEra \"ccec310e78cfc9849b58b2946b8f2b9b59dae58ef165173240166aeb30bdfdc9\"\n"
     ]
    }
   ],
   "source": [
    "cardano-cli query utxo --testnet-magic \"$CARDANO_TESTNET_MAGIC\" --address \"$CONTRACT_ADDRESS\""
   ]
  },
  {
   "cell_type": "markdown",
   "id": "0044bf07-46ae-47f9-803b-48bc3950a4be",
   "metadata": {},
   "source": [
    "Here are the UTxOs at the lender's address:"
   ]
  },
  {
   "cell_type": "code",
   "execution_count": 42,
   "id": "6cc9b2c4-a114-4b96-b904-a839d3958deb",
   "metadata": {},
   "outputs": [
    {
     "name": "stdout",
     "output_type": "stream",
     "text": [
      "                           TxHash                                 TxIx        Amount\n",
      "--------------------------------------------------------------------------------------\n",
      "7f176c39444d6c0d4d0f96d2ea55f549eec05f16afa92aef4caf4ccdcd4ff929     0        84291823 lovelace + TxOutDatumNone\n",
      "7f176c39444d6c0d4d0f96d2ea55f549eec05f16afa92aef4caf4ccdcd4ff929     3        1017160 lovelace + 1 6b23dc8d7e8cec2d81a919baad7fc9f490959375af285c03275376a5.4a46 + TxOutDatumNone\n",
      "a35d52283adedd7c4605b5fdbac22fffa1845f8a9c2a9959398e3cc2ffa13467     0        7830935 lovelace + TxOutDatumNone\n"
     ]
    }
   ],
   "source": [
    "cardano-cli query utxo --testnet-magic \"$CARDANO_TESTNET_MAGIC\" --address \"$LENDER_ADDRESS\""
   ]
  },
  {
   "cell_type": "markdown",
   "id": "7a1b97b3-7c09-4c52-91a3-33d222521f78",
   "metadata": {},
   "source": [
    "Here is the UTxO at the role address:"
   ]
  },
  {
   "cell_type": "code",
   "execution_count": 43,
   "id": "a758e53a-b1fe-41b3-b1f0-1000bcde3e0d",
   "metadata": {},
   "outputs": [
    {
     "name": "stdout",
     "output_type": "stream",
     "text": [
      "                           TxHash                                 TxIx        Amount\n",
      "--------------------------------------------------------------------------------------\n",
      "7f176c39444d6c0d4d0f96d2ea55f549eec05f16afa92aef4caf4ccdcd4ff929     2        100000000 lovelace + TxOutDatumHash ScriptDataInBabbageEra \"1d6b817dd540b8b4358a4f439ac7eda7a9877fe9f02f6244348d80542cb761b7\"\n"
     ]
    }
   ],
   "source": [
    "cardano-cli query utxo --testnet-magic \"$CARDANO_TESTNET_MAGIC\" --address \"$ROLE_ADDRESS\""
   ]
  },
  {
   "cell_type": "markdown",
   "id": "827f5ca6-e29d-4239-8e82-f5aca392a739",
   "metadata": {},
   "source": [
    "## Transaction 3. Borrower Withdraws Loan."
   ]
  },
  {
   "cell_type": "markdown",
   "id": "fd0fac07-9e53-419c-a36c-13da64fa8ac0",
   "metadata": {},
   "source": [
    "The borrower submits a transaction to withdraw the loan from the role address."
   ]
  },
  {
   "cell_type": "code",
   "execution_count": 44,
   "id": "f34f2bfd-9d74-47c0-b6cc-9f060b081e12",
   "metadata": {},
   "outputs": [
    {
     "name": "stdout",
     "output_type": "stream",
     "text": [
      "\n",
      "Fee: Lovelace 406891\n",
      "Size: 2897 / 16384 = 17%\n",
      "Execution units:\n",
      "  Memory: 1340842 / 14000000 = 9%\n",
      "  Steps: 373353621 / 10000000000 = 3%\n"
     ]
    }
   ],
   "source": [
    "TX_3=$(\n",
    "marlowe-cli run auto-withdraw --marlowe-file tx-2.marlowe                \\\n",
    "                              --role-name \"$BORROWER_ROLE\"               \\\n",
    "                              --required-signer \"$BORROWER_PAYMENT_SKEY\" \\\n",
    "                              --change-address \"$BORROWER_ADDRESS\"       \\\n",
    "                              --out-file tx-3.raw                        \\\n",
    "                              --print-stats                              \\\n",
    "                              --submit=600                               \\\n",
    "| sed -e 's/^TxId \"\\(.*\\)\"$/\\1/'                                         \\\n",
    ")"
   ]
  },
  {
   "cell_type": "markdown",
   "id": "3f80d35c-6da3-4f26-b78f-413b444ad09a",
   "metadata": {},
   "source": [
    "The UTxOs at the contract address have not changed:"
   ]
  },
  {
   "cell_type": "code",
   "execution_count": 45,
   "id": "1adf1088-284d-4817-8b0d-6ccbdd7a9aa3",
   "metadata": {},
   "outputs": [
    {
     "name": "stdout",
     "output_type": "stream",
     "text": [
      "                           TxHash                                 TxIx        Amount\n",
      "--------------------------------------------------------------------------------------\n",
      "7f176c39444d6c0d4d0f96d2ea55f549eec05f16afa92aef4caf4ccdcd4ff929     1        3000000 lovelace + TxOutDatumHash ScriptDataInBabbageEra \"ccec310e78cfc9849b58b2946b8f2b9b59dae58ef165173240166aeb30bdfdc9\"\n"
     ]
    }
   ],
   "source": [
    "cardano-cli query utxo --testnet-magic \"$CARDANO_TESTNET_MAGIC\" --address \"$CONTRACT_ADDRESS\""
   ]
  },
  {
   "cell_type": "markdown",
   "id": "44b38e76-6771-4a9b-b131-5958231c1061",
   "metadata": {},
   "source": [
    "Here are the UTxOs at the lender's address:"
   ]
  },
  {
   "cell_type": "code",
   "execution_count": 46,
   "id": "bafde5f6-439c-44a5-ae4c-2c0e4b526666",
   "metadata": {},
   "outputs": [
    {
     "name": "stdout",
     "output_type": "stream",
     "text": [
      "                           TxHash                                 TxIx        Amount\n",
      "--------------------------------------------------------------------------------------\n",
      "7f176c39444d6c0d4d0f96d2ea55f549eec05f16afa92aef4caf4ccdcd4ff929     0        84291823 lovelace + TxOutDatumNone\n",
      "7f176c39444d6c0d4d0f96d2ea55f549eec05f16afa92aef4caf4ccdcd4ff929     3        1017160 lovelace + 1 6b23dc8d7e8cec2d81a919baad7fc9f490959375af285c03275376a5.4a46 + TxOutDatumNone\n",
      "a35d52283adedd7c4605b5fdbac22fffa1845f8a9c2a9959398e3cc2ffa13467     0        7830935 lovelace + TxOutDatumNone\n"
     ]
    }
   ],
   "source": [
    "cardano-cli query utxo --testnet-magic \"$CARDANO_TESTNET_MAGIC\" --address \"$LENDER_ADDRESS\""
   ]
  },
  {
   "cell_type": "markdown",
   "id": "32e0cd1e-532d-45f0-8421-abe751795719",
   "metadata": {},
   "source": [
    "There is no UTxO at the role address:"
   ]
  },
  {
   "cell_type": "code",
   "execution_count": 47,
   "id": "51733762-e53c-480c-858f-6642efa888aa",
   "metadata": {},
   "outputs": [
    {
     "name": "stdout",
     "output_type": "stream",
     "text": [
      "                           TxHash                                 TxIx        Amount\n",
      "--------------------------------------------------------------------------------------\n"
     ]
    }
   ],
   "source": [
    "cardano-cli query utxo --testnet-magic \"$CARDANO_TESTNET_MAGIC\" --address \"$ROLE_ADDRESS\""
   ]
  },
  {
   "cell_type": "markdown",
   "id": "2a1b8356-2536-4df0-b16f-50978e4f1fc1",
   "metadata": {},
   "source": [
    "## Transaction 4. Borrower Repays the Loan's Principal and Interest"
   ]
  },
  {
   "cell_type": "markdown",
   "id": "a9f831d9-6cc1-487d-beb4-34784f2e0c3a",
   "metadata": {},
   "source": [
    "First we compute the Marlowe input required to repay the funds for the loan."
   ]
  },
  {
   "cell_type": "code",
   "execution_count": 48,
   "id": "cc52dc53-7402-4313-a687-e57da5271004",
   "metadata": {},
   "outputs": [
    {
     "name": "stdout",
     "output_type": "stream",
     "text": [
      "\n",
      "Datum size: 25\n",
      "Payment 1\n",
      "  Acccount: \"TM\"\n",
      "  Payee: Party \"JF\"\n",
      "  Ada: 105.000000\n",
      "Payment 2\n",
      "  Acccount: \"JF\"\n",
      "  Payee: Party \"JF\"\n",
      "  Ada: 3.000000\n"
     ]
    }
   ],
   "source": [
    "marlowe-cli run prepare --marlowe-file tx-2.marlowe                \\\n",
    "                        --deposit-account \"Role=$BORROWER_ROLE\"    \\\n",
    "                        --deposit-party \"Role=$BORROWER_ROLE\"      \\\n",
    "                        --deposit-amount \"$((PRINCIPAL+INTEREST))\" \\\n",
    "                        --invalid-before \"$NOW\"                    \\\n",
    "                        --invalid-hereafter \"$((NOW+4*HOUR))\"      \\\n",
    "                        --out-file tx-4.marlowe                    \\\n",
    "                        --print-stats"
   ]
  },
  {
   "cell_type": "markdown",
   "id": "8fe424db-8fd7-4968-8588-21dccfcd60e9",
   "metadata": {},
   "source": [
    "Now the borrower submits a transaction that repays the loan."
   ]
  },
  {
   "cell_type": "code",
   "execution_count": 49,
   "id": "436964e7-1008-4abf-b067-b59bc105f7b3",
   "metadata": {},
   "outputs": [
    {
     "name": "stdout",
     "output_type": "stream",
     "text": [
      "\n",
      "Fee: Lovelace 1097773\n",
      "Size: 13066 / 16384 = 79%\n",
      "Execution units:\n",
      "  Memory: 4523896 / 14000000 = 32%\n",
      "  Steps: 1202535149 / 10000000000 = 12%\n"
     ]
    }
   ],
   "source": [
    "TX_4=$(\n",
    "marlowe-cli run auto-execute --marlowe-in-file tx-2.marlowe             \\\n",
    "                             --tx-in-marlowe \"$TX_2#1\"                  \\\n",
    "                             --required-signer \"$BORROWER_PAYMENT_SKEY\" \\\n",
    "                             --marlowe-out-file tx-4.marlowe            \\\n",
    "                             --change-address \"$BORROWER_ADDRESS\"       \\\n",
    "                             --out-file tx-4.raw                        \\\n",
    "                             --print-stats                              \\\n",
    "                             --submit=600                               \\\n",
    "| sed -e 's/^TxId \"\\(.*\\)\"$/\\1/'                                        \\\n",
    ")"
   ]
  },
  {
   "cell_type": "markdown",
   "id": "99bd0fc2-50d8-45b5-843e-5925b0f6fb29",
   "metadata": {},
   "source": [
    "The closing of the contract where the borrower repaid the loan results in principal plus interest being sent to the lender in the transaction:"
   ]
  },
  {
   "cell_type": "code",
   "execution_count": 50,
   "id": "ff2e6005-1949-4957-a50f-e9943d30b69d",
   "metadata": {},
   "outputs": [
    {
     "name": "stdout",
     "output_type": "stream",
     "text": [
      "de898f50fee72850b146dfb14b6dea06b625300d140e7bd52bf4a4fc66349ca5\n"
     ]
    }
   ],
   "source": [
    "echo $TX_4"
   ]
  },
  {
   "cell_type": "markdown",
   "id": "cef53514-b4e8-4b08-8a15-8edbdc3c9ae1",
   "metadata": {},
   "source": [
    "There is no UTxO at the contract address:"
   ]
  },
  {
   "cell_type": "code",
   "execution_count": 51,
   "id": "8c68faff-3e10-4f12-bf65-a756c1d1ee7b",
   "metadata": {},
   "outputs": [
    {
     "name": "stdout",
     "output_type": "stream",
     "text": [
      "                           TxHash                                 TxIx        Amount\n",
      "--------------------------------------------------------------------------------------\n"
     ]
    }
   ],
   "source": [
    "cardano-cli query utxo --testnet-magic \"$CARDANO_TESTNET_MAGIC\" --address \"$CONTRACT_ADDRESS\""
   ]
  },
  {
   "cell_type": "markdown",
   "id": "5e025ab1-b2f5-4ff2-8db4-b2cda64acebc",
   "metadata": {},
   "source": [
    "The UTxOs at the lender's address have not changed:"
   ]
  },
  {
   "cell_type": "code",
   "execution_count": 52,
   "id": "f07a2d5a-9de5-4391-8ad7-8dbf453864a5",
   "metadata": {},
   "outputs": [
    {
     "name": "stdout",
     "output_type": "stream",
     "text": [
      "                           TxHash                                 TxIx        Amount\n",
      "--------------------------------------------------------------------------------------\n",
      "7f176c39444d6c0d4d0f96d2ea55f549eec05f16afa92aef4caf4ccdcd4ff929     0        84291823 lovelace + TxOutDatumNone\n",
      "7f176c39444d6c0d4d0f96d2ea55f549eec05f16afa92aef4caf4ccdcd4ff929     3        1017160 lovelace + 1 6b23dc8d7e8cec2d81a919baad7fc9f490959375af285c03275376a5.4a46 + TxOutDatumNone\n",
      "a35d52283adedd7c4605b5fdbac22fffa1845f8a9c2a9959398e3cc2ffa13467     0        7830935 lovelace + TxOutDatumNone\n"
     ]
    }
   ],
   "source": [
    "cardano-cli query utxo --testnet-magic \"$CARDANO_TESTNET_MAGIC\" --address \"$LENDER_ADDRESS\""
   ]
  },
  {
   "cell_type": "markdown",
   "id": "5e383ed0-3089-4ad3-b347-52164cea0abd",
   "metadata": {},
   "source": [
    "Here are the UTxOs at the borrower's address:"
   ]
  },
  {
   "cell_type": "code",
   "execution_count": 53,
   "id": "3386ba63-00a6-47e1-8232-7bfe05c58667",
   "metadata": {},
   "outputs": [
    {
     "name": "stdout",
     "output_type": "stream",
     "text": [
      "                           TxHash                                 TxIx        Amount\n",
      "--------------------------------------------------------------------------------------\n",
      "de898f50fee72850b146dfb14b6dea06b625300d140e7bd52bf4a4fc66349ca5     0        194478176 lovelace + TxOutDatumNone\n",
      "de898f50fee72850b146dfb14b6dea06b625300d140e7bd52bf4a4fc66349ca5     2        1017160 lovelace + 1 6b23dc8d7e8cec2d81a919baad7fc9f490959375af285c03275376a5.544d + TxOutDatumNone\n"
     ]
    }
   ],
   "source": [
    "cardano-cli query utxo --testnet-magic \"$CARDANO_TESTNET_MAGIC\" --address \"$BORROWER_ADDRESS\""
   ]
  },
  {
   "cell_type": "markdown",
   "id": "5d4f3ff9-e97f-46d7-a29b-bc282f2d73c2",
   "metadata": {},
   "source": [
    "Here is the UTxO at the role address:"
   ]
  },
  {
   "cell_type": "code",
   "execution_count": 54,
   "id": "51b0a297-37e2-415c-88d2-e5349c67fa66",
   "metadata": {},
   "outputs": [
    {
     "name": "stdout",
     "output_type": "stream",
     "text": [
      "                           TxHash                                 TxIx        Amount\n",
      "--------------------------------------------------------------------------------------\n",
      "de898f50fee72850b146dfb14b6dea06b625300d140e7bd52bf4a4fc66349ca5     1        108000000 lovelace + TxOutDatumHash ScriptDataInBabbageEra \"506ad3a3267fc31ec816a97469a7ae6c63f4838f38d2d692fa428fcd219bde29\"\n"
     ]
    }
   ],
   "source": [
    "cardano-cli query utxo --testnet-magic \"$CARDANO_TESTNET_MAGIC\" --address \"$ROLE_ADDRESS\""
   ]
  },
  {
   "cell_type": "markdown",
   "id": "8e1b2b03-5261-4323-88ba-a9a48e26a327",
   "metadata": {},
   "source": [
    "## Transaction 5. Lender Withdraws Repayment."
   ]
  },
  {
   "cell_type": "markdown",
   "id": "ea980d08-92fa-4f2c-b15e-47e4b854abfc",
   "metadata": {},
   "source": [
    "The lender submits a transaction to withdraw the repayment from the role address."
   ]
  },
  {
   "cell_type": "code",
   "execution_count": 55,
   "id": "fbbc53d0-af8b-4e8e-a00e-af5aeda8f7ad",
   "metadata": {},
   "outputs": [
    {
     "name": "stdout",
     "output_type": "stream",
     "text": [
      "\n",
      "Fee: Lovelace 406891\n",
      "Size: 2897 / 16384 = 17%\n",
      "Execution units:\n",
      "  Memory: 1340842 / 14000000 = 9%\n",
      "  Steps: 373353621 / 10000000000 = 3%\n"
     ]
    }
   ],
   "source": [
    "TX_5=$(\n",
    "marlowe-cli run auto-withdraw --marlowe-file tx-4.marlowe              \\\n",
    "                              --role-name \"$LENDER_ROLE\"               \\\n",
    "                              --required-signer \"$LENDER_PAYMENT_SKEY\" \\\n",
    "                              --change-address \"$LENDER_ADDRESS\"       \\\n",
    "                              --out-file tx-5.raw                      \\\n",
    "                              --print-stats                            \\\n",
    "                              --submit=600                             \\\n",
    "| sed -e 's/^TxId \"\\(.*\\)\"$/\\1/'                                       \\\n",
    ")"
   ]
  },
  {
   "cell_type": "markdown",
   "id": "0ebfbb66-d0f8-4680-8f77-105de47524a8",
   "metadata": {},
   "source": [
    "The UTxOs at the contract address have not changed:"
   ]
  },
  {
   "cell_type": "code",
   "execution_count": 56,
   "id": "0fbb4ff7-8a35-4436-8a4f-4ae5c0476d03",
   "metadata": {},
   "outputs": [
    {
     "name": "stdout",
     "output_type": "stream",
     "text": [
      "                           TxHash                                 TxIx        Amount\n",
      "--------------------------------------------------------------------------------------\n"
     ]
    }
   ],
   "source": [
    "cardano-cli query utxo --testnet-magic \"$CARDANO_TESTNET_MAGIC\" --address \"$CONTRACT_ADDRESS\""
   ]
  },
  {
   "cell_type": "markdown",
   "id": "6d5e3037-e3ed-4e50-b206-3f12d1569927",
   "metadata": {},
   "source": [
    "Here are the UTxOs at the lender's address:"
   ]
  },
  {
   "cell_type": "code",
   "execution_count": 57,
   "id": "2af97fae-c9b8-4ba0-a2fb-79d9600234c2",
   "metadata": {},
   "outputs": [
    {
     "name": "stdout",
     "output_type": "stream",
     "text": [
      "                           TxHash                                 TxIx        Amount\n",
      "--------------------------------------------------------------------------------------\n",
      "a35d52283adedd7c4605b5fdbac22fffa1845f8a9c2a9959398e3cc2ffa13467     0        7830935 lovelace + TxOutDatumNone\n",
      "f0cfe3b437b845fd55a719bd9ade6931b4e39a10beb050cbe39096688eb122b5     0        84902092 lovelace + TxOutDatumNone\n",
      "f0cfe3b437b845fd55a719bd9ade6931b4e39a10beb050cbe39096688eb122b5     1        108000000 lovelace + 1 6b23dc8d7e8cec2d81a919baad7fc9f490959375af285c03275376a5.4a46 + TxOutDatumNone\n"
     ]
    }
   ],
   "source": [
    "cardano-cli query utxo --testnet-magic \"$CARDANO_TESTNET_MAGIC\" --address \"$LENDER_ADDRESS\""
   ]
  },
  {
   "cell_type": "markdown",
   "id": "e0edc431-106c-4e48-be4a-b92ec9eec2ca",
   "metadata": {},
   "source": [
    "There is no UTxO at the role address:"
   ]
  },
  {
   "cell_type": "code",
   "execution_count": 58,
   "id": "59dd17cb-ab53-4473-bce7-d31bbc00bc45",
   "metadata": {},
   "outputs": [
    {
     "name": "stdout",
     "output_type": "stream",
     "text": [
      "                           TxHash                                 TxIx        Amount\n",
      "--------------------------------------------------------------------------------------\n"
     ]
    }
   ],
   "source": [
    "cardano-cli query utxo --testnet-magic \"$CARDANO_TESTNET_MAGIC\" --address \"$ROLE_ADDRESS\""
   ]
  },
  {
   "cell_type": "markdown",
   "id": "99bc13a1-5df5-43e4-9a25-7111cd87a918",
   "metadata": {},
   "source": [
    "## Clean Up"
   ]
  },
  {
   "cell_type": "code",
   "execution_count": 59,
   "id": "45fca1d1-00ee-49f9-bea7-fe0f92af678c",
   "metadata": {},
   "outputs": [
    {
     "name": "stdout",
     "output_type": "stream",
     "text": [
      "TxId \"f82c3a2a1a17e4f63a832f2cb601a25f79fd2f558b0c5a9c13fd38aae27cd276\"\n"
     ]
    }
   ],
   "source": [
    "marlowe-cli transaction simple --tx-in \"$TX_4#0\"                                    \\\n",
    "                               --tx-in \"$TX_4#2\"                                    \\\n",
    "                               --tx-out \"$LENDER_ADDRESS+1400000+1 $BORROWER_TOKEN\" \\\n",
    "                               --required-signer \"$BORROWER_PAYMENT_SKEY\"           \\\n",
    "                               --change-address \"$FAUCET_ADDRESS\"                   \\\n",
    "                               --out-file /dev/null                                 \\\n",
    "                               --submit 600"
   ]
  },
  {
   "cell_type": "code",
   "execution_count": 60,
   "id": "21e2b85a-3d6b-41f7-8ef0-b0dc7ad73499",
   "metadata": {},
   "outputs": [
    {
     "name": "stdout",
     "output_type": "stream",
     "text": [
      "                           TxHash                                 TxIx        Amount\n",
      "--------------------------------------------------------------------------------------\n"
     ]
    }
   ],
   "source": [
    "cardano-cli query utxo --testnet-magic \"$CARDANO_TESTNET_MAGIC\" --address \"$BORROWER_ADDRESS\""
   ]
  },
  {
   "cell_type": "code",
   "execution_count": 61,
   "id": "595e6586-a65e-4c07-b500-9e770131aa3b",
   "metadata": {},
   "outputs": [
    {
     "name": "stdout",
     "output_type": "stream",
     "text": [
      "PolicyID \"6b23dc8d7e8cec2d81a919baad7fc9f490959375af285c03275376a5\"\n"
     ]
    }
   ],
   "source": [
    "marlowe-cli util mint --required-signer \"$LENDER_PAYMENT_SKEY\" \\\n",
    "                      --change-address  \"$LENDER_ADDRESS\"      \\\n",
    "                      --count -1                               \\\n",
    "                      --expires \"$MINT_EXPIRES\"                \\\n",
    "                      --out-file /dev/null                     \\\n",
    "                      --submit=600                             \\\n",
    "                      \"$LENDER_ROLE\" \"$BORROWER_ROLE\""
   ]
  },
  {
   "cell_type": "code",
   "execution_count": 62,
   "id": "6c381ebe-faf0-4ccf-b4f3-46792dc63542",
   "metadata": {},
   "outputs": [],
   "source": [
    "TX=$(\n",
    "marlowe-cli util select --lovelace-only 1                 \\\n",
    "                        \"$LENDER_ADDRESS\"                 \\\n",
    "| sed -n -e '1{s/^TxIn \"\\(.*\\)\" (TxIx \\(.*\\))$/\\1#\\2/;p}' \\\n",
    ")"
   ]
  },
  {
   "cell_type": "code",
   "execution_count": 63,
   "id": "27c3a4da-4d9c-4ad5-8018-6037aa4504e9",
   "metadata": {},
   "outputs": [
    {
     "name": "stdout",
     "output_type": "stream",
     "text": [
      "TxId \"fb2db988b121bcfe3dee95c72337ac9f769a1e14d6502a796425fbca15a294d0\"\n"
     ]
    }
   ],
   "source": [
    "marlowe-cli transaction simple --tx-in \"$TX\"                            \\\n",
    "                               --required-signer \"$LENDER_PAYMENT_SKEY\" \\\n",
    "                               --change-address \"$FAUCET_ADDRESS\"       \\\n",
    "                               --out-file /dev/null                     \\\n",
    "                               --submit 600"
   ]
  },
  {
   "cell_type": "code",
   "execution_count": 64,
   "id": "e4db2bf1-8415-4920-aa57-b1f139056081",
   "metadata": {},
   "outputs": [
    {
     "name": "stdout",
     "output_type": "stream",
     "text": [
      "                           TxHash                                 TxIx        Amount\n",
      "--------------------------------------------------------------------------------------\n"
     ]
    }
   ],
   "source": [
    "cardano-cli query utxo --testnet-magic \"$CARDANO_TESTNET_MAGIC\" --address \"$LENDER_ADDRESS\""
   ]
  },
  {
   "cell_type": "code",
   "execution_count": 65,
   "id": "226edbd6-43e4-49f0-bd93-f8bc26970701",
   "metadata": {},
   "outputs": [
    {
     "name": "stdout",
     "output_type": "stream",
     "text": [
      "                           TxHash                                 TxIx        Amount\n",
      "--------------------------------------------------------------------------------------\n",
      "a7740cb73671939b4d5f03c7e965d91341e2fe959919aa93241f15f520f70fe0     0        139745725538 lovelace + TxOutDatumNone\n"
     ]
    }
   ],
   "source": [
    "marlowe-cli util clean --required-signer \"$FAUCET_SKEY_FILE\" \\\n",
    "                       --change-address \"$FAUCET_ADDRESS\"    \\\n",
    "                       --out-file /dev/null                  \\\n",
    "                       --submit=600                          \\\n",
    "> /dev/null\n",
    "cardano-cli query utxo --testnet-magic \"$CARDANO_TESTNET_MAGIC\" --address \"$FAUCET_ADDRESS\""
   ]
  }
 ],
 "metadata": {
  "kernelspec": {
   "display_name": "Bash - Marlowe",
   "language": "bash",
   "name": "bash_marlowe"
  },
  "language_info": {
   "codemirror_mode": "shell",
   "file_extension": ".sh",
   "mimetype": "text/x-sh",
   "name": "/nix/store/zwjm0gln1vk7x1akpyz0yxjsd1yc46gi-bash-5.1-p16/bin/bash"
  }
 },
 "nbformat": 4,
 "nbformat_minor": 5
}
