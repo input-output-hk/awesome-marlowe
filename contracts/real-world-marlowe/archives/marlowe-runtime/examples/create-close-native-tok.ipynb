{
 "cells": [
  {
   "cell_type": "code",
   "execution_count": 38,
   "id": "c2b997ff-7487-4181-a96d-83057ca11994",
   "metadata": {},
   "outputs": [],
   "source": [
    "#!/usr/bin/env bash"
   ]
  },
  {
   "cell_type": "markdown",
   "id": "29ad9b87-6812-4d1b-888b-c255e9be9eae",
   "metadata": {},
   "source": [
    "<span style=\"color: red; font-weight: bold\">Use the following command to launch a server for this notebook:</span>\n",
    "\n",
    "```bash\n",
    "git clone git@github.com:input-output-hk/marlowe-cardano.git\n",
    "cd marlowe-cardano/marlowe-runtime/\n",
    "nix run ../marlowe-cli\n",
    "```\n",
    "\n",
    "Then navigate to the `examples/` folder in Jupyter and open this notebook."
   ]
  },
  {
   "cell_type": "markdown",
   "id": "ff12ef20-4800-40fc-bf1a-b48def801ee9",
   "metadata": {},
   "source": [
    "# Demonstrating the Marlowe Transaction Creation Component of Marlowe Runtime"
   ]
  },
  {
   "cell_type": "markdown",
   "id": "b4002252-fe9f-40e4-a371-d4d6b57316de",
   "metadata": {},
   "source": [
    "## Preliminaries"
   ]
  },
  {
   "cell_type": "markdown",
   "id": "dab2352b-0021-4998-9107-c5cc32d3734c",
   "metadata": {},
   "source": [
    "Record version numbers"
   ]
  },
  {
   "cell_type": "code",
   "execution_count": 39,
   "id": "4832053a-541d-4acd-a781-e7b31a3d28e1",
   "metadata": {},
   "outputs": [
    {
     "name": "stdout",
     "output_type": "stream",
     "text": [
      "marlowe-cli 0.0.10.0\n"
     ]
    }
   ],
   "source": [
    "marlowe-cli --version"
   ]
  },
  {
   "cell_type": "code",
   "execution_count": 40,
   "id": "e7651166-5c42-4a2b-8447-3407440f7b5a",
   "metadata": {},
   "outputs": [
    {
     "name": "stdout",
     "output_type": "stream",
     "text": [
      "cardano-cli 1.35.3 - linux-x86_64 - ghc-8.10\n",
      "git rev 0000000000000000000000000000000000000000\n"
     ]
    }
   ],
   "source": [
    "cardano-cli --version"
   ]
  },
  {
   "cell_type": "code",
   "execution_count": 41,
   "id": "0434d927-022f-41f6-b60f-091ebe85cfc4",
   "metadata": {},
   "outputs": [
    {
     "name": "stdout",
     "output_type": "stream",
     "text": [
      "c51079be5e83ad6ad059e2c7d439aa4df0499308\n"
     ]
    }
   ],
   "source": [
    "git rev-parse HEAD"
   ]
  },
  {
   "cell_type": "markdown",
   "id": "9fb67751-bbb3-4e07-a9c7-b509502903c7",
   "metadata": {
    "tags": []
   },
   "source": [
    "### Setup the faucet."
   ]
  },
  {
   "cell_type": "markdown",
   "id": "4c1053b7-899c-4df1-94bc-626300568286",
   "metadata": {},
   "source": [
    "Set the location of keys."
   ]
  },
  {
   "cell_type": "code",
   "execution_count": 42,
   "id": "7eba74b8-fb39-4a07-9080-211d46f9132a",
   "metadata": {},
   "outputs": [],
   "source": [
    "TREASURY=treasury"
   ]
  },
  {
   "cell_type": "markdown",
   "id": "d5caee3c-c91e-49b8-aeb2-84b3170128d6",
   "metadata": {},
   "source": [
    "Set the faucet."
   ]
  },
  {
   "cell_type": "code",
   "execution_count": 43,
   "id": "054727ec-d1d3-4fdd-811f-95561dc807c5",
   "metadata": {},
   "outputs": [
    {
     "name": "stdout",
     "output_type": "stream",
     "text": [
      "addr_test1vq2a4cdym9mn38nf894p5sjqurns4ehjm3pt5t8l4djcnzqjzztcr\n"
     ]
    }
   ],
   "source": [
    "FAUCET_SKEY=$TREASURY/payment.skey\n",
    "FAUCET_ADDR=$(cat $TREASURY/payment.testnet.address)\n",
    "echo \"$FAUCET_ADDR\""
   ]
  },
  {
   "cell_type": "markdown",
   "id": "2894720b-50a2-4830-9a5d-e65b8e7c7dad",
   "metadata": {},
   "source": [
    "### Select network"
   ]
  },
  {
   "cell_type": "markdown",
   "id": "720ae956-275a-4b64-8460-cff5630104b4",
   "metadata": {},
   "source": [
    "In a separate terminal, set up a tunnel to the Marlowe Runtime development server:\n",
    "```bash\n",
    "rm /tmp/preview.socket\n",
    "ssh -NT \\\n",
    "  -L/tmp/preview.socket:/data/networks/preview/node.socket \\\n",
    "  -L 3717:127.0.0.1:23717 \\\n",
    "  -L 3718:127.0.0.1:23718 \\\n",
    "  -L 3719:127.0.0.1:23719 \\\n",
    "  -L 3721:127.0.0.1:23721 \\\n",
    "  -L 3723:127.0.0.1:23723 \\\n",
    "  54.202.238.5                                              \n",
    "```"
   ]
  },
  {
   "cell_type": "code",
   "execution_count": 44,
   "id": "ced2a30e-b2ba-435a-9199-bcfa0d6a8cf4",
   "metadata": {},
   "outputs": [
    {
     "name": "stdout",
     "output_type": "stream",
     "text": [
      "--testnet-magic 2\n"
     ]
    }
   ],
   "source": [
    "export CARDANO_NODE_SOCKET_PATH=/tmp/preview.socket\n",
    "export CARDANO_TESTNET_MAGIC=2\n",
    "MAGIC=(--testnet-magic 2)\n",
    "echo \"${MAGIC[@]}\""
   ]
  },
  {
   "cell_type": "markdown",
   "id": "6649b7a2-3f9e-4dd4-bde7-11699c6bf27f",
   "metadata": {},
   "source": [
    "### Check that the reference script has been published"
   ]
  },
  {
   "cell_type": "markdown",
   "id": "8f88e700-a21f-4fd4-b785-35f39d767e49",
   "metadata": {},
   "source": [
    "Check that the Marlowe semantics validator was published."
   ]
  },
  {
   "cell_type": "code",
   "execution_count": 45,
   "id": "eb29caeb-c563-4e7d-922a-b5350642cc0f",
   "metadata": {},
   "outputs": [
    {
     "name": "stdout",
     "output_type": "stream",
     "text": [
      "\n",
      "Searching for reference script at address: addr_test1vrw0tuh8l95thdqr65dmpcfqnmcw0en7v7vhgegck7gzqgswa07sw\n",
      "\n",
      "Expected reference script hash: \"6a9391d6aa51af28dd876ebb5565b69d1e83e5ac7861506bd29b56b0\"\n",
      "\n",
      "Searching for reference script at address: addr_test1vpa36uuyf95kxpcleldsncedlhjru6vdmh2vnpkdrsz4u6cll9zas\n",
      "\n",
      "Expected reference script hash: \"49076eab20243dc9462511fb98a9cfb719f86e9692288139b7c91df3\"\n",
      "{\n",
      "    \"marlowe\": {\n",
      "        \"hash\": \"6a9391d6aa51af28dd876ebb5565b69d1e83e5ac7861506bd29b56b0\",\n",
      "        \"txIn\": \"087f21f109a997193421a81886ea8c6397d336d19e696457b9c5c7aefdc31873#1\"\n",
      "    },\n",
      "    \"payout\": {\n",
      "        \"hash\": \"49076eab20243dc9462511fb98a9cfb719f86e9692288139b7c91df3\",\n",
      "        \"txIn\": \"087f21f109a997193421a81886ea8c6397d336d19e696457b9c5c7aefdc31873#2\"\n",
      "    }\n",
      "}\n"
     ]
    }
   ],
   "source": [
    "marlowe-cli transaction find-published"
   ]
  },
  {
   "cell_type": "markdown",
   "id": "7ae0e907-2c31-4b85-926d-c62dc9cafc49",
   "metadata": {},
   "source": [
    "### Participants"
   ]
  },
  {
   "cell_type": "markdown",
   "id": "ea318fc6-f1dc-46a8-a4e7-83ee23a42ec3",
   "metadata": {},
   "source": [
    "#### The Party"
   ]
  },
  {
   "cell_type": "code",
   "execution_count": 46,
   "id": "009fed78-8410-4894-b904-d6ea92982d70",
   "metadata": {},
   "outputs": [],
   "source": [
    "PARTY_SKEY=\"$TREASURY/john-fletcher.skey\"\n",
    "PARTY_VKEY=\"$TREASURY/john-fletcher.vkey\""
   ]
  },
  {
   "cell_type": "markdown",
   "id": "df56d582-919c-438f-986a-a9a3fffc40c7",
   "metadata": {},
   "source": [
    "Create the first party's keys, if necessary."
   ]
  },
  {
   "cell_type": "code",
   "execution_count": 47,
   "id": "0de60d98-b79e-43fc-8c7d-fd494c76390d",
   "metadata": {},
   "outputs": [
    {
     "name": "stdout",
     "output_type": "stream",
     "text": [
      "addr_test1vpqm0xvgpjnk7v400fr4c48dfl7kd3vtgkl9tvjnn837dtgwxffz7\n"
     ]
    }
   ],
   "source": [
    "if [[ ! -e \"$PARTY_SKEY\" ]]\n",
    "then\n",
    "  cardano-cli address key-gen --signing-key-file \"$PARTY_SKEY\" --verification-key-file \"$PARTY_VKEY\"\n",
    "fi\n",
    "PARTY_ADDR=$(cardano-cli address build \"${MAGIC[@]}\" --payment-verification-key-file \"$PARTY_VKEY\")\n",
    "echo \"$PARTY_ADDR\""
   ]
  },
  {
   "cell_type": "markdown",
   "id": "17b4396a-a8ac-4976-bda4-968daaaa190e",
   "metadata": {},
   "source": [
    "Fund the address."
   ]
  },
  {
   "cell_type": "code",
   "execution_count": 48,
   "id": "ff90fa3f-1422-4632-abb7-19c5e5b5d2ed",
   "metadata": {},
   "outputs": [
    {
     "name": "stdout",
     "output_type": "stream",
     "text": [
      "TxId \"7b73927aa3d15f79d7580aa24a9b48a3f83ed656f630726e1e81e778b1b1bb35\"\n"
     ]
    }
   ],
   "source": [
    "marlowe-cli util fund-address \\\n",
    "  --out-file /dev/null \\\n",
    "  --submit 600 \\\n",
    "  --lovelace 250000000 \\\n",
    "  --source-wallet-credentials \"$FAUCET_ADDR:$FAUCET_SKEY\" \\\n",
    "  \"$PARTY_ADDR\""
   ]
  },
  {
   "cell_type": "markdown",
   "id": "8685c107-f9e8-4e9d-9a2d-c36a9937c999",
   "metadata": {},
   "source": [
    "Tip of the blockchain"
   ]
  },
  {
   "cell_type": "code",
   "execution_count": 49,
   "id": "947b67eb-f29d-49d7-abe4-925fe56290d1",
   "metadata": {},
   "outputs": [
    {
     "name": "stdout",
     "output_type": "stream",
     "text": [
      "TIP: 6363627\n"
     ]
    }
   ],
   "source": [
    "TIP=$(cardano-cli query tip \"${MAGIC[@]}\" | jq '.slot')\n",
    "echo \"TIP: $TIP\"\n",
    "# NOW=\"$((TIP*SLOT_LENGTH+SLOT_OFFSET))\"\n",
    "# HOUR=\"$((3600*1000))\""
   ]
  },
  {
   "cell_type": "markdown",
   "id": "e9eed1ca-e3c3-4072-8def-9f8119a67f36",
   "metadata": {},
   "source": [
    "Create non-ADA tokens needed to reproduce this bug"
   ]
  },
  {
   "cell_type": "code",
   "execution_count": 50,
   "id": "ee3a3dc4-5a6c-4f23-82fa-e36d98921949",
   "metadata": {},
   "outputs": [
    {
     "name": "stdout",
     "output_type": "stream",
     "text": [
      "\n",
      "Fee: Lovelace 173157\n",
      "Size: 262 / 16384 = 1%\n",
      "Execution units:\n",
      "  Memory: 0 / 14000000 = 0%\n",
      "  Steps: 0 / 10000000000 = 0%\n",
      "\n",
      "Fee: Lovelace 182793\n",
      "Size: 380 / 16384 = 2%\n",
      "Execution units:\n",
      "  Memory: 0 / 14000000 = 0%\n",
      "  Steps: 0 / 10000000000 = 0%\n",
      "\n",
      "Fee: Lovelace 192341\n",
      "Size: 496 / 16384 = 3%\n",
      "Execution units:\n",
      "  Memory: 0 / 14000000 = 0%\n",
      "  Steps: 0 / 10000000000 = 0%\n"
     ]
    }
   ],
   "source": [
    "MINT_EXPIRES=$((TIP + 1000000))\n",
    "CUR1_NAME=Pear\n",
    "marlowe-cli util mint \"${MAGIC[@]}\" \\\n",
    "  --socket-path \"$CARDANO_NODE_SOCKET_PATH\" \\\n",
    "  --issuer \"$PARTY_ADDR:$PARTY_SKEY\" \\\n",
    "  --expires \"$MINT_EXPIRES\" \\\n",
    "  --out-file /dev/null \\\n",
    "  --submit=600 \\\n",
    "  \"$CUR1_NAME:$PARTY_ADDR\"\n",
    "CUR2_NAME=Orange\n",
    "marlowe-cli util mint \"${MAGIC[@]}\" \\\n",
    "  --socket-path \"$CARDANO_NODE_SOCKET_PATH\" \\\n",
    "  --issuer \"$PARTY_ADDR:$PARTY_SKEY\" \\\n",
    "  --expires \"$MINT_EXPIRES\" \\\n",
    "  --out-file /dev/null \\\n",
    "  --submit=600 \\\n",
    "  \"$CUR2_NAME:$PARTY_ADDR\"\n",
    "CUR3_NAME=Banana\n",
    "marlowe-cli util mint \"${MAGIC[@]}\" \\\n",
    "  --socket-path \"$CARDANO_NODE_SOCKET_PATH\" \\\n",
    "  --issuer \"$PARTY_ADDR:$PARTY_SKEY\" \\\n",
    "  --expires \"$MINT_EXPIRES\" \\\n",
    "  --out-file /dev/null \\\n",
    "  --submit=600 \\\n",
    "  \"$CUR3_NAME:$PARTY_ADDR\""
   ]
  },
  {
   "cell_type": "markdown",
   "id": "eb417b36-effb-4fc2-ae81-b7fce917aa7b",
   "metadata": {},
   "source": [
    "## The Contract"
   ]
  },
  {
   "cell_type": "markdown",
   "id": "b04afd25-7baa-46ef-b4e5-549402d14cd7",
   "metadata": {},
   "source": [
    "Set parameters"
   ]
  },
  {
   "cell_type": "code",
   "execution_count": 51,
   "id": "c5845b3d-12cf-47f0-a53c-0da3e4fe89f2",
   "metadata": {
    "tags": []
   },
   "outputs": [],
   "source": [
    "MINIMUM_ADA=3000000"
   ]
  },
  {
   "cell_type": "markdown",
   "id": "d58d8071-9907-4d2c-b686-48139d7841ca",
   "metadata": {},
   "source": [
    "Create the contract."
   ]
  },
  {
   "cell_type": "code",
   "execution_count": 83,
   "id": "ece6fd44-d1ea-44b6-a8e4-240c4549417c",
   "metadata": {},
   "outputs": [
    {
     "name": "stdout",
     "output_type": "stream",
     "text": [
      "\"close\"\n"
     ]
    }
   ],
   "source": [
    "echo '\"close\"' > close-1.contract\n",
    "cat close-1.contract"
   ]
  },
  {
   "cell_type": "markdown",
   "id": "a1548c6e-3288-4a7e-90f4-6439edeb22ca",
   "metadata": {},
   "source": [
    "## Run the Contract"
   ]
  },
  {
   "cell_type": "markdown",
   "id": "f2eb9ff2-86b8-437e-aa04-a1a38cebea9a",
   "metadata": {},
   "source": [
    "### Transaction 1. Create the contract"
   ]
  },
  {
   "cell_type": "markdown",
   "id": "faafcccf-d07c-4f8e-9ff8-a654e76e8ff7",
   "metadata": {},
   "source": [
    "See what UTxOs the transaction-creation will have available to select from."
   ]
  },
  {
   "cell_type": "code",
   "execution_count": 63,
   "id": "b0c60ede-d8c6-47f9-adcd-d3245ef60467",
   "metadata": {},
   "outputs": [
    {
     "name": "stdout",
     "output_type": "stream",
     "text": [
      "                           TxHash                                 TxIx        Amount\n",
      "--------------------------------------------------------------------------------------\n",
      "6d1fc28320de70258753ff5cb3d85daa20789e26dab01c0efbacde0345398ca3     0        246357129 lovelace + TxOutDatumNone\n",
      "6d1fc28320de70258753ff5cb3d85daa20789e26dab01c0efbacde0345398ca3     1        1025780 lovelace + 1 1f872bc772d6672632e68c2c95730f99ff0278ffd73016e03b9681b1.50656172 + TxOutDatumNone\n",
      "6d1fc28320de70258753ff5cb3d85daa20789e26dab01c0efbacde0345398ca3     2        1034400 lovelace + 1 1f872bc772d6672632e68c2c95730f99ff0278ffd73016e03b9681b1.4f72616e6765 + TxOutDatumNone\n",
      "6d1fc28320de70258753ff5cb3d85daa20789e26dab01c0efbacde0345398ca3     3        1034400 lovelace + 1 1f872bc772d6672632e68c2c95730f99ff0278ffd73016e03b9681b1.42616e616e61 + TxOutDatumNone\n"
     ]
    }
   ],
   "source": [
    "cardano-cli query utxo \"${MAGIC[@]}\" --address \"$PARTY_ADDR\""
   ]
  },
  {
   "cell_type": "markdown",
   "id": "ab570c22-0af1-4168-9269-ebefce6bfa6d",
   "metadata": {},
   "source": [
    "Build the transaction."
   ]
  },
  {
   "cell_type": "code",
   "execution_count": 64,
   "id": "142661e5-a5b3-4e48-9d02-d5aca344d2e2",
   "metadata": {},
   "outputs": [
    {
     "name": "stdout",
     "output_type": "stream",
     "text": [
      "CONTRACT_ID = 492970f209d4541274b5d7742243b2e956ed86ae77a2fcbf6f15308726ce9c0d#1\n"
     ]
    }
   ],
   "source": [
    "CONTRACT_ID=$(\n",
    "marlowe create \\\n",
    "  --core-file close-1.contract \\\n",
    "  --min-utxo \"$MINIMUM_ADA\" \\\n",
    "  --change-address \"$PARTY_ADDR\" \\\n",
    "  --address \"$PARTY_ADDR\" \\\n",
    "  --manual-sign close-1.txbody \\\n",
    "| sed -e 's/^.*\"\\([^\\\\]*\\)\\\\.*$/\\1/' \\\n",
    ")\n",
    "echo \"CONTRACT_ID = $CONTRACT_ID\""
   ]
  },
  {
   "cell_type": "markdown",
   "id": "b31ec973-5b0f-4fb7-bdca-c266bd66fdc1",
   "metadata": {},
   "source": [
    "Sign the transaction."
   ]
  },
  {
   "cell_type": "code",
   "execution_count": 65,
   "id": "5d4c94bc-d747-47c6-be60-55656a3ee6ca",
   "metadata": {},
   "outputs": [],
   "source": [
    "cardano-cli transaction sign \\\n",
    "  --tx-body-file close-1.txbody \\\n",
    "  --out-file     close-1.tx \\\n",
    "  --signing-key-file \"$PARTY_SKEY\""
   ]
  },
  {
   "cell_type": "markdown",
   "id": "bebb0d27-0a99-4f3d-ab06-09b627ee514e",
   "metadata": {},
   "source": [
    "Submit the transaction using Marlowe Runtime."
   ]
  },
  {
   "cell_type": "code",
   "execution_count": 66,
   "id": "04ff93e3-b751-440a-b310-12ebe095401a",
   "metadata": {},
   "outputs": [
    {
     "name": "stdout",
     "output_type": "stream",
     "text": [
      "\"{\\\"blockHeaderHash\\\":\\\"d6584a51fcd062f9f30e5457b7cefd72c1b562e1f00f895a5bafcf4056fa8d82\\\",\\\"blockNo\\\":290681,\\\"slotNo\\\":6291297}\"\n"
     ]
    }
   ],
   "source": [
    "marlowe submit close-1.tx"
   ]
  },
  {
   "cell_type": "markdown",
   "id": "1bf9d006-26c4-49d9-9488-8d07021b043a",
   "metadata": {},
   "source": [
    "Watch the contract."
   ]
  },
  {
   "cell_type": "code",
   "execution_count": 67,
   "id": "0e4ceeb0-350f-464b-86ea-e36b98ec06ff",
   "metadata": {},
   "outputs": [
    {
     "name": "stdout",
     "output_type": "stream",
     "text": [
      "492970f209d4541274b5d7742243b2e956ed86ae77a2fcbf6f15308726ce9c0d#1\n"
     ]
    }
   ],
   "source": [
    "marlowe add \"$CONTRACT_ID\""
   ]
  },
  {
   "cell_type": "code",
   "execution_count": 68,
   "id": "f02d9dbb-91a5-4290-ac3b-0d32030cddff",
   "metadata": {},
   "outputs": [
    {
     "name": "stdout",
     "output_type": "stream",
     "text": [
      "\u001b[93mtransaction 492970f209d4541274b5d7742243b2e956ed86ae77a2fcbf6f15308726ce9c0d (creation)\n",
      "\u001b[0mContractId:      492970f209d4541274b5d7742243b2e956ed86ae77a2fcbf6f15308726ce9c0d#1\n",
      "SlotNo:          6291297\n",
      "BlockNo:         290681\n",
      "BlockId:         d6584a51fcd062f9f30e5457b7cefd72c1b562e1f00f895a5bafcf4056fa8d82\n",
      "ScriptAddress:   addr_test1wp4f8ywk4fg672xasahtk4t9k6w3aql943uxz5rt62d4dvqu3c6jv\n",
      "Marlowe Version: 1\n",
      "\n",
      "    Close\n",
      "\n"
     ]
    }
   ],
   "source": [
    "marlowe log --show-contract \"$CONTRACT_ID\""
   ]
  },
  {
   "cell_type": "markdown",
   "id": "b63f5847-141e-4378-96e2-5683f0c54e52",
   "metadata": {},
   "source": [
    "View the contract's UTxO."
   ]
  },
  {
   "cell_type": "code",
   "execution_count": 69,
   "id": "808a16fb-9133-4544-a60f-6e9fdf7f6cae",
   "metadata": {},
   "outputs": [
    {
     "name": "stdout",
     "output_type": "stream",
     "text": [
      "addr_test1wp4f8ywk4fg672xasahtk4t9k6w3aql943uxz5rt62d4dvqu3c6jv\n"
     ]
    }
   ],
   "source": [
    "CONTRACT_ADDRESS=$(marlowe-cli contract address)\n",
    "echo \"$CONTRACT_ADDRESS\""
   ]
  },
  {
   "cell_type": "code",
   "execution_count": 70,
   "id": "f9820b1e-590f-498d-b843-b258eaebf404",
   "metadata": {},
   "outputs": [
    {
     "name": "stdout",
     "output_type": "stream",
     "text": [
      "                           TxHash                                 TxIx        Amount\n",
      "--------------------------------------------------------------------------------------\n",
      "492970f209d4541274b5d7742243b2e956ed86ae77a2fcbf6f15308726ce9c0d     1        2000000 lovelace + TxOutDatumHash ScriptDataInBabbageEra \"b090d3f6a7f54568564b4ee66cdc80306ff8192f9015e54e198565f673f8cb2a\"\n"
     ]
    }
   ],
   "source": [
    "cardano-cli query utxo \"${MAGIC[@]}\" --address \"$CONTRACT_ADDRESS\" | sed -n -e \"1,2p;/${CONTRACT_ID//#*/}/p\""
   ]
  },
  {
   "cell_type": "markdown",
   "id": "d9f2b02e-a0fe-422e-96d8-751133cd335f",
   "metadata": {},
   "source": [
    "Advance the contract"
   ]
  },
  {
   "cell_type": "code",
   "execution_count": 71,
   "id": "cb8dd459-5ea1-4315-9633-094664c118fd",
   "metadata": {},
   "outputs": [
    {
     "name": "stdout",
     "output_type": "stream",
     "text": [
      "ApplyFailed (ApplyInputsConstraintsBuildupFailed UnableToDetermineTransactionTimeout)\n"
     ]
    },
    {
     "ename": "",
     "evalue": "1",
     "output_type": "error",
     "traceback": []
    }
   ],
   "source": [
    "marlowe advance --change-address \"$PARTY_ADDR\" --manual-sign \"$PARTY_SKEY\" --contract \"$CONTRACT_ID\""
   ]
  },
  {
   "cell_type": "markdown",
   "id": "c0ccaa90-d5d4-49b5-870c-d6429ed64ae0",
   "metadata": {},
   "source": [
    "## Cleanup"
   ]
  },
  {
   "cell_type": "markdown",
   "id": "86585e47-22db-46db-94a6-80b4a00b2147",
   "metadata": {},
   "source": [
    "Remove the contract from history tracking."
   ]
  },
  {
   "cell_type": "code",
   "execution_count": 72,
   "id": "eea2d290-46e0-4a5c-a587-f0dd4afda600",
   "metadata": {},
   "outputs": [
    {
     "name": "stdout",
     "output_type": "stream",
     "text": [
      "af0d5d2fb5b4089968b61176a4f5be72a085e6a9c73f2de5e695deb92df5f55d#1\n"
     ]
    }
   ],
   "source": [
    "marlowe rm \"$CONTRACT_ID\""
   ]
  },
  {
   "cell_type": "code",
   "execution_count": 73,
   "id": "cca2e9c5-d78b-4207-b599-feca36afb4c6",
   "metadata": {},
   "outputs": [],
   "source": [
    "marlowe ls"
   ]
  },
  {
   "cell_type": "markdown",
   "id": "6bca7ecc-edbf-47db-921b-81e3f8c6d926",
   "metadata": {},
   "source": [
    "Burn the native tokens"
   ]
  },
  {
   "cell_type": "code",
   "execution_count": 74,
   "id": "3084ac48-3e9f-4399-aba8-a5fa487006c0",
   "metadata": {},
   "outputs": [
    {
     "name": "stdout",
     "output_type": "stream",
     "text": [
      "\n",
      "Fee: Lovelace 188513\n",
      "Size: 308 / 16384 = 1%\n",
      "Execution units:\n",
      "  Memory: 0 / 14000000 = 0%\n",
      "  Steps: 0 / 10000000000 = 0%\n",
      "PolicyID \"1f872bc772d6672632e68c2c95730f99ff0278ffd73016e03b9681b1\"\n"
     ]
    }
   ],
   "source": [
    "marlowe-cli util burn \\\n",
    "  ${MAGIC[@]} \\\n",
    "  --socket-path \"$CARDANO_NODE_SOCKET_PATH\" \\\n",
    "  --issuer \"$PARTY_ADDR:$PARTY_SKEY\" \\\n",
    "  --expires $MINT_EXPIRES \\\n",
    "  --token-provider \"$PARTY_ADDR:$PARTY_SKEY\" \\\n",
    "  --submit 600 \\\n",
    "  --out-file /dev/null"
   ]
  },
  {
   "cell_type": "markdown",
   "id": "b6916f2a-426a-4c31-8499-610f83df1d7c",
   "metadata": {},
   "source": [
    "Consolidate the UTxOs at the addresses."
   ]
  },
  {
   "cell_type": "code",
   "execution_count": 75,
   "id": "303c1567-db4f-4659-a032-31706072ba15",
   "metadata": {},
   "outputs": [
    {
     "name": "stdout",
     "output_type": "stream",
     "text": [
      "TxId \"06aeff30a5c36a46293956b9f31cb079e4624d659dffc51a9383de650975586d\"\n"
     ]
    }
   ],
   "source": [
    "marlowe-cli util clean \\\n",
    "  --change-address \"$PARTY_ADDR\" \\\n",
    "  --required-signer \"$PARTY_SKEY\" \\\n",
    "  --out-file /dev/null \\\n",
    "  --submit 600"
   ]
  },
  {
   "cell_type": "markdown",
   "id": "5ddc612f-57ca-4e17-96f2-658baa3ef7e8",
   "metadata": {},
   "source": [
    "Send the funds back to the faucet."
   ]
  },
  {
   "cell_type": "code",
   "execution_count": 76,
   "id": "a300a576-a800-4fdd-9d45-bc6cc3c901a8",
   "metadata": {},
   "outputs": [
    {
     "name": "stdout",
     "output_type": "stream",
     "text": [
      "TxId \"1e753fe64ed9390518a20d9eea13e5972ab5257f6042fd4363604d3181dbee65\"\n"
     ]
    }
   ],
   "source": [
    "marlowe-cli transaction simple \\\n",
    "  --tx-in \"$(marlowe-cli util select --lovelace-only 1 \"$PARTY_ADDR\" | sed -n -e 's/^TxIn \"\\(.*\\)\" (TxIx \\(.*\\))$/\\1#\\2/;1p')\" \\\n",
    "  --required-signer \"$PARTY_SKEY\" \\\n",
    "  --change-address \"$FAUCET_ADDR\" \\\n",
    "  --out-file /dev/null \\\n",
    "  --submit 600"
   ]
  },
  {
   "cell_type": "markdown",
   "id": "927fa5b5-92d2-4133-9a28-dcce900ee190",
   "metadata": {},
   "source": [
    "See that the funds have been returned to the faucet."
   ]
  },
  {
   "cell_type": "code",
   "execution_count": 78,
   "id": "586f7b36",
   "metadata": {},
   "outputs": [
    {
     "name": "stdout",
     "output_type": "stream",
     "text": [
      "                           TxHash                                 TxIx        Amount\n",
      "--------------------------------------------------------------------------------------\n"
     ]
    }
   ],
   "source": [
    "cardano-cli query utxo \"${MAGIC[@]}\" --address \"$PARTY_ADDR\""
   ]
  },
  {
   "cell_type": "code",
   "execution_count": null,
   "id": "7e214001-b3ac-4a2a-b04d-19e920f753f1",
   "metadata": {},
   "outputs": [],
   "source": []
  }
 ],
 "metadata": {
  "kernelspec": {
   "display_name": "Bash - Marlowe",
   "language": "bash",
   "name": "bash_marlowe"
  },
  "language_info": {
   "codemirror_mode": "shell",
   "file_extension": ".sh",
   "mimetype": "text/x-sh",
   "name": "/nix/store/znkypmyvykawwg71xawqzb98qbllijv8-bash-5.1-p16/bin/bash"
  }
 },
 "nbformat": 4,
 "nbformat_minor": 5
}
