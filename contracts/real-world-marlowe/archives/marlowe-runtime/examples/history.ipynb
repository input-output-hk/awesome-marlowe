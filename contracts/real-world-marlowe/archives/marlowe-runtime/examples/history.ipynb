{
 "cells": [
  {
   "cell_type": "code",
   "execution_count": 1,
   "id": "93c8a2d0-32c9-46cb-b481-eeedd61b68b5",
   "metadata": {},
   "outputs": [],
   "source": [
    "#!/usr/bin/env bash"
   ]
  },
  {
   "cell_type": "markdown",
   "id": "194c45a5-25c4-43c4-bfb7-c7f8a30399ea",
   "metadata": {},
   "source": [
    "<span style=\"color: red; font-weight: bold\">Use the following command to launch a server for this notebook:</span>\n",
    "\n",
    "```bash\n",
    "git clone git@github.com:input-output-hk/marlowe-cardano.git\n",
    "cd marlowe-cardano/marlowe-runtime/\n",
    "nix run ../marlowe-cli\n",
    "```\n",
    "\n",
    "Then navigate to the `examples/` folder in Jupyter and open this notebook."
   ]
  },
  {
   "cell_type": "markdown",
   "id": "ff12ef20-4800-40fc-bf1a-b48def801ee9",
   "metadata": {},
   "source": [
    "# Demonstrating the Marlowe History Component of Marlowe Runtime"
   ]
  },
  {
   "cell_type": "markdown",
   "id": "b4002252-fe9f-40e4-a371-d4d6b57316de",
   "metadata": {},
   "source": [
    "## Preliminaries"
   ]
  },
  {
   "cell_type": "markdown",
   "id": "dab2352b-0021-4998-9107-c5cc32d3734c",
   "metadata": {},
   "source": [
    "Record version numbers"
   ]
  },
  {
   "cell_type": "code",
   "execution_count": 2,
   "id": "4832053a-541d-4acd-a781-e7b31a3d28e1",
   "metadata": {},
   "outputs": [
    {
     "name": "stdout",
     "output_type": "stream",
     "text": [
      "marlowe-cli 0.0.9.0\n"
     ]
    }
   ],
   "source": [
    "marlowe-cli --version"
   ]
  },
  {
   "cell_type": "code",
   "execution_count": 3,
   "id": "e7651166-5c42-4a2b-8447-3407440f7b5a",
   "metadata": {},
   "outputs": [
    {
     "name": "stdout",
     "output_type": "stream",
     "text": [
      "cardano-cli 1.35.3 - linux-x86_64 - ghc-8.10\n",
      "git rev 0000000000000000000000000000000000000000\n"
     ]
    }
   ],
   "source": [
    "cardano-cli --version"
   ]
  },
  {
   "cell_type": "code",
   "execution_count": 4,
   "id": "0434d927-022f-41f6-b60f-091ebe85cfc4",
   "metadata": {},
   "outputs": [
    {
     "name": "stdout",
     "output_type": "stream",
     "text": [
      "595e48a82babf64fab7ffcedb22cda4203b8e751\n"
     ]
    }
   ],
   "source": [
    "git rev-parse HEAD"
   ]
  },
  {
   "cell_type": "markdown",
   "id": "9fb67751-bbb3-4e07-a9c7-b509502903c7",
   "metadata": {
    "tags": []
   },
   "source": [
    "### Setup the faucet."
   ]
  },
  {
   "cell_type": "markdown",
   "id": "4c1053b7-899c-4df1-94bc-626300568286",
   "metadata": {},
   "source": [
    "Set the location of keys."
   ]
  },
  {
   "cell_type": "code",
   "execution_count": 5,
   "id": "7eba74b8-fb39-4a07-9080-211d46f9132a",
   "metadata": {},
   "outputs": [],
   "source": [
    "TREASURY=treasury"
   ]
  },
  {
   "cell_type": "markdown",
   "id": "d5caee3c-c91e-49b8-aeb2-84b3170128d6",
   "metadata": {},
   "source": [
    "Set the faucet."
   ]
  },
  {
   "cell_type": "code",
   "execution_count": 6,
   "id": "054727ec-d1d3-4fdd-811f-95561dc807c5",
   "metadata": {},
   "outputs": [
    {
     "name": "stdout",
     "output_type": "stream",
     "text": [
      "addr_test1vq9prvx8ufwutkwxx9cmmuuajaqmjqwujqlp9d8pvg6gupczgtm9j\n"
     ]
    }
   ],
   "source": [
    "FAUCET_SKEY=$TREASURY/payment.skey\n",
    "FAUCET_ADDR=$(cat $TREASURY/payment.testnet.address)\n",
    "echo \"$FAUCET_ADDR\""
   ]
  },
  {
   "cell_type": "markdown",
   "id": "2894720b-50a2-4830-9a5d-e65b8e7c7dad",
   "metadata": {},
   "source": [
    "### Select network"
   ]
  },
  {
   "cell_type": "markdown",
   "id": "720ae956-275a-4b64-8460-cff5630104b4",
   "metadata": {},
   "source": [
    "In a separate terminal, set up a tunnel to the Marlowe Runtime development server:\n",
    "```bash\n",
    "rm /tmp/preview.socket\n",
    "ssh -NT \\\n",
    "  -L/tmp/preview.socket:/data/networks/preview/node.socket \\\n",
    "  -L 3717:127.0.0.1:23717 \\\n",
    "  -L 3718:127.0.0.1:23718 \\\n",
    "  -L 3719:127.0.0.1:23719 \\\n",
    "  -L 3721:127.0.0.1:23721 \\\n",
    "  -L 3723:127.0.0.1:23723 \\\n",
    "  54.202.238.5                                              \n",
    "```"
   ]
  },
  {
   "cell_type": "code",
   "execution_count": 7,
   "id": "ced2a30e-b2ba-435a-9199-bcfa0d6a8cf4",
   "metadata": {},
   "outputs": [
    {
     "name": "stdout",
     "output_type": "stream",
     "text": [
      "--testnet-magic 2\n"
     ]
    }
   ],
   "source": [
    "export CARDANO_NODE_SOCKET_PATH=/tmp/preview.socket\n",
    "export CARDANO_TESTNET_MAGIC=2\n",
    "MAGIC=(--testnet-magic 2)\n",
    "echo \"${MAGIC[@]}\""
   ]
  },
  {
   "cell_type": "markdown",
   "id": "6649b7a2-3f9e-4dd4-bde7-11699c6bf27f",
   "metadata": {},
   "source": [
    "### Check that the reference script has been published"
   ]
  },
  {
   "cell_type": "markdown",
   "id": "8f88e700-a21f-4fd4-b785-35f39d767e49",
   "metadata": {},
   "source": [
    "Check that the Marlowe semantics validator was published."
   ]
  },
  {
   "cell_type": "code",
   "execution_count": 8,
   "id": "eb29caeb-c563-4e7d-922a-b5350642cc0f",
   "metadata": {},
   "outputs": [
    {
     "name": "stdout",
     "output_type": "stream",
     "text": [
      "\n",
      "Searching for reference script at address: addr_test1vrw0tuh8l95thdqr65dmpcfqnmcw0en7v7vhgegck7gzqgswa07sw\n",
      "\n",
      "Expected reference script hash: \"6a9391d6aa51af28dd876ebb5565b69d1e83e5ac7861506bd29b56b0\"\n",
      "\n",
      "Searching for reference script at address: addr_test1vpa36uuyf95kxpcleldsncedlhjru6vdmh2vnpkdrsz4u6cll9zas\n",
      "\n",
      "Expected reference script hash: \"49076eab20243dc9462511fb98a9cfb719f86e9692288139b7c91df3\"\n",
      "{\n",
      "    \"marlowe\": {\n",
      "        \"hash\": \"6a9391d6aa51af28dd876ebb5565b69d1e83e5ac7861506bd29b56b0\",\n",
      "        \"txIn\": \"087f21f109a997193421a81886ea8c6397d336d19e696457b9c5c7aefdc31873#1\"\n",
      "    },\n",
      "    \"payout\": {\n",
      "        \"hash\": \"49076eab20243dc9462511fb98a9cfb719f86e9692288139b7c91df3\",\n",
      "        \"txIn\": \"087f21f109a997193421a81886ea8c6397d336d19e696457b9c5c7aefdc31873#2\"\n",
      "    }\n",
      "}\n"
     ]
    }
   ],
   "source": [
    "marlowe-cli transaction find-published"
   ]
  },
  {
   "cell_type": "markdown",
   "id": "7ae0e907-2c31-4b85-926d-c62dc9cafc49",
   "metadata": {},
   "source": [
    "### Participants"
   ]
  },
  {
   "cell_type": "markdown",
   "id": "ea318fc6-f1dc-46a8-a4e7-83ee23a42ec3",
   "metadata": {},
   "source": [
    "#### The Party"
   ]
  },
  {
   "cell_type": "code",
   "execution_count": 9,
   "id": "009fed78-8410-4894-b904-d6ea92982d70",
   "metadata": {},
   "outputs": [],
   "source": [
    "PARTY_SKEY=\"$TREASURY/john-fletcher.skey\"\n",
    "PARTY_VKEY=\"$TREASURY/john-fletcher.vkey\""
   ]
  },
  {
   "cell_type": "markdown",
   "id": "df56d582-919c-438f-986a-a9a3fffc40c7",
   "metadata": {},
   "source": [
    "Create the first party's keys, if necessary."
   ]
  },
  {
   "cell_type": "code",
   "execution_count": 10,
   "id": "0de60d98-b79e-43fc-8c7d-fd494c76390d",
   "metadata": {},
   "outputs": [
    {
     "name": "stdout",
     "output_type": "stream",
     "text": [
      "addr_test1vqwt2xlr4d8yk4qws675exlqy6pdhq2s76wrehkjggkvr0cerfe8r\n"
     ]
    }
   ],
   "source": [
    "if [[ ! -e \"$PARTY_SKEY\" ]]\n",
    "then\n",
    "  cardano-cli address key-gen --signing-key-file \"$PARTY_SKEY\" --verification-key-file \"$PARTY_VKEY\"\n",
    "fi\n",
    "PARTY_ADDR=$(cardano-cli address build \"${MAGIC[@]}\" --payment-verification-key-file \"$PARTY_VKEY\")\n",
    "echo \"$PARTY_ADDR\""
   ]
  },
  {
   "cell_type": "markdown",
   "id": "17b4396a-a8ac-4976-bda4-968daaaa190e",
   "metadata": {},
   "source": [
    "Fund the address."
   ]
  },
  {
   "cell_type": "code",
   "execution_count": 11,
   "id": "ff90fa3f-1422-4632-abb7-19c5e5b5d2ed",
   "metadata": {},
   "outputs": [
    {
     "name": "stdout",
     "output_type": "stream",
     "text": [
      "TxId \"0af26731b01b27e80cfeddf85e8acc2e29c63140241793b3dd289908862e8bd4\"\n"
     ]
    }
   ],
   "source": [
    "marlowe-cli util fund-address \\\n",
    "  --out-file /dev/null \\\n",
    "  --submit 600 \\\n",
    "  --lovelace 250000000 \\\n",
    "  --source-wallet-credentials \"$FAUCET_ADDR:$FAUCET_SKEY\" \\\n",
    "  \"$PARTY_ADDR\""
   ]
  },
  {
   "cell_type": "markdown",
   "id": "beac2b0a-83c9-4f13-a1b2-d4ae12795bc7",
   "metadata": {},
   "source": [
    "#### The Counterparty"
   ]
  },
  {
   "cell_type": "code",
   "execution_count": 12,
   "id": "359d2b9b-9bc3-4688-9689-9ef2c69cd382",
   "metadata": {},
   "outputs": [],
   "source": [
    "COUNTERPARTY_SKEY=\"$TREASURY/thomas-kyd.skey\"\n",
    "COUNTERPARTY_VKEY=\"$TREASURY/thomas-kyd.vkey\""
   ]
  },
  {
   "cell_type": "markdown",
   "id": "cc9ff64b-fc5b-4308-8b6c-9208985b3600",
   "metadata": {},
   "source": [
    "Create the second party's keys, if necessary."
   ]
  },
  {
   "cell_type": "code",
   "execution_count": 13,
   "id": "c4297420-6c47-4716-bbb3-c5bb0be2ef9a",
   "metadata": {},
   "outputs": [
    {
     "name": "stdout",
     "output_type": "stream",
     "text": [
      "addr_test1vr7n0zzth5zycuh972w7rdmh48qur4f3wu6ntn2m2h30dlcvltuy5\n"
     ]
    }
   ],
   "source": [
    "if [[ ! -e \"$COUNTERPARTY_SKEY\" ]]\n",
    "then\n",
    "  cardano-cli address key-gen --signing-key-file \"$COUNTERPARTY_SKEY\" --verification-key-file \"$COUNTERPARTY_VKEY\"\n",
    "fi\n",
    "COUNTERPARTY_ADDR=$(cardano-cli address build \"${MAGIC[@]}\" --payment-verification-key-file \"$COUNTERPARTY_VKEY\")\n",
    "echo \"$COUNTERPARTY_ADDR\""
   ]
  },
  {
   "cell_type": "markdown",
   "id": "0556be66-9ca7-4e91-9c85-bd885311c611",
   "metadata": {},
   "source": [
    "Fund the address."
   ]
  },
  {
   "cell_type": "code",
   "execution_count": 14,
   "id": "77bc9000-d2e3-4996-a2ae-a7d0c625aa70",
   "metadata": {},
   "outputs": [
    {
     "name": "stdout",
     "output_type": "stream",
     "text": [
      "TxId \"40a233dd5adfebf005c8142bbc3af3215b2a94f0203d65b4501cb289ad1658d2\"\n"
     ]
    }
   ],
   "source": [
    "marlowe-cli util fund-address \\\n",
    "  --out-file /dev/null \\\n",
    "  --submit 600  \\\n",
    "  --lovelace 250000000 \\\n",
    "  --source-wallet-credentials \"$FAUCET_ADDR:$FAUCET_SKEY\" \\\n",
    "  \"$COUNTERPARTY_ADDR\""
   ]
  },
  {
   "cell_type": "markdown",
   "id": "bd16c1d1-f172-46f7-b0f5-cb10fd961984",
   "metadata": {},
   "source": [
    "### Time computations"
   ]
  },
  {
   "cell_type": "code",
   "execution_count": 15,
   "id": "15b80716-4545-4558-825f-9d0dda82f8d5",
   "metadata": {},
   "outputs": [],
   "source": [
    "SECOND=1000\n",
    "MINUTE=$((60 * SECOND))"
   ]
  },
  {
   "cell_type": "code",
   "execution_count": 16,
   "id": "359b6f47-e0d1-4f84-8812-b96cfa361c2d",
   "metadata": {},
   "outputs": [
    {
     "name": "stdout",
     "output_type": "stream",
     "text": [
      "1666208911000\n"
     ]
    }
   ],
   "source": [
    "NOW=\"$(($(date -u +%s) * SECOND))\"\n",
    "echo \"$NOW\""
   ]
  },
  {
   "cell_type": "markdown",
   "id": "eb417b36-effb-4fc2-ae81-b7fce917aa7b",
   "metadata": {},
   "source": [
    "## The Contract"
   ]
  },
  {
   "cell_type": "markdown",
   "id": "b04afd25-7baa-46ef-b4e5-549402d14cd7",
   "metadata": {},
   "source": [
    "We set the parameters for the ACTUS PAM contract."
   ]
  },
  {
   "cell_type": "code",
   "execution_count": 17,
   "id": "c5845b3d-12cf-47f0-a53c-0da3e4fe89f2",
   "metadata": {
    "tags": []
   },
   "outputs": [],
   "source": [
    "MINIMUM_ADA=3000000\n",
    "\n",
    "FIXED_POINT=1000000\n",
    "PRINCIPAL=100\n",
    "INTEREST_RATE=0.02\n",
    "INTEREST=$(jq -n $PRINCIPAL*$INTEREST_RATE)\n",
    "\n",
    "STATUS_DATE=$(date -d \"$(date -u -R -d @$((NOW/1000)))\" +\"%Y-%m-%dT00:00:00\")\n",
    "INITIAL_EXCHANGE_DATE=$(date -d \"$(date -u -R -d @$((NOW/1000))) + 1 year\" +\"%Y-01-01T00:00:00\")\n",
    "MATURITY_DATE=$(date -d \"$(date -u -R -d @$((NOW/1000))) + 2 year\" +\"%Y-01-01T00:00:00\")"
   ]
  },
  {
   "cell_type": "code",
   "execution_count": 18,
   "id": "ece6fd44-d1ea-44b6-a8e4-240c4549417c",
   "metadata": {},
   "outputs": [
    {
     "name": "stdout",
     "output_type": "stream",
     "text": [
      "{\"accruedInterest\":0,\"collateralAmount\":0,\"contractId\":\"0\",\"contractPerformance\":\"PF\",\"contractRole\":\"RPA\",\"contractType\":\"PAM\",\"cycleAnchorDateOfInterestPayment\":\"2023-01-01T00:00:00\",\"cycleOfInterestPayment\":\"P1YL1\",\"dayCountConvention\":\"30E360\",\"enableSettlement\":false,\"initialExchangeDate\":\"2023-01-01T00:00:00\",\"interestCalculationBase\":\"NT\",\"maturityDate\":\"2024-01-01T00:00:00\",\"nominalInterestRate\":0.02,\"notionalPrincipal\":100,\"penaltyType\":\"O\",\"prepaymentEffect\":\"N\",\"scheduleConfig\":{\"businessDayConvention\":\"NULL\",\"calendar\":\"NC\",\"endOfMonthConvention\":\"EOM\"},\"statusDate\":\"2022-10-19T00:00:00\"}\n"
     ]
    }
   ],
   "source": [
    "yaml2json << EOI > history.actus\n",
    "scheduleConfig:\n",
    "  businessDayConvention: \"NULL\"\n",
    "  endOfMonthConvention: \"EOM\"\n",
    "  calendar: \"NC\"\n",
    "maturityDate: \"$MATURITY_DATE\"\n",
    "contractId: \"0\"\n",
    "enableSettlement: false\n",
    "initialExchangeDate: \"$INITIAL_EXCHANGE_DATE\"\n",
    "contractRole: \"RPA\"\n",
    "penaltyType: \"O\"\n",
    "cycleAnchorDateOfInterestPayment: \"$INITIAL_EXCHANGE_DATE\"\n",
    "contractType: \"PAM\"\n",
    "notionalPrincipal: $PRINCIPAL\n",
    "contractPerformance: \"PF\"\n",
    "collateralAmount: 0\n",
    "dayCountConvention: \"30E360\"\n",
    "accruedInterest: 0\n",
    "statusDate: \"$STATUS_DATE\"\n",
    "cycleOfInterestPayment: \"P1YL1\"\n",
    "prepaymentEffect: \"N\"\n",
    "nominalInterestRate: $INTEREST_RATE\n",
    "interestCalculationBase: \"NT\"\n",
    "EOI\n",
    "cat history.actus"
   ]
  },
  {
   "cell_type": "markdown",
   "id": "d58d8071-9907-4d2c-b686-48139d7841ca",
   "metadata": {},
   "source": [
    "Create the contract and its initial state."
   ]
  },
  {
   "cell_type": "code",
   "execution_count": 19,
   "id": "028339ed-6d5e-4e71-9895-3a965a0252c9",
   "metadata": {},
   "outputs": [],
   "source": [
    "marlowe-cli template actus \\\n",
    "  --minimum-ada \"$MINIMUM_ADA\" \\\n",
    "  --party \"$PARTY_ADDR\" \\\n",
    "  --counter-party \"$COUNTERPARTY_ADDR\" \\\n",
    "  --actus-terms-file  history.actus \\\n",
    "  --out-contract-file history-1.contract \\\n",
    "  --out-state-file    history-1.state"
   ]
  },
  {
   "cell_type": "markdown",
   "id": "5f570dc8-e5c1-4c78-b603-5c5229b5f5c0",
   "metadata": {},
   "source": [
    "Since we are testing, we don't really want to wait months or years for timeouts, so we edit the contract file to change the maturity date to 15 minutes from now and the initial deposit to 10 minutes from now."
   ]
  },
  {
   "cell_type": "code",
   "execution_count": 20,
   "id": "41e6070f-8379-43b9-954b-858ffa170e58",
   "metadata": {},
   "outputs": [],
   "source": [
    "sed -i \\\n",
    "  -e \"s/$(jq '.timeout' history-1.contract)/$((NOW + 10 * MINUTE))/\" \\\n",
    "  -e \"s/$(($(date -d \"$MATURITY_DATE\" -u +%s) * SECOND))/$((NOW + 15 * MINUTE))/\" \\\n",
    "  history-1.contract"
   ]
  },
  {
   "cell_type": "markdown",
   "id": "cc6d76dd-d7f0-4a83-ad1e-affd955e98a6",
   "metadata": {},
   "source": [
    "View the contract."
   ]
  },
  {
   "cell_type": "code",
   "execution_count": 21,
   "id": "661bb16a-2739-4354-a796-bbaedf39f698",
   "metadata": {},
   "outputs": [
    {
     "name": "stdout",
     "output_type": "stream",
     "text": [
      "timeout: 1666209511000\n",
      "timeout_continuation: close\n",
      "when:\n",
      "- case:\n",
      "    deposits:\n",
      "      negate:\n",
      "        negate: 100000000\n",
      "    into_account:\n",
      "      address: addr_test1vqwt2xlr4d8yk4qws675exlqy6pdhq2s76wrehkjggkvr0cerfe8r\n",
      "    of_token:\n",
      "      currency_symbol: ''\n",
      "      token_name: ''\n",
      "    party:\n",
      "      address: addr_test1vqwt2xlr4d8yk4qws675exlqy6pdhq2s76wrehkjggkvr0cerfe8r\n",
      "  then:\n",
      "    from_account:\n",
      "      address: addr_test1vqwt2xlr4d8yk4qws675exlqy6pdhq2s76wrehkjggkvr0cerfe8r\n",
      "    pay: 100000000\n",
      "    then:\n",
      "      timeout: 1666209811000\n",
      "      timeout_continuation: close\n",
      "      when:\n",
      "      - case:\n",
      "          deposits: 2000000\n",
      "          into_account:\n",
      "            address: addr_test1vr7n0zzth5zycuh972w7rdmh48qur4f3wu6ntn2m2h30dlcvltuy5\n",
      "          of_token:\n",
      "            currency_symbol: ''\n",
      "            token_name: ''\n",
      "          party:\n",
      "            address: addr_test1vr7n0zzth5zycuh972w7rdmh48qur4f3wu6ntn2m2h30dlcvltuy5\n",
      "        then:\n",
      "          from_account:\n",
      "            address: addr_test1vr7n0zzth5zycuh972w7rdmh48qur4f3wu6ntn2m2h30dlcvltuy5\n",
      "          pay: 2000000\n",
      "          then:\n",
      "            timeout: 1666209811000\n",
      "            timeout_continuation: close\n",
      "            when:\n",
      "            - case:\n",
      "                deposits: 100000000\n",
      "                into_account:\n",
      "                  address: addr_test1vr7n0zzth5zycuh972w7rdmh48qur4f3wu6ntn2m2h30dlcvltuy5\n",
      "                of_token:\n",
      "                  currency_symbol: ''\n",
      "                  token_name: ''\n",
      "                party:\n",
      "                  address: addr_test1vr7n0zzth5zycuh972w7rdmh48qur4f3wu6ntn2m2h30dlcvltuy5\n",
      "              then:\n",
      "                from_account:\n",
      "                  address: addr_test1vr7n0zzth5zycuh972w7rdmh48qur4f3wu6ntn2m2h30dlcvltuy5\n",
      "                pay: 100000000\n",
      "                then: close\n",
      "                to:\n",
      "                  party:\n",
      "                    address: addr_test1vqwt2xlr4d8yk4qws675exlqy6pdhq2s76wrehkjggkvr0cerfe8r\n",
      "                token:\n",
      "                  currency_symbol: ''\n",
      "                  token_name: ''\n",
      "          to:\n",
      "            party:\n",
      "              address: addr_test1vqwt2xlr4d8yk4qws675exlqy6pdhq2s76wrehkjggkvr0cerfe8r\n",
      "          token:\n",
      "            currency_symbol: ''\n",
      "            token_name: ''\n",
      "    to:\n",
      "      party:\n",
      "        address: addr_test1vr7n0zzth5zycuh972w7rdmh48qur4f3wu6ntn2m2h30dlcvltuy5\n",
      "    token:\n",
      "      currency_symbol: ''\n",
      "      token_name: ''\n"
     ]
    }
   ],
   "source": [
    "json2yaml history-1.contract"
   ]
  },
  {
   "cell_type": "markdown",
   "id": "03fd3d25-82b7-4cb0-a2ac-07be12ec5147",
   "metadata": {},
   "source": [
    "View the initial state."
   ]
  },
  {
   "cell_type": "code",
   "execution_count": 22,
   "id": "06aaed6b-3916-4ea5-8a1b-40c58cbe1aea",
   "metadata": {},
   "outputs": [
    {
     "name": "stdout",
     "output_type": "stream",
     "text": [
      "accounts:\n",
      "- - - address: addr_test1vqwt2xlr4d8yk4qws675exlqy6pdhq2s76wrehkjggkvr0cerfe8r\n",
      "    - currency_symbol: ''\n",
      "      token_name: ''\n",
      "  - 3000000\n",
      "boundValues: []\n",
      "choices: []\n",
      "minTime: 1\n"
     ]
    }
   ],
   "source": [
    "json2yaml history-1.state"
   ]
  },
  {
   "cell_type": "markdown",
   "id": "a1548c6e-3288-4a7e-90f4-6439edeb22ca",
   "metadata": {},
   "source": [
    "## Create two transactions so that they can be viewed by Marlowe History"
   ]
  },
  {
   "cell_type": "markdown",
   "id": "f2eb9ff2-86b8-437e-aa04-a1a38cebea9a",
   "metadata": {},
   "source": [
    "### Transaction 1. Create the contract"
   ]
  },
  {
   "cell_type": "markdown",
   "id": "8bb180fb-1d68-4501-9b32-d7f69104de6d",
   "metadata": {},
   "source": [
    "First we create a `.marlowe` file that contains the initial information needed to run the contract."
   ]
  },
  {
   "cell_type": "code",
   "execution_count": 23,
   "id": "a7641e72-ff1b-45c2-9552-021963aee59b",
   "metadata": {},
   "outputs": [
    {
     "name": "stdout",
     "output_type": "stream",
     "text": [
      "\n",
      "Validator size: 12505\n",
      "Base-validator cost: ExBudget {exBudgetCPU = ExCPU 18515100, exBudgetMemory = ExMemory 80600}\n"
     ]
    }
   ],
   "source": [
    "marlowe-cli run initialize \\\n",
    "  --contract-file history-1.contract \\\n",
    "  --state-file    history-1.state    \\\n",
    "  --out-file      history-1.marlowe  \\\n",
    "  --print-stats"
   ]
  },
  {
   "cell_type": "markdown",
   "id": "ab570c22-0af1-4168-9269-ebefce6bfa6d",
   "metadata": {},
   "source": [
    "Submit the transaction."
   ]
  },
  {
   "cell_type": "code",
   "execution_count": 24,
   "id": "33d55ddb-7ca9-455b-b369-1f26628e6aaf",
   "metadata": {},
   "outputs": [
    {
     "name": "stdout",
     "output_type": "stream",
     "text": [
      "\n",
      "Fee: Lovelace 220457\n",
      "Size: 1133 / 16384 = 6%\n",
      "Execution units:\n",
      "  Memory: 0 / 14000000 = 0%\n",
      "  Steps: 0 / 10000000000 = 0%\n",
      "TX_1 = fa5906a75134a1eb71b97c534f2b503285dfc107e76ff9fe7086b0694b2c12b0\n"
     ]
    }
   ],
   "source": [
    "TX_1=$(\n",
    "marlowe-cli run auto-execute \\\n",
    "  --marlowe-out-file history-1.marlowe \\\n",
    "  --required-signer \"$PARTY_SKEY\" \\\n",
    "  --change-address \"$PARTY_ADDR\" \\\n",
    "  --out-file history-1.txbody \\\n",
    "  --print-stats \\\n",
    "  --submit 600 \\\n",
    "| sed -e 's/^TxId \"\\(.*\\)\"$/\\1/'\n",
    ")\n",
    "echo \"TX_1 = $TX_1\""
   ]
  },
  {
   "cell_type": "markdown",
   "id": "58a521fc-0b0a-4d3e-b876-017c07a1fed3",
   "metadata": {},
   "source": [
    "The contract is identified by its first UTxO."
   ]
  },
  {
   "cell_type": "code",
   "execution_count": 25,
   "id": "4197b5e8-1287-4130-b636-cf2886ebb807",
   "metadata": {},
   "outputs": [
    {
     "name": "stdout",
     "output_type": "stream",
     "text": [
      "fa5906a75134a1eb71b97c534f2b503285dfc107e76ff9fe7086b0694b2c12b0#1\n"
     ]
    }
   ],
   "source": [
    "CONTRACT_ID=\"$TX_1#1\"\n",
    "echo \"$CONTRACT_ID\""
   ]
  },
  {
   "cell_type": "markdown",
   "id": "bc569ff3-a5b4-4d9f-b12f-1d51a250be64",
   "metadata": {},
   "source": [
    "### Transaction 2. Party deposits loan amount"
   ]
  },
  {
   "cell_type": "code",
   "execution_count": 26,
   "id": "5846a386-c8bb-461b-b361-485cc1aaf0d2",
   "metadata": {},
   "outputs": [
    {
     "name": "stdout",
     "output_type": "stream",
     "text": [
      "Rounding  `TransactionInput` txInterval boundries to:(POSIXTime {getPOSIXTime = 1666208611000},POSIXTime {getPOSIXTime = 1666209451999})\n",
      "TransactionInput {txInterval = (POSIXTime {getPOSIXTime = 1666208611000},POSIXTime {getPOSIXTime = 1666209451999}), txInputs = [NormalInput (IDeposit \"\\\"addr_test1vqwt2xlr4d8yk4qws675exlqy6pdhq2s76wrehkjggkvr0cerfe8r\\\"\" \"\\\"addr_test1vqwt2xlr4d8yk4qws675exlqy6pdhq2s76wrehkjggkvr0cerfe8r\\\"\" (Token \"\" \"\") 100000000)]}\n",
      "\n",
      "Datum size: 605\n",
      "Payment 1\n",
      "  Acccount: \"\\\"addr_test1vqwt2xlr4d8yk4qws675exlqy6pdhq2s76wrehkjggkvr0cerfe8r\\\"\"\n",
      "  Payee: Party \"\\\"addr_test1vr7n0zzth5zycuh972w7rdmh48qur4f3wu6ntn2m2h30dlcvltuy5\\\"\"\n",
      "  Ada: Lovelace {getLovelace = 100000000}\n"
     ]
    }
   ],
   "source": [
    "marlowe-cli run prepare \\\n",
    "  --marlowe-file history-1.marlowe \\\n",
    "  --out-file     history-2.marlowe \\\n",
    "  --deposit-account \"$PARTY_ADDR\" \\\n",
    "  --deposit-party \"$PARTY_ADDR\" \\\n",
    "  --deposit-amount \"$((PRINCIPAL*FIXED_POINT))\" \\\n",
    "  --invalid-before \"$((NOW-5*MINUTE))\" \\\n",
    "  --invalid-hereafter \"$((NOW+9*MINUTE))\" \\\n",
    "  --print-stats"
   ]
  },
  {
   "cell_type": "markdown",
   "id": "16457c4c-9940-4635-8b45-1d8b87bf5c9b",
   "metadata": {},
   "source": [
    "Submit the transaction."
   ]
  },
  {
   "cell_type": "code",
   "execution_count": 27,
   "id": "1dae52e2-8fb0-4f14-a5ae-a4fc03fe7d7d",
   "metadata": {},
   "outputs": [
    {
     "name": "stdout",
     "output_type": "stream",
     "text": [
      "\n",
      "Fee: Lovelace 1294779\n",
      "Size: 14464 / 16384 = 88%\n",
      "Execution units:\n",
      "  Memory: 6287250 / 14000000 = 44%\n",
      "  Steps: 1732252213 / 10000000000 = 17%\n",
      "TX_2 = c4945e5fb54f173c12b9ded77e41e105ddb14140c26dbf1b893a57589c6a85f2\n"
     ]
    }
   ],
   "source": [
    "TX_2=$(\n",
    "marlowe-cli run auto-execute \\\n",
    "  --tx-in-marlowe \"$TX_1#1\" \\\n",
    "  --marlowe-in-file  history-1.marlowe \\\n",
    "  --marlowe-out-file history-2.marlowe \\\n",
    "  --required-signer \"$PARTY_SKEY\" \\\n",
    "  --change-address \"$PARTY_ADDR\" \\\n",
    "  --out-file history-2.txbody \\\n",
    "  --print-stats \\\n",
    "  --submit 600 \\\n",
    "| sed -e 's/^TxId \"\\(.*\\)\"$/\\1/'\n",
    ")\n",
    "echo \"TX_2 = $TX_2\""
   ]
  },
  {
   "cell_type": "markdown",
   "id": "66893f14-30c7-4305-b3d7-ebd96fc5a10d",
   "metadata": {},
   "source": [
    "## Contract history commands"
   ]
  },
  {
   "cell_type": "markdown",
   "id": "3dd84f12-fce6-48e8-b5c8-ffa04af37b07",
   "metadata": {},
   "source": [
    "Several `marlowe` commands relate to contract history."
   ]
  },
  {
   "cell_type": "code",
   "execution_count": 28,
   "id": "4dd72025-c7f4-4176-8b08-299a9b433add",
   "metadata": {},
   "outputs": [
    {
     "name": "stdout",
     "output_type": "stream",
     "text": [
      "Usage: marlowe [--history-host HOST_NAME] [--history-command-port PORT_NUMBER] \n",
      "               [--history-query-port PORT_NUMBER] \n",
      "               [--history-sync-port PORT_NUMBER] [--discovery-host HOST_NAME] \n",
      "               [--discovery-query-port PORT_NUMBER] [--tx-host HOST_NAME] \n",
      "               [--tx-command-port PORT_NUMBER] (COMMAND | COMMAND | COMMAND)\n",
      "\n",
      "  Command line interface for managing Marlowe smart contracts on Cardano.\n",
      "\n",
      "Available options:\n",
      "  -h,--help                Show this help text\n",
      "  --history-host HOST_NAME The hostname of the Marlowe Runtime history server.\n",
      "                           Can be set as the environment variable\n",
      "                           MARLOWE_RT_HISTORY_HOST (default: \"127.0.0.1\")\n",
      "  --history-command-port PORT_NUMBER\n",
      "                           The port number of the history server's job API. Can\n",
      "                           be set as the environment variable\n",
      "                           MARLOWE_RT_HISTORY_COMMAND_PORT (default: 3717)\n",
      "  --history-query-port PORT_NUMBER\n",
      "                           The port number of the history server's query API.\n",
      "                           Can be set as the environment variable\n",
      "                           MARLOWE_RT_HISTORY_QUERY_PORT (default: 3718)\n",
      "  --history-sync-port PORT_NUMBER\n",
      "                           The port number of the history server's\n",
      "                           synchronization API. Can be set as the environment\n",
      "                           variable MARLOWE_RT_HISTORY_SYNC_PORT (default: 3719)\n",
      "  --discovery-host HOST_NAME\n",
      "                           The hostname of the Marlowe Runtime discovery server.\n",
      "                           Can be set as the environment variable\n",
      "                           MARLOWE_RT_DISCOVERY_HOST (default: \"127.0.0.1\")\n",
      "  --discovery-query-port PORT_NUMBER\n",
      "                           The port number of the discovery server's query API.\n",
      "                           Can be set as the environment variable\n",
      "                           MARLOWE_RT_DISCOVERY_QUERY_PORT (default: 3721)\n",
      "  --tx-host HOST_NAME      The hostname of the Marlowe Runtime transaction\n",
      "                           server. Can be set as the environment variable\n",
      "                           MARLOWE_RT_TX_HOST (default: \"127.0.0.1\")\n",
      "  --tx-command-port PORT_NUMBER\n",
      "                           The port number of the transaction server's job API.\n",
      "                           Can be set as the environment variable\n",
      "                           MARLOWE_RT_TX_COMMAND_PORT (default: 3723)\n",
      "\n",
      "Contract history commands\n",
      "  add                      Start managing a new contract\n",
      "  log                      Display the history of a contract\n",
      "  ls                       List managed contracts\n",
      "  rm                       Stop managing a contract\n",
      "\n",
      "Contract transaction commands\n",
      "  apply                    Apply inputs to a contract\n",
      "  advance                  Advance a timed-out contract by applying an empty set\n",
      "                           of inputs.\n",
      "  deposit                  Deposit funds into a contract\n",
      "  choose                   Notify a contract to proceed\n",
      "  notify                   Notify a contract to proceed\n",
      "  create                   Create a new Marlowe Contract\n",
      "  withdraw                 Withdraw funds paid to a role in a contract\n",
      "\n",
      "Low level commands\n",
      "  submit                   Submit a signed transaction to the Cardano node.\n",
      "                           Expects the CBOR bytes of the signed Tx from stdin.\n"
     ]
    }
   ],
   "source": [
    "marlowe --help"
   ]
  },
  {
   "cell_type": "markdown",
   "id": "65261468-988b-4049-b149-b65f98a26566",
   "metadata": {},
   "source": [
    "### Add the contract to Marlowe History"
   ]
  },
  {
   "cell_type": "code",
   "execution_count": 29,
   "id": "f6ee3cec-4a20-4b1d-9d2f-85518864b6e9",
   "metadata": {},
   "outputs": [
    {
     "name": "stdout",
     "output_type": "stream",
     "text": [
      "fa5906a75134a1eb71b97c534f2b503285dfc107e76ff9fe7086b0694b2c12b0#1\n"
     ]
    }
   ],
   "source": [
    "marlowe add \"$CONTRACT_ID\""
   ]
  },
  {
   "cell_type": "markdown",
   "id": "5bb96a99-d98a-4352-a4e8-f2055e3ada73",
   "metadata": {},
   "source": [
    "### List the contracts managed by Marlowe History"
   ]
  },
  {
   "cell_type": "code",
   "execution_count": 30,
   "id": "fd42f30f-f75e-4823-bf2f-4b8b9d4eb4ea",
   "metadata": {},
   "outputs": [
    {
     "name": "stdout",
     "output_type": "stream",
     "text": [
      "fa5906a75134a1eb71b97c534f2b503285dfc107e76ff9fe7086b0694b2c12b0#1 Status: Waiting (SomeMarloweVersion MarloweV1)\n"
     ]
    }
   ],
   "source": [
    "marlowe ls --show-status"
   ]
  },
  {
   "cell_type": "markdown",
   "id": "4dc22231-b3f1-4666-8e2d-782645caf5de",
   "metadata": {},
   "source": [
    "### Check removal of the contract from Marlowe History"
   ]
  },
  {
   "cell_type": "markdown",
   "id": "ec03cc55-3afa-4e2d-bc32-c4ca3efd4310",
   "metadata": {},
   "source": [
    "Remove it."
   ]
  },
  {
   "cell_type": "code",
   "execution_count": 31,
   "id": "7cfcb75a-71f4-4722-a711-8d33b3ca7020",
   "metadata": {},
   "outputs": [
    {
     "name": "stdout",
     "output_type": "stream",
     "text": [
      "fa5906a75134a1eb71b97c534f2b503285dfc107e76ff9fe7086b0694b2c12b0#1\n"
     ]
    }
   ],
   "source": [
    "marlowe rm \"$CONTRACT_ID\""
   ]
  },
  {
   "cell_type": "markdown",
   "id": "64995be9-dc16-49d7-bddb-1fd5c6975fa7",
   "metadata": {},
   "source": [
    "See that it has been removed."
   ]
  },
  {
   "cell_type": "code",
   "execution_count": 32,
   "id": "860f4865-c334-466b-bf96-43c5f137ea8e",
   "metadata": {},
   "outputs": [],
   "source": [
    "marlowe ls"
   ]
  },
  {
   "cell_type": "markdown",
   "id": "3bc8ac4f-cbea-42b1-8d3c-3fe098f57b56",
   "metadata": {},
   "source": [
    "Add it back."
   ]
  },
  {
   "cell_type": "code",
   "execution_count": 33,
   "id": "d9891b90-7964-4515-8271-848c5d924f79",
   "metadata": {},
   "outputs": [
    {
     "name": "stdout",
     "output_type": "stream",
     "text": [
      "fa5906a75134a1eb71b97c534f2b503285dfc107e76ff9fe7086b0694b2c12b0#1\n"
     ]
    }
   ],
   "source": [
    "marlowe add \"$CONTRACT_ID\""
   ]
  },
  {
   "cell_type": "code",
   "execution_count": 34,
   "id": "045b644b-dd0e-467a-bdb1-831f01323256",
   "metadata": {},
   "outputs": [
    {
     "name": "stdout",
     "output_type": "stream",
     "text": [
      "fa5906a75134a1eb71b97c534f2b503285dfc107e76ff9fe7086b0694b2c12b0#1\n"
     ]
    }
   ],
   "source": [
    "marlowe ls"
   ]
  },
  {
   "cell_type": "markdown",
   "id": "2172ae34-3a03-43a9-bc8c-9332c50087ba",
   "metadata": {
    "tags": []
   },
   "source": [
    "### List all Marlowe contracts"
   ]
  },
  {
   "cell_type": "code",
   "execution_count": 35,
   "id": "619aaf85-f10c-4757-80a1-a02d7d423fcf",
   "metadata": {},
   "outputs": [
    {
     "name": "stdout",
     "output_type": "stream",
     "text": [
      "301\n"
     ]
    }
   ],
   "source": [
    "marlowe ls --all --show-status | wc -l"
   ]
  },
  {
   "cell_type": "code",
   "execution_count": 36,
   "id": "46570f0e-2d7e-466f-85a2-c325dbd66f5f",
   "metadata": {},
   "outputs": [
    {
     "name": "stdout",
     "output_type": "stream",
     "text": [
      "00e6264722d6a02193cea60ad0c055f17fcbf4e69e0dae1f7c96a3eaf352038c#1 Status: not added\n",
      "02811e36c6cdac4721b53f718c4a1406e09ef0d985f9ad6b7fd676769e2f866c#1 Status: not added\n",
      "044a07c9b25be511295ac7cda31857a613a39228d0775851ffa69923abd69344#1 Status: not added\n",
      "045d4ac6f50c57cade58fd697b907ff0418637ba1eadb36392e04d1c5d489b21#1 Status: not added\n",
      "053a5b3eeeac7629e301cdc73f94d7b5f67af6846f80010b509b6d108191d937#1 Status: not added\n",
      "0552fc00860d35d45c09b4b43740193579adbeea5097cf33b62201332e3095ee#1 Status: not added\n",
      "05574d9d1935d2a5d2e3cb15e79d46b076e4c81d85bd2e12940ed47b628001be#1 Status: not added\n",
      "05990678496287262051fc831ff35903e383ffc564b943de76e78394a8ceb4cd#1 Status: not added\n",
      "059b32a85f41480ba6b83e210a8999f38d691ef1500286b9d67a769b74597a31#1 Status: not added\n",
      "061d29872aae0580496aecc8bed3a7a11d743c55d24f6d2c5c03c630cf89e899#1 Status: not added\n",
      "Marlowe discovery query client failure\n"
     ]
    }
   ],
   "source": [
    "marlowe ls --all --show-status | head"
   ]
  },
  {
   "cell_type": "markdown",
   "id": "6a146d8a-dd95-4461-b8eb-2547b5be28e6",
   "metadata": {},
   "source": [
    "<span style=\"color:red;font-weight:bold\">This reports a \"Marlowe discovery query client failure\" because `head` stops reading input.</span>"
   ]
  },
  {
   "cell_type": "markdown",
   "id": "a0df3d7a-593f-461b-bffb-7f521f289212",
   "metadata": {},
   "source": [
    "### See if there are any failed contracts"
   ]
  },
  {
   "cell_type": "code",
   "execution_count": 37,
   "id": "4ca2dc46-e332-4ed3-884e-78bf8586708b",
   "metadata": {},
   "outputs": [],
   "source": [
    "marlowe ls --all > all.tmp\n",
    "marlowe ls --all --show-failed > failed.tmp\n",
    "diff all.tmp failed.tmp"
   ]
  },
  {
   "cell_type": "markdown",
   "id": "b4db26db-cb9d-4eed-90e1-5a28052d5c16",
   "metadata": {},
   "source": [
    "<span style=\"color: red; font-weight: bold\">I think that <code>--show-failed</code> should <em>only</em> show the failed contracts, not all of them.</span>"
   ]
  },
  {
   "cell_type": "markdown",
   "id": "88785b2e-952b-4b05-9008-d32e40b8457a",
   "metadata": {},
   "source": [
    "### View the basic information about the contract"
   ]
  },
  {
   "cell_type": "code",
   "execution_count": 38,
   "id": "f5dc8481-b813-46ba-bc4f-bdd36915875a",
   "metadata": {},
   "outputs": [
    {
     "name": "stdout",
     "output_type": "stream",
     "text": [
      "\u001b[93mtransaction fa5906a75134a1eb71b97c534f2b503285dfc107e76ff9fe7086b0694b2c12b0 (creation)\n",
      "\u001b[0mContractId:      fa5906a75134a1eb71b97c534f2b503285dfc107e76ff9fe7086b0694b2c12b0#1\n",
      "SlotNo:          6205723\n",
      "BlockNo:         286690\n",
      "BlockId:         43ac040b0d2ca80253ad5bae13832c5ac5ec938b4af514a6abc2891391cfe924\n",
      "ScriptAddress:   addr_test1wp4f8ywk4fg672xasahtk4t9k6w3aql943uxz5rt62d4dvqu3c6jv\n",
      "Marlowe Version: 1\n",
      "\n",
      "\n",
      "\n",
      "\u001b[93mtransaction c4945e5fb54f173c12b9ded77e41e105ddb14140c26dbf1b893a57589c6a85f2\n",
      "\u001b[0mContractId: fa5906a75134a1eb71b97c534f2b503285dfc107e76ff9fe7086b0694b2c12b0#1\n",
      "SlotNo:     6205732\n",
      "BlockNo:    286691\n",
      "BlockId:    ebd93fbca1c95b61c66dda95fea46bb147ba4f1249ae32f2dee3ee251b8cc85a\n",
      "Inputs:     [NormalInput (IDeposit \"\\\"addr_test1vqwt2xlr4d8yk4qws675exlqy6pdhq2s76wrehkjggkvr0cerfe8r\\\"\" \"\\\"addr_test1vqwt2xlr4d8yk4qws675exlqy6pdhq2s76wrehkjggkvr0cerfe8r\\\"\" (Token \"\" \"\") 100000000)]\n",
      "\n",
      "\n"
     ]
    }
   ],
   "source": [
    "marlowe log \"$CONTRACT_ID\""
   ]
  },
  {
   "cell_type": "markdown",
   "id": "4d7a5e1a-2e59-44d0-afe8-11038b8c8447",
   "metadata": {},
   "source": [
    "### View the contract itself"
   ]
  },
  {
   "cell_type": "code",
   "execution_count": 39,
   "id": "ff7e4028-806e-4eef-8eb9-354668ab6358",
   "metadata": {},
   "outputs": [
    {
     "name": "stdout",
     "output_type": "stream",
     "text": [
      "\u001b[93mtransaction fa5906a75134a1eb71b97c534f2b503285dfc107e76ff9fe7086b0694b2c12b0 (creation)\n",
      "\u001b[0mContractId:      fa5906a75134a1eb71b97c534f2b503285dfc107e76ff9fe7086b0694b2c12b0#1\n",
      "SlotNo:          6205723\n",
      "BlockNo:         286690\n",
      "BlockId:         43ac040b0d2ca80253ad5bae13832c5ac5ec938b4af514a6abc2891391cfe924\n",
      "ScriptAddress:   addr_test1wp4f8ywk4fg672xasahtk4t9k6w3aql943uxz5rt62d4dvqu3c6jv\n",
      "Marlowe Version: 1\n",
      "\n",
      "    When [\n",
      "      (Case\n",
      "         (Deposit Address \"addr_test1vqwt2xlr4d8yk4qws675exlqy6pdhq2s76wrehkjggkvr0cerfe8r\" Address \"addr_test1vqwt2xlr4d8yk4qws675exlqy6pdhq2s76wrehkjggkvr0cerfe8r\"\n",
      "            (Token \"\" \"\")\n",
      "            (NegValue\n",
      "               (NegValue\n",
      "                  (Constant 100000000))))\n",
      "         (Pay Address \"addr_test1vqwt2xlr4d8yk4qws675exlqy6pdhq2s76wrehkjggkvr0cerfe8r\"\n",
      "            (Party Address \"addr_test1vr7n0zzth5zycuh972w7rdmh48qur4f3wu6ntn2m2h30dlcvltuy5\")\n",
      "            (Token \"\" \"\")\n",
      "            (Constant 100000000)\n",
      "            (When [\n",
      "               (Case\n",
      "                  (Deposit Address \"addr_test1vr7n0zzth5zycuh972w7rdmh48qur4f3wu6ntn2m2h30dlcvltuy5\" Address \"addr_test1vr7n0zzth5zycuh972w7rdmh48qur4f3wu6ntn2m2h30dlcvltuy5\"\n",
      "                     (Token \"\" \"\")\n",
      "                     (Constant 2000000))\n",
      "                  (Pay Address \"addr_test1vr7n0zzth5zycuh972w7rdmh48qur4f3wu6ntn2m2h30dlcvltuy5\"\n",
      "                     (Party Address \"addr_test1vqwt2xlr4d8yk4qws675exlqy6pdhq2s76wrehkjggkvr0cerfe8r\")\n",
      "                     (Token \"\" \"\")\n",
      "                     (Constant 2000000)\n",
      "                     (When [\n",
      "                        (Case\n",
      "                           (Deposit Address \"addr_test1vr7n0zzth5zycuh972w7rdmh48qur4f3wu6ntn2m2h30dlcvltuy5\" Address \"addr_test1vr7n0zzth5zycuh972w7rdmh48qur4f3wu6ntn2m2h30dlcvltuy5\"\n",
      "                              (Token \"\" \"\")\n",
      "                              (Constant 100000000))\n",
      "                           (Pay Address \"addr_test1vr7n0zzth5zycuh972w7rdmh48qur4f3wu6ntn2m2h30dlcvltuy5\"\n",
      "                              (Party Address \"addr_test1vqwt2xlr4d8yk4qws675exlqy6pdhq2s76wrehkjggkvr0cerfe8r\")\n",
      "                              (Token \"\" \"\")\n",
      "                              (Constant 100000000) Close))] 1666209811000 Close)))] 1666209811000 Close)))] 1666209511000 Close\n",
      "\n",
      "\u001b[93mtransaction c4945e5fb54f173c12b9ded77e41e105ddb14140c26dbf1b893a57589c6a85f2\n",
      "\u001b[0mContractId: fa5906a75134a1eb71b97c534f2b503285dfc107e76ff9fe7086b0694b2c12b0#1\n",
      "SlotNo:     6205732\n",
      "BlockNo:    286691\n",
      "BlockId:    ebd93fbca1c95b61c66dda95fea46bb147ba4f1249ae32f2dee3ee251b8cc85a\n",
      "Inputs:     [NormalInput (IDeposit \"\\\"addr_test1vqwt2xlr4d8yk4qws675exlqy6pdhq2s76wrehkjggkvr0cerfe8r\\\"\" \"\\\"addr_test1vqwt2xlr4d8yk4qws675exlqy6pdhq2s76wrehkjggkvr0cerfe8r\\\"\" (Token \"\" \"\") 100000000)]\n",
      "\n",
      "    When [\n",
      "      (Case\n",
      "         (Deposit Address \"addr_test1vr7n0zzth5zycuh972w7rdmh48qur4f3wu6ntn2m2h30dlcvltuy5\" Address \"addr_test1vr7n0zzth5zycuh972w7rdmh48qur4f3wu6ntn2m2h30dlcvltuy5\"\n",
      "            (Token \"\" \"\")\n",
      "            (Constant 2000000))\n",
      "         (Pay Address \"addr_test1vr7n0zzth5zycuh972w7rdmh48qur4f3wu6ntn2m2h30dlcvltuy5\"\n",
      "            (Party Address \"addr_test1vqwt2xlr4d8yk4qws675exlqy6pdhq2s76wrehkjggkvr0cerfe8r\")\n",
      "            (Token \"\" \"\")\n",
      "            (Constant 2000000)\n",
      "            (When [\n",
      "               (Case\n",
      "                  (Deposit Address \"addr_test1vr7n0zzth5zycuh972w7rdmh48qur4f3wu6ntn2m2h30dlcvltuy5\" Address \"addr_test1vr7n0zzth5zycuh972w7rdmh48qur4f3wu6ntn2m2h30dlcvltuy5\"\n",
      "                     (Token \"\" \"\")\n",
      "                     (Constant 100000000))\n",
      "                  (Pay Address \"addr_test1vr7n0zzth5zycuh972w7rdmh48qur4f3wu6ntn2m2h30dlcvltuy5\"\n",
      "                     (Party Address \"addr_test1vqwt2xlr4d8yk4qws675exlqy6pdhq2s76wrehkjggkvr0cerfe8r\")\n",
      "                     (Token \"\" \"\")\n",
      "                     (Constant 100000000) Close))] 1666209811000 Close)))] 1666209811000 Close\n",
      "\n"
     ]
    }
   ],
   "source": [
    "marlowe log --show-contract \"$CONTRACT_ID\""
   ]
  },
  {
   "cell_type": "markdown",
   "id": "47e4c8ab-093a-453f-8086-0bfe35d07356",
   "metadata": {},
   "source": [
    "## Finish running the contract"
   ]
  },
  {
   "cell_type": "markdown",
   "id": "3408aafb-807d-4de0-867b-f99617f8e8b4",
   "metadata": {},
   "source": [
    "### Transaction 3. Counterparty repays the loan's interest"
   ]
  },
  {
   "cell_type": "code",
   "execution_count": 40,
   "id": "554efe78-d9c9-45b9-972d-bce981f3e43d",
   "metadata": {},
   "outputs": [
    {
     "name": "stdout",
     "output_type": "stream",
     "text": [
      "Rounding  `TransactionInput` txInterval boundries to:(POSIXTime {getPOSIXTime = 1666208611000},POSIXTime {getPOSIXTime = 1666209451999})\n",
      "TransactionInput {txInterval = (POSIXTime {getPOSIXTime = 1666208611000},POSIXTime {getPOSIXTime = 1666209451999}), txInputs = [NormalInput (IDeposit \"\\\"addr_test1vr7n0zzth5zycuh972w7rdmh48qur4f3wu6ntn2m2h30dlcvltuy5\\\"\" \"\\\"addr_test1vr7n0zzth5zycuh972w7rdmh48qur4f3wu6ntn2m2h30dlcvltuy5\\\"\" (Token \"\" \"\") 2000000)]}\n",
      "\n",
      "Datum size: 349\n",
      "Payment 1\n",
      "  Acccount: \"\\\"addr_test1vr7n0zzth5zycuh972w7rdmh48qur4f3wu6ntn2m2h30dlcvltuy5\\\"\"\n",
      "  Payee: Party \"\\\"addr_test1vqwt2xlr4d8yk4qws675exlqy6pdhq2s76wrehkjggkvr0cerfe8r\\\"\"\n",
      "  Ada: Lovelace {getLovelace = 2000000}\n"
     ]
    }
   ],
   "source": [
    "marlowe-cli run prepare \\\n",
    "  --marlowe-file history-2.marlowe \\\n",
    "  --out-file     history-3.marlowe \\\n",
    "  --deposit-account \"$COUNTERPARTY_ADDR\" \\\n",
    "  --deposit-party \"$COUNTERPARTY_ADDR\" \\\n",
    "  --deposit-amount \"$((INTEREST*FIXED_POINT))\" \\\n",
    "  --invalid-before \"$((NOW-5*MINUTE))\" \\\n",
    "  --invalid-hereafter \"$((NOW+9*MINUTE))\" \\\n",
    "  --print-stats"
   ]
  },
  {
   "cell_type": "code",
   "execution_count": 41,
   "id": "09d82281-7d84-4326-98c8-e3c28c0f207c",
   "metadata": {},
   "outputs": [
    {
     "name": "stdout",
     "output_type": "stream",
     "text": [
      "\n",
      "Fee: Lovelace 1233027\n",
      "Size: 13952 / 16384 = 85%\n",
      "Execution units:\n",
      "  Memory: 5815658 / 14000000 = 41%\n",
      "  Steps: 1565634381 / 10000000000 = 15%\n",
      "TX_3 = 6f19ed7f9bae49445d64a379d2f537335859a788c1d621b2abedac6e8b78bda3\n"
     ]
    }
   ],
   "source": [
    "TX_3=$(\n",
    "marlowe-cli run auto-execute \\\n",
    "  --tx-in-marlowe \"$TX_2#1\" \\\n",
    "  --marlowe-in-file  history-2.marlowe \\\n",
    "  --marlowe-out-file history-3.marlowe \\\n",
    "  --required-signer \"$COUNTERPARTY_SKEY\" \\\n",
    "  --change-address \"$COUNTERPARTY_ADDR\" \\\n",
    "  --out-file history-3.txbody \\\n",
    "  --print-stats \\\n",
    "  --submit 600 \\\n",
    "| sed -e 's/^TxId \"\\(.*\\)\"$/\\1/'\n",
    ")\n",
    "echo \"TX_3 = $TX_3\""
   ]
  },
  {
   "cell_type": "markdown",
   "id": "1f1223e2-580a-4709-8503-303b5f4d85f4",
   "metadata": {},
   "source": [
    "### Transaction 4. Counterparty repays the loan's principal"
   ]
  },
  {
   "cell_type": "code",
   "execution_count": 42,
   "id": "ec54a522-a3e8-4cd6-9ea7-240752157aad",
   "metadata": {},
   "outputs": [
    {
     "name": "stdout",
     "output_type": "stream",
     "text": [
      "Rounding  `TransactionInput` txInterval boundries to:(POSIXTime {getPOSIXTime = 1666208611000},POSIXTime {getPOSIXTime = 1666209451999})\n",
      "TransactionInput {txInterval = (POSIXTime {getPOSIXTime = 1666208611000},POSIXTime {getPOSIXTime = 1666209451999}), txInputs = [NormalInput (IDeposit \"\\\"addr_test1vr7n0zzth5zycuh972w7rdmh48qur4f3wu6ntn2m2h30dlcvltuy5\\\"\" \"\\\"addr_test1vr7n0zzth5zycuh972w7rdmh48qur4f3wu6ntn2m2h30dlcvltuy5\\\"\" (Token \"\" \"\") 100000000)]}\n",
      "\n",
      "Datum size: 30\n",
      "Payment 1\n",
      "  Acccount: \"\\\"addr_test1vr7n0zzth5zycuh972w7rdmh48qur4f3wu6ntn2m2h30dlcvltuy5\\\"\"\n",
      "  Payee: Party \"\\\"addr_test1vqwt2xlr4d8yk4qws675exlqy6pdhq2s76wrehkjggkvr0cerfe8r\\\"\"\n",
      "  Ada: Lovelace {getLovelace = 100000000}\n",
      "Payment 2\n",
      "  Acccount: \"\\\"addr_test1vqwt2xlr4d8yk4qws675exlqy6pdhq2s76wrehkjggkvr0cerfe8r\\\"\"\n",
      "  Payee: Party \"\\\"addr_test1vqwt2xlr4d8yk4qws675exlqy6pdhq2s76wrehkjggkvr0cerfe8r\\\"\"\n",
      "  Ada: Lovelace {getLovelace = 3000000}\n"
     ]
    }
   ],
   "source": [
    "marlowe-cli run prepare \\\n",
    "  --marlowe-file history-3.marlowe \\\n",
    "  --out-file     history-4.marlowe \\\n",
    "  --deposit-account \"$COUNTERPARTY_ADDR\" \\\n",
    "  --deposit-party \"$COUNTERPARTY_ADDR\" \\\n",
    "  --deposit-amount \"$((PRINCIPAL*FIXED_POINT))\" \\\n",
    "  --invalid-before \"$((NOW-5*MINUTE))\" \\\n",
    "  --invalid-hereafter \"$((NOW+9*MINUTE))\" \\\n",
    "  --print-stats"
   ]
  },
  {
   "cell_type": "code",
   "execution_count": 43,
   "id": "db39c6d5-0b30-4427-b81c-c4884b655375",
   "metadata": {},
   "outputs": [
    {
     "name": "stdout",
     "output_type": "stream",
     "text": [
      "\n",
      "Fee: Lovelace 1078968\n",
      "Size: 13273 / 16384 = 81%\n",
      "Execution units:\n",
      "  Memory: 4210566 / 14000000 = 30%\n",
      "  Steps: 1127777514 / 10000000000 = 11%\n",
      "TX_4 = 54054c66bf46a00b16a9443e2da77c2888f8841bd2e549c3b60bdaa627679608\n"
     ]
    }
   ],
   "source": [
    "TX_4=$(\n",
    "marlowe-cli run auto-execute \\\n",
    "  --tx-in-marlowe \"$TX_3#1\" \\\n",
    "  --marlowe-in-file  history-3.marlowe \\\n",
    "  --marlowe-out-file history-4.marlowe \\\n",
    "  --required-signer \"$COUNTERPARTY_SKEY\" \\\n",
    "  --change-address \"$COUNTERPARTY_ADDR\" \\\n",
    "  --out-file history-4.txbody \\\n",
    "  --print-stats \\\n",
    "| sed -e 's/^TxId \"\\(.*\\)\"$/\\1/'\n",
    ")\n",
    "echo \"TX_4 = $TX_4\""
   ]
  },
  {
   "cell_type": "markdown",
   "id": "c59bed4c-48b4-4a23-bb40-8636ea9ed9c6",
   "metadata": {},
   "source": [
    "The contract has closed."
   ]
  },
  {
   "cell_type": "code",
   "execution_count": 44,
   "id": "d678fb1a-997e-408d-b5bf-376ab2accfd1",
   "metadata": {},
   "outputs": [
    {
     "name": "stdout",
     "output_type": "stream",
     "text": [
      "close\n",
      "...\n"
     ]
    }
   ],
   "source": [
    "jq '.tx.contract' history-4.marlowe | json2yaml"
   ]
  },
  {
   "cell_type": "markdown",
   "id": "b1a1e2f9-e63e-4c3c-af24-f1c7b456c9b5",
   "metadata": {},
   "source": [
    "<span style=\"color: red; font-weight: bold\">The contract has closed, but it looks like Marlowe History thinks it is still open:</span>"
   ]
  },
  {
   "cell_type": "code",
   "execution_count": 45,
   "id": "55898aad-9040-432a-913f-b2ddde6ac662",
   "metadata": {},
   "outputs": [
    {
     "name": "stdout",
     "output_type": "stream",
     "text": [
      "fa5906a75134a1eb71b97c534f2b503285dfc107e76ff9fe7086b0694b2c12b0#1 Status: Waiting (SomeMarloweVersion MarloweV1)\n"
     ]
    }
   ],
   "source": [
    "marlowe ls --show-status"
   ]
  },
  {
   "cell_type": "code",
   "execution_count": 46,
   "id": "0ba8d62c-f35b-4cf5-ab6f-e52ff2041b11",
   "metadata": {},
   "outputs": [
    {
     "name": "stdout",
     "output_type": "stream",
     "text": [
      "\u001b[93mtransaction fa5906a75134a1eb71b97c534f2b503285dfc107e76ff9fe7086b0694b2c12b0 (creation)\n",
      "\u001b[0mContractId:      fa5906a75134a1eb71b97c534f2b503285dfc107e76ff9fe7086b0694b2c12b0#1\n",
      "SlotNo:          6205723\n",
      "BlockNo:         286690\n",
      "BlockId:         43ac040b0d2ca80253ad5bae13832c5ac5ec938b4af514a6abc2891391cfe924\n",
      "ScriptAddress:   addr_test1wp4f8ywk4fg672xasahtk4t9k6w3aql943uxz5rt62d4dvqu3c6jv\n",
      "Marlowe Version: 1\n",
      "\n",
      "\n",
      "\n",
      "\u001b[93mtransaction c4945e5fb54f173c12b9ded77e41e105ddb14140c26dbf1b893a57589c6a85f2\n",
      "\u001b[0mContractId: fa5906a75134a1eb71b97c534f2b503285dfc107e76ff9fe7086b0694b2c12b0#1\n",
      "SlotNo:     6205732\n",
      "BlockNo:    286691\n",
      "BlockId:    ebd93fbca1c95b61c66dda95fea46bb147ba4f1249ae32f2dee3ee251b8cc85a\n",
      "Inputs:     [NormalInput (IDeposit \"\\\"addr_test1vqwt2xlr4d8yk4qws675exlqy6pdhq2s76wrehkjggkvr0cerfe8r\\\"\" \"\\\"addr_test1vqwt2xlr4d8yk4qws675exlqy6pdhq2s76wrehkjggkvr0cerfe8r\\\"\" (Token \"\" \"\") 100000000)]\n",
      "\n",
      "\n",
      "\u001b[93mtransaction 6f19ed7f9bae49445d64a379d2f537335859a788c1d621b2abedac6e8b78bda3\n",
      "\u001b[0mContractId: fa5906a75134a1eb71b97c534f2b503285dfc107e76ff9fe7086b0694b2c12b0#1\n",
      "SlotNo:     6205743\n",
      "BlockNo:    286694\n",
      "BlockId:    a8391402b1637cd4f9191296764564164a19bd131eb10f73f93ad0c528cda5ad\n",
      "Inputs:     [NormalInput (IDeposit \"\\\"addr_test1vr7n0zzth5zycuh972w7rdmh48qur4f3wu6ntn2m2h30dlcvltuy5\\\"\" \"\\\"addr_test1vr7n0zzth5zycuh972w7rdmh48qur4f3wu6ntn2m2h30dlcvltuy5\\\"\" (Token \"\" \"\") 2000000)]\n",
      "\n",
      "\n"
     ]
    }
   ],
   "source": [
    "marlowe log \"$CONTRACT_ID\""
   ]
  },
  {
   "cell_type": "code",
   "execution_count": 47,
   "id": "acbe339f-3165-4bb4-b2c8-f06abee25535",
   "metadata": {},
   "outputs": [
    {
     "name": "stdout",
     "output_type": "stream",
     "text": [
      "\u001b[93mtransaction fa5906a75134a1eb71b97c534f2b503285dfc107e76ff9fe7086b0694b2c12b0 (creation)\n",
      "\u001b[0mContractId:      fa5906a75134a1eb71b97c534f2b503285dfc107e76ff9fe7086b0694b2c12b0#1\n",
      "SlotNo:          6205723\n",
      "BlockNo:         286690\n",
      "BlockId:         43ac040b0d2ca80253ad5bae13832c5ac5ec938b4af514a6abc2891391cfe924\n",
      "ScriptAddress:   addr_test1wp4f8ywk4fg672xasahtk4t9k6w3aql943uxz5rt62d4dvqu3c6jv\n",
      "Marlowe Version: 1\n",
      "\n",
      "    When [\n",
      "      (Case\n",
      "         (Deposit Address \"addr_test1vqwt2xlr4d8yk4qws675exlqy6pdhq2s76wrehkjggkvr0cerfe8r\" Address \"addr_test1vqwt2xlr4d8yk4qws675exlqy6pdhq2s76wrehkjggkvr0cerfe8r\"\n",
      "            (Token \"\" \"\")\n",
      "            (NegValue\n",
      "               (NegValue\n",
      "                  (Constant 100000000))))\n",
      "         (Pay Address \"addr_test1vqwt2xlr4d8yk4qws675exlqy6pdhq2s76wrehkjggkvr0cerfe8r\"\n",
      "            (Party Address \"addr_test1vr7n0zzth5zycuh972w7rdmh48qur4f3wu6ntn2m2h30dlcvltuy5\")\n",
      "            (Token \"\" \"\")\n",
      "            (Constant 100000000)\n",
      "            (When [\n",
      "               (Case\n",
      "                  (Deposit Address \"addr_test1vr7n0zzth5zycuh972w7rdmh48qur4f3wu6ntn2m2h30dlcvltuy5\" Address \"addr_test1vr7n0zzth5zycuh972w7rdmh48qur4f3wu6ntn2m2h30dlcvltuy5\"\n",
      "                     (Token \"\" \"\")\n",
      "                     (Constant 2000000))\n",
      "                  (Pay Address \"addr_test1vr7n0zzth5zycuh972w7rdmh48qur4f3wu6ntn2m2h30dlcvltuy5\"\n",
      "                     (Party Address \"addr_test1vqwt2xlr4d8yk4qws675exlqy6pdhq2s76wrehkjggkvr0cerfe8r\")\n",
      "                     (Token \"\" \"\")\n",
      "                     (Constant 2000000)\n",
      "                     (When [\n",
      "                        (Case\n",
      "                           (Deposit Address \"addr_test1vr7n0zzth5zycuh972w7rdmh48qur4f3wu6ntn2m2h30dlcvltuy5\" Address \"addr_test1vr7n0zzth5zycuh972w7rdmh48qur4f3wu6ntn2m2h30dlcvltuy5\"\n",
      "                              (Token \"\" \"\")\n",
      "                              (Constant 100000000))\n",
      "                           (Pay Address \"addr_test1vr7n0zzth5zycuh972w7rdmh48qur4f3wu6ntn2m2h30dlcvltuy5\"\n",
      "                              (Party Address \"addr_test1vqwt2xlr4d8yk4qws675exlqy6pdhq2s76wrehkjggkvr0cerfe8r\")\n",
      "                              (Token \"\" \"\")\n",
      "                              (Constant 100000000) Close))] 1666209811000 Close)))] 1666209811000 Close)))] 1666209511000 Close\n",
      "\n",
      "\u001b[93mtransaction c4945e5fb54f173c12b9ded77e41e105ddb14140c26dbf1b893a57589c6a85f2\n",
      "\u001b[0mContractId: fa5906a75134a1eb71b97c534f2b503285dfc107e76ff9fe7086b0694b2c12b0#1\n",
      "SlotNo:     6205732\n",
      "BlockNo:    286691\n",
      "BlockId:    ebd93fbca1c95b61c66dda95fea46bb147ba4f1249ae32f2dee3ee251b8cc85a\n",
      "Inputs:     [NormalInput (IDeposit \"\\\"addr_test1vqwt2xlr4d8yk4qws675exlqy6pdhq2s76wrehkjggkvr0cerfe8r\\\"\" \"\\\"addr_test1vqwt2xlr4d8yk4qws675exlqy6pdhq2s76wrehkjggkvr0cerfe8r\\\"\" (Token \"\" \"\") 100000000)]\n",
      "\n",
      "    When [\n",
      "      (Case\n",
      "         (Deposit Address \"addr_test1vr7n0zzth5zycuh972w7rdmh48qur4f3wu6ntn2m2h30dlcvltuy5\" Address \"addr_test1vr7n0zzth5zycuh972w7rdmh48qur4f3wu6ntn2m2h30dlcvltuy5\"\n",
      "            (Token \"\" \"\")\n",
      "            (Constant 2000000))\n",
      "         (Pay Address \"addr_test1vr7n0zzth5zycuh972w7rdmh48qur4f3wu6ntn2m2h30dlcvltuy5\"\n",
      "            (Party Address \"addr_test1vqwt2xlr4d8yk4qws675exlqy6pdhq2s76wrehkjggkvr0cerfe8r\")\n",
      "            (Token \"\" \"\")\n",
      "            (Constant 2000000)\n",
      "            (When [\n",
      "               (Case\n",
      "                  (Deposit Address \"addr_test1vr7n0zzth5zycuh972w7rdmh48qur4f3wu6ntn2m2h30dlcvltuy5\" Address \"addr_test1vr7n0zzth5zycuh972w7rdmh48qur4f3wu6ntn2m2h30dlcvltuy5\"\n",
      "                     (Token \"\" \"\")\n",
      "                     (Constant 100000000))\n",
      "                  (Pay Address \"addr_test1vr7n0zzth5zycuh972w7rdmh48qur4f3wu6ntn2m2h30dlcvltuy5\"\n",
      "                     (Party Address \"addr_test1vqwt2xlr4d8yk4qws675exlqy6pdhq2s76wrehkjggkvr0cerfe8r\")\n",
      "                     (Token \"\" \"\")\n",
      "                     (Constant 100000000) Close))] 1666209811000 Close)))] 1666209811000 Close\n",
      "\n",
      "\u001b[93mtransaction 6f19ed7f9bae49445d64a379d2f537335859a788c1d621b2abedac6e8b78bda3\n",
      "\u001b[0mContractId: fa5906a75134a1eb71b97c534f2b503285dfc107e76ff9fe7086b0694b2c12b0#1\n",
      "SlotNo:     6205743\n",
      "BlockNo:    286694\n",
      "BlockId:    a8391402b1637cd4f9191296764564164a19bd131eb10f73f93ad0c528cda5ad\n",
      "Inputs:     [NormalInput (IDeposit \"\\\"addr_test1vr7n0zzth5zycuh972w7rdmh48qur4f3wu6ntn2m2h30dlcvltuy5\\\"\" \"\\\"addr_test1vr7n0zzth5zycuh972w7rdmh48qur4f3wu6ntn2m2h30dlcvltuy5\\\"\" (Token \"\" \"\") 2000000)]\n",
      "\n",
      "    When [\n",
      "      (Case\n",
      "         (Deposit Address \"addr_test1vr7n0zzth5zycuh972w7rdmh48qur4f3wu6ntn2m2h30dlcvltuy5\" Address \"addr_test1vr7n0zzth5zycuh972w7rdmh48qur4f3wu6ntn2m2h30dlcvltuy5\"\n",
      "            (Token \"\" \"\")\n",
      "            (Constant 100000000))\n",
      "         (Pay Address \"addr_test1vr7n0zzth5zycuh972w7rdmh48qur4f3wu6ntn2m2h30dlcvltuy5\"\n",
      "            (Party Address \"addr_test1vqwt2xlr4d8yk4qws675exlqy6pdhq2s76wrehkjggkvr0cerfe8r\")\n",
      "            (Token \"\" \"\")\n",
      "            (Constant 100000000) Close))] 1666209811000 Close\n",
      "\n"
     ]
    }
   ],
   "source": [
    "marlowe log --show-contract \"$CONTRACT_ID\""
   ]
  },
  {
   "cell_type": "markdown",
   "id": "c0ccaa90-d5d4-49b5-870c-d6429ed64ae0",
   "metadata": {},
   "source": [
    "## Cleanup"
   ]
  },
  {
   "cell_type": "markdown",
   "id": "a3a4afa4-2756-4a37-b7f2-74aed62f8161",
   "metadata": {},
   "source": [
    "Stop following the contract."
   ]
  },
  {
   "cell_type": "code",
   "execution_count": 48,
   "id": "225ae623-948d-491f-a5b0-c06553ca6c88",
   "metadata": {},
   "outputs": [
    {
     "name": "stdout",
     "output_type": "stream",
     "text": [
      "fa5906a75134a1eb71b97c534f2b503285dfc107e76ff9fe7086b0694b2c12b0#1\n"
     ]
    }
   ],
   "source": [
    "marlowe rm \"$CONTRACT_ID\""
   ]
  },
  {
   "cell_type": "code",
   "execution_count": 49,
   "id": "681ba1e0-8c31-44b5-af7c-e28c99d162f4",
   "metadata": {},
   "outputs": [],
   "source": [
    "marlowe ls"
   ]
  },
  {
   "cell_type": "markdown",
   "id": "b6916f2a-426a-4c31-8499-610f83df1d7c",
   "metadata": {},
   "source": [
    "Consolidate the UTxOs at the addresses."
   ]
  },
  {
   "cell_type": "code",
   "execution_count": 50,
   "id": "303c1567-db4f-4659-a032-31706072ba15",
   "metadata": {},
   "outputs": [
    {
     "name": "stdout",
     "output_type": "stream",
     "text": [
      "TxId \"f94563f8c95e0c6667f9405fbf0d99d04fadb655edcf9faabe2fe52d9ed6fb0e\"\n"
     ]
    }
   ],
   "source": [
    "marlowe-cli util clean \\\n",
    "  --change-address \"$PARTY_ADDR\" \\\n",
    "  --required-signer \"$PARTY_SKEY\" \\\n",
    "  --out-file /dev/null \\\n",
    "  --submit 600"
   ]
  },
  {
   "cell_type": "code",
   "execution_count": 51,
   "id": "3084ac48-3e9f-4399-aba8-a5fa487006c0",
   "metadata": {},
   "outputs": [
    {
     "name": "stdout",
     "output_type": "stream",
     "text": [
      "TxId \"4f1871ed4f2ba0333adb1d4b71b7c3664b814c18d50cf1ef3532001576207d65\"\n"
     ]
    }
   ],
   "source": [
    "marlowe-cli util clean \\\n",
    "  --change-address \"$COUNTERPARTY_ADDR\" \\\n",
    "  --required-signer \"$COUNTERPARTY_SKEY\" \\\n",
    "  --out-file /dev/null \\\n",
    "  --submit 600"
   ]
  },
  {
   "cell_type": "markdown",
   "id": "5ddc612f-57ca-4e17-96f2-658baa3ef7e8",
   "metadata": {},
   "source": [
    "Send the funds back to the faucet."
   ]
  },
  {
   "cell_type": "code",
   "execution_count": 52,
   "id": "a300a576-a800-4fdd-9d45-bc6cc3c901a8",
   "metadata": {},
   "outputs": [
    {
     "name": "stdout",
     "output_type": "stream",
     "text": [
      "TxId \"4d1f47687540c7733e3543c76baf0b1ae179f7d6811ff35f8f4acba8efa80e8f\"\n"
     ]
    }
   ],
   "source": [
    "marlowe-cli transaction simple \\\n",
    "  --tx-in \"$(marlowe-cli util select --lovelace-only 1 \"$PARTY_ADDR\" | sed -n -e 's/^TxIn \"\\(.*\\)\" (TxIx \\(.*\\))$/\\1#\\2/;1p')\" \\\n",
    "  --tx-in \"$(marlowe-cli util select --lovelace-only 1 \"$COUNTERPARTY_ADDR\" | sed -n -e 's/^TxIn \"\\(.*\\)\" (TxIx \\(.*\\))$/\\1#\\2/;1p')\" \\\n",
    "  --required-signer \"$PARTY_SKEY\" \\\n",
    "  --required-signer \"$COUNTERPARTY_SKEY\" \\\n",
    "  --change-address \"$FAUCET_ADDR\" \\\n",
    "  --out-file /dev/null \\\n",
    "  --submit 600"
   ]
  },
  {
   "cell_type": "markdown",
   "id": "0b9721cf-1b95-4c6e-b202-09bb714dabe0",
   "metadata": {},
   "source": [
    "See that the funds have been returned to the faucet."
   ]
  },
  {
   "cell_type": "code",
   "execution_count": 53,
   "id": "263fbbe3-0e77-4a66-bee1-26f10bbbdc11",
   "metadata": {},
   "outputs": [
    {
     "name": "stdout",
     "output_type": "stream",
     "text": [
      "                           TxHash                                 TxIx        Amount\n",
      "--------------------------------------------------------------------------------------\n"
     ]
    }
   ],
   "source": [
    "cardano-cli query utxo \"${MAGIC[@]}\" --address \"$PARTY_ADDR\" --address \"$COUNTERPARTY_ADDR\""
   ]
  }
 ],
 "metadata": {
  "kernelspec": {
   "display_name": "Bash - Marlowe",
   "language": "bash",
   "name": "bash_marlowe"
  },
  "language_info": {
   "codemirror_mode": "shell",
   "file_extension": ".sh",
   "mimetype": "text/x-sh",
   "name": "/nix/store/2ispfz80kmwrsvwndxkxs56irn86h43p-bash-5.1-p16/bin/bash"
  }
 },
 "nbformat": 4,
 "nbformat_minor": 5
}
