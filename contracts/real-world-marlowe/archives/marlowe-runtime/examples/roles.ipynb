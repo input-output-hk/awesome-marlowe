{
 "cells": [
  {
   "cell_type": "code",
   "execution_count": 1,
   "id": "c2b997ff-7487-4181-a96d-83057ca11994",
   "metadata": {},
   "outputs": [],
   "source": [
    "#!/usr/bin/env bash"
   ]
  },
  {
   "cell_type": "markdown",
   "id": "29ad9b87-6812-4d1b-888b-c255e9be9eae",
   "metadata": {},
   "source": [
    "<span style=\"color: red; font-weight: bold\">Use the following command to launch a server for this notebook:</span>\n",
    "\n",
    "```bash\n",
    "git clone git@github.com:input-output-hk/marlowe-cardano.git\n",
    "cd marlowe-cardano/marlowe-runtime/\n",
    "nix run ../marlowe-cli\n",
    "```\n",
    "\n",
    "Then navigate to the `examples/` folder in Jupyter and open this notebook."
   ]
  },
  {
   "cell_type": "markdown",
   "id": "ff12ef20-4800-40fc-bf1a-b48def801ee9",
   "metadata": {},
   "source": [
    "# Demonstrating the Marlowe Transaction Deposit Component of Marlowe Runtime Using Role Tokens"
   ]
  },
  {
   "cell_type": "markdown",
   "id": "b4002252-fe9f-40e4-a371-d4d6b57316de",
   "metadata": {},
   "source": [
    "## Preliminaries"
   ]
  },
  {
   "cell_type": "markdown",
   "id": "dab2352b-0021-4998-9107-c5cc32d3734c",
   "metadata": {},
   "source": [
    "Record version numbers"
   ]
  },
  {
   "cell_type": "code",
   "execution_count": 69,
   "id": "4832053a-541d-4acd-a781-e7b31a3d28e1",
   "metadata": {},
   "outputs": [
    {
     "name": "stdout",
     "output_type": "stream",
     "text": [
      "marlowe-cli 0.0.10.0\n"
     ]
    }
   ],
   "source": [
    "marlowe-cli --version"
   ]
  },
  {
   "cell_type": "code",
   "execution_count": 70,
   "id": "e7651166-5c42-4a2b-8447-3407440f7b5a",
   "metadata": {},
   "outputs": [
    {
     "name": "stdout",
     "output_type": "stream",
     "text": [
      "cardano-cli 1.35.3 - linux-x86_64 - ghc-8.10\n",
      "git rev 0000000000000000000000000000000000000000\n"
     ]
    }
   ],
   "source": [
    "cardano-cli --version"
   ]
  },
  {
   "cell_type": "code",
   "execution_count": 71,
   "id": "0434d927-022f-41f6-b60f-091ebe85cfc4",
   "metadata": {},
   "outputs": [
    {
     "name": "stdout",
     "output_type": "stream",
     "text": [
      "a57b40407e8efed9c926695448efd8b518d54f1c\n"
     ]
    }
   ],
   "source": [
    "git rev-parse HEAD"
   ]
  },
  {
   "cell_type": "markdown",
   "id": "9fb67751-bbb3-4e07-a9c7-b509502903c7",
   "metadata": {
    "tags": []
   },
   "source": [
    "### Setup the faucet."
   ]
  },
  {
   "cell_type": "markdown",
   "id": "4c1053b7-899c-4df1-94bc-626300568286",
   "metadata": {},
   "source": [
    "Set the location of keys."
   ]
  },
  {
   "cell_type": "code",
   "execution_count": 72,
   "id": "7eba74b8-fb39-4a07-9080-211d46f9132a",
   "metadata": {},
   "outputs": [],
   "source": [
    "TREASURY=treasury"
   ]
  },
  {
   "cell_type": "markdown",
   "id": "d5caee3c-c91e-49b8-aeb2-84b3170128d6",
   "metadata": {},
   "source": [
    "Set the faucet."
   ]
  },
  {
   "cell_type": "code",
   "execution_count": 73,
   "id": "054727ec-d1d3-4fdd-811f-95561dc807c5",
   "metadata": {},
   "outputs": [
    {
     "name": "stdout",
     "output_type": "stream",
     "text": [
      "addr_test1vq2a4cdym9mn38nf894p5sjqurns4ehjm3pt5t8l4djcnzqjzztcr\n"
     ]
    }
   ],
   "source": [
    "FAUCET_SKEY=$TREASURY/payment.skey\n",
    "FAUCET_ADDR=$(cat $TREASURY/payment.testnet.address)\n",
    "echo \"$FAUCET_ADDR\""
   ]
  },
  {
   "cell_type": "markdown",
   "id": "2894720b-50a2-4830-9a5d-e65b8e7c7dad",
   "metadata": {},
   "source": [
    "### Select network"
   ]
  },
  {
   "cell_type": "markdown",
   "id": "720ae956-275a-4b64-8460-cff5630104b4",
   "metadata": {},
   "source": [
    "In a separate terminal, set up a tunnel to the Marlowe Runtime development server:\n",
    "```bash\n",
    "rm /tmp/preview.socket\n",
    "ssh -NT \\\n",
    "  -L/tmp/preview.socket:/data/networks/preview/node.socket \\\n",
    "  -L 3717:127.0.0.1:23717 \\\n",
    "  -L 3718:127.0.0.1:23718 \\\n",
    "  -L 3719:127.0.0.1:23719 \\\n",
    "  -L 3721:127.0.0.1:23721 \\\n",
    "  -L 3723:127.0.0.1:23723 \\\n",
    "  54.202.238.5                                              \n",
    "```"
   ]
  },
  {
   "cell_type": "code",
   "execution_count": 74,
   "id": "ced2a30e-b2ba-435a-9199-bcfa0d6a8cf4",
   "metadata": {},
   "outputs": [
    {
     "name": "stdout",
     "output_type": "stream",
     "text": [
      "--testnet-magic 2\n"
     ]
    }
   ],
   "source": [
    "export CARDANO_NODE_SOCKET_PATH=/tmp/preview.socket\n",
    "export CARDANO_TESTNET_MAGIC=2\n",
    "MAGIC=(--testnet-magic 2)\n",
    "echo \"${MAGIC[@]}\""
   ]
  },
  {
   "cell_type": "markdown",
   "id": "6649b7a2-3f9e-4dd4-bde7-11699c6bf27f",
   "metadata": {},
   "source": [
    "### Check that the reference script has been published"
   ]
  },
  {
   "cell_type": "markdown",
   "id": "8f88e700-a21f-4fd4-b785-35f39d767e49",
   "metadata": {},
   "source": [
    "Check that the Marlowe semantics validator was published."
   ]
  },
  {
   "cell_type": "code",
   "execution_count": 75,
   "id": "eb29caeb-c563-4e7d-922a-b5350642cc0f",
   "metadata": {},
   "outputs": [
    {
     "name": "stdout",
     "output_type": "stream",
     "text": [
      "\n",
      "Searching for reference script at address: addr_test1vrw0tuh8l95thdqr65dmpcfqnmcw0en7v7vhgegck7gzqgswa07sw\n",
      "\n",
      "Expected reference script hash: \"6a9391d6aa51af28dd876ebb5565b69d1e83e5ac7861506bd29b56b0\"\n",
      "\n",
      "Searching for reference script at address: addr_test1vpa36uuyf95kxpcleldsncedlhjru6vdmh2vnpkdrsz4u6cll9zas\n",
      "\n",
      "Expected reference script hash: \"49076eab20243dc9462511fb98a9cfb719f86e9692288139b7c91df3\"\n",
      "{\n",
      "    \"marlowe\": {\n",
      "        \"hash\": \"6a9391d6aa51af28dd876ebb5565b69d1e83e5ac7861506bd29b56b0\",\n",
      "        \"txIn\": \"087f21f109a997193421a81886ea8c6397d336d19e696457b9c5c7aefdc31873#1\"\n",
      "    },\n",
      "    \"payout\": {\n",
      "        \"hash\": \"49076eab20243dc9462511fb98a9cfb719f86e9692288139b7c91df3\",\n",
      "        \"txIn\": \"087f21f109a997193421a81886ea8c6397d336d19e696457b9c5c7aefdc31873#2\"\n",
      "    }\n",
      "}\n"
     ]
    }
   ],
   "source": [
    "marlowe-cli transaction find-published"
   ]
  },
  {
   "cell_type": "markdown",
   "id": "7ae0e907-2c31-4b85-926d-c62dc9cafc49",
   "metadata": {},
   "source": [
    "### Participants"
   ]
  },
  {
   "cell_type": "markdown",
   "id": "ea318fc6-f1dc-46a8-a4e7-83ee23a42ec3",
   "metadata": {},
   "source": [
    "#### The Party"
   ]
  },
  {
   "cell_type": "code",
   "execution_count": 76,
   "id": "009fed78-8410-4894-b904-d6ea92982d70",
   "metadata": {},
   "outputs": [],
   "source": [
    "PARTY_SKEY=\"$TREASURY/john-fletcher.skey\"\n",
    "PARTY_VKEY=\"$TREASURY/john-fletcher.vkey\""
   ]
  },
  {
   "cell_type": "markdown",
   "id": "df56d582-919c-438f-986a-a9a3fffc40c7",
   "metadata": {},
   "source": [
    "Create the first party's keys, if necessary."
   ]
  },
  {
   "cell_type": "code",
   "execution_count": 77,
   "id": "0de60d98-b79e-43fc-8c7d-fd494c76390d",
   "metadata": {},
   "outputs": [
    {
     "name": "stdout",
     "output_type": "stream",
     "text": [
      "addr_test1vrwd29434q5sxe9wq5xplc0ehgqyehpjujx4kvdcwpck2kgp8qjs9\n"
     ]
    }
   ],
   "source": [
    "if [[ ! -e \"$PARTY_SKEY\" ]]\n",
    "then\n",
    "  cardano-cli address key-gen --signing-key-file \"$PARTY_SKEY\" --verification-key-file \"$PARTY_VKEY\"\n",
    "fi\n",
    "PARTY_ADDR=$(cardano-cli address build \"${MAGIC[@]}\" --payment-verification-key-file \"$PARTY_VKEY\")\n",
    "echo \"$PARTY_ADDR\""
   ]
  },
  {
   "cell_type": "markdown",
   "id": "17b4396a-a8ac-4976-bda4-968daaaa190e",
   "metadata": {},
   "source": [
    "Fund the address."
   ]
  },
  {
   "cell_type": "code",
   "execution_count": 78,
   "id": "ff90fa3f-1422-4632-abb7-19c5e5b5d2ed",
   "metadata": {},
   "outputs": [
    {
     "name": "stdout",
     "output_type": "stream",
     "text": [
      "TxId \"2d1a7b08ba0ef004e0a5d6114ecf34f9b816ffe55499c1805e9959d44b8c8f08\"\n"
     ]
    }
   ],
   "source": [
    "marlowe-cli util fund-address \\\n",
    "  --out-file /dev/null \\\n",
    "  --submit 600 \\\n",
    "  --lovelace 250000000 \\\n",
    "  --source-wallet-credentials \"$FAUCET_ADDR:$FAUCET_SKEY\" \\\n",
    "  \"$PARTY_ADDR\""
   ]
  },
  {
   "cell_type": "markdown",
   "id": "beac2b0a-83c9-4f13-a1b2-d4ae12795bc7",
   "metadata": {},
   "source": [
    "#### The Counterparty"
   ]
  },
  {
   "cell_type": "code",
   "execution_count": 79,
   "id": "359d2b9b-9bc3-4688-9689-9ef2c69cd382",
   "metadata": {},
   "outputs": [],
   "source": [
    "COUNTERPARTY_SKEY=\"$TREASURY/thomas-kyd.skey\"\n",
    "COUNTERPARTY_VKEY=\"$TREASURY/thomas-kyd.vkey\""
   ]
  },
  {
   "cell_type": "markdown",
   "id": "cc9ff64b-fc5b-4308-8b6c-9208985b3600",
   "metadata": {},
   "source": [
    "Create the second party's keys, if necessary."
   ]
  },
  {
   "cell_type": "code",
   "execution_count": 80,
   "id": "c4297420-6c47-4716-bbb3-c5bb0be2ef9a",
   "metadata": {},
   "outputs": [
    {
     "name": "stdout",
     "output_type": "stream",
     "text": [
      "addr_test1vq9wf6m58ga0yg62w5yl0rjzt8c4updtt7ttln570rwz09c64kcd5\n"
     ]
    }
   ],
   "source": [
    "if [[ ! -e \"$COUNTERPARTY_SKEY\" ]]\n",
    "then\n",
    "  cardano-cli address key-gen --signing-key-file \"$COUNTERPARTY_SKEY\" --verification-key-file \"$COUNTERPARTY_VKEY\"\n",
    "fi\n",
    "COUNTERPARTY_ADDR=$(cardano-cli address build \"${MAGIC[@]}\" --payment-verification-key-file \"$COUNTERPARTY_VKEY\")\n",
    "echo \"$COUNTERPARTY_ADDR\""
   ]
  },
  {
   "cell_type": "markdown",
   "id": "0556be66-9ca7-4e91-9c85-bd885311c611",
   "metadata": {},
   "source": [
    "Fund the address."
   ]
  },
  {
   "cell_type": "code",
   "execution_count": 81,
   "id": "77bc9000-d2e3-4996-a2ae-a7d0c625aa70",
   "metadata": {},
   "outputs": [
    {
     "name": "stdout",
     "output_type": "stream",
     "text": [
      "TxId \"9b9cb00e41f602fbdad226010342614a233294d0ccf80387c6b584bf9f8fdc18\"\n"
     ]
    }
   ],
   "source": [
    "marlowe-cli util fund-address \\\n",
    "  --out-file /dev/null \\\n",
    "  --submit 600  \\\n",
    "  --lovelace 250000000 \\\n",
    "  --source-wallet-credentials \"$FAUCET_ADDR:$FAUCET_SKEY\" \\\n",
    "  \"$COUNTERPARTY_ADDR\""
   ]
  },
  {
   "cell_type": "markdown",
   "id": "2e5e57df-98b1-49ee-b0d8-0ca36475dd34",
   "metadata": {},
   "source": [
    "### Time computations"
   ]
  },
  {
   "cell_type": "code",
   "execution_count": 82,
   "id": "15b80716-4545-4558-825f-9d0dda82f8d5",
   "metadata": {},
   "outputs": [],
   "source": [
    "SECOND=1000\n",
    "MINUTE=$((60 * SECOND))"
   ]
  },
  {
   "cell_type": "code",
   "execution_count": 83,
   "id": "359b6f47-e0d1-4f84-8812-b96cfa361c2d",
   "metadata": {},
   "outputs": [
    {
     "name": "stdout",
     "output_type": "stream",
     "text": [
      "1666983720000\n"
     ]
    }
   ],
   "source": [
    "NOW=\"$(($(date -u +%s) * SECOND))\"\n",
    "echo \"$NOW\""
   ]
  },
  {
   "cell_type": "markdown",
   "id": "eb417b36-effb-4fc2-ae81-b7fce917aa7b",
   "metadata": {},
   "source": [
    "## The Contract"
   ]
  },
  {
   "cell_type": "markdown",
   "id": "b04afd25-7baa-46ef-b4e5-549402d14cd7",
   "metadata": {},
   "source": [
    "We set the parameters for the ACTUS PAM contract."
   ]
  },
  {
   "cell_type": "code",
   "execution_count": 84,
   "id": "c5845b3d-12cf-47f0-a53c-0da3e4fe89f2",
   "metadata": {
    "tags": []
   },
   "outputs": [],
   "source": [
    "MINIMUM_ADA=3000000\n",
    "\n",
    "FIXED_POINT=1000000\n",
    "PRINCIPAL=100\n",
    "INTEREST_RATE=0.02\n",
    "INTEREST=$(jq -n $PRINCIPAL*$INTEREST_RATE)\n",
    "\n",
    "STATUS_DATE=$(date -d \"$(date -u -R -d @$((NOW/1000)))\" +\"%Y-%m-%dT00:00:00\")\n",
    "INITIAL_EXCHANGE_DATE=$(date -d \"$(date -u -R -d @$((NOW/1000))) + 1 year\" +\"%Y-01-01T00:00:00\")\n",
    "MATURITY_DATE=$(date -d \"$(date -u -R -d @$((NOW/1000))) + 2 year\" +\"%Y-01-01T00:00:00\")"
   ]
  },
  {
   "cell_type": "code",
   "execution_count": 85,
   "id": "ece6fd44-d1ea-44b6-a8e4-240c4549417c",
   "metadata": {},
   "outputs": [
    {
     "name": "stdout",
     "output_type": "stream",
     "text": [
      "{\"accruedInterest\":0,\"collateralAmount\":0,\"contractId\":\"0\",\"contractPerformance\":\"PF\",\"contractRole\":\"RPA\",\"contractType\":\"PAM\",\"cycleAnchorDateOfInterestPayment\":\"2023-01-01T00:00:00\",\"cycleOfInterestPayment\":\"P1YL1\",\"dayCountConvention\":\"30E360\",\"enableSettlement\":false,\"initialExchangeDate\":\"2023-01-01T00:00:00\",\"interestCalculationBase\":\"NT\",\"maturityDate\":\"2024-01-01T00:00:00\",\"nominalInterestRate\":0.02,\"notionalPrincipal\":100,\"penaltyType\":\"O\",\"prepaymentEffect\":\"N\",\"scheduleConfig\":{\"businessDayConvention\":\"NULL\",\"calendar\":\"NC\",\"endOfMonthConvention\":\"EOM\"},\"statusDate\":\"2022-10-28T00:00:00\"}\n"
     ]
    }
   ],
   "source": [
    "yaml2json << EOI > deposit.actus\n",
    "scheduleConfig:\n",
    "  businessDayConvention: \"NULL\"\n",
    "  endOfMonthConvention: \"EOM\"\n",
    "  calendar: \"NC\"\n",
    "maturityDate: \"$MATURITY_DATE\"\n",
    "contractId: \"0\"\n",
    "enableSettlement: false\n",
    "initialExchangeDate: \"$INITIAL_EXCHANGE_DATE\"\n",
    "contractRole: \"RPA\"\n",
    "penaltyType: \"O\"\n",
    "cycleAnchorDateOfInterestPayment: \"$INITIAL_EXCHANGE_DATE\"\n",
    "contractType: \"PAM\"\n",
    "notionalPrincipal: $PRINCIPAL\n",
    "contractPerformance: \"PF\"\n",
    "collateralAmount: 0\n",
    "dayCountConvention: \"30E360\"\n",
    "accruedInterest: 0\n",
    "statusDate: \"$STATUS_DATE\"\n",
    "cycleOfInterestPayment: \"P1YL1\"\n",
    "prepaymentEffect: \"N\"\n",
    "nominalInterestRate: $INTEREST_RATE\n",
    "interestCalculationBase: \"NT\"\n",
    "EOI\n",
    "cat deposit.actus"
   ]
  },
  {
   "cell_type": "markdown",
   "id": "d58d8071-9907-4d2c-b686-48139d7841ca",
   "metadata": {},
   "source": [
    "Create the contract."
   ]
  },
  {
   "cell_type": "code",
   "execution_count": 86,
   "id": "028339ed-6d5e-4e71-9895-3a965a0252c9",
   "metadata": {},
   "outputs": [],
   "source": [
    "marlowe-cli template actus \\\n",
    "  --minimum-ada \"$MINIMUM_ADA\" \\\n",
    "  --party Lender \\\n",
    "  --counter-party Borrower \\\n",
    "  --actus-terms-file  deposit.actus \\\n",
    "  --out-contract-file deposit-1.contract \\\n",
    "  --out-state-file /dev/null"
   ]
  },
  {
   "cell_type": "markdown",
   "id": "8499441d-c0ca-4b5f-90f6-cafe0513cd4f",
   "metadata": {},
   "source": [
    "Since we are testing, we don't really want to wait months or years for timeouts, so we edit the contract file to change the maturity date to 15 minutes from now and the initial deposit to 10 minutes from now."
   ]
  },
  {
   "cell_type": "code",
   "execution_count": 87,
   "id": "144f7e5b-a0d5-4aec-b19f-9292c40409b3",
   "metadata": {},
   "outputs": [],
   "source": [
    "sed -i \\\n",
    "  -e \"s/$(jq '.timeout' deposit-1.contract)/$((NOW + 10 * MINUTE))/\" \\\n",
    "  -e \"s/$(($(date -d \"$MATURITY_DATE\" -u +%s) * SECOND))/$((NOW + 15 * MINUTE))/\" \\\n",
    "  deposit-1.contract"
   ]
  },
  {
   "cell_type": "markdown",
   "id": "cc6d76dd-d7f0-4a83-ad1e-affd955e98a6",
   "metadata": {},
   "source": [
    "View the contract."
   ]
  },
  {
   "cell_type": "code",
   "execution_count": 88,
   "id": "661bb16a-2739-4354-a796-bbaedf39f698",
   "metadata": {},
   "outputs": [
    {
     "name": "stdout",
     "output_type": "stream",
     "text": [
      "timeout: 1666984320000\n",
      "timeout_continuation: close\n",
      "when:\n",
      "- case:\n",
      "    deposits:\n",
      "      negate:\n",
      "        negate: 100000000\n",
      "    into_account:\n",
      "      role_token: Lender\n",
      "    of_token:\n",
      "      currency_symbol: ''\n",
      "      token_name: ''\n",
      "    party:\n",
      "      role_token: Lender\n",
      "  then:\n",
      "    from_account:\n",
      "      role_token: Lender\n",
      "    pay: 100000000\n",
      "    then:\n",
      "      timeout: 1666984620000\n",
      "      timeout_continuation: close\n",
      "      when:\n",
      "      - case:\n",
      "          deposits: 2000000\n",
      "          into_account:\n",
      "            role_token: Borrower\n",
      "          of_token:\n",
      "            currency_symbol: ''\n",
      "            token_name: ''\n",
      "          party:\n",
      "            role_token: Borrower\n",
      "        then:\n",
      "          from_account:\n",
      "            role_token: Borrower\n",
      "          pay: 2000000\n",
      "          then:\n",
      "            timeout: 1666984620000\n",
      "            timeout_continuation: close\n",
      "            when:\n",
      "            - case:\n",
      "                deposits: 100000000\n",
      "                into_account:\n",
      "                  role_token: Borrower\n",
      "                of_token:\n",
      "                  currency_symbol: ''\n",
      "                  token_name: ''\n",
      "                party:\n",
      "                  role_token: Borrower\n",
      "              then:\n",
      "                from_account:\n",
      "                  role_token: Borrower\n",
      "                pay: 100000000\n",
      "                then: close\n",
      "                to:\n",
      "                  party:\n",
      "                    role_token: Lender\n",
      "                token:\n",
      "                  currency_symbol: ''\n",
      "                  token_name: ''\n",
      "          to:\n",
      "            party:\n",
      "              role_token: Lender\n",
      "          token:\n",
      "            currency_symbol: ''\n",
      "            token_name: ''\n",
      "    to:\n",
      "      party:\n",
      "        role_token: Borrower\n",
      "    token:\n",
      "      currency_symbol: ''\n",
      "      token_name: ''\n"
     ]
    }
   ],
   "source": [
    "json2yaml deposit-1.contract"
   ]
  },
  {
   "cell_type": "markdown",
   "id": "a1548c6e-3288-4a7e-90f4-6439edeb22ca",
   "metadata": {},
   "source": [
    "## Run the Contract"
   ]
  },
  {
   "cell_type": "markdown",
   "id": "f2eb9ff2-86b8-437e-aa04-a1a38cebea9a",
   "metadata": {},
   "source": [
    "### Transaction 1. Create the contract"
   ]
  },
  {
   "cell_type": "markdown",
   "id": "48eba6f6-feb3-4c6a-b990-b7ca1a0a17e1",
   "metadata": {},
   "source": [
    "Build the transaction."
   ]
  },
  {
   "cell_type": "code",
   "execution_count": 89,
   "id": "780e8dfc-fca3-440e-ab63-323059a60065",
   "metadata": {},
   "outputs": [
    {
     "name": "stdout",
     "output_type": "stream",
     "text": [
      "CONTRACT_ID = TX_1 = 7f0428a9456f56fcac18d7f5b6ef90f3e6b9b22fbbc7459c67a218a49dedc253#1\n"
     ]
    }
   ],
   "source": [
    "TX_1=$(\n",
    "marlowe create \\\n",
    "  --core-file deposit-1.contract \\\n",
    "  --role \"Lender=$PARTY_ADDR\" \\\n",
    "  --role \"Borrower=$COUNTERPARTY_ADDR\" \\\n",
    "  --min-utxo \"$MINIMUM_ADA\" \\\n",
    "  --change-address \"$PARTY_ADDR\" \\\n",
    "  --address \"$PARTY_ADDR\" \\\n",
    "  --manual-sign deposit-1.txbody \\\n",
    "| sed -e 's/^.*\"\\([^\\\\]*\\)\\\\.*$/\\1/' \\\n",
    ")\n",
    "CONTRACT_ID=\"$TX_1\"\n",
    "echo \"CONTRACT_ID = TX_1 = $CONTRACT_ID\""
   ]
  },
  {
   "cell_type": "markdown",
   "id": "b31ec973-5b0f-4fb7-bdca-c266bd66fdc1",
   "metadata": {},
   "source": [
    "Sign the transaction."
   ]
  },
  {
   "cell_type": "code",
   "execution_count": 90,
   "id": "5d4c94bc-d747-47c6-be60-55656a3ee6ca",
   "metadata": {},
   "outputs": [],
   "source": [
    "cardano-cli transaction sign \\\n",
    "  --tx-body-file deposit-1.txbody \\\n",
    "  --out-file     deposit-1.tx \\\n",
    "  --signing-key-file \"$PARTY_SKEY\""
   ]
  },
  {
   "cell_type": "markdown",
   "id": "bebb0d27-0a99-4f3d-ab06-09b627ee514e",
   "metadata": {},
   "source": [
    "Submit the transaction using Marlowe Runtime."
   ]
  },
  {
   "cell_type": "code",
   "execution_count": 91,
   "id": "04ff93e3-b751-440a-b310-12ebe095401a",
   "metadata": {},
   "outputs": [
    {
     "name": "stdout",
     "output_type": "stream",
     "text": [
      "\"{\\\"blockHeaderHash\\\":\\\"51785845562e3493647637e398775d62f70bff778b2793e0787acb6c551f8c2a\\\",\\\"blockNo\\\":322731,\\\"slotNo\\\":6980558}\"\n"
     ]
    }
   ],
   "source": [
    "marlowe submit deposit-1.tx"
   ]
  },
  {
   "cell_type": "markdown",
   "id": "b63f5847-141e-4378-96e2-5683f0c54e52",
   "metadata": {},
   "source": [
    "View the contract's UTxO."
   ]
  },
  {
   "cell_type": "code",
   "execution_count": 92,
   "id": "808a16fb-9133-4544-a60f-6e9fdf7f6cae",
   "metadata": {},
   "outputs": [
    {
     "name": "stdout",
     "output_type": "stream",
     "text": [
      "addr_test1wp4f8ywk4fg672xasahtk4t9k6w3aql943uxz5rt62d4dvqu3c6jv\n"
     ]
    }
   ],
   "source": [
    "CONTRACT_ADDR=$(marlowe-cli contract address)\n",
    "echo \"$CONTRACT_ADDR\""
   ]
  },
  {
   "cell_type": "code",
   "execution_count": 93,
   "id": "f9820b1e-590f-498d-b843-b258eaebf404",
   "metadata": {},
   "outputs": [
    {
     "name": "stdout",
     "output_type": "stream",
     "text": [
      "                           TxHash                                 TxIx        Amount\n",
      "--------------------------------------------------------------------------------------\n",
      "7f0428a9456f56fcac18d7f5b6ef90f3e6b9b22fbbc7459c67a218a49dedc253     1        3000000 lovelace + TxOutDatumHash ScriptDataInBabbageEra \"dca9a9e18a071e1339d97209a2c8e0e70d53a00a639cff5b3c46ec53270aae10\"\n"
     ]
    }
   ],
   "source": [
    "cardano-cli query utxo \"${MAGIC[@]}\" --address \"$CONTRACT_ADDR\" | sed -n -e \"1,2p;/${TX_1//#*/}/p\""
   ]
  },
  {
   "cell_type": "markdown",
   "id": "89a38a79-8328-43df-9a59-b571246342a7",
   "metadata": {},
   "source": [
    "View the party's UTxOs."
   ]
  },
  {
   "cell_type": "code",
   "execution_count": 94,
   "id": "b6e69d70-991d-4755-b401-a4d53ee3e2df",
   "metadata": {},
   "outputs": [
    {
     "name": "stdout",
     "output_type": "stream",
     "text": [
      "                           TxHash                                 TxIx        Amount\n",
      "--------------------------------------------------------------------------------------\n",
      "7f0428a9456f56fcac18d7f5b6ef90f3e6b9b22fbbc7459c67a218a49dedc253     0        245412905 lovelace + TxOutDatumNone\n",
      "7f0428a9456f56fcac18d7f5b6ef90f3e6b9b22fbbc7459c67a218a49dedc253     3        1034400 lovelace + 1 42e84366ff974676655faf4f99f917145a12d29335ecb8162e6f843c.4c656e646572 + TxOutDatumNone\n",
      "7f0428a9456f56fcac18d7f5b6ef90f3e6b9b22fbbc7459c67a218a49dedc253     4        1034400 lovelace + 1 567a873dff9bad13eb231829ebe26ad545862078c5251b8ef84dac9f.4c656e646572 + TxOutDatumNone\n"
     ]
    }
   ],
   "source": [
    "cardano-cli query utxo \"${MAGIC[@]}\" --address \"$PARTY_ADDR\""
   ]
  },
  {
   "cell_type": "markdown",
   "id": "6dde140b-c7d2-4af8-bc97-d98560485682",
   "metadata": {},
   "source": [
    "View the counterparty's UTxOs."
   ]
  },
  {
   "cell_type": "code",
   "execution_count": 95,
   "id": "30ce88ea-1739-4b75-aadf-0db208f5aa80",
   "metadata": {},
   "outputs": [
    {
     "name": "stdout",
     "output_type": "stream",
     "text": [
      "                           TxHash                                 TxIx        Amount\n",
      "--------------------------------------------------------------------------------------\n",
      "7f0428a9456f56fcac18d7f5b6ef90f3e6b9b22fbbc7459c67a218a49dedc253     2        1043020 lovelace + 1 42e84366ff974676655faf4f99f917145a12d29335ecb8162e6f843c.426f72726f776572 + TxOutDatumNone\n",
      "9b9cb00e41f602fbdad226010342614a233294d0ccf80387c6b584bf9f8fdc18     1        250000000 lovelace + TxOutDatumNone\n",
      "b2a9bca0c5481983ea8c63aa78a29b91ef29f608e50b48553b3f5c8e88a33d1c     1        2000000 lovelace + 1 567a873dff9bad13eb231829ebe26ad545862078c5251b8ef84dac9f.426f72726f776572 + TxOutDatumNone\n"
     ]
    }
   ],
   "source": [
    "cardano-cli query utxo \"${MAGIC[@]}\" --address \"$COUNTERPARTY_ADDR\""
   ]
  },
  {
   "cell_type": "markdown",
   "id": "d8846155-12a6-40be-b5ed-bea6b3d76752",
   "metadata": {},
   "source": [
    "Watch the contract."
   ]
  },
  {
   "cell_type": "code",
   "execution_count": 96,
   "id": "0e4ceeb0-350f-464b-86ea-e36b98ec06ff",
   "metadata": {},
   "outputs": [
    {
     "name": "stdout",
     "output_type": "stream",
     "text": [
      "7f0428a9456f56fcac18d7f5b6ef90f3e6b9b22fbbc7459c67a218a49dedc253#1\n"
     ]
    }
   ],
   "source": [
    "marlowe add \"$CONTRACT_ID\""
   ]
  },
  {
   "cell_type": "markdown",
   "id": "f2db93da-856a-4d61-bd88-48eb5075af84",
   "metadata": {},
   "source": [
    "View the contract's history."
   ]
  },
  {
   "cell_type": "code",
   "execution_count": 97,
   "id": "19957835-6376-4b13-a2ad-2c35763b75a3",
   "metadata": {},
   "outputs": [
    {
     "name": "stdout",
     "output_type": "stream",
     "text": [
      "\u001b[93mtransaction 7f0428a9456f56fcac18d7f5b6ef90f3e6b9b22fbbc7459c67a218a49dedc253 (creation)\n",
      "\u001b[0mContractId:      7f0428a9456f56fcac18d7f5b6ef90f3e6b9b22fbbc7459c67a218a49dedc253#1\n",
      "SlotNo:          6980558\n",
      "BlockNo:         322731\n",
      "BlockId:         51785845562e3493647637e398775d62f70bff778b2793e0787acb6c551f8c2a\n",
      "ScriptAddress:   addr_test1wp4f8ywk4fg672xasahtk4t9k6w3aql943uxz5rt62d4dvqu3c6jv\n",
      "Marlowe Version: 1\n",
      "\n",
      "    When [\n",
      "      (Case\n",
      "         (Deposit Role \"Lender\" Role \"Lender\"\n",
      "            (Token \"\" \"\")\n",
      "            (NegValue\n",
      "               (NegValue\n",
      "                  (Constant 100000000))))\n",
      "         (Pay Role \"Lender\"\n",
      "            (Party Role \"Borrower\")\n",
      "            (Token \"\" \"\")\n",
      "            (Constant 100000000)\n",
      "            (When [\n",
      "               (Case\n",
      "                  (Deposit Role \"Borrower\" Role \"Borrower\"\n",
      "                     (Token \"\" \"\")\n",
      "                     (Constant 2000000))\n",
      "                  (Pay Role \"Borrower\"\n",
      "                     (Party Role \"Lender\")\n",
      "                     (Token \"\" \"\")\n",
      "                     (Constant 2000000)\n",
      "                     (When [\n",
      "                        (Case\n",
      "                           (Deposit Role \"Borrower\" Role \"Borrower\"\n",
      "                              (Token \"\" \"\")\n",
      "                              (Constant 100000000))\n",
      "                           (Pay Role \"Borrower\"\n",
      "                              (Party Role \"Lender\")\n",
      "                              (Token \"\" \"\")\n",
      "                              (Constant 100000000) Close))] 1666984620000 Close)))] 1666984620000 Close)))] 1666984320000 Close\n",
      "\n"
     ]
    }
   ],
   "source": [
    "marlowe log --show-contract \"$CONTRACT_ID\""
   ]
  },
  {
   "cell_type": "markdown",
   "id": "018393a9-ce39-4071-8e41-82d58bc43348",
   "metadata": {},
   "source": [
    "### Transaction 2. Party deposits loan amount"
   ]
  },
  {
   "cell_type": "markdown",
   "id": "4cd1edf5-63cc-4d85-9b8b-21a80f2b1211",
   "metadata": {},
   "source": [
    "The party deposits the loan amount."
   ]
  },
  {
   "cell_type": "code",
   "execution_count": 98,
   "id": "ae87d08c-3878-4871-a3e1-665edce5c5b1",
   "metadata": {},
   "outputs": [
    {
     "name": "stdout",
     "output_type": "stream",
     "text": [
      "TX_2 = e4dd26d440107de4af57274f640bde39bebd0364ceb43fbdaf86346187bf3736\n"
     ]
    }
   ],
   "source": [
    "TX_2=$(\n",
    "marlowe deposit \\\n",
    "  --contract \"$CONTRACT_ID\" \\\n",
    "  --from-party Lender \\\n",
    "  --to-party Lender \\\n",
    "  --lovelace \"$((PRINCIPAL*FIXED_POINT))\" \\\n",
    "  --validity-lower-bound \"$((NOW-5*MINUTE))\" \\\n",
    "  --validity-upper-bound \"$((NOW+9*MINUTE))\" \\\n",
    "  --change-address \"$PARTY_ADDR\" \\\n",
    "  --address \"$PARTY_ADDR\" \\\n",
    "  --manual-sign deposit-2.txbody \\\n",
    "| sed -e 's/^.*\"\\([^\\\\]*\\)\\\\.*$/\\1/' \\\n",
    ")\n",
    "echo \"TX_2 = $TX_2\""
   ]
  },
  {
   "cell_type": "markdown",
   "id": "10103e7a-c7f9-4123-98e0-cc365fd5782c",
   "metadata": {},
   "source": [
    "Sign the transaction."
   ]
  },
  {
   "cell_type": "code",
   "execution_count": 99,
   "id": "89fa94a4-c73a-47e8-8d4e-f7184208bb28",
   "metadata": {},
   "outputs": [],
   "source": [
    "cardano-cli transaction sign \\\n",
    "  --tx-body-file deposit-2.txbody \\\n",
    "  --out-file     deposit-2.tx \\\n",
    "  --signing-key-file \"$PARTY_SKEY\""
   ]
  },
  {
   "cell_type": "markdown",
   "id": "4fc1597c-efbc-4765-bc6e-2fef522b3216",
   "metadata": {},
   "source": [
    "Submit the transaction using Marlowe Runtime."
   ]
  },
  {
   "cell_type": "code",
   "execution_count": 100,
   "id": "6a09322f-a3c2-4537-bd95-8a9b8e646c7a",
   "metadata": {},
   "outputs": [
    {
     "name": "stdout",
     "output_type": "stream",
     "text": [
      "\"{\\\"blockHeaderHash\\\":\\\"4f0af30bb59acfdad8a1cb47c75457dfb6826f732db765f22365a1df42dabacd\\\",\\\"blockNo\\\":322733,\\\"slotNo\\\":6980594}\"\n"
     ]
    }
   ],
   "source": [
    "marlowe submit deposit-2.tx"
   ]
  },
  {
   "cell_type": "markdown",
   "id": "fe999d9b-49b5-47a6-9c57-07449e462ae6",
   "metadata": {},
   "source": [
    "View the contract's UTxO."
   ]
  },
  {
   "cell_type": "code",
   "execution_count": 101,
   "id": "8c7238fb-73eb-473f-976c-16f8aa89dd85",
   "metadata": {},
   "outputs": [
    {
     "name": "stdout",
     "output_type": "stream",
     "text": [
      "                           TxHash                                 TxIx        Amount\n",
      "--------------------------------------------------------------------------------------\n",
      "e4dd26d440107de4af57274f640bde39bebd0364ceb43fbdaf86346187bf3736     1        3000000 lovelace + TxOutDatumHash ScriptDataInBabbageEra \"1bb9acb2765628e56332db24a3ecdb04f02a03213320dfb71708bf74864ae4e3\"\n"
     ]
    }
   ],
   "source": [
    "cardano-cli query utxo \"${MAGIC[@]}\" --address \"$CONTRACT_ADDR\" | sed -n -e \"1,2p;/${TX_2//#*/}/p\""
   ]
  },
  {
   "cell_type": "markdown",
   "id": "ad19e2ab-76b2-4fdd-bd6b-55b6a771d3f5",
   "metadata": {},
   "source": [
    "View the party's UTxOs."
   ]
  },
  {
   "cell_type": "code",
   "execution_count": 102,
   "id": "54ec1f80-0e25-4dc3-91eb-de2d4fb1e6e3",
   "metadata": {},
   "outputs": [
    {
     "name": "stdout",
     "output_type": "stream",
     "text": [
      "                           TxHash                                 TxIx        Amount\n",
      "--------------------------------------------------------------------------------------\n",
      "7f0428a9456f56fcac18d7f5b6ef90f3e6b9b22fbbc7459c67a218a49dedc253     4        1034400 lovelace + 1 567a873dff9bad13eb231829ebe26ad545862078c5251b8ef84dac9f.4c656e646572 + TxOutDatumNone\n",
      "e4dd26d440107de4af57274f640bde39bebd0364ceb43fbdaf86346187bf3736     0        144586942 lovelace + TxOutDatumNone\n",
      "e4dd26d440107de4af57274f640bde39bebd0364ceb43fbdaf86346187bf3736     2        1034400 lovelace + 1 42e84366ff974676655faf4f99f917145a12d29335ecb8162e6f843c.4c656e646572 + TxOutDatumNone\n"
     ]
    }
   ],
   "source": [
    "cardano-cli query utxo \"${MAGIC[@]}\" --address \"$PARTY_ADDR\""
   ]
  },
  {
   "cell_type": "markdown",
   "id": "903bfc0e-4be3-4689-8071-f5a2584e9308",
   "metadata": {},
   "source": [
    "View the counterparty's UTxOs."
   ]
  },
  {
   "cell_type": "code",
   "execution_count": 103,
   "id": "39d0b7d3-15b5-47e5-8c79-0f58941ceb87",
   "metadata": {},
   "outputs": [
    {
     "name": "stdout",
     "output_type": "stream",
     "text": [
      "                           TxHash                                 TxIx        Amount\n",
      "--------------------------------------------------------------------------------------\n",
      "7f0428a9456f56fcac18d7f5b6ef90f3e6b9b22fbbc7459c67a218a49dedc253     2        1043020 lovelace + 1 42e84366ff974676655faf4f99f917145a12d29335ecb8162e6f843c.426f72726f776572 + TxOutDatumNone\n",
      "9b9cb00e41f602fbdad226010342614a233294d0ccf80387c6b584bf9f8fdc18     1        250000000 lovelace + TxOutDatumNone\n",
      "b2a9bca0c5481983ea8c63aa78a29b91ef29f608e50b48553b3f5c8e88a33d1c     1        2000000 lovelace + 1 567a873dff9bad13eb231829ebe26ad545862078c5251b8ef84dac9f.426f72726f776572 + TxOutDatumNone\n"
     ]
    }
   ],
   "source": [
    "cardano-cli query utxo \"${MAGIC[@]}\" --address \"$COUNTERPARTY_ADDR\""
   ]
  },
  {
   "cell_type": "markdown",
   "id": "844cbfbb-2e11-4638-b393-3e13fd5ef47f",
   "metadata": {},
   "source": [
    "View the contract's history."
   ]
  },
  {
   "cell_type": "code",
   "execution_count": 104,
   "id": "f7f41b02-3418-4bc5-a3cd-035a437b3b28",
   "metadata": {},
   "outputs": [
    {
     "name": "stdout",
     "output_type": "stream",
     "text": [
      "\u001b[93mtransaction 7f0428a9456f56fcac18d7f5b6ef90f3e6b9b22fbbc7459c67a218a49dedc253 (creation)\n",
      "\u001b[0mContractId:      7f0428a9456f56fcac18d7f5b6ef90f3e6b9b22fbbc7459c67a218a49dedc253#1\n",
      "SlotNo:          6980558\n",
      "BlockNo:         322731\n",
      "BlockId:         51785845562e3493647637e398775d62f70bff778b2793e0787acb6c551f8c2a\n",
      "ScriptAddress:   addr_test1wp4f8ywk4fg672xasahtk4t9k6w3aql943uxz5rt62d4dvqu3c6jv\n",
      "Marlowe Version: 1\n",
      "\n",
      "    When [\n",
      "      (Case\n",
      "         (Deposit Role \"Lender\" Role \"Lender\"\n",
      "            (Token \"\" \"\")\n",
      "            (NegValue\n",
      "               (NegValue\n",
      "                  (Constant 100000000))))\n",
      "         (Pay Role \"Lender\"\n",
      "            (Party Role \"Borrower\")\n",
      "            (Token \"\" \"\")\n",
      "            (Constant 100000000)\n",
      "            (When [\n",
      "               (Case\n",
      "                  (Deposit Role \"Borrower\" Role \"Borrower\"\n",
      "                     (Token \"\" \"\")\n",
      "                     (Constant 2000000))\n",
      "                  (Pay Role \"Borrower\"\n",
      "                     (Party Role \"Lender\")\n",
      "                     (Token \"\" \"\")\n",
      "                     (Constant 2000000)\n",
      "                     (When [\n",
      "                        (Case\n",
      "                           (Deposit Role \"Borrower\" Role \"Borrower\"\n",
      "                              (Token \"\" \"\")\n",
      "                              (Constant 100000000))\n",
      "                           (Pay Role \"Borrower\"\n",
      "                              (Party Role \"Lender\")\n",
      "                              (Token \"\" \"\")\n",
      "                              (Constant 100000000) Close))] 1666984620000 Close)))] 1666984620000 Close)))] 1666984320000 Close\n",
      "\n",
      "\u001b[93mtransaction e4dd26d440107de4af57274f640bde39bebd0364ceb43fbdaf86346187bf3736\n",
      "\u001b[0mContractId: 7f0428a9456f56fcac18d7f5b6ef90f3e6b9b22fbbc7459c67a218a49dedc253#1\n",
      "SlotNo:     6980594\n",
      "BlockNo:    322733\n",
      "BlockId:    4f0af30bb59acfdad8a1cb47c75457dfb6826f732db765f22365a1df42dabacd\n",
      "Inputs:     [NormalInput (IDeposit \"Lender\" \"Lender\" (Token \"\" \"\") 100000000)]\n",
      "\n",
      "    When [\n",
      "      (Case\n",
      "         (Deposit Role \"Borrower\" Role \"Borrower\"\n",
      "            (Token \"\" \"\")\n",
      "            (Constant 2000000))\n",
      "         (Pay Role \"Borrower\"\n",
      "            (Party Role \"Lender\")\n",
      "            (Token \"\" \"\")\n",
      "            (Constant 2000000)\n",
      "            (When [\n",
      "               (Case\n",
      "                  (Deposit Role \"Borrower\" Role \"Borrower\"\n",
      "                     (Token \"\" \"\")\n",
      "                     (Constant 100000000))\n",
      "                  (Pay Role \"Borrower\"\n",
      "                     (Party Role \"Lender\")\n",
      "                     (Token \"\" \"\")\n",
      "                     (Constant 100000000) Close))] 1666984620000 Close)))] 1666984620000 Close\n",
      "\n"
     ]
    }
   ],
   "source": [
    "marlowe log --show-contract \"$CONTRACT_ID\""
   ]
  },
  {
   "cell_type": "markdown",
   "id": "180f4297-da9a-4586-b402-7bea959cde51",
   "metadata": {},
   "source": [
    "### Transaction 3. Counterparty repays the loan's interest"
   ]
  },
  {
   "cell_type": "markdown",
   "id": "921eea56-2cda-4a0f-9738-2af638900ace",
   "metadata": {},
   "source": [
    "The counterparty repays the interest."
   ]
  },
  {
   "cell_type": "code",
   "execution_count": 105,
   "id": "aed96149-4bfa-435a-92eb-bc7edadb82ed",
   "metadata": {},
   "outputs": [
    {
     "name": "stdout",
     "output_type": "stream",
     "text": [
      "TX_3 = eb676d43d0a7bd13b91beaedb8ac2d204acf75d6970ccc3583157a4db61dfd7d\n"
     ]
    }
   ],
   "source": [
    "TX_3=$(\n",
    "marlowe deposit \\\n",
    "  --contract \"$CONTRACT_ID\" \\\n",
    "  --from-party Borrower \\\n",
    "  --to-party Borrower \\\n",
    "  --lovelace \"$((INTEREST*FIXED_POINT))\" \\\n",
    "  --validity-lower-bound \"$((NOW-5*MINUTE))\" \\\n",
    "  --validity-upper-bound \"$((NOW+9*MINUTE))\" \\\n",
    "  --change-address \"$COUNTERPARTY_ADDR\" \\\n",
    "  --address \"$COUNTERPARTY_ADDR\" \\\n",
    "  --manual-sign deposit-3.txbody \\\n",
    "| sed -e 's/^.*\"\\([^\\\\]*\\)\\\\.*$/\\1/' \\\n",
    ")\n",
    "echo \"TX_3 = $TX_3\""
   ]
  },
  {
   "cell_type": "markdown",
   "id": "c3e994e5-78ee-423f-9c93-16445a591bd5",
   "metadata": {},
   "source": [
    "Sign the transaction."
   ]
  },
  {
   "cell_type": "code",
   "execution_count": 106,
   "id": "aab08869-94f9-42fb-a407-53d297f83545",
   "metadata": {},
   "outputs": [],
   "source": [
    "cardano-cli transaction sign \\\n",
    "  --tx-body-file deposit-3.txbody \\\n",
    "  --out-file     deposit-3.tx \\\n",
    "  --signing-key-file \"$COUNTERPARTY_SKEY\""
   ]
  },
  {
   "cell_type": "markdown",
   "id": "2ba52feb-ad4c-4e7c-abd3-77f92c84cfc9",
   "metadata": {},
   "source": [
    "Submit the transaction using Marlowe Runtime."
   ]
  },
  {
   "cell_type": "code",
   "execution_count": 107,
   "id": "113b0b07-815d-4bd5-a971-a71536f236cd",
   "metadata": {},
   "outputs": [
    {
     "name": "stdout",
     "output_type": "stream",
     "text": [
      "\"{\\\"blockHeaderHash\\\":\\\"179a53381f34f86a56f818f405a92c8339ca7299a61e0857166be5e9e1448450\\\",\\\"blockNo\\\":322735,\\\"slotNo\\\":6980662}\"\n"
     ]
    }
   ],
   "source": [
    "marlowe submit deposit-3.tx"
   ]
  },
  {
   "cell_type": "markdown",
   "id": "ab54430d-c4bb-4dff-8ed7-c15935fc3e37",
   "metadata": {},
   "source": [
    "View the contract's UTxO."
   ]
  },
  {
   "cell_type": "code",
   "execution_count": 108,
   "id": "76dc964a-fc31-4d16-a6cc-605c83bd7e88",
   "metadata": {},
   "outputs": [
    {
     "name": "stdout",
     "output_type": "stream",
     "text": [
      "                           TxHash                                 TxIx        Amount\n",
      "--------------------------------------------------------------------------------------\n",
      "eb676d43d0a7bd13b91beaedb8ac2d204acf75d6970ccc3583157a4db61dfd7d     1        3000000 lovelace + TxOutDatumHash ScriptDataInBabbageEra \"42e18c33625c28d765b400c24135d8a3918bf9c0a5b0d85fe4f29d0c7655bb3f\"\n"
     ]
    }
   ],
   "source": [
    "cardano-cli query utxo \"${MAGIC[@]}\" --address \"$CONTRACT_ADDR\" | sed -n -e \"1,2p;/${TX_3//#*/}/p\""
   ]
  },
  {
   "cell_type": "markdown",
   "id": "91fb6f14-42a4-474b-9db3-6525d6c76b98",
   "metadata": {},
   "source": [
    "View the party's UTxOs."
   ]
  },
  {
   "cell_type": "code",
   "execution_count": 109,
   "id": "8059bc85-7b6b-49da-8fc3-4474786a131e",
   "metadata": {},
   "outputs": [
    {
     "name": "stdout",
     "output_type": "stream",
     "text": [
      "                           TxHash                                 TxIx        Amount\n",
      "--------------------------------------------------------------------------------------\n",
      "7f0428a9456f56fcac18d7f5b6ef90f3e6b9b22fbbc7459c67a218a49dedc253     4        1034400 lovelace + 1 567a873dff9bad13eb231829ebe26ad545862078c5251b8ef84dac9f.4c656e646572 + TxOutDatumNone\n",
      "e4dd26d440107de4af57274f640bde39bebd0364ceb43fbdaf86346187bf3736     0        144586942 lovelace + TxOutDatumNone\n",
      "e4dd26d440107de4af57274f640bde39bebd0364ceb43fbdaf86346187bf3736     2        1034400 lovelace + 1 42e84366ff974676655faf4f99f917145a12d29335ecb8162e6f843c.4c656e646572 + TxOutDatumNone\n"
     ]
    }
   ],
   "source": [
    "cardano-cli query utxo \"${MAGIC[@]}\" --address \"$PARTY_ADDR\""
   ]
  },
  {
   "cell_type": "markdown",
   "id": "43101080-aef3-4aa6-867a-385a91ebec64",
   "metadata": {},
   "source": [
    "View the counterparty's UTxOs."
   ]
  },
  {
   "cell_type": "code",
   "execution_count": 110,
   "id": "0fde72d0-2c71-4ad5-b4e6-44e5f1f4dc35",
   "metadata": {},
   "outputs": [
    {
     "name": "stdout",
     "output_type": "stream",
     "text": [
      "                           TxHash                                 TxIx        Amount\n",
      "--------------------------------------------------------------------------------------\n",
      "b2a9bca0c5481983ea8c63aa78a29b91ef29f608e50b48553b3f5c8e88a33d1c     1        2000000 lovelace + 1 567a873dff9bad13eb231829ebe26ad545862078c5251b8ef84dac9f.426f72726f776572 + TxOutDatumNone\n",
      "eb676d43d0a7bd13b91beaedb8ac2d204acf75d6970ccc3583157a4db61dfd7d     0        247227684 lovelace + TxOutDatumNone\n",
      "eb676d43d0a7bd13b91beaedb8ac2d204acf75d6970ccc3583157a4db61dfd7d     2        1043020 lovelace + 1 42e84366ff974676655faf4f99f917145a12d29335ecb8162e6f843c.426f72726f776572 + TxOutDatumNone\n"
     ]
    }
   ],
   "source": [
    "cardano-cli query utxo \"${MAGIC[@]}\" --address \"$COUNTERPARTY_ADDR\""
   ]
  },
  {
   "cell_type": "markdown",
   "id": "1a8e7d17-cb7a-49eb-8cc9-377cc5a2ed44",
   "metadata": {},
   "source": [
    "View the contract's history."
   ]
  },
  {
   "cell_type": "code",
   "execution_count": 111,
   "id": "616eda62-08ae-40f0-a967-bc6fbda74245",
   "metadata": {},
   "outputs": [
    {
     "name": "stdout",
     "output_type": "stream",
     "text": [
      "\u001b[93mtransaction 7f0428a9456f56fcac18d7f5b6ef90f3e6b9b22fbbc7459c67a218a49dedc253 (creation)\n",
      "\u001b[0mContractId:      7f0428a9456f56fcac18d7f5b6ef90f3e6b9b22fbbc7459c67a218a49dedc253#1\n",
      "SlotNo:          6980558\n",
      "BlockNo:         322731\n",
      "BlockId:         51785845562e3493647637e398775d62f70bff778b2793e0787acb6c551f8c2a\n",
      "ScriptAddress:   addr_test1wp4f8ywk4fg672xasahtk4t9k6w3aql943uxz5rt62d4dvqu3c6jv\n",
      "Marlowe Version: 1\n",
      "\n",
      "    When [\n",
      "      (Case\n",
      "         (Deposit Role \"Lender\" Role \"Lender\"\n",
      "            (Token \"\" \"\")\n",
      "            (NegValue\n",
      "               (NegValue\n",
      "                  (Constant 100000000))))\n",
      "         (Pay Role \"Lender\"\n",
      "            (Party Role \"Borrower\")\n",
      "            (Token \"\" \"\")\n",
      "            (Constant 100000000)\n",
      "            (When [\n",
      "               (Case\n",
      "                  (Deposit Role \"Borrower\" Role \"Borrower\"\n",
      "                     (Token \"\" \"\")\n",
      "                     (Constant 2000000))\n",
      "                  (Pay Role \"Borrower\"\n",
      "                     (Party Role \"Lender\")\n",
      "                     (Token \"\" \"\")\n",
      "                     (Constant 2000000)\n",
      "                     (When [\n",
      "                        (Case\n",
      "                           (Deposit Role \"Borrower\" Role \"Borrower\"\n",
      "                              (Token \"\" \"\")\n",
      "                              (Constant 100000000))\n",
      "                           (Pay Role \"Borrower\"\n",
      "                              (Party Role \"Lender\")\n",
      "                              (Token \"\" \"\")\n",
      "                              (Constant 100000000) Close))] 1666984620000 Close)))] 1666984620000 Close)))] 1666984320000 Close\n",
      "\n",
      "\u001b[93mtransaction e4dd26d440107de4af57274f640bde39bebd0364ceb43fbdaf86346187bf3736\n",
      "\u001b[0mContractId: 7f0428a9456f56fcac18d7f5b6ef90f3e6b9b22fbbc7459c67a218a49dedc253#1\n",
      "SlotNo:     6980594\n",
      "BlockNo:    322733\n",
      "BlockId:    4f0af30bb59acfdad8a1cb47c75457dfb6826f732db765f22365a1df42dabacd\n",
      "Inputs:     [NormalInput (IDeposit \"Lender\" \"Lender\" (Token \"\" \"\") 100000000)]\n",
      "\n",
      "    When [\n",
      "      (Case\n",
      "         (Deposit Role \"Borrower\" Role \"Borrower\"\n",
      "            (Token \"\" \"\")\n",
      "            (Constant 2000000))\n",
      "         (Pay Role \"Borrower\"\n",
      "            (Party Role \"Lender\")\n",
      "            (Token \"\" \"\")\n",
      "            (Constant 2000000)\n",
      "            (When [\n",
      "               (Case\n",
      "                  (Deposit Role \"Borrower\" Role \"Borrower\"\n",
      "                     (Token \"\" \"\")\n",
      "                     (Constant 100000000))\n",
      "                  (Pay Role \"Borrower\"\n",
      "                     (Party Role \"Lender\")\n",
      "                     (Token \"\" \"\")\n",
      "                     (Constant 100000000) Close))] 1666984620000 Close)))] 1666984620000 Close\n",
      "\n",
      "\u001b[93mtransaction eb676d43d0a7bd13b91beaedb8ac2d204acf75d6970ccc3583157a4db61dfd7d\n",
      "\u001b[0mContractId: 7f0428a9456f56fcac18d7f5b6ef90f3e6b9b22fbbc7459c67a218a49dedc253#1\n",
      "SlotNo:     6980662\n",
      "BlockNo:    322735\n",
      "BlockId:    179a53381f34f86a56f818f405a92c8339ca7299a61e0857166be5e9e1448450\n",
      "Inputs:     [NormalInput (IDeposit \"Borrower\" \"Borrower\" (Token \"\" \"\") 2000000)]\n",
      "\n",
      "    When [\n",
      "      (Case\n",
      "         (Deposit Role \"Borrower\" Role \"Borrower\"\n",
      "            (Token \"\" \"\")\n",
      "            (Constant 100000000))\n",
      "         (Pay Role \"Borrower\"\n",
      "            (Party Role \"Lender\")\n",
      "            (Token \"\" \"\")\n",
      "            (Constant 100000000) Close))] 1666984620000 Close\n",
      "\n"
     ]
    }
   ],
   "source": [
    "marlowe log --show-contract \"$CONTRACT_ID\""
   ]
  },
  {
   "cell_type": "markdown",
   "id": "7420647f-210f-4ec5-a77d-473eee9cb96d",
   "metadata": {},
   "source": [
    "### Transaction 4. Counterparty repays the loan's principal"
   ]
  },
  {
   "cell_type": "markdown",
   "id": "cc62efb7-f762-4684-9428-62d07589f129",
   "metadata": {},
   "source": [
    "The counterparty repays the principal."
   ]
  },
  {
   "cell_type": "code",
   "execution_count": 112,
   "id": "a0f48feb-79b8-4ee7-b48c-238c6a1b2c97",
   "metadata": {},
   "outputs": [
    {
     "name": "stdout",
     "output_type": "stream",
     "text": [
      "TX_4 = fa43d0b49047ace9b32f44944989c68b6b0db8615bfd1559277558ffde6b23da\n"
     ]
    }
   ],
   "source": [
    "TX_4=$(\n",
    "marlowe deposit \\\n",
    "  --contract \"$CONTRACT_ID\" \\\n",
    "  --from-party Borrower \\\n",
    "  --to-party Borrower \\\n",
    "  --lovelace \"$((PRINCIPAL*FIXED_POINT))\" \\\n",
    "  --validity-lower-bound \"$((NOW-5*MINUTE))\" \\\n",
    "  --validity-upper-bound \"$((NOW+9*MINUTE))\" \\\n",
    "  --change-address \"$COUNTERPARTY_ADDR\" \\\n",
    "  --address \"$COUNTERPARTY_ADDR\" \\\n",
    "  --manual-sign deposit-4.txbody \\\n",
    "| sed -e 's/^.*\"\\([^\\\\]*\\)\\\\.*$/\\1/' \\\n",
    ")\n",
    "echo \"TX_4 = $TX_4\""
   ]
  },
  {
   "cell_type": "markdown",
   "id": "425d1c71-c0f3-458f-86f3-dec0e1840ac2",
   "metadata": {},
   "source": [
    "Sign the transaction."
   ]
  },
  {
   "cell_type": "code",
   "execution_count": 113,
   "id": "725ec119-acd8-40b5-acf1-e4600b58eff8",
   "metadata": {},
   "outputs": [],
   "source": [
    "cardano-cli transaction sign \\\n",
    "  --tx-body-file deposit-4.txbody \\\n",
    "  --out-file     deposit-4.tx \\\n",
    "  --signing-key-file \"$COUNTERPARTY_SKEY\""
   ]
  },
  {
   "cell_type": "markdown",
   "id": "47341232-b7a9-42f9-9a10-ddb688590f7c",
   "metadata": {},
   "source": [
    "Submit the transaction using Marlowe Runtime."
   ]
  },
  {
   "cell_type": "code",
   "execution_count": 114,
   "id": "00354c05-0448-4c4f-b859-61c510b82ef8",
   "metadata": {},
   "outputs": [
    {
     "name": "stdout",
     "output_type": "stream",
     "text": [
      "\"{\\\"blockHeaderHash\\\":\\\"584f926987508abbf086688d3e1bf9853cdda478565cf46f39db5f8370a982a6\\\",\\\"blockNo\\\":322736,\\\"slotNo\\\":6980746}\"\n"
     ]
    }
   ],
   "source": [
    "marlowe submit deposit-4.tx"
   ]
  },
  {
   "cell_type": "markdown",
   "id": "4920f032-d229-49f0-9d05-4e43d186fee9",
   "metadata": {},
   "source": [
    "Check that there is no UTxO for the contract."
   ]
  },
  {
   "cell_type": "code",
   "execution_count": 115,
   "id": "415aaf13-94f9-4453-89f0-6a710a38437b",
   "metadata": {},
   "outputs": [
    {
     "name": "stdout",
     "output_type": "stream",
     "text": [
      "                           TxHash                                 TxIx        Amount\n",
      "--------------------------------------------------------------------------------------\n"
     ]
    }
   ],
   "source": [
    "cardano-cli query utxo \"${MAGIC[@]}\" --address \"$CONTRACT_ADDR\" | sed -n -e \"1,2p;/${TX_4//#*/}/p\""
   ]
  },
  {
   "cell_type": "markdown",
   "id": "adb0d4dc-393c-4bdb-8829-656c53743b4f",
   "metadata": {},
   "source": [
    "View the party's UTxOs."
   ]
  },
  {
   "cell_type": "code",
   "execution_count": 116,
   "id": "5304bc05-29e3-4978-b976-586737d0d3a8",
   "metadata": {},
   "outputs": [
    {
     "name": "stdout",
     "output_type": "stream",
     "text": [
      "                           TxHash                                 TxIx        Amount\n",
      "--------------------------------------------------------------------------------------\n",
      "7f0428a9456f56fcac18d7f5b6ef90f3e6b9b22fbbc7459c67a218a49dedc253     4        1034400 lovelace + 1 567a873dff9bad13eb231829ebe26ad545862078c5251b8ef84dac9f.4c656e646572 + TxOutDatumNone\n",
      "e4dd26d440107de4af57274f640bde39bebd0364ceb43fbdaf86346187bf3736     0        144586942 lovelace + TxOutDatumNone\n",
      "e4dd26d440107de4af57274f640bde39bebd0364ceb43fbdaf86346187bf3736     2        1034400 lovelace + 1 42e84366ff974676655faf4f99f917145a12d29335ecb8162e6f843c.4c656e646572 + TxOutDatumNone\n",
      "fa43d0b49047ace9b32f44944989c68b6b0db8615bfd1559277558ffde6b23da     3        3000000 lovelace + TxOutDatumNone\n"
     ]
    }
   ],
   "source": [
    "cardano-cli query utxo \"${MAGIC[@]}\" --address \"$PARTY_ADDR\""
   ]
  },
  {
   "cell_type": "markdown",
   "id": "12368429-b608-4631-ba71-d7fab383a9d4",
   "metadata": {},
   "source": [
    "View the counterparty's UTxOs."
   ]
  },
  {
   "cell_type": "code",
   "execution_count": 117,
   "id": "356b0519-a027-4c30-bbcc-c874776d63c5",
   "metadata": {},
   "outputs": [
    {
     "name": "stdout",
     "output_type": "stream",
     "text": [
      "                           TxHash                                 TxIx        Amount\n",
      "--------------------------------------------------------------------------------------\n",
      "b2a9bca0c5481983ea8c63aa78a29b91ef29f608e50b48553b3f5c8e88a33d1c     1        2000000 lovelace + 1 567a873dff9bad13eb231829ebe26ad545862078c5251b8ef84dac9f.426f72726f776572 + TxOutDatumNone\n",
      "fa43d0b49047ace9b32f44944989c68b6b0db8615bfd1559277558ffde6b23da     0        146555284 lovelace + TxOutDatumNone\n",
      "fa43d0b49047ace9b32f44944989c68b6b0db8615bfd1559277558ffde6b23da     1        1043020 lovelace + 1 42e84366ff974676655faf4f99f917145a12d29335ecb8162e6f843c.426f72726f776572 + TxOutDatumNone\n"
     ]
    }
   ],
   "source": [
    "cardano-cli query utxo \"${MAGIC[@]}\" --address \"$COUNTERPARTY_ADDR\""
   ]
  },
  {
   "cell_type": "markdown",
   "id": "35f26baa-7fe8-45b8-9c5a-bdff1a33ca91",
   "metadata": {},
   "source": [
    "View the contract's history."
   ]
  },
  {
   "cell_type": "code",
   "execution_count": 118,
   "id": "625cb044-f4c4-473b-9b68-b6cbf3862466",
   "metadata": {},
   "outputs": [
    {
     "name": "stdout",
     "output_type": "stream",
     "text": [
      "\u001b[93mtransaction 7f0428a9456f56fcac18d7f5b6ef90f3e6b9b22fbbc7459c67a218a49dedc253 (creation)\n",
      "\u001b[0mContractId:      7f0428a9456f56fcac18d7f5b6ef90f3e6b9b22fbbc7459c67a218a49dedc253#1\n",
      "SlotNo:          6980558\n",
      "BlockNo:         322731\n",
      "BlockId:         51785845562e3493647637e398775d62f70bff778b2793e0787acb6c551f8c2a\n",
      "ScriptAddress:   addr_test1wp4f8ywk4fg672xasahtk4t9k6w3aql943uxz5rt62d4dvqu3c6jv\n",
      "Marlowe Version: 1\n",
      "\n",
      "    When [\n",
      "      (Case\n",
      "         (Deposit Role \"Lender\" Role \"Lender\"\n",
      "            (Token \"\" \"\")\n",
      "            (NegValue\n",
      "               (NegValue\n",
      "                  (Constant 100000000))))\n",
      "         (Pay Role \"Lender\"\n",
      "            (Party Role \"Borrower\")\n",
      "            (Token \"\" \"\")\n",
      "            (Constant 100000000)\n",
      "            (When [\n",
      "               (Case\n",
      "                  (Deposit Role \"Borrower\" Role \"Borrower\"\n",
      "                     (Token \"\" \"\")\n",
      "                     (Constant 2000000))\n",
      "                  (Pay Role \"Borrower\"\n",
      "                     (Party Role \"Lender\")\n",
      "                     (Token \"\" \"\")\n",
      "                     (Constant 2000000)\n",
      "                     (When [\n",
      "                        (Case\n",
      "                           (Deposit Role \"Borrower\" Role \"Borrower\"\n",
      "                              (Token \"\" \"\")\n",
      "                              (Constant 100000000))\n",
      "                           (Pay Role \"Borrower\"\n",
      "                              (Party Role \"Lender\")\n",
      "                              (Token \"\" \"\")\n",
      "                              (Constant 100000000) Close))] 1666984620000 Close)))] 1666984620000 Close)))] 1666984320000 Close\n",
      "\n",
      "\u001b[93mtransaction e4dd26d440107de4af57274f640bde39bebd0364ceb43fbdaf86346187bf3736\n",
      "\u001b[0mContractId: 7f0428a9456f56fcac18d7f5b6ef90f3e6b9b22fbbc7459c67a218a49dedc253#1\n",
      "SlotNo:     6980594\n",
      "BlockNo:    322733\n",
      "BlockId:    4f0af30bb59acfdad8a1cb47c75457dfb6826f732db765f22365a1df42dabacd\n",
      "Inputs:     [NormalInput (IDeposit \"Lender\" \"Lender\" (Token \"\" \"\") 100000000)]\n",
      "\n",
      "    When [\n",
      "      (Case\n",
      "         (Deposit Role \"Borrower\" Role \"Borrower\"\n",
      "            (Token \"\" \"\")\n",
      "            (Constant 2000000))\n",
      "         (Pay Role \"Borrower\"\n",
      "            (Party Role \"Lender\")\n",
      "            (Token \"\" \"\")\n",
      "            (Constant 2000000)\n",
      "            (When [\n",
      "               (Case\n",
      "                  (Deposit Role \"Borrower\" Role \"Borrower\"\n",
      "                     (Token \"\" \"\")\n",
      "                     (Constant 100000000))\n",
      "                  (Pay Role \"Borrower\"\n",
      "                     (Party Role \"Lender\")\n",
      "                     (Token \"\" \"\")\n",
      "                     (Constant 100000000) Close))] 1666984620000 Close)))] 1666984620000 Close\n",
      "\n",
      "\u001b[93mtransaction eb676d43d0a7bd13b91beaedb8ac2d204acf75d6970ccc3583157a4db61dfd7d\n",
      "\u001b[0mContractId: 7f0428a9456f56fcac18d7f5b6ef90f3e6b9b22fbbc7459c67a218a49dedc253#1\n",
      "SlotNo:     6980662\n",
      "BlockNo:    322735\n",
      "BlockId:    179a53381f34f86a56f818f405a92c8339ca7299a61e0857166be5e9e1448450\n",
      "Inputs:     [NormalInput (IDeposit \"Borrower\" \"Borrower\" (Token \"\" \"\") 2000000)]\n",
      "\n",
      "    When [\n",
      "      (Case\n",
      "         (Deposit Role \"Borrower\" Role \"Borrower\"\n",
      "            (Token \"\" \"\")\n",
      "            (Constant 100000000))\n",
      "         (Pay Role \"Borrower\"\n",
      "            (Party Role \"Lender\")\n",
      "            (Token \"\" \"\")\n",
      "            (Constant 100000000) Close))] 1666984620000 Close\n",
      "\n",
      "\u001b[93mtransaction fa43d0b49047ace9b32f44944989c68b6b0db8615bfd1559277558ffde6b23da (close)\n",
      "\u001b[0mContractId: 7f0428a9456f56fcac18d7f5b6ef90f3e6b9b22fbbc7459c67a218a49dedc253#1\n",
      "SlotNo:     6980746\n",
      "BlockNo:    322736\n",
      "BlockId:    584f926987508abbf086688d3e1bf9853cdda478565cf46f39db5f8370a982a6\n",
      "Inputs:     [NormalInput (IDeposit \"Borrower\" \"Borrower\" (Token \"\" \"\") 100000000)]\n",
      "\n",
      "\n"
     ]
    }
   ],
   "source": [
    "marlowe log --show-contract \"$CONTRACT_ID\""
   ]
  },
  {
   "cell_type": "markdown",
   "id": "c0ccaa90-d5d4-49b5-870c-d6429ed64ae0",
   "metadata": {},
   "source": [
    "## Cleanup"
   ]
  },
  {
   "cell_type": "markdown",
   "id": "86585e47-22db-46db-94a6-80b4a00b2147",
   "metadata": {},
   "source": [
    "Remove the contract from history tracking."
   ]
  },
  {
   "cell_type": "code",
   "execution_count": 119,
   "id": "eea2d290-46e0-4a5c-a587-f0dd4afda600",
   "metadata": {},
   "outputs": [
    {
     "name": "stdout",
     "output_type": "stream",
     "text": [
      "7f0428a9456f56fcac18d7f5b6ef90f3e6b9b22fbbc7459c67a218a49dedc253#1\n"
     ]
    }
   ],
   "source": [
    "marlowe rm \"$CONTRACT_ID\""
   ]
  },
  {
   "cell_type": "code",
   "execution_count": 120,
   "id": "cca2e9c5-d78b-4207-b599-feca36afb4c6",
   "metadata": {},
   "outputs": [],
   "source": [
    "marlowe ls"
   ]
  },
  {
   "cell_type": "markdown",
   "id": "b6916f2a-426a-4c31-8499-610f83df1d7c",
   "metadata": {},
   "source": [
    "Consolidate the UTxOs at the addresses."
   ]
  },
  {
   "cell_type": "code",
   "execution_count": 121,
   "id": "303c1567-db4f-4659-a032-31706072ba15",
   "metadata": {},
   "outputs": [
    {
     "name": "stdout",
     "output_type": "stream",
     "text": [
      "TxId \"487370a377bbeb4ccf08bfac21b406d87b892e6cdddae46a3615a07c936d9c09\"\n"
     ]
    }
   ],
   "source": [
    "marlowe-cli util clean \\\n",
    "  --change-address \"$PARTY_ADDR\" \\\n",
    "  --required-signer \"$PARTY_SKEY\" \\\n",
    "  --out-file /dev/null \\\n",
    "  --submit 600"
   ]
  },
  {
   "cell_type": "code",
   "execution_count": 122,
   "id": "3084ac48-3e9f-4399-aba8-a5fa487006c0",
   "metadata": {},
   "outputs": [
    {
     "name": "stdout",
     "output_type": "stream",
     "text": [
      "TxId \"00aa78921bdbf83140390af828bb8c325628cf4bb0d84d21f4512c08e132f8d0\"\n"
     ]
    }
   ],
   "source": [
    "marlowe-cli util clean \\\n",
    "  --change-address \"$COUNTERPARTY_ADDR\" \\\n",
    "  --required-signer \"$COUNTERPARTY_SKEY\" \\\n",
    "  --out-file /dev/null \\\n",
    "  --submit 600"
   ]
  },
  {
   "cell_type": "markdown",
   "id": "5ddc612f-57ca-4e17-96f2-658baa3ef7e8",
   "metadata": {},
   "source": [
    "Send the funds back to the faucet."
   ]
  },
  {
   "cell_type": "code",
   "execution_count": 123,
   "id": "a300a576-a800-4fdd-9d45-bc6cc3c901a8",
   "metadata": {},
   "outputs": [
    {
     "name": "stdout",
     "output_type": "stream",
     "text": [
      "TxId \"fba80e3f2ab226d30f697af3f8ec3850ac885f95eab8be16ceb9dc0d1fd792d2\"\n"
     ]
    }
   ],
   "source": [
    "marlowe-cli transaction simple \\\n",
    "  --tx-in \"$(marlowe-cli util select --lovelace-only 1 \"$PARTY_ADDR\" | sed -n -e 's/^TxIn \"\\(.*\\)\" (TxIx \\(.*\\))$/\\1#\\2/;1p')\" \\\n",
    "  --tx-in \"$(marlowe-cli util select --lovelace-only 1 \"$COUNTERPARTY_ADDR\" | sed -n -e 's/^TxIn \"\\(.*\\)\" (TxIx \\(.*\\))$/\\1#\\2/;1p')\" \\\n",
    "  --required-signer \"$PARTY_SKEY\" \\\n",
    "  --required-signer \"$COUNTERPARTY_SKEY\" \\\n",
    "  --change-address \"$FAUCET_ADDR\" \\\n",
    "  --out-file /dev/null \\\n",
    "  --submit 600"
   ]
  },
  {
   "cell_type": "markdown",
   "id": "927fa5b5-92d2-4133-9a28-dcce900ee190",
   "metadata": {},
   "source": [
    "See that the funds have been returned to the faucet."
   ]
  },
  {
   "cell_type": "code",
   "execution_count": 124,
   "id": "9787b014",
   "metadata": {},
   "outputs": [
    {
     "name": "stdout",
     "output_type": "stream",
     "text": [
      "                           TxHash                                 TxIx        Amount\n",
      "--------------------------------------------------------------------------------------\n",
      "00aa78921bdbf83140390af828bb8c325628cf4bb0d84d21f4512c08e132f8d0     1        2000000 lovelace + 1 42e84366ff974676655faf4f99f917145a12d29335ecb8162e6f843c.426f72726f776572 + TxOutDatumNone\n",
      "00aa78921bdbf83140390af828bb8c325628cf4bb0d84d21f4512c08e132f8d0     2        2000000 lovelace + 1 567a873dff9bad13eb231829ebe26ad545862078c5251b8ef84dac9f.426f72726f776572 + TxOutDatumNone\n",
      "487370a377bbeb4ccf08bfac21b406d87b892e6cdddae46a3615a07c936d9c09     1        2000000 lovelace + 1 42e84366ff974676655faf4f99f917145a12d29335ecb8162e6f843c.4c656e646572 + TxOutDatumNone\n",
      "487370a377bbeb4ccf08bfac21b406d87b892e6cdddae46a3615a07c936d9c09     2        2000000 lovelace + 1 567a873dff9bad13eb231829ebe26ad545862078c5251b8ef84dac9f.4c656e646572 + TxOutDatumNone\n"
     ]
    }
   ],
   "source": [
    "cardano-cli query utxo \"${MAGIC[@]}\" --address \"$PARTY_ADDR\" --address \"$COUNTERPARTY_ADDR\""
   ]
  },
  {
   "cell_type": "markdown",
   "id": "8ba29423-54cc-4604-ba59-47819ef2d1af",
   "metadata": {
    "tags": []
   },
   "source": [
    "Note that we don't have a way at this time to burn the role tokens! So they'll be sitting in these addresses."
   ]
  },
  {
   "cell_type": "code",
   "execution_count": null,
   "id": "1a99c03b-11ed-47a5-b14a-45e5b20a77f8",
   "metadata": {},
   "outputs": [],
   "source": []
  }
 ],
 "metadata": {
  "kernelspec": {
   "display_name": "Bash - Marlowe",
   "language": "bash",
   "name": "bash_marlowe"
  },
  "language_info": {
   "codemirror_mode": "shell",
   "file_extension": ".sh",
   "mimetype": "text/x-sh",
   "name": "/nix/store/l0wlqpbsvh1pgvhcdhw7qkka3d31si7k-bash-5.1-p8/bin/bash"
  }
 },
 "nbformat": 4,
 "nbformat_minor": 5
}
