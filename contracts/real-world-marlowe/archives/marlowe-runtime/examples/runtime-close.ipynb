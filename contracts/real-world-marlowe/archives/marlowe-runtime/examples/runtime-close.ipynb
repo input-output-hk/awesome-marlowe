{
 "cells": [
  {
   "cell_type": "markdown",
   "id": "ff12ef20-4800-40fc-bf1a-b48def801ee9",
   "metadata": {},
   "source": [
    "# `Close` Contract on Mainnet Using Marlowe Runtime\n",
    "\n",
    "This is the first contract executed on `mainnet` solely using the Marlowe Runtime backend."
   ]
  },
  {
   "cell_type": "markdown",
   "id": "b4002252-fe9f-40e4-a371-d4d6b57316de",
   "metadata": {},
   "source": [
    "## Preliminaries"
   ]
  },
  {
   "cell_type": "markdown",
   "id": "dab2352b-0021-4998-9107-c5cc32d3734c",
   "metadata": {},
   "source": [
    "Record version numbers"
   ]
  },
  {
   "cell_type": "code",
   "execution_count": 1,
   "id": "4832053a-541d-4acd-a781-e7b31a3d28e1",
   "metadata": {},
   "outputs": [
    {
     "name": "stdout",
     "output_type": "stream",
     "text": [
      "marlowe-cli 0.0.10.0 @ 82e72feafb1fcd869c9744fde537527227fafed2 «mainnet»\n"
     ]
    }
   ],
   "source": [
    "marlowe-cli --version"
   ]
  },
  {
   "cell_type": "code",
   "execution_count": 2,
   "id": "e7651166-5c42-4a2b-8447-3407440f7b5a",
   "metadata": {},
   "outputs": [
    {
     "name": "stdout",
     "output_type": "stream",
     "text": [
      "cardano-cli 1.35.3 - linux-x86_64 - ghc-8.10\n",
      "git rev 0000000000000000000000000000000000000000\n"
     ]
    }
   ],
   "source": [
    "cardano-cli --version"
   ]
  },
  {
   "cell_type": "code",
   "execution_count": 3,
   "id": "0434d927-022f-41f6-b60f-091ebe85cfc4",
   "metadata": {},
   "outputs": [
    {
     "name": "stdout",
     "output_type": "stream",
     "text": [
      "ef671d84e5bab86c12c6770cf541ada8e8c88b43\n"
     ]
    }
   ],
   "source": [
    "git rev-parse HEAD"
   ]
  },
  {
   "cell_type": "markdown",
   "id": "9fb67751-bbb3-4e07-a9c7-b509502903c7",
   "metadata": {
    "tags": []
   },
   "source": [
    "### Setup the faucet."
   ]
  },
  {
   "cell_type": "markdown",
   "id": "4c1053b7-899c-4df1-94bc-626300568286",
   "metadata": {},
   "source": [
    "Set the location of keys."
   ]
  },
  {
   "cell_type": "code",
   "execution_count": 4,
   "id": "7eba74b8-fb39-4a07-9080-211d46f9132a",
   "metadata": {},
   "outputs": [],
   "source": [
    "TREASURY=treasury"
   ]
  },
  {
   "cell_type": "markdown",
   "id": "d5caee3c-c91e-49b8-aeb2-84b3170128d6",
   "metadata": {},
   "source": [
    "Set the faucet."
   ]
  },
  {
   "cell_type": "code",
   "execution_count": 5,
   "id": "054727ec-d1d3-4fdd-811f-95561dc807c5",
   "metadata": {},
   "outputs": [
    {
     "name": "stdout",
     "output_type": "stream",
     "text": [
      "addr1vy9prvx8ufwutkwxx9cmmuuajaqmjqwujqlp9d8pvg6gupceql82h\n"
     ]
    }
   ],
   "source": [
    "FAUCET_SKEY=$TREASURY/payment.skey\n",
    "FAUCET_ADDR=$(cat $TREASURY/payment.mainnet.address)\n",
    "echo \"$FAUCET_ADDR\""
   ]
  },
  {
   "cell_type": "markdown",
   "id": "2894720b-50a2-4830-9a5d-e65b8e7c7dad",
   "metadata": {},
   "source": [
    "### Select network"
   ]
  },
  {
   "cell_type": "code",
   "execution_count": 6,
   "id": "ced2a30e-b2ba-435a-9199-bcfa0d6a8cf4",
   "metadata": {},
   "outputs": [
    {
     "name": "stdout",
     "output_type": "stream",
     "text": [
      "--mainnet\n"
     ]
    }
   ],
   "source": [
    "export CARDANO_NODE_SOCKET_PATH=node.socket\n",
    "export CARDANO_TESTNET_MAGIC=64824073\n",
    "MAGIC=(--mainnet)\n",
    "echo \"${MAGIC[@]}\""
   ]
  },
  {
   "cell_type": "markdown",
   "id": "8e4e16fd-bae3-4da5-b7b3-fe102ab4d005",
   "metadata": {},
   "source": [
    "### The party to the contract"
   ]
  },
  {
   "cell_type": "code",
   "execution_count": 7,
   "id": "ac82c94e-7159-4c96-b305-8e9205c1262f",
   "metadata": {},
   "outputs": [],
   "source": [
    "PARTY_SKEY=\"$TREASURY/john-fletcher.skey\"\n",
    "PARTY_VKEY=\"$TREASURY/john-fletcher.vkey\""
   ]
  },
  {
   "cell_type": "markdown",
   "id": "fa5afebd-a85b-4b27-bb3f-e350d7b076a9",
   "metadata": {},
   "source": [
    "Create the first party's keys, if necessary."
   ]
  },
  {
   "cell_type": "code",
   "execution_count": 8,
   "id": "b8a4d5ed-53f0-4e6b-b47a-aba2f6c6104b",
   "metadata": {},
   "outputs": [
    {
     "name": "stdout",
     "output_type": "stream",
     "text": [
      "addr1vywt2xlr4d8yk4qws675exlqy6pdhq2s76wrehkjggkvr0czta9gx\n"
     ]
    }
   ],
   "source": [
    "if [[ ! -e \"$PARTY_SKEY\" ]]\n",
    "then\n",
    "  cardano-cli address key-gen --signing-key-file \"$PARTY_SKEY\" --verification-key-file \"$PARTY_VKEY\"\n",
    "fi\n",
    "PARTY_ADDR=$(cardano-cli address build \"${MAGIC[@]}\" --payment-verification-key-file \"$PARTY_VKEY\")\n",
    "echo \"$PARTY_ADDR\""
   ]
  },
  {
   "cell_type": "markdown",
   "id": "9f31ab4a-e84b-4d27-afd0-d7f401322459",
   "metadata": {},
   "source": [
    "Fund the address"
   ]
  },
  {
   "cell_type": "code",
   "execution_count": 9,
   "id": "10ff8a27-647e-4541-a7e7-00870302eb81",
   "metadata": {},
   "outputs": [
    {
     "name": "stdout",
     "output_type": "stream",
     "text": [
      "TxId \"bb945a4137b2070ffea5abde1d1ae042e5e51fc6c3c76f5a766ec4a34d02cfca\"\n"
     ]
    }
   ],
   "source": [
    "marlowe-cli util fund-address \\\n",
    "  \"${MAGIC[@]}\" \\\n",
    "  --out-file /dev/null \\\n",
    "  --submit 600 \\\n",
    "  --lovelace 10000000 \\\n",
    "  --source-wallet-credentials \"$FAUCET_ADDR:$FAUCET_SKEY\" \\\n",
    "  \"$PARTY_ADDR\""
   ]
  },
  {
   "cell_type": "markdown",
   "id": "2e5e57df-98b1-49ee-b0d8-0ca36475dd34",
   "metadata": {},
   "source": [
    "### Time computations"
   ]
  },
  {
   "cell_type": "code",
   "execution_count": 10,
   "id": "15b80716-4545-4558-825f-9d0dda82f8d5",
   "metadata": {},
   "outputs": [],
   "source": [
    "SECOND=1000\n",
    "MINUTE=$((60 * SECOND))"
   ]
  },
  {
   "cell_type": "code",
   "execution_count": 11,
   "id": "359b6f47-e0d1-4f84-8812-b96cfa361c2d",
   "metadata": {},
   "outputs": [
    {
     "name": "stdout",
     "output_type": "stream",
     "text": [
      "1670768142000\n"
     ]
    }
   ],
   "source": [
    "NOW=\"$(($(date -u +%s) * SECOND))\"\n",
    "echo \"$NOW\""
   ]
  },
  {
   "cell_type": "markdown",
   "id": "eb417b36-effb-4fc2-ae81-b7fce917aa7b",
   "metadata": {},
   "source": [
    "## The Contract"
   ]
  },
  {
   "cell_type": "markdown",
   "id": "b04afd25-7baa-46ef-b4e5-549402d14cd7",
   "metadata": {},
   "source": [
    "We set the parameters for the `Close` contract."
   ]
  },
  {
   "cell_type": "code",
   "execution_count": 12,
   "id": "c5845b3d-12cf-47f0-a53c-0da3e4fe89f2",
   "metadata": {
    "tags": []
   },
   "outputs": [],
   "source": [
    "MINIMUM_ADA=2000000"
   ]
  },
  {
   "cell_type": "markdown",
   "id": "f39fc47c-c3f7-425b-84bf-59ae39616b07",
   "metadata": {},
   "source": [
    "Create the contract."
   ]
  },
  {
   "cell_type": "code",
   "execution_count": 13,
   "id": "ece6fd44-d1ea-44b6-a8e4-240c4549417c",
   "metadata": {},
   "outputs": [
    {
     "name": "stdout",
     "output_type": "stream",
     "text": [
      "close\n",
      "...\n"
     ]
    }
   ],
   "source": [
    "cat << EOI > runtime-close-1.contract\n",
    "\"close\"\n",
    "EOI\n",
    "json2yaml runtime-close-1.contract"
   ]
  },
  {
   "cell_type": "markdown",
   "id": "7571b79f-b827-448a-b4d2-011046be9dee",
   "metadata": {},
   "source": [
    "Create the initial state."
   ]
  },
  {
   "cell_type": "code",
   "execution_count": 14,
   "id": "330ece20-0bd6-4098-ae6a-22d38b06d0a5",
   "metadata": {},
   "outputs": [
    {
     "name": "stdout",
     "output_type": "stream",
     "text": [
      "{\"accounts\":[[[{\"address\":\"addr1vywt2xlr4d8yk4qws675exlqy6pdhq2s76wrehkjggkvr0czta9gx\"},{\"currency_symbol\":\"\",\"token_name\":\"\"}],2000000]],\"boundValues\":[],\"choices\":[],\"minTime\":0}\n"
     ]
    }
   ],
   "source": [
    "yaml2json << EOI > runtime-close-1.state\n",
    "accounts:\n",
    "- - - address: $PARTY_ADDR\n",
    "    - currency_symbol: ''\n",
    "      token_name: ''\n",
    "  - $MINIMUM_ADA\n",
    "boundValues: []\n",
    "choices: []\n",
    "minTime: 0\n",
    "EOI\n",
    "cat runtime-close-1.state"
   ]
  },
  {
   "cell_type": "markdown",
   "id": "a1548c6e-3288-4a7e-90f4-6439edeb22ca",
   "metadata": {
    "tags": []
   },
   "source": [
    "## Run the Contract"
   ]
  },
  {
   "cell_type": "markdown",
   "id": "f2eb9ff2-86b8-437e-aa04-a1a38cebea9a",
   "metadata": {},
   "source": [
    "### Transaction 1. Create the ontract"
   ]
  },
  {
   "cell_type": "markdown",
   "id": "ab570c22-0af1-4168-9269-ebefce6bfa6d",
   "metadata": {},
   "source": [
    "Build the transaction."
   ]
  },
  {
   "cell_type": "code",
   "execution_count": 15,
   "id": "142661e5-a5b3-4e48-9d02-d5aca344d2e2",
   "metadata": {},
   "outputs": [
    {
     "name": "stdout",
     "output_type": "stream",
     "text": [
      "CONTRACT_ID = TX_1 = 44649bd1cb8ba45f9a457703ec3d4b183f898034e22cea196bc019bca7e4769b#1\n"
     ]
    }
   ],
   "source": [
    "TX_1=$(\n",
    "marlowe create \\\n",
    "  --core-file runtime-close-1.contract \\\n",
    "  --min-utxo \"$MINIMUM_ADA\" \\\n",
    "  --change-address \"$PARTY_ADDR\" \\\n",
    "  --manual-sign runtime-close-1.txbody \\\n",
    "| sed -e 's/^.*\"\\([^\\\\]*\\)\\\\.*$/\\1/' \\\n",
    ")\n",
    "CONTRACT_ID=\"$TX_1\"\n",
    "echo \"CONTRACT_ID = TX_1 = $CONTRACT_ID\""
   ]
  },
  {
   "cell_type": "markdown",
   "id": "b31ec973-5b0f-4fb7-bdca-c266bd66fdc1",
   "metadata": {},
   "source": [
    "Sign the transaction."
   ]
  },
  {
   "cell_type": "code",
   "execution_count": 16,
   "id": "5d4c94bc-d747-47c6-be60-55656a3ee6ca",
   "metadata": {},
   "outputs": [],
   "source": [
    "cardano-cli transaction sign \\\n",
    "  --tx-body-file runtime-close-1.txbody \\\n",
    "  --out-file     runtime-close-1.tx \\\n",
    "  --signing-key-file \"$PARTY_SKEY\""
   ]
  },
  {
   "cell_type": "markdown",
   "id": "bebb0d27-0a99-4f3d-ab06-09b627ee514e",
   "metadata": {},
   "source": [
    "Submit the transaction using Marlowe Runtime."
   ]
  },
  {
   "cell_type": "code",
   "execution_count": 17,
   "id": "04ff93e3-b751-440a-b310-12ebe095401a",
   "metadata": {},
   "outputs": [
    {
     "name": "stdout",
     "output_type": "stream",
     "text": [
      "blockHeaderHash: 59593fb1f17aa71347dd49b65081bc99581ff1fbcbc732258f6fb9029d25d9f5\n",
      "blockNo: 8126304\n",
      "slotNo: 79201949\n"
     ]
    }
   ],
   "source": [
    "marlowe submit runtime-close-1.tx | jq 'fromjson' | json2yaml"
   ]
  },
  {
   "cell_type": "markdown",
   "id": "b63f5847-141e-4378-96e2-5683f0c54e52",
   "metadata": {},
   "source": [
    "View the contract's UTxO."
   ]
  },
  {
   "cell_type": "code",
   "execution_count": 18,
   "id": "808a16fb-9133-4544-a60f-6e9fdf7f6cae",
   "metadata": {},
   "outputs": [
    {
     "name": "stdout",
     "output_type": "stream",
     "text": [
      "addr1w94f8ywk4fg672xasahtk4t9k6w3aql943uxz5rt62d4dvq8evxaf\n"
     ]
    }
   ],
   "source": [
    "CONTRACT_ADDR=$(marlowe-cli contract address \"${MAGIC[@]}\")\n",
    "echo \"$CONTRACT_ADDR\""
   ]
  },
  {
   "cell_type": "code",
   "execution_count": 19,
   "id": "f9820b1e-590f-498d-b843-b258eaebf404",
   "metadata": {},
   "outputs": [
    {
     "name": "stdout",
     "output_type": "stream",
     "text": [
      "                           TxHash                                 TxIx        Amount\n",
      "--------------------------------------------------------------------------------------\n",
      "44649bd1cb8ba45f9a457703ec3d4b183f898034e22cea196bc019bca7e4769b     1        2000000 lovelace + TxOutDatumHash ScriptDataInBabbageEra \"44a946ba1ee21f1a57a99527d8698a828217268264bacc10f9f705bcb726ad48\"\n"
     ]
    }
   ],
   "source": [
    "cardano-cli query utxo \"${MAGIC[@]}\" --address \"$CONTRACT_ADDR\" | sed -n -e \"1,2p;/${TX_1//#*/}/p\""
   ]
  },
  {
   "cell_type": "markdown",
   "id": "d8846155-12a6-40be-b5ed-bea6b3d76752",
   "metadata": {},
   "source": [
    "Watch the contract."
   ]
  },
  {
   "cell_type": "code",
   "execution_count": 20,
   "id": "0e4ceeb0-350f-464b-86ea-e36b98ec06ff",
   "metadata": {},
   "outputs": [
    {
     "name": "stdout",
     "output_type": "stream",
     "text": [
      "44649bd1cb8ba45f9a457703ec3d4b183f898034e22cea196bc019bca7e4769b#1\n"
     ]
    }
   ],
   "source": [
    "marlowe add \"$CONTRACT_ID\""
   ]
  },
  {
   "cell_type": "markdown",
   "id": "f2db93da-856a-4d61-bd88-48eb5075af84",
   "metadata": {},
   "source": [
    "View the contract's history."
   ]
  },
  {
   "cell_type": "code",
   "execution_count": 21,
   "id": "19957835-6376-4b13-a2ad-2c35763b75a3",
   "metadata": {},
   "outputs": [
    {
     "name": "stdout",
     "output_type": "stream",
     "text": [
      "\u001b[93mtransaction 44649bd1cb8ba45f9a457703ec3d4b183f898034e22cea196bc019bca7e4769b (creation)\n",
      "\u001b[0mContractId:      44649bd1cb8ba45f9a457703ec3d4b183f898034e22cea196bc019bca7e4769b#1\n",
      "SlotNo:          79201949\n",
      "BlockNo:         8126304\n",
      "BlockId:         59593fb1f17aa71347dd49b65081bc99581ff1fbcbc732258f6fb9029d25d9f5\n",
      "ScriptAddress:   addr1w94f8ywk4fg672xasahtk4t9k6w3aql943uxz5rt62d4dvq8evxaf\n",
      "Marlowe Version: 1\n",
      "\n",
      "    Close\n",
      "\n"
     ]
    }
   ],
   "source": [
    "marlowe log --show-contract \"$CONTRACT_ID\""
   ]
  },
  {
   "cell_type": "markdown",
   "id": "018393a9-ce39-4071-8e41-82d58bc43348",
   "metadata": {},
   "source": [
    "### Transaction 2. Party deposits loan amount"
   ]
  },
  {
   "cell_type": "markdown",
   "id": "4cd1edf5-63cc-4d85-9b8b-21a80f2b1211",
   "metadata": {},
   "source": [
    "The party deposits the loan amount."
   ]
  },
  {
   "cell_type": "code",
   "execution_count": 22,
   "id": "ae87d08c-3878-4871-a3e1-665edce5c5b1",
   "metadata": {},
   "outputs": [
    {
     "name": "stdout",
     "output_type": "stream",
     "text": [
      "TX_2 = bb4823905e187678a96f09df06b5b3489bab3f779a4bebb7b807e5fbf3bc2f60\n"
     ]
    }
   ],
   "source": [
    "RIGHT_NOW=\"$(($(date -u +%s) * SECOND))\"\n",
    "TX_2=$(\n",
    "marlowe advance \\\n",
    "  --contract \"$CONTRACT_ID\" \\\n",
    "  --validity-lower-bound \"$((RIGHT_NOW-1*MINUTE))\" \\\n",
    "  --validity-upper-bound \"$((RIGHT_NOW+5*MINUTE))\" \\\n",
    "  --change-address \"$PARTY_ADDR\" \\\n",
    "  --manual-sign runtime-close-2.txbody \\\n",
    "| sed -e 's/^.*\"\\([^\\\\]*\\)\\\\.*$/\\1/' \\\n",
    ")\n",
    "echo \"TX_2 = $TX_2\""
   ]
  },
  {
   "cell_type": "markdown",
   "id": "10103e7a-c7f9-4123-98e0-cc365fd5782c",
   "metadata": {},
   "source": [
    "Sign the transaction."
   ]
  },
  {
   "cell_type": "code",
   "execution_count": 23,
   "id": "89fa94a4-c73a-47e8-8d4e-f7184208bb28",
   "metadata": {},
   "outputs": [],
   "source": [
    "cardano-cli transaction sign \\\n",
    "  --tx-body-file runtime-close-2.txbody \\\n",
    "  --out-file     runtime-close-2.tx \\\n",
    "  --signing-key-file \"$PARTY_SKEY\""
   ]
  },
  {
   "cell_type": "markdown",
   "id": "4fc1597c-efbc-4765-bc6e-2fef522b3216",
   "metadata": {},
   "source": [
    "Submit the transaction using Marlowe Runtime."
   ]
  },
  {
   "cell_type": "code",
   "execution_count": 24,
   "id": "6a09322f-a3c2-4537-bd95-8a9b8e646c7a",
   "metadata": {},
   "outputs": [
    {
     "name": "stdout",
     "output_type": "stream",
     "text": [
      "blockHeaderHash: ad80feb87b0f9bb5f487c0f4b4643bf90909720ac54474f7283230b3c2a619b8\n",
      "blockNo: 8126319\n",
      "slotNo: 79202332\n"
     ]
    }
   ],
   "source": [
    "marlowe submit runtime-close-2.tx | jq 'fromjson' | json2yaml"
   ]
  },
  {
   "cell_type": "markdown",
   "id": "818c9c47-1a98-4459-83bf-9d30cb83dad3",
   "metadata": {},
   "source": [
    "We see that the contract did indeed close."
   ]
  },
  {
   "cell_type": "code",
   "execution_count": 25,
   "id": "f3be2783-d29f-41b5-b990-e217a2b743c5",
   "metadata": {},
   "outputs": [
    {
     "name": "stdout",
     "output_type": "stream",
     "text": [
      "\u001b[93mtransaction 44649bd1cb8ba45f9a457703ec3d4b183f898034e22cea196bc019bca7e4769b (creation)\n",
      "\u001b[0mContractId:      44649bd1cb8ba45f9a457703ec3d4b183f898034e22cea196bc019bca7e4769b#1\n",
      "SlotNo:          79201949\n",
      "BlockNo:         8126304\n",
      "BlockId:         59593fb1f17aa71347dd49b65081bc99581ff1fbcbc732258f6fb9029d25d9f5\n",
      "ScriptAddress:   addr1w94f8ywk4fg672xasahtk4t9k6w3aql943uxz5rt62d4dvq8evxaf\n",
      "Marlowe Version: 1\n",
      "\n",
      "    Close\n",
      "\n",
      "\u001b[93mtransaction bb4823905e187678a96f09df06b5b3489bab3f779a4bebb7b807e5fbf3bc2f60 (close)\n",
      "\u001b[0mContractId: 44649bd1cb8ba45f9a457703ec3d4b183f898034e22cea196bc019bca7e4769b#1\n",
      "SlotNo:     79202332\n",
      "BlockNo:    8126319\n",
      "BlockId:    ad80feb87b0f9bb5f487c0f4b4643bf90909720ac54474f7283230b3c2a619b8\n",
      "Inputs:     []\n",
      "\n",
      "\n"
     ]
    }
   ],
   "source": [
    "marlowe log --show-contract \"$CONTRACT_ID\""
   ]
  },
  {
   "cell_type": "markdown",
   "id": "296093d3-7ff5-4be2-bd7e-59f53a09eba5",
   "metadata": {},
   "source": [
    "The contract address is empty."
   ]
  },
  {
   "cell_type": "code",
   "execution_count": 26,
   "id": "a39c2b85-d85e-4f88-9d70-8f0a3894a18b",
   "metadata": {},
   "outputs": [
    {
     "name": "stdout",
     "output_type": "stream",
     "text": [
      "                           TxHash                                 TxIx        Amount\n",
      "--------------------------------------------------------------------------------------\n"
     ]
    }
   ],
   "source": [
    "cardano-cli query utxo \"${MAGIC[@]}\" --address \"$CONTRACT_ADDR\" | sed -n -e \"1,2p;/${TX_1//#*/}/p;/$TX_2/p\""
   ]
  },
  {
   "cell_type": "markdown",
   "id": "29efcd91-0b15-45d1-9c9c-81d1f893085f",
   "metadata": {},
   "source": [
    "The party received their 2 Ada."
   ]
  },
  {
   "cell_type": "code",
   "execution_count": 27,
   "id": "72192096-f847-4e7b-becf-45ae8438df56",
   "metadata": {},
   "outputs": [
    {
     "name": "stdout",
     "output_type": "stream",
     "text": [
      "                           TxHash                                 TxIx        Amount\n",
      "--------------------------------------------------------------------------------------\n",
      "bb4823905e187678a96f09df06b5b3489bab3f779a4bebb7b807e5fbf3bc2f60     0        7396516 lovelace + TxOutDatumNone\n",
      "bb4823905e187678a96f09df06b5b3489bab3f779a4bebb7b807e5fbf3bc2f60     1        2000000 lovelace + TxOutDatumNone\n"
     ]
    }
   ],
   "source": [
    "cardano-cli query utxo \"${MAGIC[@]}\" --address \"$PARTY_ADDR\""
   ]
  },
  {
   "cell_type": "markdown",
   "id": "c0ccaa90-d5d4-49b5-870c-d6429ed64ae0",
   "metadata": {},
   "source": [
    "## Cleanup"
   ]
  },
  {
   "cell_type": "markdown",
   "id": "86585e47-22db-46db-94a6-80b4a00b2147",
   "metadata": {},
   "source": [
    "Remove the contract from history tracking."
   ]
  },
  {
   "cell_type": "code",
   "execution_count": 28,
   "id": "eea2d290-46e0-4a5c-a587-f0dd4afda600",
   "metadata": {},
   "outputs": [
    {
     "name": "stdout",
     "output_type": "stream",
     "text": [
      "44649bd1cb8ba45f9a457703ec3d4b183f898034e22cea196bc019bca7e4769b#1\n"
     ]
    }
   ],
   "source": [
    "marlowe rm \"$CONTRACT_ID\""
   ]
  },
  {
   "cell_type": "code",
   "execution_count": 29,
   "id": "cca2e9c5-d78b-4207-b599-feca36afb4c6",
   "metadata": {},
   "outputs": [],
   "source": [
    "marlowe ls"
   ]
  },
  {
   "cell_type": "markdown",
   "id": "b6916f2a-426a-4c31-8499-610f83df1d7c",
   "metadata": {},
   "source": [
    "Pay the funds back to the faucet."
   ]
  },
  {
   "cell_type": "code",
   "execution_count": 30,
   "id": "150047c6-1f27-4eec-9839-7adfb210742c",
   "metadata": {},
   "outputs": [
    {
     "name": "stdout",
     "output_type": "stream",
     "text": [
      "TxId \"12219102ef798d9d2a2c09664aceda5c7eb496af5cf67b7d9642bcdb3e07d813\"\n"
     ]
    }
   ],
   "source": [
    "marlowe-cli transaction simple \\\n",
    "  \"${MAGIC[@]}\" \\\n",
    "  --tx-in bb4823905e187678a96f09df06b5b3489bab3f779a4bebb7b807e5fbf3bc2f60#0 \\\n",
    "  --tx-in bb4823905e187678a96f09df06b5b3489bab3f779a4bebb7b807e5fbf3bc2f60#1 \\\n",
    "  --change-address $FAUCET_ADDR \\\n",
    "  --required-signer $PARTY_SKEY \\\n",
    "  --out-file /dev/null \\\n",
    "  --submit 600"
   ]
  },
  {
   "cell_type": "markdown",
   "id": "927fa5b5-92d2-4133-9a28-dcce900ee190",
   "metadata": {},
   "source": [
    "See that the funds have been returned to the faucet."
   ]
  },
  {
   "cell_type": "code",
   "execution_count": 31,
   "id": "9787b014",
   "metadata": {},
   "outputs": [
    {
     "name": "stdout",
     "output_type": "stream",
     "text": [
      "                           TxHash                                 TxIx        Amount\n",
      "--------------------------------------------------------------------------------------\n"
     ]
    }
   ],
   "source": [
    "cardano-cli query utxo \"${MAGIC[@]}\" --address \"$PARTY_ADDR\""
   ]
  }
 ],
 "metadata": {
  "kernelspec": {
   "display_name": "Bash - Marlowe",
   "language": "bash",
   "name": "bash_marlowe"
  },
  "language_info": {
   "codemirror_mode": "shell",
   "file_extension": ".sh",
   "mimetype": "text/x-sh",
   "name": "/nix/store/l0wlqpbsvh1pgvhcdhw7qkka3d31si7k-bash-5.1-p8/bin/bash"
  }
 },
 "nbformat": 4,
 "nbformat_minor": 5
}
