{
 "cells": [
  {
   "cell_type": "code",
   "execution_count": 1,
   "id": "c2b997ff-7487-4181-a96d-83057ca11994",
   "metadata": {},
   "outputs": [],
   "source": [
    "#!/usr/bin/env bash"
   ]
  },
  {
   "cell_type": "markdown",
   "id": "2bdf0968-45fd-44a9-b98b-92fad285d5ad",
   "metadata": {},
   "source": [
    "<span style=\"color: red; font-weight: bold\">Use the following command to launch a server for this notebook:</span>\n",
    "\n",
    "```bash\n",
    "git clone git@github.com:input-output-hk/marlowe-cardano.git\n",
    "cd marlowe-cardano/marlowe-runtime/\n",
    "nix run ../marlowe-cli\n",
    "```\n",
    "\n",
    "Then navigate to the `examples/` folder in Jupyter and open this notebook."
   ]
  },
  {
   "cell_type": "markdown",
   "id": "ff12ef20-4800-40fc-bf1a-b48def801ee9",
   "metadata": {},
   "source": [
    "# Demonstrating the Marlowe Transaction Submit Component of Marlowe Runtime"
   ]
  },
  {
   "cell_type": "markdown",
   "id": "b4002252-fe9f-40e4-a371-d4d6b57316de",
   "metadata": {},
   "source": [
    "## Preliminaries"
   ]
  },
  {
   "cell_type": "markdown",
   "id": "dab2352b-0021-4998-9107-c5cc32d3734c",
   "metadata": {},
   "source": [
    "Record version numbers"
   ]
  },
  {
   "cell_type": "code",
   "execution_count": 2,
   "id": "4832053a-541d-4acd-a781-e7b31a3d28e1",
   "metadata": {},
   "outputs": [
    {
     "name": "stdout",
     "output_type": "stream",
     "text": [
      "marlowe-cli 0.0.9.0\n"
     ]
    }
   ],
   "source": [
    "marlowe-cli --version"
   ]
  },
  {
   "cell_type": "code",
   "execution_count": 3,
   "id": "e7651166-5c42-4a2b-8447-3407440f7b5a",
   "metadata": {},
   "outputs": [
    {
     "name": "stdout",
     "output_type": "stream",
     "text": [
      "cardano-cli 1.35.3 - linux-x86_64 - ghc-8.10\n",
      "git rev 0000000000000000000000000000000000000000\n"
     ]
    }
   ],
   "source": [
    "cardano-cli --version"
   ]
  },
  {
   "cell_type": "code",
   "execution_count": 4,
   "id": "0434d927-022f-41f6-b60f-091ebe85cfc4",
   "metadata": {},
   "outputs": [
    {
     "name": "stdout",
     "output_type": "stream",
     "text": [
      "595e48a82babf64fab7ffcedb22cda4203b8e751\n"
     ]
    }
   ],
   "source": [
    "git rev-parse HEAD"
   ]
  },
  {
   "cell_type": "markdown",
   "id": "9fb67751-bbb3-4e07-a9c7-b509502903c7",
   "metadata": {
    "tags": []
   },
   "source": [
    "### Setup the faucet."
   ]
  },
  {
   "cell_type": "markdown",
   "id": "4c1053b7-899c-4df1-94bc-626300568286",
   "metadata": {},
   "source": [
    "Set the location of keys."
   ]
  },
  {
   "cell_type": "code",
   "execution_count": 5,
   "id": "7eba74b8-fb39-4a07-9080-211d46f9132a",
   "metadata": {},
   "outputs": [],
   "source": [
    "TREASURY=treasury"
   ]
  },
  {
   "cell_type": "markdown",
   "id": "d5caee3c-c91e-49b8-aeb2-84b3170128d6",
   "metadata": {},
   "source": [
    "Set the faucet."
   ]
  },
  {
   "cell_type": "code",
   "execution_count": 6,
   "id": "054727ec-d1d3-4fdd-811f-95561dc807c5",
   "metadata": {},
   "outputs": [
    {
     "name": "stdout",
     "output_type": "stream",
     "text": [
      "addr_test1vq9prvx8ufwutkwxx9cmmuuajaqmjqwujqlp9d8pvg6gupczgtm9j\n"
     ]
    }
   ],
   "source": [
    "FAUCET_SKEY=$TREASURY/payment.skey\n",
    "FAUCET_ADDR=$(cat $TREASURY/payment.testnet.address)\n",
    "echo \"$FAUCET_ADDR\""
   ]
  },
  {
   "cell_type": "markdown",
   "id": "2894720b-50a2-4830-9a5d-e65b8e7c7dad",
   "metadata": {},
   "source": [
    "### Select network"
   ]
  },
  {
   "cell_type": "markdown",
   "id": "720ae956-275a-4b64-8460-cff5630104b4",
   "metadata": {},
   "source": [
    "In a separate terminal, set up a tunnel to the Marlowe Runtime development server:\n",
    "```bash\n",
    "rm /tmp/preview.socket\n",
    "ssh -NT \\\n",
    "  -L/tmp/preview.socket:/data/networks/preview/node.socket \\\n",
    "  -L 3717:127.0.0.1:23717 \\\n",
    "  -L 3718:127.0.0.1:23718 \\\n",
    "  -L 3719:127.0.0.1:23719 \\\n",
    "  -L 3721:127.0.0.1:23721 \\\n",
    "  -L 3723:127.0.0.1:23723 \\\n",
    "  54.202.238.5                                              \n",
    "```"
   ]
  },
  {
   "cell_type": "code",
   "execution_count": 7,
   "id": "ced2a30e-b2ba-435a-9199-bcfa0d6a8cf4",
   "metadata": {},
   "outputs": [
    {
     "name": "stdout",
     "output_type": "stream",
     "text": [
      "--testnet-magic 2\n"
     ]
    }
   ],
   "source": [
    "export CARDANO_NODE_SOCKET_PATH=/tmp/preview.socket\n",
    "export CARDANO_TESTNET_MAGIC=2\n",
    "MAGIC=(--testnet-magic 2)\n",
    "echo \"${MAGIC[@]}\""
   ]
  },
  {
   "cell_type": "markdown",
   "id": "6649b7a2-3f9e-4dd4-bde7-11699c6bf27f",
   "metadata": {},
   "source": [
    "### Check that the reference script has been published"
   ]
  },
  {
   "cell_type": "markdown",
   "id": "8f88e700-a21f-4fd4-b785-35f39d767e49",
   "metadata": {},
   "source": [
    "Check that the Marlowe semantics validator was published."
   ]
  },
  {
   "cell_type": "code",
   "execution_count": 8,
   "id": "eb29caeb-c563-4e7d-922a-b5350642cc0f",
   "metadata": {},
   "outputs": [
    {
     "name": "stdout",
     "output_type": "stream",
     "text": [
      "\n",
      "Searching for reference script at address: addr_test1vrw0tuh8l95thdqr65dmpcfqnmcw0en7v7vhgegck7gzqgswa07sw\n",
      "\n",
      "Expected reference script hash: \"6a9391d6aa51af28dd876ebb5565b69d1e83e5ac7861506bd29b56b0\"\n",
      "\n",
      "Searching for reference script at address: addr_test1vpa36uuyf95kxpcleldsncedlhjru6vdmh2vnpkdrsz4u6cll9zas\n",
      "\n",
      "Expected reference script hash: \"49076eab20243dc9462511fb98a9cfb719f86e9692288139b7c91df3\"\n",
      "{\n",
      "    \"marlowe\": {\n",
      "        \"hash\": \"6a9391d6aa51af28dd876ebb5565b69d1e83e5ac7861506bd29b56b0\",\n",
      "        \"txIn\": \"087f21f109a997193421a81886ea8c6397d336d19e696457b9c5c7aefdc31873#1\"\n",
      "    },\n",
      "    \"payout\": {\n",
      "        \"hash\": \"49076eab20243dc9462511fb98a9cfb719f86e9692288139b7c91df3\",\n",
      "        \"txIn\": \"087f21f109a997193421a81886ea8c6397d336d19e696457b9c5c7aefdc31873#2\"\n",
      "    }\n",
      "}\n"
     ]
    }
   ],
   "source": [
    "marlowe-cli transaction find-published"
   ]
  },
  {
   "cell_type": "markdown",
   "id": "7ae0e907-2c31-4b85-926d-c62dc9cafc49",
   "metadata": {},
   "source": [
    "### Participants"
   ]
  },
  {
   "cell_type": "markdown",
   "id": "ea318fc6-f1dc-46a8-a4e7-83ee23a42ec3",
   "metadata": {},
   "source": [
    "#### The Party"
   ]
  },
  {
   "cell_type": "code",
   "execution_count": 9,
   "id": "009fed78-8410-4894-b904-d6ea92982d70",
   "metadata": {},
   "outputs": [],
   "source": [
    "PARTY_SKEY=\"$TREASURY/john-fletcher.skey\"\n",
    "PARTY_VKEY=\"$TREASURY/john-fletcher.vkey\""
   ]
  },
  {
   "cell_type": "markdown",
   "id": "df56d582-919c-438f-986a-a9a3fffc40c7",
   "metadata": {},
   "source": [
    "Create the first party's keys, if necessary."
   ]
  },
  {
   "cell_type": "code",
   "execution_count": 10,
   "id": "0de60d98-b79e-43fc-8c7d-fd494c76390d",
   "metadata": {},
   "outputs": [
    {
     "name": "stdout",
     "output_type": "stream",
     "text": [
      "addr_test1vqwt2xlr4d8yk4qws675exlqy6pdhq2s76wrehkjggkvr0cerfe8r\n"
     ]
    }
   ],
   "source": [
    "if [[ ! -e \"$PARTY_SKEY\" ]]\n",
    "then\n",
    "  cardano-cli address key-gen --signing-key-file \"$PARTY_SKEY\" --verification-key-file \"$PARTY_VKEY\"\n",
    "fi\n",
    "PARTY_ADDR=$(cardano-cli address build \"${MAGIC[@]}\" --payment-verification-key-file \"$PARTY_VKEY\")\n",
    "echo \"$PARTY_ADDR\""
   ]
  },
  {
   "cell_type": "markdown",
   "id": "17b4396a-a8ac-4976-bda4-968daaaa190e",
   "metadata": {},
   "source": [
    "Fund the address."
   ]
  },
  {
   "cell_type": "code",
   "execution_count": 11,
   "id": "ff90fa3f-1422-4632-abb7-19c5e5b5d2ed",
   "metadata": {},
   "outputs": [
    {
     "name": "stdout",
     "output_type": "stream",
     "text": [
      "TxId \"23d1e3df8af8f0a75f0b5b8ebad4e30a5b047096f6699c5625fdd1fca2a1eb5c\"\n"
     ]
    }
   ],
   "source": [
    "marlowe-cli util fund-address \\\n",
    "  --out-file /dev/null \\\n",
    "  --submit 600 \\\n",
    "  --lovelace 250000000 \\\n",
    "  --source-wallet-credentials \"$FAUCET_ADDR:$FAUCET_SKEY\" \\\n",
    "  \"$PARTY_ADDR\""
   ]
  },
  {
   "cell_type": "markdown",
   "id": "beac2b0a-83c9-4f13-a1b2-d4ae12795bc7",
   "metadata": {},
   "source": [
    "#### The Counterparty"
   ]
  },
  {
   "cell_type": "code",
   "execution_count": 12,
   "id": "359d2b9b-9bc3-4688-9689-9ef2c69cd382",
   "metadata": {},
   "outputs": [],
   "source": [
    "COUNTERPARTY_SKEY=\"$TREASURY/thomas-kyd.skey\"\n",
    "COUNTERPARTY_VKEY=\"$TREASURY/thomas-kyd.vkey\""
   ]
  },
  {
   "cell_type": "markdown",
   "id": "cc9ff64b-fc5b-4308-8b6c-9208985b3600",
   "metadata": {},
   "source": [
    "Create the second party's keys, if necessary."
   ]
  },
  {
   "cell_type": "code",
   "execution_count": 13,
   "id": "c4297420-6c47-4716-bbb3-c5bb0be2ef9a",
   "metadata": {},
   "outputs": [
    {
     "name": "stdout",
     "output_type": "stream",
     "text": [
      "addr_test1vr7n0zzth5zycuh972w7rdmh48qur4f3wu6ntn2m2h30dlcvltuy5\n"
     ]
    }
   ],
   "source": [
    "if [[ ! -e \"$COUNTERPARTY_SKEY\" ]]\n",
    "then\n",
    "  cardano-cli address key-gen --signing-key-file \"$COUNTERPARTY_SKEY\" --verification-key-file \"$COUNTERPARTY_VKEY\"\n",
    "fi\n",
    "COUNTERPARTY_ADDR=$(cardano-cli address build \"${MAGIC[@]}\" --payment-verification-key-file \"$COUNTERPARTY_VKEY\")\n",
    "echo \"$COUNTERPARTY_ADDR\""
   ]
  },
  {
   "cell_type": "markdown",
   "id": "0556be66-9ca7-4e91-9c85-bd885311c611",
   "metadata": {},
   "source": [
    "Fund the address."
   ]
  },
  {
   "cell_type": "code",
   "execution_count": 14,
   "id": "77bc9000-d2e3-4996-a2ae-a7d0c625aa70",
   "metadata": {},
   "outputs": [
    {
     "name": "stdout",
     "output_type": "stream",
     "text": [
      "TxId \"5d27aac6fefb5c3e590086f5870fd108bce6d87abee8c7acd1241e53a915a06a\"\n"
     ]
    }
   ],
   "source": [
    "marlowe-cli util fund-address \\\n",
    "  --out-file /dev/null \\\n",
    "  --submit 600  \\\n",
    "  --lovelace 250000000 \\\n",
    "  --source-wallet-credentials \"$FAUCET_ADDR:$FAUCET_SKEY\" \\\n",
    "  \"$COUNTERPARTY_ADDR\""
   ]
  },
  {
   "cell_type": "markdown",
   "id": "1b0683c1-b155-49e2-99a5-d20a4b9b32b5",
   "metadata": {},
   "source": [
    "### Time computations"
   ]
  },
  {
   "cell_type": "code",
   "execution_count": 15,
   "id": "15b80716-4545-4558-825f-9d0dda82f8d5",
   "metadata": {},
   "outputs": [],
   "source": [
    "SECOND=1000\n",
    "MINUTE=$((60 * SECOND))\n",
    "#HOUR=$((60 * MINUTE))\n",
    "#DAY=$((24 * HOUR))"
   ]
  },
  {
   "cell_type": "code",
   "execution_count": 16,
   "id": "359b6f47-e0d1-4f84-8812-b96cfa361c2d",
   "metadata": {},
   "outputs": [
    {
     "name": "stdout",
     "output_type": "stream",
     "text": [
      "1666209491000\n"
     ]
    }
   ],
   "source": [
    "NOW=\"$(($(date -u +%s) * SECOND))\"\n",
    "echo \"$NOW\""
   ]
  },
  {
   "cell_type": "markdown",
   "id": "eb417b36-effb-4fc2-ae81-b7fce917aa7b",
   "metadata": {},
   "source": [
    "## The Contract"
   ]
  },
  {
   "cell_type": "markdown",
   "id": "b04afd25-7baa-46ef-b4e5-549402d14cd7",
   "metadata": {},
   "source": [
    "We set the parameters for the ACTUS PAM contract."
   ]
  },
  {
   "cell_type": "code",
   "execution_count": 17,
   "id": "c5845b3d-12cf-47f0-a53c-0da3e4fe89f2",
   "metadata": {
    "tags": []
   },
   "outputs": [],
   "source": [
    "MINIMUM_ADA=3000000\n",
    "\n",
    "FIXED_POINT=1000000\n",
    "PRINCIPAL=100\n",
    "INTEREST_RATE=0.02\n",
    "INTEREST=$(jq -n $PRINCIPAL*$INTEREST_RATE)\n",
    "\n",
    "STATUS_DATE=$(date -d \"$(date -u -R -d @$((NOW/1000)))\" +\"%Y-%m-%dT00:00:00\")\n",
    "INITIAL_EXCHANGE_DATE=$(date -d \"$(date -u -R -d @$((NOW/1000))) + 1 year\" +\"%Y-01-01T00:00:00\")\n",
    "MATURITY_DATE=$(date -d \"$(date -u -R -d @$((NOW/1000))) + 2 year\" +\"%Y-01-01T00:00:00\")"
   ]
  },
  {
   "cell_type": "code",
   "execution_count": 18,
   "id": "ece6fd44-d1ea-44b6-a8e4-240c4549417c",
   "metadata": {},
   "outputs": [
    {
     "name": "stdout",
     "output_type": "stream",
     "text": [
      "{\"accruedInterest\":0,\"collateralAmount\":0,\"contractId\":\"0\",\"contractPerformance\":\"PF\",\"contractRole\":\"RPA\",\"contractType\":\"PAM\",\"cycleAnchorDateOfInterestPayment\":\"2023-01-01T00:00:00\",\"cycleOfInterestPayment\":\"P1YL1\",\"dayCountConvention\":\"30E360\",\"enableSettlement\":false,\"initialExchangeDate\":\"2023-01-01T00:00:00\",\"interestCalculationBase\":\"NT\",\"maturityDate\":\"2024-01-01T00:00:00\",\"nominalInterestRate\":0.02,\"notionalPrincipal\":100,\"penaltyType\":\"O\",\"prepaymentEffect\":\"N\",\"scheduleConfig\":{\"businessDayConvention\":\"NULL\",\"calendar\":\"NC\",\"endOfMonthConvention\":\"EOM\"},\"statusDate\":\"2022-10-19T00:00:00\"}\n"
     ]
    }
   ],
   "source": [
    "yaml2json << EOI > submit.actus\n",
    "scheduleConfig:\n",
    "  businessDayConvention: \"NULL\"\n",
    "  endOfMonthConvention: \"EOM\"\n",
    "  calendar: \"NC\"\n",
    "maturityDate: \"$MATURITY_DATE\"\n",
    "contractId: \"0\"\n",
    "enableSettlement: false\n",
    "initialExchangeDate: \"$INITIAL_EXCHANGE_DATE\"\n",
    "contractRole: \"RPA\"\n",
    "penaltyType: \"O\"\n",
    "cycleAnchorDateOfInterestPayment: \"$INITIAL_EXCHANGE_DATE\"\n",
    "contractType: \"PAM\"\n",
    "notionalPrincipal: $PRINCIPAL\n",
    "contractPerformance: \"PF\"\n",
    "collateralAmount: 0\n",
    "dayCountConvention: \"30E360\"\n",
    "accruedInterest: 0\n",
    "statusDate: \"$STATUS_DATE\"\n",
    "cycleOfInterestPayment: \"P1YL1\"\n",
    "prepaymentEffect: \"N\"\n",
    "nominalInterestRate: $INTEREST_RATE\n",
    "interestCalculationBase: \"NT\"\n",
    "EOI\n",
    "cat submit.actus"
   ]
  },
  {
   "cell_type": "markdown",
   "id": "d58d8071-9907-4d2c-b686-48139d7841ca",
   "metadata": {},
   "source": [
    "Create the contract and its initial state."
   ]
  },
  {
   "cell_type": "code",
   "execution_count": 19,
   "id": "028339ed-6d5e-4e71-9895-3a965a0252c9",
   "metadata": {},
   "outputs": [],
   "source": [
    "marlowe-cli template actus \\\n",
    "  --minimum-ada \"$MINIMUM_ADA\" \\\n",
    "  --party \"$PARTY_ADDR\" \\\n",
    "  --counter-party \"$COUNTERPARTY_ADDR\" \\\n",
    "  --actus-terms-file  submit.actus \\\n",
    "  --out-contract-file submit-1.contract \\\n",
    "  --out-state-file    submit-1.state"
   ]
  },
  {
   "cell_type": "markdown",
   "id": "a93fd32d-c20e-451e-b778-ec3088dd46ed",
   "metadata": {},
   "source": [
    "Since we are testing, we don't really want to wait months or years for timeouts, so we edit the contract file to change the maturity date to 15 minutes from now and the initial deposit to 10 minutes from now."
   ]
  },
  {
   "cell_type": "code",
   "execution_count": 20,
   "id": "d6b41ca8-ea51-4ddf-b58b-6f70f04c61f1",
   "metadata": {},
   "outputs": [],
   "source": [
    "sed -i \\\n",
    "  -e \"s/$(jq '.timeout' submit-1.contract)/$((NOW + 10 * MINUTE))/\" \\\n",
    "  -e \"s/$(($(date -d \"$MATURITY_DATE\" -u +%s) * SECOND))/$((NOW + 15 * MINUTE))/\" \\\n",
    "  submit-1.contract"
   ]
  },
  {
   "cell_type": "markdown",
   "id": "cc6d76dd-d7f0-4a83-ad1e-affd955e98a6",
   "metadata": {},
   "source": [
    "View the contract."
   ]
  },
  {
   "cell_type": "code",
   "execution_count": 21,
   "id": "661bb16a-2739-4354-a796-bbaedf39f698",
   "metadata": {},
   "outputs": [
    {
     "name": "stdout",
     "output_type": "stream",
     "text": [
      "timeout: 1666210091000\n",
      "timeout_continuation: close\n",
      "when:\n",
      "- case:\n",
      "    deposits:\n",
      "      negate:\n",
      "        negate: 100000000\n",
      "    into_account:\n",
      "      address: addr_test1vqwt2xlr4d8yk4qws675exlqy6pdhq2s76wrehkjggkvr0cerfe8r\n",
      "    of_token:\n",
      "      currency_symbol: ''\n",
      "      token_name: ''\n",
      "    party:\n",
      "      address: addr_test1vqwt2xlr4d8yk4qws675exlqy6pdhq2s76wrehkjggkvr0cerfe8r\n",
      "  then:\n",
      "    from_account:\n",
      "      address: addr_test1vqwt2xlr4d8yk4qws675exlqy6pdhq2s76wrehkjggkvr0cerfe8r\n",
      "    pay: 100000000\n",
      "    then:\n",
      "      timeout: 1666210391000\n",
      "      timeout_continuation: close\n",
      "      when:\n",
      "      - case:\n",
      "          deposits: 2000000\n",
      "          into_account:\n",
      "            address: addr_test1vr7n0zzth5zycuh972w7rdmh48qur4f3wu6ntn2m2h30dlcvltuy5\n",
      "          of_token:\n",
      "            currency_symbol: ''\n",
      "            token_name: ''\n",
      "          party:\n",
      "            address: addr_test1vr7n0zzth5zycuh972w7rdmh48qur4f3wu6ntn2m2h30dlcvltuy5\n",
      "        then:\n",
      "          from_account:\n",
      "            address: addr_test1vr7n0zzth5zycuh972w7rdmh48qur4f3wu6ntn2m2h30dlcvltuy5\n",
      "          pay: 2000000\n",
      "          then:\n",
      "            timeout: 1666210391000\n",
      "            timeout_continuation: close\n",
      "            when:\n",
      "            - case:\n",
      "                deposits: 100000000\n",
      "                into_account:\n",
      "                  address: addr_test1vr7n0zzth5zycuh972w7rdmh48qur4f3wu6ntn2m2h30dlcvltuy5\n",
      "                of_token:\n",
      "                  currency_symbol: ''\n",
      "                  token_name: ''\n",
      "                party:\n",
      "                  address: addr_test1vr7n0zzth5zycuh972w7rdmh48qur4f3wu6ntn2m2h30dlcvltuy5\n",
      "              then:\n",
      "                from_account:\n",
      "                  address: addr_test1vr7n0zzth5zycuh972w7rdmh48qur4f3wu6ntn2m2h30dlcvltuy5\n",
      "                pay: 100000000\n",
      "                then: close\n",
      "                to:\n",
      "                  party:\n",
      "                    address: addr_test1vqwt2xlr4d8yk4qws675exlqy6pdhq2s76wrehkjggkvr0cerfe8r\n",
      "                token:\n",
      "                  currency_symbol: ''\n",
      "                  token_name: ''\n",
      "          to:\n",
      "            party:\n",
      "              address: addr_test1vqwt2xlr4d8yk4qws675exlqy6pdhq2s76wrehkjggkvr0cerfe8r\n",
      "          token:\n",
      "            currency_symbol: ''\n",
      "            token_name: ''\n",
      "    to:\n",
      "      party:\n",
      "        address: addr_test1vr7n0zzth5zycuh972w7rdmh48qur4f3wu6ntn2m2h30dlcvltuy5\n",
      "    token:\n",
      "      currency_symbol: ''\n",
      "      token_name: ''\n"
     ]
    }
   ],
   "source": [
    "json2yaml submit-1.contract"
   ]
  },
  {
   "cell_type": "markdown",
   "id": "03fd3d25-82b7-4cb0-a2ac-07be12ec5147",
   "metadata": {},
   "source": [
    "View the initial state."
   ]
  },
  {
   "cell_type": "code",
   "execution_count": 22,
   "id": "06aaed6b-3916-4ea5-8a1b-40c58cbe1aea",
   "metadata": {},
   "outputs": [
    {
     "name": "stdout",
     "output_type": "stream",
     "text": [
      "accounts:\n",
      "- - - address: addr_test1vqwt2xlr4d8yk4qws675exlqy6pdhq2s76wrehkjggkvr0cerfe8r\n",
      "    - currency_symbol: ''\n",
      "      token_name: ''\n",
      "  - 3000000\n",
      "boundValues: []\n",
      "choices: []\n",
      "minTime: 1\n"
     ]
    }
   ],
   "source": [
    "json2yaml submit-1.state"
   ]
  },
  {
   "cell_type": "markdown",
   "id": "a1548c6e-3288-4a7e-90f4-6439edeb22ca",
   "metadata": {},
   "source": [
    "## Run the Contract"
   ]
  },
  {
   "cell_type": "markdown",
   "id": "f2eb9ff2-86b8-437e-aa04-a1a38cebea9a",
   "metadata": {},
   "source": [
    "### Transaction 1. Create the contract"
   ]
  },
  {
   "cell_type": "markdown",
   "id": "8bb180fb-1d68-4501-9b32-d7f69104de6d",
   "metadata": {},
   "source": [
    "First we create a `.marlowe` file that contains the initial information needed to run the contract."
   ]
  },
  {
   "cell_type": "code",
   "execution_count": 23,
   "id": "a7641e72-ff1b-45c2-9552-021963aee59b",
   "metadata": {},
   "outputs": [
    {
     "name": "stdout",
     "output_type": "stream",
     "text": [
      "\n",
      "Validator size: 12505\n",
      "Base-validator cost: ExBudget {exBudgetCPU = ExCPU 18515100, exBudgetMemory = ExMemory 80600}\n"
     ]
    }
   ],
   "source": [
    "marlowe-cli run initialize \\\n",
    "  --contract-file submit-1.contract \\\n",
    "  --state-file    submit-1.state    \\\n",
    "  --out-file      submit-1.marlowe  \\\n",
    "  --print-stats"
   ]
  },
  {
   "cell_type": "markdown",
   "id": "ab570c22-0af1-4168-9269-ebefce6bfa6d",
   "metadata": {},
   "source": [
    "Build the transaction."
   ]
  },
  {
   "cell_type": "code",
   "execution_count": 24,
   "id": "33d55ddb-7ca9-455b-b369-1f26628e6aaf",
   "metadata": {},
   "outputs": [
    {
     "name": "stdout",
     "output_type": "stream",
     "text": [
      "\n",
      "Fee: Lovelace 220457\n",
      "Size: 1133 / 16384 = 6%\n",
      "Execution units:\n",
      "  Memory: 0 / 14000000 = 0%\n",
      "  Steps: 0 / 10000000000 = 0%\n",
      "TX_1 = 6938fb89728e2ccc026b38e8c196cdfeed8b8b175873c44a5592f037455b9c14\n"
     ]
    }
   ],
   "source": [
    "TX_1=$(\n",
    "marlowe-cli run auto-execute \\\n",
    "  --marlowe-out-file submit-1.marlowe \\\n",
    "  --required-signer \"$PARTY_SKEY\" \\\n",
    "  --change-address \"$PARTY_ADDR\" \\\n",
    "  --out-file submit-1.txbody \\\n",
    "  --print-stats \\\n",
    "| sed -e 's/^TxId \"\\(.*\\)\"$/\\1/'\n",
    ")\n",
    "echo \"TX_1 = $TX_1\""
   ]
  },
  {
   "cell_type": "markdown",
   "id": "b31ec973-5b0f-4fb7-bdca-c266bd66fdc1",
   "metadata": {},
   "source": [
    "Sign the transaction."
   ]
  },
  {
   "cell_type": "code",
   "execution_count": 25,
   "id": "5d4c94bc-d747-47c6-be60-55656a3ee6ca",
   "metadata": {},
   "outputs": [],
   "source": [
    "cardano-cli transaction sign \\\n",
    "  --tx-body-file submit-1.txbody \\\n",
    "  --out-file     submit-1.tx \\\n",
    "  --signing-key-file \"$PARTY_SKEY\""
   ]
  },
  {
   "cell_type": "markdown",
   "id": "bebb0d27-0a99-4f3d-ab06-09b627ee514e",
   "metadata": {},
   "source": [
    "Submit the transaction using Marlowe Runtime."
   ]
  },
  {
   "cell_type": "code",
   "execution_count": 26,
   "id": "04ff93e3-b751-440a-b310-12ebe095401a",
   "metadata": {},
   "outputs": [
    {
     "name": "stdout",
     "output_type": "stream",
     "text": [
      "\"{\\\"blockHeaderHash\\\":\\\"23b3337580a3bc1f41a257223aa9a70e161c87c0420fe92cc55eea4063ee982e\\\",\\\"blockNo\\\":286728,\\\"slotNo\\\":6206314}\"\n"
     ]
    }
   ],
   "source": [
    "marlowe submit submit-1.tx"
   ]
  },
  {
   "cell_type": "markdown",
   "id": "58a521fc-0b0a-4d3e-b876-017c07a1fed3",
   "metadata": {},
   "source": [
    "The contract is identified by its first UTxO."
   ]
  },
  {
   "cell_type": "code",
   "execution_count": 27,
   "id": "4197b5e8-1287-4130-b636-cf2886ebb807",
   "metadata": {},
   "outputs": [
    {
     "name": "stdout",
     "output_type": "stream",
     "text": [
      "6938fb89728e2ccc026b38e8c196cdfeed8b8b175873c44a5592f037455b9c14#1\n"
     ]
    }
   ],
   "source": [
    "CONTRACT_ID=\"$TX_1#1\"\n",
    "echo \"$CONTRACT_ID\""
   ]
  },
  {
   "cell_type": "markdown",
   "id": "bc569ff3-a5b4-4d9f-b12f-1d51a250be64",
   "metadata": {},
   "source": [
    "### Transaction 2. Party deposits loan amount"
   ]
  },
  {
   "cell_type": "code",
   "execution_count": 28,
   "id": "5846a386-c8bb-461b-b361-485cc1aaf0d2",
   "metadata": {},
   "outputs": [
    {
     "name": "stdout",
     "output_type": "stream",
     "text": [
      "Rounding  `TransactionInput` txInterval boundries to:(POSIXTime {getPOSIXTime = 1666209191000},POSIXTime {getPOSIXTime = 1666210031999})\n",
      "TransactionInput {txInterval = (POSIXTime {getPOSIXTime = 1666209191000},POSIXTime {getPOSIXTime = 1666210031999}), txInputs = [NormalInput (IDeposit \"\\\"addr_test1vqwt2xlr4d8yk4qws675exlqy6pdhq2s76wrehkjggkvr0cerfe8r\\\"\" \"\\\"addr_test1vqwt2xlr4d8yk4qws675exlqy6pdhq2s76wrehkjggkvr0cerfe8r\\\"\" (Token \"\" \"\") 100000000)]}\n",
      "\n",
      "Datum size: 605\n",
      "Payment 1\n",
      "  Acccount: \"\\\"addr_test1vqwt2xlr4d8yk4qws675exlqy6pdhq2s76wrehkjggkvr0cerfe8r\\\"\"\n",
      "  Payee: Party \"\\\"addr_test1vr7n0zzth5zycuh972w7rdmh48qur4f3wu6ntn2m2h30dlcvltuy5\\\"\"\n",
      "  Ada: Lovelace {getLovelace = 100000000}\n"
     ]
    }
   ],
   "source": [
    "marlowe-cli run prepare \\\n",
    "  --marlowe-file submit-1.marlowe \\\n",
    "  --out-file     submit-2.marlowe \\\n",
    "  --deposit-account \"$PARTY_ADDR\" \\\n",
    "  --deposit-party \"$PARTY_ADDR\" \\\n",
    "  --deposit-amount \"$((PRINCIPAL*FIXED_POINT))\" \\\n",
    "  --invalid-before \"$((NOW-5*MINUTE))\" \\\n",
    "  --invalid-hereafter \"$((NOW+9*MINUTE))\" \\\n",
    "  --print-stats"
   ]
  },
  {
   "cell_type": "markdown",
   "id": "16457c4c-9940-4635-8b45-1d8b87bf5c9b",
   "metadata": {},
   "source": [
    "Build the transaction."
   ]
  },
  {
   "cell_type": "code",
   "execution_count": 29,
   "id": "1dae52e2-8fb0-4f14-a5ae-a4fc03fe7d7d",
   "metadata": {},
   "outputs": [
    {
     "name": "stdout",
     "output_type": "stream",
     "text": [
      "\n",
      "Fee: Lovelace 1294779\n",
      "Size: 14464 / 16384 = 88%\n",
      "Execution units:\n",
      "  Memory: 6287250 / 14000000 = 44%\n",
      "  Steps: 1732252213 / 10000000000 = 17%\n",
      "TX_2 = 6c2bb9fde3ca5a39c5115c69fe18516161ba456ccd6e63d4907451bc60ad7dd4\n"
     ]
    }
   ],
   "source": [
    "TX_2=$(\n",
    "marlowe-cli run auto-execute \\\n",
    "  --tx-in-marlowe \"$TX_1#1\" \\\n",
    "  --marlowe-in-file  submit-1.marlowe \\\n",
    "  --marlowe-out-file submit-2.marlowe \\\n",
    "  --required-signer \"$PARTY_SKEY\" \\\n",
    "  --change-address \"$PARTY_ADDR\" \\\n",
    "  --out-file submit-2.txbody \\\n",
    "  --print-stats \\\n",
    "| sed -e 's/^TxId \"\\(.*\\)\"$/\\1/'\n",
    ")\n",
    "echo \"TX_2 = $TX_2\""
   ]
  },
  {
   "cell_type": "markdown",
   "id": "3941f7f8-ff12-4c20-891c-4c7f66f377ed",
   "metadata": {},
   "source": [
    "Sign the transaction."
   ]
  },
  {
   "cell_type": "code",
   "execution_count": 30,
   "id": "09b78186-2ae8-45fe-880f-5bffe3c0c630",
   "metadata": {},
   "outputs": [],
   "source": [
    "cardano-cli transaction sign \\\n",
    "  --tx-body-file submit-2.txbody \\\n",
    "  --out-file     submit-2.tx \\\n",
    "  --signing-key-file \"$PARTY_SKEY\""
   ]
  },
  {
   "cell_type": "markdown",
   "id": "21be0981-6752-45b6-8194-b575a35d0bd7",
   "metadata": {},
   "source": [
    "Submit the transaction using Marlowe Runtime."
   ]
  },
  {
   "cell_type": "code",
   "execution_count": 31,
   "id": "15fc297b-6837-4a05-9de2-da083c807c98",
   "metadata": {},
   "outputs": [
    {
     "name": "stdout",
     "output_type": "stream",
     "text": [
      "\"{\\\"blockHeaderHash\\\":\\\"bf9365fa36230e56fbb4db80f7825e9d652f708c5a2f4d11ed9ae1cfdeb8c659\\\",\\\"blockNo\\\":286729,\\\"slotNo\\\":6206335}\"\n"
     ]
    }
   ],
   "source": [
    "marlowe submit submit-2.tx"
   ]
  },
  {
   "cell_type": "markdown",
   "id": "3408aafb-807d-4de0-867b-f99617f8e8b4",
   "metadata": {},
   "source": [
    "### Transaction 3. Counterparty repays the loan's interest"
   ]
  },
  {
   "cell_type": "code",
   "execution_count": 32,
   "id": "554efe78-d9c9-45b9-972d-bce981f3e43d",
   "metadata": {},
   "outputs": [
    {
     "name": "stdout",
     "output_type": "stream",
     "text": [
      "Rounding  `TransactionInput` txInterval boundries to:(POSIXTime {getPOSIXTime = 1666209191000},POSIXTime {getPOSIXTime = 1666210031999})\n",
      "TransactionInput {txInterval = (POSIXTime {getPOSIXTime = 1666209191000},POSIXTime {getPOSIXTime = 1666210031999}), txInputs = [NormalInput (IDeposit \"\\\"addr_test1vr7n0zzth5zycuh972w7rdmh48qur4f3wu6ntn2m2h30dlcvltuy5\\\"\" \"\\\"addr_test1vr7n0zzth5zycuh972w7rdmh48qur4f3wu6ntn2m2h30dlcvltuy5\\\"\" (Token \"\" \"\") 2000000)]}\n",
      "\n",
      "Datum size: 349\n",
      "Payment 1\n",
      "  Acccount: \"\\\"addr_test1vr7n0zzth5zycuh972w7rdmh48qur4f3wu6ntn2m2h30dlcvltuy5\\\"\"\n",
      "  Payee: Party \"\\\"addr_test1vqwt2xlr4d8yk4qws675exlqy6pdhq2s76wrehkjggkvr0cerfe8r\\\"\"\n",
      "  Ada: Lovelace {getLovelace = 2000000}\n"
     ]
    }
   ],
   "source": [
    "marlowe-cli run prepare \\\n",
    "  --marlowe-file submit-2.marlowe \\\n",
    "  --out-file     submit-3.marlowe \\\n",
    "  --deposit-account \"$COUNTERPARTY_ADDR\" \\\n",
    "  --deposit-party \"$COUNTERPARTY_ADDR\" \\\n",
    "  --deposit-amount \"$((INTEREST*FIXED_POINT))\" \\\n",
    "  --invalid-before \"$((NOW-5*MINUTE))\" \\\n",
    "  --invalid-hereafter \"$((NOW+9*MINUTE))\" \\\n",
    "  --print-stats"
   ]
  },
  {
   "cell_type": "markdown",
   "id": "9e484543-f730-4dda-88b8-1ba033d47031",
   "metadata": {},
   "source": [
    "Build the transaction."
   ]
  },
  {
   "cell_type": "code",
   "execution_count": 33,
   "id": "09d82281-7d84-4326-98c8-e3c28c0f207c",
   "metadata": {},
   "outputs": [
    {
     "name": "stdout",
     "output_type": "stream",
     "text": [
      "\n",
      "Fee: Lovelace 1233027\n",
      "Size: 13952 / 16384 = 85%\n",
      "Execution units:\n",
      "  Memory: 5815658 / 14000000 = 41%\n",
      "  Steps: 1565634381 / 10000000000 = 15%\n",
      "TX_3 = 898991a3384f5bdd9bd7886c706c42787c7f4821661f672aae24cab282b554d3\n"
     ]
    }
   ],
   "source": [
    "TX_3=$(\n",
    "marlowe-cli run auto-execute \\\n",
    "  --tx-in-marlowe \"$TX_2#1\" \\\n",
    "  --marlowe-in-file  submit-2.marlowe \\\n",
    "  --marlowe-out-file submit-3.marlowe \\\n",
    "  --required-signer \"$COUNTERPARTY_SKEY\" \\\n",
    "  --change-address \"$COUNTERPARTY_ADDR\" \\\n",
    "  --out-file submit-3.txbody \\\n",
    "  --print-stats \\\n",
    "| sed -e 's/^TxId \"\\(.*\\)\"$/\\1/'\n",
    ")\n",
    "echo \"TX_3 = $TX_3\""
   ]
  },
  {
   "cell_type": "markdown",
   "id": "6f8bf4a0-21f1-49b1-b2e4-c7eaf4b4f499",
   "metadata": {},
   "source": [
    "Sign the transaction."
   ]
  },
  {
   "cell_type": "code",
   "execution_count": 34,
   "id": "770af761-bc20-4a77-b60f-a8459747746f",
   "metadata": {},
   "outputs": [],
   "source": [
    "cardano-cli transaction sign \\\n",
    "  --tx-body-file submit-3.txbody \\\n",
    "  --out-file     submit-3.tx \\\n",
    "  --signing-key-file \"$COUNTERPARTY_SKEY\""
   ]
  },
  {
   "cell_type": "markdown",
   "id": "ed427206-c129-4863-b68f-f50e0ad288b9",
   "metadata": {},
   "source": [
    "Submit the transaction using Marlowe Runtime."
   ]
  },
  {
   "cell_type": "code",
   "execution_count": 35,
   "id": "65739c9e-2a97-440c-a2c8-85c14ffb8cb8",
   "metadata": {},
   "outputs": [
    {
     "name": "stdout",
     "output_type": "stream",
     "text": [
      "\"{\\\"blockHeaderHash\\\":\\\"f9fa0a536ca27a6231fbbadb90d263a5d4e08798990b1c465740d5f787c0fa1a\\\",\\\"blockNo\\\":286730,\\\"slotNo\\\":6206348}\"\n"
     ]
    }
   ],
   "source": [
    "marlowe submit submit-3.tx"
   ]
  },
  {
   "cell_type": "markdown",
   "id": "1f1223e2-580a-4709-8503-303b5f4d85f4",
   "metadata": {},
   "source": [
    "### Transaction 4. Counterparty repays the loan's principal"
   ]
  },
  {
   "cell_type": "code",
   "execution_count": 36,
   "id": "ec54a522-a3e8-4cd6-9ea7-240752157aad",
   "metadata": {},
   "outputs": [
    {
     "name": "stdout",
     "output_type": "stream",
     "text": [
      "Rounding  `TransactionInput` txInterval boundries to:(POSIXTime {getPOSIXTime = 1666209191000},POSIXTime {getPOSIXTime = 1666210031999})\n",
      "TransactionInput {txInterval = (POSIXTime {getPOSIXTime = 1666209191000},POSIXTime {getPOSIXTime = 1666210031999}), txInputs = [NormalInput (IDeposit \"\\\"addr_test1vr7n0zzth5zycuh972w7rdmh48qur4f3wu6ntn2m2h30dlcvltuy5\\\"\" \"\\\"addr_test1vr7n0zzth5zycuh972w7rdmh48qur4f3wu6ntn2m2h30dlcvltuy5\\\"\" (Token \"\" \"\") 100000000)]}\n",
      "\n",
      "Datum size: 30\n",
      "Payment 1\n",
      "  Acccount: \"\\\"addr_test1vr7n0zzth5zycuh972w7rdmh48qur4f3wu6ntn2m2h30dlcvltuy5\\\"\"\n",
      "  Payee: Party \"\\\"addr_test1vqwt2xlr4d8yk4qws675exlqy6pdhq2s76wrehkjggkvr0cerfe8r\\\"\"\n",
      "  Ada: Lovelace {getLovelace = 100000000}\n",
      "Payment 2\n",
      "  Acccount: \"\\\"addr_test1vqwt2xlr4d8yk4qws675exlqy6pdhq2s76wrehkjggkvr0cerfe8r\\\"\"\n",
      "  Payee: Party \"\\\"addr_test1vqwt2xlr4d8yk4qws675exlqy6pdhq2s76wrehkjggkvr0cerfe8r\\\"\"\n",
      "  Ada: Lovelace {getLovelace = 3000000}\n"
     ]
    }
   ],
   "source": [
    "marlowe-cli run prepare \\\n",
    "  --marlowe-file submit-3.marlowe \\\n",
    "  --out-file     submit-4.marlowe \\\n",
    "  --deposit-account \"$COUNTERPARTY_ADDR\" \\\n",
    "  --deposit-party \"$COUNTERPARTY_ADDR\" \\\n",
    "  --deposit-amount \"$((PRINCIPAL*FIXED_POINT))\" \\\n",
    "  --invalid-before \"$((NOW-5*MINUTE))\" \\\n",
    "  --invalid-hereafter \"$((NOW+9*MINUTE))\" \\\n",
    "  --print-stats"
   ]
  },
  {
   "cell_type": "markdown",
   "id": "850172b6-5d15-4b07-8f55-a365602514cd",
   "metadata": {},
   "source": [
    "Build the transaction."
   ]
  },
  {
   "cell_type": "code",
   "execution_count": 37,
   "id": "db39c6d5-0b30-4427-b81c-c4884b655375",
   "metadata": {},
   "outputs": [
    {
     "name": "stdout",
     "output_type": "stream",
     "text": [
      "\n",
      "Fee: Lovelace 1078968\n",
      "Size: 13273 / 16384 = 81%\n",
      "Execution units:\n",
      "  Memory: 4210566 / 14000000 = 30%\n",
      "  Steps: 1127777514 / 10000000000 = 11%\n",
      "TX_4 = 80120eac4d6942ff337d91aadbca3f33503a5872d4f69fc22e76490467bafdf2\n"
     ]
    }
   ],
   "source": [
    "TX_4=$(\n",
    "marlowe-cli run auto-execute \\\n",
    "  --tx-in-marlowe \"$TX_3#1\" \\\n",
    "  --marlowe-in-file  submit-3.marlowe \\\n",
    "  --marlowe-out-file submit-4.marlowe \\\n",
    "  --required-signer \"$COUNTERPARTY_SKEY\" \\\n",
    "  --change-address \"$COUNTERPARTY_ADDR\" \\\n",
    "  --out-file submit-4.txbody \\\n",
    "  --print-stats \\\n",
    "| sed -e 's/^TxId \"\\(.*\\)\"$/\\1/'\n",
    ")\n",
    "echo \"TX_4 = $TX_4\""
   ]
  },
  {
   "cell_type": "markdown",
   "id": "3d540173-0ae7-42e0-a9c3-235b2e20a7d9",
   "metadata": {},
   "source": [
    "Sign the transaction."
   ]
  },
  {
   "cell_type": "code",
   "execution_count": 38,
   "id": "14e2ddd3-6d64-46ae-a24a-3856e35a9d56",
   "metadata": {},
   "outputs": [],
   "source": [
    "cardano-cli transaction sign \\\n",
    "  --tx-body-file submit-4.txbody \\\n",
    "  --out-file     submit-4.tx \\\n",
    "  --signing-key-file \"$COUNTERPARTY_SKEY\""
   ]
  },
  {
   "cell_type": "markdown",
   "id": "371e9cdd-c8bd-45d7-9931-fbfd75ecc334",
   "metadata": {},
   "source": [
    "Submit the transaction using Marlowe Runtime."
   ]
  },
  {
   "cell_type": "code",
   "execution_count": 39,
   "id": "ed360b06-5033-4884-8bb5-adae74d50759",
   "metadata": {},
   "outputs": [
    {
     "name": "stdout",
     "output_type": "stream",
     "text": [
      "\"{\\\"blockHeaderHash\\\":\\\"89a29680ab5f259d45aeb822554c2ca1962b09e946b47fd182e17721b3cc3a83\\\",\\\"blockNo\\\":286731,\\\"slotNo\\\":6206358}\"\n"
     ]
    }
   ],
   "source": [
    "marlowe submit submit-4.tx"
   ]
  },
  {
   "cell_type": "markdown",
   "id": "c59bed4c-48b4-4a23-bb40-8636ea9ed9c6",
   "metadata": {},
   "source": [
    "The contract has closed."
   ]
  },
  {
   "cell_type": "code",
   "execution_count": 40,
   "id": "d678fb1a-997e-408d-b5bf-376ab2accfd1",
   "metadata": {},
   "outputs": [
    {
     "name": "stdout",
     "output_type": "stream",
     "text": [
      "close\n",
      "...\n"
     ]
    }
   ],
   "source": [
    "jq '.tx.contract' submit-4.marlowe | json2yaml"
   ]
  },
  {
   "cell_type": "markdown",
   "id": "c0ccaa90-d5d4-49b5-870c-d6429ed64ae0",
   "metadata": {},
   "source": [
    "## Cleanup"
   ]
  },
  {
   "cell_type": "markdown",
   "id": "b6916f2a-426a-4c31-8499-610f83df1d7c",
   "metadata": {},
   "source": [
    "Consolidate the UTxOs at the addresses."
   ]
  },
  {
   "cell_type": "code",
   "execution_count": 41,
   "id": "303c1567-db4f-4659-a032-31706072ba15",
   "metadata": {},
   "outputs": [
    {
     "name": "stdout",
     "output_type": "stream",
     "text": [
      "TxId \"1c9668e21c149fa97cfadf02f9c882df59a1bba8a406f5844ecd75fee910e578\"\n"
     ]
    }
   ],
   "source": [
    "marlowe-cli util clean \\\n",
    "  --change-address \"$PARTY_ADDR\" \\\n",
    "  --required-signer \"$PARTY_SKEY\" \\\n",
    "  --out-file /dev/null \\\n",
    "  --submit 600"
   ]
  },
  {
   "cell_type": "code",
   "execution_count": 42,
   "id": "3084ac48-3e9f-4399-aba8-a5fa487006c0",
   "metadata": {},
   "outputs": [
    {
     "name": "stdout",
     "output_type": "stream",
     "text": [
      "TxId \"d308a2e03ec31a7bda7db01a5f3704f43a74539eae92a75def8932d1366ff798\"\n"
     ]
    }
   ],
   "source": [
    "marlowe-cli util clean \\\n",
    "  --change-address \"$COUNTERPARTY_ADDR\" \\\n",
    "  --required-signer \"$COUNTERPARTY_SKEY\" \\\n",
    "  --out-file /dev/null \\\n",
    "  --submit 600"
   ]
  },
  {
   "cell_type": "markdown",
   "id": "5ddc612f-57ca-4e17-96f2-658baa3ef7e8",
   "metadata": {},
   "source": [
    "Send the funds back to the faucet."
   ]
  },
  {
   "cell_type": "code",
   "execution_count": 43,
   "id": "a300a576-a800-4fdd-9d45-bc6cc3c901a8",
   "metadata": {},
   "outputs": [
    {
     "name": "stdout",
     "output_type": "stream",
     "text": [
      "TxId \"c0cb5cb98f7beb5e93e4778a4cb30558707d15f30d138302cff1c6914981c621\"\n"
     ]
    }
   ],
   "source": [
    "marlowe-cli transaction simple \\\n",
    "  --tx-in \"$(marlowe-cli util select --lovelace-only 1 \"$PARTY_ADDR\" | sed -n -e 's/^TxIn \"\\(.*\\)\" (TxIx \\(.*\\))$/\\1#\\2/;1p')\" \\\n",
    "  --tx-in \"$(marlowe-cli util select --lovelace-only 1 \"$COUNTERPARTY_ADDR\" | sed -n -e 's/^TxIn \"\\(.*\\)\" (TxIx \\(.*\\))$/\\1#\\2/;1p')\" \\\n",
    "  --required-signer \"$PARTY_SKEY\" \\\n",
    "  --required-signer \"$COUNTERPARTY_SKEY\" \\\n",
    "  --change-address \"$FAUCET_ADDR\" \\\n",
    "  --out-file /dev/null \\\n",
    "  --submit 600"
   ]
  },
  {
   "cell_type": "markdown",
   "id": "38191ab9-7b3b-40f2-900d-b6ffb4935580",
   "metadata": {},
   "source": [
    "See that the funds have been returned to the faucet."
   ]
  },
  {
   "cell_type": "code",
   "execution_count": 44,
   "id": "6bb344ca-c733-44ea-8f85-b0713588cce6",
   "metadata": {},
   "outputs": [
    {
     "name": "stdout",
     "output_type": "stream",
     "text": [
      "                           TxHash                                 TxIx        Amount\n",
      "--------------------------------------------------------------------------------------\n"
     ]
    }
   ],
   "source": [
    "cardano-cli query utxo \"${MAGIC[@]}\" --address \"$PARTY_ADDR\" --address \"$COUNTERPARTY_ADDR\""
   ]
  }
 ],
 "metadata": {
  "kernelspec": {
   "display_name": "Bash - Marlowe",
   "language": "bash",
   "name": "bash_marlowe"
  },
  "language_info": {
   "codemirror_mode": "shell",
   "file_extension": ".sh",
   "mimetype": "text/x-sh",
   "name": "/nix/store/2ispfz80kmwrsvwndxkxs56irn86h43p-bash-5.1-p16/bin/bash"
  }
 },
 "nbformat": 4,
 "nbformat_minor": 5
}
