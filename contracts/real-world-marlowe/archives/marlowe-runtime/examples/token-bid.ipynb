{
 "cells": [
  {
   "cell_type": "code",
   "execution_count": 1,
   "id": "c2b997ff-7487-4181-a96d-83057ca11994",
   "metadata": {},
   "outputs": [],
   "source": [
    "#!/usr/bin/env bash"
   ]
  },
  {
   "cell_type": "markdown",
   "id": "29ad9b87-6812-4d1b-888b-c255e9be9eae",
   "metadata": {},
   "source": [
    "<span style=\"color: red; font-weight: bold\">Use the following command to launch a server for this notebook:</span>\n",
    "\n",
    "```bash\n",
    "git clone git@github.com:input-output-hk/marlowe-cardano.git\n",
    "cd marlowe-cardano/marlowe-runtime/\n",
    "nix run ../marlowe-cli\n",
    "```\n",
    "\n",
    "Then navigate to the `examples/` folder in Jupyter and open this notebook."
   ]
  },
  {
   "cell_type": "markdown",
   "id": "ff12ef20-4800-40fc-bf1a-b48def801ee9",
   "metadata": {},
   "source": [
    "# Demonstration of Marlowe Runtime Capabilities"
   ]
  },
  {
   "cell_type": "markdown",
   "id": "a8cecca3-86f4-45ac-8218-5c55626e5940",
   "metadata": {},
   "source": [
    "**Executive Summary**\n",
    "\n",
    "This contract for a token sale uses nearly all of the features of the Marlowe Runtime backend. The `marlowe` commands `create`, `deposit`, `choose`, `notify`, and `advance` transition the contract, and the command `withdraw` redeems funds paid by the contract. It can be run using addresses for the parties, role tokens for the parties, or a mixture of addresses and role tokens for the parties.\n",
    "\n",
    "**Highlights**\n",
    "\n",
    "* Used `choose`, `deposit`, and `notify`.\n",
    "* Includes a timeout.\n",
    "* Uses a mix of addresses and role tokens for the parties.\n",
    "* Involves native assets.\n",
    "* Includes variations of transaction creation:\n",
    "    * Multiple addresses fund a singletransaction.\n",
    "    * One party receives the change from another party's transaction.\n",
    "    * One party fund another's transaction.\n",
    "\n",
    "\n",
    "**Parties**\n",
    "\n",
    "* The *Offeror* is selling `Marlon` tokens.\n",
    "* The *Purchaser* bids Ada for purchasing the `Marlon` tokens.\n",
    "* The *Approver* has the option to block the transaction, perhaps because KYC requirements have not been met by the *Offeror* or *Purchaser*.\n",
    "\n",
    "\n",
    "**Scenario**\n",
    "\n",
    "1. The *Approver* creates the contract.\n",
    "2. The *Offeror* chooses to offer 500 `Marlon` tokens.\n",
    "3. The *Offeror* deposits the 500 `Marlon` tokens that the chose to offer.\n",
    "4. The *Purchaser* bids 100 Ada for the `Marlon` tokens.\n",
    "5. The *Offeror* accepts the bid made by the *Purchaser*.\n",
    "6. The *Purchaser* deposits the 100 Ada that they bid.\n",
    "7. The *Approver* declines to forbid the transaction by waiting for the next timeout in the contract, triggering the payment of the `Marlon` tokens to the *Purchaser*.\n",
    "8. The contract is notified to close, paying the Ada to the *Offeror*.\n",
    "\n",
    "\n",
    "![Token-Bid Contract](token-bid.png)"
   ]
  },
  {
   "cell_type": "markdown",
   "id": "b4002252-fe9f-40e4-a371-d4d6b57316de",
   "metadata": {},
   "source": [
    "## Preliminaries"
   ]
  },
  {
   "cell_type": "markdown",
   "id": "dab2352b-0021-4998-9107-c5cc32d3734c",
   "metadata": {},
   "source": [
    "Record version numbers"
   ]
  },
  {
   "cell_type": "code",
   "execution_count": 2,
   "id": "4832053a-541d-4acd-a781-e7b31a3d28e1",
   "metadata": {},
   "outputs": [
    {
     "name": "stdout",
     "output_type": "stream",
     "text": [
      "marlowe-cli 0.0.10.0\n"
     ]
    }
   ],
   "source": [
    "marlowe-cli --version"
   ]
  },
  {
   "cell_type": "code",
   "execution_count": 3,
   "id": "e7651166-5c42-4a2b-8447-3407440f7b5a",
   "metadata": {},
   "outputs": [
    {
     "name": "stdout",
     "output_type": "stream",
     "text": [
      "cardano-cli 1.35.3 - linux-x86_64 - ghc-8.10\n",
      "git rev 0000000000000000000000000000000000000000\n"
     ]
    }
   ],
   "source": [
    "cardano-cli --version"
   ]
  },
  {
   "cell_type": "code",
   "execution_count": 4,
   "id": "0434d927-022f-41f6-b60f-091ebe85cfc4",
   "metadata": {},
   "outputs": [
    {
     "name": "stdout",
     "output_type": "stream",
     "text": [
      "87b74aaa8662dd929ea4f953ad486c84d5866c9a\n"
     ]
    }
   ],
   "source": [
    "git rev-parse HEAD"
   ]
  },
  {
   "cell_type": "markdown",
   "id": "9fb67751-bbb3-4e07-a9c7-b509502903c7",
   "metadata": {
    "tags": []
   },
   "source": [
    "### Setup the faucet."
   ]
  },
  {
   "cell_type": "markdown",
   "id": "4c1053b7-899c-4df1-94bc-626300568286",
   "metadata": {},
   "source": [
    "Set the location of keys."
   ]
  },
  {
   "cell_type": "code",
   "execution_count": 5,
   "id": "7eba74b8-fb39-4a07-9080-211d46f9132a",
   "metadata": {},
   "outputs": [],
   "source": [
    "TREASURY=treasury"
   ]
  },
  {
   "cell_type": "markdown",
   "id": "d5caee3c-c91e-49b8-aeb2-84b3170128d6",
   "metadata": {},
   "source": [
    "Set the faucet."
   ]
  },
  {
   "cell_type": "code",
   "execution_count": 6,
   "id": "054727ec-d1d3-4fdd-811f-95561dc807c5",
   "metadata": {},
   "outputs": [
    {
     "name": "stdout",
     "output_type": "stream",
     "text": [
      "addr_test1vq9prvx8ufwutkwxx9cmmuuajaqmjqwujqlp9d8pvg6gupczgtm9j\n"
     ]
    }
   ],
   "source": [
    "FAUCET_SKEY=$TREASURY/payment.skey\n",
    "FAUCET_ADDR=$(cat $TREASURY/payment.testnet.address)\n",
    "echo \"$FAUCET_ADDR\""
   ]
  },
  {
   "cell_type": "markdown",
   "id": "2894720b-50a2-4830-9a5d-e65b8e7c7dad",
   "metadata": {},
   "source": [
    "### Select network"
   ]
  },
  {
   "cell_type": "markdown",
   "id": "720ae956-275a-4b64-8460-cff5630104b4",
   "metadata": {},
   "source": [
    "In a separate terminal, set up a tunnel to the Marlowe Runtime development server:\n",
    "```bash\n",
    "rm /tmp/preview.socket\n",
    "ssh -NT \\\n",
    "  -L/tmp/preview.socket:/data/networks/preview/node.socket \\\n",
    "  -L 3717:127.0.0.1:23717 \\\n",
    "  -L 3718:127.0.0.1:23718 \\\n",
    "  -L 3719:127.0.0.1:23719 \\\n",
    "  -L 3721:127.0.0.1:23721 \\\n",
    "  -L 3723:127.0.0.1:23723 \\\n",
    "  54.202.238.5                                              \n",
    "```"
   ]
  },
  {
   "cell_type": "code",
   "execution_count": 7,
   "id": "ced2a30e-b2ba-435a-9199-bcfa0d6a8cf4",
   "metadata": {},
   "outputs": [
    {
     "name": "stdout",
     "output_type": "stream",
     "text": [
      "--testnet-magic 2\n"
     ]
    }
   ],
   "source": [
    "export CARDANO_NODE_SOCKET_PATH=/tmp/preview.socket\n",
    "export CARDANO_TESTNET_MAGIC=2\n",
    "MAGIC=(--testnet-magic 2)\n",
    "echo \"${MAGIC[@]}\""
   ]
  },
  {
   "cell_type": "markdown",
   "id": "6649b7a2-3f9e-4dd4-bde7-11699c6bf27f",
   "metadata": {},
   "source": [
    "### Check that the reference script has been published"
   ]
  },
  {
   "cell_type": "markdown",
   "id": "8f88e700-a21f-4fd4-b785-35f39d767e49",
   "metadata": {},
   "source": [
    "Check that the Marlowe semantics validator was published."
   ]
  },
  {
   "cell_type": "code",
   "execution_count": 8,
   "id": "eb29caeb-c563-4e7d-922a-b5350642cc0f",
   "metadata": {},
   "outputs": [
    {
     "name": "stdout",
     "output_type": "stream",
     "text": [
      "\n",
      "Searching for reference script at address: addr_test1vrw0tuh8l95thdqr65dmpcfqnmcw0en7v7vhgegck7gzqgswa07sw\n",
      "\n",
      "Expected reference script hash: \"6a9391d6aa51af28dd876ebb5565b69d1e83e5ac7861506bd29b56b0\"\n",
      "\n",
      "Searching for reference script at address: addr_test1vpa36uuyf95kxpcleldsncedlhjru6vdmh2vnpkdrsz4u6cll9zas\n",
      "\n",
      "Expected reference script hash: \"49076eab20243dc9462511fb98a9cfb719f86e9692288139b7c91df3\"\n",
      "{\n",
      "    \"marlowe\": {\n",
      "        \"hash\": \"6a9391d6aa51af28dd876ebb5565b69d1e83e5ac7861506bd29b56b0\",\n",
      "        \"txIn\": \"087f21f109a997193421a81886ea8c6397d336d19e696457b9c5c7aefdc31873#1\"\n",
      "    },\n",
      "    \"payout\": {\n",
      "        \"hash\": \"49076eab20243dc9462511fb98a9cfb719f86e9692288139b7c91df3\",\n",
      "        \"txIn\": \"087f21f109a997193421a81886ea8c6397d336d19e696457b9c5c7aefdc31873#2\"\n",
      "    }\n",
      "}\n"
     ]
    }
   ],
   "source": [
    "marlowe-cli transaction find-published"
   ]
  },
  {
   "cell_type": "markdown",
   "id": "7ae0e907-2c31-4b85-926d-c62dc9cafc49",
   "metadata": {},
   "source": [
    "### Participants"
   ]
  },
  {
   "cell_type": "markdown",
   "id": "ea318fc6-f1dc-46a8-a4e7-83ee23a42ec3",
   "metadata": {},
   "source": [
    "#### The Offeror"
   ]
  },
  {
   "cell_type": "code",
   "execution_count": 9,
   "id": "009fed78-8410-4894-b904-d6ea92982d70",
   "metadata": {},
   "outputs": [],
   "source": [
    "OFFEROR_SKEY=\"$TREASURY/john-fletcher.skey\"\n",
    "OFFEROR_VKEY=\"$TREASURY/john-fletcher.vkey\""
   ]
  },
  {
   "cell_type": "markdown",
   "id": "df56d582-919c-438f-986a-a9a3fffc40c7",
   "metadata": {},
   "source": [
    "Create the token offeror's keys, if necessary."
   ]
  },
  {
   "cell_type": "code",
   "execution_count": 10,
   "id": "0de60d98-b79e-43fc-8c7d-fd494c76390d",
   "metadata": {},
   "outputs": [
    {
     "name": "stdout",
     "output_type": "stream",
     "text": [
      "addr_test1vqwt2xlr4d8yk4qws675exlqy6pdhq2s76wrehkjggkvr0cerfe8r\n"
     ]
    }
   ],
   "source": [
    "if [[ ! -e \"$OFFEROR_SKEY\" ]]\n",
    "then\n",
    "  cardano-cli address key-gen --signing-key-file \"$OFFEROR_SKEY\" --verification-key-file \"$OFFEROR_VKEY\"\n",
    "fi\n",
    "OFFEROR_ADDR=$(cardano-cli address build \"${MAGIC[@]}\" --payment-verification-key-file \"$OFFEROR_VKEY\")\n",
    "echo \"$OFFEROR_ADDR\""
   ]
  },
  {
   "cell_type": "markdown",
   "id": "beac2b0a-83c9-4f13-a1b2-d4ae12795bc7",
   "metadata": {},
   "source": [
    "#### The Purchaser"
   ]
  },
  {
   "cell_type": "code",
   "execution_count": 11,
   "id": "359d2b9b-9bc3-4688-9689-9ef2c69cd382",
   "metadata": {},
   "outputs": [],
   "source": [
    "PURCHASER_SKEY=\"$TREASURY/thomas-kyd.skey\"\n",
    "PURCHASER_VKEY=\"$TREASURY/thomas-kyd.vkey\""
   ]
  },
  {
   "cell_type": "markdown",
   "id": "cc9ff64b-fc5b-4308-8b6c-9208985b3600",
   "metadata": {},
   "source": [
    "Create the token purchaser's keys, if necessary."
   ]
  },
  {
   "cell_type": "code",
   "execution_count": 12,
   "id": "c4297420-6c47-4716-bbb3-c5bb0be2ef9a",
   "metadata": {},
   "outputs": [
    {
     "name": "stdout",
     "output_type": "stream",
     "text": [
      "addr_test1vr7n0zzth5zycuh972w7rdmh48qur4f3wu6ntn2m2h30dlcvltuy5\n"
     ]
    }
   ],
   "source": [
    "if [[ ! -e \"$PURCHASER_SKEY\" ]]\n",
    "then\n",
    "  cardano-cli address key-gen --signing-key-file \"$PURCHASER_SKEY\" --verification-key-file \"$PURCHASER_VKEY\"\n",
    "fi\n",
    "PURCHASER_ADDR=$(cardano-cli address build \"${MAGIC[@]}\" --payment-verification-key-file \"$PURCHASER_VKEY\")\n",
    "echo \"$PURCHASER_ADDR\""
   ]
  },
  {
   "cell_type": "markdown",
   "id": "23aa51a6-7080-42fd-8f30-5d31a7d9900f",
   "metadata": {},
   "source": [
    "#### The Approver"
   ]
  },
  {
   "cell_type": "code",
   "execution_count": 13,
   "id": "3b8c965f-e68b-494f-80cd-9135ae8affcf",
   "metadata": {},
   "outputs": [],
   "source": [
    "APPROVER_SKEY=\"$TREASURY/john-webster.skey\"\n",
    "APPROVER_VKEY=\"$TREASURY/john-webster.vkey\""
   ]
  },
  {
   "cell_type": "markdown",
   "id": "bf3be2a1-e26d-4068-bf5e-ccd33cef349e",
   "metadata": {},
   "source": [
    "Create the approvers's keys, if necessary."
   ]
  },
  {
   "cell_type": "code",
   "execution_count": 14,
   "id": "6fd80f30-95a6-46d6-98bb-94cd3f3d66ca",
   "metadata": {},
   "outputs": [
    {
     "name": "stdout",
     "output_type": "stream",
     "text": [
      "addr_test1vp6g96pgt37le7lc0wew60shsdh2lmqrt57da9t6k64sltgasvxlp\n"
     ]
    }
   ],
   "source": [
    "if [[ ! -e \"$APPROVER_SKEY\" ]]\n",
    "then\n",
    "  cardano-cli address key-gen --signing-key-file \"$APPROVER_SKEY\" --verification-key-file \"$APPROVER_VKEY\"\n",
    "fi\n",
    "APPROVER_ADDR=$(cardano-cli address build \"${MAGIC[@]}\" --payment-verification-key-file \"$APPROVER_VKEY\")\n",
    "echo \"$APPROVER_ADDR\""
   ]
  },
  {
   "cell_type": "markdown",
   "id": "293d6bcb-2752-45d1-b661-f8b8ba65b14b",
   "metadata": {},
   "source": [
    "### Fund the addresses."
   ]
  },
  {
   "cell_type": "code",
   "execution_count": 15,
   "id": "7421236a-6a09-4d29-8c75-0f4c28f405d5",
   "metadata": {},
   "outputs": [
    {
     "name": "stdout",
     "output_type": "stream",
     "text": [
      "TxId \"c836ce6c973a378e2d580e9050a3be4339866087b0f20cda2fe713be11ccb1a8\"\n"
     ]
    }
   ],
   "source": [
    "marlowe-cli util fund-address \\\n",
    "  --out-file /dev/null \\\n",
    "  --submit 600  \\\n",
    "  --lovelace 125000000 \\\n",
    "  --source-wallet-credentials \"$FAUCET_ADDR:$FAUCET_SKEY\" \\\n",
    "  \"$OFFEROR_ADDR\" \"$PURCHASER_ADDR\" \"$APPROVER_ADDR\" \\\n",
    "  \"$OFFEROR_ADDR\" \"$PURCHASER_ADDR\" \"$APPROVER_ADDR\"  "
   ]
  },
  {
   "cell_type": "markdown",
   "id": "b65b8f43-9341-4837-92b0-31c201484669",
   "metadata": {},
   "source": [
    "### Mint the tokens to be purchased"
   ]
  },
  {
   "cell_type": "code",
   "execution_count": 16,
   "id": "d9726fa6-051d-4f01-a468-732f48b3bf4c",
   "metadata": {},
   "outputs": [],
   "source": [
    "TOKEN_NAME=Marlon"
   ]
  },
  {
   "cell_type": "code",
   "execution_count": 17,
   "id": "87dc6792-6af7-4d46-a476-9c14dc9866a5",
   "metadata": {},
   "outputs": [
    {
     "name": "stdout",
     "output_type": "stream",
     "text": [
      "\n",
      "Fee: Lovelace 188557\n",
      "Size: 410 / 16384 = 2%\n",
      "Execution units:\n",
      "  Memory: 0 / 14000000 = 0%\n",
      "  Steps: 0 / 10000000000 = 0%\n",
      "POLICY_ID = 8bb3b343d8e404472337966a722150048c768d0a92a9813596c5338d\n"
     ]
    }
   ],
   "source": [
    "POLICY_ID=$(\n",
    "marlowe-cli util mint \\\n",
    "  --issuer \"$FAUCET_ADDR:$FAUCET_SKEY\" \\\n",
    "  --count 1000 \\\n",
    "  --out-file /dev/null \\\n",
    "  --submit 600 \\\n",
    "  \"$TOKEN_NAME:$OFFEROR_ADDR\" \\\n",
    "| sed -e 's/^PolicyID \"\\(.*\\)\"$/\\1/' \\\n",
    ")\n",
    "echo \"POLICY_ID = $POLICY_ID\""
   ]
  },
  {
   "cell_type": "code",
   "execution_count": 18,
   "id": "9934cc9f-b0f2-4e65-a611-ff65e0b01d2a",
   "metadata": {},
   "outputs": [
    {
     "name": "stdout",
     "output_type": "stream",
     "text": [
      "TOKEN = 8bb3b343d8e404472337966a722150048c768d0a92a9813596c5338d.Marlon\n"
     ]
    }
   ],
   "source": [
    "TOKEN=\"$POLICY_ID.$TOKEN_NAME\"\n",
    "echo \"TOKEN = $TOKEN\""
   ]
  },
  {
   "cell_type": "markdown",
   "id": "2e5e57df-98b1-49ee-b0d8-0ca36475dd34",
   "metadata": {},
   "source": [
    "### Time computations"
   ]
  },
  {
   "cell_type": "code",
   "execution_count": 19,
   "id": "15b80716-4545-4558-825f-9d0dda82f8d5",
   "metadata": {},
   "outputs": [],
   "source": [
    "SECOND=1000\n",
    "MINUTE=$((60 * SECOND))"
   ]
  },
  {
   "cell_type": "code",
   "execution_count": 20,
   "id": "359b6f47-e0d1-4f84-8812-b96cfa361c2d",
   "metadata": {},
   "outputs": [
    {
     "name": "stdout",
     "output_type": "stream",
     "text": [
      "1667009451000\n"
     ]
    }
   ],
   "source": [
    "NOW=\"$(($(date -u +%s) * SECOND))\"\n",
    "echo \"$NOW\""
   ]
  },
  {
   "cell_type": "markdown",
   "id": "eb417b36-effb-4fc2-ae81-b7fce917aa7b",
   "metadata": {},
   "source": [
    "## The Contract"
   ]
  },
  {
   "cell_type": "markdown",
   "id": "b04afd25-7baa-46ef-b4e5-549402d14cd7",
   "metadata": {},
   "source": [
    "We set the parameters for the contract."
   ]
  },
  {
   "cell_type": "code",
   "execution_count": 21,
   "id": "c5845b3d-12cf-47f0-a53c-0da3e4fe89f2",
   "metadata": {
    "tags": []
   },
   "outputs": [],
   "source": [
    "ADA=1000000\n",
    "\n",
    "MINIMUM_ADA=$((3 * ADA))\n",
    "MAXIMUM_TOKEN=1000\n",
    "MAXIMUM_ADA=$((200 * ADA))\n",
    "\n",
    "TOKEN_DEADLINE=$((NOW + 14 * MINUTE))\n",
    "BID_DEADLINE=$((NOW + 15 * MINUTE))\n",
    "ACCEPT_DEADLINE=$((NOW + 16 * MINUTE))\n",
    "ADA_DEADLINE=$((NOW + 17 * MINUTE))\n",
    "FORBID_DEADLINE=$((NOW + 18 * MINUTE))\n",
    "NOTIFY_DEADLINE=$((NOW + 30 * MINUTE))\n",
    "\n",
    "OFFEROR_PARTY=\"$OFFEROR_ADDR\"\n",
    "PURCHASER_PARTY=\"Purchaser\"\n",
    "#APPROVER_PARTY=\"Approver\"\n",
    "OFFEROR_PARTY_C=\"address: $OFFEROR_ADDR\"\n",
    "PURCHASER_PARTY_C=\"role_token: Purchaser\"\n",
    "APPROVER_PARTY_C=\"role_token: Approver\""
   ]
  },
  {
   "cell_type": "markdown",
   "id": "cf7372ad-76c4-409d-91b9-18e0e799930b",
   "metadata": {},
   "source": [
    "Insert the parameters into the contract."
   ]
  },
  {
   "cell_type": "code",
   "execution_count": 22,
   "id": "933c80a1-479c-493e-bb1e-99ed2fb88ee1",
   "metadata": {},
   "outputs": [
    {
     "name": "stdout",
     "output_type": "stream",
     "text": [
      "{\"timeout\":1667010291000,\"timeout_continuation\":\"close\",\"when\":[{\"case\":{\"choose_between\":[{\"from\":1,\"to\":1000}],\"for_choice\":{\"choice_name\":\"Offer\",\"choice_owner\":{\"address\":\"addr_test1vqwt2xlr4d8yk4qws675exlqy6pdhq2s76wrehkjggkvr0cerfe8r\"}}},\"then\":{\"timeout\":1667010291000,\"timeout_continuation\":\"close\",\"when\":[{\"case\":{\"deposits\":{\"value_of_choice\":{\"choice_name\":\"Offer\",\"choice_owner\":{\"address\":\"addr_test1vqwt2xlr4d8yk4qws675exlqy6pdhq2s76wrehkjggkvr0cerfe8r\"}}},\"into_account\":{\"address\":\"addr_test1vqwt2xlr4d8yk4qws675exlqy6pdhq2s76wrehkjggkvr0cerfe8r\"},\"of_token\":{\"currency_symbol\":\"8bb3b343d8e404472337966a722150048c768d0a92a9813596c5338d\",\"token_name\":\"Marlon\"},\"party\":{\"address\":\"addr_test1vqwt2xlr4d8yk4qws675exlqy6pdhq2s76wrehkjggkvr0cerfe8r\"}},\"then\":{\"timeout\":1667010351000,\"timeout_continuation\":\"close\",\"when\":[{\"case\":{\"choose_between\":[{\"from\":1,\"to\":200000000}],\"for_choice\":{\"choice_name\":\"Bid\",\"choice_owner\":{\"role_token\":\"Purchaser\"}}},\"then\":{\"timeout\":1667010411000,\"timeout_continuation\":\"close\",\"when\":[{\"case\":{\"choose_between\":[{\"from\":1,\"to\":1}],\"for_choice\":{\"choice_name\":\"Accept\",\"choice_owner\":{\"address\":\"addr_test1vqwt2xlr4d8yk4qws675exlqy6pdhq2s76wrehkjggkvr0cerfe8r\"}}},\"then\":{\"timeout\":1667010471000,\"timeout_continuation\":\"close\",\"when\":[{\"case\":{\"deposits\":{\"value_of_choice\":{\"choice_name\":\"Bid\",\"choice_owner\":{\"role_token\":\"Purchaser\"}}},\"into_account\":{\"role_token\":\"Purchaser\"},\"of_token\":{\"currency_symbol\":\"\",\"token_name\":\"\"},\"party\":{\"role_token\":\"Purchaser\"}},\"then\":{\"timeout\":1667010531000,\"timeout_continuation\":{\"from_account\":{\"role_token\":\"Purchaser\"},\"pay\":{\"amount_of_token\":{\"currency_symbol\":\"\",\"token_name\":\"\"},\"in_account\":{\"role_token\":\"Purchaser\"}},\"then\":{\"from_account\":{\"address\":\"addr_test1vqwt2xlr4d8yk4qws675exlqy6pdhq2s76wrehkjggkvr0cerfe8r\"},\"pay\":{\"amount_of_token\":{\"currency_symbol\":\"8bb3b343d8e404472337966a722150048c768d0a92a9813596c5338d\",\"token_name\":\"Marlon\"},\"in_account\":{\"address\":\"addr_test1vqwt2xlr4d8yk4qws675exlqy6pdhq2s76wrehkjggkvr0cerfe8r\"}},\"then\":{\"timeout\":1667011251000,\"timeout_continuation\":\"close\",\"when\":[{\"case\":{\"notify_if\":true},\"then\":\"close\"}]},\"to\":{\"party\":{\"role_token\":\"Purchaser\"}},\"token\":{\"currency_symbol\":\"8bb3b343d8e404472337966a722150048c768d0a92a9813596c5338d\",\"token_name\":\"Marlon\"}},\"to\":{\"account\":{\"address\":\"addr_test1vqwt2xlr4d8yk4qws675exlqy6pdhq2s76wrehkjggkvr0cerfe8r\"}},\"token\":{\"currency_symbol\":\"\",\"token_name\":\"\"}},\"when\":[{\"case\":{\"choose_between\":[{\"from\":1,\"to\":1}],\"for_choice\":{\"choice_name\":\"Forbid\",\"choice_owner\":{\"role_token\":\"Approver\"}}},\"then\":\"close\"}]}}]}}]}}]}}]}}]}\n"
     ]
    }
   ],
   "source": [
    "yaml2json << EOI > token-bid-1.contract\n",
    "when:\n",
    "- case:\n",
    "    choose_between:\n",
    "    - from: 1\n",
    "      to: $MAXIMUM_TOKEN\n",
    "    for_choice:\n",
    "      choice_name: Offer\n",
    "      choice_owner:\n",
    "        $OFFEROR_PARTY_C\n",
    "  then:\n",
    "    when:\n",
    "    - case:\n",
    "        deposits:\n",
    "          value_of_choice:\n",
    "            choice_name: Offer\n",
    "            choice_owner:\n",
    "              $OFFEROR_PARTY_C\n",
    "        into_account:\n",
    "          $OFFEROR_PARTY_C\n",
    "        of_token:\n",
    "          currency_symbol: $POLICY_ID\n",
    "          token_name: $TOKEN_NAME\n",
    "        party:\n",
    "          $OFFEROR_PARTY_C\n",
    "      then:\n",
    "        when:\n",
    "        - case:\n",
    "            choose_between:\n",
    "            - from: 1\n",
    "              to: $MAXIMUM_ADA\n",
    "            for_choice:\n",
    "              choice_name: Bid\n",
    "              choice_owner:\n",
    "                $PURCHASER_PARTY_C\n",
    "          then:\n",
    "            when:\n",
    "            - case:\n",
    "                choose_between:\n",
    "                - from: 1\n",
    "                  to: 1\n",
    "                for_choice:\n",
    "                  choice_name: Accept\n",
    "                  choice_owner:\n",
    "                    $OFFEROR_PARTY_C\n",
    "              then:\n",
    "                when:\n",
    "                - case:\n",
    "                    deposits:\n",
    "                      value_of_choice:\n",
    "                        choice_name: Bid\n",
    "                        choice_owner:\n",
    "                          $PURCHASER_PARTY_C\n",
    "                    into_account:\n",
    "                      $PURCHASER_PARTY_C\n",
    "                    of_token:\n",
    "                      currency_symbol: ''\n",
    "                      token_name: ''\n",
    "                    party:\n",
    "                      $PURCHASER_PARTY_C\n",
    "                  then:\n",
    "                    when:\n",
    "                    - case:\n",
    "                        choose_between:\n",
    "                        - from: 1\n",
    "                          to: 1\n",
    "                        for_choice:\n",
    "                          choice_name: Forbid\n",
    "                          choice_owner:\n",
    "                            $APPROVER_PARTY_C\n",
    "                      then: close\n",
    "                    timeout: $FORBID_DEADLINE\n",
    "                    timeout_continuation:\n",
    "                      pay:\n",
    "                        amount_of_token:\n",
    "                          currency_symbol: ''\n",
    "                          token_name: ''\n",
    "                        in_account:\n",
    "                          $PURCHASER_PARTY_C\n",
    "                      from_account:\n",
    "                        $PURCHASER_PARTY_C\n",
    "                      token:\n",
    "                        currency_symbol: ''\n",
    "                        token_name: ''\n",
    "                      to:\n",
    "                        account:\n",
    "                          $OFFEROR_PARTY_C\n",
    "                      then:\n",
    "                        pay:\n",
    "                          amount_of_token:\n",
    "                            currency_symbol: $POLICY_ID\n",
    "                            token_name: $TOKEN_NAME\n",
    "                          in_account:\n",
    "                            $OFFEROR_PARTY_C\n",
    "                        from_account:\n",
    "                          $OFFEROR_PARTY_C\n",
    "                        token:\n",
    "                          currency_symbol: $POLICY_ID\n",
    "                          token_name: $TOKEN_NAME\n",
    "                        to:\n",
    "                          party:\n",
    "                            $PURCHASER_PARTY_C\n",
    "                        then:\n",
    "                          when:\n",
    "                          - case:\n",
    "                              notify_if: true\n",
    "                            then: close\n",
    "                          timeout: $NOTIFY_DEADLINE\n",
    "                          timeout_continuation: close\n",
    "                timeout: $ADA_DEADLINE\n",
    "                timeout_continuation: close\n",
    "            timeout: $ACCEPT_DEADLINE\n",
    "            timeout_continuation: close\n",
    "        timeout: $BID_DEADLINE\n",
    "        timeout_continuation: close\n",
    "    timeout: $TOKEN_DEADLINE\n",
    "    timeout_continuation: close\n",
    "timeout: $TOKEN_DEADLINE\n",
    "timeout_continuation: close\n",
    "EOI\n",
    "cat token-bid-1.contract"
   ]
  },
  {
   "cell_type": "markdown",
   "id": "e431ab5d-1e8f-4e26-8613-dc3f82529998",
   "metadata": {},
   "source": [
    "## Simulate the Contract"
   ]
  },
  {
   "cell_type": "markdown",
   "id": "3c40db8b-6b3b-4103-a82c-86651fcd201f",
   "metadata": {},
   "source": [
    "Simulate the contract before running it on chain.\n",
    "\n",
    "We start the contract with an initial state of the minimum Ada."
   ]
  },
  {
   "cell_type": "code",
   "execution_count": 23,
   "id": "15b5ba09-d923-493a-80c7-9a86aa71d217",
   "metadata": {},
   "outputs": [
    {
     "name": "stdout",
     "output_type": "stream",
     "text": [
      "{\"accounts\":[[[{\"address\":\"addr_test1vp6g96pgt37le7lc0wew60shsdh2lmqrt57da9t6k64sltgasvxlp\"},{\"currency_symbol\":\"\",\"token_name\":\"\"}],3000000]],\"boundValues\":[],\"choices\":[],\"minTime\":1}\n"
     ]
    }
   ],
   "source": [
    "yaml2json << EOI > token-bid-1.state\n",
    "accounts:\n",
    "- - - address: $APPROVER_ADDR\n",
    "    - currency_symbol: ''\n",
    "      token_name: ''\n",
    "  - $MINIMUM_ADA\n",
    "boundValues: []\n",
    "choices: []\n",
    "minTime: 1\n",
    "EOI\n",
    "cat token-bid-1.state"
   ]
  },
  {
   "cell_type": "markdown",
   "id": "63f7aa72-e059-4a1e-aefb-cabd7f19ad2d",
   "metadata": {},
   "source": [
    "### Transaction 1. Create the contract"
   ]
  },
  {
   "cell_type": "code",
   "execution_count": 24,
   "id": "a0b064e6-0eb8-45d7-8e0b-6975295c797a",
   "metadata": {},
   "outputs": [
    {
     "name": "stdout",
     "output_type": "stream",
     "text": [
      "\n",
      "Searching for reference script at address: addr_test1vrw0tuh8l95thdqr65dmpcfqnmcw0en7v7vhgegck7gzqgswa07sw\n",
      "\n",
      "Expected reference script hash: \"6a9391d6aa51af28dd876ebb5565b69d1e83e5ac7861506bd29b56b0\"\n",
      "\n",
      "Searching for reference script at address: addr_test1vpa36uuyf95kxpcleldsncedlhjru6vdmh2vnpkdrsz4u6cll9zas\n",
      "\n",
      "Expected reference script hash: \"49076eab20243dc9462511fb98a9cfb719f86e9692288139b7c91df3\"\n",
      "\n",
      "Validator size: 12505\n",
      "Base-validator cost: ExBudget {exBudgetCPU = ExCPU 18515100, exBudgetMemory = ExMemory 80600}\n"
     ]
    }
   ],
   "source": [
    "marlowe-cli run initialize \\\n",
    "  --contract-file token-bid-1.contract \\\n",
    "  --state-file    token-bid-1.state \\\n",
    "  --out-file      token-bid-1.marlowe \\\n",
    "  --roles-currency \"00000000000000000000000000000000000000000000000000000000\" \\\n",
    "  --permanently-without-staking \\\n",
    "  --print-stats"
   ]
  },
  {
   "cell_type": "markdown",
   "id": "65ec9d0a-5456-4ad3-9e68-f857055a5f92",
   "metadata": {},
   "source": [
    "### Transaction 2. The Offeror offers tokens"
   ]
  },
  {
   "cell_type": "code",
   "execution_count": 25,
   "id": "7258f458-a798-4771-83b1-154ff1bcea26",
   "metadata": {},
   "outputs": [
    {
     "name": "stdout",
     "output_type": "stream",
     "text": [
      "Rounding  `TransactionInput` txInterval boundries to:(POSIXTime {getPOSIXTime = 1667009511000},POSIXTime {getPOSIXTime = 1667009571999})\n",
      "TransactionInput {txInterval = (POSIXTime {getPOSIXTime = 1667009511000},POSIXTime {getPOSIXTime = 1667009571999}), txInputs = [NormalInput (IChoice (ChoiceId \"Offer\" \"\\\"addr_test1vqwt2xlr4d8yk4qws675exlqy6pdhq2s76wrehkjggkvr0cerfe8r\\\"\") 500)]}\n",
      "\n",
      "Datum size: 1041\n"
     ]
    }
   ],
   "source": [
    "marlowe-cli run prepare \\\n",
    "  --marlowe-file token-bid-1.marlowe \\\n",
    "  --out-file     token-bid-2.marlowe \\\n",
    "  --choice-party \"$OFFEROR_PARTY\" \\\n",
    "  --choice-name Offer \\\n",
    "  --choice-number \"$((MAXIMUM_TOKEN / 2))\" \\\n",
    "  --invalid-before    \"$((NOW + 1 * MINUTE))\" \\\n",
    "  --invalid-hereafter \"$((NOW + 2 * MINUTE))\" \\\n",
    "  --print-stats"
   ]
  },
  {
   "cell_type": "markdown",
   "id": "3d7f5083-e824-4820-88e0-6a0844bffbcd",
   "metadata": {},
   "source": [
    "### Transaction 3. The Offeror deposits the offered tokens"
   ]
  },
  {
   "cell_type": "code",
   "execution_count": 26,
   "id": "e58c5909-ca57-46fa-b5c3-63484f294ac6",
   "metadata": {},
   "outputs": [
    {
     "name": "stdout",
     "output_type": "stream",
     "text": [
      "Rounding  `TransactionInput` txInterval boundries to:(POSIXTime {getPOSIXTime = 1667009511000},POSIXTime {getPOSIXTime = 1667009571999})\n",
      "TransactionInput {txInterval = (POSIXTime {getPOSIXTime = 1667009511000},POSIXTime {getPOSIXTime = 1667009571999}), txInputs = [NormalInput (IDeposit \"\\\"addr_test1vqwt2xlr4d8yk4qws675exlqy6pdhq2s76wrehkjggkvr0cerfe8r\\\"\" \"\\\"addr_test1vqwt2xlr4d8yk4qws675exlqy6pdhq2s76wrehkjggkvr0cerfe8r\\\"\" (Token \"8bb3b343d8e404472337966a722150048c768d0a92a9813596c5338d\" \"Marlon\") 500)]}\n",
      "\n",
      "Datum size: 911\n"
     ]
    }
   ],
   "source": [
    "marlowe-cli run prepare \\\n",
    "  --marlowe-file token-bid-2.marlowe \\\n",
    "  --out-file     token-bid-3.marlowe \\\n",
    "  --deposit-account \"$OFFEROR_PARTY\" \\\n",
    "  --deposit-party \"$OFFEROR_PARTY\" \\\n",
    "  --deposit-amount \"$((MAXIMUM_TOKEN / 2))\" \\\n",
    "  --deposit-token \"$TOKEN\" \\\n",
    "  --invalid-before    \"$((NOW + 1 * MINUTE))\" \\\n",
    "  --invalid-hereafter \"$((NOW + 2 * MINUTE))\" \\\n",
    "  --print-stats"
   ]
  },
  {
   "cell_type": "markdown",
   "id": "f4e7d7c1-0fe9-43ee-9421-a2d9121806d7",
   "metadata": {},
   "source": [
    "### Transaction 4. The Purchaser makes a bid"
   ]
  },
  {
   "cell_type": "code",
   "execution_count": 27,
   "id": "0c8899e7-a75b-47bd-a793-cd010aa98114",
   "metadata": {},
   "outputs": [
    {
     "name": "stdout",
     "output_type": "stream",
     "text": [
      "Rounding  `TransactionInput` txInterval boundries to:(POSIXTime {getPOSIXTime = 1667009511000},POSIXTime {getPOSIXTime = 1667009571999})\n",
      "TransactionInput {txInterval = (POSIXTime {getPOSIXTime = 1667009511000},POSIXTime {getPOSIXTime = 1667009571999}), txInputs = [NormalInput (IChoice (ChoiceId \"Bid\" \"Purchaser\") 100000000)]}\n",
      "\n",
      "Datum size: 878\n"
     ]
    }
   ],
   "source": [
    "marlowe-cli run prepare \\\n",
    "  --marlowe-file token-bid-3.marlowe \\\n",
    "  --out-file     token-bid-4.marlowe \\\n",
    "  --choice-party \"$PURCHASER_PARTY\" \\\n",
    "  --choice-name Bid \\\n",
    "  --choice-number \"$((MAXIMUM_ADA / 2))\" \\\n",
    "  --invalid-before    \"$((NOW + 1 * MINUTE))\" \\\n",
    "  --invalid-hereafter \"$((NOW + 2 * MINUTE))\" \\\n",
    "  --print-stats"
   ]
  },
  {
   "cell_type": "markdown",
   "id": "f5ea1194-f37d-406e-bff4-de6d4710af57",
   "metadata": {},
   "source": [
    "### Transaction 5. The Offeror accepts the Purchaser's bid"
   ]
  },
  {
   "cell_type": "code",
   "execution_count": 28,
   "id": "ad2131b0-8526-464b-bfc5-b2806241142c",
   "metadata": {},
   "outputs": [
    {
     "name": "stdout",
     "output_type": "stream",
     "text": [
      "Rounding  `TransactionInput` txInterval boundries to:(POSIXTime {getPOSIXTime = 1667009511000},POSIXTime {getPOSIXTime = 1667009571999})\n",
      "TransactionInput {txInterval = (POSIXTime {getPOSIXTime = 1667009511000},POSIXTime {getPOSIXTime = 1667009571999}), txInputs = [NormalInput (IChoice (ChoiceId \"Accept\" \"\\\"addr_test1vqwt2xlr4d8yk4qws675exlqy6pdhq2s76wrehkjggkvr0cerfe8r\\\"\") 1)]}\n",
      "\n",
      "Datum size: 845\n"
     ]
    }
   ],
   "source": [
    "marlowe-cli run prepare \\\n",
    "  --marlowe-file token-bid-4.marlowe \\\n",
    "  --out-file     token-bid-5.marlowe \\\n",
    "  --choice-party \"$OFFEROR_PARTY\" \\\n",
    "  --choice-name Accept \\\n",
    "  --choice-number 1 \\\n",
    "  --invalid-before    \"$((NOW + 1 * MINUTE))\" \\\n",
    "  --invalid-hereafter \"$((NOW + 2 * MINUTE))\" \\\n",
    "  --print-stats"
   ]
  },
  {
   "cell_type": "markdown",
   "id": "b90745a0-a3aa-4277-9c5e-2a54b4a27f27",
   "metadata": {},
   "source": [
    "### Transaction 6. The Purchaser deposits the Ada that they had bid"
   ]
  },
  {
   "cell_type": "code",
   "execution_count": 29,
   "id": "85d937fe-d47f-4ff9-9894-cd7deb8b9f23",
   "metadata": {},
   "outputs": [
    {
     "name": "stdout",
     "output_type": "stream",
     "text": [
      "Rounding  `TransactionInput` txInterval boundries to:(POSIXTime {getPOSIXTime = 1667009511000},POSIXTime {getPOSIXTime = 1667009571999})\n",
      "TransactionInput {txInterval = (POSIXTime {getPOSIXTime = 1667009511000},POSIXTime {getPOSIXTime = 1667009571999}), txInputs = [NormalInput (IDeposit \"Purchaser\" \"Purchaser\" (Token \"\" \"\") 100000000)]}\n",
      "\n",
      "Datum size: 787\n"
     ]
    }
   ],
   "source": [
    "marlowe-cli run prepare \\\n",
    "  --marlowe-file token-bid-5.marlowe \\\n",
    "  --out-file     token-bid-6.marlowe \\\n",
    "  --deposit-account \"$PURCHASER_PARTY\" \\\n",
    "  --deposit-party \"$PURCHASER_PARTY\" \\\n",
    "  --deposit-amount \"$((MAXIMUM_ADA / 2))\" \\\n",
    "  --invalid-before    \"$((NOW + 1 * MINUTE))\" \\\n",
    "  --invalid-hereafter \"$((NOW + 2 * MINUTE))\" \\\n",
    "  --print-stats"
   ]
  },
  {
   "cell_type": "markdown",
   "id": "dff21f1b-d930-414d-a339-43e125417cab",
   "metadata": {},
   "source": [
    "### Transaction 7. The Approver declines to forbid the sale by lettting the timeout pass"
   ]
  },
  {
   "cell_type": "code",
   "execution_count": 30,
   "id": "05718833-4d42-4b36-a30f-828653c4b95b",
   "metadata": {},
   "outputs": [
    {
     "name": "stdout",
     "output_type": "stream",
     "text": [
      "Rounding  `TransactionInput` txInterval boundries to:(POSIXTime {getPOSIXTime = 1667010651000},POSIXTime {getPOSIXTime = 1667010711999})\n",
      "TransactionInput {txInterval = (POSIXTime {getPOSIXTime = 1667010651000},POSIXTime {getPOSIXTime = 1667010711999}), txInputs = []}\n",
      "\n",
      "Datum size: 363\n",
      "Payment 1\n",
      "  Acccount: \"Purchaser\"\n",
      "  Payee: Account \"\\\"addr_test1vqwt2xlr4d8yk4qws675exlqy6pdhq2s76wrehkjggkvr0cerfe8r\\\"\"\n",
      "  Ada: Lovelace {getLovelace = 100000000}\n",
      "Payment 2\n",
      "  Acccount: \"\\\"addr_test1vqwt2xlr4d8yk4qws675exlqy6pdhq2s76wrehkjggkvr0cerfe8r\\\"\"\n",
      "  Payee: Party \"Purchaser\"\n",
      "  Ada: Lovelace {getLovelace = 0}\n",
      "  8bb3b343d8e404472337966a722150048c768d0a92a9813596c5338d.\"Marlon\": 500\n"
     ]
    }
   ],
   "source": [
    "marlowe-cli run prepare \\\n",
    "  --marlowe-file token-bid-6.marlowe \\\n",
    "  --out-file     token-bid-7.marlowe \\\n",
    "  --invalid-before    \"$((NOW + 20 * MINUTE))\" \\\n",
    "  --invalid-hereafter \"$((NOW + 21 * MINUTE))\" \\\n",
    "  --print-stats"
   ]
  },
  {
   "cell_type": "markdown",
   "id": "2415607f-4ca7-4b8d-85e0-889da7921766",
   "metadata": {},
   "source": [
    "### Transaction 8. The contract is notified to make the final payment"
   ]
  },
  {
   "cell_type": "code",
   "execution_count": 31,
   "id": "7edb1d28-b032-46c8-af8c-968349517749",
   "metadata": {},
   "outputs": [
    {
     "name": "stdout",
     "output_type": "stream",
     "text": [
      "Rounding  `TransactionInput` txInterval boundries to:(POSIXTime {getPOSIXTime = 1667010771000},POSIXTime {getPOSIXTime = 1667010831999})\n",
      "TransactionInput {txInterval = (POSIXTime {getPOSIXTime = 1667010771000},POSIXTime {getPOSIXTime = 1667010831999}), txInputs = [NormalInput INotify]}\n",
      "\n",
      "Datum size: 207\n",
      "Payment 1\n",
      "  Acccount: \"\\\"addr_test1vp6g96pgt37le7lc0wew60shsdh2lmqrt57da9t6k64sltgasvxlp\\\"\"\n",
      "  Payee: Party \"\\\"addr_test1vp6g96pgt37le7lc0wew60shsdh2lmqrt57da9t6k64sltgasvxlp\\\"\"\n",
      "  Ada: Lovelace {getLovelace = 3000000}\n",
      "Payment 2\n",
      "  Acccount: \"\\\"addr_test1vqwt2xlr4d8yk4qws675exlqy6pdhq2s76wrehkjggkvr0cerfe8r\\\"\"\n",
      "  Payee: Party \"\\\"addr_test1vqwt2xlr4d8yk4qws675exlqy6pdhq2s76wrehkjggkvr0cerfe8r\\\"\"\n",
      "  Ada: Lovelace {getLovelace = 100000000}\n"
     ]
    }
   ],
   "source": [
    "marlowe-cli run prepare \\\n",
    "  --marlowe-file token-bid-7.marlowe \\\n",
    "  --out-file     token-bid-8.marlowe \\\n",
    "  --notify \\\n",
    "  --invalid-before    \"$((NOW + 22 * MINUTE))\" \\\n",
    "  --invalid-hereafter \"$((NOW + 23 * MINUTE))\" \\\n",
    "  --print-stats"
   ]
  },
  {
   "cell_type": "markdown",
   "id": "e8e3c516-8de8-4b11-98dd-09c89a70e0ba",
   "metadata": {},
   "source": [
    "## Run the Contract"
   ]
  },
  {
   "cell_type": "markdown",
   "id": "3b6a5ee4-2731-4863-a3a8-4e3205c0246b",
   "metadata": {},
   "source": [
    "### Initial Funds"
   ]
  },
  {
   "cell_type": "code",
   "execution_count": 32,
   "id": "08f6406c-7feb-43e8-be10-0b0e47ed8986",
   "metadata": {},
   "outputs": [
    {
     "name": "stdout",
     "output_type": "stream",
     "text": [
      "                           TxHash                                 TxIx        Amount\n",
      "--------------------------------------------------------------------------------------\n",
      "c836ce6c973a378e2d580e9050a3be4339866087b0f20cda2fe713be11ccb1a8     1        125000000 lovelace + TxOutDatumNone\n",
      "c836ce6c973a378e2d580e9050a3be4339866087b0f20cda2fe713be11ccb1a8     4        125000000 lovelace + TxOutDatumNone\n",
      "f188be7791ad0f42b3650aa2537ce3feb9ff498ac724d9eea1c199004fe48274     2        1043020 lovelace + 1000 8bb3b343d8e404472337966a722150048c768d0a92a9813596c5338d.4d61726c6f6e + TxOutDatumNone\n"
     ]
    }
   ],
   "source": [
    "cardano-cli query utxo \"${MAGIC[@]}\" --address \"$OFFEROR_ADDR\""
   ]
  },
  {
   "cell_type": "code",
   "execution_count": 33,
   "id": "7dafae34-a368-4fc0-aaac-8a902fa29421",
   "metadata": {},
   "outputs": [
    {
     "name": "stdout",
     "output_type": "stream",
     "text": [
      "                           TxHash                                 TxIx        Amount\n",
      "--------------------------------------------------------------------------------------\n",
      "c836ce6c973a378e2d580e9050a3be4339866087b0f20cda2fe713be11ccb1a8     2        125000000 lovelace + TxOutDatumNone\n",
      "c836ce6c973a378e2d580e9050a3be4339866087b0f20cda2fe713be11ccb1a8     5        125000000 lovelace + TxOutDatumNone\n"
     ]
    }
   ],
   "source": [
    "cardano-cli query utxo \"${MAGIC[@]}\" --address \"$PURCHASER_ADDR\""
   ]
  },
  {
   "cell_type": "code",
   "execution_count": 34,
   "id": "6e0d0c8e-9f31-4f44-97e1-608c12a74338",
   "metadata": {},
   "outputs": [
    {
     "name": "stdout",
     "output_type": "stream",
     "text": [
      "                           TxHash                                 TxIx        Amount\n",
      "--------------------------------------------------------------------------------------\n",
      "c836ce6c973a378e2d580e9050a3be4339866087b0f20cda2fe713be11ccb1a8     3        125000000 lovelace + TxOutDatumNone\n",
      "c836ce6c973a378e2d580e9050a3be4339866087b0f20cda2fe713be11ccb1a8     6        125000000 lovelace + TxOutDatumNone\n"
     ]
    }
   ],
   "source": [
    "cardano-cli query utxo \"${MAGIC[@]}\" --address \"$APPROVER_ADDR\""
   ]
  },
  {
   "cell_type": "markdown",
   "id": "f2eb9ff2-86b8-437e-aa04-a1a38cebea9a",
   "metadata": {},
   "source": [
    "### Transaction 1. Create the contract"
   ]
  },
  {
   "cell_type": "markdown",
   "id": "ab570c22-0af1-4168-9269-ebefce6bfa6d",
   "metadata": {},
   "source": [
    "Build the transaction."
   ]
  },
  {
   "cell_type": "code",
   "execution_count": 35,
   "id": "142661e5-a5b3-4e48-9d02-d5aca344d2e2",
   "metadata": {},
   "outputs": [
    {
     "name": "stdout",
     "output_type": "stream",
     "text": [
      "CONTRACT_ID = TX_1 = 8fbd62b7da52330297d5a6ebb013b636a28858712ffe44b6791df7c61ce82920#1\n"
     ]
    }
   ],
   "source": [
    "TX_1=$(\n",
    "marlowe create \\\n",
    "  --core-file token-bid-1.contract \\\n",
    "  --role=\"Purchaser=$PURCHASER_ADDR\" \\\n",
    "  --role=\"Approver=$APPROVER_ADDR\" \\\n",
    "  --min-utxo \"$MINIMUM_ADA\" \\\n",
    "  --change-address \"$APPROVER_ADDR\" \\\n",
    "  --manual-sign token-bid-1.txbody \\\n",
    "| sed -e 's/^.*\"\\([^\\\\]*\\)\\\\.*$/\\1/' \\\n",
    ")\n",
    "CONTRACT_ID=\"$TX_1\"\n",
    "echo \"CONTRACT_ID = TX_1 = $CONTRACT_ID\""
   ]
  },
  {
   "cell_type": "markdown",
   "id": "e2c94091-2d8b-4d62-a35e-31600603cd68",
   "metadata": {},
   "source": [
    "Sign the transaction."
   ]
  },
  {
   "cell_type": "code",
   "execution_count": 36,
   "id": "4855f0b2-3416-440c-b55a-2227d3e5e63a",
   "metadata": {},
   "outputs": [],
   "source": [
    "cardano-cli transaction sign \\\n",
    "  --tx-body-file token-bid-1.txbody \\\n",
    "  --out-file     token-bid-1.tx \\\n",
    "  --signing-key-file \"$APPROVER_SKEY\""
   ]
  },
  {
   "cell_type": "markdown",
   "id": "3666dd0e-2042-4279-aa87-ea53171ebe8d",
   "metadata": {},
   "source": [
    "Submit the transaction using Marlowe Runtime."
   ]
  },
  {
   "cell_type": "code",
   "execution_count": 37,
   "id": "8466214b-1015-4bd2-9abe-5907e8924d20",
   "metadata": {},
   "outputs": [
    {
     "name": "stdout",
     "output_type": "stream",
     "text": [
      "\"{\\\"blockHeaderHash\\\":\\\"a0d1ef347cdd0b203e8647f262e775b0a0378688002a8c1feb073960f33c2121\\\",\\\"blockNo\\\":323906,\\\"slotNo\\\":7006328}\"\n"
     ]
    }
   ],
   "source": [
    "marlowe submit token-bid-1.tx"
   ]
  },
  {
   "cell_type": "markdown",
   "id": "02f2a219-6d9e-46b6-9e59-7e6a5f88f68d",
   "metadata": {},
   "source": [
    "### Transaction 2. The Offeror offers tokens"
   ]
  },
  {
   "cell_type": "markdown",
   "id": "cfeae1d7-3a1b-4ec4-8016-c9c76738e54f",
   "metadata": {},
   "source": [
    "Build the transaction.\n",
    "\n",
    "*Let's mix things up by spending the UTxOs of the offerer, but sending the change to the approver.*"
   ]
  },
  {
   "cell_type": "code",
   "execution_count": 38,
   "id": "368c3404-d648-4a67-abb7-0012b5dcc0b1",
   "metadata": {},
   "outputs": [
    {
     "name": "stdout",
     "output_type": "stream",
     "text": [
      "TX_2 = 1defc8b9cc186784b61de78be6f35a13a9f7c168b087da67babd79d0929b4e21\n"
     ]
    }
   ],
   "source": [
    "TX_2=$(\n",
    "marlowe choose \\\n",
    "  --contract \"$CONTRACT_ID\" \\\n",
    "  --party \"$OFFEROR_PARTY\" \\\n",
    "  --choice Offer \\\n",
    "  --value \"$((MAXIMUM_TOKEN / 2))\" \\\n",
    "  --validity-lower-bound \"$(($(date -u +%s) * SECOND - 1 * MINUTE))\" \\\n",
    "  --validity-upper-bound \"$(($(date -u +%s) * SECOND + 2 * MINUTE))\" \\\n",
    "  --change-address \"$APPROVER_ADDR\" \\\n",
    "  --address \"$OFFEROR_ADDR\" \\\n",
    "  --manual-sign token-bid-2.txbody \\\n",
    "| sed -e 's/^.*\"\\([^\\\\]*\\)\\\\.*$/\\1/' \\\n",
    ")\n",
    "echo \"TX_2 = $TX_2\""
   ]
  },
  {
   "cell_type": "markdown",
   "id": "91a9a3a0-3b7b-4cfe-a090-4e8ca227b3e0",
   "metadata": {},
   "source": [
    "Sign the transaction."
   ]
  },
  {
   "cell_type": "code",
   "execution_count": 39,
   "id": "95e1fe01-5029-4663-aabc-46239ea0e7d6",
   "metadata": {},
   "outputs": [],
   "source": [
    "cardano-cli transaction sign \\\n",
    "  --tx-body-file token-bid-2.txbody \\\n",
    "  --out-file     token-bid-2.tx \\\n",
    "  --signing-key-file \"$OFFEROR_SKEY\" \\\n",
    "  --signing-key-file \"$APPROVER_SKEY\""
   ]
  },
  {
   "cell_type": "markdown",
   "id": "adbbc3d7-70d0-457c-bdc1-d0095eafc649",
   "metadata": {},
   "source": [
    "Submit the transaction using Marlowe Runtime."
   ]
  },
  {
   "cell_type": "code",
   "execution_count": 40,
   "id": "b7f05f60-90ec-41c9-a692-4eb98e0fdb30",
   "metadata": {},
   "outputs": [
    {
     "name": "stdout",
     "output_type": "stream",
     "text": [
      "\"{\\\"blockHeaderHash\\\":\\\"5280fcfcc89e6ae71215dc2580c7f94ca6cc4e24351975c187971385689bbcfc\\\",\\\"blockNo\\\":323907,\\\"slotNo\\\":7006343}\"\n"
     ]
    }
   ],
   "source": [
    "marlowe submit token-bid-2.tx"
   ]
  },
  {
   "cell_type": "markdown",
   "id": "062146ef-f2b5-4638-8b81-ab23db09af98",
   "metadata": {},
   "source": [
    "### Transaction 3. The Offeror deposits the offered tokens"
   ]
  },
  {
   "cell_type": "markdown",
   "id": "7c7542d8-52f3-4b94-914b-e69064be99f0",
   "metadata": {},
   "source": [
    "Build the transaction.\n",
    "\n",
    "*Let's mix things up in a different way by having both the offeror and approver supply the funds.*"
   ]
  },
  {
   "cell_type": "code",
   "execution_count": 41,
   "id": "5c5a5dfa-387c-40c9-9560-b8073de2c8e9",
   "metadata": {},
   "outputs": [
    {
     "name": "stdout",
     "output_type": "stream",
     "text": [
      "TX_3 = dfedb4cbd3873dae72b24fb71cb6812ab34e3196e8f3582f7dffaa571159ea71\n"
     ]
    }
   ],
   "source": [
    "TX_3=$(\n",
    "marlowe deposit \\\n",
    "  --contract \"$CONTRACT_ID\" \\\n",
    "  --to-party \"$OFFEROR_PARTY\" \\\n",
    "  --from-party \"$OFFEROR_PARTY\" \\\n",
    "  --quantity \"$((MAXIMUM_TOKEN / 2))\" \\\n",
    "  --currency \"$POLICY_ID\" \\\n",
    "  --token-name \"$TOKEN_NAME\" \\\n",
    "  --validity-lower-bound \"$(($(date -u +%s) * SECOND - 1 * MINUTE))\" \\\n",
    "  --validity-upper-bound \"$(($(date -u +%s) * SECOND + 2 * MINUTE))\" \\\n",
    "  --address \"$OFFEROR_ADDR\" \\\n",
    "  --address \"$APPROVER_ADDR\" \\\n",
    "  --change-address \"$OFFEROR_ADDR\" \\\n",
    "  --manual-sign token-bid-3.txbody \\\n",
    "| sed -e 's/^.*\"\\([^\\\\]*\\)\\\\.*$/\\1/' \\\n",
    ")\n",
    "echo \"TX_3 = $TX_3\""
   ]
  },
  {
   "cell_type": "markdown",
   "id": "10f0e7ce-0f13-42d0-be5c-c28cbe024d26",
   "metadata": {},
   "source": [
    "Sign the transaction."
   ]
  },
  {
   "cell_type": "code",
   "execution_count": 42,
   "id": "f0333505-764e-4d7a-ab46-a5a2f01ab306",
   "metadata": {},
   "outputs": [],
   "source": [
    "cardano-cli transaction sign \\\n",
    "  --tx-body-file token-bid-3.txbody \\\n",
    "  --out-file     token-bid-3.tx \\\n",
    "  --signing-key-file \"$OFFEROR_SKEY\" \\\n",
    "  --signing-key-file \"$APPROVER_SKEY\""
   ]
  },
  {
   "cell_type": "markdown",
   "id": "5b01ebd3-0d3e-49e8-8a6c-500e58cb7146",
   "metadata": {},
   "source": [
    "Submit the transaction using Marlowe Runtime."
   ]
  },
  {
   "cell_type": "code",
   "execution_count": 43,
   "id": "a8ca5593-f84b-4ede-a48e-3f98f239babb",
   "metadata": {},
   "outputs": [
    {
     "name": "stdout",
     "output_type": "stream",
     "text": [
      "\"{\\\"blockHeaderHash\\\":\\\"ed9ced3d397951692a9a5fb4c623bd7c45901710fdafb01396e929cc9f8fa9a4\\\",\\\"blockNo\\\":323910,\\\"slotNo\\\":7006353}\"\n"
     ]
    }
   ],
   "source": [
    "marlowe submit token-bid-3.tx"
   ]
  },
  {
   "cell_type": "markdown",
   "id": "ef16125d-ac60-4fcc-b266-5a054b2b9a22",
   "metadata": {},
   "source": [
    "### Transaction 4. The Purchaser makes a bid"
   ]
  },
  {
   "cell_type": "markdown",
   "id": "5e1c7126-dc43-4dc4-a9ed-0585665b3b05",
   "metadata": {},
   "source": [
    "Build the transaction."
   ]
  },
  {
   "cell_type": "code",
   "execution_count": 44,
   "id": "fa5b7801-6599-4df7-9fc2-74eb653af72e",
   "metadata": {},
   "outputs": [
    {
     "name": "stdout",
     "output_type": "stream",
     "text": [
      "TX_4 = 5d12df6ebdd6d4ba2e13b1989a4d98a09fa1748c46c46d416cbdc7f632e8c0b0\n"
     ]
    }
   ],
   "source": [
    "TX_4=$(\n",
    "marlowe choose \\\n",
    "  --contract \"$CONTRACT_ID\" \\\n",
    "  --party \"$PURCHASER_PARTY\" \\\n",
    "  --choice Bid \\\n",
    "  --value \"$((MAXIMUM_ADA / 2))\" \\\n",
    "  --validity-lower-bound \"$(($(date -u +%s) * SECOND - 1 * MINUTE))\" \\\n",
    "  --validity-upper-bound \"$(($(date -u +%s) * SECOND + 2 * MINUTE))\" \\\n",
    "  --change-address \"$PURCHASER_ADDR\" \\\n",
    "  --manual-sign token-bid-4.txbody \\\n",
    "| sed -e 's/^.*\"\\([^\\\\]*\\)\\\\.*$/\\1/' \\\n",
    ")\n",
    "echo \"TX_4 = $TX_4\""
   ]
  },
  {
   "cell_type": "markdown",
   "id": "efd2a7be-6233-4edd-976c-7879c3c5b780",
   "metadata": {},
   "source": [
    "Sign the transaction."
   ]
  },
  {
   "cell_type": "code",
   "execution_count": 45,
   "id": "09b36505-e656-499f-84b9-75ade71daf39",
   "metadata": {},
   "outputs": [],
   "source": [
    "cardano-cli transaction sign \\\n",
    "  --tx-body-file token-bid-4.txbody \\\n",
    "  --out-file     token-bid-4.tx \\\n",
    "  --signing-key-file \"$PURCHASER_SKEY\""
   ]
  },
  {
   "cell_type": "markdown",
   "id": "192f7e48-3adc-478c-92dc-5c010b8be280",
   "metadata": {},
   "source": [
    "Submit the transaction using Marlowe Runtime."
   ]
  },
  {
   "cell_type": "code",
   "execution_count": 46,
   "id": "99d6c387-a8f6-4b11-a7e5-ff1091988c9a",
   "metadata": {},
   "outputs": [
    {
     "name": "stdout",
     "output_type": "stream",
     "text": [
      "\"{\\\"blockHeaderHash\\\":\\\"0552d2786fa8953b23224e6219dcd28d3847e28eebb223d51b391170017227df\\\",\\\"blockNo\\\":323911,\\\"slotNo\\\":7006364}\"\n"
     ]
    }
   ],
   "source": [
    "marlowe submit token-bid-4.tx"
   ]
  },
  {
   "cell_type": "markdown",
   "id": "a7fa1ff2-9d38-4156-947b-07a53b1cf244",
   "metadata": {},
   "source": [
    "### Transaction 5. The Offeror accepts the Purchaser's bid"
   ]
  },
  {
   "cell_type": "markdown",
   "id": "c8be6c2c-9e0c-4486-aad2-d1badf0ae705",
   "metadata": {},
   "source": [
    "Build the transaction.\n",
    "\n",
    "*Mix things up even more by having the purchaser pay for the transaction, but having the offeror also sign the transaction as evidence of their consent.*"
   ]
  },
  {
   "cell_type": "code",
   "execution_count": 47,
   "id": "32c363ad-9597-4876-86e8-42d631e3c5b4",
   "metadata": {},
   "outputs": [
    {
     "name": "stdout",
     "output_type": "stream",
     "text": [
      "TX_5 = cbc0539f1211110353ef17231241dcc75af621d1991f3aa299510f1a398e9b9a\n"
     ]
    }
   ],
   "source": [
    "TX_5=$(\n",
    "marlowe choose \\\n",
    "  --contract \"$CONTRACT_ID\" \\\n",
    "  --party \"$OFFEROR_PARTY\" \\\n",
    "  --choice Accept \\\n",
    "  --value 1 \\\n",
    "  --validity-lower-bound \"$(($(date -u +%s) * SECOND - 1 * MINUTE))\" \\\n",
    "  --validity-upper-bound \"$(($(date -u +%s) * SECOND + 2 * MINUTE))\" \\\n",
    "  --change-address \"$PURCHASER_ADDR\" \\\n",
    "  --manual-sign token-bid-5.txbody \\\n",
    "| sed -e 's/^.*\"\\([^\\\\]*\\)\\\\.*$/\\1/' \\\n",
    ")\n",
    "echo \"TX_5 = $TX_5\""
   ]
  },
  {
   "cell_type": "markdown",
   "id": "ed14f74d-1385-4d16-b3ed-65cbd404aebc",
   "metadata": {},
   "source": [
    "Sign the transaction."
   ]
  },
  {
   "cell_type": "code",
   "execution_count": 48,
   "id": "96fc032e-b503-47bc-a5a1-fa75ee0cfe41",
   "metadata": {},
   "outputs": [],
   "source": [
    "cardano-cli transaction sign \\\n",
    "  --tx-body-file token-bid-5.txbody \\\n",
    "  --out-file     token-bid-5.tx \\\n",
    "  --signing-key-file \"$OFFEROR_SKEY\" \\\n",
    "  --signing-key-file \"$PURCHASER_SKEY\""
   ]
  },
  {
   "cell_type": "markdown",
   "id": "7324d952-226a-4a37-ae03-cfe5de159f0c",
   "metadata": {},
   "source": [
    "Submit the transaction using Marlowe Runtime."
   ]
  },
  {
   "cell_type": "code",
   "execution_count": 49,
   "id": "4dda4ff8-6a58-4971-962f-45e416fb8497",
   "metadata": {},
   "outputs": [
    {
     "name": "stdout",
     "output_type": "stream",
     "text": [
      "\"{\\\"blockHeaderHash\\\":\\\"7c010cc9127773d051156c49bf180f0728e5c8a89a788179addf4f8ea350739d\\\",\\\"blockNo\\\":323912,\\\"slotNo\\\":7006374}\"\n"
     ]
    }
   ],
   "source": [
    "marlowe submit token-bid-5.tx"
   ]
  },
  {
   "cell_type": "markdown",
   "id": "15a35d8b-580d-4793-b47c-79fdcf1d8a48",
   "metadata": {},
   "source": [
    "### Transaction 6. The Purchaser deposits the Ada that they had bid"
   ]
  },
  {
   "cell_type": "markdown",
   "id": "a99927e6-de65-4afe-9874-337135e2d00a",
   "metadata": {},
   "source": [
    "Build the transaction."
   ]
  },
  {
   "cell_type": "code",
   "execution_count": 50,
   "id": "28ccde25-4685-460c-a913-f5b519ccb6f1",
   "metadata": {},
   "outputs": [
    {
     "name": "stdout",
     "output_type": "stream",
     "text": [
      "TX_6 = d38d1bd42ba4922b3c6bfb1bc74c9cfbea23ffb6f7b4866c85e76c29fc16557e\n"
     ]
    }
   ],
   "source": [
    "TX_6=$(\n",
    "marlowe deposit \\\n",
    "  --contract \"$CONTRACT_ID\" \\\n",
    "  --to-party \"$PURCHASER_PARTY\" \\\n",
    "  --from-party \"$PURCHASER_PARTY\" \\\n",
    "  --lovelace \"$((MAXIMUM_ADA / 2))\" \\\n",
    "  --validity-lower-bound \"$(($(date -u +%s) * SECOND - 1 * MINUTE))\" \\\n",
    "  --validity-upper-bound \"$(($(date -u +%s) * SECOND + 2 * MINUTE))\" \\\n",
    "  --change-address \"$PURCHASER_ADDR\" \\\n",
    "  --manual-sign token-bid-6.txbody \\\n",
    "| sed -e 's/^.*\"\\([^\\\\]*\\)\\\\.*$/\\1/' \\\n",
    ")\n",
    "echo \"TX_6 = $TX_6\""
   ]
  },
  {
   "cell_type": "markdown",
   "id": "12c3f5e4-22f5-4bb0-b2b9-e7cee6e64d9c",
   "metadata": {},
   "source": [
    "Sign the transaction."
   ]
  },
  {
   "cell_type": "code",
   "execution_count": 51,
   "id": "99a72465-0502-4f8b-b8ba-5d305555d805",
   "metadata": {},
   "outputs": [],
   "source": [
    "cardano-cli transaction sign \\\n",
    "  --tx-body-file token-bid-6.txbody \\\n",
    "  --out-file     token-bid-6.tx \\\n",
    "  --signing-key-file \"$PURCHASER_SKEY\""
   ]
  },
  {
   "cell_type": "markdown",
   "id": "f18865f9-8e05-4efa-b858-312829ec3dc1",
   "metadata": {},
   "source": [
    "Submit the transaction using Marlowe Runtime."
   ]
  },
  {
   "cell_type": "code",
   "execution_count": 52,
   "id": "c66f8f0c-3047-4242-86c2-c7470a1ac82a",
   "metadata": {},
   "outputs": [
    {
     "name": "stdout",
     "output_type": "stream",
     "text": [
      "\"{\\\"blockHeaderHash\\\":\\\"2de72062f6a623f150df6855514fd187ccf75cdef0a4d98c36f4434905148584\\\",\\\"blockNo\\\":323914,\\\"slotNo\\\":7006397}\"\n"
     ]
    }
   ],
   "source": [
    "marlowe submit token-bid-6.tx"
   ]
  },
  {
   "cell_type": "markdown",
   "id": "e198c8d5-6a42-436d-a07a-619cbdba4698",
   "metadata": {},
   "source": [
    "### Transaction 7. The Approver declines to forbid the sale by lettting the timeout pass"
   ]
  },
  {
   "cell_type": "markdown",
   "id": "e964dff0-5ce8-4107-bed1-0d63036ec7e2",
   "metadata": {},
   "source": [
    "Wait fo the timeout, if necessary."
   ]
  },
  {
   "cell_type": "code",
   "execution_count": 53,
   "id": "b5cec525-4621-4127-85e3-9ea3953bc9cb",
   "metadata": {},
   "outputs": [
    {
     "name": "stdout",
     "output_type": "stream",
     "text": [
      "Waiting 1053 seconds before the timeout passes.\n"
     ]
    }
   ],
   "source": [
    "WAIT=\"$(((FORBID_DEADLINE - $(date -u +%s) * SECOND + 2 * MINUTE + 1 * SECOND) / SECOND))\"\n",
    "if [[ $WAIT -ge 0 ]]\n",
    "then\n",
    "  echo \"Waiting $WAIT seconds before the timeout passes.\"\n",
    "  sleep \"$WAIT\"\n",
    "fi"
   ]
  },
  {
   "cell_type": "markdown",
   "id": "63c0febb-d271-46e0-bfbb-dc8b2b2b234f",
   "metadata": {},
   "source": [
    "Build the transaction.\n",
    "\n",
    "*Mix this up by having the offeror pay, but the approver receive the change.*"
   ]
  },
  {
   "cell_type": "code",
   "execution_count": 54,
   "id": "6a04084f-6e75-4799-a8e3-18fd4095ee90",
   "metadata": {},
   "outputs": [
    {
     "name": "stdout",
     "output_type": "stream",
     "text": [
      "TX_7 = c1404f0a4ede22573654912fe7bbd5761e151a950775fb4f4756c16396068c37\n"
     ]
    }
   ],
   "source": [
    "TX_7=$(\n",
    "marlowe advance \\\n",
    "  --contract \"$CONTRACT_ID\" \\\n",
    "  --validity-lower-bound \"$(($(date -u +%s) * SECOND - 2 * MINUTE))\" \\\n",
    "  --validity-upper-bound \"$(($(date -u +%s) * SECOND + 2 * MINUTE))\" \\\n",
    "  --change-address \"$APPROVER_ADDR\" \\\n",
    "  --address \"$OFFEROR_ADDR\" \\\n",
    "  --manual-sign token-bid-7.txbody \\\n",
    "| sed -e 's/^.*\"\\([^\\\\]*\\)\\\\.*$/\\1/' \\\n",
    ")\n",
    "echo \"TX_7 = $TX_7\""
   ]
  },
  {
   "cell_type": "markdown",
   "id": "49c508d2-8e49-43d5-abd6-da4711d61e71",
   "metadata": {},
   "source": [
    "Sign the transaction."
   ]
  },
  {
   "cell_type": "code",
   "execution_count": 55,
   "id": "a4bb9438-e750-4730-9c83-fa361e4cdcda",
   "metadata": {},
   "outputs": [],
   "source": [
    "cardano-cli transaction sign \\\n",
    "  --tx-body-file token-bid-7.txbody \\\n",
    "  --out-file     token-bid-7.tx \\\n",
    "  --signing-key-file \"$OFFEROR_SKEY\" \\\n",
    "  --signing-key-file \"$APPROVER_SKEY\""
   ]
  },
  {
   "cell_type": "markdown",
   "id": "81f95ba4-5bb3-4a08-bebe-c7b9ec1fe707",
   "metadata": {},
   "source": [
    "Submit the transaction using Marlowe Runtime."
   ]
  },
  {
   "cell_type": "code",
   "execution_count": 56,
   "id": "57e48b23-0820-4875-a617-e7407083d5be",
   "metadata": {},
   "outputs": [
    {
     "name": "stdout",
     "output_type": "stream",
     "text": [
      "\"{\\\"blockHeaderHash\\\":\\\"66c64d92eb5f17c1af775b69d7358e14c527d814146937867cf5c9000dbab2df\\\",\\\"blockNo\\\":323964,\\\"slotNo\\\":7007479}\"\n"
     ]
    }
   ],
   "source": [
    "marlowe submit token-bid-7.tx"
   ]
  },
  {
   "cell_type": "markdown",
   "id": "c6026910-e664-4428-a772-7179ce30a856",
   "metadata": {},
   "source": [
    "### Transaction 8. The contract is notified to make the final payment"
   ]
  },
  {
   "cell_type": "markdown",
   "id": "9a23878b-de59-408c-beba-76ef3e61a81c",
   "metadata": {},
   "source": [
    "Build the transaction."
   ]
  },
  {
   "cell_type": "code",
   "execution_count": 57,
   "id": "2cb25d67-5548-4971-9ffb-8de5b15c7e10",
   "metadata": {},
   "outputs": [
    {
     "name": "stdout",
     "output_type": "stream",
     "text": [
      "TX_8 = 57c6203f26f9f370341871ede5d243b5be378eb8f3f92bfbc7ad7995caf20c15\n"
     ]
    }
   ],
   "source": [
    "TX_8=$(\n",
    "marlowe notify \\\n",
    "  --contract \"$CONTRACT_ID\" \\\n",
    "  --validity-lower-bound \"$(($(date -u +%s) * SECOND - 1 * MINUTE))\" \\\n",
    "  --validity-upper-bound \"$(($(date -u +%s) * SECOND + 2 * MINUTE))\" \\\n",
    "  --change-address \"$OFFEROR_ADDR\" \\\n",
    "  --manual-sign token-bid-8.txbody \\\n",
    "| sed -e 's/^.*\"\\([^\\\\]*\\)\\\\.*$/\\1/' \\\n",
    ")\n",
    "echo \"TX_8 = $TX_8\""
   ]
  },
  {
   "cell_type": "markdown",
   "id": "b31ec973-5b0f-4fb7-bdca-c266bd66fdc1",
   "metadata": {},
   "source": [
    "Sign the transaction."
   ]
  },
  {
   "cell_type": "code",
   "execution_count": 58,
   "id": "5d4c94bc-d747-47c6-be60-55656a3ee6ca",
   "metadata": {},
   "outputs": [],
   "source": [
    "cardano-cli transaction sign \\\n",
    "  --tx-body-file token-bid-8.txbody \\\n",
    "  --out-file     token-bid-8.tx \\\n",
    "  --signing-key-file \"$OFFEROR_SKEY\""
   ]
  },
  {
   "cell_type": "markdown",
   "id": "bebb0d27-0a99-4f3d-ab06-09b627ee514e",
   "metadata": {},
   "source": [
    "Submit the transaction using Marlowe Runtime."
   ]
  },
  {
   "cell_type": "code",
   "execution_count": 59,
   "id": "04ff93e3-b751-440a-b310-12ebe095401a",
   "metadata": {},
   "outputs": [
    {
     "name": "stdout",
     "output_type": "stream",
     "text": [
      "\"{\\\"blockHeaderHash\\\":\\\"ed6a03adf1d657f956873bb2105c86c5f6039759dfe33975ffd7b53e2cfdba82\\\",\\\"blockNo\\\":323965,\\\"slotNo\\\":7007484}\"\n"
     ]
    }
   ],
   "source": [
    "marlowe submit token-bid-8.tx"
   ]
  },
  {
   "cell_type": "markdown",
   "id": "3812367e-31bb-4091-a587-12a4cf9fa4d5",
   "metadata": {},
   "source": [
    "### Transaction 9. Withdraw the tokens"
   ]
  },
  {
   "cell_type": "code",
   "execution_count": 60,
   "id": "1f94d91b-3245-489d-a79e-b7b14e96f04d",
   "metadata": {},
   "outputs": [
    {
     "name": "stdout",
     "output_type": "stream",
     "text": [
      "TX_9 = ba6c141fe0fd41e4716e427e1b3961d90ef4609f3f1f19e4c2bc7d23631225d2\n"
     ]
    }
   ],
   "source": [
    "TX_9=$(\n",
    "marlowe withdraw \\\n",
    "  --contract \"$CONTRACT_ID\" \\\n",
    "  --role \"$PURCHASER_PARTY\" \\\n",
    "  --change-address \"$PURCHASER_ADDR\" \\\n",
    "  --manual-sign token-bid-9.txbody \\\n",
    "| sed -e 's/^.*\"\\([^\\\\]*\\)\\\\.*$/\\1/' \\\n",
    ")\n",
    "echo \"TX_9 = $TX_9\""
   ]
  },
  {
   "cell_type": "markdown",
   "id": "7e395809-ca71-4351-893b-b69dfcd16d2d",
   "metadata": {},
   "source": [
    "Sign the transaction."
   ]
  },
  {
   "cell_type": "code",
   "execution_count": 61,
   "id": "430f5e9d-a722-4be2-8a49-6034ac20ebc9",
   "metadata": {},
   "outputs": [],
   "source": [
    "cardano-cli transaction sign \\\n",
    "  --tx-body-file token-bid-9.txbody \\\n",
    "  --out-file     token-bid-9.tx \\\n",
    "  --signing-key-file \"$PURCHASER_SKEY\""
   ]
  },
  {
   "cell_type": "markdown",
   "id": "34de5efd-dec9-4a9f-8d13-17b7311efa13",
   "metadata": {},
   "source": [
    "Submit the transaction using Marlowe Runtime."
   ]
  },
  {
   "cell_type": "code",
   "execution_count": 62,
   "id": "769a9cbe-f0d7-464e-a76f-c060853bfbb2",
   "metadata": {},
   "outputs": [
    {
     "name": "stdout",
     "output_type": "stream",
     "text": [
      "\"{\\\"blockHeaderHash\\\":\\\"aa40aa1686de33adb9ff6255526a8509c1e261bf6a3efbd7300a87a492d4a01d\\\",\\\"blockNo\\\":323966,\\\"slotNo\\\":7007530}\"\n"
     ]
    }
   ],
   "source": [
    "marlowe submit token-bid-9.tx"
   ]
  },
  {
   "cell_type": "markdown",
   "id": "0f2655d7-433f-4d7d-855b-d7c8519f049b",
   "metadata": {},
   "source": [
    "### Final Funds"
   ]
  },
  {
   "cell_type": "code",
   "execution_count": 63,
   "id": "d2ddc199-4eae-422a-ad09-54b843a73da3",
   "metadata": {},
   "outputs": [
    {
     "name": "stdout",
     "output_type": "stream",
     "text": [
      "                           TxHash                                 TxIx        Amount\n",
      "--------------------------------------------------------------------------------------\n",
      "57c6203f26f9f370341871ede5d243b5be378eb8f3f92bfbc7ad7995caf20c15     0        124464811 lovelace + TxOutDatumNone\n",
      "57c6203f26f9f370341871ede5d243b5be378eb8f3f92bfbc7ad7995caf20c15     1        100000000 lovelace + TxOutDatumNone\n",
      "dfedb4cbd3873dae72b24fb71cb6812ab34e3196e8f3582f7dffaa571159ea71     0        242961777 lovelace + TxOutDatumNone\n",
      "dfedb4cbd3873dae72b24fb71cb6812ab34e3196e8f3582f7dffaa571159ea71     2        1043020 lovelace + 500 8bb3b343d8e404472337966a722150048c768d0a92a9813596c5338d.4d61726c6f6e + TxOutDatumNone\n"
     ]
    }
   ],
   "source": [
    "cardano-cli query utxo \"${MAGIC[@]}\" --address \"$OFFEROR_ADDR\""
   ]
  },
  {
   "cell_type": "code",
   "execution_count": 64,
   "id": "3ba64083-d03d-46d2-a485-607613b6b975",
   "metadata": {},
   "outputs": [
    {
     "name": "stdout",
     "output_type": "stream",
     "text": [
      "                           TxHash                                 TxIx        Amount\n",
      "--------------------------------------------------------------------------------------\n",
      "ba6c141fe0fd41e4716e427e1b3961d90ef4609f3f1f19e4c2bc7d23631225d2     0        123261338 lovelace + TxOutDatumNone\n",
      "ba6c141fe0fd41e4716e427e1b3961d90ef4609f3f1f19e4c2bc7d23631225d2     1        1047330 lovelace + 1 6e3c8f57204763b2055d494cf844cd11be186775dd45b21f408f4076.507572636861736572 + TxOutDatumNone\n",
      "ba6c141fe0fd41e4716e427e1b3961d90ef4609f3f1f19e4c2bc7d23631225d2     2        1043020 lovelace + 500 8bb3b343d8e404472337966a722150048c768d0a92a9813596c5338d.4d61726c6f6e + TxOutDatumNone\n",
      "d38d1bd42ba4922b3c6bfb1bc74c9cfbea23ffb6f7b4866c85e76c29fc16557e     0        24163561 lovelace + TxOutDatumNone\n"
     ]
    }
   ],
   "source": [
    "cardano-cli query utxo \"${MAGIC[@]}\" --address \"$PURCHASER_ADDR\""
   ]
  },
  {
   "cell_type": "code",
   "execution_count": 65,
   "id": "e52abcf0-ddab-443c-b49d-a9cc735c05e5",
   "metadata": {},
   "outputs": [
    {
     "name": "stdout",
     "output_type": "stream",
     "text": [
      "                           TxHash                                 TxIx        Amount\n",
      "--------------------------------------------------------------------------------------\n",
      "57c6203f26f9f370341871ede5d243b5be378eb8f3f92bfbc7ad7995caf20c15     2        3000000 lovelace + TxOutDatumNone\n",
      "8fbd62b7da52330297d5a6ebb013b636a28858712ffe44b6791df7c61ce82920     2        1043020 lovelace + 1 6e3c8f57204763b2055d494cf844cd11be186775dd45b21f408f4076.417070726f766572 + TxOutDatumNone\n",
      "c1404f0a4ede22573654912fe7bbd5761e151a950775fb4f4756c16396068c37     0        122928658 lovelace + TxOutDatumNone\n"
     ]
    }
   ],
   "source": [
    "cardano-cli query utxo \"${MAGIC[@]}\" --address \"$APPROVER_ADDR\""
   ]
  }
 ],
 "metadata": {
  "kernelspec": {
   "display_name": "Bash - Marlowe",
   "language": "bash",
   "name": "bash_marlowe"
  },
  "language_info": {
   "codemirror_mode": "shell",
   "file_extension": ".sh",
   "mimetype": "text/x-sh",
   "name": "/nix/store/l0wlqpbsvh1pgvhcdhw7qkka3d31si7k-bash-5.1-p8/bin/bash"
  },
  "toc-autonumbering": false
 },
 "nbformat": 4,
 "nbformat_minor": 5
}
