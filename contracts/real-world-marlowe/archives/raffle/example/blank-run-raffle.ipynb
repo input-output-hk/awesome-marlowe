{
 "cells": [
  {
   "attachments": {},
   "cell_type": "markdown",
   "id": "bd8fe47f-e0c4-46b6-8b71-a719c724f083",
   "metadata": {},
   "source": [
    "# Running a raffle with Marlowe\n",
    "\n",
    "The raffle contract receives a deposit of a prize and then an oracle randomly selects the winner. The contract would be too large to fit on the blockchain because of the hundreds of possible winners, so Marlowe's merkleization capability is used to break up the contract into manageable pieces. The pieces are \"glued together\" using Marlowe's `Notify` block, so that the contract can walk a hierarchy of possible winners down to the actual winner."
   ]
  },
  {
   "cell_type": "markdown",
   "id": "bca64611-114a-467a-a514-44e7d163c868",
   "metadata": {},
   "source": [
    "## Prerequisites"
   ]
  },
  {
   "cell_type": "markdown",
   "id": "2eb17435",
   "metadata": {},
   "source": [
    "### Define the prizes"
   ]
  },
  {
   "attachments": {},
   "cell_type": "markdown",
   "id": "395cae96-694b-4904-be41-755dd6ec56e5",
   "metadata": {},
   "source": [
    "#### First prize\n",
    "\n",
    "We need to know the policy ID and token name for the NFT serves as the Marlowe role token for redeeming the first prize. There is no requirement for this token beyond that we know its policy ID and token name."
   ]
  },
  {
   "cell_type": "code",
   "execution_count": null,
   "id": "97f28a44-41b9-4162-b9a1-5a90d5913994",
   "metadata": {
    "tags": [],
    "vscode": {
     "languageId": "shellscript"
    }
   },
   "outputs": [],
   "source": [
    "# Replace with actual policy and name!\n",
    "PRIZE1_POLICY=8bb3b343d8e404472337966a722150048c768d0a92a9813596c5338d\n",
    "PRIZE1_NAME=1stPrize"
   ]
  },
  {
   "cell_type": "markdown",
   "id": "f1da1b3d",
   "metadata": {},
   "source": [
    "Now create a data file containing this information."
   ]
  },
  {
   "cell_type": "code",
   "execution_count": null,
   "id": "37e18b8c",
   "metadata": {
    "vscode": {
     "languageId": "shellscript"
    }
   },
   "outputs": [],
   "source": [
    "cat << EOI > first-prize.token\n",
    "[\n",
    "    [\n",
    "        \"$PRIZE1_POLICY\",\n",
    "        \"$PRIZE1_NAME\"\n",
    "    ]\n",
    "]\n",
    "EOI\n",
    "cat first-prize.token"
   ]
  },
  {
   "attachments": {},
   "cell_type": "markdown",
   "id": "f694aba1-6349-4d5b-b51d-0bf83bf64e51",
   "metadata": {},
   "source": [
    "#### Second prize\n",
    "\n",
    "Now repeat the same steps for the second prize."
   ]
  },
  {
   "cell_type": "code",
   "execution_count": null,
   "id": "cb2b5555-e942-4d58-b592-b3c0fa6d11bc",
   "metadata": {
    "tags": [],
    "vscode": {
     "languageId": "shellscript"
    }
   },
   "outputs": [],
   "source": [
    "# Replace with actual policy and name!\n",
    "PRIZE2_POLICY=8bb3b343d8e404472337966a722150048c768d0a92a9813596c5338d\n",
    "PRIZE2_NAME=2ndPrize"
   ]
  },
  {
   "cell_type": "markdown",
   "id": "bc9569e1",
   "metadata": {},
   "source": [
    "Now create a data file containing this information."
   ]
  },
  {
   "cell_type": "code",
   "execution_count": null,
   "id": "b5c64b9b",
   "metadata": {
    "vscode": {
     "languageId": "shellscript"
    }
   },
   "outputs": [],
   "source": [
    "cat << EOI > second-prize.token\n",
    "[\n",
    "    [\n",
    "        \"$PRIZE2_POLICY\",\n",
    "        \"$PRIZE2_NAME\"\n",
    "    ]\n",
    "]\n",
    "EOI\n",
    "cat second-prize.token"
   ]
  },
  {
   "attachments": {},
   "cell_type": "markdown",
   "id": "3078bd09-049d-436b-bc16-ba4b945ad161",
   "metadata": {},
   "source": [
    "#### Third prize\n",
    "\n",
    "Now repeat the same steps for the third prize."
   ]
  },
  {
   "cell_type": "code",
   "execution_count": null,
   "id": "0390a0ae-764d-41c6-9d6a-bffd0a41677d",
   "metadata": {
    "tags": [],
    "vscode": {
     "languageId": "shellscript"
    }
   },
   "outputs": [],
   "source": [
    "# Replace with actual policy and name!\n",
    "PRIZE3_POLICY=8bb3b343d8e404472337966a722150048c768d0a92a9813596c5338d\n",
    "PRIZE3_NAME=3rdPrize"
   ]
  },
  {
   "cell_type": "markdown",
   "id": "ca67a3fe",
   "metadata": {},
   "source": [
    "Now create a data file containing this information."
   ]
  },
  {
   "cell_type": "code",
   "execution_count": null,
   "id": "78b2d2b2",
   "metadata": {
    "vscode": {
     "languageId": "shellscript"
    }
   },
   "outputs": [],
   "source": [
    "cat << EOI > third-prize.token\n",
    "[\n",
    "    [\n",
    "        \"$PRIZE3_POLICY\",\n",
    "        \"$PRIZE3_NAME\"\n",
    "    ]\n",
    "]\n",
    "EOI\n",
    "cat third-prize.token"
   ]
  },
  {
   "cell_type": "markdown",
   "id": "b0291ba5-fe4b-44d0-bde6-41dff68e4047",
   "metadata": {},
   "source": [
    "### Ensure that the three prize tokens reside at the sponsor address\n",
    "\n",
    "Send the three prize tokens (the Marlowe role tokens) to the sponsor address."
   ]
  },
  {
   "cell_type": "code",
   "execution_count": null,
   "id": "75556e4d-d666-42cb-8a9a-3ca745b4c3d5",
   "metadata": {
    "tags": [],
    "vscode": {
     "languageId": "shellscript"
    }
   },
   "outputs": [],
   "source": [
    "SPONSOR_SKEY=sponsor.skey\n",
    "SPONSOR_ADDR=$(cat sponsor.mainnet.address)\n",
    "echo \"SPONSOR_ADDR = $SPONSOR_ADDR\""
   ]
  },
  {
   "cell_type": "markdown",
   "id": "0e4e1d2d-888e-44f7-8da0-21b07f6b17b0",
   "metadata": {},
   "source": [
    "After the tokens have been sent, we can query to see them."
   ]
  },
  {
   "cell_type": "code",
   "execution_count": null,
   "id": "b0d985ea-956e-4de9-b3aa-ae70b30f2eec",
   "metadata": {
    "tags": [],
    "vscode": {
     "languageId": "shellscript"
    }
   },
   "outputs": [],
   "source": [
    "cardano-cli query utxo --mainnet --address $SPONSOR_ADDR"
   ]
  },
  {
   "cell_type": "markdown",
   "id": "630ec182-f579-4539-84ee-20bb7dfbaea9",
   "metadata": {},
   "source": [
    "### Download the executables to run the raffle.\n",
    "\n",
    "The script residing at https://github.com/input-output-hk/real-world-marlowe/tree/main/archives/raffle are compiled to executables that should work on any recent Linux machine."
   ]
  },
  {
   "cell_type": "code",
   "execution_count": null,
   "id": "d92b839d-9a56-48fe-8c60-af81b5166f79",
   "metadata": {
    "tags": [],
    "vscode": {
     "languageId": "shellscript"
    }
   },
   "outputs": [],
   "source": [
    "curl -sS http://dl.marlowestat.org/raffle-bin.tar -o raffle-bin.tar"
   ]
  },
  {
   "cell_type": "markdown",
   "id": "18cb04b4-b962-4e06-b940-d232705e58ad",
   "metadata": {},
   "source": [
    "Unpack the executable files."
   ]
  },
  {
   "cell_type": "code",
   "execution_count": null,
   "id": "95d322d8-0b48-439c-b113-9688d99d0735",
   "metadata": {
    "tags": [],
    "vscode": {
     "languageId": "shellscript"
    }
   },
   "outputs": [],
   "source": [
    "tar xvf raffle-bin.tar"
   ]
  },
  {
   "cell_type": "markdown",
   "id": "19fdcf61-d648-4b5b-a97f-ec5343bf71a5",
   "metadata": {},
   "source": [
    "Put the executables at the front of the search path."
   ]
  },
  {
   "cell_type": "code",
   "execution_count": null,
   "id": "a0c14065-ca6f-456b-93e5-fdd484dbd08a",
   "metadata": {
    "tags": [],
    "vscode": {
     "languageId": "shellscript"
    }
   },
   "outputs": [],
   "source": [
    "export PATH=$PWD/bin:$PATH"
   ]
  },
  {
   "attachments": {},
   "cell_type": "markdown",
   "id": "e86f03f1",
   "metadata": {},
   "source": [
    "### Create the configuration files\n",
    "\n",
    "Each prize has its own configuration file."
   ]
  },
  {
   "attachments": {},
   "cell_type": "markdown",
   "id": "3e5c2b8e",
   "metadata": {},
   "source": [
    "#### Configuration for first prize's raffle"
   ]
  },
  {
   "cell_type": "code",
   "execution_count": null,
   "id": "8d479bde",
   "metadata": {
    "vscode": {
     "languageId": "shellscript"
    }
   },
   "outputs": [],
   "source": [
    "yaml2json << EOI > first-prize.config\n",
    "chunkSize: 5          # Danger: do not change the chunk size.\n",
    "deadlines:\n",
    "  deposit: 3d         # Deadline for depositing the prize token.\n",
    "  selectWinner: 3d    # Deadline for selecting the winner.\n",
    "  payout: 3d          # Deadline for paying the winner.\n",
    "runtimeURI:\n",
    "  proxy_host: 34.70.189.123  # The IP address of Marlowe Runtime v0.0.4. Use $MARLOWE_RT_HOST if a backup is needed.\n",
    "  proxy_port: 3700           # The port number for Marlowe Runtime's proxy service. Use $MARLOWE_RT_PORT for the backup.\n",
    "  web_host: 34.70.189.123    # The IP address of Marlowe Runtime v0.0.4. Use $MARLOWE_RT_WEBSERVER_HOST if a backup is needed.\n",
    "  web_port: 3780             # The port number for Marlowe Runtime's web server. Use $MARLOWE_RT_WEBSERVER_PORT for the backup.\n",
    "sponsorAddressFilePath: sponsor.mainnet.address\n",
    "sponsorCollateralFilePath: not-used\n",
    "sponsorPrivateKeyFilePath: sponsor.skey\n",
    "contract: first-prize.contract\n",
    "state: first-prize.state\n",
    "tmpTxToSign: temp.unsigned\n",
    "tmpTxToSubmit: temp.signed\n",
    "EOI\n",
    "cat first-prize.config"
   ]
  },
  {
   "attachments": {},
   "cell_type": "markdown",
   "id": "98c62b7a",
   "metadata": {},
   "source": [
    "#### Configuration for second prize's raffle"
   ]
  },
  {
   "cell_type": "code",
   "execution_count": null,
   "id": "6c17ce20",
   "metadata": {
    "vscode": {
     "languageId": "shellscript"
    }
   },
   "outputs": [],
   "source": [
    "yaml2json << EOI > second-prize.config\n",
    "chunkSize: 5          # Danger: do not change the chunk size.\n",
    "deadlines:\n",
    "  deposit: 3d         # Deadline for depositing the prize token.\n",
    "  selectWinner: 3d    # Deadline for selecting the winner.\n",
    "  payout: 3d          # Deadline for paying the winner.\n",
    "runtimeURI:\n",
    "  proxy_host: 34.70.189.123  # The IP address of Marlowe Runtime v0.0.4. Use $MARLOWE_RT_HOST if a backup is needed.\n",
    "  proxy_port: 3700           # The port number for Marlowe Runtime's proxy service. Use $MARLOWE_RT_PORT for the backup.\n",
    "  web_host: 34.70.189.123    # The IP address of Marlowe Runtime v0.0.4. Use $MARLOWE_RT_WEBSERVER_HOST if a backup is needed.\n",
    "  web_port: 3780             # The port number for Marlowe Runtime's web server. Use $MARLOWE_RT_WEBSERVER_PORT for the backup.\n",
    "sponsorAddressFilePath: sponsor.mainnet.address\n",
    "sponsorCollateralFilePath: not-used\n",
    "sponsorPrivateKeyFilePath: sponsor.skey\n",
    "contract: second-prize.contract\n",
    "state: second-prize.state\n",
    "tmpTxToSign: temp.unsigned\n",
    "tmpTxToSubmit: temp.signed\n",
    "EOI\n",
    "cat second-prize.config"
   ]
  },
  {
   "attachments": {},
   "cell_type": "markdown",
   "id": "e7ba5732",
   "metadata": {},
   "source": [
    "#### Configuration for third prize's raffle"
   ]
  },
  {
   "cell_type": "code",
   "execution_count": null,
   "id": "c5cde1a7",
   "metadata": {
    "vscode": {
     "languageId": "shellscript"
    }
   },
   "outputs": [],
   "source": [
    "yaml2json << EOI > third-prize.config\n",
    "chunkSize: 5          # Danger: do not change the chunk size.\n",
    "deadlines:\n",
    "  deposit: 3d         # Deadline for depositing the prize token.\n",
    "  selectWinner: 3d    # Deadline for selecting the winner.\n",
    "  payout: 3d          # Deadline for paying the winner.\n",
    "runtimeURI:\n",
    "  proxy_host: 34.70.189.123  # The IP address of Marlowe Runtime v0.0.4. Use $MARLOWE_RT_HOST if a backup is needed.\n",
    "  proxy_port: 3700           # The port number for Marlowe Runtime's proxy service. Use $MARLOWE_RT_PORT for the backup.\n",
    "  web_host: 34.70.189.123    # The IP address of Marlowe Runtime v0.0.4. Use $MARLOWE_RT_WEBSERVER_HOST if a backup is needed.\n",
    "  web_port: 3780             # The port number for Marlowe Runtime's web server. Use $MARLOWE_RT_WEBSERVER_PORT for the backup.\n",
    "sponsorAddressFilePath: sponsor.mainnet.address\n",
    "sponsorCollateralFilePath: not-used\n",
    "sponsorPrivateKeyFilePath: sponsor.skey\n",
    "contract: third-prize.contract\n",
    "state: third-prize.state\n",
    "tmpTxToSign: temp.unsigned\n",
    "tmpTxToSubmit: temp.signed\n",
    "EOI\n",
    "cat third-prize.config"
   ]
  },
  {
   "attachments": {},
   "cell_type": "markdown",
   "id": "8a257797",
   "metadata": {},
   "source": [
    "## Description of the raffle\n",
    "\n",
    "The raffle contract receives a deposit of a prize and then an oracle randomly selects the winner. The contract would be too large to fit on the blockchain because of the hundreds of possible winners, so Marlowe's merkleization capability is used to break up the contract into manageable pieces. The pieces are \"glued together\" using Marlowe's `Notify` block, so that the contract can walk a hierarchy of possible winners down to the actual winner.\n",
    "\n",
    "Below is a diagram of the raffle contract, showing the transactions as arrows:\n",
    "1.  Create the contract.\n",
    "2.  Deposit the prize token.\n",
    "3.  The oracle randomly chooses a winner.\n",
    "4.  The first notify branches five-fold according the the random number chosen by the oracle.\n",
    "    -   The *first* branch is taken if the winner is among the *first* group of 125 addresses.\n",
    "    -   The *second* branch is taken if the winner is among the *second* group of 125 addresses.\n",
    "    -   The *third* branch is taken if the winner is among the *third* group of 125 addresses.\n",
    "    -   The *fourth* branch is taken if the winner is among the *fourth* group of 125 addresses.\n",
    "    -   The *fifth* branch is taken if the winner is among the *fifth* group of 125 addresses.\n",
    "5.  The second notify branches five-fold according the the random number chosen by the oracle.\n",
    "    -   The first branch is taken if the winner is among the first group of 25 addresses within the previously selected 125 addresses.\n",
    "    -   Etc.\n",
    "6.  The third notify branches five-fold according the the random number chosen by the oracle.\n",
    "    -   The first branch is taken if the winner is among the first group of 5 addresses within the previously selected 25 addresses.\n",
    "    -   Etc.\n",
    "7.  The fourth notify branches five-fold according the the random number chosen by the oracle.\n",
    "    -   The first branch is taken if the winner is among the first of the previously selected 5 addresses, and the prize is paid to that address.\n",
    "    -   Etc.\n",
    "    \n",
    "![Hierarchy of transactions in the raffle contract.](hierarchy.png)"
   ]
  },
  {
   "cell_type": "markdown",
   "id": "976d8de6",
   "metadata": {},
   "source": [
    "## Run the raffles"
   ]
  },
  {
   "attachments": {},
   "cell_type": "markdown",
   "id": "53a081cc-9f34-46d2-ba31-2cb078f9ae5f",
   "metadata": {},
   "source": [
    "### Run the raffle for the first prize\n",
    "\n",
    "First view the start of the file with the addresses of the raffle ticket holders."
   ]
  },
  {
   "cell_type": "code",
   "execution_count": null,
   "id": "22f83fe0-225a-4bcc-99cf-58a6b3d306f7",
   "metadata": {
    "tags": [],
    "vscode": {
     "languageId": "shellscript"
    }
   },
   "outputs": [],
   "source": [
    "head first-prize.addresses"
   ]
  },
  {
   "cell_type": "markdown",
   "id": "ccda6c23-c689-4e02-a661-6bd29a74bf80",
   "metadata": {},
   "source": [
    "Now build and submit the transaction that initializes the raffle."
   ]
  },
  {
   "cell_type": "code",
   "execution_count": null,
   "id": "70fa054b-2303-4b4a-aa8c-1cdf65348725",
   "metadata": {
    "tags": [],
    "vscode": {
     "languageId": "shellscript"
    }
   },
   "outputs": [],
   "source": [
    "InitializeRaffle first-prize.config first-prize.addresses first-prize.token"
   ]
  },
  {
   "cell_type": "markdown",
   "id": "103b954d-f42f-425e-b6de-2af2e357d00f",
   "metadata": {},
   "source": [
    "Record the contract ID that was printed."
   ]
  },
  {
   "cell_type": "code",
   "execution_count": null,
   "id": "256347eb-2830-4b10-9d3d-f118e5b52a00",
   "metadata": {
    "tags": [],
    "vscode": {
     "languageId": "shellscript"
    }
   },
   "outputs": [],
   "source": [
    "# IMPORTANT: Record the contract ID in the variable below!\n",
    "PRIZE1_CONTRACT="
   ]
  },
  {
   "cell_type": "markdown",
   "id": "9f924151-7ccf-4919-822a-906e30bd7479",
   "metadata": {
    "tags": [],
    "vscode": {
     "languageId": "shellscript"
    }
   },
   "source": [
    "Run the raffle itself, which consists of several transactions:\n",
    "1. Deposit the prize token.\n",
    "2. Have the oracle retrieve a random number from https://www.random.org/.\n",
    "3. Execute several Marlowe notify transactions to locate the winner.\n",
    "4. Send the prize token to the winner."
   ]
  },
  {
   "cell_type": "code",
   "execution_count": null,
   "id": "b39a9219-5e22-41fb-9259-3f656e0735ac",
   "metadata": {
    "tags": [],
    "vscode": {
     "languageId": "shellscript"
    }
   },
   "outputs": [],
   "source": [
    "ExecuteRaffle first-prize.config first-prize.addresses first-prize.token $PRIZE1_CONTRACT"
   ]
  },
  {
   "cell_type": "markdown",
   "id": "2a0f7592-93e2-471a-b678-75e431d978d0",
   "metadata": {},
   "source": [
    "View the contract on MarloweScan."
   ]
  },
  {
   "cell_type": "code",
   "execution_count": null,
   "id": "67e811b7-b1ff-4c2d-a8ff-8d5754aad60a",
   "metadata": {
    "tags": [],
    "vscode": {
     "languageId": "shellscript"
    }
   },
   "outputs": [],
   "source": [
    "echo \"https://mainnet.marlowescan.com/contractView?tab=tx-list&contractId=${PRIZE1_CONTRACT%%#1}%231\""
   ]
  },
  {
   "cell_type": "markdown",
   "id": "d86993df-9474-4ee5-9487-ee1177309156",
   "metadata": {},
   "source": [
    "Record the random number from that the oracle choose, listed in the output above."
   ]
  },
  {
   "cell_type": "code",
   "execution_count": null,
   "id": "bb0d47d1-9012-4ac6-864c-387eca178b81",
   "metadata": {
    "tags": [],
    "vscode": {
     "languageId": "shellscript"
    }
   },
   "outputs": [],
   "source": [
    "# IMPORTANT: Record the number the oracle answered with in the variable below!\n",
    "PRIZE1_CHOICE="
   ]
  },
  {
   "cell_type": "markdown",
   "id": "b2652db2-6a36-4474-a02c-0a642ae631cd",
   "metadata": {},
   "source": [
    "Compute the address of the winner and view their prize on an explorer."
   ]
  },
  {
   "cell_type": "code",
   "execution_count": null,
   "id": "ecb0086f-2662-455b-8cdc-588728dfc3a1",
   "metadata": {
    "tags": [],
    "vscode": {
     "languageId": "shellscript"
    }
   },
   "outputs": [],
   "source": [
    "PRIZE1_WINNER=$(jq -r \".[$PRIZE1_CHOICE].payment_address\" first-prize.addresses)\n",
    "echo \"PRIZE1_WINNER = $PRIZE1_WINNER\"\n",
    "echo \"https://cardanoscan.io/address/$PRIZE1_WINNER\""
   ]
  },
  {
   "attachments": {},
   "cell_type": "markdown",
   "id": "005a3b8d-809e-494f-9f10-824595ad8910",
   "metadata": {},
   "source": [
    "### Run the raffle for the second prize\n",
    "\n",
    "Now create the file for those eligible for the second prize by deleting the entry for the first prize."
   ]
  },
  {
   "cell_type": "code",
   "execution_count": null,
   "id": "0d2f380c-8a89-4df6-a35f-37a1a88b5fff",
   "metadata": {
    "tags": [],
    "vscode": {
     "languageId": "shellscript"
    }
   },
   "outputs": [],
   "source": [
    "jq \"del(.[$PRIZE1_CHOICE])\" first-prize.addresses > second-prize.addresses"
   ]
  },
  {
   "cell_type": "markdown",
   "id": "b0036de7-dd43-4982-9d60-3a30f445643e",
   "metadata": {},
   "source": [
    "Now build and submit the transaction that initializes the raffle."
   ]
  },
  {
   "cell_type": "code",
   "execution_count": null,
   "id": "b4f121c1-e161-4ddc-bf6f-f45541bf5f5e",
   "metadata": {
    "tags": [],
    "vscode": {
     "languageId": "shellscript"
    }
   },
   "outputs": [],
   "source": [
    "InitializeRaffle second-prize.config second-prize.addresses second-prize.token"
   ]
  },
  {
   "cell_type": "markdown",
   "id": "62ae25ab-ea9f-479a-bd1c-06ef534981c7",
   "metadata": {},
   "source": [
    "Record the contract ID that was printed."
   ]
  },
  {
   "cell_type": "code",
   "execution_count": null,
   "id": "0a3f05ad-aa18-469c-a7d3-01bf5ea59700",
   "metadata": {
    "tags": [],
    "vscode": {
     "languageId": "shellscript"
    }
   },
   "outputs": [],
   "source": [
    "# IMPORTANT: Record the contract ID in the variable below!\n",
    "PRIZE2_CONTRACT="
   ]
  },
  {
   "cell_type": "markdown",
   "id": "03a001ca-decc-4a62-87fc-194179a27b66",
   "metadata": {
    "tags": []
   },
   "source": [
    "Run the raffle itself, which consists of several transactions."
   ]
  },
  {
   "cell_type": "code",
   "execution_count": null,
   "id": "4fec86b5-7bb3-48fe-9998-4f0388acac47",
   "metadata": {
    "tags": [],
    "vscode": {
     "languageId": "shellscript"
    }
   },
   "outputs": [],
   "source": [
    "ExecuteRaffle second-prize.config second-prize.addresses second-prize.token $PRIZE2_CONTRACT"
   ]
  },
  {
   "cell_type": "markdown",
   "id": "d9082169-cf4f-4ebf-9c22-4f0298018741",
   "metadata": {},
   "source": [
    "View the contract on MarloweScan."
   ]
  },
  {
   "cell_type": "code",
   "execution_count": null,
   "id": "2efff164-eceb-4055-bd4c-44ccf923cb12",
   "metadata": {
    "tags": [],
    "vscode": {
     "languageId": "shellscript"
    }
   },
   "outputs": [],
   "source": [
    "echo \"https://mainnet.marlowescan.com/contractView?tab=tx-list&contractId=${PRIZE2_CONTRACT%%#1}%231\""
   ]
  },
  {
   "cell_type": "markdown",
   "id": "1c7fdf80-2b04-4a7a-9838-50c3d0498206",
   "metadata": {},
   "source": [
    "Record the random number from that the oracle choose, listed in the output above."
   ]
  },
  {
   "cell_type": "code",
   "execution_count": null,
   "id": "a6678eb4-7222-4202-98fc-cbc8673e0457",
   "metadata": {
    "tags": [],
    "vscode": {
     "languageId": "shellscript"
    }
   },
   "outputs": [],
   "source": [
    "# IMPORTANT: Record the number the oracle answered with in the variable below!\n",
    "PRIZE2_CHOICE="
   ]
  },
  {
   "cell_type": "markdown",
   "id": "3dea7d9d-94cf-491a-a637-ba24db08c853",
   "metadata": {},
   "source": [
    "Compute the address of the winner and view their prize on an explorer."
   ]
  },
  {
   "cell_type": "code",
   "execution_count": null,
   "id": "0118fa3a-78ae-452e-b847-f1f9bbfb57df",
   "metadata": {
    "tags": [],
    "vscode": {
     "languageId": "shellscript"
    }
   },
   "outputs": [],
   "source": [
    "PRIZE2_WINNER=$(jq -r \".[$PRIZE2_CHOICE].payment_address\" second-prize.addresses)\n",
    "echo \"PRIZE2_WINNER = $PRIZE2_WINNER\"\n",
    "echo \"https://cardanoscan.io/address/$PRIZE2_WINNER\""
   ]
  },
  {
   "attachments": {},
   "cell_type": "markdown",
   "id": "067ff5ae-4ffc-47c5-a642-eaffde4226e3",
   "metadata": {},
   "source": [
    "### Run the raffle for the thrid prize\n",
    "\n",
    "Now create the file for those eligible for the second prize by deleting the entry for the second prize."
   ]
  },
  {
   "cell_type": "code",
   "execution_count": null,
   "id": "3bc1b99f-6ccc-4a92-b3fc-8fb196becf69",
   "metadata": {
    "tags": [],
    "vscode": {
     "languageId": "shellscript"
    }
   },
   "outputs": [],
   "source": [
    "jq \"del(.[$PRIZE2_CHOICE])\" second-prize.addresses > third-prize.addresses"
   ]
  },
  {
   "cell_type": "markdown",
   "id": "b24930dc-1f58-4391-a00b-889b3a92cc88",
   "metadata": {},
   "source": [
    "Now build and submit the transaction that initializes the raffle."
   ]
  },
  {
   "cell_type": "code",
   "execution_count": null,
   "id": "17e06f2f-5298-417a-aea7-b8594e5c6b2d",
   "metadata": {
    "tags": [],
    "vscode": {
     "languageId": "shellscript"
    }
   },
   "outputs": [],
   "source": [
    "InitializeRaffle third-prize.config third-prize.addresses third-prize.token"
   ]
  },
  {
   "cell_type": "markdown",
   "id": "12262727-3f5c-4b56-aa55-c78396907add",
   "metadata": {},
   "source": [
    "Record the contract ID that was printed."
   ]
  },
  {
   "cell_type": "code",
   "execution_count": null,
   "id": "54c96c16-5fee-41b3-9d08-550371c115b8",
   "metadata": {
    "tags": [],
    "vscode": {
     "languageId": "shellscript"
    }
   },
   "outputs": [],
   "source": [
    "# IMPORTANT: Record the contract ID in the variable below!\n",
    "PRIZE3_CONTRACT="
   ]
  },
  {
   "cell_type": "markdown",
   "id": "31e55302-2424-4fcc-983b-e04a24733459",
   "metadata": {
    "tags": []
   },
   "source": [
    "Run the raffle itself, which consists of several transactions."
   ]
  },
  {
   "cell_type": "code",
   "execution_count": null,
   "id": "b9e5e2c5-3c8b-402e-b331-bb150d59195e",
   "metadata": {
    "tags": [],
    "vscode": {
     "languageId": "shellscript"
    }
   },
   "outputs": [],
   "source": [
    "ExecuteRaffle third-prize.config third-prize.addresses third-prize.token $PRIZE3_CONTRACT"
   ]
  },
  {
   "cell_type": "markdown",
   "id": "f8986fb8-8c43-436b-9071-51dc0655bc13",
   "metadata": {},
   "source": [
    "View the contract on MarloweScan."
   ]
  },
  {
   "cell_type": "code",
   "execution_count": null,
   "id": "c348e101-c7b6-478c-a45e-d008c7645903",
   "metadata": {
    "tags": [],
    "vscode": {
     "languageId": "shellscript"
    }
   },
   "outputs": [],
   "source": [
    "echo \"https://mainnet.marlowescan.com/contractView?tab=tx-list&contractId=${PRIZE3_CONTRACT%%#1}%231\""
   ]
  },
  {
   "cell_type": "markdown",
   "id": "5f15dd39-3b1f-4c4b-aa3d-b7dee2317b5e",
   "metadata": {},
   "source": [
    "Record the random number from that the oracle choose, listed in the output above."
   ]
  },
  {
   "cell_type": "code",
   "execution_count": null,
   "id": "509992e6-3e8d-4e1e-bfc6-174fad5092d3",
   "metadata": {
    "tags": [],
    "vscode": {
     "languageId": "shellscript"
    }
   },
   "outputs": [],
   "source": [
    "# IMPORTANT: Record the number the oracle answered with in the variable below!\n",
    "PRIZE3_CHOICE="
   ]
  },
  {
   "cell_type": "markdown",
   "id": "b76c1034-132f-4a44-907e-b449014ec956",
   "metadata": {},
   "source": [
    "Compute the address of the winner and view their prize on an explorer."
   ]
  },
  {
   "cell_type": "code",
   "execution_count": null,
   "id": "ed2a82a2-1647-41df-9e7a-47d09d480b6f",
   "metadata": {
    "tags": [],
    "vscode": {
     "languageId": "shellscript"
    }
   },
   "outputs": [],
   "source": [
    "PRIZE3_WINNER=$(jq -r \".[$PRIZE3_CHOICE].payment_address\" third-prize.addresses)\n",
    "echo \"PRIZE3_WINNER = $PRIZE3_WINNER\"\n",
    "echo \"https://cardanoscan.io/address/$PRIZE3_WINNER\""
   ]
  }
 ],
 "metadata": {
  "kernelspec": {
   "display_name": "Bash",
   "language": "bash",
   "name": "bash"
  },
  "language_info": {
   "codemirror_mode": "shell",
   "file_extension": ".sh",
   "mimetype": "text/x-sh",
   "name": "bash"
  }
 },
 "nbformat": 4,
 "nbformat_minor": 5
}
