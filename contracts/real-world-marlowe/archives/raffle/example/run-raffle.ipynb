{
 "cells": [
  {
   "cell_type": "markdown",
   "id": "bd8fe47f-e0c4-46b6-8b71-a719c724f083",
   "metadata": {},
   "source": [
    "# Running a raffle with Marlowe\n",
    "\n",
    "The raffle contract receives a deposit of a prize and then an oracle randomly selects the winner. The contract would be too large to fit on the blockchain because of the hundreds of possible winners, so Marlowe's merkleization capability is used to break up the contract into manageable pieces. The pieces are \"glued together\" using Marlowe's `Notify` block, so that the contract can walk a hierarchy of possible winners down to the actual winner.\n",
    "\n",
    "Below is a diagram of the raffle contract, showing the transactions as arrows:\n",
    "1.  Create the contract.\n",
    "2.  Deposit the prize token.\n",
    "3.  The oracle randomly chooses a winner.\n",
    "4.  The first notify branches five-fold according the the random number chosen by the oracle.\n",
    "    -   The *first* branch is taken if the winner is among the *first* group of 125 addresses.\n",
    "    -   The *second* branch is taken if the winner is among the *second* group of 125 addresses.\n",
    "    -   The *third* branch is taken if the winner is among the *third* group of 125 addresses.\n",
    "    -   The *fourth* branch is taken if the winner is among the *fourth* group of 125 addresses.\n",
    "    -   The *fifth* branch is taken if the winner is among the *fifth* group of 125 addresses.\n",
    "5.  The second notify branches five-fold according the the random number chosen by the oracle.\n",
    "    -   The first branch is taken if the winner is among the first group of 25 addresses within the previously selected 125 addresses.\n",
    "    -   Etc.\n",
    "6.  The third notify branches five-fold according the the random number chosen by the oracle.\n",
    "    -   The first branch is taken if the winner is among the first group of 5 addresses within the previously selected 25 addresses.\n",
    "    -   Etc.\n",
    "7.  The fourth notify branches five-fold according the the random number chosen by the oracle.\n",
    "    -   The first branch is taken if the winner is among the first of the previously selected 5 addresses, and the prize is paid to that address.\n",
    "    -   Etc.\n",
    "    \n",
    "![Hierarchy of transactions in the raffle contract.](hierarchy.png)"
   ]
  },
  {
   "cell_type": "markdown",
   "id": "bca64611-114a-467a-a514-44e7d163c868",
   "metadata": {},
   "source": [
    "## Prerequisites"
   ]
  },
  {
   "cell_type": "markdown",
   "id": "395cae96-694b-4904-be41-755dd6ec56e5",
   "metadata": {},
   "source": [
    "#### First prize\n",
    "\n",
    "We need to know the policy ID and token name for the NFT serves as the Marlowe role token for redeeming the first prize. There is no requirement for this token beyond that we know its policy ID and token name.\n",
    "\n",
    "For the purposes of this narrative example, let's say we have the following. ***For the real raffle, these values must be replaced by those for the action first-prize redemption token.***"
   ]
  },
  {
   "cell_type": "code",
   "execution_count": 1,
   "id": "97f28a44-41b9-4162-b9a1-5a90d5913994",
   "metadata": {
    "tags": [],
    "vscode": {
     "languageId": "shellscript"
    }
   },
   "outputs": [],
   "source": [
    "# Replace with actual policy and name!\n",
    "PRIZE1_POLICY=8bb3b343d8e404472337966a722150048c768d0a92a9813596c5338d\n",
    "PRIZE1_NAME=1stPrize"
   ]
  },
  {
   "cell_type": "markdown",
   "id": "f694aba1-6349-4d5b-b51d-0bf83bf64e51",
   "metadata": {},
   "source": [
    "#### Second prize\n",
    "\n",
    "Now repeat the same steps for the second prize.\n",
    "\n",
    "For the purposes of this narrative example, let's say we have the following. For the real raffle, these values must be replaced by those for the action second-prize redemption token."
   ]
  },
  {
   "cell_type": "code",
   "execution_count": 2,
   "id": "cb2b5555-e942-4d58-b592-b3c0fa6d11bc",
   "metadata": {
    "tags": [],
    "vscode": {
     "languageId": "shellscript"
    }
   },
   "outputs": [],
   "source": [
    "# Replace with actual policy and name!\n",
    "PRIZE2_POLICY=8bb3b343d8e404472337966a722150048c768d0a92a9813596c5338d\n",
    "PRIZE2_NAME=2ndPrize"
   ]
  },
  {
   "cell_type": "markdown",
   "id": "3078bd09-049d-436b-bc16-ba4b945ad161",
   "metadata": {},
   "source": [
    "#### Third prize\n",
    "\n",
    "Now repeat the same steps for the third prize.\n",
    "\n",
    "For the purposes of this narrative example, let's say we have the following. For the real raffle, these values must be replaced by those for the action third-prize redemption token."
   ]
  },
  {
   "cell_type": "code",
   "execution_count": 3,
   "id": "0390a0ae-764d-41c6-9d6a-bffd0a41677d",
   "metadata": {
    "tags": [],
    "vscode": {
     "languageId": "shellscript"
    }
   },
   "outputs": [],
   "source": [
    "# Replace with actual policy and name!\n",
    "PRIZE3_POLICY=8bb3b343d8e404472337966a722150048c768d0a92a9813596c5338d\n",
    "PRIZE3_NAME=3rdPrize"
   ]
  },
  {
   "cell_type": "markdown",
   "id": "8eaa414e-3148-4cf6-86f9-42cdad69771b",
   "metadata": {},
   "source": [
    "## Running the raffle"
   ]
  },
  {
   "cell_type": "markdown",
   "id": "b0291ba5-fe4b-44d0-bde6-41dff68e4047",
   "metadata": {},
   "source": [
    "### Ensure that the three prize tokens reside at the sponsor address\n",
    "\n",
    "Send the three prize tokens (the Marlowe role tokens) to the sponsor address."
   ]
  },
  {
   "cell_type": "code",
   "execution_count": 4,
   "id": "75556e4d-d666-42cb-8a9a-3ca745b4c3d5",
   "metadata": {
    "tags": [],
    "vscode": {
     "languageId": "shellscript"
    }
   },
   "outputs": [
    {
     "name": "stdout",
     "output_type": "stream",
     "text": [
      "SPONSOR_ADDR = addr1q95e9feu4hkp4qwvgqasq02na05z3eg33zzjquf2d86e6qzznwng4gtlladnxm7d486psa003jy6dv230t82rvv3pflqeuzzt2\n"
     ]
    }
   ],
   "source": [
    "SPONSOR_SKEY=sponsor.skey\n",
    "SPONSOR_ADDR=$(cat sponsor.mainnet.address)\n",
    "echo \"SPONSOR_ADDR = $SPONSOR_ADDR\""
   ]
  },
  {
   "cell_type": "markdown",
   "id": "0e4e1d2d-888e-44f7-8da0-21b07f6b17b0",
   "metadata": {},
   "source": [
    "After the tokens have been sent, we can query to see them."
   ]
  },
  {
   "cell_type": "code",
   "execution_count": 5,
   "id": "b0d985ea-956e-4de9-b3aa-ae70b30f2eec",
   "metadata": {
    "tags": [],
    "vscode": {
     "languageId": "shellscript"
    }
   },
   "outputs": [
    {
     "name": "stdout",
     "output_type": "stream",
     "text": [
      "                           TxHash                                 TxIx        Amount\n",
      "--------------------------------------------------------------------------------------\n",
      "42b72c768bd5ffcc3c92adde77541f53f20f83d95b20cea6363ae6a02df42c21     0        81284961 lovelace + TxOutDatumNone\n",
      "42b72c768bd5ffcc3c92adde77541f53f20f83d95b20cea6363ae6a02df42c21     1        2000000 lovelace + 1 8bb3b343d8e404472337966a722150048c768d0a92a9813596c5338d.3173745072697a65 + TxOutDatumNone\n",
      "42b72c768bd5ffcc3c92adde77541f53f20f83d95b20cea6363ae6a02df42c21     2        2000000 lovelace + 1 8bb3b343d8e404472337966a722150048c768d0a92a9813596c5338d.326e645072697a65 + TxOutDatumNone\n",
      "42b72c768bd5ffcc3c92adde77541f53f20f83d95b20cea6363ae6a02df42c21     3        2000000 lovelace + 1 8bb3b343d8e404472337966a722150048c768d0a92a9813596c5338d.3372645072697a65 + TxOutDatumNone\n"
     ]
    }
   ],
   "source": [
    "cardano-cli query utxo --mainnet --address $SPONSOR_ADDR"
   ]
  },
  {
   "cell_type": "markdown",
   "id": "630ec182-f579-4539-84ee-20bb7dfbaea9",
   "metadata": {},
   "source": [
    "### Download the executables to run the raffle.\n",
    "\n",
    "The script residing at https://github.com/input-output-hk/real-world-marlowe/tree/main/archives/raffle are compiled to executables that should work on any recent Linux machine."
   ]
  },
  {
   "cell_type": "code",
   "execution_count": 6,
   "id": "d92b839d-9a56-48fe-8c60-af81b5166f79",
   "metadata": {
    "tags": [],
    "vscode": {
     "languageId": "shellscript"
    }
   },
   "outputs": [],
   "source": [
    "curl -sS http://dl.marlowestat.org/raffle-bin.tar -o raffle-bin.tar"
   ]
  },
  {
   "cell_type": "markdown",
   "id": "18cb04b4-b962-4e06-b940-d232705e58ad",
   "metadata": {},
   "source": [
    "Unpack the executable files."
   ]
  },
  {
   "cell_type": "code",
   "execution_count": 7,
   "id": "95d322d8-0b48-439c-b113-9688d99d0735",
   "metadata": {
    "tags": [],
    "vscode": {
     "languageId": "shellscript"
    }
   },
   "outputs": [
    {
     "name": "stdout",
     "output_type": "stream",
     "text": [
      "bin/\n",
      "bin/cardano-cli\n",
      "bin/marlowe-cli\n",
      "bin/marlowe-runtime-cli\n",
      "bin/InitializeRaffle\n",
      "bin/ExecuteRaffle\n"
     ]
    }
   ],
   "source": [
    "tar xvf raffle-bin.tar"
   ]
  },
  {
   "cell_type": "markdown",
   "id": "19fdcf61-d648-4b5b-a97f-ec5343bf71a5",
   "metadata": {},
   "source": [
    "Put the executables at the front of the search path."
   ]
  },
  {
   "cell_type": "code",
   "execution_count": 8,
   "id": "a0c14065-ca6f-456b-93e5-fdd484dbd08a",
   "metadata": {
    "tags": [],
    "vscode": {
     "languageId": "shellscript"
    }
   },
   "outputs": [],
   "source": [
    "export PATH=$PWD/bin:$PATH"
   ]
  },
  {
   "cell_type": "markdown",
   "id": "53a081cc-9f34-46d2-ba31-2cb078f9ae5f",
   "metadata": {},
   "source": [
    "### Run the raffle for the first prize\n",
    "\n",
    "First create the file that describes the role token holding the first prize."
   ]
  },
  {
   "cell_type": "code",
   "execution_count": 9,
   "id": "febf2114-e0cf-4a4b-8544-0c5061045310",
   "metadata": {
    "tags": [],
    "vscode": {
     "languageId": "shellscript"
    }
   },
   "outputs": [
    {
     "name": "stdout",
     "output_type": "stream",
     "text": [
      "[\n",
      "    [\n",
      "        \"8bb3b343d8e404472337966a722150048c768d0a92a9813596c5338d\",\n",
      "        \"1stPrize\"\n",
      "    ]\n",
      "]\n"
     ]
    }
   ],
   "source": [
    "cat << EOI > first-prize.token\n",
    "[\n",
    "    [\n",
    "        \"$PRIZE1_POLICY\",\n",
    "        \"$PRIZE1_NAME\"\n",
    "    ]\n",
    "]\n",
    "EOI\n",
    "cat first-prize.token"
   ]
  },
  {
   "cell_type": "markdown",
   "id": "c08bd2d7-5f73-47d0-8940-d3cbdff65396",
   "metadata": {
    "tags": []
   },
   "source": [
    "Now create the file with the addresses of the raffle ticket holders."
   ]
  },
  {
   "cell_type": "code",
   "execution_count": 10,
   "id": "22f83fe0-225a-4bcc-99cf-58a6b3d306f7",
   "metadata": {
    "tags": [],
    "vscode": {
     "languageId": "shellscript"
    }
   },
   "outputs": [
    {
     "name": "stdout",
     "output_type": "stream",
     "text": [
      "[{\"asset_name\":\"5469636b6574233939\",\"payment_address\":\"addr1q97q4e9nlhq08mrugs8pm5uq045e425w72mxhxupq9qqgykr7cz4mu6gh005gdck67p7y9d8s8zsfgjkcdy75mrjh6jq3dk3ng\",\"quantity\":\"1\"},\n",
      " {\"asset_name\":\"5469636b6574233938\",\"payment_address\":\"addr1qxmph7666hj5yadja34pdlm8n5un0fhc9p0hv2g9ask7m49n3kr657fpa3q8mzwmjqvl9lqdn9g2pm3ejhlgwpprwy2sq5s22j\",\"quantity\":\"1\"},\n",
      " {\"asset_name\":\"5469636b6574233937\",\"payment_address\":\"addr1q8pdjzhjthflmtu947feruy6rnu0zr8x7xlppgqxrew62xqwpjujxwjglw2gelk9thqcta802lprejcu4y8dtz64uhnsaeaet6\",\"quantity\":\"1\"},\n",
      " {\"asset_name\":\"5469636b6574233936\",\"payment_address\":\"addr1q9zun0s6thsyf9qt0zyfnn50x8kpwutrv20eq8dgx9gt6tkr7cz4mu6gh005gdck67p7y9d8s8zsfgjkcdy75mrjh6jq2x0dua\",\"quantity\":\"1\"},\n",
      " {\"asset_name\":\"5469636b6574233935\",\"payment_address\":\"addr1qy5sj3v265ucpuy7ea7h7qy533xnhcl9ru3g24xcetrnxu4n3kr657fpa3q8mzwmjqvl9lqdn9g2pm3ejhlgwpprwy2slm3vfx\",\"quantity\":\"1\"},\n",
      " {\"asset_name\":\"5469636b6574233934\",\"payment_address\":\"addr1qy5lsaapah8d5pf8s2uvnnas4yk9s55vgns4jsvzz5exksgwpjujxwjglw2gelk9thqcta802lprejcu4y8dtz64uhnsluyccl\",\"quantity\":\"1\"},\n",
      " {\"asset_name\":\"5469636b6574233933\",\"payment_address\":\"addr1qypet7s339suufnxmr4vrg09469v30g59yxa70yrkxvrfekr7cz4mu6gh005gdck67p7y9d8s8zsfgjkcdy75mrjh6jqjg9sm2\",\"quantity\":\"1\"},\n",
      " {\"asset_name\":\"5469636b6574233932\",\"payment_address\":\"addr1qx26pe2wlf9x532vsh2cd6swfae2eanadz8kpqc7trzpfzdn3kr657fpa3q8mzwmjqvl9lqdn9g2pm3ejhlgwpprwy2sjgremk\",\"quantity\":\"1\"},\n",
      " {\"asset_name\":\"5469636b6574233931\",\"payment_address\":\"addr1q9jqjkxx0rjp08zffmwxyc3gtvkry56akn7p07dqjc649tgwpjujxwjglw2gelk9thqcta802lprejcu4y8dtz64uhns0qafe4\",\"quantity\":\"1\"},\n",
      " {\"asset_name\":\"5469636b6574233930\",\"payment_address\":\"addr1q9pr8ue92zznn2k3v235fuxtpcun9k32g8jn09dsq3ndvawr7cz4mu6gh005gdck67p7y9d8s8zsfgjkcdy75mrjh6jq5uzypa\",\"quantity\":\"1\"},\n"
     ]
    }
   ],
   "source": [
    "head first-prize.addresses"
   ]
  },
  {
   "cell_type": "markdown",
   "id": "91906772-e9d8-44bd-9cd2-6770f4b615ad",
   "metadata": {},
   "source": [
    "Now create the configuration file for running the raffle."
   ]
  },
  {
   "cell_type": "code",
   "execution_count": 11,
   "id": "579a877c-81d3-425e-bb1b-2bc39a1662c8",
   "metadata": {
    "tags": [],
    "vscode": {
     "languageId": "shellscript"
    }
   },
   "outputs": [
    {
     "name": "stdout",
     "output_type": "stream",
     "text": [
      "{\n",
      "    \"chunkSize\": 5,\n",
      "    \"deadlines\": {\n",
      "        \"deposit\": \"3d\",\n",
      "        \"selectWinner\": \"3d\",\n",
      "        \"payout\": \"3d\"\n",
      "    },\n",
      "    \"runtimeURI\": {\n",
      "        \"proxy_host\": \"34.70.189.123\",\n",
      "        \"proxy_port\": 3700,\n",
      "        \"web_host\": \"34.70.189.123\",\n",
      "        \"web_port\": 3780\n",
      "    },\n",
      "    \"sponsorAddressFilePath\": \"sponsor.mainnet.address\",\n",
      "    \"sponsorCollateralFilePath\": \"not-used\",\n",
      "    \"sponsorPrivateKeyFilePath\": \"sponsor.skey\",\n",
      "    \"contract\": \"first-prize.contract\",\n",
      "    \"state\": \"first-prize.state\",\n",
      "    \"tmpTxToSign\": \"temp.unsigned\",\n",
      "    \"tmpTxToSubmit\": \"temp.signed\"\n",
      "}\n"
     ]
    }
   ],
   "source": [
    "yaml2json << EOI > first-prize.config\n",
    "chunkSize: 5          # Danger: do not change the chunk size.\n",
    "deadlines:\n",
    "  deposit: 3d         # Deadline for depositing the prize token.\n",
    "  selectWinner: 3d    # Deadline for selecting the winner.\n",
    "  payout: 3d          # Deadline for paying the winner.\n",
    "runtimeURI:\n",
    "  proxy_host: 34.70.189.123  # The IP address of Marlowe Runtime v0.0.4. Use $MARLOWE_RT_HOST if a backup is needed.\n",
    "  proxy_port: 3700           # The port number for Marlowe Runtime's proxy service. Use $MARLOWE_RT_PORT for the backup.\n",
    "  web_host: 34.70.189.123    # The IP address of Marlowe Runtime v0.0.4. Use $MARLOWE_RT_WEBSERVER_HOST if a backup is needed.\n",
    "  web_port: 3780             # The port number for Marlowe Runtime's web server. Use $MARLOWE_RT_WEBSERVER_PORT for the backup.\n",
    "sponsorAddressFilePath: sponsor.mainnet.address\n",
    "sponsorCollateralFilePath: not-used\n",
    "sponsorPrivateKeyFilePath: sponsor.skey\n",
    "contract: first-prize.contract\n",
    "state: first-prize.state\n",
    "tmpTxToSign: temp.unsigned\n",
    "tmpTxToSubmit: temp.signed\n",
    "EOI\n",
    "cat first-prize.config"
   ]
  },
  {
   "cell_type": "markdown",
   "id": "ccda6c23-c689-4e02-a661-6bd29a74bf80",
   "metadata": {},
   "source": [
    "Now build and submit the transaction that initializes the raffle."
   ]
  },
  {
   "cell_type": "code",
   "execution_count": 12,
   "id": "70fa054b-2303-4b4a-aa8c-1cdf65348725",
   "metadata": {
    "tags": [],
    "vscode": {
     "languageId": "shellscript"
    }
   },
   "outputs": [
    {
     "name": "stdout",
     "output_type": "stream",
     "text": [
      "#########################\n",
      "Raffle Contract Generation & Initialisation\n",
      "-------------------------\n",
      " >> Raffle Contract saved in : first-prize.contract\n",
      "-------------------------\n",
      "Raffle Contract Generated\n",
      "-------------------------\n",
      " >> Contract stored with hash: 0cfc94d494c01d82f8d94e6348afbeebf057672c985a0ddba0d0b8731e0aa3cf\n",
      "Safety analysis found the following errors in the contract:\n",
      "- detail: The safety analysis exceeded the allotted time.\n",
      "  error: SafetyAnalysisTimeout\n",
      "  fatal: false\n",
      "\n",
      "{\"contractId\":\"d376f1d11b5781d707e4401b625c9a088ceed201ee5bf6a905d39e212796a066#1\"}\n",
      " >> tx signed\n",
      "{\"blockHeaderHash\":\"7df1fa3729cdc512cc49b10447cbcb579bab2c5b2fe008237555289e0a2907de\",\"blockNo\":9193578,\"slotNo\":101164664}\n",
      " >> tx submitted\n",
      " >> Contract initialzed (tx appended)\n",
      "-------------------------\n",
      "Raffle Contract Initialized : {\"contractId\":\"d376f1d11b5781d707e4401b625c9a088ceed201ee5bf6a905d39e212796a066#1\"}\n",
      "-------------------------\n",
      "#########################\n",
      "{\"contractId\":\"d376f1d11b5781d707e4401b625c9a088ceed201ee5bf6a905d39e212796a066#1\"}\n"
     ]
    }
   ],
   "source": [
    "InitializeRaffle first-prize.config first-prize.addresses first-prize.token"
   ]
  },
  {
   "cell_type": "markdown",
   "id": "103b954d-f42f-425e-b6de-2af2e357d00f",
   "metadata": {},
   "source": [
    "Record the contract ID that was printed."
   ]
  },
  {
   "cell_type": "code",
   "execution_count": 13,
   "id": "256347eb-2830-4b10-9d3d-f118e5b52a00",
   "metadata": {
    "tags": [],
    "vscode": {
     "languageId": "shellscript"
    }
   },
   "outputs": [],
   "source": [
    "PRIZE1_CONTRACT=d376f1d11b5781d707e4401b625c9a088ceed201ee5bf6a905d39e212796a066#1"
   ]
  },
  {
   "cell_type": "markdown",
   "id": "9f924151-7ccf-4919-822a-906e30bd7479",
   "metadata": {
    "tags": [],
    "vscode": {
     "languageId": "shellscript"
    }
   },
   "source": [
    "Run the raffle itself, which consists of several transactions:\n",
    "1. Deposit the prize token.\n",
    "2. Have the oracle retrieve a random number from https://www.random.org/.\n",
    "3. Execute several Marlowe notify transactions to locate the winner.\n",
    "4. Send the prize token to the winner."
   ]
  },
  {
   "cell_type": "code",
   "execution_count": 14,
   "id": "b39a9219-5e22-41fb-9259-3f656e0735ac",
   "metadata": {
    "tags": [],
    "vscode": {
     "languageId": "shellscript"
    }
   },
   "outputs": [
    {
     "name": "stdout",
     "output_type": "stream",
     "text": [
      "\n",
      "#########################\n",
      "WaitingForPrizeDeposit\n",
      " >> Depositing 1stPrize\n",
      "{\"txId\":\"f069ab54aa4ea54e660303f33307dee997ed94eb8c80423363905d69f732e845\"}\n",
      " >> tx signed\n",
      "{\"blockHeaderHash\":\"d29d9a60e4fc61a19ed6ff410c844ab703faa972aa3242105a317783e08469f3\",\"blockNo\":9193582,\"slotNo\":101164711}\n",
      " >> tx submitted\n",
      " >> 1stPrize deposited\n",
      ">>>> Prize NFTs Deposited\n",
      "#########################\n",
      "\n",
      "#########################\n",
      "WaitingForOracle\n",
      "#########################\n",
      "{\"txId\":\"fa4b7a5efde77822e4a8985483260d20b7f73b13fbee5f060b465fce809baac0\"}\n",
      " >> tx signed\n",
      "{\"blockHeaderHash\":\"3633be7505743fc70b9e6e3ceffc4daff389386a11dd0919752f1316d61dc01c\",\"blockNo\":9193583,\"slotNo\":101164749}\n",
      " >> tx submitted\n",
      ">>>> Oracle has answered with 269\n",
      ">>>> Winning ticket is 5469636b657423333937 (Ticket#397)\n",
      ">>>> Snapshotted address is addr1qxamlpmk04dp6pwlue287kglsqk3sgq3xvz2r7cxqxnljyswpjujxwjglw2gelk9thqcta802lprejcu4y8dtz64uhnsj25hn2\n",
      "#########################\n",
      "\n",
      "#########################\n",
      "WaitingForNotify\n",
      "#########################\n",
      "{\"txId\":\"41bea56067cbb601fb50a52028d14aad95fe183f28d955b260bf8a02831bc067\"}\n",
      " >> tx signed\n",
      "{\"blockHeaderHash\":\"967b07e81135af6d84432d1956b721dfa9a19fbb5bbfa06ff0562df45cd49d45\",\"blockNo\":9193587,\"slotNo\":101164783}\n",
      " >> tx submitted\n",
      " >> Notified\n",
      "#########################\n",
      "\n",
      "#########################\n",
      "WaitingForNotify\n",
      "#########################\n",
      "{\"txId\":\"7cd79d2a2fc578c896c970627ddfb8234d04165fe2a98fd8429f3d95464a89d2\"}\n",
      " >> tx signed\n",
      "{\"blockHeaderHash\":\"a453e223369042b243dd032dda6322f42c590bb2ff41deef81eacdc807f4cef6\",\"blockNo\":9193591,\"slotNo\":101164812}\n",
      " >> tx submitted\n",
      " >> Notified\n",
      "#########################\n",
      "\n",
      "#########################\n",
      "WaitingForNotify\n",
      "#########################\n",
      "{\"txId\":\"be8e8ba36f6b2f6a376f950fbd675416f04d2ff258a1ce35de402ef7c877a516\"}\n",
      " >> tx signed\n",
      "{\"blockHeaderHash\":\"a12379b1a168624b8437a06f6082906b95c45541033aade045c8249318bee4a3\",\"blockNo\":9193593,\"slotNo\":101164851}\n",
      " >> tx submitted\n",
      " >> Notified\n",
      "#########################\n",
      "\n",
      "#########################\n",
      "WaitingForNotify\n",
      "#########################\n",
      "{\"txId\":\"85ab1b582663384b45a9b2d4b65d6b3fa214b975705286ee24d710e7af28b1be\"}\n",
      " >> tx signed\n",
      "{\"blockHeaderHash\":\"4972b1158863b8c98301d779dcc1561179d810eae5540ef395563e653501903e\",\"blockNo\":9193595,\"slotNo\":101164873}\n",
      " >> tx submitted\n",
      " >> Notified\n",
      "#########################\n",
      "\n",
      "#########################\n",
      "Raffle Closed\n",
      "#########################\n"
     ]
    }
   ],
   "source": [
    "ExecuteRaffle first-prize.config first-prize.addresses first-prize.token $PRIZE1_CONTRACT"
   ]
  },
  {
   "cell_type": "markdown",
   "id": "2a0f7592-93e2-471a-b678-75e431d978d0",
   "metadata": {},
   "source": [
    "View the contract on MarloweScan."
   ]
  },
  {
   "cell_type": "code",
   "execution_count": 15,
   "id": "67e811b7-b1ff-4c2d-a8ff-8d5754aad60a",
   "metadata": {
    "tags": [],
    "vscode": {
     "languageId": "shellscript"
    }
   },
   "outputs": [
    {
     "name": "stdout",
     "output_type": "stream",
     "text": [
      "https://mainnet.marlowescan.com/contractView?tab=tx-list&contractId=d376f1d11b5781d707e4401b625c9a088ceed201ee5bf6a905d39e212796a066%231\n"
     ]
    }
   ],
   "source": [
    "echo \"https://mainnet.marlowescan.com/contractView?tab=tx-list&contractId=${PRIZE1_CONTRACT%%#1}%231\""
   ]
  },
  {
   "cell_type": "markdown",
   "id": "d86993df-9474-4ee5-9487-ee1177309156",
   "metadata": {},
   "source": [
    "Record the random number from that the oracle choose, listed in the output above."
   ]
  },
  {
   "cell_type": "code",
   "execution_count": 16,
   "id": "bb0d47d1-9012-4ac6-864c-387eca178b81",
   "metadata": {
    "tags": [],
    "vscode": {
     "languageId": "shellscript"
    }
   },
   "outputs": [],
   "source": [
    "PRIZE1_CHOICE=269"
   ]
  },
  {
   "cell_type": "markdown",
   "id": "b2652db2-6a36-4474-a02c-0a642ae631cd",
   "metadata": {},
   "source": [
    "Compute the address of the winner and view their prize on an explorer."
   ]
  },
  {
   "cell_type": "code",
   "execution_count": 17,
   "id": "ecb0086f-2662-455b-8cdc-588728dfc3a1",
   "metadata": {
    "tags": [],
    "vscode": {
     "languageId": "shellscript"
    }
   },
   "outputs": [
    {
     "name": "stdout",
     "output_type": "stream",
     "text": [
      "PRIZE1_WINNER = addr1qxamlpmk04dp6pwlue287kglsqk3sgq3xvz2r7cxqxnljyswpjujxwjglw2gelk9thqcta802lprejcu4y8dtz64uhnsj25hn2\n",
      "https://cardanoscan.io/address/addr1qxamlpmk04dp6pwlue287kglsqk3sgq3xvz2r7cxqxnljyswpjujxwjglw2gelk9thqcta802lprejcu4y8dtz64uhnsj25hn2\n"
     ]
    }
   ],
   "source": [
    "PRIZE1_WINNER=$(jq -r \".[$PRIZE1_CHOICE].payment_address\" first-prize.addresses)\n",
    "echo \"PRIZE1_WINNER = $PRIZE1_WINNER\"\n",
    "echo \"https://cardanoscan.io/address/$PRIZE1_WINNER\""
   ]
  },
  {
   "cell_type": "markdown",
   "id": "005a3b8d-809e-494f-9f10-824595ad8910",
   "metadata": {},
   "source": [
    "### Run the raffle for the second prize\n",
    "\n",
    "First create the file that describes the role token holding the second prize."
   ]
  },
  {
   "cell_type": "code",
   "execution_count": 18,
   "id": "6974befd-366e-4889-9f7f-fb46f08b9d56",
   "metadata": {
    "tags": [],
    "vscode": {
     "languageId": "shellscript"
    }
   },
   "outputs": [
    {
     "name": "stdout",
     "output_type": "stream",
     "text": [
      "[\n",
      "    [\n",
      "        \"8bb3b343d8e404472337966a722150048c768d0a92a9813596c5338d\",\n",
      "        \"2ndPrize\"\n",
      "    ]\n",
      "]\n"
     ]
    }
   ],
   "source": [
    "cat << EOI > second-prize.token\n",
    "[\n",
    "    [\n",
    "        \"$PRIZE2_POLICY\",\n",
    "        \"$PRIZE2_NAME\"\n",
    "    ]\n",
    "]\n",
    "EOI\n",
    "cat second-prize.token"
   ]
  },
  {
   "cell_type": "markdown",
   "id": "bb623faf-5c53-441a-b1aa-87596a82fac8",
   "metadata": {
    "tags": []
   },
   "source": [
    "Now create the file for those eligible for the second prize by deleting the entry for the first prize."
   ]
  },
  {
   "cell_type": "code",
   "execution_count": 19,
   "id": "0d2f380c-8a89-4df6-a35f-37a1a88b5fff",
   "metadata": {
    "tags": [],
    "vscode": {
     "languageId": "shellscript"
    }
   },
   "outputs": [],
   "source": [
    "jq \"del(.[$PRIZE1_CHOICE])\" first-prize.addresses > second-prize.addresses"
   ]
  },
  {
   "cell_type": "markdown",
   "id": "d66ea491-a53e-47e2-bf55-6f54c936d987",
   "metadata": {},
   "source": [
    "Now create the configuration file for running the raffle."
   ]
  },
  {
   "cell_type": "code",
   "execution_count": 20,
   "id": "0f67d9ed-8dfa-4595-9831-7339889eeee2",
   "metadata": {
    "tags": [],
    "vscode": {
     "languageId": "shellscript"
    }
   },
   "outputs": [
    {
     "name": "stdout",
     "output_type": "stream",
     "text": [
      "{\n",
      "    \"chunkSize\": 5,\n",
      "    \"deadlines\": {\n",
      "        \"deposit\": \"3d\",\n",
      "        \"selectWinner\": \"3d\",\n",
      "        \"payout\": \"3d\"\n",
      "    },\n",
      "    \"runtimeURI\": {\n",
      "        \"proxy_host\": \"34.70.189.123\",\n",
      "        \"proxy_port\": 3700,\n",
      "        \"web_host\": \"34.70.189.123\",\n",
      "        \"web_port\": 3780\n",
      "    },\n",
      "    \"sponsorAddressFilePath\": \"sponsor.mainnet.address\",\n",
      "    \"sponsorCollateralFilePath\": \"not-used\",\n",
      "    \"sponsorPrivateKeyFilePath\": \"sponsor.skey\",\n",
      "    \"contract\": \"second-prize.contract\",\n",
      "    \"state\": \"second-prize.state\",\n",
      "    \"tmpTxToSign\": \"temp.unsigned\",\n",
      "    \"tmpTxToSubmit\": \"temp.signed\"\n",
      "}\n"
     ]
    }
   ],
   "source": [
    "yaml2json << EOI > second-prize.config\n",
    "chunkSize: 5          # Danger: do not change the chunk size.\n",
    "deadlines:\n",
    "  deposit: 3d         # Deadline for depositing the prize token.\n",
    "  selectWinner: 3d    # Deadline for selecting the winner.\n",
    "  payout: 3d          # Deadline for paying the winner.\n",
    "runtimeURI:\n",
    "  proxy_host: 34.70.189.123  # The IP address of Marlowe Runtime v0.0.4. Use $MARLOWE_RT_HOST if a backup is needed.\n",
    "  proxy_port: 3700           # The port number for Marlowe Runtime's proxy service. Use $MARLOWE_RT_PORT for the backup.\n",
    "  web_host: 34.70.189.123    # The IP address of Marlowe Runtime v0.0.4. Use $MARLOWE_RT_WEBSERVER_HOST if a backup is needed.\n",
    "  web_port: 3780             # The port number for Marlowe Runtime's web server. Use $MARLOWE_RT_WEBSERVER_PORT for the backup.\n",
    "sponsorAddressFilePath: sponsor.mainnet.address\n",
    "sponsorCollateralFilePath: not-used\n",
    "sponsorPrivateKeyFilePath: sponsor.skey\n",
    "contract: second-prize.contract\n",
    "state: second-prize.state\n",
    "tmpTxToSign: temp.unsigned\n",
    "tmpTxToSubmit: temp.signed\n",
    "EOI\n",
    "cat second-prize.config"
   ]
  },
  {
   "cell_type": "markdown",
   "id": "b0036de7-dd43-4982-9d60-3a30f445643e",
   "metadata": {},
   "source": [
    "Now build and submit the transaction that initializes the raffle."
   ]
  },
  {
   "cell_type": "code",
   "execution_count": 21,
   "id": "b4f121c1-e161-4ddc-bf6f-f45541bf5f5e",
   "metadata": {
    "tags": [],
    "vscode": {
     "languageId": "shellscript"
    }
   },
   "outputs": [
    {
     "name": "stdout",
     "output_type": "stream",
     "text": [
      "#########################\n",
      "Raffle Contract Generation & Initialisation\n",
      "-------------------------\n",
      " >> Raffle Contract saved in : second-prize.contract\n",
      "-------------------------\n",
      "Raffle Contract Generated\n",
      "-------------------------\n",
      " >> Contract stored with hash: 3fe725888131d35ca90fc2bff3293c1e74b3fc8dddbc3f7a859f6e5a4da700c7\n",
      "Safety analysis found the following errors in the contract:\n",
      "- detail: The safety analysis exceeded the allotted time.\n",
      "  error: SafetyAnalysisTimeout\n",
      "  fatal: false\n",
      "\n",
      "{\"contractId\":\"c7279ba01b869f38eecd8e878f5bf13cee7797d29ea8980654e3ca92e80c47f9#1\"}\n",
      " >> tx signed\n",
      "{\"blockHeaderHash\":\"9607fad1cda03ffce2532f1f65e27c46f517e92325c7a95f8d310b559221707f\",\"blockNo\":9193600,\"slotNo\":101165018}\n",
      " >> tx submitted\n",
      " >> Contract initialzed (tx appended)\n",
      "-------------------------\n",
      "Raffle Contract Initialized : {\"contractId\":\"c7279ba01b869f38eecd8e878f5bf13cee7797d29ea8980654e3ca92e80c47f9#1\"}\n",
      "-------------------------\n",
      "#########################\n",
      "{\"contractId\":\"c7279ba01b869f38eecd8e878f5bf13cee7797d29ea8980654e3ca92e80c47f9#1\"}\n"
     ]
    }
   ],
   "source": [
    "InitializeRaffle second-prize.config second-prize.addresses second-prize.token"
   ]
  },
  {
   "cell_type": "markdown",
   "id": "62ae25ab-ea9f-479a-bd1c-06ef534981c7",
   "metadata": {},
   "source": [
    "Record the contract ID that was printed."
   ]
  },
  {
   "cell_type": "code",
   "execution_count": 22,
   "id": "0a3f05ad-aa18-469c-a7d3-01bf5ea59700",
   "metadata": {
    "tags": [],
    "vscode": {
     "languageId": "shellscript"
    }
   },
   "outputs": [],
   "source": [
    "PRIZE2_CONTRACT=c7279ba01b869f38eecd8e878f5bf13cee7797d29ea8980654e3ca92e80c47f9#1"
   ]
  },
  {
   "cell_type": "markdown",
   "id": "03a001ca-decc-4a62-87fc-194179a27b66",
   "metadata": {
    "tags": []
   },
   "source": [
    "Run the raffle itself, which consists of several transactions."
   ]
  },
  {
   "cell_type": "code",
   "execution_count": 23,
   "id": "4fec86b5-7bb3-48fe-9998-4f0388acac47",
   "metadata": {
    "tags": [],
    "vscode": {
     "languageId": "shellscript"
    }
   },
   "outputs": [
    {
     "name": "stdout",
     "output_type": "stream",
     "text": [
      "\n",
      "#########################\n",
      "WaitingForPrizeDeposit\n",
      " >> Depositing 2ndPrize\n",
      "{\"txId\":\"5c7314f40423d1891c049ba30c0cbde1b7a1f0583b2d24e017adec5c81fc8d96\"}\n",
      " >> tx signed\n",
      "{\"blockHeaderHash\":\"00c7fc45172856446cb77503f7af5e9d16cf6c7bd84f844418a5a426d70bf077\",\"blockNo\":9193602,\"slotNo\":101165069}\n",
      " >> tx submitted\n",
      " >> 2ndPrize deposited\n",
      ">>>> Prize NFTs Deposited\n",
      "#########################\n",
      "\n",
      "#########################\n",
      "WaitingForOracle\n",
      "#########################\n",
      "{\"txId\":\"88d9e32aebd90c444b62a45fe40f16b34642c440b217ba5f30426dc4b5c92c67\"}\n",
      " >> tx signed\n",
      "{\"blockHeaderHash\":\"8772347b596d7f1f877f3f550c22119c086e2ab858104c35562e68f02ed93549\",\"blockNo\":9193604,\"slotNo\":101165098}\n",
      " >> tx submitted\n",
      ">>>> Oracle has answered with 417\n",
      ">>>> Winning ticket is 5469636b657423323632 (Ticket#262)\n",
      ">>>> Snapshotted address is addr1qynqs73tdgy4g8qxm4zhxagc9ntgz4574px9de93sdw4h29n3kr657fpa3q8mzwmjqvl9lqdn9g2pm3ejhlgwpprwy2s5gr25w\n",
      "#########################\n",
      "\n",
      "#########################\n",
      "WaitingForNotify\n",
      "#########################\n",
      "{\"txId\":\"1d186a478e96b90188e4bb8f2d9d9f4b39d81a42eb9835effa51fe1bb6e6ecb6\"}\n",
      " >> tx signed\n",
      "{\"blockHeaderHash\":\"c99d03d0d16cc4542a0fca02ccbbfc11bfa8676a529b8a1b682d0498b2f53476\",\"blockNo\":9193606,\"slotNo\":101165120}\n",
      " >> tx submitted\n",
      " >> Notified\n",
      "#########################\n",
      "\n",
      "#########################\n",
      "WaitingForNotify\n",
      "#########################\n",
      "{\"txId\":\"53659f983750b9aede362bfefadc2775fdc4ec49bfd2482cba486b8c61f9de47\"}\n",
      " >> tx signed\n",
      "{\"blockHeaderHash\":\"5b6cfaa26b6c5b67e769f8635c62f3cbb3397b607cfa0a55848fbe0166b1b034\",\"blockNo\":9193608,\"slotNo\":101165157}\n",
      " >> tx submitted\n",
      " >> Notified\n",
      "#########################\n",
      "\n",
      "#########################\n",
      "WaitingForNotify\n",
      "#########################\n",
      "{\"txId\":\"5bd8de967f28213832d35b2efe2a8e595a75a496748d610e6ccc26966bfd0e9e\"}\n",
      " >> tx signed\n",
      "{\"blockHeaderHash\":\"30297f0d1c41d10c6fe0ca04334ba44ed0062b8ac7fcbdd73e32c1490e12d59c\",\"blockNo\":9193611,\"slotNo\":101165182}\n",
      " >> tx submitted\n",
      " >> Notified\n",
      "#########################\n",
      "\n",
      "#########################\n",
      "WaitingForNotify\n",
      "#########################\n",
      "{\"txId\":\"f04b7b8c3ed5d55e51872806342b2cdf8e95e5caf11307e15af7386ec255302a\"}\n",
      " >> tx signed\n",
      "{\"blockHeaderHash\":\"983a4034f5fd98ba4829feedfb51d4d7be09bb3fdc5dc2d66c9f3651dfca526f\",\"blockNo\":9193612,\"slotNo\":101165227}\n",
      " >> tx submitted\n",
      " >> Notified\n",
      "#########################\n",
      "\n",
      "#########################\n",
      "Raffle Closed\n",
      "#########################\n"
     ]
    }
   ],
   "source": [
    "ExecuteRaffle second-prize.config second-prize.addresses second-prize.token $PRIZE2_CONTRACT"
   ]
  },
  {
   "cell_type": "markdown",
   "id": "d9082169-cf4f-4ebf-9c22-4f0298018741",
   "metadata": {},
   "source": [
    "View the contract on MarloweScan."
   ]
  },
  {
   "cell_type": "code",
   "execution_count": 24,
   "id": "2efff164-eceb-4055-bd4c-44ccf923cb12",
   "metadata": {
    "tags": [],
    "vscode": {
     "languageId": "shellscript"
    }
   },
   "outputs": [
    {
     "name": "stdout",
     "output_type": "stream",
     "text": [
      "https://mainnet.marlowescan.com/contractView?tab=tx-list&contractId=c7279ba01b869f38eecd8e878f5bf13cee7797d29ea8980654e3ca92e80c47f9%231\n"
     ]
    }
   ],
   "source": [
    "echo \"https://mainnet.marlowescan.com/contractView?tab=tx-list&contractId=${PRIZE2_CONTRACT%%#1}%231\""
   ]
  },
  {
   "cell_type": "markdown",
   "id": "1c7fdf80-2b04-4a7a-9838-50c3d0498206",
   "metadata": {},
   "source": [
    "Record the random number from that the oracle choose, listed in the output above."
   ]
  },
  {
   "cell_type": "code",
   "execution_count": 25,
   "id": "a6678eb4-7222-4202-98fc-cbc8673e0457",
   "metadata": {
    "tags": [],
    "vscode": {
     "languageId": "shellscript"
    }
   },
   "outputs": [],
   "source": [
    "PRIZE2_CHOICE=417"
   ]
  },
  {
   "cell_type": "markdown",
   "id": "3dea7d9d-94cf-491a-a637-ba24db08c853",
   "metadata": {},
   "source": [
    "Compute the address of the winner and view their prize on an explorer."
   ]
  },
  {
   "cell_type": "code",
   "execution_count": 26,
   "id": "0118fa3a-78ae-452e-b847-f1f9bbfb57df",
   "metadata": {
    "tags": [],
    "vscode": {
     "languageId": "shellscript"
    }
   },
   "outputs": [
    {
     "name": "stdout",
     "output_type": "stream",
     "text": [
      "PRIZE2_WINNER = addr1qynqs73tdgy4g8qxm4zhxagc9ntgz4574px9de93sdw4h29n3kr657fpa3q8mzwmjqvl9lqdn9g2pm3ejhlgwpprwy2s5gr25w\n",
      "https://cardanoscan.io/address/addr1qynqs73tdgy4g8qxm4zhxagc9ntgz4574px9de93sdw4h29n3kr657fpa3q8mzwmjqvl9lqdn9g2pm3ejhlgwpprwy2s5gr25w\n"
     ]
    }
   ],
   "source": [
    "PRIZE2_WINNER=$(jq -r \".[$PRIZE2_CHOICE].payment_address\" second-prize.addresses)\n",
    "echo \"PRIZE2_WINNER = $PRIZE2_WINNER\"\n",
    "echo \"https://cardanoscan.io/address/$PRIZE2_WINNER\""
   ]
  },
  {
   "cell_type": "markdown",
   "id": "067ff5ae-4ffc-47c5-a642-eaffde4226e3",
   "metadata": {},
   "source": [
    "### Run the raffle for the thrid prize\n",
    "\n",
    "First create the file that describes the role token holding the third prize."
   ]
  },
  {
   "cell_type": "code",
   "execution_count": 27,
   "id": "cc8f83a9-bdfa-4662-8284-9e81831dcf14",
   "metadata": {
    "tags": [],
    "vscode": {
     "languageId": "shellscript"
    }
   },
   "outputs": [
    {
     "name": "stdout",
     "output_type": "stream",
     "text": [
      "[\n",
      "    [\n",
      "        \"8bb3b343d8e404472337966a722150048c768d0a92a9813596c5338d\",\n",
      "        \"3rdPrize\"\n",
      "    ]\n",
      "]\n"
     ]
    }
   ],
   "source": [
    "cat << EOI > third-prize.token\n",
    "[\n",
    "    [\n",
    "        \"$PRIZE3_POLICY\",\n",
    "        \"$PRIZE3_NAME\"\n",
    "    ]\n",
    "]\n",
    "EOI\n",
    "cat third-prize.token"
   ]
  },
  {
   "cell_type": "markdown",
   "id": "0a5b1634-c01b-42ee-83f5-b347c3a9fb45",
   "metadata": {
    "tags": []
   },
   "source": [
    "Now create the file for those eligible for the second prize by deleting the entry for the second prize."
   ]
  },
  {
   "cell_type": "code",
   "execution_count": 28,
   "id": "3bc1b99f-6ccc-4a92-b3fc-8fb196becf69",
   "metadata": {
    "tags": [],
    "vscode": {
     "languageId": "shellscript"
    }
   },
   "outputs": [],
   "source": [
    "jq \"del(.[$PRIZE2_CHOICE])\" second-prize.addresses > third-prize.addresses"
   ]
  },
  {
   "cell_type": "markdown",
   "id": "69bbcb78-d1bc-487c-bbee-9ba8631b3e33",
   "metadata": {},
   "source": [
    "Now create the configuration file for running the raffle."
   ]
  },
  {
   "cell_type": "code",
   "execution_count": 29,
   "id": "9198b3d4-e1c8-4321-b38d-4a0079b63064",
   "metadata": {
    "tags": [],
    "vscode": {
     "languageId": "shellscript"
    }
   },
   "outputs": [
    {
     "name": "stdout",
     "output_type": "stream",
     "text": [
      "{\n",
      "    \"chunkSize\": 5,\n",
      "    \"deadlines\": {\n",
      "        \"deposit\": \"3d\",\n",
      "        \"selectWinner\": \"3d\",\n",
      "        \"payout\": \"3d\"\n",
      "    },\n",
      "    \"runtimeURI\": {\n",
      "        \"proxy_host\": \"34.70.189.123\",\n",
      "        \"proxy_port\": 3700,\n",
      "        \"web_host\": \"34.70.189.123\",\n",
      "        \"web_port\": 3780\n",
      "    },\n",
      "    \"sponsorAddressFilePath\": \"sponsor.mainnet.address\",\n",
      "    \"sponsorCollateralFilePath\": \"not-used\",\n",
      "    \"sponsorPrivateKeyFilePath\": \"sponsor.skey\",\n",
      "    \"contract\": \"third-prize.contract\",\n",
      "    \"state\": \"third-prize.state\",\n",
      "    \"tmpTxToSign\": \"temp.unsigned\",\n",
      "    \"tmpTxToSubmit\": \"temp.signed\"\n",
      "}\n"
     ]
    }
   ],
   "source": [
    "yaml2json << EOI > third-prize.config\n",
    "chunkSize: 5          # Danger: do not change the chunk size.\n",
    "deadlines:\n",
    "  deposit: 3d         # Deadline for depositing the prize token.\n",
    "  selectWinner: 3d    # Deadline for selecting the winner.\n",
    "  payout: 3d          # Deadline for paying the winner.\n",
    "runtimeURI:\n",
    "  proxy_host: 34.70.189.123  # The IP address of Marlowe Runtime v0.0.4. Use $MARLOWE_RT_HOST if a backup is needed.\n",
    "  proxy_port: 3700           # The port number for Marlowe Runtime's proxy service. Use $MARLOWE_RT_PORT for the backup.\n",
    "  web_host: 34.70.189.123    # The IP address of Marlowe Runtime v0.0.4. Use $MARLOWE_RT_WEBSERVER_HOST if a backup is needed.\n",
    "  web_port: 3780             # The port number for Marlowe Runtime's web server. Use $MARLOWE_RT_WEBSERVER_PORT for the backup.\n",
    "sponsorAddressFilePath: sponsor.mainnet.address\n",
    "sponsorCollateralFilePath: not-used\n",
    "sponsorPrivateKeyFilePath: sponsor.skey\n",
    "contract: third-prize.contract\n",
    "state: third-prize.state\n",
    "tmpTxToSign: temp.unsigned\n",
    "tmpTxToSubmit: temp.signed\n",
    "EOI\n",
    "cat third-prize.config"
   ]
  },
  {
   "cell_type": "markdown",
   "id": "b24930dc-1f58-4391-a00b-889b3a92cc88",
   "metadata": {},
   "source": [
    "Now build and submit the transaction that initializes the raffle."
   ]
  },
  {
   "cell_type": "code",
   "execution_count": 30,
   "id": "17e06f2f-5298-417a-aea7-b8594e5c6b2d",
   "metadata": {
    "tags": [],
    "vscode": {
     "languageId": "shellscript"
    }
   },
   "outputs": [
    {
     "name": "stdout",
     "output_type": "stream",
     "text": [
      "#########################\n",
      "Raffle Contract Generation & Initialisation\n",
      "-------------------------\n",
      " >> Raffle Contract saved in : third-prize.contract\n",
      "-------------------------\n",
      "Raffle Contract Generated\n",
      "-------------------------\n",
      " >> Contract stored with hash: 0da7173204450959800413ec09548839cb9c23be3f88c7963157fdcd42809a2e\n",
      "Safety analysis found the following errors in the contract:\n",
      "- detail: The safety analysis exceeded the allotted time.\n",
      "  error: SafetyAnalysisTimeout\n",
      "  fatal: false\n",
      "\n",
      "{\"contractId\":\"a59d76212b95f905b664b126b84df8deeb824a901ba91f684eebff62ba4a39f4#1\"}\n",
      " >> tx signed\n",
      "{\"blockHeaderHash\":\"92d1d0601595faefb62f72acba1a3c70c14547deac15013bf394dc9c88bd29a7\",\"blockNo\":9193618,\"slotNo\":101165387}\n",
      " >> tx submitted\n",
      " >> Contract initialzed (tx appended)\n",
      "-------------------------\n",
      "Raffle Contract Initialized : {\"contractId\":\"a59d76212b95f905b664b126b84df8deeb824a901ba91f684eebff62ba4a39f4#1\"}\n",
      "-------------------------\n",
      "#########################\n",
      "{\"contractId\":\"a59d76212b95f905b664b126b84df8deeb824a901ba91f684eebff62ba4a39f4#1\"}\n"
     ]
    }
   ],
   "source": [
    "InitializeRaffle third-prize.config third-prize.addresses third-prize.token"
   ]
  },
  {
   "cell_type": "markdown",
   "id": "12262727-3f5c-4b56-aa55-c78396907add",
   "metadata": {},
   "source": [
    "Record the contract ID that was printed."
   ]
  },
  {
   "cell_type": "code",
   "execution_count": 31,
   "id": "54c96c16-5fee-41b3-9d08-550371c115b8",
   "metadata": {
    "tags": [],
    "vscode": {
     "languageId": "shellscript"
    }
   },
   "outputs": [],
   "source": [
    "PRIZE3_CONTRACT=a59d76212b95f905b664b126b84df8deeb824a901ba91f684eebff62ba4a39f4#1"
   ]
  },
  {
   "cell_type": "markdown",
   "id": "31e55302-2424-4fcc-983b-e04a24733459",
   "metadata": {
    "tags": []
   },
   "source": [
    "Run the raffle itself, which consists of several transactions."
   ]
  },
  {
   "cell_type": "code",
   "execution_count": 32,
   "id": "b9e5e2c5-3c8b-402e-b331-bb150d59195e",
   "metadata": {
    "tags": [],
    "vscode": {
     "languageId": "shellscript"
    }
   },
   "outputs": [
    {
     "name": "stdout",
     "output_type": "stream",
     "text": [
      "\n",
      "#########################\n",
      "WaitingForPrizeDeposit\n",
      " >> Depositing 3rdPrize\n",
      "{\"txId\":\"ca2e42c3c1518f8a90ba0caf7b523cf3ed6a5527edc9a518c86cea00c76fe57d\"}\n",
      " >> tx signed\n",
      "{\"blockHeaderHash\":\"eb487d06c184a63f4fac3b5edb12f7c006f1a7b3512f032cd137973f24173ab0\",\"blockNo\":9193620,\"slotNo\":101165427}\n",
      " >> tx submitted\n",
      " >> 3rdPrize deposited\n",
      ">>>> Prize NFTs Deposited\n",
      "#########################\n",
      "\n",
      "#########################\n",
      "WaitingForOracle\n",
      "#########################\n",
      "{\"txId\":\"60f6ddbf070b013ddd7732a3dc146d3c233b5ae4e50f0e61aa45bb58548b3445\"}\n",
      " >> tx signed\n",
      "{\"blockHeaderHash\":\"0483ebbdac44eee819ce7fb87a462a94e06fd0c8606e3f07cd23e557912e25e4\",\"blockNo\":9193622,\"slotNo\":101165467}\n",
      " >> tx submitted\n",
      ">>>> Oracle has answered with 235\n",
      ">>>> Winning ticket is 5469636b657423343237 (Ticket#427)\n",
      ">>>> Snapshotted address is addr1qx0xrn7nch3w9fejlz9qh420kxmkwq9k4205ts9ey49gp39n3kr657fpa3q8mzwmjqvl9lqdn9g2pm3ejhlgwpprwy2sy5v7gj\n",
      "#########################\n",
      "\n",
      "#########################\n",
      "WaitingForNotify\n",
      "#########################\n",
      "{\"txId\":\"528247bdc20d3c82950a1cfa280994792fd1f6cf6e81b617b3a4bb769a69a0f0\"}\n",
      " >> tx signed\n",
      "{\"blockHeaderHash\":\"fe5a055b23a90269876b91a5436396d7a21b0bbcc3f072eac1f916c4bb53e051\",\"blockNo\":9193625,\"slotNo\":101165525}\n",
      " >> tx submitted\n",
      " >> Notified\n",
      "#########################\n",
      "\n",
      "#########################\n",
      "WaitingForNotify\n",
      "#########################\n",
      "{\"txId\":\"0cec49c9e2e449214ef46099dd801ab7fc29c1b8c7674db05773436199043514\"}\n",
      " >> tx signed\n",
      "{\"blockHeaderHash\":\"c7697e17c3de2595732ef2808cbf973b43d6dd8939f911f206be624c3228869b\",\"blockNo\":9193627,\"slotNo\":101165555}\n",
      " >> tx submitted\n",
      " >> Notified\n",
      "#########################\n",
      "\n",
      "#########################\n",
      "WaitingForNotify\n",
      "#########################\n",
      "{\"txId\":\"3a26e5dc4db8aea95a5b21321277e1d9dec13e2cb9636ca4f6c4dbb8d9129c41\"}\n",
      " >> tx signed\n",
      "{\"blockHeaderHash\":\"5161cce616a1f4f50e9446f5422d24719b215f8f7fb8989e741d7a27a6e27c1e\",\"blockNo\":9193628,\"slotNo\":101165605}\n",
      " >> tx submitted\n",
      " >> Notified\n",
      "#########################\n",
      "\n",
      "#########################\n",
      "WaitingForNotify\n",
      "#########################\n",
      "{\"txId\":\"000f7b092f2d5f806f2aab57b5adf8f9c512f8c01dc7b77de52f9609adb3ddea\"}\n",
      " >> tx signed\n",
      "{\"blockHeaderHash\":\"da31c80c4cc2eeabbe1d6537008fcf08b2f0129320bba1fac2edf6589dd4c306\",\"blockNo\":9193632,\"slotNo\":101165662}\n",
      " >> tx submitted\n",
      " >> Notified\n",
      "#########################\n",
      "\n",
      "#########################\n",
      "Raffle Closed\n",
      "#########################\n"
     ]
    }
   ],
   "source": [
    "ExecuteRaffle third-prize.config third-prize.addresses third-prize.token $PRIZE3_CONTRACT"
   ]
  },
  {
   "cell_type": "markdown",
   "id": "f8986fb8-8c43-436b-9071-51dc0655bc13",
   "metadata": {},
   "source": [
    "View the contract on MarloweScan."
   ]
  },
  {
   "cell_type": "code",
   "execution_count": 33,
   "id": "c348e101-c7b6-478c-a45e-d008c7645903",
   "metadata": {
    "tags": [],
    "vscode": {
     "languageId": "shellscript"
    }
   },
   "outputs": [
    {
     "name": "stdout",
     "output_type": "stream",
     "text": [
      "https://mainnet.marlowescan.com/contractView?tab=tx-list&contractId=a59d76212b95f905b664b126b84df8deeb824a901ba91f684eebff62ba4a39f4%231\n"
     ]
    }
   ],
   "source": [
    "echo \"https://mainnet.marlowescan.com/contractView?tab=tx-list&contractId=${PRIZE3_CONTRACT%%#1}%231\""
   ]
  },
  {
   "cell_type": "markdown",
   "id": "5f15dd39-3b1f-4c4b-aa3d-b7dee2317b5e",
   "metadata": {},
   "source": [
    "Record the random number from that the oracle choose, listed in the output above."
   ]
  },
  {
   "cell_type": "code",
   "execution_count": 34,
   "id": "509992e6-3e8d-4e1e-bfc6-174fad5092d3",
   "metadata": {
    "tags": [],
    "vscode": {
     "languageId": "shellscript"
    }
   },
   "outputs": [],
   "source": [
    "PRIZE3_CHOICE=235"
   ]
  },
  {
   "cell_type": "markdown",
   "id": "b76c1034-132f-4a44-907e-b449014ec956",
   "metadata": {},
   "source": [
    "Compute the address of the winner and view their prize on an explorer."
   ]
  },
  {
   "cell_type": "code",
   "execution_count": 35,
   "id": "ed2a82a2-1647-41df-9e7a-47d09d480b6f",
   "metadata": {
    "tags": [],
    "vscode": {
     "languageId": "shellscript"
    }
   },
   "outputs": [
    {
     "name": "stdout",
     "output_type": "stream",
     "text": [
      "PRIZE3_WINNER = addr1qx0xrn7nch3w9fejlz9qh420kxmkwq9k4205ts9ey49gp39n3kr657fpa3q8mzwmjqvl9lqdn9g2pm3ejhlgwpprwy2sy5v7gj\n",
      "https://cardanoscan.io/address/addr1qx0xrn7nch3w9fejlz9qh420kxmkwq9k4205ts9ey49gp39n3kr657fpa3q8mzwmjqvl9lqdn9g2pm3ejhlgwpprwy2sy5v7gj\n"
     ]
    }
   ],
   "source": [
    "PRIZE3_WINNER=$(jq -r \".[$PRIZE3_CHOICE].payment_address\" third-prize.addresses)\n",
    "echo \"PRIZE3_WINNER = $PRIZE3_WINNER\"\n",
    "echo \"https://cardanoscan.io/address/$PRIZE3_WINNER\""
   ]
  }
 ],
 "metadata": {
  "kernelspec": {
   "display_name": "Bash",
   "language": "bash",
   "name": "bash"
  },
  "language_info": {
   "codemirror_mode": "shell",
   "file_extension": ".sh",
   "mimetype": "text/x-sh",
   "name": "bash"
  }
 },
 "nbformat": 4,
 "nbformat_minor": 5
}
