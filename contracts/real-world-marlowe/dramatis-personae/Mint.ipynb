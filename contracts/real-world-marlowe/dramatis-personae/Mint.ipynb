{
 "cells": [
  {
   "cell_type": "markdown",
   "id": "f874df9a-9fa6-4d8a-904f-bc9ce8f810a3",
   "metadata": {},
   "source": [
    "# Mint Role Tokens"
   ]
  },
  {
   "cell_type": "markdown",
   "id": "e4a6b8f2-954a-4235-9202-452176a83883",
   "metadata": {},
   "source": [
    "## Set Up"
   ]
  },
  {
   "cell_type": "markdown",
   "id": "835f4adb-0f9f-456b-84ab-642b4cb394c9",
   "metadata": {},
   "source": [
    "Use the `preprod` testnet."
   ]
  },
  {
   "cell_type": "code",
   "execution_count": 1,
   "id": "968d0cde-0523-4bbe-834f-716f22daec64",
   "metadata": {},
   "outputs": [],
   "source": [
    ". ../preprod.env"
   ]
  },
  {
   "cell_type": "markdown",
   "id": "1af3d0e0-530b-4ad0-80c0-a052588aedff",
   "metadata": {},
   "source": [
    "Use the standard example roles."
   ]
  },
  {
   "cell_type": "code",
   "execution_count": 2,
   "id": "6d634557-7da1-4468-b787-d378a6802909",
   "metadata": {},
   "outputs": [],
   "source": [
    ". roles.env"
   ]
  },
  {
   "cell_type": "markdown",
   "id": "4735cc13-e755-41f1-a5c4-355d4ccda6d3",
   "metadata": {},
   "source": [
    "## Mint"
   ]
  },
  {
   "cell_type": "markdown",
   "id": "c566f8e5-646c-4aad-9624-15c0f9b761cb",
   "metadata": {},
   "source": [
    "Mint the role tokens."
   ]
  },
  {
   "cell_type": "code",
   "execution_count": 3,
   "id": "fbf3bae1-f3d9-4e6b-a91c-3da83171f747",
   "metadata": {},
   "outputs": [
    {
     "name": "stdout",
     "output_type": "stream",
     "text": [
      "\n",
      "Fee: Lovelace 579497\n",
      "Size: 4901 / 16384 = 29%\n",
      "Execution units:\n",
      "  Memory: 0 / 14000000 = 0%\n",
      "  Steps: 0 / 10000000000 = 0%\n",
      "PolicyID \"8bb3b343d8e404472337966a722150048c768d0a92a9813596c5338d\"\n"
     ]
    }
   ],
   "source": [
    "marlowe-cli util mint \\\n",
    "  \"${MAGIC[@]}\" \\\n",
    "  --issuer \"$FAUCET_ADDR:$FAUCET_SKEY\" \\\n",
    "  --metadata-file metadata.json \\\n",
    "  --out-file /dev/null \\\n",
    "  --submit 600 \\\n",
    "  $(for r in \"${!ROLE_NAME[@]}\"; do echo \" ${ROLE_NAME[$r]}:${ROLE_ADDR[$r]}\"; done)"
   ]
  },
  {
   "cell_type": "markdown",
   "id": "bb856515-4b51-42a3-ad56-1f2b6f1038c7",
   "metadata": {},
   "source": [
    "## Fund"
   ]
  },
  {
   "cell_type": "markdown",
   "id": "0b1060cc-3fb2-4c27-a371-78e9cce53a5b",
   "metadata": {},
   "source": [
    "Fund the addresses."
   ]
  },
  {
   "cell_type": "code",
   "execution_count": 20,
   "id": "000bbe99-c59d-45b3-bc75-657b63c917cb",
   "metadata": {},
   "outputs": [
    {
     "name": "stdout",
     "output_type": "stream",
     "text": [
      "TxId \"ad1076f888dbf3d13fc69f2199903bbae9b4f6f150b2e13c86ad43b19d481338\"\n"
     ]
    }
   ],
   "source": [
    "marlowe-cli transaction simple \\\n",
    "  \"${MAGIC[@]}\" \\\n",
    "  --required-signer \"$FAUCET_SKEY\" \\\n",
    "  --change-address \"$FAUCET_ADDR\" \\\n",
    "  --tx-in $(marlowe-cli util select --testnet-magic 1 --lovelace-only 8000000000 $FAUCET_ADDR | sed -e 's/^TxIn \"\\(.*\\)\" (TxIx \\(.*\\))$/\\1#\\2/') \\\n",
    "  $(for r in \"${!ROLE_NAME[@]}\"; do echo \" --tx-out ${ROLE_ADDR[$r]}+1000000000\"; done) \\\n",
    "  --out-file /dev/null \\\n",
    "  --submit 600"
   ]
  }
 ],
 "metadata": {
  "kernelspec": {
   "display_name": "Bash - Marlowe",
   "language": "bash",
   "name": "bash_marlowe"
  },
  "language_info": {
   "codemirror_mode": "shell",
   "file_extension": ".sh",
   "mimetype": "text/x-sh",
   "name": "/nix/store/p7bpdnxqd3i5hwm92mrscf7mvxk66404-bash-5.1-p16/bin/bash"
  }
 },
 "nbformat": 4,
 "nbformat_minor": 5
}
