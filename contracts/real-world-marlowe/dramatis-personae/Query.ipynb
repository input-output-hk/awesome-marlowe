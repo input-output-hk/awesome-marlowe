{
 "cells": [
  {
   "cell_type": "markdown",
   "id": "5e40c40a-e899-4736-b4a3-3114bb7fc13a",
   "metadata": {},
   "source": [
    "# Query Contents of Addresses"
   ]
  },
  {
   "cell_type": "markdown",
   "id": "78741167-ba21-4ce5-93f1-f622e69ed367",
   "metadata": {},
   "source": [
    "## Set Up"
   ]
  },
  {
   "cell_type": "markdown",
   "id": "3f37de97-c9a5-4de1-acb8-d04a72bec972",
   "metadata": {},
   "source": [
    "Use the `preprod` testnet."
   ]
  },
  {
   "cell_type": "code",
   "execution_count": null,
   "id": "9dc6abae-4082-4851-946f-1c09141825f3",
   "metadata": {},
   "outputs": [],
   "source": [
    ". ../preprod.env"
   ]
  },
  {
   "cell_type": "markdown",
   "id": "26bcc7ba-f676-41ec-9f37-8b31f04ac56c",
   "metadata": {},
   "source": [
    "Use the standard example roles."
   ]
  },
  {
   "cell_type": "code",
   "execution_count": null,
   "id": "430abbff-72dc-4a1a-8366-0de1550b50c4",
   "metadata": {},
   "outputs": [],
   "source": [
    ". roles.env"
   ]
  },
  {
   "cell_type": "markdown",
   "id": "18453839-8f9f-4129-835f-88974c67bd0d",
   "metadata": {},
   "source": [
    "## Faucet"
   ]
  },
  {
   "cell_type": "markdown",
   "id": "30d7f78c-ade4-405c-b4b8-c0c3ba9b9344",
   "metadata": {},
   "source": [
    "List the UTxOs available in the faucet."
   ]
  },
  {
   "cell_type": "code",
   "execution_count": null,
   "id": "72125f26-f5c9-44b8-85c7-dff9bba97cd2",
   "metadata": {},
   "outputs": [],
   "source": [
    "query-faucet"
   ]
  },
  {
   "cell_type": "markdown",
   "id": "58af896c-8f0d-436b-83a9-6b06f2326d7d",
   "metadata": {},
   "source": [
    "## Roles"
   ]
  },
  {
   "cell_type": "markdown",
   "id": "ea42db04-fe67-4ccc-9a91-44cb42cc9518",
   "metadata": {},
   "source": [
    "List the UTxOs available for each role."
   ]
  },
  {
   "cell_type": "code",
   "execution_count": null,
   "id": "4d826458-8c4b-472c-9052-f598a154c750",
   "metadata": {},
   "outputs": [],
   "source": [
    "query-roles"
   ]
  }
 ],
 "metadata": {
  "kernelspec": {
   "display_name": "Bash - Marlowe",
   "language": "bash",
   "name": "bash_marlowe"
  },
  "language_info": {
   "codemirror_mode": "shell",
   "file_extension": ".sh",
   "mimetype": "text/x-sh",
   "name": "/nix/store/p7bpdnxqd3i5hwm92mrscf7mvxk66404-bash-5.1-p16/bin/bash"
  }
 },
 "nbformat": 4,
 "nbformat_minor": 5
}
