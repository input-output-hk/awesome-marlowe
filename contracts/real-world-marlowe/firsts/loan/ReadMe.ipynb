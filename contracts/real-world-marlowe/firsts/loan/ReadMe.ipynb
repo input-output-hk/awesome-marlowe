{
 "cells": [
  {
   "cell_type": "markdown",
   "id": "d91aee11-1c7a-49b5-b48f-4a41e1c99e35",
   "metadata": {},
   "source": [
    "## <font color=\"red\">Caution!</font>\n",
    "\n",
    "Before running a Marlowe contract on `mainnet`, it is wise to do the following in order to avoid losing funds:\n",
    "\n",
    "1. Understand the [Marlowe Language](https://marlowe.iohk.io/).\n",
    "2. Understand Cardano\\'s [Extended UTxO Model](https://docs.cardano.org/learn/eutxo-explainer).\n",
    "3. Read and understand the [Marlowe Best Practices Guide](https://github.com/input-output-hk/marlowe-cardano/blob/main/marlowe/best-practices.md).\n",
    "4. Read and understand the [Marlowe Security Guide](https://github.com/input-output-hk/marlowe-cardano/blob/main/marlowe/security.md).\n",
    "5. Use [Marlowe Playground](https://play.marlowe.iohk.io/) to flag warnings, perform static analysis, and simulate the contract.\n",
    "6. Use [Marlowe CLI\\'s](https://github.com/input-output-hk/marlowe-cardano/blob/main/marlowe-cli/ReadMe.md) `marlowe-cli run analyze` tool to study whether the contract can run on a Cardano network.\n",
    "7. Run *all execution paths* of the contract on a [Cardano testnet](https://docs.cardano.org/cardano-testnet/overview).\n",
    "\n",
    "---"
   ]
  },
  {
   "cell_type": "markdown",
   "id": "a4287fb0-fcfd-422c-9d93-dd50d6a5eff3",
   "metadata": {},
   "source": [
    "# First Marlowe Peer-to-Peer Loan on Cardano Mainnet\n",
    "\n",
    "This peer-to-peer uncollateralized loan consists of two payments spaced ninety days apart and uses a private stablecoin USDB.\n",
    "1. On 14 November 2022, the loan contract is created: [3e5d0ac37fc61e2c635cac9eccd98d5caef8b09eed3e6c6256453eaead093b21](https://cardanoscan.io/transaction/3e5d0ac37fc61e2c635cac9eccd98d5caef8b09eed3e6c6256453eaead093b21?tab=utxo)\n",
    "2. Before 14 November 2022, the counterparty (i.e., the lender) deposits 9000 USDB into the Marlowe contract, and the contract pays that to the party (i.e., the borrower): [5137a4eecbe9b53e1afa9cd27f10c1b8a1ad30d8459e88ca5ed198b588025da6](https://cardanoscan.io/transaction/5137a4eecbe9b53e1afa9cd27f10c1b8a1ad30d8459e88ca5ed198b588025da6?tab=utxo)\n",
    "3. Before 11 February 2023, the party deposits the first installment of 4560 USDB (approximately half of the principal plus interest), which is paid to the counterparty: [19a20efac7625805e6bdcc7f3a1e5ecfb9057eaa7583cc8b8435d28906461f78](https://cardanoscan.io/transaction/19a20efac7625805e6bdcc7f3a1e5ecfb9057eaa7583cc8b8435d28906461f78?tab=utxo)\n",
    "4. Before 13 May 2023, the party must deposit the last installment of 4560 USDB (the remainder of principle and interest), which is paid to the counterparty and closes the contract, completing the loan.\n",
    "\n",
    "![Loan contract](contract.png)"
   ]
  },
  {
   "cell_type": "markdown",
   "id": "43f0301e-d0c0-41e6-a7c0-10ddb7b03304",
   "metadata": {},
   "source": [
    "## Session 1. November 14, 2022"
   ]
  },
  {
   "cell_type": "markdown",
   "id": "770974f2-99c5-4063-9d68-fa132b93f7bd",
   "metadata": {},
   "source": [
    "### Record version numbers"
   ]
  },
  {
   "cell_type": "code",
   "execution_count": 1,
   "id": "e0a395f7-14c4-4b29-ad16-83b551ac6fef",
   "metadata": {},
   "outputs": [
    {
     "name": "stdout",
     "output_type": "stream",
     "text": [
      "marlowe-cli 0.0.10.0 «mainnet»\n"
     ]
    }
   ],
   "source": [
    "marlowe-cli --version"
   ]
  },
  {
   "cell_type": "code",
   "execution_count": 2,
   "id": "b309824f-4329-42f3-ae0e-632818892c66",
   "metadata": {},
   "outputs": [
    {
     "name": "stdout",
     "output_type": "stream",
     "text": [
      "cardano-cli 1.35.3 - linux-x86_64 - ghc-8.10\n",
      "git rev 0000000000000000000000000000000000000000\n"
     ]
    }
   ],
   "source": [
    "cardano-cli --version"
   ]
  },
  {
   "cell_type": "code",
   "execution_count": 3,
   "id": "988d24e2-3b1e-4e80-847e-7845dd7573a0",
   "metadata": {},
   "outputs": [
    {
     "name": "stdout",
     "output_type": "stream",
     "text": [
      "33a7615477ab8886792305e927e87ec09042961d\n"
     ]
    }
   ],
   "source": [
    "git rev-parse HEAD"
   ]
  },
  {
   "cell_type": "markdown",
   "id": "58bcf60f-94a5-4b33-b944-fe92994c0290",
   "metadata": {},
   "source": [
    "### Select mainnet"
   ]
  },
  {
   "cell_type": "code",
   "execution_count": 4,
   "id": "94c6ef0a-eb78-470f-826f-1ac307571ee3",
   "metadata": {},
   "outputs": [],
   "source": [
    "export CARDANO_NODE_SOCKET_PATH=cardano-node.socket"
   ]
  },
  {
   "cell_type": "code",
   "execution_count": 5,
   "id": "727e42a6-2103-487f-bc41-e5a0c43ce086",
   "metadata": {},
   "outputs": [],
   "source": [
    "TREASURY=treasury"
   ]
  },
  {
   "cell_type": "code",
   "execution_count": 6,
   "id": "cacdfe0e-2965-49ca-a795-ef36c8ef6c90",
   "metadata": {},
   "outputs": [
    {
     "name": "stdout",
     "output_type": "stream",
     "text": [
      "addr1vy9prvx8ufwutkwxx9cmmuuajaqmjqwujqlp9d8pvg6gupceql82h\n"
     ]
    }
   ],
   "source": [
    "FAUCET_SKEY=$TREASURY/payment.skey\n",
    "FAUCET_ADDR=$(cat $TREASURY/payment.mainnet.address)\n",
    "echo $FAUCET_ADDR"
   ]
  },
  {
   "cell_type": "code",
   "execution_count": 7,
   "id": "d33005f3-5523-4a23-889b-fc76f76637d7",
   "metadata": {},
   "outputs": [],
   "source": [
    "BRIAN_SKEY=$TREASURY/brian.skey\n",
    "BRIAN_ADDR=addr1qy9prvx8ufwutkwxx9cmmuuajaqmjqwujqlp9d8pvg6gupcvluken35ncjnu0puetf5jvttedkze02d5kf890kquh60sut9jg7"
   ]
  },
  {
   "cell_type": "code",
   "execution_count": 8,
   "id": "411b9843-3d98-48df-809f-468b49849070",
   "metadata": {},
   "outputs": [],
   "source": [
    "EVAN_SKEY=\n",
    "EVAN_ADDR=addr1q95e9feu4hkp4qwvgqasq02na05z3eg33zzjquf2d86e6qzznwng4gtlladnxm7d486psa003jy6dv230t82rvv3pflqeuzzt2"
   ]
  },
  {
   "cell_type": "markdown",
   "id": "301a7fb7-dc7e-460c-99a3-d1da918f0b6a",
   "metadata": {},
   "source": [
    "### View the contract"
   ]
  },
  {
   "cell_type": "code",
   "execution_count": 9,
   "id": "cc6555e8-72de-4278-bc91-e297d37f4521",
   "metadata": {},
   "outputs": [
    {
     "name": "stdout",
     "output_type": "stream",
     "text": [
      "timeout: 1668495540000\n",
      "timeout_continuation: close\n",
      "when:\n",
      "- case:\n",
      "    deposits: 9000\n",
      "    into_account:\n",
      "      address: addr1qy9prvx8ufwutkwxx9cmmuuajaqmjqwujqlp9d8pvg6gupcvluken35ncjnu0puetf5jvttedkze02d5kf890kquh60sut9jg7\n",
      "    of_token:\n",
      "      currency_symbol: 8bb3b343d8e404472337966a722150048c768d0a92a9813596c5338d\n",
      "      token_name: USDB\n",
      "    party:\n",
      "      address: addr1qy9prvx8ufwutkwxx9cmmuuajaqmjqwujqlp9d8pvg6gupcvluken35ncjnu0puetf5jvttedkze02d5kf890kquh60sut9jg7\n",
      "  then:\n",
      "    from_account:\n",
      "      address: addr1qy9prvx8ufwutkwxx9cmmuuajaqmjqwujqlp9d8pvg6gupcvluken35ncjnu0puetf5jvttedkze02d5kf890kquh60sut9jg7\n",
      "    pay: 9000\n",
      "    then:\n",
      "      timeout: 1676185140000\n",
      "      timeout_continuation: close\n",
      "      when:\n",
      "      - case:\n",
      "          deposits: 4560\n",
      "          into_account:\n",
      "            address: addr1q95e9feu4hkp4qwvgqasq02na05z3eg33zzjquf2d86e6qzznwng4gtlladnxm7d486psa003jy6dv230t82rvv3pflqeuzzt2\n",
      "          of_token:\n",
      "            currency_symbol: 8bb3b343d8e404472337966a722150048c768d0a92a9813596c5338d\n",
      "            token_name: USDB\n",
      "          party:\n",
      "            address: addr1q95e9feu4hkp4qwvgqasq02na05z3eg33zzjquf2d86e6qzznwng4gtlladnxm7d486psa003jy6dv230t82rvv3pflqeuzzt2\n",
      "        then:\n",
      "          from_account:\n",
      "            address: addr1q95e9feu4hkp4qwvgqasq02na05z3eg33zzjquf2d86e6qzznwng4gtlladnxm7d486psa003jy6dv230t82rvv3pflqeuzzt2\n",
      "          pay: 4560\n",
      "          then:\n",
      "            timeout: 1683961140000\n",
      "            timeout_continuation: close\n",
      "            when:\n",
      "            - case:\n",
      "                deposits: 4560\n",
      "                into_account:\n",
      "                  address: addr1q95e9feu4hkp4qwvgqasq02na05z3eg33zzjquf2d86e6qzznwng4gtlladnxm7d486psa003jy6dv230t82rvv3pflqeuzzt2\n",
      "                of_token:\n",
      "                  currency_symbol: 8bb3b343d8e404472337966a722150048c768d0a92a9813596c5338d\n",
      "                  token_name: USDB\n",
      "                party:\n",
      "                  address: addr1q95e9feu4hkp4qwvgqasq02na05z3eg33zzjquf2d86e6qzznwng4gtlladnxm7d486psa003jy6dv230t82rvv3pflqeuzzt2\n",
      "              then:\n",
      "                from_account:\n",
      "                  address: addr1q95e9feu4hkp4qwvgqasq02na05z3eg33zzjquf2d86e6qzznwng4gtlladnxm7d486psa003jy6dv230t82rvv3pflqeuzzt2\n",
      "                pay: 4560\n",
      "                then: close\n",
      "                to:\n",
      "                  party:\n",
      "                    address: addr1qy9prvx8ufwutkwxx9cmmuuajaqmjqwujqlp9d8pvg6gupcvluken35ncjnu0puetf5jvttedkze02d5kf890kquh60sut9jg7\n",
      "                token:\n",
      "                  currency_symbol: 8bb3b343d8e404472337966a722150048c768d0a92a9813596c5338d\n",
      "                  token_name: USDB\n",
      "          to:\n",
      "            party:\n",
      "              address: addr1qy9prvx8ufwutkwxx9cmmuuajaqmjqwujqlp9d8pvg6gupcvluken35ncjnu0puetf5jvttedkze02d5kf890kquh60sut9jg7\n",
      "          token:\n",
      "            currency_symbol: 8bb3b343d8e404472337966a722150048c768d0a92a9813596c5338d\n",
      "            token_name: USDB\n",
      "    to:\n",
      "      party:\n",
      "        address: addr1q95e9feu4hkp4qwvgqasq02na05z3eg33zzjquf2d86e6qzznwng4gtlladnxm7d486psa003jy6dv230t82rvv3pflqeuzzt2\n",
      "    token:\n",
      "      currency_symbol: 8bb3b343d8e404472337966a722150048c768d0a92a9813596c5338d\n",
      "      token_name: USDB\n"
     ]
    }
   ],
   "source": [
    "json2yaml evan-loan.contract"
   ]
  },
  {
   "cell_type": "markdown",
   "id": "90cb3aa6-391e-4d0d-a48d-b69a5f61edae",
   "metadata": {},
   "source": [
    "### Check the deadlines in the contract"
   ]
  },
  {
   "cell_type": "code",
   "execution_count": 10,
   "id": "308d0cbc-c9b5-49ee-993c-9c26ddc5f9ba",
   "metadata": {},
   "outputs": [
    {
     "name": "stdout",
     "output_type": "stream",
     "text": [
      "Mon Nov 14 01:00:00 AM MST 2022\n"
     ]
    }
   ],
   "source": [
    "date -d @1668412800"
   ]
  },
  {
   "cell_type": "code",
   "execution_count": 11,
   "id": "798c2d56-fa2f-4058-ab64-58de0f823245",
   "metadata": {},
   "outputs": [
    {
     "name": "stdout",
     "output_type": "stream",
     "text": [
      "Sat Feb 11 11:59:00 PM MST 2023\n"
     ]
    }
   ],
   "source": [
    "date -d @1676185140"
   ]
  },
  {
   "cell_type": "code",
   "execution_count": 12,
   "id": "7759dc61-96be-4515-9ae0-b857607bb7ba",
   "metadata": {},
   "outputs": [
    {
     "name": "stdout",
     "output_type": "stream",
     "text": [
      "Sat May 13 12:59:00 AM MDT 2023\n"
     ]
    }
   ],
   "source": [
    "date -d @1683961140"
   ]
  },
  {
   "cell_type": "markdown",
   "id": "8a8022de-b66d-4adc-8ea1-6840dd8de4ec",
   "metadata": {},
   "source": [
    "### Create the initial state of the contract\n",
    "\n",
    "This just contains the minimum UTxO for the script UTxO."
   ]
  },
  {
   "cell_type": "code",
   "execution_count": 13,
   "id": "790abe05-5af9-49ba-903d-50cabfd0d429",
   "metadata": {},
   "outputs": [
    {
     "name": "stdout",
     "output_type": "stream",
     "text": [
      "accounts:\n",
      "- - - address: addr_test1vq9prvx8ufwutkwxx9cmmuuajaqmjqwujqlp9d8pvg6gupczgtm9j\n",
      "    - currency_symbol: ''\n",
      "      token_name: ''\n",
      "  - 2000000\n",
      "boundValues: []\n",
      "choices: []\n",
      "minTime: 1\n"
     ]
    }
   ],
   "source": [
    "json2yaml evan-loan.state"
   ]
  },
  {
   "cell_type": "markdown",
   "id": "e2025552-864d-43d2-bb24-a95e43dd4712",
   "metadata": {},
   "source": [
    "### Transaction 1. Create the contract"
   ]
  },
  {
   "cell_type": "markdown",
   "id": "71f7fe53-bffc-4dfe-9bb1-d48e6bebbb53",
   "metadata": {},
   "source": [
    "Bundle the state and contract information into a single `.marlowe` file."
   ]
  },
  {
   "cell_type": "code",
   "execution_count": 14,
   "id": "dce74aef-1c65-4a59-b58a-7f6434c4b75a",
   "metadata": {},
   "outputs": [
    {
     "name": "stdout",
     "output_type": "stream",
     "text": [
      "\n",
      "Searching for reference script at address: addr1z9l4w7djneh0kss4drg2php6ynflsvmal7x3w5nrc95uvhz7e4q926apsvcd6kn33cpx95k8jsmrj7v0k62rczvz8urqrl2z0l\n",
      "\n",
      "Expected reference script hash: \"6a9391d6aa51af28dd876ebb5565b69d1e83e5ac7861506bd29b56b0\"\n",
      "\n",
      "Searching for reference script at address: addr1z9l4w7djneh0kss4drg2php6ynflsvmal7x3w5nrc95uvhz7e4q926apsvcd6kn33cpx95k8jsmrj7v0k62rczvz8urqrl2z0l\n",
      "\n",
      "Expected reference script hash: \"49076eab20243dc9462511fb98a9cfb719f86e9692288139b7c91df3\"\n",
      "\n",
      "Validator size: 12505\n",
      "Base-validator cost: ExBudget {exBudgetCPU = ExCPU 18515100, exBudgetMemory = ExMemory 80600}\n"
     ]
    }
   ],
   "source": [
    "marlowe-cli run initialize \\\n",
    "  --mainnet \\\n",
    "  --at-address addr1z9l4w7djneh0kss4drg2php6ynflsvmal7x3w5nrc95uvhz7e4q926apsvcd6kn33cpx95k8jsmrj7v0k62rczvz8urqrl2z0l \\\n",
    "  --contract-file evan-loan.contract \\\n",
    "  --state-file    evan-loan.state \\\n",
    "  --out-file      evan-loan-1.marlowe \\\n",
    "  --print-stats"
   ]
  },
  {
   "cell_type": "markdown",
   "id": "dc446f4f-eb44-4836-a3d4-9b67e82d77df",
   "metadata": {},
   "source": [
    "Analyze the safety of the contract."
   ]
  },
  {
   "cell_type": "code",
   "execution_count": 15,
   "id": "28b4c7c2-59a8-4f62-b5cb-be4524387b3f",
   "metadata": {},
   "outputs": [
    {
     "name": "stdout",
     "output_type": "stream",
     "text": [
      "Note that path-based analysis ignore the initial state of the contract and instead start with an empty state.\n",
      "Starting search for execution paths . . .\n",
      " . . . found 4 execution paths.\n",
      "- Preconditions:\n",
      "    Duplicate accounts: []\n",
      "    Duplicate bound values: []\n",
      "    Duplicate choices: []\n",
      "    Invalid account parties: []\n",
      "    Invalid account tokens: []\n",
      "    Invalid choice parties: []\n",
      "    Invalid roles currency: false\n",
      "    Non-positive account balances: []\n",
      "- Role names:\n",
      "    Blank role names: false\n",
      "    Invalid role names: []\n",
      "- Tokens:\n",
      "    Invalid tokens: []\n",
      "- Maximum value:\n",
      "    Actual: 96\n",
      "    Invalid: false\n",
      "    Maximum: 5000\n",
      "    Percentage: 1.92\n",
      "    Unit: byte\n",
      "- Minimum UTxO:\n",
      "    Requirement:\n",
      "      lovelace: 1288690\n",
      "- Execution cost:\n",
      "    Memory:\n",
      "      Actual: 6605682\n",
      "      Invalid: false\n",
      "      Maximum: 14000000\n",
      "      Percentage: 47.18344285714286\n",
      "    Steps:\n",
      "      Actual: 1830393886\n",
      "      Invalid: false\n",
      "      Maximum: 10000000000\n",
      "      Percentage: 18.30393886\n",
      "- Transaction size:\n",
      "    Actual: 3354\n",
      "    Invalid: false\n",
      "    Maximum: 16384\n",
      "    Percentage: 20.47119140625\n"
     ]
    }
   ],
   "source": [
    "marlowe-cli run analyze \\\n",
    "  --mainnet \\\n",
    "  --marlowe-file evan-loan-1.marlowe"
   ]
  },
  {
   "cell_type": "markdown",
   "id": "c4f46672-b709-449a-8cf6-7126648448f3",
   "metadata": {},
   "source": [
    "Execute the creation transaction."
   ]
  },
  {
   "cell_type": "code",
   "execution_count": 16,
   "id": "6b572154-2be0-42c8-a255-5caaa6655493",
   "metadata": {},
   "outputs": [
    {
     "name": "stdout",
     "output_type": "stream",
     "text": [
      "\n",
      "Fee: Lovelace 248881\n",
      "Size: 1779 / 16384 = 10%\n",
      "Execution units:\n",
      "  Memory: 0 / 14000000 = 0%\n",
      "  Steps: 0 / 10000000000 = 0%\n",
      "3e5d0ac37fc61e2c635cac9eccd98d5caef8b09eed3e6c6256453eaead093b21\n"
     ]
    }
   ],
   "source": [
    "marlowe-cli run auto-execute \\\n",
    "  --mainnet \\\n",
    "  --marlowe-out-file evan-loan-1.marlowe \\\n",
    "  --change-address $FAUCET_ADDR \\\n",
    "  --required-signer $FAUCET_SKEY \\\n",
    "  --out-file evan-loan-1.txBody \\\n",
    "  --submit 600 \\\n",
    "  --print-stats"
   ]
  },
  {
   "cell_type": "markdown",
   "id": "cf22d60b-df46-46f6-b5c8-d5cf3adaec47",
   "metadata": {},
   "source": [
    "### Transaction 2. Counterparty deposits the 9000 USDB that is then lent to the party"
   ]
  },
  {
   "cell_type": "markdown",
   "id": "e2098b98-feaa-4915-9c4b-e233529f7bb9",
   "metadata": {},
   "source": [
    "Prepare the transaction."
   ]
  },
  {
   "cell_type": "code",
   "execution_count": 17,
   "id": "bb7e5283-5aa8-47ae-aeaf-e4278042c509",
   "metadata": {},
   "outputs": [
    {
     "name": "stdout",
     "output_type": "stream",
     "text": [
      "Rounding  `TransactionInput` txInterval boundries to:(POSIXTime {getPOSIXTime = 1668447916000},POSIXTime {getPOSIXTime = 1668448576999})\n",
      "TransactionInput {txInterval = (POSIXTime {getPOSIXTime = 1668447916000},POSIXTime {getPOSIXTime = 1668448576999}), txInputs = [NormalInput (IDeposit \"\\\"addr1qy9prvx8ufwutkwxx9cmmuuajaqmjqwujqlp9d8pvg6gupcvluken35ncjnu0puetf5jvttedkze02d5kf890kquh60sut9jg7\\\"\" \"\\\"addr1qy9prvx8ufwutkwxx9cmmuuajaqmjqwujqlp9d8pvg6gupcvluken35ncjnu0puetf5jvttedkze02d5kf890kquh60sut9jg7\\\"\" (Token \"8bb3b343d8e404472337966a722150048c768d0a92a9813596c5338d\" \"USDB\") 9000)]}\n",
      "\n",
      "Datum size: 1041\n",
      "Payment 1\n",
      "  Acccount: \"\\\"addr1qy9prvx8ufwutkwxx9cmmuuajaqmjqwujqlp9d8pvg6gupcvluken35ncjnu0puetf5jvttedkze02d5kf890kquh60sut9jg7\\\"\"\n",
      "  Payee: Party \"\\\"addr1q95e9feu4hkp4qwvgqasq02na05z3eg33zzjquf2d86e6qzznwng4gtlladnxm7d486psa003jy6dv230t82rvv3pflqeuzzt2\\\"\"\n",
      "  Ada: Lovelace {getLovelace = 0}\n",
      "  8bb3b343d8e404472337966a722150048c768d0a92a9813596c5338d.\"USDB\": 9000\n"
     ]
    }
   ],
   "source": [
    "RIGHT_NOW=$(($(date -u +%s) * 1000))\n",
    "marlowe-cli run prepare \\\n",
    "  --deposit-account $BRIAN_ADDR \\\n",
    "  --deposit-party $BRIAN_ADDR \\\n",
    "  --deposit-amount 9000 \\\n",
    "  --deposit-token 8bb3b343d8e404472337966a722150048c768d0a92a9813596c5338d.USDB \\\n",
    "  --invalid-before    $((RIGHT_NOW -  1 * 60 * 1000)) \\\n",
    "  --invalid-hereafter $((RIGHT_NOW + 10 * 60 * 1000)) \\\n",
    "  --marlowe-file evan-loan-1.marlowe \\\n",
    "  --out-file     evan-loan-2.marlowe \\\n",
    "  --print-stats"
   ]
  },
  {
   "cell_type": "markdown",
   "id": "a744427d-36de-4965-b55c-68abdefd10b9",
   "metadata": {},
   "source": [
    "Execute the transaction."
   ]
  },
  {
   "cell_type": "code",
   "execution_count": 18,
   "id": "0b3dd648-8633-4fe3-a59b-9a7233ef87d4",
   "metadata": {},
   "outputs": [
    {
     "name": "stdout",
     "output_type": "stream",
     "text": [
      "\n",
      "Fee: Lovelace 901257\n",
      "Size: 3316 / 16384 = 20%\n",
      "Execution units:\n",
      "  Memory: 7468762 / 14000000 = 53%\n",
      "  Steps: 2053198482 / 10000000000 = 20%\n",
      "5137a4eecbe9b53e1afa9cd27f10c1b8a1ad30d8459e88ca5ed198b588025da6\n"
     ]
    }
   ],
   "source": [
    "marlowe-cli run auto-execute \\\n",
    "  --mainnet \\\n",
    "  --tx-in-marlowe \"3e5d0ac37fc61e2c635cac9eccd98d5caef8b09eed3e6c6256453eaead093b21#1\" \\\n",
    "  --marlowe-in-file  evan-loan-1.marlowe \\\n",
    "  --marlowe-out-file evan-loan-2.marlowe \\\n",
    "  --change-address $BRIAN_ADDR \\\n",
    "  --required-signer $BRIAN_SKEY \\\n",
    "  --out-file evan-loan-2.txBody \\\n",
    "  --submit 600 \\\n",
    "  --print-stats"
   ]
  },
  {
   "cell_type": "markdown",
   "id": "334cc853-66ac-4a0a-868b-a30878a5ff4c",
   "metadata": {},
   "source": [
    "Examine the UTxO at the script address."
   ]
  },
  {
   "cell_type": "code",
   "execution_count": 19,
   "id": "9b0cbb61-7af2-4072-affc-499df5371df8",
   "metadata": {},
   "outputs": [
    {
     "name": "stdout",
     "output_type": "stream",
     "text": [
      "                           TxHash                                 TxIx        Amount\n",
      "--------------------------------------------------------------------------------------\n",
      "5137a4eecbe9b53e1afa9cd27f10c1b8a1ad30d8459e88ca5ed198b588025da6     1        2000000 lovelace + TxOutDatumHash ScriptDataInBabbageEra \"3c2165748b2363dd5c651984d96e7c05edc3c7fee57fdeb8a9d8743fa3203a98\"\n"
     ]
    }
   ],
   "source": [
    "cardano-cli query utxo --mainnet --address $(marlowe-cli contract address --mainnet)"
   ]
  },
  {
   "cell_type": "markdown",
   "id": "ee0de392-71be-45ae-be92-9b244eadb2b5",
   "metadata": {},
   "source": [
    "See that the 9000 USDB has been received by the borrower."
   ]
  },
  {
   "cell_type": "code",
   "execution_count": 37,
   "id": "e5ec79b5-31a5-47cc-96a4-ab83c88cff60",
   "metadata": {},
   "outputs": [
    {
     "name": "stdout",
     "output_type": "stream",
     "text": [
      "                           TxHash                                 TxIx        Amount\n",
      "--------------------------------------------------------------------------------------\n",
      "5137a4eecbe9b53e1afa9cd27f10c1b8a1ad30d8459e88ca5ed198b588025da6     2        1155080 lovelace + 9000 8bb3b343d8e404472337966a722150048c768d0a92a9813596c5338d.55534442 + TxOutDatumNone\n"
     ]
    }
   ],
   "source": [
    "cardano-cli query utxo --mainnet --address $EVAN_ADDR"
   ]
  },
  {
   "cell_type": "markdown",
   "id": "4fa044ef-722a-4e1b-ab7c-1538d1977404",
   "metadata": {},
   "source": [
    "## Session 2. February 4, 2023\n",
    "\n",
    "Use Marlowe Runtime to continue execution of the contract."
   ]
  },
  {
   "cell_type": "code",
   "execution_count": 1,
   "id": "ed71eb22-2afe-45d1-9fac-30786d042ecf",
   "metadata": {},
   "outputs": [],
   "source": [
    "CONTRACT_ID=\"3e5d0ac37fc61e2c635cac9eccd98d5caef8b09eed3e6c6256453eaead093b21#1\""
   ]
  },
  {
   "cell_type": "markdown",
   "id": "1a5563a2-7e4d-432d-bcbe-8701eb7558dd",
   "metadata": {},
   "source": [
    "View the current state of the contract."
   ]
  },
  {
   "cell_type": "code",
   "execution_count": 2,
   "id": "267e123b-1996-4d20-bed2-b28745892b42",
   "metadata": {},
   "outputs": [
    {
     "name": "stdout",
     "output_type": "stream",
     "text": [
      "\u001b[93mtransaction 3e5d0ac37fc61e2c635cac9eccd98d5caef8b09eed3e6c6256453eaead093b21 (creation)\n",
      "\u001b[0mContractId:      3e5d0ac37fc61e2c635cac9eccd98d5caef8b09eed3e6c6256453eaead093b21#1\n",
      "SlotNo:          76880686\n",
      "BlockNo:         8013745\n",
      "BlockId:         1894b0c19bdfdc4a1ab934f109c74c03fcfbfa29890e71e22d9d5e224330d0da\n",
      "ScriptAddress:   addr1w94f8ywk4fg672xasahtk4t9k6w3aql943uxz5rt62d4dvq8evxaf\n",
      "Marlowe Version: 1\n",
      "\n",
      "    When [\n",
      "      (Case\n",
      "         (Deposit (Address \"addr1qy9prvx8ufwutkwxx9cmmuuajaqmjqwujqlp9d8pvg6gupcvluken35ncjnu0puetf5jvttedkze02d5kf890kquh60sut9jg7\") (Address \"addr1qy9prvx8ufwutkwxx9cmmuuajaqmjqwujqlp9d8pvg6gupcvluken35ncjnu0puetf5jvttedkze02d5kf890kquh60sut9jg7\")\n",
      "            (Token \"8bb3b343d8e404472337966a722150048c768d0a92a9813596c5338d\" \"USDB\")\n",
      "            (Constant 9000))\n",
      "         (Pay (Address \"addr1qy9prvx8ufwutkwxx9cmmuuajaqmjqwujqlp9d8pvg6gupcvluken35ncjnu0puetf5jvttedkze02d5kf890kquh60sut9jg7\")\n",
      "            (Party (Address \"addr1q95e9feu4hkp4qwvgqasq02na05z3eg33zzjquf2d86e6qzznwng4gtlladnxm7d486psa003jy6dv230t82rvv3pflqeuzzt2\"))\n",
      "            (Token \"8bb3b343d8e404472337966a722150048c768d0a92a9813596c5338d\" \"USDB\")\n",
      "            (Constant 9000)\n",
      "            (When [\n",
      "               (Case\n",
      "                  (Deposit (Address \"addr1q95e9feu4hkp4qwvgqasq02na05z3eg33zzjquf2d86e6qzznwng4gtlladnxm7d486psa003jy6dv230t82rvv3pflqeuzzt2\") (Address \"addr1q95e9feu4hkp4qwvgqasq02na05z3eg33zzjquf2d86e6qzznwng4gtlladnxm7d486psa003jy6dv230t82rvv3pflqeuzzt2\")\n",
      "                     (Token \"8bb3b343d8e404472337966a722150048c768d0a92a9813596c5338d\" \"USDB\")\n",
      "                     (Constant 4560))\n",
      "                  (Pay (Address \"addr1q95e9feu4hkp4qwvgqasq02na05z3eg33zzjquf2d86e6qzznwng4gtlladnxm7d486psa003jy6dv230t82rvv3pflqeuzzt2\")\n",
      "                     (Party (Address \"addr1qy9prvx8ufwutkwxx9cmmuuajaqmjqwujqlp9d8pvg6gupcvluken35ncjnu0puetf5jvttedkze02d5kf890kquh60sut9jg7\"))\n",
      "                     (Token \"8bb3b343d8e404472337966a722150048c768d0a92a9813596c5338d\" \"USDB\")\n",
      "                     (Constant 4560)\n",
      "                     (When [\n",
      "                        (Case\n",
      "                           (Deposit (Address \"addr1q95e9feu4hkp4qwvgqasq02na05z3eg33zzjquf2d86e6qzznwng4gtlladnxm7d486psa003jy6dv230t82rvv3pflqeuzzt2\") (Address \"addr1q95e9feu4hkp4qwvgqasq02na05z3eg33zzjquf2d86e6qzznwng4gtlladnxm7d486psa003jy6dv230t82rvv3pflqeuzzt2\")\n",
      "                              (Token \"8bb3b343d8e404472337966a722150048c768d0a92a9813596c5338d\" \"USDB\")\n",
      "                              (Constant 4560))\n",
      "                           (Pay (Address \"addr1q95e9feu4hkp4qwvgqasq02na05z3eg33zzjquf2d86e6qzznwng4gtlladnxm7d486psa003jy6dv230t82rvv3pflqeuzzt2\")\n",
      "                              (Party (Address \"addr1qy9prvx8ufwutkwxx9cmmuuajaqmjqwujqlp9d8pvg6gupcvluken35ncjnu0puetf5jvttedkze02d5kf890kquh60sut9jg7\"))\n",
      "                              (Token \"8bb3b343d8e404472337966a722150048c768d0a92a9813596c5338d\" \"USDB\")\n",
      "                              (Constant 4560) Close))] 1683961140000 Close)))] 1676185140000 Close)))] 1668495540000 Close\n",
      "\n",
      "\u001b[93mtransaction 5137a4eecbe9b53e1afa9cd27f10c1b8a1ad30d8459e88ca5ed198b588025da6\n",
      "\u001b[0mContractId: 3e5d0ac37fc61e2c635cac9eccd98d5caef8b09eed3e6c6256453eaead093b21#1\n",
      "SlotNo:     76881698\n",
      "BlockNo:    8013793\n",
      "BlockId:    625b020d234e815c7ff1d7b0eea2fe29a429f6c31ce48197b690f6013d784500\n",
      "Inputs:     [NormalInput (IDeposit \"\\\"addr1qy9prvx8ufwutkwxx9cmmuuajaqmjqwujqlp9d8pvg6gupcvluken35ncjnu0puetf5jvttedkze02d5kf890kquh60sut9jg7\\\"\" \"\\\"addr1qy9prvx8ufwutkwxx9cmmuuajaqmjqwujqlp9d8pvg6gupcvluken35ncjnu0puetf5jvttedkze02d5kf890kquh60sut9jg7\\\"\" (Token \"8bb3b343d8e404472337966a722150048c768d0a92a9813596c5338d\" \"USDB\") 9000)]\n",
      "\n",
      "    When [\n",
      "      (Case\n",
      "         (Deposit (Address \"addr1q95e9feu4hkp4qwvgqasq02na05z3eg33zzjquf2d86e6qzznwng4gtlladnxm7d486psa003jy6dv230t82rvv3pflqeuzzt2\") (Address \"addr1q95e9feu4hkp4qwvgqasq02na05z3eg33zzjquf2d86e6qzznwng4gtlladnxm7d486psa003jy6dv230t82rvv3pflqeuzzt2\")\n",
      "            (Token \"8bb3b343d8e404472337966a722150048c768d0a92a9813596c5338d\" \"USDB\")\n",
      "            (Constant 4560))\n",
      "         (Pay (Address \"addr1q95e9feu4hkp4qwvgqasq02na05z3eg33zzjquf2d86e6qzznwng4gtlladnxm7d486psa003jy6dv230t82rvv3pflqeuzzt2\")\n",
      "            (Party (Address \"addr1qy9prvx8ufwutkwxx9cmmuuajaqmjqwujqlp9d8pvg6gupcvluken35ncjnu0puetf5jvttedkze02d5kf890kquh60sut9jg7\"))\n",
      "            (Token \"8bb3b343d8e404472337966a722150048c768d0a92a9813596c5338d\" \"USDB\")\n",
      "            (Constant 4560)\n",
      "            (When [\n",
      "               (Case\n",
      "                  (Deposit (Address \"addr1q95e9feu4hkp4qwvgqasq02na05z3eg33zzjquf2d86e6qzznwng4gtlladnxm7d486psa003jy6dv230t82rvv3pflqeuzzt2\") (Address \"addr1q95e9feu4hkp4qwvgqasq02na05z3eg33zzjquf2d86e6qzznwng4gtlladnxm7d486psa003jy6dv230t82rvv3pflqeuzzt2\")\n",
      "                     (Token \"8bb3b343d8e404472337966a722150048c768d0a92a9813596c5338d\" \"USDB\")\n",
      "                     (Constant 4560))\n",
      "                  (Pay (Address \"addr1q95e9feu4hkp4qwvgqasq02na05z3eg33zzjquf2d86e6qzznwng4gtlladnxm7d486psa003jy6dv230t82rvv3pflqeuzzt2\")\n",
      "                     (Party (Address \"addr1qy9prvx8ufwutkwxx9cmmuuajaqmjqwujqlp9d8pvg6gupcvluken35ncjnu0puetf5jvttedkze02d5kf890kquh60sut9jg7\"))\n",
      "                     (Token \"8bb3b343d8e404472337966a722150048c768d0a92a9813596c5338d\" \"USDB\")\n",
      "                     (Constant 4560) Close))] 1683961140000 Close)))] 1676185140000 Close\n",
      "\n"
     ]
    }
   ],
   "source": [
    "marlowe log --show-contract \"$CONTRACT_ID\""
   ]
  },
  {
   "cell_type": "markdown",
   "id": "2d4279c2-52dd-42b8-ac93-07bea97fe9f4",
   "metadata": {},
   "source": [
    "### Set parameters for the transaction"
   ]
  },
  {
   "cell_type": "code",
   "execution_count": 3,
   "id": "c6aa35f9-87f7-46a2-a67c-dace99bd5390",
   "metadata": {},
   "outputs": [],
   "source": [
    "POLICY_ID=8bb3b343d8e404472337966a722150048c768d0a92a9813596c5338d\n",
    "TOKEN_NAME=USDB"
   ]
  },
  {
   "cell_type": "code",
   "execution_count": 4,
   "id": "b76cebb3-bdf7-461b-898b-32ffcab1e724",
   "metadata": {},
   "outputs": [
    {
     "name": "stdout",
     "output_type": "stream",
     "text": [
      "BRIAN_ADDR = addr1qy9prvx8ufwutkwxx9cmmuuajaqmjqwujqlp9d8pvg6gupcvluken35ncjnu0puetf5jvttedkze02d5kf890kquh60sut9jg7\n"
     ]
    }
   ],
   "source": [
    "BRIAN_SKEY=brian.skey\n",
    "BRIAN_ADDR=\"$(cat brian.mainnet.address)\"\n",
    "echo \"BRIAN_ADDR = $BRIAN_ADDR\""
   ]
  },
  {
   "cell_type": "code",
   "execution_count": 5,
   "id": "cda44770-5ab9-43e7-a7df-ae8597dc3391",
   "metadata": {},
   "outputs": [
    {
     "name": "stdout",
     "output_type": "stream",
     "text": [
      "EVAN_ADDR = addr1q95e9feu4hkp4qwvgqasq02na05z3eg33zzjquf2d86e6qzznwng4gtlladnxm7d486psa003jy6dv230t82rvv3pflqeuzzt2\n"
     ]
    }
   ],
   "source": [
    "EVAN_SKEY=evan.skey\n",
    "EVAN_ADDR=\"$(cat evan.mainnet.address)\"\n",
    "echo \"EVAN_ADDR = $EVAN_ADDR\""
   ]
  },
  {
   "cell_type": "markdown",
   "id": "c36193ed-c848-4ee7-b6db-8d07ed88c090",
   "metadata": {},
   "source": [
    "### Transaction 3. Party deposits 4560 USDB that is repaid to the counterparty"
   ]
  },
  {
   "cell_type": "markdown",
   "id": "b48a5901-4fbe-46a5-8373-f9634a821966",
   "metadata": {},
   "source": [
    "Build the transaction."
   ]
  },
  {
   "cell_type": "code",
   "execution_count": 6,
   "id": "2ca00dcb-a770-4a9e-969e-5f6c010f2be8",
   "metadata": {},
   "outputs": [
    {
     "name": "stdout",
     "output_type": "stream",
     "text": [
      "TX_3 = 19a20efac7625805e6bdcc7f3a1e5ecfb9057eaa7583cc8b8435d28906461f78\n"
     ]
    }
   ],
   "source": [
    "TX_3=$(\n",
    "marlowe deposit \\\n",
    "  --contract \"$CONTRACT_ID\" \\\n",
    "  --from-party \"$EVAN_ADDR\" \\\n",
    "  --to-party \"$EVAN_ADDR\" \\\n",
    "  --currency \"$POLICY_ID\" \\\n",
    "  --token-name USDB \\\n",
    "  --quantity 4560 \\\n",
    "  --validity-lower-bound \"$((1000 * ($(date -u +%s) - 2 * 60)))\" \\\n",
    "  --validity-upper-bound \"$((1000 * ($(date -u +%s) + 6 * 60)))\" \\\n",
    "  --change-address \"$EVAN_ADDR\" \\\n",
    "  --manual-sign evan-loan-3.txBody \\\n",
    "| jq -r 'fromjson | .txId' \\\n",
    ")\n",
    "echo \"TX_3 = $TX_3\""
   ]
  },
  {
   "cell_type": "markdown",
   "id": "628aded1-2530-4c4f-bd4d-82fe570b3493",
   "metadata": {},
   "source": [
    "Submit the transaction."
   ]
  },
  {
   "cell_type": "code",
   "execution_count": 7,
   "id": "3528ea50-e738-41ec-8574-1318bab5dbad",
   "metadata": {},
   "outputs": [
    {
     "name": "stdout",
     "output_type": "stream",
     "text": [
      "TxId \"19a20efac7625805e6bdcc7f3a1e5ecfb9057eaa7583cc8b8435d28906461f78\"\n"
     ]
    }
   ],
   "source": [
    "marlowe-cli transaction submit \\\n",
    "  --mainnet \\\n",
    "  --tx-body-file evan-loan-3.txBody \\\n",
    "  --required-signer \"$EVAN_SKEY\" \\\n",
    "  --timeout 600"
   ]
  },
  {
   "cell_type": "markdown",
   "id": "7495db6c-9941-4ad0-b2ec-40deb1c3acde",
   "metadata": {},
   "source": [
    "View the new state of the contract."
   ]
  },
  {
   "cell_type": "code",
   "execution_count": 8,
   "id": "33531fa2-0a55-4217-a8e2-c82a3fe4ea2f",
   "metadata": {},
   "outputs": [
    {
     "name": "stdout",
     "output_type": "stream",
     "text": [
      "\u001b[93mtransaction 3e5d0ac37fc61e2c635cac9eccd98d5caef8b09eed3e6c6256453eaead093b21 (creation)\n",
      "\u001b[0mContractId:      3e5d0ac37fc61e2c635cac9eccd98d5caef8b09eed3e6c6256453eaead093b21#1\n",
      "SlotNo:          76880686\n",
      "BlockNo:         8013745\n",
      "BlockId:         1894b0c19bdfdc4a1ab934f109c74c03fcfbfa29890e71e22d9d5e224330d0da\n",
      "ScriptAddress:   addr1w94f8ywk4fg672xasahtk4t9k6w3aql943uxz5rt62d4dvq8evxaf\n",
      "Marlowe Version: 1\n",
      "\n",
      "    When [\n",
      "      (Case\n",
      "         (Deposit (Address \"addr1qy9prvx8ufwutkwxx9cmmuuajaqmjqwujqlp9d8pvg6gupcvluken35ncjnu0puetf5jvttedkze02d5kf890kquh60sut9jg7\") (Address \"addr1qy9prvx8ufwutkwxx9cmmuuajaqmjqwujqlp9d8pvg6gupcvluken35ncjnu0puetf5jvttedkze02d5kf890kquh60sut9jg7\")\n",
      "            (Token \"8bb3b343d8e404472337966a722150048c768d0a92a9813596c5338d\" \"USDB\")\n",
      "            (Constant 9000))\n",
      "         (Pay (Address \"addr1qy9prvx8ufwutkwxx9cmmuuajaqmjqwujqlp9d8pvg6gupcvluken35ncjnu0puetf5jvttedkze02d5kf890kquh60sut9jg7\")\n",
      "            (Party (Address \"addr1q95e9feu4hkp4qwvgqasq02na05z3eg33zzjquf2d86e6qzznwng4gtlladnxm7d486psa003jy6dv230t82rvv3pflqeuzzt2\"))\n",
      "            (Token \"8bb3b343d8e404472337966a722150048c768d0a92a9813596c5338d\" \"USDB\")\n",
      "            (Constant 9000)\n",
      "            (When [\n",
      "               (Case\n",
      "                  (Deposit (Address \"addr1q95e9feu4hkp4qwvgqasq02na05z3eg33zzjquf2d86e6qzznwng4gtlladnxm7d486psa003jy6dv230t82rvv3pflqeuzzt2\") (Address \"addr1q95e9feu4hkp4qwvgqasq02na05z3eg33zzjquf2d86e6qzznwng4gtlladnxm7d486psa003jy6dv230t82rvv3pflqeuzzt2\")\n",
      "                     (Token \"8bb3b343d8e404472337966a722150048c768d0a92a9813596c5338d\" \"USDB\")\n",
      "                     (Constant 4560))\n",
      "                  (Pay (Address \"addr1q95e9feu4hkp4qwvgqasq02na05z3eg33zzjquf2d86e6qzznwng4gtlladnxm7d486psa003jy6dv230t82rvv3pflqeuzzt2\")\n",
      "                     (Party (Address \"addr1qy9prvx8ufwutkwxx9cmmuuajaqmjqwujqlp9d8pvg6gupcvluken35ncjnu0puetf5jvttedkze02d5kf890kquh60sut9jg7\"))\n",
      "                     (Token \"8bb3b343d8e404472337966a722150048c768d0a92a9813596c5338d\" \"USDB\")\n",
      "                     (Constant 4560)\n",
      "                     (When [\n",
      "                        (Case\n",
      "                           (Deposit (Address \"addr1q95e9feu4hkp4qwvgqasq02na05z3eg33zzjquf2d86e6qzznwng4gtlladnxm7d486psa003jy6dv230t82rvv3pflqeuzzt2\") (Address \"addr1q95e9feu4hkp4qwvgqasq02na05z3eg33zzjquf2d86e6qzznwng4gtlladnxm7d486psa003jy6dv230t82rvv3pflqeuzzt2\")\n",
      "                              (Token \"8bb3b343d8e404472337966a722150048c768d0a92a9813596c5338d\" \"USDB\")\n",
      "                              (Constant 4560))\n",
      "                           (Pay (Address \"addr1q95e9feu4hkp4qwvgqasq02na05z3eg33zzjquf2d86e6qzznwng4gtlladnxm7d486psa003jy6dv230t82rvv3pflqeuzzt2\")\n",
      "                              (Party (Address \"addr1qy9prvx8ufwutkwxx9cmmuuajaqmjqwujqlp9d8pvg6gupcvluken35ncjnu0puetf5jvttedkze02d5kf890kquh60sut9jg7\"))\n",
      "                              (Token \"8bb3b343d8e404472337966a722150048c768d0a92a9813596c5338d\" \"USDB\")\n",
      "                              (Constant 4560) Close))] 1683961140000 Close)))] 1676185140000 Close)))] 1668495540000 Close\n",
      "\n",
      "\u001b[93mtransaction 5137a4eecbe9b53e1afa9cd27f10c1b8a1ad30d8459e88ca5ed198b588025da6\n",
      "\u001b[0mContractId: 3e5d0ac37fc61e2c635cac9eccd98d5caef8b09eed3e6c6256453eaead093b21#1\n",
      "SlotNo:     76881698\n",
      "BlockNo:    8013793\n",
      "BlockId:    625b020d234e815c7ff1d7b0eea2fe29a429f6c31ce48197b690f6013d784500\n",
      "Inputs:     [NormalInput (IDeposit \"\\\"addr1qy9prvx8ufwutkwxx9cmmuuajaqmjqwujqlp9d8pvg6gupcvluken35ncjnu0puetf5jvttedkze02d5kf890kquh60sut9jg7\\\"\" \"\\\"addr1qy9prvx8ufwutkwxx9cmmuuajaqmjqwujqlp9d8pvg6gupcvluken35ncjnu0puetf5jvttedkze02d5kf890kquh60sut9jg7\\\"\" (Token \"8bb3b343d8e404472337966a722150048c768d0a92a9813596c5338d\" \"USDB\") 9000)]\n",
      "\n",
      "    When [\n",
      "      (Case\n",
      "         (Deposit (Address \"addr1q95e9feu4hkp4qwvgqasq02na05z3eg33zzjquf2d86e6qzznwng4gtlladnxm7d486psa003jy6dv230t82rvv3pflqeuzzt2\") (Address \"addr1q95e9feu4hkp4qwvgqasq02na05z3eg33zzjquf2d86e6qzznwng4gtlladnxm7d486psa003jy6dv230t82rvv3pflqeuzzt2\")\n",
      "            (Token \"8bb3b343d8e404472337966a722150048c768d0a92a9813596c5338d\" \"USDB\")\n",
      "            (Constant 4560))\n",
      "         (Pay (Address \"addr1q95e9feu4hkp4qwvgqasq02na05z3eg33zzjquf2d86e6qzznwng4gtlladnxm7d486psa003jy6dv230t82rvv3pflqeuzzt2\")\n",
      "            (Party (Address \"addr1qy9prvx8ufwutkwxx9cmmuuajaqmjqwujqlp9d8pvg6gupcvluken35ncjnu0puetf5jvttedkze02d5kf890kquh60sut9jg7\"))\n",
      "            (Token \"8bb3b343d8e404472337966a722150048c768d0a92a9813596c5338d\" \"USDB\")\n",
      "            (Constant 4560)\n",
      "            (When [\n",
      "               (Case\n",
      "                  (Deposit (Address \"addr1q95e9feu4hkp4qwvgqasq02na05z3eg33zzjquf2d86e6qzznwng4gtlladnxm7d486psa003jy6dv230t82rvv3pflqeuzzt2\") (Address \"addr1q95e9feu4hkp4qwvgqasq02na05z3eg33zzjquf2d86e6qzznwng4gtlladnxm7d486psa003jy6dv230t82rvv3pflqeuzzt2\")\n",
      "                     (Token \"8bb3b343d8e404472337966a722150048c768d0a92a9813596c5338d\" \"USDB\")\n",
      "                     (Constant 4560))\n",
      "                  (Pay (Address \"addr1q95e9feu4hkp4qwvgqasq02na05z3eg33zzjquf2d86e6qzznwng4gtlladnxm7d486psa003jy6dv230t82rvv3pflqeuzzt2\")\n",
      "                     (Party (Address \"addr1qy9prvx8ufwutkwxx9cmmuuajaqmjqwujqlp9d8pvg6gupcvluken35ncjnu0puetf5jvttedkze02d5kf890kquh60sut9jg7\"))\n",
      "                     (Token \"8bb3b343d8e404472337966a722150048c768d0a92a9813596c5338d\" \"USDB\")\n",
      "                     (Constant 4560) Close))] 1683961140000 Close)))] 1676185140000 Close\n",
      "\n",
      "\u001b[93mtransaction 19a20efac7625805e6bdcc7f3a1e5ecfb9057eaa7583cc8b8435d28906461f78\n",
      "\u001b[0mContractId: 3e5d0ac37fc61e2c635cac9eccd98d5caef8b09eed3e6c6256453eaead093b21#1\n",
      "SlotNo:     83957973\n",
      "BlockNo:    8357744\n",
      "BlockId:    64c14289522dcf8fd5c3b807ce113351da4a8e802d93ae8f2512690a6ff3a2ee\n",
      "Inputs:     [NormalInput (IDeposit \"\\\"addr1q95e9feu4hkp4qwvgqasq02na05z3eg33zzjquf2d86e6qzznwng4gtlladnxm7d486psa003jy6dv230t82rvv3pflqeuzzt2\\\"\" \"\\\"addr1q95e9feu4hkp4qwvgqasq02na05z3eg33zzjquf2d86e6qzznwng4gtlladnxm7d486psa003jy6dv230t82rvv3pflqeuzzt2\\\"\" (Token \"8bb3b343d8e404472337966a722150048c768d0a92a9813596c5338d\" \"USDB\") 4560)]\n",
      "\n",
      "    When [\n",
      "      (Case\n",
      "         (Deposit (Address \"addr1q95e9feu4hkp4qwvgqasq02na05z3eg33zzjquf2d86e6qzznwng4gtlladnxm7d486psa003jy6dv230t82rvv3pflqeuzzt2\") (Address \"addr1q95e9feu4hkp4qwvgqasq02na05z3eg33zzjquf2d86e6qzznwng4gtlladnxm7d486psa003jy6dv230t82rvv3pflqeuzzt2\")\n",
      "            (Token \"8bb3b343d8e404472337966a722150048c768d0a92a9813596c5338d\" \"USDB\")\n",
      "            (Constant 4560))\n",
      "         (Pay (Address \"addr1q95e9feu4hkp4qwvgqasq02na05z3eg33zzjquf2d86e6qzznwng4gtlladnxm7d486psa003jy6dv230t82rvv3pflqeuzzt2\")\n",
      "            (Party (Address \"addr1qy9prvx8ufwutkwxx9cmmuuajaqmjqwujqlp9d8pvg6gupcvluken35ncjnu0puetf5jvttedkze02d5kf890kquh60sut9jg7\"))\n",
      "            (Token \"8bb3b343d8e404472337966a722150048c768d0a92a9813596c5338d\" \"USDB\")\n",
      "            (Constant 4560) Close))] 1683961140000 Close\n",
      "\n"
     ]
    }
   ],
   "source": [
    "marlowe log --show-contract \"$CONTRACT_ID\""
   ]
  },
  {
   "cell_type": "markdown",
   "id": "44ce60d3-215f-4be5-b77a-6e9820bf9461",
   "metadata": {},
   "source": [
    "View the payment recieved by the counterparty."
   ]
  },
  {
   "cell_type": "code",
   "execution_count": 9,
   "id": "eca3f784-9ee5-43ec-a6eb-802a6e1b6411",
   "metadata": {},
   "outputs": [
    {
     "name": "stdout",
     "output_type": "stream",
     "text": [
      "                           TxHash                                 TxIx        Amount\n",
      "--------------------------------------------------------------------------------------\n",
      "19a20efac7625805e6bdcc7f3a1e5ecfb9057eaa7583cc8b8435d28906461f78     2        1155080 lovelace + 4560 8bb3b343d8e404472337966a722150048c768d0a92a9813596c5338d.55534442 + TxOutDatumNone\n"
     ]
    }
   ],
   "source": [
    "cardano-cli query utxo --mainnet --address $BRIAN_ADDR"
   ]
  },
  {
   "cell_type": "markdown",
   "id": "a4fb037e-b0a8-4ef0-a9b8-d6496747a7ba",
   "metadata": {},
   "source": [
    "## Session 3. Sometime before 13 May 2023"
   ]
  }
 ],
 "metadata": {
  "kernelspec": {
   "display_name": "Bash - Marlowe",
   "language": "bash",
   "name": "bash_marlowe"
  },
  "language_info": {
   "codemirror_mode": "shell",
   "file_extension": ".sh",
   "mimetype": "text/x-sh",
   "name": "/nix/store/p7bpdnxqd3i5hwm92mrscf7mvxk66404-bash-5.1-p16/bin/bash"
  }
 },
 "nbformat": 4,
 "nbformat_minor": 5
}
