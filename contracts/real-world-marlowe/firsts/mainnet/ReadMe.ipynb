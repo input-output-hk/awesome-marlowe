{
 "cells": [
  {
   "cell_type": "markdown",
   "id": "520a18f8-cf7e-4e50-829b-bc3a9362fd22",
   "metadata": {},
   "source": [
    "## <font color=\"red\">Caution!</font>\n",
    "\n",
    "Before running a Marlowe contract on `mainnet`, it is wise to do the following in order to avoid losing funds:\n",
    "\n",
    "1. Understand the [Marlowe Language](https://marlowe.iohk.io/).\n",
    "2. Understand Cardano\\'s [Extended UTxO Model](https://docs.cardano.org/learn/eutxo-explainer).\n",
    "3. Read and understand the [Marlowe Best Practices Guide](https://github.com/input-output-hk/marlowe-cardano/blob/main/marlowe/best-practices.md).\n",
    "4. Read and understand the [Marlowe Security Guide](https://github.com/input-output-hk/marlowe-cardano/blob/main/marlowe/security.md).\n",
    "5. Use [Marlowe Playground](https://play.marlowe.iohk.io/) to flag warnings, perform static analysis, and simulate the contract.\n",
    "6. Use [Marlowe CLI\\'s](https://github.com/input-output-hk/marlowe-cardano/blob/main/marlowe-cli/ReadMe.md) `marlowe-cli run analyze` tool to study whether the contract can run on a Cardano network.\n",
    "7. Run *all execution paths* of the contract on a [Cardano testnet](https://docs.cardano.org/cardano-testnet/overview).\n",
    "\n",
    "---"
   ]
  },
  {
   "cell_type": "markdown",
   "id": "1ba15f73-68d5-4521-a52e-56845a397873",
   "metadata": {},
   "source": [
    "# First Marlowe Contract on the Cardano Mainnet\n",
    "\n",
    "The first Marlowe contract to run on the Cardano `mainnet` was also the 1000th distinct Plutus script to run there.\n",
    "\n",
    "The contract itself was the simplest possible Marlowe contract.\n",
    "\n",
    "![Simplest Marlowe contract](contract.png)"
   ]
  },
  {
   "cell_type": "markdown",
   "id": "7ac615ae-12b9-4746-ab72-c60b0e0889c2",
   "metadata": {},
   "source": [
    "## The initial state\n",
    "\n",
    "The contract was created with the following initial state:"
   ]
  },
  {
   "cell_type": "code",
   "execution_count": 1,
   "id": "b0f5796f-f46c-4145-a8ea-1a824ae0c2a4",
   "metadata": {},
   "outputs": [
    {
     "name": "stdout",
     "output_type": "stream",
     "text": [
      "accounts:\n",
      "- - - pk_hash: 0a11b0c7e25dc5d9c63171bdf39d9741b901dc903e12b4e162348e07\n",
      "    - currency_symbol: ''\n",
      "      token_name: ''\n",
      "  - 3000000\n",
      "boundValues: []\n",
      "choices: []\n",
      "minSlot: 10\n"
     ]
    }
   ],
   "source": [
    "json2yaml first.state"
   ]
  },
  {
   "cell_type": "markdown",
   "id": "ff27f09f-917b-486d-a7ab-4ef2b5622af8",
   "metadata": {},
   "source": [
    "## The contract\n",
    "\n",
    "The contract just closes, releasing all of the funds in the initial state to their owner."
   ]
  },
  {
   "cell_type": "code",
   "execution_count": 2,
   "id": "b0dba2d1-4cf4-4f9e-9976-1ba08f6a5302",
   "metadata": {},
   "outputs": [
    {
     "name": "stdout",
     "output_type": "stream",
     "text": [
      "close\n",
      "...\n"
     ]
    }
   ],
   "source": [
    "json2yaml first.contract"
   ]
  },
  {
   "cell_type": "markdown",
   "id": "39bc6a42-f00c-4575-aeb7-a1729d8b445d",
   "metadata": {},
   "source": [
    "## The creation transaction\n",
    "\n",
    "The datum for the creating the Marlowe contract was generated with an early version of `marlowe-cli`. The creation transaction was manually submitted using `cardano-cli` on 17 November 2021.\n",
    "\n",
    "Here is the datum:"
   ]
  },
  {
   "cell_type": "code",
   "execution_count": 3,
   "id": "a39e95b3-a722-45f0-a7b0-c321e188d405",
   "metadata": {},
   "outputs": [
    {
     "name": "stdout",
     "output_type": "stream",
     "text": [
      "cborHex: d8799fd8799fa1d8799fd8799f581c0a11b0c7e25dc5d9c63171bdf39d9741b901dc903e12b4e162348e07ffd8799f4040ffff1a002dc6c0a0a00affd87980ff\n",
      "hash: 0c050b99438fcd2c65c54b062338f3692c212cbfb499cfe3ad6a9a07ce15dbc0\n",
      "json:\n",
      "  constructor: 0\n",
      "  fields:\n",
      "  - constructor: 0\n",
      "    fields:\n",
      "    - map:\n",
      "      - k:\n",
      "          constructor: 0\n",
      "          fields:\n",
      "          - constructor: 0\n",
      "            fields:\n",
      "            - bytes: 0a11b0c7e25dc5d9c63171bdf39d9741b901dc903e12b4e162348e07\n",
      "          - constructor: 0\n",
      "            fields:\n",
      "            - bytes: ''\n",
      "            - bytes: ''\n",
      "        v:\n",
      "          int: 3000000\n",
      "    - map: []\n",
      "    - map: []\n",
      "    - int: 10\n",
      "  - constructor: 0\n",
      "    fields: []\n",
      "size: 64\n"
     ]
    }
   ],
   "source": [
    "jq '.datum' first.marlowe | json2yaml"
   ]
  },
  {
   "cell_type": "markdown",
   "id": "cbc774a0-d91b-4dc1-8c8d-25755701926f",
   "metadata": {},
   "source": [
    "The creation transaction [9f523e816ef6ae68280ccff2aaa08dd0fc8ab2e272098f48ef408d9bcf1c5b221](https://cardanoscan.io/transaction/9f523e816ef6ae68280ccff2aaa08dd0fc8ab2e272098f48ef408d9bcf1c5b22?tab=utxo) put this datum in a UTxO at the contract address [addr1wyqwzc3j8jrqfn0scn8ydm5mesla5xrg3mqpcmp8hjplt6q3muem6](https://cardanoscan.io/address/addr1wyqwzc3j8jrqfn0scn8ydm5mesla5xrg3mqpcmp8hjplt6q3muem6)."
   ]
  },
  {
   "cell_type": "markdown",
   "id": "e78e77f0-ccd5-4c21-bf89-db1e8b45395b",
   "metadata": {},
   "source": [
    "## The first execution of Marlowe's Plutus validator on `mainnet`\n",
    "\n",
    "The redeemer for executing Marlowe\\'s Plutus validator was generated with an early version of `marlowe-cli`. The Plutus transaction was submitted using `cardano-cli` on 26 January 2023.\n",
    "\n",
    "Here is the redeemer:"
   ]
  },
  {
   "cell_type": "code",
   "execution_count": 4,
   "id": "1fd554ff-fd98-4c4f-9be9-b3a33a9186c1",
   "metadata": {},
   "outputs": [
    {
     "name": "stdout",
     "output_type": "stream",
     "text": [
      "cboxHex: d8799fd8799f1903e81a0297c1e0ff80ff\n",
      "json:\n",
      "  constructor: 0\n",
      "  fields:\n",
      "  - constructor: 0\n",
      "    fields:\n",
      "    - int: 1000\n",
      "    - int: 53500000\n",
      "  - list: []\n",
      "size: 17\n"
     ]
    }
   ],
   "source": [
    "jq '.redeemer' first.marlowe | json2yaml"
   ]
  },
  {
   "cell_type": "markdown",
   "id": "d9334a0a-d1a9-462f-935b-fb9ccdaa646d",
   "metadata": {},
   "source": [
    "The Plutus execution transaction [0a5c70f6a66bb46df8cd30603b4145d6ce87301965122793fbc0817386d1f2bb](https://cardanoscan.io/transaction/0a5c70f6a66bb46df8cd30603b4145d6ce87301965122793fbc0817386d1f2bb?tab=contracts) redeemed the UTxO at the contract address, returning the funds from the contract\\'s internal account to their owner.\n",
    "\n",
    "Coincidentally, this was the 1000th distinct Plutus script ever run on the Cardano `mainnet`."
   ]
  }
 ],
 "metadata": {
  "kernelspec": {
   "display_name": "Bash - Marlowe",
   "language": "bash",
   "name": "bash_marlowe"
  },
  "language_info": {
   "codemirror_mode": "shell",
   "file_extension": ".sh",
   "mimetype": "text/x-sh",
   "name": "/nix/store/p7bpdnxqd3i5hwm92mrscf7mvxk66404-bash-5.1-p16/bin/bash"
  }
 },
 "nbformat": 4,
 "nbformat_minor": 5
}
