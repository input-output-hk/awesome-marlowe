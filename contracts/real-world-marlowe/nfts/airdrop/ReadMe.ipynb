{
 "cells": [
  {
   "cell_type": "markdown",
   "id": "d33d4002-eab9-4b2e-871d-8c55e410b6d1",
   "metadata": {},
   "source": [
    "## <font color=\"red\">Caution!</font>\n",
    "\n",
    "Before running a Marlowe contract on `mainnet`, it is wise to do the following in order to avoid losing funds:\n",
    "\n",
    "1. Understand the [Marlowe Language](https://marlowe.iohk.io/).\n",
    "2. Understand Cardano\\'s [Extended UTxO Model](https://docs.cardano.org/learn/eutxo-explainer).\n",
    "3. Read and understand the [Marlowe Best Practices Guide](https://github.com/input-output-hk/marlowe-cardano/blob/main/marlowe/best-practices.md).\n",
    "4. Read and understand the [Marlowe Security Guide](https://github.com/input-output-hk/marlowe-cardano/blob/main/marlowe/security.md).\n",
    "5. Use [Marlowe Playground](https://play.marlowe.iohk.io/) to flag warnings, perform static analysis, and simulate the contract.\n",
    "6. Use [Marlowe CLI\\'s](https://github.com/input-output-hk/marlowe-cardano/blob/main/marlowe-cli/ReadMe.md) `marlowe-cli run analyze` tool to study whether the contract can run on a Cardano network.\n",
    "7. Run *all execution paths* of the contract on a [Cardano testnet](https://docs.cardano.org/cardano-testnet/overview).\n",
    "\n",
    "---"
   ]
  },
  {
   "cell_type": "markdown",
   "id": "0fafc279-76a1-4bee-931b-145f96313e3b",
   "metadata": {},
   "source": [
    "# A Small Airdrop of Tokens\n",
    "\n",
    "This mini-airdrop of tokens to five parties illustrates the difficulties of making multiple payments in the same Marlowe transaction: the limit on Plutus execution costs forces the five payments to be split into two transactions.\n",
    "\n",
    "This example consists of nine transactions:\n",
    "1. Christopher Marlowe creates the airdrop Marlowe contract.\n",
    "2. Christopher Marlowe deposits 500 BearGarden token in the contract.\n",
    "3. After ten minutes, Christopher Marlowe notifies the contact to pay out the first batch of tokens.\n",
    "4. In a second notification, Christopher Marlowe notifies the contract to pay out the remaining tokens.\n",
    "5. Francis Beaumont withdraws his 100 BearGarden tokens from the Marlowe payout address.\n",
    "6. Elizabeth Cary withdraws her 100 BearGarden tokens from the Marlowe payout address.\n",
    "7. Mary Herbert withdraws her 100 BearGarden tokens from the Marlowe payout address.\n",
    "8. Jane Lumley withdraws her 100 BearGarden tokens from the Marlowe payout address.\n",
    "9. John Webster withdraws his 100 BearGarden tokens from the Marlowe payout address.\n",
    "\n",
    "Here is the contract in Blockly format:\n",
    "\n",
    "![Small airdrop](contract.png)"
   ]
  },
  {
   "cell_type": "markdown",
   "id": "07ad66b4-52bc-450f-90ca-c7c7a0ccf66e",
   "metadata": {},
   "source": [
    "## Set Up"
   ]
  },
  {
   "cell_type": "markdown",
   "id": "f2860ab6-29f4-4571-92b8-d53faad8d53b",
   "metadata": {},
   "source": [
    "Use `mainnet`."
   ]
  },
  {
   "cell_type": "code",
   "execution_count": 1,
   "id": "18eadf53-f319-4a3e-94c3-2f526e467787",
   "metadata": {},
   "outputs": [],
   "source": [
    ". ../../mainnet.env"
   ]
  },
  {
   "cell_type": "markdown",
   "id": "01c3bcfd-b534-4639-a6ef-8b47fd68a543",
   "metadata": {},
   "source": [
    "Use the standard example roles."
   ]
  },
  {
   "cell_type": "code",
   "execution_count": 2,
   "id": "f3b84135-f5ab-47a3-917d-6e8cc18b53a9",
   "metadata": {},
   "outputs": [],
   "source": [
    ". ../../dramatis-personae/roles.env"
   ]
  },
  {
   "cell_type": "markdown",
   "id": "030763a2-1c67-463c-aa47-d6d4020ed48c",
   "metadata": {},
   "source": [
    "## Role tokens\n",
    "\n",
    "This contract uses [Ada Handles](https://adahandle.com/) as role tokens:\n",
    "- Christopher Marlowe = [\\$c.marlowe](https://pool.pm/asset1z2xzfc6lu63jfmfffe2w3nyf6420eylv8e2xjp)\n",
    "- Francis Beaumont = [\\$f.beaumont](https://pool.pm/asset1dv4kncr59t9cndrqdhdd28l656eppcq9mlcxq7)\n",
    "- Elizabeth Carey = [\\$e.cary](https://pool.pm/asset1tx4euajkdczmkawgkjy342agaq33885dlvp0jl)\n",
    "- Mary Herbert = [\\$m.herbert](https://pool.pm/asset1a38nhu84xquj7whe3xqr80uyf99mh2r7hzf277)\n",
    "- Jane Lumley = [\\$j.lumley](https://pool.pm/asset1kujmmryzmxyqz6utp2slrmwfq4dmmnvwhkh7gkm)\n",
    "- John Webster = [\\$j.webster](https://pool.pm/asset1zdcycnnmg6dx5dy030u4cu0zdn63r2scghg2p4)\n",
    "\n",
    "*Note: Only use a pre-minted token as a Marlowe role if you have reviewed the monetary policy for security vulnerabilities.*\n",
    "\n",
    "Here is the currency symbol for Ada handles on `mainnet`:"
   ]
  },
  {
   "cell_type": "code",
   "execution_count": 3,
   "id": "31b3ae67-4374-4a71-99d8-fa454b4f9d0a",
   "metadata": {},
   "outputs": [
    {
     "name": "stdout",
     "output_type": "stream",
     "text": [
      "ROLES_CURRENCY = f0ff48bbb7bbe9d59a40f1ce90e9e9d0ff5002ec48f232b49ca0fb9a\n"
     ]
    }
   ],
   "source": [
    "echo \"ROLES_CURRENCY = $ROLES_CURRENCY\""
   ]
  },
  {
   "cell_type": "markdown",
   "id": "ffed3ada-c22d-4a71-8502-02051a23ca80",
   "metadata": {},
   "source": [
    "## Policy ID for the BearGarden token"
   ]
  },
  {
   "cell_type": "markdown",
   "id": "2379b64b-4078-4ec6-86ab-e60ad8c5c75d",
   "metadata": {},
   "source": [
    "We previously minted the BearGarden token with the following policy."
   ]
  },
  {
   "cell_type": "code",
   "execution_count": 4,
   "id": "1904bda9-67d2-4c04-ba8a-d3bfe2d34f9c",
   "metadata": {},
   "outputs": [
    {
     "name": "stdout",
     "output_type": "stream",
     "text": [
      "FUNGIBLES_POLICY = 8bb3b343d8e404472337966a722150048c768d0a92a9813596c5338d\n"
     ]
    }
   ],
   "source": [
    "echo \"FUNGIBLES_POLICY = $FUNGIBLES_POLICY\""
   ]
  },
  {
   "cell_type": "markdown",
   "id": "7b810dc9-83a5-4c75-b01f-ab496affd3f8",
   "metadata": {},
   "source": [
    "## Initial Funding"
   ]
  },
  {
   "cell_type": "markdown",
   "id": "d24a879f-f2e7-4e19-a570-18869c2dbb9d",
   "metadata": {},
   "source": [
    "Send the BearGarden fungible token from the faucet to Christopher Marlowe."
   ]
  },
  {
   "cell_type": "code",
   "execution_count": 5,
   "id": "d1f735ed-ba7f-41c6-9ee8-20d92665529c",
   "metadata": {},
   "outputs": [
    {
     "name": "stdout",
     "output_type": "stream",
     "text": [
      "TxId \"604008ef77c071bef55188270c672b62fef737762e51cfa64f951dde449479f1\"\n"
     ]
    }
   ],
   "source": [
    "ADA=1000000\n",
    "IUSD=1000000\n",
    "marlowe-cli transaction simple \\\n",
    "  --mainnet \\\n",
    "  --tx-in \"357298faa4c200ce3f1696671c0455be01866bdbcbfc80a3893d62e394b4a9c2#0\" \\\n",
    "  --tx-in \"357298faa4c200ce3f1696671c0455be01866bdbcbfc80a3893d62e394b4a9c2#2\" \\\n",
    "  --tx-out \"${ROLE_ADDR[c.marlowe]}+$((2 * ADA))+500 $FUNGIBLES_POLICY.BearGarden\" \\\n",
    "  --change-address \"$FAUCET_ADDR\" \\\n",
    "  --required-signer \"$FAUCET_SKEY\" \\\n",
    "  --out-file /dev/null \\\n",
    "  --submit 600"
   ]
  },
  {
   "cell_type": "markdown",
   "id": "18d01388-a359-4f58-a49e-4927a0a5a454",
   "metadata": {},
   "source": [
    "## The Marlowe contract\n",
    "\n",
    "The Marlowe contract is just a download of the JSON file for the Blockly-format contract designed in the [Marlowe Playground](https://play.marlowe.iohk.io/#/)."
   ]
  },
  {
   "cell_type": "code",
   "execution_count": 6,
   "id": "6c9c0330-ad86-4704-90f8-d798d7d7562a",
   "metadata": {},
   "outputs": [
    {
     "name": "stdout",
     "output_type": "stream",
     "text": [
      "timeout: 1676679830000\n",
      "timeout_continuation: close\n",
      "when:\n",
      "- case:\n",
      "    deposits: 500\n",
      "    into_account:\n",
      "      role_token: c.marlowe\n",
      "    of_token:\n",
      "      currency_symbol: 8bb3b343d8e404472337966a722150048c768d0a92a9813596c5338d\n",
      "      token_name: BearGarden\n",
      "    party:\n",
      "      role_token: c.marlowe\n",
      "  then:\n",
      "    be:\n",
      "      add: time_interval_end\n",
      "      and: 300000\n",
      "    let: Drop Time\n",
      "    then:\n",
      "      timeout: 1676679840000\n",
      "      timeout_continuation: close\n",
      "      when:\n",
      "      - case:\n",
      "          notify_if:\n",
      "            gt:\n",
      "              use_value: Drop Time\n",
      "            value: time_interval_start\n",
      "        then:\n",
      "          from_account:\n",
      "            role_token: c.marlowe\n",
      "          pay: 100\n",
      "          then:\n",
      "            from_account:\n",
      "              role_token: c.marlowe\n",
      "            pay: 100\n",
      "            then:\n",
      "              timeout: 1676679840000\n",
      "              timeout_continuation: close\n",
      "              when:\n",
      "              - case:\n",
      "                  notify_if: true\n",
      "                then:\n",
      "                  from_account:\n",
      "                    role_token: c.marlowe\n",
      "                  pay: 100\n",
      "                  then:\n",
      "                    from_account:\n",
      "                      role_token: c.marlowe\n",
      "                    pay: 100\n",
      "                    then:\n",
      "                      from_account:\n",
      "                        role_token: c.marlowe\n",
      "                      pay: 100\n",
      "                      then: close\n",
      "                      to:\n",
      "                        party:\n",
      "                          role_token: j.webster\n",
      "                      token:\n",
      "                        currency_symbol: 8bb3b343d8e404472337966a722150048c768d0a92a9813596c5338d\n",
      "                        token_name: BearGarden\n",
      "                    to:\n",
      "                      party:\n",
      "                        role_token: j.lumley\n",
      "                    token:\n",
      "                      currency_symbol: 8bb3b343d8e404472337966a722150048c768d0a92a9813596c5338d\n",
      "                      token_name: BearGarden\n",
      "                  to:\n",
      "                    party:\n",
      "                      role_token: m.herbert\n",
      "                  token:\n",
      "                    currency_symbol: 8bb3b343d8e404472337966a722150048c768d0a92a9813596c5338d\n",
      "                    token_name: BearGarden\n",
      "            to:\n",
      "              party:\n",
      "                role_token: e.cary\n",
      "            token:\n",
      "              currency_symbol: 8bb3b343d8e404472337966a722150048c768d0a92a9813596c5338d\n",
      "              token_name: BearGarden\n",
      "          to:\n",
      "            party:\n",
      "              role_token: f.beaumont\n",
      "          token:\n",
      "            currency_symbol: 8bb3b343d8e404472337966a722150048c768d0a92a9813596c5338d\n",
      "            token_name: BearGarden\n"
     ]
    }
   ],
   "source": [
    "json2yaml contract.json"
   ]
  },
  {
   "cell_type": "markdown",
   "id": "c4e07e63-358b-46f7-b8f9-bbcf0629eb22",
   "metadata": {},
   "source": [
    "## Analyze the contract\n",
    "\n",
    "This contract is complex enough that we need to check that it can successfully execute on a Cardano network.\n",
    "\n",
    "First, create a file with the initial state for the contract."
   ]
  },
  {
   "cell_type": "code",
   "execution_count": 7,
   "id": "de1194c6-aeb9-4338-8092-0026e7bda991",
   "metadata": {},
   "outputs": [
    {
     "name": "stdout",
     "output_type": "stream",
     "text": [
      "{\"accounts\":[[[{\"address\":\"addr1qy9prvx8ufwutkwxx9cmmuuajaqmjqwujqlp9d8pvg6gupcvluken35ncjnu0puetf5jvttedkze02d5kf890kquh60sut9jg7\"},{\"currency_symbol\":\"\",\"token_name\":\"\"}],3000000]],\"boundValues\":[],\"choices\":[],\"minTime\":1}\n"
     ]
    }
   ],
   "source": [
    "yaml2json << EOI > state.json\n",
    "accounts:\n",
    "- - - address: \"$FAUCET_ADDR\"\n",
    "    - currency_symbol: ''\n",
    "      token_name: ''\n",
    "  - 3000000\n",
    "boundValues: []\n",
    "choices: []\n",
    "minTime: 1\n",
    "EOI\n",
    "cat state.json"
   ]
  },
  {
   "cell_type": "markdown",
   "id": "581909d0-7d7d-49ff-bab3-51f24135c0b0",
   "metadata": {},
   "source": [
    "Next, bundle the state and contract into a JSON file for analysis."
   ]
  },
  {
   "cell_type": "code",
   "execution_count": 8,
   "id": "e3bb1098-3ca7-4d29-9896-4217cebbcdf0",
   "metadata": {},
   "outputs": [],
   "source": [
    "marlowe-cli run initialize \\\n",
    "  --mainnet \\\n",
    "  --contract-file contract.json \\\n",
    "  --state-file state.json \\\n",
    "  --roles-currency \"$ROLES_CURRENCY\" \\\n",
    "  --at-address \"$REFERENCE_ADDR\" \\\n",
    "  --out-file marlowe.json"
   ]
  },
  {
   "cell_type": "markdown",
   "id": "c153695f-4aab-49b5-9975-7edc4727454b",
   "metadata": {},
   "source": [
    "Finally, analyze the JSON file that bundles all of the information about the contract."
   ]
  },
  {
   "cell_type": "code",
   "execution_count": 9,
   "id": "26b82ba3-b7d9-48cf-ba16-6b7583b23eb6",
   "metadata": {},
   "outputs": [
    {
     "name": "stdout",
     "output_type": "stream",
     "text": [
      "Note that path-based analysis ignore the initial state of the contract and instead start with an empty state.\n",
      "Starting search for execution paths . . .\n",
      " . . . found 4 execution paths.\n",
      "- Preconditions:\n",
      "    Duplicate accounts: []\n",
      "    Duplicate bound values: []\n",
      "    Duplicate choices: []\n",
      "    Invalid account parties: []\n",
      "    Invalid account tokens: []\n",
      "    Invalid choice parties: []\n",
      "    Invalid roles currency: false\n",
      "    Non-positive account balances: []\n",
      "- Role names:\n",
      "    Blank role names: false\n",
      "    Invalid role names: []\n",
      "- Tokens:\n",
      "    Invalid tokens: []\n",
      "- Maximum value:\n",
      "    Actual: 104\n",
      "    Invalid: false\n",
      "    Maximum: 5000\n",
      "    Percentage: 2.08\n",
      "    Unit: byte\n",
      "- Minimum UTxO:\n",
      "    Requirement:\n",
      "      lovelace: 1314550\n",
      "- Execution cost:\n",
      "    Memory:\n",
      "      Actual: 8576552\n",
      "      Invalid: false\n",
      "      Maximum: 14000000\n",
      "      Percentage: 61.26108571428571\n",
      "    Steps:\n",
      "      Actual: 2259377934\n",
      "      Invalid: false\n",
      "      Maximum: 10000000000\n",
      "      Percentage: 22.59377934\n",
      "- Transaction size:\n",
      "    Actual: 2113\n",
      "    Invalid: false\n",
      "    Maximum: 16384\n",
      "    Percentage: 12.896728515625\n"
     ]
    }
   ],
   "source": [
    "marlowe-cli run analyze \\\n",
    "  --mainnet \\\n",
    "  --marlowe-file marlowe.json"
   ]
  },
  {
   "cell_type": "markdown",
   "id": "eb729123-64f6-49c4-9e0b-93c9a62c3251",
   "metadata": {},
   "source": [
    "In the above we see that there are no invalid value or exceedences of protocol limits, so the contract is safe to run.\n",
    "\n",
    "Note that an even safer practice is to run all of the contract\\'s execution paths on a test network."
   ]
  },
  {
   "cell_type": "markdown",
   "id": "f8c4dbbf-f861-438a-a5bc-bf6d3af3d27f",
   "metadata": {},
   "source": [
    "## Transaction 1. Create the contract\n",
    "\n",
    "We use Marlowe Runtime's command-line tool to build the transaction for creating the contract."
   ]
  },
  {
   "cell_type": "code",
   "execution_count": 10,
   "id": "43d8526a-4edf-4baf-98f7-2509a2320a19",
   "metadata": {},
   "outputs": [
    {
     "name": "stdout",
     "output_type": "stream",
     "text": [
      "CONTRACT_ID = 68384929c41d65b8583254265b7178edfe6668e68789890a60242fec3c58bf7c#1\n"
     ]
    }
   ],
   "source": [
    "CONTRACT_ID=$(\n",
    "marlowe create \\\n",
    "  --core-file contract.json \\\n",
    "  --role-token-policy-id \"$ROLES_CURRENCY\" \\\n",
    "  --min-utxo \"$((3 * ADA))\" \\\n",
    "  --change-address \"$FAUCET_ADDR\" \\\n",
    "  --manual-sign tx-1.unsigned \\\n",
    "| jq -r 'fromjson | .contractId' \\\n",
    ")\n",
    "echo \"CONTRACT_ID = $CONTRACT_ID\""
   ]
  },
  {
   "cell_type": "markdown",
   "id": "44313727-26ab-4ee6-a922-9859e9328c5d",
   "metadata": {},
   "source": [
    "The contract can be signed an submitted with any wallet or service. For convenience, we use `marlowe-cli` here."
   ]
  },
  {
   "cell_type": "code",
   "execution_count": 11,
   "id": "71cd4d41-0647-4013-b921-ea3491e7ffa8",
   "metadata": {},
   "outputs": [
    {
     "name": "stdout",
     "output_type": "stream",
     "text": [
      "TxId \"68384929c41d65b8583254265b7178edfe6668e68789890a60242fec3c58bf7c\"\n"
     ]
    }
   ],
   "source": [
    "marlowe-cli transaction submit \\\n",
    "  --mainnet \\\n",
    "  --tx-body-file tx-1.unsigned \\\n",
    "  --required-signer \"$FAUCET_SKEY\" \\\n",
    "  --timeout 600"
   ]
  },
  {
   "cell_type": "markdown",
   "id": "0fb7a0cf-46f3-41c0-a963-8f012ccb05b3",
   "metadata": {},
   "source": [
    "View the transaction on a Cardano explorer."
   ]
  },
  {
   "cell_type": "code",
   "execution_count": 12,
   "id": "edbcd13f-c143-40ba-b5f3-1c09543cd9d1",
   "metadata": {},
   "outputs": [
    {
     "name": "stdout",
     "output_type": "stream",
     "text": [
      "https://cardanoscan.io/transaction/68384929c41d65b8583254265b7178edfe6668e68789890a60242fec3c58bf7c?tab=utxo\n"
     ]
    }
   ],
   "source": [
    "echo \"https://cardanoscan.io/transaction/${CONTRACT_ID%%#1}?tab=utxo\""
   ]
  },
  {
   "cell_type": "markdown",
   "id": "5bd2329b-3c88-4b60-9ac9-b97c162e8f78",
   "metadata": {},
   "source": [
    "We can use a tool such as `marlowe-pipe` to fetch the contract from the blockchain and display it."
   ]
  },
  {
   "cell_type": "code",
   "execution_count": 13,
   "id": "d965d4fd-e5bb-4ee0-9d5f-fba08f8952a9",
   "metadata": {},
   "outputs": [
    {
     "name": "stdout",
     "output_type": "stream",
     "text": [
      "creation:\n",
      "  output:\n",
      "    address: 716a9391d6aa51af28dd876ebb5565b69d1e83e5ac7861506bd29b56b0\n",
      "    assets:\n",
      "      ada: 3000000\n",
      "      tokens: []\n",
      "    datum:\n",
      "      marloweContract:\n",
      "        timeout: 1676679830000\n",
      "        timeout_continuation: close\n",
      "        when:\n",
      "        - case:\n",
      "            deposits: 500\n",
      "            into_account:\n",
      "              role_token: c.marlowe\n",
      "            of_token:\n",
      "              currency_symbol: 8bb3b343d8e404472337966a722150048c768d0a92a9813596c5338d\n",
      "              token_name: BearGarden\n",
      "            party:\n",
      "              role_token: c.marlowe\n",
      "          then:\n",
      "            be:\n",
      "              add: time_interval_end\n",
      "              and: 300000\n",
      "            let: Drop Time\n",
      "            then:\n",
      "              timeout: 1676679840000\n",
      "              timeout_continuation: close\n",
      "              when:\n",
      "              - case:\n",
      "                  notify_if:\n",
      "                    gt:\n",
      "                      use_value: Drop Time\n",
      "                    value: time_interval_start\n",
      "                then:\n",
      "                  from_account:\n",
      "                    role_token: c.marlowe\n",
      "                  pay: 100\n",
      "                  then:\n",
      "                    from_account:\n",
      "                      role_token: c.marlowe\n",
      "                    pay: 100\n",
      "                    then:\n",
      "                      timeout: 1676679840000\n",
      "                      timeout_continuation: close\n",
      "                      when:\n",
      "                      - case:\n",
      "                          notify_if: true\n",
      "                        then:\n",
      "                          from_account:\n",
      "                            role_token: c.marlowe\n",
      "                          pay: 100\n",
      "                          then:\n",
      "                            from_account:\n",
      "                              role_token: c.marlowe\n",
      "                            pay: 100\n",
      "                            then:\n",
      "                              from_account:\n",
      "                                role_token: c.marlowe\n",
      "                              pay: 100\n",
      "                              then: close\n",
      "                              to:\n",
      "                                party:\n",
      "                                  role_token: j.webster\n",
      "                              token:\n",
      "                                currency_symbol: 8bb3b343d8e404472337966a722150048c768d0a92a9813596c5338d\n",
      "                                token_name: BearGarden\n",
      "                            to:\n",
      "                              party:\n",
      "                                role_token: j.lumley\n",
      "                            token:\n",
      "                              currency_symbol: 8bb3b343d8e404472337966a722150048c768d0a92a9813596c5338d\n",
      "                              token_name: BearGarden\n",
      "                          to:\n",
      "                            party:\n",
      "                              role_token: m.herbert\n",
      "                          token:\n",
      "                            currency_symbol: 8bb3b343d8e404472337966a722150048c768d0a92a9813596c5338d\n",
      "                            token_name: BearGarden\n",
      "                    to:\n",
      "                      party:\n",
      "                        role_token: e.cary\n",
      "                    token:\n",
      "                      currency_symbol: 8bb3b343d8e404472337966a722150048c768d0a92a9813596c5338d\n",
      "                      token_name: BearGarden\n",
      "                  to:\n",
      "                    party:\n",
      "                      role_token: f.beaumont\n",
      "                  token:\n",
      "                    currency_symbol: 8bb3b343d8e404472337966a722150048c768d0a92a9813596c5338d\n",
      "                    token_name: BearGarden\n",
      "      marloweParams:\n",
      "        rolesCurrency: f0ff48bbb7bbe9d59a40f1ce90e9e9d0ff5002ec48f232b49ca0fb9a\n",
      "      marloweState:\n",
      "        accounts:\n",
      "        - - - address: addr1qy9prvx8ufwutkwxx9cmmuuajaqmjqwujqlp9d8pvg6gupcvluken35ncjnu0puetf5jvttedkze02d5kf890kquh60sut9jg7\n",
      "            - currency_symbol: ''\n",
      "              token_name: ''\n",
      "          - 3000000\n",
      "        boundValues: []\n",
      "        choices: []\n",
      "        minTime: 0\n",
      "    utxo:\n",
      "      txId: 68384929c41d65b8583254265b7178edfe6668e68789890a60242fec3c58bf7c\n",
      "      txIx: 1\n",
      "  payoutValidatorHash: 49076eab20243dc9462511fb98a9cfb719f86e9692288139b7c91df3\n",
      "response: info\n",
      "steps: []\n"
     ]
    }
   ],
   "source": [
    "echo '{\"request\" : \"get\", \"contractId\" : \"'\"$CONTRACT_ID\"'\"}' | marlowe-pipe 2> /dev/null | json2yaml"
   ]
  },
  {
   "cell_type": "markdown",
   "id": "0ebe8f27-6e07-48f8-929c-cc7a3cc5090c",
   "metadata": {},
   "source": [
    "## Transaction 2. Christopher Marlowe deposits the BearGarden token into the contract\n",
    "\n",
    "The logic of the contract dictates that Christopher Marlowe deposits 500 BearGarden token into his account in the Marlowe contract."
   ]
  },
  {
   "cell_type": "code",
   "execution_count": 14,
   "id": "74edf442-004b-4908-b362-4b1d08eeefa0",
   "metadata": {},
   "outputs": [
    {
     "name": "stdout",
     "output_type": "stream",
     "text": [
      "TX_2 = 0d5fd6758e7ff6c021c7f8f56ddef4a5c9fc8446268fc349b8933a640df9cc33\n"
     ]
    }
   ],
   "source": [
    "TX_2=$(\n",
    "marlowe deposit \\\n",
    "  --contract \"$CONTRACT_ID\" \\\n",
    "  --from-party \"${ROLE_NAME[c.marlowe]}\" \\\n",
    "  --to-party \"${ROLE_NAME[c.marlowe]}\" \\\n",
    "  --currency \"$FUNGIBLES_POLICY\" \\\n",
    "  --token-name BearGarden \\\n",
    "  --quantity 500 \\\n",
    "  --validity-upper-bound \"$((1000 * ($(date -u +%s) + 180)))\" \\\n",
    "  --change-address \"${ROLE_ADDR[c.marlowe]}\" \\\n",
    "  --manual-sign tx-2.unsigned \\\n",
    "| jq -r 'fromjson | .txId' \\\n",
    ")\n",
    "echo \"TX_2 = $TX_2\""
   ]
  },
  {
   "cell_type": "markdown",
   "id": "443e13a6-9b07-4716-abdd-66d146ed0b12",
   "metadata": {},
   "source": [
    "Sign and submit the transaction."
   ]
  },
  {
   "cell_type": "code",
   "execution_count": 15,
   "id": "8d2fd190-7d05-47f4-95ad-9da9a6e3d84e",
   "metadata": {},
   "outputs": [
    {
     "name": "stdout",
     "output_type": "stream",
     "text": [
      "TxId \"0d5fd6758e7ff6c021c7f8f56ddef4a5c9fc8446268fc349b8933a640df9cc33\"\n"
     ]
    }
   ],
   "source": [
    "marlowe-cli transaction submit \\\n",
    "  --mainnet \\\n",
    "  --tx-body-file tx-2.unsigned \\\n",
    "  --required-signer \"${ROLE_SKEY[c.marlowe]}\" \\\n",
    "  --timeout 600"
   ]
  },
  {
   "cell_type": "markdown",
   "id": "59e909d3-712a-4058-9b1b-5332de53749d",
   "metadata": {},
   "source": [
    "See that the tokens have been deposited in the contract."
   ]
  },
  {
   "cell_type": "code",
   "execution_count": 16,
   "id": "f08aa49c-5ec5-4d69-993c-e100c8b96836",
   "metadata": {},
   "outputs": [
    {
     "name": "stdout",
     "output_type": "stream",
     "text": [
      "https://cardanoscan.io/transaction/0d5fd6758e7ff6c021c7f8f56ddef4a5c9fc8446268fc349b8933a640df9cc33?tab=utxo\n"
     ]
    }
   ],
   "source": [
    "echo \"https://cardanoscan.io/transaction/$TX_2?tab=utxo\""
   ]
  },
  {
   "cell_type": "markdown",
   "id": "40337538-3794-4136-92fa-ee1186ccef25",
   "metadata": {},
   "source": [
    "## Transaction 3. Christopher Marlowe notifies the contract to make the first payout\n",
    "\n",
    "A simple notification after the right time is sufficient to make the first payments."
   ]
  },
  {
   "cell_type": "code",
   "execution_count": 17,
   "id": "0599a35b-bb01-46bf-b857-a999bf292f1c",
   "metadata": {},
   "outputs": [],
   "source": [
    "sleep 10m"
   ]
  },
  {
   "cell_type": "code",
   "execution_count": 18,
   "id": "993fc42a-8f33-45c5-8032-be578bb8349e",
   "metadata": {},
   "outputs": [
    {
     "name": "stdout",
     "output_type": "stream",
     "text": [
      "TX_3 = 0d5c3462fa4c798fa0deb3bcb7dd432e1f835c1baa3c452ed5d83886b474b6e0\n"
     ]
    }
   ],
   "source": [
    "TX_3=$(\n",
    "marlowe notify \\\n",
    "  --contract \"$CONTRACT_ID\" \\\n",
    "  --change-address \"${ROLE_ADDR[c.marlowe]}\" \\\n",
    "  --manual-sign tx-3.unsigned \\\n",
    "| jq -r 'fromjson | .txId' \\\n",
    ")\n",
    "echo \"TX_3 = $TX_3\""
   ]
  },
  {
   "cell_type": "markdown",
   "id": "8131fce8-e25f-4c04-90ce-213711d7cd9e",
   "metadata": {},
   "source": [
    "Sign and submit the transaction."
   ]
  },
  {
   "cell_type": "code",
   "execution_count": 19,
   "id": "d5ac5c34-1230-4787-996b-26aebf541065",
   "metadata": {},
   "outputs": [
    {
     "name": "stdout",
     "output_type": "stream",
     "text": [
      "TxId \"0d5c3462fa4c798fa0deb3bcb7dd432e1f835c1baa3c452ed5d83886b474b6e0\"\n"
     ]
    }
   ],
   "source": [
    "marlowe-cli transaction submit \\\n",
    "  --mainnet \\\n",
    "  --tx-body-file tx-3.unsigned \\\n",
    "  --required-signer \"${ROLE_SKEY[c.marlowe]}\" \\\n",
    "  --timeout 600"
   ]
  },
  {
   "cell_type": "markdown",
   "id": "aecb286c-4ccb-49c7-824b-89dc65f8d322",
   "metadata": {},
   "source": [
    "See that the transaction has paid tokens to the role-payout address."
   ]
  },
  {
   "cell_type": "code",
   "execution_count": 20,
   "id": "061bf3b2-fbd5-4f39-b687-72feb89202a6",
   "metadata": {},
   "outputs": [
    {
     "name": "stdout",
     "output_type": "stream",
     "text": [
      "https://cardanoscan.io/transaction/0d5c3462fa4c798fa0deb3bcb7dd432e1f835c1baa3c452ed5d83886b474b6e0?tab=utxo\n"
     ]
    }
   ],
   "source": [
    "echo \"https://cardanoscan.io/transaction/$TX_3?tab=utxo\""
   ]
  },
  {
   "cell_type": "markdown",
   "id": "015d2cdd-f9d0-4310-bca8-928dd6e44451",
   "metadata": {},
   "source": [
    "## Transaction 4. Christopher Marlowe notifies the contract to make the second payout\n",
    "\n",
    "A simple notification is sufficient to make the second payments."
   ]
  },
  {
   "cell_type": "code",
   "execution_count": 21,
   "id": "a338f668-9928-44fa-82b3-574e3a948d62",
   "metadata": {},
   "outputs": [
    {
     "name": "stdout",
     "output_type": "stream",
     "text": [
      "TX_4 = 6e41846908175fbbea9a5c808901c5e1a1b790c1f899faa1c5c6bb887b5456e2\n"
     ]
    }
   ],
   "source": [
    "TX_4=$(\n",
    "marlowe notify \\\n",
    "  --contract \"$CONTRACT_ID\" \\\n",
    "  --change-address \"${ROLE_ADDR[c.marlowe]}\" \\\n",
    "  --manual-sign tx-4.unsigned \\\n",
    "| jq -r 'fromjson | .txId' \\\n",
    ")\n",
    "echo \"TX_4 = $TX_4\""
   ]
  },
  {
   "cell_type": "markdown",
   "id": "081df6df-97fb-44cd-8ddd-7d9525fc4c74",
   "metadata": {},
   "source": [
    "Sign and submit the transaction."
   ]
  },
  {
   "cell_type": "code",
   "execution_count": 22,
   "id": "1ddc9485-1626-4aa9-bb3a-beeaeb208fce",
   "metadata": {},
   "outputs": [
    {
     "name": "stdout",
     "output_type": "stream",
     "text": [
      "TxId \"6e41846908175fbbea9a5c808901c5e1a1b790c1f899faa1c5c6bb887b5456e2\"\n"
     ]
    }
   ],
   "source": [
    "marlowe-cli transaction submit \\\n",
    "  --mainnet \\\n",
    "  --tx-body-file tx-4.unsigned \\\n",
    "  --required-signer \"${ROLE_SKEY[c.marlowe]}\" \\\n",
    "  --timeout 600"
   ]
  },
  {
   "cell_type": "markdown",
   "id": "8bb7b6fb-2756-45fd-8159-f446fd121b1b",
   "metadata": {},
   "source": [
    "See that the transaction has paid tokens to the role-payout address."
   ]
  },
  {
   "cell_type": "code",
   "execution_count": 23,
   "id": "ee9813f2-abf0-4157-bbc5-5e5245295681",
   "metadata": {},
   "outputs": [
    {
     "name": "stdout",
     "output_type": "stream",
     "text": [
      "https://cardanoscan.io/transaction/6e41846908175fbbea9a5c808901c5e1a1b790c1f899faa1c5c6bb887b5456e2?tab=utxo\n"
     ]
    }
   ],
   "source": [
    "echo \"https://cardanoscan.io/transaction/$TX_4?tab=utxo\""
   ]
  },
  {
   "cell_type": "markdown",
   "id": "e385eb6d-598e-406b-8150-b266da742778",
   "metadata": {},
   "source": [
    "## Transaction 5. Francis Beaumont withdraws his 100 BearGarden from the role-payout address"
   ]
  },
  {
   "cell_type": "code",
   "execution_count": 24,
   "id": "e789fda9-6215-432b-acea-e0eb5f7ecc93",
   "metadata": {},
   "outputs": [
    {
     "name": "stdout",
     "output_type": "stream",
     "text": [
      "TX_5 = 602c7faa6acda71db44221635eba0820c4609b20d4f8d0af6e28a75599260ffb\n"
     ]
    }
   ],
   "source": [
    "TX_5=$(\n",
    "marlowe withdraw \\\n",
    "  --contract \"$CONTRACT_ID\" \\\n",
    "  --role \"${ROLE_NAME[f.beaumont]}\" \\\n",
    "  --change-address \"${ROLE_ADDR[f.beaumont]}\" \\\n",
    "  --manual-sign tx-5.unsigned \\\n",
    "| jq -r 'fromjson | .txId' \\\n",
    ")\n",
    "echo \"TX_5 = $TX_5\""
   ]
  },
  {
   "cell_type": "markdown",
   "id": "ac12cb2b-7848-4ad6-92db-e9d962d47b5e",
   "metadata": {},
   "source": [
    "Sign and submit the transaction."
   ]
  },
  {
   "cell_type": "code",
   "execution_count": 25,
   "id": "5b09732a-0384-48a5-a078-9d3a15b780ee",
   "metadata": {},
   "outputs": [
    {
     "name": "stdout",
     "output_type": "stream",
     "text": [
      "TxId \"602c7faa6acda71db44221635eba0820c4609b20d4f8d0af6e28a75599260ffb\"\n"
     ]
    }
   ],
   "source": [
    "marlowe-cli transaction submit \\\n",
    "  --mainnet \\\n",
    "  --tx-body-file tx-5.unsigned \\\n",
    "  --required-signer \"${ROLE_SKEY[f.beaumont]}\" \\\n",
    "  --timeout 600"
   ]
  },
  {
   "cell_type": "markdown",
   "id": "3848f329-38e3-414a-a9b5-afce02200e54",
   "metadata": {},
   "source": [
    "See that Francis Beaumont has successfully withdrawn the 100 BearGarden from the role-payout address."
   ]
  },
  {
   "cell_type": "code",
   "execution_count": 26,
   "id": "12afb7f8-6c9e-4219-ba8f-97d5770070fe",
   "metadata": {},
   "outputs": [
    {
     "name": "stdout",
     "output_type": "stream",
     "text": [
      "https://cardanoscan.io/transaction/602c7faa6acda71db44221635eba0820c4609b20d4f8d0af6e28a75599260ffb?tab=utxo\n"
     ]
    }
   ],
   "source": [
    "echo \"https://cardanoscan.io/transaction/$TX_5?tab=utxo\""
   ]
  },
  {
   "cell_type": "markdown",
   "id": "07cd3080-92b3-42fc-832e-27e7c3aa82e0",
   "metadata": {},
   "source": [
    "## Transaction 6. Elizabeth Cary withdraws her 100 BearGarden from the role-payout address"
   ]
  },
  {
   "cell_type": "code",
   "execution_count": 27,
   "id": "054a4c5c-6142-4783-8578-c36e54aa421e",
   "metadata": {},
   "outputs": [
    {
     "name": "stdout",
     "output_type": "stream",
     "text": [
      "TX_6 = 6ba21152e105a8bd4a3317b0e7808166e240a44831d0549e94a9369314d8feb1\n"
     ]
    }
   ],
   "source": [
    "TX_6=$(\n",
    "marlowe withdraw \\\n",
    "  --contract \"$CONTRACT_ID\" \\\n",
    "  --role \"${ROLE_NAME[e.cary]}\" \\\n",
    "  --change-address \"${ROLE_ADDR[e.cary]}\" \\\n",
    "  --manual-sign tx-6.unsigned \\\n",
    "| jq -r 'fromjson | .txId' \\\n",
    ")\n",
    "echo \"TX_6 = $TX_6\""
   ]
  },
  {
   "cell_type": "markdown",
   "id": "f68418bf-d92d-4f24-a2c6-16904f89e9b9",
   "metadata": {},
   "source": [
    "Sign and submit the transaction."
   ]
  },
  {
   "cell_type": "code",
   "execution_count": 28,
   "id": "dd7f594b-a1d0-4acc-b225-ad2ac7ab45d0",
   "metadata": {},
   "outputs": [
    {
     "name": "stdout",
     "output_type": "stream",
     "text": [
      "TxId \"6ba21152e105a8bd4a3317b0e7808166e240a44831d0549e94a9369314d8feb1\"\n"
     ]
    }
   ],
   "source": [
    "marlowe-cli transaction submit \\\n",
    "  --mainnet \\\n",
    "  --tx-body-file tx-6.unsigned \\\n",
    "  --required-signer \"${ROLE_SKEY[e.cary]}\" \\\n",
    "  --timeout 600"
   ]
  },
  {
   "cell_type": "markdown",
   "id": "2bad917f-71d8-4cdd-8756-aebb5dcf4bba",
   "metadata": {},
   "source": [
    "See that Elizabeth Cary has successfully withdrawn the 100 BearGarden from the role-payout address."
   ]
  },
  {
   "cell_type": "code",
   "execution_count": 29,
   "id": "1c5a9fc1-ee89-4174-9eb1-ba958ca8d29e",
   "metadata": {},
   "outputs": [
    {
     "name": "stdout",
     "output_type": "stream",
     "text": [
      "https://cardanoscan.io/transaction/6ba21152e105a8bd4a3317b0e7808166e240a44831d0549e94a9369314d8feb1?tab=utxo\n"
     ]
    }
   ],
   "source": [
    "echo \"https://cardanoscan.io/transaction/$TX_6?tab=utxo\""
   ]
  },
  {
   "cell_type": "markdown",
   "id": "71dab13b-5b23-4ffb-a0ca-d436d8c96aba",
   "metadata": {},
   "source": [
    "## Transaction 7. Mary Herbert withdraws her 100 BearGarden from the role-payout address"
   ]
  },
  {
   "cell_type": "code",
   "execution_count": 30,
   "id": "ccee3c85-3ca0-4320-8c46-23de627e72c8",
   "metadata": {},
   "outputs": [
    {
     "name": "stdout",
     "output_type": "stream",
     "text": [
      "TX_7 = 316820f95dc7e145210fff14ed98554e984201938b8d2a77cb01dc63f33f567f\n"
     ]
    }
   ],
   "source": [
    "TX_7=$(\n",
    "marlowe withdraw \\\n",
    "  --contract \"$CONTRACT_ID\" \\\n",
    "  --role \"${ROLE_NAME[m.herbert]}\" \\\n",
    "  --change-address \"${ROLE_ADDR[m.herbert]}\" \\\n",
    "  --manual-sign tx-7.unsigned \\\n",
    "| jq -r 'fromjson | .txId' \\\n",
    ")\n",
    "echo \"TX_7 = $TX_7\""
   ]
  },
  {
   "cell_type": "markdown",
   "id": "abdfb1f0-1b2c-4100-9e13-96d543b07e44",
   "metadata": {},
   "source": [
    "Sign and submit the transaction."
   ]
  },
  {
   "cell_type": "code",
   "execution_count": 31,
   "id": "a5af4be7-7dc0-40e7-a530-e544cd8fc4ab",
   "metadata": {},
   "outputs": [
    {
     "name": "stdout",
     "output_type": "stream",
     "text": [
      "TxId \"316820f95dc7e145210fff14ed98554e984201938b8d2a77cb01dc63f33f567f\"\n"
     ]
    }
   ],
   "source": [
    "marlowe-cli transaction submit \\\n",
    "  --mainnet \\\n",
    "  --tx-body-file tx-7.unsigned \\\n",
    "  --required-signer \"${ROLE_SKEY[m.herbert]}\" \\\n",
    "  --timeout 600"
   ]
  },
  {
   "cell_type": "markdown",
   "id": "4ce4c2d7-3ce1-43c8-8c3f-23db19fe251f",
   "metadata": {},
   "source": [
    "See that Mary Herbert has successfully withdrawn the 100 BearGarden from the role-payout address."
   ]
  },
  {
   "cell_type": "code",
   "execution_count": 32,
   "id": "ced21b9a-390d-40ff-8e19-33f4bf60eaf4",
   "metadata": {},
   "outputs": [
    {
     "name": "stdout",
     "output_type": "stream",
     "text": [
      "https://cardanoscan.io/transaction/316820f95dc7e145210fff14ed98554e984201938b8d2a77cb01dc63f33f567f?tab=utxo\n"
     ]
    }
   ],
   "source": [
    "echo \"https://cardanoscan.io/transaction/$TX_7?tab=utxo\""
   ]
  },
  {
   "cell_type": "markdown",
   "id": "6408eac9-3eab-4641-a45f-cbc6e7e56453",
   "metadata": {},
   "source": [
    "## Transaction 8. Jane Lumley withdraws her 100 BearGarden from the role-payout address"
   ]
  },
  {
   "cell_type": "code",
   "execution_count": 33,
   "id": "eee1bdba-8656-4e86-9cf1-cea7ab095171",
   "metadata": {},
   "outputs": [
    {
     "name": "stdout",
     "output_type": "stream",
     "text": [
      "TX_8 = 489787f56f9adac2e6a0efc9263c49d320fe6ded1041d5c45d244634cb516337\n"
     ]
    }
   ],
   "source": [
    "TX_8=$(\n",
    "marlowe withdraw \\\n",
    "  --contract \"$CONTRACT_ID\" \\\n",
    "  --role \"${ROLE_NAME[j.lumley]}\" \\\n",
    "  --change-address \"${ROLE_ADDR[j.lumley]}\" \\\n",
    "  --manual-sign tx-8.unsigned \\\n",
    "| jq -r 'fromjson | .txId' \\\n",
    ")\n",
    "echo \"TX_8 = $TX_8\""
   ]
  },
  {
   "cell_type": "markdown",
   "id": "100195c0-a49f-476c-9981-8742e39e5da7",
   "metadata": {},
   "source": [
    "Sign and submit the transaction."
   ]
  },
  {
   "cell_type": "code",
   "execution_count": 34,
   "id": "cdbfaa8a-ce1e-463f-8dc0-360b4b84fbdc",
   "metadata": {},
   "outputs": [
    {
     "name": "stdout",
     "output_type": "stream",
     "text": [
      "TxId \"489787f56f9adac2e6a0efc9263c49d320fe6ded1041d5c45d244634cb516337\"\n"
     ]
    }
   ],
   "source": [
    "marlowe-cli transaction submit \\\n",
    "  --mainnet \\\n",
    "  --tx-body-file tx-8.unsigned \\\n",
    "  --required-signer \"${ROLE_SKEY[j.lumley]}\" \\\n",
    "  --timeout 600"
   ]
  },
  {
   "cell_type": "markdown",
   "id": "0fb38ad7-c253-417f-a4a0-458d92912e6b",
   "metadata": {},
   "source": [
    "See that Jane Lumley has successfully withdrawn the 100 BearGarden from the role-payout address."
   ]
  },
  {
   "cell_type": "code",
   "execution_count": 35,
   "id": "ef769f36-604c-4a57-a4de-bdc29b8e1826",
   "metadata": {},
   "outputs": [
    {
     "name": "stdout",
     "output_type": "stream",
     "text": [
      "https://cardanoscan.io/transaction/489787f56f9adac2e6a0efc9263c49d320fe6ded1041d5c45d244634cb516337?tab=utxo\n"
     ]
    }
   ],
   "source": [
    "echo \"https://cardanoscan.io/transaction/$TX_8?tab=utxo\""
   ]
  },
  {
   "cell_type": "markdown",
   "id": "9b1f4ed0-85c9-4e8b-a56d-cb2a3a05c8a9",
   "metadata": {},
   "source": [
    "## Transaction 9. John Webster withdraws his 100 BearGarden from the role-payout address"
   ]
  },
  {
   "cell_type": "code",
   "execution_count": 36,
   "id": "68906334-1ffb-4029-8ec2-e1d1184f2604",
   "metadata": {},
   "outputs": [
    {
     "name": "stdout",
     "output_type": "stream",
     "text": [
      "TX_9 = 463afe467c8ecd0ebba8a42f88304c1195785b7f3aac39f65f1076a815057f78\n"
     ]
    }
   ],
   "source": [
    "TX_9=$(\n",
    "marlowe withdraw \\\n",
    "  --contract \"$CONTRACT_ID\" \\\n",
    "  --role \"${ROLE_NAME[j.webster]}\" \\\n",
    "  --change-address \"${ROLE_ADDR[j.webster]}\" \\\n",
    "  --manual-sign tx-9.unsigned \\\n",
    "| jq -r 'fromjson | .txId' \\\n",
    ")\n",
    "echo \"TX_9 = $TX_9\""
   ]
  },
  {
   "cell_type": "markdown",
   "id": "dc4cd64a-dc6b-4c51-b1b3-347fe8b7daec",
   "metadata": {},
   "source": [
    "Sign and submit the transaction."
   ]
  },
  {
   "cell_type": "code",
   "execution_count": 37,
   "id": "61ee85b5-cea1-434f-952f-cfbaaa4db996",
   "metadata": {},
   "outputs": [
    {
     "name": "stdout",
     "output_type": "stream",
     "text": [
      "TxId \"463afe467c8ecd0ebba8a42f88304c1195785b7f3aac39f65f1076a815057f78\"\n"
     ]
    }
   ],
   "source": [
    "marlowe-cli transaction submit \\\n",
    "  --mainnet \\\n",
    "  --tx-body-file tx-9.unsigned \\\n",
    "  --required-signer \"${ROLE_SKEY[j.webster]}\" \\\n",
    "  --timeout 600"
   ]
  },
  {
   "cell_type": "markdown",
   "id": "1f45a0d4-1bc2-46c1-a9bd-03bc302b8448",
   "metadata": {},
   "source": [
    "See that John Webster has successfully withdrawn the 100 BearGarden from the role-payout address."
   ]
  },
  {
   "cell_type": "code",
   "execution_count": 38,
   "id": "28d72c06-e1c1-426a-921a-a8f513a9f82a",
   "metadata": {},
   "outputs": [
    {
     "name": "stdout",
     "output_type": "stream",
     "text": [
      "https://cardanoscan.io/transaction/463afe467c8ecd0ebba8a42f88304c1195785b7f3aac39f65f1076a815057f78?tab=utxo\n"
     ]
    }
   ],
   "source": [
    "echo \"https://cardanoscan.io/transaction/$TX_9?tab=utxo\""
   ]
  },
  {
   "cell_type": "markdown",
   "id": "be4347d6-7ab0-4980-b85a-2938b255d5d8",
   "metadata": {},
   "source": [
    "## View the whole history of the contract\n",
    "\n",
    "We use `marlowe-pipe` to print the whole history of this contract."
   ]
  },
  {
   "cell_type": "code",
   "execution_count": 39,
   "id": "ad030763-bc11-4f87-9b0e-6fdb268552c4",
   "metadata": {},
   "outputs": [
    {
     "name": "stdout",
     "output_type": "stream",
     "text": [
      "creation:\n",
      "  output:\n",
      "    address: 716a9391d6aa51af28dd876ebb5565b69d1e83e5ac7861506bd29b56b0\n",
      "    assets:\n",
      "      ada: 3000000\n",
      "      tokens: []\n",
      "    datum:\n",
      "      marloweContract:\n",
      "        timeout: 1676679830000\n",
      "        timeout_continuation: close\n",
      "        when:\n",
      "        - case:\n",
      "            deposits: 500\n",
      "            into_account:\n",
      "              role_token: c.marlowe\n",
      "            of_token:\n",
      "              currency_symbol: 8bb3b343d8e404472337966a722150048c768d0a92a9813596c5338d\n",
      "              token_name: BearGarden\n",
      "            party:\n",
      "              role_token: c.marlowe\n",
      "          then:\n",
      "            be:\n",
      "              add: time_interval_end\n",
      "              and: 300000\n",
      "            let: Drop Time\n",
      "            then:\n",
      "              timeout: 1676679840000\n",
      "              timeout_continuation: close\n",
      "              when:\n",
      "              - case:\n",
      "                  notify_if:\n",
      "                    gt:\n",
      "                      use_value: Drop Time\n",
      "                    value: time_interval_start\n",
      "                then:\n",
      "                  from_account:\n",
      "                    role_token: c.marlowe\n",
      "                  pay: 100\n",
      "                  then:\n",
      "                    from_account:\n",
      "                      role_token: c.marlowe\n",
      "                    pay: 100\n",
      "                    then:\n",
      "                      timeout: 1676679840000\n",
      "                      timeout_continuation: close\n",
      "                      when:\n",
      "                      - case:\n",
      "                          notify_if: true\n",
      "                        then:\n",
      "                          from_account:\n",
      "                            role_token: c.marlowe\n",
      "                          pay: 100\n",
      "                          then:\n",
      "                            from_account:\n",
      "                              role_token: c.marlowe\n",
      "                            pay: 100\n",
      "                            then:\n",
      "                              from_account:\n",
      "                                role_token: c.marlowe\n",
      "                              pay: 100\n",
      "                              then: close\n",
      "                              to:\n",
      "                                party:\n",
      "                                  role_token: j.webster\n",
      "                              token:\n",
      "                                currency_symbol: 8bb3b343d8e404472337966a722150048c768d0a92a9813596c5338d\n",
      "                                token_name: BearGarden\n",
      "                            to:\n",
      "                              party:\n",
      "                                role_token: j.lumley\n",
      "                            token:\n",
      "                              currency_symbol: 8bb3b343d8e404472337966a722150048c768d0a92a9813596c5338d\n",
      "                              token_name: BearGarden\n",
      "                          to:\n",
      "                            party:\n",
      "                              role_token: m.herbert\n",
      "                          token:\n",
      "                            currency_symbol: 8bb3b343d8e404472337966a722150048c768d0a92a9813596c5338d\n",
      "                            token_name: BearGarden\n",
      "                    to:\n",
      "                      party:\n",
      "                        role_token: e.cary\n",
      "                    token:\n",
      "                      currency_symbol: 8bb3b343d8e404472337966a722150048c768d0a92a9813596c5338d\n",
      "                      token_name: BearGarden\n",
      "                  to:\n",
      "                    party:\n",
      "                      role_token: f.beaumont\n",
      "                  token:\n",
      "                    currency_symbol: 8bb3b343d8e404472337966a722150048c768d0a92a9813596c5338d\n",
      "                    token_name: BearGarden\n",
      "      marloweParams:\n",
      "        rolesCurrency: f0ff48bbb7bbe9d59a40f1ce90e9e9d0ff5002ec48f232b49ca0fb9a\n",
      "      marloweState:\n",
      "        accounts:\n",
      "        - - - address: addr1qy9prvx8ufwutkwxx9cmmuuajaqmjqwujqlp9d8pvg6gupcvluken35ncjnu0puetf5jvttedkze02d5kf890kquh60sut9jg7\n",
      "            - currency_symbol: ''\n",
      "              token_name: ''\n",
      "          - 3000000\n",
      "        boundValues: []\n",
      "        choices: []\n",
      "        minTime: 0\n",
      "    utxo:\n",
      "      txId: 68384929c41d65b8583254265b7178edfe6668e68789890a60242fec3c58bf7c\n",
      "      txIx: 1\n",
      "  payoutValidatorHash: 49076eab20243dc9462511fb98a9cfb719f86e9692288139b7c91df3\n",
      "response: info\n",
      "steps:\n",
      "- contractId: 68384929c41d65b8583254265b7178edfe6668e68789890a60242fec3c58bf7c#1\n",
      "  payouts: []\n",
      "  redeemer:\n",
      "  - input_from_party:\n",
      "      role_token: c.marlowe\n",
      "    into_account:\n",
      "      role_token: c.marlowe\n",
      "    of_token:\n",
      "      currency_symbol: 8bb3b343d8e404472337966a722150048c768d0a92a9813596c5338d\n",
      "      token_name: BearGarden\n",
      "    that_deposits: 500\n",
      "  scriptOutput:\n",
      "    address: 716a9391d6aa51af28dd876ebb5565b69d1e83e5ac7861506bd29b56b0\n",
      "    assets:\n",
      "      ada: 3000000\n",
      "      tokens:\n",
      "      - - policyId: 8bb3b343d8e404472337966a722150048c768d0a92a9813596c5338d\n",
      "          tokenName: BearGarden\n",
      "        - 500\n",
      "    datum:\n",
      "      marloweContract:\n",
      "        timeout: 1676679840000\n",
      "        timeout_continuation: close\n",
      "        when:\n",
      "        - case:\n",
      "            notify_if:\n",
      "              gt:\n",
      "                use_value: Drop Time\n",
      "              value: time_interval_start\n",
      "          then:\n",
      "            from_account:\n",
      "              role_token: c.marlowe\n",
      "            pay: 100\n",
      "            then:\n",
      "              from_account:\n",
      "                role_token: c.marlowe\n",
      "              pay: 100\n",
      "              then:\n",
      "                timeout: 1676679840000\n",
      "                timeout_continuation: close\n",
      "                when:\n",
      "                - case:\n",
      "                    notify_if: true\n",
      "                  then:\n",
      "                    from_account:\n",
      "                      role_token: c.marlowe\n",
      "                    pay: 100\n",
      "                    then:\n",
      "                      from_account:\n",
      "                        role_token: c.marlowe\n",
      "                      pay: 100\n",
      "                      then:\n",
      "                        from_account:\n",
      "                          role_token: c.marlowe\n",
      "                        pay: 100\n",
      "                        then: close\n",
      "                        to:\n",
      "                          party:\n",
      "                            role_token: j.webster\n",
      "                        token:\n",
      "                          currency_symbol: 8bb3b343d8e404472337966a722150048c768d0a92a9813596c5338d\n",
      "                          token_name: BearGarden\n",
      "                      to:\n",
      "                        party:\n",
      "                          role_token: j.lumley\n",
      "                      token:\n",
      "                        currency_symbol: 8bb3b343d8e404472337966a722150048c768d0a92a9813596c5338d\n",
      "                        token_name: BearGarden\n",
      "                    to:\n",
      "                      party:\n",
      "                        role_token: m.herbert\n",
      "                    token:\n",
      "                      currency_symbol: 8bb3b343d8e404472337966a722150048c768d0a92a9813596c5338d\n",
      "                      token_name: BearGarden\n",
      "              to:\n",
      "                party:\n",
      "                  role_token: e.cary\n",
      "              token:\n",
      "                currency_symbol: 8bb3b343d8e404472337966a722150048c768d0a92a9813596c5338d\n",
      "                token_name: BearGarden\n",
      "            to:\n",
      "              party:\n",
      "                role_token: f.beaumont\n",
      "            token:\n",
      "              currency_symbol: 8bb3b343d8e404472337966a722150048c768d0a92a9813596c5338d\n",
      "              token_name: BearGarden\n",
      "      marloweParams:\n",
      "        rolesCurrency: f0ff48bbb7bbe9d59a40f1ce90e9e9d0ff5002ec48f232b49ca0fb9a\n",
      "      marloweState:\n",
      "        accounts:\n",
      "        - - - address: addr1qy9prvx8ufwutkwxx9cmmuuajaqmjqwujqlp9d8pvg6gupcvluken35ncjnu0puetf5jvttedkze02d5kf890kquh60sut9jg7\n",
      "            - currency_symbol: ''\n",
      "              token_name: ''\n",
      "          - 3000000\n",
      "        - - - role_token: c.marlowe\n",
      "            - currency_symbol: 8bb3b343d8e404472337966a722150048c768d0a92a9813596c5338d\n",
      "              token_name: BearGarden\n",
      "          - 500\n",
      "        boundValues:\n",
      "        - - Drop Time\n",
      "          - 1676339179999\n",
      "        choices: []\n",
      "        minTime: 1676338683000\n",
      "    utxo:\n",
      "      txId: 0d5fd6758e7ff6c021c7f8f56ddef4a5c9fc8446268fc349b8933a640df9cc33\n",
      "      txIx: 1\n",
      "  step: apply\n",
      "  txId: 0d5fd6758e7ff6c021c7f8f56ddef4a5c9fc8446268fc349b8933a640df9cc33\n",
      "- contractId: 68384929c41d65b8583254265b7178edfe6668e68789890a60242fec3c58bf7c#1\n",
      "  payouts:\n",
      "  - - txId: 0d5c3462fa4c798fa0deb3bcb7dd432e1f835c1baa3c452ed5d83886b474b6e0\n",
      "      txIx: 2\n",
      "    - address: 7149076eab20243dc9462511fb98a9cfb719f86e9692288139b7c91df3\n",
      "      assets:\n",
      "        ada: 1215420\n",
      "        tokens:\n",
      "        - - policyId: 8bb3b343d8e404472337966a722150048c768d0a92a9813596c5338d\n",
      "            tokenName: BearGarden\n",
      "          - 100\n",
      "      datum:\n",
      "        policyId: f0ff48bbb7bbe9d59a40f1ce90e9e9d0ff5002ec48f232b49ca0fb9a\n",
      "        tokenName: e.cary\n",
      "  - - txId: 0d5c3462fa4c798fa0deb3bcb7dd432e1f835c1baa3c452ed5d83886b474b6e0\n",
      "      txIx: 3\n",
      "    - address: 7149076eab20243dc9462511fb98a9cfb719f86e9692288139b7c91df3\n",
      "      assets:\n",
      "        ada: 1215420\n",
      "        tokens:\n",
      "        - - policyId: 8bb3b343d8e404472337966a722150048c768d0a92a9813596c5338d\n",
      "            tokenName: BearGarden\n",
      "          - 100\n",
      "      datum:\n",
      "        policyId: f0ff48bbb7bbe9d59a40f1ce90e9e9d0ff5002ec48f232b49ca0fb9a\n",
      "        tokenName: f.beaumont\n",
      "  redeemer:\n",
      "  - input_notify\n",
      "  scriptOutput:\n",
      "    address: 716a9391d6aa51af28dd876ebb5565b69d1e83e5ac7861506bd29b56b0\n",
      "    assets:\n",
      "      ada: 3000000\n",
      "      tokens:\n",
      "      - - policyId: 8bb3b343d8e404472337966a722150048c768d0a92a9813596c5338d\n",
      "          tokenName: BearGarden\n",
      "        - 300\n",
      "    datum:\n",
      "      marloweContract:\n",
      "        timeout: 1676679840000\n",
      "        timeout_continuation: close\n",
      "        when:\n",
      "        - case:\n",
      "            notify_if: true\n",
      "          then:\n",
      "            from_account:\n",
      "              role_token: c.marlowe\n",
      "            pay: 100\n",
      "            then:\n",
      "              from_account:\n",
      "                role_token: c.marlowe\n",
      "              pay: 100\n",
      "              then:\n",
      "                from_account:\n",
      "                  role_token: c.marlowe\n",
      "                pay: 100\n",
      "                then: close\n",
      "                to:\n",
      "                  party:\n",
      "                    role_token: j.webster\n",
      "                token:\n",
      "                  currency_symbol: 8bb3b343d8e404472337966a722150048c768d0a92a9813596c5338d\n",
      "                  token_name: BearGarden\n",
      "              to:\n",
      "                party:\n",
      "                  role_token: j.lumley\n",
      "              token:\n",
      "                currency_symbol: 8bb3b343d8e404472337966a722150048c768d0a92a9813596c5338d\n",
      "                token_name: BearGarden\n",
      "            to:\n",
      "              party:\n",
      "                role_token: m.herbert\n",
      "            token:\n",
      "              currency_symbol: 8bb3b343d8e404472337966a722150048c768d0a92a9813596c5338d\n",
      "              token_name: BearGarden\n",
      "      marloweParams:\n",
      "        rolesCurrency: f0ff48bbb7bbe9d59a40f1ce90e9e9d0ff5002ec48f232b49ca0fb9a\n",
      "      marloweState:\n",
      "        accounts:\n",
      "        - - - address: addr1qy9prvx8ufwutkwxx9cmmuuajaqmjqwujqlp9d8pvg6gupcvluken35ncjnu0puetf5jvttedkze02d5kf890kquh60sut9jg7\n",
      "            - currency_symbol: ''\n",
      "              token_name: ''\n",
      "          - 3000000\n",
      "        - - - role_token: c.marlowe\n",
      "            - currency_symbol: 8bb3b343d8e404472337966a722150048c768d0a92a9813596c5338d\n",
      "              token_name: BearGarden\n",
      "          - 300\n",
      "        boundValues:\n",
      "        - - Drop Time\n",
      "          - 1676339179999\n",
      "        choices: []\n",
      "        minTime: 1676339364000\n",
      "    utxo:\n",
      "      txId: 0d5c3462fa4c798fa0deb3bcb7dd432e1f835c1baa3c452ed5d83886b474b6e0\n",
      "      txIx: 1\n",
      "  step: apply\n",
      "  txId: 0d5c3462fa4c798fa0deb3bcb7dd432e1f835c1baa3c452ed5d83886b474b6e0\n",
      "- contractId: 68384929c41d65b8583254265b7178edfe6668e68789890a60242fec3c58bf7c#1\n",
      "  payouts:\n",
      "  - - txId: 6e41846908175fbbea9a5c808901c5e1a1b790c1f899faa1c5c6bb887b5456e2\n",
      "      txIx: 1\n",
      "    - address: 7149076eab20243dc9462511fb98a9cfb719f86e9692288139b7c91df3\n",
      "      assets:\n",
      "        ada: 1215420\n",
      "        tokens:\n",
      "        - - policyId: 8bb3b343d8e404472337966a722150048c768d0a92a9813596c5338d\n",
      "            tokenName: BearGarden\n",
      "          - 100\n",
      "      datum:\n",
      "        policyId: f0ff48bbb7bbe9d59a40f1ce90e9e9d0ff5002ec48f232b49ca0fb9a\n",
      "        tokenName: j.lumley\n",
      "  - - txId: 6e41846908175fbbea9a5c808901c5e1a1b790c1f899faa1c5c6bb887b5456e2\n",
      "      txIx: 2\n",
      "    - address: 7149076eab20243dc9462511fb98a9cfb719f86e9692288139b7c91df3\n",
      "      assets:\n",
      "        ada: 1215420\n",
      "        tokens:\n",
      "        - - policyId: 8bb3b343d8e404472337966a722150048c768d0a92a9813596c5338d\n",
      "            tokenName: BearGarden\n",
      "          - 100\n",
      "      datum:\n",
      "        policyId: f0ff48bbb7bbe9d59a40f1ce90e9e9d0ff5002ec48f232b49ca0fb9a\n",
      "        tokenName: j.webster\n",
      "  - - txId: 6e41846908175fbbea9a5c808901c5e1a1b790c1f899faa1c5c6bb887b5456e2\n",
      "      txIx: 3\n",
      "    - address: 7149076eab20243dc9462511fb98a9cfb719f86e9692288139b7c91df3\n",
      "      assets:\n",
      "        ada: 1215420\n",
      "        tokens:\n",
      "        - - policyId: 8bb3b343d8e404472337966a722150048c768d0a92a9813596c5338d\n",
      "            tokenName: BearGarden\n",
      "          - 100\n",
      "      datum:\n",
      "        policyId: f0ff48bbb7bbe9d59a40f1ce90e9e9d0ff5002ec48f232b49ca0fb9a\n",
      "        tokenName: m.herbert\n",
      "  redeemer:\n",
      "  - input_notify\n",
      "  scriptOutput: null\n",
      "  step: apply\n",
      "  txId: 6e41846908175fbbea9a5c808901c5e1a1b790c1f899faa1c5c6bb887b5456e2\n",
      "- datumm:\n",
      "    policyId: f0ff48bbb7bbe9d59a40f1ce90e9e9d0ff5002ec48f232b49ca0fb9a\n",
      "    tokenName: f.beaumont\n",
      "  redeemingTx: 602c7faa6acda71db44221635eba0820c4609b20d4f8d0af6e28a75599260ffb\n",
      "  step: payout\n",
      "  utxo:\n",
      "    txId: 0d5c3462fa4c798fa0deb3bcb7dd432e1f835c1baa3c452ed5d83886b474b6e0\n",
      "    txIx: 3\n",
      "- datumm:\n",
      "    policyId: f0ff48bbb7bbe9d59a40f1ce90e9e9d0ff5002ec48f232b49ca0fb9a\n",
      "    tokenName: e.cary\n",
      "  redeemingTx: 6ba21152e105a8bd4a3317b0e7808166e240a44831d0549e94a9369314d8feb1\n",
      "  step: payout\n",
      "  utxo:\n",
      "    txId: 0d5c3462fa4c798fa0deb3bcb7dd432e1f835c1baa3c452ed5d83886b474b6e0\n",
      "    txIx: 2\n",
      "- datumm:\n",
      "    policyId: f0ff48bbb7bbe9d59a40f1ce90e9e9d0ff5002ec48f232b49ca0fb9a\n",
      "    tokenName: m.herbert\n",
      "  redeemingTx: 316820f95dc7e145210fff14ed98554e984201938b8d2a77cb01dc63f33f567f\n",
      "  step: payout\n",
      "  utxo:\n",
      "    txId: 6e41846908175fbbea9a5c808901c5e1a1b790c1f899faa1c5c6bb887b5456e2\n",
      "    txIx: 3\n",
      "- datumm:\n",
      "    policyId: f0ff48bbb7bbe9d59a40f1ce90e9e9d0ff5002ec48f232b49ca0fb9a\n",
      "    tokenName: j.lumley\n",
      "  redeemingTx: 489787f56f9adac2e6a0efc9263c49d320fe6ded1041d5c45d244634cb516337\n",
      "  step: payout\n",
      "  utxo:\n",
      "    txId: 6e41846908175fbbea9a5c808901c5e1a1b790c1f899faa1c5c6bb887b5456e2\n",
      "    txIx: 1\n",
      "- datumm:\n",
      "    policyId: f0ff48bbb7bbe9d59a40f1ce90e9e9d0ff5002ec48f232b49ca0fb9a\n",
      "    tokenName: j.webster\n",
      "  redeemingTx: 463afe467c8ecd0ebba8a42f88304c1195785b7f3aac39f65f1076a815057f78\n",
      "  step: payout\n",
      "  utxo:\n",
      "    txId: 6e41846908175fbbea9a5c808901c5e1a1b790c1f899faa1c5c6bb887b5456e2\n",
      "    txIx: 2\n"
     ]
    }
   ],
   "source": [
    "echo '{\"request\" : \"get\", \"contractId\" : \"'\"$CONTRACT_ID\"'\"}' | marlowe-pipe 2> /dev/null | json2yaml"
   ]
  },
  {
   "cell_type": "markdown",
   "id": "ef48938e-c6a8-4ba5-9f14-a413232c2c59",
   "metadata": {},
   "source": [
    "## Return the BearGarden tokens to the faucet\n",
    "\n",
    "Returning the token to the faucet is convenient housekeeping for this example."
   ]
  },
  {
   "cell_type": "code",
   "execution_count": 40,
   "id": "b2667429-3fd9-4bd0-a7ec-e208c681c1b3",
   "metadata": {},
   "outputs": [
    {
     "name": "stdout",
     "output_type": "stream",
     "text": [
      "TxId \"b6f5cd7769917917f2de5daeeeb5760d240bd8bf486c147d5a41c95140bef5b6\"\n"
     ]
    }
   ],
   "source": [
    "marlowe-cli transaction simple \\\n",
    "  --mainnet \\\n",
    "  --tx-in \"316820f95dc7e145210fff14ed98554e984201938b8d2a77cb01dc63f33f567f#2\" \\\n",
    "  --tx-in \"463afe467c8ecd0ebba8a42f88304c1195785b7f3aac39f65f1076a815057f78#2\" \\\n",
    "  --tx-in \"489787f56f9adac2e6a0efc9263c49d320fe6ded1041d5c45d244634cb516337#2\" \\\n",
    "  --tx-in \"602c7faa6acda71db44221635eba0820c4609b20d4f8d0af6e28a75599260ffb#2\" \\\n",
    "  --tx-in \"6ba21152e105a8bd4a3317b0e7808166e240a44831d0549e94a9369314d8feb1#2\" \\\n",
    "  --tx-out \"$FAUCET_ADDR+$((3 * ADA))+500 $FUNGIBLES_POLICY.BearGarden\" \\\n",
    "  --change-address \"$FAUCET_ADDR\" \\\n",
    "  --required-signer \"${ROLE_SKEY[f.beaumont]}\" \\\n",
    "  --required-signer \"${ROLE_SKEY[e.cary]}\" \\\n",
    "  --required-signer \"${ROLE_SKEY[m.herbert]}\" \\\n",
    "  --required-signer \"${ROLE_SKEY[j.lumley]}\" \\\n",
    "  --required-signer \"${ROLE_SKEY[j.webster]}\" \\\n",
    "  --out-file /dev/null \\\n",
    "  --submit 600"
   ]
  }
 ],
 "metadata": {
  "kernelspec": {
   "display_name": "Bash - Marlowe",
   "language": "bash",
   "name": "bash_marlowe"
  },
  "language_info": {
   "codemirror_mode": "shell",
   "file_extension": ".sh",
   "mimetype": "text/x-sh",
   "name": "/nix/store/p7bpdnxqd3i5hwm92mrscf7mvxk66404-bash-5.1-p16/bin/bash"
  }
 },
 "nbformat": 4,
 "nbformat_minor": 5
}
