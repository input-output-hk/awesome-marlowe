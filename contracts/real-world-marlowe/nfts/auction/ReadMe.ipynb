{
 "cells": [
  {
   "cell_type": "markdown",
   "id": "7e018226-8904-4178-9c39-33837457144f",
   "metadata": {},
   "source": [
    "## <font color=\"red\">Caution!</font>\n",
    "\n",
    "Before running a Marlowe contract on `mainnet`, it is wise to do the following in order to avoid losing funds:\n",
    "\n",
    "1. Understand the [Marlowe Language](https://marlowe.iohk.io/).\n",
    "2. Understand Cardano\\'s [Extended UTxO Model](https://docs.cardano.org/learn/eutxo-explainer).\n",
    "3. Read and understand the [Marlowe Best Practices Guide](https://github.com/input-output-hk/marlowe-cardano/blob/main/marlowe/best-practices.md).\n",
    "4. Read and understand the [Marlowe Security Guide](https://github.com/input-output-hk/marlowe-cardano/blob/main/marlowe/security.md).\n",
    "5. Use [Marlowe Playground](https://play.marlowe.iohk.io/) to flag warnings, perform static analysis, and simulate the contract.\n",
    "6. Use [Marlowe CLI\\'s](https://github.com/input-output-hk/marlowe-cardano/blob/main/marlowe-cli/ReadMe.md) `marlowe-cli run analyze` tool to study whether the contract can run on a Cardano network.\n",
    "7. Run *all execution paths* of the contract on a [Cardano testnet](https://docs.cardano.org/cardano-testnet/overview).\n",
    "\n",
    "---"
   ]
  },
  {
   "cell_type": "markdown",
   "id": "da2b6402-6392-465f-8ea6-347dc27266a5",
   "metadata": {},
   "source": [
    "# English Auction\n",
    "\n",
    "**Executive Summary**\n",
    "\n",
    "This English Auction with five bidders and three rounds of bidding demonstrates the use of merkleization for Marlowe contracts. Because bidders may bid in any order and may bid more than once, unless they are disqualified by an illegal bid or timeout, the contract involves a combinatorial explosion of possibilities. Without merkleization, the contract JSON file is 990MB in size and contains 940k `Case` statements, but after merkleization the JSON file is 9.8MB and it contains just 1150 merkleized `Case` statements.\n",
    "\n",
    "*Characteristic of this contract*\n",
    "\n",
    "*   A seller auctions one unit of an asset.\n",
    "*   Any number of bidders bid on the contract.\n",
    "*   Bids may occur in any order.\n",
    "*   There are a fixed number of bids (rounds of bidding) allowed.\n",
    "*   A bid is rejected if it isn't higher than all previous bids.\n",
    "*   A bid is rejected if it isn't immediately followed by a deposit of the Lovelace that was bid.\n",
    "*   Funds are returned to unsuccessful bidders.\n",
    "*   There is deadline for depositing the asset.\n",
    "*   Each bidding round has a deadline.\n",
    "\n",
    "*Other Highlights*\n",
    "\n",
    "*   Use of merkleization.\n",
    "*   Use of `Notify` to break execution into transactions that do not exceed the Plutus execution budget.\n",
    "\n",
    "*Sequences of bids in this example*\n",
    "\n",
    "1.  Christopher Marlowe creates the contract.\n",
    "2.  Christopher Marlowe deposits the `BearGarden` token.\n",
    "3.  Mary Herbert bids 5 ada.\n",
    "4.  Mary Herbert deposits the ada to cover their bid.\n",
    "5.  Elizabeth Cary bids 15 ada.\n",
    "6.  Elizabeth Cary deposits the ada to cover their bid.\n",
    "7.  Mary Herbert bids 25 ada.\n",
    "8.  Mary Herbert deposits the additional ada to cover their bid.\n",
    "9.  Francis Beaumont bids 30 ada.\n",
    "10. Francis Beaumont deposits the ada to cover their bid.\n",
    "11. Elizabeth Cary bids 40 ada.\n",
    "12. Elizabeth Cary deposits the additional ada to cover their bid.\n",
    "13. Mary Herbert bids 50 ada.\n",
    "14. Mary Herbert deposits the additional ada to cover their bid, and the bidding ends.\n",
    "15. The contract is notified to pay the `BearGarden` token to the role-payout address for the benefit of Mary Herbert and the winning bid ada to Christopher Marlowe's account.\n",
    "16. The contract is notified to pay any funds owed back to Jane Lumley and John webster to the role-payout address for their benefit.\n",
    "17. The contract is notified to pay any funds owed back to Elizabeth Cary and Mary Webster to the role-payout address for their benefit.\n",
    "18. The contract is notified to pay any funds owed back to Christopher Marlowe and Francis Beaumont to the role-payout address for their benefit.\n",
    "19. Christopher Marlowe withdraws their funds from the role-payout address.\n",
    "20. Francis Beaumont withdraws their funds from the role-payout address.\n",
    "21. Elizabeth Cary withdraws their funds from the role-payout address.\n",
    "22. Mary Webster withdraws their `BearGarden` token and funds from the role-payout address.\n",
    "\n",
    "Mary Webster wins the asset, Christopher Marlowe receives 50 ada, and the other bidders receive back their deposits. Jane Lumley and John Webster not bid."
   ]
  },
  {
   "cell_type": "markdown",
   "id": "68e6f255-3dcd-4651-9510-ef1d417bafc3",
   "metadata": {},
   "source": [
    "## Set Up"
   ]
  },
  {
   "cell_type": "markdown",
   "id": "8cd2d8de-caa3-4b99-b359-b2f5026348ef",
   "metadata": {},
   "source": [
    "Use `mainnet`."
   ]
  },
  {
   "cell_type": "code",
   "execution_count": 1,
   "id": "18eadf53-f319-4a3e-94c3-2f526e467787",
   "metadata": {},
   "outputs": [],
   "source": [
    ". ../../mainnet.env"
   ]
  },
  {
   "cell_type": "markdown",
   "id": "06986108-aa0a-4db6-982a-7de8ae9bad7e",
   "metadata": {},
   "source": [
    "Use the standard example roles."
   ]
  },
  {
   "cell_type": "code",
   "execution_count": 2,
   "id": "f3b84135-f5ab-47a3-917d-6e8cc18b53a9",
   "metadata": {},
   "outputs": [],
   "source": [
    ". ../../dramatis-personae/roles.env"
   ]
  },
  {
   "cell_type": "markdown",
   "id": "d3309f9b-05ae-40a2-bcb2-fce50a23bdac",
   "metadata": {},
   "source": [
    "## Role tokens\n",
    "\n",
    "This contract uses [Ada Handles](https://adahandle.com/) as role tokens:\n",
    "- Christopher Marlowe = [\\$c.marlowe](https://pool.pm/asset1z2xzfc6lu63jfmfffe2w3nyf6420eylv8e2xjp)\n",
    "- Francis Beaumont = [\\$f.beaumont](https://pool.pm/asset1dv4kncr59t9cndrqdhdd28l656eppcq9mlcxq7)\n",
    "- Elizabeth Carey = [\\$e.cary](https://pool.pm/asset1tx4euajkdczmkawgkjy342agaq33885dlvp0jl)\n",
    "- Mary Herbert = [\\$m.herbert](https://pool.pm/asset1a38nhu84xquj7whe3xqr80uyf99mh2r7hzf277)\n",
    "- Jane Lumley = [\\$j.lumley](https://pool.pm/asset1kujmmryzmxyqz6utp2slrmwfq4dmmnvwhkh7gkm)\n",
    "- John Webster = [\\$j.webster](https://pool.pm/asset1zdcycnnmg6dx5dy030u4cu0zdn63r2scghg2p4)\n",
    "\n",
    "*Note: Only use a pre-minted token as a Marlowe role if you have reviewed the monetary policy for security vulnerabilities.*\n",
    "\n",
    "Here is the currency symbol for Ada handles on `mainnet`:"
   ]
  },
  {
   "cell_type": "code",
   "execution_count": 3,
   "id": "31b3ae67-4374-4a71-99d8-fa454b4f9d0a",
   "metadata": {},
   "outputs": [
    {
     "name": "stdout",
     "output_type": "stream",
     "text": [
      "ROLES_CURRENCY = f0ff48bbb7bbe9d59a40f1ce90e9e9d0ff5002ec48f232b49ca0fb9a\n"
     ]
    }
   ],
   "source": [
    "echo \"ROLES_CURRENCY = $ROLES_CURRENCY\""
   ]
  },
  {
   "cell_type": "markdown",
   "id": "855b582e-c6a1-471f-adbd-3ab094c3f759",
   "metadata": {},
   "source": [
    "## Policy ID for the BearGarden token"
   ]
  },
  {
   "cell_type": "markdown",
   "id": "a3f84061-5bbd-408a-a3fa-eb64fba819dd",
   "metadata": {},
   "source": [
    "We previously minted the BearGarden token with the following policy."
   ]
  },
  {
   "cell_type": "code",
   "execution_count": 4,
   "id": "1904bda9-67d2-4c04-ba8a-d3bfe2d34f9c",
   "metadata": {},
   "outputs": [
    {
     "name": "stdout",
     "output_type": "stream",
     "text": [
      "FUNGIBLES_POLICY = 8bb3b343d8e404472337966a722150048c768d0a92a9813596c5338d\n"
     ]
    }
   ],
   "source": [
    "echo \"FUNGIBLES_POLICY = $FUNGIBLES_POLICY\""
   ]
  },
  {
   "cell_type": "markdown",
   "id": "5de6b340-db30-4d6b-9119-d76a4d4e4a58",
   "metadata": {},
   "source": [
    "## Initial Funding"
   ]
  },
  {
   "cell_type": "markdown",
   "id": "349f065d-30ac-46d0-ac0c-d177b934e907",
   "metadata": {},
   "source": [
    "Send the BearGarden fungible token from the faucet to Christopher Marlowe."
   ]
  },
  {
   "cell_type": "code",
   "execution_count": 5,
   "id": "d1f735ed-ba7f-41c6-9ee8-20d92665529c",
   "metadata": {},
   "outputs": [
    {
     "name": "stdout",
     "output_type": "stream",
     "text": [
      "TxId \"efda2e04c5c40cb2cb7b6ef49f1e674bf71a48d5e5a0618bb81cd63d581dfe16\"\n"
     ]
    }
   ],
   "source": [
    "ADA=1000000\n",
    "marlowe-cli transaction simple \\\n",
    "  --mainnet \\\n",
    "  --tx-in \"6de64605baf977fbb88938d8f51f3ab03ed759a4f3442864c7b8d63916f5ef2e#0\" \\\n",
    "  --tx-in \"0f8060fd92a3918a9536f911f4e575fcbd9cad889e8d61807878f82d631be43d#1\" \\\n",
    "  --tx-out \"${ROLE_ADDR[c.marlowe]}+$((2 * ADA))+1 $FUNGIBLES_POLICY.BearGarden\" \\\n",
    "  --change-address \"$FAUCET_ADDR\" \\\n",
    "  --required-signer \"$FAUCET_SKEY\" \\\n",
    "  --out-file /dev/null \\\n",
    "  --submit 600"
   ]
  },
  {
   "cell_type": "markdown",
   "id": "9d7994be-8723-43bf-b98f-640188948e42",
   "metadata": {},
   "source": [
    "### Set up the contract\n",
    "\n",
    "Start the contract at the current time."
   ]
  },
  {
   "cell_type": "code",
   "execution_count": 6,
   "id": "932d174a-1092-4c5f-9da1-4dd84bd6eb81",
   "metadata": {},
   "outputs": [
    {
     "name": "stdout",
     "output_type": "stream",
     "text": [
      "NOW = 1678573569000 = Sat Mar 11 03:26:09 PM MST 2023\n"
     ]
    }
   ],
   "source": [
    "NOW=$(($(date -u +%s) * 1000))\n",
    "echo \"NOW = $NOW = $(date -d @$((NOW / 1000)))\""
   ]
  },
  {
   "cell_type": "markdown",
   "id": "abeb8d27-6010-459f-905e-caf65739757a",
   "metadata": {},
   "source": [
    "There is a minimum ada requirement associated with a native token."
   ]
  },
  {
   "cell_type": "code",
   "execution_count": 7,
   "id": "88f6d4e0-2271-42cc-9cfe-177362edf9e9",
   "metadata": {},
   "outputs": [
    {
     "name": "stdout",
     "output_type": "stream",
     "text": [
      "MIN_ADA = 2000000\n"
     ]
    }
   ],
   "source": [
    "ADA=1000000\n",
    "MIN_ADA=$((2 * ADA))\n",
    "echo \"MIN_ADA = $MIN_ADA\""
   ]
  },
  {
   "cell_type": "markdown",
   "id": "16e9346d-b183-4e58-92a0-fd63dff0d9fb",
   "metadata": {},
   "source": [
    "Create a Haskell program that will generate a contract with six rounds of bidding for three bidders.\n",
    "\n",
    "The program outputs the file [contract.json](contract.json) and the merkleized continuations [continuations.json](continuations.json) of the contract."
   ]
  },
  {
   "cell_type": "code",
   "execution_count": 8,
   "id": "5e86a115-5b6a-4e65-9a36-63b781eb4685",
   "metadata": {},
   "outputs": [],
   "source": [
    "HOUR=$((60 * 60 * 1000))\n",
    "\n",
    "cat << EOI > english-auction.hs\n",
    "\n",
    "{-# LANGUAGE NumericUnderscores #-}\n",
    "{-# LANGUAGE OverloadedStrings  #-}\n",
    "{-# LANGUAGE Trustworthy        #-}\n",
    "\n",
    "module Main (\n",
    "-- * Entry point\n",
    "  main\n",
    "-- * Contracts\n",
    ", makeContract\n",
    ") where\n",
    "\n",
    "import Control.Monad (foldM)\n",
    "import Control.Monad.Writer (Writer, runWriter)\n",
    "import Data.Aeson ((.=), encodeFile, object, toJSON)\n",
    "import Data.List.Split (chunksOf)\n",
    "import Data.Map.Strict (toList)\n",
    "import Data.String (fromString)\n",
    "import Language.Marlowe.Core.V1.Semantics.Types\n",
    "import Language.Marlowe.CLI.Merkle (deepMerkleize)\n",
    "import Language.Marlowe.CLI.Types (Continuations)\n",
    "import Plutus.V1.Ledger.Api (POSIXTime(..), TokenName(..))\n",
    "\n",
    "-- | Print the contract.\n",
    "main :: IO ()\n",
    "main =\n",
    "  do\n",
    "    let\n",
    "      (contract, continuations) =\n",
    "        runWriter\n",
    "          $ makeContract\n",
    "            6 (Role <$> [\"f.beaumont\", \"e.cary\", \"m.herbert\", \"j.lumley\", \"j.webster\"])\n",
    "            (Bound 2_000_000 1_000_000_000_000)\n",
    "            (Token \"$FUNGIBLES_POLICY\" \"BearGarden\")\n",
    "            $NOW (5 * $HOUR)\n",
    "    encodeFile \"contract.json\" contract\n",
    "    encodeFile \"continuations.json\" continuations\n",
    "\n",
    "-- | A timeout beyond the operation of the contract, just used for merklization.\n",
    "timeoutFinal :: POSIXTime\n",
    "timeoutFinal = POSIXTime $((NOW + 6 * HOUR))\n",
    "\n",
    "-- | Ada.\n",
    "ada :: Token\n",
    "ada = Token \"\" \"\"\n",
    "\n",
    "-- | The party that sells the item at auction.\n",
    "seller :: Party\n",
    "seller = Role \"c.marlowe\"\n",
    "\n",
    "-- | The quantity of items that is auctioned.\n",
    "assetAmount :: Value Observation\n",
    "assetAmount = Constant 1\n",
    "\n",
    "-- | The minimum ada requirement for the asset.\n",
    "minAda :: Value Observation\n",
    "minAda = Constant $MIN_ADA\n",
    "\n",
    "-- | The value of the highest bid.\n",
    "highestBid :: ValueId\n",
    "highestBid = \"Highest Bid\"\n",
    "\n",
    "-- | Create the Marlowe contract for an English auction.\n",
    "makeContract :: Int                            -- ^ The number of rounds of bidding.\n",
    "             -> [Party]                        -- ^ The bidders.\n",
    "             -> Bound                          -- ^ The range for valid bids, in Lovelace.\n",
    "             -> Token                          -- ^ The token representing the asset being bid upon.\n",
    "             -> Integer                        -- ^ The start time of the contract.\n",
    "             -> Integer                        -- ^ The spacing between bid deadlines.\n",
    "             -> Writer Continuations Contract  -- ^ Action for creating the merkleized English auction.\n",
    "makeContract nRounds bidders bidBounds assetToken start delta =\n",
    "  do\n",
    "    let\n",
    "      bids = ChoiceId \"Bid\" <$> bidders\n",
    "      deadlines = [POSIXTime $ start + delta * (1 + fromIntegral i) | i <- [1..nRounds]]\n",
    "    -- Make explicit payments upon completion of bidding.\n",
    "    close <- foldM (flip makeRefunds) Close (chunksOf 2 $ seller : bidders)\n",
    "    -- Deposit the asset, then make the bids, but close if no one bids.\n",
    "    makeAssetDeposit assetToken (POSIXTime $ start + delta)\n",
    "      -- Do the rounds of bidding and depositing.\n",
    "      =<< makeBids bidBounds assetToken deadlines bids\n",
    "      close close\n",
    "\n",
    "-- | Deposit the asset that is the subject of the bidding.\n",
    "makeAssetDeposit :: Token                          -- ^ The token representing the asset being bid upon.\n",
    "                 -> Timeout                        -- ^ The timeout for depositing the asset.\n",
    "                 -> Contract                       -- ^ The contract to be executed after the asset is deposited.\n",
    "                 -> Writer Continuations Contract  -- ^ Action for creating the merkleized contract for the asset deposit and subsequent activity.\n",
    "makeAssetDeposit asset assetDeadline continuation =\n",
    "  deepMerkleize\n",
    "    $ When\n",
    "    [\n",
    "      -- The seller deposits the asset being auctioned.\n",
    "      Case (Deposit seller seller asset assetAmount)\n",
    "        continuation\n",
    "    ]\n",
    "    -- The contract ends if the deposit is not made.\n",
    "    assetDeadline\n",
    "    Close\n",
    "\n",
    "-- | Make the contract for bids.\n",
    "makeBids :: Bound                            -- ^ The range of valid bids, in Lovelace.\n",
    "         -> Token                            -- ^ The token representing the asset being bid upon.\n",
    "         -> [Timeout]                        -- ^ The deadlines for the rounds of bidding.\n",
    "         -> [ChoiceId]                       -- ^ The choices the bidders will make.\n",
    "         -> Contract                         -- ^ The contract to be executed at the end of the bidding.\n",
    "         -> Contract                         -- ^ The next stage of the contract, if a valid bid was not made.\n",
    "         -> Writer Continuations Contract    -- ^ Action for creating the merkleized bidding contract, and its merkleized continuations.\n",
    "makeBids _ _ [] _ _ continuation = pure continuation\n",
    "makeBids _ _ _ [] _ continuation = pure continuation\n",
    "makeBids bounds assetToken (deadline : remainingDeadlines) bids close continuation =\n",
    "  do\n",
    "    continuation' <- merkleizeTimeout continuation\n",
    "    let\n",
    "      -- Let a bidder make their bid.\n",
    "      makeBid bid@(ChoiceId _ bidder) =\n",
    "        do\n",
    "          let\n",
    "            bidAmount = ChoiceValue bid\n",
    "          -- Handle the remaining bids and finalization if the bidder is not disqualified.\n",
    "          remaining <-\n",
    "            makeBids bounds assetToken remainingDeadlines bids close\n",
    "              $ When\n",
    "                [\n",
    "                  -- Wait for a notification before continuing.\n",
    "                  Case (Notify TrueObs)\n",
    "                    -- Make the payment for the asset.\n",
    "                    $ Pay bidder (Account seller) ada bidAmount\n",
    "                    $ Pay seller (Party bidder) assetToken assetAmount\n",
    "                    -- Close the contract.\n",
    "                    close\n",
    "                ]\n",
    "                timeoutFinal Close\n",
    "          -- Handle the remaining bids and finalization if the bidder is disqualified.\n",
    "          disqualify <- makeBids bounds assetToken remainingDeadlines (filter (/= bid) bids) close continuation'\n",
    "          disqualify' <- merkleizeTimeout disqualify\n",
    "          -- Require a deposit if a bid was made.\n",
    "          deposit <-\n",
    "            deepMerkleize\n",
    "              $ When\n",
    "                [\n",
    "                  -- Deposit the Lovelace for the bid.\n",
    "                  Case (Deposit bidder bidder ada . SubValue (AddValue bidAmount minAda) $ AvailableMoney bidder ada)\n",
    "                    -- Record the new highest amount.\n",
    "                    $ Let highestBid bidAmount\n",
    "                    -- Handle the remaining bids.\n",
    "                      remaining\n",
    "                ]\n",
    "                -- Ignore the bid and disqualify the bidder if the deposit was not made.\n",
    "                deadline\n",
    "                disqualify'\n",
    "          pure\n",
    "            $ Case (Choice bid [bounds])\n",
    "              -- Check if the bid is highest so far.\n",
    "              $ If (ValueGT bidAmount $ UseValue highestBid)\n",
    "                  -- Require a deposit if the bid is highest.\n",
    "                  deposit\n",
    "                  -- Ignore the bid and disqualify the bidder if it is not highest.\n",
    "                  disqualify\n",
    "    cs <- mapM makeBid bids\n",
    "    deepMerkleize\n",
    "      $ When cs \n",
    "      -- End the bidding if no one bids in this round.\n",
    "      deadline\n",
    "      continuation'\n",
    "\n",
    "-- | Make an explicit refund.\n",
    "makeRefunds :: [Party]                        -- ^ The parties to refund.\n",
    "            -> Contract                       -- ^ The contract to be executed after the refund.\n",
    "            -> Writer Continuations Contract  -- ^ Action to merklieze the continuation.\n",
    "makeRefunds parties continuation =\n",
    "  deepMerkleize\n",
    "    $ When\n",
    "      [\n",
    "        -- Wait for a notification before continuing.\n",
    "        Case (Notify TrueObs)\n",
    "          -- Pay everyone.\n",
    "          $ flip (foldr (\\party -> Pay party (Party party) ada (AvailableMoney party ada))) parties\n",
    "            continuation\n",
    "      ]\n",
    "      timeoutFinal Close\n",
    "\n",
    "-- | Merkleize a timeout continuations.\n",
    "merkleizeTimeout :: Contract                       -- ^ The continuation to be merkleized.\n",
    "                 -> Writer Continuations Contract  -- ^ Action to merklieze the continuation.\n",
    "merkleizeTimeout continuation =\n",
    "  deepMerkleize\n",
    "    $ When [Case (Notify TrueObs) continuation] timeoutFinal Close\n",
    "\n",
    "EOI"
   ]
  },
  {
   "cell_type": "markdown",
   "id": "1c12779d-9a21-4d82-aab7-086d62de0b68",
   "metadata": {},
   "source": [
    "👉 Note that the above contract contains the multiple-input vulnerability where a bidder could submit all of the contract's bids in a single transaction, thus locking other bidders out of participating. How would you simply alter the contract to prevent this?"
   ]
  },
  {
   "cell_type": "markdown",
   "id": "d088b466-83df-4a30-bb77-66759028c239",
   "metadata": {},
   "source": [
    "Now run the Haskell program to generate the contract and continuations."
   ]
  },
  {
   "cell_type": "code",
   "execution_count": 9,
   "id": "b3d09d40-afdc-4671-b583-fa755713940b",
   "metadata": {},
   "outputs": [
    {
     "name": "stdout",
     "output_type": "stream",
     "text": [
      "\n",
      "real\t0m8.243s\n",
      "user\t0m7.586s\n",
      "sys\t0m0.664s\n"
     ]
    }
   ],
   "source": [
    "time runhaskell english-auction.hs"
   ]
  },
  {
   "cell_type": "markdown",
   "id": "772d404a-8870-4c2f-8798-f2b04230e435",
   "metadata": {},
   "source": [
    "The initial contract itself is brief."
   ]
  },
  {
   "cell_type": "code",
   "execution_count": 10,
   "id": "6dadf68d-747f-47c8-a4b9-719521a8e8ab",
   "metadata": {},
   "outputs": [
    {
     "name": "stdout",
     "output_type": "stream",
     "text": [
      "timeout: 1678591569000\n",
      "timeout_continuation: close\n",
      "when:\n",
      "- case:\n",
      "    deposits: 1\n",
      "    into_account:\n",
      "      role_token: c.marlowe\n",
      "    of_token:\n",
      "      currency_symbol: 8bb3b343d8e404472337966a722150048c768d0a92a9813596c5338d\n",
      "      token_name: BearGarden\n",
      "    party:\n",
      "      role_token: c.marlowe\n",
      "  merkleized_then: 811ac63b42c08040914c1e057c095ffb66237dfc41f3a368d53ff38f2d1d2fdd\n"
     ]
    }
   ],
   "source": [
    "json2yaml contract.json"
   ]
  },
  {
   "cell_type": "markdown",
   "id": "842c2a8c-a608-4437-b898-8e9556375938",
   "metadata": {},
   "source": [
    "However, there are over three thousand continuations of the contract."
   ]
  },
  {
   "cell_type": "code",
   "execution_count": 11,
   "id": "c8b53cb8-a562-47ae-9cc2-4af81ae58e1f",
   "metadata": {},
   "outputs": [
    {
     "name": "stdout",
     "output_type": "stream",
     "text": [
      "\u001b[0;39m3085\u001b[0m\n"
     ]
    }
   ],
   "source": [
    "jq -r '. | length' continuations.json"
   ]
  },
  {
   "cell_type": "markdown",
   "id": "dc0abc57-327a-413b-ab7f-f7fadf62761f",
   "metadata": {},
   "source": [
    "The continuations take about four megabytes of storage, which is far more that could be stored on-chain in a single datum."
   ]
  },
  {
   "cell_type": "code",
   "execution_count": 12,
   "id": "f1c09c15-e309-4137-b72d-73a2f1656e40",
   "metadata": {},
   "outputs": [
    {
     "name": "stdout",
     "output_type": "stream",
     "text": [
      "-rw-rw-r-- 1 bbush bbush-upg 4.1M Mar 11 15:26 continuations.json\n"
     ]
    }
   ],
   "source": [
    "ls -lh continuations.json"
   ]
  },
  {
   "cell_type": "markdown",
   "id": "df9a0ea2-5917-4774-9a72-11c5366ad2fd",
   "metadata": {},
   "source": [
    "Here is an example of what one of the continuations looks like."
   ]
  },
  {
   "cell_type": "code",
   "execution_count": 13,
   "id": "04e66047-ddd7-428a-ab24-a9c3cae5d1db",
   "metadata": {},
   "outputs": [
    {
     "name": "stdout",
     "output_type": "stream",
     "text": [
      "key: 0\n",
      "value:\n",
      "- 000be6a30ba558e0bdf60ae859991a48074f114a4044b0b2a702e621d5e6b879\n",
      "- else:\n",
      "    timeout: 1678699569000\n",
      "    timeout_continuation:\n",
      "      timeout: 1678595169000\n",
      "      timeout_continuation: close\n",
      "      when:\n",
      "      - case:\n",
      "          notify_if: true\n",
      "        merkleized_then: 91027f9e2893a55c0db5c7fc38f696516fb2419eb319930bf82f979197644f2d\n",
      "    when:\n",
      "    - case:\n",
      "        choose_between:\n",
      "        - from: 2000000\n",
      "          to: 1000000000000\n",
      "        for_choice:\n",
      "          choice_name: Bid\n",
      "          choice_owner:\n",
      "            role_token: e.cary\n",
      "      merkleized_then: fca4e7a126a77e415a9f61a4511024918cdc4507afcd03cb9921c299d60db31a\n",
      "    - case:\n",
      "        choose_between:\n",
      "        - from: 2000000\n",
      "          to: 1000000000000\n",
      "        for_choice:\n",
      "          choice_name: Bid\n",
      "          choice_owner:\n",
      "            role_token: m.herbert\n",
      "      merkleized_then: 8c67f0ac70139fa1e5504dafaf22a4d1c34f22cdee7f44d4e4fe32c0894cc282\n",
      "  if:\n",
      "    gt:\n",
      "      use_value: Highest Bid\n",
      "    value:\n",
      "      value_of_choice:\n",
      "        choice_name: Bid\n",
      "        choice_owner:\n",
      "          role_token: j.webster\n",
      "  then:\n",
      "    timeout: 1678681569000\n",
      "    timeout_continuation:\n",
      "      timeout: 1678595169000\n",
      "      timeout_continuation: close\n",
      "      when:\n",
      "      - case:\n",
      "          notify_if: true\n",
      "        merkleized_then: 2175194962b7d501a9d45df4fdda77af733f4906f314531b58b7a27d29181a66\n",
      "    when:\n",
      "    - case:\n",
      "        deposits:\n",
      "          minus:\n",
      "            amount_of_token:\n",
      "              currency_symbol: ''\n",
      "              token_name: ''\n",
      "            in_account:\n",
      "              role_token: j.webster\n",
      "          value:\n",
      "            add:\n",
      "              value_of_choice:\n",
      "                choice_name: Bid\n",
      "                choice_owner:\n",
      "                  role_token: j.webster\n",
      "            and: 2000000\n",
      "        into_account:\n",
      "          role_token: j.webster\n",
      "        of_token:\n",
      "          currency_symbol: ''\n",
      "          token_name: ''\n",
      "        party:\n",
      "          role_token: j.webster\n",
      "      merkleized_then: e767ee6b7876937ec0d3140f5679541109650b5644b27f5c02fb97a6b6859472\n"
     ]
    }
   ],
   "source": [
    "jq '. | to_entries | .[0]' continuations.json | json2yaml"
   ]
  },
  {
   "cell_type": "markdown",
   "id": "fa1d2322-c270-4fc1-80e3-a0fb4085ce81",
   "metadata": {},
   "source": [
    "We start the contract in an initial state that contains the mininum ada in the UTxO for the script address."
   ]
  },
  {
   "cell_type": "code",
   "execution_count": 14,
   "id": "ead4124f-2ecb-4340-a49c-da4c9607fa20",
   "metadata": {},
   "outputs": [
    {
     "name": "stdout",
     "output_type": "stream",
     "text": [
      "{\"accounts\":[[[{\"address\":\"addr1q8tntkszteptml4e9ce9l3fsmgavwv4ywunvdnhxv6nw5ksvluken35ncjnu0puetf5jvttedkze02d5kf890kquh60stayv90\"},{\"currency_symbol\":\"\",\"token_name\":\"\"}],2000000]],\"boundValues\":[],\"choices\":[],\"minTime\":1}\n"
     ]
    }
   ],
   "source": [
    "yaml2json << EOI > state.json\n",
    "accounts:\n",
    "- - - address: ${ROLE_ADDR[c.marlowe]}\n",
    "    - currency_symbol: ''\n",
    "      token_name: ''\n",
    "  - $MIN_ADA\n",
    "boundValues: []\n",
    "choices: []\n",
    "minTime: 1\n",
    "EOI\n",
    "cat state.json"
   ]
  },
  {
   "cell_type": "markdown",
   "id": "781152cb-25d7-43e3-be86-6c75ba208918",
   "metadata": {},
   "source": [
    "## Transaction 1. Create the contract"
   ]
  },
  {
   "cell_type": "markdown",
   "id": "ea4f4fca-3269-45fd-9a38-4715306e2762",
   "metadata": {},
   "source": [
    "We supply the roles currency when initializing the contract-state data file."
   ]
  },
  {
   "cell_type": "code",
   "execution_count": 15,
   "id": "37c3ea5b-b90e-4d27-b82d-71f0670f5f75",
   "metadata": {},
   "outputs": [
    {
     "name": "stdout",
     "output_type": "stream",
     "text": [
      "\n",
      "Searching for reference script at address: addr1z9l4w7djneh0kss4drg2php6ynflsvmal7x3w5nrc95uvhz7e4q926apsvcd6kn33cpx95k8jsmrj7v0k62rczvz8urqrl2z0l\n",
      "\n",
      "Expected reference script hash: \"2ed2631dbb277c84334453c5c437b86325d371f0835a28b910a91a6e\"\n",
      "\n",
      "Searching for reference script at address: addr1z9l4w7djneh0kss4drg2php6ynflsvmal7x3w5nrc95uvhz7e4q926apsvcd6kn33cpx95k8jsmrj7v0k62rczvz8urqrl2z0l\n",
      "\n",
      "Expected reference script hash: \"e165610232235bbbbeff5b998b233daae42979dec92a6722d9cda989\"\n",
      "\n",
      "Validator size: 12296\n",
      "Base-validator cost: ExBudget {exBudgetCPU = ExCPU 18745100, exBudgetMemory = ExMemory 81600}\n"
     ]
    }
   ],
   "source": [
    "marlowe-cli run initialize \\\n",
    "  --mainnet \\\n",
    "  --contract-file contract.json \\\n",
    "  --state-file state.json \\\n",
    "  --roles-currency \"$ROLES_CURRENCY\" \\\n",
    "  --at-address addr1z9l4w7djneh0kss4drg2php6ynflsvmal7x3w5nrc95uvhz7e4q926apsvcd6kn33cpx95k8jsmrj7v0k62rczvz8urqrl2z0l \\\n",
    "  --out-file tmp.marlowe \\\n",
    "  --print-stats"
   ]
  },
  {
   "cell_type": "markdown",
   "id": "b25cc2a1-cae7-466c-8fc1-66aeb386c38b",
   "metadata": {},
   "source": [
    "The `marlowe-cli` tool does not yet support importing merkleized continuations, so we splice them into the contract-state data file."
   ]
  },
  {
   "cell_type": "code",
   "execution_count": 16,
   "id": "e8325a8b-9411-4914-8c68-874ce8e1e43d",
   "metadata": {},
   "outputs": [],
   "source": [
    "jq -s '.[0] * {tx : {continuations : .[1]}}' tmp.marlowe continuations.json > marlowe-1.json"
   ]
  },
  {
   "cell_type": "markdown",
   "id": "4816b08a-0ecf-4811-b957-a752446e1350",
   "metadata": {},
   "source": [
    "Now submit the transaction to create the contract."
   ]
  },
  {
   "cell_type": "code",
   "execution_count": 17,
   "id": "9dbb3eff-354c-4da2-9e43-2d13032a7552",
   "metadata": {},
   "outputs": [
    {
     "name": "stdout",
     "output_type": "stream",
     "text": [
      "\n",
      "Fee: Lovelace 201141\n",
      "Size: 662 / 16384 = 4%\n",
      "Execution units:\n",
      "  Memory: 0 / 14000000 = 0%\n",
      "  Steps: 0 / 10000000000 = 0%\n",
      "TX_1 = 15b9ce2788f76dfd867d94abe8e5c9ec88f761cc0b54ca01c4ab31494938b352\n"
     ]
    }
   ],
   "source": [
    "TX_1=$(\n",
    "marlowe-cli run auto-execute \\\n",
    "  --mainnet \\\n",
    "  --marlowe-out-file marlowe-1.json \\\n",
    "  --change-address \"${ROLE_ADDR[c.marlowe]}\" \\\n",
    "  --required-signer \"${ROLE_SKEY[c.marlowe]}\" \\\n",
    "  --out-file /dev/null \\\n",
    "  --submit 600 \\\n",
    "  --print-stats \\\n",
    "| sed -e 's/^TxId \"\\(.*\\)\"$/\\1/' \\\n",
    ")\n",
    "echo \"TX_1 = $TX_1\""
   ]
  },
  {
   "cell_type": "markdown",
   "id": "532b8e5b-e452-418b-858c-4a377105a649",
   "metadata": {},
   "source": [
    "View the transaction on a Cardano explorer."
   ]
  },
  {
   "cell_type": "code",
   "execution_count": 18,
   "id": "df219fb7-ff10-438b-84ef-f9bd9fb88414",
   "metadata": {},
   "outputs": [
    {
     "name": "stdout",
     "output_type": "stream",
     "text": [
      "https://cardanoscan.io/transaction/15b9ce2788f76dfd867d94abe8e5c9ec88f761cc0b54ca01c4ab31494938b352?tab=utxo\n"
     ]
    }
   ],
   "source": [
    "echo \"https://cardanoscan.io/transaction/$TX_1?tab=utxo\""
   ]
  },
  {
   "cell_type": "markdown",
   "id": "0123357f-b1a7-4d06-a3f9-71b3fac0179c",
   "metadata": {},
   "source": [
    "## Transaction 2. Christopher Marlowe deposits the BearGarden token\n",
    "\n",
    "Prepare the transaction to deposit the token that is being auctioned."
   ]
  },
  {
   "cell_type": "code",
   "execution_count": 19,
   "id": "ce68205b-3456-4c70-a8b1-01ec6dff7023",
   "metadata": {},
   "outputs": [
    {
     "name": "stdout",
     "output_type": "stream",
     "text": [
      "Rounding  `TransactionInput` txInterval boundries to:(POSIXTime {getPOSIXTime = 1678573702000},POSIXTime {getPOSIXTime = 1678574302999})\n",
      "TransactionInput {txInterval = (POSIXTime {getPOSIXTime = 1678573702000},POSIXTime {getPOSIXTime = 1678574302999}), txInputs = [NormalInput (IDeposit \"c.marlowe\" \"c.marlowe\" (Token \"8bb3b343d8e404472337966a722150048c768d0a92a9813596c5338d\" \"BearGarden\") 1)]}\n",
      "\n",
      "Datum size: 718\n"
     ]
    }
   ],
   "source": [
    "marlowe-cli run prepare \\\n",
    "  --marlowe-file marlowe-1.json \\\n",
    "  --out-file marlowe-2.json \\\n",
    "  --deposit-party c.marlowe \\\n",
    "  --deposit-account c.marlowe \\\n",
    "  --deposit-token \"$FUNGIBLES_POLICY.BearGarden\" \\\n",
    "  --deposit-amount 1 \\\n",
    "  --invalid-before \"$((1000 * ($(date -u +%s) - 2 * 60)))\" \\\n",
    "  --invalid-hereafter \"$((1000 * ($(date -u +%s) + 8 * 60)))\" \\\n",
    "  --print-stats"
   ]
  },
  {
   "cell_type": "markdown",
   "id": "225b9906-ae95-4196-86d7-25f339085823",
   "metadata": {},
   "source": [
    "Now the contract contains initial ada and the native token, both in the Seller's account."
   ]
  },
  {
   "cell_type": "code",
   "execution_count": 20,
   "id": "d341196a-aeca-4128-b674-293fca44dc40",
   "metadata": {},
   "outputs": [
    {
     "name": "stdout",
     "output_type": "stream",
     "text": [
      "- - - address: addr1q8tntkszteptml4e9ce9l3fsmgavwv4ywunvdnhxv6nw5ksvluken35ncjnu0puetf5jvttedkze02d5kf890kquh60stayv90\n",
      "    - currency_symbol: ''\n",
      "      token_name: ''\n",
      "  - 2000000\n",
      "- - - role_token: c.marlowe\n",
      "    - currency_symbol: 8bb3b343d8e404472337966a722150048c768d0a92a9813596c5338d\n",
      "      token_name: BearGarden\n",
      "  - 1\n"
     ]
    }
   ],
   "source": [
    "jq .tx.state.accounts marlowe-2.json | json2yaml"
   ]
  },
  {
   "cell_type": "markdown",
   "id": "cb548b4e-e727-4f35-8413-12ae5c773964",
   "metadata": {},
   "source": [
    "Submit the transaction."
   ]
  },
  {
   "cell_type": "code",
   "execution_count": 21,
   "id": "a8d9bb25-936e-4a12-8078-33d2b5d091ac",
   "metadata": {},
   "outputs": [
    {
     "name": "stdout",
     "output_type": "stream",
     "text": [
      "\n",
      "Fee: Lovelace 940468\n",
      "Size: 2314 / 16384 = 14%\n",
      "Execution units:\n",
      "  Memory: 8545440 / 14000000 = 61%\n",
      "  Steps: 2299285045 / 10000000000 = 22%\n",
      "TX_2 = 99bc07aa0284bdb0376eff6437926ceac31e094c8cb8950539de168471a879f1\n"
     ]
    }
   ],
   "source": [
    "TX_2=$(\n",
    "marlowe-cli run auto-execute \\\n",
    "  --mainnet \\\n",
    "  --marlowe-in-file marlowe-1.json \\\n",
    "  --marlowe-out-file marlowe-2.json \\\n",
    "  --tx-in-marlowe \"$TX_1#1\" \\\n",
    "  --change-address \"${ROLE_ADDR[c.marlowe]}\" \\\n",
    "  --required-signer \"${ROLE_SKEY[c.marlowe]}\" \\\n",
    "  --out-file /dev/null \\\n",
    "  --submit 600 \\\n",
    "  --print-stats \\\n",
    "| sed -e 's/^TxId \"\\(.*\\)\"$/\\1/' \\\n",
    ")\n",
    "echo \"TX_2 = $TX_2\""
   ]
  },
  {
   "cell_type": "markdown",
   "id": "92e789af-f8de-4964-acc1-9a49c43f47f5",
   "metadata": {},
   "source": [
    "View the transaction on a Cardano explorer."
   ]
  },
  {
   "cell_type": "code",
   "execution_count": 22,
   "id": "bed6134f-de27-4fd9-88a5-6f4ebf242048",
   "metadata": {},
   "outputs": [
    {
     "name": "stdout",
     "output_type": "stream",
     "text": [
      "https://cardanoscan.io/transaction/99bc07aa0284bdb0376eff6437926ceac31e094c8cb8950539de168471a879f1?tab=utxo\n"
     ]
    }
   ],
   "source": [
    "echo \"https://cardanoscan.io/transaction/$TX_2?tab=utxo\""
   ]
  },
  {
   "cell_type": "markdown",
   "id": "8f713e89-2faa-4ea3-a211-30d15176c9dd",
   "metadata": {},
   "source": [
    "## Transaction 3. Mary Herbert bids 5 ada"
   ]
  },
  {
   "cell_type": "code",
   "execution_count": 23,
   "id": "d1159adf-5bda-410d-9732-075439813809",
   "metadata": {},
   "outputs": [
    {
     "name": "stdout",
     "output_type": "stream",
     "text": [
      "AMOUNT_1 = 5000000\n"
     ]
    }
   ],
   "source": [
    "AMOUNT_1=$((5 * ADA))\n",
    "echo \"AMOUNT_1 = $AMOUNT_1\""
   ]
  },
  {
   "cell_type": "code",
   "execution_count": 24,
   "id": "18478bdf-1aae-405b-b9b6-2393f5a4900e",
   "metadata": {},
   "outputs": [
    {
     "name": "stdout",
     "output_type": "stream",
     "text": [
      "Rounding  `TransactionInput` txInterval boundries to:(POSIXTime {getPOSIXTime = 1678573817000},POSIXTime {getPOSIXTime = 1678574417999})\n",
      "TransactionInput {txInterval = (POSIXTime {getPOSIXTime = 1678573817000},POSIXTime {getPOSIXTime = 1678574417999}), txInputs = [NormalInput (IChoice (ChoiceId \"Bid\" \"m.herbert\") 5000000)]}\n",
      "\n",
      "Datum size: 472\n"
     ]
    }
   ],
   "source": [
    "marlowe-cli run prepare \\\n",
    "  --marlowe-file marlowe-2.json \\\n",
    "  --out-file marlowe-3.json \\\n",
    "  --choice-party m.herbert \\\n",
    "  --choice-name Bid \\\n",
    "  --choice-number \"$AMOUNT_1\" \\\n",
    "  --invalid-before \"$((1000 * ($(date -u +%s) - 2 * 60)))\" \\\n",
    "  --invalid-hereafter \"$((1000 * ($(date -u +%s) + 8 * 60)))\" \\\n",
    "  --print-stats"
   ]
  },
  {
   "cell_type": "markdown",
   "id": "f64d0e7b-c56b-4ab4-853d-000149ed39c8",
   "metadata": {},
   "source": [
    "The first bid has been recorded in the state."
   ]
  },
  {
   "cell_type": "code",
   "execution_count": 25,
   "id": "14e9fb79-ad9b-4d1e-9ec4-f720a072d2dd",
   "metadata": {},
   "outputs": [
    {
     "name": "stdout",
     "output_type": "stream",
     "text": [
      "boundValues: []\n",
      "choices:\n",
      "- - choice_name: Bid\n",
      "    choice_owner:\n",
      "      role_token: m.herbert\n",
      "  - 5000000\n"
     ]
    }
   ],
   "source": [
    "jq '.tx.state | del(.accounts) | del(.minTime)' marlowe-3.json | json2yaml"
   ]
  },
  {
   "cell_type": "markdown",
   "id": "c3dfd668-d79c-4384-8b25-fac1a10d283c",
   "metadata": {},
   "source": [
    "Submit the transaction."
   ]
  },
  {
   "cell_type": "code",
   "execution_count": 26,
   "id": "7774da5d-162d-4722-8026-031e16b5c29f",
   "metadata": {},
   "outputs": [
    {
     "name": "stdout",
     "output_type": "stream",
     "text": [
      "\n",
      "Fee: Lovelace 1051301\n",
      "Size: 2610 / 16384 = 15%\n",
      "Execution units:\n",
      "  Memory: 9765554 / 14000000 = 69%\n",
      "  Steps: 2741071460 / 10000000000 = 27%\n",
      "TX_3 = 9b216f1a87352ff04e80e10b69c1c5afe4ad03aa44d5ddbdf3972a18b24734a1\n"
     ]
    }
   ],
   "source": [
    "TX_3=$(\n",
    "marlowe-cli run auto-execute \\\n",
    "  --mainnet \\\n",
    "  --marlowe-in-file marlowe-2.json \\\n",
    "  --marlowe-out-file marlowe-3.json \\\n",
    "  --tx-in-marlowe \"$TX_2#1\" \\\n",
    "  --change-address \"${ROLE_ADDR[m.herbert]}\" \\\n",
    "  --required-signer \"${ROLE_SKEY[m.herbert]}\" \\\n",
    "  --out-file /dev/null \\\n",
    "  --submit 600 \\\n",
    "  --print-stats \\\n",
    "| sed -e 's/^TxId \"\\(.*\\)\"$/\\1/' \\\n",
    ")\n",
    "echo \"TX_3 = $TX_3\""
   ]
  },
  {
   "cell_type": "markdown",
   "id": "a8f9e595-d8d6-4a8c-80ac-7b0af42d944a",
   "metadata": {},
   "source": [
    "View the transaction on a Cardano explorer."
   ]
  },
  {
   "cell_type": "code",
   "execution_count": 27,
   "id": "b25d43df-19ce-40c6-a0fb-d10ed17919ee",
   "metadata": {},
   "outputs": [
    {
     "name": "stdout",
     "output_type": "stream",
     "text": [
      "https://cardanoscan.io/transaction/9b216f1a87352ff04e80e10b69c1c5afe4ad03aa44d5ddbdf3972a18b24734a1?tab=utxo\n"
     ]
    }
   ],
   "source": [
    "echo \"https://cardanoscan.io/transaction/$TX_3?tab=utxo\""
   ]
  },
  {
   "cell_type": "markdown",
   "id": "a6245b9c-d2cf-4d23-950b-2e0f29cea579",
   "metadata": {},
   "source": [
    "## Transaction 4. Mary Herbert deposits 7 ada\n",
    "\n",
    "The bidder must deposit whatever ada they just bid, along with the minimum ada requirement."
   ]
  },
  {
   "cell_type": "code",
   "execution_count": 28,
   "id": "c5091cab-29c4-4ea2-95e1-8767db1a1c8e",
   "metadata": {},
   "outputs": [
    {
     "name": "stdout",
     "output_type": "stream",
     "text": [
      "DELTA_1 = 7000000\n"
     ]
    }
   ],
   "source": [
    "DELTA_1=$((AMOUNT_1 + $MIN_ADA))\n",
    "echo \"DELTA_1 = $DELTA_1\""
   ]
  },
  {
   "cell_type": "code",
   "execution_count": 29,
   "id": "64550f83-6661-48ae-aaab-60abc8a667c7",
   "metadata": {},
   "outputs": [
    {
     "name": "stdout",
     "output_type": "stream",
     "text": [
      "Rounding  `TransactionInput` txInterval boundries to:(POSIXTime {getPOSIXTime = 1678573853000},POSIXTime {getPOSIXTime = 1678574453999})\n",
      "TransactionInput {txInterval = (POSIXTime {getPOSIXTime = 1678573853000},POSIXTime {getPOSIXTime = 1678574453999}), txInputs = [NormalInput (IDeposit \"m.herbert\" \"m.herbert\" (Token \"\" \"\") 7000000)]}\n",
      "\n",
      "Datum size: 795\n"
     ]
    }
   ],
   "source": [
    "marlowe-cli run prepare \\\n",
    "  --marlowe-file marlowe-3.json \\\n",
    "  --out-file marlowe-4.json \\\n",
    "  --deposit-account m.herbert \\\n",
    "  --deposit-party m.herbert \\\n",
    "  --deposit-amount \"$DELTA_1\" \\\n",
    "  --invalid-before \"$((1000 * ($(date -u +%s) - 2 * 60)))\" \\\n",
    "  --invalid-hereafter \"$((1000 * ($(date -u +%s) + 8 * 60)))\" \\\n",
    "  --print-stats"
   ]
  },
  {
   "cell_type": "markdown",
   "id": "12865e1a-d55c-4b0f-a4e7-2f61be1e9e85",
   "metadata": {},
   "source": [
    "The bidder's deposit is in their account."
   ]
  },
  {
   "cell_type": "code",
   "execution_count": 30,
   "id": "bc8870aa-363a-47fa-80e9-b4c0fa7f704e",
   "metadata": {},
   "outputs": [
    {
     "name": "stdout",
     "output_type": "stream",
     "text": [
      "accounts:\n",
      "- - - address: addr1q8tntkszteptml4e9ce9l3fsmgavwv4ywunvdnhxv6nw5ksvluken35ncjnu0puetf5jvttedkze02d5kf890kquh60stayv90\n",
      "    - currency_symbol: ''\n",
      "      token_name: ''\n",
      "  - 2000000\n",
      "- - - role_token: c.marlowe\n",
      "    - currency_symbol: 8bb3b343d8e404472337966a722150048c768d0a92a9813596c5338d\n",
      "      token_name: BearGarden\n",
      "  - 1\n",
      "- - - role_token: m.herbert\n",
      "    - currency_symbol: ''\n",
      "      token_name: ''\n",
      "  - 7000000\n",
      "boundValues:\n",
      "- - Highest Bid\n",
      "  - 5000000\n"
     ]
    }
   ],
   "source": [
    "jq '.tx.state | del(.choices) | del(.minTime)' marlowe-4.json | json2yaml"
   ]
  },
  {
   "cell_type": "markdown",
   "id": "a935a7e1-2fa5-40d1-930f-24764c6b1476",
   "metadata": {},
   "source": [
    "Submit the transaction."
   ]
  },
  {
   "cell_type": "code",
   "execution_count": 31,
   "id": "fbcaa67e-d5e5-44ea-b447-aa2480d60e9d",
   "metadata": {},
   "outputs": [
    {
     "name": "stdout",
     "output_type": "stream",
     "text": [
      "\n",
      "Fee: Lovelace 1070450\n",
      "Size: 2587 / 16384 = 15%\n",
      "Execution units:\n",
      "  Memory: 10071658 / 14000000 = 71%\n",
      "  Steps: 2714088187 / 10000000000 = 27%\n",
      "TX_4 = b97c0555fd0a8773090cdda3a7270a74121945ac5b8b4e688d5a44a350e92277\n"
     ]
    }
   ],
   "source": [
    "TX_4=$(\n",
    "marlowe-cli run auto-execute \\\n",
    "  --mainnet \\\n",
    "  --marlowe-in-file marlowe-3.json \\\n",
    "  --marlowe-out-file marlowe-4.json \\\n",
    "  --tx-in-marlowe \"$TX_3#1\" \\\n",
    "  --change-address \"${ROLE_ADDR[m.herbert]}\" \\\n",
    "  --required-signer \"${ROLE_SKEY[m.herbert]}\" \\\n",
    "  --out-file /dev/null \\\n",
    "  --submit 600 \\\n",
    "  --print-stats \\\n",
    "| sed -e 's/^TxId \"\\(.*\\)\"$/\\1/' \\\n",
    ")\n",
    "echo \"TX_4 = $TX_4\""
   ]
  },
  {
   "cell_type": "markdown",
   "id": "557fc1e6-85ec-4598-9a99-7f7327985120",
   "metadata": {},
   "source": [
    "View the transaction on a Cardano explorer."
   ]
  },
  {
   "cell_type": "code",
   "execution_count": 32,
   "id": "170f7edf-98a2-41f7-bd66-d0a73be7b59d",
   "metadata": {},
   "outputs": [
    {
     "name": "stdout",
     "output_type": "stream",
     "text": [
      "https://cardanoscan.io/transaction/b97c0555fd0a8773090cdda3a7270a74121945ac5b8b4e688d5a44a350e92277?tab=utxo\n"
     ]
    }
   ],
   "source": [
    "echo \"https://cardanoscan.io/transaction/$TX_4?tab=utxo\""
   ]
  },
  {
   "cell_type": "markdown",
   "id": "3d15291d-54b1-4e43-9ccb-48ab6dbf0d35",
   "metadata": {},
   "source": [
    "## Transaction 5. Elizabeth Cary bids 15 ada"
   ]
  },
  {
   "cell_type": "code",
   "execution_count": 33,
   "id": "50097210-74b2-432e-b84f-db312197b132",
   "metadata": {},
   "outputs": [
    {
     "name": "stdout",
     "output_type": "stream",
     "text": [
      "AMOUNT_2 = 15000000\n"
     ]
    }
   ],
   "source": [
    "AMOUNT_2=$((15 * ADA))\n",
    "echo \"AMOUNT_2 = $AMOUNT_2\""
   ]
  },
  {
   "cell_type": "code",
   "execution_count": 34,
   "id": "98ddf5fb-aced-44b0-ae4a-5c6fe75bdf47",
   "metadata": {},
   "outputs": [
    {
     "name": "stdout",
     "output_type": "stream",
     "text": [
      "Rounding  `TransactionInput` txInterval boundries to:(POSIXTime {getPOSIXTime = 1678573943000},POSIXTime {getPOSIXTime = 1678574543999})\n",
      "TransactionInput {txInterval = (POSIXTime {getPOSIXTime = 1678573943000},POSIXTime {getPOSIXTime = 1678574543999}), txInputs = [NormalInput (IChoice (ChoiceId \"Bid\" \"e.cary\") 15000000)]}\n",
      "\n",
      "Datum size: 534\n"
     ]
    }
   ],
   "source": [
    "marlowe-cli run prepare \\\n",
    "  --marlowe-file marlowe-4.json \\\n",
    "  --out-file marlowe-5.json \\\n",
    "  --choice-party e.cary \\\n",
    "  --choice-name Bid \\\n",
    "  --choice-number $AMOUNT_2 \\\n",
    "  --invalid-before \"$((1000 * ($(date -u +%s) - 2 * 60)))\" \\\n",
    "  --invalid-hereafter \"$((1000 * ($(date -u +%s) + 8 * 60)))\" \\\n",
    "  --print-stats"
   ]
  },
  {
   "cell_type": "markdown",
   "id": "7184de0f-e8bb-4335-828e-d2e4396b9dfd",
   "metadata": {},
   "source": [
    "The second bid has been recorded."
   ]
  },
  {
   "cell_type": "code",
   "execution_count": 35,
   "id": "104c06d0-7134-488f-b517-62f0a9e83c79",
   "metadata": {},
   "outputs": [
    {
     "name": "stdout",
     "output_type": "stream",
     "text": [
      "boundValues:\n",
      "- - Highest Bid\n",
      "  - 5000000\n",
      "choices:\n",
      "- - choice_name: Bid\n",
      "    choice_owner:\n",
      "      role_token: m.herbert\n",
      "  - 5000000\n",
      "- - choice_name: Bid\n",
      "    choice_owner:\n",
      "      role_token: e.cary\n",
      "  - 15000000\n"
     ]
    }
   ],
   "source": [
    "jq '.tx.state | del(.accounts) | del(.minTime)' marlowe-5.json | json2yaml"
   ]
  },
  {
   "cell_type": "markdown",
   "id": "c943478c-2e61-4991-bd26-bf03c0cc5ccb",
   "metadata": {},
   "source": [
    "Submit the transaction."
   ]
  },
  {
   "cell_type": "code",
   "execution_count": 36,
   "id": "8192261a-79f2-4894-a9cc-4c72d88652d2",
   "metadata": {},
   "outputs": [
    {
     "name": "stdout",
     "output_type": "stream",
     "text": [
      "\n",
      "Fee: Lovelace 1121322\n",
      "Size: 2731 / 16384 = 16%\n",
      "Execution units:\n",
      "  Memory: 10619980 / 14000000 = 75%\n",
      "  Steps: 2954615860 / 10000000000 = 29%\n",
      "TX_5 = 02891f6ab00e8c1f2f7273edbc409646262aab8e1594d40b233898f1720f7dbd\n"
     ]
    }
   ],
   "source": [
    "TX_5=$(\n",
    "marlowe-cli run auto-execute \\\n",
    "  --mainnet \\\n",
    "  --marlowe-in-file  marlowe-4.json \\\n",
    "  --marlowe-out-file marlowe-5.json \\\n",
    "  --tx-in-marlowe \"$TX_4#1\" \\\n",
    "  --change-address \"${ROLE_ADDR[e.cary]}\" \\\n",
    "  --required-signer \"${ROLE_SKEY[e.cary]}\" \\\n",
    "  --out-file /dev/null \\\n",
    "  --submit 600 \\\n",
    "  --print-stats \\\n",
    "| sed -e 's/^TxId \"\\(.*\\)\"$/\\1/' \\\n",
    ")\n",
    "echo \"TX_5 = $TX_5\""
   ]
  },
  {
   "cell_type": "markdown",
   "id": "11f0dd7a-e4ea-4b58-9917-eccb369ece11",
   "metadata": {},
   "source": [
    "View the transaction on a Cardano explorer."
   ]
  },
  {
   "cell_type": "code",
   "execution_count": 37,
   "id": "ef018d94-069a-4f85-ac09-0b4467f64b98",
   "metadata": {},
   "outputs": [
    {
     "name": "stdout",
     "output_type": "stream",
     "text": [
      "https://cardanoscan.io/transaction/02891f6ab00e8c1f2f7273edbc409646262aab8e1594d40b233898f1720f7dbd?tab=utxo\n"
     ]
    }
   ],
   "source": [
    "echo \"https://cardanoscan.io/transaction/$TX_5?tab=utxo\""
   ]
  },
  {
   "cell_type": "markdown",
   "id": "0de2a95b-65f8-44fd-a5e9-f37e1222a42e",
   "metadata": {},
   "source": [
    "## Transaction 6. Elizabeth Cary deposits 17 ada\n",
    "\n",
    "The bidder deposits the 15 ada bit and the minimum ada."
   ]
  },
  {
   "cell_type": "code",
   "execution_count": 38,
   "id": "578f2d4c-f556-4d26-b59c-99d010a0ea14",
   "metadata": {},
   "outputs": [
    {
     "name": "stdout",
     "output_type": "stream",
     "text": [
      "DELTA_2 = 17000000\n"
     ]
    }
   ],
   "source": [
    "DELTA_2=$((AMOUNT_2 + MIN_ADA))\n",
    "echo \"DELTA_2 = $DELTA_2\""
   ]
  },
  {
   "cell_type": "code",
   "execution_count": 39,
   "id": "e93371f1-7b97-4156-baa6-1e5dd380defa",
   "metadata": {},
   "outputs": [
    {
     "name": "stdout",
     "output_type": "stream",
     "text": [
      "Rounding  `TransactionInput` txInterval boundries to:(POSIXTime {getPOSIXTime = 1678574099000},POSIXTime {getPOSIXTime = 1678574699999})\n",
      "TransactionInput {txInterval = (POSIXTime {getPOSIXTime = 1678574099000},POSIXTime {getPOSIXTime = 1678574699999}), txInputs = [NormalInput (IDeposit \"e.cary\" \"e.cary\" (Token \"\" \"\") 17000000)]}\n",
      "\n",
      "Warnings:\n",
      "  TransactionShadowing \"Highest Bid\" 5000000 15000000\n",
      "Datum size: 845\n"
     ]
    }
   ],
   "source": [
    "marlowe-cli run prepare \\\n",
    "  --marlowe-file marlowe-5.json \\\n",
    "  --out-file marlowe-6.json \\\n",
    "  --deposit-account e.cary \\\n",
    "  --deposit-party e.cary \\\n",
    "  --deposit-amount \"$DELTA_2\" \\\n",
    "  --invalid-before \"$((1000 * ($(date -u +%s) - 2 * 60)))\" \\\n",
    "  --invalid-hereafter \"$((1000 * ($(date -u +%s) + 8 * 60)))\" \\\n",
    "  --print-stats"
   ]
  },
  {
   "cell_type": "markdown",
   "id": "540e8a7d-9e62-4f0c-93ab-5594a05a6054",
   "metadata": {},
   "source": [
    "The bidder's deposit appears in their account."
   ]
  },
  {
   "cell_type": "code",
   "execution_count": 40,
   "id": "684a3a06-dc9b-4469-99a8-c5e04a839db7",
   "metadata": {},
   "outputs": [
    {
     "name": "stdout",
     "output_type": "stream",
     "text": [
      "accounts:\n",
      "- - - address: addr1q8tntkszteptml4e9ce9l3fsmgavwv4ywunvdnhxv6nw5ksvluken35ncjnu0puetf5jvttedkze02d5kf890kquh60stayv90\n",
      "    - currency_symbol: ''\n",
      "      token_name: ''\n",
      "  - 2000000\n",
      "- - - role_token: c.marlowe\n",
      "    - currency_symbol: 8bb3b343d8e404472337966a722150048c768d0a92a9813596c5338d\n",
      "      token_name: BearGarden\n",
      "  - 1\n",
      "- - - role_token: m.herbert\n",
      "    - currency_symbol: ''\n",
      "      token_name: ''\n",
      "  - 7000000\n",
      "- - - role_token: e.cary\n",
      "    - currency_symbol: ''\n",
      "      token_name: ''\n",
      "  - 17000000\n",
      "boundValues:\n",
      "- - Highest Bid\n",
      "  - 15000000\n"
     ]
    }
   ],
   "source": [
    "jq '.tx.state | del(.choices) | del(.minTime)' marlowe-6.json | json2yaml"
   ]
  },
  {
   "cell_type": "markdown",
   "id": "29ed3227-e66a-49c7-88c0-8e63fa79b81c",
   "metadata": {},
   "source": [
    "Submit the transaction."
   ]
  },
  {
   "cell_type": "code",
   "execution_count": 41,
   "id": "c637bcfd-e57b-4be9-a7d6-917c625b32dd",
   "metadata": {},
   "outputs": [
    {
     "name": "stdout",
     "output_type": "stream",
     "text": [
      "\n",
      "Fee: Lovelace 1146666\n",
      "Size: 2687 / 16384 = 16%\n",
      "Execution units:\n",
      "  Memory: 11018788 / 14000000 = 78%\n",
      "  Steps: 2952179880 / 10000000000 = 29%\n",
      "TX_6 = 606f10eb120d6a91d23d50a76aae167d3bb4fb1b444d57d9e03b3a133d57b59e\n"
     ]
    }
   ],
   "source": [
    "TX_6=$(\n",
    "marlowe-cli run auto-execute \\\n",
    "  --mainnet \\\n",
    "  --marlowe-in-file marlowe-5.json \\\n",
    "  --marlowe-out-file marlowe-6.json \\\n",
    "  --tx-in-marlowe \"$TX_5#1\" \\\n",
    "  --change-address \"${ROLE_ADDR[e.cary]}\" \\\n",
    "  --required-signer \"${ROLE_SKEY[e.cary]}\" \\\n",
    "  --out-file /dev/null \\\n",
    "  --submit 600 \\\n",
    "  --print-stats \\\n",
    "| sed -e 's/^TxId \"\\(.*\\)\"$/\\1/' \\\n",
    ")\n",
    "echo \"TX_6 = $TX_6\""
   ]
  },
  {
   "cell_type": "markdown",
   "id": "775d559c-c5d5-4d35-a325-99cab34813be",
   "metadata": {},
   "source": [
    "View the transaction on a Cardano explorer."
   ]
  },
  {
   "cell_type": "code",
   "execution_count": 42,
   "id": "e3d91f8d-38fd-4ea6-9db1-e0bec0dccbe4",
   "metadata": {},
   "outputs": [
    {
     "name": "stdout",
     "output_type": "stream",
     "text": [
      "https://cardanoscan.io/transaction/606f10eb120d6a91d23d50a76aae167d3bb4fb1b444d57d9e03b3a133d57b59e?tab=utxo\n"
     ]
    }
   ],
   "source": [
    "echo \"https://cardanoscan.io/transaction/$TX_6?tab=utxo\""
   ]
  },
  {
   "cell_type": "markdown",
   "id": "3d18bd2c-c66a-4a8a-b217-c03f8139949c",
   "metadata": {},
   "source": [
    "## Transaction 7. Mary Herbert now bids 25 ada"
   ]
  },
  {
   "cell_type": "code",
   "execution_count": 43,
   "id": "78c2d657-6d57-4b63-82ec-b32db3377a40",
   "metadata": {},
   "outputs": [
    {
     "name": "stdout",
     "output_type": "stream",
     "text": [
      "AMOUNT_3 = 25000000\n"
     ]
    }
   ],
   "source": [
    "AMOUNT_3=$((25 * ADA))\n",
    "echo \"AMOUNT_3 = $AMOUNT_3\""
   ]
  },
  {
   "cell_type": "code",
   "execution_count": 44,
   "id": "6c380650-48cd-4249-97e5-53ebe8947926",
   "metadata": {},
   "outputs": [
    {
     "name": "stdout",
     "output_type": "stream",
     "text": [
      "Rounding  `TransactionInput` txInterval boundries to:(POSIXTime {getPOSIXTime = 1678574180000},POSIXTime {getPOSIXTime = 1678574780999})\n",
      "TransactionInput {txInterval = (POSIXTime {getPOSIXTime = 1678574180000},POSIXTime {getPOSIXTime = 1678574780999}), txInputs = [NormalInput (IChoice (ChoiceId \"Bid\" \"m.herbert\") 25000000)]}\n",
      "\n",
      "Datum size: 572\n"
     ]
    }
   ],
   "source": [
    "marlowe-cli run prepare \\\n",
    "  --marlowe-file marlowe-6.json \\\n",
    "  --out-file marlowe-7.json \\\n",
    "  --choice-party m.herbert \\\n",
    "  --choice-name Bid \\\n",
    "  --choice-number \"$AMOUNT_3\" \\\n",
    "  --invalid-before \"$((1000 * ($(date -u +%s) - 2 * 60)))\" \\\n",
    "  --invalid-hereafter \"$((1000 * ($(date -u +%s) + 8 * 60)))\" \\\n",
    "  --print-stats"
   ]
  },
  {
   "cell_type": "markdown",
   "id": "0c78841b-9a6d-4f99-9190-96009f20ea7f",
   "metadata": {},
   "source": [
    "The record of choices reflects the increased bid."
   ]
  },
  {
   "cell_type": "code",
   "execution_count": 45,
   "id": "c7855790-808e-4802-80b7-8e363e992ac1",
   "metadata": {},
   "outputs": [
    {
     "name": "stdout",
     "output_type": "stream",
     "text": [
      "boundValues:\n",
      "- - Highest Bid\n",
      "  - 15000000\n",
      "choices:\n",
      "- - choice_name: Bid\n",
      "    choice_owner:\n",
      "      role_token: m.herbert\n",
      "  - 25000000\n",
      "- - choice_name: Bid\n",
      "    choice_owner:\n",
      "      role_token: e.cary\n",
      "  - 15000000\n"
     ]
    }
   ],
   "source": [
    "jq '.tx.state | del(.accounts) | del(.minTime)' marlowe-7.json | json2yaml"
   ]
  },
  {
   "cell_type": "markdown",
   "id": "d6825209-d55e-4d74-a5d6-affcaaa85bdd",
   "metadata": {},
   "source": [
    "Submit the transaction."
   ]
  },
  {
   "cell_type": "code",
   "execution_count": 46,
   "id": "b3a04bce-9f0a-4193-a189-f14ba852d77b",
   "metadata": {},
   "outputs": [
    {
     "name": "stdout",
     "output_type": "stream",
     "text": [
      "\n",
      "Fee: Lovelace 1227972\n",
      "Size: 2873 / 16384 = 17%\n",
      "Execution units:\n",
      "  Memory: 11883492 / 14000000 = 84%\n",
      "  Steps: 3274358628 / 10000000000 = 32%\n",
      "TX_7 = b091fa392846d921c89039efad7b373087eeaf6040d0dc1756d4e877c3a6e147\n"
     ]
    }
   ],
   "source": [
    "TX_7=$(\n",
    "marlowe-cli run auto-execute \\\n",
    "  --mainnet \\\n",
    "  --marlowe-in-file marlowe-6.json \\\n",
    "  --marlowe-out-file marlowe-7.json \\\n",
    "  --tx-in-marlowe \"$TX_6#1\" \\\n",
    "  --change-address \"${ROLE_ADDR[m.herbert]}\" \\\n",
    "  --required-signer \"${ROLE_SKEY[m.herbert]}\" \\\n",
    "  --out-file /dev/null \\\n",
    "  --submit 600 \\\n",
    "  --print-stats \\\n",
    "| sed -e 's/^TxId \"\\(.*\\)\"$/\\1/' \\\n",
    ")\n",
    "echo \"TX_7 = $TX_7\""
   ]
  },
  {
   "cell_type": "markdown",
   "id": "6844e4eb-2dd8-4f6d-891e-2112242af498",
   "metadata": {},
   "source": [
    "View the transaction on a Cardano explorer."
   ]
  },
  {
   "cell_type": "code",
   "execution_count": 47,
   "id": "0c5d70fc-32a6-42e0-9804-1dc5d2c366c1",
   "metadata": {},
   "outputs": [
    {
     "name": "stdout",
     "output_type": "stream",
     "text": [
      "https://cardanoscan.io/transaction/b091fa392846d921c89039efad7b373087eeaf6040d0dc1756d4e877c3a6e147?tab=utxo\n"
     ]
    }
   ],
   "source": [
    "echo \"https://cardanoscan.io/transaction/$TX_7?tab=utxo\""
   ]
  },
  {
   "cell_type": "markdown",
   "id": "f3efb3f8-eaa9-4ca0-99b2-cae7e28ebe27",
   "metadata": {},
   "source": [
    "## Transaction 8. Mary Herbert deposits 20 ada\n",
    "\n",
    "Their new bid of 25 ada is 20 ada higher than their previous bid."
   ]
  },
  {
   "cell_type": "code",
   "execution_count": 48,
   "id": "c7e18f5c-eeea-4388-a9de-521d67bf5cec",
   "metadata": {},
   "outputs": [
    {
     "name": "stdout",
     "output_type": "stream",
     "text": [
      "DELTA_3 = 20000000\n"
     ]
    }
   ],
   "source": [
    "DELTA_3=$((AMOUNT_3 - AMOUNT_1))\n",
    "echo \"DELTA_3 = $DELTA_3\""
   ]
  },
  {
   "cell_type": "code",
   "execution_count": 49,
   "id": "2a31247a-5fe2-48d3-b46c-6910617d8937",
   "metadata": {},
   "outputs": [
    {
     "name": "stdout",
     "output_type": "stream",
     "text": [
      "Rounding  `TransactionInput` txInterval boundries to:(POSIXTime {getPOSIXTime = 1678574209000},POSIXTime {getPOSIXTime = 1678574809999})\n",
      "TransactionInput {txInterval = (POSIXTime {getPOSIXTime = 1678574209000},POSIXTime {getPOSIXTime = 1678574809999}), txInputs = [NormalInput (IDeposit \"m.herbert\" \"m.herbert\" (Token \"\" \"\") 20000000)]}\n",
      "\n",
      "Warnings:\n",
      "  TransactionShadowing \"Highest Bid\" 15000000 25000000\n",
      "Datum size: 845\n"
     ]
    }
   ],
   "source": [
    "marlowe-cli run prepare \\\n",
    "  --marlowe-file marlowe-7.json \\\n",
    "  --out-file marlowe-8.json \\\n",
    "  --deposit-account m.herbert \\\n",
    "  --deposit-party m.herbert \\\n",
    "  --deposit-amount \"$DELTA_3\" \\\n",
    "  --invalid-before \"$((1000 * ($(date -u +%s) - 2 * 60)))\" \\\n",
    "  --invalid-hereafter \"$((1000 * ($(date -u +%s) + 8 * 60)))\" \\\n",
    "  --print-stats"
   ]
  },
  {
   "cell_type": "markdown",
   "id": "97609259-ef2a-468f-bb4e-7c65f0614b75",
   "metadata": {},
   "source": [
    "The third bidder's account has been updated."
   ]
  },
  {
   "cell_type": "code",
   "execution_count": 50,
   "id": "99f37c3a-1953-4b76-ad44-52684f869978",
   "metadata": {},
   "outputs": [
    {
     "name": "stdout",
     "output_type": "stream",
     "text": [
      "accounts:\n",
      "- - - address: addr1q8tntkszteptml4e9ce9l3fsmgavwv4ywunvdnhxv6nw5ksvluken35ncjnu0puetf5jvttedkze02d5kf890kquh60stayv90\n",
      "    - currency_symbol: ''\n",
      "      token_name: ''\n",
      "  - 2000000\n",
      "- - - role_token: c.marlowe\n",
      "    - currency_symbol: 8bb3b343d8e404472337966a722150048c768d0a92a9813596c5338d\n",
      "      token_name: BearGarden\n",
      "  - 1\n",
      "- - - role_token: m.herbert\n",
      "    - currency_symbol: ''\n",
      "      token_name: ''\n",
      "  - 27000000\n",
      "- - - role_token: e.cary\n",
      "    - currency_symbol: ''\n",
      "      token_name: ''\n",
      "  - 17000000\n",
      "boundValues:\n",
      "- - Highest Bid\n",
      "  - 25000000\n"
     ]
    }
   ],
   "source": [
    "jq '.tx.state | del(.choices) | del(.minTime)' marlowe-8.json | json2yaml"
   ]
  },
  {
   "cell_type": "markdown",
   "id": "7aa37b6c-462f-4907-824f-e84e5f8343a5",
   "metadata": {},
   "source": [
    "Submit the transaction."
   ]
  },
  {
   "cell_type": "code",
   "execution_count": 51,
   "id": "06b6eeee-5a87-428b-a934-753b523cbb78",
   "metadata": {},
   "outputs": [
    {
     "name": "stdout",
     "output_type": "stream",
     "text": [
      "\n",
      "Fee: Lovelace 1184240\n",
      "Size: 2737 / 16384 = 16%\n",
      "Execution units:\n",
      "  Memory: 11484904 / 14000000 = 82%\n",
      "  Steps: 3069780365 / 10000000000 = 30%\n",
      "TX_8 = bdc1b62ff68486230fd5af2a7e9aa0b3257a8a9b2aaebbd205c12bbd7964b7e6\n"
     ]
    }
   ],
   "source": [
    "TX_8=$(\n",
    "marlowe-cli run auto-execute \\\n",
    "  --mainnet \\\n",
    "  --marlowe-in-file marlowe-7.json \\\n",
    "  --marlowe-out-file marlowe-8.json \\\n",
    "  --tx-in-marlowe \"$TX_7#1\" \\\n",
    "  --change-address \"${ROLE_ADDR[m.herbert]}\" \\\n",
    "  --required-signer \"${ROLE_SKEY[m.herbert]}\" \\\n",
    "  --out-file /dev/null \\\n",
    "  --submit 600 \\\n",
    "  --print-stats \\\n",
    "| sed -e 's/^TxId \"\\(.*\\)\"$/\\1/' \\\n",
    ")\n",
    "echo \"TX_8 = $TX_8\""
   ]
  },
  {
   "cell_type": "markdown",
   "id": "699f51e1-c127-4d37-b328-2907de3e0e24",
   "metadata": {},
   "source": [
    "View the transaction on a Cardano explorer."
   ]
  },
  {
   "cell_type": "code",
   "execution_count": 52,
   "id": "20528b85-41f9-471f-b770-5f0dcc02f6dd",
   "metadata": {},
   "outputs": [
    {
     "name": "stdout",
     "output_type": "stream",
     "text": [
      "https://cardanoscan.io/transaction/bdc1b62ff68486230fd5af2a7e9aa0b3257a8a9b2aaebbd205c12bbd7964b7e6?tab=utxo\n"
     ]
    }
   ],
   "source": [
    "echo \"https://cardanoscan.io/transaction/$TX_8?tab=utxo\""
   ]
  },
  {
   "cell_type": "markdown",
   "id": "81115656-3d27-4eb5-80ff-803b57ab7744",
   "metadata": {},
   "source": [
    "## Transaction 9. Francis Beaumont bids 30 ada"
   ]
  },
  {
   "cell_type": "code",
   "execution_count": 53,
   "id": "7c62c9eb-2431-42f2-9096-42b01acd0b10",
   "metadata": {},
   "outputs": [
    {
     "name": "stdout",
     "output_type": "stream",
     "text": [
      "AMOUNT_4 = 30000000\n"
     ]
    }
   ],
   "source": [
    "AMOUNT_4=$((30 * ADA))\n",
    "echo \"AMOUNT_4 = $AMOUNT_4\""
   ]
  },
  {
   "cell_type": "code",
   "execution_count": 54,
   "id": "34d43f6e-ca42-4996-840b-be24897c11d2",
   "metadata": {},
   "outputs": [
    {
     "name": "stdout",
     "output_type": "stream",
     "text": [
      "Rounding  `TransactionInput` txInterval boundries to:(POSIXTime {getPOSIXTime = 1678574277000},POSIXTime {getPOSIXTime = 1678574877999})\n",
      "TransactionInput {txInterval = (POSIXTime {getPOSIXTime = 1678574277000},POSIXTime {getPOSIXTime = 1678574877999}), txInputs = [NormalInput (IChoice (ChoiceId \"Bid\" \"f.beaumont\") 30000000)]}\n",
      "\n",
      "Datum size: 604\n"
     ]
    }
   ],
   "source": [
    "marlowe-cli run prepare \\\n",
    "  --marlowe-file marlowe-8.json \\\n",
    "  --out-file marlowe-9.json\\\n",
    "  --choice-party f.beaumont \\\n",
    "  --choice-name Bid \\\n",
    "  --choice-number \"$AMOUNT_4\" \\\n",
    "  --invalid-before \"$((1000 * ($(date -u +%s) - 2 * 60)))\" \\\n",
    "  --invalid-hereafter \"$((1000 * ($(date -u +%s) + 8 * 60)))\" \\\n",
    "  --print-stats"
   ]
  },
  {
   "cell_type": "markdown",
   "id": "c53ae97e-343a-4e2e-b061-52ba5550b035",
   "metadata": {},
   "source": [
    "The bid is recorded."
   ]
  },
  {
   "cell_type": "code",
   "execution_count": 55,
   "id": "3d063e5d-a9ab-4006-b365-2dc41c7d5da1",
   "metadata": {},
   "outputs": [
    {
     "name": "stdout",
     "output_type": "stream",
     "text": [
      "boundValues:\n",
      "- - Highest Bid\n",
      "  - 25000000\n",
      "choices:\n",
      "- - choice_name: Bid\n",
      "    choice_owner:\n",
      "      role_token: m.herbert\n",
      "  - 25000000\n",
      "- - choice_name: Bid\n",
      "    choice_owner:\n",
      "      role_token: e.cary\n",
      "  - 15000000\n",
      "- - choice_name: Bid\n",
      "    choice_owner:\n",
      "      role_token: f.beaumont\n",
      "  - 30000000\n"
     ]
    }
   ],
   "source": [
    "jq '.tx.state | del(.accounts) | del(.minTime)' marlowe-9.json | json2yaml"
   ]
  },
  {
   "cell_type": "markdown",
   "id": "3c6caf66-7c30-4884-ab41-89c2ee69d44e",
   "metadata": {},
   "source": [
    "Submit the transaction."
   ]
  },
  {
   "cell_type": "code",
   "execution_count": 56,
   "id": "1fb5380e-e809-4fb3-9521-d7fd945a0f76",
   "metadata": {},
   "outputs": [
    {
     "name": "stdout",
     "output_type": "stream",
     "text": [
      "\n",
      "Fee: Lovelace 1179348\n",
      "Size: 2875 / 16384 = 17%\n",
      "Execution units:\n",
      "  Memory: 11302154 / 14000000 = 80%\n",
      "  Steps: 3125608537 / 10000000000 = 31%\n",
      "TX_9 = e2371fd4a6c9e3a60fdfb9ee20d3bd53ec66151db6077d676be571a376536ad0\n"
     ]
    }
   ],
   "source": [
    "TX_9=$(\n",
    "marlowe-cli run auto-execute \\\n",
    "  --mainnet \\\n",
    "  --marlowe-in-file marlowe-8.json \\\n",
    "  --marlowe-out-file marlowe-9.json \\\n",
    "  --tx-in-marlowe \"$TX_8#1\" \\\n",
    "  --change-address \"${ROLE_ADDR[f.beaumont]}\" \\\n",
    "  --required-signer \"${ROLE_SKEY[f.beaumont]}\" \\\n",
    "  --out-file /dev/null \\\n",
    "  --submit 600 \\\n",
    "  --print-stats \\\n",
    "| sed -e 's/^TxId \"\\(.*\\)\"$/\\1/' \\\n",
    ")\n",
    "echo \"TX_9 = $TX_9\""
   ]
  },
  {
   "cell_type": "markdown",
   "id": "a0d5602f-be55-42a1-a5e7-e4a8e0bcf7be",
   "metadata": {},
   "source": [
    "View the transaction on a Cardano explorer."
   ]
  },
  {
   "cell_type": "code",
   "execution_count": 57,
   "id": "d0dcad5f-87ac-4908-b050-0d1a392636c3",
   "metadata": {},
   "outputs": [
    {
     "name": "stdout",
     "output_type": "stream",
     "text": [
      "https://cardanoscan.io/transaction/e2371fd4a6c9e3a60fdfb9ee20d3bd53ec66151db6077d676be571a376536ad0?tab=utxo\n"
     ]
    }
   ],
   "source": [
    "echo \"https://cardanoscan.io/transaction/$TX_9?tab=utxo\""
   ]
  },
  {
   "cell_type": "markdown",
   "id": "887df02f-ec40-47b4-b346-238522ca59a2",
   "metadata": {},
   "source": [
    "## Transaction 10. Francis Beaumont deposits 32 ada\n",
    "\n",
    "They deposit the 30 ada bid and the minimum ada."
   ]
  },
  {
   "cell_type": "code",
   "execution_count": 58,
   "id": "ea5b1642-aea1-46e2-8104-e3b13a813369",
   "metadata": {},
   "outputs": [
    {
     "name": "stdout",
     "output_type": "stream",
     "text": [
      "DELTA_4 = 32000000\n"
     ]
    }
   ],
   "source": [
    "DELTA_4=$((AMOUNT_4 + MIN_ADA))\n",
    "echo \"DELTA_4 = $DELTA_4\""
   ]
  },
  {
   "cell_type": "code",
   "execution_count": 59,
   "id": "ddbdc061-7fb7-4f59-9765-e8274e4ccce2",
   "metadata": {},
   "outputs": [
    {
     "name": "stdout",
     "output_type": "stream",
     "text": [
      "Rounding  `TransactionInput` txInterval boundries to:(POSIXTime {getPOSIXTime = 1678574433000},POSIXTime {getPOSIXTime = 1678575033999})\n",
      "TransactionInput {txInterval = (POSIXTime {getPOSIXTime = 1678574433000},POSIXTime {getPOSIXTime = 1678575033999}), txInputs = [NormalInput (IDeposit \"f.beaumont\" \"f.beaumont\" (Token \"\" \"\") 32000000)]}\n",
      "\n",
      "Warnings:\n",
      "  TransactionShadowing \"Highest Bid\" 25000000 30000000\n",
      "Datum size: 903\n"
     ]
    }
   ],
   "source": [
    "marlowe-cli run prepare \\\n",
    "  --marlowe-file marlowe-9.json \\\n",
    "  --out-file marlowe-10.json \\\n",
    "  --deposit-account f.beaumont \\\n",
    "  --deposit-party f.beaumont \\\n",
    "  --deposit-amount \"$DELTA_4\" \\\n",
    "  --invalid-before \"$((1000 * ($(date -u +%s) - 2 * 60)))\" \\\n",
    "  --invalid-hereafter \"$((1000 * ($(date -u +%s) + 8 * 60)))\" \\\n",
    "  --print-stats"
   ]
  },
  {
   "cell_type": "markdown",
   "id": "39978b1a-6127-4d2a-b758-d3bb1c9bcbc1",
   "metadata": {},
   "source": [
    "Their account records their deposit."
   ]
  },
  {
   "cell_type": "code",
   "execution_count": 60,
   "id": "1eb9cd59-e314-49fa-85fb-50692c0558c4",
   "metadata": {},
   "outputs": [
    {
     "name": "stdout",
     "output_type": "stream",
     "text": [
      "accounts:\n",
      "- - - address: addr1q8tntkszteptml4e9ce9l3fsmgavwv4ywunvdnhxv6nw5ksvluken35ncjnu0puetf5jvttedkze02d5kf890kquh60stayv90\n",
      "    - currency_symbol: ''\n",
      "      token_name: ''\n",
      "  - 2000000\n",
      "- - - role_token: c.marlowe\n",
      "    - currency_symbol: 8bb3b343d8e404472337966a722150048c768d0a92a9813596c5338d\n",
      "      token_name: BearGarden\n",
      "  - 1\n",
      "- - - role_token: m.herbert\n",
      "    - currency_symbol: ''\n",
      "      token_name: ''\n",
      "  - 27000000\n",
      "- - - role_token: e.cary\n",
      "    - currency_symbol: ''\n",
      "      token_name: ''\n",
      "  - 17000000\n",
      "- - - role_token: f.beaumont\n",
      "    - currency_symbol: ''\n",
      "      token_name: ''\n",
      "  - 32000000\n",
      "boundValues:\n",
      "- - Highest Bid\n",
      "  - 30000000\n"
     ]
    }
   ],
   "source": [
    "jq '.tx.state | del(.choices) | del(.minTime)' marlowe-10.json | json2yaml"
   ]
  },
  {
   "cell_type": "markdown",
   "id": "249738f4-a686-4aa0-898e-830c315a162b",
   "metadata": {},
   "source": [
    "Submit the transaction."
   ]
  },
  {
   "cell_type": "code",
   "execution_count": 61,
   "id": "d94f317b-5357-4d6d-9570-a131017d6751",
   "metadata": {},
   "outputs": [
    {
     "name": "stdout",
     "output_type": "stream",
     "text": [
      "\n",
      "Fee: Lovelace 1216330\n",
      "Size: 2831 / 16384 = 17%\n",
      "Execution units:\n",
      "  Memory: 11853596 / 14000000 = 84%\n",
      "  Steps: 3162435568 / 10000000000 = 31%\n",
      "TX_10 = 2f8e134d5db966374e1b910ab08327a32610a8af2dd1c9300333f23bee8275b3\n"
     ]
    }
   ],
   "source": [
    "TX_10=$(\n",
    "marlowe-cli run auto-execute \\\n",
    "  --mainnet \\\n",
    "  --marlowe-in-file marlowe-9.json \\\n",
    "  --marlowe-out-file marlowe-10.json \\\n",
    "  --tx-in-marlowe \"$TX_9#1\" \\\n",
    "  --change-address \"${ROLE_ADDR[f.beaumont]}\" \\\n",
    "  --required-signer \"${ROLE_SKEY[f.beaumont]}\" \\\n",
    "  --out-file /dev/null \\\n",
    "  --submit 600 \\\n",
    "  --print-stats \\\n",
    "| sed -e 's/^TxId \"\\(.*\\)\"$/\\1/' \\\n",
    ")\n",
    "echo \"TX_10 = $TX_10\""
   ]
  },
  {
   "cell_type": "markdown",
   "id": "6a4c54b0-c089-4945-b90c-afa0abb7b675",
   "metadata": {},
   "source": [
    "View the transaction on a Cardano explorer."
   ]
  },
  {
   "cell_type": "code",
   "execution_count": 62,
   "id": "bb804fae-676f-455b-9925-c9de9776c8a0",
   "metadata": {},
   "outputs": [
    {
     "name": "stdout",
     "output_type": "stream",
     "text": [
      "https://cardanoscan.io/transaction/2f8e134d5db966374e1b910ab08327a32610a8af2dd1c9300333f23bee8275b3?tab=utxo\n"
     ]
    }
   ],
   "source": [
    "echo \"https://cardanoscan.io/transaction/$TX_10?tab=utxo\""
   ]
  },
  {
   "cell_type": "markdown",
   "id": "7576ddbe-c574-43ac-a155-dac6d49677d2",
   "metadata": {},
   "source": [
    "## Transaction 11. Elizabeth Cary bids 40 ada"
   ]
  },
  {
   "cell_type": "code",
   "execution_count": 63,
   "id": "b72edb70-3518-4544-bbca-6e18e1ba9509",
   "metadata": {},
   "outputs": [
    {
     "name": "stdout",
     "output_type": "stream",
     "text": [
      "AMOUNT_5 = 40000000\n"
     ]
    }
   ],
   "source": [
    "AMOUNT_5=$((40 * ADA))\n",
    "echo \"AMOUNT_5 = $AMOUNT_5\""
   ]
  },
  {
   "cell_type": "code",
   "execution_count": 64,
   "id": "8a1af8be-4737-429c-aa69-3860a4b25ea6",
   "metadata": {},
   "outputs": [
    {
     "name": "stdout",
     "output_type": "stream",
     "text": [
      "Rounding  `TransactionInput` txInterval boundries to:(POSIXTime {getPOSIXTime = 1678574481000},POSIXTime {getPOSIXTime = 1678575081999})\n",
      "TransactionInput {txInterval = (POSIXTime {getPOSIXTime = 1678574481000},POSIXTime {getPOSIXTime = 1678575081999}), txInputs = [NormalInput (IChoice (ChoiceId \"Bid\" \"e.cary\") 40000000)]}\n",
      "\n",
      "Datum size: 618\n"
     ]
    }
   ],
   "source": [
    "marlowe-cli run prepare \\\n",
    "  --marlowe-file marlowe-10.json \\\n",
    "  --out-file marlowe-11.json \\\n",
    "  --choice-party e.cary \\\n",
    "  --choice-name Bid \\\n",
    "  --choice-number \"$AMOUNT_5\" \\\n",
    "  --invalid-before \"$((1000 * ($(date -u +%s) - 2 * 60)))\" \\\n",
    "  --invalid-hereafter \"$((1000 * ($(date -u +%s) + 8 * 60)))\" \\\n",
    "  --print-stats"
   ]
  },
  {
   "cell_type": "markdown",
   "id": "2c6203e1-6d2f-41b0-ba09-89bf3f619598",
   "metadata": {},
   "source": [
    "Their bid is recorded."
   ]
  },
  {
   "cell_type": "code",
   "execution_count": 65,
   "id": "8901e411-c821-4b59-8463-5193a5b78593",
   "metadata": {},
   "outputs": [
    {
     "name": "stdout",
     "output_type": "stream",
     "text": [
      "boundValues:\n",
      "- - Highest Bid\n",
      "  - 30000000\n",
      "choices:\n",
      "- - choice_name: Bid\n",
      "    choice_owner:\n",
      "      role_token: m.herbert\n",
      "  - 25000000\n",
      "- - choice_name: Bid\n",
      "    choice_owner:\n",
      "      role_token: e.cary\n",
      "  - 40000000\n",
      "- - choice_name: Bid\n",
      "    choice_owner:\n",
      "      role_token: f.beaumont\n",
      "  - 30000000\n"
     ]
    }
   ],
   "source": [
    "jq '.tx.state | del(.accounts) | del(.minTime)' marlowe-11.json | json2yaml"
   ]
  },
  {
   "cell_type": "markdown",
   "id": "fe4c83a9-5d1c-471b-b304-5fe4d0fdccb0",
   "metadata": {},
   "source": [
    "Submit the transaction."
   ]
  },
  {
   "cell_type": "code",
   "execution_count": 66,
   "id": "d68b95fa-5a74-40d4-ab68-af4245d38e32",
   "metadata": {},
   "outputs": [
    {
     "name": "stdout",
     "output_type": "stream",
     "text": [
      "\n",
      "Fee: Lovelace 1289127\n",
      "Size: 2959 / 16384 = 18%\n",
      "Execution units:\n",
      "  Memory: 12640282 / 14000000 = 90%\n",
      "  Steps: 3464428923 / 10000000000 = 34%\n",
      "TX_11 = e5da014a844a62e6e3f9add823b8a4f5d25a54ce62194846083f9012bf797c1a\n"
     ]
    }
   ],
   "source": [
    "TX_11=$(\n",
    "marlowe-cli run auto-execute \\\n",
    "  --mainnet \\\n",
    "  --marlowe-in-file marlowe-10.json \\\n",
    "  --marlowe-out-file marlowe-11.json \\\n",
    "  --tx-in-marlowe \"$TX_10#1\" \\\n",
    "  --change-address \"${ROLE_ADDR[e.cary]}\" \\\n",
    "  --required-signer \"${ROLE_SKEY[e.cary]}\" \\\n",
    "  --out-file /dev/null \\\n",
    "  --submit 600 \\\n",
    "  --print-stats \\\n",
    "| sed -e 's/^TxId \"\\(.*\\)\"$/\\1/' \\\n",
    ")\n",
    "echo \"TX_11 = $TX_11\""
   ]
  },
  {
   "cell_type": "markdown",
   "id": "abb5de59-a42a-483c-be6b-b42f7019fde3",
   "metadata": {},
   "source": [
    "View the transaction on a Cardano explorer."
   ]
  },
  {
   "cell_type": "code",
   "execution_count": 67,
   "id": "342c6941-dd7e-4e88-afd6-2c6a4b8bd682",
   "metadata": {},
   "outputs": [
    {
     "name": "stdout",
     "output_type": "stream",
     "text": [
      "https://cardanoscan.io/transaction/e5da014a844a62e6e3f9add823b8a4f5d25a54ce62194846083f9012bf797c1a?tab=utxo\n"
     ]
    }
   ],
   "source": [
    "echo \"https://cardanoscan.io/transaction/$TX_11?tab=utxo\""
   ]
  },
  {
   "cell_type": "markdown",
   "id": "370e854e-de44-4f65-bf79-d77371d247e5",
   "metadata": {},
   "source": [
    "## Transaction 12. Elizabeth Cary deposits 25 ada\n",
    "\n",
    "They had previously deposited 15 ada, so they only need to deposit 25 ada more to match their bid of 40 ada."
   ]
  },
  {
   "cell_type": "code",
   "execution_count": 68,
   "id": "7a7358bd-78cc-432b-9601-d7f98851012a",
   "metadata": {},
   "outputs": [
    {
     "name": "stdout",
     "output_type": "stream",
     "text": [
      "DELTA_5 = 25000000\n"
     ]
    }
   ],
   "source": [
    "DELTA_5=$((AMOUNT_5 - AMOUNT_2))\n",
    "echo \"DELTA_5 = $DELTA_5\""
   ]
  },
  {
   "cell_type": "code",
   "execution_count": 69,
   "id": "cc27815c-bc9e-498c-8243-8a86bfc2d797",
   "metadata": {},
   "outputs": [
    {
     "name": "stdout",
     "output_type": "stream",
     "text": [
      "Rounding  `TransactionInput` txInterval boundries to:(POSIXTime {getPOSIXTime = 1678574523000},POSIXTime {getPOSIXTime = 1678575123999})\n",
      "TransactionInput {txInterval = (POSIXTime {getPOSIXTime = 1678574523000},POSIXTime {getPOSIXTime = 1678575123999}), txInputs = [NormalInput (IDeposit \"e.cary\" \"e.cary\" (Token \"\" \"\") 25000000)]}\n",
      "\n",
      "Warnings:\n",
      "  TransactionShadowing \"Highest Bid\" 30000000 40000000\n",
      "Datum size: 903\n"
     ]
    }
   ],
   "source": [
    "marlowe-cli run prepare \\\n",
    "  --marlowe-file marlowe-11.json \\\n",
    "  --out-file marlowe-12.json \\\n",
    "  --deposit-account e.cary \\\n",
    "  --deposit-party e.cary \\\n",
    "  --deposit-amount \"$DELTA_5\" \\\n",
    "  --invalid-before \"$((1000 * ($(date -u +%s) - 2 * 60)))\" \\\n",
    "  --invalid-hereafter \"$((1000 * ($(date -u +%s) + 8 * 60)))\" \\\n",
    "  --print-stats"
   ]
  },
  {
   "cell_type": "markdown",
   "id": "cc64743c-daa2-4d99-8532-be5df52ea4e8",
   "metadata": {},
   "source": [
    "Their deposit is recorded."
   ]
  },
  {
   "cell_type": "code",
   "execution_count": 70,
   "id": "e6cc28ba-792c-4c51-8dca-c5776dbd5d57",
   "metadata": {},
   "outputs": [
    {
     "name": "stdout",
     "output_type": "stream",
     "text": [
      "accounts:\n",
      "- - - address: addr1q8tntkszteptml4e9ce9l3fsmgavwv4ywunvdnhxv6nw5ksvluken35ncjnu0puetf5jvttedkze02d5kf890kquh60stayv90\n",
      "    - currency_symbol: ''\n",
      "      token_name: ''\n",
      "  - 2000000\n",
      "- - - role_token: c.marlowe\n",
      "    - currency_symbol: 8bb3b343d8e404472337966a722150048c768d0a92a9813596c5338d\n",
      "      token_name: BearGarden\n",
      "  - 1\n",
      "- - - role_token: m.herbert\n",
      "    - currency_symbol: ''\n",
      "      token_name: ''\n",
      "  - 27000000\n",
      "- - - role_token: e.cary\n",
      "    - currency_symbol: ''\n",
      "      token_name: ''\n",
      "  - 42000000\n",
      "- - - role_token: f.beaumont\n",
      "    - currency_symbol: ''\n",
      "      token_name: ''\n",
      "  - 32000000\n",
      "boundValues:\n",
      "- - Highest Bid\n",
      "  - 40000000\n"
     ]
    }
   ],
   "source": [
    "jq '.tx.state | del(.choices) | del(.minTime)' marlowe-12.json | json2yaml"
   ]
  },
  {
   "cell_type": "markdown",
   "id": "c7329459-a71e-460b-bec9-17e458e38c1f",
   "metadata": {},
   "source": [
    "Submit the transaction."
   ]
  },
  {
   "cell_type": "code",
   "execution_count": 71,
   "id": "17d41228-4d2e-47fe-adde-17b1d199f212",
   "metadata": {},
   "outputs": [
    {
     "name": "stdout",
     "output_type": "stream",
     "text": [
      "\n",
      "Fee: Lovelace 1249145\n",
      "Size: 2829 / 16384 = 17%\n",
      "Execution units:\n",
      "  Memory: 12288198 / 14000000 = 87%\n",
      "  Steps: 3270986942 / 10000000000 = 32%\n",
      "TX_12 = 4876991aa2b2586bbc86a920a2cc65a73cc53aaf8fcfb9423c77ebbb7fff7b41\n"
     ]
    }
   ],
   "source": [
    "TX_12=$(\n",
    "marlowe-cli run auto-execute \\\n",
    "  --mainnet \\\n",
    "  --marlowe-in-file marlowe-11.json \\\n",
    "  --marlowe-out-file marlowe-12.json \\\n",
    "  --tx-in-marlowe \"$TX_11#1\" \\\n",
    "  --change-address \"${ROLE_ADDR[e.cary]}\" \\\n",
    "  --required-signer \"${ROLE_SKEY[e.cary]}\" \\\n",
    "  --out-file /dev/null \\\n",
    "  --submit 600 \\\n",
    "  --print-stats \\\n",
    "| sed -e 's/^TxId \"\\(.*\\)\"$/\\1/' \\\n",
    ")\n",
    "echo \"TX_12 = $TX_12\""
   ]
  },
  {
   "cell_type": "markdown",
   "id": "5eff55fe-8f84-4829-bf75-f4eb5fb93b43",
   "metadata": {},
   "source": [
    "View the transaction on a Cardano explorer."
   ]
  },
  {
   "cell_type": "code",
   "execution_count": 72,
   "id": "8c597103-6f12-4aab-9bcd-252b6484a3d9",
   "metadata": {},
   "outputs": [
    {
     "name": "stdout",
     "output_type": "stream",
     "text": [
      "https://cardanoscan.io/transaction/4876991aa2b2586bbc86a920a2cc65a73cc53aaf8fcfb9423c77ebbb7fff7b41?tab=utxo\n"
     ]
    }
   ],
   "source": [
    "echo \"https://cardanoscan.io/transaction/$TX_12?tab=utxo\""
   ]
  },
  {
   "cell_type": "markdown",
   "id": "81d76b92-51ed-46e6-b7c4-d2de4076a200",
   "metadata": {},
   "source": [
    "## Transaction 13. Mary Herbert bids 50 ada"
   ]
  },
  {
   "cell_type": "code",
   "execution_count": 73,
   "id": "6e426eef-57d7-4825-af2c-3bce9d3a38c7",
   "metadata": {},
   "outputs": [
    {
     "name": "stdout",
     "output_type": "stream",
     "text": [
      "AMOUNT_6 = 50000000\n"
     ]
    }
   ],
   "source": [
    "AMOUNT_6=$((50 * ADA))\n",
    "echo \"AMOUNT_6 = $AMOUNT_6\""
   ]
  },
  {
   "cell_type": "code",
   "execution_count": 74,
   "id": "45a40e38-36b4-4f9d-b69d-92f3f774f70e",
   "metadata": {},
   "outputs": [
    {
     "name": "stdout",
     "output_type": "stream",
     "text": [
      "Rounding  `TransactionInput` txInterval boundries to:(POSIXTime {getPOSIXTime = 1678574561000},POSIXTime {getPOSIXTime = 1678575161999})\n",
      "TransactionInput {txInterval = (POSIXTime {getPOSIXTime = 1678574561000},POSIXTime {getPOSIXTime = 1678575161999}), txInputs = [NormalInput (IChoice (ChoiceId \"Bid\" \"m.herbert\") 50000000)]}\n",
      "\n",
      "Datum size: 630\n"
     ]
    }
   ],
   "source": [
    "marlowe-cli run prepare \\\n",
    "  --marlowe-file marlowe-12.json \\\n",
    "  --out-file marlowe-13.json \\\n",
    "  --choice-party m.herbert \\\n",
    "  --choice-name Bid \\\n",
    "  --choice-number \"$AMOUNT_6\" \\\n",
    "  --invalid-before \"$((1000 * ($(date -u +%s) - 2 * 60)))\" \\\n",
    "  --invalid-hereafter \"$((1000 * ($(date -u +%s) + 8 * 60)))\" \\\n",
    "  --print-stats"
   ]
  },
  {
   "cell_type": "markdown",
   "id": "e576f82d-6320-457b-9d91-552b64251a31",
   "metadata": {},
   "source": [
    "Their bid is recorded."
   ]
  },
  {
   "cell_type": "code",
   "execution_count": 75,
   "id": "6ae7fee6-adf3-456b-867b-0e91958d0ab4",
   "metadata": {},
   "outputs": [
    {
     "name": "stdout",
     "output_type": "stream",
     "text": [
      "boundValues:\n",
      "- - Highest Bid\n",
      "  - 40000000\n",
      "choices:\n",
      "- - choice_name: Bid\n",
      "    choice_owner:\n",
      "      role_token: m.herbert\n",
      "  - 50000000\n",
      "- - choice_name: Bid\n",
      "    choice_owner:\n",
      "      role_token: e.cary\n",
      "  - 40000000\n",
      "- - choice_name: Bid\n",
      "    choice_owner:\n",
      "      role_token: f.beaumont\n",
      "  - 30000000\n"
     ]
    }
   ],
   "source": [
    "jq '.tx.state | del(.accounts) | del(.minTime)' marlowe-13.json | json2yaml"
   ]
  },
  {
   "cell_type": "markdown",
   "id": "1d9c9b6b-5e95-487e-942d-188e2591505d",
   "metadata": {},
   "source": [
    "Submit the transaction."
   ]
  },
  {
   "cell_type": "code",
   "execution_count": 76,
   "id": "6fab61ea-3a4c-49d3-a47c-0d75fd605f4c",
   "metadata": {},
   "outputs": [
    {
     "name": "stdout",
     "output_type": "stream",
     "text": [
      "\n",
      "Fee: Lovelace 1201223\n",
      "Size: 2641 / 16384 = 16%\n",
      "Execution units:\n",
      "  Memory: 11725706 / 14000000 = 83%\n",
      "  Steps: 3171209232 / 10000000000 = 31%\n",
      "TX_13 = fd67859eb6ae0a2a0496460ebca996292a2db3294bd45792d9fcc061294dc55a\n"
     ]
    }
   ],
   "source": [
    "TX_13=$(\n",
    "marlowe-cli run auto-execute \\\n",
    "  --mainnet \\\n",
    "  --marlowe-in-file marlowe-12.json \\\n",
    "  --marlowe-out-file marlowe-13.json \\\n",
    "  --tx-in-marlowe \"$TX_12#1\" \\\n",
    "  --change-address \"${ROLE_ADDR[m.herbert]}\" \\\n",
    "  --required-signer \"${ROLE_SKEY[m.herbert]}\" \\\n",
    "  --out-file /dev/null \\\n",
    "  --submit 600 \\\n",
    "  --print-stats \\\n",
    "| sed -e 's/^TxId \"\\(.*\\)\"$/\\1/' \\\n",
    ")\n",
    "echo \"TX_13 = $TX_13\""
   ]
  },
  {
   "cell_type": "markdown",
   "id": "bd56b469-bbee-4d1b-a69b-a23b9bddd33a",
   "metadata": {},
   "source": [
    "View the transaction on a Cardano explorer."
   ]
  },
  {
   "cell_type": "code",
   "execution_count": 77,
   "id": "0d947d61-f6ea-4f50-a1be-7a62a418750e",
   "metadata": {},
   "outputs": [
    {
     "name": "stdout",
     "output_type": "stream",
     "text": [
      "https://cardanoscan.io/transaction/fd67859eb6ae0a2a0496460ebca996292a2db3294bd45792d9fcc061294dc55a?tab=utxo\n"
     ]
    }
   ],
   "source": [
    "echo \"https://cardanoscan.io/transaction/$TX_13?tab=utxo\""
   ]
  },
  {
   "cell_type": "markdown",
   "id": "38e93830-1393-4c77-973b-306ac50ebfaf",
   "metadata": {},
   "source": [
    "## Transaction 14. Mary Herbert deposits 25 ada, and the bidding is over\n",
    "\n",
    "They deposit the additional 25 ada so that their deposits matches their bid plus the minimum ada.\n",
    "\n",
    "The auction was limited to six rounds of bidding."
   ]
  },
  {
   "cell_type": "code",
   "execution_count": 78,
   "id": "2540f6b4-f20f-467a-8ca3-ecab17ebd0aa",
   "metadata": {},
   "outputs": [
    {
     "name": "stdout",
     "output_type": "stream",
     "text": [
      "DELTA_6 = 25000000\n"
     ]
    }
   ],
   "source": [
    "DELTA_6=$((AMOUNT_6 - AMOUNT_3))\n",
    "echo \"DELTA_6 = $DELTA_6\""
   ]
  },
  {
   "cell_type": "code",
   "execution_count": 79,
   "id": "0145e3b4-e5c2-4751-b6ee-00debbf7a433",
   "metadata": {},
   "outputs": [
    {
     "name": "stdout",
     "output_type": "stream",
     "text": [
      "Rounding  `TransactionInput` txInterval boundries to:(POSIXTime {getPOSIXTime = 1678574643000},POSIXTime {getPOSIXTime = 1678575243999})\n",
      "TransactionInput {txInterval = (POSIXTime {getPOSIXTime = 1678574643000},POSIXTime {getPOSIXTime = 1678575243999}), txInputs = [NormalInput (IDeposit \"m.herbert\" \"m.herbert\" (Token \"\" \"\") 25000000)]}\n",
      "\n",
      "Warnings:\n",
      "  TransactionShadowing \"Highest Bid\" 40000000 50000000\n",
      "Datum size: 471\n"
     ]
    }
   ],
   "source": [
    "marlowe-cli run prepare \\\n",
    "  --marlowe-file marlowe-13.json \\\n",
    "  --out-file marlowe-14.json \\\n",
    "  --deposit-account m.herbert \\\n",
    "  --deposit-party m.herbert \\\n",
    "  --deposit-amount \"$DELTA_6\" \\\n",
    "  --invalid-before \"$((1000 * ($(date -u +%s) - 2 * 60)))\" \\\n",
    "  --invalid-hereafter \"$((1000 * ($(date -u +%s) + 8 * 60)))\" \\\n",
    "  --print-stats"
   ]
  },
  {
   "cell_type": "markdown",
   "id": "0578fad5-cae6-4a08-88b1-bd69b824a6a0",
   "metadata": {},
   "source": [
    "Their bid is recorded."
   ]
  },
  {
   "cell_type": "code",
   "execution_count": 80,
   "id": "e3bbc9a4-ea55-422a-96ea-1042513badfc",
   "metadata": {},
   "outputs": [
    {
     "name": "stdout",
     "output_type": "stream",
     "text": [
      "accounts:\n",
      "- - - address: addr1q8tntkszteptml4e9ce9l3fsmgavwv4ywunvdnhxv6nw5ksvluken35ncjnu0puetf5jvttedkze02d5kf890kquh60stayv90\n",
      "    - currency_symbol: ''\n",
      "      token_name: ''\n",
      "  - 2000000\n",
      "- - - role_token: c.marlowe\n",
      "    - currency_symbol: 8bb3b343d8e404472337966a722150048c768d0a92a9813596c5338d\n",
      "      token_name: BearGarden\n",
      "  - 1\n",
      "- - - role_token: m.herbert\n",
      "    - currency_symbol: ''\n",
      "      token_name: ''\n",
      "  - 52000000\n",
      "- - - role_token: e.cary\n",
      "    - currency_symbol: ''\n",
      "      token_name: ''\n",
      "  - 42000000\n",
      "- - - role_token: f.beaumont\n",
      "    - currency_symbol: ''\n",
      "      token_name: ''\n",
      "  - 32000000\n",
      "boundValues:\n",
      "- - Highest Bid\n",
      "  - 50000000\n"
     ]
    }
   ],
   "source": [
    "jq '.tx.state | del(.choices) | del(.minTime)' marlowe-14.json | json2yaml"
   ]
  },
  {
   "cell_type": "markdown",
   "id": "486ca471-4ba8-4bcc-bb6f-9c3deb25606b",
   "metadata": {},
   "source": [
    "Submit the transaction."
   ]
  },
  {
   "cell_type": "code",
   "execution_count": 81,
   "id": "7428cb2d-0bb5-4654-a18c-14717223496f",
   "metadata": {},
   "outputs": [
    {
     "name": "stdout",
     "output_type": "stream",
     "text": [
      "\n",
      "Fee: Lovelace 1104754\n",
      "Size: 1989 / 16384 = 12%\n",
      "Execution units:\n",
      "  Memory: 10952962 / 14000000 = 78%\n",
      "  Steps: 2849516495 / 10000000000 = 28%\n",
      "TX_14 = 7f4a496bfbd83fb68b6637143b8547d607b896d5ebd15d9db9d8f0f22886f199\n"
     ]
    }
   ],
   "source": [
    "TX_14=$(\n",
    "marlowe-cli run auto-execute \\\n",
    "  --mainnet \\\n",
    "  --marlowe-in-file marlowe-13.json \\\n",
    "  --marlowe-out-file marlowe-14.json \\\n",
    "  --tx-in-marlowe \"$TX_13#1\" \\\n",
    "  --change-address \"${ROLE_ADDR[m.herbert]}\" \\\n",
    "  --required-signer \"${ROLE_SKEY[m.herbert]}\" \\\n",
    "  --out-file /dev/null \\\n",
    "  --submit 600 \\\n",
    "  --print-stats \\\n",
    "| sed -e 's/^TxId \"\\(.*\\)\"$/\\1/' \\\n",
    ")\n",
    "echo \"TX_14 = $TX_14\""
   ]
  },
  {
   "cell_type": "markdown",
   "id": "f3499337-42ec-4392-a814-1e329fbedd03",
   "metadata": {},
   "source": [
    "View the transaction on a Cardano explorer."
   ]
  },
  {
   "cell_type": "code",
   "execution_count": 82,
   "id": "6c233db2-0235-433e-a20b-1a511a263579",
   "metadata": {},
   "outputs": [
    {
     "name": "stdout",
     "output_type": "stream",
     "text": [
      "https://cardanoscan.io/transaction/7f4a496bfbd83fb68b6637143b8547d607b896d5ebd15d9db9d8f0f22886f199?tab=utxo\n"
     ]
    }
   ],
   "source": [
    "echo \"https://cardanoscan.io/transaction/$TX_14?tab=utxo\""
   ]
  },
  {
   "cell_type": "markdown",
   "id": "6ce85f30-5ada-41a7-abe1-2d178e543202",
   "metadata": {},
   "source": [
    "## Transaction 15. Pay the BearGarden token to Mary Herbert and credit Christopher Marlowe's account with the ada paid for it\n",
    "\n",
    "Anyone may advance the contract by notifying it. These notifications are necessary to keep the contract's execution below Plutus's execution-cost limit."
   ]
  },
  {
   "cell_type": "code",
   "execution_count": 83,
   "id": "d9a685c2-4966-4abc-8f26-fae7cdfe3b91",
   "metadata": {},
   "outputs": [
    {
     "name": "stdout",
     "output_type": "stream",
     "text": [
      "Rounding  `TransactionInput` txInterval boundries to:(POSIXTime {getPOSIXTime = 1678574676000},POSIXTime {getPOSIXTime = 1678575276999})\n",
      "TransactionInput {txInterval = (POSIXTime {getPOSIXTime = 1678574676000},POSIXTime {getPOSIXTime = 1678575276999}), txInputs = [NormalInput INotify]}\n",
      "\n",
      "Datum size: 436\n",
      "Payment 1\n",
      "  Acccount: \"m.herbert\"\n",
      "  Payee: Account \"c.marlowe\"\n",
      "  Ada: Lovelace {getLovelace = 50000000}\n",
      "Payment 2\n",
      "  Acccount: \"c.marlowe\"\n",
      "  Payee: Party \"m.herbert\"\n",
      "  Ada: Lovelace {getLovelace = 0}\n",
      "  8bb3b343d8e404472337966a722150048c768d0a92a9813596c5338d.\"BearGarden\": 1\n"
     ]
    }
   ],
   "source": [
    "marlowe-cli run prepare \\\n",
    "  --marlowe-file marlowe-14.json \\\n",
    "  --out-file marlowe-15.json \\\n",
    "  --notify \\\n",
    "  --invalid-before \"$((1000 * ($(date -u +%s) - 2 * 60)))\" \\\n",
    "  --invalid-hereafter \"$((1000 * ($(date -u +%s) + 8 * 60)))\" \\\n",
    "  --print-stats"
   ]
  },
  {
   "cell_type": "markdown",
   "id": "41f4c21a-58d5-485c-b016-f18005e01b3e",
   "metadata": {},
   "source": [
    "The contract contains records of funds owed the parties."
   ]
  },
  {
   "cell_type": "code",
   "execution_count": 84,
   "id": "44d16a17-3d70-4865-a5f9-7f46115c104f",
   "metadata": {},
   "outputs": [
    {
     "name": "stdout",
     "output_type": "stream",
     "text": [
      "- - - address: addr1q8tntkszteptml4e9ce9l3fsmgavwv4ywunvdnhxv6nw5ksvluken35ncjnu0puetf5jvttedkze02d5kf890kquh60stayv90\n",
      "    - currency_symbol: ''\n",
      "      token_name: ''\n",
      "  - 2000000\n",
      "- - - role_token: m.herbert\n",
      "    - currency_symbol: ''\n",
      "      token_name: ''\n",
      "  - 2000000\n",
      "- - - role_token: e.cary\n",
      "    - currency_symbol: ''\n",
      "      token_name: ''\n",
      "  - 42000000\n",
      "- - - role_token: f.beaumont\n",
      "    - currency_symbol: ''\n",
      "      token_name: ''\n",
      "  - 32000000\n",
      "- - - role_token: c.marlowe\n",
      "    - currency_symbol: ''\n",
      "      token_name: ''\n",
      "  - 50000000\n"
     ]
    }
   ],
   "source": [
    "jq .tx.state.accounts marlowe-15.json | json2yaml"
   ]
  },
  {
   "cell_type": "markdown",
   "id": "03674fc0-d076-4cdf-ab4c-711799c7546a",
   "metadata": {},
   "source": [
    "Submit the transaction."
   ]
  },
  {
   "cell_type": "code",
   "execution_count": 85,
   "id": "9a03e9c8-7062-412b-98d1-93c29b8b8d62",
   "metadata": {},
   "outputs": [
    {
     "name": "stdout",
     "output_type": "stream",
     "text": [
      "\n",
      "Fee: Lovelace 1149177\n",
      "Size: 1910 / 16384 = 11%\n",
      "Execution units:\n",
      "  Memory: 11678826 / 14000000 = 83%\n",
      "  Steps: 3039771540 / 10000000000 = 30%\n",
      "TX_15 = e931ff8931b36b2baac930aed5db39d17434cfb22254565572e94b2795e97af7\n"
     ]
    }
   ],
   "source": [
    "TX_15=$(\n",
    "marlowe-cli run auto-execute \\\n",
    "  --mainnet \\\n",
    "  --marlowe-in-file marlowe-14.json \\\n",
    "  --marlowe-out-file marlowe-15.json \\\n",
    "  --tx-in-marlowe \"$TX_14#1\" \\\n",
    "  --change-address \"${ROLE_ADDR[c.marlowe]}\" \\\n",
    "  --required-signer \"${ROLE_SKEY[c.marlowe]}\" \\\n",
    "  --out-file /dev/null \\\n",
    "  --submit 600 \\\n",
    "  --print-stats \\\n",
    "| sed -e 's/^TxId \"\\(.*\\)\"$/\\1/' \\\n",
    ")\n",
    "echo \"TX_15 = $TX_15\""
   ]
  },
  {
   "cell_type": "markdown",
   "id": "1a3d27f4-ceec-48c3-9de0-aab6726c4430",
   "metadata": {},
   "source": [
    "View the transaction on a Cardano explorer."
   ]
  },
  {
   "cell_type": "code",
   "execution_count": 86,
   "id": "e157a8e6-fb33-4910-8033-1362dd1fbdd0",
   "metadata": {},
   "outputs": [
    {
     "name": "stdout",
     "output_type": "stream",
     "text": [
      "https://cardanoscan.io/transaction/e931ff8931b36b2baac930aed5db39d17434cfb22254565572e94b2795e97af7?tab=utxo\n"
     ]
    }
   ],
   "source": [
    "echo \"https://cardanoscan.io/transaction/$TX_15?tab=utxo\""
   ]
  },
  {
   "cell_type": "markdown",
   "id": "917c8f24-0546-47be-a942-68826dfefb59",
   "metadata": {},
   "source": [
    "## Transaction 16. Pay Jane Lumley and John Webster any funds that are owed back to them\n",
    "\n",
    "Nothing is owed to them, but this notification is still necessary."
   ]
  },
  {
   "cell_type": "code",
   "execution_count": 87,
   "id": "27601534-4bfd-4b3f-a45c-6fd861b7e62c",
   "metadata": {},
   "outputs": [
    {
     "name": "stdout",
     "output_type": "stream",
     "text": [
      "Rounding  `TransactionInput` txInterval boundries to:(POSIXTime {getPOSIXTime = 1678574767000},POSIXTime {getPOSIXTime = 1678575367999})\n",
      "TransactionInput {txInterval = (POSIXTime {getPOSIXTime = 1678574767000},POSIXTime {getPOSIXTime = 1678575367999}), txInputs = [NormalInput INotify]}\n",
      "\n",
      "Warnings:\n",
      "  TransactionNonPositivePay \"j.lumley\" (Party \"j.lumley\") (Token \"\" \"\") 0\n",
      "  TransactionNonPositivePay \"j.webster\" (Party \"j.webster\") (Token \"\" \"\") 0\n",
      "Datum size: 436\n"
     ]
    }
   ],
   "source": [
    "marlowe-cli run prepare \\\n",
    "  --marlowe-file marlowe-15.json \\\n",
    "  --out-file marlowe-16.json \\\n",
    "  --notify \\\n",
    "  --invalid-before \"$((1000 * ($(date -u +%s) - 2 * 60)))\" \\\n",
    "  --invalid-hereafter \"$((1000 * ($(date -u +%s) + 8 * 60)))\" \\\n",
    "  --print-stats"
   ]
  },
  {
   "cell_type": "markdown",
   "id": "780e003d-c32a-4d53-901c-da35d6d36a1c",
   "metadata": {},
   "source": [
    "The contract contains records of remaining funds owed the parties."
   ]
  },
  {
   "cell_type": "code",
   "execution_count": 88,
   "id": "351af722-8fbe-4c51-95c5-b22033a21826",
   "metadata": {},
   "outputs": [
    {
     "name": "stdout",
     "output_type": "stream",
     "text": [
      "- - - address: addr1q8tntkszteptml4e9ce9l3fsmgavwv4ywunvdnhxv6nw5ksvluken35ncjnu0puetf5jvttedkze02d5kf890kquh60stayv90\n",
      "    - currency_symbol: ''\n",
      "      token_name: ''\n",
      "  - 2000000\n",
      "- - - role_token: m.herbert\n",
      "    - currency_symbol: ''\n",
      "      token_name: ''\n",
      "  - 2000000\n",
      "- - - role_token: e.cary\n",
      "    - currency_symbol: ''\n",
      "      token_name: ''\n",
      "  - 42000000\n",
      "- - - role_token: f.beaumont\n",
      "    - currency_symbol: ''\n",
      "      token_name: ''\n",
      "  - 32000000\n",
      "- - - role_token: c.marlowe\n",
      "    - currency_symbol: ''\n",
      "      token_name: ''\n",
      "  - 50000000\n"
     ]
    }
   ],
   "source": [
    "jq .tx.state.accounts marlowe-16.json | json2yaml"
   ]
  },
  {
   "cell_type": "markdown",
   "id": "6bf2eb5b-d163-44d3-84c2-cf8abc6fc5bc",
   "metadata": {},
   "source": [
    "Submit the transaction."
   ]
  },
  {
   "cell_type": "code",
   "execution_count": 89,
   "id": "55478baa-f047-4474-9021-a6aeb8df0a1a",
   "metadata": {},
   "outputs": [
    {
     "name": "stdout",
     "output_type": "stream",
     "text": [
      "\n",
      "Fee: Lovelace 848895\n",
      "Size: 1610 / 16384 = 9%\n",
      "Execution units:\n",
      "  Memory: 7815094 / 14000000 = 55%\n",
      "  Steps: 2104942293 / 10000000000 = 21%\n",
      "TX_16 = bd87106f6b042a4ba6f2f80cadc7ace74e5a125dcc93755b0bc2677d98db9c98\n"
     ]
    }
   ],
   "source": [
    "TX_16=$(\n",
    "marlowe-cli run auto-execute \\\n",
    "  --mainnet \\\n",
    "  --marlowe-in-file marlowe-15.json \\\n",
    "  --marlowe-out-file marlowe-16.json \\\n",
    "  --tx-in-marlowe \"$TX_15#1\" \\\n",
    "  --change-address \"${ROLE_ADDR[c.marlowe]}\" \\\n",
    "  --required-signer \"${ROLE_SKEY[c.marlowe]}\" \\\n",
    "  --out-file /dev/null \\\n",
    "  --submit 600 \\\n",
    "  --print-stats \\\n",
    "| sed -e 's/^TxId \"\\(.*\\)\"$/\\1/' \\\n",
    ")\n",
    "echo \"TX_16 = $TX_16\""
   ]
  },
  {
   "cell_type": "markdown",
   "id": "1439082c-6a92-44ae-8cd0-259e200282b4",
   "metadata": {},
   "source": [
    "View the transaction on a Cardano explorer."
   ]
  },
  {
   "cell_type": "code",
   "execution_count": 90,
   "id": "8c68e169-f7e5-44bd-b1f1-f655be745236",
   "metadata": {},
   "outputs": [
    {
     "name": "stdout",
     "output_type": "stream",
     "text": [
      "https://cardanoscan.io/transaction/bd87106f6b042a4ba6f2f80cadc7ace74e5a125dcc93755b0bc2677d98db9c98?tab=utxo\n"
     ]
    }
   ],
   "source": [
    "echo \"https://cardanoscan.io/transaction/$TX_16?tab=utxo\""
   ]
  },
  {
   "cell_type": "markdown",
   "id": "da1d8f5d-dabc-41c6-afb4-8cb96f6bed84",
   "metadata": {},
   "source": [
    "## Transaction 17. Pay Elizabeth Cary and Mary Herbert any funds that are owed back to them\n",
    "\n",
    "Elizabeth Cary receives their deposit back and Mary Herbert receives the minimum ada back."
   ]
  },
  {
   "cell_type": "code",
   "execution_count": 91,
   "id": "eab7c37d-89a2-452e-ae65-5097f142f245",
   "metadata": {},
   "outputs": [
    {
     "name": "stdout",
     "output_type": "stream",
     "text": [
      "Rounding  `TransactionInput` txInterval boundries to:(POSIXTime {getPOSIXTime = 1678574893000},POSIXTime {getPOSIXTime = 1678575493999})\n",
      "TransactionInput {txInterval = (POSIXTime {getPOSIXTime = 1678574893000},POSIXTime {getPOSIXTime = 1678575493999}), txInputs = [NormalInput INotify]}\n",
      "\n",
      "Datum size: 381\n",
      "Payment 1\n",
      "  Acccount: \"e.cary\"\n",
      "  Payee: Party \"e.cary\"\n",
      "  Ada: Lovelace {getLovelace = 42000000}\n",
      "Payment 2\n",
      "  Acccount: \"m.herbert\"\n",
      "  Payee: Party \"m.herbert\"\n",
      "  Ada: Lovelace {getLovelace = 2000000}\n"
     ]
    }
   ],
   "source": [
    "marlowe-cli run prepare \\\n",
    "  --marlowe-file marlowe-16.json \\\n",
    "  --out-file marlowe-17.json \\\n",
    "  --notify \\\n",
    "  --invalid-before \"$((1000 * ($(date -u +%s) - 2 * 60)))\" \\\n",
    "  --invalid-hereafter \"$((1000 * ($(date -u +%s) + 8 * 60)))\" \\\n",
    "  --print-stats"
   ]
  },
  {
   "cell_type": "markdown",
   "id": "851a7caf-a690-401b-b922-ad486c7fd33a",
   "metadata": {},
   "source": [
    "The contract contains records of remaining funds owed the parties."
   ]
  },
  {
   "cell_type": "code",
   "execution_count": 92,
   "id": "7e3f3c24-4ed7-411f-aca0-803e3c40dc28",
   "metadata": {},
   "outputs": [
    {
     "name": "stdout",
     "output_type": "stream",
     "text": [
      "- - - address: addr1q8tntkszteptml4e9ce9l3fsmgavwv4ywunvdnhxv6nw5ksvluken35ncjnu0puetf5jvttedkze02d5kf890kquh60stayv90\n",
      "    - currency_symbol: ''\n",
      "      token_name: ''\n",
      "  - 2000000\n",
      "- - - role_token: f.beaumont\n",
      "    - currency_symbol: ''\n",
      "      token_name: ''\n",
      "  - 32000000\n",
      "- - - role_token: c.marlowe\n",
      "    - currency_symbol: ''\n",
      "      token_name: ''\n",
      "  - 50000000\n"
     ]
    }
   ],
   "source": [
    "jq .tx.state.accounts marlowe-17.json | json2yaml"
   ]
  },
  {
   "cell_type": "markdown",
   "id": "5b695cef-f9c4-4a52-8c37-cd3563beb408",
   "metadata": {},
   "source": [
    "Submit the transaction."
   ]
  },
  {
   "cell_type": "code",
   "execution_count": 93,
   "id": "c43a467f-28f5-4da3-b65c-2667162bf2e0",
   "metadata": {},
   "outputs": [
    {
     "name": "stdout",
     "output_type": "stream",
     "text": [
      "\n",
      "Fee: Lovelace 1179368\n",
      "Size: 1786 / 16384 = 10%\n",
      "Execution units:\n",
      "  Memory: 12060344 / 14000000 = 86%\n",
      "  Steps: 3183703533 / 10000000000 = 31%\n",
      "TX_17 = be2a009ed29009d814986904290676d8aa453a91bae98c195a6f124e5667bc4e\n"
     ]
    }
   ],
   "source": [
    "TX_17=$(\n",
    "marlowe-cli run auto-execute \\\n",
    "  --mainnet \\\n",
    "  --marlowe-in-file marlowe-16.json \\\n",
    "  --marlowe-out-file marlowe-17.json \\\n",
    "  --tx-in-marlowe \"$TX_16#1\" \\\n",
    "  --change-address \"${ROLE_ADDR[c.marlowe]}\" \\\n",
    "  --required-signer \"${ROLE_SKEY[c.marlowe]}\" \\\n",
    "  --out-file /dev/null \\\n",
    "  --submit 600 \\\n",
    "  --print-stats \\\n",
    "| sed -e 's/^TxId \"\\(.*\\)\"$/\\1/' \\\n",
    ")\n",
    "echo \"TX_17 = $TX_17\""
   ]
  },
  {
   "cell_type": "markdown",
   "id": "db85b259-b7d2-481c-99a0-afd947b41212",
   "metadata": {},
   "source": [
    "View the transaction on a Cardano explorer."
   ]
  },
  {
   "cell_type": "code",
   "execution_count": 94,
   "id": "e0390416-c00d-4bb4-b1c7-695bb1bd441a",
   "metadata": {},
   "outputs": [
    {
     "name": "stdout",
     "output_type": "stream",
     "text": [
      "https://cardanoscan.io/transaction/be2a009ed29009d814986904290676d8aa453a91bae98c195a6f124e5667bc4e?tab=utxo\n"
     ]
    }
   ],
   "source": [
    "echo \"https://cardanoscan.io/transaction/$TX_17?tab=utxo\""
   ]
  },
  {
   "cell_type": "markdown",
   "id": "86cdf17c-9228-4034-90c8-ef364c91ab1f",
   "metadata": {},
   "source": [
    "## Transaction 18. Pay Christopher Marlowe and Francis Beaumont any funds that are owed back to them\n",
    "\n",
    "Christopher Marlowe receives the payment for the `BearGarden` token and the minimum ada they originally deposited. Francis Beaumont receives their deposit back."
   ]
  },
  {
   "cell_type": "code",
   "execution_count": 95,
   "id": "cde3102b-d574-48bb-94f3-6dd5e7a1d607",
   "metadata": {},
   "outputs": [
    {
     "name": "stdout",
     "output_type": "stream",
     "text": [
      "Rounding  `TransactionInput` txInterval boundries to:(POSIXTime {getPOSIXTime = 1678574930000},POSIXTime {getPOSIXTime = 1678575530999})\n",
      "TransactionInput {txInterval = (POSIXTime {getPOSIXTime = 1678574930000},POSIXTime {getPOSIXTime = 1678575530999}), txInputs = [NormalInput INotify]}\n",
      "\n",
      "Datum size: 159\n",
      "Payment 1\n",
      "  Acccount: \"c.marlowe\"\n",
      "  Payee: Party \"c.marlowe\"\n",
      "  Ada: Lovelace {getLovelace = 50000000}\n",
      "Payment 2\n",
      "  Acccount: \"f.beaumont\"\n",
      "  Payee: Party \"f.beaumont\"\n",
      "  Ada: Lovelace {getLovelace = 32000000}\n",
      "Payment 3\n",
      "  Acccount: \"\\\"addr1q8tntkszteptml4e9ce9l3fsmgavwv4ywunvdnhxv6nw5ksvluken35ncjnu0puetf5jvttedkze02d5kf890kquh60stayv90\\\"\"\n",
      "  Payee: Party \"\\\"addr1q8tntkszteptml4e9ce9l3fsmgavwv4ywunvdnhxv6nw5ksvluken35ncjnu0puetf5jvttedkze02d5kf890kquh60stayv90\\\"\"\n",
      "  Ada: Lovelace {getLovelace = 2000000}\n"
     ]
    }
   ],
   "source": [
    "marlowe-cli run prepare \\\n",
    "  --marlowe-file marlowe-17.json \\\n",
    "  --out-file marlowe-18.json \\\n",
    "  --notify \\\n",
    "  --invalid-before \"$((1000 * ($(date -u +%s) - 2 * 60)))\" \\\n",
    "  --invalid-hereafter \"$((1000 * ($(date -u +%s) + 8 * 60)))\" \\\n",
    "  --print-stats"
   ]
  },
  {
   "cell_type": "markdown",
   "id": "8c87f7cf-6ee2-497a-bbd9-1f1a99be5551",
   "metadata": {},
   "source": [
    "The contract has now closed."
   ]
  },
  {
   "cell_type": "code",
   "execution_count": 96,
   "id": "500ffa79-a147-4d01-8cdf-d0b7d5ffb1de",
   "metadata": {},
   "outputs": [
    {
     "name": "stdout",
     "output_type": "stream",
     "text": [
      "close\n",
      "...\n"
     ]
    }
   ],
   "source": [
    "jq .tx.contract marlowe-18.json | json2yaml"
   ]
  },
  {
   "cell_type": "markdown",
   "id": "90ffd8f5-936d-467e-b11f-177bb98ed7c2",
   "metadata": {},
   "source": [
    "Submit the transaction."
   ]
  },
  {
   "cell_type": "code",
   "execution_count": 97,
   "id": "253e06d8-69ba-4ffd-bfec-65c67e4c6431",
   "metadata": {},
   "outputs": [
    {
     "name": "stdout",
     "output_type": "stream",
     "text": [
      "\n",
      "Fee: Lovelace 875504\n",
      "Size: 1298 / 16384 = 7%\n",
      "Execution units:\n",
      "  Memory: 8391256 / 14000000 = 59%\n",
      "  Steps: 2203315015 / 10000000000 = 22%\n",
      "TX_18 = 2ab49e5d1d6afb0f4b66b7854e2602ba041996f1588192a03e95c8d11949072d\n"
     ]
    }
   ],
   "source": [
    "TX_18=$(\n",
    "marlowe-cli run auto-execute \\\n",
    "  --mainnet \\\n",
    "  --marlowe-in-file marlowe-17.json \\\n",
    "  --marlowe-out-file marlowe-18.json \\\n",
    "  --tx-in-marlowe \"$TX_17#1\" \\\n",
    "  --change-address \"${ROLE_ADDR[c.marlowe]}\" \\\n",
    "  --required-signer \"${ROLE_SKEY[c.marlowe]}\" \\\n",
    "  --out-file /dev/null \\\n",
    "  --submit 600 \\\n",
    "  --print-stats \\\n",
    "| sed -e 's/^TxId \"\\(.*\\)\"$/\\1/' \\\n",
    ")\n",
    "echo \"TX_18 = $TX_18\""
   ]
  },
  {
   "cell_type": "markdown",
   "id": "b4fe1462-72db-48c7-a7e5-68dca4ffceb7",
   "metadata": {},
   "source": [
    "View the transaction on a Cardano explorer."
   ]
  },
  {
   "cell_type": "code",
   "execution_count": 98,
   "id": "1ed0981e-d33c-44f4-a844-47f7501358dc",
   "metadata": {},
   "outputs": [
    {
     "name": "stdout",
     "output_type": "stream",
     "text": [
      "https://cardanoscan.io/transaction/2ab49e5d1d6afb0f4b66b7854e2602ba041996f1588192a03e95c8d11949072d?tab=utxo\n"
     ]
    }
   ],
   "source": [
    "echo \"https://cardanoscan.io/transaction/$TX_18?tab=utxo\""
   ]
  },
  {
   "cell_type": "markdown",
   "id": "c81274f6-d693-4432-8e6a-075e59f028f7",
   "metadata": {},
   "source": [
    "## Transaction 19. Christopher Marlowe withdraws 50 ada for the role-payout address\n",
    "\n",
    "The seller receives the 50 ada winning bid ."
   ]
  },
  {
   "cell_type": "code",
   "execution_count": 99,
   "id": "21d757a4-997e-4d72-8e00-a0ef468a5ffb",
   "metadata": {},
   "outputs": [
    {
     "name": "stdout",
     "output_type": "stream",
     "text": [
      "\n",
      "Fee: Lovelace 354162\n",
      "Size: 582 / 16384 = 3%\n",
      "Execution units:\n",
      "  Memory: 1952154 / 14000000 = 13%\n",
      "  Steps: 546040855 / 10000000000 = 5%\n",
      "TX_19 = ed8e4c9d04ab99e9265484a4cd72512709e53293c3db3294361b37e72f378e75\n"
     ]
    }
   ],
   "source": [
    "TX_19=$(\n",
    "marlowe-cli run auto-withdraw \\\n",
    "  --mainnet \\\n",
    "  --role-name c.marlowe \\\n",
    "  --marlowe-file marlowe-1.json \\\n",
    "  --change-address \"${ROLE_ADDR[c.marlowe]}\" \\\n",
    "  --required-signer \"${ROLE_SKEY[c.marlowe]}\" \\\n",
    "  --out-file /dev/null \\\n",
    "  --submit 600 \\\n",
    "  --print-stats \\\n",
    "| sed -e 's/^TxId \"\\(.*\\)\"$/\\1/' \\\n",
    ")\n",
    "echo \"TX_19 = $TX_19\""
   ]
  },
  {
   "cell_type": "markdown",
   "id": "6ca862ba-a844-45d5-a6b2-9bcc9196ef55",
   "metadata": {},
   "source": [
    "View the transaction on a Cardano explorer."
   ]
  },
  {
   "cell_type": "code",
   "execution_count": 100,
   "id": "e5fcddf7-ac07-4977-b0c8-3024ce92fec0",
   "metadata": {},
   "outputs": [
    {
     "name": "stdout",
     "output_type": "stream",
     "text": [
      "https://cardanoscan.io/transaction/ed8e4c9d04ab99e9265484a4cd72512709e53293c3db3294361b37e72f378e75?tab=utxo\n"
     ]
    }
   ],
   "source": [
    "echo \"https://cardanoscan.io/transaction/$TX_19?tab=utxo\""
   ]
  },
  {
   "cell_type": "markdown",
   "id": "036efdd3-ff4d-45a6-9bd4-6e77457e3298",
   "metadata": {},
   "source": [
    "## Transaction 20. Francis Beaumont withdraws their 32 ada deposit\n",
    "\n",
    "They receive their deposit back."
   ]
  },
  {
   "cell_type": "code",
   "execution_count": 101,
   "id": "adb6fed0-191f-47e5-b389-b1d96bc7532b",
   "metadata": {},
   "outputs": [
    {
     "name": "stdout",
     "output_type": "stream",
     "text": [
      "\n",
      "Fee: Lovelace 354250\n",
      "Size: 584 / 16384 = 3%\n",
      "Execution units:\n",
      "  Memory: 1952154 / 14000000 = 13%\n",
      "  Steps: 546040855 / 10000000000 = 5%\n",
      "TX_20 = fa1145c20ba038163a9a6cca6deae4b42a87d138e0280d92a275ba0c4dfcb2b7\n"
     ]
    }
   ],
   "source": [
    "TX_20=$(\n",
    "marlowe-cli run auto-withdraw \\\n",
    "  --mainnet \\\n",
    "  --role-name f.beaumont \\\n",
    "  --marlowe-file marlowe-1.json \\\n",
    "  --change-address \"${ROLE_ADDR[f.beaumont]}\" \\\n",
    "  --required-signer \"${ROLE_SKEY[f.beaumont]}\" \\\n",
    "  --out-file /dev/null \\\n",
    "  --submit 600 \\\n",
    "  --print-stats \\\n",
    "| sed -e 's/^TxId \"\\(.*\\)\"$/\\1/' \\\n",
    ")\n",
    "echo \"TX_20 = $TX_20\""
   ]
  },
  {
   "cell_type": "markdown",
   "id": "6364218a-2db4-488f-9541-f75487607358",
   "metadata": {},
   "source": [
    "View the transaction on a Cardano explorer."
   ]
  },
  {
   "cell_type": "code",
   "execution_count": 102,
   "id": "c4d7e1ec-4011-40b2-8ebc-88c2bf659f2d",
   "metadata": {},
   "outputs": [
    {
     "name": "stdout",
     "output_type": "stream",
     "text": [
      "https://cardanoscan.io/transaction/fa1145c20ba038163a9a6cca6deae4b42a87d138e0280d92a275ba0c4dfcb2b7?tab=utxo\n"
     ]
    }
   ],
   "source": [
    "echo \"https://cardanoscan.io/transaction/$TX_20?tab=utxo\""
   ]
  },
  {
   "cell_type": "markdown",
   "id": "995ee633-16be-49c8-b78d-dfd1c67554ab",
   "metadata": {},
   "source": [
    "## Transaction 21. Elizabeth Cary withdraws their 42 ada deposit\n",
    "\n",
    "They receive their deposit back."
   ]
  },
  {
   "cell_type": "code",
   "execution_count": 103,
   "id": "b119e326-613e-4251-a6b4-d1f0dbcd379c",
   "metadata": {},
   "outputs": [
    {
     "name": "stdout",
     "output_type": "stream",
     "text": [
      "\n",
      "Fee: Lovelace 349836\n",
      "Size: 576 / 16384 = 3%\n",
      "Execution units:\n",
      "  Memory: 1897354 / 14000000 = 13%\n",
      "  Steps: 533555810 / 10000000000 = 5%\n",
      "TX_21 = 5ed6799dd29c92bdca1f208d8a68c33f6e0ddbb1c7c989dce4bc1047e0d25292\n"
     ]
    }
   ],
   "source": [
    "TX_21=$(\n",
    "marlowe-cli run auto-withdraw \\\n",
    "  --mainnet \\\n",
    "  --role-name e.cary \\\n",
    "  --marlowe-file marlowe-1.json \\\n",
    "  --change-address \"${ROLE_ADDR[e.cary]}\" \\\n",
    "  --required-signer \"${ROLE_SKEY[e.cary]}\" \\\n",
    "  --out-file /dev/null \\\n",
    "  --submit 600 \\\n",
    "  --print-stats \\\n",
    "| sed -e 's/^TxId \"\\(.*\\)\"$/\\1/' \\\n",
    ")\n",
    "echo \"TX_21 = $TX_21\""
   ]
  },
  {
   "cell_type": "markdown",
   "id": "f1156dfd-a0b3-4351-b7cc-9e1f189031ac",
   "metadata": {},
   "source": [
    "View the transaction on a Cardano explorer."
   ]
  },
  {
   "cell_type": "code",
   "execution_count": 104,
   "id": "c62193a9-a08b-46e3-a888-b9866fbf2a69",
   "metadata": {},
   "outputs": [
    {
     "name": "stdout",
     "output_type": "stream",
     "text": [
      "https://cardanoscan.io/transaction/5ed6799dd29c92bdca1f208d8a68c33f6e0ddbb1c7c989dce4bc1047e0d25292?tab=utxo\n"
     ]
    }
   ],
   "source": [
    "echo \"https://cardanoscan.io/transaction/$TX_21?tab=utxo\""
   ]
  },
  {
   "cell_type": "markdown",
   "id": "8be7ca9b-fa79-44ad-9eb2-d42f5d1c4e40",
   "metadata": {
    "tags": []
   },
   "source": [
    "## Transaction 22. Mary Herbert withdraws the BearGarden token, along with the minimum ada\n",
    "\n",
    "They receive their token and minimum ada."
   ]
  },
  {
   "cell_type": "code",
   "execution_count": 105,
   "id": "2bdd245f-9e14-4351-8676-7b2aeb316abf",
   "metadata": {},
   "outputs": [
    {
     "name": "stdout",
     "output_type": "stream",
     "text": [
      "\n",
      "Fee: Lovelace 609082\n",
      "Size: 678 / 16384 = 4%\n",
      "Execution units:\n",
      "  Memory: 5197472 / 14000000 = 37%\n",
      "  Steps: 1425947506 / 10000000000 = 14%\n",
      "TX_22 = b0544c678cf287fd319edf515ebb0b3c2a7e0ae1f6f0f262aaa4b13a6f1600c5\n"
     ]
    }
   ],
   "source": [
    "TX_22=$(\n",
    "marlowe-cli run auto-withdraw \\\n",
    "  --mainnet \\\n",
    "  --role-name m.herbert \\\n",
    "  --marlowe-file marlowe-1.json \\\n",
    "  --change-address \"${ROLE_ADDR[m.herbert]}\" \\\n",
    "  --required-signer \"${ROLE_SKEY[m.herbert]}\" \\\n",
    "  --out-file /dev/null \\\n",
    "  --submit 600 \\\n",
    "  --print-stats \\\n",
    "| sed -e 's/^TxId \"\\(.*\\)\"$/\\1/' \\\n",
    ")\n",
    "echo \"TX_22 = $TX_22\""
   ]
  },
  {
   "cell_type": "markdown",
   "id": "e30481b3-f124-4e83-a605-71b9991adaea",
   "metadata": {},
   "source": [
    "View the transaction on a Cardano explorer."
   ]
  },
  {
   "cell_type": "code",
   "execution_count": 106,
   "id": "7f45952f-9b79-45ce-a670-b7375aebfc02",
   "metadata": {},
   "outputs": [
    {
     "name": "stdout",
     "output_type": "stream",
     "text": [
      "https://cardanoscan.io/transaction/b0544c678cf287fd319edf515ebb0b3c2a7e0ae1f6f0f262aaa4b13a6f1600c5?tab=utxo\n"
     ]
    }
   ],
   "source": [
    "echo \"https://cardanoscan.io/transaction/$TX_22?tab=utxo\""
   ]
  },
  {
   "cell_type": "markdown",
   "id": "a06d74b9-2b22-4f69-99d6-45944a1cec42",
   "metadata": {},
   "source": [
    "## Cleanup\n",
    "\n",
    "It is convenient to return the `BearGarden` token to the faucet."
   ]
  },
  {
   "cell_type": "code",
   "execution_count": 107,
   "id": "38a848f9-b9aa-421c-abea-52be25b07544",
   "metadata": {},
   "outputs": [
    {
     "name": "stdout",
     "output_type": "stream",
     "text": [
      "TxId \"8fc3dd9bc80b04a0ae0e9f3ba36b04b4b7db46414ddf5e988e363f349d3c2b4f\"\n"
     ]
    }
   ],
   "source": [
    "marlowe-cli transaction simple \\\n",
    "  --mainnet \\\n",
    "  --tx-in \"b0544c678cf287fd319edf515ebb0b3c2a7e0ae1f6f0f262aaa4b13a6f1600c5#0\" \\\n",
    "  --tx-in \"b0544c678cf287fd319edf515ebb0b3c2a7e0ae1f6f0f262aaa4b13a6f1600c5#1\" \\\n",
    "  --tx-out \"$FAUCET_ADDR+$((2 * ADA))+1 $FUNGIBLES_POLICY.BearGarden\" \\\n",
    "  --change-address \"${ROLE_ADDR[m.herbert]}\" \\\n",
    "  --required-signer \"${ROLE_SKEY[m.herbert]}\" \\\n",
    "  --out-file /dev/null \\\n",
    "  --submit 600"
   ]
  }
 ],
 "metadata": {
  "kernelspec": {
   "display_name": "Bash - Marlowe",
   "language": "bash",
   "name": "bash_marlowe"
  },
  "language_info": {
   "codemirror_mode": "shell",
   "file_extension": ".sh",
   "mimetype": "text/x-sh",
   "name": "/nix/store/xbdqbi2mscmhl5wcpbgpjdwxbsrvpkil-bash-5.1-p16/bin/bash"
  }
 },
 "nbformat": 4,
 "nbformat_minor": 5
}
