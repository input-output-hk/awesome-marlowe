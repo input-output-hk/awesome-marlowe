{
 "cells": [
  {
   "cell_type": "markdown",
   "id": "d33d4002-eab9-4b2e-871d-8c55e410b6d1",
   "metadata": {},
   "source": [
    "## <font color=\"red\">Caution!</font>\n",
    "\n",
    "Before running a Marlowe contract on `mainnet`, it is wise to do the following in order to avoid losing funds:\n",
    "\n",
    "1. Understand the [Marlowe Language](https://marlowe.iohk.io/).\n",
    "2. Understand Cardano\\'s [Extended UTxO Model](https://docs.cardano.org/learn/eutxo-explainer).\n",
    "3. Read and understand the [Marlowe Best Practices Guide](https://github.com/input-output-hk/marlowe-cardano/blob/main/marlowe/best-practices.md).\n",
    "4. Read and understand the [Marlowe Security Guide](https://github.com/input-output-hk/marlowe-cardano/blob/main/marlowe/security.md).\n",
    "5. Use [Marlowe Playground](https://play.marlowe.iohk.io/) to flag warnings, perform static analysis, and simulate the contract.\n",
    "6. Use [Marlowe CLI\\'s](https://github.com/input-output-hk/marlowe-cardano/blob/main/marlowe-cli/ReadMe.md) `marlowe-cli run analyze` tool to study whether the contract can run on a Cardano network.\n",
    "7. Run *all execution paths* of the contract on a [Cardano testnet](https://docs.cardano.org/cardano-testnet/overview).\n",
    "\n",
    "---"
   ]
  },
  {
   "cell_type": "markdown",
   "id": "0fafc279-76a1-4bee-931b-145f96313e3b",
   "metadata": {},
   "source": [
    "# A Bullet Loan with an NFT as Collateral\n",
    "\n",
    "The party borrows 90 Djed with a BearGarden token as collateral; after they pay back the 90 Djed principal and 10 Djed interest to the counterparty, they receive their BearGarden token back. If they do not pay before the deadline, the counterparty keeps their BearGarden token.\n",
    "\n",
    "This example consists of seven transactions:\n",
    "1. Elizabeth Cary creates the token-sale Marlowe contract.\n",
    "2. Elizabeth Cary deposits 1 BearGarden token in the contract.\n",
    "3. Mary Herbet deposits 90 Djed in the contract, causing the contract to loan the 90 Djed to Elizabeth Cary.\n",
    "4. Elizabeth Cary withdraws her 90 Djed from Marlowe's role-payout address.\n",
    "5. Later, Elizabeth Cary deposits 100 Djed into the contract, which returns her token and pays the 100 Djed to Mary Herbert.\n",
    "6. Elizabeth Cary withdraws her 1 BearGarden token from Marlowe's role-payout address.\n",
    "7. Mary Herbet withdraws her 100 Djed from Marlowe's role-payout address.\n",
    "\n",
    "Here is the contract in Blockly format:\n",
    "\n",
    "![Loan collateralize by an NFT](contract.png)"
   ]
  },
  {
   "cell_type": "markdown",
   "id": "07ad66b4-52bc-450f-90ca-c7c7a0ccf66e",
   "metadata": {},
   "source": [
    "## Set Up"
   ]
  },
  {
   "cell_type": "markdown",
   "id": "f2860ab6-29f4-4571-92b8-d53faad8d53b",
   "metadata": {},
   "source": [
    "Use `mainnet`."
   ]
  },
  {
   "cell_type": "code",
   "execution_count": 1,
   "id": "18eadf53-f319-4a3e-94c3-2f526e467787",
   "metadata": {},
   "outputs": [],
   "source": [
    ". ../../mainnet.env"
   ]
  },
  {
   "cell_type": "markdown",
   "id": "01c3bcfd-b534-4639-a6ef-8b47fd68a543",
   "metadata": {},
   "source": [
    "Use the standard example roles."
   ]
  },
  {
   "cell_type": "code",
   "execution_count": 2,
   "id": "f3b84135-f5ab-47a3-917d-6e8cc18b53a9",
   "metadata": {},
   "outputs": [],
   "source": [
    ". ../../dramatis-personae/roles.env"
   ]
  },
  {
   "cell_type": "markdown",
   "id": "030763a2-1c67-463c-aa47-d6d4020ed48c",
   "metadata": {},
   "source": [
    "## Role tokens\n",
    "\n",
    "This contract uses [Ada Handles](https://adahandle.com/) as role tokens:\n",
    "- Elizabeth Cary = [\\$e.cary](https://pool.pm/asset1tx4euajkdczmkawgkjy342agaq33885dlvp0jl)\n",
    "- Mary Herbert = [\\$m.herbert](https://pool.pm/asset1a38nhu84xquj7whe3xqr80uyf99mh2r7hzf277)\n",
    "\n",
    "*Note: Only use a pre-minted token as a Marlowe role if you have reviewed the monetary policy for security vulnerabilities.*\n",
    "\n",
    "Here is the currency symbol for Ada handles on `mainnet`:"
   ]
  },
  {
   "cell_type": "code",
   "execution_count": 3,
   "id": "31b3ae67-4374-4a71-99d8-fa454b4f9d0a",
   "metadata": {},
   "outputs": [
    {
     "name": "stdout",
     "output_type": "stream",
     "text": [
      "ROLES_CURRENCY = f0ff48bbb7bbe9d59a40f1ce90e9e9d0ff5002ec48f232b49ca0fb9a\n"
     ]
    }
   ],
   "source": [
    "echo \"ROLES_CURRENCY = $ROLES_CURRENCY\""
   ]
  },
  {
   "cell_type": "markdown",
   "id": "ffed3ada-c22d-4a71-8502-02051a23ca80",
   "metadata": {},
   "source": [
    "## Policy ID for the BearGarden token"
   ]
  },
  {
   "cell_type": "markdown",
   "id": "2379b64b-4078-4ec6-86ab-e60ad8c5c75d",
   "metadata": {},
   "source": [
    "We previously minted the BearGarden token with the following policy."
   ]
  },
  {
   "cell_type": "code",
   "execution_count": 4,
   "id": "1904bda9-67d2-4c04-ba8a-d3bfe2d34f9c",
   "metadata": {},
   "outputs": [
    {
     "name": "stdout",
     "output_type": "stream",
     "text": [
      "FUNGIBLES_POLICY = 8bb3b343d8e404472337966a722150048c768d0a92a9813596c5338d\n"
     ]
    }
   ],
   "source": [
    "echo \"FUNGIBLES_POLICY = $FUNGIBLES_POLICY\""
   ]
  },
  {
   "cell_type": "markdown",
   "id": "6089cf8a-f1ac-47bf-a8c4-dccfe420c93d",
   "metadata": {},
   "source": [
    "## Policy IDs for Djed\n",
    "\n",
    "Here are the policies for the stablecoins that we are using."
   ]
  },
  {
   "cell_type": "code",
   "execution_count": 5,
   "id": "7e652b8a-5478-4d71-a33a-c40a759ee4e1",
   "metadata": {},
   "outputs": [
    {
     "name": "stdout",
     "output_type": "stream",
     "text": [
      "DJED_POLICY = 8db269c3ec630e06ae29f74bc39edd1f87c819f1056206e879a1cd61\n",
      "DJED_NAME = DjedMicroUSD\n"
     ]
    }
   ],
   "source": [
    "echo \"DJED_POLICY = $DJED_POLICY\"\n",
    "echo \"DJED_NAME = $DJED_NAME\""
   ]
  },
  {
   "cell_type": "markdown",
   "id": "7b810dc9-83a5-4c75-b01f-ab496affd3f8",
   "metadata": {},
   "source": [
    "## Initial Funding"
   ]
  },
  {
   "cell_type": "markdown",
   "id": "d24a879f-f2e7-4e19-a570-18869c2dbb9d",
   "metadata": {},
   "source": [
    "Send the BearGarden fungible token from the faucet to Elizabeth Cary and the stablecoins to both Elizabeth Cary and Mary Herbert."
   ]
  },
  {
   "cell_type": "code",
   "execution_count": 6,
   "id": "6f436a4c-a801-430a-bb3e-877e2f041161",
   "metadata": {},
   "outputs": [
    {
     "name": "stdout",
     "output_type": "stream",
     "text": [
      "TxId \"b7896f5909e59c1408fb36111cb4620e2f3d6400c98332fee80d739246bcaead\"\n"
     ]
    }
   ],
   "source": [
    "ADA=1000000\n",
    "DJED=1000000\n",
    "marlowe-cli transaction simple \\\n",
    "  --mainnet \\\n",
    "  --tx-in \"68384929c41d65b8583254265b7178edfe6668e68789890a60242fec3c58bf7c#0\" \\\n",
    "  --tx-in \"a54cdaeaa68371466a6ddd0a8b20c092b9473bf5840e00f9e3dbcbd0c0967e2a#1\" \\\n",
    "  --tx-in \"b6f5cd7769917917f2de5daeeeb5760d240bd8bf486c147d5a41c95140bef5b6#1\" \\\n",
    "  --tx-out \"${ROLE_ADDR[e.cary]}+$((3 * ADA))+$((10 * DJED)) $DJED_POLICY.$DJED_NAME\" \\\n",
    "  --tx-out \"${ROLE_ADDR[m.herbert]}+$((3 * ADA))+$((90 * IUSD)) $DJED_POLICY.$DJED_NAME\" \\\n",
    "  --tx-out \"${ROLE_ADDR[e.cary]}+$((3 * ADA))+1 $FUNGIBLES_POLICY.BearGarden\" \\\n",
    "  --tx-out \"$FAUCET_ADDR+$((3 * ADA))+499 $FUNGIBLES_POLICY.BearGarden\" \\\n",
    "  --change-address \"$FAUCET_ADDR\" \\\n",
    "  --required-signer \"$FAUCET_SKEY\" \\\n",
    "  --out-file /dev/null \\\n",
    "  --submit 600"
   ]
  },
  {
   "cell_type": "code",
   "execution_count": 7,
   "id": "d1f735ed-ba7f-41c6-9ee8-20d92665529c",
   "metadata": {},
   "outputs": [
    {
     "name": "stdout",
     "output_type": "stream",
     "text": [
      "TxId \"46cccae10f766e788eb7f2f362072a2acc3b9a2138c435d63551323cc8cd158d\"\n"
     ]
    }
   ],
   "source": [
    "ADA=1000000\n",
    "DJED=1000000\n",
    "marlowe-cli transaction simple \\\n",
    "  --mainnet \\\n",
    "  --tx-in \"b7896f5909e59c1408fb36111cb4620e2f3d6400c98332fee80d739246bcaead#4\" \\\n",
    "  --tx-in \"4a288753dfa52ae965d5a100ee353d89c19fac936c3b5376dc8ab02946bdd386#0\" \\\n",
    "  --tx-out \"${ROLE_ADDR[e.cary]}+$((3 * ADA))+1 $FUNGIBLES_POLICY.BearGarden\" \\\n",
    "  --tx-out \"$FAUCET_ADDR+$((3 * ADA))+498 $FUNGIBLES_POLICY.BearGarden\" \\\n",
    "  --change-address \"$FAUCET_ADDR\" \\\n",
    "  --required-signer \"$FAUCET_SKEY\" \\\n",
    "  --out-file /dev/null \\\n",
    "  --submit 600"
   ]
  },
  {
   "cell_type": "markdown",
   "id": "18d01388-a359-4f58-a49e-4927a0a5a454",
   "metadata": {},
   "source": [
    "## The Marlowe contract\n",
    "\n",
    "The Marlowe contract is just a download of the JSON file for the Blockly-format contract designed in the [Marlowe Playground](https://play.marlowe.iohk.io/#/)."
   ]
  },
  {
   "cell_type": "code",
   "execution_count": 8,
   "id": "6c9c0330-ad86-4704-90f8-d798d7d7562a",
   "metadata": {},
   "outputs": [
    {
     "name": "stdout",
     "output_type": "stream",
     "text": [
      "timeout: 1676679830000\n",
      "timeout_continuation: close\n",
      "when:\n",
      "- case:\n",
      "    deposits: 1\n",
      "    into_account:\n",
      "      role_token: e.cary\n",
      "    of_token:\n",
      "      currency_symbol: 8bb3b343d8e404472337966a722150048c768d0a92a9813596c5338d\n",
      "      token_name: BearGarden\n",
      "    party:\n",
      "      role_token: e.cary\n",
      "  then:\n",
      "    timeout: 1676679840000\n",
      "    timeout_continuation: close\n",
      "    when:\n",
      "    - case:\n",
      "        deposits: 90000000\n",
      "        into_account:\n",
      "          role_token: m.herbert\n",
      "        of_token:\n",
      "          currency_symbol: 8db269c3ec630e06ae29f74bc39edd1f87c819f1056206e879a1cd61\n",
      "          token_name: DjedMicroUSD\n",
      "        party:\n",
      "          role_token: m.herbert\n",
      "      then:\n",
      "        from_account:\n",
      "          role_token: m.herbert\n",
      "        pay: 90000000\n",
      "        then:\n",
      "          timeout: 1676679850000\n",
      "          timeout_continuation:\n",
      "            from_account:\n",
      "              role_token: e.cary\n",
      "            pay: 1\n",
      "            then: close\n",
      "            to:\n",
      "              party:\n",
      "                role_token: m.herbert\n",
      "            token:\n",
      "              currency_symbol: 8bb3b343d8e404472337966a722150048c768d0a92a9813596c5338d\n",
      "              token_name: BearGarden\n",
      "          when:\n",
      "          - case:\n",
      "              deposits: 100000000\n",
      "              into_account:\n",
      "                role_token: m.herbert\n",
      "              of_token:\n",
      "                currency_symbol: 8db269c3ec630e06ae29f74bc39edd1f87c819f1056206e879a1cd61\n",
      "                token_name: DjedMicroUSD\n",
      "              party:\n",
      "                role_token: e.cary\n",
      "            then: close\n",
      "        to:\n",
      "          party:\n",
      "            role_token: e.cary\n",
      "        token:\n",
      "          currency_symbol: 8db269c3ec630e06ae29f74bc39edd1f87c819f1056206e879a1cd61\n",
      "          token_name: DjedMicroUSD\n"
     ]
    }
   ],
   "source": [
    "json2yaml contract.json"
   ]
  },
  {
   "cell_type": "markdown",
   "id": "f8c4dbbf-f861-438a-a5bc-bf6d3af3d27f",
   "metadata": {},
   "source": [
    "## Transaction 1. Create the contract\n",
    "\n",
    "We use Marlowe Runtime's command-line tool to build the transaction for creating the contract."
   ]
  },
  {
   "cell_type": "code",
   "execution_count": 9,
   "id": "43d8526a-4edf-4baf-98f7-2509a2320a19",
   "metadata": {},
   "outputs": [
    {
     "name": "stdout",
     "output_type": "stream",
     "text": [
      "CONTRACT_ID = 4a288753dfa52ae965d5a100ee353d89c19fac936c3b5376dc8ab02946bdd386#1\n"
     ]
    }
   ],
   "source": [
    "CONTRACT_ID=$(\n",
    "marlowe create \\\n",
    "  --core-file contract.json \\\n",
    "  --role-token-policy-id \"$ROLES_CURRENCY\" \\\n",
    "  --min-utxo \"$((3 * ADA))\" \\\n",
    "  --change-address \"$FAUCET_ADDR\" \\\n",
    "  --manual-sign tx-1.unsigned \\\n",
    "| jq -r 'fromjson | .contractId' \\\n",
    ")\n",
    "echo \"CONTRACT_ID = $CONTRACT_ID\""
   ]
  },
  {
   "cell_type": "markdown",
   "id": "44313727-26ab-4ee6-a922-9859e9328c5d",
   "metadata": {},
   "source": [
    "The contract can be signed an submitted with any wallet or service. For convenience, we use `marlowe-cli` here."
   ]
  },
  {
   "cell_type": "code",
   "execution_count": 10,
   "id": "71cd4d41-0647-4013-b921-ea3491e7ffa8",
   "metadata": {},
   "outputs": [
    {
     "name": "stdout",
     "output_type": "stream",
     "text": [
      "TxId \"4a288753dfa52ae965d5a100ee353d89c19fac936c3b5376dc8ab02946bdd386\"\n"
     ]
    }
   ],
   "source": [
    "marlowe-cli transaction submit \\\n",
    "  --mainnet \\\n",
    "  --tx-body-file tx-1.unsigned \\\n",
    "  --required-signer \"$FAUCET_SKEY\" \\\n",
    "  --timeout 600"
   ]
  },
  {
   "cell_type": "markdown",
   "id": "ba93c857-ce11-4fa0-9c13-461fda5a4726",
   "metadata": {},
   "source": [
    "View the transaction on Cardano explorer."
   ]
  },
  {
   "cell_type": "code",
   "execution_count": 11,
   "id": "edbcd13f-c143-40ba-b5f3-1c09543cd9d1",
   "metadata": {},
   "outputs": [
    {
     "name": "stdout",
     "output_type": "stream",
     "text": [
      "https://cardanoscan.io/transaction/4a288753dfa52ae965d5a100ee353d89c19fac936c3b5376dc8ab02946bdd386?tab=utxo\n"
     ]
    }
   ],
   "source": [
    "echo \"https://cardanoscan.io/transaction/${CONTRACT_ID%%#1}?tab=utxo\""
   ]
  },
  {
   "cell_type": "markdown",
   "id": "5bd2329b-3c88-4b60-9ac9-b97c162e8f78",
   "metadata": {},
   "source": [
    "We can use a tool such as `marlowe-pipe` to fetch the contract from the blockchain and display it."
   ]
  },
  {
   "cell_type": "code",
   "execution_count": 12,
   "id": "d965d4fd-e5bb-4ee0-9d5f-fba08f8952a9",
   "metadata": {},
   "outputs": [
    {
     "name": "stdout",
     "output_type": "stream",
     "text": [
      "creation:\n",
      "  output:\n",
      "    address: 716a9391d6aa51af28dd876ebb5565b69d1e83e5ac7861506bd29b56b0\n",
      "    assets:\n",
      "      ada: 3000000\n",
      "      tokens: []\n",
      "    datum:\n",
      "      marloweContract:\n",
      "        timeout: 1676679830000\n",
      "        timeout_continuation: close\n",
      "        when:\n",
      "        - case:\n",
      "            deposits: 1\n",
      "            into_account:\n",
      "              role_token: e.cary\n",
      "            of_token:\n",
      "              currency_symbol: 8bb3b343d8e404472337966a722150048c768d0a92a9813596c5338d\n",
      "              token_name: BearGarden\n",
      "            party:\n",
      "              role_token: e.cary\n",
      "          then:\n",
      "            timeout: 1676679840000\n",
      "            timeout_continuation: close\n",
      "            when:\n",
      "            - case:\n",
      "                deposits: 90000000\n",
      "                into_account:\n",
      "                  role_token: m.herbert\n",
      "                of_token:\n",
      "                  currency_symbol: 8db269c3ec630e06ae29f74bc39edd1f87c819f1056206e879a1cd61\n",
      "                  token_name: DjedMicroUSD\n",
      "                party:\n",
      "                  role_token: m.herbert\n",
      "              then:\n",
      "                from_account:\n",
      "                  role_token: m.herbert\n",
      "                pay: 90000000\n",
      "                then:\n",
      "                  timeout: 1676679850000\n",
      "                  timeout_continuation:\n",
      "                    from_account:\n",
      "                      role_token: e.cary\n",
      "                    pay: 1\n",
      "                    then: close\n",
      "                    to:\n",
      "                      party:\n",
      "                        role_token: m.herbert\n",
      "                    token:\n",
      "                      currency_symbol: 8bb3b343d8e404472337966a722150048c768d0a92a9813596c5338d\n",
      "                      token_name: BearGarden\n",
      "                  when:\n",
      "                  - case:\n",
      "                      deposits: 100000000\n",
      "                      into_account:\n",
      "                        role_token: m.herbert\n",
      "                      of_token:\n",
      "                        currency_symbol: 8db269c3ec630e06ae29f74bc39edd1f87c819f1056206e879a1cd61\n",
      "                        token_name: DjedMicroUSD\n",
      "                      party:\n",
      "                        role_token: e.cary\n",
      "                    then: close\n",
      "                to:\n",
      "                  party:\n",
      "                    role_token: e.cary\n",
      "                token:\n",
      "                  currency_symbol: 8db269c3ec630e06ae29f74bc39edd1f87c819f1056206e879a1cd61\n",
      "                  token_name: DjedMicroUSD\n",
      "      marloweParams:\n",
      "        rolesCurrency: f0ff48bbb7bbe9d59a40f1ce90e9e9d0ff5002ec48f232b49ca0fb9a\n",
      "      marloweState:\n",
      "        accounts:\n",
      "        - - - address: addr1qy9prvx8ufwutkwxx9cmmuuajaqmjqwujqlp9d8pvg6gupcvluken35ncjnu0puetf5jvttedkze02d5kf890kquh60sut9jg7\n",
      "            - currency_symbol: ''\n",
      "              token_name: ''\n",
      "          - 3000000\n",
      "        boundValues: []\n",
      "        choices: []\n",
      "        minTime: 0\n",
      "    utxo:\n",
      "      txId: 4a288753dfa52ae965d5a100ee353d89c19fac936c3b5376dc8ab02946bdd386\n",
      "      txIx: 1\n",
      "  payoutValidatorHash: 49076eab20243dc9462511fb98a9cfb719f86e9692288139b7c91df3\n",
      "response: info\n",
      "steps: []\n"
     ]
    }
   ],
   "source": [
    "echo '{\"request\" : \"get\", \"contractId\" : \"'\"$CONTRACT_ID\"'\"}' | marlowe-pipe 2> /dev/null | json2yaml"
   ]
  },
  {
   "cell_type": "markdown",
   "id": "0ebe8f27-6e07-48f8-929c-cc7a3cc5090c",
   "metadata": {},
   "source": [
    "## Transaction 2. Elizabeth Cary deposits the BearGarden token into the contract\n",
    "\n",
    "The logic of the contract dictates that Elizabeth Cary deposits one BearGarden token into her account in the Marlowe contract."
   ]
  },
  {
   "cell_type": "code",
   "execution_count": 13,
   "id": "74edf442-004b-4908-b362-4b1d08eeefa0",
   "metadata": {},
   "outputs": [
    {
     "name": "stdout",
     "output_type": "stream",
     "text": [
      "TX_2 = 1395ae199837f758bfc19f003b9465c137daf998d3937fba92b0d50f88ecdace\n"
     ]
    }
   ],
   "source": [
    "TX_2=$(\n",
    "marlowe deposit \\\n",
    "  --contract \"$CONTRACT_ID\" \\\n",
    "  --from-party \"${ROLE_NAME[e.cary]}\" \\\n",
    "  --to-party \"${ROLE_NAME[e.cary]}\" \\\n",
    "  --currency \"$FUNGIBLES_POLICY\" \\\n",
    "  --token-name BearGarden \\\n",
    "  --quantity 1 \\\n",
    "  --change-address \"${ROLE_ADDR[e.cary]}\" \\\n",
    "  --manual-sign tx-2.unsigned \\\n",
    "| jq -r 'fromjson | .txId' \\\n",
    ")\n",
    "echo \"TX_2 = $TX_2\""
   ]
  },
  {
   "cell_type": "markdown",
   "id": "443e13a6-9b07-4716-abdd-66d146ed0b12",
   "metadata": {},
   "source": [
    "Sign and submit the transaction."
   ]
  },
  {
   "cell_type": "code",
   "execution_count": 14,
   "id": "8d2fd190-7d05-47f4-95ad-9da9a6e3d84e",
   "metadata": {},
   "outputs": [
    {
     "name": "stdout",
     "output_type": "stream",
     "text": [
      "TxId \"1395ae199837f758bfc19f003b9465c137daf998d3937fba92b0d50f88ecdace\"\n"
     ]
    }
   ],
   "source": [
    "marlowe-cli transaction submit \\\n",
    "  --mainnet \\\n",
    "  --tx-body-file tx-2.unsigned \\\n",
    "  --required-signer \"${ROLE_SKEY[e.cary]}\" \\\n",
    "  --timeout 600"
   ]
  },
  {
   "cell_type": "markdown",
   "id": "96bf2e48-5e59-419b-84d5-b17c5ce50af4",
   "metadata": {},
   "source": [
    "See that the token has been deposited in the contract."
   ]
  },
  {
   "cell_type": "code",
   "execution_count": 15,
   "id": "f08aa49c-5ec5-4d69-993c-e100c8b96836",
   "metadata": {},
   "outputs": [
    {
     "name": "stdout",
     "output_type": "stream",
     "text": [
      "https://cardanoscan.io/transaction/1395ae199837f758bfc19f003b9465c137daf998d3937fba92b0d50f88ecdace?tab=utxo\n"
     ]
    }
   ],
   "source": [
    "echo \"https://cardanoscan.io/transaction/$TX_2?tab=utxo\""
   ]
  },
  {
   "cell_type": "markdown",
   "id": "2b9c6417-a84b-42b8-9b3e-3726faf48866",
   "metadata": {},
   "source": [
    "View the output to the Marlowe contract to see that it now holds 1 BearGarden token."
   ]
  },
  {
   "cell_type": "code",
   "execution_count": 16,
   "id": "72885ce2-a709-43ae-b7d8-cd3886ca7fa0",
   "metadata": {},
   "outputs": [
    {
     "name": "stdout",
     "output_type": "stream",
     "text": [
      "                           TxHash                                 TxIx        Amount\n",
      "--------------------------------------------------------------------------------------\n",
      "1395ae199837f758bfc19f003b9465c137daf998d3937fba92b0d50f88ecdace     1        3000000 lovelace + 1 8bb3b343d8e404472337966a722150048c768d0a92a9813596c5338d.4265617247617264656e + TxOutDatumHash ScriptDataInBabbageEra \"fbd1de02388b1aec1565475525bb0ce76048ed50b3ee6031dc7ad24b1879fa0c\"\n"
     ]
    }
   ],
   "source": [
    "cardano-cli query utxo --mainnet --tx-in \"$TX_2#1\""
   ]
  },
  {
   "cell_type": "markdown",
   "id": "8715e151-1c98-4248-b44c-c4f094d747b3",
   "metadata": {},
   "source": [
    "## Transaction 3. Mary Herbert deposits 90 Djed into the contract, causing it to pay the Elizabeth Cary.\n",
    "\n",
    "Depositing the 90 Djed causes the contract to pay 90 Djed for the benefit of Elizabeth Cary."
   ]
  },
  {
   "cell_type": "code",
   "execution_count": 17,
   "id": "76efe0e5-0736-4cf6-ace2-e0971ce34f48",
   "metadata": {},
   "outputs": [
    {
     "name": "stdout",
     "output_type": "stream",
     "text": [
      "TX_3 = 075b605dc43bc1a3411ddc68da59eae5ba82d02297abe7d630ad62d7fcc710f0\n"
     ]
    }
   ],
   "source": [
    "TX_3=$(\n",
    "marlowe deposit \\\n",
    "  --contract \"$CONTRACT_ID\" \\\n",
    "  --from-party \"${ROLE_NAME[m.herbert]}\" \\\n",
    "  --to-party \"${ROLE_NAME[m.herbert]}\" \\\n",
    "  --currency \"$DJED_POLICY\" \\\n",
    "  --token-name \"$DJED_NAME\" \\\n",
    "  --quantity \"$((90 * DJED))\" \\\n",
    "  --change-address \"${ROLE_ADDR[m.herbert]}\" \\\n",
    "  --manual-sign tx-3.unsigned \\\n",
    "| jq -r 'fromjson | .txId' \\\n",
    ")\n",
    "echo \"TX_3 = $TX_3\""
   ]
  },
  {
   "cell_type": "markdown",
   "id": "655360bb-3073-4a83-95d3-9d36ebc8c584",
   "metadata": {},
   "source": [
    "Sign and submit the transaction."
   ]
  },
  {
   "cell_type": "code",
   "execution_count": 18,
   "id": "972dfea3-7d65-479b-9743-09dd51494224",
   "metadata": {},
   "outputs": [
    {
     "name": "stdout",
     "output_type": "stream",
     "text": [
      "TxId \"075b605dc43bc1a3411ddc68da59eae5ba82d02297abe7d630ad62d7fcc710f0\"\n"
     ]
    }
   ],
   "source": [
    "marlowe-cli transaction submit \\\n",
    "  --mainnet \\\n",
    "  --tx-body-file tx-3.unsigned \\\n",
    "  --required-signer \"${ROLE_SKEY[m.herbert]}\" \\\n",
    "  --timeout 600"
   ]
  },
  {
   "cell_type": "markdown",
   "id": "cc4637d8-5d10-4336-8af1-093969cdcc29",
   "metadata": {},
   "source": [
    "See that the contract retains the token but paid 90 Djed to the role-payout address."
   ]
  },
  {
   "cell_type": "code",
   "execution_count": 19,
   "id": "dd9eef79-8bfd-4ab7-9379-c1bc709ef236",
   "metadata": {},
   "outputs": [
    {
     "name": "stdout",
     "output_type": "stream",
     "text": [
      "https://cardanoscan.io/transaction/075b605dc43bc1a3411ddc68da59eae5ba82d02297abe7d630ad62d7fcc710f0?tab=utxo\n"
     ]
    }
   ],
   "source": [
    "echo \"https://cardanoscan.io/transaction/$TX_3?tab=utxo\""
   ]
  },
  {
   "cell_type": "markdown",
   "id": "e385eb6d-598e-406b-8150-b266da742778",
   "metadata": {},
   "source": [
    "## Transaction 4. Elizabeth Cary withdraws 90 Djed from the role-payout address"
   ]
  },
  {
   "cell_type": "code",
   "execution_count": 20,
   "id": "e789fda9-6215-432b-acea-e0eb5f7ecc93",
   "metadata": {},
   "outputs": [
    {
     "name": "stdout",
     "output_type": "stream",
     "text": [
      "TX_4 = 76914d0d4836ff09102034f96195873451ec1df6f88679f9d0a8c9e1e87ce49f\n"
     ]
    }
   ],
   "source": [
    "TX_4=$(\n",
    "marlowe withdraw \\\n",
    "  --contract \"$CONTRACT_ID\" \\\n",
    "  --role \"${ROLE_NAME[e.cary]}\" \\\n",
    "  --change-address \"${ROLE_ADDR[e.cary]}\" \\\n",
    "  --manual-sign tx-4.unsigned \\\n",
    "| jq -r 'fromjson | .txId' \\\n",
    ")\n",
    "echo \"TX_4 = $TX_4\""
   ]
  },
  {
   "cell_type": "markdown",
   "id": "ac12cb2b-7848-4ad6-92db-e9d962d47b5e",
   "metadata": {},
   "source": [
    "Sign and submit the transaction."
   ]
  },
  {
   "cell_type": "code",
   "execution_count": 21,
   "id": "5b09732a-0384-48a5-a078-9d3a15b780ee",
   "metadata": {},
   "outputs": [
    {
     "name": "stdout",
     "output_type": "stream",
     "text": [
      "TxId \"76914d0d4836ff09102034f96195873451ec1df6f88679f9d0a8c9e1e87ce49f\"\n"
     ]
    }
   ],
   "source": [
    "marlowe-cli transaction submit \\\n",
    "  --mainnet \\\n",
    "  --tx-body-file tx-4.unsigned \\\n",
    "  --required-signer \"${ROLE_SKEY[e.cary]}\" \\\n",
    "  --timeout 600"
   ]
  },
  {
   "cell_type": "markdown",
   "id": "3848f329-38e3-414a-a9b5-afce02200e54",
   "metadata": {},
   "source": [
    "See that Elizabeth Cary has successfully withdrawn the 90 Djed from the role-payout address."
   ]
  },
  {
   "cell_type": "code",
   "execution_count": 22,
   "id": "12afb7f8-6c9e-4219-ba8f-97d5770070fe",
   "metadata": {},
   "outputs": [
    {
     "name": "stdout",
     "output_type": "stream",
     "text": [
      "https://cardanoscan.io/transaction/76914d0d4836ff09102034f96195873451ec1df6f88679f9d0a8c9e1e87ce49f?tab=utxo\n"
     ]
    }
   ],
   "source": [
    "echo \"https://cardanoscan.io/transaction/$TX_4?tab=utxo\""
   ]
  },
  {
   "cell_type": "markdown",
   "id": "6794823c-13da-4120-8fc3-0649a0979e85",
   "metadata": {},
   "source": [
    "## Transaction 5. Elizabeth Cary repays 100 Djed, causing her token to be returned and Mary Herbert to be paid"
   ]
  },
  {
   "cell_type": "code",
   "execution_count": 23,
   "id": "6f56049a-f181-4a85-b668-c9a2936525d0",
   "metadata": {},
   "outputs": [
    {
     "name": "stdout",
     "output_type": "stream",
     "text": [
      "TX_5 = 63d1d6ae2b7885b163275e26774339a4423321113399615a60c805aa1885cafa\n"
     ]
    }
   ],
   "source": [
    "TX_5=$(\n",
    "marlowe deposit \\\n",
    "  --contract \"$CONTRACT_ID\" \\\n",
    "  --from-party \"${ROLE_NAME[e.cary]}\" \\\n",
    "  --to-party \"${ROLE_NAME[m.herbert]}\" \\\n",
    "  --currency \"$DJED_POLICY\" \\\n",
    "  --token-name \"$DJED_NAME\" \\\n",
    "  --quantity \"$((100 * DJED))\" \\\n",
    "  --change-address \"${ROLE_ADDR[e.cary]}\" \\\n",
    "  --manual-sign tx-5.unsigned \\\n",
    "| jq -r 'fromjson | .txId' \\\n",
    ")\n",
    "echo \"TX_5 = $TX_5\""
   ]
  },
  {
   "cell_type": "markdown",
   "id": "3abad50e-c684-48d9-97f4-46cbc1098baf",
   "metadata": {},
   "source": [
    "Sign and submit the transaction."
   ]
  },
  {
   "cell_type": "code",
   "execution_count": 24,
   "id": "ca0f6599-cc4d-4a73-a67c-96a1c46a0a3e",
   "metadata": {},
   "outputs": [
    {
     "name": "stdout",
     "output_type": "stream",
     "text": [
      "TxId \"63d1d6ae2b7885b163275e26774339a4423321113399615a60c805aa1885cafa\"\n"
     ]
    }
   ],
   "source": [
    "marlowe-cli transaction submit \\\n",
    "  --mainnet \\\n",
    "  --tx-body-file tx-5.unsigned \\\n",
    "  --required-signer \"${ROLE_SKEY[e.cary]}\" \\\n",
    "  --timeout 600"
   ]
  },
  {
   "cell_type": "markdown",
   "id": "435d7572-0de4-447f-b183-4d9799226f92",
   "metadata": {},
   "source": [
    "See that the contract has closed after receiving the repayment, and paying the token and Djed to the role-payout address."
   ]
  },
  {
   "cell_type": "code",
   "execution_count": 25,
   "id": "90b73637-5af7-4642-bb2f-1fd71bced18f",
   "metadata": {},
   "outputs": [
    {
     "name": "stdout",
     "output_type": "stream",
     "text": [
      "https://cardanoscan.io/transaction/63d1d6ae2b7885b163275e26774339a4423321113399615a60c805aa1885cafa?tab=utxo\n"
     ]
    }
   ],
   "source": [
    "echo \"https://cardanoscan.io/transaction/$TX_5?tab=utxo\""
   ]
  },
  {
   "cell_type": "markdown",
   "id": "2e108cf3-3cbd-43e7-bfb1-e49708f873c5",
   "metadata": {},
   "source": [
    "## Transaction 6. Elizabeth Cary withdraws her 1 BearGarden from the role-payout address"
   ]
  },
  {
   "cell_type": "code",
   "execution_count": 26,
   "id": "4196c3b6-9f91-415a-b675-0b5b8678be06",
   "metadata": {},
   "outputs": [
    {
     "name": "stdout",
     "output_type": "stream",
     "text": [
      "TX_6 = 4d3c27b72174c53f66a576903b1ebdd0b8fe73a38c1ba77c66bdc267a6b544f8\n"
     ]
    }
   ],
   "source": [
    "TX_6=$(\n",
    "marlowe withdraw \\\n",
    "  --contract \"$CONTRACT_ID\" \\\n",
    "  --role \"${ROLE_NAME[e.cary]}\" \\\n",
    "  --change-address \"${ROLE_ADDR[e.cary]}\" \\\n",
    "  --manual-sign tx-6.unsigned \\\n",
    "| jq -r 'fromjson | .txId' \\\n",
    ")\n",
    "echo \"TX_6 = $TX_6\""
   ]
  },
  {
   "cell_type": "markdown",
   "id": "d3c5b24c-cfed-4663-aeef-3bd39e57b64b",
   "metadata": {},
   "source": [
    "Sign and submit the transaction."
   ]
  },
  {
   "cell_type": "code",
   "execution_count": 27,
   "id": "f853682c-a785-4aba-b784-a3a385430f07",
   "metadata": {},
   "outputs": [
    {
     "name": "stdout",
     "output_type": "stream",
     "text": [
      "TxId \"4d3c27b72174c53f66a576903b1ebdd0b8fe73a38c1ba77c66bdc267a6b544f8\"\n"
     ]
    }
   ],
   "source": [
    "marlowe-cli transaction submit \\\n",
    "  --mainnet \\\n",
    "  --tx-body-file tx-6.unsigned \\\n",
    "  --required-signer \"${ROLE_SKEY[e.cary]}\" \\\n",
    "  --timeout 600"
   ]
  },
  {
   "cell_type": "markdown",
   "id": "d62904c2-6bf3-4faf-82c7-2e3e6de591d1",
   "metadata": {},
   "source": [
    "See that the token has been received."
   ]
  },
  {
   "cell_type": "code",
   "execution_count": 28,
   "id": "91408671-2fee-4b70-abd0-961354237894",
   "metadata": {},
   "outputs": [
    {
     "name": "stdout",
     "output_type": "stream",
     "text": [
      "https://cardanoscan.io/transaction/4d3c27b72174c53f66a576903b1ebdd0b8fe73a38c1ba77c66bdc267a6b544f8?tab=utxo\n"
     ]
    }
   ],
   "source": [
    "echo \"https://cardanoscan.io/transaction/$TX_6?tab=utxo\""
   ]
  },
  {
   "cell_type": "markdown",
   "id": "3e4561a4-0a3b-456a-baee-6414eff07e5b",
   "metadata": {},
   "source": [
    "## Transaction 7. Mary Herbert withdraws her 100 Djed from the role-payout address"
   ]
  },
  {
   "cell_type": "code",
   "execution_count": 29,
   "id": "456ff760-8430-4a2e-8e40-58e9d95f4dbb",
   "metadata": {},
   "outputs": [
    {
     "name": "stdout",
     "output_type": "stream",
     "text": [
      "TX_7 = 0386d51ae39a4faab998329532cdfde488210dee66eaa01f30aea62c68cfb91a\n"
     ]
    }
   ],
   "source": [
    "TX_7=$(\n",
    "marlowe withdraw \\\n",
    "  --contract \"$CONTRACT_ID\" \\\n",
    "  --role \"${ROLE_NAME[m.herbert]}\" \\\n",
    "  --change-address \"${ROLE_ADDR[m.herbert]}\" \\\n",
    "  --manual-sign tx-7.unsigned \\\n",
    "| jq -r 'fromjson | .txId' \\\n",
    ")\n",
    "echo \"TX_7 = $TX_7\""
   ]
  },
  {
   "cell_type": "markdown",
   "id": "23119b68-77df-435d-af3a-384f65b0b129",
   "metadata": {},
   "source": [
    "Sign and submit the transaction."
   ]
  },
  {
   "cell_type": "code",
   "execution_count": 30,
   "id": "c01e933a-1555-4d9c-b789-6b5707864246",
   "metadata": {},
   "outputs": [
    {
     "name": "stdout",
     "output_type": "stream",
     "text": [
      "TxId \"0386d51ae39a4faab998329532cdfde488210dee66eaa01f30aea62c68cfb91a\"\n"
     ]
    }
   ],
   "source": [
    "marlowe-cli transaction submit \\\n",
    "  --mainnet \\\n",
    "  --tx-body-file tx-7.unsigned \\\n",
    "  --required-signer \"${ROLE_SKEY[m.herbert]}\" \\\n",
    "  --timeout 600"
   ]
  },
  {
   "cell_type": "markdown",
   "id": "7d5f03b3-2a5e-4388-b07d-965e2b575e05",
   "metadata": {},
   "source": [
    "See that the Djed has been received."
   ]
  },
  {
   "cell_type": "code",
   "execution_count": 31,
   "id": "858322f4-2efb-40e5-914c-98e61e80c1d7",
   "metadata": {},
   "outputs": [
    {
     "name": "stdout",
     "output_type": "stream",
     "text": [
      "https://cardanoscan.io/transaction/0386d51ae39a4faab998329532cdfde488210dee66eaa01f30aea62c68cfb91a?tab=utxo\n"
     ]
    }
   ],
   "source": [
    "echo \"https://cardanoscan.io/transaction/$TX_7?tab=utxo\""
   ]
  },
  {
   "cell_type": "markdown",
   "id": "be4347d6-7ab0-4980-b85a-2938b255d5d8",
   "metadata": {},
   "source": [
    "## View the whole history of the contract\n",
    "\n",
    "We use `marlowe-pipe` to print the whole history of this contract."
   ]
  },
  {
   "cell_type": "code",
   "execution_count": 32,
   "id": "ad030763-bc11-4f87-9b0e-6fdb268552c4",
   "metadata": {},
   "outputs": [
    {
     "name": "stdout",
     "output_type": "stream",
     "text": [
      "creation:\n",
      "  output:\n",
      "    address: 716a9391d6aa51af28dd876ebb5565b69d1e83e5ac7861506bd29b56b0\n",
      "    assets:\n",
      "      ada: 3000000\n",
      "      tokens: []\n",
      "    datum:\n",
      "      marloweContract:\n",
      "        timeout: 1676679830000\n",
      "        timeout_continuation: close\n",
      "        when:\n",
      "        - case:\n",
      "            deposits: 1\n",
      "            into_account:\n",
      "              role_token: e.cary\n",
      "            of_token:\n",
      "              currency_symbol: 8bb3b343d8e404472337966a722150048c768d0a92a9813596c5338d\n",
      "              token_name: BearGarden\n",
      "            party:\n",
      "              role_token: e.cary\n",
      "          then:\n",
      "            timeout: 1676679840000\n",
      "            timeout_continuation: close\n",
      "            when:\n",
      "            - case:\n",
      "                deposits: 90000000\n",
      "                into_account:\n",
      "                  role_token: m.herbert\n",
      "                of_token:\n",
      "                  currency_symbol: 8db269c3ec630e06ae29f74bc39edd1f87c819f1056206e879a1cd61\n",
      "                  token_name: DjedMicroUSD\n",
      "                party:\n",
      "                  role_token: m.herbert\n",
      "              then:\n",
      "                from_account:\n",
      "                  role_token: m.herbert\n",
      "                pay: 90000000\n",
      "                then:\n",
      "                  timeout: 1676679850000\n",
      "                  timeout_continuation:\n",
      "                    from_account:\n",
      "                      role_token: e.cary\n",
      "                    pay: 1\n",
      "                    then: close\n",
      "                    to:\n",
      "                      party:\n",
      "                        role_token: m.herbert\n",
      "                    token:\n",
      "                      currency_symbol: 8bb3b343d8e404472337966a722150048c768d0a92a9813596c5338d\n",
      "                      token_name: BearGarden\n",
      "                  when:\n",
      "                  - case:\n",
      "                      deposits: 100000000\n",
      "                      into_account:\n",
      "                        role_token: m.herbert\n",
      "                      of_token:\n",
      "                        currency_symbol: 8db269c3ec630e06ae29f74bc39edd1f87c819f1056206e879a1cd61\n",
      "                        token_name: DjedMicroUSD\n",
      "                      party:\n",
      "                        role_token: e.cary\n",
      "                    then: close\n",
      "                to:\n",
      "                  party:\n",
      "                    role_token: e.cary\n",
      "                token:\n",
      "                  currency_symbol: 8db269c3ec630e06ae29f74bc39edd1f87c819f1056206e879a1cd61\n",
      "                  token_name: DjedMicroUSD\n",
      "      marloweParams:\n",
      "        rolesCurrency: f0ff48bbb7bbe9d59a40f1ce90e9e9d0ff5002ec48f232b49ca0fb9a\n",
      "      marloweState:\n",
      "        accounts:\n",
      "        - - - address: addr1qy9prvx8ufwutkwxx9cmmuuajaqmjqwujqlp9d8pvg6gupcvluken35ncjnu0puetf5jvttedkze02d5kf890kquh60sut9jg7\n",
      "            - currency_symbol: ''\n",
      "              token_name: ''\n",
      "          - 3000000\n",
      "        boundValues: []\n",
      "        choices: []\n",
      "        minTime: 0\n",
      "    utxo:\n",
      "      txId: 4a288753dfa52ae965d5a100ee353d89c19fac936c3b5376dc8ab02946bdd386\n",
      "      txIx: 1\n",
      "  payoutValidatorHash: 49076eab20243dc9462511fb98a9cfb719f86e9692288139b7c91df3\n",
      "response: info\n",
      "steps:\n",
      "- contractId: 4a288753dfa52ae965d5a100ee353d89c19fac936c3b5376dc8ab02946bdd386#1\n",
      "  payouts: []\n",
      "  redeemer:\n",
      "  - input_from_party:\n",
      "      role_token: e.cary\n",
      "    into_account:\n",
      "      role_token: e.cary\n",
      "    of_token:\n",
      "      currency_symbol: 8bb3b343d8e404472337966a722150048c768d0a92a9813596c5338d\n",
      "      token_name: BearGarden\n",
      "    that_deposits: 1\n",
      "  scriptOutput:\n",
      "    address: 716a9391d6aa51af28dd876ebb5565b69d1e83e5ac7861506bd29b56b0\n",
      "    assets:\n",
      "      ada: 3000000\n",
      "      tokens:\n",
      "      - - policyId: 8bb3b343d8e404472337966a722150048c768d0a92a9813596c5338d\n",
      "          tokenName: BearGarden\n",
      "        - 1\n",
      "    datum:\n",
      "      marloweContract:\n",
      "        timeout: 1676679840000\n",
      "        timeout_continuation: close\n",
      "        when:\n",
      "        - case:\n",
      "            deposits: 90000000\n",
      "            into_account:\n",
      "              role_token: m.herbert\n",
      "            of_token:\n",
      "              currency_symbol: 8db269c3ec630e06ae29f74bc39edd1f87c819f1056206e879a1cd61\n",
      "              token_name: DjedMicroUSD\n",
      "            party:\n",
      "              role_token: m.herbert\n",
      "          then:\n",
      "            from_account:\n",
      "              role_token: m.herbert\n",
      "            pay: 90000000\n",
      "            then:\n",
      "              timeout: 1676679850000\n",
      "              timeout_continuation:\n",
      "                from_account:\n",
      "                  role_token: e.cary\n",
      "                pay: 1\n",
      "                then: close\n",
      "                to:\n",
      "                  party:\n",
      "                    role_token: m.herbert\n",
      "                token:\n",
      "                  currency_symbol: 8bb3b343d8e404472337966a722150048c768d0a92a9813596c5338d\n",
      "                  token_name: BearGarden\n",
      "              when:\n",
      "              - case:\n",
      "                  deposits: 100000000\n",
      "                  into_account:\n",
      "                    role_token: m.herbert\n",
      "                  of_token:\n",
      "                    currency_symbol: 8db269c3ec630e06ae29f74bc39edd1f87c819f1056206e879a1cd61\n",
      "                    token_name: DjedMicroUSD\n",
      "                  party:\n",
      "                    role_token: e.cary\n",
      "                then: close\n",
      "            to:\n",
      "              party:\n",
      "                role_token: e.cary\n",
      "            token:\n",
      "              currency_symbol: 8db269c3ec630e06ae29f74bc39edd1f87c819f1056206e879a1cd61\n",
      "              token_name: DjedMicroUSD\n",
      "      marloweParams:\n",
      "        rolesCurrency: f0ff48bbb7bbe9d59a40f1ce90e9e9d0ff5002ec48f232b49ca0fb9a\n",
      "      marloweState:\n",
      "        accounts:\n",
      "        - - - address: addr1qy9prvx8ufwutkwxx9cmmuuajaqmjqwujqlp9d8pvg6gupcvluken35ncjnu0puetf5jvttedkze02d5kf890kquh60sut9jg7\n",
      "            - currency_symbol: ''\n",
      "              token_name: ''\n",
      "          - 3000000\n",
      "        - - - role_token: e.cary\n",
      "            - currency_symbol: 8bb3b343d8e404472337966a722150048c768d0a92a9813596c5338d\n",
      "              token_name: BearGarden\n",
      "          - 1\n",
      "        boundValues: []\n",
      "        choices: []\n",
      "        minTime: 1676342104000\n",
      "    utxo:\n",
      "      txId: 1395ae199837f758bfc19f003b9465c137daf998d3937fba92b0d50f88ecdace\n",
      "      txIx: 1\n",
      "  step: apply\n",
      "  txId: 1395ae199837f758bfc19f003b9465c137daf998d3937fba92b0d50f88ecdace\n",
      "- contractId: 4a288753dfa52ae965d5a100ee353d89c19fac936c3b5376dc8ab02946bdd386#1\n",
      "  payouts:\n",
      "  - - txId: 075b605dc43bc1a3411ddc68da59eae5ba82d02297abe7d630ad62d7fcc710f0\n",
      "      txIx: 3\n",
      "    - address: 7149076eab20243dc9462511fb98a9cfb719f86e9692288139b7c91df3\n",
      "      assets:\n",
      "        ada: 1236970\n",
      "        tokens:\n",
      "        - - policyId: 8db269c3ec630e06ae29f74bc39edd1f87c819f1056206e879a1cd61\n",
      "            tokenName: DjedMicroUSD\n",
      "          - 90000000\n",
      "      datum:\n",
      "        policyId: f0ff48bbb7bbe9d59a40f1ce90e9e9d0ff5002ec48f232b49ca0fb9a\n",
      "        tokenName: e.cary\n",
      "  redeemer:\n",
      "  - input_from_party:\n",
      "      role_token: m.herbert\n",
      "    into_account:\n",
      "      role_token: m.herbert\n",
      "    of_token:\n",
      "      currency_symbol: 8db269c3ec630e06ae29f74bc39edd1f87c819f1056206e879a1cd61\n",
      "      token_name: DjedMicroUSD\n",
      "    that_deposits: 90000000\n",
      "  scriptOutput:\n",
      "    address: 716a9391d6aa51af28dd876ebb5565b69d1e83e5ac7861506bd29b56b0\n",
      "    assets:\n",
      "      ada: 3000000\n",
      "      tokens:\n",
      "      - - policyId: 8bb3b343d8e404472337966a722150048c768d0a92a9813596c5338d\n",
      "          tokenName: BearGarden\n",
      "        - 1\n",
      "    datum:\n",
      "      marloweContract:\n",
      "        timeout: 1676679850000\n",
      "        timeout_continuation:\n",
      "          from_account:\n",
      "            role_token: e.cary\n",
      "          pay: 1\n",
      "          then: close\n",
      "          to:\n",
      "            party:\n",
      "              role_token: m.herbert\n",
      "          token:\n",
      "            currency_symbol: 8bb3b343d8e404472337966a722150048c768d0a92a9813596c5338d\n",
      "            token_name: BearGarden\n",
      "        when:\n",
      "        - case:\n",
      "            deposits: 100000000\n",
      "            into_account:\n",
      "              role_token: m.herbert\n",
      "            of_token:\n",
      "              currency_symbol: 8db269c3ec630e06ae29f74bc39edd1f87c819f1056206e879a1cd61\n",
      "              token_name: DjedMicroUSD\n",
      "            party:\n",
      "              role_token: e.cary\n",
      "          then: close\n",
      "      marloweParams:\n",
      "        rolesCurrency: f0ff48bbb7bbe9d59a40f1ce90e9e9d0ff5002ec48f232b49ca0fb9a\n",
      "      marloweState:\n",
      "        accounts:\n",
      "        - - - address: addr1qy9prvx8ufwutkwxx9cmmuuajaqmjqwujqlp9d8pvg6gupcvluken35ncjnu0puetf5jvttedkze02d5kf890kquh60sut9jg7\n",
      "            - currency_symbol: ''\n",
      "              token_name: ''\n",
      "          - 3000000\n",
      "        - - - role_token: e.cary\n",
      "            - currency_symbol: 8bb3b343d8e404472337966a722150048c768d0a92a9813596c5338d\n",
      "              token_name: BearGarden\n",
      "          - 1\n",
      "        boundValues: []\n",
      "        choices: []\n",
      "        minTime: 1676342149000\n",
      "    utxo:\n",
      "      txId: 075b605dc43bc1a3411ddc68da59eae5ba82d02297abe7d630ad62d7fcc710f0\n",
      "      txIx: 1\n",
      "  step: apply\n",
      "  txId: 075b605dc43bc1a3411ddc68da59eae5ba82d02297abe7d630ad62d7fcc710f0\n",
      "- datumm:\n",
      "    policyId: f0ff48bbb7bbe9d59a40f1ce90e9e9d0ff5002ec48f232b49ca0fb9a\n",
      "    tokenName: e.cary\n",
      "  redeemingTx: 76914d0d4836ff09102034f96195873451ec1df6f88679f9d0a8c9e1e87ce49f\n",
      "  step: payout\n",
      "  utxo:\n",
      "    txId: 075b605dc43bc1a3411ddc68da59eae5ba82d02297abe7d630ad62d7fcc710f0\n",
      "    txIx: 3\n",
      "- contractId: 4a288753dfa52ae965d5a100ee353d89c19fac936c3b5376dc8ab02946bdd386#1\n",
      "  payouts:\n",
      "  - - txId: 63d1d6ae2b7885b163275e26774339a4423321113399615a60c805aa1885cafa\n",
      "      txIx: 2\n",
      "    - address: 7149076eab20243dc9462511fb98a9cfb719f86e9692288139b7c91df3\n",
      "      assets:\n",
      "        ada: 1211110\n",
      "        tokens:\n",
      "        - - policyId: 8bb3b343d8e404472337966a722150048c768d0a92a9813596c5338d\n",
      "            tokenName: BearGarden\n",
      "          - 1\n",
      "      datum:\n",
      "        policyId: f0ff48bbb7bbe9d59a40f1ce90e9e9d0ff5002ec48f232b49ca0fb9a\n",
      "        tokenName: e.cary\n",
      "  - - txId: 63d1d6ae2b7885b163275e26774339a4423321113399615a60c805aa1885cafa\n",
      "      txIx: 3\n",
      "    - address: 7149076eab20243dc9462511fb98a9cfb719f86e9692288139b7c91df3\n",
      "      assets:\n",
      "        ada: 1236970\n",
      "        tokens:\n",
      "        - - policyId: 8db269c3ec630e06ae29f74bc39edd1f87c819f1056206e879a1cd61\n",
      "            tokenName: DjedMicroUSD\n",
      "          - 100000000\n",
      "      datum:\n",
      "        policyId: f0ff48bbb7bbe9d59a40f1ce90e9e9d0ff5002ec48f232b49ca0fb9a\n",
      "        tokenName: m.herbert\n",
      "  redeemer:\n",
      "  - input_from_party:\n",
      "      role_token: e.cary\n",
      "    into_account:\n",
      "      role_token: m.herbert\n",
      "    of_token:\n",
      "      currency_symbol: 8db269c3ec630e06ae29f74bc39edd1f87c819f1056206e879a1cd61\n",
      "      token_name: DjedMicroUSD\n",
      "    that_deposits: 100000000\n",
      "  scriptOutput: null\n",
      "  step: apply\n",
      "  txId: 63d1d6ae2b7885b163275e26774339a4423321113399615a60c805aa1885cafa\n",
      "- datumm:\n",
      "    policyId: f0ff48bbb7bbe9d59a40f1ce90e9e9d0ff5002ec48f232b49ca0fb9a\n",
      "    tokenName: e.cary\n",
      "  redeemingTx: 4d3c27b72174c53f66a576903b1ebdd0b8fe73a38c1ba77c66bdc267a6b544f8\n",
      "  step: payout\n",
      "  utxo:\n",
      "    txId: 63d1d6ae2b7885b163275e26774339a4423321113399615a60c805aa1885cafa\n",
      "    txIx: 2\n",
      "- datumm:\n",
      "    policyId: f0ff48bbb7bbe9d59a40f1ce90e9e9d0ff5002ec48f232b49ca0fb9a\n",
      "    tokenName: m.herbert\n",
      "  redeemingTx: 0386d51ae39a4faab998329532cdfde488210dee66eaa01f30aea62c68cfb91a\n",
      "  step: payout\n",
      "  utxo:\n",
      "    txId: 63d1d6ae2b7885b163275e26774339a4423321113399615a60c805aa1885cafa\n",
      "    txIx: 3\n"
     ]
    }
   ],
   "source": [
    "echo '{\"request\" : \"get\", \"contractId\" : \"'\"$CONTRACT_ID\"'\"}' | marlowe-pipe 2> /dev/null | json2yaml"
   ]
  },
  {
   "cell_type": "markdown",
   "id": "ef48938e-c6a8-4ba5-9f14-a413232c2c59",
   "metadata": {},
   "source": [
    "## Return the BearGarden and Djed tokens to the faucet\n",
    "\n",
    "Returning the token to the faucet is convenient housekeeping for this example."
   ]
  },
  {
   "cell_type": "code",
   "execution_count": 33,
   "id": "b2667429-3fd9-4bd0-a7ec-e208c681c1b3",
   "metadata": {},
   "outputs": [
    {
     "name": "stdout",
     "output_type": "stream",
     "text": [
      "TxId \"0afae60d6282c0f4d2f91eb3046b2e7c22489b70c97e4c18b92c0968403be754\"\n"
     ]
    }
   ],
   "source": [
    "marlowe-cli transaction simple \\\n",
    "  --mainnet \\\n",
    "  --tx-in \"0386d51ae39a4faab998329532cdfde488210dee66eaa01f30aea62c68cfb91a#2\" \\\n",
    "  --tx-in \"4d3c27b72174c53f66a576903b1ebdd0b8fe73a38c1ba77c66bdc267a6b544f8#2\" \\\n",
    "  --tx-in \"6e41846908175fbbea9a5c808901c5e1a1b790c1f899faa1c5c6bb887b5456e2#4\" \\\n",
    "  --tx-in \"63d1d6ae2b7885b163275e26774339a4423321113399615a60c805aa1885cafa#4\" \\\n",
    "  --tx-in \"b6f5cd7769917917f2de5daeeeb5760d240bd8bf486c147d5a41c95140bef5b6#0\" \\\n",
    "  --tx-in \"46cccae10f766e788eb7f2f362072a2acc3b9a2138c435d63551323cc8cd158d#2\" \\\n",
    "  --tx-out \"$FAUCET_ADDR+$((3 * ADA))+$((100 * DJED)) $DJED_POLICY.$DJED_NAME\" \\\n",
    "  --tx-out \"$FAUCET_ADDR+$((3 * ADA))+499 $FUNGIBLES_POLICY.BearGarden\" \\\n",
    "  --change-address \"$FAUCET_ADDR\" \\\n",
    "  --required-signer \"$FAUCET_SKEY\" \\\n",
    "  --required-signer \"${ROLE_SKEY[e.cary]}\" \\\n",
    "  --required-signer \"${ROLE_SKEY[m.herbert]}\" \\\n",
    "  --out-file /dev/null \\\n",
    "  --submit 600"
   ]
  }
 ],
 "metadata": {
  "kernelspec": {
   "display_name": "Bash - Marlowe",
   "language": "bash",
   "name": "bash_marlowe"
  },
  "language_info": {
   "codemirror_mode": "shell",
   "file_extension": ".sh",
   "mimetype": "text/x-sh",
   "name": "/nix/store/p7bpdnxqd3i5hwm92mrscf7mvxk66404-bash-5.1-p16/bin/bash"
  }
 },
 "nbformat": 4,
 "nbformat_minor": 5
}
