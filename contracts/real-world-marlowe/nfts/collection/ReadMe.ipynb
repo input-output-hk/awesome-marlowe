{
 "cells": [
  {
   "cell_type": "markdown",
   "id": "7bc547b0-e656-48ad-b64c-1dd1c0ae4e12",
   "metadata": {},
   "source": [
    "## <font color=\"red\">Caution!</font>\n",
    "\n",
    "Before running a Marlowe contract on `mainnet`, it is wise to do the following in order to avoid losing funds:\n",
    "\n",
    "1. Understand the [Marlowe Language](https://marlowe.iohk.io/).\n",
    "2. Understand Cardano\\'s [Extended UTxO Model](https://docs.cardano.org/learn/eutxo-explainer).\n",
    "3. Read and understand the [Marlowe Best Practices Guide](https://github.com/input-output-hk/marlowe-cardano/blob/main/marlowe/best-practices.md).\n",
    "4. Read and understand the [Marlowe Security Guide](https://github.com/input-output-hk/marlowe-cardano/blob/main/marlowe/security.md).\n",
    "5. Use [Marlowe Playground](https://play.marlowe.iohk.io/) to flag warnings, perform static analysis, and simulate the contract.\n",
    "6. Use [Marlowe CLI\\'s](https://github.com/input-output-hk/marlowe-cardano/blob/main/marlowe-cli/ReadMe.md) `marlowe-cli run analyze` tool to study whether the contract can run on a Cardano network.\n",
    "7. Run *all execution paths* of the contract on a [Cardano testnet](https://docs.cardano.org/cardano-testnet/overview).\n",
    "\n",
    "---"
   ]
  },
  {
   "cell_type": "markdown",
   "id": "6be1c9d9-82b1-45bf-b835-6124438891ab",
   "metadata": {},
   "source": [
    "# Tokenizing Collections of NFTs as a Marlowe Contract\n",
    "\n",
    "\n",
    "**Executive Summary**\n",
    "\n",
    "Marlowe can be used to gather several NFTs into a collection that itself is an NFT. This effectively tokenizes several NFTs as as single unit. The contract described here gathers three NFTs into a Marlowe contract that is controlled by a fourth NFT that represents the collection of the three. The holder of that fourth NFT owns and controls the other three NFTs. However, the contract specifies that the creator the contract (perhaps the artist of the NFTs) receives 500 Ada if the owner of the NFTs breaks up the collection before the year 2030. This incentivizes the owner of the NFTs to keep the collection intact and it pays the artist a royalty if the collection is prematurely broken up. We demonstrate how to construct this contract and test this contract on the pre-production network before deploying it on `mainnet`.\n",
    "\n",
    "\n",
    "**Principles Illustrated**\n",
    "\n",
    "- Use of Marlowe CLI to mint NFTs.\n",
    "- Use of Marlowe CLI and Marlowe Runtime execute and view Marlowe contracts.\n",
    "- How to start a Marlowe contract in an initial state that already contains a mixture of Ada and tokens.\n",
    "- How to test a contract on a testnet before deploying it on `mainnet`.\n",
    "\n",
    "[A video narrative of this demonstration](https://youtu.be/v4KtJb4k0Jc) is available."
   ]
  },
  {
   "cell_type": "markdown",
   "id": "b2a8dc4c-3afd-495a-865b-366a09dcd982",
   "metadata": {},
   "source": [
    "## Design the NFTs."
   ]
  },
  {
   "cell_type": "markdown",
   "id": "0eb681ee-3bcf-4c4e-84e9-f37c7404ef52",
   "metadata": {},
   "source": [
    "### We create four NFTs.\n",
    "\n",
    "- `YoTr2016-0` is both an NFT and the Marlowe role token for the contract that we will create. It represents the collection of the other three NFTs.\n",
    "- `YoTr2016-1`, `YoTr2016-2`, and `YoTr2016-3` are the three NFTs in the series that will be bundled into the Marlowe contract."
   ]
  },
  {
   "cell_type": "markdown",
   "id": "26c3b9b0-9fb8-4e5c-8edf-88e3718894f8",
   "metadata": {},
   "source": [
    "| YoTr2016-0 | YoTr2016-1 | YoTr2016-2 | YoTr20160-3 |\n",
    "|------------|------------|------------|------------|\n",
    "| ![Yogācāra Triptych](images/yogacara-triptych.png) | ![The imagination of the unreal](images/the-imagination-of-the-unreal.png) | ![The dependence on flowing conditions](images/the-dependence-on-flowing-conditions.png) | ![The external non-existence of what appears in the way it appears](images/the-external-nonexistence-of-what-appears-in-the-way-it-appears.png) |\n",
    "| Yogācāra Triptych | The imagination of the unreal | The dependence on flowing conditions | The external non-existence of what appears in the way it appears |"
   ]
  },
  {
   "cell_type": "markdown",
   "id": "ef221978-b448-44f5-825a-15cfc9965786",
   "metadata": {},
   "source": [
    "Here is the CIP-25 metadata for the NFTs."
   ]
  },
  {
   "cell_type": "code",
   "execution_count": 1,
   "id": "22018072-c129-4502-9213-387c33b0717a",
   "metadata": {},
   "outputs": [
    {
     "name": "stdout",
     "output_type": "stream",
     "text": [
      "YoTr2016-0:\n",
      "  artist: Brian W Bush\n",
      "  contract: 'A Marlowe role token: <https://marlowe.iohk.io/>.'\n",
      "  copyright: (c) 2016 Brian W Bush\n",
      "  description:\n",
      "  - A series of three original artworks on the subject of Yogācāra\n",
      "  - philosophy.\n",
      "  image: ipfs://Qma2TDVkJPwt14WheDnzvwyyutnsabWhn64ey3f4imqLXo\n",
      "  mediaType: image/png\n",
      "  name: Yogācāra Triptych\n",
      "  year: 2016\n",
      "YoTr2016-1:\n",
      "  artist: Brian W Bush\n",
      "  copyright: (c) 2016 Brian W Bush\n",
      "  description:\n",
      "  - 'Yogācāra Triptych #1: The imagination of the unreal, 2016,'\n",
      "  - acrylic, aluminum mesh, and papier-mâché on wood panel,\n",
      "  - 12″ × 14″.\n",
      "  dimensions: 12″ × 14″\n",
      "  image: ipfs://QmVpfNww1KKQ4SWDJaeHoApjt2KWLXraV2xWdXhhVPLTEG\n",
      "  mediaType: image/png\n",
      "  medium: acrylic, aluminum mesh, and papier-mâché on wood panel\n",
      "  name: The imagination of the unreal\n",
      "  number: 1\n",
      "  series: Yogācāra Triptych\n",
      "  year: 2016\n",
      "YoTr2016-2:\n",
      "  artist: Brian W Bush\n",
      "  copyright: (c) 2016 Brian W Bush\n",
      "  description:\n",
      "  - 'Yogācāra Triptych #2: The dependence on flowing conditions,'\n",
      "  - 2016, alabaster, 3″ × 2.5″ × 2.5″.\n",
      "  dimensions: 3″ × 2.5″ × 2.5″\n",
      "  image: ipfs://QmTBNjkoZ6wC9erfVCoabMVueQmQTzCGFXDvK47U3p3KgR\n",
      "  mediaType: image/png\n",
      "  medium: alabaster\n",
      "  name: The dependence on flowing conditions\n",
      "  number: 2\n",
      "  series: Yogācāra Triptych\n",
      "  year: 2016\n",
      "YoTr2016-3:\n",
      "  artist: Brian W Bush\n",
      "  copyright: (c) 2016 Brian W Bush\n",
      "  description:\n",
      "  - 'Yogācāra Triptych #3: The external non-existence of what'\n",
      "  - appears in the way it appears, 2016, acrylic and vanilla\n",
      "  - extract on canvas board, 16″ × 20″.\n",
      "  dimensions: 16″ × 20″\n",
      "  image: ipfs://QmW9EEdgxz9RYn52dt3Ynnw39ToN5npcgr4KNwVKQMSXDR\n",
      "  mediaType: image/png\n",
      "  medium: acrylic and vanilla extract on canvas board\n",
      "  name: The external non-existence of what appears in the way it appears\n",
      "  number: 3\n",
      "  series: Yogācāra Triptych\n",
      "  year: 2016\n"
     ]
    }
   ],
   "source": [
    "json2yaml metadata.json"
   ]
  },
  {
   "cell_type": "markdown",
   "id": "864cece0-40f8-4447-a5a5-a0b43342e412",
   "metadata": {},
   "source": [
    "### Assign the names of the various tokens to variables."
   ]
  },
  {
   "cell_type": "code",
   "execution_count": 2,
   "id": "e7f0b6f6-e28f-4bf8-b34d-a31b368bd000",
   "metadata": {},
   "outputs": [
    {
     "name": "stdout",
     "output_type": "stream",
     "text": [
      "TOKEN_NAMES = YoTr2016-0 YoTr2016-1 YoTr2016-2 YoTr2016-3\n",
      "ROLE_NAME = YoTr2016-0\n",
      "COLLECTION_TOKENS = YoTr2016-1 YoTr2016-2 YoTr2016-3\n"
     ]
    }
   ],
   "source": [
    "TOKEN_NAMES=($(jq -r 'to_entries | .[].key' metadata.json))\n",
    "echo \"TOKEN_NAMES = ${TOKEN_NAMES[@]}\"\n",
    "ROLE_NAME=\"${TOKEN_NAMES[0]}\"\n",
    "echo \"ROLE_NAME = $ROLE_NAME\"\n",
    "COLLECTION_TOKENS=(${TOKEN_NAMES[@]:1})\n",
    "echo \"COLLECTION_TOKENS = ${COLLECTION_TOKENS[@]}\""
   ]
  },
  {
   "cell_type": "markdown",
   "id": "6f2a4e94-2cc3-4842-b3ae-3047f462f9ec",
   "metadata": {},
   "source": [
    "### Design the contract\n",
    "\n",
    "- Five Ada will be deposited in the contract when it is created, along with the three NFTs in the collection.\n",
    "- The role token will be the NFT representing the other three NFTs.\n",
    "- The contract will hold the three NFTS until the year 2030, unless 500 Ada is paid byt the role to remove the three NTFs, breaking up the collection.\n",
    "\n",
    "Conceptually, we would like to deposit `YoTr2016-1`, `YoTr2016-2`, and `YoTr2016-3` into a Marlowe contract that releases those tokens to the role `YoTr2016-0` if they have paid the 500 Ada to release them. This would result in the following contract.\n",
    "\n",
    "![Expanded contract for collecting and holding NFTs](images/expanded-contract.png)\n",
    "\n",
    "However, that contract is a bit wasteful because one has to pay fees three times to deposit tokens one by one. The Marlowe language won't allow the deposit of several tokens, but we can work around this by starting the Marlowe contract in an initial state that already contains the deposited tokens in the account for the role `YoTr2016-0`. The creation transaction for the contract makes this deposit before the contract even starts running. When the contract reaches `Close`, it will pay out the NFTs. This simplified contract is the one we will use here.\n",
    "\n",
    "![Simplified contract that begins with the NFTs in its initial state](images/contract.png)"
   ]
  },
  {
   "cell_type": "markdown",
   "id": "e8381efc-c765-4ceb-8917-ea9488b778a6",
   "metadata": {},
   "source": [
    "### Set the parameters for the Marlowe contract."
   ]
  },
  {
   "cell_type": "code",
   "execution_count": 3,
   "id": "e57b5f15-888e-4bf8-ba27-a5c13c54011f",
   "metadata": {},
   "outputs": [
    {
     "name": "stdout",
     "output_type": "stream",
     "text": [
      "MIN_ADA = 2000000\n",
      "SEPARATION_COST = 500000000\n"
     ]
    }
   ],
   "source": [
    "ADA=1000000\n",
    "MIN_ADA=$((2 * ADA))\n",
    "echo \"MIN_ADA = $MIN_ADA\"\n",
    "SEPARATION_COST=$((500 * ADA))\n",
    "echo \"SEPARATION_COST = $SEPARATION_COST\""
   ]
  },
  {
   "cell_type": "code",
   "execution_count": 4,
   "id": "d05221ce-fbb9-4ac6-8bfe-123d0bf3c092",
   "metadata": {},
   "outputs": [
    {
     "name": "stdout",
     "output_type": "stream",
     "text": [
      "TIMEOUT = 1893456000000\n"
     ]
    }
   ],
   "source": [
    "TIMEOUT=$((1000 * $(date -d \"2030-01-01\" -u +%s)))\n",
    "echo \"TIMEOUT = $TIMEOUT\""
   ]
  },
  {
   "cell_type": "markdown",
   "id": "730ac877-f04e-4d44-96eb-048a0f737b4b",
   "metadata": {},
   "source": [
    "## Test on the pre-production network.\n",
    "\n",
    "It is unwise to create a new Marlowe contract on `mainnet` unless it has been tested on a test network!"
   ]
  },
  {
   "cell_type": "markdown",
   "id": "b290cf56-1c80-46d2-b951-930d014afc34",
   "metadata": {},
   "source": [
    "### Select the network"
   ]
  },
  {
   "cell_type": "code",
   "execution_count": 5,
   "id": "e28f8664-f0a5-40ed-a662-0d6950404352",
   "metadata": {},
   "outputs": [],
   "source": [
    "export CARDANO_NODE_SOCKET_PATH=preprod.socket\n",
    "MAGIC=(--testnet-magic 1)\n",
    "NETWORK=testnet"
   ]
  },
  {
   "cell_type": "markdown",
   "id": "fcbbd9dd-82c1-4758-8bbd-b7f31f710437",
   "metadata": {},
   "source": [
    "We set the location of the Marlowe Runtime backend services."
   ]
  },
  {
   "cell_type": "code",
   "execution_count": 6,
   "id": "1e4d02c8-0a37-4f0f-93b8-b64187f45fbc",
   "metadata": {},
   "outputs": [],
   "source": [
    "export MARLOWE_RT_HISTORY_HOST=192.168.0.12\n",
    "export MARLOWE_RT_HISTORY_COMMAND_PORT=13717\n",
    "export MARLOWE_RT_HISTORY_QUERY_PORT=13718\n",
    "export MARLOWE_RT_HISTORY_SYNC_PORT=13719\n",
    "                                                                                                                                     \n",
    "export MARLOWE_RT_DISCOVERY_HOST=192.168.0.12\n",
    "export MARLOWE_RT_DISCOVERY_QUERY_PORT=13721\n",
    "export MARLOWE_RT_DISCOVERY_SYNC_PORT=13722\n",
    "\n",
    "export MARLOWE_RT_TX_HOST=192.168.0.12\n",
    "export MARLOWE_RT_TX_COMMAND_PORT=13723"
   ]
  },
  {
   "cell_type": "markdown",
   "id": "7f87d78c-915f-4622-8d4f-8296dcb35b64",
   "metadata": {},
   "source": [
    "### Set the address and signing key for the creator of the Marlowe contract"
   ]
  },
  {
   "cell_type": "code",
   "execution_count": 7,
   "id": "71ff2aee-a16a-4389-9435-e969a4ec3fa7",
   "metadata": {},
   "outputs": [
    {
     "name": "stdout",
     "output_type": "stream",
     "text": [
      "PAYMENT_ADDR = addr_test1vq9prvx8ufwutkwxx9cmmuuajaqmjqwujqlp9d8pvg6gupczgtm9j\n"
     ]
    }
   ],
   "source": [
    "PAYMENT_SKEY=payment.skey\n",
    "PAYMENT_ADDR=$(cat payment.$NETWORK.address)\n",
    "echo \"PAYMENT_ADDR = $PAYMENT_ADDR\""
   ]
  },
  {
   "cell_type": "markdown",
   "id": "4692326f-1c2f-4133-ac44-5501150bbdfd",
   "metadata": {},
   "source": [
    "### For minting the NFTs, use a monetary policy that forbids further minting after two days from now."
   ]
  },
  {
   "cell_type": "code",
   "execution_count": 8,
   "id": "ca849248-e866-44f4-8a90-ae9d80ce9844",
   "metadata": {},
   "outputs": [
    {
     "name": "stdout",
     "output_type": "stream",
     "text": [
      "LOCKING_SLOT = 19516471\n"
     ]
    }
   ],
   "source": [
    "LOCKING_SLOT=$(($(cardano-cli query tip \"${MAGIC[@]}\" | jq -r '.slot') + 2 * 24 * 60 * 60))\n",
    "echo \"LOCKING_SLOT = $LOCKING_SLOT\""
   ]
  },
  {
   "cell_type": "markdown",
   "id": "6b1e5cd6-29be-42bf-92c0-330efbe76667",
   "metadata": {},
   "source": [
    "### Mint the NFTs."
   ]
  },
  {
   "cell_type": "code",
   "execution_count": 9,
   "id": "2d25b467-bd9b-41a0-9937-23a60137bcf4",
   "metadata": {},
   "outputs": [
    {
     "name": "stdout",
     "output_type": "stream",
     "text": [
      "\n",
      "Fee: Lovelace 268593\n",
      "Size: 2381 / 16384 = 14%\n",
      "Execution units:\n",
      "  Memory: 0 / 14000000 = 0%\n",
      "  Steps: 0 / 10000000000 = 0%\n",
      "POLICY_ID = 9686fda3ddf47e47faebed23f55371dda523a0461d505ef4c8a11e05\n"
     ]
    }
   ],
   "source": [
    "POLICY_ID=$(\n",
    "marlowe-cli util mint \\\n",
    "  \"${MAGIC[@]}\" \\\n",
    "  --issuer \"$PAYMENT_ADDR:$PAYMENT_SKEY\" \\\n",
    "  --metadata-file metadata.json \\\n",
    "  --expires \"$LOCKING_SLOT\" \\\n",
    "  --out-file /dev/null \\\n",
    "  --submit 600 \\\n",
    "  $(for n in ${TOKEN_NAMES[@]}; do echo \"$n:$PAYMENT_ADDR\"; done) \\\n",
    "| sed -e 's/^PolicyID \"\\(.*\\)\"$/\\1/'\n",
    ")\n",
    "echo \"POLICY_ID = $POLICY_ID\""
   ]
  },
  {
   "cell_type": "markdown",
   "id": "41ade0cb-6527-4c1e-a9de-231b9de4c9bc",
   "metadata": {},
   "source": [
    "We can view the NFTs at the following URL:"
   ]
  },
  {
   "cell_type": "code",
   "execution_count": 10,
   "id": "071d593b-ebe9-4a3c-8974-7767e89e3e25",
   "metadata": {},
   "outputs": [
    {
     "name": "stdout",
     "output_type": "stream",
     "text": [
      "https://preprod.cexplorer.io/policy/9686fda3ddf47e47faebed23f55371dda523a0461d505ef4c8a11e05\n"
     ]
    }
   ],
   "source": [
    "echo \"https://preprod.cexplorer.io/policy/$POLICY_ID\""
   ]
  },
  {
   "cell_type": "markdown",
   "id": "8b28047a-bc8e-411e-a713-bf57643646bd",
   "metadata": {},
   "source": [
    "### Create the initial state of the contract.\n",
    "\n",
    "Unlike a typical contract, the initial state of this contract will contain several non-Ada tokens."
   ]
  },
  {
   "cell_type": "code",
   "execution_count": 11,
   "id": "c4d4d3c0-904a-4393-9cf4-0818dc9bfeb9",
   "metadata": {},
   "outputs": [
    {
     "name": "stdout",
     "output_type": "stream",
     "text": [
      "accounts:\n",
      "- - - role_token: YoTr2016-0\n",
      "    - currency_symbol: ''\n",
      "      token_name: ''\n",
      "  - 2000000\n",
      "- - - role_token: YoTr2016-0\n",
      "    - currency_symbol: 9686fda3ddf47e47faebed23f55371dda523a0461d505ef4c8a11e05\n",
      "      token_name: YoTr2016-1\n",
      "  - 1\n",
      "- - - role_token: YoTr2016-0\n",
      "    - currency_symbol: 9686fda3ddf47e47faebed23f55371dda523a0461d505ef4c8a11e05\n",
      "      token_name: YoTr2016-2\n",
      "  - 1\n",
      "- - - role_token: YoTr2016-0\n",
      "    - currency_symbol: 9686fda3ddf47e47faebed23f55371dda523a0461d505ef4c8a11e05\n",
      "      token_name: YoTr2016-3\n",
      "  - 1\n",
      "boundValues: []\n",
      "choices: []\n",
      "minTime: 1\n"
     ]
    }
   ],
   "source": [
    "jq 'keys | del(.[0]) | [.[] | [[{role_token : \"'\"$ROLE_NAME\"'\"}, {currency_symbol : \"'\"$POLICY_ID\"'\", token_name : .}], 1]] | {accounts : ([[[{role_token : \"'\"$ROLE_NAME\"'\"}, {currency_symbol : \"\", token_name : \"\"}], '\"$MIN_ADA\"']] + .), choices : [], boundValues : [], minTime : 1}' metadata.json > state.json\n",
    "json2yaml state.json"
   ]
  },
  {
   "cell_type": "markdown",
   "id": "6c955462-2ede-45a4-96a9-1e26826b4b02",
   "metadata": {},
   "source": [
    "### Create the contract.\n",
    "\n",
    "The contract simply waits for the deposit and then closes, causing the tokens to be distributed to the payout address."
   ]
  },
  {
   "cell_type": "code",
   "execution_count": 12,
   "id": "5cfb3e2f-3bbc-4a52-917d-f733ef815a7f",
   "metadata": {},
   "outputs": [
    {
     "name": "stdout",
     "output_type": "stream",
     "text": [
      "timeout: 1893456000000\n",
      "timeout_continuation: close\n",
      "when:\n",
      "- case:\n",
      "    deposits: 500000000\n",
      "    into_account:\n",
      "      address: addr_test1vq9prvx8ufwutkwxx9cmmuuajaqmjqwujqlp9d8pvg6gupczgtm9j\n",
      "    of_token:\n",
      "      currency_symbol: ''\n",
      "      token_name: ''\n",
      "    party:\n",
      "      role_token: YoTr2016-0\n",
      "  then: close\n"
     ]
    }
   ],
   "source": [
    "yaml2json << EOI > contract.json\n",
    "when:\n",
    "- case:\n",
    "    party:\n",
    "      role_token: $ROLE_NAME\n",
    "    deposits: $SEPARATION_COST\n",
    "    of_token:\n",
    "      currency_symbol: ''\n",
    "      token_name: ''\n",
    "    into_account:\n",
    "      address: $PAYMENT_ADDR\n",
    "  then: close\n",
    "timeout: $TIMEOUT\n",
    "timeout_continuation: close\n",
    "EOI\n",
    "json2yaml contract.json"
   ]
  },
  {
   "cell_type": "markdown",
   "id": "96de9b7b-3e2c-459d-b9ab-93e818e53acb",
   "metadata": {},
   "source": [
    "### Initialize the off-chain data for the Marlowe contract.\n",
    "\n",
    "The `.marlowe` files contains the information needed to run the contract."
   ]
  },
  {
   "cell_type": "code",
   "execution_count": 13,
   "id": "7be94688-125f-4bd5-b4eb-b576220466c2",
   "metadata": {},
   "outputs": [
    {
     "name": "stdout",
     "output_type": "stream",
     "text": [
      "\n",
      "Searching for reference script at address: addr_test1vrw0tuh8l95thdqr65dmpcfqnmcw0en7v7vhgegck7gzqgswa07sw\n",
      "\n",
      "Expected reference script hash: \"6a9391d6aa51af28dd876ebb5565b69d1e83e5ac7861506bd29b56b0\"\n",
      "\n",
      "Searching for reference script at address: addr_test1vpa36uuyf95kxpcleldsncedlhjru6vdmh2vnpkdrsz4u6cll9zas\n",
      "\n",
      "Expected reference script hash: \"49076eab20243dc9462511fb98a9cfb719f86e9692288139b7c91df3\"\n",
      "\n",
      "Validator size: 12505\n",
      "Base-validator cost: ExBudget {exBudgetCPU = ExCPU 18515100, exBudgetMemory = ExMemory 80600}\n"
     ]
    }
   ],
   "source": [
    "marlowe-cli run initialize \\\n",
    "  \"${MAGIC[@]}\" \\\n",
    "  --roles-currency \"$POLICY_ID\" \\\n",
    "  --contract-file contract.json \\\n",
    "  --state-file state.json \\\n",
    "  --permanently-without-staking \\\n",
    "  --out-file tx-1.marlowe \\\n",
    "  --print-stats"
   ]
  },
  {
   "cell_type": "markdown",
   "id": "9145c8d0-dbf3-4c53-963a-e086cca9cc40",
   "metadata": {},
   "source": [
    "### Analyze the Marlowe contract to make sure that it will be possible to run it successfully on a Cardano network.\n",
    "\n",
    "Just because a contract is semantically valid, does not mean it will run on the blockchain!"
   ]
  },
  {
   "cell_type": "code",
   "execution_count": 14,
   "id": "e2f23cb1-9ecc-47ec-ac60-f66321acfb9b",
   "metadata": {},
   "outputs": [
    {
     "name": "stdout",
     "output_type": "stream",
     "text": [
      "Note that path-based analysis ignore the initial state of the contract and instead start with an empty state.\n",
      "Starting search for execution paths . . .\n",
      " . . . found 2 execution paths.\n",
      "- Preconditions:\n",
      "    Duplicate accounts: []\n",
      "    Duplicate bound values: []\n",
      "    Duplicate choices: []\n",
      "    Invalid account parties: []\n",
      "    Invalid account tokens: []\n",
      "    Invalid choice parties: []\n",
      "    Invalid roles currency: false\n",
      "    Non-positive account balances: []\n",
      "- Role names:\n",
      "    Blank role names: false\n",
      "    Invalid role names: []\n",
      "- Tokens:\n",
      "    Invalid tokens: []\n",
      "- Maximum value:\n",
      "    Actual: 88\n",
      "    Invalid: false\n",
      "    Maximum: 5000\n",
      "    Percentage: 1.76\n",
      "    Unit: byte\n",
      "- Minimum UTxO:\n",
      "    Requirement:\n",
      "      lovelace: 1120600\n",
      "- Execution cost:\n",
      "    Memory:\n",
      "      Actual: 5803588\n",
      "      Invalid: false\n",
      "      Maximum: 14000000\n",
      "      Percentage: 41.4542\n",
      "    Steps:\n",
      "      Actual: 1505731602\n",
      "      Invalid: false\n",
      "      Maximum: 10000000000\n",
      "      Percentage: 15.05731602\n",
      "- Transaction size:\n",
      "    Actual: 1058\n",
      "    Invalid: false\n",
      "    Maximum: 16384\n",
      "    Percentage: 6.45751953125\n"
     ]
    }
   ],
   "source": [
    "marlowe-cli run analyze \\\n",
    "  \"${MAGIC[@]}\" \\\n",
    "  --marlowe-file tx-1.marlowe"
   ]
  },
  {
   "cell_type": "markdown",
   "id": "08961dd7-e18e-4a5e-a8d8-929f537683f1",
   "metadata": {},
   "source": [
    "The analysis reveals that the contract has no problems that will prevent it from running. *However, this version of `marlowe-cli run analyze` does not account for the non-standard initial state that we are using, so we need to actually run the contract on the test network in order to make sure that it is safe to run on `mainnet`.*"
   ]
  },
  {
   "cell_type": "markdown",
   "id": "23acd5a1-396f-478a-9870-ec9055fd592a",
   "metadata": {},
   "source": [
    "### Execute the transaction to create the contract.\n",
    "\n",
    "Sadly, Marlowe Runtime does not support creating a contract with a non-default initial state. Instead we use `marlowe-cli` to create the contract."
   ]
  },
  {
   "cell_type": "code",
   "execution_count": 15,
   "id": "43f10d2b-584a-45ca-a056-588829fa2d77",
   "metadata": {},
   "outputs": [
    {
     "name": "stdout",
     "output_type": "stream",
     "text": [
      "\n",
      "Fee: Lovelace 222789\n",
      "Size: 883 / 16384 = 5%\n",
      "Execution units:\n",
      "  Memory: 0 / 14000000 = 0%\n",
      "  Steps: 0 / 10000000000 = 0%\n",
      "TX_1 = 7935febf14cd7519f0d419c0e112891c6be1bdf1301e0334095b732024afeedf\n",
      "CONTRACT_ID = 7935febf14cd7519f0d419c0e112891c6be1bdf1301e0334095b732024afeedf#1\n"
     ]
    }
   ],
   "source": [
    "TX_1=$(\n",
    "marlowe-cli run auto-execute \\\n",
    "  \"${MAGIC[@]}\" \\\n",
    "  --change-address \"$PAYMENT_ADDR\" \\\n",
    "  --required-signer \"$PAYMENT_SKEY\" \\\n",
    "  --marlowe-out-file tx-1.marlowe \\\n",
    "  --out-file /dev/null \\\n",
    "  --submit 600 \\\n",
    "  --print-stats \\\n",
    "| sed -e 's/^TxId \"\\(.*\\)\"$/\\1/' \\\n",
    ")\n",
    "echo \"TX_1 = $TX_1\"\n",
    "CONTRACT_ID=\"$TX_1#1\"\n",
    "echo \"CONTRACT_ID = $CONTRACT_ID\""
   ]
  },
  {
   "cell_type": "markdown",
   "id": "c9972edf-d802-4c88-98c2-44deb085a50a",
   "metadata": {},
   "source": [
    "View the contract's UTxO on the blockchain."
   ]
  },
  {
   "cell_type": "code",
   "execution_count": 16,
   "id": "8e1b38fa-29f7-4637-a5ab-c1925cd52bc3",
   "metadata": {},
   "outputs": [
    {
     "name": "stdout",
     "output_type": "stream",
     "text": [
      "                           TxHash                                 TxIx        Amount\n",
      "--------------------------------------------------------------------------------------\n",
      "7935febf14cd7519f0d419c0e112891c6be1bdf1301e0334095b732024afeedf     1        2000000 lovelace + 1 9686fda3ddf47e47faebed23f55371dda523a0461d505ef4c8a11e05.596f5472323031362d31 + 1 9686fda3ddf47e47faebed23f55371dda523a0461d505ef4c8a11e05.596f5472323031362d32 + 1 9686fda3ddf47e47faebed23f55371dda523a0461d505ef4c8a11e05.596f5472323031362d33 + TxOutDatumHash ScriptDataInBabbageEra \"e3c7281f48e683cb4253aafad5bbb50ff7d0cdb2366bafaf4f7d6d4af68c09b3\"\n"
     ]
    }
   ],
   "source": [
    "cardano-cli query utxo  \"${MAGIC[@]}\" --tx-in \"$CONTRACT_ID\""
   ]
  },
  {
   "cell_type": "markdown",
   "id": "fc798371-8a58-4d2e-ab9c-1c390907085e",
   "metadata": {},
   "source": [
    "Use Marlowe Runtime to view the contract on the blockchain."
   ]
  },
  {
   "cell_type": "code",
   "execution_count": 17,
   "id": "3dad46dc-f21a-487c-b197-8139c95fa063",
   "metadata": {},
   "outputs": [
    {
     "name": "stdout",
     "output_type": "stream",
     "text": [
      "\u001b[93mtransaction 7935febf14cd7519f0d419c0e112891c6be1bdf1301e0334095b732024afeedf (creation)\n",
      "\u001b[0mContractId:      7935febf14cd7519f0d419c0e112891c6be1bdf1301e0334095b732024afeedf#1\n",
      "SlotNo:          19344129\n",
      "BlockNo:         572415\n",
      "BlockId:         c3b99130628d9fd3ac09b93aac61d4114e9286dbf00c3fd3bd76a6f0a30de5b7\n",
      "ScriptAddress:   addr_test1wp4f8ywk4fg672xasahtk4t9k6w3aql943uxz5rt62d4dvqu3c6jv\n",
      "Marlowe Version: 1\n",
      "\n",
      "    When [\n",
      "      (Case\n",
      "         (Deposit (Address \"addr_test1vq9prvx8ufwutkwxx9cmmuuajaqmjqwujqlp9d8pvg6gupczgtm9j\") (Role \"YoTr2016-0\")\n",
      "            (Token \"\" \"\")\n",
      "            (Constant 500000000)) Close)] 1893456000000 Close\n",
      "\n"
     ]
    }
   ],
   "source": [
    "marlowe log --show-contract \"$CONTRACT_ID\""
   ]
  },
  {
   "cell_type": "markdown",
   "id": "a364693a-c356-41c8-b98c-f724b1cae13a",
   "metadata": {},
   "source": [
    "One can view this transaction in an explorer:"
   ]
  },
  {
   "cell_type": "code",
   "execution_count": 18,
   "id": "f94ad53e-b0c9-4ae9-b951-ce6916324abc",
   "metadata": {},
   "outputs": [
    {
     "name": "stdout",
     "output_type": "stream",
     "text": [
      "https://preprod.cardanoscan.io/transaction/7935febf14cd7519f0d419c0e112891c6be1bdf1301e0334095b732024afeedf?tab=utxo\n"
     ]
    }
   ],
   "source": [
    "echo \"https://preprod.cardanoscan.io/transaction/$TX_1?tab=utxo\""
   ]
  },
  {
   "cell_type": "markdown",
   "id": "c4321811-40f0-436f-a3b6-732a0b03383c",
   "metadata": {},
   "source": [
    "### Prepare a transaction to remove the NFTs from the contract.\n",
    "\n",
    "This requires that the owner of the role token deposit 500 Ada into the contract."
   ]
  },
  {
   "cell_type": "code",
   "execution_count": 19,
   "id": "3f22c3dd-2cae-493b-bebe-391749450445",
   "metadata": {},
   "outputs": [
    {
     "name": "stdout",
     "output_type": "stream",
     "text": [
      "TX_2 = d6ffa4f8e2841a19e17e04b9ed57b88c576c7dcf5c2ec94064531976898adba2\n"
     ]
    }
   ],
   "source": [
    "TX_2=$(\n",
    "marlowe deposit \\\n",
    "  --contract \"$CONTRACT_ID\" \\\n",
    "  --from-party \"$ROLE_NAME\" \\\n",
    "  --to-party \"$PAYMENT_ADDR\" \\\n",
    "  --lovelace \"$SEPARATION_COST\" \\\n",
    "  --change-address \"$PAYMENT_ADDR\" \\\n",
    "  --manual-sign tx-2.unsigned \\\n",
    "| jq -r 'fromjson | .txId' \\\n",
    ")\n",
    "echo \"TX_2 = $TX_2\""
   ]
  },
  {
   "cell_type": "markdown",
   "id": "1248a799-bd01-4996-a4e1-50ed844bc3c9",
   "metadata": {},
   "source": [
    "### Execute the transaction to close the contract and remove the role tokens."
   ]
  },
  {
   "cell_type": "code",
   "execution_count": 20,
   "id": "e15c30d7-3440-463d-8f41-f940748c03b7",
   "metadata": {},
   "outputs": [
    {
     "name": "stdout",
     "output_type": "stream",
     "text": [
      "TxId \"d6ffa4f8e2841a19e17e04b9ed57b88c576c7dcf5c2ec94064531976898adba2\"\n"
     ]
    }
   ],
   "source": [
    "marlowe-cli transaction submit \\\n",
    "  \"${MAGIC[@]}\" \\\n",
    "  --tx-body-file tx-2.unsigned \\\n",
    "  --required-signer \"$PAYMENT_SKEY\" \\\n",
    "  --timeout 600"
   ]
  },
  {
   "cell_type": "markdown",
   "id": "ca8ffb8b-1792-443a-9322-5e39110aad92",
   "metadata": {},
   "source": [
    "Use Marlowe Runtime to see that the contract has closed."
   ]
  },
  {
   "cell_type": "code",
   "execution_count": 21,
   "id": "b0238b8b-65cf-47b6-a9c8-2998d15159d2",
   "metadata": {},
   "outputs": [
    {
     "name": "stdout",
     "output_type": "stream",
     "text": [
      "\u001b[93mtransaction 7935febf14cd7519f0d419c0e112891c6be1bdf1301e0334095b732024afeedf (creation)\n",
      "\u001b[0mContractId:      7935febf14cd7519f0d419c0e112891c6be1bdf1301e0334095b732024afeedf#1\n",
      "SlotNo:          19344129\n",
      "BlockNo:         572415\n",
      "BlockId:         c3b99130628d9fd3ac09b93aac61d4114e9286dbf00c3fd3bd76a6f0a30de5b7\n",
      "ScriptAddress:   addr_test1wp4f8ywk4fg672xasahtk4t9k6w3aql943uxz5rt62d4dvqu3c6jv\n",
      "Marlowe Version: 1\n",
      "\n",
      "    When [\n",
      "      (Case\n",
      "         (Deposit (Address \"addr_test1vq9prvx8ufwutkwxx9cmmuuajaqmjqwujqlp9d8pvg6gupczgtm9j\") (Role \"YoTr2016-0\")\n",
      "            (Token \"\" \"\")\n",
      "            (Constant 500000000)) Close)] 1893456000000 Close\n",
      "\n",
      "\u001b[93mtransaction d6ffa4f8e2841a19e17e04b9ed57b88c576c7dcf5c2ec94064531976898adba2 (close)\n",
      "\u001b[0mContractId: 7935febf14cd7519f0d419c0e112891c6be1bdf1301e0334095b732024afeedf#1\n",
      "SlotNo:     19344275\n",
      "BlockNo:    572421\n",
      "BlockId:    77620cdb13a8efe63144d9cec98d00652b472a102ba4ea58acb7ba597b981d08\n",
      "Inputs:     [NormalInput (IDeposit \"\\\"addr_test1vq9prvx8ufwutkwxx9cmmuuajaqmjqwujqlp9d8pvg6gupczgtm9j\\\"\" \"YoTr2016-0\" (Token \"\" \"\") 500000000)]\n",
      "\n",
      "\n"
     ]
    }
   ],
   "source": [
    "marlowe log --show-contract \"$CONTRACT_ID\""
   ]
  },
  {
   "cell_type": "markdown",
   "id": "4f6844ad-9585-45e5-be4e-86e4f9e7a806",
   "metadata": {},
   "source": [
    "One can view this transaction in an explorer:"
   ]
  },
  {
   "cell_type": "code",
   "execution_count": 22,
   "id": "4f56d72e-dc3c-4ad1-a010-bf43278e24e3",
   "metadata": {},
   "outputs": [
    {
     "name": "stdout",
     "output_type": "stream",
     "text": [
      "https://preprod.cardanoscan.io/transaction/d6ffa4f8e2841a19e17e04b9ed57b88c576c7dcf5c2ec94064531976898adba2?tab=utxo\n"
     ]
    }
   ],
   "source": [
    "echo \"https://preprod.cardanoscan.io/transaction/$TX_2?tab=utxo\""
   ]
  },
  {
   "cell_type": "markdown",
   "id": "0116ce75-99cd-483b-a257-1006391cd8e7",
   "metadata": {},
   "source": [
    "### Withdraw the NFTs from Marlowe's role-payout address.\n",
    "\n",
    "When a Marlowe contract pays to a role, the funds are sent to the role-payout address from which the holder of the role token can withdraw the funds.\n",
    "\n",
    "View the UTxO at the role-payout address."
   ]
  },
  {
   "cell_type": "code",
   "execution_count": 23,
   "id": "f8ead549-343c-42da-854b-305fbb6934de",
   "metadata": {},
   "outputs": [
    {
     "name": "stdout",
     "output_type": "stream",
     "text": [
      "                           TxHash                                 TxIx        Amount\n",
      "--------------------------------------------------------------------------------------\n",
      "d6ffa4f8e2841a19e17e04b9ed57b88c576c7dcf5c2ec94064531976898adba2     2        2000000 lovelace + 1 9686fda3ddf47e47faebed23f55371dda523a0461d505ef4c8a11e05.596f5472323031362d31 + 1 9686fda3ddf47e47faebed23f55371dda523a0461d505ef4c8a11e05.596f5472323031362d32 + 1 9686fda3ddf47e47faebed23f55371dda523a0461d505ef4c8a11e05.596f5472323031362d33 + TxOutDatumHash ScriptDataInBabbageEra \"8ddc57b7cbf71fefe4b3cf200982a8181e8c369929c0b4719c69f4848193f018\"\n"
     ]
    }
   ],
   "source": [
    "cardano-cli query utxo \"${MAGIC[@]}\" --tx-in \"$TX_2#2\""
   ]
  },
  {
   "cell_type": "markdown",
   "id": "e2350cc3-1775-40ce-8115-c756300b594c",
   "metadata": {},
   "source": [
    "Now withdraw the NFTs."
   ]
  },
  {
   "cell_type": "code",
   "execution_count": 24,
   "id": "d2ec828b-9fa5-43d3-bdb4-c53dc9ecf29f",
   "metadata": {},
   "outputs": [
    {
     "name": "stdout",
     "output_type": "stream",
     "text": [
      "TX_3 = 11e792d140b2d1749a505b70dd76ae45bf8cd5abfc5b8acbbf38789e4395b8bd\n"
     ]
    }
   ],
   "source": [
    "TX_3=$(\n",
    "marlowe withdraw \\\n",
    "  --contract \"$CONTRACT_ID\" \\\n",
    "  --change-address \"$PAYMENT_ADDR\" \\\n",
    "  --role \"$ROLE_NAME\" \\\n",
    "  --manual-sign tx-3.unsigned \\\n",
    "| jq -r 'fromjson | .txId' \\\n",
    ")\n",
    "echo \"TX_3 = $TX_3\""
   ]
  },
  {
   "cell_type": "code",
   "execution_count": 25,
   "id": "6e1b2ceb-51cb-4a4c-8ff5-2147f8541867",
   "metadata": {},
   "outputs": [
    {
     "name": "stdout",
     "output_type": "stream",
     "text": [
      "TxId \"11e792d140b2d1749a505b70dd76ae45bf8cd5abfc5b8acbbf38789e4395b8bd\"\n"
     ]
    }
   ],
   "source": [
    "marlowe-cli transaction submit \\\n",
    "  \"${MAGIC[@]}\" \\\n",
    "  --tx-body-file tx-3.unsigned \\\n",
    "  --required-signer \"$PAYMENT_SKEY\" \\\n",
    "  --timeout 600"
   ]
  },
  {
   "cell_type": "markdown",
   "id": "75dde0a2-925b-4fa5-afc4-abe162db8415",
   "metadata": {},
   "source": [
    "See that the NFTs now reside in the original wallet."
   ]
  },
  {
   "cell_type": "code",
   "execution_count": 26,
   "id": "af265f23-e9ba-4491-bc3a-10ef77b3e1c4",
   "metadata": {},
   "outputs": [
    {
     "name": "stdout",
     "output_type": "stream",
     "text": [
      "                           TxHash                                 TxIx        Amount\n",
      "--------------------------------------------------------------------------------------\n",
      "11e792d140b2d1749a505b70dd76ae45bf8cd5abfc5b8acbbf38789e4395b8bd     0        29473874451 lovelace + TxOutDatumNone\n",
      "11e792d140b2d1749a505b70dd76ae45bf8cd5abfc5b8acbbf38789e4395b8bd     1        1051640 lovelace + 1 9686fda3ddf47e47faebed23f55371dda523a0461d505ef4c8a11e05.596f5472323031362d30 + TxOutDatumNone\n",
      "11e792d140b2d1749a505b70dd76ae45bf8cd5abfc5b8acbbf38789e4395b8bd     2        1155080 lovelace + 1 9686fda3ddf47e47faebed23f55371dda523a0461d505ef4c8a11e05.596f5472323031362d31 + 1 9686fda3ddf47e47faebed23f55371dda523a0461d505ef4c8a11e05.596f5472323031362d32 + 1 9686fda3ddf47e47faebed23f55371dda523a0461d505ef4c8a11e05.596f5472323031362d33 + TxOutDatumNone\n",
      "d6ffa4f8e2841a19e17e04b9ed57b88c576c7dcf5c2ec94064531976898adba2     3        500000000 lovelace + TxOutDatumNone\n"
     ]
    }
   ],
   "source": [
    "cardano-cli query utxo \"${MAGIC[@]}\" --address \"$PAYMENT_ADDR\""
   ]
  },
  {
   "cell_type": "markdown",
   "id": "c0e51f15-bd2b-4642-917c-bc51abd4d5ba",
   "metadata": {},
   "source": [
    "One can view this transaction in an explorer:"
   ]
  },
  {
   "cell_type": "code",
   "execution_count": 27,
   "id": "78c8ce2a-8a61-4873-9b40-b7cc4f79fb4b",
   "metadata": {},
   "outputs": [
    {
     "name": "stdout",
     "output_type": "stream",
     "text": [
      "https://preprod.cardanoscan.io/transaction/11e792d140b2d1749a505b70dd76ae45bf8cd5abfc5b8acbbf38789e4395b8bd?tab=utxo\n"
     ]
    }
   ],
   "source": [
    "echo \"https://preprod.cardanoscan.io/transaction/$TX_3?tab=utxo\""
   ]
  },
  {
   "cell_type": "markdown",
   "id": "9a287658-b919-4ea7-aa02-733216d382ac",
   "metadata": {},
   "source": [
    "### Clean up by burning the NFTs."
   ]
  },
  {
   "cell_type": "code",
   "execution_count": 28,
   "id": "e16925b9-3162-4fab-9085-fe5914287188",
   "metadata": {},
   "outputs": [
    {
     "name": "stdout",
     "output_type": "stream",
     "text": [
      "\n",
      "Fee: Lovelace 271893\n",
      "Size: 2153 / 16384 = 13%\n",
      "Execution units:\n",
      "  Memory: 0 / 14000000 = 0%\n",
      "  Steps: 0 / 10000000000 = 0%\n",
      "PolicyID \"9686fda3ddf47e47faebed23f55371dda523a0461d505ef4c8a11e05\"\n"
     ]
    }
   ],
   "source": [
    "marlowe-cli util burn \\\n",
    "  \"${MAGIC[@]}\" \\\n",
    "  --issuer \"$PAYMENT_ADDR:$PAYMENT_SKEY\" \\\n",
    "  --metadata-file metadata.json \\\n",
    "  --expires \"$LOCKING_SLOT\" \\\n",
    "  --out-file /dev/null \\\n",
    "  --submit 600 \\\n",
    "  $(for n in ${TOKEN_NAMES[@]}; do echo \"--token-provider $PAYMENT_ADDR:$PAYMENT_SKEY\"; done)"
   ]
  },
  {
   "cell_type": "markdown",
   "id": "a932b588-df56-4a60-8e18-dfaed19dcfa4",
   "metadata": {},
   "source": [
    "Now the original wallet no longer contains the NFTs."
   ]
  },
  {
   "cell_type": "code",
   "execution_count": 29,
   "id": "e6379537-3bdf-420c-bea9-c548e74f33f3",
   "metadata": {},
   "outputs": [
    {
     "name": "stdout",
     "output_type": "stream",
     "text": [
      "                           TxHash                                 TxIx        Amount\n",
      "--------------------------------------------------------------------------------------\n",
      "288fbf2a4e177c56a0bedcfbf935ac107c208073f53513b3cbbca2074c0230b1     0        29975809278 lovelace + TxOutDatumNone\n"
     ]
    }
   ],
   "source": [
    "cardano-cli query utxo \"${MAGIC[@]}\" --address \"$PAYMENT_ADDR\""
   ]
  },
  {
   "cell_type": "markdown",
   "id": "b8222b50-0d67-4903-a599-821a7391c196",
   "metadata": {},
   "source": [
    "## Run on `mainnet`\n",
    "\n",
    "Now that we know the contract is safe, we run it on `mainnet`."
   ]
  },
  {
   "cell_type": "markdown",
   "id": "4927c580-d9f9-416d-b7f1-f0657ac7f8d7",
   "metadata": {},
   "source": [
    "### Select the network"
   ]
  },
  {
   "cell_type": "code",
   "execution_count": 30,
   "id": "e9686746-bfdc-4e70-99aa-025ef9bd6cab",
   "metadata": {},
   "outputs": [],
   "source": [
    "export CARDANO_NODE_SOCKET_PATH=mainnet.socket\n",
    "MAGIC=(--mainnet)\n",
    "NETWORK=mainnet"
   ]
  },
  {
   "cell_type": "markdown",
   "id": "5df0f12b-8ed6-4022-8fdb-a7dcbc39effe",
   "metadata": {},
   "source": [
    "We set the location of the Marlowe Runtime backend services."
   ]
  },
  {
   "cell_type": "code",
   "execution_count": 31,
   "id": "356e02d7-c23e-44e9-9d7b-556e45bba920",
   "metadata": {},
   "outputs": [],
   "source": [
    "export MARLOWE_RT_HISTORY_HOST=192.168.0.12\n",
    "export MARLOWE_RT_HISTORY_COMMAND_PORT=53717\n",
    "export MARLOWE_RT_HISTORY_QUERY_PORT=53718\n",
    "export MARLOWE_RT_HISTORY_SYNC_PORT=53719\n",
    "                                                                                                                                     \n",
    "export MARLOWE_RT_DISCOVERY_HOST=192.168.0.12\n",
    "export MARLOWE_RT_DISCOVERY_QUERY_PORT=53721\n",
    "export MARLOWE_RT_DISCOVERY_SYNC_PORT=53722\n",
    "\n",
    "export MARLOWE_RT_TX_HOST=192.168.0.12\n",
    "export MARLOWE_RT_TX_COMMAND_PORT=53723"
   ]
  },
  {
   "cell_type": "markdown",
   "id": "4495007f-eec9-44eb-b4d9-35804caef816",
   "metadata": {},
   "source": [
    "### Set the address and signing key for the creator of the Marlowe contract"
   ]
  },
  {
   "cell_type": "code",
   "execution_count": 32,
   "id": "73dda138-5e90-48c9-90bb-9f1ad6c73d77",
   "metadata": {},
   "outputs": [
    {
     "name": "stdout",
     "output_type": "stream",
     "text": [
      "PAYMENT_ADDR = addr1vy9prvx8ufwutkwxx9cmmuuajaqmjqwujqlp9d8pvg6gupceql82h\n"
     ]
    }
   ],
   "source": [
    "PAYMENT_SKEY=payment.skey\n",
    "PAYMENT_ADDR=$(cat payment.$NETWORK.address)\n",
    "echo \"PAYMENT_ADDR = $PAYMENT_ADDR\""
   ]
  },
  {
   "cell_type": "markdown",
   "id": "0518e136-5211-4c2d-a54f-11e5cfa3902e",
   "metadata": {},
   "source": [
    "Also, we use the well-known address of Marlowe's reference script on `mainnet`."
   ]
  },
  {
   "cell_type": "code",
   "execution_count": 33,
   "id": "ab22dab3-e643-4825-bcf5-4a8ed1468602",
   "metadata": {},
   "outputs": [],
   "source": [
    "REFERENCE_ADDR=addr1z9l4w7djneh0kss4drg2php6ynflsvmal7x3w5nrc95uvhz7e4q926apsvcd6kn33cpx95k8jsmrj7v0k62rczvz8urqrl2z0l"
   ]
  },
  {
   "cell_type": "markdown",
   "id": "62c160c3-98a1-4289-9a37-69fd04022c71",
   "metadata": {},
   "source": [
    "### For minting the NFTs, use a monetary policy that forbids further minting after two days from now."
   ]
  },
  {
   "cell_type": "code",
   "execution_count": 34,
   "id": "cca5eda2-cf0a-4adc-ae3f-d72ed8a46b4a",
   "metadata": {},
   "outputs": [
    {
     "name": "stdout",
     "output_type": "stream",
     "text": [
      "LOCKING_SLOT = 83634311\n"
     ]
    }
   ],
   "source": [
    "LOCKING_SLOT=$(($(cardano-cli query tip \"${MAGIC[@]}\" | jq -r '.slot') + 2 * 24 * 60 * 60))\n",
    "echo \"LOCKING_SLOT = $LOCKING_SLOT\""
   ]
  },
  {
   "cell_type": "markdown",
   "id": "2ea15899-fd75-4907-8c85-a63e543081b0",
   "metadata": {},
   "source": [
    "### Mint the NFTs."
   ]
  },
  {
   "cell_type": "code",
   "execution_count": 35,
   "id": "3c7aef3f-1e34-444e-bf2a-6bde54d43e35",
   "metadata": {},
   "outputs": [
    {
     "name": "stdout",
     "output_type": "stream",
     "text": [
      "\n",
      "Fee: Lovelace 268417\n",
      "Size: 2377 / 16384 = 14%\n",
      "Execution units:\n",
      "  Memory: 0 / 14000000 = 0%\n",
      "  Steps: 0 / 10000000000 = 0%\n",
      "POLICY_ID = 76d2abf2f510fe2d2ddd990fd87f68f14360d303b6366cf5a7482ad4\n"
     ]
    }
   ],
   "source": [
    "POLICY_ID=$(\n",
    "marlowe-cli util mint \\\n",
    "  \"${MAGIC[@]}\" \\\n",
    "  --issuer \"$PAYMENT_ADDR:$PAYMENT_SKEY\" \\\n",
    "  --metadata-file metadata.json \\\n",
    "  --expires \"$LOCKING_SLOT\" \\\n",
    "  --out-file /dev/null \\\n",
    "  --submit 600 \\\n",
    "  $(for n in ${TOKEN_NAMES[@]}; do echo \"$n:$PAYMENT_ADDR\"; done) \\\n",
    "| sed -e 's/^PolicyID \"\\(.*\\)\"$/\\1/'\n",
    ")\n",
    "echo \"POLICY_ID = $POLICY_ID\""
   ]
  },
  {
   "cell_type": "markdown",
   "id": "7aa787df-35b9-4bcd-bfea-67a1f8698037",
   "metadata": {},
   "source": [
    "We can view the NFTs at the following URL:"
   ]
  },
  {
   "cell_type": "code",
   "execution_count": 36,
   "id": "886d2645-46f8-46f4-b057-0628e35e4230",
   "metadata": {},
   "outputs": [
    {
     "name": "stdout",
     "output_type": "stream",
     "text": [
      "https://cexplorer.io/policy/76d2abf2f510fe2d2ddd990fd87f68f14360d303b6366cf5a7482ad4\n"
     ]
    }
   ],
   "source": [
    "echo \"https://cexplorer.io/policy/$POLICY_ID\""
   ]
  },
  {
   "cell_type": "markdown",
   "id": "bb9eb765-1986-4c4b-9f46-3ae3d9b10d16",
   "metadata": {},
   "source": [
    "### Create the initial state of the contract.\n",
    "\n",
    "Unlike a typical contract, the initial state of this contract will contain several non-Ada tokens."
   ]
  },
  {
   "cell_type": "code",
   "execution_count": 37,
   "id": "7d6dd8b5-3f51-481e-8018-951bac71cb93",
   "metadata": {},
   "outputs": [
    {
     "name": "stdout",
     "output_type": "stream",
     "text": [
      "accounts:\n",
      "- - - role_token: YoTr2016-0\n",
      "    - currency_symbol: ''\n",
      "      token_name: ''\n",
      "  - 2000000\n",
      "- - - role_token: YoTr2016-0\n",
      "    - currency_symbol: 76d2abf2f510fe2d2ddd990fd87f68f14360d303b6366cf5a7482ad4\n",
      "      token_name: YoTr2016-1\n",
      "  - 1\n",
      "- - - role_token: YoTr2016-0\n",
      "    - currency_symbol: 76d2abf2f510fe2d2ddd990fd87f68f14360d303b6366cf5a7482ad4\n",
      "      token_name: YoTr2016-2\n",
      "  - 1\n",
      "- - - role_token: YoTr2016-0\n",
      "    - currency_symbol: 76d2abf2f510fe2d2ddd990fd87f68f14360d303b6366cf5a7482ad4\n",
      "      token_name: YoTr2016-3\n",
      "  - 1\n",
      "boundValues: []\n",
      "choices: []\n",
      "minTime: 1\n"
     ]
    }
   ],
   "source": [
    "jq 'keys | del(.[0]) | [.[] | [[{role_token : \"'\"$ROLE_NAME\"'\"}, {currency_symbol : \"'\"$POLICY_ID\"'\", token_name : .}], 1]] | {accounts : ([[[{role_token : \"'\"$ROLE_NAME\"'\"}, {currency_symbol : \"\", token_name : \"\"}], '\"$MIN_ADA\"']] + .), choices : [], boundValues : [], minTime : 1}' metadata.json > state.json\n",
    "json2yaml state.json"
   ]
  },
  {
   "cell_type": "markdown",
   "id": "7ae9383f-559a-41cd-ac29-eca83feb923c",
   "metadata": {},
   "source": [
    "### Create the contract.\n",
    "\n",
    "The contract simply waits for the deposit and then closes, causing the tokens to be distributed to the payout address."
   ]
  },
  {
   "cell_type": "code",
   "execution_count": 38,
   "id": "d862c8c4-240d-4901-a97c-caa62b0613e8",
   "metadata": {},
   "outputs": [
    {
     "name": "stdout",
     "output_type": "stream",
     "text": [
      "timeout: 1893456000000\n",
      "timeout_continuation: close\n",
      "when:\n",
      "- case:\n",
      "    deposits: 500000000\n",
      "    into_account:\n",
      "      address: addr1vy9prvx8ufwutkwxx9cmmuuajaqmjqwujqlp9d8pvg6gupceql82h\n",
      "    of_token:\n",
      "      currency_symbol: ''\n",
      "      token_name: ''\n",
      "    party:\n",
      "      role_token: YoTr2016-0\n",
      "  then: close\n"
     ]
    }
   ],
   "source": [
    "yaml2json << EOI > contract.json\n",
    "when:\n",
    "- case:\n",
    "    party:\n",
    "      role_token: $ROLE_NAME\n",
    "    deposits: $SEPARATION_COST\n",
    "    of_token:\n",
    "      currency_symbol: ''\n",
    "      token_name: ''\n",
    "    into_account:\n",
    "      address: $PAYMENT_ADDR\n",
    "  then: close\n",
    "timeout: $TIMEOUT\n",
    "timeout_continuation: close\n",
    "EOI\n",
    "json2yaml contract.json"
   ]
  },
  {
   "cell_type": "markdown",
   "id": "6f6b909d-0bba-47ca-b477-2142cb9aaad1",
   "metadata": {},
   "source": [
    "### Initialize the off-chain data for the Marlowe contract.\n",
    "\n",
    "The `.marlowe` files contains the information needed to run the contract."
   ]
  },
  {
   "cell_type": "code",
   "execution_count": 39,
   "id": "9a1f4ba8-c3dd-4015-81a1-9a7fafd495c8",
   "metadata": {},
   "outputs": [
    {
     "name": "stdout",
     "output_type": "stream",
     "text": [
      "\n",
      "Searching for reference script at address: addr1z9l4w7djneh0kss4drg2php6ynflsvmal7x3w5nrc95uvhz7e4q926apsvcd6kn33cpx95k8jsmrj7v0k62rczvz8urqrl2z0l\n",
      "\n",
      "Expected reference script hash: \"6a9391d6aa51af28dd876ebb5565b69d1e83e5ac7861506bd29b56b0\"\n",
      "\n",
      "Searching for reference script at address: addr1z9l4w7djneh0kss4drg2php6ynflsvmal7x3w5nrc95uvhz7e4q926apsvcd6kn33cpx95k8jsmrj7v0k62rczvz8urqrl2z0l\n",
      "\n",
      "Expected reference script hash: \"49076eab20243dc9462511fb98a9cfb719f86e9692288139b7c91df3\"\n",
      "\n",
      "Validator size: 12505\n",
      "Base-validator cost: ExBudget {exBudgetCPU = ExCPU 18515100, exBudgetMemory = ExMemory 80600}\n"
     ]
    }
   ],
   "source": [
    "marlowe-cli run initialize \\\n",
    "  \"${MAGIC[@]}\" \\\n",
    "  --roles-currency \"$POLICY_ID\" \\\n",
    "  --contract-file contract.json \\\n",
    "  --state-file state.json \\\n",
    "  --at-address \"$REFERENCE_ADDR\" \\\n",
    "  --out-file tx-1.marlowe \\\n",
    "  --print-stats"
   ]
  },
  {
   "cell_type": "markdown",
   "id": "bd0ca406-3379-42bd-a4e4-90c2defc44fa",
   "metadata": {},
   "source": [
    "### Execute the transaction to create the contract.\n",
    "\n",
    "Sadly, Marlowe Runtime does not support creating a contract with a non-default initial state. Instead we use `marlowe-cli` to create the contract."
   ]
  },
  {
   "cell_type": "code",
   "execution_count": 40,
   "id": "94dfa66e-7698-4f78-b173-30a6a2e7dfdd",
   "metadata": {},
   "outputs": [
    {
     "name": "stdout",
     "output_type": "stream",
     "text": [
      "\n",
      "Fee: Lovelace 222613\n",
      "Size: 875 / 16384 = 5%\n",
      "Execution units:\n",
      "  Memory: 0 / 14000000 = 0%\n",
      "  Steps: 0 / 10000000000 = 0%\n",
      "TX_1 = ac64d6f7ed327ab9b0f561aebcb004967fbd9ff5ab377964b88874efd6c8b33b\n",
      "CONTRACT_ID = ac64d6f7ed327ab9b0f561aebcb004967fbd9ff5ab377964b88874efd6c8b33b#1\n"
     ]
    }
   ],
   "source": [
    "TX_1=$(\n",
    "marlowe-cli run auto-execute \\\n",
    "  \"${MAGIC[@]}\" \\\n",
    "  --change-address \"$PAYMENT_ADDR\" \\\n",
    "  --required-signer \"$PAYMENT_SKEY\" \\\n",
    "  --marlowe-out-file tx-1.marlowe \\\n",
    "  --out-file /dev/null \\\n",
    "  --submit 600 \\\n",
    "  --print-stats \\\n",
    "| sed -e 's/^TxId \"\\(.*\\)\"$/\\1/' \\\n",
    ")\n",
    "echo \"TX_1 = $TX_1\"\n",
    "CONTRACT_ID=\"$TX_1#1\"\n",
    "echo \"CONTRACT_ID = $CONTRACT_ID\""
   ]
  },
  {
   "cell_type": "markdown",
   "id": "c6c7d5b7-c41a-4f2b-8024-10c0ba8e3ad2",
   "metadata": {},
   "source": [
    "View the contract's UTxO on the blockchain."
   ]
  },
  {
   "cell_type": "code",
   "execution_count": 41,
   "id": "d17abce6-1966-4071-9e21-72a8ee40138d",
   "metadata": {},
   "outputs": [
    {
     "name": "stdout",
     "output_type": "stream",
     "text": [
      "                           TxHash                                 TxIx        Amount\n",
      "--------------------------------------------------------------------------------------\n",
      "ac64d6f7ed327ab9b0f561aebcb004967fbd9ff5ab377964b88874efd6c8b33b     1        2000000 lovelace + 1 76d2abf2f510fe2d2ddd990fd87f68f14360d303b6366cf5a7482ad4.596f5472323031362d31 + 1 76d2abf2f510fe2d2ddd990fd87f68f14360d303b6366cf5a7482ad4.596f5472323031362d32 + 1 76d2abf2f510fe2d2ddd990fd87f68f14360d303b6366cf5a7482ad4.596f5472323031362d33 + TxOutDatumHash ScriptDataInBabbageEra \"cfe093e26ba90bbfadfcbbd0d11a2dfa8441b0e5fdfe4921ad8c03f8192ab2a1\"\n"
     ]
    }
   ],
   "source": [
    "cardano-cli query utxo  \"${MAGIC[@]}\" --tx-in \"$CONTRACT_ID\""
   ]
  },
  {
   "cell_type": "markdown",
   "id": "70b79d88-9764-4f24-89dd-039e541fc13f",
   "metadata": {},
   "source": [
    "Use Marlowe Runtime to view the contract on the blockchain."
   ]
  },
  {
   "cell_type": "code",
   "execution_count": 42,
   "id": "63444c4c-8b1d-482a-93b6-4db6a028b4b2",
   "metadata": {},
   "outputs": [
    {
     "name": "stdout",
     "output_type": "stream",
     "text": [
      "\u001b[93mtransaction ac64d6f7ed327ab9b0f561aebcb004967fbd9ff5ab377964b88874efd6c8b33b (creation)\n",
      "\u001b[0mContractId:      ac64d6f7ed327ab9b0f561aebcb004967fbd9ff5ab377964b88874efd6c8b33b#1\n",
      "SlotNo:          83461652\n",
      "BlockNo:         8333588\n",
      "BlockId:         a90e1ab45d88d9781b5a1b623965e26342db0d629162a808dc1e9c85ae35bb87\n",
      "ScriptAddress:   addr1w94f8ywk4fg672xasahtk4t9k6w3aql943uxz5rt62d4dvq8evxaf\n",
      "Marlowe Version: 1\n",
      "\n",
      "    When [\n",
      "      (Case\n",
      "         (Deposit (Address \"addr1vy9prvx8ufwutkwxx9cmmuuajaqmjqwujqlp9d8pvg6gupceql82h\") (Role \"YoTr2016-0\")\n",
      "            (Token \"\" \"\")\n",
      "            (Constant 500000000)) Close)] 1893456000000 Close\n",
      "\n"
     ]
    }
   ],
   "source": [
    "marlowe log --show-contract \"$CONTRACT_ID\""
   ]
  },
  {
   "cell_type": "markdown",
   "id": "308d99f8-4cb6-4444-8ae2-a8cc47920872",
   "metadata": {},
   "source": [
    "One can view this transaction in an explorer:"
   ]
  },
  {
   "cell_type": "code",
   "execution_count": 43,
   "id": "1e6fa2aa-8744-4f71-9984-5106e923d943",
   "metadata": {},
   "outputs": [
    {
     "name": "stdout",
     "output_type": "stream",
     "text": [
      "https://cardanoscan.io/transaction/ac64d6f7ed327ab9b0f561aebcb004967fbd9ff5ab377964b88874efd6c8b33b?tab=utxo\n"
     ]
    }
   ],
   "source": [
    "echo \"https://cardanoscan.io/transaction/$TX_1?tab=utxo\""
   ]
  },
  {
   "cell_type": "markdown",
   "id": "d9bc75b4-23da-4894-a6aa-c737d5b784db",
   "metadata": {},
   "source": [
    "### Prepare a transaction to remove the NFTs from the contract.\n",
    "\n",
    "This requires that the owner of the role token deposit 500 Ada into the contract."
   ]
  },
  {
   "cell_type": "code",
   "execution_count": 44,
   "id": "83015072-44f5-4131-b883-8d5943346ab2",
   "metadata": {},
   "outputs": [
    {
     "name": "stdout",
     "output_type": "stream",
     "text": [
      "TX_2 = ff16318eb0a3ad7eb9dc4096796dfd461ad42e459076f6eb06fa898f0989c335\n"
     ]
    }
   ],
   "source": [
    "TX_2=$(\n",
    "marlowe deposit \\\n",
    "  --contract \"$CONTRACT_ID\" \\\n",
    "  --from-party \"$ROLE_NAME\" \\\n",
    "  --to-party \"$PAYMENT_ADDR\" \\\n",
    "  --lovelace \"$SEPARATION_COST\" \\\n",
    "  --change-address \"$PAYMENT_ADDR\" \\\n",
    "  --manual-sign tx-2.unsigned \\\n",
    "| jq -r 'fromjson | .txId' \\\n",
    ")\n",
    "echo \"TX_2 = $TX_2\""
   ]
  },
  {
   "cell_type": "markdown",
   "id": "fc4fdb43-4adf-46cc-9703-90dd1bc0c4cb",
   "metadata": {},
   "source": [
    "We won't submit this transaction, but it is good to know that we could do so succesffully, if we ever want to close the contract and remove the tokens from it."
   ]
  },
  {
   "cell_type": "markdown",
   "id": "e55bb2cf-b6e0-46f0-818a-cc8a96a98a38",
   "metadata": {},
   "source": [
    "# Conclusion\n",
    "\n",
    "So now we have the NFT representing the collection in the owner's wallet and the three NFTs constituting the collection in a Marlowe contract controlled by the owner."
   ]
  },
  {
   "cell_type": "markdown",
   "id": "6806d2d2-b199-49ac-87e2-1f63fb6534f1",
   "metadata": {},
   "source": [
    "One can use an explorer to see that the NFT for the collection as a whole is the wallet."
   ]
  },
  {
   "cell_type": "code",
   "execution_count": 45,
   "id": "ed2af96e-c51d-4285-8cc4-f7581581ac1c",
   "metadata": {},
   "outputs": [
    {
     "name": "stdout",
     "output_type": "stream",
     "text": [
      "https://pool.pm/addr1vy9prvx8ufwutkwxx9cmmuuajaqmjqwujqlp9d8pvg6gupceql82h\n"
     ]
    }
   ],
   "source": [
    "echo \"https://pool.pm/$PAYMENT_ADDR\""
   ]
  },
  {
   "cell_type": "code",
   "execution_count": 46,
   "id": "77ecad86-1f47-4a6a-b9f1-be918618d283",
   "metadata": {},
   "outputs": [
    {
     "name": "stdout",
     "output_type": "stream",
     "text": [
      "MARLOWE_ADDR = addr1w94f8ywk4fg672xasahtk4t9k6w3aql943uxz5rt62d4dvq8evxaf\n"
     ]
    }
   ],
   "source": [
    "MARLOWE_ADDR=$(marlowe-cli contract address \"${MAGIC[@]}\")\n",
    "echo \"MARLOWE_ADDR = $MARLOWE_ADDR\""
   ]
  },
  {
   "cell_type": "code",
   "execution_count": 47,
   "id": "1b76751d-058f-4e52-a989-427bdfdc2f1c",
   "metadata": {},
   "outputs": [
    {
     "name": "stdout",
     "output_type": "stream",
     "text": [
      "https://pool.pm/addr1w94f8ywk4fg672xasahtk4t9k6w3aql943uxz5rt62d4dvq8evxaf\n"
     ]
    }
   ],
   "source": [
    "echo \"https://pool.pm/$MARLOWE_ADDR\""
   ]
  }
 ],
 "metadata": {
  "kernelspec": {
   "display_name": "Bash - Marlowe",
   "language": "bash",
   "name": "bash_marlowe"
  },
  "language_info": {
   "codemirror_mode": "shell",
   "file_extension": ".sh",
   "mimetype": "text/x-sh",
   "name": "/nix/store/p7bpdnxqd3i5hwm92mrscf7mvxk66404-bash-5.1-p16/bin/bash"
  }
 },
 "nbformat": 4,
 "nbformat_minor": 5
}
