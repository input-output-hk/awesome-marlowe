{
 "cells": [
  {
   "cell_type": "markdown",
   "id": "998bd51f-18e3-482a-99ce-4637d8b83434",
   "metadata": {},
   "source": [
    "## <font color=\"red\">Caution!</font>\n",
    "\n",
    "Before running a Marlowe contract on `mainnet`, it is wise to do the following in order to avoid losing funds:\n",
    "\n",
    "1. Understand the [Marlowe Language](https://marlowe.iohk.io/).\n",
    "2. Understand Cardano\\'s [Extended UTxO Model](https://docs.cardano.org/learn/eutxo-explainer).\n",
    "3. Read and understand the [Marlowe Best Practices Guide](https://github.com/input-output-hk/marlowe-cardano/blob/main/marlowe/best-practices.md).\n",
    "4. Read and understand the [Marlowe Security Guide](https://github.com/input-output-hk/marlowe-cardano/blob/main/marlowe/security.md).\n",
    "5. Use [Marlowe Playground](https://play.marlowe.iohk.io/) to flag warnings, perform static analysis, and simulate the contract.\n",
    "6. Use [Marlowe CLI\\'s](https://github.com/input-output-hk/marlowe-cardano/blob/main/marlowe-cli/ReadMe.md) `marlowe-cli run analyze` tool to study whether the contract can run on a Cardano network.\n",
    "7. Run *all execution paths* of the contract on a [Cardano testnet](https://docs.cardano.org/cardano-testnet/overview).\n",
    "\n",
    "---"
   ]
  },
  {
   "cell_type": "markdown",
   "id": "168f0ee1-37ba-4cd9-acdb-4e8723d760a1",
   "metadata": {},
   "source": [
    "# A Token Sale with Price Oracle\n",
    "\n",
    "This token sale uses a price oracle to set the cost of the tokens.\n",
    "\n",
    "This example consists of six transactions:\n",
    "1. John Webster creates the token-sale Marlowe contract.\n",
    "2. John Webster deposits 1,000,000 HOSKY tokens in the contract.\n",
    "3. The price oracle reports the exchange rate of 1 ADA = 11074197 HOSKY.\n",
    "4. Elizabeth Cary deposits 90,300 lovelace in the contract, causing the contract to pay the token to her and the Ada to John Webster.\n",
    "5. John Webster withdraws his lovelace from Marlowe's role-payout address.\n",
    "6. Elizabeth withdraws her 1,000,000 HOSKY from Marlowe' role-payout address.\n",
    "\n",
    "Here is the contract in Blockly format:\n",
    "\n",
    "![Token sale with price oracle](contract.png)"
   ]
  },
  {
   "cell_type": "markdown",
   "id": "79fd0207-0546-4d3b-bf42-676cd60b6bf6",
   "metadata": {},
   "source": [
    "## Set Up"
   ]
  },
  {
   "cell_type": "markdown",
   "id": "e4836e0a-bc90-493d-8a73-92f95e38ef89",
   "metadata": {},
   "source": [
    "Use `mainnet`."
   ]
  },
  {
   "cell_type": "code",
   "execution_count": 1,
   "id": "61fc626d-a2fb-4a26-a619-9c00a1413d26",
   "metadata": {},
   "outputs": [],
   "source": [
    ". ../../mainnet.env"
   ]
  },
  {
   "cell_type": "markdown",
   "id": "222170b0-1304-4ff4-b8e3-1e802f440cfa",
   "metadata": {},
   "source": [
    "Use the standard example roles."
   ]
  },
  {
   "cell_type": "code",
   "execution_count": 2,
   "id": "9c450ad6-7161-43c4-b9f7-a8dc45711c13",
   "metadata": {},
   "outputs": [],
   "source": [
    ". ../../dramatis-personae/roles.env"
   ]
  },
  {
   "cell_type": "markdown",
   "id": "4330f8ae-3f1b-4a61-b320-6e15433ae5d9",
   "metadata": {},
   "source": [
    "## Role tokens\n",
    "\n",
    "This contract uses [Ada Handles](https://adahandle.com/) as role tokens:\n",
    "- Elizabeth Carey = [\\$e.cary](https://pool.pm/asset1tx4euajkdczmkawgkjy342agaq33885dlvp0jl)\n",
    "- John Webster = [\\$j.webster](https://pool.pm/asset1zdcycnnmg6dx5dy030u4cu0zdn63r2scghg2p4)\n",
    "\n",
    "*Note: Only use a pre-minted token as a Marlowe role if you have reviewed the monetary policy for security vulnerabilities.*\n",
    "\n",
    "Here is the currency symbol for Ada handles on `mainnet`:"
   ]
  },
  {
   "cell_type": "code",
   "execution_count": 3,
   "id": "952a4376-309e-4f04-b706-b7a334b54249",
   "metadata": {},
   "outputs": [
    {
     "name": "stdout",
     "output_type": "stream",
     "text": [
      "ROLES_CURRENCY = f0ff48bbb7bbe9d59a40f1ce90e9e9d0ff5002ec48f232b49ca0fb9a\n"
     ]
    }
   ],
   "source": [
    "echo \"ROLES_CURRENCY = $ROLES_CURRENCY\""
   ]
  },
  {
   "cell_type": "markdown",
   "id": "4065e0a5-5a63-4ea3-b208-099d0857ee06",
   "metadata": {},
   "source": [
    "## Policy ID for the HOSKY token"
   ]
  },
  {
   "cell_type": "markdown",
   "id": "231498a5-b40e-4ecb-bb61-63c32ac0668e",
   "metadata": {},
   "source": [
    "We previously minted the BearGarden token with the following policy."
   ]
  },
  {
   "cell_type": "code",
   "execution_count": 4,
   "id": "b7cf1638-2427-4108-a6b3-33a1ccbabd48",
   "metadata": {},
   "outputs": [
    {
     "name": "stdout",
     "output_type": "stream",
     "text": [
      "HOSKY_POLICY = a0028f350aaabe0545fdcb56b039bfb08e4bb4d8c4d7c3c7d481c235\n",
      "HOSKY_NAME = HOSKY\n"
     ]
    }
   ],
   "source": [
    "echo \"HOSKY_POLICY = $HOSKY_POLICY\"\n",
    "echo \"HOSKY_NAME = $HOSKY_NAME\""
   ]
  },
  {
   "cell_type": "markdown",
   "id": "1f5904e2-d96c-4447-9b79-a6703ef56ecf",
   "metadata": {},
   "source": [
    "## Initial funding"
   ]
  },
  {
   "cell_type": "markdown",
   "id": "93bac05f-307c-49e6-921f-2aa6148640f4",
   "metadata": {},
   "source": [
    "Send the HOSKY tokens from the faucet to John Webster."
   ]
  },
  {
   "cell_type": "code",
   "execution_count": 5,
   "id": "c2641efc-f061-4e44-a6df-41f2147eee26",
   "metadata": {},
   "outputs": [
    {
     "name": "stdout",
     "output_type": "stream",
     "text": [
      "TxId \"1c5c3c72808a76fe4148c83f1c323417d746259f01c1d9b50df1d251799d7e2f\"\n"
     ]
    }
   ],
   "source": [
    "ADA=1000000\n",
    "marlowe-cli transaction simple \\\n",
    "  --mainnet \\\n",
    "  --tx-in \"0f8060fd92a3918a9536f911f4e575fcbd9cad889e8d61807878f82d631be43d#4\" \\\n",
    "  --tx-out \"${ROLE_ADDR[j.webster]}+$((3 * ADA))+1000000 $HOSKY_POLICY.$HOSKY_NAME\" \\\n",
    "  --change-address \"$FAUCET_ADDR\" \\\n",
    "  --required-signer \"$FAUCET_SKEY\" \\\n",
    "  --out-file /dev/null \\\n",
    "  --submit 600"
   ]
  },
  {
   "cell_type": "markdown",
   "id": "40320913-181c-4ea5-abaf-36221c14bdc0",
   "metadata": {},
   "source": [
    "## The Marlowe contract\n",
    "\n",
    "The Marlowe contract is just a download of the JSON file for the Blockly-format contract designed in the [Marlowe Playground](https://play.marlowe.iohk.io/#/)."
   ]
  },
  {
   "cell_type": "code",
   "execution_count": 6,
   "id": "efad13ad-500b-43b1-b798-1ab42463a1d2",
   "metadata": {},
   "outputs": [
    {
     "name": "stdout",
     "output_type": "stream",
     "text": [
      "timeout: 1676767000000\n",
      "timeout_continuation: close\n",
      "when:\n",
      "- case:\n",
      "    deposits: 1000000\n",
      "    into_account:\n",
      "      role_token: j.webster\n",
      "    of_token:\n",
      "      currency_symbol: a0028f350aaabe0545fdcb56b039bfb08e4bb4d8c4d7c3c7d481c235\n",
      "      token_name: HOSKY\n",
      "    party:\n",
      "      role_token: j.webster\n",
      "  then:\n",
      "    timeout: 1676767100000\n",
      "    timeout_continuation: close\n",
      "    when:\n",
      "    - case:\n",
      "        choose_between:\n",
      "        - from: 1\n",
      "          to: 1000000000\n",
      "        for_choice:\n",
      "          choice_name: ADA_HOSKY\n",
      "          choice_owner:\n",
      "            address: addr1qy9prvx8ufwutkwxx9cmmuuajaqmjqwujqlp9d8pvg6gupcvluken35ncjnu0puetf5jvttedkze02d5kf890kquh60sut9jg7\n",
      "      then:\n",
      "        be:\n",
      "          by:\n",
      "            value_of_choice:\n",
      "              choice_name: ADA_HOSKY\n",
      "              choice_owner:\n",
      "                address: addr1qy9prvx8ufwutkwxx9cmmuuajaqmjqwujqlp9d8pvg6gupcvluken35ncjnu0puetf5jvttedkze02d5kf890kquh60sut9jg7\n",
      "          divide:\n",
      "            multiply:\n",
      "              amount_of_token:\n",
      "                currency_symbol: a0028f350aaabe0545fdcb56b039bfb08e4bb4d8c4d7c3c7d481c235\n",
      "                token_name: HOSKY\n",
      "              in_account:\n",
      "                role_token: j.webster\n",
      "            times: 1000000\n",
      "        let: Cost\n",
      "        then:\n",
      "          timeout: 1676767100000\n",
      "          timeout_continuation: close\n",
      "          when:\n",
      "          - case:\n",
      "              deposits:\n",
      "                use_value: Cost\n",
      "              into_account:\n",
      "                role_token: j.webster\n",
      "              of_token:\n",
      "                currency_symbol: ''\n",
      "                token_name: ''\n",
      "              party:\n",
      "                role_token: e.cary\n",
      "            then:\n",
      "              from_account:\n",
      "                role_token: j.webster\n",
      "              pay:\n",
      "                amount_of_token:\n",
      "                  currency_symbol: a0028f350aaabe0545fdcb56b039bfb08e4bb4d8c4d7c3c7d481c235\n",
      "                  token_name: HOSKY\n",
      "                in_account:\n",
      "                  role_token: j.webster\n",
      "              then: close\n",
      "              to:\n",
      "                party:\n",
      "                  role_token: e.cary\n",
      "              token:\n",
      "                currency_symbol: a0028f350aaabe0545fdcb56b039bfb08e4bb4d8c4d7c3c7d481c235\n",
      "                token_name: HOSKY\n"
     ]
    }
   ],
   "source": [
    "json2yaml contract.json"
   ]
  },
  {
   "cell_type": "markdown",
   "id": "107d7205-000c-417c-a85f-c4665eefd773",
   "metadata": {},
   "source": [
    "## Transaction 1. Create the contract\n",
    "\n",
    "We use Marlowe Runtime's command-line tool to build the transaction for creating the contract."
   ]
  },
  {
   "cell_type": "code",
   "execution_count": 7,
   "id": "f30f31cf-3c27-4d60-92de-35589317dad7",
   "metadata": {},
   "outputs": [
    {
     "name": "stdout",
     "output_type": "stream",
     "text": [
      "CONTRACT_ID = 2a30bc48422c5195907adc8a872fa87bc8c68d701f897ef116560fdc16aa7830#1\n"
     ]
    }
   ],
   "source": [
    "CONTRACT_ID=$(\n",
    "marlowe create \\\n",
    "  --core-file contract.json \\\n",
    "  --role-token-policy-id \"$ROLES_CURRENCY\" \\\n",
    "  --min-utxo \"$((3 * ADA))\" \\\n",
    "  --change-address \"$FAUCET_ADDR\" \\\n",
    "  --manual-sign tx-1.unsigned \\\n",
    "| jq -r 'fromjson | .contractId' \\\n",
    ")\n",
    "echo \"CONTRACT_ID = $CONTRACT_ID\""
   ]
  },
  {
   "cell_type": "markdown",
   "id": "01db117a-f6fd-44a3-9578-cd5deff31919",
   "metadata": {},
   "source": [
    "The contract can be signed an submitted with any wallet or service. For convenience, we use `marlowe-cli` here."
   ]
  },
  {
   "cell_type": "code",
   "execution_count": 8,
   "id": "012ca6b0-edaf-449d-9ccf-a6d64f6a14ec",
   "metadata": {},
   "outputs": [
    {
     "name": "stdout",
     "output_type": "stream",
     "text": [
      "TxId \"2a30bc48422c5195907adc8a872fa87bc8c68d701f897ef116560fdc16aa7830\"\n"
     ]
    }
   ],
   "source": [
    "marlowe-cli transaction submit \\\n",
    "  --mainnet \\\n",
    "  --tx-body-file tx-1.unsigned \\\n",
    "  --required-signer \"$FAUCET_SKEY\" \\\n",
    "  --timeout 600"
   ]
  },
  {
   "cell_type": "markdown",
   "id": "b6fa01c3-07e8-4dc3-9e0a-17da287f375d",
   "metadata": {},
   "source": [
    "View the contract with a Cardano explorer."
   ]
  },
  {
   "cell_type": "code",
   "execution_count": 9,
   "id": "cf0ef022-0e55-429a-88d4-4f1ef26c991d",
   "metadata": {},
   "outputs": [
    {
     "name": "stdout",
     "output_type": "stream",
     "text": [
      "https://cardanoscan.io/transaction/2a30bc48422c5195907adc8a872fa87bc8c68d701f897ef116560fdc16aa7830?tab=utxo\n"
     ]
    }
   ],
   "source": [
    "echo \"https://cardanoscan.io/transaction/${CONTRACT_ID%%#1}?tab=utxo\""
   ]
  },
  {
   "cell_type": "markdown",
   "id": "fb46f348-4102-4383-8901-a6594a76882a",
   "metadata": {},
   "source": [
    "We can use a tool such as `marlowe-pipe` to fetch the contract from the blockchain and display it."
   ]
  },
  {
   "cell_type": "code",
   "execution_count": 10,
   "id": "e9f3b695-3043-43ac-8326-37fd4260dcc5",
   "metadata": {},
   "outputs": [
    {
     "name": "stdout",
     "output_type": "stream",
     "text": [
      "creation:\n",
      "  output:\n",
      "    address: 716a9391d6aa51af28dd876ebb5565b69d1e83e5ac7861506bd29b56b0\n",
      "    assets:\n",
      "      ada: 3000000\n",
      "      tokens: []\n",
      "    datum:\n",
      "      marloweContract:\n",
      "        timeout: 1676767000000\n",
      "        timeout_continuation: close\n",
      "        when:\n",
      "        - case:\n",
      "            deposits: 1000000\n",
      "            into_account:\n",
      "              role_token: j.webster\n",
      "            of_token:\n",
      "              currency_symbol: a0028f350aaabe0545fdcb56b039bfb08e4bb4d8c4d7c3c7d481c235\n",
      "              token_name: HOSKY\n",
      "            party:\n",
      "              role_token: j.webster\n",
      "          then:\n",
      "            timeout: 1676767100000\n",
      "            timeout_continuation: close\n",
      "            when:\n",
      "            - case:\n",
      "                choose_between:\n",
      "                - from: 1\n",
      "                  to: 1000000000\n",
      "                for_choice:\n",
      "                  choice_name: ADA_HOSKY\n",
      "                  choice_owner:\n",
      "                    address: addr1qy9prvx8ufwutkwxx9cmmuuajaqmjqwujqlp9d8pvg6gupcvluken35ncjnu0puetf5jvttedkze02d5kf890kquh60sut9jg7\n",
      "              then:\n",
      "                be:\n",
      "                  by:\n",
      "                    value_of_choice:\n",
      "                      choice_name: ADA_HOSKY\n",
      "                      choice_owner:\n",
      "                        address: addr1qy9prvx8ufwutkwxx9cmmuuajaqmjqwujqlp9d8pvg6gupcvluken35ncjnu0puetf5jvttedkze02d5kf890kquh60sut9jg7\n",
      "                  divide:\n",
      "                    multiply:\n",
      "                      amount_of_token:\n",
      "                        currency_symbol: a0028f350aaabe0545fdcb56b039bfb08e4bb4d8c4d7c3c7d481c235\n",
      "                        token_name: HOSKY\n",
      "                      in_account:\n",
      "                        role_token: j.webster\n",
      "                    times: 1000000\n",
      "                let: Cost\n",
      "                then:\n",
      "                  timeout: 1676767100000\n",
      "                  timeout_continuation: close\n",
      "                  when:\n",
      "                  - case:\n",
      "                      deposits:\n",
      "                        use_value: Cost\n",
      "                      into_account:\n",
      "                        role_token: j.webster\n",
      "                      of_token:\n",
      "                        currency_symbol: ''\n",
      "                        token_name: ''\n",
      "                      party:\n",
      "                        role_token: e.cary\n",
      "                    then:\n",
      "                      from_account:\n",
      "                        role_token: j.webster\n",
      "                      pay:\n",
      "                        amount_of_token:\n",
      "                          currency_symbol: a0028f350aaabe0545fdcb56b039bfb08e4bb4d8c4d7c3c7d481c235\n",
      "                          token_name: HOSKY\n",
      "                        in_account:\n",
      "                          role_token: j.webster\n",
      "                      then: close\n",
      "                      to:\n",
      "                        party:\n",
      "                          role_token: e.cary\n",
      "                      token:\n",
      "                        currency_symbol: a0028f350aaabe0545fdcb56b039bfb08e4bb4d8c4d7c3c7d481c235\n",
      "                        token_name: HOSKY\n",
      "      marloweParams:\n",
      "        rolesCurrency: f0ff48bbb7bbe9d59a40f1ce90e9e9d0ff5002ec48f232b49ca0fb9a\n",
      "      marloweState:\n",
      "        accounts:\n",
      "        - - - address: addr1qy9prvx8ufwutkwxx9cmmuuajaqmjqwujqlp9d8pvg6gupcvluken35ncjnu0puetf5jvttedkze02d5kf890kquh60sut9jg7\n",
      "            - currency_symbol: ''\n",
      "              token_name: ''\n",
      "          - 3000000\n",
      "        boundValues: []\n",
      "        choices: []\n",
      "        minTime: 0\n",
      "    utxo:\n",
      "      txId: 2a30bc48422c5195907adc8a872fa87bc8c68d701f897ef116560fdc16aa7830\n",
      "      txIx: 1\n",
      "  payoutValidatorHash: 49076eab20243dc9462511fb98a9cfb719f86e9692288139b7c91df3\n",
      "response: info\n",
      "steps: []\n"
     ]
    }
   ],
   "source": [
    "echo '{\"request\" : \"get\", \"contractId\" : \"'\"$CONTRACT_ID\"'\"}' | marlowe-pipe 2> /dev/null | json2yaml"
   ]
  },
  {
   "cell_type": "markdown",
   "id": "d0ee3aa0-c7eb-46bb-99c7-b2fdd948db83",
   "metadata": {},
   "source": [
    "## Transaction 2. John Webster deposits the 1,000,000 HOSKY tokens into the contract"
   ]
  },
  {
   "cell_type": "code",
   "execution_count": 11,
   "id": "3a5d8d1f-89af-493e-a71e-437ef2eca707",
   "metadata": {},
   "outputs": [
    {
     "name": "stdout",
     "output_type": "stream",
     "text": [
      "TX_2 = 11f0141f19cf0cff9598c7c9c391ce19bcb7a373a87ae4b8fd4db18461221821\n"
     ]
    }
   ],
   "source": [
    "TX_2=$(\n",
    "marlowe deposit \\\n",
    "  --contract \"$CONTRACT_ID\" \\\n",
    "  --from-party \"${ROLE_NAME[j.webster]}\" \\\n",
    "  --to-party \"${ROLE_NAME[j.webster]}\" \\\n",
    "  --currency \"$HOSKY_POLICY\" \\\n",
    "  --token-name \"$HOSKY_NAME\" \\\n",
    "  --quantity 1000000 \\\n",
    "  --change-address \"${ROLE_ADDR[j.webster]}\" \\\n",
    "  --manual-sign tx-2.unsigned \\\n",
    "| jq -r 'fromjson | .txId' \\\n",
    ")\n",
    "echo \"TX_2 = $TX_2\""
   ]
  },
  {
   "cell_type": "markdown",
   "id": "0ba746c7-68f1-4edd-921c-b464df996bc3",
   "metadata": {},
   "source": [
    "Sign and submit the transaction."
   ]
  },
  {
   "cell_type": "code",
   "execution_count": 12,
   "id": "21001006-b1c2-4b84-89cb-19bf617d9871",
   "metadata": {},
   "outputs": [
    {
     "name": "stdout",
     "output_type": "stream",
     "text": [
      "TxId \"11f0141f19cf0cff9598c7c9c391ce19bcb7a373a87ae4b8fd4db18461221821\"\n"
     ]
    }
   ],
   "source": [
    "marlowe-cli transaction submit \\\n",
    "  --mainnet \\\n",
    "  --tx-body-file tx-2.unsigned \\\n",
    "  --required-signer \"${ROLE_SKEY[j.webster]}\" \\\n",
    "  --timeout 600"
   ]
  },
  {
   "cell_type": "markdown",
   "id": "48313008-89d0-496f-a240-26feaf4dbefb",
   "metadata": {},
   "source": [
    "See that the token has been deposited into the contract."
   ]
  },
  {
   "cell_type": "code",
   "execution_count": 13,
   "id": "9abc064a-5181-4ae8-9a8c-1e0453db328b",
   "metadata": {},
   "outputs": [
    {
     "name": "stdout",
     "output_type": "stream",
     "text": [
      "https://cardanoscan.io/transaction/11f0141f19cf0cff9598c7c9c391ce19bcb7a373a87ae4b8fd4db18461221821?tab=utxo\n"
     ]
    }
   ],
   "source": [
    "echo \"https://cardanoscan.io/transaction/$TX_2?tab=utxo\""
   ]
  },
  {
   "cell_type": "markdown",
   "id": "58e38076-f77d-400a-aa58-d2690ff6c527",
   "metadata": {},
   "source": [
    "View the output to the Marlowe contract to see that it now holds 1,000,000 HOSKY tokens."
   ]
  },
  {
   "cell_type": "code",
   "execution_count": 14,
   "id": "95464964-3a92-4b2a-bd91-9a4bf1cccb23",
   "metadata": {},
   "outputs": [
    {
     "name": "stdout",
     "output_type": "stream",
     "text": [
      "                           TxHash                                 TxIx        Amount\n",
      "--------------------------------------------------------------------------------------\n",
      "11f0141f19cf0cff9598c7c9c391ce19bcb7a373a87ae4b8fd4db18461221821     1        3000000 lovelace + 1000000 a0028f350aaabe0545fdcb56b039bfb08e4bb4d8c4d7c3c7d481c235.484f534b59 + TxOutDatumHash ScriptDataInBabbageEra \"320beb29eceb8eca03772d4bd6b4d37311374f24ee7e95fa853c8f80a88d5569\"\n"
     ]
    }
   ],
   "source": [
    "cardano-cli query utxo --mainnet --tx-in \"$TX_2#1\""
   ]
  },
  {
   "cell_type": "markdown",
   "id": "8d3c67a9-e5e0-4a44-be4a-6808deecd4e3",
   "metadata": {},
   "source": [
    "## Transaction 3. The prices oracle reports the exchange rate for ADA to HOSKY."
   ]
  },
  {
   "cell_type": "code",
   "execution_count": 15,
   "id": "c24e19db-e3d7-4c68-b74c-a28cd229c095",
   "metadata": {},
   "outputs": [
    {
     "name": "stdout",
     "output_type": "stream",
     "text": [
      "TX_3 = 353dc2b8e92615fd2f6654d22ad862a176f0fdc88277d0917236c8b39b1c7cb5\n"
     ]
    }
   ],
   "source": [
    "TX_3=$(\n",
    "marlowe choose \\\n",
    "  --contract \"$CONTRACT_ID\" \\\n",
    "  --party \"$FAUCET_ADDR\" \\\n",
    "  --choice \"ADA_HOSKY\" \\\n",
    "  --value 11074197 \\\n",
    "  --change-address \"$FAUCET_ADDR\" \\\n",
    "  --manual-sign tx-3.unsigned \\\n",
    "| jq -r 'fromjson | .txId' \\\n",
    ")\n",
    "echo \"TX_3 = $TX_3\""
   ]
  },
  {
   "cell_type": "markdown",
   "id": "914d2393-9024-4ec0-8847-5a677c024835",
   "metadata": {},
   "source": [
    "Sign and submit the transaction."
   ]
  },
  {
   "cell_type": "code",
   "execution_count": 16,
   "id": "57b35d32-5404-4f14-8b0e-2fba1413c952",
   "metadata": {},
   "outputs": [
    {
     "name": "stdout",
     "output_type": "stream",
     "text": [
      "TxId \"353dc2b8e92615fd2f6654d22ad862a176f0fdc88277d0917236c8b39b1c7cb5\"\n"
     ]
    }
   ],
   "source": [
    "marlowe-cli transaction submit \\\n",
    "  --mainnet \\\n",
    "  --tx-body-file tx-3.unsigned \\\n",
    "  --required-signer \"$FAUCET_SKEY\" \\\n",
    "  --timeout 600"
   ]
  },
  {
   "cell_type": "markdown",
   "id": "ff26ad3a-a2bf-4b9e-8e68-bc1acf961a63",
   "metadata": {},
   "source": [
    "See that the contract closes by paying the parties."
   ]
  },
  {
   "cell_type": "code",
   "execution_count": 17,
   "id": "94bcd1f3-7cf8-46e6-9303-119daa7103cc",
   "metadata": {},
   "outputs": [
    {
     "name": "stdout",
     "output_type": "stream",
     "text": [
      "https://cardanoscan.io/transaction/353dc2b8e92615fd2f6654d22ad862a176f0fdc88277d0917236c8b39b1c7cb5?tab=utxo\n"
     ]
    }
   ],
   "source": [
    "echo \"https://cardanoscan.io/transaction/$TX_3?tab=utxo\""
   ]
  },
  {
   "cell_type": "markdown",
   "id": "68581e4d-4bea-4e79-b38f-9f715d406641",
   "metadata": {},
   "source": [
    "## Transaction 4. Elizabeth Cary pays Ada into the contract, causing it to pay the parties.\n",
    "\n",
    "Examine the state of the contract to see that the cost of the HOSKY tokens was computed to be 90,300 lovelace. Because this is lower than the minimum-UTxO value for the ledger, Elizabeth Cary will actually be paying approximately 1 ada."
   ]
  },
  {
   "cell_type": "code",
   "execution_count": 18,
   "id": "98a8aec7-b777-4e31-a643-5640056419df",
   "metadata": {},
   "outputs": [
    {
     "name": "stdout",
     "output_type": "stream",
     "text": [
      "accounts:\n",
      "- - - address: addr1qy9prvx8ufwutkwxx9cmmuuajaqmjqwujqlp9d8pvg6gupcvluken35ncjnu0puetf5jvttedkze02d5kf890kquh60sut9jg7\n",
      "    - currency_symbol: ''\n",
      "      token_name: ''\n",
      "  - 3000000\n",
      "- - - role_token: j.webster\n",
      "    - currency_symbol: a0028f350aaabe0545fdcb56b039bfb08e4bb4d8c4d7c3c7d481c235\n",
      "      token_name: HOSKY\n",
      "  - 1000000\n",
      "boundValues:\n",
      "- - Cost\n",
      "  - 90300\n",
      "choices:\n",
      "- - choice_name: ADA_HOSKY\n",
      "    choice_owner:\n",
      "      address: addr1qy9prvx8ufwutkwxx9cmmuuajaqmjqwujqlp9d8pvg6gupcvluken35ncjnu0puetf5jvttedkze02d5kf890kquh60sut9jg7\n",
      "  - 11074197\n",
      "minTime: 1676748662000\n"
     ]
    }
   ],
   "source": [
    "echo '{\"request\" : \"get\", \"contractId\" : \"'\"$CONTRACT_ID\"'\"}' | marlowe-pipe 2> /dev/null | jq '.steps[1].scriptOutput.datum.marloweState' | json2yaml"
   ]
  },
  {
   "cell_type": "code",
   "execution_count": 19,
   "id": "ce4f0245-5972-424f-8ebb-e93fb37a4a19",
   "metadata": {},
   "outputs": [
    {
     "name": "stdout",
     "output_type": "stream",
     "text": [
      "TX_4 = ab6f688558f2014b05cf7035b915c3f1c9e13058319fa74584dc58e13cd66a43\n"
     ]
    }
   ],
   "source": [
    "TX_4=$(\n",
    "marlowe deposit \\\n",
    "  --contract \"$CONTRACT_ID\" \\\n",
    "  --from-party \"${ROLE_NAME[e.cary]}\" \\\n",
    "  --to-party \"${ROLE_NAME[j.webster]}\" \\\n",
    "  --lovelace 90300 \\\n",
    "  --change-address \"${ROLE_ADDR[e.cary]}\" \\\n",
    "  --manual-sign tx-4.unsigned \\\n",
    "| jq -r 'fromjson | .txId' \\\n",
    ")\n",
    "echo \"TX_4 = $TX_4\""
   ]
  },
  {
   "cell_type": "markdown",
   "id": "c3f8cc40-127e-4cbe-8d64-c2258e9ef364",
   "metadata": {},
   "source": [
    "Sign and submit the transaction."
   ]
  },
  {
   "cell_type": "code",
   "execution_count": 20,
   "id": "ef9bdb2d-2ac4-4bba-a58c-d5c462920337",
   "metadata": {},
   "outputs": [
    {
     "name": "stdout",
     "output_type": "stream",
     "text": [
      "TxId \"ab6f688558f2014b05cf7035b915c3f1c9e13058319fa74584dc58e13cd66a43\"\n"
     ]
    }
   ],
   "source": [
    "marlowe-cli transaction submit \\\n",
    "  --mainnet \\\n",
    "  --tx-body-file tx-4.unsigned \\\n",
    "  --required-signer \"${ROLE_SKEY[e.cary]}\" \\\n",
    "  --timeout 600"
   ]
  },
  {
   "cell_type": "markdown",
   "id": "94445db6-7ca5-4f20-8833-99930fb71f2c",
   "metadata": {},
   "source": [
    "See that the contract closes by paying the parties."
   ]
  },
  {
   "cell_type": "code",
   "execution_count": 21,
   "id": "82103e81-9e88-42b7-80e2-d24d9afbec36",
   "metadata": {},
   "outputs": [
    {
     "name": "stdout",
     "output_type": "stream",
     "text": [
      "https://cardanoscan.io/transaction/ab6f688558f2014b05cf7035b915c3f1c9e13058319fa74584dc58e13cd66a43?tab=utxo\n"
     ]
    }
   ],
   "source": [
    "echo \"https://cardanoscan.io/transaction/$TX_4?tab=utxo\""
   ]
  },
  {
   "cell_type": "markdown",
   "id": "633fae29-c0c5-414b-841f-f9e65f5baef9",
   "metadata": {},
   "source": [
    "## Transaction 4. John Webster withdraws his Ada from the role-payout address"
   ]
  },
  {
   "cell_type": "code",
   "execution_count": 22,
   "id": "345539c5-da01-4638-a517-e99d3bdab330",
   "metadata": {},
   "outputs": [
    {
     "name": "stdout",
     "output_type": "stream",
     "text": [
      "TX_5 = c7d683da1ecdf9d8b48e2322b8c5dd23d135d4c86403249794e1668288361d2d\n"
     ]
    }
   ],
   "source": [
    "TX_5=$(\n",
    "marlowe withdraw \\\n",
    "  --contract \"$CONTRACT_ID\" \\\n",
    "  --role \"${ROLE_NAME[j.webster]}\" \\\n",
    "  --change-address \"${ROLE_ADDR[j.webster]}\" \\\n",
    "  --manual-sign tx-5.unsigned \\\n",
    "| jq -r 'fromjson | .txId' \\\n",
    ")\n",
    "echo \"TX_5 = $TX_5\""
   ]
  },
  {
   "cell_type": "markdown",
   "id": "f0e2df23-a0ca-4817-bc11-262ffd8f4e81",
   "metadata": {},
   "source": [
    "Sign and submit the transaction."
   ]
  },
  {
   "cell_type": "code",
   "execution_count": 23,
   "id": "c927a71d-e5a8-427f-b58a-893f4af1c909",
   "metadata": {},
   "outputs": [
    {
     "name": "stdout",
     "output_type": "stream",
     "text": [
      "TxId \"c7d683da1ecdf9d8b48e2322b8c5dd23d135d4c86403249794e1668288361d2d\"\n"
     ]
    }
   ],
   "source": [
    "marlowe-cli transaction submit \\\n",
    "  --mainnet \\\n",
    "  --tx-body-file tx-5.unsigned \\\n",
    "  --required-signer \"${ROLE_SKEY[j.webster]}\" \\\n",
    "  --timeout 600"
   ]
  },
  {
   "cell_type": "markdown",
   "id": "d08c5790-5768-4df0-bec3-d84d684e0d86",
   "metadata": {},
   "source": [
    "See that John Webster has successfully withdrawn the Ada from the role-payout address."
   ]
  },
  {
   "cell_type": "code",
   "execution_count": 24,
   "id": "022ed494-270c-479d-abdb-59f8e23a3a75",
   "metadata": {},
   "outputs": [
    {
     "name": "stdout",
     "output_type": "stream",
     "text": [
      "https://cardanoscan.io/transaction/c7d683da1ecdf9d8b48e2322b8c5dd23d135d4c86403249794e1668288361d2d?tab=utxo\n"
     ]
    }
   ],
   "source": [
    "echo \"https://cardanoscan.io/transaction/$TX_5?tab=utxo\""
   ]
  },
  {
   "cell_type": "markdown",
   "id": "6e5178c0-bc2f-45e5-a532-e3461ed04ded",
   "metadata": {},
   "source": [
    "## Transaction 5. Elizabeth Cary withdraws her 1,000,000 HOSKY from the role-payout address"
   ]
  },
  {
   "cell_type": "code",
   "execution_count": 25,
   "id": "e5d3713d-a6d5-4b8f-9c30-d103faf172a9",
   "metadata": {},
   "outputs": [
    {
     "name": "stdout",
     "output_type": "stream",
     "text": [
      "TX_6 = 0b13b5d5e1d327dbeedf519c7973744d79c82d44128784b536fbbe2cb4a0569e\n"
     ]
    }
   ],
   "source": [
    "TX_6=$(\n",
    "marlowe withdraw \\\n",
    "  --contract \"$CONTRACT_ID\" \\\n",
    "  --role \"${ROLE_NAME[e.cary]}\" \\\n",
    "  --change-address \"${ROLE_ADDR[e.cary]}\" \\\n",
    "  --manual-sign tx-6.unsigned \\\n",
    "| jq -r 'fromjson | .txId' \\\n",
    ")\n",
    "echo \"TX_6 = $TX_6\""
   ]
  },
  {
   "cell_type": "markdown",
   "id": "84048a76-a4f1-4c51-a142-5503af156949",
   "metadata": {},
   "source": [
    "Sign and submit the transaction."
   ]
  },
  {
   "cell_type": "code",
   "execution_count": 26,
   "id": "98d19566-1d90-422d-922e-195ccf1f2311",
   "metadata": {},
   "outputs": [
    {
     "name": "stdout",
     "output_type": "stream",
     "text": [
      "TxId \"0b13b5d5e1d327dbeedf519c7973744d79c82d44128784b536fbbe2cb4a0569e\"\n"
     ]
    }
   ],
   "source": [
    "marlowe-cli transaction submit \\\n",
    "  --mainnet \\\n",
    "  --tx-body-file tx-6.unsigned \\\n",
    "  --required-signer \"${ROLE_SKEY[e.cary]}\" \\\n",
    "  --timeout 600"
   ]
  },
  {
   "cell_type": "markdown",
   "id": "e0eff277-b778-4b67-8a49-3a3c540ca73c",
   "metadata": {},
   "source": [
    "See that Elizabeth Cary has successfully withdrawn the 1,000,000 HOSKY from the role-payout address."
   ]
  },
  {
   "cell_type": "code",
   "execution_count": 27,
   "id": "add749a7-0692-44ba-942b-d4c807b45b43",
   "metadata": {},
   "outputs": [
    {
     "name": "stdout",
     "output_type": "stream",
     "text": [
      "https://cardanoscan.io/transaction/0b13b5d5e1d327dbeedf519c7973744d79c82d44128784b536fbbe2cb4a0569e?tab=utxo\n"
     ]
    }
   ],
   "source": [
    "echo \"https://cardanoscan.io/transaction/$TX_6?tab=utxo\""
   ]
  },
  {
   "cell_type": "markdown",
   "id": "232272a5-11e9-49a6-9b7d-aa48601efc7c",
   "metadata": {},
   "source": [
    "## View the whole history of the contract\n",
    "\n",
    "We use `marlowe-pipe` to print the whole history of this contract."
   ]
  },
  {
   "cell_type": "code",
   "execution_count": 28,
   "id": "af1bed55-c542-43ee-87b6-85bbb1fa3de1",
   "metadata": {},
   "outputs": [
    {
     "name": "stdout",
     "output_type": "stream",
     "text": [
      "creation:\n",
      "  output:\n",
      "    address: 716a9391d6aa51af28dd876ebb5565b69d1e83e5ac7861506bd29b56b0\n",
      "    assets:\n",
      "      ada: 3000000\n",
      "      tokens: []\n",
      "    datum:\n",
      "      marloweContract:\n",
      "        timeout: 1676767000000\n",
      "        timeout_continuation: close\n",
      "        when:\n",
      "        - case:\n",
      "            deposits: 1000000\n",
      "            into_account:\n",
      "              role_token: j.webster\n",
      "            of_token:\n",
      "              currency_symbol: a0028f350aaabe0545fdcb56b039bfb08e4bb4d8c4d7c3c7d481c235\n",
      "              token_name: HOSKY\n",
      "            party:\n",
      "              role_token: j.webster\n",
      "          then:\n",
      "            timeout: 1676767100000\n",
      "            timeout_continuation: close\n",
      "            when:\n",
      "            - case:\n",
      "                choose_between:\n",
      "                - from: 1\n",
      "                  to: 1000000000\n",
      "                for_choice:\n",
      "                  choice_name: ADA_HOSKY\n",
      "                  choice_owner:\n",
      "                    address: addr1qy9prvx8ufwutkwxx9cmmuuajaqmjqwujqlp9d8pvg6gupcvluken35ncjnu0puetf5jvttedkze02d5kf890kquh60sut9jg7\n",
      "              then:\n",
      "                be:\n",
      "                  by:\n",
      "                    value_of_choice:\n",
      "                      choice_name: ADA_HOSKY\n",
      "                      choice_owner:\n",
      "                        address: addr1qy9prvx8ufwutkwxx9cmmuuajaqmjqwujqlp9d8pvg6gupcvluken35ncjnu0puetf5jvttedkze02d5kf890kquh60sut9jg7\n",
      "                  divide:\n",
      "                    multiply:\n",
      "                      amount_of_token:\n",
      "                        currency_symbol: a0028f350aaabe0545fdcb56b039bfb08e4bb4d8c4d7c3c7d481c235\n",
      "                        token_name: HOSKY\n",
      "                      in_account:\n",
      "                        role_token: j.webster\n",
      "                    times: 1000000\n",
      "                let: Cost\n",
      "                then:\n",
      "                  timeout: 1676767100000\n",
      "                  timeout_continuation: close\n",
      "                  when:\n",
      "                  - case:\n",
      "                      deposits:\n",
      "                        use_value: Cost\n",
      "                      into_account:\n",
      "                        role_token: j.webster\n",
      "                      of_token:\n",
      "                        currency_symbol: ''\n",
      "                        token_name: ''\n",
      "                      party:\n",
      "                        role_token: e.cary\n",
      "                    then:\n",
      "                      from_account:\n",
      "                        role_token: j.webster\n",
      "                      pay:\n",
      "                        amount_of_token:\n",
      "                          currency_symbol: a0028f350aaabe0545fdcb56b039bfb08e4bb4d8c4d7c3c7d481c235\n",
      "                          token_name: HOSKY\n",
      "                        in_account:\n",
      "                          role_token: j.webster\n",
      "                      then: close\n",
      "                      to:\n",
      "                        party:\n",
      "                          role_token: e.cary\n",
      "                      token:\n",
      "                        currency_symbol: a0028f350aaabe0545fdcb56b039bfb08e4bb4d8c4d7c3c7d481c235\n",
      "                        token_name: HOSKY\n",
      "      marloweParams:\n",
      "        rolesCurrency: f0ff48bbb7bbe9d59a40f1ce90e9e9d0ff5002ec48f232b49ca0fb9a\n",
      "      marloweState:\n",
      "        accounts:\n",
      "        - - - address: addr1qy9prvx8ufwutkwxx9cmmuuajaqmjqwujqlp9d8pvg6gupcvluken35ncjnu0puetf5jvttedkze02d5kf890kquh60sut9jg7\n",
      "            - currency_symbol: ''\n",
      "              token_name: ''\n",
      "          - 3000000\n",
      "        boundValues: []\n",
      "        choices: []\n",
      "        minTime: 0\n",
      "    utxo:\n",
      "      txId: 2a30bc48422c5195907adc8a872fa87bc8c68d701f897ef116560fdc16aa7830\n",
      "      txIx: 1\n",
      "  payoutValidatorHash: 49076eab20243dc9462511fb98a9cfb719f86e9692288139b7c91df3\n",
      "response: info\n",
      "steps:\n",
      "- contractId: 2a30bc48422c5195907adc8a872fa87bc8c68d701f897ef116560fdc16aa7830#1\n",
      "  payouts: []\n",
      "  redeemer:\n",
      "  - input_from_party:\n",
      "      role_token: j.webster\n",
      "    into_account:\n",
      "      role_token: j.webster\n",
      "    of_token:\n",
      "      currency_symbol: a0028f350aaabe0545fdcb56b039bfb08e4bb4d8c4d7c3c7d481c235\n",
      "      token_name: HOSKY\n",
      "    that_deposits: 1000000\n",
      "  scriptOutput:\n",
      "    address: 716a9391d6aa51af28dd876ebb5565b69d1e83e5ac7861506bd29b56b0\n",
      "    assets:\n",
      "      ada: 3000000\n",
      "      tokens:\n",
      "      - - policyId: a0028f350aaabe0545fdcb56b039bfb08e4bb4d8c4d7c3c7d481c235\n",
      "          tokenName: HOSKY\n",
      "        - 1000000\n",
      "    datum:\n",
      "      marloweContract:\n",
      "        timeout: 1676767100000\n",
      "        timeout_continuation: close\n",
      "        when:\n",
      "        - case:\n",
      "            choose_between:\n",
      "            - from: 1\n",
      "              to: 1000000000\n",
      "            for_choice:\n",
      "              choice_name: ADA_HOSKY\n",
      "              choice_owner:\n",
      "                address: addr1qy9prvx8ufwutkwxx9cmmuuajaqmjqwujqlp9d8pvg6gupcvluken35ncjnu0puetf5jvttedkze02d5kf890kquh60sut9jg7\n",
      "          then:\n",
      "            be:\n",
      "              by:\n",
      "                value_of_choice:\n",
      "                  choice_name: ADA_HOSKY\n",
      "                  choice_owner:\n",
      "                    address: addr1qy9prvx8ufwutkwxx9cmmuuajaqmjqwujqlp9d8pvg6gupcvluken35ncjnu0puetf5jvttedkze02d5kf890kquh60sut9jg7\n",
      "              divide:\n",
      "                multiply:\n",
      "                  amount_of_token:\n",
      "                    currency_symbol: a0028f350aaabe0545fdcb56b039bfb08e4bb4d8c4d7c3c7d481c235\n",
      "                    token_name: HOSKY\n",
      "                  in_account:\n",
      "                    role_token: j.webster\n",
      "                times: 1000000\n",
      "            let: Cost\n",
      "            then:\n",
      "              timeout: 1676767100000\n",
      "              timeout_continuation: close\n",
      "              when:\n",
      "              - case:\n",
      "                  deposits:\n",
      "                    use_value: Cost\n",
      "                  into_account:\n",
      "                    role_token: j.webster\n",
      "                  of_token:\n",
      "                    currency_symbol: ''\n",
      "                    token_name: ''\n",
      "                  party:\n",
      "                    role_token: e.cary\n",
      "                then:\n",
      "                  from_account:\n",
      "                    role_token: j.webster\n",
      "                  pay:\n",
      "                    amount_of_token:\n",
      "                      currency_symbol: a0028f350aaabe0545fdcb56b039bfb08e4bb4d8c4d7c3c7d481c235\n",
      "                      token_name: HOSKY\n",
      "                    in_account:\n",
      "                      role_token: j.webster\n",
      "                  then: close\n",
      "                  to:\n",
      "                    party:\n",
      "                      role_token: e.cary\n",
      "                  token:\n",
      "                    currency_symbol: a0028f350aaabe0545fdcb56b039bfb08e4bb4d8c4d7c3c7d481c235\n",
      "                    token_name: HOSKY\n",
      "      marloweParams:\n",
      "        rolesCurrency: f0ff48bbb7bbe9d59a40f1ce90e9e9d0ff5002ec48f232b49ca0fb9a\n",
      "      marloweState:\n",
      "        accounts:\n",
      "        - - - address: addr1qy9prvx8ufwutkwxx9cmmuuajaqmjqwujqlp9d8pvg6gupcvluken35ncjnu0puetf5jvttedkze02d5kf890kquh60sut9jg7\n",
      "            - currency_symbol: ''\n",
      "              token_name: ''\n",
      "          - 3000000\n",
      "        - - - role_token: j.webster\n",
      "            - currency_symbol: a0028f350aaabe0545fdcb56b039bfb08e4bb4d8c4d7c3c7d481c235\n",
      "              token_name: HOSKY\n",
      "          - 1000000\n",
      "        boundValues: []\n",
      "        choices: []\n",
      "        minTime: 1676748491000\n",
      "    utxo:\n",
      "      txId: 11f0141f19cf0cff9598c7c9c391ce19bcb7a373a87ae4b8fd4db18461221821\n",
      "      txIx: 1\n",
      "  step: apply\n",
      "  txId: 11f0141f19cf0cff9598c7c9c391ce19bcb7a373a87ae4b8fd4db18461221821\n",
      "- contractId: 2a30bc48422c5195907adc8a872fa87bc8c68d701f897ef116560fdc16aa7830#1\n",
      "  payouts: []\n",
      "  redeemer:\n",
      "  - for_choice_id:\n",
      "      choice_name: ADA_HOSKY\n",
      "      choice_owner:\n",
      "        address: addr1qy9prvx8ufwutkwxx9cmmuuajaqmjqwujqlp9d8pvg6gupcvluken35ncjnu0puetf5jvttedkze02d5kf890kquh60sut9jg7\n",
      "    input_that_chooses_num: 11074197\n",
      "  scriptOutput:\n",
      "    address: 716a9391d6aa51af28dd876ebb5565b69d1e83e5ac7861506bd29b56b0\n",
      "    assets:\n",
      "      ada: 3000000\n",
      "      tokens:\n",
      "      - - policyId: a0028f350aaabe0545fdcb56b039bfb08e4bb4d8c4d7c3c7d481c235\n",
      "          tokenName: HOSKY\n",
      "        - 1000000\n",
      "    datum:\n",
      "      marloweContract:\n",
      "        timeout: 1676767100000\n",
      "        timeout_continuation: close\n",
      "        when:\n",
      "        - case:\n",
      "            deposits:\n",
      "              use_value: Cost\n",
      "            into_account:\n",
      "              role_token: j.webster\n",
      "            of_token:\n",
      "              currency_symbol: ''\n",
      "              token_name: ''\n",
      "            party:\n",
      "              role_token: e.cary\n",
      "          then:\n",
      "            from_account:\n",
      "              role_token: j.webster\n",
      "            pay:\n",
      "              amount_of_token:\n",
      "                currency_symbol: a0028f350aaabe0545fdcb56b039bfb08e4bb4d8c4d7c3c7d481c235\n",
      "                token_name: HOSKY\n",
      "              in_account:\n",
      "                role_token: j.webster\n",
      "            then: close\n",
      "            to:\n",
      "              party:\n",
      "                role_token: e.cary\n",
      "            token:\n",
      "              currency_symbol: a0028f350aaabe0545fdcb56b039bfb08e4bb4d8c4d7c3c7d481c235\n",
      "              token_name: HOSKY\n",
      "      marloweParams:\n",
      "        rolesCurrency: f0ff48bbb7bbe9d59a40f1ce90e9e9d0ff5002ec48f232b49ca0fb9a\n",
      "      marloweState:\n",
      "        accounts:\n",
      "        - - - address: addr1qy9prvx8ufwutkwxx9cmmuuajaqmjqwujqlp9d8pvg6gupcvluken35ncjnu0puetf5jvttedkze02d5kf890kquh60sut9jg7\n",
      "            - currency_symbol: ''\n",
      "              token_name: ''\n",
      "          - 3000000\n",
      "        - - - role_token: j.webster\n",
      "            - currency_symbol: a0028f350aaabe0545fdcb56b039bfb08e4bb4d8c4d7c3c7d481c235\n",
      "              token_name: HOSKY\n",
      "          - 1000000\n",
      "        boundValues:\n",
      "        - - Cost\n",
      "          - 90300\n",
      "        choices:\n",
      "        - - choice_name: ADA_HOSKY\n",
      "            choice_owner:\n",
      "              address: addr1qy9prvx8ufwutkwxx9cmmuuajaqmjqwujqlp9d8pvg6gupcvluken35ncjnu0puetf5jvttedkze02d5kf890kquh60sut9jg7\n",
      "          - 11074197\n",
      "        minTime: 1676748662000\n",
      "    utxo:\n",
      "      txId: 353dc2b8e92615fd2f6654d22ad862a176f0fdc88277d0917236c8b39b1c7cb5\n",
      "      txIx: 1\n",
      "  step: apply\n",
      "  txId: 353dc2b8e92615fd2f6654d22ad862a176f0fdc88277d0917236c8b39b1c7cb5\n",
      "- contractId: 2a30bc48422c5195907adc8a872fa87bc8c68d701f897ef116560fdc16aa7830#1\n",
      "  payouts:\n",
      "  - - txId: ab6f688558f2014b05cf7035b915c3f1c9e13058319fa74584dc58e13cd66a43\n",
      "      txIx: 2\n",
      "    - address: 7149076eab20243dc9462511fb98a9cfb719f86e9692288139b7c91df3\n",
      "      assets:\n",
      "        ada: 1206800\n",
      "        tokens:\n",
      "        - - policyId: a0028f350aaabe0545fdcb56b039bfb08e4bb4d8c4d7c3c7d481c235\n",
      "            tokenName: HOSKY\n",
      "          - 1000000\n",
      "      datum:\n",
      "        policyId: f0ff48bbb7bbe9d59a40f1ce90e9e9d0ff5002ec48f232b49ca0fb9a\n",
      "        tokenName: e.cary\n",
      "  - - txId: ab6f688558f2014b05cf7035b915c3f1c9e13058319fa74584dc58e13cd66a43\n",
      "      txIx: 3\n",
      "    - address: 7149076eab20243dc9462511fb98a9cfb719f86e9692288139b7c91df3\n",
      "      assets:\n",
      "        ada: 1017160\n",
      "        tokens: []\n",
      "      datum:\n",
      "        policyId: f0ff48bbb7bbe9d59a40f1ce90e9e9d0ff5002ec48f232b49ca0fb9a\n",
      "        tokenName: j.webster\n",
      "  redeemer:\n",
      "  - input_from_party:\n",
      "      role_token: e.cary\n",
      "    into_account:\n",
      "      role_token: j.webster\n",
      "    of_token:\n",
      "      currency_symbol: ''\n",
      "      token_name: ''\n",
      "    that_deposits: 90300\n",
      "  scriptOutput: null\n",
      "  step: apply\n",
      "  txId: ab6f688558f2014b05cf7035b915c3f1c9e13058319fa74584dc58e13cd66a43\n",
      "- datumm:\n",
      "    policyId: f0ff48bbb7bbe9d59a40f1ce90e9e9d0ff5002ec48f232b49ca0fb9a\n",
      "    tokenName: j.webster\n",
      "  redeemingTx: c7d683da1ecdf9d8b48e2322b8c5dd23d135d4c86403249794e1668288361d2d\n",
      "  step: payout\n",
      "  utxo:\n",
      "    txId: ab6f688558f2014b05cf7035b915c3f1c9e13058319fa74584dc58e13cd66a43\n",
      "    txIx: 3\n"
     ]
    }
   ],
   "source": [
    "echo '{\"request\" : \"get\", \"contractId\" : \"'\"$CONTRACT_ID\"'\"}' | marlowe-pipe 2> /dev/null | json2yaml"
   ]
  },
  {
   "cell_type": "markdown",
   "id": "00749700-1de6-4ceb-b723-761d2211c8b4",
   "metadata": {},
   "source": [
    "## Return the HOSKY tokens to the faucet\n",
    "\n",
    "Returning the token to the faucet is convenient housekeeping for this example."
   ]
  },
  {
   "cell_type": "code",
   "execution_count": 29,
   "id": "3f62bbd8-1228-4ac2-ad5e-dc682616c468",
   "metadata": {},
   "outputs": [
    {
     "name": "stdout",
     "output_type": "stream",
     "text": [
      "TxId \"3c262668919ee8605f81f568f4dc5984d27204449a5b14c6af379e94bdb7ab74\"\n"
     ]
    }
   ],
   "source": [
    "marlowe-cli transaction simple \\\n",
    "  --mainnet \\\n",
    "  --tx-in \"0b13b5d5e1d327dbeedf519c7973744d79c82d44128784b536fbbe2cb4a0569e#0\" \\\n",
    "  --tx-in \"0b13b5d5e1d327dbeedf519c7973744d79c82d44128784b536fbbe2cb4a0569e#2\" \\\n",
    "  --tx-out \"$FAUCET_ADDR+$((3 * ADA))+1000000 $HOSKY_POLICY.$HOSKY_NAME\" \\\n",
    "  --change-address \"${ROLE_ADDR[e.cary]}\" \\\n",
    "  --required-signer \"${ROLE_SKEY[e.cary]}\" \\\n",
    "  --out-file /dev/null \\\n",
    "  --submit 600"
   ]
  }
 ],
 "metadata": {
  "kernelspec": {
   "display_name": "Bash - Marlowe",
   "language": "bash",
   "name": "bash_marlowe"
  },
  "language_info": {
   "codemirror_mode": "shell",
   "file_extension": ".sh",
   "mimetype": "text/x-sh",
   "name": "/nix/store/p7bpdnxqd3i5hwm92mrscf7mvxk66404-bash-5.1-p16/bin/bash"
  }
 },
 "nbformat": 4,
 "nbformat_minor": 5
}
