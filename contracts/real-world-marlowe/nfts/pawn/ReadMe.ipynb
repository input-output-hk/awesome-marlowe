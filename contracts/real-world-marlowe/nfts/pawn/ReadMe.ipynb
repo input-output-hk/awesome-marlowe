{
 "cells": [
  {
   "cell_type": "markdown",
   "id": "d33d4002-eab9-4b2e-871d-8c55e410b6d1",
   "metadata": {},
   "source": [
    "## <font color=\"red\">Caution!</font>\n",
    "\n",
    "Before running a Marlowe contract on `mainnet`, it is wise to do the following in order to avoid losing funds:\n",
    "\n",
    "1. Understand the [Marlowe Language](https://marlowe.iohk.io/).\n",
    "2. Understand Cardano\\'s [Extended UTxO Model](https://docs.cardano.org/learn/eutxo-explainer).\n",
    "3. Read and understand the [Marlowe Best Practices Guide](https://github.com/input-output-hk/marlowe-cardano/blob/main/marlowe/best-practices.md).\n",
    "4. Read and understand the [Marlowe Security Guide](https://github.com/input-output-hk/marlowe-cardano/blob/main/marlowe/security.md).\n",
    "5. Use [Marlowe Playground](https://play.marlowe.iohk.io/) to flag warnings, perform static analysis, and simulate the contract.\n",
    "6. Use [Marlowe CLI\\'s](https://github.com/input-output-hk/marlowe-cardano/blob/main/marlowe-cli/ReadMe.md) `marlowe-cli run analyze` tool to study whether the contract can run on a Cardano network.\n",
    "7. Run *all execution paths* of the contract on a [Cardano testnet](https://docs.cardano.org/cardano-testnet/overview).\n",
    "\n",
    "---"
   ]
  },
  {
   "cell_type": "markdown",
   "id": "0fafc279-76a1-4bee-931b-145f96313e3b",
   "metadata": {},
   "source": [
    "# Pawning an NFT for iUSD\n",
    "\n",
    "The party receives 100 iUSD for pawning a BearGarden token as collateral; if they pay back the 100 iUSD, they receive their BearGarden token back. However, at any time before such a redemption, the counterparty may decide to keep the BearGarden token.\n",
    "\n",
    "This example consists of six transactions:\n",
    "1. Elizabeth Cary creates the token-sale Marlowe contract.\n",
    "2. Elizabeth Cary deposits 1 BearGarden token in the contract.\n",
    "3. Mary Herbet deposits iUSD Djed in the contract, causing the contract to pay the 100 iUSD to the role-payout address for Elizabeth Cary.\n",
    "4. Elizabeth Cary withdraws her 100 iUSD from Marlowe's role-payout address.\n",
    "5. Later, Mary Herbert chooses to have the token withdrawn from the contract, depriving Elizabeth Cary of the chance to repay the 100 iUSD and receive her token back.\n",
    "6. Mary Herbert withdraws her 1 BearGarden token from Marlowe's role-payout address.\n",
    "\n",
    "Here is the contract in Blockly format:\n",
    "\n",
    "![Pawning an NFT](contract.png)"
   ]
  },
  {
   "cell_type": "markdown",
   "id": "07ad66b4-52bc-450f-90ca-c7c7a0ccf66e",
   "metadata": {},
   "source": [
    "## Set Up"
   ]
  },
  {
   "cell_type": "markdown",
   "id": "f2860ab6-29f4-4571-92b8-d53faad8d53b",
   "metadata": {},
   "source": [
    "Use `mainnet`."
   ]
  },
  {
   "cell_type": "code",
   "execution_count": 1,
   "id": "18eadf53-f319-4a3e-94c3-2f526e467787",
   "metadata": {},
   "outputs": [],
   "source": [
    ". ../../mainnet.env"
   ]
  },
  {
   "cell_type": "markdown",
   "id": "01c3bcfd-b534-4639-a6ef-8b47fd68a543",
   "metadata": {},
   "source": [
    "Use the standard example roles."
   ]
  },
  {
   "cell_type": "code",
   "execution_count": 2,
   "id": "f3b84135-f5ab-47a3-917d-6e8cc18b53a9",
   "metadata": {},
   "outputs": [],
   "source": [
    ". ../../dramatis-personae/roles.env"
   ]
  },
  {
   "cell_type": "markdown",
   "id": "030763a2-1c67-463c-aa47-d6d4020ed48c",
   "metadata": {},
   "source": [
    "## Role tokens\n",
    "\n",
    "This contract uses [Ada Handles](https://adahandle.com/) as role tokens:\n",
    "- Elizabeth Cary = [\\$e.cary](https://pool.pm/asset1tx4euajkdczmkawgkjy342agaq33885dlvp0jl)\n",
    "- Mary Herbert = [\\$m.herbert](https://pool.pm/asset1a38nhu84xquj7whe3xqr80uyf99mh2r7hzf277)\n",
    "\n",
    "*Note: Only use a pre-minted token as a Marlowe role if you have reviewed the monetary policy for security vulnerabilities.*\n",
    "\n",
    "Here is the currency symbol for Ada handles on `mainnet`:"
   ]
  },
  {
   "cell_type": "code",
   "execution_count": 3,
   "id": "31b3ae67-4374-4a71-99d8-fa454b4f9d0a",
   "metadata": {},
   "outputs": [
    {
     "name": "stdout",
     "output_type": "stream",
     "text": [
      "ROLES_CURRENCY = f0ff48bbb7bbe9d59a40f1ce90e9e9d0ff5002ec48f232b49ca0fb9a\n"
     ]
    }
   ],
   "source": [
    "echo \"ROLES_CURRENCY = $ROLES_CURRENCY\""
   ]
  },
  {
   "cell_type": "markdown",
   "id": "ffed3ada-c22d-4a71-8502-02051a23ca80",
   "metadata": {},
   "source": [
    "## Policy ID for the BearGarden token"
   ]
  },
  {
   "cell_type": "markdown",
   "id": "2379b64b-4078-4ec6-86ab-e60ad8c5c75d",
   "metadata": {},
   "source": [
    "We previously minted the BearGarden token with the following policy."
   ]
  },
  {
   "cell_type": "code",
   "execution_count": 4,
   "id": "1904bda9-67d2-4c04-ba8a-d3bfe2d34f9c",
   "metadata": {},
   "outputs": [
    {
     "name": "stdout",
     "output_type": "stream",
     "text": [
      "FUNGIBLES_POLICY = 8bb3b343d8e404472337966a722150048c768d0a92a9813596c5338d\n"
     ]
    }
   ],
   "source": [
    "echo \"FUNGIBLES_POLICY = $FUNGIBLES_POLICY\""
   ]
  },
  {
   "cell_type": "markdown",
   "id": "6089cf8a-f1ac-47bf-a8c4-dccfe420c93d",
   "metadata": {},
   "source": [
    "## Policy IDs for iUSD\n",
    "\n",
    "Here are the policies for the stablecoins that we are using."
   ]
  },
  {
   "cell_type": "code",
   "execution_count": 5,
   "id": "7e652b8a-5478-4d71-a33a-c40a759ee4e1",
   "metadata": {},
   "outputs": [
    {
     "name": "stdout",
     "output_type": "stream",
     "text": [
      "IUSD_POLICY = f66d78b4a3cb3d37afa0ec36461e51ecbde00f26c8f0a68f94b69880\n",
      "IUSD_NAME = iUSD\n"
     ]
    }
   ],
   "source": [
    "echo \"IUSD_POLICY = $IUSD_POLICY\"\n",
    "echo \"IUSD_NAME = $IUSD_NAME\""
   ]
  },
  {
   "cell_type": "markdown",
   "id": "7b810dc9-83a5-4c75-b01f-ab496affd3f8",
   "metadata": {},
   "source": [
    "## Initial Funding"
   ]
  },
  {
   "cell_type": "markdown",
   "id": "d24a879f-f2e7-4e19-a570-18869c2dbb9d",
   "metadata": {},
   "source": [
    "Send the BearGarden fungible token from the faucet to Elizabeth Cary and the stablecoins to Mary Herbert."
   ]
  },
  {
   "cell_type": "code",
   "execution_count": 6,
   "id": "6f436a4c-a801-430a-bb3e-877e2f041161",
   "metadata": {},
   "outputs": [
    {
     "name": "stdout",
     "output_type": "stream",
     "text": [
      "TxId \"ab37dafea127cc78131781447874130272ca9e93094ea3dbc9a001c1a1d42c1f\"\n"
     ]
    }
   ],
   "source": [
    "ADA=1000000\n",
    "IUSD=1000000\n",
    "marlowe-cli transaction simple \\\n",
    "  --mainnet \\\n",
    "  --tx-in \"0afae60d6282c0f4d2f91eb3046b2e7c22489b70c97e4c18b92c0968403be754#0\" \\\n",
    "  --tx-in \"0afae60d6282c0f4d2f91eb3046b2e7c22489b70c97e4c18b92c0968403be754#2\" \\\n",
    "  --tx-in \"357298faa4c200ce3f1696671c0455be01866bdbcbfc80a3893d62e394b4a9c2#1\" \\\n",
    "  --tx-in \"46cccae10f766e788eb7f2f362072a2acc3b9a2138c435d63551323cc8cd158d#0\" \\\n",
    "  --tx-out \"${ROLE_ADDR[m.herbert]}+$((3 * ADA))+$((100 * IUSD)) $IUSD_POLICY.$IUSD_NAME\" \\\n",
    "  --tx-out \"${ROLE_ADDR[e.cary]}+$((3 * ADA))+1 $FUNGIBLES_POLICY.BearGarden\" \\\n",
    "  --tx-out \"$FAUCET_ADDR+$((3 * ADA))+498 $FUNGIBLES_POLICY.BearGarden\" \\\n",
    "  --change-address \"$FAUCET_ADDR\" \\\n",
    "  --required-signer \"$FAUCET_SKEY\" \\\n",
    "  --out-file /dev/null \\\n",
    "  --submit 600"
   ]
  },
  {
   "cell_type": "markdown",
   "id": "18d01388-a359-4f58-a49e-4927a0a5a454",
   "metadata": {},
   "source": [
    "## The Marlowe contract\n",
    "\n",
    "The Marlowe contract is just a download of the JSON file for the Blockly-format contract designed in the [Marlowe Playground](https://play.marlowe.iohk.io/#/)."
   ]
  },
  {
   "cell_type": "code",
   "execution_count": 7,
   "id": "6c9c0330-ad86-4704-90f8-d798d7d7562a",
   "metadata": {},
   "outputs": [
    {
     "name": "stdout",
     "output_type": "stream",
     "text": [
      "timeout: 1676679830000\n",
      "timeout_continuation: close\n",
      "when:\n",
      "- case:\n",
      "    deposits: 1\n",
      "    into_account:\n",
      "      role_token: e.cary\n",
      "    of_token:\n",
      "      currency_symbol: 8bb3b343d8e404472337966a722150048c768d0a92a9813596c5338d\n",
      "      token_name: BearGarden\n",
      "    party:\n",
      "      role_token: e.cary\n",
      "  then:\n",
      "    timeout: 1676679840000\n",
      "    timeout_continuation: close\n",
      "    when:\n",
      "    - case:\n",
      "        deposits: 100000000\n",
      "        into_account:\n",
      "          role_token: m.herbert\n",
      "        of_token:\n",
      "          currency_symbol: f66d78b4a3cb3d37afa0ec36461e51ecbde00f26c8f0a68f94b69880\n",
      "          token_name: iUSD\n",
      "        party:\n",
      "          role_token: m.herbert\n",
      "      then:\n",
      "        from_account:\n",
      "          role_token: m.herbert\n",
      "        pay: 100000000\n",
      "        then:\n",
      "          from_account:\n",
      "            role_token: e.cary\n",
      "          pay: 1\n",
      "          then:\n",
      "            timeout: 1676679850000\n",
      "            timeout_continuation: close\n",
      "            when:\n",
      "            - case:\n",
      "                deposits: 100000000\n",
      "                into_account:\n",
      "                  role_token: m.herbert\n",
      "                of_token:\n",
      "                  currency_symbol: f66d78b4a3cb3d37afa0ec36461e51ecbde00f26c8f0a68f94b69880\n",
      "                  token_name: iUSD\n",
      "                party:\n",
      "                  role_token: e.cary\n",
      "              then:\n",
      "                from_account:\n",
      "                  role_token: m.herbert\n",
      "                pay: 1\n",
      "                then: close\n",
      "                to:\n",
      "                  party:\n",
      "                    role_token: e.cary\n",
      "                token:\n",
      "                  currency_symbol: 8bb3b343d8e404472337966a722150048c768d0a92a9813596c5338d\n",
      "                  token_name: BearGarden\n",
      "            - case:\n",
      "                choose_between:\n",
      "                - from: 0\n",
      "                  to: 0\n",
      "                for_choice:\n",
      "                  choice_name: Withdraw Token\n",
      "                  choice_owner:\n",
      "                    role_token: m.herbert\n",
      "              then: close\n",
      "          to:\n",
      "            account:\n",
      "              role_token: m.herbert\n",
      "          token:\n",
      "            currency_symbol: 8bb3b343d8e404472337966a722150048c768d0a92a9813596c5338d\n",
      "            token_name: BearGarden\n",
      "        to:\n",
      "          party:\n",
      "            role_token: e.cary\n",
      "        token:\n",
      "          currency_symbol: f66d78b4a3cb3d37afa0ec36461e51ecbde00f26c8f0a68f94b69880\n",
      "          token_name: iUSD\n"
     ]
    }
   ],
   "source": [
    "json2yaml contract.json"
   ]
  },
  {
   "cell_type": "markdown",
   "id": "f8c4dbbf-f861-438a-a5bc-bf6d3af3d27f",
   "metadata": {},
   "source": [
    "## Transaction 1. Create the contract\n",
    "\n",
    "We use Marlowe Runtime's command-line tool to build the transaction for creating the contract."
   ]
  },
  {
   "cell_type": "code",
   "execution_count": 8,
   "id": "43d8526a-4edf-4baf-98f7-2509a2320a19",
   "metadata": {},
   "outputs": [
    {
     "name": "stdout",
     "output_type": "stream",
     "text": [
      "CONTRACT_ID = 9f56ccd99e5ee8f4bc92fb229ffaaafa7bd5f0bbf72dd3d7071b0b4cc11df7cd#1\n"
     ]
    }
   ],
   "source": [
    "CONTRACT_ID=$(\n",
    "marlowe create \\\n",
    "  --core-file contract.json \\\n",
    "  --role-token-policy-id \"$ROLES_CURRENCY\" \\\n",
    "  --min-utxo \"$((3 * ADA))\" \\\n",
    "  --change-address \"$FAUCET_ADDR\" \\\n",
    "  --manual-sign tx-1.unsigned \\\n",
    "| jq -r 'fromjson | .contractId' \\\n",
    ")\n",
    "echo \"CONTRACT_ID = $CONTRACT_ID\""
   ]
  },
  {
   "cell_type": "markdown",
   "id": "44313727-26ab-4ee6-a922-9859e9328c5d",
   "metadata": {},
   "source": [
    "The contract can be signed an submitted with any wallet or service. For convenience, we use `marlowe-cli` here."
   ]
  },
  {
   "cell_type": "code",
   "execution_count": 9,
   "id": "71cd4d41-0647-4013-b921-ea3491e7ffa8",
   "metadata": {},
   "outputs": [
    {
     "name": "stdout",
     "output_type": "stream",
     "text": [
      "TxId \"9f56ccd99e5ee8f4bc92fb229ffaaafa7bd5f0bbf72dd3d7071b0b4cc11df7cd\"\n"
     ]
    }
   ],
   "source": [
    "marlowe-cli transaction submit \\\n",
    "  --mainnet \\\n",
    "  --tx-body-file tx-1.unsigned \\\n",
    "  --required-signer \"$FAUCET_SKEY\" \\\n",
    "  --timeout 600"
   ]
  },
  {
   "cell_type": "markdown",
   "id": "da222499-c9b2-4049-9dcd-bea0f76f92d4",
   "metadata": {},
   "source": [
    "View the contract on a Cardano explorer."
   ]
  },
  {
   "cell_type": "code",
   "execution_count": 10,
   "id": "edbcd13f-c143-40ba-b5f3-1c09543cd9d1",
   "metadata": {},
   "outputs": [
    {
     "name": "stdout",
     "output_type": "stream",
     "text": [
      "https://cardanoscan.io/transaction/9f56ccd99e5ee8f4bc92fb229ffaaafa7bd5f0bbf72dd3d7071b0b4cc11df7cd?tab=utxo\n"
     ]
    }
   ],
   "source": [
    "echo \"https://cardanoscan.io/transaction/${CONTRACT_ID%%#1}?tab=utxo\""
   ]
  },
  {
   "cell_type": "markdown",
   "id": "5bd2329b-3c88-4b60-9ac9-b97c162e8f78",
   "metadata": {},
   "source": [
    "We can use a tool such as `marlowe-pipe` to fetch the contract from the blockchain and display it."
   ]
  },
  {
   "cell_type": "code",
   "execution_count": 11,
   "id": "d965d4fd-e5bb-4ee0-9d5f-fba08f8952a9",
   "metadata": {},
   "outputs": [
    {
     "name": "stdout",
     "output_type": "stream",
     "text": [
      "creation:\n",
      "  output:\n",
      "    address: 716a9391d6aa51af28dd876ebb5565b69d1e83e5ac7861506bd29b56b0\n",
      "    assets:\n",
      "      ada: 3000000\n",
      "      tokens: []\n",
      "    datum:\n",
      "      marloweContract:\n",
      "        timeout: 1676679830000\n",
      "        timeout_continuation: close\n",
      "        when:\n",
      "        - case:\n",
      "            deposits: 1\n",
      "            into_account:\n",
      "              role_token: e.cary\n",
      "            of_token:\n",
      "              currency_symbol: 8bb3b343d8e404472337966a722150048c768d0a92a9813596c5338d\n",
      "              token_name: BearGarden\n",
      "            party:\n",
      "              role_token: e.cary\n",
      "          then:\n",
      "            timeout: 1676679840000\n",
      "            timeout_continuation: close\n",
      "            when:\n",
      "            - case:\n",
      "                deposits: 100000000\n",
      "                into_account:\n",
      "                  role_token: m.herbert\n",
      "                of_token:\n",
      "                  currency_symbol: f66d78b4a3cb3d37afa0ec36461e51ecbde00f26c8f0a68f94b69880\n",
      "                  token_name: iUSD\n",
      "                party:\n",
      "                  role_token: m.herbert\n",
      "              then:\n",
      "                from_account:\n",
      "                  role_token: m.herbert\n",
      "                pay: 100000000\n",
      "                then:\n",
      "                  from_account:\n",
      "                    role_token: e.cary\n",
      "                  pay: 1\n",
      "                  then:\n",
      "                    timeout: 1676679850000\n",
      "                    timeout_continuation: close\n",
      "                    when:\n",
      "                    - case:\n",
      "                        deposits: 100000000\n",
      "                        into_account:\n",
      "                          role_token: m.herbert\n",
      "                        of_token:\n",
      "                          currency_symbol: f66d78b4a3cb3d37afa0ec36461e51ecbde00f26c8f0a68f94b69880\n",
      "                          token_name: iUSD\n",
      "                        party:\n",
      "                          role_token: e.cary\n",
      "                      then:\n",
      "                        from_account:\n",
      "                          role_token: m.herbert\n",
      "                        pay: 1\n",
      "                        then: close\n",
      "                        to:\n",
      "                          party:\n",
      "                            role_token: e.cary\n",
      "                        token:\n",
      "                          currency_symbol: 8bb3b343d8e404472337966a722150048c768d0a92a9813596c5338d\n",
      "                          token_name: BearGarden\n",
      "                    - case:\n",
      "                        choose_between:\n",
      "                        - from: 0\n",
      "                          to: 0\n",
      "                        for_choice:\n",
      "                          choice_name: Withdraw Token\n",
      "                          choice_owner:\n",
      "                            role_token: m.herbert\n",
      "                      then: close\n",
      "                  to:\n",
      "                    account:\n",
      "                      role_token: m.herbert\n",
      "                  token:\n",
      "                    currency_symbol: 8bb3b343d8e404472337966a722150048c768d0a92a9813596c5338d\n",
      "                    token_name: BearGarden\n",
      "                to:\n",
      "                  party:\n",
      "                    role_token: e.cary\n",
      "                token:\n",
      "                  currency_symbol: f66d78b4a3cb3d37afa0ec36461e51ecbde00f26c8f0a68f94b69880\n",
      "                  token_name: iUSD\n",
      "      marloweParams:\n",
      "        rolesCurrency: f0ff48bbb7bbe9d59a40f1ce90e9e9d0ff5002ec48f232b49ca0fb9a\n",
      "      marloweState:\n",
      "        accounts:\n",
      "        - - - address: addr1qy9prvx8ufwutkwxx9cmmuuajaqmjqwujqlp9d8pvg6gupcvluken35ncjnu0puetf5jvttedkze02d5kf890kquh60sut9jg7\n",
      "            - currency_symbol: ''\n",
      "              token_name: ''\n",
      "          - 3000000\n",
      "        boundValues: []\n",
      "        choices: []\n",
      "        minTime: 0\n",
      "    utxo:\n",
      "      txId: 9f56ccd99e5ee8f4bc92fb229ffaaafa7bd5f0bbf72dd3d7071b0b4cc11df7cd\n",
      "      txIx: 1\n",
      "  payoutValidatorHash: 49076eab20243dc9462511fb98a9cfb719f86e9692288139b7c91df3\n",
      "response: info\n",
      "steps: []\n"
     ]
    }
   ],
   "source": [
    "echo '{\"request\" : \"get\", \"contractId\" : \"'\"$CONTRACT_ID\"'\"}' | marlowe-pipe 2> /dev/null | json2yaml"
   ]
  },
  {
   "cell_type": "markdown",
   "id": "0ebe8f27-6e07-48f8-929c-cc7a3cc5090c",
   "metadata": {},
   "source": [
    "## Transaction 2. Elizabeth Cary deposits the BearGarden token into the contract\n",
    "\n",
    "The logic of the contract dictates that Elizabeth Cary deposits one BearGarden token into her account in the Marlowe contract."
   ]
  },
  {
   "cell_type": "code",
   "execution_count": 12,
   "id": "74edf442-004b-4908-b362-4b1d08eeefa0",
   "metadata": {},
   "outputs": [
    {
     "name": "stdout",
     "output_type": "stream",
     "text": [
      "TX_2 = 36b7532ccc7ab0f802e2ba9986606ca1c5aa4fc69998e8c7c3fe64b23bce896f\n"
     ]
    }
   ],
   "source": [
    "TX_2=$(\n",
    "marlowe deposit \\\n",
    "  --contract \"$CONTRACT_ID\" \\\n",
    "  --from-party \"${ROLE_NAME[e.cary]}\" \\\n",
    "  --to-party \"${ROLE_NAME[e.cary]}\" \\\n",
    "  --currency \"$FUNGIBLES_POLICY\" \\\n",
    "  --token-name BearGarden \\\n",
    "  --quantity 1 \\\n",
    "  --change-address \"${ROLE_ADDR[e.cary]}\" \\\n",
    "  --manual-sign tx-2.unsigned \\\n",
    "| jq -r 'fromjson | .txId' \\\n",
    ")\n",
    "echo \"TX_2 = $TX_2\""
   ]
  },
  {
   "cell_type": "markdown",
   "id": "443e13a6-9b07-4716-abdd-66d146ed0b12",
   "metadata": {},
   "source": [
    "Sign and submit the transaction."
   ]
  },
  {
   "cell_type": "code",
   "execution_count": 13,
   "id": "8d2fd190-7d05-47f4-95ad-9da9a6e3d84e",
   "metadata": {},
   "outputs": [
    {
     "name": "stdout",
     "output_type": "stream",
     "text": [
      "TxId \"36b7532ccc7ab0f802e2ba9986606ca1c5aa4fc69998e8c7c3fe64b23bce896f\"\n"
     ]
    }
   ],
   "source": [
    "marlowe-cli transaction submit \\\n",
    "  --mainnet \\\n",
    "  --tx-body-file tx-2.unsigned \\\n",
    "  --required-signer \"${ROLE_SKEY[e.cary]}\" \\\n",
    "  --timeout 600"
   ]
  },
  {
   "cell_type": "markdown",
   "id": "5f569bea-1c41-4b19-907c-b72db23d268c",
   "metadata": {},
   "source": [
    "See the transaction that deposits the token."
   ]
  },
  {
   "cell_type": "code",
   "execution_count": 14,
   "id": "f08aa49c-5ec5-4d69-993c-e100c8b96836",
   "metadata": {},
   "outputs": [
    {
     "name": "stdout",
     "output_type": "stream",
     "text": [
      "https://cardanoscan.io/transaction/36b7532ccc7ab0f802e2ba9986606ca1c5aa4fc69998e8c7c3fe64b23bce896f?tab=utxo\n"
     ]
    }
   ],
   "source": [
    "echo \"https://cardanoscan.io/transaction/$TX_2?tab=utxo\""
   ]
  },
  {
   "cell_type": "markdown",
   "id": "2b9c6417-a84b-42b8-9b3e-3726faf48866",
   "metadata": {},
   "source": [
    "View the output to the Marlowe contract to see that it now holds 1 BearGarden token."
   ]
  },
  {
   "cell_type": "code",
   "execution_count": 15,
   "id": "72885ce2-a709-43ae-b7d8-cd3886ca7fa0",
   "metadata": {},
   "outputs": [
    {
     "name": "stdout",
     "output_type": "stream",
     "text": [
      "                           TxHash                                 TxIx        Amount\n",
      "--------------------------------------------------------------------------------------\n",
      "36b7532ccc7ab0f802e2ba9986606ca1c5aa4fc69998e8c7c3fe64b23bce896f     1        3000000 lovelace + 1 8bb3b343d8e404472337966a722150048c768d0a92a9813596c5338d.4265617247617264656e + TxOutDatumHash ScriptDataInBabbageEra \"15bf522d1bc4ad3ba63c93d193a736905a3db4bf6cd5ef8849a82874cbe7d6f2\"\n"
     ]
    }
   ],
   "source": [
    "cardano-cli query utxo --mainnet --tx-in \"$TX_2#1\""
   ]
  },
  {
   "cell_type": "markdown",
   "id": "8715e151-1c98-4248-b44c-c4f094d747b3",
   "metadata": {},
   "source": [
    "## Transaction 3. Mary Herbert deposits 100 iUSD into the contract, causing it to pay the Elizabeth Cary.\n",
    "\n",
    "Depositing the 100 Djed causes the contract to pay 100 iUSD for the benefit of Elizabeth Cary."
   ]
  },
  {
   "cell_type": "code",
   "execution_count": 16,
   "id": "76efe0e5-0736-4cf6-ace2-e0971ce34f48",
   "metadata": {},
   "outputs": [
    {
     "name": "stdout",
     "output_type": "stream",
     "text": [
      "TX_3 = 542117e8a7087442910bb95d0734313decd368d8fb6f968b86d2ff26de5e291d\n"
     ]
    }
   ],
   "source": [
    "TX_3=$(\n",
    "marlowe deposit \\\n",
    "  --contract \"$CONTRACT_ID\" \\\n",
    "  --from-party \"${ROLE_NAME[m.herbert]}\" \\\n",
    "  --to-party \"${ROLE_NAME[m.herbert]}\" \\\n",
    "  --currency \"$IUSD_POLICY\" \\\n",
    "  --token-name \"$IUSD_NAME\" \\\n",
    "  --quantity \"$((100 * IUSD))\" \\\n",
    "  --change-address \"${ROLE_ADDR[m.herbert]}\" \\\n",
    "  --manual-sign tx-3.unsigned \\\n",
    "| jq -r 'fromjson | .txId' \\\n",
    ")\n",
    "echo \"TX_3 = $TX_3\""
   ]
  },
  {
   "cell_type": "markdown",
   "id": "655360bb-3073-4a83-95d3-9d36ebc8c584",
   "metadata": {},
   "source": [
    "Sign and submit the transaction."
   ]
  },
  {
   "cell_type": "code",
   "execution_count": 17,
   "id": "972dfea3-7d65-479b-9743-09dd51494224",
   "metadata": {},
   "outputs": [
    {
     "name": "stdout",
     "output_type": "stream",
     "text": [
      "TxId \"542117e8a7087442910bb95d0734313decd368d8fb6f968b86d2ff26de5e291d\"\n"
     ]
    }
   ],
   "source": [
    "marlowe-cli transaction submit \\\n",
    "  --mainnet \\\n",
    "  --tx-body-file tx-3.unsigned \\\n",
    "  --required-signer \"${ROLE_SKEY[m.herbert]}\" \\\n",
    "  --timeout 600"
   ]
  },
  {
   "cell_type": "markdown",
   "id": "b36a91d4-805a-4227-a284-6bd4cd95c340",
   "metadata": {},
   "source": [
    "See the payment to the role-payout validator."
   ]
  },
  {
   "cell_type": "code",
   "execution_count": 18,
   "id": "dd9eef79-8bfd-4ab7-9379-c1bc709ef236",
   "metadata": {},
   "outputs": [
    {
     "name": "stdout",
     "output_type": "stream",
     "text": [
      "https://cardanoscan.io/transaction/542117e8a7087442910bb95d0734313decd368d8fb6f968b86d2ff26de5e291d?tab=utxo\n"
     ]
    }
   ],
   "source": [
    "echo \"https://cardanoscan.io/transaction/$TX_3?tab=utxo\""
   ]
  },
  {
   "cell_type": "markdown",
   "id": "e385eb6d-598e-406b-8150-b266da742778",
   "metadata": {},
   "source": [
    "## Transaction 4. Elizabeth Cary withdraws 100 iUSD from the role-payout address"
   ]
  },
  {
   "cell_type": "code",
   "execution_count": 19,
   "id": "e789fda9-6215-432b-acea-e0eb5f7ecc93",
   "metadata": {},
   "outputs": [
    {
     "name": "stdout",
     "output_type": "stream",
     "text": [
      "TX_4 = c69a94bd086828e7cbbec84626b7218695201a5dc2adb5717447051776734584\n"
     ]
    }
   ],
   "source": [
    "TX_4=$(\n",
    "marlowe withdraw \\\n",
    "  --contract \"$CONTRACT_ID\" \\\n",
    "  --role \"${ROLE_NAME[e.cary]}\" \\\n",
    "  --change-address \"${ROLE_ADDR[e.cary]}\" \\\n",
    "  --manual-sign tx-4.unsigned \\\n",
    "| jq -r 'fromjson | .txId' \\\n",
    ")\n",
    "echo \"TX_4 = $TX_4\""
   ]
  },
  {
   "cell_type": "markdown",
   "id": "ac12cb2b-7848-4ad6-92db-e9d962d47b5e",
   "metadata": {},
   "source": [
    "Sign and submit the transaction."
   ]
  },
  {
   "cell_type": "code",
   "execution_count": 20,
   "id": "5b09732a-0384-48a5-a078-9d3a15b780ee",
   "metadata": {},
   "outputs": [
    {
     "name": "stdout",
     "output_type": "stream",
     "text": [
      "TxId \"c69a94bd086828e7cbbec84626b7218695201a5dc2adb5717447051776734584\"\n"
     ]
    }
   ],
   "source": [
    "marlowe-cli transaction submit \\\n",
    "  --mainnet \\\n",
    "  --tx-body-file tx-4.unsigned \\\n",
    "  --required-signer \"${ROLE_SKEY[e.cary]}\" \\\n",
    "  --timeout 600"
   ]
  },
  {
   "cell_type": "markdown",
   "id": "3848f329-38e3-414a-a9b5-afce02200e54",
   "metadata": {},
   "source": [
    "See that Elizabeth Cary has successfully withdrawn the 100 Djed from the role-payout address."
   ]
  },
  {
   "cell_type": "code",
   "execution_count": 21,
   "id": "12afb7f8-6c9e-4219-ba8f-97d5770070fe",
   "metadata": {},
   "outputs": [
    {
     "name": "stdout",
     "output_type": "stream",
     "text": [
      "https://cardanoscan.io/transaction/c69a94bd086828e7cbbec84626b7218695201a5dc2adb5717447051776734584?tab=utxo\n"
     ]
    }
   ],
   "source": [
    "echo \"https://cardanoscan.io/transaction/$TX_4?tab=utxo\""
   ]
  },
  {
   "cell_type": "markdown",
   "id": "6794823c-13da-4120-8fc3-0649a0979e85",
   "metadata": {},
   "source": [
    "## Transaction 5. Mary Herbert chooses to have the token withdrawn\n",
    "\n",
    "This action deprives Elizabeth Cary the opportunity to repay the 100 iUSD and receive her token back."
   ]
  },
  {
   "cell_type": "code",
   "execution_count": 22,
   "id": "6f56049a-f181-4a85-b668-c9a2936525d0",
   "metadata": {},
   "outputs": [
    {
     "name": "stdout",
     "output_type": "stream",
     "text": [
      "TX_5 = e2cda7eb4f16e1d1bacfc76e2e703383fb42a8179b03f5dc98664c7e32f0c1e4\n"
     ]
    }
   ],
   "source": [
    "TX_5=$(\n",
    "marlowe choose \\\n",
    "  --contract \"$CONTRACT_ID\" \\\n",
    "  --choice \"Withdraw Token\" \\\n",
    "  --value 0 \\\n",
    "  --party \"${ROLE_NAME[m.herbert]}\" \\\n",
    "  --change-address \"${ROLE_ADDR[m.herbert]}\" \\\n",
    "  --manual-sign tx-5.unsigned \\\n",
    "| jq -r 'fromjson | .txId' \\\n",
    ")\n",
    "echo \"TX_5 = $TX_5\""
   ]
  },
  {
   "cell_type": "markdown",
   "id": "3abad50e-c684-48d9-97f4-46cbc1098baf",
   "metadata": {},
   "source": [
    "Sign and submit the transaction."
   ]
  },
  {
   "cell_type": "code",
   "execution_count": 23,
   "id": "ca0f6599-cc4d-4a73-a67c-96a1c46a0a3e",
   "metadata": {},
   "outputs": [
    {
     "name": "stdout",
     "output_type": "stream",
     "text": [
      "TxId \"e2cda7eb4f16e1d1bacfc76e2e703383fb42a8179b03f5dc98664c7e32f0c1e4\"\n"
     ]
    }
   ],
   "source": [
    "marlowe-cli transaction submit \\\n",
    "  --mainnet \\\n",
    "  --tx-body-file tx-5.unsigned \\\n",
    "  --required-signer \"${ROLE_SKEY[m.herbert]}\" \\\n",
    "  --timeout 600"
   ]
  },
  {
   "cell_type": "markdown",
   "id": "040c6645-d297-42de-bd53-a90bed2cd085",
   "metadata": {},
   "source": [
    "See that the contract has closed and paid the token and iUSD to the role-payout address."
   ]
  },
  {
   "cell_type": "code",
   "execution_count": 24,
   "id": "90b73637-5af7-4642-bb2f-1fd71bced18f",
   "metadata": {},
   "outputs": [
    {
     "name": "stdout",
     "output_type": "stream",
     "text": [
      "https://cardanoscan.io/transaction/e2cda7eb4f16e1d1bacfc76e2e703383fb42a8179b03f5dc98664c7e32f0c1e4?tab=utxo\n"
     ]
    }
   ],
   "source": [
    "echo \"https://cardanoscan.io/transaction/$TX_5?tab=utxo\""
   ]
  },
  {
   "cell_type": "markdown",
   "id": "2e108cf3-3cbd-43e7-bfb1-e49708f873c5",
   "metadata": {},
   "source": [
    "## Transaction 6. Mary Herbert withdraws her 1 BearGarden from the role-payout address"
   ]
  },
  {
   "cell_type": "code",
   "execution_count": 25,
   "id": "4196c3b6-9f91-415a-b675-0b5b8678be06",
   "metadata": {},
   "outputs": [
    {
     "name": "stdout",
     "output_type": "stream",
     "text": [
      "TX_6 = bcac57e8121e98442dff7b20d860a1a139677609a2b4e0d8aa2b7eafffaf73b3\n"
     ]
    }
   ],
   "source": [
    "TX_6=$(\n",
    "marlowe withdraw \\\n",
    "  --contract \"$CONTRACT_ID\" \\\n",
    "  --role \"${ROLE_NAME[m.herbert]}\" \\\n",
    "  --change-address \"${ROLE_ADDR[m.herbert]}\" \\\n",
    "  --manual-sign tx-6.unsigned \\\n",
    "| jq -r 'fromjson | .txId' \\\n",
    ")\n",
    "echo \"TX_6 = $TX_6\""
   ]
  },
  {
   "cell_type": "markdown",
   "id": "d3c5b24c-cfed-4663-aeef-3bd39e57b64b",
   "metadata": {},
   "source": [
    "Sign and submit the transaction."
   ]
  },
  {
   "cell_type": "code",
   "execution_count": 26,
   "id": "f853682c-a785-4aba-b784-a3a385430f07",
   "metadata": {},
   "outputs": [
    {
     "name": "stdout",
     "output_type": "stream",
     "text": [
      "TxId \"bcac57e8121e98442dff7b20d860a1a139677609a2b4e0d8aa2b7eafffaf73b3\"\n"
     ]
    }
   ],
   "source": [
    "marlowe-cli transaction submit \\\n",
    "  --mainnet \\\n",
    "  --tx-body-file tx-6.unsigned \\\n",
    "  --required-signer \"${ROLE_SKEY[m.herbert]}\" \\\n",
    "  --timeout 600"
   ]
  },
  {
   "cell_type": "markdown",
   "id": "3f093a14-5e25-459a-bcde-ff2640d78fc0",
   "metadata": {},
   "source": [
    "See the receipt of the iUSD."
   ]
  },
  {
   "cell_type": "code",
   "execution_count": 27,
   "id": "91408671-2fee-4b70-abd0-961354237894",
   "metadata": {},
   "outputs": [
    {
     "name": "stdout",
     "output_type": "stream",
     "text": [
      "https://cardanoscan.io/transaction/bcac57e8121e98442dff7b20d860a1a139677609a2b4e0d8aa2b7eafffaf73b3?tab=utxo\n"
     ]
    }
   ],
   "source": [
    "echo \"https://cardanoscan.io/transaction/$TX_6?tab=utxo\""
   ]
  },
  {
   "cell_type": "markdown",
   "id": "be4347d6-7ab0-4980-b85a-2938b255d5d8",
   "metadata": {},
   "source": [
    "## View the whole history of the contract\n",
    "\n",
    "We use `marlowe-pipe` to print the whole history of this contract."
   ]
  },
  {
   "cell_type": "code",
   "execution_count": 28,
   "id": "ad030763-bc11-4f87-9b0e-6fdb268552c4",
   "metadata": {},
   "outputs": [
    {
     "name": "stdout",
     "output_type": "stream",
     "text": [
      "creation:\n",
      "  output:\n",
      "    address: 716a9391d6aa51af28dd876ebb5565b69d1e83e5ac7861506bd29b56b0\n",
      "    assets:\n",
      "      ada: 3000000\n",
      "      tokens: []\n",
      "    datum:\n",
      "      marloweContract:\n",
      "        timeout: 1676679830000\n",
      "        timeout_continuation: close\n",
      "        when:\n",
      "        - case:\n",
      "            deposits: 1\n",
      "            into_account:\n",
      "              role_token: e.cary\n",
      "            of_token:\n",
      "              currency_symbol: 8bb3b343d8e404472337966a722150048c768d0a92a9813596c5338d\n",
      "              token_name: BearGarden\n",
      "            party:\n",
      "              role_token: e.cary\n",
      "          then:\n",
      "            timeout: 1676679840000\n",
      "            timeout_continuation: close\n",
      "            when:\n",
      "            - case:\n",
      "                deposits: 100000000\n",
      "                into_account:\n",
      "                  role_token: m.herbert\n",
      "                of_token:\n",
      "                  currency_symbol: f66d78b4a3cb3d37afa0ec36461e51ecbde00f26c8f0a68f94b69880\n",
      "                  token_name: iUSD\n",
      "                party:\n",
      "                  role_token: m.herbert\n",
      "              then:\n",
      "                from_account:\n",
      "                  role_token: m.herbert\n",
      "                pay: 100000000\n",
      "                then:\n",
      "                  from_account:\n",
      "                    role_token: e.cary\n",
      "                  pay: 1\n",
      "                  then:\n",
      "                    timeout: 1676679850000\n",
      "                    timeout_continuation: close\n",
      "                    when:\n",
      "                    - case:\n",
      "                        deposits: 100000000\n",
      "                        into_account:\n",
      "                          role_token: m.herbert\n",
      "                        of_token:\n",
      "                          currency_symbol: f66d78b4a3cb3d37afa0ec36461e51ecbde00f26c8f0a68f94b69880\n",
      "                          token_name: iUSD\n",
      "                        party:\n",
      "                          role_token: e.cary\n",
      "                      then:\n",
      "                        from_account:\n",
      "                          role_token: m.herbert\n",
      "                        pay: 1\n",
      "                        then: close\n",
      "                        to:\n",
      "                          party:\n",
      "                            role_token: e.cary\n",
      "                        token:\n",
      "                          currency_symbol: 8bb3b343d8e404472337966a722150048c768d0a92a9813596c5338d\n",
      "                          token_name: BearGarden\n",
      "                    - case:\n",
      "                        choose_between:\n",
      "                        - from: 0\n",
      "                          to: 0\n",
      "                        for_choice:\n",
      "                          choice_name: Withdraw Token\n",
      "                          choice_owner:\n",
      "                            role_token: m.herbert\n",
      "                      then: close\n",
      "                  to:\n",
      "                    account:\n",
      "                      role_token: m.herbert\n",
      "                  token:\n",
      "                    currency_symbol: 8bb3b343d8e404472337966a722150048c768d0a92a9813596c5338d\n",
      "                    token_name: BearGarden\n",
      "                to:\n",
      "                  party:\n",
      "                    role_token: e.cary\n",
      "                token:\n",
      "                  currency_symbol: f66d78b4a3cb3d37afa0ec36461e51ecbde00f26c8f0a68f94b69880\n",
      "                  token_name: iUSD\n",
      "      marloweParams:\n",
      "        rolesCurrency: f0ff48bbb7bbe9d59a40f1ce90e9e9d0ff5002ec48f232b49ca0fb9a\n",
      "      marloweState:\n",
      "        accounts:\n",
      "        - - - address: addr1qy9prvx8ufwutkwxx9cmmuuajaqmjqwujqlp9d8pvg6gupcvluken35ncjnu0puetf5jvttedkze02d5kf890kquh60sut9jg7\n",
      "            - currency_symbol: ''\n",
      "              token_name: ''\n",
      "          - 3000000\n",
      "        boundValues: []\n",
      "        choices: []\n",
      "        minTime: 0\n",
      "    utxo:\n",
      "      txId: 9f56ccd99e5ee8f4bc92fb229ffaaafa7bd5f0bbf72dd3d7071b0b4cc11df7cd\n",
      "      txIx: 1\n",
      "  payoutValidatorHash: 49076eab20243dc9462511fb98a9cfb719f86e9692288139b7c91df3\n",
      "response: info\n",
      "steps:\n",
      "- contractId: 9f56ccd99e5ee8f4bc92fb229ffaaafa7bd5f0bbf72dd3d7071b0b4cc11df7cd#1\n",
      "  payouts: []\n",
      "  redeemer:\n",
      "  - input_from_party:\n",
      "      role_token: e.cary\n",
      "    into_account:\n",
      "      role_token: e.cary\n",
      "    of_token:\n",
      "      currency_symbol: 8bb3b343d8e404472337966a722150048c768d0a92a9813596c5338d\n",
      "      token_name: BearGarden\n",
      "    that_deposits: 1\n",
      "  scriptOutput:\n",
      "    address: 716a9391d6aa51af28dd876ebb5565b69d1e83e5ac7861506bd29b56b0\n",
      "    assets:\n",
      "      ada: 3000000\n",
      "      tokens:\n",
      "      - - policyId: 8bb3b343d8e404472337966a722150048c768d0a92a9813596c5338d\n",
      "          tokenName: BearGarden\n",
      "        - 1\n",
      "    datum:\n",
      "      marloweContract:\n",
      "        timeout: 1676679840000\n",
      "        timeout_continuation: close\n",
      "        when:\n",
      "        - case:\n",
      "            deposits: 100000000\n",
      "            into_account:\n",
      "              role_token: m.herbert\n",
      "            of_token:\n",
      "              currency_symbol: f66d78b4a3cb3d37afa0ec36461e51ecbde00f26c8f0a68f94b69880\n",
      "              token_name: iUSD\n",
      "            party:\n",
      "              role_token: m.herbert\n",
      "          then:\n",
      "            from_account:\n",
      "              role_token: m.herbert\n",
      "            pay: 100000000\n",
      "            then:\n",
      "              from_account:\n",
      "                role_token: e.cary\n",
      "              pay: 1\n",
      "              then:\n",
      "                timeout: 1676679850000\n",
      "                timeout_continuation: close\n",
      "                when:\n",
      "                - case:\n",
      "                    deposits: 100000000\n",
      "                    into_account:\n",
      "                      role_token: m.herbert\n",
      "                    of_token:\n",
      "                      currency_symbol: f66d78b4a3cb3d37afa0ec36461e51ecbde00f26c8f0a68f94b69880\n",
      "                      token_name: iUSD\n",
      "                    party:\n",
      "                      role_token: e.cary\n",
      "                  then:\n",
      "                    from_account:\n",
      "                      role_token: m.herbert\n",
      "                    pay: 1\n",
      "                    then: close\n",
      "                    to:\n",
      "                      party:\n",
      "                        role_token: e.cary\n",
      "                    token:\n",
      "                      currency_symbol: 8bb3b343d8e404472337966a722150048c768d0a92a9813596c5338d\n",
      "                      token_name: BearGarden\n",
      "                - case:\n",
      "                    choose_between:\n",
      "                    - from: 0\n",
      "                      to: 0\n",
      "                    for_choice:\n",
      "                      choice_name: Withdraw Token\n",
      "                      choice_owner:\n",
      "                        role_token: m.herbert\n",
      "                  then: close\n",
      "              to:\n",
      "                account:\n",
      "                  role_token: m.herbert\n",
      "              token:\n",
      "                currency_symbol: 8bb3b343d8e404472337966a722150048c768d0a92a9813596c5338d\n",
      "                token_name: BearGarden\n",
      "            to:\n",
      "              party:\n",
      "                role_token: e.cary\n",
      "            token:\n",
      "              currency_symbol: f66d78b4a3cb3d37afa0ec36461e51ecbde00f26c8f0a68f94b69880\n",
      "              token_name: iUSD\n",
      "      marloweParams:\n",
      "        rolesCurrency: f0ff48bbb7bbe9d59a40f1ce90e9e9d0ff5002ec48f232b49ca0fb9a\n",
      "      marloweState:\n",
      "        accounts:\n",
      "        - - - address: addr1qy9prvx8ufwutkwxx9cmmuuajaqmjqwujqlp9d8pvg6gupcvluken35ncjnu0puetf5jvttedkze02d5kf890kquh60sut9jg7\n",
      "            - currency_symbol: ''\n",
      "              token_name: ''\n",
      "          - 3000000\n",
      "        - - - role_token: e.cary\n",
      "            - currency_symbol: 8bb3b343d8e404472337966a722150048c768d0a92a9813596c5338d\n",
      "              token_name: BearGarden\n",
      "          - 1\n",
      "        boundValues: []\n",
      "        choices: []\n",
      "        minTime: 1676387561000\n",
      "    utxo:\n",
      "      txId: 36b7532ccc7ab0f802e2ba9986606ca1c5aa4fc69998e8c7c3fe64b23bce896f\n",
      "      txIx: 1\n",
      "  step: apply\n",
      "  txId: 36b7532ccc7ab0f802e2ba9986606ca1c5aa4fc69998e8c7c3fe64b23bce896f\n",
      "- contractId: 9f56ccd99e5ee8f4bc92fb229ffaaafa7bd5f0bbf72dd3d7071b0b4cc11df7cd#1\n",
      "  payouts:\n",
      "  - - txId: 542117e8a7087442910bb95d0734313decd368d8fb6f968b86d2ff26de5e291d\n",
      "      txIx: 3\n",
      "    - address: 7149076eab20243dc9462511fb98a9cfb719f86e9692288139b7c91df3\n",
      "      assets:\n",
      "        ada: 1202490\n",
      "        tokens:\n",
      "        - - policyId: f66d78b4a3cb3d37afa0ec36461e51ecbde00f26c8f0a68f94b69880\n",
      "            tokenName: iUSD\n",
      "          - 100000000\n",
      "      datum:\n",
      "        policyId: f0ff48bbb7bbe9d59a40f1ce90e9e9d0ff5002ec48f232b49ca0fb9a\n",
      "        tokenName: e.cary\n",
      "  redeemer:\n",
      "  - input_from_party:\n",
      "      role_token: m.herbert\n",
      "    into_account:\n",
      "      role_token: m.herbert\n",
      "    of_token:\n",
      "      currency_symbol: f66d78b4a3cb3d37afa0ec36461e51ecbde00f26c8f0a68f94b69880\n",
      "      token_name: iUSD\n",
      "    that_deposits: 100000000\n",
      "  scriptOutput:\n",
      "    address: 716a9391d6aa51af28dd876ebb5565b69d1e83e5ac7861506bd29b56b0\n",
      "    assets:\n",
      "      ada: 3000000\n",
      "      tokens:\n",
      "      - - policyId: 8bb3b343d8e404472337966a722150048c768d0a92a9813596c5338d\n",
      "          tokenName: BearGarden\n",
      "        - 1\n",
      "    datum:\n",
      "      marloweContract:\n",
      "        timeout: 1676679850000\n",
      "        timeout_continuation: close\n",
      "        when:\n",
      "        - case:\n",
      "            deposits: 100000000\n",
      "            into_account:\n",
      "              role_token: m.herbert\n",
      "            of_token:\n",
      "              currency_symbol: f66d78b4a3cb3d37afa0ec36461e51ecbde00f26c8f0a68f94b69880\n",
      "              token_name: iUSD\n",
      "            party:\n",
      "              role_token: e.cary\n",
      "          then:\n",
      "            from_account:\n",
      "              role_token: m.herbert\n",
      "            pay: 1\n",
      "            then: close\n",
      "            to:\n",
      "              party:\n",
      "                role_token: e.cary\n",
      "            token:\n",
      "              currency_symbol: 8bb3b343d8e404472337966a722150048c768d0a92a9813596c5338d\n",
      "              token_name: BearGarden\n",
      "        - case:\n",
      "            choose_between:\n",
      "            - from: 0\n",
      "              to: 0\n",
      "            for_choice:\n",
      "              choice_name: Withdraw Token\n",
      "              choice_owner:\n",
      "                role_token: m.herbert\n",
      "          then: close\n",
      "      marloweParams:\n",
      "        rolesCurrency: f0ff48bbb7bbe9d59a40f1ce90e9e9d0ff5002ec48f232b49ca0fb9a\n",
      "      marloweState:\n",
      "        accounts:\n",
      "        - - - address: addr1qy9prvx8ufwutkwxx9cmmuuajaqmjqwujqlp9d8pvg6gupcvluken35ncjnu0puetf5jvttedkze02d5kf890kquh60sut9jg7\n",
      "            - currency_symbol: ''\n",
      "              token_name: ''\n",
      "          - 3000000\n",
      "        - - - role_token: m.herbert\n",
      "            - currency_symbol: 8bb3b343d8e404472337966a722150048c768d0a92a9813596c5338d\n",
      "              token_name: BearGarden\n",
      "          - 1\n",
      "        boundValues: []\n",
      "        choices: []\n",
      "        minTime: 1676387638000\n",
      "    utxo:\n",
      "      txId: 542117e8a7087442910bb95d0734313decd368d8fb6f968b86d2ff26de5e291d\n",
      "      txIx: 1\n",
      "  step: apply\n",
      "  txId: 542117e8a7087442910bb95d0734313decd368d8fb6f968b86d2ff26de5e291d\n",
      "- datumm:\n",
      "    policyId: f0ff48bbb7bbe9d59a40f1ce90e9e9d0ff5002ec48f232b49ca0fb9a\n",
      "    tokenName: e.cary\n",
      "  redeemingTx: c69a94bd086828e7cbbec84626b7218695201a5dc2adb5717447051776734584\n",
      "  step: payout\n",
      "  utxo:\n",
      "    txId: 542117e8a7087442910bb95d0734313decd368d8fb6f968b86d2ff26de5e291d\n",
      "    txIx: 3\n",
      "- contractId: 9f56ccd99e5ee8f4bc92fb229ffaaafa7bd5f0bbf72dd3d7071b0b4cc11df7cd#1\n",
      "  payouts:\n",
      "  - - txId: e2cda7eb4f16e1d1bacfc76e2e703383fb42a8179b03f5dc98664c7e32f0c1e4\n",
      "      txIx: 2\n",
      "    - address: 7149076eab20243dc9462511fb98a9cfb719f86e9692288139b7c91df3\n",
      "      assets:\n",
      "        ada: 1211110\n",
      "        tokens:\n",
      "        - - policyId: 8bb3b343d8e404472337966a722150048c768d0a92a9813596c5338d\n",
      "            tokenName: BearGarden\n",
      "          - 1\n",
      "      datum:\n",
      "        policyId: f0ff48bbb7bbe9d59a40f1ce90e9e9d0ff5002ec48f232b49ca0fb9a\n",
      "        tokenName: m.herbert\n",
      "  redeemer:\n",
      "  - for_choice_id:\n",
      "      choice_name: Withdraw Token\n",
      "      choice_owner:\n",
      "        role_token: m.herbert\n",
      "    input_that_chooses_num: 0\n",
      "  scriptOutput: null\n",
      "  step: apply\n",
      "  txId: e2cda7eb4f16e1d1bacfc76e2e703383fb42a8179b03f5dc98664c7e32f0c1e4\n",
      "- datumm:\n",
      "    policyId: f0ff48bbb7bbe9d59a40f1ce90e9e9d0ff5002ec48f232b49ca0fb9a\n",
      "    tokenName: m.herbert\n",
      "  redeemingTx: bcac57e8121e98442dff7b20d860a1a139677609a2b4e0d8aa2b7eafffaf73b3\n",
      "  step: payout\n",
      "  utxo:\n",
      "    txId: e2cda7eb4f16e1d1bacfc76e2e703383fb42a8179b03f5dc98664c7e32f0c1e4\n",
      "    txIx: 2\n"
     ]
    }
   ],
   "source": [
    "echo '{\"request\" : \"get\", \"contractId\" : \"'\"$CONTRACT_ID\"'\"}' | marlowe-pipe 2> /dev/null | json2yaml"
   ]
  },
  {
   "cell_type": "markdown",
   "id": "ef48938e-c6a8-4ba5-9f14-a413232c2c59",
   "metadata": {},
   "source": [
    "## Return the BearGarden and Djed tokens to the faucet\n",
    "\n",
    "Returning the token to the faucet is convenient housekeeping for this example."
   ]
  },
  {
   "cell_type": "code",
   "execution_count": 29,
   "id": "b2667429-3fd9-4bd0-a7ec-e208c681c1b3",
   "metadata": {},
   "outputs": [
    {
     "name": "stdout",
     "output_type": "stream",
     "text": [
      "TxId \"a1e8562663b89e7d793470a2773ea721f59819ca5028d76a012fdf638338214f\"\n"
     ]
    }
   ],
   "source": [
    "marlowe-cli transaction simple \\\n",
    "  --mainnet \\\n",
    "  --tx-in \"bcac57e8121e98442dff7b20d860a1a139677609a2b4e0d8aa2b7eafffaf73b3#2\" \\\n",
    "  --tx-in \"c69a94bd086828e7cbbec84626b7218695201a5dc2adb5717447051776734584#2\" \\\n",
    "  --tx-in \"ab37dafea127cc78131781447874130272ca9e93094ea3dbc9a001c1a1d42c1f#3\" \\\n",
    "  --tx-in \"e2cda7eb4f16e1d1bacfc76e2e703383fb42a8179b03f5dc98664c7e32f0c1e4#3\" \\\n",
    "  --tx-out \"$FAUCET_ADDR+$((3 * ADA))+$((100 * IUSD)) $IUSD_POLICY.$IUSD_NAME\" \\\n",
    "  --tx-out \"$FAUCET_ADDR+$((3 * ADA))+499 $FUNGIBLES_POLICY.BearGarden\" \\\n",
    "  --change-address \"$FAUCET_ADDR\" \\\n",
    "  --required-signer \"$FAUCET_SKEY\" \\\n",
    "  --required-signer \"${ROLE_SKEY[e.cary]}\" \\\n",
    "  --required-signer \"${ROLE_SKEY[m.herbert]}\" \\\n",
    "  --out-file /dev/null \\\n",
    "  --submit 600"
   ]
  }
 ],
 "metadata": {
  "kernelspec": {
   "display_name": "Bash - Marlowe",
   "language": "bash",
   "name": "bash_marlowe"
  },
  "language_info": {
   "codemirror_mode": "shell",
   "file_extension": ".sh",
   "mimetype": "text/x-sh",
   "name": "/nix/store/p7bpdnxqd3i5hwm92mrscf7mvxk66404-bash-5.1-p16/bin/bash"
  }
 },
 "nbformat": 4,
 "nbformat_minor": 5
}
