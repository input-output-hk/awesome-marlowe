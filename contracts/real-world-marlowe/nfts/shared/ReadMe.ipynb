{
 "cells": [
  {
   "cell_type": "markdown",
   "id": "d33d4002-eab9-4b2e-871d-8c55e410b6d1",
   "metadata": {},
   "source": [
    "## <font color=\"red\">Caution!</font>\n",
    "\n",
    "Before running a Marlowe contract on `mainnet`, it is wise to do the following in order to avoid losing funds:\n",
    "\n",
    "1. Understand the [Marlowe Language](https://marlowe.iohk.io/).\n",
    "2. Understand Cardano\\'s [Extended UTxO Model](https://docs.cardano.org/learn/eutxo-explainer).\n",
    "3. Read and understand the [Marlowe Best Practices Guide](https://github.com/input-output-hk/marlowe-cardano/blob/main/marlowe/best-practices.md).\n",
    "4. Read and understand the [Marlowe Security Guide](https://github.com/input-output-hk/marlowe-cardano/blob/main/marlowe/security.md).\n",
    "5. Use [Marlowe Playground](https://play.marlowe.iohk.io/) to flag warnings, perform static analysis, and simulate the contract.\n",
    "6. Use [Marlowe CLI\\'s](https://github.com/input-output-hk/marlowe-cardano/blob/main/marlowe-cli/ReadMe.md) `marlowe-cli run analyze` tool to study whether the contract can run on a Cardano network.\n",
    "7. Run *all execution paths* of the contract on a [Cardano testnet](https://docs.cardano.org/cardano-testnet/overview).\n",
    "\n",
    "---"
   ]
  },
  {
   "cell_type": "markdown",
   "id": "0fafc279-76a1-4bee-931b-145f96313e3b",
   "metadata": {},
   "source": [
    "# Shared Purchase of an NFT, with an Option to Buy Out Other Co-Owners\n",
    "\n",
    "Three parties contribute equal amounts towards the purchase of a NFT that they jointly own. At any time, one of them may pay the other two the value of the token so that they can have the token all for themselves.\n",
    "\n",
    "This example consists of ten transactions:\n",
    "1. Elizabeth Cary deposits 100 Ada into the contract.\n",
    "2. Jane Lumely deposits 100 Ada into the contract.\n",
    "3. Mary Herbert deposits 100 Ada into the contract.\n",
    "4. Christopher Marlowe deposits 1 BearGarden token into the contract, causing it to pay 300 Ada for his benefit.\n",
    "5. Christopher Marlowe withdraws the 300 Ada from the role-payout address.\n",
    "6. Later, Mary Herbert deposits 300 Ada into the contract so she can have the token all for herself; this causes 150 Ada each for Elizabeth Cary and Jane Lumley to be paid for their behalves.\n",
    "7. Elizabeth Cary withdraws 150 Ada from the Marlowe payout address.\n",
    "8. Jane Lumley withdraws 150 Ada from the Marlowe payout address.\n",
    "9. Mary Herbert withdraws 1 BearGarden tokens from the Marlowe payout address.\n",
    "\n",
    "Here is the contract in Blockly format:\n",
    "\n",
    "![Shared ownership of an NFT](contract.png)"
   ]
  },
  {
   "cell_type": "markdown",
   "id": "07ad66b4-52bc-450f-90ca-c7c7a0ccf66e",
   "metadata": {},
   "source": [
    "## Set Up"
   ]
  },
  {
   "cell_type": "markdown",
   "id": "f2860ab6-29f4-4571-92b8-d53faad8d53b",
   "metadata": {},
   "source": [
    "Use `mainnet`."
   ]
  },
  {
   "cell_type": "code",
   "execution_count": 1,
   "id": "18eadf53-f319-4a3e-94c3-2f526e467787",
   "metadata": {},
   "outputs": [],
   "source": [
    ". ../../mainnet.env"
   ]
  },
  {
   "cell_type": "markdown",
   "id": "01c3bcfd-b534-4639-a6ef-8b47fd68a543",
   "metadata": {},
   "source": [
    "Use the standard example roles."
   ]
  },
  {
   "cell_type": "code",
   "execution_count": 2,
   "id": "f3b84135-f5ab-47a3-917d-6e8cc18b53a9",
   "metadata": {},
   "outputs": [],
   "source": [
    ". ../../dramatis-personae/roles.env"
   ]
  },
  {
   "cell_type": "markdown",
   "id": "030763a2-1c67-463c-aa47-d6d4020ed48c",
   "metadata": {},
   "source": [
    "## Role tokens\n",
    "\n",
    "This contract uses [Ada Handles](https://adahandle.com/) as role tokens:\n",
    "- Christopher Marlowe = [\\$c.marlowe](https://pool.pm/asset1z2xzfc6lu63jfmfffe2w3nyf6420eylv8e2xjp)\n",
    "- Elizabeth Carey = [\\$e.cary](https://pool.pm/asset1tx4euajkdczmkawgkjy342agaq33885dlvp0jl)\n",
    "- Mary Herbert = [\\$m.herbert](https://pool.pm/asset1a38nhu84xquj7whe3xqr80uyf99mh2r7hzf277)\n",
    "- Jane Lumley = [\\$j.lumley](https://pool.pm/asset1kujmmryzmxyqz6utp2slrmwfq4dmmnvwhkh7gkm)\n",
    "\n",
    "*Note: Only use a pre-minted token as a Marlowe role if you have reviewed the monetary policy for security vulnerabilities.*\n",
    "\n",
    "Here is the currency symbol for Ada handles on `mainnet`:"
   ]
  },
  {
   "cell_type": "code",
   "execution_count": 3,
   "id": "31b3ae67-4374-4a71-99d8-fa454b4f9d0a",
   "metadata": {},
   "outputs": [
    {
     "name": "stdout",
     "output_type": "stream",
     "text": [
      "ROLES_CURRENCY = f0ff48bbb7bbe9d59a40f1ce90e9e9d0ff5002ec48f232b49ca0fb9a\n"
     ]
    }
   ],
   "source": [
    "echo \"ROLES_CURRENCY = $ROLES_CURRENCY\""
   ]
  },
  {
   "cell_type": "markdown",
   "id": "ffed3ada-c22d-4a71-8502-02051a23ca80",
   "metadata": {},
   "source": [
    "## Policy ID for the BearGarden token"
   ]
  },
  {
   "cell_type": "markdown",
   "id": "2379b64b-4078-4ec6-86ab-e60ad8c5c75d",
   "metadata": {},
   "source": [
    "We previously minted the BearGarden token with the following policy."
   ]
  },
  {
   "cell_type": "code",
   "execution_count": 4,
   "id": "1904bda9-67d2-4c04-ba8a-d3bfe2d34f9c",
   "metadata": {},
   "outputs": [
    {
     "name": "stdout",
     "output_type": "stream",
     "text": [
      "FUNGIBLES_POLICY = 8bb3b343d8e404472337966a722150048c768d0a92a9813596c5338d\n"
     ]
    }
   ],
   "source": [
    "echo \"FUNGIBLES_POLICY = $FUNGIBLES_POLICY\""
   ]
  },
  {
   "cell_type": "markdown",
   "id": "7b810dc9-83a5-4c75-b01f-ab496affd3f8",
   "metadata": {},
   "source": [
    "## Initial Funding"
   ]
  },
  {
   "cell_type": "markdown",
   "id": "d24a879f-f2e7-4e19-a570-18869c2dbb9d",
   "metadata": {},
   "source": [
    "Send the BearGarden fungible token from the faucet to Christopher Marlowe."
   ]
  },
  {
   "cell_type": "code",
   "execution_count": 5,
   "id": "de9b7efe-d298-484c-807b-58bccac36f25",
   "metadata": {},
   "outputs": [
    {
     "name": "stdout",
     "output_type": "stream",
     "text": [
      "                           TxHash                                 TxIx        Amount\n",
      "--------------------------------------------------------------------------------------\n",
      "0afae60d6282c0f4d2f91eb3046b2e7c22489b70c97e4c18b92c0968403be754     1        3000000 lovelace + 100000000 8db269c3ec630e06ae29f74bc39edd1f87c819f1056206e879a1cd61.446a65644d6963726f555344 + TxOutDatumNone\n",
      "a1e8562663b89e7d793470a2773ea721f59819ca5028d76a012fdf638338214f     1        3000000 lovelace + 100000000 f66d78b4a3cb3d37afa0ec36461e51ecbde00f26c8f0a68f94b69880.69555344 + TxOutDatumNone\n",
      "a1e8562663b89e7d793470a2773ea721f59819ca5028d76a012fdf638338214f     2        3000000 lovelace + 499 8bb3b343d8e404472337966a722150048c768d0a92a9813596c5338d.4265617247617264656e + TxOutDatumNone\n",
      "efc74dd7dfe0f033e17c26e93ab2db01b356f6642e4b0eb66ebd353771e98ff4     0        312096021 lovelace + TxOutDatumNone\n",
      "efc74dd7dfe0f033e17c26e93ab2db01b356f6642e4b0eb66ebd353771e98ff4     1        3000000 lovelace + 500 8bb3b343d8e404472337966a722150048c768d0a92a9813596c5338d.476c6f6265 + TxOutDatumNone\n",
      "efc74dd7dfe0f033e17c26e93ab2db01b356f6642e4b0eb66ebd353771e98ff4     2        3000000 lovelace + 500 8bb3b343d8e404472337966a722150048c768d0a92a9813596c5338d.5377616e + TxOutDatumNone\n"
     ]
    }
   ],
   "source": [
    "cardano-cli query utxo --mainnet --address $FAUCET_ADDR"
   ]
  },
  {
   "cell_type": "code",
   "execution_count": 6,
   "id": "d1f735ed-ba7f-41c6-9ee8-20d92665529c",
   "metadata": {},
   "outputs": [
    {
     "name": "stdout",
     "output_type": "stream",
     "text": [
      "TxId \"a84c33bce6722f805120252b764e6aed68d1e6f4702dadca49967db2456d5107\"\n"
     ]
    }
   ],
   "source": [
    "ADA=1000000\n",
    "marlowe-cli transaction simple \\\n",
    "  --mainnet \\\n",
    "  --tx-in \"a1e8562663b89e7d793470a2773ea721f59819ca5028d76a012fdf638338214f#2\" \\\n",
    "  --tx-in \"efc74dd7dfe0f033e17c26e93ab2db01b356f6642e4b0eb66ebd353771e98ff4#0\" \\\n",
    "  --tx-out \"${ROLE_ADDR[c.marlowe]}+$((2 * ADA))+1 $FUNGIBLES_POLICY.BearGarden\" \\\n",
    "  --change-address \"$FAUCET_ADDR\" \\\n",
    "  --required-signer \"$FAUCET_SKEY\" \\\n",
    "  --out-file /dev/null \\\n",
    "  --submit 600"
   ]
  },
  {
   "cell_type": "markdown",
   "id": "18d01388-a359-4f58-a49e-4927a0a5a454",
   "metadata": {},
   "source": [
    "## The Marlowe contract\n",
    "\n",
    "The Marlowe contract is just a download of the JSON file for the Blockly-format contract designed in the [Marlowe Playground](https://play.marlowe.iohk.io/#/)."
   ]
  },
  {
   "cell_type": "code",
   "execution_count": 7,
   "id": "6c9c0330-ad86-4704-90f8-d798d7d7562a",
   "metadata": {},
   "outputs": [
    {
     "name": "stdout",
     "output_type": "stream",
     "text": [
      "timeout: 1676679830000\n",
      "timeout_continuation: close\n",
      "when:\n",
      "- case:\n",
      "    deposits: 100000000\n",
      "    into_account:\n",
      "      role_token: e.cary\n",
      "    of_token:\n",
      "      currency_symbol: ''\n",
      "      token_name: ''\n",
      "    party:\n",
      "      role_token: e.cary\n",
      "  then:\n",
      "    timeout: 1676679840000\n",
      "    timeout_continuation: close\n",
      "    when:\n",
      "    - case:\n",
      "        deposits: 100000000\n",
      "        into_account:\n",
      "          role_token: j.lumley\n",
      "        of_token:\n",
      "          currency_symbol: ''\n",
      "          token_name: ''\n",
      "        party:\n",
      "          role_token: j.lumley\n",
      "      then:\n",
      "        timeout: 1676679850000\n",
      "        timeout_continuation: close\n",
      "        when:\n",
      "        - case:\n",
      "            deposits: 100000000\n",
      "            into_account:\n",
      "              role_token: m.herbert\n",
      "            of_token:\n",
      "              currency_symbol: ''\n",
      "              token_name: ''\n",
      "            party:\n",
      "              role_token: m.herbert\n",
      "          then:\n",
      "            timeout: 1676679860000\n",
      "            timeout_continuation: close\n",
      "            when:\n",
      "            - case:\n",
      "                deposits: 1\n",
      "                into_account:\n",
      "                  role_token: e.cary\n",
      "                of_token:\n",
      "                  currency_symbol: 8bb3b343d8e404472337966a722150048c768d0a92a9813596c5338d\n",
      "                  token_name: BearGarden\n",
      "                party:\n",
      "                  role_token: c.marlowe\n",
      "              then:\n",
      "                from_account:\n",
      "                  role_token: e.cary\n",
      "                pay: 100000000\n",
      "                then:\n",
      "                  from_account:\n",
      "                    role_token: m.herbert\n",
      "                  pay: 100000000\n",
      "                  then:\n",
      "                    from_account:\n",
      "                      role_token: j.lumley\n",
      "                    pay: 100000000\n",
      "                    then:\n",
      "                      timeout: 1676679870000\n",
      "                      timeout_continuation: close\n",
      "                      when:\n",
      "                      - case:\n",
      "                          deposits: 300000000\n",
      "                          into_account:\n",
      "                            role_token: e.cary\n",
      "                          of_token:\n",
      "                            currency_symbol: ''\n",
      "                            token_name: ''\n",
      "                          party:\n",
      "                            role_token: e.cary\n",
      "                        then:\n",
      "                          from_account:\n",
      "                            role_token: e.cary\n",
      "                          pay: 1\n",
      "                          then:\n",
      "                            from_account:\n",
      "                              role_token: e.cary\n",
      "                            pay: 150000000\n",
      "                            then:\n",
      "                              from_account:\n",
      "                                role_token: e.cary\n",
      "                              pay: 150000000\n",
      "                              then: close\n",
      "                              to:\n",
      "                                party:\n",
      "                                  role_token: j.lumley\n",
      "                              token:\n",
      "                                currency_symbol: ''\n",
      "                                token_name: ''\n",
      "                            to:\n",
      "                              party:\n",
      "                                role_token: m.herbert\n",
      "                            token:\n",
      "                              currency_symbol: ''\n",
      "                              token_name: ''\n",
      "                          to:\n",
      "                            party:\n",
      "                              role_token: e.cary\n",
      "                          token:\n",
      "                            currency_symbol: 8bb3b343d8e404472337966a722150048c768d0a92a9813596c5338d\n",
      "                            token_name: BearGarden\n",
      "                      - case:\n",
      "                          deposits: 300000000\n",
      "                          into_account:\n",
      "                            role_token: m.herbert\n",
      "                          of_token:\n",
      "                            currency_symbol: ''\n",
      "                            token_name: ''\n",
      "                          party:\n",
      "                            role_token: m.herbert\n",
      "                        then:\n",
      "                          from_account:\n",
      "                            role_token: m.herbert\n",
      "                          pay: 150000000\n",
      "                          then:\n",
      "                            from_account:\n",
      "                              role_token: e.cary\n",
      "                            pay: 1\n",
      "                            then:\n",
      "                              from_account:\n",
      "                                role_token: m.herbert\n",
      "                              pay: 150000000\n",
      "                              then: close\n",
      "                              to:\n",
      "                                party:\n",
      "                                  role_token: j.lumley\n",
      "                              token:\n",
      "                                currency_symbol: ''\n",
      "                                token_name: ''\n",
      "                            to:\n",
      "                              party:\n",
      "                                role_token: m.herbert\n",
      "                            token:\n",
      "                              currency_symbol: 8bb3b343d8e404472337966a722150048c768d0a92a9813596c5338d\n",
      "                              token_name: BearGarden\n",
      "                          to:\n",
      "                            party:\n",
      "                              role_token: e.cary\n",
      "                          token:\n",
      "                            currency_symbol: ''\n",
      "                            token_name: ''\n",
      "                      - case:\n",
      "                          deposits: 300000000\n",
      "                          into_account:\n",
      "                            role_token: j.lumley\n",
      "                          of_token:\n",
      "                            currency_symbol: ''\n",
      "                            token_name: ''\n",
      "                          party:\n",
      "                            role_token: j.lumley\n",
      "                        then:\n",
      "                          from_account:\n",
      "                            role_token: j.lumley\n",
      "                          pay: 150000000\n",
      "                          then:\n",
      "                            from_account:\n",
      "                              role_token: j.lumley\n",
      "                            pay: 150000000\n",
      "                            then:\n",
      "                              from_account:\n",
      "                                role_token: e.cary\n",
      "                              pay: 1\n",
      "                              then: close\n",
      "                              to:\n",
      "                                party:\n",
      "                                  role_token: j.lumley\n",
      "                              token:\n",
      "                                currency_symbol: 8bb3b343d8e404472337966a722150048c768d0a92a9813596c5338d\n",
      "                                token_name: BearGarden\n",
      "                            to:\n",
      "                              party:\n",
      "                                role_token: m.herbert\n",
      "                            token:\n",
      "                              currency_symbol: ''\n",
      "                              token_name: ''\n",
      "                          to:\n",
      "                            party:\n",
      "                              role_token: e.cary\n",
      "                          token:\n",
      "                            currency_symbol: ''\n",
      "                            token_name: ''\n",
      "                    to:\n",
      "                      party:\n",
      "                        role_token: c.marlowe\n",
      "                    token:\n",
      "                      currency_symbol: ''\n",
      "                      token_name: ''\n",
      "                  to:\n",
      "                    party:\n",
      "                      role_token: c.marlowe\n",
      "                  token:\n",
      "                    currency_symbol: ''\n",
      "                    token_name: ''\n",
      "                to:\n",
      "                  party:\n",
      "                    role_token: c.marlowe\n",
      "                token:\n",
      "                  currency_symbol: ''\n",
      "                  token_name: ''\n"
     ]
    }
   ],
   "source": [
    "json2yaml contract.json"
   ]
  },
  {
   "cell_type": "markdown",
   "id": "f8c4dbbf-f861-438a-a5bc-bf6d3af3d27f",
   "metadata": {},
   "source": [
    "## Transaction 1. Create the contract\n",
    "\n",
    "We use Marlowe Runtime's command-line tool to build the transaction for creating the contract."
   ]
  },
  {
   "cell_type": "code",
   "execution_count": 8,
   "id": "43d8526a-4edf-4baf-98f7-2509a2320a19",
   "metadata": {},
   "outputs": [
    {
     "name": "stdout",
     "output_type": "stream",
     "text": [
      "CONTRACT_ID = e9b4608d23b955783bce458c02687353e9497c30980ae8ad941256a74840cd5b#1\n"
     ]
    }
   ],
   "source": [
    "CONTRACT_ID=$(\n",
    "marlowe create \\\n",
    "  --core-file contract.json \\\n",
    "  --role-token-policy-id \"$ROLES_CURRENCY\" \\\n",
    "  --min-utxo \"$((3 * ADA))\" \\\n",
    "  --change-address \"$FAUCET_ADDR\" \\\n",
    "  --manual-sign tx-1.unsigned \\\n",
    "| jq -r 'fromjson | .contractId' \\\n",
    ")\n",
    "echo \"CONTRACT_ID = $CONTRACT_ID\""
   ]
  },
  {
   "cell_type": "markdown",
   "id": "44313727-26ab-4ee6-a922-9859e9328c5d",
   "metadata": {},
   "source": [
    "The contract can be signed an submitted with any wallet or service. For convenience, we use `marlowe-cli` here."
   ]
  },
  {
   "cell_type": "code",
   "execution_count": 9,
   "id": "71cd4d41-0647-4013-b921-ea3491e7ffa8",
   "metadata": {},
   "outputs": [
    {
     "name": "stdout",
     "output_type": "stream",
     "text": [
      "TxId \"e9b4608d23b955783bce458c02687353e9497c30980ae8ad941256a74840cd5b\"\n"
     ]
    }
   ],
   "source": [
    "marlowe-cli transaction submit \\\n",
    "  --mainnet \\\n",
    "  --tx-body-file tx-1.unsigned \\\n",
    "  --required-signer \"$FAUCET_SKEY\" \\\n",
    "  --timeout 600"
   ]
  },
  {
   "cell_type": "markdown",
   "id": "3c08a2fc-6282-487c-8430-b3a7102e1ec0",
   "metadata": {},
   "source": [
    "View the transaction with a Cardano explorer."
   ]
  },
  {
   "cell_type": "code",
   "execution_count": 10,
   "id": "edbcd13f-c143-40ba-b5f3-1c09543cd9d1",
   "metadata": {},
   "outputs": [
    {
     "name": "stdout",
     "output_type": "stream",
     "text": [
      "https://cardanoscan.io/transaction/e9b4608d23b955783bce458c02687353e9497c30980ae8ad941256a74840cd5b?tab=utxo\n"
     ]
    }
   ],
   "source": [
    "echo \"https://cardanoscan.io/transaction/${CONTRACT_ID%%#1}?tab=utxo\""
   ]
  },
  {
   "cell_type": "markdown",
   "id": "5bd2329b-3c88-4b60-9ac9-b97c162e8f78",
   "metadata": {},
   "source": [
    "We can use a tool such as `marlowe-pipe` to fetch the contract from the blockchain and display it."
   ]
  },
  {
   "cell_type": "code",
   "execution_count": 11,
   "id": "d965d4fd-e5bb-4ee0-9d5f-fba08f8952a9",
   "metadata": {},
   "outputs": [
    {
     "name": "stdout",
     "output_type": "stream",
     "text": [
      "creation:\n",
      "  output:\n",
      "    address: 716a9391d6aa51af28dd876ebb5565b69d1e83e5ac7861506bd29b56b0\n",
      "    assets:\n",
      "      ada: 3000000\n",
      "      tokens: []\n",
      "    datum:\n",
      "      marloweContract:\n",
      "        timeout: 1676679830000\n",
      "        timeout_continuation: close\n",
      "        when:\n",
      "        - case:\n",
      "            deposits: 100000000\n",
      "            into_account:\n",
      "              role_token: e.cary\n",
      "            of_token:\n",
      "              currency_symbol: ''\n",
      "              token_name: ''\n",
      "            party:\n",
      "              role_token: e.cary\n",
      "          then:\n",
      "            timeout: 1676679840000\n",
      "            timeout_continuation: close\n",
      "            when:\n",
      "            - case:\n",
      "                deposits: 100000000\n",
      "                into_account:\n",
      "                  role_token: j.lumley\n",
      "                of_token:\n",
      "                  currency_symbol: ''\n",
      "                  token_name: ''\n",
      "                party:\n",
      "                  role_token: j.lumley\n",
      "              then:\n",
      "                timeout: 1676679850000\n",
      "                timeout_continuation: close\n",
      "                when:\n",
      "                - case:\n",
      "                    deposits: 100000000\n",
      "                    into_account:\n",
      "                      role_token: m.herbert\n",
      "                    of_token:\n",
      "                      currency_symbol: ''\n",
      "                      token_name: ''\n",
      "                    party:\n",
      "                      role_token: m.herbert\n",
      "                  then:\n",
      "                    timeout: 1676679860000\n",
      "                    timeout_continuation: close\n",
      "                    when:\n",
      "                    - case:\n",
      "                        deposits: 1\n",
      "                        into_account:\n",
      "                          role_token: e.cary\n",
      "                        of_token:\n",
      "                          currency_symbol: 8bb3b343d8e404472337966a722150048c768d0a92a9813596c5338d\n",
      "                          token_name: BearGarden\n",
      "                        party:\n",
      "                          role_token: c.marlowe\n",
      "                      then:\n",
      "                        from_account:\n",
      "                          role_token: e.cary\n",
      "                        pay: 100000000\n",
      "                        then:\n",
      "                          from_account:\n",
      "                            role_token: m.herbert\n",
      "                          pay: 100000000\n",
      "                          then:\n",
      "                            from_account:\n",
      "                              role_token: j.lumley\n",
      "                            pay: 100000000\n",
      "                            then:\n",
      "                              timeout: 1676679870000\n",
      "                              timeout_continuation: close\n",
      "                              when:\n",
      "                              - case:\n",
      "                                  deposits: 300000000\n",
      "                                  into_account:\n",
      "                                    role_token: e.cary\n",
      "                                  of_token:\n",
      "                                    currency_symbol: ''\n",
      "                                    token_name: ''\n",
      "                                  party:\n",
      "                                    role_token: e.cary\n",
      "                                then:\n",
      "                                  from_account:\n",
      "                                    role_token: e.cary\n",
      "                                  pay: 1\n",
      "                                  then:\n",
      "                                    from_account:\n",
      "                                      role_token: e.cary\n",
      "                                    pay: 150000000\n",
      "                                    then:\n",
      "                                      from_account:\n",
      "                                        role_token: e.cary\n",
      "                                      pay: 150000000\n",
      "                                      then: close\n",
      "                                      to:\n",
      "                                        party:\n",
      "                                          role_token: j.lumley\n",
      "                                      token:\n",
      "                                        currency_symbol: ''\n",
      "                                        token_name: ''\n",
      "                                    to:\n",
      "                                      party:\n",
      "                                        role_token: m.herbert\n",
      "                                    token:\n",
      "                                      currency_symbol: ''\n",
      "                                      token_name: ''\n",
      "                                  to:\n",
      "                                    party:\n",
      "                                      role_token: e.cary\n",
      "                                  token:\n",
      "                                    currency_symbol: 8bb3b343d8e404472337966a722150048c768d0a92a9813596c5338d\n",
      "                                    token_name: BearGarden\n",
      "                              - case:\n",
      "                                  deposits: 300000000\n",
      "                                  into_account:\n",
      "                                    role_token: m.herbert\n",
      "                                  of_token:\n",
      "                                    currency_symbol: ''\n",
      "                                    token_name: ''\n",
      "                                  party:\n",
      "                                    role_token: m.herbert\n",
      "                                then:\n",
      "                                  from_account:\n",
      "                                    role_token: m.herbert\n",
      "                                  pay: 150000000\n",
      "                                  then:\n",
      "                                    from_account:\n",
      "                                      role_token: e.cary\n",
      "                                    pay: 1\n",
      "                                    then:\n",
      "                                      from_account:\n",
      "                                        role_token: m.herbert\n",
      "                                      pay: 150000000\n",
      "                                      then: close\n",
      "                                      to:\n",
      "                                        party:\n",
      "                                          role_token: j.lumley\n",
      "                                      token:\n",
      "                                        currency_symbol: ''\n",
      "                                        token_name: ''\n",
      "                                    to:\n",
      "                                      party:\n",
      "                                        role_token: m.herbert\n",
      "                                    token:\n",
      "                                      currency_symbol: 8bb3b343d8e404472337966a722150048c768d0a92a9813596c5338d\n",
      "                                      token_name: BearGarden\n",
      "                                  to:\n",
      "                                    party:\n",
      "                                      role_token: e.cary\n",
      "                                  token:\n",
      "                                    currency_symbol: ''\n",
      "                                    token_name: ''\n",
      "                              - case:\n",
      "                                  deposits: 300000000\n",
      "                                  into_account:\n",
      "                                    role_token: j.lumley\n",
      "                                  of_token:\n",
      "                                    currency_symbol: ''\n",
      "                                    token_name: ''\n",
      "                                  party:\n",
      "                                    role_token: j.lumley\n",
      "                                then:\n",
      "                                  from_account:\n",
      "                                    role_token: j.lumley\n",
      "                                  pay: 150000000\n",
      "                                  then:\n",
      "                                    from_account:\n",
      "                                      role_token: j.lumley\n",
      "                                    pay: 150000000\n",
      "                                    then:\n",
      "                                      from_account:\n",
      "                                        role_token: e.cary\n",
      "                                      pay: 1\n",
      "                                      then: close\n",
      "                                      to:\n",
      "                                        party:\n",
      "                                          role_token: j.lumley\n",
      "                                      token:\n",
      "                                        currency_symbol: 8bb3b343d8e404472337966a722150048c768d0a92a9813596c5338d\n",
      "                                        token_name: BearGarden\n",
      "                                    to:\n",
      "                                      party:\n",
      "                                        role_token: m.herbert\n",
      "                                    token:\n",
      "                                      currency_symbol: ''\n",
      "                                      token_name: ''\n",
      "                                  to:\n",
      "                                    party:\n",
      "                                      role_token: e.cary\n",
      "                                  token:\n",
      "                                    currency_symbol: ''\n",
      "                                    token_name: ''\n",
      "                            to:\n",
      "                              party:\n",
      "                                role_token: c.marlowe\n",
      "                            token:\n",
      "                              currency_symbol: ''\n",
      "                              token_name: ''\n",
      "                          to:\n",
      "                            party:\n",
      "                              role_token: c.marlowe\n",
      "                          token:\n",
      "                            currency_symbol: ''\n",
      "                            token_name: ''\n",
      "                        to:\n",
      "                          party:\n",
      "                            role_token: c.marlowe\n",
      "                        token:\n",
      "                          currency_symbol: ''\n",
      "                          token_name: ''\n",
      "      marloweParams:\n",
      "        rolesCurrency: f0ff48bbb7bbe9d59a40f1ce90e9e9d0ff5002ec48f232b49ca0fb9a\n",
      "      marloweState:\n",
      "        accounts:\n",
      "        - - - address: addr1qy9prvx8ufwutkwxx9cmmuuajaqmjqwujqlp9d8pvg6gupcvluken35ncjnu0puetf5jvttedkze02d5kf890kquh60sut9jg7\n",
      "            - currency_symbol: ''\n",
      "              token_name: ''\n",
      "          - 3000000\n",
      "        boundValues: []\n",
      "        choices: []\n",
      "        minTime: 0\n",
      "    utxo:\n",
      "      txId: e9b4608d23b955783bce458c02687353e9497c30980ae8ad941256a74840cd5b\n",
      "      txIx: 1\n",
      "  payoutValidatorHash: 49076eab20243dc9462511fb98a9cfb719f86e9692288139b7c91df3\n",
      "response: info\n",
      "steps: []\n"
     ]
    }
   ],
   "source": [
    "echo '{\"request\" : \"get\", \"contractId\" : \"'\"$CONTRACT_ID\"'\"}' | marlowe-pipe 2> /dev/null | json2yaml"
   ]
  },
  {
   "cell_type": "markdown",
   "id": "77f4627e-db3e-4a24-8da2-c03c30d92bb0",
   "metadata": {},
   "source": [
    "## Transaction 2. Elizabeth Cary deposits 100 Ada"
   ]
  },
  {
   "cell_type": "code",
   "execution_count": 12,
   "id": "1546d7a5-b9b0-4ea3-a226-d1e6534b9471",
   "metadata": {},
   "outputs": [
    {
     "name": "stdout",
     "output_type": "stream",
     "text": [
      "TX_2 = 72e4916c2cb6626af2102062a592f4ba8f2d2f649ea9e8934191e2f875fca204\n"
     ]
    }
   ],
   "source": [
    "TX_2=$(\n",
    "marlowe deposit \\\n",
    "  --contract \"$CONTRACT_ID\" \\\n",
    "  --from-party \"${ROLE_NAME[e.cary]}\" \\\n",
    "  --to-party \"${ROLE_NAME[e.cary]}\" \\\n",
    "  --lovelace \"$((100 * ADA))\" \\\n",
    "  --change-address \"${ROLE_ADDR[e.cary]}\" \\\n",
    "  --manual-sign tx-2.unsigned \\\n",
    "| jq -r 'fromjson | .txId' \\\n",
    ")\n",
    "echo \"TX_2 = $TX_2\""
   ]
  },
  {
   "cell_type": "markdown",
   "id": "9c8893a7-8c27-4fea-ab27-f0347f3e0fff",
   "metadata": {},
   "source": [
    "Sign and submit the transaction."
   ]
  },
  {
   "cell_type": "code",
   "execution_count": 13,
   "id": "249d7fe9-82e4-4e73-899d-f01bbff1bc92",
   "metadata": {},
   "outputs": [
    {
     "name": "stdout",
     "output_type": "stream",
     "text": [
      "TxId \"72e4916c2cb6626af2102062a592f4ba8f2d2f649ea9e8934191e2f875fca204\"\n"
     ]
    }
   ],
   "source": [
    "marlowe-cli transaction submit \\\n",
    "  --mainnet \\\n",
    "  --tx-body-file tx-2.unsigned \\\n",
    "  --required-signer \"${ROLE_SKEY[e.cary]}\" \\\n",
    "  --timeout 600"
   ]
  },
  {
   "cell_type": "markdown",
   "id": "11b72240-a61d-440c-8990-1527f0faaed8",
   "metadata": {},
   "source": [
    "See that the contract has received the 100 Ada."
   ]
  },
  {
   "cell_type": "code",
   "execution_count": 14,
   "id": "c9e3eb6e-161e-4157-b0df-477c567af578",
   "metadata": {},
   "outputs": [
    {
     "name": "stdout",
     "output_type": "stream",
     "text": [
      "https://cardanoscan.io/transaction/72e4916c2cb6626af2102062a592f4ba8f2d2f649ea9e8934191e2f875fca204?tab=utxo\n"
     ]
    }
   ],
   "source": [
    "echo \"https://cardanoscan.io/transaction/${TX_2}?tab=utxo\""
   ]
  },
  {
   "cell_type": "markdown",
   "id": "09558e67-c3d7-4f7e-a168-771b13acc140",
   "metadata": {},
   "source": [
    "## Transaction 3. Jane Lumley deposits 100 Ada"
   ]
  },
  {
   "cell_type": "code",
   "execution_count": 15,
   "id": "4d9c0be8-b900-41c8-94ad-dc915afa24ff",
   "metadata": {},
   "outputs": [
    {
     "name": "stdout",
     "output_type": "stream",
     "text": [
      "TX_3 = 751155b2ccf8f810cbaf9f1f5ac59e30f1b7c5a5667306eb5878ed2e85227fe9\n"
     ]
    }
   ],
   "source": [
    "TX_3=$(\n",
    "marlowe deposit \\\n",
    "  --contract \"$CONTRACT_ID\" \\\n",
    "  --from-party \"${ROLE_NAME[j.lumley]}\" \\\n",
    "  --to-party \"${ROLE_NAME[j.lumley]}\" \\\n",
    "  --lovelace \"$((100 * ADA))\" \\\n",
    "  --change-address \"${ROLE_ADDR[j.lumley]}\" \\\n",
    "  --manual-sign tx-3.unsigned \\\n",
    "| jq -r 'fromjson | .txId' \\\n",
    ")\n",
    "echo \"TX_3 = $TX_3\""
   ]
  },
  {
   "cell_type": "markdown",
   "id": "ed5f003f-c553-4b2e-8a82-9c4101a4db1b",
   "metadata": {},
   "source": [
    "Sign and submit the transaction."
   ]
  },
  {
   "cell_type": "code",
   "execution_count": 16,
   "id": "16b0ae1e-1b7e-4165-a65c-435355fe4bab",
   "metadata": {},
   "outputs": [
    {
     "name": "stdout",
     "output_type": "stream",
     "text": [
      "TxId \"751155b2ccf8f810cbaf9f1f5ac59e30f1b7c5a5667306eb5878ed2e85227fe9\"\n"
     ]
    }
   ],
   "source": [
    "marlowe-cli transaction submit \\\n",
    "  --mainnet \\\n",
    "  --tx-body-file tx-3.unsigned \\\n",
    "  --required-signer \"${ROLE_SKEY[j.lumley]}\" \\\n",
    "  --timeout 600"
   ]
  },
  {
   "cell_type": "markdown",
   "id": "7aa62786-aa33-498e-b87d-2779727e7ca1",
   "metadata": {},
   "source": [
    "See that the contract now has 200 Ada."
   ]
  },
  {
   "cell_type": "code",
   "execution_count": 17,
   "id": "4fc98080-05e5-483c-9a00-0cec1c323023",
   "metadata": {},
   "outputs": [
    {
     "name": "stdout",
     "output_type": "stream",
     "text": [
      "https://cardanoscan.io/transaction/751155b2ccf8f810cbaf9f1f5ac59e30f1b7c5a5667306eb5878ed2e85227fe9?tab=utxo\n"
     ]
    }
   ],
   "source": [
    "echo \"https://cardanoscan.io/transaction/${TX_3}?tab=utxo\""
   ]
  },
  {
   "cell_type": "markdown",
   "id": "47a43c45-3035-462d-a3b3-6826e7090b9d",
   "metadata": {},
   "source": [
    "## Transaction 4. Mary Herbert deposits 100 Ada"
   ]
  },
  {
   "cell_type": "code",
   "execution_count": 18,
   "id": "721b01e7-2305-4c77-9c5e-8c0a420ea087",
   "metadata": {},
   "outputs": [
    {
     "name": "stdout",
     "output_type": "stream",
     "text": [
      "TX_4 = 76cdca5b9b4efcad402c9c0eb61ef08898b9f854b392d33f9f57b52a137b1fbe\n"
     ]
    }
   ],
   "source": [
    "TX_4=$(\n",
    "marlowe deposit \\\n",
    "  --contract \"$CONTRACT_ID\" \\\n",
    "  --from-party \"${ROLE_NAME[m.herbert]}\" \\\n",
    "  --to-party \"${ROLE_NAME[m.herbert]}\" \\\n",
    "  --lovelace \"$((100 * ADA))\" \\\n",
    "  --change-address \"${ROLE_ADDR[m.herbert]}\" \\\n",
    "  --manual-sign tx-4.unsigned \\\n",
    "| jq -r 'fromjson | .txId' \\\n",
    ")\n",
    "echo \"TX_4 = $TX_4\""
   ]
  },
  {
   "cell_type": "markdown",
   "id": "d35135ba-3a5a-48a0-8e7d-5b3dfcd05acf",
   "metadata": {},
   "source": [
    "Sign and submit the transaction."
   ]
  },
  {
   "cell_type": "code",
   "execution_count": 19,
   "id": "b61c6f52-62f8-4914-adfa-15437fa78e24",
   "metadata": {},
   "outputs": [
    {
     "name": "stdout",
     "output_type": "stream",
     "text": [
      "TxId \"76cdca5b9b4efcad402c9c0eb61ef08898b9f854b392d33f9f57b52a137b1fbe\"\n"
     ]
    }
   ],
   "source": [
    "marlowe-cli transaction submit \\\n",
    "  --mainnet \\\n",
    "  --tx-body-file tx-4.unsigned \\\n",
    "  --required-signer \"${ROLE_SKEY[m.herbert]}\" \\\n",
    "  --timeout 600"
   ]
  },
  {
   "cell_type": "markdown",
   "id": "6d34c374-0cee-4bd3-ae75-a3ae5a12333c",
   "metadata": {},
   "source": [
    "See that the contract now has 300 Ada."
   ]
  },
  {
   "cell_type": "code",
   "execution_count": 20,
   "id": "4252cf10-3476-4bca-8bad-d1704f18e9c1",
   "metadata": {},
   "outputs": [
    {
     "name": "stdout",
     "output_type": "stream",
     "text": [
      "https://cardanoscan.io/transaction/76cdca5b9b4efcad402c9c0eb61ef08898b9f854b392d33f9f57b52a137b1fbe?tab=utxo\n"
     ]
    }
   ],
   "source": [
    "echo \"https://cardanoscan.io/transaction/${TX_4}?tab=utxo\""
   ]
  },
  {
   "cell_type": "markdown",
   "id": "a1056e4d-2162-474f-8300-879325a8471e",
   "metadata": {},
   "source": [
    "## Transaction 5. Christopher Marlowe deposits the BearGarden token\n",
    "\n",
    "This causes the 300 Ada to be paid for his benefit."
   ]
  },
  {
   "cell_type": "code",
   "execution_count": 21,
   "id": "8bee1ca0-d3e2-4f16-94df-fbed2fa19c10",
   "metadata": {},
   "outputs": [
    {
     "name": "stdout",
     "output_type": "stream",
     "text": [
      "TX_5 = 19459abed8961d91ba258648a0616e0a9932c0d04863a8b5d92075db16b8b97e\n"
     ]
    }
   ],
   "source": [
    "TX_5=$(\n",
    "marlowe deposit \\\n",
    "  --contract \"$CONTRACT_ID\" \\\n",
    "  --from-party \"${ROLE_NAME[c.marlowe]}\" \\\n",
    "  --to-party \"${ROLE_NAME[e.cary]}\" \\\n",
    "  --currency \"$FUNGIBLES_POLICY\" \\\n",
    "  --token-name BearGarden \\\n",
    "  --quantity 1 \\\n",
    "  --change-address \"${ROLE_ADDR[c.marlowe]}\" \\\n",
    "  --manual-sign tx-5.unsigned \\\n",
    "| jq -r 'fromjson | .txId' \\\n",
    ")\n",
    "echo \"TX_5 = $TX_5\""
   ]
  },
  {
   "cell_type": "markdown",
   "id": "1aea5480-8c7d-47ea-9110-bb03351da887",
   "metadata": {},
   "source": [
    "Sign and submit the transaction."
   ]
  },
  {
   "cell_type": "code",
   "execution_count": 22,
   "id": "db5e4861-7b3f-41a8-a0e7-440b69e73092",
   "metadata": {},
   "outputs": [
    {
     "name": "stdout",
     "output_type": "stream",
     "text": [
      "TxId \"19459abed8961d91ba258648a0616e0a9932c0d04863a8b5d92075db16b8b97e\"\n"
     ]
    }
   ],
   "source": [
    "marlowe-cli transaction submit \\\n",
    "  --mainnet \\\n",
    "  --tx-body-file tx-5.unsigned \\\n",
    "  --required-signer \"${ROLE_SKEY[c.marlowe]}\" \\\n",
    "  --timeout 600"
   ]
  },
  {
   "cell_type": "markdown",
   "id": "455e54b4-a172-437e-ae18-de4f657e7c7d",
   "metadata": {},
   "source": [
    "See that the contract has the token and has paid the 300 Ada."
   ]
  },
  {
   "cell_type": "code",
   "execution_count": 23,
   "id": "d568d825-dc4a-46bd-91db-d192f9969c6a",
   "metadata": {},
   "outputs": [
    {
     "name": "stdout",
     "output_type": "stream",
     "text": [
      "https://cardanoscan.io/transaction/19459abed8961d91ba258648a0616e0a9932c0d04863a8b5d92075db16b8b97e?tab=utxo\n"
     ]
    }
   ],
   "source": [
    "echo \"https://cardanoscan.io/transaction/${TX_5}?tab=utxo\""
   ]
  },
  {
   "cell_type": "markdown",
   "id": "b8fae36c-406d-495f-8194-02dc58869c24",
   "metadata": {},
   "source": [
    "## Transaction 6. Christopher Marlowe withdraws his 300 Ada"
   ]
  },
  {
   "cell_type": "code",
   "execution_count": 24,
   "id": "bfc24875-269a-4b39-b55a-fad40b7c762a",
   "metadata": {},
   "outputs": [
    {
     "name": "stdout",
     "output_type": "stream",
     "text": [
      "TX_6 = e14270e0ea927b313b3e0d7b56f373037aa84b140536f3881da84f6019f94d6b\n"
     ]
    }
   ],
   "source": [
    "TX_6=$(\n",
    "marlowe withdraw \\\n",
    "  --contract \"$CONTRACT_ID\" \\\n",
    "  --role \"${ROLE_NAME[c.marlowe]}\" \\\n",
    "  --change-address \"${ROLE_ADDR[c.marlowe]}\" \\\n",
    "  --manual-sign tx-6.unsigned \\\n",
    "| jq -r 'fromjson | .txId' \\\n",
    ")\n",
    "echo \"TX_6 = $TX_6\""
   ]
  },
  {
   "cell_type": "markdown",
   "id": "68f1185b-443f-494e-8129-30b6e89c6087",
   "metadata": {},
   "source": [
    "Sign and submit the transaction."
   ]
  },
  {
   "cell_type": "code",
   "execution_count": 25,
   "id": "3632aaa0-b8bd-447c-9078-585027afa510",
   "metadata": {},
   "outputs": [
    {
     "name": "stdout",
     "output_type": "stream",
     "text": [
      "TxId \"e14270e0ea927b313b3e0d7b56f373037aa84b140536f3881da84f6019f94d6b\"\n"
     ]
    }
   ],
   "source": [
    "marlowe-cli transaction submit \\\n",
    "  --mainnet \\\n",
    "  --tx-body-file tx-6.unsigned \\\n",
    "  --required-signer \"${ROLE_SKEY[c.marlowe]}\" \\\n",
    "  --timeout 600"
   ]
  },
  {
   "cell_type": "markdown",
   "id": "2e50a02c-1257-4813-8a13-57cc880fa6af",
   "metadata": {},
   "source": [
    "See that the Ada has been withdrawn."
   ]
  },
  {
   "cell_type": "code",
   "execution_count": 26,
   "id": "1fce186c-3dc9-4677-bb21-23fb4a10a586",
   "metadata": {},
   "outputs": [
    {
     "name": "stdout",
     "output_type": "stream",
     "text": [
      "https://cardanoscan.io/transaction/e14270e0ea927b313b3e0d7b56f373037aa84b140536f3881da84f6019f94d6b?tab=utxo\n"
     ]
    }
   ],
   "source": [
    "echo \"https://cardanoscan.io/transaction/${TX_6}?tab=utxo\""
   ]
  },
  {
   "cell_type": "markdown",
   "id": "55c637a5-09bf-4ff6-810d-d76c4a36de99",
   "metadata": {},
   "source": [
    "## Transaction 7. Mary Herbet deposits 300 Ada to claim the token for herself\n",
    "\n",
    "This causes 150 Ada each to be paid to the co-owners and the token to be paid Mary Herbert, all at the role-payout address."
   ]
  },
  {
   "cell_type": "code",
   "execution_count": 27,
   "id": "06489044-4c25-4667-8294-e3643ff0c38d",
   "metadata": {},
   "outputs": [
    {
     "name": "stdout",
     "output_type": "stream",
     "text": [
      "TX_7 = d86636353bc234b416d43b4c754f9c55bae6643abba25eaa812359574006074d\n"
     ]
    }
   ],
   "source": [
    "TX_7=$(\n",
    "marlowe deposit \\\n",
    "  --contract \"$CONTRACT_ID\" \\\n",
    "  --from-party \"${ROLE_NAME[m.herbert]}\" \\\n",
    "  --to-party \"${ROLE_NAME[m.herbert]}\" \\\n",
    "  --lovelace \"$((300 * ADA))\" \\\n",
    "  --change-address \"${ROLE_ADDR[m.herbert]}\" \\\n",
    "  --manual-sign tx-7.unsigned \\\n",
    "| jq -r 'fromjson | .txId' \\\n",
    ")\n",
    "echo \"TX_7 = $TX_7\""
   ]
  },
  {
   "cell_type": "markdown",
   "id": "e745dc87-080f-4df0-a71f-d62216116b93",
   "metadata": {},
   "source": [
    "Sign and submit the transaction."
   ]
  },
  {
   "cell_type": "code",
   "execution_count": 28,
   "id": "d60768a5-4dea-4ee1-b1f5-73358cbb334f",
   "metadata": {},
   "outputs": [
    {
     "name": "stdout",
     "output_type": "stream",
     "text": [
      "TxId \"d86636353bc234b416d43b4c754f9c55bae6643abba25eaa812359574006074d\"\n"
     ]
    }
   ],
   "source": [
    "marlowe-cli transaction submit \\\n",
    "  --mainnet \\\n",
    "  --tx-body-file tx-7.unsigned \\\n",
    "  --required-signer \"${ROLE_SKEY[m.herbert]}\" \\\n",
    "  --timeout 600"
   ]
  },
  {
   "cell_type": "markdown",
   "id": "968cb6c9-a4c9-4a43-b963-3e82e9312654",
   "metadata": {},
   "source": [
    "See that the contract has closed and paid the Ada and token."
   ]
  },
  {
   "cell_type": "code",
   "execution_count": 29,
   "id": "292cd874-e78d-43f2-ae7e-44536ea82cb8",
   "metadata": {},
   "outputs": [
    {
     "name": "stdout",
     "output_type": "stream",
     "text": [
      "https://cardanoscan.io/transaction/d86636353bc234b416d43b4c754f9c55bae6643abba25eaa812359574006074d?tab=utxo\n"
     ]
    }
   ],
   "source": [
    "echo \"https://cardanoscan.io/transaction/${TX_7}?tab=utxo\""
   ]
  },
  {
   "cell_type": "markdown",
   "id": "223d7343-e5aa-4595-8849-485ad023aabb",
   "metadata": {},
   "source": [
    "## Transaction 8. Elizabeth Cary withdraws her 150 Ada"
   ]
  },
  {
   "cell_type": "code",
   "execution_count": 30,
   "id": "02d0bd24-90a4-4bab-929a-08a558883395",
   "metadata": {},
   "outputs": [
    {
     "name": "stdout",
     "output_type": "stream",
     "text": [
      "TX_8=493637cec0d089348a3f0f9c3064bc4978a5571d699db6e7ef0d1b6b625e59cc\n"
     ]
    }
   ],
   "source": [
    "TX_8=$(\n",
    "marlowe withdraw \\\n",
    "  --contract \"$CONTRACT_ID\" \\\n",
    "  --role \"${ROLE_NAME[e.cary]}\" \\\n",
    "  --change-address \"${ROLE_ADDR[e.cary]}\" \\\n",
    "  --manual-sign tx-8.unsigned \\\n",
    "| jq -r 'fromjson | .txId' \\\n",
    ")\n",
    "echo \"TX_8 = $TX_8\""
   ]
  },
  {
   "cell_type": "markdown",
   "id": "c8e24e3c-e053-4c2e-93be-1eb6dff1feed",
   "metadata": {},
   "source": [
    "Sign and submit the transaction."
   ]
  },
  {
   "cell_type": "code",
   "execution_count": 31,
   "id": "5ae4d2a2-835b-4788-86dc-fda080ed2f0e",
   "metadata": {},
   "outputs": [
    {
     "name": "stdout",
     "output_type": "stream",
     "text": [
      "TxId \"493637cec0d089348a3f0f9c3064bc4978a5571d699db6e7ef0d1b6b625e59cc\"\n"
     ]
    }
   ],
   "source": [
    "marlowe-cli transaction submit \\\n",
    "  --mainnet \\\n",
    "  --tx-body-file tx-8.unsigned \\\n",
    "  --required-signer \"${ROLE_SKEY[e.cary]}\" \\\n",
    "  --timeout 600"
   ]
  },
  {
   "cell_type": "markdown",
   "id": "327ca87a-2ef0-44e1-8a5b-3483eb22c22e",
   "metadata": {},
   "source": [
    "See that her Ada has been withdrawn."
   ]
  },
  {
   "cell_type": "code",
   "execution_count": 32,
   "id": "a35b081c-a05b-43f9-a284-c3ab71f71c0b",
   "metadata": {},
   "outputs": [
    {
     "name": "stdout",
     "output_type": "stream",
     "text": [
      "https://cardanoscan.io/transaction/493637cec0d089348a3f0f9c3064bc4978a5571d699db6e7ef0d1b6b625e59cc?tab=utxo\n"
     ]
    }
   ],
   "source": [
    "echo \"https://cardanoscan.io/transaction/${TX_8}?tab=utxo\""
   ]
  },
  {
   "cell_type": "markdown",
   "id": "4c0fd54b-8aee-495d-a2f8-36c7654a9a5b",
   "metadata": {},
   "source": [
    "## Transaction 9. Jane Lumley withdraws her 150 Ada"
   ]
  },
  {
   "cell_type": "code",
   "execution_count": 33,
   "id": "1adbc9d1-4cfd-4c83-a549-a680ef4615f3",
   "metadata": {},
   "outputs": [
    {
     "name": "stdout",
     "output_type": "stream",
     "text": [
      "TX_9 = ab576de1aae77fd5fee0892eefb3062fc4a2e68394d752e528722f0a3ca3623a\n"
     ]
    }
   ],
   "source": [
    "TX_9=$(\n",
    "marlowe withdraw \\\n",
    "  --contract \"$CONTRACT_ID\" \\\n",
    "  --role \"${ROLE_NAME[j.lumley]}\" \\\n",
    "  --change-address \"${ROLE_ADDR[j.lumley]}\" \\\n",
    "  --manual-sign tx-9.unsigned \\\n",
    "| jq -r 'fromjson | .txId' \\\n",
    ")\n",
    "echo \"TX_9 = $TX_9\""
   ]
  },
  {
   "cell_type": "markdown",
   "id": "9c986c3c-32b7-4b34-9b51-be0c1061a9a1",
   "metadata": {},
   "source": [
    "Sign and submit the transaction."
   ]
  },
  {
   "cell_type": "code",
   "execution_count": 34,
   "id": "5dbad242-fec4-4af5-b647-9bd69eadcd4b",
   "metadata": {},
   "outputs": [
    {
     "name": "stdout",
     "output_type": "stream",
     "text": [
      "TxId \"ab576de1aae77fd5fee0892eefb3062fc4a2e68394d752e528722f0a3ca3623a\"\n"
     ]
    }
   ],
   "source": [
    "marlowe-cli transaction submit \\\n",
    " --mainnet \\\n",
    "  --tx-body-file tx-9.unsigned \\\n",
    "  --required-signer \"${ROLE_SKEY[j.lumley]}\" \\\n",
    "  --timeout 600"
   ]
  },
  {
   "cell_type": "markdown",
   "id": "29393f5d-c760-4353-9d07-0d86d9f734e4",
   "metadata": {},
   "source": [
    "See that her Ada has been withdrawn."
   ]
  },
  {
   "cell_type": "code",
   "execution_count": 35,
   "id": "25c55c2d-4b24-4154-9d1f-5dfd3f4b7ad9",
   "metadata": {},
   "outputs": [
    {
     "name": "stdout",
     "output_type": "stream",
     "text": [
      "https://cardanoscan.io/transaction/ab576de1aae77fd5fee0892eefb3062fc4a2e68394d752e528722f0a3ca3623a?tab=utxo\n"
     ]
    }
   ],
   "source": [
    "echo \"https://cardanoscan.io/transaction/${TX_9}?tab=utxo\""
   ]
  },
  {
   "cell_type": "markdown",
   "id": "19e72bd0-3c2b-4ef9-af09-1e448a5860eb",
   "metadata": {},
   "source": [
    "## Transaction 10. Mary Herbert withdraws her BearGarden token"
   ]
  },
  {
   "cell_type": "code",
   "execution_count": 36,
   "id": "c26754cd-ba4d-4e95-a656-e8da795d9644",
   "metadata": {},
   "outputs": [
    {
     "name": "stdout",
     "output_type": "stream",
     "text": [
      "TX_10 = e0155b5b3cad34a758ba7be22408500b15b8c9b81b2365212df9b542cfb1127c\n"
     ]
    }
   ],
   "source": [
    "TX_10=$(\n",
    "marlowe withdraw \\\n",
    "  --contract \"$CONTRACT_ID\" \\\n",
    "  --role \"${ROLE_NAME[m.herbert]}\" \\\n",
    "  --change-address \"${ROLE_ADDR[m.herbert]}\" \\\n",
    "  --manual-sign tx-10.unsigned \\\n",
    "| jq -r 'fromjson | .txId' \\\n",
    ")\n",
    "echo \"TX_10 = $TX_10\""
   ]
  },
  {
   "cell_type": "markdown",
   "id": "7c368e83-71cd-4dd7-98d4-6a79f1a59108",
   "metadata": {},
   "source": [
    "Sign and submit the transaction."
   ]
  },
  {
   "cell_type": "code",
   "execution_count": 37,
   "id": "4821a8f7-21a6-43d9-920f-989cd78bc89a",
   "metadata": {},
   "outputs": [
    {
     "name": "stdout",
     "output_type": "stream",
     "text": [
      "TxId \"e0155b5b3cad34a758ba7be22408500b15b8c9b81b2365212df9b542cfb1127c\"\n"
     ]
    }
   ],
   "source": [
    "marlowe-cli transaction submit \\\n",
    "  --mainnet \\\n",
    "  --tx-body-file tx-10.unsigned \\\n",
    "  --required-signer \"${ROLE_SKEY[m.herbert]}\" \\\n",
    "  --timeout 600"
   ]
  },
  {
   "cell_type": "code",
   "execution_count": 38,
   "id": "0ae93e24-a6dc-4fa7-8aff-418df71ab314",
   "metadata": {},
   "outputs": [
    {
     "name": "stdout",
     "output_type": "stream",
     "text": [
      "https://cardanoscan.io/transaction/e0155b5b3cad34a758ba7be22408500b15b8c9b81b2365212df9b542cfb1127c?tab=utxo\n"
     ]
    }
   ],
   "source": [
    "echo \"https://cardanoscan.io/transaction/${TX_10}?tab=utxo\""
   ]
  },
  {
   "cell_type": "markdown",
   "id": "be4347d6-7ab0-4980-b85a-2938b255d5d8",
   "metadata": {},
   "source": [
    "## View the whole history of the contract\n",
    "\n",
    "We use `marlowe-pipe` to print the whole history of this contract."
   ]
  },
  {
   "cell_type": "code",
   "execution_count": 39,
   "id": "ad030763-bc11-4f87-9b0e-6fdb268552c4",
   "metadata": {},
   "outputs": [
    {
     "name": "stdout",
     "output_type": "stream",
     "text": [
      "creation:\n",
      "  output:\n",
      "    address: 716a9391d6aa51af28dd876ebb5565b69d1e83e5ac7861506bd29b56b0\n",
      "    assets:\n",
      "      ada: 3000000\n",
      "      tokens: []\n",
      "    datum:\n",
      "      marloweContract:\n",
      "        timeout: 1676679830000\n",
      "        timeout_continuation: close\n",
      "        when:\n",
      "        - case:\n",
      "            deposits: 100000000\n",
      "            into_account:\n",
      "              role_token: e.cary\n",
      "            of_token:\n",
      "              currency_symbol: ''\n",
      "              token_name: ''\n",
      "            party:\n",
      "              role_token: e.cary\n",
      "          then:\n",
      "            timeout: 1676679840000\n",
      "            timeout_continuation: close\n",
      "            when:\n",
      "            - case:\n",
      "                deposits: 100000000\n",
      "                into_account:\n",
      "                  role_token: j.lumley\n",
      "                of_token:\n",
      "                  currency_symbol: ''\n",
      "                  token_name: ''\n",
      "                party:\n",
      "                  role_token: j.lumley\n",
      "              then:\n",
      "                timeout: 1676679850000\n",
      "                timeout_continuation: close\n",
      "                when:\n",
      "                - case:\n",
      "                    deposits: 100000000\n",
      "                    into_account:\n",
      "                      role_token: m.herbert\n",
      "                    of_token:\n",
      "                      currency_symbol: ''\n",
      "                      token_name: ''\n",
      "                    party:\n",
      "                      role_token: m.herbert\n",
      "                  then:\n",
      "                    timeout: 1676679860000\n",
      "                    timeout_continuation: close\n",
      "                    when:\n",
      "                    - case:\n",
      "                        deposits: 1\n",
      "                        into_account:\n",
      "                          role_token: e.cary\n",
      "                        of_token:\n",
      "                          currency_symbol: 8bb3b343d8e404472337966a722150048c768d0a92a9813596c5338d\n",
      "                          token_name: BearGarden\n",
      "                        party:\n",
      "                          role_token: c.marlowe\n",
      "                      then:\n",
      "                        from_account:\n",
      "                          role_token: e.cary\n",
      "                        pay: 100000000\n",
      "                        then:\n",
      "                          from_account:\n",
      "                            role_token: m.herbert\n",
      "                          pay: 100000000\n",
      "                          then:\n",
      "                            from_account:\n",
      "                              role_token: j.lumley\n",
      "                            pay: 100000000\n",
      "                            then:\n",
      "                              timeout: 1676679870000\n",
      "                              timeout_continuation: close\n",
      "                              when:\n",
      "                              - case:\n",
      "                                  deposits: 300000000\n",
      "                                  into_account:\n",
      "                                    role_token: e.cary\n",
      "                                  of_token:\n",
      "                                    currency_symbol: ''\n",
      "                                    token_name: ''\n",
      "                                  party:\n",
      "                                    role_token: e.cary\n",
      "                                then:\n",
      "                                  from_account:\n",
      "                                    role_token: e.cary\n",
      "                                  pay: 1\n",
      "                                  then:\n",
      "                                    from_account:\n",
      "                                      role_token: e.cary\n",
      "                                    pay: 150000000\n",
      "                                    then:\n",
      "                                      from_account:\n",
      "                                        role_token: e.cary\n",
      "                                      pay: 150000000\n",
      "                                      then: close\n",
      "                                      to:\n",
      "                                        party:\n",
      "                                          role_token: j.lumley\n",
      "                                      token:\n",
      "                                        currency_symbol: ''\n",
      "                                        token_name: ''\n",
      "                                    to:\n",
      "                                      party:\n",
      "                                        role_token: m.herbert\n",
      "                                    token:\n",
      "                                      currency_symbol: ''\n",
      "                                      token_name: ''\n",
      "                                  to:\n",
      "                                    party:\n",
      "                                      role_token: e.cary\n",
      "                                  token:\n",
      "                                    currency_symbol: 8bb3b343d8e404472337966a722150048c768d0a92a9813596c5338d\n",
      "                                    token_name: BearGarden\n",
      "                              - case:\n",
      "                                  deposits: 300000000\n",
      "                                  into_account:\n",
      "                                    role_token: m.herbert\n",
      "                                  of_token:\n",
      "                                    currency_symbol: ''\n",
      "                                    token_name: ''\n",
      "                                  party:\n",
      "                                    role_token: m.herbert\n",
      "                                then:\n",
      "                                  from_account:\n",
      "                                    role_token: m.herbert\n",
      "                                  pay: 150000000\n",
      "                                  then:\n",
      "                                    from_account:\n",
      "                                      role_token: e.cary\n",
      "                                    pay: 1\n",
      "                                    then:\n",
      "                                      from_account:\n",
      "                                        role_token: m.herbert\n",
      "                                      pay: 150000000\n",
      "                                      then: close\n",
      "                                      to:\n",
      "                                        party:\n",
      "                                          role_token: j.lumley\n",
      "                                      token:\n",
      "                                        currency_symbol: ''\n",
      "                                        token_name: ''\n",
      "                                    to:\n",
      "                                      party:\n",
      "                                        role_token: m.herbert\n",
      "                                    token:\n",
      "                                      currency_symbol: 8bb3b343d8e404472337966a722150048c768d0a92a9813596c5338d\n",
      "                                      token_name: BearGarden\n",
      "                                  to:\n",
      "                                    party:\n",
      "                                      role_token: e.cary\n",
      "                                  token:\n",
      "                                    currency_symbol: ''\n",
      "                                    token_name: ''\n",
      "                              - case:\n",
      "                                  deposits: 300000000\n",
      "                                  into_account:\n",
      "                                    role_token: j.lumley\n",
      "                                  of_token:\n",
      "                                    currency_symbol: ''\n",
      "                                    token_name: ''\n",
      "                                  party:\n",
      "                                    role_token: j.lumley\n",
      "                                then:\n",
      "                                  from_account:\n",
      "                                    role_token: j.lumley\n",
      "                                  pay: 150000000\n",
      "                                  then:\n",
      "                                    from_account:\n",
      "                                      role_token: j.lumley\n",
      "                                    pay: 150000000\n",
      "                                    then:\n",
      "                                      from_account:\n",
      "                                        role_token: e.cary\n",
      "                                      pay: 1\n",
      "                                      then: close\n",
      "                                      to:\n",
      "                                        party:\n",
      "                                          role_token: j.lumley\n",
      "                                      token:\n",
      "                                        currency_symbol: 8bb3b343d8e404472337966a722150048c768d0a92a9813596c5338d\n",
      "                                        token_name: BearGarden\n",
      "                                    to:\n",
      "                                      party:\n",
      "                                        role_token: m.herbert\n",
      "                                    token:\n",
      "                                      currency_symbol: ''\n",
      "                                      token_name: ''\n",
      "                                  to:\n",
      "                                    party:\n",
      "                                      role_token: e.cary\n",
      "                                  token:\n",
      "                                    currency_symbol: ''\n",
      "                                    token_name: ''\n",
      "                            to:\n",
      "                              party:\n",
      "                                role_token: c.marlowe\n",
      "                            token:\n",
      "                              currency_symbol: ''\n",
      "                              token_name: ''\n",
      "                          to:\n",
      "                            party:\n",
      "                              role_token: c.marlowe\n",
      "                          token:\n",
      "                            currency_symbol: ''\n",
      "                            token_name: ''\n",
      "                        to:\n",
      "                          party:\n",
      "                            role_token: c.marlowe\n",
      "                        token:\n",
      "                          currency_symbol: ''\n",
      "                          token_name: ''\n",
      "      marloweParams:\n",
      "        rolesCurrency: f0ff48bbb7bbe9d59a40f1ce90e9e9d0ff5002ec48f232b49ca0fb9a\n",
      "      marloweState:\n",
      "        accounts:\n",
      "        - - - address: addr1qy9prvx8ufwutkwxx9cmmuuajaqmjqwujqlp9d8pvg6gupcvluken35ncjnu0puetf5jvttedkze02d5kf890kquh60sut9jg7\n",
      "            - currency_symbol: ''\n",
      "              token_name: ''\n",
      "          - 3000000\n",
      "        boundValues: []\n",
      "        choices: []\n",
      "        minTime: 0\n",
      "    utxo:\n",
      "      txId: e9b4608d23b955783bce458c02687353e9497c30980ae8ad941256a74840cd5b\n",
      "      txIx: 1\n",
      "  payoutValidatorHash: 49076eab20243dc9462511fb98a9cfb719f86e9692288139b7c91df3\n",
      "response: info\n",
      "steps:\n",
      "- contractId: e9b4608d23b955783bce458c02687353e9497c30980ae8ad941256a74840cd5b#1\n",
      "  payouts: []\n",
      "  redeemer:\n",
      "  - input_from_party:\n",
      "      role_token: e.cary\n",
      "    into_account:\n",
      "      role_token: e.cary\n",
      "    of_token:\n",
      "      currency_symbol: ''\n",
      "      token_name: ''\n",
      "    that_deposits: 100000000\n",
      "  scriptOutput:\n",
      "    address: 716a9391d6aa51af28dd876ebb5565b69d1e83e5ac7861506bd29b56b0\n",
      "    assets:\n",
      "      ada: 103000000\n",
      "      tokens: []\n",
      "    datum:\n",
      "      marloweContract:\n",
      "        timeout: 1676679840000\n",
      "        timeout_continuation: close\n",
      "        when:\n",
      "        - case:\n",
      "            deposits: 100000000\n",
      "            into_account:\n",
      "              role_token: j.lumley\n",
      "            of_token:\n",
      "              currency_symbol: ''\n",
      "              token_name: ''\n",
      "            party:\n",
      "              role_token: j.lumley\n",
      "          then:\n",
      "            timeout: 1676679850000\n",
      "            timeout_continuation: close\n",
      "            when:\n",
      "            - case:\n",
      "                deposits: 100000000\n",
      "                into_account:\n",
      "                  role_token: m.herbert\n",
      "                of_token:\n",
      "                  currency_symbol: ''\n",
      "                  token_name: ''\n",
      "                party:\n",
      "                  role_token: m.herbert\n",
      "              then:\n",
      "                timeout: 1676679860000\n",
      "                timeout_continuation: close\n",
      "                when:\n",
      "                - case:\n",
      "                    deposits: 1\n",
      "                    into_account:\n",
      "                      role_token: e.cary\n",
      "                    of_token:\n",
      "                      currency_symbol: 8bb3b343d8e404472337966a722150048c768d0a92a9813596c5338d\n",
      "                      token_name: BearGarden\n",
      "                    party:\n",
      "                      role_token: c.marlowe\n",
      "                  then:\n",
      "                    from_account:\n",
      "                      role_token: e.cary\n",
      "                    pay: 100000000\n",
      "                    then:\n",
      "                      from_account:\n",
      "                        role_token: m.herbert\n",
      "                      pay: 100000000\n",
      "                      then:\n",
      "                        from_account:\n",
      "                          role_token: j.lumley\n",
      "                        pay: 100000000\n",
      "                        then:\n",
      "                          timeout: 1676679870000\n",
      "                          timeout_continuation: close\n",
      "                          when:\n",
      "                          - case:\n",
      "                              deposits: 300000000\n",
      "                              into_account:\n",
      "                                role_token: e.cary\n",
      "                              of_token:\n",
      "                                currency_symbol: ''\n",
      "                                token_name: ''\n",
      "                              party:\n",
      "                                role_token: e.cary\n",
      "                            then:\n",
      "                              from_account:\n",
      "                                role_token: e.cary\n",
      "                              pay: 1\n",
      "                              then:\n",
      "                                from_account:\n",
      "                                  role_token: e.cary\n",
      "                                pay: 150000000\n",
      "                                then:\n",
      "                                  from_account:\n",
      "                                    role_token: e.cary\n",
      "                                  pay: 150000000\n",
      "                                  then: close\n",
      "                                  to:\n",
      "                                    party:\n",
      "                                      role_token: j.lumley\n",
      "                                  token:\n",
      "                                    currency_symbol: ''\n",
      "                                    token_name: ''\n",
      "                                to:\n",
      "                                  party:\n",
      "                                    role_token: m.herbert\n",
      "                                token:\n",
      "                                  currency_symbol: ''\n",
      "                                  token_name: ''\n",
      "                              to:\n",
      "                                party:\n",
      "                                  role_token: e.cary\n",
      "                              token:\n",
      "                                currency_symbol: 8bb3b343d8e404472337966a722150048c768d0a92a9813596c5338d\n",
      "                                token_name: BearGarden\n",
      "                          - case:\n",
      "                              deposits: 300000000\n",
      "                              into_account:\n",
      "                                role_token: m.herbert\n",
      "                              of_token:\n",
      "                                currency_symbol: ''\n",
      "                                token_name: ''\n",
      "                              party:\n",
      "                                role_token: m.herbert\n",
      "                            then:\n",
      "                              from_account:\n",
      "                                role_token: m.herbert\n",
      "                              pay: 150000000\n",
      "                              then:\n",
      "                                from_account:\n",
      "                                  role_token: e.cary\n",
      "                                pay: 1\n",
      "                                then:\n",
      "                                  from_account:\n",
      "                                    role_token: m.herbert\n",
      "                                  pay: 150000000\n",
      "                                  then: close\n",
      "                                  to:\n",
      "                                    party:\n",
      "                                      role_token: j.lumley\n",
      "                                  token:\n",
      "                                    currency_symbol: ''\n",
      "                                    token_name: ''\n",
      "                                to:\n",
      "                                  party:\n",
      "                                    role_token: m.herbert\n",
      "                                token:\n",
      "                                  currency_symbol: 8bb3b343d8e404472337966a722150048c768d0a92a9813596c5338d\n",
      "                                  token_name: BearGarden\n",
      "                              to:\n",
      "                                party:\n",
      "                                  role_token: e.cary\n",
      "                              token:\n",
      "                                currency_symbol: ''\n",
      "                                token_name: ''\n",
      "                          - case:\n",
      "                              deposits: 300000000\n",
      "                              into_account:\n",
      "                                role_token: j.lumley\n",
      "                              of_token:\n",
      "                                currency_symbol: ''\n",
      "                                token_name: ''\n",
      "                              party:\n",
      "                                role_token: j.lumley\n",
      "                            then:\n",
      "                              from_account:\n",
      "                                role_token: j.lumley\n",
      "                              pay: 150000000\n",
      "                              then:\n",
      "                                from_account:\n",
      "                                  role_token: j.lumley\n",
      "                                pay: 150000000\n",
      "                                then:\n",
      "                                  from_account:\n",
      "                                    role_token: e.cary\n",
      "                                  pay: 1\n",
      "                                  then: close\n",
      "                                  to:\n",
      "                                    party:\n",
      "                                      role_token: j.lumley\n",
      "                                  token:\n",
      "                                    currency_symbol: 8bb3b343d8e404472337966a722150048c768d0a92a9813596c5338d\n",
      "                                    token_name: BearGarden\n",
      "                                to:\n",
      "                                  party:\n",
      "                                    role_token: m.herbert\n",
      "                                token:\n",
      "                                  currency_symbol: ''\n",
      "                                  token_name: ''\n",
      "                              to:\n",
      "                                party:\n",
      "                                  role_token: e.cary\n",
      "                              token:\n",
      "                                currency_symbol: ''\n",
      "                                token_name: ''\n",
      "                        to:\n",
      "                          party:\n",
      "                            role_token: c.marlowe\n",
      "                        token:\n",
      "                          currency_symbol: ''\n",
      "                          token_name: ''\n",
      "                      to:\n",
      "                        party:\n",
      "                          role_token: c.marlowe\n",
      "                      token:\n",
      "                        currency_symbol: ''\n",
      "                        token_name: ''\n",
      "                    to:\n",
      "                      party:\n",
      "                        role_token: c.marlowe\n",
      "                    token:\n",
      "                      currency_symbol: ''\n",
      "                      token_name: ''\n",
      "      marloweParams:\n",
      "        rolesCurrency: f0ff48bbb7bbe9d59a40f1ce90e9e9d0ff5002ec48f232b49ca0fb9a\n",
      "      marloweState:\n",
      "        accounts:\n",
      "        - - - address: addr1qy9prvx8ufwutkwxx9cmmuuajaqmjqwujqlp9d8pvg6gupcvluken35ncjnu0puetf5jvttedkze02d5kf890kquh60sut9jg7\n",
      "            - currency_symbol: ''\n",
      "              token_name: ''\n",
      "          - 3000000\n",
      "        - - - role_token: e.cary\n",
      "            - currency_symbol: ''\n",
      "              token_name: ''\n",
      "          - 100000000\n",
      "        boundValues: []\n",
      "        choices: []\n",
      "        minTime: 1676397329000\n",
      "    utxo:\n",
      "      txId: 72e4916c2cb6626af2102062a592f4ba8f2d2f649ea9e8934191e2f875fca204\n",
      "      txIx: 1\n",
      "  step: apply\n",
      "  txId: 72e4916c2cb6626af2102062a592f4ba8f2d2f649ea9e8934191e2f875fca204\n",
      "- contractId: e9b4608d23b955783bce458c02687353e9497c30980ae8ad941256a74840cd5b#1\n",
      "  payouts: []\n",
      "  redeemer:\n",
      "  - input_from_party:\n",
      "      role_token: j.lumley\n",
      "    into_account:\n",
      "      role_token: j.lumley\n",
      "    of_token:\n",
      "      currency_symbol: ''\n",
      "      token_name: ''\n",
      "    that_deposits: 100000000\n",
      "  scriptOutput:\n",
      "    address: 716a9391d6aa51af28dd876ebb5565b69d1e83e5ac7861506bd29b56b0\n",
      "    assets:\n",
      "      ada: 203000000\n",
      "      tokens: []\n",
      "    datum:\n",
      "      marloweContract:\n",
      "        timeout: 1676679850000\n",
      "        timeout_continuation: close\n",
      "        when:\n",
      "        - case:\n",
      "            deposits: 100000000\n",
      "            into_account:\n",
      "              role_token: m.herbert\n",
      "            of_token:\n",
      "              currency_symbol: ''\n",
      "              token_name: ''\n",
      "            party:\n",
      "              role_token: m.herbert\n",
      "          then:\n",
      "            timeout: 1676679860000\n",
      "            timeout_continuation: close\n",
      "            when:\n",
      "            - case:\n",
      "                deposits: 1\n",
      "                into_account:\n",
      "                  role_token: e.cary\n",
      "                of_token:\n",
      "                  currency_symbol: 8bb3b343d8e404472337966a722150048c768d0a92a9813596c5338d\n",
      "                  token_name: BearGarden\n",
      "                party:\n",
      "                  role_token: c.marlowe\n",
      "              then:\n",
      "                from_account:\n",
      "                  role_token: e.cary\n",
      "                pay: 100000000\n",
      "                then:\n",
      "                  from_account:\n",
      "                    role_token: m.herbert\n",
      "                  pay: 100000000\n",
      "                  then:\n",
      "                    from_account:\n",
      "                      role_token: j.lumley\n",
      "                    pay: 100000000\n",
      "                    then:\n",
      "                      timeout: 1676679870000\n",
      "                      timeout_continuation: close\n",
      "                      when:\n",
      "                      - case:\n",
      "                          deposits: 300000000\n",
      "                          into_account:\n",
      "                            role_token: e.cary\n",
      "                          of_token:\n",
      "                            currency_symbol: ''\n",
      "                            token_name: ''\n",
      "                          party:\n",
      "                            role_token: e.cary\n",
      "                        then:\n",
      "                          from_account:\n",
      "                            role_token: e.cary\n",
      "                          pay: 1\n",
      "                          then:\n",
      "                            from_account:\n",
      "                              role_token: e.cary\n",
      "                            pay: 150000000\n",
      "                            then:\n",
      "                              from_account:\n",
      "                                role_token: e.cary\n",
      "                              pay: 150000000\n",
      "                              then: close\n",
      "                              to:\n",
      "                                party:\n",
      "                                  role_token: j.lumley\n",
      "                              token:\n",
      "                                currency_symbol: ''\n",
      "                                token_name: ''\n",
      "                            to:\n",
      "                              party:\n",
      "                                role_token: m.herbert\n",
      "                            token:\n",
      "                              currency_symbol: ''\n",
      "                              token_name: ''\n",
      "                          to:\n",
      "                            party:\n",
      "                              role_token: e.cary\n",
      "                          token:\n",
      "                            currency_symbol: 8bb3b343d8e404472337966a722150048c768d0a92a9813596c5338d\n",
      "                            token_name: BearGarden\n",
      "                      - case:\n",
      "                          deposits: 300000000\n",
      "                          into_account:\n",
      "                            role_token: m.herbert\n",
      "                          of_token:\n",
      "                            currency_symbol: ''\n",
      "                            token_name: ''\n",
      "                          party:\n",
      "                            role_token: m.herbert\n",
      "                        then:\n",
      "                          from_account:\n",
      "                            role_token: m.herbert\n",
      "                          pay: 150000000\n",
      "                          then:\n",
      "                            from_account:\n",
      "                              role_token: e.cary\n",
      "                            pay: 1\n",
      "                            then:\n",
      "                              from_account:\n",
      "                                role_token: m.herbert\n",
      "                              pay: 150000000\n",
      "                              then: close\n",
      "                              to:\n",
      "                                party:\n",
      "                                  role_token: j.lumley\n",
      "                              token:\n",
      "                                currency_symbol: ''\n",
      "                                token_name: ''\n",
      "                            to:\n",
      "                              party:\n",
      "                                role_token: m.herbert\n",
      "                            token:\n",
      "                              currency_symbol: 8bb3b343d8e404472337966a722150048c768d0a92a9813596c5338d\n",
      "                              token_name: BearGarden\n",
      "                          to:\n",
      "                            party:\n",
      "                              role_token: e.cary\n",
      "                          token:\n",
      "                            currency_symbol: ''\n",
      "                            token_name: ''\n",
      "                      - case:\n",
      "                          deposits: 300000000\n",
      "                          into_account:\n",
      "                            role_token: j.lumley\n",
      "                          of_token:\n",
      "                            currency_symbol: ''\n",
      "                            token_name: ''\n",
      "                          party:\n",
      "                            role_token: j.lumley\n",
      "                        then:\n",
      "                          from_account:\n",
      "                            role_token: j.lumley\n",
      "                          pay: 150000000\n",
      "                          then:\n",
      "                            from_account:\n",
      "                              role_token: j.lumley\n",
      "                            pay: 150000000\n",
      "                            then:\n",
      "                              from_account:\n",
      "                                role_token: e.cary\n",
      "                              pay: 1\n",
      "                              then: close\n",
      "                              to:\n",
      "                                party:\n",
      "                                  role_token: j.lumley\n",
      "                              token:\n",
      "                                currency_symbol: 8bb3b343d8e404472337966a722150048c768d0a92a9813596c5338d\n",
      "                                token_name: BearGarden\n",
      "                            to:\n",
      "                              party:\n",
      "                                role_token: m.herbert\n",
      "                            token:\n",
      "                              currency_symbol: ''\n",
      "                              token_name: ''\n",
      "                          to:\n",
      "                            party:\n",
      "                              role_token: e.cary\n",
      "                          token:\n",
      "                            currency_symbol: ''\n",
      "                            token_name: ''\n",
      "                    to:\n",
      "                      party:\n",
      "                        role_token: c.marlowe\n",
      "                    token:\n",
      "                      currency_symbol: ''\n",
      "                      token_name: ''\n",
      "                  to:\n",
      "                    party:\n",
      "                      role_token: c.marlowe\n",
      "                  token:\n",
      "                    currency_symbol: ''\n",
      "                    token_name: ''\n",
      "                to:\n",
      "                  party:\n",
      "                    role_token: c.marlowe\n",
      "                token:\n",
      "                  currency_symbol: ''\n",
      "                  token_name: ''\n",
      "      marloweParams:\n",
      "        rolesCurrency: f0ff48bbb7bbe9d59a40f1ce90e9e9d0ff5002ec48f232b49ca0fb9a\n",
      "      marloweState:\n",
      "        accounts:\n",
      "        - - - address: addr1qy9prvx8ufwutkwxx9cmmuuajaqmjqwujqlp9d8pvg6gupcvluken35ncjnu0puetf5jvttedkze02d5kf890kquh60sut9jg7\n",
      "            - currency_symbol: ''\n",
      "              token_name: ''\n",
      "          - 3000000\n",
      "        - - - role_token: e.cary\n",
      "            - currency_symbol: ''\n",
      "              token_name: ''\n",
      "          - 100000000\n",
      "        - - - role_token: j.lumley\n",
      "            - currency_symbol: ''\n",
      "              token_name: ''\n",
      "          - 100000000\n",
      "        boundValues: []\n",
      "        choices: []\n",
      "        minTime: 1676397626000\n",
      "    utxo:\n",
      "      txId: 751155b2ccf8f810cbaf9f1f5ac59e30f1b7c5a5667306eb5878ed2e85227fe9\n",
      "      txIx: 1\n",
      "  step: apply\n",
      "  txId: 751155b2ccf8f810cbaf9f1f5ac59e30f1b7c5a5667306eb5878ed2e85227fe9\n",
      "- contractId: e9b4608d23b955783bce458c02687353e9497c30980ae8ad941256a74840cd5b#1\n",
      "  payouts: []\n",
      "  redeemer:\n",
      "  - input_from_party:\n",
      "      role_token: m.herbert\n",
      "    into_account:\n",
      "      role_token: m.herbert\n",
      "    of_token:\n",
      "      currency_symbol: ''\n",
      "      token_name: ''\n",
      "    that_deposits: 100000000\n",
      "  scriptOutput:\n",
      "    address: 716a9391d6aa51af28dd876ebb5565b69d1e83e5ac7861506bd29b56b0\n",
      "    assets:\n",
      "      ada: 303000000\n",
      "      tokens: []\n",
      "    datum:\n",
      "      marloweContract:\n",
      "        timeout: 1676679860000\n",
      "        timeout_continuation: close\n",
      "        when:\n",
      "        - case:\n",
      "            deposits: 1\n",
      "            into_account:\n",
      "              role_token: e.cary\n",
      "            of_token:\n",
      "              currency_symbol: 8bb3b343d8e404472337966a722150048c768d0a92a9813596c5338d\n",
      "              token_name: BearGarden\n",
      "            party:\n",
      "              role_token: c.marlowe\n",
      "          then:\n",
      "            from_account:\n",
      "              role_token: e.cary\n",
      "            pay: 100000000\n",
      "            then:\n",
      "              from_account:\n",
      "                role_token: m.herbert\n",
      "              pay: 100000000\n",
      "              then:\n",
      "                from_account:\n",
      "                  role_token: j.lumley\n",
      "                pay: 100000000\n",
      "                then:\n",
      "                  timeout: 1676679870000\n",
      "                  timeout_continuation: close\n",
      "                  when:\n",
      "                  - case:\n",
      "                      deposits: 300000000\n",
      "                      into_account:\n",
      "                        role_token: e.cary\n",
      "                      of_token:\n",
      "                        currency_symbol: ''\n",
      "                        token_name: ''\n",
      "                      party:\n",
      "                        role_token: e.cary\n",
      "                    then:\n",
      "                      from_account:\n",
      "                        role_token: e.cary\n",
      "                      pay: 1\n",
      "                      then:\n",
      "                        from_account:\n",
      "                          role_token: e.cary\n",
      "                        pay: 150000000\n",
      "                        then:\n",
      "                          from_account:\n",
      "                            role_token: e.cary\n",
      "                          pay: 150000000\n",
      "                          then: close\n",
      "                          to:\n",
      "                            party:\n",
      "                              role_token: j.lumley\n",
      "                          token:\n",
      "                            currency_symbol: ''\n",
      "                            token_name: ''\n",
      "                        to:\n",
      "                          party:\n",
      "                            role_token: m.herbert\n",
      "                        token:\n",
      "                          currency_symbol: ''\n",
      "                          token_name: ''\n",
      "                      to:\n",
      "                        party:\n",
      "                          role_token: e.cary\n",
      "                      token:\n",
      "                        currency_symbol: 8bb3b343d8e404472337966a722150048c768d0a92a9813596c5338d\n",
      "                        token_name: BearGarden\n",
      "                  - case:\n",
      "                      deposits: 300000000\n",
      "                      into_account:\n",
      "                        role_token: m.herbert\n",
      "                      of_token:\n",
      "                        currency_symbol: ''\n",
      "                        token_name: ''\n",
      "                      party:\n",
      "                        role_token: m.herbert\n",
      "                    then:\n",
      "                      from_account:\n",
      "                        role_token: m.herbert\n",
      "                      pay: 150000000\n",
      "                      then:\n",
      "                        from_account:\n",
      "                          role_token: e.cary\n",
      "                        pay: 1\n",
      "                        then:\n",
      "                          from_account:\n",
      "                            role_token: m.herbert\n",
      "                          pay: 150000000\n",
      "                          then: close\n",
      "                          to:\n",
      "                            party:\n",
      "                              role_token: j.lumley\n",
      "                          token:\n",
      "                            currency_symbol: ''\n",
      "                            token_name: ''\n",
      "                        to:\n",
      "                          party:\n",
      "                            role_token: m.herbert\n",
      "                        token:\n",
      "                          currency_symbol: 8bb3b343d8e404472337966a722150048c768d0a92a9813596c5338d\n",
      "                          token_name: BearGarden\n",
      "                      to:\n",
      "                        party:\n",
      "                          role_token: e.cary\n",
      "                      token:\n",
      "                        currency_symbol: ''\n",
      "                        token_name: ''\n",
      "                  - case:\n",
      "                      deposits: 300000000\n",
      "                      into_account:\n",
      "                        role_token: j.lumley\n",
      "                      of_token:\n",
      "                        currency_symbol: ''\n",
      "                        token_name: ''\n",
      "                      party:\n",
      "                        role_token: j.lumley\n",
      "                    then:\n",
      "                      from_account:\n",
      "                        role_token: j.lumley\n",
      "                      pay: 150000000\n",
      "                      then:\n",
      "                        from_account:\n",
      "                          role_token: j.lumley\n",
      "                        pay: 150000000\n",
      "                        then:\n",
      "                          from_account:\n",
      "                            role_token: e.cary\n",
      "                          pay: 1\n",
      "                          then: close\n",
      "                          to:\n",
      "                            party:\n",
      "                              role_token: j.lumley\n",
      "                          token:\n",
      "                            currency_symbol: 8bb3b343d8e404472337966a722150048c768d0a92a9813596c5338d\n",
      "                            token_name: BearGarden\n",
      "                        to:\n",
      "                          party:\n",
      "                            role_token: m.herbert\n",
      "                        token:\n",
      "                          currency_symbol: ''\n",
      "                          token_name: ''\n",
      "                      to:\n",
      "                        party:\n",
      "                          role_token: e.cary\n",
      "                      token:\n",
      "                        currency_symbol: ''\n",
      "                        token_name: ''\n",
      "                to:\n",
      "                  party:\n",
      "                    role_token: c.marlowe\n",
      "                token:\n",
      "                  currency_symbol: ''\n",
      "                  token_name: ''\n",
      "              to:\n",
      "                party:\n",
      "                  role_token: c.marlowe\n",
      "              token:\n",
      "                currency_symbol: ''\n",
      "                token_name: ''\n",
      "            to:\n",
      "              party:\n",
      "                role_token: c.marlowe\n",
      "            token:\n",
      "              currency_symbol: ''\n",
      "              token_name: ''\n",
      "      marloweParams:\n",
      "        rolesCurrency: f0ff48bbb7bbe9d59a40f1ce90e9e9d0ff5002ec48f232b49ca0fb9a\n",
      "      marloweState:\n",
      "        accounts:\n",
      "        - - - address: addr1qy9prvx8ufwutkwxx9cmmuuajaqmjqwujqlp9d8pvg6gupcvluken35ncjnu0puetf5jvttedkze02d5kf890kquh60sut9jg7\n",
      "            - currency_symbol: ''\n",
      "              token_name: ''\n",
      "          - 3000000\n",
      "        - - - role_token: e.cary\n",
      "            - currency_symbol: ''\n",
      "              token_name: ''\n",
      "          - 100000000\n",
      "        - - - role_token: j.lumley\n",
      "            - currency_symbol: ''\n",
      "              token_name: ''\n",
      "          - 100000000\n",
      "        - - - role_token: m.herbert\n",
      "            - currency_symbol: ''\n",
      "              token_name: ''\n",
      "          - 100000000\n",
      "        boundValues: []\n",
      "        choices: []\n",
      "        minTime: 1676397740000\n",
      "    utxo:\n",
      "      txId: 76cdca5b9b4efcad402c9c0eb61ef08898b9f854b392d33f9f57b52a137b1fbe\n",
      "      txIx: 1\n",
      "  step: apply\n",
      "  txId: 76cdca5b9b4efcad402c9c0eb61ef08898b9f854b392d33f9f57b52a137b1fbe\n",
      "- contractId: e9b4608d23b955783bce458c02687353e9497c30980ae8ad941256a74840cd5b#1\n",
      "  payouts:\n",
      "  - - txId: 19459abed8961d91ba258648a0616e0a9932c0d04863a8b5d92075db16b8b97e\n",
      "      txIx: 3\n",
      "    - address: 7149076eab20243dc9462511fb98a9cfb719f86e9692288139b7c91df3\n",
      "      assets:\n",
      "        ada: 300000000\n",
      "        tokens: []\n",
      "      datum:\n",
      "        policyId: f0ff48bbb7bbe9d59a40f1ce90e9e9d0ff5002ec48f232b49ca0fb9a\n",
      "        tokenName: c.marlowe\n",
      "  redeemer:\n",
      "  - input_from_party:\n",
      "      role_token: c.marlowe\n",
      "    into_account:\n",
      "      role_token: e.cary\n",
      "    of_token:\n",
      "      currency_symbol: 8bb3b343d8e404472337966a722150048c768d0a92a9813596c5338d\n",
      "      token_name: BearGarden\n",
      "    that_deposits: 1\n",
      "  scriptOutput:\n",
      "    address: 716a9391d6aa51af28dd876ebb5565b69d1e83e5ac7861506bd29b56b0\n",
      "    assets:\n",
      "      ada: 3000000\n",
      "      tokens:\n",
      "      - - policyId: 8bb3b343d8e404472337966a722150048c768d0a92a9813596c5338d\n",
      "          tokenName: BearGarden\n",
      "        - 1\n",
      "    datum:\n",
      "      marloweContract:\n",
      "        timeout: 1676679870000\n",
      "        timeout_continuation: close\n",
      "        when:\n",
      "        - case:\n",
      "            deposits: 300000000\n",
      "            into_account:\n",
      "              role_token: e.cary\n",
      "            of_token:\n",
      "              currency_symbol: ''\n",
      "              token_name: ''\n",
      "            party:\n",
      "              role_token: e.cary\n",
      "          then:\n",
      "            from_account:\n",
      "              role_token: e.cary\n",
      "            pay: 1\n",
      "            then:\n",
      "              from_account:\n",
      "                role_token: e.cary\n",
      "              pay: 150000000\n",
      "              then:\n",
      "                from_account:\n",
      "                  role_token: e.cary\n",
      "                pay: 150000000\n",
      "                then: close\n",
      "                to:\n",
      "                  party:\n",
      "                    role_token: j.lumley\n",
      "                token:\n",
      "                  currency_symbol: ''\n",
      "                  token_name: ''\n",
      "              to:\n",
      "                party:\n",
      "                  role_token: m.herbert\n",
      "              token:\n",
      "                currency_symbol: ''\n",
      "                token_name: ''\n",
      "            to:\n",
      "              party:\n",
      "                role_token: e.cary\n",
      "            token:\n",
      "              currency_symbol: 8bb3b343d8e404472337966a722150048c768d0a92a9813596c5338d\n",
      "              token_name: BearGarden\n",
      "        - case:\n",
      "            deposits: 300000000\n",
      "            into_account:\n",
      "              role_token: m.herbert\n",
      "            of_token:\n",
      "              currency_symbol: ''\n",
      "              token_name: ''\n",
      "            party:\n",
      "              role_token: m.herbert\n",
      "          then:\n",
      "            from_account:\n",
      "              role_token: m.herbert\n",
      "            pay: 150000000\n",
      "            then:\n",
      "              from_account:\n",
      "                role_token: e.cary\n",
      "              pay: 1\n",
      "              then:\n",
      "                from_account:\n",
      "                  role_token: m.herbert\n",
      "                pay: 150000000\n",
      "                then: close\n",
      "                to:\n",
      "                  party:\n",
      "                    role_token: j.lumley\n",
      "                token:\n",
      "                  currency_symbol: ''\n",
      "                  token_name: ''\n",
      "              to:\n",
      "                party:\n",
      "                  role_token: m.herbert\n",
      "              token:\n",
      "                currency_symbol: 8bb3b343d8e404472337966a722150048c768d0a92a9813596c5338d\n",
      "                token_name: BearGarden\n",
      "            to:\n",
      "              party:\n",
      "                role_token: e.cary\n",
      "            token:\n",
      "              currency_symbol: ''\n",
      "              token_name: ''\n",
      "        - case:\n",
      "            deposits: 300000000\n",
      "            into_account:\n",
      "              role_token: j.lumley\n",
      "            of_token:\n",
      "              currency_symbol: ''\n",
      "              token_name: ''\n",
      "            party:\n",
      "              role_token: j.lumley\n",
      "          then:\n",
      "            from_account:\n",
      "              role_token: j.lumley\n",
      "            pay: 150000000\n",
      "            then:\n",
      "              from_account:\n",
      "                role_token: j.lumley\n",
      "              pay: 150000000\n",
      "              then:\n",
      "                from_account:\n",
      "                  role_token: e.cary\n",
      "                pay: 1\n",
      "                then: close\n",
      "                to:\n",
      "                  party:\n",
      "                    role_token: j.lumley\n",
      "                token:\n",
      "                  currency_symbol: 8bb3b343d8e404472337966a722150048c768d0a92a9813596c5338d\n",
      "                  token_name: BearGarden\n",
      "              to:\n",
      "                party:\n",
      "                  role_token: m.herbert\n",
      "              token:\n",
      "                currency_symbol: ''\n",
      "                token_name: ''\n",
      "            to:\n",
      "              party:\n",
      "                role_token: e.cary\n",
      "            token:\n",
      "              currency_symbol: ''\n",
      "              token_name: ''\n",
      "      marloweParams:\n",
      "        rolesCurrency: f0ff48bbb7bbe9d59a40f1ce90e9e9d0ff5002ec48f232b49ca0fb9a\n",
      "      marloweState:\n",
      "        accounts:\n",
      "        - - - address: addr1qy9prvx8ufwutkwxx9cmmuuajaqmjqwujqlp9d8pvg6gupcvluken35ncjnu0puetf5jvttedkze02d5kf890kquh60sut9jg7\n",
      "            - currency_symbol: ''\n",
      "              token_name: ''\n",
      "          - 3000000\n",
      "        - - - role_token: e.cary\n",
      "            - currency_symbol: 8bb3b343d8e404472337966a722150048c768d0a92a9813596c5338d\n",
      "              token_name: BearGarden\n",
      "          - 1\n",
      "        boundValues: []\n",
      "        choices: []\n",
      "        minTime: 1676397771000\n",
      "    utxo:\n",
      "      txId: 19459abed8961d91ba258648a0616e0a9932c0d04863a8b5d92075db16b8b97e\n",
      "      txIx: 1\n",
      "  step: apply\n",
      "  txId: 19459abed8961d91ba258648a0616e0a9932c0d04863a8b5d92075db16b8b97e\n",
      "- datumm:\n",
      "    policyId: f0ff48bbb7bbe9d59a40f1ce90e9e9d0ff5002ec48f232b49ca0fb9a\n",
      "    tokenName: c.marlowe\n",
      "  redeemingTx: e14270e0ea927b313b3e0d7b56f373037aa84b140536f3881da84f6019f94d6b\n",
      "  step: payout\n",
      "  utxo:\n",
      "    txId: 19459abed8961d91ba258648a0616e0a9932c0d04863a8b5d92075db16b8b97e\n",
      "    txIx: 3\n",
      "- contractId: e9b4608d23b955783bce458c02687353e9497c30980ae8ad941256a74840cd5b#1\n",
      "  payouts:\n",
      "  - - txId: d86636353bc234b416d43b4c754f9c55bae6643abba25eaa812359574006074d\n",
      "      txIx: 2\n",
      "    - address: 7149076eab20243dc9462511fb98a9cfb719f86e9692288139b7c91df3\n",
      "      assets:\n",
      "        ada: 150000000\n",
      "        tokens: []\n",
      "      datum:\n",
      "        policyId: f0ff48bbb7bbe9d59a40f1ce90e9e9d0ff5002ec48f232b49ca0fb9a\n",
      "        tokenName: e.cary\n",
      "  - - txId: d86636353bc234b416d43b4c754f9c55bae6643abba25eaa812359574006074d\n",
      "      txIx: 3\n",
      "    - address: 7149076eab20243dc9462511fb98a9cfb719f86e9692288139b7c91df3\n",
      "      assets:\n",
      "        ada: 150000000\n",
      "        tokens: []\n",
      "      datum:\n",
      "        policyId: f0ff48bbb7bbe9d59a40f1ce90e9e9d0ff5002ec48f232b49ca0fb9a\n",
      "        tokenName: j.lumley\n",
      "  - - txId: d86636353bc234b416d43b4c754f9c55bae6643abba25eaa812359574006074d\n",
      "      txIx: 4\n",
      "    - address: 7149076eab20243dc9462511fb98a9cfb719f86e9692288139b7c91df3\n",
      "      assets:\n",
      "        ada: 1211110\n",
      "        tokens:\n",
      "        - - policyId: 8bb3b343d8e404472337966a722150048c768d0a92a9813596c5338d\n",
      "            tokenName: BearGarden\n",
      "          - 1\n",
      "      datum:\n",
      "        policyId: f0ff48bbb7bbe9d59a40f1ce90e9e9d0ff5002ec48f232b49ca0fb9a\n",
      "        tokenName: m.herbert\n",
      "  redeemer:\n",
      "  - input_from_party:\n",
      "      role_token: m.herbert\n",
      "    into_account:\n",
      "      role_token: m.herbert\n",
      "    of_token:\n",
      "      currency_symbol: ''\n",
      "      token_name: ''\n",
      "    that_deposits: 300000000\n",
      "  scriptOutput: null\n",
      "  step: apply\n",
      "  txId: d86636353bc234b416d43b4c754f9c55bae6643abba25eaa812359574006074d\n",
      "- datumm:\n",
      "    policyId: f0ff48bbb7bbe9d59a40f1ce90e9e9d0ff5002ec48f232b49ca0fb9a\n",
      "    tokenName: e.cary\n",
      "  redeemingTx: 493637cec0d089348a3f0f9c3064bc4978a5571d699db6e7ef0d1b6b625e59cc\n",
      "  step: payout\n",
      "  utxo:\n",
      "    txId: d86636353bc234b416d43b4c754f9c55bae6643abba25eaa812359574006074d\n",
      "    txIx: 2\n",
      "- datumm:\n",
      "    policyId: f0ff48bbb7bbe9d59a40f1ce90e9e9d0ff5002ec48f232b49ca0fb9a\n",
      "    tokenName: j.lumley\n",
      "  redeemingTx: ab576de1aae77fd5fee0892eefb3062fc4a2e68394d752e528722f0a3ca3623a\n",
      "  step: payout\n",
      "  utxo:\n",
      "    txId: d86636353bc234b416d43b4c754f9c55bae6643abba25eaa812359574006074d\n",
      "    txIx: 3\n",
      "- datumm:\n",
      "    policyId: f0ff48bbb7bbe9d59a40f1ce90e9e9d0ff5002ec48f232b49ca0fb9a\n",
      "    tokenName: m.herbert\n",
      "  redeemingTx: e0155b5b3cad34a758ba7be22408500b15b8c9b81b2365212df9b542cfb1127c\n",
      "  step: payout\n",
      "  utxo:\n",
      "    txId: d86636353bc234b416d43b4c754f9c55bae6643abba25eaa812359574006074d\n",
      "    txIx: 4\n"
     ]
    }
   ],
   "source": [
    "echo '{\"request\" : \"get\", \"contractId\" : \"'\"$CONTRACT_ID\"'\"}' | marlowe-pipe 2> /dev/null | json2yaml"
   ]
  },
  {
   "cell_type": "markdown",
   "id": "ef48938e-c6a8-4ba5-9f14-a413232c2c59",
   "metadata": {},
   "source": [
    "## Return the BearGarden tokens to the faucet\n",
    "\n",
    "Returning the token to the faucet is convenient housekeeping for this example."
   ]
  },
  {
   "cell_type": "code",
   "execution_count": 40,
   "id": "b2667429-3fd9-4bd0-a7ec-e208c681c1b3",
   "metadata": {},
   "outputs": [
    {
     "name": "stdout",
     "output_type": "stream",
     "text": [
      "TxId \"6b4faac1384ac24db7df0c8728fc78d1b1364b368045fe080e79f0b14f869c10\"\n"
     ]
    }
   ],
   "source": [
    "marlowe-cli transaction simple \\\n",
    "  --mainnet \\\n",
    "  --tx-in \"e0155b5b3cad34a758ba7be22408500b15b8c9b81b2365212df9b542cfb1127c#2\" \\\n",
    "  --tx-in \"e9b4608d23b955783bce458c02687353e9497c30980ae8ad941256a74840cd5b#2\" \\\n",
    "  --tx-in \"e9b4608d23b955783bce458c02687353e9497c30980ae8ad941256a74840cd5b#0\" \\\n",
    "  --tx-out \"$FAUCET_ADDR+$((3 * ADA))+499 $FUNGIBLES_POLICY.BearGarden\" \\\n",
    "  --change-address \"$FAUCET_ADDR\" \\\n",
    "  --required-signer \"$FAUCET_SKEY\" \\\n",
    "  --required-signer \"${ROLE_SKEY[m.herbert]}\" \\\n",
    "  --out-file /dev/null \\\n",
    "  --submit 600"
   ]
  }
 ],
 "metadata": {
  "kernelspec": {
   "display_name": "Bash - Marlowe",
   "language": "bash",
   "name": "bash_marlowe"
  },
  "language_info": {
   "codemirror_mode": "shell",
   "file_extension": ".sh",
   "mimetype": "text/x-sh",
   "name": "/nix/store/p7bpdnxqd3i5hwm92mrscf7mvxk66404-bash-5.1-p16/bin/bash"
  }
 },
 "nbformat": 4,
 "nbformat_minor": 5
}
