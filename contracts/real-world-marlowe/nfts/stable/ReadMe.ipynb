{
 "cells": [
  {
   "cell_type": "markdown",
   "id": "d33d4002-eab9-4b2e-871d-8c55e410b6d1",
   "metadata": {},
   "source": [
    "## <font color=\"red\">Caution!</font>\n",
    "\n",
    "Before running a Marlowe contract on `mainnet`, it is wise to do the following in order to avoid losing funds:\n",
    "\n",
    "1. Understand the [Marlowe Language](https://marlowe.iohk.io/).\n",
    "2. Understand Cardano\\'s [Extended UTxO Model](https://docs.cardano.org/learn/eutxo-explainer).\n",
    "3. Read and understand the [Marlowe Best Practices Guide](https://github.com/input-output-hk/marlowe-cardano/blob/main/marlowe/best-practices.md).\n",
    "4. Read and understand the [Marlowe Security Guide](https://github.com/input-output-hk/marlowe-cardano/blob/main/marlowe/security.md).\n",
    "5. Use [Marlowe Playground](https://play.marlowe.iohk.io/) to flag warnings, perform static analysis, and simulate the contract.\n",
    "6. Use [Marlowe CLI\\'s](https://github.com/input-output-hk/marlowe-cardano/blob/main/marlowe-cli/ReadMe.md) `marlowe-cli run analyze` tool to study whether the contract can run on a Cardano network.\n",
    "7. Run *all execution paths* of the contract on a [Cardano testnet](https://docs.cardano.org/cardano-testnet/overview).\n",
    "\n",
    "---"
   ]
  },
  {
   "cell_type": "markdown",
   "id": "0fafc279-76a1-4bee-931b-145f96313e3b",
   "metadata": {},
   "source": [
    "# A Sale of a Token for Stablecoin\n",
    "\n",
    "This token sale exchanges a token for either the Djed or iUSD stablecoins.\n",
    "\n",
    "This example consists of five transactions:\n",
    "1. Christopher Marlowe creates the token-sale Marlowe contract.\n",
    "2. Christopher Marlowe deposits 1 BearGarden token in the contract.\n",
    "3. Jane Lumley deposits 50 Djed in the contract, causing the contract to pay the token to her and the Djed to Christopher Marlowe.\n",
    "4. Christopher Marlowe withdraws his 50 Djed from Marlowe's role-payout address.\n",
    "5. Jane Lumley withdraws her 1 BearGarden from Marlowe' role-payout address.\n",
    "\n",
    "Here is the contract in Blockly format:\n",
    "\n",
    "![Token sale for stablecoin](contract.png)"
   ]
  },
  {
   "cell_type": "markdown",
   "id": "07ad66b4-52bc-450f-90ca-c7c7a0ccf66e",
   "metadata": {},
   "source": [
    "## Set Up"
   ]
  },
  {
   "cell_type": "markdown",
   "id": "f2860ab6-29f4-4571-92b8-d53faad8d53b",
   "metadata": {},
   "source": [
    "Use `mainnet`."
   ]
  },
  {
   "cell_type": "code",
   "execution_count": 1,
   "id": "18eadf53-f319-4a3e-94c3-2f526e467787",
   "metadata": {},
   "outputs": [],
   "source": [
    ". ../../mainnet.env"
   ]
  },
  {
   "cell_type": "markdown",
   "id": "01c3bcfd-b534-4639-a6ef-8b47fd68a543",
   "metadata": {},
   "source": [
    "Use the standard example roles."
   ]
  },
  {
   "cell_type": "code",
   "execution_count": 2,
   "id": "f3b84135-f5ab-47a3-917d-6e8cc18b53a9",
   "metadata": {},
   "outputs": [],
   "source": [
    ". ../../dramatis-personae/roles.env"
   ]
  },
  {
   "cell_type": "markdown",
   "id": "030763a2-1c67-463c-aa47-d6d4020ed48c",
   "metadata": {},
   "source": [
    "## Role tokens\n",
    "\n",
    "This contract uses [Ada Handles](https://adahandle.com/) as role tokens:\n",
    "- Christopher Marlowe = [\\$c.marlowe](https://pool.pm/asset1z2xzfc6lu63jfmfffe2w3nyf6420eylv8e2xjp)\n",
    "- Jane Lumley = [\\$j.lumley](https://pool.pm/asset1kujmmryzmxyqz6utp2slrmwfq4dmmnvwhkh7gkm)\n",
    "\n",
    "*Note: Only use a pre-minted token as a Marlowe role if you have reviewed the monetary policy for security vulnerabilities.*\n",
    "\n",
    "Here is the currency symbol for Ada handles on `mainnet`:"
   ]
  },
  {
   "cell_type": "code",
   "execution_count": 3,
   "id": "31b3ae67-4374-4a71-99d8-fa454b4f9d0a",
   "metadata": {},
   "outputs": [
    {
     "name": "stdout",
     "output_type": "stream",
     "text": [
      "ROLES_CURRENCY = f0ff48bbb7bbe9d59a40f1ce90e9e9d0ff5002ec48f232b49ca0fb9a\n"
     ]
    }
   ],
   "source": [
    "echo \"ROLES_CURRENCY = $ROLES_CURRENCY\""
   ]
  },
  {
   "cell_type": "markdown",
   "id": "ffed3ada-c22d-4a71-8502-02051a23ca80",
   "metadata": {},
   "source": [
    "## Policy ID for the BearGarden token"
   ]
  },
  {
   "cell_type": "markdown",
   "id": "2379b64b-4078-4ec6-86ab-e60ad8c5c75d",
   "metadata": {},
   "source": [
    "We previously minted the BearGarden token with the following policy."
   ]
  },
  {
   "cell_type": "code",
   "execution_count": 4,
   "id": "1904bda9-67d2-4c04-ba8a-d3bfe2d34f9c",
   "metadata": {},
   "outputs": [
    {
     "name": "stdout",
     "output_type": "stream",
     "text": [
      "FUNGIBLES_POLICY = 8bb3b343d8e404472337966a722150048c768d0a92a9813596c5338d\n"
     ]
    }
   ],
   "source": [
    "echo \"FUNGIBLES_POLICY = $FUNGIBLES_POLICY\""
   ]
  },
  {
   "cell_type": "markdown",
   "id": "6089cf8a-f1ac-47bf-a8c4-dccfe420c93d",
   "metadata": {},
   "source": [
    "## Policy IDs for Djed and iUSD\n",
    "\n",
    "Here are the policies for the stablecoins that we are using."
   ]
  },
  {
   "cell_type": "code",
   "execution_count": 5,
   "id": "7e652b8a-5478-4d71-a33a-c40a759ee4e1",
   "metadata": {},
   "outputs": [
    {
     "name": "stdout",
     "output_type": "stream",
     "text": [
      "DJED_POLICY = 8db269c3ec630e06ae29f74bc39edd1f87c819f1056206e879a1cd61\n",
      "DJED_NAME = DjedMicroUSD\n",
      "\n",
      "IUSD_POLICY = f66d78b4a3cb3d37afa0ec36461e51ecbde00f26c8f0a68f94b69880\n",
      "IUSD_NAME = iUSD\n"
     ]
    }
   ],
   "source": [
    "echo \"DJED_POLICY = $DJED_POLICY\"\n",
    "echo \"DJED_NAME = $DJED_NAME\"\n",
    "echo\n",
    "echo \"IUSD_POLICY = $IUSD_POLICY\"\n",
    "echo \"IUSD_NAME = $IUSD_NAME\""
   ]
  },
  {
   "cell_type": "markdown",
   "id": "7b810dc9-83a5-4c75-b01f-ab496affd3f8",
   "metadata": {},
   "source": [
    "## Initial Funding"
   ]
  },
  {
   "cell_type": "markdown",
   "id": "d24a879f-f2e7-4e19-a570-18869c2dbb9d",
   "metadata": {},
   "source": [
    "Send the BearGarden fungible token from the faucet to Christopher Marlowe and the stablecoins to Jane Lumley."
   ]
  },
  {
   "cell_type": "code",
   "execution_count": 6,
   "id": "d1f735ed-ba7f-41c6-9ee8-20d92665529c",
   "metadata": {},
   "outputs": [
    {
     "name": "stdout",
     "output_type": "stream",
     "text": [
      "TxId \"855c131e9b59a6607b4d28cfcb3a68b7f3f9672d03805c9252a6515f6e4ab226\"\n"
     ]
    }
   ],
   "source": [
    "ADA=1000000\n",
    "DJED=1000000\n",
    "IUSD=1000000\n",
    "marlowe-cli transaction simple \\\n",
    "  --mainnet \\\n",
    "  --tx-in \"22e84f55fb3035d4b1f031788473f65eac8a49776d6b0a2d3db9919de2f69aa3#0\" \\\n",
    "  --tx-in \"3ade722a48e57a6d59b310ed520df6f90114481712ec313cbd24cd0b60ecefc1#1\" \\\n",
    "  --tx-in \"c1246f0f0d47804be9ee4c0439065c438a5c03c852781a1c3e390a0683697885#4\" \\\n",
    "  --tx-in \"c2970d098870bbf9cd8d7f94fba69a7dd1f08171b580fc53a1e7aae57069311a#2\" \\\n",
    "  --tx-in \"e8e9b557a82c6e0bfbe267acbf54980bad2cbed8d9cb500d801d04e1938b1f24#0\" \\\n",
    "  --tx-out \"${ROLE_ADDR[j.lumley]}+$((3 * ADA))+$((100 * DJED)) $DJED_POLICY.$DJED_NAME\" \\\n",
    "  --tx-out \"${ROLE_ADDR[j.lumley]}+$((3 * ADA))+$((100 * IUSD)) $IUSD_POLICY.$IUSD_NAME\" \\\n",
    "  --tx-out \"${ROLE_ADDR[c.marlowe]}+$((3 * ADA))+500 $FUNGIBLES_POLICY.BearGarden\" \\\n",
    "  --change-address \"$FAUCET_ADDR\" \\\n",
    "  --required-signer \"$FAUCET_SKEY\" \\\n",
    "  --out-file /dev/null \\\n",
    "  --submit 600"
   ]
  },
  {
   "cell_type": "markdown",
   "id": "18d01388-a359-4f58-a49e-4927a0a5a454",
   "metadata": {},
   "source": [
    "## The Marlowe contract\n",
    "\n",
    "The Marlowe contract is just a download of the JSON file for the Blockly-format contract designed in the [Marlowe Playground](https://play.marlowe.iohk.io/#/)."
   ]
  },
  {
   "cell_type": "code",
   "execution_count": 7,
   "id": "6c9c0330-ad86-4704-90f8-d798d7d7562a",
   "metadata": {},
   "outputs": [
    {
     "name": "stdout",
     "output_type": "stream",
     "text": [
      "timeout: 1676679830000\n",
      "timeout_continuation: close\n",
      "when:\n",
      "- case:\n",
      "    deposits: 1\n",
      "    into_account:\n",
      "      role_token: c.marlowe\n",
      "    of_token:\n",
      "      currency_symbol: 8bb3b343d8e404472337966a722150048c768d0a92a9813596c5338d\n",
      "      token_name: BearGarden\n",
      "    party:\n",
      "      role_token: c.marlowe\n",
      "  then:\n",
      "    timeout: 1676679840000\n",
      "    timeout_continuation: close\n",
      "    when:\n",
      "    - case:\n",
      "        deposits: 50000000\n",
      "        into_account:\n",
      "          role_token: c.marlowe\n",
      "        of_token:\n",
      "          currency_symbol: 8db269c3ec630e06ae29f74bc39edd1f87c819f1056206e879a1cd61\n",
      "          token_name: DjedMicroUSD\n",
      "        party:\n",
      "          role_token: j.lumley\n",
      "      then:\n",
      "        from_account:\n",
      "          role_token: c.marlowe\n",
      "        pay: 1\n",
      "        then: close\n",
      "        to:\n",
      "          party:\n",
      "            role_token: j.lumley\n",
      "        token:\n",
      "          currency_symbol: 8bb3b343d8e404472337966a722150048c768d0a92a9813596c5338d\n",
      "          token_name: BearGarden\n",
      "    - case:\n",
      "        deposits: 50000000\n",
      "        into_account:\n",
      "          role_token: c.marlowe\n",
      "        of_token:\n",
      "          currency_symbol: f66d78b4a3cb3d37afa0ec36461e51ecbde00f26c8f0a68f94b69880\n",
      "          token_name: iUSD\n",
      "        party:\n",
      "          role_token: j.lumley\n",
      "      then:\n",
      "        from_account:\n",
      "          role_token: c.marlowe\n",
      "        pay: 1\n",
      "        then: close\n",
      "        to:\n",
      "          party:\n",
      "            role_token: j.lumley\n",
      "        token:\n",
      "          currency_symbol: 8bb3b343d8e404472337966a722150048c768d0a92a9813596c5338d\n",
      "          token_name: BearGarden\n"
     ]
    }
   ],
   "source": [
    "json2yaml contract.json"
   ]
  },
  {
   "cell_type": "markdown",
   "id": "f8c4dbbf-f861-438a-a5bc-bf6d3af3d27f",
   "metadata": {},
   "source": [
    "## Transaction 1. Create the contract\n",
    "\n",
    "We use Marlowe Runtime's command-line tool to build the transaction for creating the contract."
   ]
  },
  {
   "cell_type": "code",
   "execution_count": 8,
   "id": "43d8526a-4edf-4baf-98f7-2509a2320a19",
   "metadata": {},
   "outputs": [
    {
     "name": "stdout",
     "output_type": "stream",
     "text": [
      "CONTRACT_ID = 561c6ccdeba9505a385c92f3c3b9c3b007c92c34bbffef8f9a88f02eba1bd4de#1\n"
     ]
    }
   ],
   "source": [
    "CONTRACT_ID=$(\n",
    "marlowe create \\\n",
    "  --core-file contract.json \\\n",
    "  --role-token-policy-id \"$ROLES_CURRENCY\" \\\n",
    "  --min-utxo \"$((3 * ADA))\" \\\n",
    "  --change-address \"$FAUCET_ADDR\" \\\n",
    "  --manual-sign tx-1.unsigned \\\n",
    "| jq -r 'fromjson | .contractId' \\\n",
    ")\n",
    "echo \"CONTRACT_ID = $CONTRACT_ID\""
   ]
  },
  {
   "cell_type": "markdown",
   "id": "44313727-26ab-4ee6-a922-9859e9328c5d",
   "metadata": {},
   "source": [
    "The contract can be signed an submitted with any wallet or service. For convenience, we use `marlowe-cli` here."
   ]
  },
  {
   "cell_type": "code",
   "execution_count": 9,
   "id": "71cd4d41-0647-4013-b921-ea3491e7ffa8",
   "metadata": {},
   "outputs": [
    {
     "name": "stdout",
     "output_type": "stream",
     "text": [
      "TxId \"561c6ccdeba9505a385c92f3c3b9c3b007c92c34bbffef8f9a88f02eba1bd4de\"\n"
     ]
    }
   ],
   "source": [
    "marlowe-cli transaction submit \\\n",
    "  --mainnet \\\n",
    "  --tx-body-file tx-1.unsigned \\\n",
    "  --required-signer \"$FAUCET_SKEY\" \\\n",
    "  --timeout 600"
   ]
  },
  {
   "cell_type": "code",
   "execution_count": 10,
   "id": "edbcd13f-c143-40ba-b5f3-1c09543cd9d1",
   "metadata": {},
   "outputs": [
    {
     "name": "stdout",
     "output_type": "stream",
     "text": [
      "https://cardanoscan.io/transaction/561c6ccdeba9505a385c92f3c3b9c3b007c92c34bbffef8f9a88f02eba1bd4de?tab=utxo\n"
     ]
    }
   ],
   "source": [
    "echo \"https://cardanoscan.io/transaction/${CONTRACT_ID%%#1}?tab=utxo\""
   ]
  },
  {
   "cell_type": "markdown",
   "id": "5bd2329b-3c88-4b60-9ac9-b97c162e8f78",
   "metadata": {},
   "source": [
    "We can use a tool such as `marlowe-pipe` to fetch the contract from the blockchain and display it."
   ]
  },
  {
   "cell_type": "code",
   "execution_count": 11,
   "id": "d965d4fd-e5bb-4ee0-9d5f-fba08f8952a9",
   "metadata": {},
   "outputs": [
    {
     "name": "stdout",
     "output_type": "stream",
     "text": [
      "creation:\n",
      "  output:\n",
      "    address: 716a9391d6aa51af28dd876ebb5565b69d1e83e5ac7861506bd29b56b0\n",
      "    assets:\n",
      "      ada: 3000000\n",
      "      tokens: []\n",
      "    datum:\n",
      "      marloweContract:\n",
      "        timeout: 1676679830000\n",
      "        timeout_continuation: close\n",
      "        when:\n",
      "        - case:\n",
      "            deposits: 1\n",
      "            into_account:\n",
      "              role_token: c.marlowe\n",
      "            of_token:\n",
      "              currency_symbol: 8bb3b343d8e404472337966a722150048c768d0a92a9813596c5338d\n",
      "              token_name: BearGarden\n",
      "            party:\n",
      "              role_token: c.marlowe\n",
      "          then:\n",
      "            timeout: 1676679840000\n",
      "            timeout_continuation: close\n",
      "            when:\n",
      "            - case:\n",
      "                deposits: 50000000\n",
      "                into_account:\n",
      "                  role_token: c.marlowe\n",
      "                of_token:\n",
      "                  currency_symbol: 8db269c3ec630e06ae29f74bc39edd1f87c819f1056206e879a1cd61\n",
      "                  token_name: DjedMicroUSD\n",
      "                party:\n",
      "                  role_token: j.lumley\n",
      "              then:\n",
      "                from_account:\n",
      "                  role_token: c.marlowe\n",
      "                pay: 1\n",
      "                then: close\n",
      "                to:\n",
      "                  party:\n",
      "                    role_token: j.lumley\n",
      "                token:\n",
      "                  currency_symbol: 8bb3b343d8e404472337966a722150048c768d0a92a9813596c5338d\n",
      "                  token_name: BearGarden\n",
      "            - case:\n",
      "                deposits: 50000000\n",
      "                into_account:\n",
      "                  role_token: c.marlowe\n",
      "                of_token:\n",
      "                  currency_symbol: f66d78b4a3cb3d37afa0ec36461e51ecbde00f26c8f0a68f94b69880\n",
      "                  token_name: iUSD\n",
      "                party:\n",
      "                  role_token: j.lumley\n",
      "              then:\n",
      "                from_account:\n",
      "                  role_token: c.marlowe\n",
      "                pay: 1\n",
      "                then: close\n",
      "                to:\n",
      "                  party:\n",
      "                    role_token: j.lumley\n",
      "                token:\n",
      "                  currency_symbol: 8bb3b343d8e404472337966a722150048c768d0a92a9813596c5338d\n",
      "                  token_name: BearGarden\n",
      "      marloweParams:\n",
      "        rolesCurrency: f0ff48bbb7bbe9d59a40f1ce90e9e9d0ff5002ec48f232b49ca0fb9a\n",
      "      marloweState:\n",
      "        accounts:\n",
      "        - - - address: addr1qy9prvx8ufwutkwxx9cmmuuajaqmjqwujqlp9d8pvg6gupcvluken35ncjnu0puetf5jvttedkze02d5kf890kquh60sut9jg7\n",
      "            - currency_symbol: ''\n",
      "              token_name: ''\n",
      "          - 3000000\n",
      "        boundValues: []\n",
      "        choices: []\n",
      "        minTime: 0\n",
      "    utxo:\n",
      "      txId: 561c6ccdeba9505a385c92f3c3b9c3b007c92c34bbffef8f9a88f02eba1bd4de\n",
      "      txIx: 1\n",
      "  payoutValidatorHash: 49076eab20243dc9462511fb98a9cfb719f86e9692288139b7c91df3\n",
      "response: info\n",
      "steps: []\n"
     ]
    }
   ],
   "source": [
    "echo '{\"request\" : \"get\", \"contractId\" : \"'\"$CONTRACT_ID\"'\"}' | marlowe-pipe 2> /dev/null | json2yaml"
   ]
  },
  {
   "cell_type": "markdown",
   "id": "0ebe8f27-6e07-48f8-929c-cc7a3cc5090c",
   "metadata": {},
   "source": [
    "## Transaction 2. Christopher Marlowe deposits the BearGarden token into the contract\n",
    "\n",
    "The logic of the contract dictates that Christopher Marlowe deposits one BearGarden token into his account in the Marlowe contract."
   ]
  },
  {
   "cell_type": "code",
   "execution_count": 12,
   "id": "74edf442-004b-4908-b362-4b1d08eeefa0",
   "metadata": {},
   "outputs": [
    {
     "name": "stdout",
     "output_type": "stream",
     "text": [
      "TX_2 = 4b8528698e34e16837649ef68769653196985180e1a71dc874d2fe8a53a8942a\n"
     ]
    }
   ],
   "source": [
    "TX_2=$(\n",
    "marlowe deposit \\\n",
    "  --contract \"$CONTRACT_ID\" \\\n",
    "  --from-party \"${ROLE_NAME[c.marlowe]}\" \\\n",
    "  --to-party \"${ROLE_NAME[c.marlowe]}\" \\\n",
    "  --currency \"$FUNGIBLES_POLICY\" \\\n",
    "  --token-name BearGarden \\\n",
    "  --quantity 1 \\\n",
    "  --change-address \"${ROLE_ADDR[c.marlowe]}\" \\\n",
    "  --manual-sign tx-2.unsigned \\\n",
    "| jq -r 'fromjson | .txId' \\\n",
    ")\n",
    "echo \"TX_2 = $TX_2\""
   ]
  },
  {
   "cell_type": "markdown",
   "id": "443e13a6-9b07-4716-abdd-66d146ed0b12",
   "metadata": {},
   "source": [
    "Sign and submit the transaction."
   ]
  },
  {
   "cell_type": "code",
   "execution_count": 13,
   "id": "8d2fd190-7d05-47f4-95ad-9da9a6e3d84e",
   "metadata": {},
   "outputs": [
    {
     "name": "stdout",
     "output_type": "stream",
     "text": [
      "TxId \"4b8528698e34e16837649ef68769653196985180e1a71dc874d2fe8a53a8942a\"\n"
     ]
    }
   ],
   "source": [
    "marlowe-cli transaction submit \\\n",
    "  --mainnet \\\n",
    "  --tx-body-file tx-2.unsigned \\\n",
    "  --required-signer \"${ROLE_SKEY[c.marlowe]}\" \\\n",
    "  --timeout 600"
   ]
  },
  {
   "cell_type": "code",
   "execution_count": 14,
   "id": "f08aa49c-5ec5-4d69-993c-e100c8b96836",
   "metadata": {},
   "outputs": [
    {
     "name": "stdout",
     "output_type": "stream",
     "text": [
      "https://cardanoscan.io/transaction/4b8528698e34e16837649ef68769653196985180e1a71dc874d2fe8a53a8942a?tab=utxo\n"
     ]
    }
   ],
   "source": [
    "echo \"https://cardanoscan.io/transaction/$TX_2?tab=utxo\""
   ]
  },
  {
   "cell_type": "markdown",
   "id": "2b9c6417-a84b-42b8-9b3e-3726faf48866",
   "metadata": {},
   "source": [
    "View the output to the Marlowe contract to see that it now holds 1 BearGarden token."
   ]
  },
  {
   "cell_type": "code",
   "execution_count": 15,
   "id": "72885ce2-a709-43ae-b7d8-cd3886ca7fa0",
   "metadata": {},
   "outputs": [
    {
     "name": "stdout",
     "output_type": "stream",
     "text": [
      "                           TxHash                                 TxIx        Amount\n",
      "--------------------------------------------------------------------------------------\n",
      "4b8528698e34e16837649ef68769653196985180e1a71dc874d2fe8a53a8942a     1        3000000 lovelace + 1 8bb3b343d8e404472337966a722150048c768d0a92a9813596c5338d.4265617247617264656e + TxOutDatumHash ScriptDataInBabbageEra \"d741f0d8c5e7ee85b174cb8178e539a56efc22d6f5884d86c1532592e648a0dd\"\n"
     ]
    }
   ],
   "source": [
    "cardano-cli query utxo --mainnet --tx-in \"$TX_2#1\""
   ]
  },
  {
   "cell_type": "markdown",
   "id": "8715e151-1c98-4248-b44c-c4f094d747b3",
   "metadata": {},
   "source": [
    "## Transaction 3. Jane Lumley deposits 50 Djed into the contract, causing it to pay the parties.\n",
    "\n",
    "Depositing the 50 Djed causes the contract to close as it pays 1 BearGarden to Marlowe\\'s role-payout address for the benefit of Jane Lumley and 50 Djed for the benefit of Christopher Marlowe."
   ]
  },
  {
   "cell_type": "code",
   "execution_count": 16,
   "id": "76efe0e5-0736-4cf6-ace2-e0971ce34f48",
   "metadata": {},
   "outputs": [
    {
     "name": "stdout",
     "output_type": "stream",
     "text": [
      "TX_3 = 8c951d51f63a5c523443c51956801e14664d7510fc564db5500168d80b503887\n"
     ]
    }
   ],
   "source": [
    "TX_3=$(\n",
    "marlowe deposit \\\n",
    "  --contract \"$CONTRACT_ID\" \\\n",
    "  --from-party \"${ROLE_NAME[j.lumley]}\" \\\n",
    "  --to-party \"${ROLE_NAME[c.marlowe]}\" \\\n",
    "  --currency \"$DJED_POLICY\" \\\n",
    "  --token-name \"$DJED_NAME\" \\\n",
    "  --quantity \"$((50 * DJED))\" \\\n",
    "  --change-address \"${ROLE_ADDR[j.lumley]}\" \\\n",
    "  --manual-sign tx-3.unsigned \\\n",
    "| jq -r 'fromjson | .txId' \\\n",
    ")\n",
    "echo \"TX_3 = $TX_3\""
   ]
  },
  {
   "cell_type": "markdown",
   "id": "655360bb-3073-4a83-95d3-9d36ebc8c584",
   "metadata": {},
   "source": [
    "Sign and submit the transaction."
   ]
  },
  {
   "cell_type": "code",
   "execution_count": 17,
   "id": "972dfea3-7d65-479b-9743-09dd51494224",
   "metadata": {},
   "outputs": [
    {
     "name": "stdout",
     "output_type": "stream",
     "text": [
      "TxId \"8c951d51f63a5c523443c51956801e14664d7510fc564db5500168d80b503887\"\n"
     ]
    }
   ],
   "source": [
    "marlowe-cli transaction submit \\\n",
    "  --mainnet \\\n",
    "  --tx-body-file tx-3.unsigned \\\n",
    "  --required-signer \"${ROLE_SKEY[j.lumley]}\" \\\n",
    "  --timeout 600"
   ]
  },
  {
   "cell_type": "code",
   "execution_count": 18,
   "id": "dd9eef79-8bfd-4ab7-9379-c1bc709ef236",
   "metadata": {},
   "outputs": [
    {
     "name": "stdout",
     "output_type": "stream",
     "text": [
      "https://cardanoscan.io/transaction/8c951d51f63a5c523443c51956801e14664d7510fc564db5500168d80b503887?tab=utxo\n"
     ]
    }
   ],
   "source": [
    "echo \"https://cardanoscan.io/transaction/$TX_3?tab=utxo\""
   ]
  },
  {
   "cell_type": "markdown",
   "id": "5c30fe79-bfaf-4938-8785-bae907d3e7b4",
   "metadata": {},
   "source": [
    "See that Chrisopher Marlowe still holds his role token."
   ]
  },
  {
   "cell_type": "code",
   "execution_count": 19,
   "id": "bebbd496-289f-46fd-8470-a202e9fe0418",
   "metadata": {},
   "outputs": [
    {
     "name": "stdout",
     "output_type": "stream",
     "text": [
      "                           TxHash                                 TxIx        Amount\n",
      "--------------------------------------------------------------------------------------\n",
      "4b8528698e34e16837649ef68769653196985180e1a71dc874d2fe8a53a8942a     0        135613986 lovelace + TxOutDatumNone\n",
      "4b8528698e34e16837649ef68769653196985180e1a71dc874d2fe8a53a8942a     2        5000000 lovelace + 1 f0ff48bbb7bbe9d59a40f1ce90e9e9d0ff5002ec48f232b49ca0fb9a.632e6d61726c6f7765 + TxOutDatumNone\n",
      "4b8528698e34e16837649ef68769653196985180e1a71dc874d2fe8a53a8942a     3        1180940 lovelace + 499 8bb3b343d8e404472337966a722150048c768d0a92a9813596c5338d.4265617247617264656e + TxOutDatumNone\n",
      "ca16af8573a2b844b8a3ea8d8299da37d6c63d83582a8f54eac927198884aae6     0        12201100 lovelace + TxOutDatumNone\n"
     ]
    }
   ],
   "source": [
    "cardano-cli query utxo --mainnet --address \"${ROLE_ADDR[c.marlowe]}\""
   ]
  },
  {
   "cell_type": "markdown",
   "id": "42a37f3f-afd4-49d6-8f36-8a8d43ecc7f7",
   "metadata": {},
   "source": [
    "See that Jane Lumley still holds her role token."
   ]
  },
  {
   "cell_type": "code",
   "execution_count": 20,
   "id": "00d0cdfd-b036-45ed-9ef1-243519a9ec81",
   "metadata": {},
   "outputs": [
    {
     "name": "stdout",
     "output_type": "stream",
     "text": [
      "                           TxHash                                 TxIx        Amount\n",
      "--------------------------------------------------------------------------------------\n",
      "855c131e9b59a6607b4d28cfcb3a68b7f3f9672d03805c9252a6515f6e4ab226     2        3000000 lovelace + 100000000 f66d78b4a3cb3d37afa0ec36461e51ecbde00f26c8f0a68f94b69880.69555344 + TxOutDatumNone\n",
      "8c951d51f63a5c523443c51956801e14664d7510fc564db5500168d80b503887     0        38850860 lovelace + TxOutDatumNone\n",
      "8c951d51f63a5c523443c51956801e14664d7510fc564db5500168d80b503887     1        5000000 lovelace + 1 f0ff48bbb7bbe9d59a40f1ce90e9e9d0ff5002ec48f232b49ca0fb9a.6a2e6c756d6c6579 + TxOutDatumNone\n",
      "8c951d51f63a5c523443c51956801e14664d7510fc564db5500168d80b503887     5        1198180 lovelace + 50000000 8db269c3ec630e06ae29f74bc39edd1f87c819f1056206e879a1cd61.446a65644d6963726f555344 + TxOutDatumNone\n"
     ]
    }
   ],
   "source": [
    "cardano-cli query utxo --mainnet --address \"${ROLE_ADDR[j.lumley]}\""
   ]
  },
  {
   "cell_type": "markdown",
   "id": "47e22bb1-4c30-4e5e-9f24-520c685638e5",
   "metadata": {},
   "source": [
    "See that Marlowe\\'s payout address holds the 50 Djed and the 1 BearGarden."
   ]
  },
  {
   "cell_type": "code",
   "execution_count": 21,
   "id": "da6142f7-0b71-409a-8b4f-50bf10ebded0",
   "metadata": {},
   "outputs": [
    {
     "name": "stdout",
     "output_type": "stream",
     "text": [
      "                           TxHash                                 TxIx        Amount\n",
      "--------------------------------------------------------------------------------------\n",
      "8c951d51f63a5c523443c51956801e14664d7510fc564db5500168d80b503887     2        1236970 lovelace + 50000000 8db269c3ec630e06ae29f74bc39edd1f87c819f1056206e879a1cd61.446a65644d6963726f555344 + TxOutDatumHash ScriptDataInBabbageEra \"ea0afe598fe417d62bee6191c1838aaadb7d7aaa2849fe9bff19abeb5233199b\"\n",
      "8c951d51f63a5c523443c51956801e14664d7510fc564db5500168d80b503887     3        1211110 lovelace + 1 8bb3b343d8e404472337966a722150048c768d0a92a9813596c5338d.4265617247617264656e + TxOutDatumHash ScriptDataInBabbageEra \"9a0959b845f659fd39e6be40797247b4b1f2a1af78710d69adc9eb48f983a789\"\n"
     ]
    }
   ],
   "source": [
    "cardano-cli query utxo --mainnet --tx-in \"$TX_3#2\" --tx-in \"$TX_3#3\""
   ]
  },
  {
   "cell_type": "markdown",
   "id": "e385eb6d-598e-406b-8150-b266da742778",
   "metadata": {},
   "source": [
    "## Transaction 4. Christopher Marlowe withdraws his 50 Djed from the role-payout address"
   ]
  },
  {
   "cell_type": "code",
   "execution_count": 22,
   "id": "e789fda9-6215-432b-acea-e0eb5f7ecc93",
   "metadata": {},
   "outputs": [
    {
     "name": "stdout",
     "output_type": "stream",
     "text": [
      "TX_4 = 2dd9c58f3c30274dbe570e8ff5a193d819b67f133b0a225bf2f9212514ab49fc\n"
     ]
    }
   ],
   "source": [
    "TX_4=$(\n",
    "marlowe withdraw \\\n",
    "  --contract \"$CONTRACT_ID\" \\\n",
    "  --role \"${ROLE_NAME[c.marlowe]}\" \\\n",
    "  --change-address \"${ROLE_ADDR[c.marlowe]}\" \\\n",
    "  --manual-sign tx-4.unsigned \\\n",
    "| jq -r 'fromjson | .txId' \\\n",
    ")\n",
    "echo \"TX_4 = $TX_4\""
   ]
  },
  {
   "cell_type": "markdown",
   "id": "ac12cb2b-7848-4ad6-92db-e9d962d47b5e",
   "metadata": {},
   "source": [
    "Sign and submit the transaction."
   ]
  },
  {
   "cell_type": "code",
   "execution_count": 23,
   "id": "5b09732a-0384-48a5-a078-9d3a15b780ee",
   "metadata": {},
   "outputs": [
    {
     "name": "stdout",
     "output_type": "stream",
     "text": [
      "TxId \"2dd9c58f3c30274dbe570e8ff5a193d819b67f133b0a225bf2f9212514ab49fc\"\n"
     ]
    }
   ],
   "source": [
    "marlowe-cli transaction submit \\\n",
    "  --mainnet \\\n",
    "  --tx-body-file tx-4.unsigned \\\n",
    "  --required-signer \"${ROLE_SKEY[c.marlowe]}\" \\\n",
    "  --timeout 600"
   ]
  },
  {
   "cell_type": "markdown",
   "id": "3848f329-38e3-414a-a9b5-afce02200e54",
   "metadata": {},
   "source": [
    "See that Christopher Marlowe has successfully withdrawn the 50 Djed from the role-payout address."
   ]
  },
  {
   "cell_type": "code",
   "execution_count": 24,
   "id": "12afb7f8-6c9e-4219-ba8f-97d5770070fe",
   "metadata": {},
   "outputs": [
    {
     "name": "stdout",
     "output_type": "stream",
     "text": [
      "https://cardanoscan.io/transaction/2dd9c58f3c30274dbe570e8ff5a193d819b67f133b0a225bf2f9212514ab49fc?tab=utxo\n"
     ]
    }
   ],
   "source": [
    "echo \"https://cardanoscan.io/transaction/$TX_4?tab=utxo\""
   ]
  },
  {
   "cell_type": "markdown",
   "id": "6794823c-13da-4120-8fc3-0649a0979e85",
   "metadata": {},
   "source": [
    "## Transaction 5. Jane Lumley withdraws her 1 BearGarden from the role-payout address"
   ]
  },
  {
   "cell_type": "code",
   "execution_count": 25,
   "id": "6f56049a-f181-4a85-b668-c9a2936525d0",
   "metadata": {},
   "outputs": [
    {
     "name": "stdout",
     "output_type": "stream",
     "text": [
      "TX_5 = 7201d7fa362aea4ae0af212b9ebfddb71bceb1e1ac36f5cd9fde5fc3bbde16ef\n"
     ]
    }
   ],
   "source": [
    "TX_5=$(\n",
    "marlowe withdraw \\\n",
    "  --contract \"$CONTRACT_ID\" \\\n",
    "  --role \"${ROLE_NAME[j.lumley]}\" \\\n",
    "  --change-address \"${ROLE_ADDR[j.lumley]}\" \\\n",
    "  --manual-sign tx-5.unsigned \\\n",
    "| jq -r 'fromjson | .txId' \\\n",
    ")\n",
    "echo \"TX_5 = $TX_5\""
   ]
  },
  {
   "cell_type": "markdown",
   "id": "3abad50e-c684-48d9-97f4-46cbc1098baf",
   "metadata": {},
   "source": [
    "Sign and submit the transaction."
   ]
  },
  {
   "cell_type": "code",
   "execution_count": 26,
   "id": "ca0f6599-cc4d-4a73-a67c-96a1c46a0a3e",
   "metadata": {},
   "outputs": [
    {
     "name": "stdout",
     "output_type": "stream",
     "text": [
      "TxId \"7201d7fa362aea4ae0af212b9ebfddb71bceb1e1ac36f5cd9fde5fc3bbde16ef\"\n"
     ]
    }
   ],
   "source": [
    "marlowe-cli transaction submit \\\n",
    "  --mainnet \\\n",
    "  --tx-body-file tx-5.unsigned \\\n",
    "  --required-signer \"${ROLE_SKEY[j.lumley]}\" \\\n",
    "  --timeout 600"
   ]
  },
  {
   "cell_type": "markdown",
   "id": "940d2941-5b6a-4002-95df-df23f5f114dd",
   "metadata": {},
   "source": [
    "See that Jane Lumley has successfully withdrawn the 1 BearGarden from the role-payout address."
   ]
  },
  {
   "cell_type": "code",
   "execution_count": 27,
   "id": "90b73637-5af7-4642-bb2f-1fd71bced18f",
   "metadata": {},
   "outputs": [
    {
     "name": "stdout",
     "output_type": "stream",
     "text": [
      "https://cardanoscan.io/transaction/7201d7fa362aea4ae0af212b9ebfddb71bceb1e1ac36f5cd9fde5fc3bbde16ef?tab=utxo\n"
     ]
    }
   ],
   "source": [
    "echo \"https://cardanoscan.io/transaction/$TX_5?tab=utxo\""
   ]
  },
  {
   "cell_type": "markdown",
   "id": "be4347d6-7ab0-4980-b85a-2938b255d5d8",
   "metadata": {},
   "source": [
    "## View the whole history of the contract\n",
    "\n",
    "We use `marlowe-pipe` to print the whole history of this contract."
   ]
  },
  {
   "cell_type": "code",
   "execution_count": 28,
   "id": "ad030763-bc11-4f87-9b0e-6fdb268552c4",
   "metadata": {},
   "outputs": [
    {
     "name": "stdout",
     "output_type": "stream",
     "text": [
      "creation:\n",
      "  output:\n",
      "    address: 716a9391d6aa51af28dd876ebb5565b69d1e83e5ac7861506bd29b56b0\n",
      "    assets:\n",
      "      ada: 3000000\n",
      "      tokens: []\n",
      "    datum:\n",
      "      marloweContract:\n",
      "        timeout: 1676679830000\n",
      "        timeout_continuation: close\n",
      "        when:\n",
      "        - case:\n",
      "            deposits: 1\n",
      "            into_account:\n",
      "              role_token: c.marlowe\n",
      "            of_token:\n",
      "              currency_symbol: 8bb3b343d8e404472337966a722150048c768d0a92a9813596c5338d\n",
      "              token_name: BearGarden\n",
      "            party:\n",
      "              role_token: c.marlowe\n",
      "          then:\n",
      "            timeout: 1676679840000\n",
      "            timeout_continuation: close\n",
      "            when:\n",
      "            - case:\n",
      "                deposits: 50000000\n",
      "                into_account:\n",
      "                  role_token: c.marlowe\n",
      "                of_token:\n",
      "                  currency_symbol: 8db269c3ec630e06ae29f74bc39edd1f87c819f1056206e879a1cd61\n",
      "                  token_name: DjedMicroUSD\n",
      "                party:\n",
      "                  role_token: j.lumley\n",
      "              then:\n",
      "                from_account:\n",
      "                  role_token: c.marlowe\n",
      "                pay: 1\n",
      "                then: close\n",
      "                to:\n",
      "                  party:\n",
      "                    role_token: j.lumley\n",
      "                token:\n",
      "                  currency_symbol: 8bb3b343d8e404472337966a722150048c768d0a92a9813596c5338d\n",
      "                  token_name: BearGarden\n",
      "            - case:\n",
      "                deposits: 50000000\n",
      "                into_account:\n",
      "                  role_token: c.marlowe\n",
      "                of_token:\n",
      "                  currency_symbol: f66d78b4a3cb3d37afa0ec36461e51ecbde00f26c8f0a68f94b69880\n",
      "                  token_name: iUSD\n",
      "                party:\n",
      "                  role_token: j.lumley\n",
      "              then:\n",
      "                from_account:\n",
      "                  role_token: c.marlowe\n",
      "                pay: 1\n",
      "                then: close\n",
      "                to:\n",
      "                  party:\n",
      "                    role_token: j.lumley\n",
      "                token:\n",
      "                  currency_symbol: 8bb3b343d8e404472337966a722150048c768d0a92a9813596c5338d\n",
      "                  token_name: BearGarden\n",
      "      marloweParams:\n",
      "        rolesCurrency: f0ff48bbb7bbe9d59a40f1ce90e9e9d0ff5002ec48f232b49ca0fb9a\n",
      "      marloweState:\n",
      "        accounts:\n",
      "        - - - address: addr1qy9prvx8ufwutkwxx9cmmuuajaqmjqwujqlp9d8pvg6gupcvluken35ncjnu0puetf5jvttedkze02d5kf890kquh60sut9jg7\n",
      "            - currency_symbol: ''\n",
      "              token_name: ''\n",
      "          - 3000000\n",
      "        boundValues: []\n",
      "        choices: []\n",
      "        minTime: 0\n",
      "    utxo:\n",
      "      txId: 561c6ccdeba9505a385c92f3c3b9c3b007c92c34bbffef8f9a88f02eba1bd4de\n",
      "      txIx: 1\n",
      "  payoutValidatorHash: 49076eab20243dc9462511fb98a9cfb719f86e9692288139b7c91df3\n",
      "response: info\n",
      "steps:\n",
      "- contractId: 561c6ccdeba9505a385c92f3c3b9c3b007c92c34bbffef8f9a88f02eba1bd4de#1\n",
      "  payouts: []\n",
      "  redeemer:\n",
      "  - input_from_party:\n",
      "      role_token: c.marlowe\n",
      "    into_account:\n",
      "      role_token: c.marlowe\n",
      "    of_token:\n",
      "      currency_symbol: 8bb3b343d8e404472337966a722150048c768d0a92a9813596c5338d\n",
      "      token_name: BearGarden\n",
      "    that_deposits: 1\n",
      "  scriptOutput:\n",
      "    address: 716a9391d6aa51af28dd876ebb5565b69d1e83e5ac7861506bd29b56b0\n",
      "    assets:\n",
      "      ada: 3000000\n",
      "      tokens:\n",
      "      - - policyId: 8bb3b343d8e404472337966a722150048c768d0a92a9813596c5338d\n",
      "          tokenName: BearGarden\n",
      "        - 1\n",
      "    datum:\n",
      "      marloweContract:\n",
      "        timeout: 1676679840000\n",
      "        timeout_continuation: close\n",
      "        when:\n",
      "        - case:\n",
      "            deposits: 50000000\n",
      "            into_account:\n",
      "              role_token: c.marlowe\n",
      "            of_token:\n",
      "              currency_symbol: 8db269c3ec630e06ae29f74bc39edd1f87c819f1056206e879a1cd61\n",
      "              token_name: DjedMicroUSD\n",
      "            party:\n",
      "              role_token: j.lumley\n",
      "          then:\n",
      "            from_account:\n",
      "              role_token: c.marlowe\n",
      "            pay: 1\n",
      "            then: close\n",
      "            to:\n",
      "              party:\n",
      "                role_token: j.lumley\n",
      "            token:\n",
      "              currency_symbol: 8bb3b343d8e404472337966a722150048c768d0a92a9813596c5338d\n",
      "              token_name: BearGarden\n",
      "        - case:\n",
      "            deposits: 50000000\n",
      "            into_account:\n",
      "              role_token: c.marlowe\n",
      "            of_token:\n",
      "              currency_symbol: f66d78b4a3cb3d37afa0ec36461e51ecbde00f26c8f0a68f94b69880\n",
      "              token_name: iUSD\n",
      "            party:\n",
      "              role_token: j.lumley\n",
      "          then:\n",
      "            from_account:\n",
      "              role_token: c.marlowe\n",
      "            pay: 1\n",
      "            then: close\n",
      "            to:\n",
      "              party:\n",
      "                role_token: j.lumley\n",
      "            token:\n",
      "              currency_symbol: 8bb3b343d8e404472337966a722150048c768d0a92a9813596c5338d\n",
      "              token_name: BearGarden\n",
      "      marloweParams:\n",
      "        rolesCurrency: f0ff48bbb7bbe9d59a40f1ce90e9e9d0ff5002ec48f232b49ca0fb9a\n",
      "      marloweState:\n",
      "        accounts:\n",
      "        - - - address: addr1qy9prvx8ufwutkwxx9cmmuuajaqmjqwujqlp9d8pvg6gupcvluken35ncjnu0puetf5jvttedkze02d5kf890kquh60sut9jg7\n",
      "            - currency_symbol: ''\n",
      "              token_name: ''\n",
      "          - 3000000\n",
      "        - - - role_token: c.marlowe\n",
      "            - currency_symbol: 8bb3b343d8e404472337966a722150048c768d0a92a9813596c5338d\n",
      "              token_name: BearGarden\n",
      "          - 1\n",
      "        boundValues: []\n",
      "        choices: []\n",
      "        minTime: 1676324461000\n",
      "    utxo:\n",
      "      txId: 4b8528698e34e16837649ef68769653196985180e1a71dc874d2fe8a53a8942a\n",
      "      txIx: 1\n",
      "  step: apply\n",
      "  txId: 4b8528698e34e16837649ef68769653196985180e1a71dc874d2fe8a53a8942a\n",
      "- contractId: 561c6ccdeba9505a385c92f3c3b9c3b007c92c34bbffef8f9a88f02eba1bd4de#1\n",
      "  payouts:\n",
      "  - - txId: 8c951d51f63a5c523443c51956801e14664d7510fc564db5500168d80b503887\n",
      "      txIx: 2\n",
      "    - address: 7149076eab20243dc9462511fb98a9cfb719f86e9692288139b7c91df3\n",
      "      assets:\n",
      "        ada: 1236970\n",
      "        tokens:\n",
      "        - - policyId: 8db269c3ec630e06ae29f74bc39edd1f87c819f1056206e879a1cd61\n",
      "            tokenName: DjedMicroUSD\n",
      "          - 50000000\n",
      "      datum:\n",
      "        policyId: f0ff48bbb7bbe9d59a40f1ce90e9e9d0ff5002ec48f232b49ca0fb9a\n",
      "        tokenName: c.marlowe\n",
      "  - - txId: 8c951d51f63a5c523443c51956801e14664d7510fc564db5500168d80b503887\n",
      "      txIx: 3\n",
      "    - address: 7149076eab20243dc9462511fb98a9cfb719f86e9692288139b7c91df3\n",
      "      assets:\n",
      "        ada: 1211110\n",
      "        tokens:\n",
      "        - - policyId: 8bb3b343d8e404472337966a722150048c768d0a92a9813596c5338d\n",
      "            tokenName: BearGarden\n",
      "          - 1\n",
      "      datum:\n",
      "        policyId: f0ff48bbb7bbe9d59a40f1ce90e9e9d0ff5002ec48f232b49ca0fb9a\n",
      "        tokenName: j.lumley\n",
      "  redeemer:\n",
      "  - input_from_party:\n",
      "      role_token: j.lumley\n",
      "    into_account:\n",
      "      role_token: c.marlowe\n",
      "    of_token:\n",
      "      currency_symbol: 8db269c3ec630e06ae29f74bc39edd1f87c819f1056206e879a1cd61\n",
      "      token_name: DjedMicroUSD\n",
      "    that_deposits: 50000000\n",
      "  scriptOutput: null\n",
      "  step: apply\n",
      "  txId: 8c951d51f63a5c523443c51956801e14664d7510fc564db5500168d80b503887\n",
      "- datumm:\n",
      "    policyId: f0ff48bbb7bbe9d59a40f1ce90e9e9d0ff5002ec48f232b49ca0fb9a\n",
      "    tokenName: c.marlowe\n",
      "  redeemingTx: 2dd9c58f3c30274dbe570e8ff5a193d819b67f133b0a225bf2f9212514ab49fc\n",
      "  step: payout\n",
      "  utxo:\n",
      "    txId: 8c951d51f63a5c523443c51956801e14664d7510fc564db5500168d80b503887\n",
      "    txIx: 2\n",
      "- datumm:\n",
      "    policyId: f0ff48bbb7bbe9d59a40f1ce90e9e9d0ff5002ec48f232b49ca0fb9a\n",
      "    tokenName: j.lumley\n",
      "  redeemingTx: 7201d7fa362aea4ae0af212b9ebfddb71bceb1e1ac36f5cd9fde5fc3bbde16ef\n",
      "  step: payout\n",
      "  utxo:\n",
      "    txId: 8c951d51f63a5c523443c51956801e14664d7510fc564db5500168d80b503887\n",
      "    txIx: 3\n"
     ]
    }
   ],
   "source": [
    "echo '{\"request\" : \"get\", \"contractId\" : \"'\"$CONTRACT_ID\"'\"}' | marlowe-pipe 2> /dev/null | json2yaml"
   ]
  },
  {
   "cell_type": "markdown",
   "id": "ef48938e-c6a8-4ba5-9f14-a413232c2c59",
   "metadata": {},
   "source": [
    "## Return the BearGarden, Djed, and iUSD tokens to the faucet\n",
    "\n",
    "Returning the token to the faucet is convenient housekeeping for this example."
   ]
  },
  {
   "cell_type": "code",
   "execution_count": 29,
   "id": "b2667429-3fd9-4bd0-a7ec-e208c681c1b3",
   "metadata": {},
   "outputs": [
    {
     "name": "stdout",
     "output_type": "stream",
     "text": [
      "TxId \"a54cdaeaa68371466a6ddd0a8b20c092b9473bf5840e00f9e3dbcbd0c0967e2a\"\n"
     ]
    }
   ],
   "source": [
    "marlowe-cli transaction simple \\\n",
    "  --mainnet \\\n",
    "  --tx-in \"561c6ccdeba9505a385c92f3c3b9c3b007c92c34bbffef8f9a88f02eba1bd4de#0\" \\\n",
    "  --tx-in \"855c131e9b59a6607b4d28cfcb3a68b7f3f9672d03805c9252a6515f6e4ab226#0\" \\\n",
    "  --tx-in \"8c951d51f63a5c523443c51956801e14664d7510fc564db5500168d80b503887#4\" \\\n",
    "  --tx-in \"2dd9c58f3c30274dbe570e8ff5a193d819b67f133b0a225bf2f9212514ab49fc#2\" \\\n",
    "  --tx-in \"4b8528698e34e16837649ef68769653196985180e1a71dc874d2fe8a53a8942a#3\" \\\n",
    "  --tx-in \"7201d7fa362aea4ae0af212b9ebfddb71bceb1e1ac36f5cd9fde5fc3bbde16ef#2\" \\\n",
    "  --tx-in \"855c131e9b59a6607b4d28cfcb3a68b7f3f9672d03805c9252a6515f6e4ab226#2\" \\\n",
    "  --tx-in \"8c951d51f63a5c523443c51956801e14664d7510fc564db5500168d80b503887#5\" \\\n",
    "  --tx-out \"$FAUCET_ADDR+$((3 * ADA))+$((100 * DJED)) $DJED_POLICY.$DJED_NAME\" \\\n",
    "  --tx-out \"$FAUCET_ADDR+$((3 * ADA))+$((100 * IUSD)) $IUSD_POLICY.$IUSD_NAME\" \\\n",
    "  --tx-out \"$FAUCET_ADDR+$((3 * ADA))+500 $FUNGIBLES_POLICY.BearGarden\" \\\n",
    "  --change-address \"$FAUCET_ADDR\" \\\n",
    "  --required-signer \"$FAUCET_SKEY\" \\\n",
    "  --required-signer \"${ROLE_SKEY[c.marlowe]}\" \\\n",
    "  --required-signer \"${ROLE_SKEY[j.lumley]}\" \\\n",
    "  --out-file /dev/null \\\n",
    "  --submit 600"
   ]
  }
 ],
 "metadata": {
  "kernelspec": {
   "display_name": "Bash - Marlowe",
   "language": "bash",
   "name": "bash_marlowe"
  },
  "language_info": {
   "codemirror_mode": "shell",
   "file_extension": ".sh",
   "mimetype": "text/x-sh",
   "name": "/nix/store/p7bpdnxqd3i5hwm92mrscf7mvxk66404-bash-5.1-p16/bin/bash"
  }
 },
 "nbformat": 4,
 "nbformat_minor": 5
}
