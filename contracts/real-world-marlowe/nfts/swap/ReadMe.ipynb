{
 "cells": [
  {
   "cell_type": "markdown",
   "id": "998bd51f-18e3-482a-99ce-4637d8b83434",
   "metadata": {},
   "source": [
    "## <font color=\"red\">Caution!</font>\n",
    "\n",
    "Before running a Marlowe contract on `mainnet`, it is wise to do the following in order to avoid losing funds:\n",
    "\n",
    "1. Understand the [Marlowe Language](https://marlowe.iohk.io/).\n",
    "2. Understand Cardano\\'s [Extended UTxO Model](https://docs.cardano.org/learn/eutxo-explainer).\n",
    "3. Read and understand the [Marlowe Best Practices Guide](https://github.com/input-output-hk/marlowe-cardano/blob/main/marlowe/best-practices.md).\n",
    "4. Read and understand the [Marlowe Security Guide](https://github.com/input-output-hk/marlowe-cardano/blob/main/marlowe/security.md).\n",
    "5. Use [Marlowe Playground](https://play.marlowe.iohk.io/) to flag warnings, perform static analysis, and simulate the contract.\n",
    "6. Use [Marlowe CLI\\'s](https://github.com/input-output-hk/marlowe-cardano/blob/main/marlowe-cli/ReadMe.md) `marlowe-cli run analyze` tool to study whether the contract can run on a Cardano network.\n",
    "7. Run *all execution paths* of the contract on a [Cardano testnet](https://docs.cardano.org/cardano-testnet/overview).\n",
    "\n",
    "---"
   ]
  },
  {
   "cell_type": "markdown",
   "id": "168f0ee1-37ba-4cd9-acdb-4e8723d760a1",
   "metadata": {},
   "source": [
    "# A Swap of Tokens\n",
    "\n",
    "This contract swaps one type of token for another.\n",
    "\n",
    "This example consists of four transactions:\n",
    "1. Francis Beaumont creates the token-sale Marlowe contract.\n",
    "2. Francis Beaumont deposits 500 Globe tokens in the contract.\n",
    "3. John Webster deposits 300 Swan tokens in the contract, causing it to close and pay the tokens for the benefit of the other parties.\n",
    "4. Francis Beaumeont withdraws his 300 Swan tokens from Marlowe's role-payout address.\n",
    "5. John Webster withdraws his 500 Globe tokens from Marlowe's role-payout address.\n",
    "\n",
    "Here is the contract in Blockly format:\n",
    "\n",
    "![Token swap](contract.png)"
   ]
  },
  {
   "cell_type": "markdown",
   "id": "79fd0207-0546-4d3b-bf42-676cd60b6bf6",
   "metadata": {},
   "source": [
    "## Set Up"
   ]
  },
  {
   "cell_type": "markdown",
   "id": "e4836e0a-bc90-493d-8a73-92f95e38ef89",
   "metadata": {},
   "source": [
    "Use `mainnet`."
   ]
  },
  {
   "cell_type": "code",
   "execution_count": 1,
   "id": "61fc626d-a2fb-4a26-a619-9c00a1413d26",
   "metadata": {},
   "outputs": [],
   "source": [
    ". ../../mainnet.env"
   ]
  },
  {
   "cell_type": "markdown",
   "id": "222170b0-1304-4ff4-b8e3-1e802f440cfa",
   "metadata": {},
   "source": [
    "Use the standard example roles."
   ]
  },
  {
   "cell_type": "code",
   "execution_count": 2,
   "id": "9c450ad6-7161-43c4-b9f7-a8dc45711c13",
   "metadata": {},
   "outputs": [],
   "source": [
    ". ../../dramatis-personae/roles.env"
   ]
  },
  {
   "cell_type": "markdown",
   "id": "4330f8ae-3f1b-4a61-b320-6e15433ae5d9",
   "metadata": {},
   "source": [
    "## Role tokens\n",
    "\n",
    "This contract uses [Ada Handles](https://adahandle.com/) as role tokens:\n",
    "- Francis Beaumont = [\\$f.beaumont](https://pool.pm/asset1dv4kncr59t9cndrqdhdd28l656eppcq9mlcxq7)\n",
    "- John Webster = [\\$j.webster](https://pool.pm/asset1zdcycnnmg6dx5dy030u4cu0zdn63r2scghg2p4)\n",
    "\n",
    "*Note: Only use a pre-minted token as a Marlowe role if you have reviewed the monetary policy for security vulnerabilities.*\n",
    "\n",
    "Here is the currency symbol for Ada handles on `mainnet`:"
   ]
  },
  {
   "cell_type": "code",
   "execution_count": 3,
   "id": "952a4376-309e-4f04-b706-b7a334b54249",
   "metadata": {},
   "outputs": [
    {
     "name": "stdout",
     "output_type": "stream",
     "text": [
      "ROLES_CURRENCY = f0ff48bbb7bbe9d59a40f1ce90e9e9d0ff5002ec48f232b49ca0fb9a\n"
     ]
    }
   ],
   "source": [
    "echo \"ROLES_CURRENCY = $ROLES_CURRENCY\""
   ]
  },
  {
   "cell_type": "markdown",
   "id": "4065e0a5-5a63-4ea3-b208-099d0857ee06",
   "metadata": {},
   "source": [
    "## Policy ID for the Globe and Swan tokens"
   ]
  },
  {
   "cell_type": "markdown",
   "id": "231498a5-b40e-4ecb-bb61-63c32ac0668e",
   "metadata": {},
   "source": [
    "We previously minted the BearGarden token with the following policy."
   ]
  },
  {
   "cell_type": "code",
   "execution_count": 4,
   "id": "b7cf1638-2427-4108-a6b3-33a1ccbabd48",
   "metadata": {},
   "outputs": [
    {
     "name": "stdout",
     "output_type": "stream",
     "text": [
      "FUNGIBLES_POLICY = 8bb3b343d8e404472337966a722150048c768d0a92a9813596c5338d\n"
     ]
    }
   ],
   "source": [
    "echo \"FUNGIBLES_POLICY = $FUNGIBLES_POLICY\""
   ]
  },
  {
   "cell_type": "markdown",
   "id": "1f5904e2-d96c-4447-9b79-a6703ef56ecf",
   "metadata": {},
   "source": [
    "## Initial funding"
   ]
  },
  {
   "cell_type": "markdown",
   "id": "93bac05f-307c-49e6-921f-2aa6148640f4",
   "metadata": {},
   "source": [
    "Send the GLobe and Swan fungible tokens from the faucet to the parties."
   ]
  },
  {
   "cell_type": "code",
   "execution_count": 5,
   "id": "c2641efc-f061-4e44-a6df-41f2147eee26",
   "metadata": {},
   "outputs": [
    {
     "name": "stdout",
     "output_type": "stream",
     "text": [
      "TxId \"707db5afc8b367df20e6818907b6cc88c74f5572cc306e37fb40e6d97e57edb7\"\n"
     ]
    }
   ],
   "source": [
    "ADA=1000000\n",
    "marlowe-cli transaction simple \\\n",
    "  --mainnet \\\n",
    "  --tx-in \"332f37fbcd87aaf56dd3596ec7dfb8567dfac3e5d5d344553fdbaf3977d1560d#1\" \\\n",
    "  --tx-in \"332f37fbcd87aaf56dd3596ec7dfb8567dfac3e5d5d344553fdbaf3977d1560d#2\" \\\n",
    "  --tx-in \"9f56ccd99e5ee8f4bc92fb229ffaaafa7bd5f0bbf72dd3d7071b0b4cc11df7cd#0\" \\\n",
    "  --tx-in \"a1e8562663b89e7d793470a2773ea721f59819ca5028d76a012fdf638338214f#0\" \\\n",
    "  --tx-out \"${ROLE_ADDR[f.beaumont]}+$((3 * ADA))+500 $FUNGIBLES_POLICY.Globe\" \\\n",
    "  --tx-out \"${ROLE_ADDR[j.webster]}+$((3 * ADA))+300 $FUNGIBLES_POLICY.Swan\" \\\n",
    "  --tx-out \"$FAUCET_ADDR+$((3 * ADA))+200 $FUNGIBLES_POLICY.Swan\" \\\n",
    "  --change-address \"$FAUCET_ADDR\" \\\n",
    "  --required-signer \"$FAUCET_SKEY\" \\\n",
    "  --out-file /dev/null \\\n",
    "  --submit 600"
   ]
  },
  {
   "cell_type": "markdown",
   "id": "40320913-181c-4ea5-abaf-36221c14bdc0",
   "metadata": {},
   "source": [
    "## The Marlowe contract\n",
    "\n",
    "The Marlowe contract is just a download of the JSON file for the Blockly-format contract designed in the [Marlowe Playground](https://play.marlowe.iohk.io/#/)."
   ]
  },
  {
   "cell_type": "code",
   "execution_count": 6,
   "id": "efad13ad-500b-43b1-b798-1ab42463a1d2",
   "metadata": {},
   "outputs": [
    {
     "name": "stdout",
     "output_type": "stream",
     "text": [
      "timeout: 1676679830000\n",
      "timeout_continuation: close\n",
      "when:\n",
      "- case:\n",
      "    deposits: 500\n",
      "    into_account:\n",
      "      role_token: f.beaumont\n",
      "    of_token:\n",
      "      currency_symbol: 8bb3b343d8e404472337966a722150048c768d0a92a9813596c5338d\n",
      "      token_name: Globe\n",
      "    party:\n",
      "      role_token: f.beaumont\n",
      "  then:\n",
      "    timeout: 1676679840000\n",
      "    timeout_continuation: close\n",
      "    when:\n",
      "    - case:\n",
      "        deposits: 300\n",
      "        into_account:\n",
      "          role_token: j.webster\n",
      "        of_token:\n",
      "          currency_symbol: 8bb3b343d8e404472337966a722150048c768d0a92a9813596c5338d\n",
      "          token_name: Swan\n",
      "        party:\n",
      "          role_token: j.webster\n",
      "      then:\n",
      "        from_account:\n",
      "          role_token: f.beaumont\n",
      "        pay: 500\n",
      "        then:\n",
      "          from_account:\n",
      "            role_token: j.webster\n",
      "          pay: 300\n",
      "          then: close\n",
      "          to:\n",
      "            party:\n",
      "              role_token: f.beaumont\n",
      "          token:\n",
      "            currency_symbol: 8bb3b343d8e404472337966a722150048c768d0a92a9813596c5338d\n",
      "            token_name: Swan\n",
      "        to:\n",
      "          party:\n",
      "            role_token: j.webster\n",
      "        token:\n",
      "          currency_symbol: 8bb3b343d8e404472337966a722150048c768d0a92a9813596c5338d\n",
      "          token_name: Globe\n"
     ]
    }
   ],
   "source": [
    "json2yaml contract.json"
   ]
  },
  {
   "cell_type": "markdown",
   "id": "107d7205-000c-417c-a85f-c4665eefd773",
   "metadata": {},
   "source": [
    "## Transaction 1. Create the contract\n",
    "\n",
    "We use Marlowe Runtime's command-line tool to build the transaction for creating the contract."
   ]
  },
  {
   "cell_type": "code",
   "execution_count": 7,
   "id": "f30f31cf-3c27-4d60-92de-35589317dad7",
   "metadata": {},
   "outputs": [
    {
     "name": "stdout",
     "output_type": "stream",
     "text": [
      "CONTRACT_ID = 7efd47341da9f2c101848035112109c25523e8113caf1a6ec46ee48bd6827e13#1\n"
     ]
    }
   ],
   "source": [
    "CONTRACT_ID=$(\n",
    "marlowe create \\\n",
    "  --core-file contract.json \\\n",
    "  --role-token-policy-id \"$ROLES_CURRENCY\" \\\n",
    "  --min-utxo \"$((3 * ADA))\" \\\n",
    "  --change-address \"$FAUCET_ADDR\" \\\n",
    "  --manual-sign tx-1.unsigned \\\n",
    "| jq -r 'fromjson | .contractId' \\\n",
    ")\n",
    "echo \"CONTRACT_ID = $CONTRACT_ID\""
   ]
  },
  {
   "cell_type": "markdown",
   "id": "01db117a-f6fd-44a3-9578-cd5deff31919",
   "metadata": {},
   "source": [
    "The contract can be signed an submitted with any wallet or service. For convenience, we use `marlowe-cli` here."
   ]
  },
  {
   "cell_type": "code",
   "execution_count": 8,
   "id": "012ca6b0-edaf-449d-9ccf-a6d64f6a14ec",
   "metadata": {},
   "outputs": [
    {
     "name": "stdout",
     "output_type": "stream",
     "text": [
      "TxId \"7efd47341da9f2c101848035112109c25523e8113caf1a6ec46ee48bd6827e13\"\n"
     ]
    }
   ],
   "source": [
    "marlowe-cli transaction submit \\\n",
    "  --mainnet \\\n",
    "  --tx-body-file tx-1.unsigned \\\n",
    "  --required-signer \"$FAUCET_SKEY\" \\\n",
    "  --timeout 600"
   ]
  },
  {
   "cell_type": "markdown",
   "id": "979d805a-9dc5-4892-90a3-504969b1ca6c",
   "metadata": {},
   "source": [
    "View the transaction on a Cardano explorer."
   ]
  },
  {
   "cell_type": "code",
   "execution_count": 9,
   "id": "cf0ef022-0e55-429a-88d4-4f1ef26c991d",
   "metadata": {},
   "outputs": [
    {
     "name": "stdout",
     "output_type": "stream",
     "text": [
      "https://cardanoscan.io/transaction/7efd47341da9f2c101848035112109c25523e8113caf1a6ec46ee48bd6827e13?tab=utxo\n"
     ]
    }
   ],
   "source": [
    "echo \"https://cardanoscan.io/transaction/${CONTRACT_ID%%#1}?tab=utxo\""
   ]
  },
  {
   "cell_type": "markdown",
   "id": "fb46f348-4102-4383-8901-a6594a76882a",
   "metadata": {},
   "source": [
    "We can use a tool such as `marlowe-pipe` to fetch the contract from the blockchain and display it."
   ]
  },
  {
   "cell_type": "code",
   "execution_count": 10,
   "id": "e9f3b695-3043-43ac-8326-37fd4260dcc5",
   "metadata": {},
   "outputs": [
    {
     "name": "stdout",
     "output_type": "stream",
     "text": [
      "creation:\n",
      "  output:\n",
      "    address: 716a9391d6aa51af28dd876ebb5565b69d1e83e5ac7861506bd29b56b0\n",
      "    assets:\n",
      "      ada: 3000000\n",
      "      tokens: []\n",
      "    datum:\n",
      "      marloweContract:\n",
      "        timeout: 1676679830000\n",
      "        timeout_continuation: close\n",
      "        when:\n",
      "        - case:\n",
      "            deposits: 500\n",
      "            into_account:\n",
      "              role_token: f.beaumont\n",
      "            of_token:\n",
      "              currency_symbol: 8bb3b343d8e404472337966a722150048c768d0a92a9813596c5338d\n",
      "              token_name: Globe\n",
      "            party:\n",
      "              role_token: f.beaumont\n",
      "          then:\n",
      "            timeout: 1676679840000\n",
      "            timeout_continuation: close\n",
      "            when:\n",
      "            - case:\n",
      "                deposits: 300\n",
      "                into_account:\n",
      "                  role_token: j.webster\n",
      "                of_token:\n",
      "                  currency_symbol: 8bb3b343d8e404472337966a722150048c768d0a92a9813596c5338d\n",
      "                  token_name: Swan\n",
      "                party:\n",
      "                  role_token: j.webster\n",
      "              then:\n",
      "                from_account:\n",
      "                  role_token: f.beaumont\n",
      "                pay: 500\n",
      "                then:\n",
      "                  from_account:\n",
      "                    role_token: j.webster\n",
      "                  pay: 300\n",
      "                  then: close\n",
      "                  to:\n",
      "                    party:\n",
      "                      role_token: f.beaumont\n",
      "                  token:\n",
      "                    currency_symbol: 8bb3b343d8e404472337966a722150048c768d0a92a9813596c5338d\n",
      "                    token_name: Swan\n",
      "                to:\n",
      "                  party:\n",
      "                    role_token: j.webster\n",
      "                token:\n",
      "                  currency_symbol: 8bb3b343d8e404472337966a722150048c768d0a92a9813596c5338d\n",
      "                  token_name: Globe\n",
      "      marloweParams:\n",
      "        rolesCurrency: f0ff48bbb7bbe9d59a40f1ce90e9e9d0ff5002ec48f232b49ca0fb9a\n",
      "      marloweState:\n",
      "        accounts:\n",
      "        - - - address: addr1qy9prvx8ufwutkwxx9cmmuuajaqmjqwujqlp9d8pvg6gupcvluken35ncjnu0puetf5jvttedkze02d5kf890kquh60sut9jg7\n",
      "            - currency_symbol: ''\n",
      "              token_name: ''\n",
      "          - 3000000\n",
      "        boundValues: []\n",
      "        choices: []\n",
      "        minTime: 0\n",
      "    utxo:\n",
      "      txId: 7efd47341da9f2c101848035112109c25523e8113caf1a6ec46ee48bd6827e13\n",
      "      txIx: 1\n",
      "  payoutValidatorHash: 49076eab20243dc9462511fb98a9cfb719f86e9692288139b7c91df3\n",
      "response: info\n",
      "steps: []\n"
     ]
    }
   ],
   "source": [
    "echo '{\"request\" : \"get\", \"contractId\" : \"'\"$CONTRACT_ID\"'\"}' | marlowe-pipe 2> /dev/null | json2yaml"
   ]
  },
  {
   "cell_type": "markdown",
   "id": "d0ee3aa0-c7eb-46bb-99c7-b2fdd948db83",
   "metadata": {},
   "source": [
    "## Transaction 2. Francis Beaumont deposits 500 Globe tokens into the contract"
   ]
  },
  {
   "cell_type": "code",
   "execution_count": 11,
   "id": "3a5d8d1f-89af-493e-a71e-437ef2eca707",
   "metadata": {},
   "outputs": [
    {
     "name": "stdout",
     "output_type": "stream",
     "text": [
      "TX_2 = 3331f5b45e640372729e41b846f7ae47f5f2f4049b896907bce28da5afb60398\n"
     ]
    }
   ],
   "source": [
    "TX_2=$(\n",
    "marlowe deposit \\\n",
    "  --contract \"$CONTRACT_ID\" \\\n",
    "  --from-party \"${ROLE_NAME[f.beaumont]}\" \\\n",
    "  --to-party \"${ROLE_NAME[f.beaumont]}\" \\\n",
    "  --currency \"$FUNGIBLES_POLICY\" \\\n",
    "  --token-name Globe \\\n",
    "  --quantity 500 \\\n",
    "  --change-address \"${ROLE_ADDR[f.beaumont]}\" \\\n",
    "  --manual-sign tx-2.unsigned \\\n",
    "| jq -r 'fromjson | .txId' \\\n",
    ")\n",
    "echo \"TX_2 = $TX_2\""
   ]
  },
  {
   "cell_type": "markdown",
   "id": "0ba746c7-68f1-4edd-921c-b464df996bc3",
   "metadata": {},
   "source": [
    "Sign and submit the transaction."
   ]
  },
  {
   "cell_type": "code",
   "execution_count": 12,
   "id": "21001006-b1c2-4b84-89cb-19bf617d9871",
   "metadata": {},
   "outputs": [
    {
     "name": "stdout",
     "output_type": "stream",
     "text": [
      "TxId \"3331f5b45e640372729e41b846f7ae47f5f2f4049b896907bce28da5afb60398\"\n"
     ]
    }
   ],
   "source": [
    "marlowe-cli transaction submit \\\n",
    "  --mainnet \\\n",
    "  --tx-body-file tx-2.unsigned \\\n",
    "  --required-signer \"${ROLE_SKEY[f.beaumont]}\" \\\n",
    "  --timeout 600"
   ]
  },
  {
   "cell_type": "markdown",
   "id": "28faca29-27cf-4249-8510-dab46212b3f8",
   "metadata": {},
   "source": [
    "See that the contract holds the Globe tokens."
   ]
  },
  {
   "cell_type": "code",
   "execution_count": 13,
   "id": "9abc064a-5181-4ae8-9a8c-1e0453db328b",
   "metadata": {},
   "outputs": [
    {
     "name": "stdout",
     "output_type": "stream",
     "text": [
      "https://cardanoscan.io/transaction/3331f5b45e640372729e41b846f7ae47f5f2f4049b896907bce28da5afb60398?tab=utxo\n"
     ]
    }
   ],
   "source": [
    "echo \"https://cardanoscan.io/transaction/$TX_2?tab=utxo\""
   ]
  },
  {
   "cell_type": "markdown",
   "id": "58e38076-f77d-400a-aa58-d2690ff6c527",
   "metadata": {},
   "source": [
    "View the output to the Marlowe contract to see that it now holds 1 BearGarden token."
   ]
  },
  {
   "cell_type": "code",
   "execution_count": 14,
   "id": "95464964-3a92-4b2a-bd91-9a4bf1cccb23",
   "metadata": {},
   "outputs": [
    {
     "name": "stdout",
     "output_type": "stream",
     "text": [
      "                           TxHash                                 TxIx        Amount\n",
      "--------------------------------------------------------------------------------------\n",
      "3331f5b45e640372729e41b846f7ae47f5f2f4049b896907bce28da5afb60398     1        3000000 lovelace + 500 8bb3b343d8e404472337966a722150048c768d0a92a9813596c5338d.476c6f6265 + TxOutDatumHash ScriptDataInBabbageEra \"66392b9c9369b5485904aad6be47ab5fe1a3cd59979f9cf1623f0c82c9df8755\"\n"
     ]
    }
   ],
   "source": [
    "cardano-cli query utxo --mainnet --tx-in \"$TX_2#1\""
   ]
  },
  {
   "cell_type": "markdown",
   "id": "68581e4d-4bea-4e79-b38f-9f715d406641",
   "metadata": {},
   "source": [
    "## Transaction 3. John Webster deposits 300 Swan tokens into the contract, causing it to pay the parties."
   ]
  },
  {
   "cell_type": "code",
   "execution_count": 15,
   "id": "ce4f0245-5972-424f-8ebb-e93fb37a4a19",
   "metadata": {},
   "outputs": [
    {
     "name": "stdout",
     "output_type": "stream",
     "text": [
      "TX_3 = d841657906fafd29f32638189d57e90903f49dce8712a182b520462825a076fe\n"
     ]
    }
   ],
   "source": [
    "TX_3=$(\n",
    "marlowe deposit \\\n",
    "  --contract \"$CONTRACT_ID\" \\\n",
    "  --from-party \"${ROLE_NAME[j.webster]}\" \\\n",
    "  --to-party \"${ROLE_NAME[j.webster]}\" \\\n",
    "  --currency \"$FUNGIBLES_POLICY\" \\\n",
    "  --token-name Swan \\\n",
    "  --quantity 300 \\\n",
    "  --change-address \"${ROLE_ADDR[j.webster]}\" \\\n",
    "  --manual-sign tx-3.unsigned \\\n",
    "| jq -r 'fromjson | .txId' \\\n",
    ")\n",
    "echo \"TX_3 = $TX_3\""
   ]
  },
  {
   "cell_type": "markdown",
   "id": "c3f8cc40-127e-4cbe-8d64-c2258e9ef364",
   "metadata": {},
   "source": [
    "Sign and submit the transaction."
   ]
  },
  {
   "cell_type": "code",
   "execution_count": 16,
   "id": "ef9bdb2d-2ac4-4bba-a58c-d5c462920337",
   "metadata": {},
   "outputs": [
    {
     "name": "stdout",
     "output_type": "stream",
     "text": [
      "TxId \"d841657906fafd29f32638189d57e90903f49dce8712a182b520462825a076fe\"\n"
     ]
    }
   ],
   "source": [
    "marlowe-cli transaction submit \\\n",
    "  --mainnet \\\n",
    "  --tx-body-file tx-3.unsigned \\\n",
    "  --required-signer \"${ROLE_SKEY[j.webster]}\" \\\n",
    "  --timeout 600"
   ]
  },
  {
   "cell_type": "markdown",
   "id": "7f09e1fb-48c4-4e26-b2ba-1dd8d592ef8e",
   "metadata": {},
   "source": [
    "See that the contract has closed and paid the tokens for the benefit of the parties."
   ]
  },
  {
   "cell_type": "code",
   "execution_count": 17,
   "id": "82103e81-9e88-42b7-80e2-d24d9afbec36",
   "metadata": {},
   "outputs": [
    {
     "name": "stdout",
     "output_type": "stream",
     "text": [
      "https://cardanoscan.io/transaction/d841657906fafd29f32638189d57e90903f49dce8712a182b520462825a076fe?tab=utxo\n"
     ]
    }
   ],
   "source": [
    "echo \"https://cardanoscan.io/transaction/$TX_3?tab=utxo\""
   ]
  },
  {
   "cell_type": "markdown",
   "id": "633fae29-c0c5-414b-841f-f9e65f5baef9",
   "metadata": {},
   "source": [
    "## Transaction 4. Francis Beaumont withdraws his 300 Swan tokens from the role-payout address"
   ]
  },
  {
   "cell_type": "code",
   "execution_count": 18,
   "id": "345539c5-da01-4638-a517-e99d3bdab330",
   "metadata": {},
   "outputs": [
    {
     "name": "stdout",
     "output_type": "stream",
     "text": [
      "TX_4 = 0f7271ba8d0502a6579f2b5fe139245c3a257a5504c2528e4a5ce87c0b5552ff\n"
     ]
    }
   ],
   "source": [
    "TX_4=$(\n",
    "marlowe withdraw \\\n",
    "  --contract \"$CONTRACT_ID\" \\\n",
    "  --role \"${ROLE_NAME[f.beaumont]}\" \\\n",
    "  --change-address \"${ROLE_ADDR[f.beaumont]}\" \\\n",
    "  --manual-sign tx-4.unsigned \\\n",
    "| jq -r 'fromjson | .txId' \\\n",
    ")\n",
    "echo \"TX_4 = $TX_4\""
   ]
  },
  {
   "cell_type": "markdown",
   "id": "f0e2df23-a0ca-4817-bc11-262ffd8f4e81",
   "metadata": {},
   "source": [
    "Sign and submit the transaction."
   ]
  },
  {
   "cell_type": "code",
   "execution_count": 19,
   "id": "c927a71d-e5a8-427f-b58a-893f4af1c909",
   "metadata": {},
   "outputs": [
    {
     "name": "stdout",
     "output_type": "stream",
     "text": [
      "TxId \"0f7271ba8d0502a6579f2b5fe139245c3a257a5504c2528e4a5ce87c0b5552ff\"\n"
     ]
    }
   ],
   "source": [
    "marlowe-cli transaction submit \\\n",
    "  --mainnet \\\n",
    "  --tx-body-file tx-4.unsigned \\\n",
    "  --required-signer \"${ROLE_SKEY[f.beaumont]}\" \\\n",
    "  --timeout 600"
   ]
  },
  {
   "cell_type": "markdown",
   "id": "d08c5790-5768-4df0-bec3-d84d684e0d86",
   "metadata": {},
   "source": [
    "See that the tokens were withdrawn."
   ]
  },
  {
   "cell_type": "code",
   "execution_count": 20,
   "id": "022ed494-270c-479d-abdb-59f8e23a3a75",
   "metadata": {},
   "outputs": [
    {
     "name": "stdout",
     "output_type": "stream",
     "text": [
      "https://cardanoscan.io/transaction/0f7271ba8d0502a6579f2b5fe139245c3a257a5504c2528e4a5ce87c0b5552ff?tab=utxo\n"
     ]
    }
   ],
   "source": [
    "echo \"https://cardanoscan.io/transaction/$TX_4?tab=utxo\""
   ]
  },
  {
   "cell_type": "markdown",
   "id": "6e5178c0-bc2f-45e5-a532-e3461ed04ded",
   "metadata": {},
   "source": [
    "## Transaction 5. John Webster withdraws his 500 Globe tokens from the role-payout address"
   ]
  },
  {
   "cell_type": "code",
   "execution_count": 21,
   "id": "e5d3713d-a6d5-4b8f-9c30-d103faf172a9",
   "metadata": {},
   "outputs": [
    {
     "name": "stdout",
     "output_type": "stream",
     "text": [
      "TX_5 = 696d702616287cf1f3a18320d9b21ebf121aac4e9ca52b7f0b7d0b4173d0f5f5\n"
     ]
    }
   ],
   "source": [
    "TX_5=$(\n",
    "marlowe withdraw \\\n",
    "  --contract \"$CONTRACT_ID\" \\\n",
    "  --role \"${ROLE_NAME[j.webster]}\" \\\n",
    "  --change-address \"${ROLE_ADDR[j.webster]}\" \\\n",
    "  --manual-sign tx-5.unsigned \\\n",
    "| jq -r 'fromjson | .txId' \\\n",
    ")\n",
    "echo \"TX_5 = $TX_5\""
   ]
  },
  {
   "cell_type": "markdown",
   "id": "84048a76-a4f1-4c51-a142-5503af156949",
   "metadata": {},
   "source": [
    "Sign and submit the transaction."
   ]
  },
  {
   "cell_type": "code",
   "execution_count": 22,
   "id": "98d19566-1d90-422d-922e-195ccf1f2311",
   "metadata": {},
   "outputs": [
    {
     "name": "stdout",
     "output_type": "stream",
     "text": [
      "TxId \"696d702616287cf1f3a18320d9b21ebf121aac4e9ca52b7f0b7d0b4173d0f5f5\"\n"
     ]
    }
   ],
   "source": [
    "marlowe-cli transaction submit \\\n",
    "  --mainnet \\\n",
    "  --tx-body-file tx-5.unsigned \\\n",
    "  --required-signer \"${ROLE_SKEY[j.webster]}\" \\\n",
    "  --timeout 600"
   ]
  },
  {
   "cell_type": "markdown",
   "id": "e0eff277-b778-4b67-8a49-3a3c540ca73c",
   "metadata": {},
   "source": [
    "See that the tokens were withdrawn."
   ]
  },
  {
   "cell_type": "code",
   "execution_count": 23,
   "id": "add749a7-0692-44ba-942b-d4c807b45b43",
   "metadata": {},
   "outputs": [
    {
     "name": "stdout",
     "output_type": "stream",
     "text": [
      "https://cardanoscan.io/transaction/696d702616287cf1f3a18320d9b21ebf121aac4e9ca52b7f0b7d0b4173d0f5f5?tab=utxo\n"
     ]
    }
   ],
   "source": [
    "echo \"https://cardanoscan.io/transaction/$TX_5?tab=utxo\""
   ]
  },
  {
   "cell_type": "markdown",
   "id": "232272a5-11e9-49a6-9b7d-aa48601efc7c",
   "metadata": {},
   "source": [
    "## View the whole history of the contract\n",
    "\n",
    "We use `marlowe-pipe` to print the whole history of this contract."
   ]
  },
  {
   "cell_type": "code",
   "execution_count": 24,
   "id": "af1bed55-c542-43ee-87b6-85bbb1fa3de1",
   "metadata": {},
   "outputs": [
    {
     "name": "stdout",
     "output_type": "stream",
     "text": [
      "creation:\n",
      "  output:\n",
      "    address: 716a9391d6aa51af28dd876ebb5565b69d1e83e5ac7861506bd29b56b0\n",
      "    assets:\n",
      "      ada: 3000000\n",
      "      tokens: []\n",
      "    datum:\n",
      "      marloweContract:\n",
      "        timeout: 1676679830000\n",
      "        timeout_continuation: close\n",
      "        when:\n",
      "        - case:\n",
      "            deposits: 500\n",
      "            into_account:\n",
      "              role_token: f.beaumont\n",
      "            of_token:\n",
      "              currency_symbol: 8bb3b343d8e404472337966a722150048c768d0a92a9813596c5338d\n",
      "              token_name: Globe\n",
      "            party:\n",
      "              role_token: f.beaumont\n",
      "          then:\n",
      "            timeout: 1676679840000\n",
      "            timeout_continuation: close\n",
      "            when:\n",
      "            - case:\n",
      "                deposits: 300\n",
      "                into_account:\n",
      "                  role_token: j.webster\n",
      "                of_token:\n",
      "                  currency_symbol: 8bb3b343d8e404472337966a722150048c768d0a92a9813596c5338d\n",
      "                  token_name: Swan\n",
      "                party:\n",
      "                  role_token: j.webster\n",
      "              then:\n",
      "                from_account:\n",
      "                  role_token: f.beaumont\n",
      "                pay: 500\n",
      "                then:\n",
      "                  from_account:\n",
      "                    role_token: j.webster\n",
      "                  pay: 300\n",
      "                  then: close\n",
      "                  to:\n",
      "                    party:\n",
      "                      role_token: f.beaumont\n",
      "                  token:\n",
      "                    currency_symbol: 8bb3b343d8e404472337966a722150048c768d0a92a9813596c5338d\n",
      "                    token_name: Swan\n",
      "                to:\n",
      "                  party:\n",
      "                    role_token: j.webster\n",
      "                token:\n",
      "                  currency_symbol: 8bb3b343d8e404472337966a722150048c768d0a92a9813596c5338d\n",
      "                  token_name: Globe\n",
      "      marloweParams:\n",
      "        rolesCurrency: f0ff48bbb7bbe9d59a40f1ce90e9e9d0ff5002ec48f232b49ca0fb9a\n",
      "      marloweState:\n",
      "        accounts:\n",
      "        - - - address: addr1qy9prvx8ufwutkwxx9cmmuuajaqmjqwujqlp9d8pvg6gupcvluken35ncjnu0puetf5jvttedkze02d5kf890kquh60sut9jg7\n",
      "            - currency_symbol: ''\n",
      "              token_name: ''\n",
      "          - 3000000\n",
      "        boundValues: []\n",
      "        choices: []\n",
      "        minTime: 0\n",
      "    utxo:\n",
      "      txId: 7efd47341da9f2c101848035112109c25523e8113caf1a6ec46ee48bd6827e13\n",
      "      txIx: 1\n",
      "  payoutValidatorHash: 49076eab20243dc9462511fb98a9cfb719f86e9692288139b7c91df3\n",
      "response: info\n",
      "steps:\n",
      "- contractId: 7efd47341da9f2c101848035112109c25523e8113caf1a6ec46ee48bd6827e13#1\n",
      "  payouts: []\n",
      "  redeemer:\n",
      "  - input_from_party:\n",
      "      role_token: f.beaumont\n",
      "    into_account:\n",
      "      role_token: f.beaumont\n",
      "    of_token:\n",
      "      currency_symbol: 8bb3b343d8e404472337966a722150048c768d0a92a9813596c5338d\n",
      "      token_name: Globe\n",
      "    that_deposits: 500\n",
      "  scriptOutput:\n",
      "    address: 716a9391d6aa51af28dd876ebb5565b69d1e83e5ac7861506bd29b56b0\n",
      "    assets:\n",
      "      ada: 3000000\n",
      "      tokens:\n",
      "      - - policyId: 8bb3b343d8e404472337966a722150048c768d0a92a9813596c5338d\n",
      "          tokenName: Globe\n",
      "        - 500\n",
      "    datum:\n",
      "      marloweContract:\n",
      "        timeout: 1676679840000\n",
      "        timeout_continuation: close\n",
      "        when:\n",
      "        - case:\n",
      "            deposits: 300\n",
      "            into_account:\n",
      "              role_token: j.webster\n",
      "            of_token:\n",
      "              currency_symbol: 8bb3b343d8e404472337966a722150048c768d0a92a9813596c5338d\n",
      "              token_name: Swan\n",
      "            party:\n",
      "              role_token: j.webster\n",
      "          then:\n",
      "            from_account:\n",
      "              role_token: f.beaumont\n",
      "            pay: 500\n",
      "            then:\n",
      "              from_account:\n",
      "                role_token: j.webster\n",
      "              pay: 300\n",
      "              then: close\n",
      "              to:\n",
      "                party:\n",
      "                  role_token: f.beaumont\n",
      "              token:\n",
      "                currency_symbol: 8bb3b343d8e404472337966a722150048c768d0a92a9813596c5338d\n",
      "                token_name: Swan\n",
      "            to:\n",
      "              party:\n",
      "                role_token: j.webster\n",
      "            token:\n",
      "              currency_symbol: 8bb3b343d8e404472337966a722150048c768d0a92a9813596c5338d\n",
      "              token_name: Globe\n",
      "      marloweParams:\n",
      "        rolesCurrency: f0ff48bbb7bbe9d59a40f1ce90e9e9d0ff5002ec48f232b49ca0fb9a\n",
      "      marloweState:\n",
      "        accounts:\n",
      "        - - - address: addr1qy9prvx8ufwutkwxx9cmmuuajaqmjqwujqlp9d8pvg6gupcvluken35ncjnu0puetf5jvttedkze02d5kf890kquh60sut9jg7\n",
      "            - currency_symbol: ''\n",
      "              token_name: ''\n",
      "          - 3000000\n",
      "        - - - role_token: f.beaumont\n",
      "            - currency_symbol: 8bb3b343d8e404472337966a722150048c768d0a92a9813596c5338d\n",
      "              token_name: Globe\n",
      "          - 500\n",
      "        boundValues: []\n",
      "        choices: []\n",
      "        minTime: 1676391874000\n",
      "    utxo:\n",
      "      txId: 3331f5b45e640372729e41b846f7ae47f5f2f4049b896907bce28da5afb60398\n",
      "      txIx: 1\n",
      "  step: apply\n",
      "  txId: 3331f5b45e640372729e41b846f7ae47f5f2f4049b896907bce28da5afb60398\n",
      "- contractId: 7efd47341da9f2c101848035112109c25523e8113caf1a6ec46ee48bd6827e13#1\n",
      "  payouts:\n",
      "  - - txId: d841657906fafd29f32638189d57e90903f49dce8712a182b520462825a076fe\n",
      "      txIx: 2\n",
      "    - address: 7149076eab20243dc9462511fb98a9cfb719f86e9692288139b7c91df3\n",
      "      assets:\n",
      "        ada: 1193870\n",
      "        tokens:\n",
      "        - - policyId: 8bb3b343d8e404472337966a722150048c768d0a92a9813596c5338d\n",
      "            tokenName: Swan\n",
      "          - 300\n",
      "      datum:\n",
      "        policyId: f0ff48bbb7bbe9d59a40f1ce90e9e9d0ff5002ec48f232b49ca0fb9a\n",
      "        tokenName: f.beaumont\n",
      "  - - txId: d841657906fafd29f32638189d57e90903f49dce8712a182b520462825a076fe\n",
      "      txIx: 3\n",
      "    - address: 7149076eab20243dc9462511fb98a9cfb719f86e9692288139b7c91df3\n",
      "      assets:\n",
      "        ada: 1198180\n",
      "        tokens:\n",
      "        - - policyId: 8bb3b343d8e404472337966a722150048c768d0a92a9813596c5338d\n",
      "            tokenName: Globe\n",
      "          - 500\n",
      "      datum:\n",
      "        policyId: f0ff48bbb7bbe9d59a40f1ce90e9e9d0ff5002ec48f232b49ca0fb9a\n",
      "        tokenName: j.webster\n",
      "  redeemer:\n",
      "  - input_from_party:\n",
      "      role_token: j.webster\n",
      "    into_account:\n",
      "      role_token: j.webster\n",
      "    of_token:\n",
      "      currency_symbol: 8bb3b343d8e404472337966a722150048c768d0a92a9813596c5338d\n",
      "      token_name: Swan\n",
      "    that_deposits: 300\n",
      "  scriptOutput: null\n",
      "  step: apply\n",
      "  txId: d841657906fafd29f32638189d57e90903f49dce8712a182b520462825a076fe\n",
      "- datumm:\n",
      "    policyId: f0ff48bbb7bbe9d59a40f1ce90e9e9d0ff5002ec48f232b49ca0fb9a\n",
      "    tokenName: f.beaumont\n",
      "  redeemingTx: 0f7271ba8d0502a6579f2b5fe139245c3a257a5504c2528e4a5ce87c0b5552ff\n",
      "  step: payout\n",
      "  utxo:\n",
      "    txId: d841657906fafd29f32638189d57e90903f49dce8712a182b520462825a076fe\n",
      "    txIx: 2\n",
      "- datumm:\n",
      "    policyId: f0ff48bbb7bbe9d59a40f1ce90e9e9d0ff5002ec48f232b49ca0fb9a\n",
      "    tokenName: j.webster\n",
      "  redeemingTx: 696d702616287cf1f3a18320d9b21ebf121aac4e9ca52b7f0b7d0b4173d0f5f5\n",
      "  step: payout\n",
      "  utxo:\n",
      "    txId: d841657906fafd29f32638189d57e90903f49dce8712a182b520462825a076fe\n",
      "    txIx: 3\n"
     ]
    }
   ],
   "source": [
    "echo '{\"request\" : \"get\", \"contractId\" : \"'\"$CONTRACT_ID\"'\"}' | marlowe-pipe 2> /dev/null | json2yaml"
   ]
  },
  {
   "cell_type": "markdown",
   "id": "00749700-1de6-4ceb-b723-761d2211c8b4",
   "metadata": {},
   "source": [
    "## Return the BearGarden token to the faucet\n",
    "\n",
    "Returning the token to the faucet is convenient housekeeping for this example."
   ]
  },
  {
   "cell_type": "code",
   "execution_count": 25,
   "id": "3f62bbd8-1228-4ac2-ad5e-dc682616c468",
   "metadata": {},
   "outputs": [
    {
     "name": "stdout",
     "output_type": "stream",
     "text": [
      "TxId \"efc74dd7dfe0f033e17c26e93ab2db01b356f6642e4b0eb66ebd353771e98ff4\"\n"
     ]
    }
   ],
   "source": [
    "marlowe-cli transaction simple \\\n",
    "  --mainnet \\\n",
    "  --tx-in \"0f7271ba8d0502a6579f2b5fe139245c3a257a5504c2528e4a5ce87c0b5552ff#2\" \\\n",
    "  --tx-in \"696d702616287cf1f3a18320d9b21ebf121aac4e9ca52b7f0b7d0b4173d0f5f5#2\" \\\n",
    "  --tx-in \"707db5afc8b367df20e6818907b6cc88c74f5572cc306e37fb40e6d97e57edb7#3\" \\\n",
    "  --tx-in \"7efd47341da9f2c101848035112109c25523e8113caf1a6ec46ee48bd6827e13#0\" \\\n",
    "  --tx-in \"d841657906fafd29f32638189d57e90903f49dce8712a182b520462825a076fe#4\" \\\n",
    "  --tx-out \"$FAUCET_ADDR+$((3 * ADA))+500 $FUNGIBLES_POLICY.Globe\" \\\n",
    "  --tx-out \"$FAUCET_ADDR+$((3 * ADA))+500 $FUNGIBLES_POLICY.Swan\" \\\n",
    "  --change-address \"$FAUCET_ADDR\" \\\n",
    "  --required-signer \"$FAUCET_SKEY\" \\\n",
    "  --required-signer \"${ROLE_SKEY[f.beaumont]}\" \\\n",
    "  --required-signer \"${ROLE_SKEY[j.webster]}\" \\\n",
    "  --out-file /dev/null \\\n",
    "  --submit 600"
   ]
  }
 ],
 "metadata": {
  "kernelspec": {
   "display_name": "Bash - Marlowe",
   "language": "bash",
   "name": "bash_marlowe"
  },
  "language_info": {
   "codemirror_mode": "shell",
   "file_extension": ".sh",
   "mimetype": "text/x-sh",
   "name": "/nix/store/p7bpdnxqd3i5hwm92mrscf7mvxk66404-bash-5.1-p16/bin/bash"
  }
 },
 "nbformat": 4,
 "nbformat_minor": 5
}
