{
 "cells": [
  {
   "cell_type": "markdown",
   "id": "0ce28a7d-3262-4241-bca1-39a682985170",
   "metadata": {},
   "source": [
    "## <font color=\"red\">Caution!</font>\n",
    "\n",
    "Before running a Marlowe contract on `mainnet`, it is wise to do the following in order to avoid losing funds:\n",
    "\n",
    "1. Understand the [Marlowe Language](https://marlowe.iohk.io/).\n",
    "2. Understand Cardano\\'s [Extended UTxO Model](https://docs.cardano.org/learn/eutxo-explainer).\n",
    "3. Read and understand the [Marlowe Best Practices Guide](https://github.com/input-output-hk/marlowe-cardano/blob/main/marlowe/best-practices.md).\n",
    "4. Read and understand the [Marlowe Security Guide](https://github.com/input-output-hk/marlowe-cardano/blob/main/marlowe/security.md).\n",
    "5. Use [Marlowe Playground](https://play.marlowe.iohk.io/) to flag warnings, perform static analysis, and simulate the contract.\n",
    "6. Use [Marlowe CLI\\'s](https://github.com/input-output-hk/marlowe-cardano/blob/main/marlowe-cli/ReadMe.md) `marlowe-cli run analyze` tool to study whether the contract can run on a Cardano network.\n",
    "7. Run *all execution paths* of the contract on a [Cardano testnet](https://docs.cardano.org/cardano-testnet/overview).\n",
    "\n",
    "---"
   ]
  },
  {
   "cell_type": "markdown",
   "id": "bc007926-3205-4b17-85f4-8213b9b02645",
   "metadata": {
    "tags": []
   },
   "source": [
    "# The ACTUS Principal at Maturity (PAM) Contract\n",
    "\n",
    "The ACTUS PAM contract is simply a loan with periodic interest payments on a fixed schedule and a final payment of the principal. For brevity, we demonstrate this contract with just one installment of interest, followed by the repayment of the principal.\n",
    "\n",
    "The contract will be created from a template using the `marlowe-cli template actus` command, but it could also be created in the [Marlowe Playground](https://marlowe-playground-staging.plutus.aws.iohkdev.io/) or any other Marlowe-contract design tool that can output a Marlowe contract in JSON format. The contract looks like the following in Blockly format:\n",
    "\n",
    "![The ACTUS PAM contract](actus-pam-1.png)"
   ]
  },
  {
   "cell_type": "markdown",
   "id": "963b1970-4cb3-4594-922b-1f1114a4d4cf",
   "metadata": {},
   "source": [
    "## Set Up"
   ]
  },
  {
   "cell_type": "markdown",
   "id": "91dddf24-6998-4942-9740-20362d8af525",
   "metadata": {},
   "source": [
    "Use `mainnet`."
   ]
  },
  {
   "cell_type": "code",
   "execution_count": 1,
   "id": "18eadf53-f319-4a3e-94c3-2f526e467787",
   "metadata": {},
   "outputs": [],
   "source": [
    ". ../../mainnet.env"
   ]
  },
  {
   "cell_type": "markdown",
   "id": "90927bb7-eb50-4c9f-b674-14ef19790cd1",
   "metadata": {},
   "source": [
    "Use the standard example roles."
   ]
  },
  {
   "cell_type": "code",
   "execution_count": 2,
   "id": "f3b84135-f5ab-47a3-917d-6e8cc18b53a9",
   "metadata": {},
   "outputs": [],
   "source": [
    ". ../../dramatis-personae/roles.env"
   ]
  },
  {
   "cell_type": "markdown",
   "id": "8eebf46c-b238-4e73-a64d-087568c061d3",
   "metadata": {
    "tags": []
   },
   "source": [
    "## Role tokens\n",
    "\n",
    "This contract uses [Ada Handles](https://adahandle.com/) as role tokens:\n",
    "- Christopher Marlowe = [\\$c.marlowe](https://pool.pm/asset1z2xzfc6lu63jfmfffe2w3nyf6420eylv8e2xjp)\n",
    "- John Webster = [\\$j.webster](https://pool.pm/asset1zdcycnnmg6dx5dy030u4cu0zdn63r2scghg2p4)\n",
    "\n",
    "*Note: Only use a pre-minted token as a Marlowe role if you have reviewed the monetary policy for security vulnerabilities.*\n",
    "\n",
    "Here is the currency symbol for Ada handles on `mainnet`:"
   ]
  },
  {
   "cell_type": "code",
   "execution_count": 3,
   "id": "31b3ae67-4374-4a71-99d8-fa454b4f9d0a",
   "metadata": {},
   "outputs": [
    {
     "name": "stdout",
     "output_type": "stream",
     "text": [
      "ROLES_CURRENCY = f0ff48bbb7bbe9d59a40f1ce90e9e9d0ff5002ec48f232b49ca0fb9a\n"
     ]
    }
   ],
   "source": [
    "echo \"ROLES_CURRENCY = $ROLES_CURRENCY\""
   ]
  },
  {
   "cell_type": "markdown",
   "id": "eb417b36-effb-4fc2-ae81-b7fce917aa7b",
   "metadata": {},
   "source": [
    "## Design the Contract\n",
    "\n",
    "We set the parameters for the ACTUS PAM contract, first in environment variables and then in the JSON file that contains the full set of ACTUS parameters. See [marlowe-actus](https://github.com/input-output-hk/marlowe-cardano/blob/main/marlowe-actus/README.md) for more information on using ACTUS in Marlowe.\n",
    "\n",
    "\n",
    "The ACTUS PAM contract has two participants:\n",
    "1. The *party* `c.marlowe` that lends the funds.\n",
    "2. The *counterparty* `j.webster` that receives the loan and pays it back with interest."
   ]
  },
  {
   "cell_type": "code",
   "execution_count": 4,
   "id": "c5845b3d-12cf-47f0-a53c-0da3e4fe89f2",
   "metadata": {
    "tags": []
   },
   "outputs": [
    {
     "name": "stdout",
     "output_type": "stream",
     "text": [
      "NOW = Sun Mar  5 06:35:46 AM MST 2023\n",
      "MINIMUM_ADA = 3000000\n",
      "PRINCIPAL = 100\n",
      "INTEREST = 2\n",
      "STATUS_DATE = 2023-03-05T00:00:00\n",
      "INITIAL_EXCHANGE_DATE = 2024-01-01T00:00:00\n",
      "MATURITY_DATE = 2025-01-01T00:00:00\n"
     ]
    }
   ],
   "source": [
    "SECOND=1000\n",
    "MINUTE=$((60 * SECOND))\n",
    "NOW=\"$(($(date -u +%s) * SECOND))\"\n",
    "echo \"NOW = $(date -d @$((NOW / SECOND)))\"\n",
    "\n",
    "ADA=1000000\n",
    "MINIMUM_ADA=$((3 * ADA))\n",
    "echo \"MINIMUM_ADA = $MINIMUM_ADA\"\n",
    "\n",
    "PRINCIPAL=100\n",
    "INTEREST_RATE=0.02\n",
    "INTEREST=$(jq -n $PRINCIPAL*$INTEREST_RATE)\n",
    "echo \"PRINCIPAL = $PRINCIPAL\"\n",
    "echo \"INTEREST = $INTEREST\"\n",
    "\n",
    "STATUS_DATE=$(date -d \"$(date -u -R -d @$((NOW/1000)))\" +\"%Y-%m-%dT00:00:00\")\n",
    "INITIAL_EXCHANGE_DATE=$(date -d \"$(date -u -R -d @$((NOW/1000))) + 1 year\" +\"%Y-01-01T00:00:00\")\n",
    "MATURITY_DATE=$(date -d \"$(date -u -R -d @$((NOW/1000))) + 2 year\" +\"%Y-01-01T00:00:00\")\n",
    "\n",
    "echo \"STATUS_DATE = $STATUS_DATE\"\n",
    "echo \"INITIAL_EXCHANGE_DATE = $INITIAL_EXCHANGE_DATE\"\n",
    "echo \"MATURITY_DATE = $MATURITY_DATE\""
   ]
  },
  {
   "cell_type": "code",
   "execution_count": 5,
   "id": "ece6fd44-d1ea-44b6-a8e4-240c4549417c",
   "metadata": {},
   "outputs": [
    {
     "name": "stdout",
     "output_type": "stream",
     "text": [
      "{\"accruedInterest\":0,\"collateralAmount\":0,\"contractId\":\"0\",\"contractPerformance\":\"PF\",\"contractRole\":\"RPA\",\"contractType\":\"PAM\",\"cycleAnchorDateOfInterestPayment\":\"2024-01-01T00:00:00\",\"cycleOfInterestPayment\":\"P1YL1\",\"dayCountConvention\":\"30E360\",\"enableSettlement\":false,\"initialExchangeDate\":\"2024-01-01T00:00:00\",\"interestCalculationBase\":\"NT\",\"maturityDate\":\"2025-01-01T00:00:00\",\"nominalInterestRate\":0.02,\"notionalPrincipal\":100,\"penaltyType\":\"O\",\"prepaymentEffect\":\"N\",\"scheduleConfig\":{\"businessDayConvention\":\"NULL\",\"calendar\":\"NC\",\"endOfMonthConvention\":\"EOM\"},\"statusDate\":\"2023-03-05T00:00:00\"}\n"
     ]
    }
   ],
   "source": [
    "yaml2json << EOI > actus-pam.json\n",
    "scheduleConfig:\n",
    "  businessDayConvention: \"NULL\"\n",
    "  endOfMonthConvention: \"EOM\"\n",
    "  calendar: \"NC\"\n",
    "maturityDate: \"$MATURITY_DATE\"\n",
    "contractId: \"0\"\n",
    "enableSettlement: false\n",
    "initialExchangeDate: \"$INITIAL_EXCHANGE_DATE\"\n",
    "contractRole: \"RPA\"\n",
    "penaltyType: \"O\"\n",
    "cycleAnchorDateOfInterestPayment: \"$INITIAL_EXCHANGE_DATE\"\n",
    "contractType: \"PAM\"\n",
    "notionalPrincipal: $PRINCIPAL\n",
    "contractPerformance: \"PF\"\n",
    "collateralAmount: 0\n",
    "dayCountConvention: \"30E360\"\n",
    "accruedInterest: 0\n",
    "statusDate: \"$STATUS_DATE\"\n",
    "cycleOfInterestPayment: \"P1YL1\"\n",
    "prepaymentEffect: \"N\"\n",
    "nominalInterestRate: $INTEREST_RATE\n",
    "interestCalculationBase: \"NT\"\n",
    "EOI\n",
    "cat actus-pam.json"
   ]
  },
  {
   "cell_type": "markdown",
   "id": "d58d8071-9907-4d2c-b686-48139d7841ca",
   "metadata": {},
   "source": [
    "Now use the `marlowe-cli template actus` command to convert the ACTUS parameters into a Marlowe contract. See the documentation for [marlowe-cli template](../../marlowe-cli/doc/template.md) for more information."
   ]
  },
  {
   "cell_type": "code",
   "execution_count": 6,
   "id": "028339ed-6d5e-4e71-9895-3a965a0252c9",
   "metadata": {},
   "outputs": [],
   "source": [
    "marlowe-cli template actus \\\n",
    "  --minimum-ada \"$MINIMUM_ADA\" \\\n",
    "  --party c.marlowe \\\n",
    "  --counter-party j.webster \\\n",
    "  --actus-terms-file  actus-pam.json \\\n",
    "  --out-contract-file actus-pam-contract.json \\\n",
    "  --out-state-file /dev/null"
   ]
  },
  {
   "cell_type": "markdown",
   "id": "cc6d76dd-d7f0-4a83-ad1e-affd955e98a6",
   "metadata": {},
   "source": [
    "View the contract, which closely corresponds to the Blocky diagram shown above for the contract."
   ]
  },
  {
   "cell_type": "code",
   "execution_count": 7,
   "id": "661bb16a-2739-4354-a796-bbaedf39f698",
   "metadata": {},
   "outputs": [
    {
     "name": "stdout",
     "output_type": "stream",
     "text": [
      "timeout: 1704067200000\n",
      "timeout_continuation: close\n",
      "when:\n",
      "- case:\n",
      "    deposits:\n",
      "      negate:\n",
      "        negate: 100000000\n",
      "    into_account:\n",
      "      role_token: c.marlowe\n",
      "    of_token:\n",
      "      currency_symbol: ''\n",
      "      token_name: ''\n",
      "    party:\n",
      "      role_token: c.marlowe\n",
      "  then:\n",
      "    from_account:\n",
      "      role_token: c.marlowe\n",
      "    pay: 100000000\n",
      "    then:\n",
      "      timeout: 1735689600000\n",
      "      timeout_continuation: close\n",
      "      when:\n",
      "      - case:\n",
      "          deposits: 2000000\n",
      "          into_account:\n",
      "            role_token: j.webster\n",
      "          of_token:\n",
      "            currency_symbol: ''\n",
      "            token_name: ''\n",
      "          party:\n",
      "            role_token: j.webster\n",
      "        then:\n",
      "          from_account:\n",
      "            role_token: j.webster\n",
      "          pay: 2000000\n",
      "          then:\n",
      "            timeout: 1735689600000\n",
      "            timeout_continuation: close\n",
      "            when:\n",
      "            - case:\n",
      "                deposits: 100000000\n",
      "                into_account:\n",
      "                  role_token: j.webster\n",
      "                of_token:\n",
      "                  currency_symbol: ''\n",
      "                  token_name: ''\n",
      "                party:\n",
      "                  role_token: j.webster\n",
      "              then:\n",
      "                from_account:\n",
      "                  role_token: j.webster\n",
      "                pay: 100000000\n",
      "                then: close\n",
      "                to:\n",
      "                  party:\n",
      "                    role_token: c.marlowe\n",
      "                token:\n",
      "                  currency_symbol: ''\n",
      "                  token_name: ''\n",
      "          to:\n",
      "            party:\n",
      "              role_token: c.marlowe\n",
      "          token:\n",
      "            currency_symbol: ''\n",
      "            token_name: ''\n",
      "    to:\n",
      "      party:\n",
      "        role_token: j.webster\n",
      "    token:\n",
      "      currency_symbol: ''\n",
      "      token_name: ''\n"
     ]
    }
   ],
   "source": [
    "json2yaml actus-pam-contract.json"
   ]
  },
  {
   "cell_type": "markdown",
   "id": "a1548c6e-3288-4a7e-90f4-6439edeb22ca",
   "metadata": {},
   "source": [
    "## Run the Contract\n",
    "\n",
    "Running this example contract to completion involves four transactions on the blockchain:\n",
    "1. Create the contract by depositing the minimum Ada required to store the contract on the blockchain.\n",
    "2. The party deposits the funds for the loan, which triggers the payment of the principal to the role-payout address for the benefit of the counterparty.\n",
    "3. The counterparty withdraws the principal from the role-payout address.\n",
    "4. The counterparty deposits their first (and only) installment of interest, which triggers its payment to the role-payout address for the benefit of the party.\n",
    "5. The party withdraws the interest from the role-payout address.\n",
    "6. The counterparty deposits the principal, which triggers its payment to the role-payout address for the benefit of the party\n",
    "7. The party withdraws the principal from the role-payout address."
   ]
  },
  {
   "cell_type": "markdown",
   "id": "f2eb9ff2-86b8-437e-aa04-a1a38cebea9a",
   "metadata": {},
   "source": [
    "### Transaction 1. Create the contract"
   ]
  },
  {
   "cell_type": "markdown",
   "id": "ab570c22-0af1-4168-9269-ebefce6bfa6d",
   "metadata": {},
   "source": [
    "We use the `marlowe create` command to build the transaction that creates the contract. This requires the following input data:\n",
    "- `--core-file`: The name of Core Marlowe JSON file containing the contract to be created.\n",
    "- `--min-utxo`: The amount of Ada to be deposited in the contract when it is created, so that the Cardano ledger's minimum-UTxO requirement is satisfied.\n",
    "- `--change-address`: The Cardano address to which the leftover change from the transaction will be sent.\n",
    "- `--manual-sign`: The name of the file that will be created to store the unsigned transaction.\n",
    "\n",
    "The command will create the unsigned transaction the identifier for the transaction, which is also the identifier for the Marlowe contract instance. See the [help page](marlowe/create.md) for more information about this command."
   ]
  },
  {
   "cell_type": "code",
   "execution_count": 8,
   "id": "142661e5-a5b3-4e48-9d02-d5aca344d2e2",
   "metadata": {},
   "outputs": [
    {
     "name": "stdout",
     "output_type": "stream",
     "text": [
      "CONTRACT_ID = ace0804f10b8af1e6a70e074904e3759e982c60ccc71d7787a74270227b2de66#1\n",
      "TX_1 = ace0804f10b8af1e6a70e074904e3759e982c60ccc71d7787a74270227b2de66\n"
     ]
    }
   ],
   "source": [
    "CONTRACT_ID=$(\n",
    "marlowe create \\\n",
    "  --core-file actus-pam-contract.json \\\n",
    "  --role-token-policy-id \"$ROLES_CURRENCY\" \\\n",
    "  --min-utxo \"$MINIMUM_ADA\" \\\n",
    "  --change-address \"${ROLE_ADDR[c.marlowe]}\" \\\n",
    "  --manual-sign tx-1.unsigned \\\n",
    "| sed -e 's/^.*\"\\([^\\\\]*\\)\\\\.*$/\\1/' \\\n",
    ")\n",
    "TX_1=\"${CONTRACT_ID%%#1}\"\n",
    "echo \"CONTRACT_ID = $CONTRACT_ID\"\n",
    "echo \"TX_1 = $TX_1\""
   ]
  },
  {
   "cell_type": "markdown",
   "id": "b31ec973-5b0f-4fb7-bdca-c266bd66fdc1",
   "metadata": {},
   "source": [
    "For security reasons, Marlowe Runtime will not sign transactions or handle signing keys. To sign the transaction here, we use the `cardano-cli transaction sign` tool, but any wallet or signing tool could be used."
   ]
  },
  {
   "cell_type": "code",
   "execution_count": 9,
   "id": "5d4c94bc-d747-47c6-be60-55656a3ee6ca",
   "metadata": {},
   "outputs": [],
   "source": [
    "cardano-cli transaction sign \\\n",
    "  --tx-body-file tx-1.unsigned \\\n",
    "  --out-file     tx-1.signed \\\n",
    "  --signing-key-file \"${ROLE_SKEY[c.marlowe]}\""
   ]
  },
  {
   "cell_type": "markdown",
   "id": "bebb0d27-0a99-4f3d-ab06-09b627ee514e",
   "metadata": {},
   "source": [
    "We now submit the transaction using Marlowe Runtime and wait for the confirmation."
   ]
  },
  {
   "cell_type": "code",
   "execution_count": 10,
   "id": "04ff93e3-b751-440a-b310-12ebe095401a",
   "metadata": {},
   "outputs": [
    {
     "name": "stdout",
     "output_type": "stream",
     "text": [
      "blockHeaderHash: c680e44dd0678ee05d7acf7094efb55b58676aeaf027e98f4035ec4dbd37ae1d\n",
      "blockNo: 8478412\n",
      "slotNo: 86458246\n"
     ]
    }
   ],
   "source": [
    "marlowe submit tx-1.signed | jq fromjson | json2yaml"
   ]
  },
  {
   "cell_type": "markdown",
   "id": "b63f5847-141e-4378-96e2-5683f0c54e52",
   "metadata": {},
   "source": [
    "### View the result of creating the contract\n",
    "\n",
    "We can now view the UTxO that holds the newly created contract. First we need to compute the address of the Marlowe contract."
   ]
  },
  {
   "cell_type": "code",
   "execution_count": 11,
   "id": "808a16fb-9133-4544-a60f-6e9fdf7f6cae",
   "metadata": {},
   "outputs": [
    {
     "name": "stdout",
     "output_type": "stream",
     "text": [
      "addr1w94f8ywk4fg672xasahtk4t9k6w3aql943uxz5rt62d4dvq8evxaf\n"
     ]
    }
   ],
   "source": [
    "CONTRACT_ADDR=$(marlowe-cli contract address --mainnet)\n",
    "echo \"$CONTRACT_ADDR\""
   ]
  },
  {
   "cell_type": "markdown",
   "id": "b285afca-a9cf-4fc8-bd72-615665c16648",
   "metadata": {},
   "source": [
    "We now query the blockchain at this address, just printing this one UTxO. We see that the contract has the 3 Ada that was used to create the contract and it has a datum hash that records the contract and its state."
   ]
  },
  {
   "cell_type": "code",
   "execution_count": 12,
   "id": "f9820b1e-590f-498d-b843-b258eaebf404",
   "metadata": {},
   "outputs": [
    {
     "name": "stdout",
     "output_type": "stream",
     "text": [
      "                           TxHash                                 TxIx        Amount\n",
      "--------------------------------------------------------------------------------------\n",
      "ace0804f10b8af1e6a70e074904e3759e982c60ccc71d7787a74270227b2de66     1        3000000 lovelace + TxOutDatumHash ScriptDataInBabbageEra \"2840b4af97a9af43bf6c5475c211125b4c3100c8995f1153eb81d218ba13ef72\"\n"
     ]
    }
   ],
   "source": [
    "cardano-cli query utxo --mainnet --address \"$CONTRACT_ADDR\" | sed -n -e \"1,2p;/$TX_1/p\""
   ]
  },
  {
   "cell_type": "markdown",
   "id": "43980077-3a69-464d-b5bd-9d73545cff9e",
   "metadata": {},
   "source": [
    "View the contract on a Cardano explorer."
   ]
  },
  {
   "cell_type": "code",
   "execution_count": 13,
   "id": "edbcd13f-c143-40ba-b5f3-1c09543cd9d1",
   "metadata": {},
   "outputs": [
    {
     "name": "stdout",
     "output_type": "stream",
     "text": [
      "https://cardanoscan.io/transaction/ace0804f10b8af1e6a70e074904e3759e982c60ccc71d7787a74270227b2de66?tab=utxo\n"
     ]
    }
   ],
   "source": [
    "echo \"https://cardanoscan.io/transaction/$TX_1?tab=utxo\""
   ]
  },
  {
   "cell_type": "markdown",
   "id": "d8846155-12a6-40be-b5ed-bea6b3d76752",
   "metadata": {},
   "source": [
    "### Use Marlowe Runtime to query information about the contract\n",
    "\n",
    "Now that we know the contract identifier, we can view the contract using Marlowe Runtime."
   ]
  },
  {
   "cell_type": "code",
   "execution_count": 14,
   "id": "19957835-6376-4b13-a2ad-2c35763b75a3",
   "metadata": {},
   "outputs": [
    {
     "name": "stdout",
     "output_type": "stream",
     "text": [
      "\u001b[93mtransaction ace0804f10b8af1e6a70e074904e3759e982c60ccc71d7787a74270227b2de66 (creation)\n",
      "\u001b[0mContractId:      ace0804f10b8af1e6a70e074904e3759e982c60ccc71d7787a74270227b2de66#1\n",
      "SlotNo:          86458246\n",
      "BlockNo:         8478412\n",
      "BlockId:         c680e44dd0678ee05d7acf7094efb55b58676aeaf027e98f4035ec4dbd37ae1d\n",
      "ScriptAddress:   addr1w94f8ywk4fg672xasahtk4t9k6w3aql943uxz5rt62d4dvq8evxaf\n",
      "Marlowe Version: 1\n",
      "\n",
      "    When [\n",
      "      (Case\n",
      "         (Deposit (Role \"c.marlowe\") (Role \"c.marlowe\")\n",
      "            (Token \"\" \"\")\n",
      "            (NegValue\n",
      "               (NegValue\n",
      "                  (Constant 100000000))))\n",
      "         (Pay (Role \"c.marlowe\")\n",
      "            (Party (Role \"j.webster\"))\n",
      "            (Token \"\" \"\")\n",
      "            (Constant 100000000)\n",
      "            (When [\n",
      "               (Case\n",
      "                  (Deposit (Role \"j.webster\") (Role \"j.webster\")\n",
      "                     (Token \"\" \"\")\n",
      "                     (Constant 2000000))\n",
      "                  (Pay (Role \"j.webster\")\n",
      "                     (Party (Role \"c.marlowe\"))\n",
      "                     (Token \"\" \"\")\n",
      "                     (Constant 2000000)\n",
      "                     (When [\n",
      "                        (Case\n",
      "                           (Deposit (Role \"j.webster\") (Role \"j.webster\")\n",
      "                              (Token \"\" \"\")\n",
      "                              (Constant 100000000))\n",
      "                           (Pay (Role \"j.webster\")\n",
      "                              (Party (Role \"c.marlowe\"))\n",
      "                              (Token \"\" \"\")\n",
      "                              (Constant 100000000) Close))] 1735689600000 Close)))] 1735689600000 Close)))] 1704067200000 Close\n",
      "\n"
     ]
    }
   ],
   "source": [
    "marlowe log --show-contract \"$CONTRACT_ID\""
   ]
  },
  {
   "cell_type": "markdown",
   "id": "018393a9-ce39-4071-8e41-82d58bc43348",
   "metadata": {},
   "source": [
    "### Transaction 2. Party deposits loan amount"
   ]
  },
  {
   "cell_type": "markdown",
   "id": "4cd1edf5-63cc-4d85-9b8b-21a80f2b1211",
   "metadata": {},
   "source": [
    "We use the `marlowe deposit` command to build the transaction that makes the first deposit for the contract. This requires the following input data:\n",
    "- `--contract`: The identifier of the contract, which is the UTxO that created the contract.\n",
    "- `--from-party`: The party making the deposit.\n",
    "- `--to-party`: The internal account receiving the deposit.\n",
    "- `--lovelace`: The amount of lovelace being deposited.\n",
    "- `--change-address`: The Cardano address to which the leftover change from the transaction will be sent.\n",
    "- `--manual-sign`: The name of the file that will be created to store the unsigned transaction.\n",
    "\n",
    "The command will create the unsigned transaction the identifier for the transaction, which is also the identifier for the Marlowe contract instance."
   ]
  },
  {
   "cell_type": "code",
   "execution_count": 15,
   "id": "ae87d08c-3878-4871-a3e1-665edce5c5b1",
   "metadata": {},
   "outputs": [
    {
     "name": "stdout",
     "output_type": "stream",
     "text": [
      "TX_2 = 4a258c3ddba68f2ea34e820bb56a03c31f0cb0f310fb515241bdd4742c4abf9a\n"
     ]
    }
   ],
   "source": [
    "TX_2=$(\n",
    "marlowe deposit \\\n",
    "  --contract \"$CONTRACT_ID\" \\\n",
    "  --from-party c.marlowe \\\n",
    "  --to-party c.marlowe \\\n",
    "  --lovelace \"$((PRINCIPAL*ADA))\" \\\n",
    "  --change-address \"${ROLE_ADDR[c.marlowe]}\" \\\n",
    "  --manual-sign tx-2.unsigned \\\n",
    "| sed -e 's/^.*\"\\([^\\\\]*\\)\\\\.*$/\\1/' \\\n",
    ")\n",
    "\n",
    "echo \"TX_2 = $TX_2\""
   ]
  },
  {
   "cell_type": "markdown",
   "id": "10103e7a-c7f9-4123-98e0-cc365fd5782c",
   "metadata": {},
   "source": [
    "Sign the transaction, as we did previously."
   ]
  },
  {
   "cell_type": "code",
   "execution_count": 16,
   "id": "89fa94a4-c73a-47e8-8d4e-f7184208bb28",
   "metadata": {},
   "outputs": [],
   "source": [
    "cardano-cli transaction sign \\\n",
    "  --tx-body-file tx-2.unsigned \\\n",
    "  --out-file     tx-2.signed \\\n",
    "  --signing-key-file \"${ROLE_SKEY[c.marlowe]}\""
   ]
  },
  {
   "cell_type": "markdown",
   "id": "4fc1597c-efbc-4765-bc6e-2fef522b3216",
   "metadata": {},
   "source": [
    "Submit the transaction using Marlowe Runtime."
   ]
  },
  {
   "cell_type": "code",
   "execution_count": 17,
   "id": "6a09322f-a3c2-4537-bd95-8a9b8e646c7a",
   "metadata": {},
   "outputs": [
    {
     "name": "stdout",
     "output_type": "stream",
     "text": [
      "blockHeaderHash: 5080340fda7fd602c9d936a3633b67c766f50d3015b3cc722ba726b3a64c0640\n",
      "blockNo: 8478430\n",
      "slotNo: 86458680\n"
     ]
    }
   ],
   "source": [
    "marlowe submit tx-2.signed | jq fromjson | json2yaml"
   ]
  },
  {
   "cell_type": "markdown",
   "id": "fe999d9b-49b5-47a6-9c57-07449e462ae6",
   "metadata": {},
   "source": [
    "### View the result of depositing the funds.\n",
    "\n",
    "Because the deposit passed through the contract, the amount of Ada in the contract hasn't changed. The new datum hash reflects the change in the state of the contract."
   ]
  },
  {
   "cell_type": "code",
   "execution_count": 18,
   "id": "8c7238fb-73eb-473f-976c-16f8aa89dd85",
   "metadata": {},
   "outputs": [
    {
     "name": "stdout",
     "output_type": "stream",
     "text": [
      "                           TxHash                                 TxIx        Amount\n",
      "--------------------------------------------------------------------------------------\n",
      "4a258c3ddba68f2ea34e820bb56a03c31f0cb0f310fb515241bdd4742c4abf9a     1        3000000 lovelace + TxOutDatumHash ScriptDataInBabbageEra \"2f4fcb8cad5686eab7f0e17761258917996ddcc821c56687791a6d8aa9cf8ddf\"\n"
     ]
    }
   ],
   "source": [
    "cardano-cli query utxo --mainnet --address \"$CONTRACT_ADDR\" | sed -n -e \"1,2p;/$TX_2/p\""
   ]
  },
  {
   "cell_type": "markdown",
   "id": "7c064695-7b3b-4d0c-bd4f-284de902a771",
   "metadata": {},
   "source": [
    "View the transaction on a Cardano explorer."
   ]
  },
  {
   "cell_type": "code",
   "execution_count": 19,
   "id": "72f1daf2-9a80-4130-8cc2-16f84ede0d4a",
   "metadata": {},
   "outputs": [
    {
     "name": "stdout",
     "output_type": "stream",
     "text": [
      "https://cardanoscan.io/transaction/4a258c3ddba68f2ea34e820bb56a03c31f0cb0f310fb515241bdd4742c4abf9a?tab=utxo\n"
     ]
    }
   ],
   "source": [
    "echo \"https://cardanoscan.io/transaction/$TX_2?tab=utxo\""
   ]
  },
  {
   "cell_type": "markdown",
   "id": "844cbfbb-2e11-4638-b393-3e13fd5ef47f",
   "metadata": {},
   "source": [
    "### Use Marlowe Runtime to Query the Contract\n",
    "\n",
    "There are now two transactions in the contract instance's history."
   ]
  },
  {
   "cell_type": "code",
   "execution_count": 20,
   "id": "f7f41b02-3418-4bc5-a3cd-035a437b3b28",
   "metadata": {},
   "outputs": [
    {
     "name": "stdout",
     "output_type": "stream",
     "text": [
      "\u001b[93mtransaction ace0804f10b8af1e6a70e074904e3759e982c60ccc71d7787a74270227b2de66 (creation)\n",
      "\u001b[0mContractId:      ace0804f10b8af1e6a70e074904e3759e982c60ccc71d7787a74270227b2de66#1\n",
      "SlotNo:          86458246\n",
      "BlockNo:         8478412\n",
      "BlockId:         c680e44dd0678ee05d7acf7094efb55b58676aeaf027e98f4035ec4dbd37ae1d\n",
      "ScriptAddress:   addr1w94f8ywk4fg672xasahtk4t9k6w3aql943uxz5rt62d4dvq8evxaf\n",
      "Marlowe Version: 1\n",
      "\n",
      "    When [\n",
      "      (Case\n",
      "         (Deposit (Role \"c.marlowe\") (Role \"c.marlowe\")\n",
      "            (Token \"\" \"\")\n",
      "            (NegValue\n",
      "               (NegValue\n",
      "                  (Constant 100000000))))\n",
      "         (Pay (Role \"c.marlowe\")\n",
      "            (Party (Role \"j.webster\"))\n",
      "            (Token \"\" \"\")\n",
      "            (Constant 100000000)\n",
      "            (When [\n",
      "               (Case\n",
      "                  (Deposit (Role \"j.webster\") (Role \"j.webster\")\n",
      "                     (Token \"\" \"\")\n",
      "                     (Constant 2000000))\n",
      "                  (Pay (Role \"j.webster\")\n",
      "                     (Party (Role \"c.marlowe\"))\n",
      "                     (Token \"\" \"\")\n",
      "                     (Constant 2000000)\n",
      "                     (When [\n",
      "                        (Case\n",
      "                           (Deposit (Role \"j.webster\") (Role \"j.webster\")\n",
      "                              (Token \"\" \"\")\n",
      "                              (Constant 100000000))\n",
      "                           (Pay (Role \"j.webster\")\n",
      "                              (Party (Role \"c.marlowe\"))\n",
      "                              (Token \"\" \"\")\n",
      "                              (Constant 100000000) Close))] 1735689600000 Close)))] 1735689600000 Close)))] 1704067200000 Close\n",
      "\n",
      "\u001b[93mtransaction 4a258c3ddba68f2ea34e820bb56a03c31f0cb0f310fb515241bdd4742c4abf9a\n",
      "\u001b[0mContractId: ace0804f10b8af1e6a70e074904e3759e982c60ccc71d7787a74270227b2de66#1\n",
      "SlotNo:     86458680\n",
      "BlockNo:    8478430\n",
      "BlockId:    5080340fda7fd602c9d936a3633b67c766f50d3015b3cc722ba726b3a64c0640\n",
      "Inputs:     [NormalInput (IDeposit \"c.marlowe\" \"c.marlowe\" (Token \"\" \"\") 100000000)]\n",
      "\n",
      "    When [\n",
      "      (Case\n",
      "         (Deposit (Role \"j.webster\") (Role \"j.webster\")\n",
      "            (Token \"\" \"\")\n",
      "            (Constant 2000000))\n",
      "         (Pay (Role \"j.webster\")\n",
      "            (Party (Role \"c.marlowe\"))\n",
      "            (Token \"\" \"\")\n",
      "            (Constant 2000000)\n",
      "            (When [\n",
      "               (Case\n",
      "                  (Deposit (Role \"j.webster\") (Role \"j.webster\")\n",
      "                     (Token \"\" \"\")\n",
      "                     (Constant 100000000))\n",
      "                  (Pay (Role \"j.webster\")\n",
      "                     (Party (Role \"c.marlowe\"))\n",
      "                     (Token \"\" \"\")\n",
      "                     (Constant 100000000) Close))] 1735689600000 Close)))] 1735689600000 Close\n",
      "\n"
     ]
    }
   ],
   "source": [
    "marlowe log --show-contract \"$CONTRACT_ID\""
   ]
  },
  {
   "cell_type": "markdown",
   "id": "f567ae18-6a52-4658-a5f8-94ac187bb52f",
   "metadata": {},
   "source": [
    "We see that the contract has become smaller after the party made their deposit of principal.\n",
    "\n",
    "![Contract after party's deposit of principal](actus-pam-2.png)"
   ]
  },
  {
   "cell_type": "markdown",
   "id": "613c0855-75ec-4645-a766-ec8b0f76374a",
   "metadata": {},
   "source": [
    "### Transaction 3. The counterparty withdraws the principal\n",
    "\n",
    "The principal was deposited at Marlowe's role-payout address for the benefit of the counterparty. Now the counterparty withdraws those funds."
   ]
  },
  {
   "cell_type": "code",
   "execution_count": 21,
   "id": "87bc057d-f204-4f47-b2de-5a95ef20b1b4",
   "metadata": {},
   "outputs": [
    {
     "name": "stdout",
     "output_type": "stream",
     "text": [
      "TX_3 = ab3b74c04213c8b636cd607a1a073e1fd6f08c5bf74204bb550c490088357259\n"
     ]
    }
   ],
   "source": [
    "TX_3=$(\n",
    "marlowe withdraw \\\n",
    "  --contract \"$CONTRACT_ID\" \\\n",
    "  --role j.webster \\\n",
    "  --change-address \"${ROLE_ADDR[j.webster]}\" \\\n",
    "  --manual-sign tx-3.unsigned \\\n",
    "| jq -r 'fromjson | .txId' \\\n",
    ")\n",
    "echo \"TX_3 = $TX_3\""
   ]
  },
  {
   "cell_type": "markdown",
   "id": "6e3de7e8-8c0c-42f7-bc54-5f42d6670bef",
   "metadata": {},
   "source": [
    "Sign the transaction, as we did previously."
   ]
  },
  {
   "cell_type": "code",
   "execution_count": 22,
   "id": "c71b31d3-01a0-4e13-b683-5dab596cca4e",
   "metadata": {},
   "outputs": [],
   "source": [
    "cardano-cli transaction sign \\\n",
    "  --tx-body-file tx-3.unsigned \\\n",
    "  --out-file     tx-3.signed \\\n",
    "  --signing-key-file \"${ROLE_SKEY[j.webster]}\""
   ]
  },
  {
   "cell_type": "markdown",
   "id": "8ab31657-a699-4a7c-a82b-f152d0edac8a",
   "metadata": {},
   "source": [
    "Submit the transaction using Marlowe Runtime."
   ]
  },
  {
   "cell_type": "code",
   "execution_count": 23,
   "id": "1f70f4d3-6af7-446c-9933-832b4f644e42",
   "metadata": {},
   "outputs": [
    {
     "name": "stdout",
     "output_type": "stream",
     "text": [
      "blockHeaderHash: ab1f0cc1e3b134393fabfd05b96af32473cb36ec6f1df879b4117035b020bdb7\n",
      "blockNo: 8478449\n",
      "slotNo: 86459052\n"
     ]
    }
   ],
   "source": [
    "marlowe submit tx-3.signed | jq fromjson | json2yaml"
   ]
  },
  {
   "cell_type": "markdown",
   "id": "62a3ec0f-8374-4280-92c5-4fa481833a61",
   "metadata": {},
   "source": [
    "View the transaction on a Cardano explorer."
   ]
  },
  {
   "cell_type": "code",
   "execution_count": 24,
   "id": "5b922224-276c-42b2-93cd-eda47d3eb1b3",
   "metadata": {},
   "outputs": [
    {
     "name": "stdout",
     "output_type": "stream",
     "text": [
      "https://cardanoscan.io/transaction/ab3b74c04213c8b636cd607a1a073e1fd6f08c5bf74204bb550c490088357259?tab=utxo\n"
     ]
    }
   ],
   "source": [
    "echo \"https://cardanoscan.io/transaction/$TX_3?tab=utxo\""
   ]
  },
  {
   "cell_type": "markdown",
   "id": "180f4297-da9a-4586-b402-7bea959cde51",
   "metadata": {},
   "source": [
    "### Transaction 4. Counterparty repays the loan's interest"
   ]
  },
  {
   "cell_type": "markdown",
   "id": "921eea56-2cda-4a0f-9738-2af638900ace",
   "metadata": {},
   "source": [
    "The counterparty now repays the interest."
   ]
  },
  {
   "cell_type": "code",
   "execution_count": 25,
   "id": "aed96149-4bfa-435a-92eb-bc7edadb82ed",
   "metadata": {},
   "outputs": [
    {
     "name": "stdout",
     "output_type": "stream",
     "text": [
      "TX_4 = 7e0cd07b407dcc93bee3a2a53575d4b42a8e88d02db47b9010845438ff371e1c\n"
     ]
    }
   ],
   "source": [
    "TX_4=$(\n",
    "marlowe deposit \\\n",
    "  --contract \"$CONTRACT_ID\" \\\n",
    "  --from-party j.webster \\\n",
    "  --to-party j.webster \\\n",
    "  --lovelace \"$((INTEREST*ADA))\" \\\n",
    "  --change-address \"${ROLE_ADDR[j.webster]}\" \\\n",
    "  --manual-sign tx-4.unsigned \\\n",
    "| sed -e 's/^.*\"\\([^\\\\]*\\)\\\\.*$/\\1/' \\\n",
    ")\n",
    "\n",
    "echo \"TX_4 = $TX_4\""
   ]
  },
  {
   "cell_type": "markdown",
   "id": "c3e994e5-78ee-423f-9c93-16445a591bd5",
   "metadata": {},
   "source": [
    "Sign the transaction."
   ]
  },
  {
   "cell_type": "code",
   "execution_count": 26,
   "id": "aab08869-94f9-42fb-a407-53d297f83545",
   "metadata": {},
   "outputs": [],
   "source": [
    "cardano-cli transaction sign \\\n",
    "  --tx-body-file tx-4.unsigned \\\n",
    "  --out-file     tx-4.signed \\\n",
    "  --signing-key-file \"${ROLE_SKEY[j.webster]}\""
   ]
  },
  {
   "cell_type": "markdown",
   "id": "2ba52feb-ad4c-4e7c-abd3-77f92c84cfc9",
   "metadata": {},
   "source": [
    "Submit the transaction using Marlowe Runtime."
   ]
  },
  {
   "cell_type": "code",
   "execution_count": 27,
   "id": "113b0b07-815d-4bd5-a971-a71536f236cd",
   "metadata": {},
   "outputs": [
    {
     "name": "stdout",
     "output_type": "stream",
     "text": [
      "blockHeaderHash: 1760bec40a00dae77facbf21b71a0000d31c327b4697284b78b6e2b5be896f36\n",
      "blockNo: 8478462\n",
      "slotNo: 86459329\n"
     ]
    }
   ],
   "source": [
    "marlowe submit tx-4.signed | jq fromjson | json2yaml"
   ]
  },
  {
   "cell_type": "markdown",
   "id": "e711b6f9-df19-4737-8df0-47eb984ea81b",
   "metadata": {},
   "source": [
    "View the transaction on a Cardano explorer."
   ]
  },
  {
   "cell_type": "code",
   "execution_count": 28,
   "id": "4a8fa528-0257-4815-bb78-7bfc4cde59f5",
   "metadata": {},
   "outputs": [
    {
     "name": "stdout",
     "output_type": "stream",
     "text": [
      "https://cardanoscan.io/transaction/7e0cd07b407dcc93bee3a2a53575d4b42a8e88d02db47b9010845438ff371e1c?tab=utxo\n"
     ]
    }
   ],
   "source": [
    "echo \"https://cardanoscan.io/transaction/$TX_4?tab=utxo\""
   ]
  },
  {
   "cell_type": "markdown",
   "id": "4d9ff0ef-c636-4981-8031-06c5a89a65ed",
   "metadata": {},
   "source": [
    "### Transaction 5. The party withdraws the interest\n",
    "\n",
    "The interest was deposited at Marlowe's role-payout address for the benefit of the party. Now the party withdraws those funds."
   ]
  },
  {
   "cell_type": "code",
   "execution_count": 29,
   "id": "690c20ed-9688-4c10-acb7-a16267331dd5",
   "metadata": {},
   "outputs": [
    {
     "name": "stdout",
     "output_type": "stream",
     "text": [
      "TX_5 = e256d25253a81703179f381dd014fccb0fc4d34abbebce33922f8baaaf880a71\n"
     ]
    }
   ],
   "source": [
    "TX_5=$(\n",
    "marlowe withdraw \\\n",
    "  --contract \"$CONTRACT_ID\" \\\n",
    "  --role c.marlowe \\\n",
    "  --change-address \"${ROLE_ADDR[c.marlowe]}\" \\\n",
    "  --manual-sign tx-5.unsigned \\\n",
    "| jq -r 'fromjson | .txId' \\\n",
    ")\n",
    "echo \"TX_5 = $TX_5\""
   ]
  },
  {
   "cell_type": "markdown",
   "id": "be78b8a8-9322-49a9-8df6-10fe5e60c054",
   "metadata": {},
   "source": [
    "Sign the transaction, as we did previously."
   ]
  },
  {
   "cell_type": "code",
   "execution_count": 30,
   "id": "9aac24e0-f419-4f49-857b-1c4418f9e066",
   "metadata": {},
   "outputs": [],
   "source": [
    "cardano-cli transaction sign \\\n",
    "  --tx-body-file tx-5.unsigned \\\n",
    "  --out-file     tx-5.signed \\\n",
    "  --signing-key-file \"${ROLE_SKEY[c.marlowe]}\""
   ]
  },
  {
   "cell_type": "markdown",
   "id": "f62f5484-070f-403e-8d41-e3164acf1fff",
   "metadata": {},
   "source": [
    "Submit the transaction using Marlowe Runtime."
   ]
  },
  {
   "cell_type": "code",
   "execution_count": 31,
   "id": "c59d4950-ce3b-48ac-bea5-e59906a7fdb1",
   "metadata": {},
   "outputs": [
    {
     "name": "stdout",
     "output_type": "stream",
     "text": [
      "blockHeaderHash: b4911bf56e3f8bdd34daf9f7956457132a6936e4654310195db0c9376540115e\n",
      "blockNo: 8478464\n",
      "slotNo: 86459416\n"
     ]
    }
   ],
   "source": [
    "marlowe submit tx-5.signed | jq fromjson | json2yaml"
   ]
  },
  {
   "cell_type": "markdown",
   "id": "f3cf3d2e-d795-4c60-bbfe-c5b587e92bf5",
   "metadata": {},
   "source": [
    "View the transaction on a Cardano explorer."
   ]
  },
  {
   "cell_type": "code",
   "execution_count": 32,
   "id": "ec3cddf5-a68c-444b-a5d3-7c3bc7a4d83d",
   "metadata": {},
   "outputs": [
    {
     "name": "stdout",
     "output_type": "stream",
     "text": [
      "https://cardanoscan.io/transaction/e256d25253a81703179f381dd014fccb0fc4d34abbebce33922f8baaaf880a71?tab=utxo\n"
     ]
    }
   ],
   "source": [
    "echo \"https://cardanoscan.io/transaction/$TX_5?tab=utxo\""
   ]
  },
  {
   "cell_type": "markdown",
   "id": "506a79bf-3ee6-40b5-b4f0-7431ac8b44dd",
   "metadata": {},
   "source": [
    "### Use Marlowe Runtime to query the contract\n",
    "\n",
    "Now we see that there are five transactions in the contract's history."
   ]
  },
  {
   "cell_type": "code",
   "execution_count": 33,
   "id": "616eda62-08ae-40f0-a967-bc6fbda74245",
   "metadata": {},
   "outputs": [
    {
     "name": "stdout",
     "output_type": "stream",
     "text": [
      "\u001b[93mtransaction ace0804f10b8af1e6a70e074904e3759e982c60ccc71d7787a74270227b2de66 (creation)\n",
      "\u001b[0mContractId:      ace0804f10b8af1e6a70e074904e3759e982c60ccc71d7787a74270227b2de66#1\n",
      "SlotNo:          86458246\n",
      "BlockNo:         8478412\n",
      "BlockId:         c680e44dd0678ee05d7acf7094efb55b58676aeaf027e98f4035ec4dbd37ae1d\n",
      "ScriptAddress:   addr1w94f8ywk4fg672xasahtk4t9k6w3aql943uxz5rt62d4dvq8evxaf\n",
      "Marlowe Version: 1\n",
      "\n",
      "    When [\n",
      "      (Case\n",
      "         (Deposit (Role \"c.marlowe\") (Role \"c.marlowe\")\n",
      "            (Token \"\" \"\")\n",
      "            (NegValue\n",
      "               (NegValue\n",
      "                  (Constant 100000000))))\n",
      "         (Pay (Role \"c.marlowe\")\n",
      "            (Party (Role \"j.webster\"))\n",
      "            (Token \"\" \"\")\n",
      "            (Constant 100000000)\n",
      "            (When [\n",
      "               (Case\n",
      "                  (Deposit (Role \"j.webster\") (Role \"j.webster\")\n",
      "                     (Token \"\" \"\")\n",
      "                     (Constant 2000000))\n",
      "                  (Pay (Role \"j.webster\")\n",
      "                     (Party (Role \"c.marlowe\"))\n",
      "                     (Token \"\" \"\")\n",
      "                     (Constant 2000000)\n",
      "                     (When [\n",
      "                        (Case\n",
      "                           (Deposit (Role \"j.webster\") (Role \"j.webster\")\n",
      "                              (Token \"\" \"\")\n",
      "                              (Constant 100000000))\n",
      "                           (Pay (Role \"j.webster\")\n",
      "                              (Party (Role \"c.marlowe\"))\n",
      "                              (Token \"\" \"\")\n",
      "                              (Constant 100000000) Close))] 1735689600000 Close)))] 1735689600000 Close)))] 1704067200000 Close\n",
      "\n",
      "\u001b[93mtransaction 4a258c3ddba68f2ea34e820bb56a03c31f0cb0f310fb515241bdd4742c4abf9a\n",
      "\u001b[0mContractId: ace0804f10b8af1e6a70e074904e3759e982c60ccc71d7787a74270227b2de66#1\n",
      "SlotNo:     86458680\n",
      "BlockNo:    8478430\n",
      "BlockId:    5080340fda7fd602c9d936a3633b67c766f50d3015b3cc722ba726b3a64c0640\n",
      "Inputs:     [NormalInput (IDeposit \"c.marlowe\" \"c.marlowe\" (Token \"\" \"\") 100000000)]\n",
      "\n",
      "    When [\n",
      "      (Case\n",
      "         (Deposit (Role \"j.webster\") (Role \"j.webster\")\n",
      "            (Token \"\" \"\")\n",
      "            (Constant 2000000))\n",
      "         (Pay (Role \"j.webster\")\n",
      "            (Party (Role \"c.marlowe\"))\n",
      "            (Token \"\" \"\")\n",
      "            (Constant 2000000)\n",
      "            (When [\n",
      "               (Case\n",
      "                  (Deposit (Role \"j.webster\") (Role \"j.webster\")\n",
      "                     (Token \"\" \"\")\n",
      "                     (Constant 100000000))\n",
      "                  (Pay (Role \"j.webster\")\n",
      "                     (Party (Role \"c.marlowe\"))\n",
      "                     (Token \"\" \"\")\n",
      "                     (Constant 100000000) Close))] 1735689600000 Close)))] 1735689600000 Close\n",
      "\n",
      "\u001b[93mtransaction ab3b74c04213c8b636cd607a1a073e1fd6f08c5bf74204bb550c490088357259 (redeem)\n",
      "\u001b[0mContractId: ace0804f10b8af1e6a70e074904e3759e982c60ccc71d7787a74270227b2de66#1\n",
      "SlotNo:     86459052\n",
      "BlockNo:    8478449\n",
      "BlockId:    ab1f0cc1e3b134393fabfd05b96af32473cb36ec6f1df879b4117035b020bdb7\n",
      "PolicyId:    f0ff48bbb7bbe9d59a40f1ce90e9e9d0ff5002ec48f232b49ca0fb9a\n",
      "RoleToken:    6a2e77656273746572\n",
      "\u001b[93mtransaction 7e0cd07b407dcc93bee3a2a53575d4b42a8e88d02db47b9010845438ff371e1c\n",
      "\u001b[0mContractId: ace0804f10b8af1e6a70e074904e3759e982c60ccc71d7787a74270227b2de66#1\n",
      "SlotNo:     86459329\n",
      "BlockNo:    8478462\n",
      "BlockId:    1760bec40a00dae77facbf21b71a0000d31c327b4697284b78b6e2b5be896f36\n",
      "Inputs:     [NormalInput (IDeposit \"j.webster\" \"j.webster\" (Token \"\" \"\") 2000000)]\n",
      "\n",
      "    When [\n",
      "      (Case\n",
      "         (Deposit (Role \"j.webster\") (Role \"j.webster\")\n",
      "            (Token \"\" \"\")\n",
      "            (Constant 100000000))\n",
      "         (Pay (Role \"j.webster\")\n",
      "            (Party (Role \"c.marlowe\"))\n",
      "            (Token \"\" \"\")\n",
      "            (Constant 100000000) Close))] 1735689600000 Close\n",
      "\n",
      "\u001b[93mtransaction e256d25253a81703179f381dd014fccb0fc4d34abbebce33922f8baaaf880a71 (redeem)\n",
      "\u001b[0mContractId: ace0804f10b8af1e6a70e074904e3759e982c60ccc71d7787a74270227b2de66#1\n",
      "SlotNo:     86459416\n",
      "BlockNo:    8478464\n",
      "BlockId:    b4911bf56e3f8bdd34daf9f7956457132a6936e4654310195db0c9376540115e\n",
      "PolicyId:    f0ff48bbb7bbe9d59a40f1ce90e9e9d0ff5002ec48f232b49ca0fb9a\n",
      "RoleToken:    632e6d61726c6f7765\n"
     ]
    }
   ],
   "source": [
    "marlowe log --show-contract \"$CONTRACT_ID\""
   ]
  },
  {
   "cell_type": "markdown",
   "id": "7787d18a-1e9e-4141-9ff9-2c8eb08ba1ab",
   "metadata": {},
   "source": [
    "We see that the contract has become even smaller after the counterparty made their deposit of interest.\n",
    "\n",
    "![Contract after counterparty's deposit of interest](actus-pam-3.png)"
   ]
  },
  {
   "cell_type": "markdown",
   "id": "7420647f-210f-4ec5-a77d-473eee9cb96d",
   "metadata": {},
   "source": [
    "### Transaction 6. Counterparty repays the loan's principal"
   ]
  },
  {
   "cell_type": "markdown",
   "id": "cc62efb7-f762-4684-9428-62d07589f129",
   "metadata": {},
   "source": [
    "The counterparty repays the principal."
   ]
  },
  {
   "cell_type": "code",
   "execution_count": 34,
   "id": "a0f48feb-79b8-4ee7-b48c-238c6a1b2c97",
   "metadata": {},
   "outputs": [
    {
     "name": "stdout",
     "output_type": "stream",
     "text": [
      "TX_6 = 4c32fdd89f29f6cf63d08b465da78141f9cab512732f4d8642f2df542d10071c\n"
     ]
    }
   ],
   "source": [
    "TX_6=$(\n",
    "marlowe deposit \\\n",
    "  --contract \"$CONTRACT_ID\" \\\n",
    "  --from-party j.webster \\\n",
    "  --to-party j.webster \\\n",
    "  --lovelace \"$((PRINCIPAL*ADA))\" \\\n",
    "  --change-address \"${ROLE_ADDR[j.webster]}\" \\\n",
    "  --manual-sign tx-6.unsigned \\\n",
    "| sed -e 's/^.*\"\\([^\\\\]*\\)\\\\.*$/\\1/' \\\n",
    ")\n",
    "\n",
    "echo \"TX_6 = $TX_6\""
   ]
  },
  {
   "cell_type": "markdown",
   "id": "425d1c71-c0f3-458f-86f3-dec0e1840ac2",
   "metadata": {},
   "source": [
    "Sign the transaction."
   ]
  },
  {
   "cell_type": "code",
   "execution_count": 35,
   "id": "725ec119-acd8-40b5-acf1-e4600b58eff8",
   "metadata": {},
   "outputs": [],
   "source": [
    "cardano-cli transaction sign \\\n",
    "  --tx-body-file tx-6.unsigned \\\n",
    "  --out-file     tx-6.signed \\\n",
    "  --signing-key-file \"${ROLE_SKEY[j.webster]}\""
   ]
  },
  {
   "cell_type": "markdown",
   "id": "47341232-b7a9-42f9-9a10-ddb688590f7c",
   "metadata": {},
   "source": [
    "Submit the transaction using Marlowe Runtime."
   ]
  },
  {
   "cell_type": "code",
   "execution_count": 36,
   "id": "00354c05-0448-4c4f-b859-61c510b82ef8",
   "metadata": {},
   "outputs": [
    {
     "name": "stdout",
     "output_type": "stream",
     "text": [
      "blockHeaderHash: 2b0600b56ff0f9e02dfae617e4182a7bc0e71078b2de8556794bc912ed274534\n",
      "blockNo: 8478476\n",
      "slotNo: 86459663\n"
     ]
    }
   ],
   "source": [
    "marlowe submit tx-6.signed | jq fromjson | json2yaml"
   ]
  },
  {
   "cell_type": "markdown",
   "id": "ed9b51ca-fe3b-4319-a947-e4a579e21f70",
   "metadata": {},
   "source": [
    "View the transaction on a Cardano explorer."
   ]
  },
  {
   "cell_type": "code",
   "execution_count": 37,
   "id": "8012d76f-bfcc-44a7-9dba-0b531b903866",
   "metadata": {},
   "outputs": [
    {
     "name": "stdout",
     "output_type": "stream",
     "text": [
      "https://cardanoscan.io/transaction/4c32fdd89f29f6cf63d08b465da78141f9cab512732f4d8642f2df542d10071c?tab=utxo\n"
     ]
    }
   ],
   "source": [
    "echo \"https://cardanoscan.io/transaction/$TX_6?tab=utxo\""
   ]
  },
  {
   "cell_type": "markdown",
   "id": "4ccfb77e-4485-4991-95e5-449dccad3e42",
   "metadata": {},
   "source": [
    "### Transaction 7. The party withdraws the principal\n",
    "\n",
    "The principal was deposited at Marlowe's role-payout address for the benefit of the party. Now the party withdraws those funds."
   ]
  },
  {
   "cell_type": "code",
   "execution_count": 38,
   "id": "3441b9d2-27fb-4377-b2ff-f69c24da8aaa",
   "metadata": {},
   "outputs": [
    {
     "name": "stdout",
     "output_type": "stream",
     "text": [
      "TX_7 = c26da1e092d792f21390c9fd8be4984dec9e5e32b770302c8f562c210d498172\n"
     ]
    }
   ],
   "source": [
    "TX_7=$(\n",
    "marlowe withdraw \\\n",
    "  --contract \"$CONTRACT_ID\" \\\n",
    "  --role c.marlowe \\\n",
    "  --change-address \"${ROLE_ADDR[c.marlowe]}\" \\\n",
    "  --manual-sign tx-7.unsigned \\\n",
    "| jq -r 'fromjson | .txId' \\\n",
    ")\n",
    "echo \"TX_7 = $TX_7\""
   ]
  },
  {
   "cell_type": "markdown",
   "id": "1a56fe97-25a6-44ad-a509-d863cb678660",
   "metadata": {},
   "source": [
    "Sign the transaction, as we did previously."
   ]
  },
  {
   "cell_type": "code",
   "execution_count": 39,
   "id": "dc87b5e7-31e7-4d0b-8425-804454318304",
   "metadata": {},
   "outputs": [],
   "source": [
    "cardano-cli transaction sign \\\n",
    "  --tx-body-file tx-7.unsigned \\\n",
    "  --out-file     tx-7.signed \\\n",
    "  --signing-key-file \"${ROLE_SKEY[c.marlowe]}\""
   ]
  },
  {
   "cell_type": "markdown",
   "id": "b80b27f3-fe81-4065-bd29-4e2be362c22c",
   "metadata": {},
   "source": [
    "Submit the transaction using Marlowe Runtime."
   ]
  },
  {
   "cell_type": "code",
   "execution_count": 40,
   "id": "9812fd9a-df04-4e28-a822-edbb68caee34",
   "metadata": {},
   "outputs": [
    {
     "name": "stdout",
     "output_type": "stream",
     "text": [
      "blockHeaderHash: 22d711a6713a9213802d9866f12101724df74d8d3c8c90a4de08a2a53afd00d6\n",
      "blockNo: 8478483\n",
      "slotNo: 86459737\n"
     ]
    }
   ],
   "source": [
    "marlowe submit tx-7.signed | jq fromjson | json2yaml"
   ]
  },
  {
   "cell_type": "markdown",
   "id": "76302688-7e75-417d-abd6-a454867c8176",
   "metadata": {},
   "source": [
    "View the transaction on a Cardano explorer."
   ]
  },
  {
   "cell_type": "code",
   "execution_count": 41,
   "id": "1281f379-4dc3-49fb-8bcc-f8607fa08086",
   "metadata": {},
   "outputs": [
    {
     "name": "stdout",
     "output_type": "stream",
     "text": [
      "https://cardanoscan.io/transaction/c26da1e092d792f21390c9fd8be4984dec9e5e32b770302c8f562c210d498172?tab=utxo\n"
     ]
    }
   ],
   "source": [
    "echo \"https://cardanoscan.io/transaction/$TX_7?tab=utxo\""
   ]
  },
  {
   "cell_type": "markdown",
   "id": "35f26baa-7fe8-45b8-9c5a-bdff1a33ca91",
   "metadata": {},
   "source": [
    "### Use Marlowe Runtime to view the full history of the contract\n",
    "\n",
    "We now see the final transaction in the contract's history."
   ]
  },
  {
   "cell_type": "code",
   "execution_count": 42,
   "id": "625cb044-f4c4-473b-9b68-b6cbf3862466",
   "metadata": {},
   "outputs": [
    {
     "name": "stdout",
     "output_type": "stream",
     "text": [
      "\u001b[93mtransaction ace0804f10b8af1e6a70e074904e3759e982c60ccc71d7787a74270227b2de66 (creation)\n",
      "\u001b[0mContractId:      ace0804f10b8af1e6a70e074904e3759e982c60ccc71d7787a74270227b2de66#1\n",
      "SlotNo:          86458246\n",
      "BlockNo:         8478412\n",
      "BlockId:         c680e44dd0678ee05d7acf7094efb55b58676aeaf027e98f4035ec4dbd37ae1d\n",
      "ScriptAddress:   addr1w94f8ywk4fg672xasahtk4t9k6w3aql943uxz5rt62d4dvq8evxaf\n",
      "Marlowe Version: 1\n",
      "\n",
      "    When [\n",
      "      (Case\n",
      "         (Deposit (Role \"c.marlowe\") (Role \"c.marlowe\")\n",
      "            (Token \"\" \"\")\n",
      "            (NegValue\n",
      "               (NegValue\n",
      "                  (Constant 100000000))))\n",
      "         (Pay (Role \"c.marlowe\")\n",
      "            (Party (Role \"j.webster\"))\n",
      "            (Token \"\" \"\")\n",
      "            (Constant 100000000)\n",
      "            (When [\n",
      "               (Case\n",
      "                  (Deposit (Role \"j.webster\") (Role \"j.webster\")\n",
      "                     (Token \"\" \"\")\n",
      "                     (Constant 2000000))\n",
      "                  (Pay (Role \"j.webster\")\n",
      "                     (Party (Role \"c.marlowe\"))\n",
      "                     (Token \"\" \"\")\n",
      "                     (Constant 2000000)\n",
      "                     (When [\n",
      "                        (Case\n",
      "                           (Deposit (Role \"j.webster\") (Role \"j.webster\")\n",
      "                              (Token \"\" \"\")\n",
      "                              (Constant 100000000))\n",
      "                           (Pay (Role \"j.webster\")\n",
      "                              (Party (Role \"c.marlowe\"))\n",
      "                              (Token \"\" \"\")\n",
      "                              (Constant 100000000) Close))] 1735689600000 Close)))] 1735689600000 Close)))] 1704067200000 Close\n",
      "\n",
      "\u001b[93mtransaction 4a258c3ddba68f2ea34e820bb56a03c31f0cb0f310fb515241bdd4742c4abf9a\n",
      "\u001b[0mContractId: ace0804f10b8af1e6a70e074904e3759e982c60ccc71d7787a74270227b2de66#1\n",
      "SlotNo:     86458680\n",
      "BlockNo:    8478430\n",
      "BlockId:    5080340fda7fd602c9d936a3633b67c766f50d3015b3cc722ba726b3a64c0640\n",
      "Inputs:     [NormalInput (IDeposit \"c.marlowe\" \"c.marlowe\" (Token \"\" \"\") 100000000)]\n",
      "\n",
      "    When [\n",
      "      (Case\n",
      "         (Deposit (Role \"j.webster\") (Role \"j.webster\")\n",
      "            (Token \"\" \"\")\n",
      "            (Constant 2000000))\n",
      "         (Pay (Role \"j.webster\")\n",
      "            (Party (Role \"c.marlowe\"))\n",
      "            (Token \"\" \"\")\n",
      "            (Constant 2000000)\n",
      "            (When [\n",
      "               (Case\n",
      "                  (Deposit (Role \"j.webster\") (Role \"j.webster\")\n",
      "                     (Token \"\" \"\")\n",
      "                     (Constant 100000000))\n",
      "                  (Pay (Role \"j.webster\")\n",
      "                     (Party (Role \"c.marlowe\"))\n",
      "                     (Token \"\" \"\")\n",
      "                     (Constant 100000000) Close))] 1735689600000 Close)))] 1735689600000 Close\n",
      "\n",
      "\u001b[93mtransaction ab3b74c04213c8b636cd607a1a073e1fd6f08c5bf74204bb550c490088357259 (redeem)\n",
      "\u001b[0mContractId: ace0804f10b8af1e6a70e074904e3759e982c60ccc71d7787a74270227b2de66#1\n",
      "SlotNo:     86459052\n",
      "BlockNo:    8478449\n",
      "BlockId:    ab1f0cc1e3b134393fabfd05b96af32473cb36ec6f1df879b4117035b020bdb7\n",
      "PolicyId:    f0ff48bbb7bbe9d59a40f1ce90e9e9d0ff5002ec48f232b49ca0fb9a\n",
      "RoleToken:    6a2e77656273746572\n",
      "\u001b[93mtransaction 7e0cd07b407dcc93bee3a2a53575d4b42a8e88d02db47b9010845438ff371e1c\n",
      "\u001b[0mContractId: ace0804f10b8af1e6a70e074904e3759e982c60ccc71d7787a74270227b2de66#1\n",
      "SlotNo:     86459329\n",
      "BlockNo:    8478462\n",
      "BlockId:    1760bec40a00dae77facbf21b71a0000d31c327b4697284b78b6e2b5be896f36\n",
      "Inputs:     [NormalInput (IDeposit \"j.webster\" \"j.webster\" (Token \"\" \"\") 2000000)]\n",
      "\n",
      "    When [\n",
      "      (Case\n",
      "         (Deposit (Role \"j.webster\") (Role \"j.webster\")\n",
      "            (Token \"\" \"\")\n",
      "            (Constant 100000000))\n",
      "         (Pay (Role \"j.webster\")\n",
      "            (Party (Role \"c.marlowe\"))\n",
      "            (Token \"\" \"\")\n",
      "            (Constant 100000000) Close))] 1735689600000 Close\n",
      "\n",
      "\u001b[93mtransaction e256d25253a81703179f381dd014fccb0fc4d34abbebce33922f8baaaf880a71 (redeem)\n",
      "\u001b[0mContractId: ace0804f10b8af1e6a70e074904e3759e982c60ccc71d7787a74270227b2de66#1\n",
      "SlotNo:     86459416\n",
      "BlockNo:    8478464\n",
      "BlockId:    b4911bf56e3f8bdd34daf9f7956457132a6936e4654310195db0c9376540115e\n",
      "PolicyId:    f0ff48bbb7bbe9d59a40f1ce90e9e9d0ff5002ec48f232b49ca0fb9a\n",
      "RoleToken:    632e6d61726c6f7765\n",
      "\u001b[93mtransaction 4c32fdd89f29f6cf63d08b465da78141f9cab512732f4d8642f2df542d10071c (close)\n",
      "\u001b[0mContractId: ace0804f10b8af1e6a70e074904e3759e982c60ccc71d7787a74270227b2de66#1\n",
      "SlotNo:     86459663\n",
      "BlockNo:    8478476\n",
      "BlockId:    2b0600b56ff0f9e02dfae617e4182a7bc0e71078b2de8556794bc912ed274534\n",
      "Inputs:     [NormalInput (IDeposit \"j.webster\" \"j.webster\" (Token \"\" \"\") 100000000)]\n",
      "\n",
      "\n",
      "\u001b[93mtransaction c26da1e092d792f21390c9fd8be4984dec9e5e32b770302c8f562c210d498172 (redeem)\n",
      "\u001b[0mContractId: ace0804f10b8af1e6a70e074904e3759e982c60ccc71d7787a74270227b2de66#1\n",
      "SlotNo:     86459737\n",
      "BlockNo:    8478483\n",
      "BlockId:    22d711a6713a9213802d9866f12101724df74d8d3c8c90a4de08a2a53afd00d6\n",
      "PolicyId:    f0ff48bbb7bbe9d59a40f1ce90e9e9d0ff5002ec48f232b49ca0fb9a\n",
      "RoleToken:    632e6d61726c6f7765\n"
     ]
    }
   ],
   "source": [
    "marlowe log --show-contract \"$CONTRACT_ID\""
   ]
  }
 ],
 "metadata": {
  "kernelspec": {
   "display_name": "Bash - Marlowe",
   "language": "bash",
   "name": "bash_marlowe"
  },
  "language_info": {
   "codemirror_mode": "shell",
   "file_extension": ".sh",
   "mimetype": "text/x-sh",
   "name": "/nix/store/p7bpdnxqd3i5hwm92mrscf7mvxk66404-bash-5.1-p16/bin/bash"
  }
 },
 "nbformat": 4,
 "nbformat_minor": 5
}
